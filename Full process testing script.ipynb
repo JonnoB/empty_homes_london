{
 "cells": [
  {
   "cell_type": "markdown",
   "id": "0222cbc8",
   "metadata": {},
   "source": [
    "# Testing the process\n",
    "\n",
    "This notebook allows the user to test the process. This is useful if you are doing something a little spicy like not using the OCOD dataset and this is giving you errors."
   ]
  },
  {
   "cell_type": "code",
   "execution_count": 1,
   "id": "2010c71c",
   "metadata": {},
   "outputs": [],
   "source": [
    "from address_parsing_helper_functions import *\n",
    "\n",
    "import sys\n"
   ]
  },
  {
   "cell_type": "code",
   "execution_count": 13,
   "id": "bb69e1c8",
   "metadata": {},
   "outputs": [
    {
     "data": {
      "text/html": [
       "<div>\n",
       "<style scoped>\n",
       "    .dataframe tbody tr th:only-of-type {\n",
       "        vertical-align: middle;\n",
       "    }\n",
       "\n",
       "    .dataframe tbody tr th {\n",
       "        vertical-align: top;\n",
       "    }\n",
       "\n",
       "    .dataframe thead th {\n",
       "        text-align: right;\n",
       "    }\n",
       "</style>\n",
       "<table border=\"1\" class=\"dataframe\">\n",
       "  <thead>\n",
       "    <tr style=\"text-align: right;\">\n",
       "      <th></th>\n",
       "      <th>title_number</th>\n",
       "      <th>property_address</th>\n",
       "      <th>admindistrict</th>\n",
       "      <th>county</th>\n",
       "      <th>region</th>\n",
       "      <th>postalcode</th>\n",
       "    </tr>\n",
       "  </thead>\n",
       "  <tbody>\n",
       "    <tr>\n",
       "      <th>0</th>\n",
       "      <td>TT33</td>\n",
       "      <td>Units 7 And 8, The Glenmore Centre, Honeywood ...</td>\n",
       "      <td>DOVER</td>\n",
       "      <td>KENT</td>\n",
       "      <td>SOUTH EAST</td>\n",
       "      <td>CT16 3FH</td>\n",
       "    </tr>\n",
       "    <tr>\n",
       "      <th>1</th>\n",
       "      <td>291860</td>\n",
       "      <td>88 Wickham Road and a moiety of the private st...</td>\n",
       "      <td>LEWISHAM</td>\n",
       "      <td>GREATER LONDON</td>\n",
       "      <td>GREATER LONDON</td>\n",
       "      <td>SE4 1NJ</td>\n",
       "    </tr>\n",
       "    <tr>\n",
       "      <th>2</th>\n",
       "      <td>336453</td>\n",
       "      <td>Flat A to Flat E (inc) 134 and, 134 Petherton ...</td>\n",
       "      <td>HACKNEY</td>\n",
       "      <td>GREATER LONDON</td>\n",
       "      <td>GREATER LONDON</td>\n",
       "      <td>N5 2RT</td>\n",
       "    </tr>\n",
       "    <tr>\n",
       "      <th>3</th>\n",
       "      <td>310936</td>\n",
       "      <td>218 Blackstock Road, London N5 1EA A new filed...</td>\n",
       "      <td>ISLINGTON</td>\n",
       "      <td>GREATER LONDON</td>\n",
       "      <td>GREATER LONDON</td>\n",
       "      <td>N5 1EA</td>\n",
       "    </tr>\n",
       "    <tr>\n",
       "      <th>4</th>\n",
       "      <td>434576</td>\n",
       "      <td>the ground floor flat being C1 Albany, Piccadi...</td>\n",
       "      <td>CITY OF WESTMINSTER</td>\n",
       "      <td>GREATER LONDON</td>\n",
       "      <td>GREATER LONDON</td>\n",
       "      <td>W1V 9RF</td>\n",
       "    </tr>\n",
       "    <tr>\n",
       "      <th>...</th>\n",
       "      <td>...</td>\n",
       "      <td>...</td>\n",
       "      <td>...</td>\n",
       "      <td>...</td>\n",
       "      <td>...</td>\n",
       "      <td>...</td>\n",
       "    </tr>\n",
       "    <tr>\n",
       "      <th>2306</th>\n",
       "      <td>WYK823456</td>\n",
       "      <td>playing fields at Reinwood County Junior Infan...</td>\n",
       "      <td>KIRKLEES</td>\n",
       "      <td>WEST YORKSHIRE</td>\n",
       "      <td>YORKS AND HUMBER</td>\n",
       "      <td>HD3 4YL</td>\n",
       "    </tr>\n",
       "    <tr>\n",
       "      <th>2307</th>\n",
       "      <td>SYK659657</td>\n",
       "      <td>Commercial unit on the north side of Meadow Ga...</td>\n",
       "      <td>BARNSLEY</td>\n",
       "      <td>SOUTH YORKSHIRE</td>\n",
       "      <td>YORKS AND HUMBER</td>\n",
       "      <td>S73 0UN</td>\n",
       "    </tr>\n",
       "    <tr>\n",
       "      <th>2308</th>\n",
       "      <td>TGL265969</td>\n",
       "      <td>St Augustines Primary School, Dunfield Road an...</td>\n",
       "      <td>LEWISHAM</td>\n",
       "      <td>GREATER LONDON</td>\n",
       "      <td>GREATER LONDON</td>\n",
       "      <td>SE6 3RD</td>\n",
       "    </tr>\n",
       "    <tr>\n",
       "      <th>2309</th>\n",
       "      <td>SYK517198</td>\n",
       "      <td>Warmsworth and Edlington National Spiritualist...</td>\n",
       "      <td>DONCASTER</td>\n",
       "      <td>SOUTH YORKSHIRE</td>\n",
       "      <td>YORKS AND HUMBER</td>\n",
       "      <td>DN4 9LT</td>\n",
       "    </tr>\n",
       "    <tr>\n",
       "      <th>2310</th>\n",
       "      <td>SYK535587</td>\n",
       "      <td>Units 1 to 8, Globe Court, Coalpit Road, Denab...</td>\n",
       "      <td>DONCASTER</td>\n",
       "      <td>SOUTH YORKSHIRE</td>\n",
       "      <td>YORKS AND HUMBER</td>\n",
       "      <td>DN12 4LH</td>\n",
       "    </tr>\n",
       "  </tbody>\n",
       "</table>\n",
       "<p>2311 rows × 6 columns</p>\n",
       "</div>"
      ],
      "text/plain": [
       "     title_number                                   property_address  \\\n",
       "0            TT33  Units 7 And 8, The Glenmore Centre, Honeywood ...   \n",
       "1          291860  88 Wickham Road and a moiety of the private st...   \n",
       "2          336453  Flat A to Flat E (inc) 134 and, 134 Petherton ...   \n",
       "3          310936  218 Blackstock Road, London N5 1EA A new filed...   \n",
       "4          434576  the ground floor flat being C1 Albany, Piccadi...   \n",
       "...           ...                                                ...   \n",
       "2306    WYK823456  playing fields at Reinwood County Junior Infan...   \n",
       "2307    SYK659657  Commercial unit on the north side of Meadow Ga...   \n",
       "2308    TGL265969  St Augustines Primary School, Dunfield Road an...   \n",
       "2309    SYK517198  Warmsworth and Edlington National Spiritualist...   \n",
       "2310    SYK535587  Units 1 to 8, Globe Court, Coalpit Road, Denab...   \n",
       "\n",
       "            admindistrict           county            region postalcode  \n",
       "0                   DOVER             KENT        SOUTH EAST   CT16 3FH  \n",
       "1                LEWISHAM   GREATER LONDON    GREATER LONDON    SE4 1NJ  \n",
       "2                 HACKNEY   GREATER LONDON    GREATER LONDON     N5 2RT  \n",
       "3               ISLINGTON   GREATER LONDON    GREATER LONDON     N5 1EA  \n",
       "4     CITY OF WESTMINSTER   GREATER LONDON    GREATER LONDON    W1V 9RF  \n",
       "...                   ...              ...               ...        ...  \n",
       "2306             KIRKLEES   WEST YORKSHIRE  YORKS AND HUMBER    HD3 4YL  \n",
       "2307             BARNSLEY  SOUTH YORKSHIRE  YORKS AND HUMBER    S73 0UN  \n",
       "2308             LEWISHAM   GREATER LONDON    GREATER LONDON    SE6 3RD  \n",
       "2309            DONCASTER  SOUTH YORKSHIRE  YORKS AND HUMBER    DN4 9LT  \n",
       "2310            DONCASTER  SOUTH YORKSHIRE  YORKS AND HUMBER   DN12 4LH  \n",
       "\n",
       "[2311 rows x 6 columns]"
      ]
     },
     "execution_count": 13,
     "metadata": {},
     "output_type": "execute_result"
    }
   ],
   "source": [
    "pd.read_csv('/app/enhance_ocod/data/'+'OCOD.csv', encoding_errors= 'ignore').rename(columns = lambda x: x.lower().replace(\" \", \"_\"))"
   ]
  },
  {
   "cell_type": "code",
   "execution_count": 2,
   "id": "4b49e7c7",
   "metadata": {},
   "outputs": [
    {
     "name": "stdout",
     "output_type": "stream",
     "text": [
      "Loading the spaCy model\n"
     ]
    },
    {
     "name": "stderr",
     "output_type": "stream",
     "text": [
      "/usr/local/lib/python3.8/dist-packages/spacy/util.py:865: UserWarning: [W095] Model 'en_pipeline' (0.0.0) was trained with spaCy v3.3 and may not be 100% compatible with the current version (3.4.1). If you see errors or degraded performance, download a newer compatible model or retrain your custom model with the current spaCy version. For more details and available updates, run: python -m spacy validate\n",
      "  warnings.warn(warn_msg)\n"
     ]
    },
    {
     "name": "stdout",
     "output_type": "stream",
     "text": [
      "Adding the datapoint id and title number meta data to the property address\n",
      "predicting over the OCOD dataset using the pre-trained spaCy model\n",
      "extracting entity label text\n",
      "Names Entity Recognition labelling complete\n"
     ]
    },
    {
     "name": "stderr",
     "output_type": "stream",
     "text": [
      "/usr/local/lib/python3.8/dist-packages/pandas/core/algorithms.py:798: FutureWarning: In a future version, the Index constructor will not infer numeric dtypes when passed object-dtype sequences (matching Series behavior)\n",
      "  uniques = Index(uniques)\n"
     ]
    }
   ],
   "source": [
    "\n",
    "args = sys.argv  \n",
    "\n",
    "root_path = '/app/enhance_ocod/data/'\n",
    "\n",
    "\n",
    "ocod_data = load_and_prep_OCOD_data(root_path + 'OCOD.csv')\n",
    "\n",
    "all_entities = spacy_pred_fn(spacy_model_path = root_path+'spacy_cpu_model', ocod_data = ocod_data)\n",
    "#all_entities = load_cleaned_labels(root_path + 'full_dataset_no_overlaps.json')\n",
    "full_expanded_data = parsing_and_expansion_process(all_entities, expand_addresses = True)\n",
    "\n",
    "del all_entities #memory management\n",
    "\n",
    "ocod_data = post_process_expanded_data(full_expanded_data, ocod_data)\n",
    "\n",
    "del full_expanded_data #memory management\n"
   ]
  },
  {
   "cell_type": "code",
   "execution_count": 3,
   "id": "078ddfc3",
   "metadata": {},
   "outputs": [
    {
     "name": "stdout",
     "output_type": "stream",
     "text": [
      "Load ONSPD\n"
     ]
    },
    {
     "name": "stderr",
     "output_type": "stream",
     "text": [
      "/app/enhance_ocod/locate_and_classify_helper_functions.py:90: DtypeWarning: Columns (18,31,40,45) have mixed types. Specify dtype option on import or set low_memory=False.\n",
      "  postcode_district_lookup = pd.read_csv(f)[['pcds','oslaua','oa11','lsoa11', 'msoa11', 'ctry']]\n"
     ]
    },
    {
     "name": "stdout",
     "output_type": "stream",
     "text": [
      "Pre-process expanded ocod data\n",
      "Load and pre-process the Land Registry price paid dataset\n",
      "Add in missing Local authority codes to the ocoda dataset\n",
      "Load and pre-process the voa business ratings list dataset\n"
     ]
    },
    {
     "name": "stderr",
     "output_type": "stream",
     "text": [
      "/app/enhance_ocod/locate_and_classify_helper_functions.py:465: DtypeWarning: Columns (1,2,6,12,13,17,22) have mixed types. Specify dtype option on import or set low_memory=False.\n",
      "  voa_businesses =  pd.read_csv(file_path,\n"
     ]
    },
    {
     "name": "stdout",
     "output_type": "stream",
     "text": [
      "Match street addresses and buildings\n",
      "replace the missing lsoa using street matching\n",
      "replace the missing lsoa using building matching\n",
      "insert newly ID'd LSOA and OA\n",
      "update missing LSOA and OA for nested properties where at least one nested property has an OA or LSOA\n"
     ]
    }
   ],
   "source": [
    "from locate_and_classify_helper_functions import *\n",
    "print(\"Load ONSPD\")\n",
    "# zip file handler  \n",
    "zip = zipfile.ZipFile(root_path + 'ONSPD.zip')\n",
    "# looks in the data folder for a csv file that begins ONSPD\n",
    "#This will obviously break if the ONS change the archive structure\n",
    "target_zipped_file = [i for i in zip.namelist() if re.search(r'^Data\\/ONSPD.+csv$',i) ][0]\n",
    "postcode_district_lookup = load_postocde_district_lookup(root_path + \"ONSPD.zip\", target_zipped_file)\n",
    "\n",
    "print(\"Pre-process expanded ocod data\")\n",
    "ocod_data = preprocess_expandaded_ocod_data(ocod_data, postcode_district_lookup)\n",
    "print(\"Load and pre-process the Land Registry price paid dataset\")\n",
    "#loads from a folder of price paid files\n",
    "price_paid_df = load_and_process_pricepaid_data(root_path+'price_paid_files/', postcode_district_lookup)\n",
    "print(\"Add in missing Local authority codes to the ocoda dataset\")\n",
    "ocod_data = add_missing_lads_ocod(ocod_data, price_paid_df)\n",
    "print(\"Load and pre-process the voa business ratings list dataset\")\n",
    "voa_businesses = load_voa_ratinglist(root_path +'VOA_ratings.csv', postcode_district_lookup)\n",
    "\n",
    "del postcode_district_lookup #for memory purposes\n",
    "\n",
    "print(\"Match street addresses and buildings\")\n",
    "ocod_data = street_and_building_matching(ocod_data, price_paid_df, voa_businesses)\n",
    "\n"
   ]
  },
  {
   "cell_type": "code",
   "execution_count": 9,
   "id": "edbb5d49",
   "metadata": {},
   "outputs": [],
   "source": [
    "filled_lsoa_list = []\n",
    "i = 1\n",
    "unique_lad_codes = ocod_data[ocod_data['street_name'].notnull() & ocod_data['street_number'].notnull() & ocod_data['lsoa11cd'].isnull()]['lad11cd'].unique()\n",
    "\n",
    "for target_lad in unique_lad_codes:\n",
    "        if print_lads: print(target_lad)\n",
    "            \n",
    "        if i%print_every==0: print(\"lad \", i, \" of \"+ str(round(len(unique_lad_codes), 3)))\n",
    "        i = i+1\n",
    "        \n",
    "        #subset to the relevat rows within a single lad\n",
    "        missing_lsoa_df = ocod_data[ocod_data['street_name'].notnull() & ocod_data['street_number'].notnull() & ocod_data['lsoa11cd'].isnull() & (ocod_data['lad11cd']==target_lad)].copy()\n",
    "        missing_lsoa_df.loc[:,'street_number2'] = missing_lsoa_df.loc[:,'street_number'].str.replace(r\"^.*(?=\\b[0-9]+$)\", \"\", regex = True).str.replace(r\"[^\\d]\", \"\", regex = True)\n",
    "\n",
    "        target_street_names = missing_lsoa_df['street_name2'].unique()\n",
    "\n",
    "        temp_lsoa = pd.concat([\n",
    "            #the price paid data with names changed\n",
    "            price_paid_df[price_paid_df['street_name2'].isin(target_street_names )  & \n",
    "                                        (price_paid_df['lad11cd']==target_lad) ], \n",
    "        #voa data added in                \n",
    "                        voa_businesses[(voa_businesses['lad11cd']==target_lad)]]\n",
    "                                                        )[['street_name2', 'street_number', 'lsoa11cd', 'lad11cd']].dropna(axis = 0, how = 'any', inplace = False)\n",
    "\n",
    "        temp_lsoa.loc[:,'street_number2'] = temp_lsoa.loc[:,'street_number'].str.replace(r\"^.*(?=\\b[0-9]+$)\", \"\", regex = True).str.replace(r\"[^\\d]\", \"\", regex = True)\n",
    "        \n",
    "        temp_lsoa  = create_all_street_addresses(temp_lsoa[temp_lsoa['street_name2'].isin(target_street_names ) & \n",
    "                                                temp_lsoa['street_number2'].notnull()], \n",
    "                                        target_lad, \n",
    "                                        ['street_name2', 'street_number2', 'lsoa11cd'])\n",
    "        \n",
    "\n",
    "        for target_road in target_street_names:\n",
    "            #print(target_road)\n",
    "            missing_lsoa_road = missing_lsoa_df[missing_lsoa_df['street_name2']== target_road ].copy()\n",
    "            temp_road = temp_lsoa[temp_lsoa['street_name2'] ==target_road ]\n",
    "\n",
    "            if len(temp_road)>0:\n",
    "                missing_lsoa_road['lsoa11cd'] = [street_number_to_lsoa(temp_road, int(missing_lsoa_road.iloc[missing_lsoa_row]['street_number2'])) \n",
    "                                                for missing_lsoa_row \n",
    "                                                in range(0, len(missing_lsoa_road))]\n",
    "                filled_lsoa_list = filled_lsoa_list + [missing_lsoa_road]"
   ]
  },
  {
   "cell_type": "code",
   "execution_count": 10,
   "id": "aa56f774",
   "metadata": {},
   "outputs": [
    {
     "data": {
      "text/plain": [
       "[]"
      ]
     },
     "execution_count": 10,
     "metadata": {},
     "output_type": "execute_result"
    }
   ],
   "source": [
    "  filled_lsoa_list "
   ]
  },
  {
   "cell_type": "code",
   "execution_count": 16,
   "id": "3915af6d",
   "metadata": {},
   "outputs": [
    {
     "name": "stdout",
     "output_type": "stream",
     "text": [
      "Sub-street matching, this takes some time\n"
     ]
    }
   ],
   "source": [
    "#This takes some time\n",
    "print('Sub-street matching, this takes some time')\n",
    "ocod_data = substreet_matching(ocod_data, price_paid_df, voa_businesses)\n"
   ]
  },
  {
   "cell_type": "code",
   "execution_count": 17,
   "id": "272e0a6a",
   "metadata": {},
   "outputs": [
    {
     "name": "stdout",
     "output_type": "stream",
     "text": [
      "Add in businesses per oa and lsoa\n",
      "Identify businesses using address matching\n",
      "address matched  50 lads of 320\n",
      "address matched  100 lads of 320\n",
      "address matched  150 lads of 320\n",
      "address matched  200 lads of 320\n",
      "address matched  250 lads of 320\n",
      "address matched  300 lads of 320\n",
      "Classification type 1\n",
      "Classification type 2\n",
      "Contract ocod dataset\n",
      "Process complete saving the enchanced ocod dataset to /app/enhance_ocod/data/enhanced_ocod_dataset.csv\n"
     ]
    }
   ],
   "source": [
    "\n",
    "del price_paid_df #for memory purposes\n",
    "print('Add in businesses per oa and lsoa')\n",
    "ocod_data = counts_of_businesses_per_oa_lsoa(ocod_data, voa_businesses)\n",
    "\n",
    "print('Identify businesses using address matching')\n",
    "ocod_data = voa_address_match_all_data(ocod_data, voa_businesses)\n",
    "\n",
    "del voa_businesses #probably not necessary but still delete to save memory\n",
    "\n",
    "print('Classification type 1')\n",
    "ocod_data = classification_type1(ocod_data)\n",
    "print('Classification type 2')\n",
    "ocod_data = classification_type2(ocod_data)\n",
    "\n",
    "print('Contract ocod dataset')\n",
    "ocod_data = contract_ocod_after_classification(ocod_data, class_type = 'class2', classes = ['domestic'] )\n",
    "\n",
    "print('Process complete saving the enchanced ocod dataset to ' + root_path + 'enhanced_ocod_dataset.csv')"
   ]
  },
  {
   "cell_type": "code",
   "execution_count": 19,
   "id": "426b7d5b",
   "metadata": {},
   "outputs": [],
   "source": [
    "#subset the dataframe to only the columns necessary for the dataset and save\n",
    "ocod_data.loc[:, ['title_number', 'within_title_id', 'within_larger_title', 'unique_id', 'unit_id', 'unit_type',\n",
    "       'building_name', 'street_number', 'street_name', 'postcode', 'city',\n",
    "       'district',  'region', 'property_address', 'oa11cd', 'lsoa11cd',\n",
    "       'msoa11cd',  'lad11cd', 'class', 'class2']].rename(columns={'within_title_id':'nested_id',\n",
    "                                                                  'within_larger_title':'nested_title'}).to_csv(root_path+'test_ouput.csv')"
   ]
  }
 ],
 "metadata": {
  "kernelspec": {
   "display_name": "Python 3 (ipykernel)",
   "language": "python",
   "name": "python3"
  },
  "language_info": {
   "codemirror_mode": {
    "name": "ipython",
    "version": 3
   },
   "file_extension": ".py",
   "mimetype": "text/x-python",
   "name": "python",
   "nbconvert_exporter": "python",
   "pygments_lexer": "ipython3",
   "version": "3.8.10"
  }
 },
 "nbformat": 4,
 "nbformat_minor": 5
}
