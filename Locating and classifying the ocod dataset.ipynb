{
 "cells": [
  {
   "cell_type": "markdown",
   "id": "17d63086",
   "metadata": {},
   "source": [
    "# Locating and classifying the expanded ocod dataset\n",
    "\n",
    "This notebook runs through the process of locating properties withing the OA/LSOA system and classifying properties into one of the 5 types and 'unknown'"
   ]
  },
  {
   "cell_type": "code",
   "execution_count": 2,
   "id": "3948b703",
   "metadata": {},
   "outputs": [
    {
     "data": {
      "text/html": [
       "<style>.container { width:90% !important; }</style>"
      ],
      "text/plain": [
       "<IPython.core.display.HTML object>"
      ]
     },
     "metadata": {},
     "output_type": "display_data"
    }
   ],
   "source": [
    "from IPython.core.display import display, HTML\n",
    "display(HTML(\"<style>.container { width:90% !important; }</style>\"))\n",
    "import pandas as pd\n",
    "import numpy as np\n",
    "import os\n",
    "import re\n",
    "import io\n",
    "import zipfile\n",
    "#from helper_functions import *\n",
    "from locate_and_classify_helper_functions import *\n"
   ]
  },
  {
   "cell_type": "code",
   "execution_count": 3,
   "id": "5af5ed4f",
   "metadata": {},
   "outputs": [
    {
     "name": "stdout",
     "output_type": "stream",
     "text": [
      "load ONSPD\n"
     ]
    },
    {
     "name": "stderr",
     "output_type": "stream",
     "text": [
      "/tf/empty_homes_london/locate_and_classify_helper_functions.py:88: DtypeWarning: Columns (18,31,40,45) have mixed types. Specify dtype option on import or set low_memory=False.\n",
      "  postcode_district_lookup = pd.read_csv(f)[['pcds','oslaua','oa11','lsoa11', 'msoa11', 'ctry']]\n"
     ]
    },
    {
     "name": "stdout",
     "output_type": "stream",
     "text": [
      "load expanded ocod\n",
      "pre-process expanded ocod data\n",
      "load and pre-process the Land Registry price paid dataset\n",
      "add in missing Local authority codes to the ocoda dataset\n",
      "load and pre-process the voa business ratings list dataset\n"
     ]
    },
    {
     "name": "stderr",
     "output_type": "stream",
     "text": [
      "/tf/empty_homes_london/locate_and_classify_helper_functions.py:459: DtypeWarning: Columns (1,2,6,12,13,17,22) have mixed types. Specify dtype option on import or set low_memory=False.\n",
      "  voa_businesses =  pd.read_csv(file_path,\n"
     ]
    }
   ],
   "source": [
    "print(\"load ONSPD\")\n",
    "postcode_district_lookup = load_postocde_district_lookup(\"/tf/empty_homes_data/\" + \"ONSPD_NOV_2021_UK.zip\", \"Data/ONSPD_NOV_2021_UK.csv\")\n",
    "print(\"load expanded ocod\")\n",
    "ocod_data =  pd.read_csv(\"/tf/empty_homes_data/OCOD_cleaned_expanded2.csv\")\n",
    "print(\"pre-process expanded ocod data\")\n",
    "ocod_data = preprocess_expandaded_ocod_data(ocod_data, postcode_district_lookup)\n",
    "print(\"load and pre-process the Land Registry price paid dataset\")\n",
    "price_paid_df = load_and_process_pricepaid_data(\"/tf/empty_homes_data/price_paid_files/\", postcode_district_lookup)\n",
    "print(\"add in missing Local authority codes to the ocoda dataset\")\n",
    "ocod_data = add_missing_lads_ocod(ocod_data, price_paid_df)\n",
    "print(\"load and pre-process the voa business ratings list dataset\")\n",
    "voa_businesses = load_voa_ratinglist('/tf/empty_homes_data/' +'uk-englandwales-ndr-2017-listentries-compiled-epoch-0029-baseline-csv.csv', postcode_district_lookup)\n",
    "del postcode_district_lookup"
   ]
  },
  {
   "cell_type": "markdown",
   "id": "52af5b1f",
   "metadata": {},
   "source": [
    "## Using price paid data to match names\n",
    "\n",
    "The land registry does not use standardised LAD codes or names and \n",
    "the LAD names it uses appear to be wrong sometimes. I need to know the LADs so that I only try road matching within local authorities to minimise the chance of having the same road twice. To get around this I will use the substantially larger database of the price paid data to get all the land registry district names and match them to the onsp using the postcodes. This works as there are a large number of sales in each district most of them will have a postcode. There are cases where the wrong district or postcode is applied meaning a single district name can have two or more lad11cd's, to solve this I simply take the lad11cd with the largest number of counts.\n",
    "\n",
    "The resulting OCOD data frame has a LAD11CD for each entry, and thus allows the road matching to work effectively"
   ]
  },
  {
   "cell_type": "markdown",
   "id": "f30938ea",
   "metadata": {},
   "source": [
    "# Street and buildings to match lsoa\n",
    "\n",
    "This section fills in missing lsoa11cd using knowledge of the LAD11cd and the streets within it. This takes data from price paid and voa"
   ]
  },
  {
   "cell_type": "code",
   "execution_count": 4,
   "id": "73be6d8d",
   "metadata": {},
   "outputs": [
    {
     "name": "stdout",
     "output_type": "stream",
     "text": [
      "replace the missing lsoa using street matching\n",
      "replace the missing lsoa using building matching\n",
      "insert newly ID'd LSOA and OA\n",
      "update missing LSOA and OA for nested properties where at least one nested property has an OA or LSOA\n"
     ]
    }
   ],
   "source": [
    "##\n",
    "##This process is quite convoluted and there is certainly a more efficient and pythonic way\n",
    "## however the order within each filling method is important to ensure that there are no duplicates\n",
    "## as this causes the OCOD dataset to grow with duplicates\n",
    "##\n",
    "ocod_data = street_and_building_matching(ocod_data, price_paid_df, voa_businesses)"
   ]
  },
  {
   "cell_type": "markdown",
   "id": "81e533d7",
   "metadata": {},
   "source": [
    "## Matching at sub street level\n",
    "\n",
    "Some streets are on the boundary of LSOA this section uses the street number to match to the nearest lsoa."
   ]
  },
  {
   "cell_type": "code",
   "execution_count": 5,
   "id": "4a78a050",
   "metadata": {},
   "outputs": [
    {
     "name": "stdout",
     "output_type": "stream",
     "text": [
      "lad  100  of 244\n",
      "lad  200  of 244\n"
     ]
    },
    {
     "data": {
      "text/plain": [
       "0.08878219498829273"
      ]
     },
     "execution_count": 5,
     "metadata": {},
     "output_type": "execute_result"
    }
   ],
   "source": [
    "#This takes some time\n",
    "ocod_data = substreet_matching(ocod_data, price_paid_df, voa_businesses)\n",
    "#percent of dataset without lsoa\n",
    "ocod_data['lsoa11cd'].isnull().sum()/ocod_data.shape[0]"
   ]
  },
  {
   "cell_type": "markdown",
   "id": "684b5ef9",
   "metadata": {},
   "source": [
    "## Add in counts of businesses per oa and LSOA"
   ]
  },
  {
   "cell_type": "code",
   "execution_count": 6,
   "id": "14a29b15",
   "metadata": {},
   "outputs": [],
   "source": [
    "#This function allows areas with no  businesses to automatically exclude business from the classification\n",
    "ocod_data = counts_of_businesses_per_oa_lsoa(ocod_data, voa_businesses)\n"
   ]
  },
  {
   "cell_type": "markdown",
   "id": "df42a1c8",
   "metadata": {},
   "source": [
    "## What still doesn't have an LSOA?\n",
    "what still doesn't have lsoa and what properties do they have?"
   ]
  },
  {
   "cell_type": "code",
   "execution_count": 19,
   "id": "1bfd7ce4",
   "metadata": {},
   "outputs": [
    {
     "data": {
      "text/html": [
       "<div>\n",
       "<style scoped>\n",
       "    .dataframe tbody tr th:only-of-type {\n",
       "        vertical-align: middle;\n",
       "    }\n",
       "\n",
       "    .dataframe tbody tr th {\n",
       "        vertical-align: top;\n",
       "    }\n",
       "\n",
       "    .dataframe thead th {\n",
       "        text-align: right;\n",
       "    }\n",
       "</style>\n",
       "<table border=\"1\" class=\"dataframe\">\n",
       "  <thead>\n",
       "    <tr style=\"text-align: right;\">\n",
       "      <th>lsoa_building</th>\n",
       "      <th>False</th>\n",
       "      <th>True</th>\n",
       "    </tr>\n",
       "    <tr>\n",
       "      <th>postcode</th>\n",
       "      <th></th>\n",
       "      <th></th>\n",
       "    </tr>\n",
       "  </thead>\n",
       "  <tbody>\n",
       "    <tr>\n",
       "      <th>False</th>\n",
       "      <td>49390</td>\n",
       "      <td>7231</td>\n",
       "    </tr>\n",
       "    <tr>\n",
       "      <th>True</th>\n",
       "      <td>81337</td>\n",
       "      <td>21754</td>\n",
       "    </tr>\n",
       "  </tbody>\n",
       "</table>\n",
       "</div>"
      ],
      "text/plain": [
       "lsoa_building  False   True\n",
       "postcode                   \n",
       "False          49390   7231\n",
       "True           81337  21754"
      ]
     },
     "execution_count": 19,
     "metadata": {},
     "output_type": "execute_result"
    }
   ],
   "source": [
    "pd.crosstab(ocod_data['postcode'].notnull(), ocod_data['lsoa_building'].notnull())"
   ]
  },
  {
   "cell_type": "code",
   "execution_count": null,
   "id": "17a04c37",
   "metadata": {},
   "outputs": [],
   "source": [
    "test = ocod_data"
   ]
  },
  {
   "cell_type": "code",
   "execution_count": null,
   "id": "090d12e2",
   "metadata": {},
   "outputs": [],
   "source": [
    "#observations localised with lsoa and/or oa\n",
    "pd.crosstab(test['lsoa11cd'].notnull(),  test['oa11cd'].notnull())/ocod_data.shape[0]"
   ]
  },
  {
   "cell_type": "code",
   "execution_count": null,
   "id": "42dda4d0",
   "metadata": {},
   "outputs": [],
   "source": [
    "#this is definately the problem then\n",
    "pd.crosstab(test['lsoa_street'].notnull(),  test['lsoa_building'].notnull())"
   ]
  },
  {
   "cell_type": "code",
   "execution_count": null,
   "id": "11681719",
   "metadata": {},
   "outputs": [],
   "source": [
    "test2 = test[test['lsoa11cd'].isnull()]\n",
    "pd.crosstab(test2['property_address'].str.startswith('land') , test2['lsoa_street'].notnull())"
   ]
  },
  {
   "cell_type": "code",
   "execution_count": null,
   "id": "06a2a0ee",
   "metadata": {},
   "outputs": [],
   "source": [
    "#this is definately the problem then\n",
    "pd.crosstab(test['street_name'].notnull(),  test['lsoa11cd'].notnull())"
   ]
  },
  {
   "cell_type": "code",
   "execution_count": null,
   "id": "40b6cc11",
   "metadata": {},
   "outputs": [],
   "source": [
    "test[test['lsoa11cd'].isnull() & test['street_name'].notnull()].to_csv('/tf/empty_homes_data/delete_me.csv')"
   ]
  },
  {
   "cell_type": "code",
   "execution_count": 21,
   "id": "a85ec4c6",
   "metadata": {},
   "outputs": [],
   "source": [
    "#95.5% of sets have only a single lsoa, when grouped by street, town, district and locality\n",
    "#when grouped by only street and district, this number is still 90%\n",
    "#excluding town the number is still 0.95% but dropping locality gives a match on 91%, therefore using locality is the key\n",
    "temp = price_paid_df.groupby(['street', 'district', 'lsoa11cd']).size().reset_index().groupby(['street', 'district']).size()\\\n",
    ".reset_index().rename(columns = {0:'counts'})\n",
    "\n",
    "#temp.groupby('counts').size()/temp.shape[0]\n"
   ]
  },
  {
   "cell_type": "markdown",
   "id": "4bae9ba4",
   "metadata": {},
   "source": [
    "# VOA matching businesses\n",
    "\n",
    "The below chunk matches addresses to known businesses"
   ]
  },
  {
   "cell_type": "code",
   "execution_count": 7,
   "id": "10c87a88",
   "metadata": {},
   "outputs": [
    {
     "name": "stdout",
     "output_type": "stream",
     "text": [
      "address matched  0 lads of 331\n",
      "address matched  50 lads of 331\n",
      "address matched  100 lads of 331\n",
      "address matched  150 lads of 331\n",
      "address matched  200 lads of 331\n",
      "address matched  250 lads of 331\n",
      "address matched  300 lads of 331\n"
     ]
    }
   ],
   "source": [
    "ocod_data = voa_address_match_all_data(ocod_data, voa_businesses)"
   ]
  },
  {
   "cell_type": "code",
   "execution_count": null,
   "id": "e4e713ab",
   "metadata": {},
   "outputs": [],
   "source": [
    "pd.crosstab(ocod_data['oa_busi_building'].notnull(), ocod_data['business_address'].notnull())"
   ]
  },
  {
   "cell_type": "markdown",
   "id": "efd17f75",
   "metadata": {},
   "source": [
    "# Classify property type\n",
    "\n",
    "This section classifies the the data into different property types. \n",
    "\n",
    "# Classification type 1\n",
    "\n",
    "The land is classified by the rules below which search the address string or meta data using regex.\n",
    "The classification is hierarchical with the first match being the classification type.\n",
    "Therefore if a property is classified by rule three and rule 6, rule three will take precedent and the property would be classed as airspace\n",
    "\n",
    "- Starts with land/plot (land)\n",
    "- Parking spaces (carpark)\n",
    "- Air space (airspace)\n",
    "- Flats, penthouses. apartments (domestic)\n",
    "- Address matched businesses (business)\n",
    "- Keyword relating to business (business)\n",
    "- Land with other words before it (land)\n",
    "- Pubs (business)\n",
    "- A business was match in the same building (business)\n",
    "- Is in the same address as a building (business)\n",
    "- No business in the OA (domestic)\n",
    "- No business in the LSOA (domestic)\n",
    "\n",
    "After classifying the properties, classes left unknown are completed using the properties that are classed from the same title number\n",
    "This is possible as there are no conflicting property classes within a given title number. This shows the quality of the method"
   ]
  },
  {
   "cell_type": "code",
   "execution_count": 8,
   "id": "ed3e79ad",
   "metadata": {},
   "outputs": [],
   "source": [
    "ocod_data = classification_type1(ocod_data)"
   ]
  },
  {
   "cell_type": "code",
   "execution_count": 8,
   "id": "40acfb0b",
   "metadata": {},
   "outputs": [
    {
     "name": "stdout",
     "output_type": "stream",
     "text": [
      "     title_number  counts\n",
      "10         126312       2\n",
      "16         142155       2\n",
      "17         146577       2\n",
      "19         147442       2\n",
      "20         148312       2\n",
      "...           ...     ...\n",
      "4287    WYK737596       2\n",
      "4294    WYK792514       2\n",
      "4299    WYK856042       2\n",
      "4304     YEA16295       2\n",
      "4320      YY38811       2\n",
      "\n",
      "[669 rows x 2 columns]\n"
     ]
    },
    {
     "data": {
      "text/plain": [
       "class\n",
       "business     8046\n",
       "domestic    40157\n",
       "land            9\n",
       "dtype: int64"
      ]
     },
     "execution_count": 8,
     "metadata": {},
     "output_type": "execute_result"
    }
   ],
   "source": [
    "multi_class_titles = ocod_data[~ocod_data['class'].isin(['unknown', 'airspace', 'carpark']) & (ocod_data['within_larger_title']==True)].groupby(['title_number', 'class']).\\\n",
    "size().reset_index().groupby('title_number').size().reset_index().rename(columns={0:'counts'})\n",
    "\n",
    "#there are no within title-ids that have more than one class. This shows that this is a very accurate way of filling in missing class data\n",
    "print(multi_class_titles[multi_class_titles['counts']>1])\n",
    "\n",
    "multi_class_titles = multi_class_titles[multi_class_titles['counts']==1]\n",
    "#multi_class_titles.groupby('counts').size()\n",
    "\n",
    "ocod_data[ocod_data['title_number'].isin(multi_class_titles['title_number'])].groupby('class').size()\n",
    "#[['street_number', 'street_name','property_address', \"business_address\"]]"
   ]
  },
  {
   "cell_type": "markdown",
   "id": "c202204b",
   "metadata": {},
   "source": [
    "## Classification type 2\n",
    "\n",
    "Classification type 2 only affects the properties of class 'unknown' in classification type 1.\n",
    "\n",
    "These properties are assumed to beeither domestic or business.\n",
    "They are heierarchically classified into domestic or 'unknown' using the following rules\n",
    "\n",
    "- Street match == TRUE, Street name is known AND street number is known (domestic)\n",
    "- Street match is FALSE AND street name is known (domestic)\n",
    "- Building name is known (domestic)\n",
    "\n",
    "All remaining addresses do not contain enough information to be classified and are classed as unknown"
   ]
  },
  {
   "cell_type": "code",
   "execution_count": 9,
   "id": "2f3ba663",
   "metadata": {},
   "outputs": [],
   "source": [
    "ocod_data = classification_type2(ocod_data)"
   ]
  },
  {
   "cell_type": "code",
   "execution_count": null,
   "id": "c97e8ba2",
   "metadata": {},
   "outputs": [],
   "source": [
    "#If there is a street match, and the property has a street and a street number OR a building name\n",
    "#Then is is a domestic property\n",
    "\n",
    "test = ocod_data[ocod_data['class2']=='unknown']\n",
    "print(pd.crosstab((test['street_match']==True), (test['street_name'].notnull()==True) ))\n",
    "\n",
    "ocod_data[(ocod_data['street_name'].isnull()==True) & (ocod_data['class2']=='unknown')].to_csv('/tf/empty_homes_data/delete_me.csv')"
   ]
  },
  {
   "cell_type": "code",
   "execution_count": null,
   "id": "042b7ec5",
   "metadata": {},
   "outputs": [],
   "source": [
    "ocod_data.groupby('class').size()"
   ]
  },
  {
   "cell_type": "code",
   "execution_count": null,
   "id": "16c88222",
   "metadata": {},
   "outputs": [],
   "source": [
    "pd.crosstab(ocod_data['unit_type'],(ocod_data['class2']==\"domestic\"))"
   ]
  },
  {
   "cell_type": "markdown",
   "id": "511e1cf0",
   "metadata": {},
   "source": [
    "## Contracting the dataset\n",
    "Businesses, carparks and airpsace etc are classed as a single address independent of how many components they a made of.\n",
    "This chunk strips down businesses that have been expanded back to a single address\n"
   ]
  },
  {
   "cell_type": "code",
   "execution_count": 10,
   "id": "523c184b",
   "metadata": {},
   "outputs": [],
   "source": [
    "ocod_data = contract_ocod_after_classification(ocod_data, class_type = 'class2', classes = ['domestic'] )\n"
   ]
  },
  {
   "cell_type": "code",
   "execution_count": null,
   "id": "b112ef88",
   "metadata": {},
   "outputs": [],
   "source": [
    "ocod_data.groupby('class2').size()"
   ]
  },
  {
   "cell_type": "code",
   "execution_count": null,
   "id": "a5c52cbf",
   "metadata": {},
   "outputs": [],
   "source": [
    "ocod_data.groupby('class2').size()/ocod_data.shape[0]"
   ]
  },
  {
   "cell_type": "code",
   "execution_count": 45,
   "id": "05816de5",
   "metadata": {},
   "outputs": [],
   "source": [
    "#non of the unknowns have a postcode. I guess this is obvious as if there is no matching VOA postcode you are classed as domestic\n",
    "#pd.crosstab(ocod_data[ocod_data['class']==\"unknown\"].postcode.notnull(), ocod_data[ocod_data['class']==\"unknown\"].street_name.notnull())"
   ]
  },
  {
   "cell_type": "code",
   "execution_count": 46,
   "id": "fbec4170",
   "metadata": {},
   "outputs": [
    {
     "data": {
      "text/html": [
       "<div>\n",
       "<style scoped>\n",
       "    .dataframe tbody tr th:only-of-type {\n",
       "        vertical-align: middle;\n",
       "    }\n",
       "\n",
       "    .dataframe tbody tr th {\n",
       "        vertical-align: top;\n",
       "    }\n",
       "\n",
       "    .dataframe thead th {\n",
       "        text-align: right;\n",
       "    }\n",
       "</style>\n",
       "<table border=\"1\" class=\"dataframe\">\n",
       "  <thead>\n",
       "    <tr style=\"text-align: right;\">\n",
       "      <th>region</th>\n",
       "      <th>east anglia</th>\n",
       "      <th>east midlands</th>\n",
       "      <th>greater london</th>\n",
       "      <th>north</th>\n",
       "      <th>north west</th>\n",
       "      <th>south east</th>\n",
       "      <th>south west</th>\n",
       "      <th>wales</th>\n",
       "      <th>west midlands</th>\n",
       "      <th>yorks and humber</th>\n",
       "    </tr>\n",
       "    <tr>\n",
       "      <th>tenure</th>\n",
       "      <th></th>\n",
       "      <th></th>\n",
       "      <th></th>\n",
       "      <th></th>\n",
       "      <th></th>\n",
       "      <th></th>\n",
       "      <th></th>\n",
       "      <th></th>\n",
       "      <th></th>\n",
       "      <th></th>\n",
       "    </tr>\n",
       "  </thead>\n",
       "  <tbody>\n",
       "    <tr>\n",
       "      <th>Freehold</th>\n",
       "      <td>3418</td>\n",
       "      <td>4680</td>\n",
       "      <td>21783</td>\n",
       "      <td>3304</td>\n",
       "      <td>16221</td>\n",
       "      <td>17722</td>\n",
       "      <td>5754</td>\n",
       "      <td>3395</td>\n",
       "      <td>5050</td>\n",
       "      <td>8460</td>\n",
       "    </tr>\n",
       "    <tr>\n",
       "      <th>Leasehold</th>\n",
       "      <td>434</td>\n",
       "      <td>1209</td>\n",
       "      <td>40133</td>\n",
       "      <td>882</td>\n",
       "      <td>5741</td>\n",
       "      <td>5496</td>\n",
       "      <td>1702</td>\n",
       "      <td>693</td>\n",
       "      <td>1858</td>\n",
       "      <td>2793</td>\n",
       "    </tr>\n",
       "  </tbody>\n",
       "</table>\n",
       "</div>"
      ],
      "text/plain": [
       "region     east anglia  east midlands  greater london  north  north west  \\\n",
       "tenure                                                                     \n",
       "Freehold          3418           4680           21783   3304       16221   \n",
       "Leasehold          434           1209           40133    882        5741   \n",
       "\n",
       "region     south east  south west  wales  west midlands  yorks and humber  \n",
       "tenure                                                                     \n",
       "Freehold        17722        5754   3395           5050              8460  \n",
       "Leasehold        5496        1702    693           1858              2793  "
      ]
     },
     "execution_count": 46,
     "metadata": {},
     "output_type": "execute_result"
    }
   ],
   "source": [
    "pd.crosstab(ocod_data['tenure'], ocod_data['region'].str.lower())#.to_latex() #convert to copyable latex table"
   ]
  },
  {
   "cell_type": "markdown",
   "id": "98359e28",
   "metadata": {},
   "source": [
    "# Saving the enhanced expanded dataset"
   ]
  },
  {
   "cell_type": "code",
   "execution_count": 48,
   "id": "d8f4e7de",
   "metadata": {},
   "outputs": [],
   "source": [
    "ocod_data.to_csv(\"/tf/empty_homes_data/enhanced_ocod_dataset.csv\")\n",
    "\n",
    "#Save the test set indices to create the ground truth\n",
    "#this is commented out to avoid overwriting\n",
    "\n",
    "#ocod_data.loc[ocod_data.title_number.isin(pd.read_csv(\"/tf/empty_homes_data/test_set_indices.csv\")['title_number']) ,  \n",
    "#              ['title_number','within_title_id','unit_type' ,'building_name', 'street_number', 'street_name','postcode' ,'property_address',  'lsoa11cd', 'class2']].to_csv('/tf/empty_homes_data/parsed_ground_truth_raw.csv')"
   ]
  },
  {
   "cell_type": "code",
   "execution_count": 50,
   "id": "5ce486a3",
   "metadata": {},
   "outputs": [
    {
     "data": {
      "text/plain": [
       "93707"
      ]
     },
     "execution_count": 50,
     "metadata": {},
     "output_type": "execute_result"
    }
   ],
   "source": []
  },
  {
   "cell_type": "markdown",
   "id": "0eaa195d",
   "metadata": {},
   "source": [
    "## creating the aggregated ocod dataset for sampling\n",
    "\n",
    "This chunk outputs the data ready for analysis in R. The two files cover the base case and the case where nested and single properties are separated"
   ]
  },
  {
   "cell_type": "code",
   "execution_count": 55,
   "id": "66ba5cb7",
   "metadata": {},
   "outputs": [],
   "source": [
    "ocod_data_lsoa = ocod_data\n",
    "#ocod_data_lsoa['postcode2'] = ocod_data['postcode'].str.lower().str.replace(\"\\s\", \"\")\n",
    "\n",
    "#ocod_data_lsoa = ocod_data.merge(postcode_district_lookup, 'left', left_on = \"postcode2\", right_on = \"postcode2\")\n",
    "\n",
    "ocod_data_lsoa.groupby(['lad11cd', 'lsoa11cd', 'msoa11cd', 'class2']).size().reset_index().to_csv(\"/tf/empty_homes_data/ocod_lsoa.csv\")\n",
    "ocod_data_lsoa.groupby(['lad11cd', 'lsoa11cd', 'msoa11cd', 'class2', 'within_larger_title']).size().reset_index().to_csv(\"/tf/empty_homes_data/ocod_lsoa_by_nested_type.csv\")\n",
    "\n"
   ]
  },
  {
   "cell_type": "markdown",
   "id": "815efbae",
   "metadata": {},
   "source": [
    "# Post creation analysis"
   ]
  },
  {
   "cell_type": "code",
   "execution_count": 18,
   "id": "1133f5a1",
   "metadata": {},
   "outputs": [
    {
     "data": {
      "text/html": [
       "<div>\n",
       "<style scoped>\n",
       "    .dataframe tbody tr th:only-of-type {\n",
       "        vertical-align: middle;\n",
       "    }\n",
       "\n",
       "    .dataframe tbody tr th {\n",
       "        vertical-align: top;\n",
       "    }\n",
       "\n",
       "    .dataframe thead th {\n",
       "        text-align: right;\n",
       "    }\n",
       "</style>\n",
       "<table border=\"1\" class=\"dataframe\">\n",
       "  <thead>\n",
       "    <tr style=\"text-align: right;\">\n",
       "      <th>region</th>\n",
       "      <th>east anglia</th>\n",
       "      <th>east midlands</th>\n",
       "      <th>greater london</th>\n",
       "      <th>north</th>\n",
       "      <th>north west</th>\n",
       "      <th>south east</th>\n",
       "      <th>south west</th>\n",
       "      <th>wales</th>\n",
       "      <th>west midlands</th>\n",
       "      <th>yorks and humber</th>\n",
       "    </tr>\n",
       "    <tr>\n",
       "      <th>class2</th>\n",
       "      <th></th>\n",
       "      <th></th>\n",
       "      <th></th>\n",
       "      <th></th>\n",
       "      <th></th>\n",
       "      <th></th>\n",
       "      <th></th>\n",
       "      <th></th>\n",
       "      <th></th>\n",
       "      <th></th>\n",
       "    </tr>\n",
       "  </thead>\n",
       "  <tbody>\n",
       "    <tr>\n",
       "      <th>airspace</th>\n",
       "      <td>50</td>\n",
       "      <td>162</td>\n",
       "      <td>94</td>\n",
       "      <td>15</td>\n",
       "      <td>215</td>\n",
       "      <td>185</td>\n",
       "      <td>266</td>\n",
       "      <td>290</td>\n",
       "      <td>94</td>\n",
       "      <td>303</td>\n",
       "    </tr>\n",
       "    <tr>\n",
       "      <th>business</th>\n",
       "      <td>550</td>\n",
       "      <td>1437</td>\n",
       "      <td>15806</td>\n",
       "      <td>799</td>\n",
       "      <td>2523</td>\n",
       "      <td>4453</td>\n",
       "      <td>1424</td>\n",
       "      <td>670</td>\n",
       "      <td>1423</td>\n",
       "      <td>1337</td>\n",
       "    </tr>\n",
       "    <tr>\n",
       "      <th>carpark</th>\n",
       "      <td>27</td>\n",
       "      <td>36</td>\n",
       "      <td>1597</td>\n",
       "      <td>24</td>\n",
       "      <td>518</td>\n",
       "      <td>194</td>\n",
       "      <td>89</td>\n",
       "      <td>9</td>\n",
       "      <td>50</td>\n",
       "      <td>57</td>\n",
       "    </tr>\n",
       "    <tr>\n",
       "      <th>domestic</th>\n",
       "      <td>2510</td>\n",
       "      <td>3791</td>\n",
       "      <td>48017</td>\n",
       "      <td>2742</td>\n",
       "      <td>16976</td>\n",
       "      <td>14306</td>\n",
       "      <td>4829</td>\n",
       "      <td>2607</td>\n",
       "      <td>4112</td>\n",
       "      <td>8439</td>\n",
       "    </tr>\n",
       "    <tr>\n",
       "      <th>land</th>\n",
       "      <td>639</td>\n",
       "      <td>919</td>\n",
       "      <td>2639</td>\n",
       "      <td>733</td>\n",
       "      <td>2215</td>\n",
       "      <td>4808</td>\n",
       "      <td>1270</td>\n",
       "      <td>629</td>\n",
       "      <td>1316</td>\n",
       "      <td>1314</td>\n",
       "    </tr>\n",
       "    <tr>\n",
       "      <th>unknown</th>\n",
       "      <td>64</td>\n",
       "      <td>115</td>\n",
       "      <td>734</td>\n",
       "      <td>157</td>\n",
       "      <td>319</td>\n",
       "      <td>453</td>\n",
       "      <td>207</td>\n",
       "      <td>89</td>\n",
       "      <td>150</td>\n",
       "      <td>133</td>\n",
       "    </tr>\n",
       "  </tbody>\n",
       "</table>\n",
       "</div>"
      ],
      "text/plain": [
       "region    east anglia  east midlands  greater london  north  north west  \\\n",
       "class2                                                                    \n",
       "airspace           50            162              94     15         215   \n",
       "business          550           1437           15806    799        2523   \n",
       "carpark            27             36            1597     24         518   \n",
       "domestic         2510           3791           48017   2742       16976   \n",
       "land              639            919            2639    733        2215   \n",
       "unknown            64            115             734    157         319   \n",
       "\n",
       "region    south east  south west  wales  west midlands  yorks and humber  \n",
       "class2                                                                    \n",
       "airspace         185         266    290             94               303  \n",
       "business        4453        1424    670           1423              1337  \n",
       "carpark          194          89      9             50                57  \n",
       "domestic       14306        4829   2607           4112              8439  \n",
       "land            4808        1270    629           1316              1314  \n",
       "unknown          453         207     89            150               133  "
      ]
     },
     "execution_count": 18,
     "metadata": {},
     "output_type": "execute_result"
    }
   ],
   "source": [
    "pd.crosstab(ocod_data['class2'], ocod_data['region'].str.lower())#.to_latex() #convert to copyable latex table"
   ]
  },
  {
   "cell_type": "code",
   "execution_count": 19,
   "id": "06c3a9b7",
   "metadata": {},
   "outputs": [
    {
     "data": {
      "text/html": [
       "<div>\n",
       "<style scoped>\n",
       "    .dataframe tbody tr th:only-of-type {\n",
       "        vertical-align: middle;\n",
       "    }\n",
       "\n",
       "    .dataframe tbody tr th {\n",
       "        vertical-align: top;\n",
       "    }\n",
       "\n",
       "    .dataframe thead th {\n",
       "        text-align: right;\n",
       "    }\n",
       "</style>\n",
       "<table border=\"1\" class=\"dataframe\">\n",
       "  <thead>\n",
       "    <tr style=\"text-align: right;\">\n",
       "      <th>tenure</th>\n",
       "      <th>Freehold</th>\n",
       "      <th>Leasehold</th>\n",
       "    </tr>\n",
       "    <tr>\n",
       "      <th>class2</th>\n",
       "      <th></th>\n",
       "      <th></th>\n",
       "    </tr>\n",
       "  </thead>\n",
       "  <tbody>\n",
       "    <tr>\n",
       "      <th>airspace</th>\n",
       "      <td>7</td>\n",
       "      <td>1667</td>\n",
       "    </tr>\n",
       "    <tr>\n",
       "      <th>business</th>\n",
       "      <td>20948</td>\n",
       "      <td>9474</td>\n",
       "    </tr>\n",
       "    <tr>\n",
       "      <th>carpark</th>\n",
       "      <td>252</td>\n",
       "      <td>2349</td>\n",
       "    </tr>\n",
       "    <tr>\n",
       "      <th>domestic</th>\n",
       "      <td>60744</td>\n",
       "      <td>47585</td>\n",
       "    </tr>\n",
       "    <tr>\n",
       "      <th>land</th>\n",
       "      <td>14619</td>\n",
       "      <td>1863</td>\n",
       "    </tr>\n",
       "    <tr>\n",
       "      <th>unknown</th>\n",
       "      <td>1534</td>\n",
       "      <td>887</td>\n",
       "    </tr>\n",
       "  </tbody>\n",
       "</table>\n",
       "</div>"
      ],
      "text/plain": [
       "tenure    Freehold  Leasehold\n",
       "class2                       \n",
       "airspace         7       1667\n",
       "business     20948       9474\n",
       "carpark        252       2349\n",
       "domestic     60744      47585\n",
       "land         14619       1863\n",
       "unknown       1534        887"
      ]
     },
     "execution_count": 19,
     "metadata": {},
     "output_type": "execute_result"
    }
   ],
   "source": [
    "pd.crosstab(ocod_data['class2'], ocod_data['tenure'])#.to_latex() #convert to copyable latex table"
   ]
  },
  {
   "cell_type": "code",
   "execution_count": 20,
   "id": "1dbfb79f",
   "metadata": {},
   "outputs": [
    {
     "data": {
      "text/html": [
       "<div>\n",
       "<style scoped>\n",
       "    .dataframe tbody tr th:only-of-type {\n",
       "        vertical-align: middle;\n",
       "    }\n",
       "\n",
       "    .dataframe tbody tr th {\n",
       "        vertical-align: top;\n",
       "    }\n",
       "\n",
       "    .dataframe thead th {\n",
       "        text-align: right;\n",
       "    }\n",
       "</style>\n",
       "<table border=\"1\" class=\"dataframe\">\n",
       "  <thead>\n",
       "    <tr style=\"text-align: right;\">\n",
       "      <th>within_larger_title</th>\n",
       "      <th>False</th>\n",
       "      <th>True</th>\n",
       "    </tr>\n",
       "    <tr>\n",
       "      <th>tenure</th>\n",
       "      <th></th>\n",
       "      <th></th>\n",
       "    </tr>\n",
       "  </thead>\n",
       "  <tbody>\n",
       "    <tr>\n",
       "      <th>Freehold</th>\n",
       "      <td>46557</td>\n",
       "      <td>4208</td>\n",
       "    </tr>\n",
       "    <tr>\n",
       "      <th>Leasehold</th>\n",
       "      <td>41562</td>\n",
       "      <td>1381</td>\n",
       "    </tr>\n",
       "  </tbody>\n",
       "</table>\n",
       "</div>"
      ],
      "text/plain": [
       "within_larger_title  False  True\n",
       "tenure                          \n",
       "Freehold             46557  4208\n",
       "Leasehold            41562  1381"
      ]
     },
     "execution_count": 20,
     "metadata": {},
     "output_type": "execute_result"
    }
   ],
   "source": [
    "temp_df = ocod_data[['title_number', 'tenure', 'within_larger_title']].drop_duplicates()\n",
    "\n",
    "#most of titles containing nested addresses are free hold by about 3/2\n",
    "pd.crosstab(temp_df['tenure'], temp_df['within_larger_title'])\n"
   ]
  },
  {
   "cell_type": "code",
   "execution_count": 21,
   "id": "720c2244",
   "metadata": {},
   "outputs": [
    {
     "name": "stderr",
     "output_type": "stream",
     "text": [
      "<ipython-input-21-c3f690fb0170>:3: UserWarning: This pattern is interpreted as a regular expression, and has match groups. To actually get the groups, use str.extract.\n",
      "  temp_df['is_flat'] = temp_df['property_address'].str.contains(r\"(flat|apartment|penthouse|unit)\", case = False)\n"
     ]
    },
    {
     "data": {
      "text/html": [
       "<div>\n",
       "<style scoped>\n",
       "    .dataframe tbody tr th:only-of-type {\n",
       "        vertical-align: middle;\n",
       "    }\n",
       "\n",
       "    .dataframe tbody tr th {\n",
       "        vertical-align: top;\n",
       "    }\n",
       "\n",
       "    .dataframe thead th {\n",
       "        text-align: right;\n",
       "    }\n",
       "</style>\n",
       "<table border=\"1\" class=\"dataframe\">\n",
       "  <thead>\n",
       "    <tr style=\"text-align: right;\">\n",
       "      <th>is_flat</th>\n",
       "      <th>False</th>\n",
       "      <th>True</th>\n",
       "    </tr>\n",
       "    <tr>\n",
       "      <th>tenure</th>\n",
       "      <th></th>\n",
       "      <th></th>\n",
       "    </tr>\n",
       "  </thead>\n",
       "  <tbody>\n",
       "    <tr>\n",
       "      <th>Freehold</th>\n",
       "      <td>43388</td>\n",
       "      <td>7113</td>\n",
       "    </tr>\n",
       "    <tr>\n",
       "      <th>Leasehold</th>\n",
       "      <td>5186</td>\n",
       "      <td>16455</td>\n",
       "    </tr>\n",
       "  </tbody>\n",
       "</table>\n",
       "</div>"
      ],
      "text/plain": [
       "is_flat    False   True\n",
       "tenure                 \n",
       "Freehold   43388   7113\n",
       "Leasehold   5186  16455"
      ]
     },
     "execution_count": 21,
     "metadata": {},
     "output_type": "execute_result"
    }
   ],
   "source": [
    "#The analysis is based on nested addresses being domestic\n",
    "temp_df = ocod_data[['title_number', 'tenure', 'property_address']][ocod_data['within_larger_title']==True]\n",
    "temp_df['is_flat'] = temp_df['property_address'].str.contains(r\"(flat|apartment|penthouse|unit)\", case = False)\n",
    "\n",
    "#pd.crosstab(temp_df['tenure'], temp_df['within_larger_title'])\n",
    "\n",
    "temp_df.groupby('tenure').size()\n",
    "\n",
    "#Of nested addresses freehold is more common by 3/2 50k to 24k\n",
    "#most of theproperties are not flats however flats dominate the leasehold section\n",
    "#flats are 1/3 of nested addresses but make up almost 3/4 of the leashold nested addresses\n",
    "#note this does not include items marked as units\n",
    "pd.crosstab(temp_df.tenure, temp_df.is_flat)"
   ]
  },
  {
   "cell_type": "markdown",
   "id": "2bb4c35d",
   "metadata": {},
   "source": [
    "## Largest nested addresses"
   ]
  },
  {
   "cell_type": "code",
   "execution_count": 5,
   "id": "42c32471",
   "metadata": {},
   "outputs": [
    {
     "data": {
      "text/plain": [
       "'Ground to ninth Floor Flats being 101-114, 201-214, 301-314, 401-414, 501-514, 601-613 and 701-704 Alaska Building, 101-114, 201-214,301-314, 401-412, 501-506 and 601-605 Arizona Building, 101-114, 201-214, 301-314, 401-414, 501-514, 601-614, 701-708, 801-804, 901-903 California Building, 101-108,     201-208, 301-307, 401-408, 501-508, 601-608, 701-708, 801-808 and 901-903 Colorado Building, 1-4, 101-109, 201-210, 301-310, 401-410, 501-510 and 601-605 Dakota Building, 1-7, 101-108, 201-208, 301-308, 401-408, 501-506 and 601-604 Idaho Building, 102-112, 201-212, 301-312, 401-412, 501-508 and 601-604 Indiana Building, 1-15, 101-116, 201-216, 301-315, 401-416, 501-510 Montana Building, 101-108, 201-208, 301-308, 401-408, 501-506 and 601-604 Nebraska Building, 1-10, 101-110, 201-210, 301-310 and 402-403 Utah Building, 1-10 and 101-110 Boston Building, 1-6, 101-106, 201-206, 301-306, 401-408 and 501-507 Madison Building, Deals Gateway, London'"
      ]
     },
     "execution_count": 5,
     "metadata": {},
     "output_type": "execute_result"
    }
   ],
   "source": [
    "#The largest nested address\n",
    "ocod_data.within_title_id.max()\n",
    "ocod_data[ocod_data.within_title_id==ocod_data.within_title_id.max()].reset_index()['property_address'][0]\n",
    "\n"
   ]
  },
  {
   "cell_type": "markdown",
   "id": "d073b297",
   "metadata": {},
   "source": [
    "# Whole location and classification pipeline\n",
    "\n",
    "This provides a quick method to ouput the enhanced and expanded ocod dataset"
   ]
  },
  {
   "cell_type": "code",
   "execution_count": 2,
   "id": "e3b6cd04",
   "metadata": {},
   "outputs": [
    {
     "name": "stdout",
     "output_type": "stream",
     "text": [
      "Load ONSPD\n"
     ]
    },
    {
     "name": "stderr",
     "output_type": "stream",
     "text": [
      "/tf/empty_homes_london/locate_and_classify_helper_functions.py:88: DtypeWarning: Columns (18,31,40,45) have mixed types. Specify dtype option on import or set low_memory=False.\n",
      "  postcode_district_lookup = pd.read_csv(f)[['pcds','oslaua','oa11','lsoa11', 'msoa11', 'ctry']]\n"
     ]
    },
    {
     "name": "stdout",
     "output_type": "stream",
     "text": [
      "Load expanded ocod\n",
      "Pre-process expanded ocod data\n",
      "Load and pre-process the Land Registry price paid dataset\n",
      "Add in missing Local authority codes to the ocoda dataset\n",
      "Load and pre-process the voa business ratings list dataset\n"
     ]
    },
    {
     "name": "stderr",
     "output_type": "stream",
     "text": [
      "/tf/empty_homes_london/locate_and_classify_helper_functions.py:459: DtypeWarning: Columns (1,2,6,12,13,17,22) have mixed types. Specify dtype option on import or set low_memory=False.\n",
      "  voa_businesses =  pd.read_csv(file_path,\n"
     ]
    },
    {
     "name": "stdout",
     "output_type": "stream",
     "text": [
      "Match street addresses and buildings\n",
      "replace the missing lsoa using street matching\n",
      "replace the missing lsoa using building matching\n",
      "insert newly ID'd LSOA and OA\n",
      "update missing LSOA and OA for nested properties where at least one nested property has an OA or LSOA\n",
      "Sub-street matching, this takes some time\n",
      "lad  100  of 244\n",
      "lad  200  of 244\n",
      "Add in businesses per oa and lsoa\n",
      "Identify businesses using address matching\n",
      "address matched  0 lads of 331\n",
      "address matched  50 lads of 331\n",
      "address matched  100 lads of 331\n",
      "address matched  150 lads of 331\n",
      "address matched  200 lads of 331\n",
      "address matched  250 lads of 331\n",
      "address matched  300 lads of 331\n",
      "Classification type 1\n",
      "Classification type 2\n"
     ]
    },
    {
     "name": "stderr",
     "output_type": "stream",
     "text": [
      "/tf/empty_homes_london/locate_and_classify_helper_functions.py:827: SettingWithCopyWarning: \n",
      "A value is trying to be set on a copy of a slice from a DataFrame\n",
      "\n",
      "See the caveats in the documentation: https://pandas.pydata.org/pandas-docs/stable/user_guide/indexing.html#returning-a-view-versus-a-copy\n",
      "  temp.drop('class2', axis = 1, inplace = True)\n"
     ]
    },
    {
     "name": "stdout",
     "output_type": "stream",
     "text": [
      "Contract ocod dataset\n"
     ]
    }
   ],
   "source": [
    "print(\"Load ONSPD\")\n",
    "postcode_district_lookup = load_postocde_district_lookup(\"/tf/empty_homes_data/\" + \"ONSPD_NOV_2021_UK.zip\", \"Data/ONSPD_NOV_2021_UK.csv\")\n",
    "print(\"Load expanded ocod\")\n",
    "ocod_data =  pd.read_csv(\"/tf/empty_homes_data/OCOD_cleaned_expanded2.csv\")\n",
    "print(\"Pre-process expanded ocod data\")\n",
    "ocod_data = preprocess_expandaded_ocod_data(ocod_data, postcode_district_lookup)\n",
    "print(\"Load and pre-process the Land Registry price paid dataset\")\n",
    "price_paid_df = load_and_process_pricepaid_data(\"/tf/empty_homes_data/price_paid_files/\", postcode_district_lookup)\n",
    "print(\"Add in missing Local authority codes to the ocoda dataset\")\n",
    "ocod_data = add_missing_lads_ocod(ocod_data, price_paid_df)\n",
    "print(\"Load and pre-process the voa business ratings list dataset\")\n",
    "voa_businesses = load_voa_ratinglist('/tf/empty_homes_data/' +'uk-englandwales-ndr-2017-listentries-compiled-epoch-0029-baseline-csv.csv', postcode_district_lookup)\n",
    "\n",
    "del postcode_district_lookup #for memory purposes\n",
    "print(\"Match street addresses and buildings\")\n",
    "ocod_data = street_and_building_matching(ocod_data, price_paid_df, voa_businesses)\n",
    "\n",
    "#This takes some time \n",
    "print('Sub-street matching, this takes some time')\n",
    "ocod_data = substreet_matching(ocod_data, price_paid_df, voa_businesses)\n",
    "\n",
    "del price_paid_df #for memory purposes\n",
    "print('Add in businesses per oa and lsoa')\n",
    "ocod_data = counts_of_businesses_per_oa_lsoa(ocod_data, voa_businesses)\n",
    "\n",
    "print('Identify businesses using address matching')\n",
    "ocod_data = voa_address_match_all_data(ocod_data, voa_businesses)\n",
    "\n",
    "print('Classification type 1')\n",
    "ocod_data = classification_type1(ocod_data)\n",
    "print('Classification type 2')\n",
    "ocod_data = classification_type2(ocod_data)\n",
    "\n",
    "print('Contract ocod dataset')\n",
    "ocod_data = contract_ocod_after_classification(ocod_data, class_type = 'class2', classes = ['domestic'] )\n",
    "ocod_data.to_csv(\"/tf/empty_homes_data/enhanced_ocod_dataset.csv\")"
   ]
  },
  {
   "cell_type": "code",
   "execution_count": 3,
   "id": "ec34eacc",
   "metadata": {},
   "outputs": [],
   "source": [
    "ground_truth_df = pd.read_csv('/tf/empty_homes_data/Ground truth for offshore empties V2 includes comma space_labels.csv')\n",
    "\n",
    "\n",
    "#I only need a small number of the columns to be able to calculate the F1 score\n",
    "#Everything else just makes it confusing. \n",
    "#renaming is for consistancy\n",
    "ground_truth_df = ground_truth_df.loc[ground_truth_df.loc[:,'result_type']==\"span\",[ 'result_type', 'label',\n",
    "       'start', 'end', 'text', 'input:text', 'input:datapoint_id']].rename(\n",
    "    columns = {'input:text':'property_address',\n",
    "              'input:datapoint_id':'datapoint_id',\n",
    "              'text':'label_text'})"
   ]
  },
  {
   "cell_type": "code",
   "execution_count": 16,
   "id": "25ec9a60",
   "metadata": {},
   "outputs": [
    {
     "data": {
      "text/html": [
       "<div>\n",
       "<style scoped>\n",
       "    .dataframe tbody tr th:only-of-type {\n",
       "        vertical-align: middle;\n",
       "    }\n",
       "\n",
       "    .dataframe tbody tr th {\n",
       "        vertical-align: top;\n",
       "    }\n",
       "\n",
       "    .dataframe thead th {\n",
       "        text-align: right;\n",
       "    }\n",
       "</style>\n",
       "<table border=\"1\" class=\"dataframe\">\n",
       "  <thead>\n",
       "    <tr style=\"text-align: right;\">\n",
       "      <th></th>\n",
       "      <th>property_address</th>\n",
       "      <th>class</th>\n",
       "      <th>class2</th>\n",
       "    </tr>\n",
       "  </thead>\n",
       "  <tbody>\n",
       "    <tr>\n",
       "      <th>1502</th>\n",
       "      <td>unit 2, sovereign park, coronation road, londo...</td>\n",
       "      <td>unknown</td>\n",
       "      <td>domestic</td>\n",
       "    </tr>\n",
       "    <tr>\n",
       "      <th>1204</th>\n",
       "      <td>unit 12, chiswick park, 566 chiswick high road...</td>\n",
       "      <td>unknown</td>\n",
       "      <td>domestic</td>\n",
       "    </tr>\n",
       "    <tr>\n",
       "      <th>2093</th>\n",
       "      <td>unit 5, acton park estate, the vale, acton (w3...</td>\n",
       "      <td>unknown</td>\n",
       "      <td>unknown</td>\n",
       "    </tr>\n",
       "    <tr>\n",
       "      <th>221</th>\n",
       "      <td>unit 3, polar park, bath road, harmondsworth, ...</td>\n",
       "      <td>domestic</td>\n",
       "      <td>domestic</td>\n",
       "    </tr>\n",
       "    <tr>\n",
       "      <th>618</th>\n",
       "      <td>unit 3, dawley park, kestrel way, hayes (ub3 1hp)</td>\n",
       "      <td>unknown</td>\n",
       "      <td>domestic</td>\n",
       "    </tr>\n",
       "    <tr>\n",
       "      <th>...</th>\n",
       "      <td>...</td>\n",
       "      <td>...</td>\n",
       "      <td>...</td>\n",
       "    </tr>\n",
       "    <tr>\n",
       "      <th>405</th>\n",
       "      <td>unit 401, bretton park way, dewsbury and parki...</td>\n",
       "      <td>unknown</td>\n",
       "      <td>unknown</td>\n",
       "    </tr>\n",
       "    <tr>\n",
       "      <th>94</th>\n",
       "      <td>unit 2, brickyard lane, melton park, north fer...</td>\n",
       "      <td>unknown</td>\n",
       "      <td>unknown</td>\n",
       "    </tr>\n",
       "    <tr>\n",
       "      <th>576</th>\n",
       "      <td>unit 4, park 32, park road, pontefract (wf8 4pr)</td>\n",
       "      <td>unknown</td>\n",
       "      <td>unknown</td>\n",
       "    </tr>\n",
       "    <tr>\n",
       "      <th>661</th>\n",
       "      <td>unit 1, park 32, park road, pontefract (wf8 4ps)</td>\n",
       "      <td>unknown</td>\n",
       "      <td>unknown</td>\n",
       "    </tr>\n",
       "    <tr>\n",
       "      <th>673</th>\n",
       "      <td>unit 3, park 32, park road, pontefract (wf8 4ps)</td>\n",
       "      <td>unknown</td>\n",
       "      <td>unknown</td>\n",
       "    </tr>\n",
       "  </tbody>\n",
       "</table>\n",
       "<p>563 rows × 3 columns</p>\n",
       "</div>"
      ],
      "text/plain": [
       "                                       property_address     class    class2\n",
       "1502  unit 2, sovereign park, coronation road, londo...   unknown  domestic\n",
       "1204  unit 12, chiswick park, 566 chiswick high road...   unknown  domestic\n",
       "2093  unit 5, acton park estate, the vale, acton (w3...   unknown   unknown\n",
       "221   unit 3, polar park, bath road, harmondsworth, ...  domestic  domestic\n",
       "618   unit 3, dawley park, kestrel way, hayes (ub3 1hp)   unknown  domestic\n",
       "...                                                 ...       ...       ...\n",
       "405   unit 401, bretton park way, dewsbury and parki...   unknown   unknown\n",
       "94    unit 2, brickyard lane, melton park, north fer...   unknown   unknown\n",
       "576    unit 4, park 32, park road, pontefract (wf8 4pr)   unknown   unknown\n",
       "661    unit 1, park 32, park road, pontefract (wf8 4ps)   unknown   unknown\n",
       "673    unit 3, park 32, park road, pontefract (wf8 4ps)   unknown   unknown\n",
       "\n",
       "[563 rows x 3 columns]"
      ]
     },
     "execution_count": 16,
     "metadata": {},
     "output_type": "execute_result"
    }
   ],
   "source": [
    "unit_park = (ocod_data.property_address.str.contains('unit') & ocod_data.property_address.str.contains('park'))\n",
    "\n",
    "ocod_data.loc[(unit_park==True)  & (ocod_data.class2.isin(['unknown', 'domestic'])), ['property_address', 'class', 'class2']]"
   ]
  },
  {
   "cell_type": "code",
   "execution_count": 5,
   "id": "a58fee8b",
   "metadata": {},
   "outputs": [],
   "source": [
    "from sklearn import metrics"
   ]
  },
  {
   "cell_type": "code",
   "execution_count": 6,
   "id": "a511aaa7",
   "metadata": {},
   "outputs": [
    {
     "data": {
      "text/html": [
       "<div>\n",
       "<style scoped>\n",
       "    .dataframe tbody tr th:only-of-type {\n",
       "        vertical-align: middle;\n",
       "    }\n",
       "\n",
       "    .dataframe tbody tr th {\n",
       "        vertical-align: top;\n",
       "    }\n",
       "\n",
       "    .dataframe thead th {\n",
       "        text-align: right;\n",
       "    }\n",
       "</style>\n",
       "<table border=\"1\" class=\"dataframe\">\n",
       "  <thead>\n",
       "    <tr style=\"text-align: right;\">\n",
       "      <th></th>\n",
       "      <th>class</th>\n",
       "      <th>precision</th>\n",
       "      <th>recall</th>\n",
       "      <th>fscore</th>\n",
       "      <th>support</th>\n",
       "    </tr>\n",
       "  </thead>\n",
       "  <tbody>\n",
       "    <tr>\n",
       "      <th>0</th>\n",
       "      <td>airspace</td>\n",
       "      <td>1.00</td>\n",
       "      <td>0.93</td>\n",
       "      <td>0.96</td>\n",
       "      <td>14.0</td>\n",
       "    </tr>\n",
       "    <tr>\n",
       "      <th>1</th>\n",
       "      <td>business</td>\n",
       "      <td>0.98</td>\n",
       "      <td>0.80</td>\n",
       "      <td>0.89</td>\n",
       "      <td>287.0</td>\n",
       "    </tr>\n",
       "    <tr>\n",
       "      <th>2</th>\n",
       "      <td>carpark</td>\n",
       "      <td>1.00</td>\n",
       "      <td>0.96</td>\n",
       "      <td>0.98</td>\n",
       "      <td>26.0</td>\n",
       "    </tr>\n",
       "    <tr>\n",
       "      <th>3</th>\n",
       "      <td>domestic</td>\n",
       "      <td>0.89</td>\n",
       "      <td>0.97</td>\n",
       "      <td>0.93</td>\n",
       "      <td>483.0</td>\n",
       "    </tr>\n",
       "    <tr>\n",
       "      <th>4</th>\n",
       "      <td>land</td>\n",
       "      <td>1.00</td>\n",
       "      <td>0.99</td>\n",
       "      <td>1.00</td>\n",
       "      <td>179.0</td>\n",
       "    </tr>\n",
       "    <tr>\n",
       "      <th>5</th>\n",
       "      <td>unknown</td>\n",
       "      <td>0.00</td>\n",
       "      <td>0.00</td>\n",
       "      <td>0.00</td>\n",
       "      <td>9.0</td>\n",
       "    </tr>\n",
       "  </tbody>\n",
       "</table>\n",
       "</div>"
      ],
      "text/plain": [
       "      class  precision  recall  fscore  support\n",
       "0  airspace       1.00    0.93    0.96     14.0\n",
       "1  business       0.98    0.80    0.89    287.0\n",
       "2   carpark       1.00    0.96    0.98     26.0\n",
       "3  domestic       0.89    0.97    0.93    483.0\n",
       "4      land       1.00    0.99    1.00    179.0\n",
       "5   unknown       0.00    0.00    0.00      9.0"
      ]
     },
     "execution_count": 6,
     "metadata": {},
     "output_type": "execute_result"
    }
   ],
   "source": [
    "gt_class = pd.read_csv('/tf/empty_homes_data/parsed_ground_truth_complete.csv').loc[:, ['title_number', 'truth']].drop_duplicates().\\\n",
    "merge(ocod_data.loc[:, ['title_number', 'class2']].drop_duplicates(), how = 'left')\n",
    "label_names = list(np.unique(gt_class.truth.to_list()))\n",
    "\n",
    "performance_df = metrics.precision_recall_fscore_support(gt_class.truth.to_list(),\n",
    "                                        gt_class['class2'].to_list(), \n",
    "                                        labels = label_names)\n",
    "\n",
    "performance_df = pd.DataFrame(np.round_(np.transpose(performance_df),2), columns = [\"precision\", \"recall\", \"fscore\", \"support\"])\n",
    "performance_df['class'] = list(np.unique(gt_class.truth.to_list()))\n",
    "performance_df[['class',\"precision\", \"recall\", \"fscore\", \"support\"]]"
   ]
  },
  {
   "cell_type": "code",
   "execution_count": 11,
   "id": "46fb6457",
   "metadata": {},
   "outputs": [
    {
     "data": {
      "text/html": [
       "<div>\n",
       "<style scoped>\n",
       "    .dataframe tbody tr th:only-of-type {\n",
       "        vertical-align: middle;\n",
       "    }\n",
       "\n",
       "    .dataframe tbody tr th {\n",
       "        vertical-align: top;\n",
       "    }\n",
       "\n",
       "    .dataframe thead th {\n",
       "        text-align: right;\n",
       "    }\n",
       "</style>\n",
       "<table border=\"1\" class=\"dataframe\">\n",
       "  <thead>\n",
       "    <tr style=\"text-align: right;\">\n",
       "      <th></th>\n",
       "      <th>class</th>\n",
       "      <th>precision</th>\n",
       "      <th>recall</th>\n",
       "      <th>fscore</th>\n",
       "      <th>support</th>\n",
       "    </tr>\n",
       "  </thead>\n",
       "  <tbody>\n",
       "    <tr>\n",
       "      <th>0</th>\n",
       "      <td>airspace</td>\n",
       "      <td>1.00</td>\n",
       "      <td>0.93</td>\n",
       "      <td>0.96</td>\n",
       "      <td>14.0</td>\n",
       "    </tr>\n",
       "    <tr>\n",
       "      <th>1</th>\n",
       "      <td>business</td>\n",
       "      <td>0.98</td>\n",
       "      <td>0.80</td>\n",
       "      <td>0.89</td>\n",
       "      <td>287.0</td>\n",
       "    </tr>\n",
       "    <tr>\n",
       "      <th>2</th>\n",
       "      <td>carpark</td>\n",
       "      <td>1.00</td>\n",
       "      <td>0.96</td>\n",
       "      <td>0.98</td>\n",
       "      <td>26.0</td>\n",
       "    </tr>\n",
       "    <tr>\n",
       "      <th>3</th>\n",
       "      <td>domestic</td>\n",
       "      <td>0.89</td>\n",
       "      <td>0.97</td>\n",
       "      <td>0.93</td>\n",
       "      <td>483.0</td>\n",
       "    </tr>\n",
       "    <tr>\n",
       "      <th>4</th>\n",
       "      <td>land</td>\n",
       "      <td>1.00</td>\n",
       "      <td>0.99</td>\n",
       "      <td>1.00</td>\n",
       "      <td>179.0</td>\n",
       "    </tr>\n",
       "    <tr>\n",
       "      <th>5</th>\n",
       "      <td>unknown</td>\n",
       "      <td>0.00</td>\n",
       "      <td>0.00</td>\n",
       "      <td>0.00</td>\n",
       "      <td>9.0</td>\n",
       "    </tr>\n",
       "  </tbody>\n",
       "</table>\n",
       "</div>"
      ],
      "text/plain": [
       "      class  precision  recall  fscore  support\n",
       "0  airspace       1.00    0.93    0.96     14.0\n",
       "1  business       0.98    0.80    0.89    287.0\n",
       "2   carpark       1.00    0.96    0.98     26.0\n",
       "3  domestic       0.89    0.97    0.93    483.0\n",
       "4      land       1.00    0.99    1.00    179.0\n",
       "5   unknown       0.00    0.00    0.00      9.0"
      ]
     },
     "execution_count": 11,
     "metadata": {},
     "output_type": "execute_result"
    }
   ],
   "source": [
    "gt_class = pd.read_csv('/tf/empty_homes_data/parsed_ground_truth_complete.csv').loc[:, ['title_number', 'truth']].drop_duplicates().\\\n",
    "merge(ocod_data.loc[:, ['title_number', 'class2']].drop_duplicates(), how = 'left')\n",
    "label_names = list(np.unique(gt_class.truth.to_list()))\n",
    "\n",
    "performance_df = metrics.precision_recall_fscore_support(gt_class.truth.to_list(),\n",
    "                                        gt_class['class2'].to_list(), \n",
    "                                        labels = label_names)\n",
    "\n",
    "performance_df = pd.DataFrame(np.round_(np.transpose(performance_df),2), columns = [\"precision\", \"recall\", \"fscore\", \"support\"])\n",
    "performance_df['class'] = list(np.unique(gt_class.truth.to_list()))\n",
    "performance_df[['class',\"precision\", \"recall\", \"fscore\", \"support\"]]#.to_latex()"
   ]
  },
  {
   "cell_type": "code",
   "execution_count": 7,
   "id": "e384f146",
   "metadata": {},
   "outputs": [
    {
     "data": {
      "text/html": [
       "<div>\n",
       "<style scoped>\n",
       "    .dataframe tbody tr th:only-of-type {\n",
       "        vertical-align: middle;\n",
       "    }\n",
       "\n",
       "    .dataframe tbody tr th {\n",
       "        vertical-align: top;\n",
       "    }\n",
       "\n",
       "    .dataframe thead th {\n",
       "        text-align: right;\n",
       "    }\n",
       "</style>\n",
       "<table border=\"1\" class=\"dataframe\">\n",
       "  <thead>\n",
       "    <tr style=\"text-align: right;\">\n",
       "      <th></th>\n",
       "      <th>class</th>\n",
       "      <th>precision</th>\n",
       "      <th>recall</th>\n",
       "      <th>fscore</th>\n",
       "      <th>support</th>\n",
       "    </tr>\n",
       "  </thead>\n",
       "  <tbody>\n",
       "    <tr>\n",
       "      <th>0</th>\n",
       "      <td>airspace</td>\n",
       "      <td>1.00</td>\n",
       "      <td>0.93</td>\n",
       "      <td>0.96</td>\n",
       "      <td>14.0</td>\n",
       "    </tr>\n",
       "    <tr>\n",
       "      <th>1</th>\n",
       "      <td>business</td>\n",
       "      <td>0.98</td>\n",
       "      <td>0.79</td>\n",
       "      <td>0.88</td>\n",
       "      <td>311.0</td>\n",
       "    </tr>\n",
       "    <tr>\n",
       "      <th>2</th>\n",
       "      <td>carpark</td>\n",
       "      <td>1.00</td>\n",
       "      <td>0.96</td>\n",
       "      <td>0.98</td>\n",
       "      <td>26.0</td>\n",
       "    </tr>\n",
       "    <tr>\n",
       "      <th>3</th>\n",
       "      <td>domestic</td>\n",
       "      <td>0.93</td>\n",
       "      <td>0.98</td>\n",
       "      <td>0.96</td>\n",
       "      <td>918.0</td>\n",
       "    </tr>\n",
       "    <tr>\n",
       "      <th>4</th>\n",
       "      <td>land</td>\n",
       "      <td>1.00</td>\n",
       "      <td>0.99</td>\n",
       "      <td>1.00</td>\n",
       "      <td>179.0</td>\n",
       "    </tr>\n",
       "    <tr>\n",
       "      <th>5</th>\n",
       "      <td>unknown</td>\n",
       "      <td>0.00</td>\n",
       "      <td>0.00</td>\n",
       "      <td>0.00</td>\n",
       "      <td>9.0</td>\n",
       "    </tr>\n",
       "  </tbody>\n",
       "</table>\n",
       "</div>"
      ],
      "text/plain": [
       "      class  precision  recall  fscore  support\n",
       "0  airspace       1.00    0.93    0.96     14.0\n",
       "1  business       0.98    0.79    0.88    311.0\n",
       "2   carpark       1.00    0.96    0.98     26.0\n",
       "3  domestic       0.93    0.98    0.96    918.0\n",
       "4      land       1.00    0.99    1.00    179.0\n",
       "5   unknown       0.00    0.00    0.00      9.0"
      ]
     },
     "execution_count": 7,
     "metadata": {},
     "output_type": "execute_result"
    }
   ],
   "source": [
    "gt_class = pd.read_csv('/tf/empty_homes_data/parsed_ground_truth_complete.csv').loc[:, ['title_number', 'truth']].\\\n",
    "merge(ocod_data.loc[:, ['title_number', 'class2']].drop_duplicates(), how = 'left')\n",
    "label_names = list(np.unique(gt_class.truth.to_list()))\n",
    "\n",
    "performance_df = metrics.precision_recall_fscore_support(gt_class.truth.to_list(),\n",
    "                                        gt_class['class2'].to_list(), \n",
    "                                        labels = label_names)\n",
    "\n",
    "performance_df = pd.DataFrame(np.round_(np.transpose(performance_df),2), columns = [\"precision\", \"recall\", \"fscore\", \"support\"])\n",
    "performance_df['class'] = list(np.unique(gt_class.truth.to_list()))\n",
    "performance_df[['class',\"precision\", \"recall\", \"fscore\", \"support\"]]"
   ]
  },
  {
   "cell_type": "markdown",
   "id": "3246ada9",
   "metadata": {},
   "source": [
    "# Future work\n",
    "\n",
    "\n",
    "The below are primarly nice to have things and would not change the output or results in any significant way\n",
    "\n",
    "- I could re-insert the original street number in to the address when contracting this would be better for addresses that had been expanded but shouldn't have been. But defintaley isn't very important\n",
    "\n",
    "- I could clean up the functions to remove the 'setting on copy' warning\n",
    "- Create a verbose flag such that the messages and print outs of the functions are suppressed"
   ]
  }
 ],
 "metadata": {
  "kernelspec": {
   "display_name": "Python 3",
   "language": "python",
   "name": "python3"
  },
  "language_info": {
   "codemirror_mode": {
    "name": "ipython",
    "version": 3
   },
   "file_extension": ".py",
   "mimetype": "text/x-python",
   "name": "python",
   "nbconvert_exporter": "python",
   "pygments_lexer": "ipython3",
   "version": "3.8.10"
  }
 },
 "nbformat": 4,
 "nbformat_minor": 5
}
