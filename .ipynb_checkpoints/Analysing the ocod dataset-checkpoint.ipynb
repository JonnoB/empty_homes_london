{
 "cells": [
  {
   "cell_type": "markdown",
   "id": "17d63086",
   "metadata": {},
   "source": [
    "# Analysing the cleaned OCOD dataset\n"
   ]
  },
  {
   "cell_type": "code",
   "execution_count": 1,
   "id": "3948b703",
   "metadata": {},
   "outputs": [
    {
     "data": {
      "text/html": [
       "<style>.container { width:90% !important; }</style>"
      ],
      "text/plain": [
       "<IPython.core.display.HTML object>"
      ]
     },
     "metadata": {},
     "output_type": "display_data"
    }
   ],
   "source": [
    "from IPython.core.display import display, HTML\n",
    "display(HTML(\"<style>.container { width:90% !important; }</style>\"))\n",
    "import pandas as pd\n",
    "import numpy as np\n",
    "import re\n",
    "import io\n",
    "import zipfile\n",
    "from helper_functions import *\n",
    "\n"
   ]
  },
  {
   "cell_type": "code",
   "execution_count": 2,
   "id": "5af5ed4f",
   "metadata": {},
   "outputs": [],
   "source": [
    "#!pip install thefuzz[speedup]\n",
    "from thefuzz import process #an alternative could jellyfish, nltk, diff-match-patch"
   ]
  },
  {
   "cell_type": "code",
   "execution_count": 3,
   "id": "d6bb958a",
   "metadata": {},
   "outputs": [
    {
     "name": "stderr",
     "output_type": "stream",
     "text": [
      "<ipython-input-3-fde3178713df>:5: DtypeWarning: Columns (18,31,40,45) have mixed types. Specify dtype option on import or set low_memory=False.\n",
      "  postcode_district_lookup = pd.read_csv(f)[['pcds','oslaua','lsoa11', 'msoa11', 'ctry']]\n"
     ]
    }
   ],
   "source": [
    "target_post_area = \"Data/ONSPD_NOV_2021_UK.csv\"\n",
    "\n",
    "with zipfile.ZipFile(\"/tf/empty_homes_data/\" + \"ONSPD_NOV_2021_UK.zip\") as zf:\n",
    "    with io.TextIOWrapper(zf.open(target_post_area), encoding = 'latin-1') as f:\n",
    "        postcode_district_lookup = pd.read_csv(f)[['pcds','oslaua','lsoa11', 'msoa11', 'ctry']]\n",
    "        postcode_district_lookup = postcode_district_lookup[(postcode_district_lookup['ctry'] == 'E92000001') | (postcode_district_lookup['ctry'] == 'W92000004')]\n",
    "        postcode_district_lookup.rename(columns = {'pcds':'postcode2',\n",
    "                                                  'oslaua':'lad11cd'}, inplace = True)\n",
    "        #spaces are removed because I don't know if the formatting is the same in the two datasets\n",
    "        postcode_district_lookup['postcode2']= postcode_district_lookup['postcode2'].str.lower().str.replace(r\"\\s\", r\"\", regex = True)\n",
    "        postcode_district_lookup.drop('ctry',  axis =1, inplace = True)\n"
   ]
  },
  {
   "cell_type": "code",
   "execution_count": 4,
   "id": "858e4f97",
   "metadata": {},
   "outputs": [
    {
     "name": "stderr",
     "output_type": "stream",
     "text": [
      "<ipython-input-4-5a2fe86d1544>:4: FutureWarning: The default value of regex will change from True to False in a future version.\n",
      "  ocod_data['postcode2'] = ocod_data['postcode'].str.lower().str.replace(\"\\s\", \"\")\n"
     ]
    }
   ],
   "source": [
    "ocod_data =  pd.read_csv(\"/tf/empty_homes_data/OCOD_cleaned_expanded.csv\")\n",
    "\n",
    "##add in the geographic area data like lsoa etc\n",
    "ocod_data['postcode2'] = ocod_data['postcode'].str.lower().str.replace(\"\\s\", \"\")\n",
    "\n",
    "ocod_data = ocod_data.merge(postcode_district_lookup, 'left', left_on = \"postcode2\", right_on = \"postcode2\")"
   ]
  },
  {
   "cell_type": "code",
   "execution_count": 5,
   "id": "f8c018f5",
   "metadata": {},
   "outputs": [
    {
     "data": {
      "text/plain": [
       "Index(['Unnamed: 0', 'title_number', 'within_title_id', 'unique_id',\n",
       "       'within_larger_title', 'tenure', 'unit_id', 'unit_type',\n",
       "       'building_name', 'street_number', 'street_name', 'postcode', 'city',\n",
       "       'district', 'county', 'region', 'multiple_address_indicator',\n",
       "       'price_paid', 'property_address', 'postcode2', 'lad11cd', 'lsoa11',\n",
       "       'msoa11'],\n",
       "      dtype='object')"
      ]
     },
     "execution_count": 5,
     "metadata": {},
     "output_type": "execute_result"
    }
   ],
   "source": [
    "ocod_data.columns"
   ]
  },
  {
   "cell_type": "markdown",
   "id": "52af5b1f",
   "metadata": {},
   "source": [
    "## Using price paid data to match names\n",
    "\n",
    "The land registry does not use standardised LAD codes or names and \n",
    "the LAD names it uses appear to be wrong sometimes. I need to know the LADs so that I only try road matching within local authorities to minimise the chance of having the same road twice. To get around this I will use the substantially larger database of the price paid data to get all the land registry district names and match them to the onsp using the postcodes. This works as there are a large number of sales in each district most of them will have a postcode. There are cases where the wrong district or postcode is applied meaning a single district name can have two or more lad11cd's, to solve this I simply take the lad11cd with the largest number of counts.\n",
    "\n",
    "The resulting OCOD data frame has a LAD11CD for each entry, and thus allows the fuzzy road matching to work effectively"
   ]
  },
  {
   "cell_type": "code",
   "execution_count": 6,
   "id": "188bd9ea",
   "metadata": {},
   "outputs": [],
   "source": [
    "#https://www.gov.uk/guidance/about-the-price-paid-data#explanations-of-column-headers-in-the-ppd\n",
    "price_paid_headers = ['Transaction unique identifier', 'Price', 'Date of Transfer', 'Postcode', 'Property Type', \n",
    "                     'Old New', 'Duration', 'PAON', 'SAON', 'Street',  'Locality', 'Town', 'District', 'County',\n",
    "                     'PPD Category Type', 'Record Status - monthly file only']\n",
    "#clean up to make working with them easier\n",
    "price_paid_headers = [x.lower().replace(' ', '_') for x in price_paid_headers]\n",
    "\n",
    "price_paid_df = pd.read_csv('/tf/empty_homes_data/price_paid_files/pp-2021.csv', names = price_paid_headers)\n",
    "\n",
    "price_paid_df['postcode2'] = price_paid_df['postcode'].str.lower().str.replace(r\"\\s\", r\"\", regex=True)\n",
    "\n",
    "price_paid_df = price_paid_df.merge(postcode_district_lookup, 'left', left_on = \"postcode2\", right_on = \"postcode2\")\n",
    "\n",
    "#when there are multiples take the lad11cd with the largest number of counts\n",
    "lad_lookup = price_paid_df[['district', 'lad11cd']].dropna().groupby(['district', 'lad11cd']).size().reset_index()\n",
    "lad_lookup.rename(columns = {0:'counts'}, inplace = True)\n",
    "lad_lookup = lad_lookup.sort_values('counts', ascending=False).groupby('lad11cd').first().reset_index()\n",
    "lad_lookup.drop('counts', axis = 1, inplace = True)\n",
    "\n",
    "temp = ocod_data\n",
    "temp = temp.drop('lad11cd', axis = 1)\n",
    "\n",
    "temp = temp[temp['postcode'].isna()]\n",
    "\n",
    "temp = temp.merge(lad_lookup, left_on = \"district\", right_on = \"district\")\n",
    "\n",
    "temp['lad11cd'].isna().sum() #there are no na values showing all districts now have a lad code\n",
    "\n",
    "#join the ocod data back together again\n",
    "ocod_data = pd.concat( [temp, ocod_data[~ocod_data['postcode'].isna()]])\n",
    "\n",
    "#tidy up\n",
    "del temp\n",
    "del lad_lookup\n",
    "del price_paid_df"
   ]
  },
  {
   "cell_type": "code",
   "execution_count": 7,
   "id": "79049044",
   "metadata": {},
   "outputs": [
    {
     "data": {
      "text/html": [
       "<div>\n",
       "<style scoped>\n",
       "    .dataframe tbody tr th:only-of-type {\n",
       "        vertical-align: middle;\n",
       "    }\n",
       "\n",
       "    .dataframe tbody tr th {\n",
       "        vertical-align: top;\n",
       "    }\n",
       "\n",
       "    .dataframe thead th {\n",
       "        text-align: right;\n",
       "    }\n",
       "</style>\n",
       "<table border=\"1\" class=\"dataframe\">\n",
       "  <thead>\n",
       "    <tr style=\"text-align: right;\">\n",
       "      <th></th>\n",
       "      <th>Unnamed: 0</th>\n",
       "      <th>title_number</th>\n",
       "      <th>within_title_id</th>\n",
       "      <th>unique_id</th>\n",
       "      <th>within_larger_title</th>\n",
       "      <th>tenure</th>\n",
       "      <th>unit_id</th>\n",
       "      <th>unit_type</th>\n",
       "      <th>building_name</th>\n",
       "      <th>street_number</th>\n",
       "      <th>...</th>\n",
       "      <th>district</th>\n",
       "      <th>county</th>\n",
       "      <th>region</th>\n",
       "      <th>multiple_address_indicator</th>\n",
       "      <th>price_paid</th>\n",
       "      <th>property_address</th>\n",
       "      <th>postcode2</th>\n",
       "      <th>lsoa11</th>\n",
       "      <th>msoa11</th>\n",
       "      <th>lad11cd</th>\n",
       "    </tr>\n",
       "  </thead>\n",
       "  <tbody>\n",
       "    <tr>\n",
       "      <th>0</th>\n",
       "      <td>0</td>\n",
       "      <td>CB400630</td>\n",
       "      <td>1</td>\n",
       "      <td>CB400630-1</td>\n",
       "      <td>True</td>\n",
       "      <td>Freehold</td>\n",
       "      <td>NaN</td>\n",
       "      <td>NaN</td>\n",
       "      <td>NaN</td>\n",
       "      <td>2</td>\n",
       "      <td>...</td>\n",
       "      <td>CITY OF PETERBOROUGH</td>\n",
       "      <td>CITY OF PETERBOROUGH</td>\n",
       "      <td>EAST ANGLIA</td>\n",
       "      <td>N</td>\n",
       "      <td>NaN</td>\n",
       "      <td>2-24 (even) Miller Way, 15-25 Hammonds Drive (...</td>\n",
       "      <td>NaN</td>\n",
       "      <td>NaN</td>\n",
       "      <td>NaN</td>\n",
       "      <td>E06000031</td>\n",
       "    </tr>\n",
       "    <tr>\n",
       "      <th>1</th>\n",
       "      <td>1</td>\n",
       "      <td>CB400630</td>\n",
       "      <td>2</td>\n",
       "      <td>CB400630-2</td>\n",
       "      <td>True</td>\n",
       "      <td>Freehold</td>\n",
       "      <td>NaN</td>\n",
       "      <td>NaN</td>\n",
       "      <td>NaN</td>\n",
       "      <td>4</td>\n",
       "      <td>...</td>\n",
       "      <td>CITY OF PETERBOROUGH</td>\n",
       "      <td>CITY OF PETERBOROUGH</td>\n",
       "      <td>EAST ANGLIA</td>\n",
       "      <td>N</td>\n",
       "      <td>NaN</td>\n",
       "      <td>2-24 (even) Miller Way, 15-25 Hammonds Drive (...</td>\n",
       "      <td>NaN</td>\n",
       "      <td>NaN</td>\n",
       "      <td>NaN</td>\n",
       "      <td>E06000031</td>\n",
       "    </tr>\n",
       "    <tr>\n",
       "      <th>2</th>\n",
       "      <td>2</td>\n",
       "      <td>CB400630</td>\n",
       "      <td>3</td>\n",
       "      <td>CB400630-3</td>\n",
       "      <td>True</td>\n",
       "      <td>Freehold</td>\n",
       "      <td>NaN</td>\n",
       "      <td>NaN</td>\n",
       "      <td>NaN</td>\n",
       "      <td>6</td>\n",
       "      <td>...</td>\n",
       "      <td>CITY OF PETERBOROUGH</td>\n",
       "      <td>CITY OF PETERBOROUGH</td>\n",
       "      <td>EAST ANGLIA</td>\n",
       "      <td>N</td>\n",
       "      <td>NaN</td>\n",
       "      <td>2-24 (even) Miller Way, 15-25 Hammonds Drive (...</td>\n",
       "      <td>NaN</td>\n",
       "      <td>NaN</td>\n",
       "      <td>NaN</td>\n",
       "      <td>E06000031</td>\n",
       "    </tr>\n",
       "    <tr>\n",
       "      <th>3</th>\n",
       "      <td>3</td>\n",
       "      <td>CB400630</td>\n",
       "      <td>4</td>\n",
       "      <td>CB400630-4</td>\n",
       "      <td>True</td>\n",
       "      <td>Freehold</td>\n",
       "      <td>NaN</td>\n",
       "      <td>NaN</td>\n",
       "      <td>NaN</td>\n",
       "      <td>8</td>\n",
       "      <td>...</td>\n",
       "      <td>CITY OF PETERBOROUGH</td>\n",
       "      <td>CITY OF PETERBOROUGH</td>\n",
       "      <td>EAST ANGLIA</td>\n",
       "      <td>N</td>\n",
       "      <td>NaN</td>\n",
       "      <td>2-24 (even) Miller Way, 15-25 Hammonds Drive (...</td>\n",
       "      <td>NaN</td>\n",
       "      <td>NaN</td>\n",
       "      <td>NaN</td>\n",
       "      <td>E06000031</td>\n",
       "    </tr>\n",
       "    <tr>\n",
       "      <th>4</th>\n",
       "      <td>4</td>\n",
       "      <td>CB400630</td>\n",
       "      <td>5</td>\n",
       "      <td>CB400630-5</td>\n",
       "      <td>True</td>\n",
       "      <td>Freehold</td>\n",
       "      <td>NaN</td>\n",
       "      <td>NaN</td>\n",
       "      <td>NaN</td>\n",
       "      <td>10</td>\n",
       "      <td>...</td>\n",
       "      <td>CITY OF PETERBOROUGH</td>\n",
       "      <td>CITY OF PETERBOROUGH</td>\n",
       "      <td>EAST ANGLIA</td>\n",
       "      <td>N</td>\n",
       "      <td>NaN</td>\n",
       "      <td>2-24 (even) Miller Way, 15-25 Hammonds Drive (...</td>\n",
       "      <td>NaN</td>\n",
       "      <td>NaN</td>\n",
       "      <td>NaN</td>\n",
       "      <td>E06000031</td>\n",
       "    </tr>\n",
       "    <tr>\n",
       "      <th>...</th>\n",
       "      <td>...</td>\n",
       "      <td>...</td>\n",
       "      <td>...</td>\n",
       "      <td>...</td>\n",
       "      <td>...</td>\n",
       "      <td>...</td>\n",
       "      <td>...</td>\n",
       "      <td>...</td>\n",
       "      <td>...</td>\n",
       "      <td>...</td>\n",
       "      <td>...</td>\n",
       "      <td>...</td>\n",
       "      <td>...</td>\n",
       "      <td>...</td>\n",
       "      <td>...</td>\n",
       "      <td>...</td>\n",
       "      <td>...</td>\n",
       "      <td>...</td>\n",
       "      <td>...</td>\n",
       "      <td>...</td>\n",
       "      <td>...</td>\n",
       "    </tr>\n",
       "    <tr>\n",
       "      <th>162119</th>\n",
       "      <td>87498</td>\n",
       "      <td>AGL465007</td>\n",
       "      <td>1</td>\n",
       "      <td>AGL465007-1</td>\n",
       "      <td>False</td>\n",
       "      <td>Leasehold</td>\n",
       "      <td>807</td>\n",
       "      <td>flat</td>\n",
       "      <td>heritage tower</td>\n",
       "      <td>118</td>\n",
       "      <td>...</td>\n",
       "      <td>TOWER HAMLETS</td>\n",
       "      <td>GREATER LONDON</td>\n",
       "      <td>GREATER LONDON</td>\n",
       "      <td>N</td>\n",
       "      <td>479950.0</td>\n",
       "      <td>Flat 807, Heritage Tower, 118 East Ferry Road,...</td>\n",
       "      <td>e143nw</td>\n",
       "      <td>E01004215</td>\n",
       "      <td>E02000891</td>\n",
       "      <td>E09000030</td>\n",
       "    </tr>\n",
       "    <tr>\n",
       "      <th>162120</th>\n",
       "      <td>87499</td>\n",
       "      <td>AGL465195</td>\n",
       "      <td>1</td>\n",
       "      <td>AGL465195-1</td>\n",
       "      <td>False</td>\n",
       "      <td>Leasehold</td>\n",
       "      <td>NaN</td>\n",
       "      <td>NaN</td>\n",
       "      <td>ormond house</td>\n",
       "      <td>4t</td>\n",
       "      <td>...</td>\n",
       "      <td>CITY OF LONDON</td>\n",
       "      <td>GREATER LONDON</td>\n",
       "      <td>GREATER LONDON</td>\n",
       "      <td>N</td>\n",
       "      <td>NaN</td>\n",
       "      <td>4th Floor, Ormond House, 63 Queen Victoria Str...</td>\n",
       "      <td>ec4n4ua</td>\n",
       "      <td>E01032739</td>\n",
       "      <td>E02000001</td>\n",
       "      <td>E09000001</td>\n",
       "    </tr>\n",
       "    <tr>\n",
       "      <th>162121</th>\n",
       "      <td>87500</td>\n",
       "      <td>AGL473126</td>\n",
       "      <td>1</td>\n",
       "      <td>AGL473126-1</td>\n",
       "      <td>False</td>\n",
       "      <td>Leasehold</td>\n",
       "      <td>NaN</td>\n",
       "      <td>NaN</td>\n",
       "      <td>NaN</td>\n",
       "      <td>155</td>\n",
       "      <td>...</td>\n",
       "      <td>CITY OF LONDON</td>\n",
       "      <td>GREATER LONDON</td>\n",
       "      <td>GREATER LONDON</td>\n",
       "      <td>N</td>\n",
       "      <td>NaN</td>\n",
       "      <td>155 Bishopsgate, London (EC2M 3AD)</td>\n",
       "      <td>ec2m3ad</td>\n",
       "      <td>E01032739</td>\n",
       "      <td>E02000001</td>\n",
       "      <td>E09000001</td>\n",
       "    </tr>\n",
       "    <tr>\n",
       "      <th>162122</th>\n",
       "      <td>87501</td>\n",
       "      <td>AGL475468</td>\n",
       "      <td>1</td>\n",
       "      <td>AGL475468-1</td>\n",
       "      <td>False</td>\n",
       "      <td>Leasehold</td>\n",
       "      <td>NaN</td>\n",
       "      <td>NaN</td>\n",
       "      <td>NaN</td>\n",
       "      <td>NaN</td>\n",
       "      <td>...</td>\n",
       "      <td>CITY OF LONDON</td>\n",
       "      <td>GREATER LONDON</td>\n",
       "      <td>GREATER LONDON</td>\n",
       "      <td>N</td>\n",
       "      <td>NaN</td>\n",
       "      <td>part of Tenth Floor, 6 Bevis Marks, London (EC...</td>\n",
       "      <td>ec3a7ba</td>\n",
       "      <td>E01032739</td>\n",
       "      <td>E02000001</td>\n",
       "      <td>E09000001</td>\n",
       "    </tr>\n",
       "    <tr>\n",
       "      <th>162123</th>\n",
       "      <td>87502</td>\n",
       "      <td>AGL476501</td>\n",
       "      <td>1</td>\n",
       "      <td>AGL476501-1</td>\n",
       "      <td>False</td>\n",
       "      <td>Leasehold</td>\n",
       "      <td>NaN</td>\n",
       "      <td>storage</td>\n",
       "      <td>NaN</td>\n",
       "      <td>3</td>\n",
       "      <td>...</td>\n",
       "      <td>TOWER HAMLETS</td>\n",
       "      <td>GREATER LONDON</td>\n",
       "      <td>GREATER LONDON</td>\n",
       "      <td>N</td>\n",
       "      <td>NaN</td>\n",
       "      <td>Storage 17, Discovery Dock Apartments East, 3 ...</td>\n",
       "      <td>e149ru</td>\n",
       "      <td>E01032771</td>\n",
       "      <td>E02006854</td>\n",
       "      <td>E09000030</td>\n",
       "    </tr>\n",
       "  </tbody>\n",
       "</table>\n",
       "<p>162124 rows × 23 columns</p>\n",
       "</div>"
      ],
      "text/plain": [
       "        Unnamed: 0 title_number  within_title_id    unique_id  \\\n",
       "0                0     CB400630                1   CB400630-1   \n",
       "1                1     CB400630                2   CB400630-2   \n",
       "2                2     CB400630                3   CB400630-3   \n",
       "3                3     CB400630                4   CB400630-4   \n",
       "4                4     CB400630                5   CB400630-5   \n",
       "...            ...          ...              ...          ...   \n",
       "162119       87498    AGL465007                1  AGL465007-1   \n",
       "162120       87499    AGL465195                1  AGL465195-1   \n",
       "162121       87500    AGL473126                1  AGL473126-1   \n",
       "162122       87501    AGL475468                1  AGL475468-1   \n",
       "162123       87502    AGL476501                1  AGL476501-1   \n",
       "\n",
       "        within_larger_title     tenure unit_id unit_type   building_name  \\\n",
       "0                      True   Freehold     NaN       NaN             NaN   \n",
       "1                      True   Freehold     NaN       NaN             NaN   \n",
       "2                      True   Freehold     NaN       NaN             NaN   \n",
       "3                      True   Freehold     NaN       NaN             NaN   \n",
       "4                      True   Freehold     NaN       NaN             NaN   \n",
       "...                     ...        ...     ...       ...             ...   \n",
       "162119                False  Leasehold     807      flat  heritage tower   \n",
       "162120                False  Leasehold     NaN       NaN    ormond house   \n",
       "162121                False  Leasehold     NaN       NaN             NaN   \n",
       "162122                False  Leasehold     NaN       NaN             NaN   \n",
       "162123                False  Leasehold     NaN   storage             NaN   \n",
       "\n",
       "       street_number  ...              district                county  \\\n",
       "0                  2  ...  CITY OF PETERBOROUGH  CITY OF PETERBOROUGH   \n",
       "1                  4  ...  CITY OF PETERBOROUGH  CITY OF PETERBOROUGH   \n",
       "2                  6  ...  CITY OF PETERBOROUGH  CITY OF PETERBOROUGH   \n",
       "3                  8  ...  CITY OF PETERBOROUGH  CITY OF PETERBOROUGH   \n",
       "4                 10  ...  CITY OF PETERBOROUGH  CITY OF PETERBOROUGH   \n",
       "...              ...  ...                   ...                   ...   \n",
       "162119           118  ...         TOWER HAMLETS        GREATER LONDON   \n",
       "162120            4t  ...        CITY OF LONDON        GREATER LONDON   \n",
       "162121           155  ...        CITY OF LONDON        GREATER LONDON   \n",
       "162122           NaN  ...        CITY OF LONDON        GREATER LONDON   \n",
       "162123             3  ...         TOWER HAMLETS        GREATER LONDON   \n",
       "\n",
       "                region multiple_address_indicator price_paid  \\\n",
       "0          EAST ANGLIA                          N        NaN   \n",
       "1          EAST ANGLIA                          N        NaN   \n",
       "2          EAST ANGLIA                          N        NaN   \n",
       "3          EAST ANGLIA                          N        NaN   \n",
       "4          EAST ANGLIA                          N        NaN   \n",
       "...                ...                        ...        ...   \n",
       "162119  GREATER LONDON                          N   479950.0   \n",
       "162120  GREATER LONDON                          N        NaN   \n",
       "162121  GREATER LONDON                          N        NaN   \n",
       "162122  GREATER LONDON                          N        NaN   \n",
       "162123  GREATER LONDON                          N        NaN   \n",
       "\n",
       "                                         property_address postcode2  \\\n",
       "0       2-24 (even) Miller Way, 15-25 Hammonds Drive (...       NaN   \n",
       "1       2-24 (even) Miller Way, 15-25 Hammonds Drive (...       NaN   \n",
       "2       2-24 (even) Miller Way, 15-25 Hammonds Drive (...       NaN   \n",
       "3       2-24 (even) Miller Way, 15-25 Hammonds Drive (...       NaN   \n",
       "4       2-24 (even) Miller Way, 15-25 Hammonds Drive (...       NaN   \n",
       "...                                                   ...       ...   \n",
       "162119  Flat 807, Heritage Tower, 118 East Ferry Road,...    e143nw   \n",
       "162120  4th Floor, Ormond House, 63 Queen Victoria Str...   ec4n4ua   \n",
       "162121                 155 Bishopsgate, London (EC2M 3AD)   ec2m3ad   \n",
       "162122  part of Tenth Floor, 6 Bevis Marks, London (EC...   ec3a7ba   \n",
       "162123  Storage 17, Discovery Dock Apartments East, 3 ...    e149ru   \n",
       "\n",
       "           lsoa11     msoa11    lad11cd  \n",
       "0             NaN        NaN  E06000031  \n",
       "1             NaN        NaN  E06000031  \n",
       "2             NaN        NaN  E06000031  \n",
       "3             NaN        NaN  E06000031  \n",
       "4             NaN        NaN  E06000031  \n",
       "...           ...        ...        ...  \n",
       "162119  E01004215  E02000891  E09000030  \n",
       "162120  E01032739  E02000001  E09000001  \n",
       "162121  E01032739  E02000001  E09000001  \n",
       "162122  E01032739  E02000001  E09000001  \n",
       "162123  E01032771  E02006854  E09000030  \n",
       "\n",
       "[162124 rows x 23 columns]"
      ]
     },
     "execution_count": 7,
     "metadata": {},
     "output_type": "execute_result"
    }
   ],
   "source": [
    "ocod_data"
   ]
  },
  {
   "cell_type": "code",
   "execution_count": 8,
   "id": "598fbbfa",
   "metadata": {},
   "outputs": [
    {
     "data": {
      "text/plain": [
       "unit_type\n",
       "airspace              1551\n",
       "apartment             5188\n",
       "business               321\n",
       "cafe                     6\n",
       "car park space          51\n",
       "car parking space      441\n",
       "cinema                   8\n",
       "flat                 14302\n",
       "garage                 397\n",
       "hotel                   75\n",
       "land                  4645\n",
       "office                  89\n",
       "parking space         1094\n",
       "penthouse               92\n",
       "plot                  2466\n",
       "pub                      1\n",
       "restaurant              17\n",
       "room                   959\n",
       "storage                144\n",
       "store                  173\n",
       "suite                  134\n",
       "unit                  3033\n",
       "dtype: int64"
      ]
     },
     "execution_count": 8,
     "metadata": {},
     "output_type": "execute_result"
    }
   ],
   "source": [
    "ocod_data.groupby('unit_type').size()"
   ]
  },
  {
   "cell_type": "code",
   "execution_count": 9,
   "id": "0ea3e0ea",
   "metadata": {},
   "outputs": [
    {
     "data": {
      "text/plain": [
       "0.3582381387086428"
      ]
     },
     "execution_count": 9,
     "metadata": {},
     "output_type": "execute_result"
    }
   ],
   "source": [
    "ocod_data.postcode.isnull().sum()/ocod_data.shape[0] #How can location be given when missing postcode?"
   ]
  },
  {
   "cell_type": "code",
   "execution_count": null,
   "id": "994e0ec7",
   "metadata": {},
   "outputs": [],
   "source": []
  },
  {
   "cell_type": "code",
   "execution_count": 10,
   "id": "abb76790",
   "metadata": {},
   "outputs": [
    {
     "data": {
      "text/html": [
       "<div>\n",
       "<style scoped>\n",
       "    .dataframe tbody tr th:only-of-type {\n",
       "        vertical-align: middle;\n",
       "    }\n",
       "\n",
       "    .dataframe tbody tr th {\n",
       "        vertical-align: top;\n",
       "    }\n",
       "\n",
       "    .dataframe thead th {\n",
       "        text-align: right;\n",
       "    }\n",
       "</style>\n",
       "<table border=\"1\" class=\"dataframe\">\n",
       "  <thead>\n",
       "    <tr style=\"text-align: right;\">\n",
       "      <th>street_name</th>\n",
       "      <th>False</th>\n",
       "      <th>True</th>\n",
       "    </tr>\n",
       "    <tr>\n",
       "      <th>postcode</th>\n",
       "      <th></th>\n",
       "      <th></th>\n",
       "    </tr>\n",
       "  </thead>\n",
       "  <tbody>\n",
       "    <tr>\n",
       "      <th>False</th>\n",
       "      <td>10163</td>\n",
       "      <td>47916</td>\n",
       "    </tr>\n",
       "    <tr>\n",
       "      <th>True</th>\n",
       "      <td>14927</td>\n",
       "      <td>89118</td>\n",
       "    </tr>\n",
       "  </tbody>\n",
       "</table>\n",
       "</div>"
      ],
      "text/plain": [
       "street_name  False   True\n",
       "postcode                 \n",
       "False        10163  47916\n",
       "True         14927  89118"
      ]
     },
     "execution_count": 10,
     "metadata": {},
     "output_type": "execute_result"
    }
   ],
   "source": [
    "#only 10k have neither postcode nor street name\n",
    "#This means I can try to geomatch using street name. In the best case only 4% of addresses will not be matched\n",
    "pd.crosstab(ocod_data.postcode.notnull(), ocod_data.street_name.notnull())#/ocod_data.shape[0]\n",
    "\n"
   ]
  },
  {
   "cell_type": "markdown",
   "id": "45eb4648",
   "metadata": {},
   "source": [
    "## Load Voa and get business postcodes\n",
    "\n",
    "This alllows businesses to be identified"
   ]
  },
  {
   "cell_type": "code",
   "execution_count": 11,
   "id": "8f5fd67a",
   "metadata": {},
   "outputs": [
    {
     "name": "stderr",
     "output_type": "stream",
     "text": [
      "<ipython-input-11-3e4505799141>:14: DtypeWarning: Columns (1,2,6,12,13,17,22) have mixed types. Specify dtype option on import or set low_memory=False.\n",
      "  voa_businesses =  pd.read_csv('/tf/empty_homes_data/' +\n",
      "<ipython-input-11-3e4505799141>:38: FutureWarning: The default value of regex will change from True to False in a future version.\n",
      "  voa_businesses['postcode2'] = voa_businesses['postcode'].str.lower().str.replace(\"\\s\", \"\")\n"
     ]
    }
   ],
   "source": [
    "VOA_headers_raw= [\"Incrementing Entry Number\", \"Billing Authority Code\", \"NDR Community Code\", \n",
    " \"BA Reference Number\", \"Primary And Secondary Description Code\", \"Primary Description Text\",\n",
    "\"Unique Address Reference Number UARN\", \"Full Property Identifier\", \"Firms Name\", \"Number Or Name\",\n",
    "\"Street\", \"Town\", \"Postal District\", \"County\", \"Postcode\", \"Effective Date\", \"Composite Indicator\",\n",
    " \"Rateable Value\", \"Appeal Settlement Code\", \"Assessment Reference\", \"List Alteration Date\", \"SCAT Code And Suffix\",\n",
    " \"Sub Street level 3\", \"Sub Street level 2\", \"Sub Street level 1\", \"Case Number\", \n",
    " \"Current From Date\", \"Current To Date\", \n",
    "]\n",
    "\n",
    "#set to lower and replace spaces with underscore to turn the names into appropriate column names\n",
    "VOA_headers = [x.lower().replace(\" \", \"_\") for x in VOA_headers_raw]\n",
    "\n",
    "\n",
    "voa_businesses =  pd.read_csv('/tf/empty_homes_data/' +\n",
    "                    'uk-englandwales-ndr-2017-listentries-compiled-epoch-0029-baseline-csv.csv',\n",
    "                   sep = \"*\",\n",
    "                   encoding_errors= 'ignore',\n",
    "                    header=None,\n",
    "                   names = VOA_headers,\n",
    "                    index_col = False,\n",
    "                    #usecols = list(range(1,28))\n",
    "                   )\n",
    "voa_businesses['postcode'] = voa_businesses['postcode'].str.lower()\n",
    "voa_businesses['street'] = voa_businesses['street'].str.lower()\n",
    "\n",
    "#this removes advertising hordings which are irrelevant\n",
    "voa_businesses = voa_businesses.loc[voa_businesses['primary_description_text'].str.contains(\"ADVERTISING\")==False,:]\n",
    "#remove several kinds of car parking space\n",
    "voa_businesses = voa_businesses.loc[~voa_businesses['primary_and_secondary_description_code'].isin(['C0', 'CP', 'CX', 'MX']),:]\n",
    "##\n",
    "##\n",
    "## Warning this removes a large amount of columns, these may be interesting for some people\n",
    "##\n",
    "##\n",
    "voa_businesses = voa_businesses.iloc[:,4:15]\n",
    "#Extract the street number\n",
    "voa_businesses['street_number'] = voa_businesses['number_or_name'].str.extract(r\"(\\b[0-9\\-]+$)\")\n",
    "voa_businesses['postcode2'] = voa_businesses['postcode'].str.lower().str.replace(\"\\s\", \"\")\n",
    "\n",
    "#add in postcode data and LSOA etc data, this is useful for a range of tasks\n",
    "voa_businesses = voa_businesses.merge(postcode_district_lookup, left_on = 'postcode2', right_on = \"postcode2\")\n",
    "\n",
    "#Create a dataframe that contains the counts of businesses per postcode\n",
    "postcode_counts_voa = voa_businesses.groupby('postcode').size().reset_index(name = 'business_counts')\n",
    "\n",
    "#del voa_businesses\n",
    "\n",
    "ocod_data = pd.merge(ocod_data, postcode_counts_voa, on = \"postcode\", how = \"left\")\n",
    "ocod_data[\"business_counts\"] = ocod_data[\"business_counts\"].fillna(0)\n",
    "\n",
    "#this is quite large and no longer necessary so is removed from the workspace to save memory\n",
    "del postcode_district_lookup"
   ]
  },
  {
   "cell_type": "code",
   "execution_count": 12,
   "id": "21e678dd",
   "metadata": {
    "scrolled": true
   },
   "outputs": [
    {
     "ename": "NameError",
     "evalue": "name 'target_lad' is not defined",
     "output_type": "error",
     "traceback": [
      "\u001b[0;31m---------------------------------------------------------------------------\u001b[0m",
      "\u001b[0;31mNameError\u001b[0m                                 Traceback (most recent call last)",
      "\u001b[0;32m<ipython-input-12-42b41a4ee7fe>\u001b[0m in \u001b[0;36m<module>\u001b[0;34m\u001b[0m\n\u001b[0;32m----> 1\u001b[0;31m \u001b[0mvoa_businesses\u001b[0m\u001b[0;34m[\u001b[0m\u001b[0mvoa_businesses\u001b[0m\u001b[0;34m[\u001b[0m\u001b[0;34m'lad11cd'\u001b[0m\u001b[0;34m]\u001b[0m \u001b[0;34m==\u001b[0m \u001b[0mtarget_lad\u001b[0m\u001b[0;34m]\u001b[0m\u001b[0;34m\u001b[0m\u001b[0;34m\u001b[0m\u001b[0m\n\u001b[0m",
      "\u001b[0;31mNameError\u001b[0m: name 'target_lad' is not defined"
     ]
    }
   ],
   "source": [
    "voa_businesses[voa_businesses['lad11cd'] == target_lad]"
   ]
  },
  {
   "cell_type": "markdown",
   "id": "2b06dd67",
   "metadata": {},
   "source": [
    "## Creating a voa expander for individual LADs"
   ]
  },
  {
   "cell_type": "code",
   "execution_count": 123,
   "id": "e2d9bade",
   "metadata": {
    "scrolled": true
   },
   "outputs": [],
   "source": [
    "def find_filter_type(street_num):\n",
    " #gets the highest street number and uses it to work out if the property is on the odd or even side of the street, or if that rule is ignore and it is all numbers\n",
    "    values = [int(x) for x in street_num.split(\"-\")]\n",
    "    if (max(values)%2==0) & (min(values)%2==0):\n",
    "        out = \"even\"\n",
    "    elif (max(values)%2==1) & (min(values)%2==1):\n",
    "        out = \"odd\"\n",
    "    else:\n",
    "        out = \"all\"\n",
    "    \n",
    "    return out\n",
    "\n",
    "target_lad = 'E09000019'\n",
    "\n",
    "def create_all_street_addresses(voa_businesses, target_lad):\n",
    "    \n",
    "    #creates a two column table where the first column is the street name and the second\n",
    "    #column is the street number. The function expands address to get all numbers between for example 4-22\n",
    "    #voa_businesses is a dataframe of the voa business listings and ratings dataset\n",
    "    #target_lad is the ons code identifying which local authority will be used. \n",
    "    \n",
    "    temp = voa_businesses[voa_businesses['lad11cd'] == target_lad].copy(deep = True)\n",
    "    \n",
    "    #remove anything in brackets\n",
    "    temp['street_number'] = temp['street_number'].str.replace(r\"\\(.+\\)\", \"\", regex = True, case = False)\n",
    "    \n",
    "    #units often slip in as street numbers, this kills them off\n",
    "    temp.loc[temp['street_number'].str.contains(r\"(unit|suite)\", regex = True, case = False)==True, 'street_number'] = np.nan\n",
    "    \n",
    "    #replace @ and & with words\n",
    "    temp['street_number'] = temp['street_number'].str.replace(r\"@\", \" at \", regex = True, case = False).str.replace(r\"&\", \" and \", regex = True, case = False)\n",
    "    \n",
    "    #replace \"-\" with spaces with a simple \"-\"\n",
    "    temp['street_number'] = temp['street_number'].str.replace(r\"(\\s)?-(\\s)?\", \"-\", regex = True, case = False)\n",
    "    \n",
    "    #take only things after the last space includes cases where there is no space. Then remove all letters\n",
    "    temp['street_number'] = temp['street_number'].str.extract(r\"([^\\s]+$)\")[0].str.replace(r\"([a-z]+)\", \"\", regex = True, case = False)\n",
    "    #remove dangling hyphens and slashes\n",
    "    temp['street_number'] = temp['street_number'].str.replace(r\"(\\-$)|(^\\-)|\\\\|\\/\", \"\", regex = True, case = False)\n",
    "    #replace double hyphen... yes it happens\n",
    "    temp['street_number'] = temp['street_number'].str.replace(r\"\\-\\-\", r\"\\-\", regex = True, case = False)\n",
    "    temp.loc[temp['street_number'].str.len() == 0, 'street_number'] = np.nan\n",
    "    temp.loc[temp['street_number'].str.contains(r\"\\.\", regex = True)==True, 'street_number'] = np.nan\n",
    "\n",
    "    temp['is_multi'] = temp['street_number'].str.contains(r\"\\-\", regex = True)\n",
    "\n",
    "    temp_multi = temp.loc[temp['is_multi']==True]#, ['street_number', 'is_multi']]\n",
    "\n",
    "    temp_multi['number_filter'] = [find_filter_type(x) for x in temp_multi['street_number']]\n",
    "    \n",
    "    #occasionally one of the dataframes is empty, this causes a error with the concatenation\n",
    "    #this if statement gets around that\n",
    "    not_multi_address = temp.loc[temp['is_multi']==False]\n",
    "    \n",
    "    if (temp_multi.shape[0]>0) & (not_multi_address.shape[0]>0):\n",
    "        \n",
    "        #expand the dataframe according to the correct rules\n",
    "        temp_multi = expand_dataframe_numbers(temp_multi.reset_index(), 'street_number', print_every = 10000, min_count = 1)\n",
    "        street_address_lookup = pd.concat([temp_multi, not_multi_address])[['street_name2', 'street_number']]\n",
    "        \n",
    "    elif (temp_multi.shape[0]==0) & (not_multi_address.shape[0]>0):\n",
    "        street_address_lookup = not_multi_address\n",
    "    else:\n",
    "        #expand the dataframe according to the correct rules\n",
    "        temp_multi = expand_dataframe_numbers(temp_multi.reset_index(), 'street_number', print_every = 10000, min_count = 1)\n",
    "        street_address_lookup = temp_multi\n",
    "        \n",
    "    #i = 0\n",
    "    #temp_list = []\n",
    "    #for x in temp_multi['street_number'].unique():\n",
    "    #   # print(i)\n",
    "    #    i = i+1\n",
    "    #    values = [int(x) for x in [x for x in x.split(\"-\")]]\n",
    "    #    temp_list = temp_list +[values]\n",
    "\n",
    "    #street_address_lookup = pd.concat([temp_multi, temp.loc[temp['is_multi']==False]])[['street_name2', 'street_number']]\n",
    "    return(street_address_lookup)\n"
   ]
  },
  {
   "cell_type": "code",
   "execution_count": 38,
   "id": "f41e9094",
   "metadata": {},
   "outputs": [
    {
     "name": "stdout",
     "output_type": "stream",
     "text": [
      "0 97-98\n",
      "1 18-19\n",
      "2 11-17\n",
      "3 11-13\n",
      "4 11-13\n",
      "5 11-13\n",
      "6 5-7\n",
      "7 5-8\n",
      "8 18-22\n",
      "9 43-45\n",
      "10 10-12\n",
      "11 39-40\n",
      "12 48-50\n",
      "13 51-52\n",
      "14 38-40\n",
      "15 8-11\n",
      "16 2-3\n",
      "17 26-28\n",
      "18 130-131\n",
      "19 17-20\n",
      "20 12-13\n",
      "21 5-6\n",
      "22 31-33\n",
      "23 7-9\n",
      "24 18-19\n",
      "25 1-5\n",
      "26 17-25\n",
      "27 1-4\n",
      "28 328-331\n",
      "29 44-47\n",
      "30 59-61\n",
      "31 1-3\n",
      "32 3-6\n",
      "33 9-11\n",
      "34 60-61\n",
      "35 2-3\n"
     ]
    },
    {
     "name": "stderr",
     "output_type": "stream",
     "text": [
      "<ipython-input-38-0a94e6d61621>:8: UserWarning: This pattern is interpreted as a regular expression, and has match groups. To actually get the groups, use str.extract.\n",
      "  temp.loc[temp['street_number'].str.contains(r\"(unit|suite)\", regex = True, case = False)==True, 'street_number'] = np.nan\n"
     ]
    }
   ],
   "source": [
    "target_lad = 'W06000020'\n",
    "\n",
    "temp = voa_businesses[voa_businesses['lad11cd'] == target_lad].copy(deep = True)\n",
    "    \n",
    "    #remove anything in brackets\n",
    "temp['street_number'] = temp['number_or_name'].str.replace(r\"\\(.+\\)\", \"\", regex = True, case = False)\n",
    "#units often slip in as street numbers, this kills them off\n",
    "temp.loc[temp['street_number'].str.contains(r\"(unit|suite)\", regex = True, case = False)==True, 'street_number'] = np.nan\n",
    "    #replace @ and & with words\n",
    "temp['street_number'] = temp['street_number'].str.replace(r\"@\", \" at \", regex = True, case = False).str.replace(r\"&\", \" and \", regex = True, case = False)\n",
    "    \n",
    "    #replace \"-\" with spaces with a simple \"-\"\n",
    "temp['street_number'] = temp['street_number'].str.replace(r\"(\\s)?-(\\s)?\", \"-\", regex = True, case = False)\n",
    "#replace double hyphen... yes it happens\n",
    "temp['street_number'] = temp['street_number'].str.replace(r\"--\", \"-\", regex = True, case = False)\n",
    "    \n",
    "    #take only things after the last space includes cases where there is no space. Then remove all letters\n",
    "temp['street_number'] = temp['street_number'].str.extract(r\"([^\\s]+$)\")[0].str.replace(r\"([a-z]+)\", \"\", regex = True, case = False)\n",
    "    #remove dangling hyphens and slashes\n",
    "temp['street_number'] = temp['street_number'].str.replace(r\"(\\-$)|(^\\-)|\\\\|\\/\", \"\", regex = True, case = False)\n",
    "temp.loc[temp['street_number'].str.len() == 0, 'street_number'] = np.nan\n",
    "temp.loc[temp['street_number'].str.contains(r\"\\.\", regex = True)==True, 'street_number'] = np.nan\n",
    "\n",
    "temp.loc[:,'is_multi'] = temp['street_number'].str.contains(r\"\\-\", regex = True)\n",
    "\n",
    "temp_multi = temp.loc[temp['is_multi']==True]#, ['street_number', 'is_multi']]\n",
    "\n",
    "#temp_multi['number_filter'] = [find_filter_type(x) for x in temp_multi['street_number']]\n",
    "\n",
    "i = 0\n",
    "temp_list = []\n",
    "for x in temp_multi['street_number']:#.unique():\n",
    "        print(str(i)+ \" \"+x)\n",
    "        i = i+1\n",
    "        values = [int(x) for x in [x for x in x.split(\"-\")]]\n",
    "        temp_list = temp_list +[values]"
   ]
  },
  {
   "cell_type": "code",
   "execution_count": 33,
   "id": "545f5eaa",
   "metadata": {},
   "outputs": [
    {
     "data": {
      "text/plain": [
       "primary_and_secondary_description_code                                             CG1\n",
       "primary_description_text                          VEHICLE REPAIR WORKSHOP AND PREMISES\n",
       "unique_address_reference_number_uarn                                        7063871000\n",
       "full_property_identifier                  231--235, HAWTHORNE ROAD, BOOTLE, MERSEYSIDE\n",
       "firms_name                                                      NATIONAL TYRE SERVICES\n",
       "number_or_name                                                                231--235\n",
       "street                                                                  hawthorne road\n",
       "town                                                                            BOOTLE\n",
       "postal_district                                                                    NaN\n",
       "county                                                                      MERSEYSIDE\n",
       "postcode                                                                       l20 3aw\n",
       "street_number                                                                 231--235\n",
       "postcode2                                                                       l203aw\n",
       "lad11cd                                                                      E08000014\n",
       "lsoa11                                                                       E01006967\n",
       "msoa11                                                                       E02001465\n",
       "is_multi                                                                          True\n",
       "Name: 1590863, dtype: object"
      ]
     },
     "execution_count": 33,
     "metadata": {},
     "output_type": "execute_result"
    }
   ],
   "source": [
    "temp_multi.iloc[248]"
   ]
  },
  {
   "cell_type": "code",
   "execution_count": 321,
   "id": "e14af8d1",
   "metadata": {
    "scrolled": true
   },
   "outputs": [
    {
     "name": "stderr",
     "output_type": "stream",
     "text": [
      "<ipython-input-320-24dab75c9b55>:34: SettingWithCopyWarning: \n",
      "A value is trying to be set on a copy of a slice from a DataFrame.\n",
      "Try using .loc[row_indexer,col_indexer] = value instead\n",
      "\n",
      "See the caveats in the documentation: https://pandas.pydata.org/pandas-docs/stable/user_guide/indexing.html#returning-a-view-versus-a-copy\n",
      "  temp_multi['number_filter'] = [find_filter_type(x) for x in temp_multi['street_number']]\n"
     ]
    },
    {
     "name": "stdout",
     "output_type": "stream",
     "text": [
      "i= 0  expand time,0.0 filter time0.0 make_dataframe_time 0.001\n"
     ]
    }
   ],
   "source": [
    "all_street_addresses = create_all_street_addresses(voa_businesses, target_lad)"
   ]
  },
  {
   "cell_type": "code",
   "execution_count": 332,
   "id": "e49653b9",
   "metadata": {
    "scrolled": true
   },
   "outputs": [],
   "source": [
    "test = ocod_data[(ocod_data['lad11cd']==target_lad)].copy(deep = True)\n",
    "test['matches_business_address'] = test['street_name'].isin(all_street_addresses['street']) & test['street_number'].isin(all_street_addresses['street_number'])\n",
    "test['matches_business_address'].sum()"
   ]
  },
  {
   "cell_type": "code",
   "execution_count": 341,
   "id": "8b74272f",
   "metadata": {},
   "outputs": [
    {
     "name": "stderr",
     "output_type": "stream",
     "text": [
      "<ipython-input-320-24dab75c9b55>:34: SettingWithCopyWarning: \n",
      "A value is trying to be set on a copy of a slice from a DataFrame.\n",
      "Try using .loc[row_indexer,col_indexer] = value instead\n",
      "\n",
      "See the caveats in the documentation: https://pandas.pydata.org/pandas-docs/stable/user_guide/indexing.html#returning-a-view-versus-a-copy\n",
      "  temp_multi['number_filter'] = [find_filter_type(x) for x in temp_multi['street_number']]\n"
     ]
    },
    {
     "name": "stdout",
     "output_type": "stream",
     "text": [
      "i= 0  expand time,0.0 filter time0.0 make_dataframe_time 0.001\n"
     ]
    },
    {
     "data": {
      "text/plain": [
       "10100     False\n",
       "10101     False\n",
       "10102     False\n",
       "10103     False\n",
       "10104     False\n",
       "          ...  \n",
       "161976     True\n",
       "161983     True\n",
       "162115     True\n",
       "162116     True\n",
       "162117     True\n",
       "Length: 2141, dtype: bool"
      ]
     },
     "execution_count": 341,
     "metadata": {},
     "output_type": "execute_result"
    }
   ],
   "source": [
    "business_address_matcher(test['street_name'], test['street_number'], voa_businesses, target_lad)"
   ]
  },
  {
   "cell_type": "code",
   "execution_count": 354,
   "id": "a487dfac",
   "metadata": {},
   "outputs": [
    {
     "data": {
      "text/plain": [
       "'E06000031'"
      ]
     },
     "execution_count": 354,
     "metadata": {},
     "output_type": "execute_result"
    }
   ],
   "source": [
    "target_lad"
   ]
  },
  {
   "cell_type": "code",
   "execution_count": null,
   "id": "8621d041",
   "metadata": {},
   "outputs": [],
   "source": [
    "#filters to a single LAD\n",
    "    #removes advertising hoardings which are irrelevant\n",
    "    LAD_biz = voa_businesses.loc[(voa_data['lad11cd']==target_lad) & ~voa_data['primary_description_text'].str.contains(\"ADVERTISING\")].copy(deep = True)\n",
    "    \n",
    "    LAD_biz.loc[:,'street_name2'] = LAD_biz['street'].copy(deep=True)\n",
    "    #remove apostraphe's\n",
    "    LAD_biz.loc[:,'street_name2'] = LAD_biz.loc[:,'street_name2'].str.replace(r\"'\", \"\", regex = True).\\\n",
    "    str.replace(r\"s(s)?(?=\\s)\", \"\", regex = True).str.replace(r\"\\s\", \"\", regex = True)\n",
    "    \n",
    "    #subset to target LAD\n",
    "    ocod_data_road = ocod_data[ocod_data['lad11cd']==target_lad].copy(deep = True)\n",
    "    #replace nan values to prevent crash    \n",
    "    \n",
    "    #create second column\n",
    "    ocod_data_road['street_name2'] = ocod_data_road['street_name'].copy(deep=True)\n",
    "    \n",
    "    #replace nan values to prevent crash    \n",
    "    ocod_data_road.loc[ocod_data_road.street_name.isna(),'street_name'2] =\"xxxstreet name missingxxx\"\n",
    "    #clean street names of common matching errors\n",
    "    #remove apostraphe's\n",
    "    #remove trailing 's'\n",
    "    #remove all spaces\n",
    "    ocod_data_road['street_name2'] = ocod_data_road['street_name2'].str.replace(r\"'\", \"\", regex = True).\\\n",
    "    str.replace(r\"s(s)?(?=\\s)\", \"\", regex = True).str.replace(r\"\\s\", \"\", regex = True)\n",
    "    \n",
    "    ocod_data_road['match'] = ocod_data_road['street_name2'].isin(LAD_biz.street_name2.unique())"
   ]
  },
  {
   "cell_type": "code",
   "execution_count": 67,
   "id": "0c3bb147",
   "metadata": {},
   "outputs": [],
   "source": [
    "def business_address_matcher(street_name, street_number, voa_businesses, target_lad):\n",
    "    #produces a logical vector indficating whether the street address has matched with a business\n",
    "    #this allows positive ID of business addresses\n",
    "    #street name a pandas series of street names\n",
    "    #street_number a pandas series of corresponding street numbers\n",
    "    #voa_businesses a dataframe of the voa listings and ratings dataset.\n",
    "    #target_lad the ons code for the the local authority of interest\n",
    "    \n",
    "    \n",
    "    ##\n",
    "    ## create a dataframe of cleaned street names for target lad for VOA\n",
    "    ##\n",
    "    LAD_biz = voa_businesses.loc[(voa_businesses['lad11cd']==target_lad)].copy(deep = True)\n",
    "    \n",
    "    LAD_biz.loc[:,'street_name2'] = LAD_biz['street'].copy(deep=True)\n",
    "    #clean street names of common matching errors\n",
    "    #remove apostraphe's\n",
    "    #remove trailing 's'\n",
    "    #remove all spaces\n",
    "    LAD_biz.loc[:,'street_name2'] = LAD_biz.loc[:,'street_name2'].str.replace(r\"'\", \"\", regex = True).\\\n",
    "    str.replace(r\"s(s)?(?=\\s)\", \"\", regex = True).str.replace(r\"\\s\", \"\", regex = True)\n",
    "    \n",
    "    ##\n",
    "    ## create a dataframe of cleaned street names for target lad for OCOD\n",
    "    ##\n",
    "    #clean street names of common matching errors\n",
    "    #remove apostraphe's\n",
    "    #remove trailing 's'\n",
    "    #remove all spaces    \n",
    "    street_name2 = street_name.str.replace(r\"'\", \"\", regex = True).\\\n",
    "    str.replace(r\"s(s)?(?=\\s)\", \"\", regex = True).str.replace(r\"\\s\", \"\", regex = True)\n",
    "    \n",
    "    #subset voa data again to only include streets that are in the OCOD dataset\n",
    "    #also remoe all streets that are nan\n",
    "    LAD_biz = LAD_biz[LAD_biz['street_name2'].isin(street_name2.unique()) & LAD_biz['street_name2'].notna() ]\n",
    "    \n",
    "    all_street_addresses = create_all_street_addresses(LAD_biz, target_lad)\n",
    "    \n",
    "    #temp = street_name.isin(all_street_addresses['street_name2']) & street_number.isin(all_street_addresses['street_number'])\n",
    "    return street_name.isin(all_street_addresses['street_name2']), street_number.isin(all_street_addresses['street_number'])#(temp)\n",
    "   \n",
    "    "
   ]
  },
  {
   "cell_type": "code",
   "execution_count": 116,
   "id": "6ed54e3f",
   "metadata": {},
   "outputs": [],
   "source": [
    "def massaged_address_match(ocod_data, voa_data, target_lad):\n",
    "##\n",
    "## This exact match works pretty much as well as the fuzzy matcher but is much faster and clearer\n",
    "##\n",
    "    #filters to a single LAD\n",
    "    #removes advertising hoardings which are irrelevant\n",
    "    LAD_biz = voa_data.loc[(voa_data['lad11cd']==target_lad) & ~voa_data['primary_description_text'].str.contains(\"ADVERTISING\")].copy(deep = True)\n",
    "    \n",
    "    LAD_biz.loc[:,'street_name2'] = LAD_biz['street'].copy(deep=True)\n",
    "    #clean street names of common matching errors\n",
    "    #remove apostraphe's\n",
    "    #remove trailing 's'\n",
    "    #remove all spaces\n",
    "    LAD_biz.loc[:,'street_name2'] = LAD_biz.loc[:,'street_name2'].str.replace(r\"'\", \"\", regex = True).\\\n",
    "    str.replace(r\"s(s)?(?=\\s)\", \"\", regex = True).str.replace(r\"\\s\", \"\", regex = True)\n",
    "    \n",
    "    #subset to target LAD\n",
    "    ocod_data_road = ocod_data[ocod_data['lad11cd']==target_lad].copy(deep = True)\n",
    "    #replace nan values to prevent crash    \n",
    "    \n",
    "    #create second column\n",
    "    ocod_data_road['street_name2'] = ocod_data_road['street_name'].copy(deep=True)\n",
    "    \n",
    "    #replace nan values to prevent crash    \n",
    "    ocod_data_road.loc[ocod_data_road.street_name.isna(),'street_name2'] =\"xxxstreet name missingxxx\"\n",
    "    #clean street names of common matching errors\n",
    "    #remove apostraphe's\n",
    "    #remove trailing 's'\n",
    "    #remove all spaces\n",
    "    ocod_data_road['street_name2'] = ocod_data_road['street_name2'].str.replace(r\"'\", \"\", regex = True).\\\n",
    "    str.replace(r\"s(s)?(?=\\s)\", \"\", regex = True).str.replace(r\"\\s\", \"\", regex = True)\n",
    "    \n",
    "    ocod_data_road['street_match'] = ocod_data_road['street_name2'].isin(LAD_biz.street_name2.unique())\n",
    "    \n",
    "    #remove irrelevant streets\n",
    "    LAD_biz = LAD_biz[LAD_biz['street_name2'].isin(street_name2.unique()) & LAD_biz['street_name2'].notna() ]\n",
    "    #create the database table\n",
    "    all_street_addresses = create_all_street_addresses(LAD_biz, target_lad)\n",
    "    \n",
    "    #pre-make the new column and assign nan to all values. THis might make things a bit faster\n",
    "    ocod_data_road['address_match'] = np.nan\n",
    "    \n",
    "    all_data_list = []\n",
    "    \n",
    "    #loop though all the streets with offshore property in and compare to the list\n",
    "    #of street names with companies in them\n",
    "    for target_street in ocod_data_road['street_name2'].unique():\n",
    "            #subset to target street\n",
    "            temp_ocod = ocod_data_road[ocod_data_road['street_name2']== target_street]\n",
    "            temp_address = all_street_addresses[all_street_addresses['street_name2']== target_street]\n",
    "            #if the data frame has a length of 0 then there are no companies in the street\n",
    "            #the inference being all the properties are domestic.. not totally true but close enough\n",
    "            #otherwise check the properties\n",
    "            if temp_address.shape[0]>0:\n",
    "                temp_ocod.loc[:,'address_match'] =  temp_ocod['street_number'].isin(temp_address['street_number'])\n",
    "            else:\n",
    "                temp_ocod.loc[:,'address_match'] = False\n",
    "            all_data_list = all_data_list +[temp_ocod]\n",
    "    \n",
    "    ocod_data_road = pd.concat(all_data_list)\n",
    "    ocod_data_road.loc[ocod_data_road['street_name2']== \"xxxstreet name missingxxx\",'street_name2'] = np.nan\n",
    "    \n",
    "     \n",
    "    \n",
    "    return(ocod_data_road)"
   ]
  },
  {
   "cell_type": "code",
   "execution_count": 18,
   "id": "e02a3ed7",
   "metadata": {},
   "outputs": [],
   "source": [
    "street_name = ocod_data.loc[ocod_data['lad11cd'] == target_lad ,'street_name']"
   ]
  },
  {
   "cell_type": "code",
   "execution_count": 99,
   "id": "12007e38",
   "metadata": {},
   "outputs": [
    {
     "name": "stderr",
     "output_type": "stream",
     "text": [
      "<ipython-input-57-b776ed99d0a9>:28: UserWarning: This pattern is interpreted as a regular expression, and has match groups. To actually get the groups, use str.extract.\n",
      "  temp.loc[temp['street_number'].str.contains(r\"(unit|suite)\", regex = True, case = False)==True, 'street_number'] = np.nan\n",
      "<ipython-input-57-b776ed99d0a9>:49: SettingWithCopyWarning: \n",
      "A value is trying to be set on a copy of a slice from a DataFrame.\n",
      "Try using .loc[row_indexer,col_indexer] = value instead\n",
      "\n",
      "See the caveats in the documentation: https://pandas.pydata.org/pandas-docs/stable/user_guide/indexing.html#returning-a-view-versus-a-copy\n",
      "  temp_multi['number_filter'] = [find_filter_type(x) for x in temp_multi['street_number']]\n"
     ]
    },
    {
     "name": "stdout",
     "output_type": "stream",
     "text": [
      "i= 0  expand time,0.0 filter time0.0 make_dataframe_time 0.001\n"
     ]
    },
    {
     "name": "stderr",
     "output_type": "stream",
     "text": [
      "<ipython-input-98-760ef0a3be1a>:55: SettingWithCopyWarning: \n",
      "A value is trying to be set on a copy of a slice from a DataFrame.\n",
      "Try using .loc[row_indexer,col_indexer] = value instead\n",
      "\n",
      "See the caveats in the documentation: https://pandas.pydata.org/pandas-docs/stable/user_guide/indexing.html#returning-a-view-versus-a-copy\n",
      "  temp_ocod.loc[:,'address_match'] = False\n",
      "<ipython-input-98-760ef0a3be1a>:53: SettingWithCopyWarning: \n",
      "A value is trying to be set on a copy of a slice from a DataFrame.\n",
      "Try using .loc[row_indexer,col_indexer] = value instead\n",
      "\n",
      "See the caveats in the documentation: https://pandas.pydata.org/pandas-docs/stable/user_guide/indexing.html#returning-a-view-versus-a-copy\n",
      "  temp_ocod.loc[:,'address_match'] =  temp_ocod['street_number'].isin(temp_address['street_number'])\n"
     ]
    }
   ],
   "source": [
    "test = massaged_address_match(ocod_data, voa_businesses, target_lad)"
   ]
  },
  {
   "cell_type": "code",
   "execution_count": 103,
   "id": "4db64d4f",
   "metadata": {},
   "outputs": [
    {
     "data": {
      "text/plain": [
       "address_match\n",
       "False    1827\n",
       "True      314\n",
       "dtype: int64"
      ]
     },
     "execution_count": 103,
     "metadata": {},
     "output_type": "execute_result"
    }
   ],
   "source": []
  },
  {
   "cell_type": "code",
   "execution_count": 391,
   "id": "7db04aec",
   "metadata": {},
   "outputs": [
    {
     "data": {
      "text/html": [
       "<div>\n",
       "<style scoped>\n",
       "    .dataframe tbody tr th:only-of-type {\n",
       "        vertical-align: middle;\n",
       "    }\n",
       "\n",
       "    .dataframe tbody tr th {\n",
       "        vertical-align: top;\n",
       "    }\n",
       "\n",
       "    .dataframe thead th {\n",
       "        text-align: right;\n",
       "    }\n",
       "</style>\n",
       "<table border=\"1\" class=\"dataframe\">\n",
       "  <thead>\n",
       "    <tr style=\"text-align: right;\">\n",
       "      <th></th>\n",
       "      <th>street_name2</th>\n",
       "      <th>street_number</th>\n",
       "    </tr>\n",
       "  </thead>\n",
       "  <tbody>\n",
       "    <tr>\n",
       "      <th>0</th>\n",
       "      <td>highstreet</td>\n",
       "      <td>15</td>\n",
       "    </tr>\n",
       "    <tr>\n",
       "      <th>1</th>\n",
       "      <td>highstreet</td>\n",
       "      <td>17</td>\n",
       "    </tr>\n",
       "    <tr>\n",
       "      <th>1929209</th>\n",
       "      <td>kingstreet</td>\n",
       "      <td>35</td>\n",
       "    </tr>\n",
       "    <tr>\n",
       "      <th>1929210</th>\n",
       "      <td>kingstreet</td>\n",
       "      <td>35</td>\n",
       "    </tr>\n",
       "    <tr>\n",
       "      <th>1929211</th>\n",
       "      <td>kingstreet</td>\n",
       "      <td>35</td>\n",
       "    </tr>\n",
       "    <tr>\n",
       "      <th>1929212</th>\n",
       "      <td>kingstreet</td>\n",
       "      <td>35</td>\n",
       "    </tr>\n",
       "    <tr>\n",
       "      <th>1929213</th>\n",
       "      <td>kingstreet</td>\n",
       "      <td>35</td>\n",
       "    </tr>\n",
       "    <tr>\n",
       "      <th>1929214</th>\n",
       "      <td>kingstreet</td>\n",
       "      <td>35</td>\n",
       "    </tr>\n",
       "    <tr>\n",
       "      <th>1929215</th>\n",
       "      <td>kingstreet</td>\n",
       "      <td>35</td>\n",
       "    </tr>\n",
       "    <tr>\n",
       "      <th>1929216</th>\n",
       "      <td>kingstreet</td>\n",
       "      <td>35</td>\n",
       "    </tr>\n",
       "    <tr>\n",
       "      <th>1929217</th>\n",
       "      <td>kingstreet</td>\n",
       "      <td>35</td>\n",
       "    </tr>\n",
       "  </tbody>\n",
       "</table>\n",
       "</div>"
      ],
      "text/plain": [
       "        street_name2 street_number\n",
       "0         highstreet            15\n",
       "1         highstreet            17\n",
       "1929209   kingstreet            35\n",
       "1929210   kingstreet            35\n",
       "1929211   kingstreet            35\n",
       "1929212   kingstreet            35\n",
       "1929213   kingstreet            35\n",
       "1929214   kingstreet            35\n",
       "1929215   kingstreet            35\n",
       "1929216   kingstreet            35\n",
       "1929217   kingstreet            35"
      ]
     },
     "execution_count": 391,
     "metadata": {},
     "output_type": "execute_result"
    }
   ],
   "source": [
    "all_street_addresses"
   ]
  },
  {
   "cell_type": "code",
   "execution_count": 58,
   "id": "b9e8d849",
   "metadata": {},
   "outputs": [
    {
     "name": "stdout",
     "output_type": "stream",
     "text": [
      "E06000031\n",
      "i= 0  expand time,0.0 filter time0.0 make_dataframe_time 0.001\n"
     ]
    },
    {
     "name": "stderr",
     "output_type": "stream",
     "text": [
      "<ipython-input-57-b776ed99d0a9>:28: UserWarning: This pattern is interpreted as a regular expression, and has match groups. To actually get the groups, use str.extract.\n",
      "  temp.loc[temp['street_number'].str.contains(r\"(unit|suite)\", regex = True, case = False)==True, 'street_number'] = np.nan\n",
      "<ipython-input-57-b776ed99d0a9>:49: SettingWithCopyWarning: \n",
      "A value is trying to be set on a copy of a slice from a DataFrame.\n",
      "Try using .loc[row_indexer,col_indexer] = value instead\n",
      "\n",
      "See the caveats in the documentation: https://pandas.pydata.org/pandas-docs/stable/user_guide/indexing.html#returning-a-view-versus-a-copy\n",
      "  temp_multi['number_filter'] = [find_filter_type(x) for x in temp_multi['street_number']]\n"
     ]
    },
    {
     "name": "stdout",
     "output_type": "stream",
     "text": [
      "E07000032\n",
      "i= 0  expand time,0.0 filter time0.0 make_dataframe_time 0.001\n"
     ]
    },
    {
     "name": "stderr",
     "output_type": "stream",
     "text": [
      "<ipython-input-57-b776ed99d0a9>:28: UserWarning: This pattern is interpreted as a regular expression, and has match groups. To actually get the groups, use str.extract.\n",
      "  temp.loc[temp['street_number'].str.contains(r\"(unit|suite)\", regex = True, case = False)==True, 'street_number'] = np.nan\n",
      "<ipython-input-57-b776ed99d0a9>:49: SettingWithCopyWarning: \n",
      "A value is trying to be set on a copy of a slice from a DataFrame.\n",
      "Try using .loc[row_indexer,col_indexer] = value instead\n",
      "\n",
      "See the caveats in the documentation: https://pandas.pydata.org/pandas-docs/stable/user_guide/indexing.html#returning-a-view-versus-a-copy\n",
      "  temp_multi['number_filter'] = [find_filter_type(x) for x in temp_multi['street_number']]\n"
     ]
    },
    {
     "name": "stdout",
     "output_type": "stream",
     "text": [
      "E08000019\n"
     ]
    },
    {
     "name": "stderr",
     "output_type": "stream",
     "text": [
      "<ipython-input-57-b776ed99d0a9>:28: UserWarning: This pattern is interpreted as a regular expression, and has match groups. To actually get the groups, use str.extract.\n",
      "  temp.loc[temp['street_number'].str.contains(r\"(unit|suite)\", regex = True, case = False)==True, 'street_number'] = np.nan\n",
      "<ipython-input-57-b776ed99d0a9>:49: SettingWithCopyWarning: \n",
      "A value is trying to be set on a copy of a slice from a DataFrame.\n",
      "Try using .loc[row_indexer,col_indexer] = value instead\n",
      "\n",
      "See the caveats in the documentation: https://pandas.pydata.org/pandas-docs/stable/user_guide/indexing.html#returning-a-view-versus-a-copy\n",
      "  temp_multi['number_filter'] = [find_filter_type(x) for x in temp_multi['street_number']]\n"
     ]
    },
    {
     "name": "stdout",
     "output_type": "stream",
     "text": [
      "i= 0  expand time,0.0 filter time0.0 make_dataframe_time 0.001\n",
      "E08000017\n",
      "i= 0  expand time,0.0 filter time0.0 make_dataframe_time 0.001\n"
     ]
    },
    {
     "name": "stderr",
     "output_type": "stream",
     "text": [
      "<ipython-input-57-b776ed99d0a9>:28: UserWarning: This pattern is interpreted as a regular expression, and has match groups. To actually get the groups, use str.extract.\n",
      "  temp.loc[temp['street_number'].str.contains(r\"(unit|suite)\", regex = True, case = False)==True, 'street_number'] = np.nan\n",
      "<ipython-input-57-b776ed99d0a9>:49: SettingWithCopyWarning: \n",
      "A value is trying to be set on a copy of a slice from a DataFrame.\n",
      "Try using .loc[row_indexer,col_indexer] = value instead\n",
      "\n",
      "See the caveats in the documentation: https://pandas.pydata.org/pandas-docs/stable/user_guide/indexing.html#returning-a-view-versus-a-copy\n",
      "  temp_multi['number_filter'] = [find_filter_type(x) for x in temp_multi['street_number']]\n"
     ]
    },
    {
     "name": "stdout",
     "output_type": "stream",
     "text": [
      "E09000028\n"
     ]
    },
    {
     "name": "stderr",
     "output_type": "stream",
     "text": [
      "<ipython-input-57-b776ed99d0a9>:28: UserWarning: This pattern is interpreted as a regular expression, and has match groups. To actually get the groups, use str.extract.\n",
      "  temp.loc[temp['street_number'].str.contains(r\"(unit|suite)\", regex = True, case = False)==True, 'street_number'] = np.nan\n",
      "<ipython-input-57-b776ed99d0a9>:49: SettingWithCopyWarning: \n",
      "A value is trying to be set on a copy of a slice from a DataFrame.\n",
      "Try using .loc[row_indexer,col_indexer] = value instead\n",
      "\n",
      "See the caveats in the documentation: https://pandas.pydata.org/pandas-docs/stable/user_guide/indexing.html#returning-a-view-versus-a-copy\n",
      "  temp_multi['number_filter'] = [find_filter_type(x) for x in temp_multi['street_number']]\n"
     ]
    },
    {
     "name": "stdout",
     "output_type": "stream",
     "text": [
      "i= 0  expand time,0.0 filter time0.0 make_dataframe_time 0.001\n",
      "E09000020\n"
     ]
    },
    {
     "name": "stderr",
     "output_type": "stream",
     "text": [
      "<ipython-input-57-b776ed99d0a9>:28: UserWarning: This pattern is interpreted as a regular expression, and has match groups. To actually get the groups, use str.extract.\n",
      "  temp.loc[temp['street_number'].str.contains(r\"(unit|suite)\", regex = True, case = False)==True, 'street_number'] = np.nan\n",
      "<ipython-input-57-b776ed99d0a9>:49: SettingWithCopyWarning: \n",
      "A value is trying to be set on a copy of a slice from a DataFrame.\n",
      "Try using .loc[row_indexer,col_indexer] = value instead\n",
      "\n",
      "See the caveats in the documentation: https://pandas.pydata.org/pandas-docs/stable/user_guide/indexing.html#returning-a-view-versus-a-copy\n",
      "  temp_multi['number_filter'] = [find_filter_type(x) for x in temp_multi['street_number']]\n"
     ]
    },
    {
     "name": "stdout",
     "output_type": "stream",
     "text": [
      "i= 0  expand time,0.0 filter time0.0 make_dataframe_time 0.001\n",
      "E09000007\n"
     ]
    },
    {
     "name": "stderr",
     "output_type": "stream",
     "text": [
      "<ipython-input-57-b776ed99d0a9>:28: UserWarning: This pattern is interpreted as a regular expression, and has match groups. To actually get the groups, use str.extract.\n",
      "  temp.loc[temp['street_number'].str.contains(r\"(unit|suite)\", regex = True, case = False)==True, 'street_number'] = np.nan\n",
      "<ipython-input-57-b776ed99d0a9>:49: SettingWithCopyWarning: \n",
      "A value is trying to be set on a copy of a slice from a DataFrame.\n",
      "Try using .loc[row_indexer,col_indexer] = value instead\n",
      "\n",
      "See the caveats in the documentation: https://pandas.pydata.org/pandas-docs/stable/user_guide/indexing.html#returning-a-view-versus-a-copy\n",
      "  temp_multi['number_filter'] = [find_filter_type(x) for x in temp_multi['street_number']]\n"
     ]
    },
    {
     "name": "stdout",
     "output_type": "stream",
     "text": [
      "i= 0  expand time,0.0 filter time0.0 make_dataframe_time 0.001\n",
      "E06000049\n"
     ]
    },
    {
     "name": "stderr",
     "output_type": "stream",
     "text": [
      "<ipython-input-57-b776ed99d0a9>:28: UserWarning: This pattern is interpreted as a regular expression, and has match groups. To actually get the groups, use str.extract.\n",
      "  temp.loc[temp['street_number'].str.contains(r\"(unit|suite)\", regex = True, case = False)==True, 'street_number'] = np.nan\n",
      "<ipython-input-57-b776ed99d0a9>:49: SettingWithCopyWarning: \n",
      "A value is trying to be set on a copy of a slice from a DataFrame.\n",
      "Try using .loc[row_indexer,col_indexer] = value instead\n",
      "\n",
      "See the caveats in the documentation: https://pandas.pydata.org/pandas-docs/stable/user_guide/indexing.html#returning-a-view-versus-a-copy\n",
      "  temp_multi['number_filter'] = [find_filter_type(x) for x in temp_multi['street_number']]\n"
     ]
    },
    {
     "name": "stdout",
     "output_type": "stream",
     "text": [
      "i= 0  expand time,0.0 filter time0.0 make_dataframe_time 0.001\n",
      "E09000011\n",
      "i= 0  expand time,0.0 filter time0.0 make_dataframe_time 0.001\n"
     ]
    },
    {
     "name": "stderr",
     "output_type": "stream",
     "text": [
      "<ipython-input-57-b776ed99d0a9>:28: UserWarning: This pattern is interpreted as a regular expression, and has match groups. To actually get the groups, use str.extract.\n",
      "  temp.loc[temp['street_number'].str.contains(r\"(unit|suite)\", regex = True, case = False)==True, 'street_number'] = np.nan\n",
      "<ipython-input-57-b776ed99d0a9>:49: SettingWithCopyWarning: \n",
      "A value is trying to be set on a copy of a slice from a DataFrame.\n",
      "Try using .loc[row_indexer,col_indexer] = value instead\n",
      "\n",
      "See the caveats in the documentation: https://pandas.pydata.org/pandas-docs/stable/user_guide/indexing.html#returning-a-view-versus-a-copy\n",
      "  temp_multi['number_filter'] = [find_filter_type(x) for x in temp_multi['street_number']]\n"
     ]
    },
    {
     "name": "stdout",
     "output_type": "stream",
     "text": [
      "E09000033\n"
     ]
    },
    {
     "name": "stderr",
     "output_type": "stream",
     "text": [
      "<ipython-input-57-b776ed99d0a9>:28: UserWarning: This pattern is interpreted as a regular expression, and has match groups. To actually get the groups, use str.extract.\n",
      "  temp.loc[temp['street_number'].str.contains(r\"(unit|suite)\", regex = True, case = False)==True, 'street_number'] = np.nan\n",
      "<ipython-input-57-b776ed99d0a9>:49: SettingWithCopyWarning: \n",
      "A value is trying to be set on a copy of a slice from a DataFrame.\n",
      "Try using .loc[row_indexer,col_indexer] = value instead\n",
      "\n",
      "See the caveats in the documentation: https://pandas.pydata.org/pandas-docs/stable/user_guide/indexing.html#returning-a-view-versus-a-copy\n",
      "  temp_multi['number_filter'] = [find_filter_type(x) for x in temp_multi['street_number']]\n"
     ]
    },
    {
     "name": "stdout",
     "output_type": "stream",
     "text": [
      "i= 0  expand time,0.0 filter time0.0 make_dataframe_time 0.002\n",
      "i= 10000  expand time,2.486 filter time1.563 make_dataframe_time 10.642\n",
      "E09000019\n"
     ]
    },
    {
     "name": "stderr",
     "output_type": "stream",
     "text": [
      "<ipython-input-57-b776ed99d0a9>:28: UserWarning: This pattern is interpreted as a regular expression, and has match groups. To actually get the groups, use str.extract.\n",
      "  temp.loc[temp['street_number'].str.contains(r\"(unit|suite)\", regex = True, case = False)==True, 'street_number'] = np.nan\n",
      "<ipython-input-57-b776ed99d0a9>:49: SettingWithCopyWarning: \n",
      "A value is trying to be set on a copy of a slice from a DataFrame.\n",
      "Try using .loc[row_indexer,col_indexer] = value instead\n",
      "\n",
      "See the caveats in the documentation: https://pandas.pydata.org/pandas-docs/stable/user_guide/indexing.html#returning-a-view-versus-a-copy\n",
      "  temp_multi['number_filter'] = [find_filter_type(x) for x in temp_multi['street_number']]\n"
     ]
    },
    {
     "name": "stdout",
     "output_type": "stream",
     "text": [
      "i= 0  expand time,0.0 filter time0.0 make_dataframe_time 0.001\n",
      "E09000016\n",
      "i= 0  expand time,0.0 filter time0.0 make_dataframe_time 0.001\n"
     ]
    },
    {
     "name": "stderr",
     "output_type": "stream",
     "text": [
      "<ipython-input-57-b776ed99d0a9>:28: UserWarning: This pattern is interpreted as a regular expression, and has match groups. To actually get the groups, use str.extract.\n",
      "  temp.loc[temp['street_number'].str.contains(r\"(unit|suite)\", regex = True, case = False)==True, 'street_number'] = np.nan\n",
      "<ipython-input-57-b776ed99d0a9>:49: SettingWithCopyWarning: \n",
      "A value is trying to be set on a copy of a slice from a DataFrame.\n",
      "Try using .loc[row_indexer,col_indexer] = value instead\n",
      "\n",
      "See the caveats in the documentation: https://pandas.pydata.org/pandas-docs/stable/user_guide/indexing.html#returning-a-view-versus-a-copy\n",
      "  temp_multi['number_filter'] = [find_filter_type(x) for x in temp_multi['street_number']]\n"
     ]
    },
    {
     "name": "stdout",
     "output_type": "stream",
     "text": [
      "E08000015\n",
      "i= 0  expand time,0.0 filter time0.0 make_dataframe_time 0.001\n"
     ]
    },
    {
     "name": "stderr",
     "output_type": "stream",
     "text": [
      "<ipython-input-57-b776ed99d0a9>:28: UserWarning: This pattern is interpreted as a regular expression, and has match groups. To actually get the groups, use str.extract.\n",
      "  temp.loc[temp['street_number'].str.contains(r\"(unit|suite)\", regex = True, case = False)==True, 'street_number'] = np.nan\n",
      "<ipython-input-57-b776ed99d0a9>:49: SettingWithCopyWarning: \n",
      "A value is trying to be set on a copy of a slice from a DataFrame.\n",
      "Try using .loc[row_indexer,col_indexer] = value instead\n",
      "\n",
      "See the caveats in the documentation: https://pandas.pydata.org/pandas-docs/stable/user_guide/indexing.html#returning-a-view-versus-a-copy\n",
      "  temp_multi['number_filter'] = [find_filter_type(x) for x in temp_multi['street_number']]\n"
     ]
    },
    {
     "name": "stdout",
     "output_type": "stream",
     "text": [
      "E09000015\n",
      "i= 0  expand time,0.001 filter time0.0 make_dataframe_time 0.001\n"
     ]
    },
    {
     "name": "stderr",
     "output_type": "stream",
     "text": [
      "<ipython-input-57-b776ed99d0a9>:28: UserWarning: This pattern is interpreted as a regular expression, and has match groups. To actually get the groups, use str.extract.\n",
      "  temp.loc[temp['street_number'].str.contains(r\"(unit|suite)\", regex = True, case = False)==True, 'street_number'] = np.nan\n",
      "<ipython-input-57-b776ed99d0a9>:49: SettingWithCopyWarning: \n",
      "A value is trying to be set on a copy of a slice from a DataFrame.\n",
      "Try using .loc[row_indexer,col_indexer] = value instead\n",
      "\n",
      "See the caveats in the documentation: https://pandas.pydata.org/pandas-docs/stable/user_guide/indexing.html#returning-a-view-versus-a-copy\n",
      "  temp_multi['number_filter'] = [find_filter_type(x) for x in temp_multi['street_number']]\n"
     ]
    },
    {
     "name": "stdout",
     "output_type": "stream",
     "text": [
      "E06000030\n",
      "i= 0  expand time,0.0 filter time0.0 make_dataframe_time 0.001\n"
     ]
    },
    {
     "name": "stderr",
     "output_type": "stream",
     "text": [
      "<ipython-input-57-b776ed99d0a9>:28: UserWarning: This pattern is interpreted as a regular expression, and has match groups. To actually get the groups, use str.extract.\n",
      "  temp.loc[temp['street_number'].str.contains(r\"(unit|suite)\", regex = True, case = False)==True, 'street_number'] = np.nan\n",
      "<ipython-input-57-b776ed99d0a9>:49: SettingWithCopyWarning: \n",
      "A value is trying to be set on a copy of a slice from a DataFrame.\n",
      "Try using .loc[row_indexer,col_indexer] = value instead\n",
      "\n",
      "See the caveats in the documentation: https://pandas.pydata.org/pandas-docs/stable/user_guide/indexing.html#returning-a-view-versus-a-copy\n",
      "  temp_multi['number_filter'] = [find_filter_type(x) for x in temp_multi['street_number']]\n"
     ]
    },
    {
     "name": "stdout",
     "output_type": "stream",
     "text": [
      "E06000050\n"
     ]
    },
    {
     "name": "stderr",
     "output_type": "stream",
     "text": [
      "<ipython-input-57-b776ed99d0a9>:28: UserWarning: This pattern is interpreted as a regular expression, and has match groups. To actually get the groups, use str.extract.\n",
      "  temp.loc[temp['street_number'].str.contains(r\"(unit|suite)\", regex = True, case = False)==True, 'street_number'] = np.nan\n",
      "<ipython-input-57-b776ed99d0a9>:49: SettingWithCopyWarning: \n",
      "A value is trying to be set on a copy of a slice from a DataFrame.\n",
      "Try using .loc[row_indexer,col_indexer] = value instead\n",
      "\n",
      "See the caveats in the documentation: https://pandas.pydata.org/pandas-docs/stable/user_guide/indexing.html#returning-a-view-versus-a-copy\n",
      "  temp_multi['number_filter'] = [find_filter_type(x) for x in temp_multi['street_number']]\n"
     ]
    },
    {
     "name": "stdout",
     "output_type": "stream",
     "text": [
      "i= 0  expand time,0.0 filter time0.0 make_dataframe_time 0.001\n",
      "E08000010\n"
     ]
    },
    {
     "name": "stderr",
     "output_type": "stream",
     "text": [
      "<ipython-input-57-b776ed99d0a9>:28: UserWarning: This pattern is interpreted as a regular expression, and has match groups. To actually get the groups, use str.extract.\n",
      "  temp.loc[temp['street_number'].str.contains(r\"(unit|suite)\", regex = True, case = False)==True, 'street_number'] = np.nan\n",
      "<ipython-input-57-b776ed99d0a9>:49: SettingWithCopyWarning: \n",
      "A value is trying to be set on a copy of a slice from a DataFrame.\n",
      "Try using .loc[row_indexer,col_indexer] = value instead\n",
      "\n",
      "See the caveats in the documentation: https://pandas.pydata.org/pandas-docs/stable/user_guide/indexing.html#returning-a-view-versus-a-copy\n",
      "  temp_multi['number_filter'] = [find_filter_type(x) for x in temp_multi['street_number']]\n"
     ]
    },
    {
     "name": "stdout",
     "output_type": "stream",
     "text": [
      "i= 0  expand time,0.0 filter time0.0 make_dataframe_time 0.002\n",
      "E07000070\n",
      "i= 0  expand time,0.0 filter time0.0 make_dataframe_time 0.001\n"
     ]
    },
    {
     "name": "stderr",
     "output_type": "stream",
     "text": [
      "<ipython-input-57-b776ed99d0a9>:28: UserWarning: This pattern is interpreted as a regular expression, and has match groups. To actually get the groups, use str.extract.\n",
      "  temp.loc[temp['street_number'].str.contains(r\"(unit|suite)\", regex = True, case = False)==True, 'street_number'] = np.nan\n",
      "<ipython-input-57-b776ed99d0a9>:49: SettingWithCopyWarning: \n",
      "A value is trying to be set on a copy of a slice from a DataFrame.\n",
      "Try using .loc[row_indexer,col_indexer] = value instead\n",
      "\n",
      "See the caveats in the documentation: https://pandas.pydata.org/pandas-docs/stable/user_guide/indexing.html#returning-a-view-versus-a-copy\n",
      "  temp_multi['number_filter'] = [find_filter_type(x) for x in temp_multi['street_number']]\n"
     ]
    },
    {
     "name": "stdout",
     "output_type": "stream",
     "text": [
      "E08000003\n"
     ]
    },
    {
     "name": "stderr",
     "output_type": "stream",
     "text": [
      "<ipython-input-57-b776ed99d0a9>:28: UserWarning: This pattern is interpreted as a regular expression, and has match groups. To actually get the groups, use str.extract.\n",
      "  temp.loc[temp['street_number'].str.contains(r\"(unit|suite)\", regex = True, case = False)==True, 'street_number'] = np.nan\n",
      "<ipython-input-57-b776ed99d0a9>:49: SettingWithCopyWarning: \n",
      "A value is trying to be set on a copy of a slice from a DataFrame.\n",
      "Try using .loc[row_indexer,col_indexer] = value instead\n",
      "\n",
      "See the caveats in the documentation: https://pandas.pydata.org/pandas-docs/stable/user_guide/indexing.html#returning-a-view-versus-a-copy\n",
      "  temp_multi['number_filter'] = [find_filter_type(x) for x in temp_multi['street_number']]\n"
     ]
    },
    {
     "name": "stdout",
     "output_type": "stream",
     "text": [
      "i= 0  expand time,0.0 filter time0.0 make_dataframe_time 0.001\n",
      "E06000057\n",
      "i= 0  expand time,0.001 filter time0.0 make_dataframe_time 0.001\n"
     ]
    },
    {
     "name": "stderr",
     "output_type": "stream",
     "text": [
      "<ipython-input-57-b776ed99d0a9>:28: UserWarning: This pattern is interpreted as a regular expression, and has match groups. To actually get the groups, use str.extract.\n",
      "  temp.loc[temp['street_number'].str.contains(r\"(unit|suite)\", regex = True, case = False)==True, 'street_number'] = np.nan\n",
      "<ipython-input-57-b776ed99d0a9>:49: SettingWithCopyWarning: \n",
      "A value is trying to be set on a copy of a slice from a DataFrame.\n",
      "Try using .loc[row_indexer,col_indexer] = value instead\n",
      "\n",
      "See the caveats in the documentation: https://pandas.pydata.org/pandas-docs/stable/user_guide/indexing.html#returning-a-view-versus-a-copy\n",
      "  temp_multi['number_filter'] = [find_filter_type(x) for x in temp_multi['street_number']]\n"
     ]
    },
    {
     "name": "stdout",
     "output_type": "stream",
     "text": [
      "E06000047\n"
     ]
    },
    {
     "name": "stderr",
     "output_type": "stream",
     "text": [
      "<ipython-input-57-b776ed99d0a9>:28: UserWarning: This pattern is interpreted as a regular expression, and has match groups. To actually get the groups, use str.extract.\n",
      "  temp.loc[temp['street_number'].str.contains(r\"(unit|suite)\", regex = True, case = False)==True, 'street_number'] = np.nan\n",
      "<ipython-input-57-b776ed99d0a9>:49: SettingWithCopyWarning: \n",
      "A value is trying to be set on a copy of a slice from a DataFrame.\n",
      "Try using .loc[row_indexer,col_indexer] = value instead\n",
      "\n",
      "See the caveats in the documentation: https://pandas.pydata.org/pandas-docs/stable/user_guide/indexing.html#returning-a-view-versus-a-copy\n",
      "  temp_multi['number_filter'] = [find_filter_type(x) for x in temp_multi['street_number']]\n"
     ]
    },
    {
     "name": "stdout",
     "output_type": "stream",
     "text": [
      "i= 0  expand time,0.0 filter time0.0 make_dataframe_time 0.001\n",
      "E08000033\n",
      "i= 0  expand time,0.0 filter time0.0 make_dataframe_time 0.001\n"
     ]
    },
    {
     "name": "stderr",
     "output_type": "stream",
     "text": [
      "<ipython-input-57-b776ed99d0a9>:28: UserWarning: This pattern is interpreted as a regular expression, and has match groups. To actually get the groups, use str.extract.\n",
      "  temp.loc[temp['street_number'].str.contains(r\"(unit|suite)\", regex = True, case = False)==True, 'street_number'] = np.nan\n",
      "<ipython-input-57-b776ed99d0a9>:49: SettingWithCopyWarning: \n",
      "A value is trying to be set on a copy of a slice from a DataFrame.\n",
      "Try using .loc[row_indexer,col_indexer] = value instead\n",
      "\n",
      "See the caveats in the documentation: https://pandas.pydata.org/pandas-docs/stable/user_guide/indexing.html#returning-a-view-versus-a-copy\n",
      "  temp_multi['number_filter'] = [find_filter_type(x) for x in temp_multi['street_number']]\n"
     ]
    },
    {
     "name": "stdout",
     "output_type": "stream",
     "text": [
      "E08000007\n"
     ]
    },
    {
     "name": "stderr",
     "output_type": "stream",
     "text": [
      "<ipython-input-57-b776ed99d0a9>:28: UserWarning: This pattern is interpreted as a regular expression, and has match groups. To actually get the groups, use str.extract.\n",
      "  temp.loc[temp['street_number'].str.contains(r\"(unit|suite)\", regex = True, case = False)==True, 'street_number'] = np.nan\n",
      "<ipython-input-57-b776ed99d0a9>:49: SettingWithCopyWarning: \n",
      "A value is trying to be set on a copy of a slice from a DataFrame.\n",
      "Try using .loc[row_indexer,col_indexer] = value instead\n",
      "\n",
      "See the caveats in the documentation: https://pandas.pydata.org/pandas-docs/stable/user_guide/indexing.html#returning-a-view-versus-a-copy\n",
      "  temp_multi['number_filter'] = [find_filter_type(x) for x in temp_multi['street_number']]\n"
     ]
    },
    {
     "name": "stdout",
     "output_type": "stream",
     "text": [
      "i= 0  expand time,0.0 filter time0.0 make_dataframe_time 0.001\n",
      "E08000035\n"
     ]
    },
    {
     "name": "stderr",
     "output_type": "stream",
     "text": [
      "<ipython-input-57-b776ed99d0a9>:28: UserWarning: This pattern is interpreted as a regular expression, and has match groups. To actually get the groups, use str.extract.\n",
      "  temp.loc[temp['street_number'].str.contains(r\"(unit|suite)\", regex = True, case = False)==True, 'street_number'] = np.nan\n",
      "<ipython-input-57-b776ed99d0a9>:49: SettingWithCopyWarning: \n",
      "A value is trying to be set on a copy of a slice from a DataFrame.\n",
      "Try using .loc[row_indexer,col_indexer] = value instead\n",
      "\n",
      "See the caveats in the documentation: https://pandas.pydata.org/pandas-docs/stable/user_guide/indexing.html#returning-a-view-versus-a-copy\n",
      "  temp_multi['number_filter'] = [find_filter_type(x) for x in temp_multi['street_number']]\n"
     ]
    },
    {
     "name": "stdout",
     "output_type": "stream",
     "text": [
      "i= 0  expand time,0.0 filter time0.0 make_dataframe_time 0.001\n",
      "E09000001\n"
     ]
    },
    {
     "name": "stderr",
     "output_type": "stream",
     "text": [
      "<ipython-input-57-b776ed99d0a9>:28: UserWarning: This pattern is interpreted as a regular expression, and has match groups. To actually get the groups, use str.extract.\n",
      "  temp.loc[temp['street_number'].str.contains(r\"(unit|suite)\", regex = True, case = False)==True, 'street_number'] = np.nan\n",
      "<ipython-input-57-b776ed99d0a9>:49: SettingWithCopyWarning: \n",
      "A value is trying to be set on a copy of a slice from a DataFrame.\n",
      "Try using .loc[row_indexer,col_indexer] = value instead\n",
      "\n",
      "See the caveats in the documentation: https://pandas.pydata.org/pandas-docs/stable/user_guide/indexing.html#returning-a-view-versus-a-copy\n",
      "  temp_multi['number_filter'] = [find_filter_type(x) for x in temp_multi['street_number']]\n"
     ]
    },
    {
     "name": "stdout",
     "output_type": "stream",
     "text": [
      "i= 0  expand time,0.0 filter time0.0 make_dataframe_time 0.001\n",
      "E07000098\n",
      "i= 0  expand time,0.0 filter time0.0 make_dataframe_time 0.001\n"
     ]
    },
    {
     "name": "stderr",
     "output_type": "stream",
     "text": [
      "<ipython-input-57-b776ed99d0a9>:28: UserWarning: This pattern is interpreted as a regular expression, and has match groups. To actually get the groups, use str.extract.\n",
      "  temp.loc[temp['street_number'].str.contains(r\"(unit|suite)\", regex = True, case = False)==True, 'street_number'] = np.nan\n",
      "<ipython-input-57-b776ed99d0a9>:49: SettingWithCopyWarning: \n",
      "A value is trying to be set on a copy of a slice from a DataFrame.\n",
      "Try using .loc[row_indexer,col_indexer] = value instead\n",
      "\n",
      "See the caveats in the documentation: https://pandas.pydata.org/pandas-docs/stable/user_guide/indexing.html#returning-a-view-versus-a-copy\n",
      "  temp_multi['number_filter'] = [find_filter_type(x) for x in temp_multi['street_number']]\n"
     ]
    },
    {
     "name": "stdout",
     "output_type": "stream",
     "text": [
      "E06000044\n",
      "i= 0  expand time,0.0 filter time0.0 make_dataframe_time 0.002\n"
     ]
    },
    {
     "name": "stderr",
     "output_type": "stream",
     "text": [
      "<ipython-input-57-b776ed99d0a9>:28: UserWarning: This pattern is interpreted as a regular expression, and has match groups. To actually get the groups, use str.extract.\n",
      "  temp.loc[temp['street_number'].str.contains(r\"(unit|suite)\", regex = True, case = False)==True, 'street_number'] = np.nan\n",
      "<ipython-input-57-b776ed99d0a9>:49: SettingWithCopyWarning: \n",
      "A value is trying to be set on a copy of a slice from a DataFrame.\n",
      "Try using .loc[row_indexer,col_indexer] = value instead\n",
      "\n",
      "See the caveats in the documentation: https://pandas.pydata.org/pandas-docs/stable/user_guide/indexing.html#returning-a-view-versus-a-copy\n",
      "  temp_multi['number_filter'] = [find_filter_type(x) for x in temp_multi['street_number']]\n"
     ]
    },
    {
     "name": "stdout",
     "output_type": "stream",
     "text": [
      "E07000103\n",
      "i= 0  expand time,0.0 filter time0.0 make_dataframe_time 0.001\n"
     ]
    },
    {
     "name": "stderr",
     "output_type": "stream",
     "text": [
      "<ipython-input-57-b776ed99d0a9>:28: UserWarning: This pattern is interpreted as a regular expression, and has match groups. To actually get the groups, use str.extract.\n",
      "  temp.loc[temp['street_number'].str.contains(r\"(unit|suite)\", regex = True, case = False)==True, 'street_number'] = np.nan\n",
      "<ipython-input-57-b776ed99d0a9>:49: SettingWithCopyWarning: \n",
      "A value is trying to be set on a copy of a slice from a DataFrame.\n",
      "Try using .loc[row_indexer,col_indexer] = value instead\n",
      "\n",
      "See the caveats in the documentation: https://pandas.pydata.org/pandas-docs/stable/user_guide/indexing.html#returning-a-view-versus-a-copy\n",
      "  temp_multi['number_filter'] = [find_filter_type(x) for x in temp_multi['street_number']]\n"
     ]
    },
    {
     "name": "stdout",
     "output_type": "stream",
     "text": [
      "E08000001\n"
     ]
    },
    {
     "name": "stderr",
     "output_type": "stream",
     "text": [
      "<ipython-input-57-b776ed99d0a9>:28: UserWarning: This pattern is interpreted as a regular expression, and has match groups. To actually get the groups, use str.extract.\n",
      "  temp.loc[temp['street_number'].str.contains(r\"(unit|suite)\", regex = True, case = False)==True, 'street_number'] = np.nan\n",
      "<ipython-input-57-b776ed99d0a9>:49: SettingWithCopyWarning: \n",
      "A value is trying to be set on a copy of a slice from a DataFrame.\n",
      "Try using .loc[row_indexer,col_indexer] = value instead\n",
      "\n",
      "See the caveats in the documentation: https://pandas.pydata.org/pandas-docs/stable/user_guide/indexing.html#returning-a-view-versus-a-copy\n",
      "  temp_multi['number_filter'] = [find_filter_type(x) for x in temp_multi['street_number']]\n"
     ]
    },
    {
     "name": "stdout",
     "output_type": "stream",
     "text": [
      "i= 0  expand time,0.0 filter time0.0 make_dataframe_time 0.001\n",
      "E07000243\n",
      "i= 0  expand time,0.0 filter time0.0 make_dataframe_time 0.001\n"
     ]
    },
    {
     "name": "stderr",
     "output_type": "stream",
     "text": [
      "<ipython-input-57-b776ed99d0a9>:28: UserWarning: This pattern is interpreted as a regular expression, and has match groups. To actually get the groups, use str.extract.\n",
      "  temp.loc[temp['street_number'].str.contains(r\"(unit|suite)\", regex = True, case = False)==True, 'street_number'] = np.nan\n",
      "<ipython-input-57-b776ed99d0a9>:49: SettingWithCopyWarning: \n",
      "A value is trying to be set on a copy of a slice from a DataFrame.\n",
      "Try using .loc[row_indexer,col_indexer] = value instead\n",
      "\n",
      "See the caveats in the documentation: https://pandas.pydata.org/pandas-docs/stable/user_guide/indexing.html#returning-a-view-versus-a-copy\n",
      "  temp_multi['number_filter'] = [find_filter_type(x) for x in temp_multi['street_number']]\n"
     ]
    },
    {
     "name": "stdout",
     "output_type": "stream",
     "text": [
      "E08000012\n"
     ]
    },
    {
     "name": "stderr",
     "output_type": "stream",
     "text": [
      "<ipython-input-57-b776ed99d0a9>:28: UserWarning: This pattern is interpreted as a regular expression, and has match groups. To actually get the groups, use str.extract.\n",
      "  temp.loc[temp['street_number'].str.contains(r\"(unit|suite)\", regex = True, case = False)==True, 'street_number'] = np.nan\n",
      "<ipython-input-57-b776ed99d0a9>:49: SettingWithCopyWarning: \n",
      "A value is trying to be set on a copy of a slice from a DataFrame.\n",
      "Try using .loc[row_indexer,col_indexer] = value instead\n",
      "\n",
      "See the caveats in the documentation: https://pandas.pydata.org/pandas-docs/stable/user_guide/indexing.html#returning-a-view-versus-a-copy\n",
      "  temp_multi['number_filter'] = [find_filter_type(x) for x in temp_multi['street_number']]\n"
     ]
    },
    {
     "name": "stdout",
     "output_type": "stream",
     "text": [
      "i= 0  expand time,0.001 filter time0.0 make_dataframe_time 0.001\n",
      "E09000012\n"
     ]
    },
    {
     "name": "stderr",
     "output_type": "stream",
     "text": [
      "<ipython-input-57-b776ed99d0a9>:28: UserWarning: This pattern is interpreted as a regular expression, and has match groups. To actually get the groups, use str.extract.\n",
      "  temp.loc[temp['street_number'].str.contains(r\"(unit|suite)\", regex = True, case = False)==True, 'street_number'] = np.nan\n",
      "<ipython-input-57-b776ed99d0a9>:49: SettingWithCopyWarning: \n",
      "A value is trying to be set on a copy of a slice from a DataFrame.\n",
      "Try using .loc[row_indexer,col_indexer] = value instead\n",
      "\n",
      "See the caveats in the documentation: https://pandas.pydata.org/pandas-docs/stable/user_guide/indexing.html#returning-a-view-versus-a-copy\n",
      "  temp_multi['number_filter'] = [find_filter_type(x) for x in temp_multi['street_number']]\n"
     ]
    },
    {
     "name": "stdout",
     "output_type": "stream",
     "text": [
      "i= 0  expand time,0.0 filter time0.0 make_dataframe_time 0.001\n",
      "E09000032\n"
     ]
    },
    {
     "name": "stderr",
     "output_type": "stream",
     "text": [
      "<ipython-input-57-b776ed99d0a9>:28: UserWarning: This pattern is interpreted as a regular expression, and has match groups. To actually get the groups, use str.extract.\n",
      "  temp.loc[temp['street_number'].str.contains(r\"(unit|suite)\", regex = True, case = False)==True, 'street_number'] = np.nan\n",
      "<ipython-input-57-b776ed99d0a9>:49: SettingWithCopyWarning: \n",
      "A value is trying to be set on a copy of a slice from a DataFrame.\n",
      "Try using .loc[row_indexer,col_indexer] = value instead\n",
      "\n",
      "See the caveats in the documentation: https://pandas.pydata.org/pandas-docs/stable/user_guide/indexing.html#returning-a-view-versus-a-copy\n",
      "  temp_multi['number_filter'] = [find_filter_type(x) for x in temp_multi['street_number']]\n"
     ]
    },
    {
     "name": "stdout",
     "output_type": "stream",
     "text": [
      "i= 0  expand time,0.0 filter time0.0 make_dataframe_time 0.001\n",
      "E06000045\n"
     ]
    },
    {
     "name": "stderr",
     "output_type": "stream",
     "text": [
      "<ipython-input-57-b776ed99d0a9>:28: UserWarning: This pattern is interpreted as a regular expression, and has match groups. To actually get the groups, use str.extract.\n",
      "  temp.loc[temp['street_number'].str.contains(r\"(unit|suite)\", regex = True, case = False)==True, 'street_number'] = np.nan\n",
      "<ipython-input-57-b776ed99d0a9>:49: SettingWithCopyWarning: \n",
      "A value is trying to be set on a copy of a slice from a DataFrame.\n",
      "Try using .loc[row_indexer,col_indexer] = value instead\n",
      "\n",
      "See the caveats in the documentation: https://pandas.pydata.org/pandas-docs/stable/user_guide/indexing.html#returning-a-view-versus-a-copy\n",
      "  temp_multi['number_filter'] = [find_filter_type(x) for x in temp_multi['street_number']]\n"
     ]
    },
    {
     "name": "stdout",
     "output_type": "stream",
     "text": [
      "i= 0  expand time,0.0 filter time0.001 make_dataframe_time 0.002\n",
      "E08000006\n"
     ]
    },
    {
     "name": "stderr",
     "output_type": "stream",
     "text": [
      "<ipython-input-57-b776ed99d0a9>:28: UserWarning: This pattern is interpreted as a regular expression, and has match groups. To actually get the groups, use str.extract.\n",
      "  temp.loc[temp['street_number'].str.contains(r\"(unit|suite)\", regex = True, case = False)==True, 'street_number'] = np.nan\n",
      "<ipython-input-57-b776ed99d0a9>:49: SettingWithCopyWarning: \n",
      "A value is trying to be set on a copy of a slice from a DataFrame.\n",
      "Try using .loc[row_indexer,col_indexer] = value instead\n",
      "\n",
      "See the caveats in the documentation: https://pandas.pydata.org/pandas-docs/stable/user_guide/indexing.html#returning-a-view-versus-a-copy\n",
      "  temp_multi['number_filter'] = [find_filter_type(x) for x in temp_multi['street_number']]\n"
     ]
    },
    {
     "name": "stdout",
     "output_type": "stream",
     "text": [
      "i= 0  expand time,0.0 filter time0.0 make_dataframe_time 0.002\n",
      "E08000004\n",
      "i= 0  expand time,0.0 filter time0.0 make_dataframe_time 0.001\n"
     ]
    },
    {
     "name": "stderr",
     "output_type": "stream",
     "text": [
      "<ipython-input-57-b776ed99d0a9>:28: UserWarning: This pattern is interpreted as a regular expression, and has match groups. To actually get the groups, use str.extract.\n",
      "  temp.loc[temp['street_number'].str.contains(r\"(unit|suite)\", regex = True, case = False)==True, 'street_number'] = np.nan\n",
      "<ipython-input-57-b776ed99d0a9>:49: SettingWithCopyWarning: \n",
      "A value is trying to be set on a copy of a slice from a DataFrame.\n",
      "Try using .loc[row_indexer,col_indexer] = value instead\n",
      "\n",
      "See the caveats in the documentation: https://pandas.pydata.org/pandas-docs/stable/user_guide/indexing.html#returning-a-view-versus-a-copy\n",
      "  temp_multi['number_filter'] = [find_filter_type(x) for x in temp_multi['street_number']]\n"
     ]
    },
    {
     "name": "stdout",
     "output_type": "stream",
     "text": [
      "E08000028\n"
     ]
    },
    {
     "name": "stderr",
     "output_type": "stream",
     "text": [
      "<ipython-input-57-b776ed99d0a9>:28: UserWarning: This pattern is interpreted as a regular expression, and has match groups. To actually get the groups, use str.extract.\n",
      "  temp.loc[temp['street_number'].str.contains(r\"(unit|suite)\", regex = True, case = False)==True, 'street_number'] = np.nan\n",
      "<ipython-input-57-b776ed99d0a9>:49: SettingWithCopyWarning: \n",
      "A value is trying to be set on a copy of a slice from a DataFrame.\n",
      "Try using .loc[row_indexer,col_indexer] = value instead\n",
      "\n",
      "See the caveats in the documentation: https://pandas.pydata.org/pandas-docs/stable/user_guide/indexing.html#returning-a-view-versus-a-copy\n",
      "  temp_multi['number_filter'] = [find_filter_type(x) for x in temp_multi['street_number']]\n"
     ]
    },
    {
     "name": "stdout",
     "output_type": "stream",
     "text": [
      "i= 0  expand time,0.0 filter time0.0 make_dataframe_time 0.001\n",
      "E08000013\n",
      "i= 0  expand time,0.001 filter time0.001 make_dataframe_time 0.002\n"
     ]
    },
    {
     "name": "stderr",
     "output_type": "stream",
     "text": [
      "<ipython-input-57-b776ed99d0a9>:28: UserWarning: This pattern is interpreted as a regular expression, and has match groups. To actually get the groups, use str.extract.\n",
      "  temp.loc[temp['street_number'].str.contains(r\"(unit|suite)\", regex = True, case = False)==True, 'street_number'] = np.nan\n",
      "<ipython-input-57-b776ed99d0a9>:49: SettingWithCopyWarning: \n",
      "A value is trying to be set on a copy of a slice from a DataFrame.\n",
      "Try using .loc[row_indexer,col_indexer] = value instead\n",
      "\n",
      "See the caveats in the documentation: https://pandas.pydata.org/pandas-docs/stable/user_guide/indexing.html#returning-a-view-versus-a-copy\n",
      "  temp_multi['number_filter'] = [find_filter_type(x) for x in temp_multi['street_number']]\n"
     ]
    },
    {
     "name": "stdout",
     "output_type": "stream",
     "text": [
      "E07000117\n",
      "i= 0  expand time,0.0 filter time0.0 make_dataframe_time 0.001\n"
     ]
    },
    {
     "name": "stderr",
     "output_type": "stream",
     "text": [
      "<ipython-input-57-b776ed99d0a9>:28: UserWarning: This pattern is interpreted as a regular expression, and has match groups. To actually get the groups, use str.extract.\n",
      "  temp.loc[temp['street_number'].str.contains(r\"(unit|suite)\", regex = True, case = False)==True, 'street_number'] = np.nan\n",
      "<ipython-input-57-b776ed99d0a9>:49: SettingWithCopyWarning: \n",
      "A value is trying to be set on a copy of a slice from a DataFrame.\n",
      "Try using .loc[row_indexer,col_indexer] = value instead\n",
      "\n",
      "See the caveats in the documentation: https://pandas.pydata.org/pandas-docs/stable/user_guide/indexing.html#returning-a-view-versus-a-copy\n",
      "  temp_multi['number_filter'] = [find_filter_type(x) for x in temp_multi['street_number']]\n"
     ]
    },
    {
     "name": "stdout",
     "output_type": "stream",
     "text": [
      "E07000119\n",
      "i= 0  expand time,0.001 filter time0.0 make_dataframe_time 0.002\n"
     ]
    },
    {
     "name": "stderr",
     "output_type": "stream",
     "text": [
      "<ipython-input-57-b776ed99d0a9>:28: UserWarning: This pattern is interpreted as a regular expression, and has match groups. To actually get the groups, use str.extract.\n",
      "  temp.loc[temp['street_number'].str.contains(r\"(unit|suite)\", regex = True, case = False)==True, 'street_number'] = np.nan\n",
      "<ipython-input-57-b776ed99d0a9>:49: SettingWithCopyWarning: \n",
      "A value is trying to be set on a copy of a slice from a DataFrame.\n",
      "Try using .loc[row_indexer,col_indexer] = value instead\n",
      "\n",
      "See the caveats in the documentation: https://pandas.pydata.org/pandas-docs/stable/user_guide/indexing.html#returning-a-view-versus-a-copy\n",
      "  temp_multi['number_filter'] = [find_filter_type(x) for x in temp_multi['street_number']]\n"
     ]
    },
    {
     "name": "stdout",
     "output_type": "stream",
     "text": [
      "E06000016\n"
     ]
    },
    {
     "name": "stderr",
     "output_type": "stream",
     "text": [
      "<ipython-input-57-b776ed99d0a9>:28: UserWarning: This pattern is interpreted as a regular expression, and has match groups. To actually get the groups, use str.extract.\n",
      "  temp.loc[temp['street_number'].str.contains(r\"(unit|suite)\", regex = True, case = False)==True, 'street_number'] = np.nan\n",
      "<ipython-input-57-b776ed99d0a9>:49: SettingWithCopyWarning: \n",
      "A value is trying to be set on a copy of a slice from a DataFrame.\n",
      "Try using .loc[row_indexer,col_indexer] = value instead\n",
      "\n",
      "See the caveats in the documentation: https://pandas.pydata.org/pandas-docs/stable/user_guide/indexing.html#returning-a-view-versus-a-copy\n",
      "  temp_multi['number_filter'] = [find_filter_type(x) for x in temp_multi['street_number']]\n"
     ]
    },
    {
     "name": "stdout",
     "output_type": "stream",
     "text": [
      "i= 0  expand time,0.0 filter time0.0 make_dataframe_time 0.001\n",
      "E08000014\n"
     ]
    },
    {
     "name": "stderr",
     "output_type": "stream",
     "text": [
      "<ipython-input-57-b776ed99d0a9>:28: UserWarning: This pattern is interpreted as a regular expression, and has match groups. To actually get the groups, use str.extract.\n",
      "  temp.loc[temp['street_number'].str.contains(r\"(unit|suite)\", regex = True, case = False)==True, 'street_number'] = np.nan\n"
     ]
    },
    {
     "ename": "ValueError",
     "evalue": "invalid literal for int() with base 10: '231\\\\'",
     "output_type": "error",
     "traceback": [
      "\u001b[0;31m---------------------------------------------------------------------------\u001b[0m",
      "\u001b[0;31mValueError\u001b[0m                                Traceback (most recent call last)",
      "\u001b[0;32m<ipython-input-58-627c6125dc65>\u001b[0m in \u001b[0;36m<module>\u001b[0;34m\u001b[0m\n\u001b[1;32m     11\u001b[0m     \u001b[0mprint\u001b[0m\u001b[0;34m(\u001b[0m\u001b[0mtarget_lad\u001b[0m\u001b[0;34m)\u001b[0m\u001b[0;34m\u001b[0m\u001b[0;34m\u001b[0m\u001b[0m\n\u001b[1;32m     12\u001b[0m     \u001b[0mtemp\u001b[0m \u001b[0;34m=\u001b[0m \u001b[0mocod_data\u001b[0m\u001b[0;34m[\u001b[0m\u001b[0;34m(\u001b[0m\u001b[0mocod_data\u001b[0m\u001b[0;34m[\u001b[0m\u001b[0;34m'lad11cd'\u001b[0m\u001b[0;34m]\u001b[0m\u001b[0;34m==\u001b[0m\u001b[0mtarget_lad\u001b[0m\u001b[0;34m)\u001b[0m\u001b[0;34m]\u001b[0m\u001b[0;34m.\u001b[0m\u001b[0mcopy\u001b[0m\u001b[0;34m(\u001b[0m\u001b[0mdeep\u001b[0m \u001b[0;34m=\u001b[0m \u001b[0;32mTrue\u001b[0m\u001b[0;34m)\u001b[0m\u001b[0;34m\u001b[0m\u001b[0;34m\u001b[0m\u001b[0m\n\u001b[0;32m---> 13\u001b[0;31m     \u001b[0mstreet_match\u001b[0m\u001b[0;34m,\u001b[0m \u001b[0mnumber_match\u001b[0m \u001b[0;34m=\u001b[0m \u001b[0mbusiness_address_matcher\u001b[0m\u001b[0;34m(\u001b[0m\u001b[0mtemp\u001b[0m\u001b[0;34m[\u001b[0m\u001b[0;34m'street_name'\u001b[0m\u001b[0;34m]\u001b[0m\u001b[0;34m,\u001b[0m \u001b[0mtemp\u001b[0m\u001b[0;34m[\u001b[0m\u001b[0;34m'street_number'\u001b[0m\u001b[0;34m]\u001b[0m\u001b[0;34m,\u001b[0m \u001b[0mvoa_businesses\u001b[0m\u001b[0;34m,\u001b[0m \u001b[0mtarget_lad\u001b[0m\u001b[0;34m)\u001b[0m\u001b[0;34m\u001b[0m\u001b[0;34m\u001b[0m\u001b[0m\n\u001b[0m\u001b[1;32m     14\u001b[0m     \u001b[0mtemp\u001b[0m\u001b[0;34m[\u001b[0m\u001b[0;34m'street_match'\u001b[0m\u001b[0;34m]\u001b[0m \u001b[0;34m=\u001b[0m \u001b[0mstreet_match\u001b[0m\u001b[0;34m\u001b[0m\u001b[0;34m\u001b[0m\u001b[0m\n\u001b[1;32m     15\u001b[0m     \u001b[0mtemp\u001b[0m\u001b[0;34m[\u001b[0m\u001b[0;34m'number_match'\u001b[0m\u001b[0;34m]\u001b[0m \u001b[0;34m=\u001b[0m \u001b[0mstreet_match\u001b[0m\u001b[0;34m\u001b[0m\u001b[0;34m\u001b[0m\u001b[0m\n",
      "\u001b[0;32m<ipython-input-53-7f43a782a49a>\u001b[0m in \u001b[0;36mbusiness_address_matcher\u001b[0;34m(street_name, street_number, voa_businesses, target_lad)\u001b[0m\n\u001b[1;32m     32\u001b[0m     \u001b[0mLAD_biz\u001b[0m \u001b[0;34m=\u001b[0m \u001b[0mLAD_biz\u001b[0m\u001b[0;34m[\u001b[0m\u001b[0mLAD_biz\u001b[0m\u001b[0;34m[\u001b[0m\u001b[0;34m'street_name2'\u001b[0m\u001b[0;34m]\u001b[0m\u001b[0;34m.\u001b[0m\u001b[0misin\u001b[0m\u001b[0;34m(\u001b[0m\u001b[0mstreet_name2\u001b[0m\u001b[0;34m.\u001b[0m\u001b[0munique\u001b[0m\u001b[0;34m(\u001b[0m\u001b[0;34m)\u001b[0m\u001b[0;34m)\u001b[0m \u001b[0;34m&\u001b[0m \u001b[0mLAD_biz\u001b[0m\u001b[0;34m[\u001b[0m\u001b[0;34m'street_name2'\u001b[0m\u001b[0;34m]\u001b[0m\u001b[0;34m.\u001b[0m\u001b[0mnotna\u001b[0m\u001b[0;34m(\u001b[0m\u001b[0;34m)\u001b[0m \u001b[0;34m]\u001b[0m\u001b[0;34m\u001b[0m\u001b[0;34m\u001b[0m\u001b[0m\n\u001b[1;32m     33\u001b[0m \u001b[0;34m\u001b[0m\u001b[0m\n\u001b[0;32m---> 34\u001b[0;31m     \u001b[0mall_street_addresses\u001b[0m \u001b[0;34m=\u001b[0m \u001b[0mcreate_all_street_addresses\u001b[0m\u001b[0;34m(\u001b[0m\u001b[0mLAD_biz\u001b[0m\u001b[0;34m,\u001b[0m \u001b[0mtarget_lad\u001b[0m\u001b[0;34m)\u001b[0m\u001b[0;34m\u001b[0m\u001b[0;34m\u001b[0m\u001b[0m\n\u001b[0m\u001b[1;32m     35\u001b[0m \u001b[0;34m\u001b[0m\u001b[0m\n\u001b[1;32m     36\u001b[0m     \u001b[0;31m#temp = street_name.isin(all_street_addresses['street_name2']) & street_number.isin(all_street_addresses['street_number'])\u001b[0m\u001b[0;34m\u001b[0m\u001b[0;34m\u001b[0m\u001b[0;34m\u001b[0m\u001b[0m\n",
      "\u001b[0;32m<ipython-input-57-b776ed99d0a9>\u001b[0m in \u001b[0;36mcreate_all_street_addresses\u001b[0;34m(voa_businesses, target_lad)\u001b[0m\n\u001b[1;32m     47\u001b[0m     \u001b[0mtemp_multi\u001b[0m \u001b[0;34m=\u001b[0m \u001b[0mtemp\u001b[0m\u001b[0;34m.\u001b[0m\u001b[0mloc\u001b[0m\u001b[0;34m[\u001b[0m\u001b[0mtemp\u001b[0m\u001b[0;34m[\u001b[0m\u001b[0;34m'is_multi'\u001b[0m\u001b[0;34m]\u001b[0m\u001b[0;34m==\u001b[0m\u001b[0;32mTrue\u001b[0m\u001b[0;34m]\u001b[0m\u001b[0;31m#, ['street_number', 'is_multi']]\u001b[0m\u001b[0;34m\u001b[0m\u001b[0;34m\u001b[0m\u001b[0m\n\u001b[1;32m     48\u001b[0m \u001b[0;34m\u001b[0m\u001b[0m\n\u001b[0;32m---> 49\u001b[0;31m     \u001b[0mtemp_multi\u001b[0m\u001b[0;34m[\u001b[0m\u001b[0;34m'number_filter'\u001b[0m\u001b[0;34m]\u001b[0m \u001b[0;34m=\u001b[0m \u001b[0;34m[\u001b[0m\u001b[0mfind_filter_type\u001b[0m\u001b[0;34m(\u001b[0m\u001b[0mx\u001b[0m\u001b[0;34m)\u001b[0m \u001b[0;32mfor\u001b[0m \u001b[0mx\u001b[0m \u001b[0;32min\u001b[0m \u001b[0mtemp_multi\u001b[0m\u001b[0;34m[\u001b[0m\u001b[0;34m'street_number'\u001b[0m\u001b[0;34m]\u001b[0m\u001b[0;34m]\u001b[0m\u001b[0;34m\u001b[0m\u001b[0;34m\u001b[0m\u001b[0m\n\u001b[0m\u001b[1;32m     50\u001b[0m \u001b[0;34m\u001b[0m\u001b[0m\n\u001b[1;32m     51\u001b[0m     \u001b[0;31m#occasionally one of the dataframes is empty, this causes a error with the concatenation\u001b[0m\u001b[0;34m\u001b[0m\u001b[0;34m\u001b[0m\u001b[0;34m\u001b[0m\u001b[0m\n",
      "\u001b[0;32m<ipython-input-57-b776ed99d0a9>\u001b[0m in \u001b[0;36m<listcomp>\u001b[0;34m(.0)\u001b[0m\n\u001b[1;32m     47\u001b[0m     \u001b[0mtemp_multi\u001b[0m \u001b[0;34m=\u001b[0m \u001b[0mtemp\u001b[0m\u001b[0;34m.\u001b[0m\u001b[0mloc\u001b[0m\u001b[0;34m[\u001b[0m\u001b[0mtemp\u001b[0m\u001b[0;34m[\u001b[0m\u001b[0;34m'is_multi'\u001b[0m\u001b[0;34m]\u001b[0m\u001b[0;34m==\u001b[0m\u001b[0;32mTrue\u001b[0m\u001b[0;34m]\u001b[0m\u001b[0;31m#, ['street_number', 'is_multi']]\u001b[0m\u001b[0;34m\u001b[0m\u001b[0;34m\u001b[0m\u001b[0m\n\u001b[1;32m     48\u001b[0m \u001b[0;34m\u001b[0m\u001b[0m\n\u001b[0;32m---> 49\u001b[0;31m     \u001b[0mtemp_multi\u001b[0m\u001b[0;34m[\u001b[0m\u001b[0;34m'number_filter'\u001b[0m\u001b[0;34m]\u001b[0m \u001b[0;34m=\u001b[0m \u001b[0;34m[\u001b[0m\u001b[0mfind_filter_type\u001b[0m\u001b[0;34m(\u001b[0m\u001b[0mx\u001b[0m\u001b[0;34m)\u001b[0m \u001b[0;32mfor\u001b[0m \u001b[0mx\u001b[0m \u001b[0;32min\u001b[0m \u001b[0mtemp_multi\u001b[0m\u001b[0;34m[\u001b[0m\u001b[0;34m'street_number'\u001b[0m\u001b[0;34m]\u001b[0m\u001b[0;34m]\u001b[0m\u001b[0;34m\u001b[0m\u001b[0;34m\u001b[0m\u001b[0m\n\u001b[0m\u001b[1;32m     50\u001b[0m \u001b[0;34m\u001b[0m\u001b[0m\n\u001b[1;32m     51\u001b[0m     \u001b[0;31m#occasionally one of the dataframes is empty, this causes a error with the concatenation\u001b[0m\u001b[0;34m\u001b[0m\u001b[0;34m\u001b[0m\u001b[0;34m\u001b[0m\u001b[0m\n",
      "\u001b[0;32m<ipython-input-57-b776ed99d0a9>\u001b[0m in \u001b[0;36mfind_filter_type\u001b[0;34m(street_num)\u001b[0m\n\u001b[1;32m      1\u001b[0m \u001b[0;32mdef\u001b[0m \u001b[0mfind_filter_type\u001b[0m\u001b[0;34m(\u001b[0m\u001b[0mstreet_num\u001b[0m\u001b[0;34m)\u001b[0m\u001b[0;34m:\u001b[0m\u001b[0;34m\u001b[0m\u001b[0;34m\u001b[0m\u001b[0m\n\u001b[1;32m      2\u001b[0m  \u001b[0;31m#gets the highest street number and uses it to work out if the property is on the odd or even side of the street, or if that rule is ignore and it is all numbers\u001b[0m\u001b[0;34m\u001b[0m\u001b[0;34m\u001b[0m\u001b[0;34m\u001b[0m\u001b[0m\n\u001b[0;32m----> 3\u001b[0;31m     \u001b[0mvalues\u001b[0m \u001b[0;34m=\u001b[0m \u001b[0;34m[\u001b[0m\u001b[0mint\u001b[0m\u001b[0;34m(\u001b[0m\u001b[0mx\u001b[0m\u001b[0;34m)\u001b[0m \u001b[0;32mfor\u001b[0m \u001b[0mx\u001b[0m \u001b[0;32min\u001b[0m \u001b[0mstreet_num\u001b[0m\u001b[0;34m.\u001b[0m\u001b[0msplit\u001b[0m\u001b[0;34m(\u001b[0m\u001b[0;34m\"-\"\u001b[0m\u001b[0;34m)\u001b[0m\u001b[0;34m]\u001b[0m\u001b[0;34m\u001b[0m\u001b[0;34m\u001b[0m\u001b[0m\n\u001b[0m\u001b[1;32m      4\u001b[0m     \u001b[0;32mif\u001b[0m \u001b[0;34m(\u001b[0m\u001b[0mmax\u001b[0m\u001b[0;34m(\u001b[0m\u001b[0mvalues\u001b[0m\u001b[0;34m)\u001b[0m\u001b[0;34m%\u001b[0m\u001b[0;36m2\u001b[0m\u001b[0;34m==\u001b[0m\u001b[0;36m0\u001b[0m\u001b[0;34m)\u001b[0m \u001b[0;34m&\u001b[0m \u001b[0;34m(\u001b[0m\u001b[0mmin\u001b[0m\u001b[0;34m(\u001b[0m\u001b[0mvalues\u001b[0m\u001b[0;34m)\u001b[0m\u001b[0;34m%\u001b[0m\u001b[0;36m2\u001b[0m\u001b[0;34m==\u001b[0m\u001b[0;36m0\u001b[0m\u001b[0;34m)\u001b[0m\u001b[0;34m:\u001b[0m\u001b[0;34m\u001b[0m\u001b[0;34m\u001b[0m\u001b[0m\n\u001b[1;32m      5\u001b[0m         \u001b[0mout\u001b[0m \u001b[0;34m=\u001b[0m \u001b[0;34m\"even\"\u001b[0m\u001b[0;34m\u001b[0m\u001b[0;34m\u001b[0m\u001b[0m\n",
      "\u001b[0;32m<ipython-input-57-b776ed99d0a9>\u001b[0m in \u001b[0;36m<listcomp>\u001b[0;34m(.0)\u001b[0m\n\u001b[1;32m      1\u001b[0m \u001b[0;32mdef\u001b[0m \u001b[0mfind_filter_type\u001b[0m\u001b[0;34m(\u001b[0m\u001b[0mstreet_num\u001b[0m\u001b[0;34m)\u001b[0m\u001b[0;34m:\u001b[0m\u001b[0;34m\u001b[0m\u001b[0;34m\u001b[0m\u001b[0m\n\u001b[1;32m      2\u001b[0m  \u001b[0;31m#gets the highest street number and uses it to work out if the property is on the odd or even side of the street, or if that rule is ignore and it is all numbers\u001b[0m\u001b[0;34m\u001b[0m\u001b[0;34m\u001b[0m\u001b[0;34m\u001b[0m\u001b[0m\n\u001b[0;32m----> 3\u001b[0;31m     \u001b[0mvalues\u001b[0m \u001b[0;34m=\u001b[0m \u001b[0;34m[\u001b[0m\u001b[0mint\u001b[0m\u001b[0;34m(\u001b[0m\u001b[0mx\u001b[0m\u001b[0;34m)\u001b[0m \u001b[0;32mfor\u001b[0m \u001b[0mx\u001b[0m \u001b[0;32min\u001b[0m \u001b[0mstreet_num\u001b[0m\u001b[0;34m.\u001b[0m\u001b[0msplit\u001b[0m\u001b[0;34m(\u001b[0m\u001b[0;34m\"-\"\u001b[0m\u001b[0;34m)\u001b[0m\u001b[0;34m]\u001b[0m\u001b[0;34m\u001b[0m\u001b[0;34m\u001b[0m\u001b[0m\n\u001b[0m\u001b[1;32m      4\u001b[0m     \u001b[0;32mif\u001b[0m \u001b[0;34m(\u001b[0m\u001b[0mmax\u001b[0m\u001b[0;34m(\u001b[0m\u001b[0mvalues\u001b[0m\u001b[0;34m)\u001b[0m\u001b[0;34m%\u001b[0m\u001b[0;36m2\u001b[0m\u001b[0;34m==\u001b[0m\u001b[0;36m0\u001b[0m\u001b[0;34m)\u001b[0m \u001b[0;34m&\u001b[0m \u001b[0;34m(\u001b[0m\u001b[0mmin\u001b[0m\u001b[0;34m(\u001b[0m\u001b[0mvalues\u001b[0m\u001b[0;34m)\u001b[0m\u001b[0;34m%\u001b[0m\u001b[0;36m2\u001b[0m\u001b[0;34m==\u001b[0m\u001b[0;36m0\u001b[0m\u001b[0;34m)\u001b[0m\u001b[0;34m:\u001b[0m\u001b[0;34m\u001b[0m\u001b[0;34m\u001b[0m\u001b[0m\n\u001b[1;32m      5\u001b[0m         \u001b[0mout\u001b[0m \u001b[0;34m=\u001b[0m \u001b[0;34m\"even\"\u001b[0m\u001b[0;34m\u001b[0m\u001b[0;34m\u001b[0m\u001b[0m\n",
      "\u001b[0;31mValueError\u001b[0m: invalid literal for int() with base 10: '231\\\\'"
     ]
    }
   ],
   "source": [
    "all_lads =ocod_data.lad11cd.unique()\n",
    "#all_lads = all_lads[all_lads != 'E06000031']\n",
    "#all_lads = all_lads[all_lads != 'E08000017']\n",
    "\n",
    "all_lads = [x for x in all_lads if str(x) != 'nan']\n",
    "#see which roads match a road in voa data set for each local authority\n",
    "\n",
    "matched_lads_list = []\n",
    "\n",
    "for target_lad in all_lads:\n",
    "    print(target_lad)\n",
    "    temp = ocod_data[(ocod_data['lad11cd']==target_lad)].copy(deep = True)\n",
    "    street_match, number_match = business_address_matcher(temp['street_name'], temp['street_number'], voa_businesses, target_lad)\n",
    "    temp['street_match'] = street_match\n",
    "    temp['number_match'] = number_match\n",
    "    temp['matches_business_address'] = temp['street_match'] & temp['number_match']\n",
    "    #temp['matches_business_address'] = business_address_matcher(temp['street_name'], temp['street_number'], voa_businesses, target_lad)\n",
    "    matched_lads_list = matched_lads_list + [temp]\n"
   ]
  },
  {
   "cell_type": "code",
   "execution_count": 122,
   "id": "b7501492",
   "metadata": {},
   "outputs": [
    {
     "name": "stdout",
     "output_type": "stream",
     "text": [
      "E06000031\n"
     ]
    },
    {
     "name": "stderr",
     "output_type": "stream",
     "text": [
      "<ipython-input-121-34e70f3993c0>:28: UserWarning: This pattern is interpreted as a regular expression, and has match groups. To actually get the groups, use str.extract.\n",
      "  temp.loc[temp['street_number'].str.contains(r\"(unit|suite)\", regex = True, case = False)==True, 'street_number'] = np.nan\n",
      "<ipython-input-121-34e70f3993c0>:49: SettingWithCopyWarning: \n",
      "A value is trying to be set on a copy of a slice from a DataFrame.\n",
      "Try using .loc[row_indexer,col_indexer] = value instead\n",
      "\n",
      "See the caveats in the documentation: https://pandas.pydata.org/pandas-docs/stable/user_guide/indexing.html#returning-a-view-versus-a-copy\n",
      "  temp_multi['number_filter'] = [find_filter_type(x) for x in temp_multi['street_number']]\n",
      "<ipython-input-116-eae929fc6da1>:57: SettingWithCopyWarning: \n",
      "A value is trying to be set on a copy of a slice from a DataFrame.\n",
      "Try using .loc[row_indexer,col_indexer] = value instead\n",
      "\n",
      "See the caveats in the documentation: https://pandas.pydata.org/pandas-docs/stable/user_guide/indexing.html#returning-a-view-versus-a-copy\n",
      "  temp_ocod.loc[:,'address_match'] = False\n"
     ]
    },
    {
     "name": "stdout",
     "output_type": "stream",
     "text": [
      "i= 0  expand time,0.0 filter time0.0 make_dataframe_time 0.001\n"
     ]
    },
    {
     "name": "stderr",
     "output_type": "stream",
     "text": [
      "<ipython-input-116-eae929fc6da1>:55: SettingWithCopyWarning: \n",
      "A value is trying to be set on a copy of a slice from a DataFrame.\n",
      "Try using .loc[row_indexer,col_indexer] = value instead\n",
      "\n",
      "See the caveats in the documentation: https://pandas.pydata.org/pandas-docs/stable/user_guide/indexing.html#returning-a-view-versus-a-copy\n",
      "  temp_ocod.loc[:,'address_match'] =  temp_ocod['street_number'].isin(temp_address['street_number'])\n"
     ]
    },
    {
     "name": "stdout",
     "output_type": "stream",
     "text": [
      "E07000032\n"
     ]
    },
    {
     "name": "stderr",
     "output_type": "stream",
     "text": [
      "<ipython-input-121-34e70f3993c0>:28: UserWarning: This pattern is interpreted as a regular expression, and has match groups. To actually get the groups, use str.extract.\n",
      "  temp.loc[temp['street_number'].str.contains(r\"(unit|suite)\", regex = True, case = False)==True, 'street_number'] = np.nan\n",
      "<ipython-input-121-34e70f3993c0>:49: SettingWithCopyWarning: \n",
      "A value is trying to be set on a copy of a slice from a DataFrame.\n",
      "Try using .loc[row_indexer,col_indexer] = value instead\n",
      "\n",
      "See the caveats in the documentation: https://pandas.pydata.org/pandas-docs/stable/user_guide/indexing.html#returning-a-view-versus-a-copy\n",
      "  temp_multi['number_filter'] = [find_filter_type(x) for x in temp_multi['street_number']]\n",
      "<ipython-input-116-eae929fc6da1>:57: SettingWithCopyWarning: \n",
      "A value is trying to be set on a copy of a slice from a DataFrame.\n",
      "Try using .loc[row_indexer,col_indexer] = value instead\n",
      "\n",
      "See the caveats in the documentation: https://pandas.pydata.org/pandas-docs/stable/user_guide/indexing.html#returning-a-view-versus-a-copy\n",
      "  temp_ocod.loc[:,'address_match'] = False\n"
     ]
    },
    {
     "name": "stdout",
     "output_type": "stream",
     "text": [
      "i= 0  expand time,0.0 filter time0.0 make_dataframe_time 0.001\n",
      "E08000019\n"
     ]
    },
    {
     "name": "stderr",
     "output_type": "stream",
     "text": [
      "<ipython-input-121-34e70f3993c0>:28: UserWarning: This pattern is interpreted as a regular expression, and has match groups. To actually get the groups, use str.extract.\n",
      "  temp.loc[temp['street_number'].str.contains(r\"(unit|suite)\", regex = True, case = False)==True, 'street_number'] = np.nan\n",
      "<ipython-input-121-34e70f3993c0>:49: SettingWithCopyWarning: \n",
      "A value is trying to be set on a copy of a slice from a DataFrame.\n",
      "Try using .loc[row_indexer,col_indexer] = value instead\n",
      "\n",
      "See the caveats in the documentation: https://pandas.pydata.org/pandas-docs/stable/user_guide/indexing.html#returning-a-view-versus-a-copy\n",
      "  temp_multi['number_filter'] = [find_filter_type(x) for x in temp_multi['street_number']]\n",
      "<ipython-input-116-eae929fc6da1>:57: SettingWithCopyWarning: \n",
      "A value is trying to be set on a copy of a slice from a DataFrame.\n",
      "Try using .loc[row_indexer,col_indexer] = value instead\n",
      "\n",
      "See the caveats in the documentation: https://pandas.pydata.org/pandas-docs/stable/user_guide/indexing.html#returning-a-view-versus-a-copy\n",
      "  temp_ocod.loc[:,'address_match'] = False\n"
     ]
    },
    {
     "name": "stdout",
     "output_type": "stream",
     "text": [
      "i= 0  expand time,0.0 filter time0.0 make_dataframe_time 0.001\n"
     ]
    },
    {
     "name": "stderr",
     "output_type": "stream",
     "text": [
      "<ipython-input-116-eae929fc6da1>:55: SettingWithCopyWarning: \n",
      "A value is trying to be set on a copy of a slice from a DataFrame.\n",
      "Try using .loc[row_indexer,col_indexer] = value instead\n",
      "\n",
      "See the caveats in the documentation: https://pandas.pydata.org/pandas-docs/stable/user_guide/indexing.html#returning-a-view-versus-a-copy\n",
      "  temp_ocod.loc[:,'address_match'] =  temp_ocod['street_number'].isin(temp_address['street_number'])\n"
     ]
    },
    {
     "name": "stdout",
     "output_type": "stream",
     "text": [
      "E08000017\n"
     ]
    },
    {
     "name": "stderr",
     "output_type": "stream",
     "text": [
      "<ipython-input-121-34e70f3993c0>:28: UserWarning: This pattern is interpreted as a regular expression, and has match groups. To actually get the groups, use str.extract.\n",
      "  temp.loc[temp['street_number'].str.contains(r\"(unit|suite)\", regex = True, case = False)==True, 'street_number'] = np.nan\n",
      "<ipython-input-121-34e70f3993c0>:49: SettingWithCopyWarning: \n",
      "A value is trying to be set on a copy of a slice from a DataFrame.\n",
      "Try using .loc[row_indexer,col_indexer] = value instead\n",
      "\n",
      "See the caveats in the documentation: https://pandas.pydata.org/pandas-docs/stable/user_guide/indexing.html#returning-a-view-versus-a-copy\n",
      "  temp_multi['number_filter'] = [find_filter_type(x) for x in temp_multi['street_number']]\n",
      "<ipython-input-116-eae929fc6da1>:57: SettingWithCopyWarning: \n",
      "A value is trying to be set on a copy of a slice from a DataFrame.\n",
      "Try using .loc[row_indexer,col_indexer] = value instead\n",
      "\n",
      "See the caveats in the documentation: https://pandas.pydata.org/pandas-docs/stable/user_guide/indexing.html#returning-a-view-versus-a-copy\n",
      "  temp_ocod.loc[:,'address_match'] = False\n"
     ]
    },
    {
     "name": "stdout",
     "output_type": "stream",
     "text": [
      "i= 0  expand time,0.0 filter time0.0 make_dataframe_time 0.002\n",
      "E09000028\n"
     ]
    },
    {
     "name": "stderr",
     "output_type": "stream",
     "text": [
      "<ipython-input-121-34e70f3993c0>:28: UserWarning: This pattern is interpreted as a regular expression, and has match groups. To actually get the groups, use str.extract.\n",
      "  temp.loc[temp['street_number'].str.contains(r\"(unit|suite)\", regex = True, case = False)==True, 'street_number'] = np.nan\n",
      "<ipython-input-121-34e70f3993c0>:49: SettingWithCopyWarning: \n",
      "A value is trying to be set on a copy of a slice from a DataFrame.\n",
      "Try using .loc[row_indexer,col_indexer] = value instead\n",
      "\n",
      "See the caveats in the documentation: https://pandas.pydata.org/pandas-docs/stable/user_guide/indexing.html#returning-a-view-versus-a-copy\n",
      "  temp_multi['number_filter'] = [find_filter_type(x) for x in temp_multi['street_number']]\n",
      "<ipython-input-116-eae929fc6da1>:57: SettingWithCopyWarning: \n",
      "A value is trying to be set on a copy of a slice from a DataFrame.\n",
      "Try using .loc[row_indexer,col_indexer] = value instead\n",
      "\n",
      "See the caveats in the documentation: https://pandas.pydata.org/pandas-docs/stable/user_guide/indexing.html#returning-a-view-versus-a-copy\n",
      "  temp_ocod.loc[:,'address_match'] = False\n"
     ]
    },
    {
     "name": "stdout",
     "output_type": "stream",
     "text": [
      "i= 0  expand time,0.0 filter time0.0 make_dataframe_time 0.001\n"
     ]
    },
    {
     "name": "stderr",
     "output_type": "stream",
     "text": [
      "<ipython-input-116-eae929fc6da1>:55: SettingWithCopyWarning: \n",
      "A value is trying to be set on a copy of a slice from a DataFrame.\n",
      "Try using .loc[row_indexer,col_indexer] = value instead\n",
      "\n",
      "See the caveats in the documentation: https://pandas.pydata.org/pandas-docs/stable/user_guide/indexing.html#returning-a-view-versus-a-copy\n",
      "  temp_ocod.loc[:,'address_match'] =  temp_ocod['street_number'].isin(temp_address['street_number'])\n"
     ]
    },
    {
     "name": "stdout",
     "output_type": "stream",
     "text": [
      "E09000020\n"
     ]
    },
    {
     "name": "stderr",
     "output_type": "stream",
     "text": [
      "<ipython-input-121-34e70f3993c0>:28: UserWarning: This pattern is interpreted as a regular expression, and has match groups. To actually get the groups, use str.extract.\n",
      "  temp.loc[temp['street_number'].str.contains(r\"(unit|suite)\", regex = True, case = False)==True, 'street_number'] = np.nan\n"
     ]
    },
    {
     "ename": "ValueError",
     "evalue": "No objects to concatenate",
     "output_type": "error",
     "traceback": [
      "\u001b[0;31m---------------------------------------------------------------------------\u001b[0m",
      "\u001b[0;31mValueError\u001b[0m                                Traceback (most recent call last)",
      "\u001b[0;32m<ipython-input-122-a6fe256b4b17>\u001b[0m in \u001b[0;36m<module>\u001b[0;34m\u001b[0m\n\u001b[1;32m      8\u001b[0m     \u001b[0mprint\u001b[0m\u001b[0;34m(\u001b[0m\u001b[0mtarget_lad\u001b[0m\u001b[0;34m)\u001b[0m\u001b[0;34m\u001b[0m\u001b[0;34m\u001b[0m\u001b[0m\n\u001b[1;32m      9\u001b[0m     \u001b[0;31m#temp['matches_business_address'] = business_address_matcher(temp['street_name'], temp['street_number'], voa_businesses, target_lad)\u001b[0m\u001b[0;34m\u001b[0m\u001b[0;34m\u001b[0m\u001b[0;34m\u001b[0m\u001b[0m\n\u001b[0;32m---> 10\u001b[0;31m     \u001b[0mmatched_lads_list\u001b[0m \u001b[0;34m=\u001b[0m \u001b[0mmatched_lads_list\u001b[0m \u001b[0;34m+\u001b[0m \u001b[0;34m[\u001b[0m\u001b[0mmassaged_address_match\u001b[0m\u001b[0;34m(\u001b[0m\u001b[0mocod_data\u001b[0m\u001b[0;34m,\u001b[0m \u001b[0mvoa_businesses\u001b[0m\u001b[0;34m,\u001b[0m \u001b[0mtarget_lad\u001b[0m\u001b[0;34m)\u001b[0m\u001b[0;34m]\u001b[0m\u001b[0;34m\u001b[0m\u001b[0;34m\u001b[0m\u001b[0m\n\u001b[0m\u001b[1;32m     11\u001b[0m \u001b[0;34m\u001b[0m\u001b[0m\n\u001b[1;32m     12\u001b[0m     \u001b[0;31m#matched_lads_list = [massaged_address_match(ocod_data, voa_businesses, target_lad) for target_lad in all_lads]\u001b[0m\u001b[0;34m\u001b[0m\u001b[0;34m\u001b[0m\u001b[0;34m\u001b[0m\u001b[0m\n",
      "\u001b[0;32m<ipython-input-116-eae929fc6da1>\u001b[0m in \u001b[0;36mmassaged_address_match\u001b[0;34m(ocod_data, voa_data, target_lad)\u001b[0m\n\u001b[1;32m     36\u001b[0m     \u001b[0mLAD_biz\u001b[0m \u001b[0;34m=\u001b[0m \u001b[0mLAD_biz\u001b[0m\u001b[0;34m[\u001b[0m\u001b[0mLAD_biz\u001b[0m\u001b[0;34m[\u001b[0m\u001b[0;34m'street_name2'\u001b[0m\u001b[0;34m]\u001b[0m\u001b[0;34m.\u001b[0m\u001b[0misin\u001b[0m\u001b[0;34m(\u001b[0m\u001b[0mstreet_name2\u001b[0m\u001b[0;34m.\u001b[0m\u001b[0munique\u001b[0m\u001b[0;34m(\u001b[0m\u001b[0;34m)\u001b[0m\u001b[0;34m)\u001b[0m \u001b[0;34m&\u001b[0m \u001b[0mLAD_biz\u001b[0m\u001b[0;34m[\u001b[0m\u001b[0;34m'street_name2'\u001b[0m\u001b[0;34m]\u001b[0m\u001b[0;34m.\u001b[0m\u001b[0mnotna\u001b[0m\u001b[0;34m(\u001b[0m\u001b[0;34m)\u001b[0m \u001b[0;34m]\u001b[0m\u001b[0;34m\u001b[0m\u001b[0;34m\u001b[0m\u001b[0m\n\u001b[1;32m     37\u001b[0m     \u001b[0;31m#create the database table\u001b[0m\u001b[0;34m\u001b[0m\u001b[0;34m\u001b[0m\u001b[0;34m\u001b[0m\u001b[0m\n\u001b[0;32m---> 38\u001b[0;31m     \u001b[0mall_street_addresses\u001b[0m \u001b[0;34m=\u001b[0m \u001b[0mcreate_all_street_addresses\u001b[0m\u001b[0;34m(\u001b[0m\u001b[0mLAD_biz\u001b[0m\u001b[0;34m,\u001b[0m \u001b[0mtarget_lad\u001b[0m\u001b[0;34m)\u001b[0m\u001b[0;34m\u001b[0m\u001b[0;34m\u001b[0m\u001b[0m\n\u001b[0m\u001b[1;32m     39\u001b[0m \u001b[0;34m\u001b[0m\u001b[0m\n\u001b[1;32m     40\u001b[0m     \u001b[0;31m#pre-make the new column and assign nan to all values. THis might make things a bit faster\u001b[0m\u001b[0;34m\u001b[0m\u001b[0;34m\u001b[0m\u001b[0;34m\u001b[0m\u001b[0m\n",
      "\u001b[0;32m<ipython-input-121-34e70f3993c0>\u001b[0m in \u001b[0;36mcreate_all_street_addresses\u001b[0;34m(voa_businesses, target_lad)\u001b[0m\n\u001b[1;32m     63\u001b[0m     \u001b[0;32melse\u001b[0m\u001b[0;34m:\u001b[0m\u001b[0;34m\u001b[0m\u001b[0;34m\u001b[0m\u001b[0m\n\u001b[1;32m     64\u001b[0m         \u001b[0;31m#expand the dataframe according to the correct rules\u001b[0m\u001b[0;34m\u001b[0m\u001b[0;34m\u001b[0m\u001b[0;34m\u001b[0m\u001b[0m\n\u001b[0;32m---> 65\u001b[0;31m         \u001b[0mtemp_multi\u001b[0m \u001b[0;34m=\u001b[0m \u001b[0mexpand_dataframe_numbers\u001b[0m\u001b[0;34m(\u001b[0m\u001b[0mtemp_multi\u001b[0m\u001b[0;34m.\u001b[0m\u001b[0mreset_index\u001b[0m\u001b[0;34m(\u001b[0m\u001b[0;34m)\u001b[0m\u001b[0;34m,\u001b[0m \u001b[0;34m'street_number'\u001b[0m\u001b[0;34m,\u001b[0m \u001b[0mprint_every\u001b[0m \u001b[0;34m=\u001b[0m \u001b[0;36m10000\u001b[0m\u001b[0;34m,\u001b[0m \u001b[0mmin_count\u001b[0m \u001b[0;34m=\u001b[0m \u001b[0;36m1\u001b[0m\u001b[0;34m)\u001b[0m\u001b[0;34m\u001b[0m\u001b[0;34m\u001b[0m\u001b[0m\n\u001b[0m\u001b[1;32m     66\u001b[0m         \u001b[0mstreet_address_lookup\u001b[0m \u001b[0;34m=\u001b[0m \u001b[0mtemp_multi\u001b[0m\u001b[0;34m\u001b[0m\u001b[0;34m\u001b[0m\u001b[0m\n\u001b[1;32m     67\u001b[0m \u001b[0;34m\u001b[0m\u001b[0m\n",
      "\u001b[0;32m/tf/empty_homes_london/helper_functions.py\u001b[0m in \u001b[0;36mexpand_dataframe_numbers\u001b[0;34m(df2, column_name, print_every, min_count)\u001b[0m\n\u001b[1;32m    118\u001b[0m     \u001b[0;31m#once all the lines have been expanded concatenate them into a single dataframe\u001b[0m\u001b[0;34m\u001b[0m\u001b[0;34m\u001b[0m\u001b[0;34m\u001b[0m\u001b[0m\n\u001b[1;32m    119\u001b[0m     \u001b[0mstart_concat_time\u001b[0m \u001b[0;34m=\u001b[0m \u001b[0mtime\u001b[0m\u001b[0;34m.\u001b[0m\u001b[0mtime\u001b[0m\u001b[0;34m(\u001b[0m\u001b[0;34m)\u001b[0m\u001b[0;34m\u001b[0m\u001b[0;34m\u001b[0m\u001b[0m\n\u001b[0;32m--> 120\u001b[0;31m     \u001b[0mout\u001b[0m \u001b[0;34m=\u001b[0m \u001b[0mpd\u001b[0m\u001b[0;34m.\u001b[0m\u001b[0mconcat\u001b[0m\u001b[0;34m(\u001b[0m\u001b[0mtemp_list\u001b[0m\u001b[0;34m)\u001b[0m\u001b[0;34m\u001b[0m\u001b[0;34m\u001b[0m\u001b[0m\n\u001b[0m\u001b[1;32m    121\u001b[0m     \u001b[0mend_concat_time\u001b[0m \u001b[0;34m=\u001b[0m \u001b[0mtime\u001b[0m\u001b[0;34m.\u001b[0m\u001b[0mtime\u001b[0m\u001b[0;34m\u001b[0m\u001b[0;34m\u001b[0m\u001b[0m\n\u001b[1;32m    122\u001b[0m \u001b[0;34m\u001b[0m\u001b[0m\n",
      "\u001b[0;32m/usr/local/lib/python3.8/dist-packages/pandas/util/_decorators.py\u001b[0m in \u001b[0;36mwrapper\u001b[0;34m(*args, **kwargs)\u001b[0m\n\u001b[1;32m    309\u001b[0m                     \u001b[0mstacklevel\u001b[0m\u001b[0;34m=\u001b[0m\u001b[0mstacklevel\u001b[0m\u001b[0;34m,\u001b[0m\u001b[0;34m\u001b[0m\u001b[0;34m\u001b[0m\u001b[0m\n\u001b[1;32m    310\u001b[0m                 )\n\u001b[0;32m--> 311\u001b[0;31m             \u001b[0;32mreturn\u001b[0m \u001b[0mfunc\u001b[0m\u001b[0;34m(\u001b[0m\u001b[0;34m*\u001b[0m\u001b[0margs\u001b[0m\u001b[0;34m,\u001b[0m \u001b[0;34m**\u001b[0m\u001b[0mkwargs\u001b[0m\u001b[0;34m)\u001b[0m\u001b[0;34m\u001b[0m\u001b[0;34m\u001b[0m\u001b[0m\n\u001b[0m\u001b[1;32m    312\u001b[0m \u001b[0;34m\u001b[0m\u001b[0m\n\u001b[1;32m    313\u001b[0m         \u001b[0;32mreturn\u001b[0m \u001b[0mwrapper\u001b[0m\u001b[0;34m\u001b[0m\u001b[0;34m\u001b[0m\u001b[0m\n",
      "\u001b[0;32m/usr/local/lib/python3.8/dist-packages/pandas/core/reshape/concat.py\u001b[0m in \u001b[0;36mconcat\u001b[0;34m(objs, axis, join, ignore_index, keys, levels, names, verify_integrity, sort, copy)\u001b[0m\n\u001b[1;32m    344\u001b[0m     \u001b[0mValueError\u001b[0m\u001b[0;34m:\u001b[0m \u001b[0mIndexes\u001b[0m \u001b[0mhave\u001b[0m \u001b[0moverlapping\u001b[0m \u001b[0mvalues\u001b[0m\u001b[0;34m:\u001b[0m \u001b[0;34m[\u001b[0m\u001b[0;34m'a'\u001b[0m\u001b[0;34m]\u001b[0m\u001b[0;34m\u001b[0m\u001b[0;34m\u001b[0m\u001b[0m\n\u001b[1;32m    345\u001b[0m     \"\"\"\n\u001b[0;32m--> 346\u001b[0;31m     op = _Concatenator(\n\u001b[0m\u001b[1;32m    347\u001b[0m         \u001b[0mobjs\u001b[0m\u001b[0;34m,\u001b[0m\u001b[0;34m\u001b[0m\u001b[0;34m\u001b[0m\u001b[0m\n\u001b[1;32m    348\u001b[0m         \u001b[0maxis\u001b[0m\u001b[0;34m=\u001b[0m\u001b[0maxis\u001b[0m\u001b[0;34m,\u001b[0m\u001b[0;34m\u001b[0m\u001b[0;34m\u001b[0m\u001b[0m\n",
      "\u001b[0;32m/usr/local/lib/python3.8/dist-packages/pandas/core/reshape/concat.py\u001b[0m in \u001b[0;36m__init__\u001b[0;34m(self, objs, axis, join, keys, levels, names, ignore_index, verify_integrity, copy, sort)\u001b[0m\n\u001b[1;32m    401\u001b[0m \u001b[0;34m\u001b[0m\u001b[0m\n\u001b[1;32m    402\u001b[0m         \u001b[0;32mif\u001b[0m \u001b[0mlen\u001b[0m\u001b[0;34m(\u001b[0m\u001b[0mobjs\u001b[0m\u001b[0;34m)\u001b[0m \u001b[0;34m==\u001b[0m \u001b[0;36m0\u001b[0m\u001b[0;34m:\u001b[0m\u001b[0;34m\u001b[0m\u001b[0;34m\u001b[0m\u001b[0m\n\u001b[0;32m--> 403\u001b[0;31m             \u001b[0;32mraise\u001b[0m \u001b[0mValueError\u001b[0m\u001b[0;34m(\u001b[0m\u001b[0;34m\"No objects to concatenate\"\u001b[0m\u001b[0;34m)\u001b[0m\u001b[0;34m\u001b[0m\u001b[0;34m\u001b[0m\u001b[0m\n\u001b[0m\u001b[1;32m    404\u001b[0m \u001b[0;34m\u001b[0m\u001b[0m\n\u001b[1;32m    405\u001b[0m         \u001b[0;32mif\u001b[0m \u001b[0mkeys\u001b[0m \u001b[0;32mis\u001b[0m \u001b[0;32mNone\u001b[0m\u001b[0;34m:\u001b[0m\u001b[0;34m\u001b[0m\u001b[0;34m\u001b[0m\u001b[0m\n",
      "\u001b[0;31mValueError\u001b[0m: No objects to concatenate"
     ]
    }
   ],
   "source": [
    "all_lads =ocod_data.lad11cd.unique()\n",
    "#all_lads = all_lads[all_lads != 'E06000031']\n",
    "#all_lads = all_lads[all_lads != 'E08000017']\n",
    "\n",
    "all_lads = [x for x in all_lads if str(x) != 'nan']\n",
    "#see which roads match a road in voa data set for each local authority\n",
    "for target_lad in all_lads:\n",
    "    print(target_lad)\n",
    "    #temp['matches_business_address'] = business_address_matcher(temp['street_name'], temp['street_number'], voa_businesses, target_lad)\n",
    "    matched_lads_list = matched_lads_list + [massaged_address_match(ocod_data, voa_businesses, target_lad)]\n",
    "\n",
    "    #matched_lads_list = [massaged_address_match(ocod_data, voa_businesses, target_lad) for target_lad in all_lads]\n"
   ]
  },
  {
   "cell_type": "code",
   "execution_count": 114,
   "id": "42806c12",
   "metadata": {},
   "outputs": [
    {
     "data": {
      "text/plain": [
       "192"
      ]
     },
     "execution_count": 114,
     "metadata": {},
     "output_type": "execute_result"
    }
   ],
   "source": [
    "test  = pd.concat(matched_lads_list)\n",
    "test['street_match'].sum()"
   ]
  },
  {
   "cell_type": "markdown",
   "id": "efd17f75",
   "metadata": {},
   "source": [
    "# Classify property type"
   ]
  },
  {
   "cell_type": "code",
   "execution_count": 138,
   "id": "e4143c2e",
   "metadata": {},
   "outputs": [
    {
     "name": "stderr",
     "output_type": "stream",
     "text": [
      "<ipython-input-138-65132bbc5ece>:3: UserWarning: This pattern is interpreted as a regular expression, and has match groups. To actually get the groups, use str.extract.\n",
      "  ocod_data['property_address'].str.contains(r\"^(land|plot)\", case = False),\n",
      "<ipython-input-138-65132bbc5ece>:4: UserWarning: This pattern is interpreted as a regular expression, and has match groups. To actually get the groups, use str.extract.\n",
      "  ocod_data['property_address'].str.contains(r\"^((garage)|(parking(\\s)?space)|(parking space)|(car park(ing)?(\\sspace)))\", case = False),\n",
      "<ipython-input-138-65132bbc5ece>:5: UserWarning: This pattern is interpreted as a regular expression, and has match groups. To actually get the groups, use str.extract.\n",
      "  ocod_data['property_address'].str.contains(r\"^((the airspace)|(airspace))\", case = False),\n",
      "<ipython-input-138-65132bbc5ece>:6: UserWarning: This pattern is interpreted as a regular expression, and has match groups. To actually get the groups, use str.extract.\n",
      "  ocod_data['property_address'].str.contains(r\"(penthouse|flat|apartment)\", case = False),\n",
      "<ipython-input-138-65132bbc5ece>:7: UserWarning: This pattern is interpreted as a regular expression, and has match groups. To actually get the groups, use str.extract.\n",
      "  ocod_data['property_address'].str.contains(r\"(cinema)|(hotel)|(office)|centre|(\\bpub)|(business)|(cafe)|(^shop)|( shop)|(restaurant)|(home)|(\\bstore\\b)|(\\bstorage\\\\b)|(company)|(ltd)|(limited)|(plc)|(retail)|(leisure)|(industrial)|(hall of)\", case = False),\n"
     ]
    }
   ],
   "source": [
    "ocod_data['class'] = np.select(\n",
    "    [\n",
    "        ocod_data['property_address'].str.contains(r\"^(land|plot)\", case = False),\n",
    "        ocod_data['property_address'].str.contains(r\"^((garage)|(parking(\\s)?space)|(parking space)|(car park(ing)?(\\sspace)))\", case = False),\n",
    "        ocod_data['property_address'].str.contains(r\"^((the airspace)|(airspace))\", case = False),\n",
    "        ocod_data['property_address'].str.contains(r\"(penthouse|flat|apartment)\", case = False),\n",
    "        ocod_data['property_address'].str.contains(r\"(cinema)|(hotel)|(office)|centre|(\\bpub)|(business)|(cafe)|(^shop)|( shop)|(restaurant)|(home)|(^store(s)?\\b)|(^storage\\\\b)|(company)|(ltd)|(limited)|(plc)|(retail)|(leisure)|(industrial)|(hall of)\", case = False), \n",
    "        (ocod_data['business_counts']==0 )& ocod_data.postcode.notnull()\n",
    "    ], \n",
    "    [\n",
    "        'land',\n",
    "        'carpark',\n",
    "        'airspace',\n",
    "        'domestic',\n",
    "        'business',\n",
    "        'domestic'\n",
    "    ], \n",
    "    default='unknown'\n",
    ")"
   ]
  },
  {
   "cell_type": "code",
   "execution_count": 144,
   "id": "4ea7f557",
   "metadata": {},
   "outputs": [
    {
     "data": {
      "text/plain": [
       "class\n",
       "airspace      1671\n",
       "business      5568\n",
       "carpark       2086\n",
       "domestic    103978\n",
       "land         16501\n",
       "unknown      32320\n",
       "dtype: int64"
      ]
     },
     "execution_count": 144,
     "metadata": {},
     "output_type": "execute_result"
    }
   ],
   "source": [
    "#if we can be relatively sure that all the nested properties are domestic then the amount of unclassified \n",
    "#properties drops to 2%\n",
    "#What would allow us to be sure?\n",
    "ocod_data.groupby('class').size()"
   ]
  },
  {
   "cell_type": "code",
   "execution_count": 10,
   "id": "5d35735e",
   "metadata": {},
   "outputs": [
    {
     "data": {
      "text/plain": [
       "class\n",
       "airspace     1671\n",
       "business    15167\n",
       "carpark      2078\n",
       "domestic    89600\n",
       "land        16501\n",
       "unknown     32343\n",
       "dtype: int64"
      ]
     },
     "execution_count": 10,
     "metadata": {},
     "output_type": "execute_result"
    }
   ],
   "source": [
    "ocod_data.groupby('class').size()"
   ]
  },
  {
   "cell_type": "code",
   "execution_count": 11,
   "id": "a5c52cbf",
   "metadata": {},
   "outputs": [
    {
     "data": {
      "text/plain": [
       "class\n",
       "airspace    0.010619\n",
       "business    0.088453\n",
       "carpark     0.013205\n",
       "domestic    0.574549\n",
       "land        0.104861\n",
       "unknown     0.208312\n",
       "dtype: float64"
      ]
     },
     "execution_count": 11,
     "metadata": {},
     "output_type": "execute_result"
    }
   ],
   "source": [
    "ocod_data.groupby('class').size()/ocod_data.shape[0]"
   ]
  },
  {
   "cell_type": "code",
   "execution_count": 10,
   "id": "05816de5",
   "metadata": {},
   "outputs": [
    {
     "data": {
      "text/html": [
       "<div>\n",
       "<style scoped>\n",
       "    .dataframe tbody tr th:only-of-type {\n",
       "        vertical-align: middle;\n",
       "    }\n",
       "\n",
       "    .dataframe tbody tr th {\n",
       "        vertical-align: top;\n",
       "    }\n",
       "\n",
       "    .dataframe thead th {\n",
       "        text-align: right;\n",
       "    }\n",
       "</style>\n",
       "<table border=\"1\" class=\"dataframe\">\n",
       "  <thead>\n",
       "    <tr style=\"text-align: right;\">\n",
       "      <th>street_name</th>\n",
       "      <th>False</th>\n",
       "      <th>True</th>\n",
       "    </tr>\n",
       "    <tr>\n",
       "      <th>postcode</th>\n",
       "      <th></th>\n",
       "      <th></th>\n",
       "    </tr>\n",
       "  </thead>\n",
       "  <tbody>\n",
       "    <tr>\n",
       "      <th>False</th>\n",
       "      <td>3034</td>\n",
       "      <td>29309</td>\n",
       "    </tr>\n",
       "  </tbody>\n",
       "</table>\n",
       "</div>"
      ],
      "text/plain": [
       "street_name  False   True\n",
       "postcode                 \n",
       "False         3034  29309"
      ]
     },
     "execution_count": 10,
     "metadata": {},
     "output_type": "execute_result"
    }
   ],
   "source": [
    "#non of the unknowns have a postcode. I guess this is obvious as if there is no matching VOA postcode you are classed as domestic\n",
    "pd.crosstab(ocod_data[ocod_data['class']==\"unknown\"].postcode.notnull(), ocod_data[ocod_data['class']==\"unknown\"].street_name.notnull())"
   ]
  },
  {
   "cell_type": "code",
   "execution_count": 12,
   "id": "fbec4170",
   "metadata": {},
   "outputs": [
    {
     "data": {
      "text/html": [
       "<div>\n",
       "<style scoped>\n",
       "    .dataframe tbody tr th:only-of-type {\n",
       "        vertical-align: middle;\n",
       "    }\n",
       "\n",
       "    .dataframe tbody tr th {\n",
       "        vertical-align: top;\n",
       "    }\n",
       "\n",
       "    .dataframe thead th {\n",
       "        text-align: right;\n",
       "    }\n",
       "</style>\n",
       "<table border=\"1\" class=\"dataframe\">\n",
       "  <thead>\n",
       "    <tr style=\"text-align: right;\">\n",
       "      <th>region</th>\n",
       "      <th>east anglia</th>\n",
       "      <th>east midlands</th>\n",
       "      <th>greater london</th>\n",
       "      <th>north</th>\n",
       "      <th>north west</th>\n",
       "      <th>south east</th>\n",
       "      <th>south west</th>\n",
       "      <th>wales</th>\n",
       "      <th>west midlands</th>\n",
       "      <th>yorks and humber</th>\n",
       "    </tr>\n",
       "    <tr>\n",
       "      <th>tenure</th>\n",
       "      <th></th>\n",
       "      <th></th>\n",
       "      <th></th>\n",
       "      <th></th>\n",
       "      <th></th>\n",
       "      <th></th>\n",
       "      <th></th>\n",
       "      <th></th>\n",
       "      <th></th>\n",
       "      <th></th>\n",
       "    </tr>\n",
       "  </thead>\n",
       "  <tbody>\n",
       "    <tr>\n",
       "      <th>Freehold</th>\n",
       "      <td>3330</td>\n",
       "      <td>4962</td>\n",
       "      <td>25457</td>\n",
       "      <td>3177</td>\n",
       "      <td>16421</td>\n",
       "      <td>17922</td>\n",
       "      <td>5465</td>\n",
       "      <td>3341</td>\n",
       "      <td>5083</td>\n",
       "      <td>8840</td>\n",
       "    </tr>\n",
       "    <tr>\n",
       "      <th>Leasehold</th>\n",
       "      <td>460</td>\n",
       "      <td>1282</td>\n",
       "      <td>42530</td>\n",
       "      <td>906</td>\n",
       "      <td>5855</td>\n",
       "      <td>5462</td>\n",
       "      <td>1677</td>\n",
       "      <td>667</td>\n",
       "      <td>1791</td>\n",
       "      <td>2732</td>\n",
       "    </tr>\n",
       "  </tbody>\n",
       "</table>\n",
       "</div>"
      ],
      "text/plain": [
       "region     east anglia  east midlands  greater london  north  north west  \\\n",
       "tenure                                                                     \n",
       "Freehold          3330           4962           25457   3177       16421   \n",
       "Leasehold          460           1282           42530    906        5855   \n",
       "\n",
       "region     south east  south west  wales  west midlands  yorks and humber  \n",
       "tenure                                                                     \n",
       "Freehold        17922        5465   3341           5083              8840  \n",
       "Leasehold        5462        1677    667           1791              2732  "
      ]
     },
     "execution_count": 12,
     "metadata": {},
     "output_type": "execute_result"
    }
   ],
   "source": [
    "pd.crosstab(ocod_data['tenure'], ocod_data['region'].str.lower())#.to_latex() #convert to copyable latex table"
   ]
  },
  {
   "cell_type": "code",
   "execution_count": 15,
   "id": "1133f5a1",
   "metadata": {},
   "outputs": [
    {
     "data": {
      "text/html": [
       "<div>\n",
       "<style scoped>\n",
       "    .dataframe tbody tr th:only-of-type {\n",
       "        vertical-align: middle;\n",
       "    }\n",
       "\n",
       "    .dataframe tbody tr th {\n",
       "        vertical-align: top;\n",
       "    }\n",
       "\n",
       "    .dataframe thead th {\n",
       "        text-align: right;\n",
       "    }\n",
       "</style>\n",
       "<table border=\"1\" class=\"dataframe\">\n",
       "  <thead>\n",
       "    <tr style=\"text-align: right;\">\n",
       "      <th>region</th>\n",
       "      <th>east anglia</th>\n",
       "      <th>east midlands</th>\n",
       "      <th>greater london</th>\n",
       "      <th>north</th>\n",
       "      <th>north west</th>\n",
       "      <th>south east</th>\n",
       "      <th>south west</th>\n",
       "      <th>wales</th>\n",
       "      <th>west midlands</th>\n",
       "      <th>yorks and humber</th>\n",
       "    </tr>\n",
       "    <tr>\n",
       "      <th>class</th>\n",
       "      <th></th>\n",
       "      <th></th>\n",
       "      <th></th>\n",
       "      <th></th>\n",
       "      <th></th>\n",
       "      <th></th>\n",
       "      <th></th>\n",
       "      <th></th>\n",
       "      <th></th>\n",
       "      <th></th>\n",
       "    </tr>\n",
       "  </thead>\n",
       "  <tbody>\n",
       "    <tr>\n",
       "      <th>airspace</th>\n",
       "      <td>50</td>\n",
       "      <td>162</td>\n",
       "      <td>91</td>\n",
       "      <td>15</td>\n",
       "      <td>215</td>\n",
       "      <td>185</td>\n",
       "      <td>266</td>\n",
       "      <td>290</td>\n",
       "      <td>94</td>\n",
       "      <td>303</td>\n",
       "    </tr>\n",
       "    <tr>\n",
       "      <th>business</th>\n",
       "      <td>219</td>\n",
       "      <td>447</td>\n",
       "      <td>9323</td>\n",
       "      <td>461</td>\n",
       "      <td>1107</td>\n",
       "      <td>2010</td>\n",
       "      <td>566</td>\n",
       "      <td>430</td>\n",
       "      <td>583</td>\n",
       "      <td>758</td>\n",
       "    </tr>\n",
       "    <tr>\n",
       "      <th>carpark</th>\n",
       "      <td>10</td>\n",
       "      <td>7</td>\n",
       "      <td>1283</td>\n",
       "      <td>14</td>\n",
       "      <td>474</td>\n",
       "      <td>159</td>\n",
       "      <td>71</td>\n",
       "      <td>4</td>\n",
       "      <td>27</td>\n",
       "      <td>37</td>\n",
       "    </tr>\n",
       "    <tr>\n",
       "      <th>domestic</th>\n",
       "      <td>2547</td>\n",
       "      <td>3453</td>\n",
       "      <td>45543</td>\n",
       "      <td>2127</td>\n",
       "      <td>10352</td>\n",
       "      <td>13513</td>\n",
       "      <td>4212</td>\n",
       "      <td>1452</td>\n",
       "      <td>4032</td>\n",
       "      <td>5028</td>\n",
       "    </tr>\n",
       "    <tr>\n",
       "      <th>land</th>\n",
       "      <td>630</td>\n",
       "      <td>1143</td>\n",
       "      <td>2586</td>\n",
       "      <td>721</td>\n",
       "      <td>2186</td>\n",
       "      <td>4792</td>\n",
       "      <td>1239</td>\n",
       "      <td>617</td>\n",
       "      <td>1290</td>\n",
       "      <td>1297</td>\n",
       "    </tr>\n",
       "    <tr>\n",
       "      <th>unknown</th>\n",
       "      <td>343</td>\n",
       "      <td>1640</td>\n",
       "      <td>9948</td>\n",
       "      <td>1059</td>\n",
       "      <td>8752</td>\n",
       "      <td>3367</td>\n",
       "      <td>1430</td>\n",
       "      <td>1538</td>\n",
       "      <td>1242</td>\n",
       "      <td>4384</td>\n",
       "    </tr>\n",
       "  </tbody>\n",
       "</table>\n",
       "</div>"
      ],
      "text/plain": [
       "region    east anglia  east midlands  greater london  north  north west  \\\n",
       "class                                                                     \n",
       "airspace           50            162              91     15         215   \n",
       "business          219            447            9323    461        1107   \n",
       "carpark            10              7            1283     14         474   \n",
       "domestic         2547           3453           45543   2127       10352   \n",
       "land              630           1143            2586    721        2186   \n",
       "unknown           343           1640            9948   1059        8752   \n",
       "\n",
       "region    south east  south west  wales  west midlands  yorks and humber  \n",
       "class                                                                     \n",
       "airspace         185         266    290             94               303  \n",
       "business        2010         566    430            583               758  \n",
       "carpark          159          71      4             27                37  \n",
       "domestic       13513        4212   1452           4032              5028  \n",
       "land            4792        1239    617           1290              1297  \n",
       "unknown         3367        1430   1538           1242              4384  "
      ]
     },
     "execution_count": 15,
     "metadata": {},
     "output_type": "execute_result"
    }
   ],
   "source": [
    "pd.crosstab(ocod_data['class'], ocod_data['region'].str.lower())#.to_latex() #convert to copyable latex table"
   ]
  },
  {
   "cell_type": "code",
   "execution_count": 14,
   "id": "06c3a9b7",
   "metadata": {},
   "outputs": [
    {
     "data": {
      "text/html": [
       "<div>\n",
       "<style scoped>\n",
       "    .dataframe tbody tr th:only-of-type {\n",
       "        vertical-align: middle;\n",
       "    }\n",
       "\n",
       "    .dataframe tbody tr th {\n",
       "        vertical-align: top;\n",
       "    }\n",
       "\n",
       "    .dataframe thead th {\n",
       "        text-align: right;\n",
       "    }\n",
       "</style>\n",
       "<table border=\"1\" class=\"dataframe\">\n",
       "  <thead>\n",
       "    <tr style=\"text-align: right;\">\n",
       "      <th>tenure</th>\n",
       "      <th>Freehold</th>\n",
       "      <th>Leasehold</th>\n",
       "    </tr>\n",
       "    <tr>\n",
       "      <th>class</th>\n",
       "      <th></th>\n",
       "      <th></th>\n",
       "    </tr>\n",
       "  </thead>\n",
       "  <tbody>\n",
       "    <tr>\n",
       "      <th>airspace</th>\n",
       "      <td>7</td>\n",
       "      <td>1664</td>\n",
       "    </tr>\n",
       "    <tr>\n",
       "      <th>business</th>\n",
       "      <td>3061</td>\n",
       "      <td>10858</td>\n",
       "    </tr>\n",
       "    <tr>\n",
       "      <th>carpark</th>\n",
       "      <td>156</td>\n",
       "      <td>1922</td>\n",
       "    </tr>\n",
       "    <tr>\n",
       "      <th>domestic</th>\n",
       "      <td>47954</td>\n",
       "      <td>42457</td>\n",
       "    </tr>\n",
       "    <tr>\n",
       "      <th>land</th>\n",
       "      <td>14659</td>\n",
       "      <td>1842</td>\n",
       "    </tr>\n",
       "    <tr>\n",
       "      <th>unknown</th>\n",
       "      <td>28161</td>\n",
       "      <td>4619</td>\n",
       "    </tr>\n",
       "  </tbody>\n",
       "</table>\n",
       "</div>"
      ],
      "text/plain": [
       "tenure    Freehold  Leasehold\n",
       "class                        \n",
       "airspace         7       1664\n",
       "business      3061      10858\n",
       "carpark        156       1922\n",
       "domestic     47954      42457\n",
       "land         14659       1842\n",
       "unknown      28161       4619"
      ]
     },
     "execution_count": 14,
     "metadata": {},
     "output_type": "execute_result"
    }
   ],
   "source": [
    "pd.crosstab(ocod_data['class'], ocod_data['tenure'])#.to_latex() #convert to copyable latex table"
   ]
  },
  {
   "cell_type": "code",
   "execution_count": 16,
   "id": "1dbfb79f",
   "metadata": {},
   "outputs": [
    {
     "data": {
      "text/html": [
       "<div>\n",
       "<style scoped>\n",
       "    .dataframe tbody tr th:only-of-type {\n",
       "        vertical-align: middle;\n",
       "    }\n",
       "\n",
       "    .dataframe tbody tr th {\n",
       "        vertical-align: top;\n",
       "    }\n",
       "\n",
       "    .dataframe thead th {\n",
       "        text-align: right;\n",
       "    }\n",
       "</style>\n",
       "<table border=\"1\" class=\"dataframe\">\n",
       "  <thead>\n",
       "    <tr style=\"text-align: right;\">\n",
       "      <th>within_larger_title</th>\n",
       "      <th>False</th>\n",
       "      <th>True</th>\n",
       "    </tr>\n",
       "    <tr>\n",
       "      <th>tenure</th>\n",
       "      <th></th>\n",
       "      <th></th>\n",
       "    </tr>\n",
       "  </thead>\n",
       "  <tbody>\n",
       "    <tr>\n",
       "      <th>Freehold</th>\n",
       "      <td>46326</td>\n",
       "      <td>4343</td>\n",
       "    </tr>\n",
       "    <tr>\n",
       "      <th>Leasehold</th>\n",
       "      <td>41203</td>\n",
       "      <td>1633</td>\n",
       "    </tr>\n",
       "  </tbody>\n",
       "</table>\n",
       "</div>"
      ],
      "text/plain": [
       "within_larger_title  False  True\n",
       "tenure                          \n",
       "Freehold             46326  4343\n",
       "Leasehold            41203  1633"
      ]
     },
     "execution_count": 16,
     "metadata": {},
     "output_type": "execute_result"
    }
   ],
   "source": [
    "temp_df = ocod_data[['title_number', 'tenure', 'within_larger_title']].drop_duplicates()\n",
    "\n",
    "#most of titles containing nested addresses are free hold by about 3/2\n",
    "pd.crosstab(temp_df['tenure'], temp_df['within_larger_title'])\n"
   ]
  },
  {
   "cell_type": "code",
   "execution_count": 16,
   "id": "720c2244",
   "metadata": {},
   "outputs": [
    {
     "name": "stderr",
     "output_type": "stream",
     "text": [
      "<ipython-input-16-c3f690fb0170>:3: UserWarning: This pattern is interpreted as a regular expression, and has match groups. To actually get the groups, use str.extract.\n",
      "  temp_df['is_flat'] = temp_df['property_address'].str.contains(r\"(flat|apartment|penthouse|unit)\", case = False)\n"
     ]
    },
    {
     "data": {
      "text/html": [
       "<div>\n",
       "<style scoped>\n",
       "    .dataframe tbody tr th:only-of-type {\n",
       "        vertical-align: middle;\n",
       "    }\n",
       "\n",
       "    .dataframe tbody tr th {\n",
       "        vertical-align: top;\n",
       "    }\n",
       "\n",
       "    .dataframe thead th {\n",
       "        text-align: right;\n",
       "    }\n",
       "</style>\n",
       "<table border=\"1\" class=\"dataframe\">\n",
       "  <thead>\n",
       "    <tr style=\"text-align: right;\">\n",
       "      <th>is_flat</th>\n",
       "      <th>False</th>\n",
       "      <th>True</th>\n",
       "    </tr>\n",
       "    <tr>\n",
       "      <th>tenure</th>\n",
       "      <th></th>\n",
       "      <th></th>\n",
       "    </tr>\n",
       "  </thead>\n",
       "  <tbody>\n",
       "    <tr>\n",
       "      <th>Freehold</th>\n",
       "      <td>40400</td>\n",
       "      <td>6909</td>\n",
       "    </tr>\n",
       "    <tr>\n",
       "      <th>Leasehold</th>\n",
       "      <td>5489</td>\n",
       "      <td>16495</td>\n",
       "    </tr>\n",
       "  </tbody>\n",
       "</table>\n",
       "</div>"
      ],
      "text/plain": [
       "is_flat    False   True\n",
       "tenure                 \n",
       "Freehold   40400   6909\n",
       "Leasehold   5489  16495"
      ]
     },
     "execution_count": 16,
     "metadata": {},
     "output_type": "execute_result"
    }
   ],
   "source": [
    "#The analysis is based on nested addresses being domestic\n",
    "temp_df = ocod_data[['title_number', 'tenure', 'property_address']][ocod_data['within_larger_title']==True]\n",
    "temp_df['is_flat'] = temp_df['property_address'].str.contains(r\"(flat|apartment|penthouse|unit)\", case = False)\n",
    "\n",
    "#pd.crosstab(temp_df['tenure'], temp_df['within_larger_title'])\n",
    "\n",
    "temp_df.groupby('tenure').size()\n",
    "\n",
    "#Of nested addresses freehold is more common by 3/2 50k to 24k\n",
    "#most of theproperties are not flats however flats dominate the leasehold section\n",
    "#flats are 1/3 of nested addresses but make up almost 3/4 of the leashold nested addresses\n",
    "#note this does not include items marked as units\n",
    "pd.crosstab(temp_df.tenure, temp_df.is_flat)"
   ]
  },
  {
   "cell_type": "code",
   "execution_count": 17,
   "id": "1574215f",
   "metadata": {},
   "outputs": [
    {
     "data": {
      "text/html": [
       "<div>\n",
       "<style scoped>\n",
       "    .dataframe tbody tr th:only-of-type {\n",
       "        vertical-align: middle;\n",
       "    }\n",
       "\n",
       "    .dataframe tbody tr th {\n",
       "        vertical-align: top;\n",
       "    }\n",
       "\n",
       "    .dataframe thead th {\n",
       "        text-align: right;\n",
       "    }\n",
       "</style>\n",
       "<table border=\"1\" class=\"dataframe\">\n",
       "  <thead>\n",
       "    <tr style=\"text-align: right;\">\n",
       "      <th>price_paid</th>\n",
       "      <th>False</th>\n",
       "      <th>True</th>\n",
       "    </tr>\n",
       "    <tr>\n",
       "      <th>within_larger_title</th>\n",
       "      <th></th>\n",
       "      <th></th>\n",
       "    </tr>\n",
       "  </thead>\n",
       "  <tbody>\n",
       "    <tr>\n",
       "      <th>False</th>\n",
       "      <td>57236</td>\n",
       "      <td>30831</td>\n",
       "    </tr>\n",
       "    <tr>\n",
       "      <th>True</th>\n",
       "      <td>57817</td>\n",
       "      <td>11476</td>\n",
       "    </tr>\n",
       "  </tbody>\n",
       "</table>\n",
       "</div>"
      ],
      "text/plain": [
       "price_paid           False   True\n",
       "within_larger_title              \n",
       "False                57236  30831\n",
       "True                 57817  11476"
      ]
     },
     "execution_count": 17,
     "metadata": {},
     "output_type": "execute_result"
    }
   ],
   "source": [
    "ocod_data[ocod_data.price_paid.notnull()==True].to_csv(\"/tf/empty_homes_data/ocod_price_paid.csv\")\n",
    "pd.crosstab(ocod_data.within_larger_title, ocod_data.price_paid.notnull())"
   ]
  },
  {
   "cell_type": "code",
   "execution_count": 11,
   "id": "01b01126",
   "metadata": {},
   "outputs": [
    {
     "data": {
      "text/html": [
       "<div>\n",
       "<style scoped>\n",
       "    .dataframe tbody tr th:only-of-type {\n",
       "        vertical-align: middle;\n",
       "    }\n",
       "\n",
       "    .dataframe tbody tr th {\n",
       "        vertical-align: top;\n",
       "    }\n",
       "\n",
       "    .dataframe thead th {\n",
       "        text-align: right;\n",
       "    }\n",
       "</style>\n",
       "<table border=\"1\" class=\"dataframe\">\n",
       "  <thead>\n",
       "    <tr style=\"text-align: right;\">\n",
       "      <th>within_larger_title</th>\n",
       "      <th>False</th>\n",
       "      <th>True</th>\n",
       "    </tr>\n",
       "    <tr>\n",
       "      <th>postcode</th>\n",
       "      <th></th>\n",
       "      <th></th>\n",
       "    </tr>\n",
       "  </thead>\n",
       "  <tbody>\n",
       "    <tr>\n",
       "      <th>False</th>\n",
       "      <td>19758</td>\n",
       "      <td>36771</td>\n",
       "    </tr>\n",
       "    <tr>\n",
       "      <th>True</th>\n",
       "      <td>68309</td>\n",
       "      <td>32522</td>\n",
       "    </tr>\n",
       "  </tbody>\n",
       "</table>\n",
       "</div>"
      ],
      "text/plain": [
       "within_larger_title  False   True\n",
       "postcode                         \n",
       "False                19758  36771\n",
       "True                 68309  32522"
      ]
     },
     "execution_count": 11,
     "metadata": {},
     "output_type": "execute_result"
    }
   ],
   "source": [
    "#This is interesting as it shows that only about 15% of normal titles are missing a postcode whilst half of within larger title addresses are missing a postcode.\n",
    "#This is probably because they cover multiple postcodes\n",
    "pd.crosstab(ocod_data.postcode.notnull(), ocod_data.within_larger_title)"
   ]
  },
  {
   "cell_type": "markdown",
   "id": "468fb9c6",
   "metadata": {},
   "source": [
    "## Road matching"
   ]
  },
  {
   "cell_type": "code",
   "execution_count": 18,
   "id": "e3febb5b",
   "metadata": {},
   "outputs": [
    {
     "data": {
      "text/plain": [
       "district\n",
       "CITY OF WESTMINSTER       15052\n",
       "KENSINGTON AND CHELSEA     6868\n",
       "TOWER HAMLETS              4048\n",
       "WANDSWORTH                 3755\n",
       "SHEFFIELD                  3690\n",
       "                          ...  \n",
       "DERBYSHIRE DALES             27\n",
       "MELTON                       25\n",
       "BOSTON                       16\n",
       "RUTLAND                      13\n",
       "ISLES OF SCILLY               4\n",
       "Length: 331, dtype: int64"
      ]
     },
     "execution_count": 18,
     "metadata": {},
     "output_type": "execute_result"
    }
   ],
   "source": [
    "ocod_data.groupby('district').size().sort_values(ascending=False)"
   ]
  },
  {
   "cell_type": "markdown",
   "id": "397cedf2",
   "metadata": {},
   "source": [
    "## Exploring road matching\n",
    "\n",
    "Before matching the names I should edit the street names to remove all ' apostraphes as these are very unreliable, I should also remove spaces between 'gate' and whatever comes before it same with 'way'\n",
    "It may also be an idea to remove 's' that appears at the end of a word but we can try this again later"
   ]
  },
  {
   "cell_type": "code",
   "execution_count": 68,
   "id": "c6375f01",
   "metadata": {},
   "outputs": [],
   "source": [
    "\n",
    "\n",
    "def fuzzy_street_match(ocod_data, voa_data, target_lad):\n",
    "##\n",
    "## It's possible that this entire thing can be replaced with a simple isin() type command.\n",
    "## I will be able to do the replacement if matching is basically bianry\n",
    "##\n",
    "    #filters to a single LAD\n",
    "    #removes advertising hoardings which are irrelevant\n",
    "    LAD_biz = voa_businesses.loc[(voa_data['lad11cd']==target_lad) & ~voa_data['primary_description_text'].str.contains(\"ADVERTISING\")].copy(deep = True)\n",
    "    \n",
    "    LAD_biz.loc[:,'street_name2'] = LAD_biz['street'].copy(deep=True)\n",
    "    #remove apostraphe's\n",
    "    LAD_biz.loc[:,'street_name2'] = LAD_biz.loc[:,'street_name2'].str.replace(r\"'\", \"\", regex = True).str.replace(r\"s(?=\\s)\", \"\", regex = True).str.replace(r\"\\s(?=way|gate)\", \"\", regex = True)\n",
    "    \n",
    "    #subset to target LAD\n",
    "    ocod_data_road = ocod_data[ocod_data['lad11cd']==target_lad].copy(deep = True)\n",
    "    #replace nan values to prevent crash\n",
    "    #ocod_data_road['street_name'] = \n",
    "    #ocod_data_road['street_name'].fillna(\"xxxstreet name missingxxx\")\n",
    "    \n",
    "    ocod_data_road.loc[ocod_data_road.street_name.isna(),'street_name'] =\"xxxstreet name missingxxx\"\n",
    "    \n",
    "    #create second column\n",
    "    ocod_data_road['street_name2'] = ocod_data_road['street_name'].copy(deep=True)\n",
    "    #remove apostraphe's\n",
    "    ocod_data_road['street_name2'] = ocod_data_road['street_name2'].str.replace(r\"'\", \"\", regex = True).str.replace(r\"s(?=\\s)\", \"\", regex = True).str.replace(r\"\\s(?=way|gate)\", \"\", regex = True)\n",
    "    #remove trailing 's'\n",
    "    #ocod_data_road['street_name2'] = ocod_data_road['street_name2'].str.remove(r\"s(?=\\s)\")\n",
    "    #remove space preceeding 'way' or 'gate'\n",
    "    #ocod_data_road['street_name2'] = ocod_data_road['street_name2'].str.remove(r\"\\s(?=way|gate)\")\n",
    "    \n",
    "    \n",
    "    #using the below line cause a copy warning\n",
    "    # ocod_data_road.loc[:,'street_name'].fillna(\"xxxstreet name missingxxx\", inplace = False)\n",
    "\n",
    "    #extract unique names\n",
    "    unique_ocod_names = ocod_data_road.street_name2.unique()\n",
    "    unique_voa_names = LAD_biz.street_name2.unique()\n",
    "\n",
    "    #fuzzy match unique names\n",
    "    street_matches_df = pd.DataFrame([process.extractOne(x, unique_voa_names) for x in unique_ocod_names], \n",
    "                                 columns = ['matched_road_name', 'similarity'])\n",
    "    street_matches_df['street_name2'] = unique_ocod_names\n",
    "\n",
    "    out = ocod_data_road.merge(street_matches_df, left_on = \"street_name2\", right_on = \"street_name2\")\n",
    "    #out.loc[ocod_data_road.street_name == \"xxxstreet name missingxxx\",'street_name'] = None\n",
    "    #remove the modified street name\n",
    "    #out = out.drop('street_name2', axis = 1)\n",
    "    return(out)\n",
    "\n",
    "\n",
    "def massaged_street_match(ocod_data, voa_data, target_lad):\n",
    "##\n",
    "## This exact match works pretty much as well as the fuzzy matcher but is much faster and clearer\n",
    "##\n",
    "    #filters to a single LAD\n",
    "    #removes advertising hoardings which are irrelevant\n",
    "    LAD_biz = voa_businesses.loc[(voa_data['lad11cd']==target_lad) & ~voa_data['primary_description_text'].str.contains(\"ADVERTISING\")].copy(deep = True)\n",
    "    \n",
    "    LAD_biz.loc[:,'street_name2'] = LAD_biz['street'].copy(deep=True)\n",
    "    #remove apostraphe's\n",
    "    LAD_biz.loc[:,'street_name2'] = LAD_biz.loc[:,'street_name2'].str.replace(r\"'\", \"\", regex = True).\\\n",
    "    str.replace(r\"s(s)?(?=\\s)\", \"\", regex = True).str.replace(r\"\\s\", \"\", regex = True)\n",
    "    \n",
    "    #subset to target LAD\n",
    "    ocod_data_road = ocod_data[ocod_data['lad11cd']==target_lad].copy(deep = True)\n",
    "    #replace nan values to prevent crash    \n",
    "    \n",
    "    #create second column\n",
    "    ocod_data_road['street_name2'] = ocod_data_road['street_name'].copy(deep=True)\n",
    "    \n",
    "    #replace nan values to prevent crash    \n",
    "    ocod_data_road.loc[ocod_data_road.street_name.isna(),'street_name2'] =\"xxxstreet name missingxxx\"\n",
    "    #clean street names of common matching errors\n",
    "    #remove apostraphe's\n",
    "    #remove trailing 's'\n",
    "    #remove all spaces\n",
    "    ocod_data_road['street_name2'] = ocod_data_road['street_name2'].str.replace(r\"'\", \"\", regex = True).\\\n",
    "    str.replace(r\"s(s)?(?=\\s)\", \"\", regex = True).str.replace(r\"\\s\", \"\", regex = True)\n",
    "    \n",
    "    ocod_data_road['match'] = ocod_data_road['street_name2'].isin(LAD_biz.street_name2.unique())\n",
    "\n",
    "    return(ocod_data_road)"
   ]
  },
  {
   "cell_type": "code",
   "execution_count": 145,
   "id": "be63aa0b",
   "metadata": {},
   "outputs": [],
   "source": [
    "#target_lad = 'E09000019'\n",
    "#test= fuzzy_street_match(ocod_data, voa_businesses, target_lad)\n"
   ]
  },
  {
   "cell_type": "code",
   "execution_count": 91,
   "id": "84e28a02",
   "metadata": {},
   "outputs": [
    {
     "data": {
      "text/plain": [
       "Index(['Unnamed: 0', 'title_number', 'within_title_id', 'unique_id',\n",
       "       'within_larger_title', 'tenure', 'unit_id', 'unit_type',\n",
       "       'building_name', 'street_number', 'street_name', 'postcode', 'city',\n",
       "       'district', 'county', 'region', 'multiple_address_indicator',\n",
       "       'price_paid', 'property_address', 'postcode2', 'lsoa11', 'msoa11',\n",
       "       'lad11cd', 'business_counts', 'street_name2', 'match'],\n",
       "      dtype='object')"
      ]
     },
     "execution_count": 91,
     "metadata": {},
     "output_type": "execute_result"
    }
   ],
   "source": [
    "target_lad = 'E09000019'\n",
    "test= massaged_street_match(ocod_data, voa_businesses, target_lad)\n",
    "\n",
    "test.columns#[test['street_name2']].groupby('match').size()"
   ]
  },
  {
   "cell_type": "code",
   "execution_count": 81,
   "id": "4c8cae3e",
   "metadata": {},
   "outputs": [
    {
     "data": {
      "text/plain": [
       "match\n",
       "False    344\n",
       "dtype: int64"
      ]
     },
     "execution_count": 81,
     "metadata": {},
     "output_type": "execute_result"
    }
   ],
   "source": [
    "test[test['street_name2']=='xxxstreetnamemissingxxx'].groupby('match').size()"
   ]
  },
  {
   "cell_type": "code",
   "execution_count": 97,
   "id": "1f39ac2b",
   "metadata": {},
   "outputs": [
    {
     "data": {
      "text/html": [
       "<div>\n",
       "<style scoped>\n",
       "    .dataframe tbody tr th:only-of-type {\n",
       "        vertical-align: middle;\n",
       "    }\n",
       "\n",
       "    .dataframe tbody tr th {\n",
       "        vertical-align: top;\n",
       "    }\n",
       "\n",
       "    .dataframe thead th {\n",
       "        text-align: right;\n",
       "    }\n",
       "</style>\n",
       "<table border=\"1\" class=\"dataframe\">\n",
       "  <thead>\n",
       "    <tr style=\"text-align: right;\">\n",
       "      <th></th>\n",
       "      <th>street_name</th>\n",
       "      <th>street_name2</th>\n",
       "      <th>match</th>\n",
       "    </tr>\n",
       "  </thead>\n",
       "  <tbody>\n",
       "    <tr>\n",
       "      <th>10207</th>\n",
       "      <td>york way</td>\n",
       "      <td>yorkway</td>\n",
       "      <td>True</td>\n",
       "    </tr>\n",
       "    <tr>\n",
       "      <th>10208</th>\n",
       "      <td>york way</td>\n",
       "      <td>yorkway</td>\n",
       "      <td>True</td>\n",
       "    </tr>\n",
       "    <tr>\n",
       "      <th>10209</th>\n",
       "      <td>york way</td>\n",
       "      <td>yorkway</td>\n",
       "      <td>True</td>\n",
       "    </tr>\n",
       "    <tr>\n",
       "      <th>10210</th>\n",
       "      <td>york way</td>\n",
       "      <td>yorkway</td>\n",
       "      <td>True</td>\n",
       "    </tr>\n",
       "    <tr>\n",
       "      <th>10211</th>\n",
       "      <td>york way</td>\n",
       "      <td>yorkway</td>\n",
       "      <td>True</td>\n",
       "    </tr>\n",
       "    <tr>\n",
       "      <th>...</th>\n",
       "      <td>...</td>\n",
       "      <td>...</td>\n",
       "      <td>...</td>\n",
       "    </tr>\n",
       "    <tr>\n",
       "      <th>151369</th>\n",
       "      <td>angel gate</td>\n",
       "      <td>angelgate</td>\n",
       "      <td>False</td>\n",
       "    </tr>\n",
       "    <tr>\n",
       "      <th>151527</th>\n",
       "      <td>sussex way</td>\n",
       "      <td>sussexway</td>\n",
       "      <td>True</td>\n",
       "    </tr>\n",
       "    <tr>\n",
       "      <th>153104</th>\n",
       "      <td>drummond way</td>\n",
       "      <td>drummondway</td>\n",
       "      <td>True</td>\n",
       "    </tr>\n",
       "    <tr>\n",
       "      <th>161766</th>\n",
       "      <td>drummond way</td>\n",
       "      <td>drummondway</td>\n",
       "      <td>True</td>\n",
       "    </tr>\n",
       "    <tr>\n",
       "      <th>161983</th>\n",
       "      <td>york way</td>\n",
       "      <td>yorkway</td>\n",
       "      <td>True</td>\n",
       "    </tr>\n",
       "  </tbody>\n",
       "</table>\n",
       "<p>102 rows × 3 columns</p>\n",
       "</div>"
      ],
      "text/plain": [
       "         street_name street_name2  match\n",
       "10207       york way      yorkway   True\n",
       "10208       york way      yorkway   True\n",
       "10209       york way      yorkway   True\n",
       "10210       york way      yorkway   True\n",
       "10211       york way      yorkway   True\n",
       "...              ...          ...    ...\n",
       "151369    angel gate    angelgate  False\n",
       "151527    sussex way    sussexway   True\n",
       "153104  drummond way  drummondway   True\n",
       "161766  drummond way  drummondway   True\n",
       "161983      york way      yorkway   True\n",
       "\n",
       "[102 rows x 3 columns]"
      ]
     },
     "execution_count": 97,
     "metadata": {},
     "output_type": "execute_result"
    }
   ],
   "source": [
    "\n",
    "test[test['street_name'].str.contains(r\"\\s(?=way|gate)\")][['street_name', 'street_name2', 'match' ]]"
   ]
  },
  {
   "cell_type": "code",
   "execution_count": 54,
   "id": "ce9a8db5",
   "metadata": {},
   "outputs": [],
   "source": [
    "#all_lads = ocod_data.lad11cd.unique()\n",
    "\n",
    "#all_lads = [x for x in all_lads if str(x) != 'nan']\n",
    "##see which roads match a road in voa data set for each local authority\n",
    "#ocod_road_match= [fuzzy_street_match(ocod_data, voa_businesses, target_lad) for target_lad in all_lads]\n",
    "#ocod_road_match = pd.concat(ocod_road_match)"
   ]
  },
  {
   "cell_type": "code",
   "execution_count": 87,
   "id": "746ef028",
   "metadata": {},
   "outputs": [],
   "source": [
    "all_lads = ocod_data.lad11cd.unique()\n",
    "\n",
    "all_lads = [x for x in all_lads if str(x) != 'nan']\n",
    "#see which roads match a road in voa data set for each local authority\n",
    "ocod_road_match= [massaged_street_match(ocod_data, voa_businesses, target_lad) for target_lad in all_lads]\n",
    "ocod_road_match = pd.concat(ocod_road_match)"
   ]
  },
  {
   "cell_type": "code",
   "execution_count": 89,
   "id": "3db02091",
   "metadata": {},
   "outputs": [
    {
     "data": {
      "text/plain": [
       "match\n",
       "False    73922\n",
       "True     87979\n",
       "dtype: int64"
      ]
     },
     "execution_count": 89,
     "metadata": {},
     "output_type": "execute_result"
    }
   ],
   "source": [
    "ocod_road_match.groupby('match').size()"
   ]
  },
  {
   "cell_type": "code",
   "execution_count": 142,
   "id": "ea1b03c9",
   "metadata": {},
   "outputs": [
    {
     "data": {
      "text/html": [
       "<div>\n",
       "<style scoped>\n",
       "    .dataframe tbody tr th:only-of-type {\n",
       "        vertical-align: middle;\n",
       "    }\n",
       "\n",
       "    .dataframe tbody tr th {\n",
       "        vertical-align: top;\n",
       "    }\n",
       "\n",
       "    .dataframe thead th {\n",
       "        text-align: right;\n",
       "    }\n",
       "</style>\n",
       "<table border=\"1\" class=\"dataframe\">\n",
       "  <thead>\n",
       "    <tr style=\"text-align: right;\">\n",
       "      <th>class</th>\n",
       "      <th>airspace</th>\n",
       "      <th>business</th>\n",
       "      <th>carpark</th>\n",
       "      <th>domestic</th>\n",
       "      <th>land</th>\n",
       "      <th>unknown</th>\n",
       "    </tr>\n",
       "    <tr>\n",
       "      <th>match</th>\n",
       "      <th></th>\n",
       "      <th></th>\n",
       "      <th></th>\n",
       "      <th></th>\n",
       "      <th></th>\n",
       "      <th></th>\n",
       "    </tr>\n",
       "  </thead>\n",
       "  <tbody>\n",
       "    <tr>\n",
       "      <th>False</th>\n",
       "      <td>953</td>\n",
       "      <td>498</td>\n",
       "      <td>472</td>\n",
       "      <td>23764</td>\n",
       "      <td>9215</td>\n",
       "      <td>12796</td>\n",
       "    </tr>\n",
       "    <tr>\n",
       "      <th>True</th>\n",
       "      <td>455</td>\n",
       "      <td>3781</td>\n",
       "      <td>1275</td>\n",
       "      <td>65143</td>\n",
       "      <td>4143</td>\n",
       "      <td>14375</td>\n",
       "    </tr>\n",
       "  </tbody>\n",
       "</table>\n",
       "</div>"
      ],
      "text/plain": [
       "class  airspace  business  carpark  domestic  land  unknown\n",
       "match                                                      \n",
       "False       953       498      472     23764  9215    12796\n",
       "True        455      3781     1275     65143  4143    14375"
      ]
     },
     "execution_count": 142,
     "metadata": {},
     "output_type": "execute_result"
    }
   ],
   "source": [
    "test = ocod_road_match2[ocod_road_match2['street_name'] != 'xxxstreet name missingxxx']\n",
    "pd.crosstab(test['match'], test['class'])"
   ]
  },
  {
   "cell_type": "code",
   "execution_count": 146,
   "id": "912e7f1a",
   "metadata": {},
   "outputs": [
    {
     "data": {
      "text/plain": [
       "0.11638233232063566"
      ]
     },
     "execution_count": 146,
     "metadata": {},
     "output_type": "execute_result"
    }
   ],
   "source": [
    "498/(498+3781)"
   ]
  },
  {
   "cell_type": "code",
   "execution_count": 143,
   "id": "7c925b75",
   "metadata": {},
   "outputs": [],
   "source": [
    "\n",
    "ocod_road_match2[(ocod_road_match2['match']==False) & (ocod_road_match2['class'] == \"business\")& (ocod_road_match2['street_name'] != 'xxxstreet name missingxxx')].to_csv(\"/tf/empty_homes_data/fuzzy_roads.csv\")"
   ]
  },
  {
   "cell_type": "code",
   "execution_count": 136,
   "id": "f167139f",
   "metadata": {},
   "outputs": [],
   "source": [
    "\n",
    "ocod_road_match[(ocod_road_match['similarity']<93) & (ocod_road_match['class'] == \"business\") & (ocod_road_match['street_name'] != 'xxxstreet name missingxxx')].to_csv(\"/tf/empty_homes_data/fuzzy_roads.csv\")"
   ]
  },
  {
   "cell_type": "code",
   "execution_count": 68,
   "id": "badaab0b",
   "metadata": {},
   "outputs": [
    {
     "data": {
      "text/html": [
       "<div>\n",
       "<style scoped>\n",
       "    .dataframe tbody tr th:only-of-type {\n",
       "        vertical-align: middle;\n",
       "    }\n",
       "\n",
       "    .dataframe tbody tr th {\n",
       "        vertical-align: top;\n",
       "    }\n",
       "\n",
       "    .dataframe thead th {\n",
       "        text-align: right;\n",
       "    }\n",
       "</style>\n",
       "<table border=\"1\" class=\"dataframe\">\n",
       "  <thead>\n",
       "    <tr style=\"text-align: right;\">\n",
       "      <th></th>\n",
       "      <th>street_name</th>\n",
       "      <th>street_name2</th>\n",
       "      <th>matched_road_name</th>\n",
       "    </tr>\n",
       "  </thead>\n",
       "  <tbody>\n",
       "    <tr>\n",
       "      <th>304</th>\n",
       "      <td>land on the north east side of land's end road</td>\n",
       "      <td>land on the north east side of land end road</td>\n",
       "      <td>land end road</td>\n",
       "    </tr>\n",
       "    <tr>\n",
       "      <th>484</th>\n",
       "      <td>queen mary's road</td>\n",
       "      <td>queen mary road</td>\n",
       "      <td>queen mary road</td>\n",
       "    </tr>\n",
       "    <tr>\n",
       "      <th>1203</th>\n",
       "      <td>d'eynsford road</td>\n",
       "      <td>deynsford road</td>\n",
       "      <td>deynsford road</td>\n",
       "    </tr>\n",
       "    <tr>\n",
       "      <th>1206</th>\n",
       "      <td>land on the west side of page's walk and on th...</td>\n",
       "      <td>land on the west side of page walk and on the ...</td>\n",
       "      <td>page walk</td>\n",
       "    </tr>\n",
       "    <tr>\n",
       "      <th>1689</th>\n",
       "      <td>price's street</td>\n",
       "      <td>price street</td>\n",
       "      <td>princes street</td>\n",
       "    </tr>\n",
       "    <tr>\n",
       "      <th>...</th>\n",
       "      <td>...</td>\n",
       "      <td>...</td>\n",
       "      <td>...</td>\n",
       "    </tr>\n",
       "    <tr>\n",
       "      <th>23</th>\n",
       "      <td>east and south of duke's road</td>\n",
       "      <td>east and south of duke road</td>\n",
       "      <td>duke road</td>\n",
       "    </tr>\n",
       "    <tr>\n",
       "      <th>93</th>\n",
       "      <td>land on the east side of parker's farm road</td>\n",
       "      <td>land on the east side of parker farm road</td>\n",
       "      <td>parker farm road</td>\n",
       "    </tr>\n",
       "    <tr>\n",
       "      <th>37</th>\n",
       "      <td>o'gorman avenue</td>\n",
       "      <td>ogorman avenue</td>\n",
       "      <td>ogorman avenue</td>\n",
       "    </tr>\n",
       "    <tr>\n",
       "      <th>65</th>\n",
       "      <td>land on the east side of lug's lane</td>\n",
       "      <td>land on the east side of lug lane</td>\n",
       "      <td>lug lane</td>\n",
       "    </tr>\n",
       "    <tr>\n",
       "      <th>68</th>\n",
       "      <td>land on the west side of lug's lane</td>\n",
       "      <td>land on the west side of lug lane</td>\n",
       "      <td>lug lane</td>\n",
       "    </tr>\n",
       "  </tbody>\n",
       "</table>\n",
       "<p>1043 rows × 3 columns</p>\n",
       "</div>"
      ],
      "text/plain": [
       "                                            street_name  \\\n",
       "304      land on the north east side of land's end road   \n",
       "484                                   queen mary's road   \n",
       "1203                                    d'eynsford road   \n",
       "1206  land on the west side of page's walk and on th...   \n",
       "1689                                     price's street   \n",
       "...                                                 ...   \n",
       "23                        east and south of duke's road   \n",
       "93          land on the east side of parker's farm road   \n",
       "37                                      o'gorman avenue   \n",
       "65                  land on the east side of lug's lane   \n",
       "68                  land on the west side of lug's lane   \n",
       "\n",
       "                                           street_name2 matched_road_name  \n",
       "304        land on the north east side of land end road     land end road  \n",
       "484                                     queen mary road   queen mary road  \n",
       "1203                                     deynsford road    deynsford road  \n",
       "1206  land on the west side of page walk and on the ...         page walk  \n",
       "1689                                       price street    princes street  \n",
       "...                                                 ...               ...  \n",
       "23                          east and south of duke road         duke road  \n",
       "93            land on the east side of parker farm road  parker farm road  \n",
       "37                                       ogorman avenue    ogorman avenue  \n",
       "65                    land on the east side of lug lane          lug lane  \n",
       "68                    land on the west side of lug lane          lug lane  \n",
       "\n",
       "[1043 rows x 3 columns]"
      ]
     },
     "execution_count": 68,
     "metadata": {},
     "output_type": "execute_result"
    }
   ],
   "source": [
    "ocod_road_match[ocod_road_match['street_name'].str.contains(r\"'\")][['street_name', 'street_name2', 'matched_road_name' ]]"
   ]
  },
  {
   "cell_type": "code",
   "execution_count": 76,
   "id": "0cbed506",
   "metadata": {},
   "outputs": [
    {
     "data": {
      "text/html": [
       "<div>\n",
       "<style scoped>\n",
       "    .dataframe tbody tr th:only-of-type {\n",
       "        vertical-align: middle;\n",
       "    }\n",
       "\n",
       "    .dataframe tbody tr th {\n",
       "        vertical-align: top;\n",
       "    }\n",
       "\n",
       "    .dataframe thead th {\n",
       "        text-align: right;\n",
       "    }\n",
       "</style>\n",
       "<table border=\"1\" class=\"dataframe\">\n",
       "  <thead>\n",
       "    <tr style=\"text-align: right;\">\n",
       "      <th></th>\n",
       "      <th>property_address</th>\n",
       "      <th>street_name2</th>\n",
       "      <th>matched_road_name</th>\n",
       "    </tr>\n",
       "  </thead>\n",
       "  <tbody>\n",
       "    <tr>\n",
       "      <th>3662</th>\n",
       "      <td>127a Lowedges Road, Sheffield (S8 7LE)</td>\n",
       "      <td>lowedge road</td>\n",
       "      <td>low edge road</td>\n",
       "    </tr>\n",
       "    <tr>\n",
       "      <th>2064</th>\n",
       "      <td>Flat 12, 20 St James's Road, London (SE16 4QJ)</td>\n",
       "      <td>st james road</td>\n",
       "      <td>st jame road</td>\n",
       "    </tr>\n",
       "    <tr>\n",
       "      <th>2065</th>\n",
       "      <td>Flat 33, 30 St James's Road, London (SE16 4QJ)</td>\n",
       "      <td>st james road</td>\n",
       "      <td>st jame road</td>\n",
       "    </tr>\n",
       "    <tr>\n",
       "      <th>2066</th>\n",
       "      <td>Flat 42, 30 St James's Road, London (SE16 4QJ)</td>\n",
       "      <td>st james road</td>\n",
       "      <td>st jame road</td>\n",
       "    </tr>\n",
       "    <tr>\n",
       "      <th>2067</th>\n",
       "      <td>Flat 2, 20 St James's Road, London (SE16 4QJ)</td>\n",
       "      <td>st james road</td>\n",
       "      <td>st jame road</td>\n",
       "    </tr>\n",
       "    <tr>\n",
       "      <th>...</th>\n",
       "      <td>...</td>\n",
       "      <td>...</td>\n",
       "      <td>...</td>\n",
       "    </tr>\n",
       "    <tr>\n",
       "      <th>467</th>\n",
       "      <td>Travelodge, Four Went Ways, Abington, Cambridg...</td>\n",
       "      <td>four wentway</td>\n",
       "      <td>four wentways</td>\n",
       "    </tr>\n",
       "    <tr>\n",
       "      <th>91</th>\n",
       "      <td>Land on the south side of Myrtle Lodge, Milfor...</td>\n",
       "      <td>milford road</td>\n",
       "      <td>millford road</td>\n",
       "    </tr>\n",
       "    <tr>\n",
       "      <th>48</th>\n",
       "      <td>Airspace above 35 Neville Road, Peacehaven (BN...</td>\n",
       "      <td>neville road</td>\n",
       "      <td>nevill road</td>\n",
       "    </tr>\n",
       "    <tr>\n",
       "      <th>67</th>\n",
       "      <td>Units A, B, C, D, E, F, G, H, J, K, L and M, S...</td>\n",
       "      <td>old end lane</td>\n",
       "      <td>oldend lane</td>\n",
       "    </tr>\n",
       "    <tr>\n",
       "      <th>85</th>\n",
       "      <td>The White House Hotel &amp; Restaurant, Marquiss D...</td>\n",
       "      <td>marquis drive</td>\n",
       "      <td>marqui drive</td>\n",
       "    </tr>\n",
       "  </tbody>\n",
       "</table>\n",
       "<p>176 rows × 3 columns</p>\n",
       "</div>"
      ],
      "text/plain": [
       "                                       property_address   street_name2  \\\n",
       "3662             127a Lowedges Road, Sheffield (S8 7LE)   lowedge road   \n",
       "2064     Flat 12, 20 St James's Road, London (SE16 4QJ)  st james road   \n",
       "2065     Flat 33, 30 St James's Road, London (SE16 4QJ)  st james road   \n",
       "2066     Flat 42, 30 St James's Road, London (SE16 4QJ)  st james road   \n",
       "2067      Flat 2, 20 St James's Road, London (SE16 4QJ)  st james road   \n",
       "...                                                 ...            ...   \n",
       "467   Travelodge, Four Went Ways, Abington, Cambridg...   four wentway   \n",
       "91    Land on the south side of Myrtle Lodge, Milfor...   milford road   \n",
       "48    Airspace above 35 Neville Road, Peacehaven (BN...   neville road   \n",
       "67    Units A, B, C, D, E, F, G, H, J, K, L and M, S...   old end lane   \n",
       "85    The White House Hotel & Restaurant, Marquiss D...  marquis drive   \n",
       "\n",
       "     matched_road_name  \n",
       "3662     low edge road  \n",
       "2064      st jame road  \n",
       "2065      st jame road  \n",
       "2066      st jame road  \n",
       "2067      st jame road  \n",
       "...                ...  \n",
       "467      four wentways  \n",
       "91       millford road  \n",
       "48         nevill road  \n",
       "67         oldend lane  \n",
       "85        marqui drive  \n",
       "\n",
       "[176 rows x 3 columns]"
      ]
     },
     "execution_count": 76,
     "metadata": {},
     "output_type": "execute_result"
    }
   ],
   "source": [
    "#values greater than or equal to 94 seem to be pretty good\n",
    "\n",
    "#ocod_road_match[ocod_road_match['similarity']==96][['property_address', 'street_name2', 'matched_road_name']]"
   ]
  },
  {
   "cell_type": "markdown",
   "id": "0eaa195d",
   "metadata": {},
   "source": [
    "### creating the aggregated ocod dataset for sampling"
   ]
  },
  {
   "cell_type": "code",
   "execution_count": 14,
   "id": "66ba5cb7",
   "metadata": {},
   "outputs": [
    {
     "name": "stderr",
     "output_type": "stream",
     "text": [
      "<ipython-input-14-ee466646cd5d>:2: FutureWarning: The default value of regex will change from True to False in a future version.\n",
      "  ocod_data_lsoa['postcode2'] = ocod_data['postcode'].str.lower().str.replace(\"\\s\", \"\")\n"
     ]
    }
   ],
   "source": [
    "ocod_data_lsoa = ocod_data\n",
    "ocod_data_lsoa['postcode2'] = ocod_data['postcode'].str.lower().str.replace(\"\\s\", \"\")\n",
    "\n",
    "ocod_data_lsoa = ocod_data.merge(postcode_district_lookup, 'left', left_on = \"postcode2\", right_on = \"postcode2\")\n",
    "\n",
    "ocod_data_lsoa.groupby(['lad11cd', 'lsoa11', 'msoa11', 'class']).size().reset_index().to_csv(\"/tf/empty_homes_data/ocod_lsoa.csv\")\n",
    "ocod_data_lsoa.groupby(['lad11cd', 'lsoa11', 'msoa11', 'class', 'within_larger_title']).size().reset_index().to_csv(\"/tf/empty_homes_data/ocod_lsoa_by_nested_type.csv\")"
   ]
  },
  {
   "cell_type": "code",
   "execution_count": 26,
   "id": "550b9093",
   "metadata": {},
   "outputs": [
    {
     "name": "stderr",
     "output_type": "stream",
     "text": [
      "<ipython-input-26-cfae2ca89cd1>:1: FutureWarning: The default value of regex will change from True to False in a future version.\n",
      "  voa_businesses['postcode2'] = voa_businesses['postcode'].str.lower().str.replace(\"\\s\", \"\")\n"
     ]
    }
   ],
   "source": [
    "\n",
    "voa_businesses['postcode2'] = voa_businesses['postcode'].str.lower().str.replace(\"\\s\", \"\")\n",
    "\n",
    "voa_businesses = voa_businesses.merge(postcode_district_lookup, 'left', left_on = \"postcode2\", right_on = \"postcode2\")\n",
    "#postcode_district_lookup\n"
   ]
  },
  {
   "cell_type": "code",
   "execution_count": 27,
   "id": "f3fe00ff",
   "metadata": {},
   "outputs": [
    {
     "data": {
      "text/plain": [
       "Index(['incrementing_entry_number', 'billing_authority_code',\n",
       "       'ndr_community_code', 'ba_reference_number',\n",
       "       'primary_and_secondary_description_code', 'primary_description_text',\n",
       "       'unique_address_reference_number_uarn', 'full_property_identifier',\n",
       "       'firms_name', 'number_or_name', 'street', 'town', 'postal_district',\n",
       "       'county', 'postcode', 'effective_date', 'composite_indicator',\n",
       "       'rateable_value', 'appeal_settlement_code', 'assessment_reference',\n",
       "       'list_alteration_date', 'scat_code_and_suffix', 'sub_street_level_3',\n",
       "       'sub_street_level_2', 'sub_street_level_1', 'case_number',\n",
       "       'current_from_date', 'current_to_date', 'postcode2', 'lad11cd',\n",
       "       'lad11nm'],\n",
       "      dtype='object')"
      ]
     },
     "execution_count": 27,
     "metadata": {},
     "output_type": "execute_result"
    }
   ],
   "source": [
    "voa_businesses.columns"
   ]
  },
  {
   "cell_type": "code",
   "execution_count": 100,
   "id": "7623a600",
   "metadata": {},
   "outputs": [],
   "source": [
    "ocod_district = ocod_data[(ocod_data['district'].str.lower() == 'tower hamlets') & (ocod_data['class'] == \"unknown\") & ocod_data.street_name.notnull() ]\n",
    "\n",
    "ocod_district = ocod_district[['title_number', 'unit_id', 'building_name','street_number', 'street_name', 'property_address' ]]\n",
    "voa_district = voa_businesses[voa_businesses['lad11nm'].str.lower() =='tower hamlets']\n",
    "\n"
   ]
  },
  {
   "cell_type": "code",
   "execution_count": 99,
   "id": "4f4f745e",
   "metadata": {},
   "outputs": [],
   "source": [
    "ocod_data.groupby('district').size().to_csv('/tf/empty_homes_data/ocod_districts.csv')"
   ]
  },
  {
   "cell_type": "code",
   "execution_count": 101,
   "id": "588b6707",
   "metadata": {},
   "outputs": [],
   "source": [
    "ocod_district[~ocod_district.street_name.str.strip().isin(voa_district.street.str.lower().unique())].to_csv(\"/tf/empty_homes_data/delete_me.csv\")"
   ]
  },
  {
   "cell_type": "code",
   "execution_count": 85,
   "id": "1ddadda7",
   "metadata": {},
   "outputs": [
    {
     "data": {
      "text/html": [
       "<div>\n",
       "<style scoped>\n",
       "    .dataframe tbody tr th:only-of-type {\n",
       "        vertical-align: middle;\n",
       "    }\n",
       "\n",
       "    .dataframe tbody tr th {\n",
       "        vertical-align: top;\n",
       "    }\n",
       "\n",
       "    .dataframe thead th {\n",
       "        text-align: right;\n",
       "    }\n",
       "</style>\n",
       "<table border=\"1\" class=\"dataframe\">\n",
       "  <thead>\n",
       "    <tr style=\"text-align: right;\">\n",
       "      <th>postcode</th>\n",
       "      <th>False</th>\n",
       "      <th>True</th>\n",
       "    </tr>\n",
       "    <tr>\n",
       "      <th>postcode</th>\n",
       "      <th></th>\n",
       "      <th></th>\n",
       "    </tr>\n",
       "  </thead>\n",
       "  <tbody>\n",
       "    <tr>\n",
       "      <th>False</th>\n",
       "      <td>2552185</td>\n",
       "      <td>0</td>\n",
       "    </tr>\n",
       "    <tr>\n",
       "      <th>True</th>\n",
       "      <td>0</td>\n",
       "      <td>1414</td>\n",
       "    </tr>\n",
       "  </tbody>\n",
       "</table>\n",
       "</div>"
      ],
      "text/plain": [
       "postcode    False  True\n",
       "postcode               \n",
       "False     2552185     0\n",
       "True            0  1414"
      ]
     },
     "execution_count": 85,
     "metadata": {},
     "output_type": "execute_result"
    }
   ],
   "source": [
    "pd.crosstab(voa_businesses.postcode.isnull(),voa_businesses.postcode.isnull())"
   ]
  },
  {
   "cell_type": "markdown",
   "id": "2bb4c35d",
   "metadata": {},
   "source": [
    "## Largest nested addresses"
   ]
  },
  {
   "cell_type": "code",
   "execution_count": null,
   "id": "2f0d64e7",
   "metadata": {},
   "outputs": [],
   "source": [
    "#The largest nested address\n",
    "ocod_data.within_title_id.max()"
   ]
  },
  {
   "cell_type": "code",
   "execution_count": null,
   "id": "42c32471",
   "metadata": {},
   "outputs": [],
   "source": [
    "ocod_data[ocod_data.within_title_id==ocod_data.within_title_id.max()].reset_index()['property_address'][0]\n",
    "\n"
   ]
  },
  {
   "cell_type": "code",
   "execution_count": 102,
   "id": "16b357ac",
   "metadata": {},
   "outputs": [],
   "source": [
    "ocod_data.to_csv(\"/tf/empty_homes_data/OCOD_classes.csv\")"
   ]
  },
  {
   "cell_type": "code",
   "execution_count": null,
   "id": "735c172e",
   "metadata": {},
   "outputs": [],
   "source": [
    "test  = ocod_data[ocod_data['class']==\"unknown\" ]\n",
    "\n",
    "pd.crosstab(test.postcode.notnull(), test.street_name.notnull())"
   ]
  },
  {
   "cell_type": "code",
   "execution_count": null,
   "id": "62b111bf",
   "metadata": {},
   "outputs": [],
   "source": [
    "ocod_data[ ocod_data.street_name.isnull()].to_csv(\"/tf/empty_homes_data/OCOD_no_street.csv\")"
   ]
  },
  {
   "cell_type": "code",
   "execution_count": null,
   "id": "5b7a2c7d",
   "metadata": {},
   "outputs": [],
   "source": [
    "1/21"
   ]
  }
 ],
 "metadata": {
  "kernelspec": {
   "display_name": "Python 3",
   "language": "python",
   "name": "python3"
  },
  "language_info": {
   "codemirror_mode": {
    "name": "ipython",
    "version": 3
   },
   "file_extension": ".py",
   "mimetype": "text/x-python",
   "name": "python",
   "nbconvert_exporter": "python",
   "pygments_lexer": "ipython3",
   "version": "3.8.10"
  }
 },
 "nbformat": 4,
 "nbformat_minor": 5
}
