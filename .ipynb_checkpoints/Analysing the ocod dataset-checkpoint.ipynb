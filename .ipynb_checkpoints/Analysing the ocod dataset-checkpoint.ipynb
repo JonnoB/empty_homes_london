{
 "cells": [
  {
   "cell_type": "markdown",
   "id": "17d63086",
   "metadata": {},
   "source": [
    "# Analysing the cleaned OCOD dataset\n",
    "\n",
    "This is causing problems and needs to be fixed needs the preceeding code\n",
    "'hillfield mansions and tagore house'\t"
   ]
  },
  {
   "cell_type": "code",
   "execution_count": 1,
   "id": "3948b703",
   "metadata": {},
   "outputs": [
    {
     "data": {
      "text/html": [
       "<style>.container { width:90% !important; }</style>"
      ],
      "text/plain": [
       "<IPython.core.display.HTML object>"
      ]
     },
     "metadata": {},
     "output_type": "display_data"
    }
   ],
   "source": [
    "from IPython.core.display import display, HTML\n",
    "display(HTML(\"<style>.container { width:90% !important; }</style>\"))\n",
    "import pandas as pd\n",
    "import numpy as np\n",
    "import os\n",
    "import re\n",
    "import io\n",
    "import zipfile\n",
    "from helper_functions import *\n",
    "\n"
   ]
  },
  {
   "cell_type": "code",
   "execution_count": 2,
   "id": "5af5ed4f",
   "metadata": {},
   "outputs": [],
   "source": [
    "#!pip install thefuzz[speedup]\n",
    "#from thefuzz import process #an alternative could jellyfish, nltk, diff-match-patch"
   ]
  },
  {
   "cell_type": "code",
   "execution_count": 3,
   "id": "d6bb958a",
   "metadata": {},
   "outputs": [
    {
     "name": "stderr",
     "output_type": "stream",
     "text": [
      "<ipython-input-3-e74e004024cc>:5: DtypeWarning: Columns (18,31,40,45) have mixed types. Specify dtype option on import or set low_memory=False.\n",
      "  postcode_district_lookup = pd.read_csv(f)[['pcds','oslaua','oa11','lsoa11', 'msoa11', 'ctry']]\n"
     ]
    }
   ],
   "source": [
    "target_post_area = \"Data/ONSPD_NOV_2021_UK.csv\"\n",
    "\n",
    "with zipfile.ZipFile(\"/tf/empty_homes_data/\" + \"ONSPD_NOV_2021_UK.zip\") as zf:\n",
    "    with io.TextIOWrapper(zf.open(target_post_area), encoding = 'latin-1') as f:\n",
    "        postcode_district_lookup = pd.read_csv(f)[['pcds','oslaua','oa11','lsoa11', 'msoa11', 'ctry']]\n",
    "        postcode_district_lookup = postcode_district_lookup[(postcode_district_lookup['ctry'] == 'E92000001') | (postcode_district_lookup['ctry'] == 'W92000004')]\n",
    "        postcode_district_lookup.rename(columns = {'pcds':'postcode2',\n",
    "                                                  'oslaua':'lad11cd',\n",
    "                                                   'oa11':'oa11cd',\n",
    "                                                  'lsoa11': 'lsoa11cd',\n",
    "                                                  'msoa11':'msoa11cd'}, inplace = True)\n",
    "        #spaces are removed because I don't know if the formatting is the same in the two datasets\n",
    "        postcode_district_lookup['postcode2']= postcode_district_lookup['postcode2'].str.lower().str.replace(r\"\\s\", r\"\", regex = True)\n",
    "        postcode_district_lookup.drop('ctry',  axis =1, inplace = True)\n"
   ]
  },
  {
   "cell_type": "code",
   "execution_count": 4,
   "id": "858e4f97",
   "metadata": {},
   "outputs": [
    {
     "name": "stderr",
     "output_type": "stream",
     "text": [
      "<ipython-input-4-4bb3ddb47f6f>:4: FutureWarning: The default value of regex will change from True to False in a future version.\n",
      "  ocod_data['postcode2'] = ocod_data['postcode'].str.lower().str.replace(\"\\s\", \"\")\n",
      "<ipython-input-4-4bb3ddb47f6f>:9: FutureWarning: The default value of regex will change from True to False in a future version.\n",
      "  ocod_data['street_number2'] = ocod_data['street_number'].str.replace(r\"^.*(?=\\b[0-9]+$)\", \"\").str.replace(r\"[^\\d]\", \"\", regex = True)\n"
     ]
    }
   ],
   "source": [
    "ocod_data =  pd.read_csv(\"/tf/empty_homes_data/OCOD_cleaned_expanded2.csv\")\n",
    "\n",
    "##add in the geographic area data like lsoa etc\n",
    "ocod_data['postcode2'] = ocod_data['postcode'].str.lower().str.replace(\"\\s\", \"\")\n",
    "\n",
    "ocod_data = ocod_data.merge(postcode_district_lookup, 'left', left_on = \"postcode2\", right_on = \"postcode2\")\n",
    "\n",
    "ocod_data['street_name'] = ocod_data['street_name'].str.replace(r\"^ +| +$\", r\"\", regex=True)\n",
    "ocod_data['street_number2'] = ocod_data['street_number'].str.replace(r\"^.*(?=\\b[0-9]+$)\", \"\").str.replace(r\"[^\\d]\", \"\", regex = True)\n",
    "\n",
    "#This stripped out versionof street name is used several times throughout the notebook\n",
    "ocod_data['street_name2'] = ocod_data.loc[:,'street_name'].str.replace(r\"'\", \"\", regex = True).\\\n",
    "    str.replace(r\"s(s)?(?=\\s)\", \"\", regex = True).str.replace(r\"\\s\", \"\", regex = True)"
   ]
  },
  {
   "cell_type": "code",
   "execution_count": 76,
   "id": "2512f097",
   "metadata": {},
   "outputs": [],
   "source": [
    "voa_businesses.loc[(voa_businesses['street_name2'].str.contains('strand')==True) & (voa_businesses['lad11cd']==\"E09000033\"), ['full_property_identifier', 'number_or_name', \"town\", 'street', 'street_name2', 'street_number','building_name']].to_csv('/tf/empty_homes_data/delete_me.csv')"
   ]
  },
  {
   "cell_type": "markdown",
   "id": "52af5b1f",
   "metadata": {},
   "source": [
    "## Using price paid data to match names\n",
    "\n",
    "The land registry does not use standardised LAD codes or names and \n",
    "the LAD names it uses appear to be wrong sometimes. I need to know the LADs so that I only try road matching within local authorities to minimise the chance of having the same road twice. To get around this I will use the substantially larger database of the price paid data to get all the land registry district names and match them to the onsp using the postcodes. This works as there are a large number of sales in each district most of them will have a postcode. There are cases where the wrong district or postcode is applied meaning a single district name can have two or more lad11cd's, to solve this I simply take the lad11cd with the largest number of counts.\n",
    "\n",
    "The resulting OCOD data frame has a LAD11CD for each entry, and thus allows the fuzzy road matching to work effectively"
   ]
  },
  {
   "cell_type": "code",
   "execution_count": 5,
   "id": "188bd9ea",
   "metadata": {},
   "outputs": [],
   "source": [
    "#https://www.gov.uk/guidance/about-the-price-paid-data#explanations-of-column-headers-in-the-ppd\n",
    "price_paid_headers = ['Transaction unique identifier', 'Price', 'Date of Transfer', 'Postcode', 'Property Type', \n",
    "                     'Old New', 'Duration', 'PAON', 'SAON', 'Street',  'Locality', 'Town', 'District', 'County',\n",
    "                     'PPD Category Type', 'Record Status - monthly file only']\n",
    "#clean up to make working with them easier\n",
    "price_paid_headers = [x.lower().replace(' ', '_') for x in price_paid_headers]\n",
    "\n",
    "##\n",
    "## Here we add in the lsoa11cd msoa11cd and lad11cd using postcode\n",
    "##\n",
    "\n",
    "#price_paid_df = pd.read_csv('/tf/empty_homes_data/price_paid_files/pp-2021.csv', names = price_paid_headers)\n",
    "price_paid_df = pd.concat([ pd.read_csv('/tf/empty_homes_data/price_paid_files/'+x, names = price_paid_headers) for x in os.listdir('/tf/empty_homes_data/price_paid_files')])\n",
    "\n",
    "price_paid_df['street'] = price_paid_df['street'].str.lower()\n",
    "\n",
    "price_paid_df['street_name2'] = price_paid_df.loc[:,'street'].str.replace(r\"'\", \"\", regex = True).\\\n",
    "    str.replace(r\"s(s)?(?=\\s)\", \"\", regex = True).str.replace(r\"\\s\", \"\", regex = True)\n",
    "\n",
    "price_paid_df['locality'] = price_paid_df['locality'].str.lower()\n",
    "price_paid_df['paon'] = price_paid_df['paon'].str.lower()\n",
    "\n",
    "price_paid_df = clean_street_numbers(price_paid_df, original_column = 'paon')\n",
    "\n",
    "price_paid_df['postcode2'] = price_paid_df['postcode'].str.lower().str.replace(r\"\\s\", r\"\", regex=True)\n",
    "\n",
    "price_paid_df = price_paid_df.merge(postcode_district_lookup, 'left', left_on = \"postcode2\", right_on = \"postcode2\")\n",
    "\n",
    "##\n",
    "## Not all observations have a postcode and some postcodes are erroneous or otherwise cannot be found in the postcode database\n",
    "## These entries need to be found ny joining districts\n",
    "##\n",
    "\n",
    "#when there are multiples take the lad11cd with the largest number of counts\n",
    "lad_lookup = price_paid_df[['district', 'lad11cd']].dropna().groupby(['district', 'lad11cd']).size().reset_index()\n",
    "lad_lookup.rename(columns = {0:'counts'}, inplace = True)\n",
    "lad_lookup = lad_lookup.sort_values('counts', ascending=False).groupby('lad11cd').first().reset_index()\n",
    "lad_lookup.drop('counts', axis = 1, inplace = True)\n",
    "\n",
    "temp = ocod_data\n",
    "\n",
    "#only take data that is missing the lad code. If you include only is missing postcode, bad postcode entries also get excluded leaving a small number of\n",
    "## blanks in the final dataset\n",
    "temp = temp[temp['lad11cd'].isna()]\n",
    "\n",
    "temp = temp.drop('lad11cd', axis = 1)\n",
    "\n",
    "temp = temp.merge(lad_lookup, left_on = \"district\", right_on = \"district\")\n",
    "\n",
    "temp['lad11cd'].isna().sum() #there are no na values showing all districts now have a lad code\n",
    "\n",
    "#join the ocod data back together again\n",
    "ocod_data = pd.concat( [temp, ocod_data[~ocod_data['lad11cd'].isna()]])\n",
    "\n",
    "#tidy up\n",
    "#del temp\n",
    "#del lad_lookup\n",
    "#del price_paid_df"
   ]
  },
  {
   "cell_type": "code",
   "execution_count": 6,
   "id": "a8b3fb5c",
   "metadata": {},
   "outputs": [
    {
     "data": {
      "text/html": [
       "<div>\n",
       "<style scoped>\n",
       "    .dataframe tbody tr th:only-of-type {\n",
       "        vertical-align: middle;\n",
       "    }\n",
       "\n",
       "    .dataframe tbody tr th {\n",
       "        vertical-align: top;\n",
       "    }\n",
       "\n",
       "    .dataframe thead th {\n",
       "        text-align: right;\n",
       "    }\n",
       "</style>\n",
       "<table border=\"1\" class=\"dataframe\">\n",
       "  <thead>\n",
       "    <tr style=\"text-align: right;\">\n",
       "      <th></th>\n",
       "      <th>transaction_unique_identifier</th>\n",
       "      <th>price</th>\n",
       "      <th>date_of_transfer</th>\n",
       "      <th>postcode</th>\n",
       "      <th>property_type</th>\n",
       "      <th>old_new</th>\n",
       "      <th>duration</th>\n",
       "      <th>paon</th>\n",
       "      <th>saon</th>\n",
       "      <th>street</th>\n",
       "      <th>...</th>\n",
       "      <th>county</th>\n",
       "      <th>ppd_category_type</th>\n",
       "      <th>record_status_-_monthly_file_only</th>\n",
       "      <th>street_name2</th>\n",
       "      <th>street_number</th>\n",
       "      <th>postcode2</th>\n",
       "      <th>lad11cd</th>\n",
       "      <th>oa11cd</th>\n",
       "      <th>lsoa11cd</th>\n",
       "      <th>msoa11cd</th>\n",
       "    </tr>\n",
       "  </thead>\n",
       "  <tbody>\n",
       "    <tr>\n",
       "      <th>0</th>\n",
       "      <td>{64342BFF-702A-422C-E053-6C04A8C0FB8A}</td>\n",
       "      <td>555000</td>\n",
       "      <td>2017-09-18 00:00</td>\n",
       "      <td>PO19 1LB</td>\n",
       "      <td>O</td>\n",
       "      <td>N</td>\n",
       "      <td>L</td>\n",
       "      <td>18</td>\n",
       "      <td>NaN</td>\n",
       "      <td>north street</td>\n",
       "      <td>...</td>\n",
       "      <td>WEST SUSSEX</td>\n",
       "      <td>B</td>\n",
       "      <td>A</td>\n",
       "      <td>northstreet</td>\n",
       "      <td>18</td>\n",
       "      <td>po191lb</td>\n",
       "      <td>E07000225</td>\n",
       "      <td>E00160587</td>\n",
       "      <td>E01031490</td>\n",
       "      <td>E02006570</td>\n",
       "    </tr>\n",
       "    <tr>\n",
       "      <th>1</th>\n",
       "      <td>{64342BFF-702B-422C-E053-6C04A8C0FB8A}</td>\n",
       "      <td>25000</td>\n",
       "      <td>2017-09-29 00:00</td>\n",
       "      <td>NaN</td>\n",
       "      <td>O</td>\n",
       "      <td>Y</td>\n",
       "      <td>L</td>\n",
       "      <td>ifield car park</td>\n",
       "      <td>PLOT 55</td>\n",
       "      <td>charlwood road</td>\n",
       "      <td>...</td>\n",
       "      <td>WEST SUSSEX</td>\n",
       "      <td>B</td>\n",
       "      <td>A</td>\n",
       "      <td>charlwoodroad</td>\n",
       "      <td>NaN</td>\n",
       "      <td>NaN</td>\n",
       "      <td>NaN</td>\n",
       "      <td>NaN</td>\n",
       "      <td>NaN</td>\n",
       "      <td>NaN</td>\n",
       "    </tr>\n",
       "    <tr>\n",
       "      <th>2</th>\n",
       "      <td>{64342BFF-702C-422C-E053-6C04A8C0FB8A}</td>\n",
       "      <td>177500</td>\n",
       "      <td>2017-04-07 00:00</td>\n",
       "      <td>PO19 7BJ</td>\n",
       "      <td>O</td>\n",
       "      <td>N</td>\n",
       "      <td>F</td>\n",
       "      <td>glenmore business park portfield works</td>\n",
       "      <td>UNIT 6</td>\n",
       "      <td>chichester by pass</td>\n",
       "      <td>...</td>\n",
       "      <td>WEST SUSSEX</td>\n",
       "      <td>B</td>\n",
       "      <td>A</td>\n",
       "      <td>chichesterbypass</td>\n",
       "      <td>NaN</td>\n",
       "      <td>po197bj</td>\n",
       "      <td>E07000225</td>\n",
       "      <td>E00160721</td>\n",
       "      <td>E01031513</td>\n",
       "      <td>E02006572</td>\n",
       "    </tr>\n",
       "    <tr>\n",
       "      <th>3</th>\n",
       "      <td>{64342BFF-702D-422C-E053-6C04A8C0FB8A}</td>\n",
       "      <td>90000</td>\n",
       "      <td>2017-10-09 00:00</td>\n",
       "      <td>BN43 5DB</td>\n",
       "      <td>O</td>\n",
       "      <td>N</td>\n",
       "      <td>L</td>\n",
       "      <td>118</td>\n",
       "      <td>NaN</td>\n",
       "      <td>high street</td>\n",
       "      <td>...</td>\n",
       "      <td>WEST SUSSEX</td>\n",
       "      <td>B</td>\n",
       "      <td>A</td>\n",
       "      <td>highstreet</td>\n",
       "      <td>118</td>\n",
       "      <td>bn435db</td>\n",
       "      <td>E07000223</td>\n",
       "      <td>E00167749</td>\n",
       "      <td>E01031364</td>\n",
       "      <td>E02006538</td>\n",
       "    </tr>\n",
       "    <tr>\n",
       "      <th>4</th>\n",
       "      <td>{64342BFF-702E-422C-E053-6C04A8C0FB8A}</td>\n",
       "      <td>190000</td>\n",
       "      <td>2017-10-10 00:00</td>\n",
       "      <td>PO21 1QD</td>\n",
       "      <td>O</td>\n",
       "      <td>N</td>\n",
       "      <td>F</td>\n",
       "      <td>25</td>\n",
       "      <td>NaN</td>\n",
       "      <td>station road</td>\n",
       "      <td>...</td>\n",
       "      <td>WEST SUSSEX</td>\n",
       "      <td>B</td>\n",
       "      <td>A</td>\n",
       "      <td>stationroad</td>\n",
       "      <td>25</td>\n",
       "      <td>po211qd</td>\n",
       "      <td>E07000224</td>\n",
       "      <td>E00160299</td>\n",
       "      <td>E01031436</td>\n",
       "      <td>E02006558</td>\n",
       "    </tr>\n",
       "    <tr>\n",
       "      <th>...</th>\n",
       "      <td>...</td>\n",
       "      <td>...</td>\n",
       "      <td>...</td>\n",
       "      <td>...</td>\n",
       "      <td>...</td>\n",
       "      <td>...</td>\n",
       "      <td>...</td>\n",
       "      <td>...</td>\n",
       "      <td>...</td>\n",
       "      <td>...</td>\n",
       "      <td>...</td>\n",
       "      <td>...</td>\n",
       "      <td>...</td>\n",
       "      <td>...</td>\n",
       "      <td>...</td>\n",
       "      <td>...</td>\n",
       "      <td>...</td>\n",
       "      <td>...</td>\n",
       "      <td>...</td>\n",
       "      <td>...</td>\n",
       "      <td>...</td>\n",
       "    </tr>\n",
       "    <tr>\n",
       "      <th>4812242</th>\n",
       "      <td>{C3C3F9B5-7995-362B-E053-6B04A8C03ACC}</td>\n",
       "      <td>220000</td>\n",
       "      <td>2021-03-08 00:00</td>\n",
       "      <td>TR11 2RR</td>\n",
       "      <td>T</td>\n",
       "      <td>N</td>\n",
       "      <td>F</td>\n",
       "      <td>40</td>\n",
       "      <td>NaN</td>\n",
       "      <td>pengarth rise</td>\n",
       "      <td>...</td>\n",
       "      <td>CORNWALL</td>\n",
       "      <td>A</td>\n",
       "      <td>A</td>\n",
       "      <td>pengarthrise</td>\n",
       "      <td>40</td>\n",
       "      <td>tr112rr</td>\n",
       "      <td>E06000052</td>\n",
       "      <td>E00094935</td>\n",
       "      <td>E01018806</td>\n",
       "      <td>E02003916</td>\n",
       "    </tr>\n",
       "    <tr>\n",
       "      <th>4812243</th>\n",
       "      <td>{C3C3F9B5-7996-362B-E053-6B04A8C03ACC}</td>\n",
       "      <td>430000</td>\n",
       "      <td>2021-02-05 00:00</td>\n",
       "      <td>PL15 8SS</td>\n",
       "      <td>D</td>\n",
       "      <td>N</td>\n",
       "      <td>F</td>\n",
       "      <td>17</td>\n",
       "      <td>NaN</td>\n",
       "      <td>well meadow</td>\n",
       "      <td>...</td>\n",
       "      <td>CORNWALL</td>\n",
       "      <td>A</td>\n",
       "      <td>A</td>\n",
       "      <td>wellmeadow</td>\n",
       "      <td>17</td>\n",
       "      <td>pl158ss</td>\n",
       "      <td>E06000052</td>\n",
       "      <td>E00095795</td>\n",
       "      <td>E01018968</td>\n",
       "      <td>E02003934</td>\n",
       "    </tr>\n",
       "    <tr>\n",
       "      <th>4812244</th>\n",
       "      <td>{C3C3F9B5-7997-362B-E053-6B04A8C03ACC}</td>\n",
       "      <td>236500</td>\n",
       "      <td>2021-03-12 00:00</td>\n",
       "      <td>TR21 0NE</td>\n",
       "      <td>F</td>\n",
       "      <td>N</td>\n",
       "      <td>L</td>\n",
       "      <td>mount flagon</td>\n",
       "      <td>ANNETT</td>\n",
       "      <td>NaN</td>\n",
       "      <td>...</td>\n",
       "      <td>ISLES OF SCILLY</td>\n",
       "      <td>A</td>\n",
       "      <td>A</td>\n",
       "      <td>NaN</td>\n",
       "      <td>NaN</td>\n",
       "      <td>tr210ne</td>\n",
       "      <td>E06000053</td>\n",
       "      <td>E00096403</td>\n",
       "      <td>E01019077</td>\n",
       "      <td>E02006781</td>\n",
       "    </tr>\n",
       "    <tr>\n",
       "      <th>4812245</th>\n",
       "      <td>{C3C3F9B5-7998-362B-E053-6B04A8C03ACC}</td>\n",
       "      <td>185050</td>\n",
       "      <td>2021-03-09 00:00</td>\n",
       "      <td>TR27 4DJ</td>\n",
       "      <td>T</td>\n",
       "      <td>N</td>\n",
       "      <td>F</td>\n",
       "      <td>102</td>\n",
       "      <td>NaN</td>\n",
       "      <td>commercial road</td>\n",
       "      <td>...</td>\n",
       "      <td>CORNWALL</td>\n",
       "      <td>A</td>\n",
       "      <td>A</td>\n",
       "      <td>commercialroad</td>\n",
       "      <td>102</td>\n",
       "      <td>tr274dj</td>\n",
       "      <td>E06000052</td>\n",
       "      <td>E00095885</td>\n",
       "      <td>E01018982</td>\n",
       "      <td>E02003944</td>\n",
       "    </tr>\n",
       "    <tr>\n",
       "      <th>4812246</th>\n",
       "      <td>{C3C3F9B5-7999-362B-E053-6B04A8C03ACC}</td>\n",
       "      <td>375000</td>\n",
       "      <td>2021-02-05 00:00</td>\n",
       "      <td>TR26 2SQ</td>\n",
       "      <td>D</td>\n",
       "      <td>N</td>\n",
       "      <td>F</td>\n",
       "      <td>9</td>\n",
       "      <td>NaN</td>\n",
       "      <td>polmennor drive</td>\n",
       "      <td>...</td>\n",
       "      <td>CORNWALL</td>\n",
       "      <td>A</td>\n",
       "      <td>A</td>\n",
       "      <td>polmennordrive</td>\n",
       "      <td>9</td>\n",
       "      <td>tr262sq</td>\n",
       "      <td>E06000052</td>\n",
       "      <td>E00095906</td>\n",
       "      <td>E01018985</td>\n",
       "      <td>E02003945</td>\n",
       "    </tr>\n",
       "  </tbody>\n",
       "</table>\n",
       "<p>4812247 rows × 23 columns</p>\n",
       "</div>"
      ],
      "text/plain": [
       "                  transaction_unique_identifier   price  date_of_transfer  \\\n",
       "0        {64342BFF-702A-422C-E053-6C04A8C0FB8A}  555000  2017-09-18 00:00   \n",
       "1        {64342BFF-702B-422C-E053-6C04A8C0FB8A}   25000  2017-09-29 00:00   \n",
       "2        {64342BFF-702C-422C-E053-6C04A8C0FB8A}  177500  2017-04-07 00:00   \n",
       "3        {64342BFF-702D-422C-E053-6C04A8C0FB8A}   90000  2017-10-09 00:00   \n",
       "4        {64342BFF-702E-422C-E053-6C04A8C0FB8A}  190000  2017-10-10 00:00   \n",
       "...                                         ...     ...               ...   \n",
       "4812242  {C3C3F9B5-7995-362B-E053-6B04A8C03ACC}  220000  2021-03-08 00:00   \n",
       "4812243  {C3C3F9B5-7996-362B-E053-6B04A8C03ACC}  430000  2021-02-05 00:00   \n",
       "4812244  {C3C3F9B5-7997-362B-E053-6B04A8C03ACC}  236500  2021-03-12 00:00   \n",
       "4812245  {C3C3F9B5-7998-362B-E053-6B04A8C03ACC}  185050  2021-03-09 00:00   \n",
       "4812246  {C3C3F9B5-7999-362B-E053-6B04A8C03ACC}  375000  2021-02-05 00:00   \n",
       "\n",
       "         postcode property_type old_new duration  \\\n",
       "0        PO19 1LB             O       N        L   \n",
       "1             NaN             O       Y        L   \n",
       "2        PO19 7BJ             O       N        F   \n",
       "3        BN43 5DB             O       N        L   \n",
       "4        PO21 1QD             O       N        F   \n",
       "...           ...           ...     ...      ...   \n",
       "4812242  TR11 2RR             T       N        F   \n",
       "4812243  PL15 8SS             D       N        F   \n",
       "4812244  TR21 0NE             F       N        L   \n",
       "4812245  TR27 4DJ             T       N        F   \n",
       "4812246  TR26 2SQ             D       N        F   \n",
       "\n",
       "                                           paon     saon              street  \\\n",
       "0                                            18      NaN        north street   \n",
       "1                               ifield car park  PLOT 55      charlwood road   \n",
       "2        glenmore business park portfield works   UNIT 6  chichester by pass   \n",
       "3                                           118      NaN         high street   \n",
       "4                                            25      NaN        station road   \n",
       "...                                         ...      ...                 ...   \n",
       "4812242                                      40      NaN       pengarth rise   \n",
       "4812243                                      17      NaN         well meadow   \n",
       "4812244                            mount flagon   ANNETT                 NaN   \n",
       "4812245                                     102      NaN     commercial road   \n",
       "4812246                                       9      NaN     polmennor drive   \n",
       "\n",
       "         ...           county ppd_category_type  \\\n",
       "0        ...      WEST SUSSEX                 B   \n",
       "1        ...      WEST SUSSEX                 B   \n",
       "2        ...      WEST SUSSEX                 B   \n",
       "3        ...      WEST SUSSEX                 B   \n",
       "4        ...      WEST SUSSEX                 B   \n",
       "...      ...              ...               ...   \n",
       "4812242  ...         CORNWALL                 A   \n",
       "4812243  ...         CORNWALL                 A   \n",
       "4812244  ...  ISLES OF SCILLY                 A   \n",
       "4812245  ...         CORNWALL                 A   \n",
       "4812246  ...         CORNWALL                 A   \n",
       "\n",
       "        record_status_-_monthly_file_only      street_name2 street_number  \\\n",
       "0                                       A       northstreet            18   \n",
       "1                                       A     charlwoodroad           NaN   \n",
       "2                                       A  chichesterbypass           NaN   \n",
       "3                                       A        highstreet           118   \n",
       "4                                       A       stationroad            25   \n",
       "...                                   ...               ...           ...   \n",
       "4812242                                 A      pengarthrise            40   \n",
       "4812243                                 A        wellmeadow            17   \n",
       "4812244                                 A               NaN           NaN   \n",
       "4812245                                 A    commercialroad           102   \n",
       "4812246                                 A    polmennordrive             9   \n",
       "\n",
       "        postcode2    lad11cd     oa11cd   lsoa11cd   msoa11cd  \n",
       "0         po191lb  E07000225  E00160587  E01031490  E02006570  \n",
       "1             NaN        NaN        NaN        NaN        NaN  \n",
       "2         po197bj  E07000225  E00160721  E01031513  E02006572  \n",
       "3         bn435db  E07000223  E00167749  E01031364  E02006538  \n",
       "4         po211qd  E07000224  E00160299  E01031436  E02006558  \n",
       "...           ...        ...        ...        ...        ...  \n",
       "4812242   tr112rr  E06000052  E00094935  E01018806  E02003916  \n",
       "4812243   pl158ss  E06000052  E00095795  E01018968  E02003934  \n",
       "4812244   tr210ne  E06000053  E00096403  E01019077  E02006781  \n",
       "4812245   tr274dj  E06000052  E00095885  E01018982  E02003944  \n",
       "4812246   tr262sq  E06000052  E00095906  E01018985  E02003945  \n",
       "\n",
       "[4812247 rows x 23 columns]"
      ]
     },
     "execution_count": 6,
     "metadata": {},
     "output_type": "execute_result"
    }
   ],
   "source": [
    "price_paid_df"
   ]
  },
  {
   "cell_type": "markdown",
   "id": "45eb4648",
   "metadata": {},
   "source": [
    "## Load Voa and get business postcodes\n",
    "\n",
    "This alllows businesses to be identified, and also missing lsoa to be added via the street name"
   ]
  },
  {
   "cell_type": "code",
   "execution_count": 7,
   "id": "8f5fd67a",
   "metadata": {},
   "outputs": [
    {
     "name": "stderr",
     "output_type": "stream",
     "text": [
      "<ipython-input-7-aaf34f73e94c>:14: DtypeWarning: Columns (1,2,6,12,13,17,22) have mixed types. Specify dtype option on import or set low_memory=False.\n",
      "  voa_businesses =  pd.read_csv('/tf/empty_homes_data/' +\n"
     ]
    }
   ],
   "source": [
    "VOA_headers_raw= [\"Incrementing Entry Number\", \"Billing Authority Code\", \"NDR Community Code\", \n",
    " \"BA Reference Number\", \"Primary And Secondary Description Code\", \"Primary Description Text\",\n",
    "\"Unique Address Reference Number UARN\", \"Full Property Identifier\", \"Firms Name\", \"Number Or Name\",\n",
    "\"Street\", \"Town\", \"Postal District\", \"County\", \"Postcode\", \"Effective Date\", \"Composite Indicator\",\n",
    " \"Rateable Value\", \"Appeal Settlement Code\", \"Assessment Reference\", \"List Alteration Date\", \"SCAT Code And Suffix\",\n",
    " \"Sub Street level 3\", \"Sub Street level 2\", \"Sub Street level 1\", \"Case Number\", \n",
    " \"Current From Date\", \"Current To Date\", \n",
    "]\n",
    "\n",
    "#set to lower and replace spaces with underscore to turn the names into appropriate column names\n",
    "VOA_headers = [x.lower().replace(\" \", \"_\") for x in VOA_headers_raw]\n",
    "\n",
    "\n",
    "voa_businesses =  pd.read_csv('/tf/empty_homes_data/' +\n",
    "                    'uk-englandwales-ndr-2017-listentries-compiled-epoch-0029-baseline-csv.csv',\n",
    "                   sep = \"*\",\n",
    "                   encoding_errors= 'ignore',\n",
    "                    header=None,\n",
    "                   names = VOA_headers,\n",
    "                    index_col = False,\n",
    "                    #usecols = list(range(1,28))\n",
    "                   )\n",
    "voa_businesses['postcode'] = voa_businesses['postcode'].str.lower()\n",
    "voa_businesses['street'] = voa_businesses['street'].str.lower()\n",
    "\n",
    "#voa_businesses['street_name2'] = voa_businesses['street'].str.replace(r\"'\", \"\", regex = True).\\\n",
    "#    str.replace(r\"s(s)?(?=\\s)\", \"\", regex = True).str.replace(r\"\\s\", \"\", regex = True)\n",
    "voa_businesses['street_name2'] = voa_businesses.loc[:,'street'].str.replace(r\"'\", \"\", regex = True).\\\n",
    "    str.replace(r\"s(s)?(?=\\s)\", \"\", regex = True).str.replace(r\"\\s\", \"\", regex = True)\n",
    "\n",
    "#this removes advertising hordings which are irrelevant\n",
    "voa_businesses = voa_businesses.loc[voa_businesses['primary_description_text'].str.contains(\"ADVERTISING\")==False,:]\n",
    "#remove several kinds of car parking space\n",
    "voa_businesses = voa_businesses[~voa_businesses['primary_and_secondary_description_code'].isin(['C0', 'CP','CP1', 'CX', 'MX'])]\n",
    "##\n",
    "##\n",
    "## Warning this removes a large amount of columns, these may be interesting for some people\n",
    "##\n",
    "##\n",
    "voa_businesses = voa_businesses.iloc[:,4:15]\n",
    "#Extract the street number\n",
    "#replace unit numbers with nothing to avoid accidentally using them as street numbers\n",
    "#voa_businesses['street_number'] = voa_businesses['number_or_name'].str.replace(r\"(unit|suite)\\s\\d+(,)?\", \"\", regex = True).str.extract(r\"(\\b[0-9\\-]+$)\")\n",
    "voa_businesses = clean_street_numbers(voa_businesses, original_column = 'number_or_name')\n",
    "\n",
    "#Westfield has a ludicrous numbering system and is removed to avoid issues\n",
    "voa_businesses.loc[voa_businesses['full_property_identifier'].str.contains('WESTFIELD SHOPPING CENTRE')==True, 'street_number']= np.nan\n",
    "#sometimes a phone number ends up in the address causing havoc, these are few (145) and  are ignored\n",
    "voa_businesses.loc[voa_businesses['street_number'].str.contains(r'-\\d+-', regex = True)==True, 'street_number']= np.nan\n",
    "\n",
    "voa_businesses['postcode2'] = voa_businesses['postcode'].str.lower().str.replace(\"\\s\", \"\", regex = True)\n",
    "#Extracts the name of any \"house\" buildings\n",
    "voa_businesses['building_name'] = voa_businesses['number_or_name'].str.lower().str.extract(r'((?<!\\S)(?:(?!\\b(?:\\)|\\(|r\\/o|floor|floors|pt|and|annexe|room|gf|south|north|east|west|at|on|in|of|adjoining|adj|basement|bsmt|fl|flr|flrs|wing)\\b)[^\\n\\d])*? house\\b)')\n",
    "\n",
    "#add in postcode data and LSOA etc data, this is useful for a range of tasks\n",
    "voa_businesses = voa_businesses.merge(postcode_district_lookup, left_on = 'postcode2', right_on = \"postcode2\")\n",
    "\n",
    "\n",
    "\n",
    "voa_businesses['street_name2'] = voa_businesses.loc[:,'street'].str.replace(r\"'\", \"\", regex = True).\\\n",
    "    str.replace(r\"s(s)?(?=\\s)\", \"\", regex = True).str.replace(r\"\\s\", \"\", regex = True)\n",
    "#del voa_businesses\n",
    "\n",
    "#this is quite large and no longer necessary so is removed from the workspace to save memory\n",
    "#del postcode_district_lookup"
   ]
  },
  {
   "cell_type": "markdown",
   "id": "f30938ea",
   "metadata": {},
   "source": [
    "# Street and buildings to match lsoa\n",
    "\n",
    "This section fills in missing lsoa11cd using knowledge of the LAD11cd and the streets within it. This takes data from price paid and voa"
   ]
  },
  {
   "cell_type": "code",
   "execution_count": 8,
   "id": "61ef2ef5",
   "metadata": {},
   "outputs": [
    {
     "name": "stderr",
     "output_type": "stream",
     "text": [
      "<ipython-input-8-4b6113370a7f>:26: FutureWarning: The default value of regex will change from True to False in a future version.\n",
      "  temp['paon'] = temp['paon'].str.replace(r\"\\d+\", \"\").replace(r\"and|\\&|-|,\", \"\", regex = True).replace(r\"^ +| +$\", r\"\", regex=True)\n",
      "<ipython-input-8-4b6113370a7f>:34: FutureWarning: The default value of regex will change from True to False in a future version.\n",
      "  pp_temp['paon'] = pp_temp['paon'].str.replace(r\"\\d+\", \"\").replace(r\"and|\\&|-|,\", \"\", regex = True).replace(r\"^ +| +$\", r\"\", regex=True)\n",
      "<ipython-input-8-4b6113370a7f>:34: SettingWithCopyWarning: \n",
      "A value is trying to be set on a copy of a slice from a DataFrame.\n",
      "Try using .loc[row_indexer,col_indexer] = value instead\n",
      "\n",
      "See the caveats in the documentation: https://pandas.pydata.org/pandas-docs/stable/user_guide/indexing.html#returning-a-view-versus-a-copy\n",
      "  pp_temp['paon'] = pp_temp['paon'].str.replace(r\"\\d+\", \"\").replace(r\"and|\\&|-|,\", \"\", regex = True).replace(r\"^ +| +$\", r\"\", regex=True)\n"
     ]
    }
   ],
   "source": [
    "##\n",
    "##This process is quite convoluted and there is certainly a more efficient and pythonic way\n",
    "## however the order within each filling method is important to ensure that there are no duplicates\n",
    "## as this causes the OCOD dataset to grow with duplicates\n",
    "##\n",
    "\n",
    "#replce the missing lsoa using street matching\n",
    "\n",
    "temp_lsoa = pd.concat([\n",
    "    price_paid_df[['street_name2', 'lad11cd', 'lsoa11cd']], voa_businesses[['street_name2', 'lad11cd', 'lsoa11cd']]\n",
    "                      ]).dropna(axis = 0, how = 'any', inplace = False)\n",
    "\n",
    "temp = temp_lsoa.groupby(['street_name2', 'lad11cd', 'lsoa11cd']).size().reset_index().groupby(['street_name2', 'lad11cd']).size()\\\n",
    ".reset_index().rename(columns = {0:'counts'})\n",
    "\n",
    "temp = temp[temp['counts']==1].merge(temp_lsoa.drop_duplicates(), \n",
    "                                     how = \"left\", on = ['street_name2', 'lad11cd']).rename(columns ={'lsoa11cd':'lsoa_street'})\n",
    "\n",
    "ocod_data = ocod_data.merge(temp[['lsoa_street', \"street_name2\", \"lad11cd\"]], how = \"left\", on = ['street_name2', 'lad11cd'])\n",
    "\n",
    "\n",
    "#replace the missing lsoa using building matching\n",
    "\n",
    "temp = price_paid_df.copy()\n",
    "\n",
    "temp['paon'] = temp['paon'].str.replace(r\"\\d+\", \"\").replace(r\"and|\\&|-|,\", \"\", regex = True).replace(r\"^ +| +$\", r\"\", regex=True)\n",
    "\n",
    "temp = temp.groupby(['paon', 'lad11cd', 'lsoa11cd']).size().reset_index()\n",
    "\n",
    "temp = temp[temp['paon'].str.len()!=0].groupby(['paon', 'lad11cd']).size().reset_index().rename(columns = {0:'counts'})\n",
    "\n",
    "pp_temp = price_paid_df[['paon', 'lad11cd','oa11cd' , 'lsoa11cd']]\n",
    "\n",
    "pp_temp['paon'] = pp_temp['paon'].str.replace(r\"\\d+\", \"\").replace(r\"and|\\&|-|,\", \"\", regex = True).replace(r\"^ +| +$\", r\"\", regex=True)\n",
    "\n",
    "pp_temp = pp_temp.drop_duplicates()\n",
    "\n",
    "temp = temp[temp['counts']==1].merge(pp_temp, \n",
    "                                     how = \"left\", on = ['paon', 'lad11cd'])\n",
    "\n",
    "temp = temp.rename(columns ={'lsoa11cd':'lsoa_building',\n",
    "                            'oa11cd':'oa_building',\n",
    "                            'paon':'building_name'}).drop_duplicates(subset = ['building_name', 'lsoa_building'])\n",
    "\n",
    "ocod_data = ocod_data.merge(temp[['lsoa_building', \"oa_building\" ,\"building_name\", \"lad11cd\"]], \n",
    "                       how = \"left\", \n",
    "                       on =  ['building_name', 'lad11cd'])\n",
    "\n",
    "ocod_data = ocod_data.merge(voa_businesses.loc[~voa_businesses['building_name'].isna(), \n",
    "                   ['building_name','oa11cd', 'lsoa11cd', 'lad11cd']].drop_duplicates(subset = ['building_name', 'lsoa11cd']).rename(\n",
    "    columns = {'lsoa11cd':'lsoa_busi_building',\n",
    "              'oa11cd':'oa_busi_building'}),\n",
    "                       how = \"left\", \n",
    "                       on =  ['building_name', 'lad11cd'])\n"
   ]
  },
  {
   "cell_type": "code",
   "execution_count": 9,
   "id": "61c637e2",
   "metadata": {},
   "outputs": [],
   "source": [
    "#I appreciate this is an almost artistically silly way of doing this. \n",
    "for x in ['lsoa_street', 'lsoa_building', 'lsoa_busi_building']:#, 'lsoa_business']:\n",
    "    ocod_data.loc[ocod_data['lsoa11cd'].isnull(), 'lsoa11cd'] = ocod_data[x][ocod_data['lsoa11cd'].isnull()] \n",
    "    \n",
    "#add in the OA for when building matches have occured\n",
    "for x in ['oa_building', 'oa_busi_building']:#, 'lsoa_business']:\n",
    "    ocod_data.loc[ocod_data['oa11cd'].isnull(), 'oa11cd'] = ocod_data[x][ocod_data['oa11cd'].isnull()] \n"
   ]
  },
  {
   "cell_type": "code",
   "execution_count": 10,
   "id": "657e453f",
   "metadata": {},
   "outputs": [
    {
     "data": {
      "text/plain": [
       "0.17601503759398496"
      ]
     },
     "execution_count": 10,
     "metadata": {},
     "output_type": "execute_result"
    }
   ],
   "source": [
    "ocod_data['lsoa11cd'].isnull().sum()/ocod_data.shape[0]"
   ]
  },
  {
   "cell_type": "code",
   "execution_count": 11,
   "id": "ac2cf149",
   "metadata": {},
   "outputs": [],
   "source": [
    "#after all other lsoa adding methods are completed\n",
    "#all nested properties with missing lsoa have the lsoa of the other properties within their group added\n",
    "\n",
    "temp = ocod_data.loc[(ocod_data['lsoa11cd'].notnull()) & (ocod_data['within_larger_title']==True) ,['lsoa11cd', 'title_number']].\\\n",
    "groupby(['lsoa11cd', 'title_number']).size().reset_index()\n",
    "temp = temp[['lsoa11cd', 'title_number']].rename(columns = {'lsoa11cd':'lsoa_nested'})\n",
    "\n",
    "#there are a small number of nested addresses where there are multiple lsoa this prevents increasing the number of observations with these duplicates\n",
    "#I don't think it matters if a ver observations are in neighbouring lsoa, the general spatial coherence is maintained\n",
    "temp = temp.groupby('title_number')['lsoa_nested'].first().reset_index()\n",
    "\n",
    "\n",
    "ocod_data = ocod_data.merge(temp[['title_number', 'lsoa_nested']], \n",
    "                       how = \"left\",\n",
    "                           on = \"title_number\")\n",
    "\n",
    "ocod_data.loc[ocod_data['lsoa11cd'].isnull(), 'lsoa11cd'] = ocod_data['lsoa_nested'][ocod_data['lsoa11cd'].isnull()] \n",
    "\n",
    "##\n",
    "##repeats again but for oa instead of lsoa\n",
    "##\n",
    "\n",
    "temp = ocod_data.loc[(ocod_data['oa11cd'].notnull()) & (ocod_data['within_larger_title']==True) ,['oa11cd', 'title_number']].\\\n",
    "groupby(['oa11cd', 'title_number']).size().reset_index()\n",
    "temp = temp[['oa11cd', 'title_number']].rename(columns = {'oa11cd':'oa_nested'})\n",
    "\n",
    "#there are a small number of nested addresses where there are multiple lsoa this prevents increasing the number of observations with these duplicates\n",
    "#I don't think it matters if a ver observations are in neighbouring lsoa, the general spatial coherence is maintained\n",
    "temp = temp.groupby('title_number')['oa_nested'].first().reset_index()\n",
    "\n",
    "\n",
    "ocod_data = ocod_data.merge(temp[['title_number', 'oa_nested']], \n",
    "                       how = \"left\",\n",
    "                           on = \"title_number\")\n",
    "\n",
    "ocod_data.loc[ocod_data['oa11cd'].isnull(), 'oa11cd'] = ocod_data['oa_nested'][ocod_data['oa11cd'].isnull()] \n"
   ]
  },
  {
   "cell_type": "markdown",
   "id": "81e533d7",
   "metadata": {},
   "source": [
    "## Matching at sub street level\n",
    "\n",
    "Some streets are on the boundary of LSOA this section uses the street number to match to the nearest lsoa."
   ]
  },
  {
   "cell_type": "code",
   "execution_count": 12,
   "id": "0ac66365",
   "metadata": {},
   "outputs": [
    {
     "name": "stdout",
     "output_type": "stream",
     "text": [
      "E06000031\n"
     ]
    },
    {
     "name": "stderr",
     "output_type": "stream",
     "text": [
      "<ipython-input-12-8bc6428979cb>:9: FutureWarning: The default value of regex will change from True to False in a future version.\n",
      "  missing_lsoa_df.loc[:,'street_number2'] = missing_lsoa_df.loc[:,'street_number'].str.replace(r\"^.*(?=\\b[0-9]+$)\", \"\").str.replace(r\"[^\\d]\", \"\", regex = True)\n",
      "<ipython-input-12-8bc6428979cb>:9: SettingWithCopyWarning: \n",
      "A value is trying to be set on a copy of a slice from a DataFrame.\n",
      "Try using .loc[row_indexer,col_indexer] = value instead\n",
      "\n",
      "See the caveats in the documentation: https://pandas.pydata.org/pandas-docs/stable/user_guide/indexing.html#returning-a-view-versus-a-copy\n",
      "  missing_lsoa_df.loc[:,'street_number2'] = missing_lsoa_df.loc[:,'street_number'].str.replace(r\"^.*(?=\\b[0-9]+$)\", \"\").str.replace(r\"[^\\d]\", \"\", regex = True)\n",
      "/tf/empty_homes_london/helper_functions.py:279: SettingWithCopyWarning: \n",
      "A value is trying to be set on a copy of a slice from a DataFrame.\n",
      "Try using .loc[row_indexer,col_indexer] = value instead\n",
      "\n",
      "See the caveats in the documentation: https://pandas.pydata.org/pandas-docs/stable/user_guide/indexing.html#returning-a-view-versus-a-copy\n",
      "  temp_multi['number_filter'] = filter_types\n",
      "<ipython-input-12-8bc6428979cb>:9: FutureWarning: The default value of regex will change from True to False in a future version.\n",
      "  missing_lsoa_df.loc[:,'street_number2'] = missing_lsoa_df.loc[:,'street_number'].str.replace(r\"^.*(?=\\b[0-9]+$)\", \"\").str.replace(r\"[^\\d]\", \"\", regex = True)\n",
      "<ipython-input-12-8bc6428979cb>:9: SettingWithCopyWarning: \n",
      "A value is trying to be set on a copy of a slice from a DataFrame.\n",
      "Try using .loc[row_indexer,col_indexer] = value instead\n",
      "\n",
      "See the caveats in the documentation: https://pandas.pydata.org/pandas-docs/stable/user_guide/indexing.html#returning-a-view-versus-a-copy\n",
      "  missing_lsoa_df.loc[:,'street_number2'] = missing_lsoa_df.loc[:,'street_number'].str.replace(r\"^.*(?=\\b[0-9]+$)\", \"\").str.replace(r\"[^\\d]\", \"\", regex = True)\n"
     ]
    },
    {
     "name": "stdout",
     "output_type": "stream",
     "text": [
      "i= 0  expand time,0.0 filter time0.0 make_dataframe_time 0.001\n",
      "broadway\n",
      "E07000032\n",
      "albionclose\n",
      "colliergrove\n",
      "gadfieldgrove\n",
      "E09000001\n"
     ]
    },
    {
     "name": "stderr",
     "output_type": "stream",
     "text": [
      "<ipython-input-12-8bc6428979cb>:9: FutureWarning: The default value of regex will change from True to False in a future version.\n",
      "  missing_lsoa_df.loc[:,'street_number2'] = missing_lsoa_df.loc[:,'street_number'].str.replace(r\"^.*(?=\\b[0-9]+$)\", \"\").str.replace(r\"[^\\d]\", \"\", regex = True)\n",
      "<ipython-input-12-8bc6428979cb>:9: SettingWithCopyWarning: \n",
      "A value is trying to be set on a copy of a slice from a DataFrame.\n",
      "Try using .loc[row_indexer,col_indexer] = value instead\n",
      "\n",
      "See the caveats in the documentation: https://pandas.pydata.org/pandas-docs/stable/user_guide/indexing.html#returning-a-view-versus-a-copy\n",
      "  missing_lsoa_df.loc[:,'street_number2'] = missing_lsoa_df.loc[:,'street_number'].str.replace(r\"^.*(?=\\b[0-9]+$)\", \"\").str.replace(r\"[^\\d]\", \"\", regex = True)\n",
      "/tf/empty_homes_london/helper_functions.py:279: SettingWithCopyWarning: \n",
      "A value is trying to be set on a copy of a slice from a DataFrame.\n",
      "Try using .loc[row_indexer,col_indexer] = value instead\n",
      "\n",
      "See the caveats in the documentation: https://pandas.pydata.org/pandas-docs/stable/user_guide/indexing.html#returning-a-view-versus-a-copy\n",
      "  temp_multi['number_filter'] = filter_types\n"
     ]
    },
    {
     "name": "stdout",
     "output_type": "stream",
     "text": [
      "i= 0  expand time,0.0 filter time0.0 make_dataframe_time 0.002\n",
      "londonwall\n",
      "cheapside\n",
      "woodstreet\n",
      "colemanstreet\n",
      "princestreet\n"
     ]
    },
    {
     "name": "stderr",
     "output_type": "stream",
     "text": [
      "<ipython-input-12-8bc6428979cb>:35: SettingWithCopyWarning: \n",
      "A value is trying to be set on a copy of a slice from a DataFrame.\n",
      "Try using .loc[row_indexer,col_indexer] = value instead\n",
      "\n",
      "See the caveats in the documentation: https://pandas.pydata.org/pandas-docs/stable/user_guide/indexing.html#returning-a-view-versus-a-copy\n",
      "  missing_lsoa_road['lsoa11cd'] = [street_number_to_lsoa(temp_road, int(missing_lsoa_road.iloc[missing_lsoa_row]['street_number2']))\n"
     ]
    },
    {
     "name": "stdout",
     "output_type": "stream",
     "text": [
      "queenstreet\n",
      "moorgate\n",
      "cannonstreet\n",
      "laurencepountneylane\n",
      "gutterlane\n",
      "pancralane\n",
      "houndsditch\n",
      "greshamstreet\n",
      "aldersgatestreet\n",
      "montagueplace\n",
      "fleetstreet\n",
      "georgestreet\n",
      "farringdonroad\n",
      "newbridgestreet\n",
      "cornhill\n",
      "vinestreet\n",
      "stmaryaxe\n",
      "atriumbuildingcannonbridge\n",
      "devonshiresquare\n",
      "onelondonwallplace\n",
      "westhardingstreet\n",
      "stonecuttersquare\n",
      "farringdonstreet\n",
      "oldbailey\n",
      "E08000019\n"
     ]
    },
    {
     "name": "stderr",
     "output_type": "stream",
     "text": [
      "<ipython-input-12-8bc6428979cb>:9: FutureWarning: The default value of regex will change from True to False in a future version.\n",
      "  missing_lsoa_df.loc[:,'street_number2'] = missing_lsoa_df.loc[:,'street_number'].str.replace(r\"^.*(?=\\b[0-9]+$)\", \"\").str.replace(r\"[^\\d]\", \"\", regex = True)\n",
      "<ipython-input-12-8bc6428979cb>:9: SettingWithCopyWarning: \n",
      "A value is trying to be set on a copy of a slice from a DataFrame.\n",
      "Try using .loc[row_indexer,col_indexer] = value instead\n",
      "\n",
      "See the caveats in the documentation: https://pandas.pydata.org/pandas-docs/stable/user_guide/indexing.html#returning-a-view-versus-a-copy\n",
      "  missing_lsoa_df.loc[:,'street_number2'] = missing_lsoa_df.loc[:,'street_number'].str.replace(r\"^.*(?=\\b[0-9]+$)\", \"\").str.replace(r\"[^\\d]\", \"\", regex = True)\n",
      "/tf/empty_homes_london/helper_functions.py:279: SettingWithCopyWarning: \n",
      "A value is trying to be set on a copy of a slice from a DataFrame.\n",
      "Try using .loc[row_indexer,col_indexer] = value instead\n",
      "\n",
      "See the caveats in the documentation: https://pandas.pydata.org/pandas-docs/stable/user_guide/indexing.html#returning-a-view-versus-a-copy\n",
      "  temp_multi['number_filter'] = filter_types\n"
     ]
    },
    {
     "name": "stdout",
     "output_type": "stream",
     "text": [
      "i= 0  expand time,0.0 filter time0.0 make_dataframe_time 0.002\n",
      "mainroad\n",
      "cityroad\n"
     ]
    },
    {
     "name": "stderr",
     "output_type": "stream",
     "text": [
      "<ipython-input-12-8bc6428979cb>:35: SettingWithCopyWarning: \n",
      "A value is trying to be set on a copy of a slice from a DataFrame.\n",
      "Try using .loc[row_indexer,col_indexer] = value instead\n",
      "\n",
      "See the caveats in the documentation: https://pandas.pydata.org/pandas-docs/stable/user_guide/indexing.html#returning-a-view-versus-a-copy\n",
      "  missing_lsoa_road['lsoa11cd'] = [street_number_to_lsoa(temp_road, int(missing_lsoa_road.iloc[missing_lsoa_row]['street_number2']))\n"
     ]
    },
    {
     "name": "stdout",
     "output_type": "stream",
     "text": [
      "monaroad\n",
      "northfieldroad\n",
      "cobdenviewroad\n",
      "manchesterroad\n",
      "taptonhillroad\n",
      "beightonroad\n",
      "stationroad\n",
      "smithywoodcrescent\n",
      "princeofwaleroad\n",
      "montgomeryroad\n",
      "manorlane\n",
      "kenwoodparkroad\n",
      "wincoroad\n",
      "handsworthroad\n",
      "beechwoodroad\n",
      "pinstonestreet\n",
      "barnsleyroad\n",
      "nortonavenue\n",
      "benlane\n",
      "woodseatroad\n",
      "middlewoodroad\n",
      "highstreet\n",
      "E08000017\n"
     ]
    },
    {
     "name": "stderr",
     "output_type": "stream",
     "text": [
      "<ipython-input-12-8bc6428979cb>:9: FutureWarning: The default value of regex will change from True to False in a future version.\n",
      "  missing_lsoa_df.loc[:,'street_number2'] = missing_lsoa_df.loc[:,'street_number'].str.replace(r\"^.*(?=\\b[0-9]+$)\", \"\").str.replace(r\"[^\\d]\", \"\", regex = True)\n",
      "<ipython-input-12-8bc6428979cb>:9: SettingWithCopyWarning: \n",
      "A value is trying to be set on a copy of a slice from a DataFrame.\n",
      "Try using .loc[row_indexer,col_indexer] = value instead\n",
      "\n",
      "See the caveats in the documentation: https://pandas.pydata.org/pandas-docs/stable/user_guide/indexing.html#returning-a-view-versus-a-copy\n",
      "  missing_lsoa_df.loc[:,'street_number2'] = missing_lsoa_df.loc[:,'street_number'].str.replace(r\"^.*(?=\\b[0-9]+$)\", \"\").str.replace(r\"[^\\d]\", \"\", regex = True)\n",
      "/tf/empty_homes_london/helper_functions.py:279: SettingWithCopyWarning: \n",
      "A value is trying to be set on a copy of a slice from a DataFrame.\n",
      "Try using .loc[row_indexer,col_indexer] = value instead\n",
      "\n",
      "See the caveats in the documentation: https://pandas.pydata.org/pandas-docs/stable/user_guide/indexing.html#returning-a-view-versus-a-copy\n",
      "  temp_multi['number_filter'] = filter_types\n",
      "<ipython-input-12-8bc6428979cb>:35: SettingWithCopyWarning: \n",
      "A value is trying to be set on a copy of a slice from a DataFrame.\n",
      "Try using .loc[row_indexer,col_indexer] = value instead\n",
      "\n",
      "See the caveats in the documentation: https://pandas.pydata.org/pandas-docs/stable/user_guide/indexing.html#returning-a-view-versus-a-copy\n",
      "  missing_lsoa_road['lsoa11cd'] = [street_number_to_lsoa(temp_road, int(missing_lsoa_road.iloc[missing_lsoa_row]['street_number2']))\n"
     ]
    },
    {
     "name": "stdout",
     "output_type": "stream",
     "text": [
      "i= 0  expand time,0.0 filter time0.0 make_dataframe_time 0.0\n",
      "thegreen\n",
      "kingstreet\n",
      "hallgate\n",
      "woodstreet\n",
      "doncasterroad\n",
      "askernroad\n",
      "highstreet\n",
      "frenchgate\n",
      "E09000028\n"
     ]
    },
    {
     "name": "stderr",
     "output_type": "stream",
     "text": [
      "<ipython-input-12-8bc6428979cb>:9: FutureWarning: The default value of regex will change from True to False in a future version.\n",
      "  missing_lsoa_df.loc[:,'street_number2'] = missing_lsoa_df.loc[:,'street_number'].str.replace(r\"^.*(?=\\b[0-9]+$)\", \"\").str.replace(r\"[^\\d]\", \"\", regex = True)\n",
      "<ipython-input-12-8bc6428979cb>:9: SettingWithCopyWarning: \n",
      "A value is trying to be set on a copy of a slice from a DataFrame.\n",
      "Try using .loc[row_indexer,col_indexer] = value instead\n",
      "\n",
      "See the caveats in the documentation: https://pandas.pydata.org/pandas-docs/stable/user_guide/indexing.html#returning-a-view-versus-a-copy\n",
      "  missing_lsoa_df.loc[:,'street_number2'] = missing_lsoa_df.loc[:,'street_number'].str.replace(r\"^.*(?=\\b[0-9]+$)\", \"\").str.replace(r\"[^\\d]\", \"\", regex = True)\n",
      "/tf/empty_homes_london/helper_functions.py:279: SettingWithCopyWarning: \n",
      "A value is trying to be set on a copy of a slice from a DataFrame.\n",
      "Try using .loc[row_indexer,col_indexer] = value instead\n",
      "\n",
      "See the caveats in the documentation: https://pandas.pydata.org/pandas-docs/stable/user_guide/indexing.html#returning-a-view-versus-a-copy\n",
      "  temp_multi['number_filter'] = filter_types\n"
     ]
    },
    {
     "name": "stdout",
     "output_type": "stream",
     "text": [
      "i= 0  expand time,0.0 filter time0.0 make_dataframe_time 0.001\n",
      "ameliastreet\n",
      "walworthroad\n",
      "manorplace\n",
      "bermondseystreet\n",
      "southwarkbridgeroad\n"
     ]
    },
    {
     "name": "stderr",
     "output_type": "stream",
     "text": [
      "<ipython-input-12-8bc6428979cb>:35: SettingWithCopyWarning: \n",
      "A value is trying to be set on a copy of a slice from a DataFrame.\n",
      "Try using .loc[row_indexer,col_indexer] = value instead\n",
      "\n",
      "See the caveats in the documentation: https://pandas.pydata.org/pandas-docs/stable/user_guide/indexing.html#returning-a-view-versus-a-copy\n",
      "  missing_lsoa_road['lsoa11cd'] = [street_number_to_lsoa(temp_road, int(missing_lsoa_road.iloc[missing_lsoa_row]['street_number2']))\n"
     ]
    },
    {
     "name": "stdout",
     "output_type": "stream",
     "text": [
      "ryelane\n",
      "brunelroad\n",
      "albionstreet\n",
      "towerbridgeroad\n",
      "grangeroad\n",
      "southwarkstreet\n",
      "peckhamhighstreet\n",
      "hanoverparkandlandandbuildingonthenorthsideofhanoverpark\n",
      "lomondgrove\n",
      "parkhousestreet\n",
      "falmouthroad\n",
      "blackfriarroad\n",
      "peckhamroad\n",
      "queenelizabethstreet\n",
      "lordshiplane\n",
      "millstreet\n",
      "johnruskinstreet\n",
      "cinnamonwharf,\n",
      "E09000020\n"
     ]
    },
    {
     "name": "stderr",
     "output_type": "stream",
     "text": [
      "<ipython-input-12-8bc6428979cb>:9: FutureWarning: The default value of regex will change from True to False in a future version.\n",
      "  missing_lsoa_df.loc[:,'street_number2'] = missing_lsoa_df.loc[:,'street_number'].str.replace(r\"^.*(?=\\b[0-9]+$)\", \"\").str.replace(r\"[^\\d]\", \"\", regex = True)\n",
      "<ipython-input-12-8bc6428979cb>:9: SettingWithCopyWarning: \n",
      "A value is trying to be set on a copy of a slice from a DataFrame.\n",
      "Try using .loc[row_indexer,col_indexer] = value instead\n",
      "\n",
      "See the caveats in the documentation: https://pandas.pydata.org/pandas-docs/stable/user_guide/indexing.html#returning-a-view-versus-a-copy\n",
      "  missing_lsoa_df.loc[:,'street_number2'] = missing_lsoa_df.loc[:,'street_number'].str.replace(r\"^.*(?=\\b[0-9]+$)\", \"\").str.replace(r\"[^\\d]\", \"\", regex = True)\n",
      "/tf/empty_homes_london/helper_functions.py:279: SettingWithCopyWarning: \n",
      "A value is trying to be set on a copy of a slice from a DataFrame.\n",
      "Try using .loc[row_indexer,col_indexer] = value instead\n",
      "\n",
      "See the caveats in the documentation: https://pandas.pydata.org/pandas-docs/stable/user_guide/indexing.html#returning-a-view-versus-a-copy\n",
      "  temp_multi['number_filter'] = filter_types\n"
     ]
    },
    {
     "name": "stdout",
     "output_type": "stream",
     "text": [
      "i= 0  expand time,0.0 filter time0.0 make_dataframe_time 0.002\n",
      "rabbitrow\n",
      "nottinghillgate\n",
      "kensingtonhighstreet\n",
      "oldchurchstreet\n",
      "pontstreet\n",
      "waltonstreet\n"
     ]
    },
    {
     "name": "stderr",
     "output_type": "stream",
     "text": [
      "<ipython-input-12-8bc6428979cb>:35: SettingWithCopyWarning: \n",
      "A value is trying to be set on a copy of a slice from a DataFrame.\n",
      "Try using .loc[row_indexer,col_indexer] = value instead\n",
      "\n",
      "See the caveats in the documentation: https://pandas.pydata.org/pandas-docs/stable/user_guide/indexing.html#returning-a-view-versus-a-copy\n",
      "  missing_lsoa_road['lsoa11cd'] = [street_number_to_lsoa(temp_road, int(missing_lsoa_road.iloc[missing_lsoa_row]['street_number2']))\n"
     ]
    },
    {
     "name": "stdout",
     "output_type": "stream",
     "text": [
      "hollywoodroad\n",
      "kensingtonchurchstreet\n",
      "earlcourtroad\n",
      "pembrokeplace\n",
      "phillimorewalk\n",
      "uxbridgestreet\n",
      "portobelloroad\n",
      "lancasterroad\n",
      "gloucesterroad\n",
      "cromwellroad\n",
      "cadogansquare\n",
      "draycottavenue\n",
      "harringtongardens\n",
      "fulhamroad\n",
      "bromptonroad\n",
      "lennoxgardens\n",
      "hancrescent\n",
      "harringtonroad\n",
      "westcromwellroad\n",
      "leckystreet\n",
      "marloeroad\n",
      "emperorgate\n",
      "lexhamgardens\n",
      "campdenhillroad\n",
      "cadoganplace\n",
      "queengateterrace\n",
      "beaufortgardens\n",
      "titestreet\n",
      "clarendonroad\n",
      "chepstowvillas\n",
      "ladbrokeroad\n",
      "grenvilleplace\n",
      "stalbanroad\n",
      "addisonroad\n",
      "hollandvillaroad\n",
      "kingroad\n",
      "sloanestreet\n",
      "stmaryabbotterrace\n",
      "horntonstreet\n",
      "onslowgardens\n",
      "kensingtonplace\n",
      "pembridgevillas\n",
      "deveregardens\n",
      "victoriaroad\n",
      "cheyneterrace\n",
      "kensingtonroad\n",
      "latimerroad\n",
      "campdenhillplace\n",
      "collegeplace\n",
      "cornwallgardens\n",
      "queengategardens\n",
      "burywalk\n",
      "chelseamanorstreet\n",
      "draycottplace\n",
      "canningplacemews\n",
      "queengate\n",
      "palacegardenterrace\n",
      "E09000007\n"
     ]
    },
    {
     "name": "stderr",
     "output_type": "stream",
     "text": [
      "<ipython-input-12-8bc6428979cb>:9: FutureWarning: The default value of regex will change from True to False in a future version.\n",
      "  missing_lsoa_df.loc[:,'street_number2'] = missing_lsoa_df.loc[:,'street_number'].str.replace(r\"^.*(?=\\b[0-9]+$)\", \"\").str.replace(r\"[^\\d]\", \"\", regex = True)\n",
      "<ipython-input-12-8bc6428979cb>:9: SettingWithCopyWarning: \n",
      "A value is trying to be set on a copy of a slice from a DataFrame.\n",
      "Try using .loc[row_indexer,col_indexer] = value instead\n",
      "\n",
      "See the caveats in the documentation: https://pandas.pydata.org/pandas-docs/stable/user_guide/indexing.html#returning-a-view-versus-a-copy\n",
      "  missing_lsoa_df.loc[:,'street_number2'] = missing_lsoa_df.loc[:,'street_number'].str.replace(r\"^.*(?=\\b[0-9]+$)\", \"\").str.replace(r\"[^\\d]\", \"\", regex = True)\n",
      "/tf/empty_homes_london/helper_functions.py:279: SettingWithCopyWarning: \n",
      "A value is trying to be set on a copy of a slice from a DataFrame.\n",
      "Try using .loc[row_indexer,col_indexer] = value instead\n",
      "\n",
      "See the caveats in the documentation: https://pandas.pydata.org/pandas-docs/stable/user_guide/indexing.html#returning-a-view-versus-a-copy\n",
      "  temp_multi['number_filter'] = filter_types\n"
     ]
    },
    {
     "name": "stdout",
     "output_type": "stream",
     "text": [
      "i= 0  expand time,0.0 filter time0.0 make_dataframe_time 0.001\n",
      "eustonroad\n",
      "warrenstreet\n",
      "fitzroystreet\n",
      "newoxfordstreet\n"
     ]
    },
    {
     "name": "stderr",
     "output_type": "stream",
     "text": [
      "<ipython-input-12-8bc6428979cb>:35: SettingWithCopyWarning: \n",
      "A value is trying to be set on a copy of a slice from a DataFrame.\n",
      "Try using .loc[row_indexer,col_indexer] = value instead\n",
      "\n",
      "See the caveats in the documentation: https://pandas.pydata.org/pandas-docs/stable/user_guide/indexing.html#returning-a-view-versus-a-copy\n",
      "  missing_lsoa_road['lsoa11cd'] = [street_number_to_lsoa(temp_road, int(missing_lsoa_road.iloc[missing_lsoa_row]['street_number2']))\n"
     ]
    },
    {
     "name": "stdout",
     "output_type": "stream",
     "text": [
      "juddstreet\n",
      "highholborn\n",
      "southamptonplace\n",
      "southamptonrow\n",
      "kilburnhighroad\n",
      "kilburnpriory,\n",
      "royalcollegestreet\n",
      "kentishtownroad\n",
      "belsizeroad\n",
      "heathstreet\n",
      "highroad\n",
      "quexroad\n",
      "huntleystreet\n",
      "cheniemews\n",
      "tottenhamcourtroad\n",
      "grayinnroad\n",
      "charingcroroad\n",
      "leithyard\n",
      "westcentralstreet\n",
      "camdenhighstreet\n",
      "delanceystreet\n",
      "jamestownroad\n",
      "grevilleroad\n",
      "pondstreet\n",
      "southendroad\n",
      "finchleyroad\n",
      "gowerstreet\n",
      "saffronstreet\n",
      "jockeyfields,\n",
      "westheathroad\n",
      "torringtonplace\n",
      "burystreet\n",
      "oakhillavenue\n",
      "winchesterroad\n",
      "avenueroad\n",
      "britanniastreet\n",
      "stpancraway\n",
      "ovalroad\n",
      "herbrandstreet\n",
      "lincolninnfields,\n",
      "clarenceway\n",
      "kinghenryroad\n",
      "willowroad\n",
      "loudounroad\n",
      "airspaceabovedunnpassage\n",
      "heathdrive\n",
      "leatherlane\n",
      "bayhamstreet\n",
      "cumberlandplace\n",
      "belsizegrove\n",
      "cambridgeterrace\n",
      "fitzroysquare\n",
      "E06000049\n"
     ]
    },
    {
     "name": "stderr",
     "output_type": "stream",
     "text": [
      "<ipython-input-12-8bc6428979cb>:9: FutureWarning: The default value of regex will change from True to False in a future version.\n",
      "  missing_lsoa_df.loc[:,'street_number2'] = missing_lsoa_df.loc[:,'street_number'].str.replace(r\"^.*(?=\\b[0-9]+$)\", \"\").str.replace(r\"[^\\d]\", \"\", regex = True)\n",
      "<ipython-input-12-8bc6428979cb>:9: SettingWithCopyWarning: \n",
      "A value is trying to be set on a copy of a slice from a DataFrame.\n",
      "Try using .loc[row_indexer,col_indexer] = value instead\n",
      "\n",
      "See the caveats in the documentation: https://pandas.pydata.org/pandas-docs/stable/user_guide/indexing.html#returning-a-view-versus-a-copy\n",
      "  missing_lsoa_df.loc[:,'street_number2'] = missing_lsoa_df.loc[:,'street_number'].str.replace(r\"^.*(?=\\b[0-9]+$)\", \"\").str.replace(r\"[^\\d]\", \"\", regex = True)\n",
      "/tf/empty_homes_london/helper_functions.py:279: SettingWithCopyWarning: \n",
      "A value is trying to be set on a copy of a slice from a DataFrame.\n",
      "Try using .loc[row_indexer,col_indexer] = value instead\n",
      "\n",
      "See the caveats in the documentation: https://pandas.pydata.org/pandas-docs/stable/user_guide/indexing.html#returning-a-view-versus-a-copy\n",
      "  temp_multi['number_filter'] = filter_types\n",
      "<ipython-input-12-8bc6428979cb>:35: SettingWithCopyWarning: \n",
      "A value is trying to be set on a copy of a slice from a DataFrame.\n",
      "Try using .loc[row_indexer,col_indexer] = value instead\n",
      "\n",
      "See the caveats in the documentation: https://pandas.pydata.org/pandas-docs/stable/user_guide/indexing.html#returning-a-view-versus-a-copy\n",
      "  missing_lsoa_road['lsoa11cd'] = [street_number_to_lsoa(temp_road, int(missing_lsoa_road.iloc[missing_lsoa_row]['street_number2']))\n",
      "<ipython-input-12-8bc6428979cb>:9: FutureWarning: The default value of regex will change from True to False in a future version.\n",
      "  missing_lsoa_df.loc[:,'street_number2'] = missing_lsoa_df.loc[:,'street_number'].str.replace(r\"^.*(?=\\b[0-9]+$)\", \"\").str.replace(r\"[^\\d]\", \"\", regex = True)\n",
      "<ipython-input-12-8bc6428979cb>:9: SettingWithCopyWarning: \n",
      "A value is trying to be set on a copy of a slice from a DataFrame.\n",
      "Try using .loc[row_indexer,col_indexer] = value instead\n",
      "\n",
      "See the caveats in the documentation: https://pandas.pydata.org/pandas-docs/stable/user_guide/indexing.html#returning-a-view-versus-a-copy\n",
      "  missing_lsoa_df.loc[:,'street_number2'] = missing_lsoa_df.loc[:,'street_number'].str.replace(r\"^.*(?=\\b[0-9]+$)\", \"\").str.replace(r\"[^\\d]\", \"\", regex = True)\n"
     ]
    },
    {
     "name": "stdout",
     "output_type": "stream",
     "text": [
      "i= 0  expand time,0.0 filter time0.0 make_dataframe_time 0.002\n",
      "gardinarclose\n",
      "aldenclose\n",
      "trevoredrive\n",
      "highstreet\n",
      "westonroad\n",
      "E09000011\n"
     ]
    },
    {
     "name": "stderr",
     "output_type": "stream",
     "text": [
      "/tf/empty_homes_london/helper_functions.py:279: SettingWithCopyWarning: \n",
      "A value is trying to be set on a copy of a slice from a DataFrame.\n",
      "Try using .loc[row_indexer,col_indexer] = value instead\n",
      "\n",
      "See the caveats in the documentation: https://pandas.pydata.org/pandas-docs/stable/user_guide/indexing.html#returning-a-view-versus-a-copy\n",
      "  temp_multi['number_filter'] = filter_types\n"
     ]
    },
    {
     "name": "stdout",
     "output_type": "stream",
     "text": [
      "i= 0  expand time,0.001 filter time0.0 make_dataframe_time 0.001\n",
      "creekroad\n",
      "harmonyway\n",
      "peartreeway\n",
      "bramshottavenue\n",
      "greenwichchurchstreet\n",
      "powistreet\n",
      "elthamhighstreet\n",
      "E09000033\n"
     ]
    },
    {
     "name": "stderr",
     "output_type": "stream",
     "text": [
      "<ipython-input-12-8bc6428979cb>:35: SettingWithCopyWarning: \n",
      "A value is trying to be set on a copy of a slice from a DataFrame.\n",
      "Try using .loc[row_indexer,col_indexer] = value instead\n",
      "\n",
      "See the caveats in the documentation: https://pandas.pydata.org/pandas-docs/stable/user_guide/indexing.html#returning-a-view-versus-a-copy\n",
      "  missing_lsoa_road['lsoa11cd'] = [street_number_to_lsoa(temp_road, int(missing_lsoa_road.iloc[missing_lsoa_row]['street_number2']))\n",
      "<ipython-input-12-8bc6428979cb>:9: FutureWarning: The default value of regex will change from True to False in a future version.\n",
      "  missing_lsoa_df.loc[:,'street_number2'] = missing_lsoa_df.loc[:,'street_number'].str.replace(r\"^.*(?=\\b[0-9]+$)\", \"\").str.replace(r\"[^\\d]\", \"\", regex = True)\n",
      "<ipython-input-12-8bc6428979cb>:9: SettingWithCopyWarning: \n",
      "A value is trying to be set on a copy of a slice from a DataFrame.\n",
      "Try using .loc[row_indexer,col_indexer] = value instead\n",
      "\n",
      "See the caveats in the documentation: https://pandas.pydata.org/pandas-docs/stable/user_guide/indexing.html#returning-a-view-versus-a-copy\n",
      "  missing_lsoa_df.loc[:,'street_number2'] = missing_lsoa_df.loc[:,'street_number'].str.replace(r\"^.*(?=\\b[0-9]+$)\", \"\").str.replace(r\"[^\\d]\", \"\", regex = True)\n",
      "/tf/empty_homes_london/helper_functions.py:279: SettingWithCopyWarning: \n",
      "A value is trying to be set on a copy of a slice from a DataFrame.\n",
      "Try using .loc[row_indexer,col_indexer] = value instead\n",
      "\n",
      "See the caveats in the documentation: https://pandas.pydata.org/pandas-docs/stable/user_guide/indexing.html#returning-a-view-versus-a-copy\n",
      "  temp_multi['number_filter'] = filter_types\n"
     ]
    },
    {
     "name": "stdout",
     "output_type": "stream",
     "text": [
      "i= 0  expand time,0.001 filter time0.0 make_dataframe_time 0.001\n",
      "corkstreet\n",
      "mountstreet\n",
      "daviestreet\n",
      "oldbondstreet\n",
      "piccadilly\n",
      "paddingtonstreet\n"
     ]
    },
    {
     "name": "stderr",
     "output_type": "stream",
     "text": [
      "<ipython-input-12-8bc6428979cb>:35: SettingWithCopyWarning: \n",
      "A value is trying to be set on a copy of a slice from a DataFrame.\n",
      "Try using .loc[row_indexer,col_indexer] = value instead\n",
      "\n",
      "See the caveats in the documentation: https://pandas.pydata.org/pandas-docs/stable/user_guide/indexing.html#returning-a-view-versus-a-copy\n",
      "  missing_lsoa_road['lsoa11cd'] = [street_number_to_lsoa(temp_road, int(missing_lsoa_road.iloc[missing_lsoa_row]['street_number2']))\n"
     ]
    },
    {
     "name": "stdout",
     "output_type": "stream",
     "text": [
      "parklane\n",
      "curzonplace\n",
      "oxfordstreet\n",
      "amberleyroad\n",
      "grosvenorhill\n",
      "greattitchfieldstreet\n",
      "parkcrescent\n",
      "portlandplace\n",
      "wiltonroad\n",
      "gillinghamstreet\n",
      "vauxhallbridgeroad\n",
      "praedstreet\n",
      "knightsbridge\n",
      "weymouthstreet\n",
      "hallamstreet\n",
      "bridfordmews\n",
      "edgwareroad\n",
      "crawfordplace\n",
      "stgeorgesquare\n",
      "mortimerstreet\n",
      "grosvenorstreet\n",
      "eatonsquare\n",
      "oldmaryleboneroad\n",
      "cavendishmewsouth\n",
      "belgravesquare\n",
      "belgravemews\n",
      "newbondstreet\n",
      "garrickstreet\n",
      "polandstreet\n",
      "darblaystreet\n",
      "gloucesterterrace\n",
      "leinstersquare\n",
      "marketplace\n",
      "woodfieldroad\n",
      "harrowroad\n",
      "cliffordstreet\n",
      "horseyard\n",
      "oldburlingtonstreet\n",
      "upperbrookstreet\n",
      "charlbertstreet\n",
      "maidavale\n",
      "chilternstreet\n",
      "greatportlandstreet\n",
      "greatpeterstreet\n",
      "newcavendishstreet\n",
      "charingcroroad\n",
      "winsleystreet\n",
      "curzonstreet\n",
      "greatmarlboroughstreet\n",
      "brookmews\n",
      "maryleboneroad\n",
      "circuroad\n",
      "queensboroughterrace\n",
      "oldcomptonstreet\n",
      "deanstreet\n",
      "howickplace\n",
      "ramilieplace\n",
      "crawfordstreet\n",
      "gloucesterplace\n",
      "albemarlestreet\n",
      "parkstreet\n",
      "uppergrosvenorstreet\n",
      "berwickstreet\n",
      "wardourmews\n",
      "southstreet\n",
      "grosvenorsquare\n",
      "southaudleystreet\n",
      "avenueroad\n",
      "townshendroad\n",
      "brutonplace\n",
      "londonstreet\n",
      "berkeleystreet\n",
      "manchestersquare\n",
      "wardourstreet\n",
      "brookstreet\n",
      "foleystreet\n",
      "ridinghousestreet\n",
      "strand\n",
      "bayswaterroad\n",
      "candoverstreet\n",
      "threekingyard\n",
      "lupustreet\n",
      "moretonstreet\n",
      "tachbrookstreet\n",
      "clavertonstreet\n",
      "grosvenorroad\n",
      "coventrystreet\n",
      "southsouthstreet\n",
      "carlislestreet\n",
      "grosvenorgardens\n",
      "grosvenorgardenmeweast\n",
      "rutlandgate\n",
      "rossmoreroad\n",
      "cravenroad\n",
      "georgestreet\n",
      "cravenhillgardens\n",
      "berkeleysquare\n",
      "clevelandsquare\n",
      "pimlicoroad\n",
      "kensingtonroad\n",
      "herefordroad\n",
      "formosastreet\n",
      "wellingtonroad\n",
      "eatonterrace\n",
      "abbeyroad\n",
      "shaftesburyavenue\n",
      "jamestreet\n",
      "warwickway\n",
      "portmantowergeorgestreet\n",
      "alderneystreet\n",
      "harleystreet\n",
      "cliftonroad\n",
      "queensway\n",
      "princegate\n",
      "princealbertroad\n",
      "portmansquare\n",
      "westbournegrove\n",
      "oxendonstreet\n",
      "bravingtonroad\n",
      "marshallstreet\n",
      "lyonplace\n",
      "cheshamplace\n",
      "inverneterrace\n",
      "princeconsortroad\n",
      "randolphavenue\n",
      "parkroad\n",
      "westbourneterrace\n",
      "sussexgardens\n",
      "theterrace\n",
      "norfolkcrescent\n",
      "beakstreet\n",
      "seymourstreet\n",
      "buckinghampalaceroad\n",
      "lissongrove\n",
      "greatcumberlandplace\n",
      "eburystreet\n",
      "ennismoregardens\n",
      "cambridgestreet\n",
      "croxleyroad\n",
      "stgeorgefields,\n",
      "abercornplace\n",
      "stjamestreet\n",
      "graftonstreet\n",
      "woodmews\n",
      "grosvenorplace\n",
      "dorsetmews\n",
      "norfolkterrace\n",
      "cavendishsquare\n",
      "clevelandplace\n",
      "greatwindmillstreet\n",
      "cochranestreet\n",
      "newscotlandyard\n",
      "wellstreet\n",
      "hydeparksquare\n",
      "kingstonhouseeastkensingtonroad\n",
      "kilburnlane\n",
      "marlboroughhill\n",
      "curzonsquare\n",
      "hydeparksquaremews\n",
      "montagusquare\n",
      "wigmorestreet\n",
      "uppermontagustreet\n",
      "sutherlandavenue\n",
      "bryanstonmeweast\n",
      "ashleygardens\n",
      "connaughtplace\n",
      "marlboroughplace\n",
      "regentstreet\n",
      "eatonplace\n",
      "princesquare\n",
      "thestrand\n",
      "welbeckstreet\n",
      "blackburnemews\n",
      "fernheadroad\n",
      "millbank\n",
      "hanwaygardens\n",
      "ecclestonsquare\n",
      "loudounroad\n",
      "horseferryroad\n",
      "queenannestreet\n",
      "buckinghamgate\n",
      "E09000019\n"
     ]
    },
    {
     "name": "stderr",
     "output_type": "stream",
     "text": [
      "<ipython-input-12-8bc6428979cb>:9: FutureWarning: The default value of regex will change from True to False in a future version.\n",
      "  missing_lsoa_df.loc[:,'street_number2'] = missing_lsoa_df.loc[:,'street_number'].str.replace(r\"^.*(?=\\b[0-9]+$)\", \"\").str.replace(r\"[^\\d]\", \"\", regex = True)\n",
      "<ipython-input-12-8bc6428979cb>:9: SettingWithCopyWarning: \n",
      "A value is trying to be set on a copy of a slice from a DataFrame.\n",
      "Try using .loc[row_indexer,col_indexer] = value instead\n",
      "\n",
      "See the caveats in the documentation: https://pandas.pydata.org/pandas-docs/stable/user_guide/indexing.html#returning-a-view-versus-a-copy\n",
      "  missing_lsoa_df.loc[:,'street_number2'] = missing_lsoa_df.loc[:,'street_number'].str.replace(r\"^.*(?=\\b[0-9]+$)\", \"\").str.replace(r\"[^\\d]\", \"\", regex = True)\n",
      "/tf/empty_homes_london/helper_functions.py:279: SettingWithCopyWarning: \n",
      "A value is trying to be set on a copy of a slice from a DataFrame.\n",
      "Try using .loc[row_indexer,col_indexer] = value instead\n",
      "\n",
      "See the caveats in the documentation: https://pandas.pydata.org/pandas-docs/stable/user_guide/indexing.html#returning-a-view-versus-a-copy\n",
      "  temp_multi['number_filter'] = filter_types\n"
     ]
    },
    {
     "name": "stdout",
     "output_type": "stream",
     "text": [
      "i= 0  expand time,0.0 filter time0.0 make_dataframe_time 0.002\n",
      "hollowayroad\n",
      "tollingtonroad\n",
      "parkfieldstreet\n"
     ]
    },
    {
     "name": "stderr",
     "output_type": "stream",
     "text": [
      "<ipython-input-12-8bc6428979cb>:35: SettingWithCopyWarning: \n",
      "A value is trying to be set on a copy of a slice from a DataFrame.\n",
      "Try using .loc[row_indexer,col_indexer] = value instead\n",
      "\n",
      "See the caveats in the documentation: https://pandas.pydata.org/pandas-docs/stable/user_guide/indexing.html#returning-a-view-versus-a-copy\n",
      "  missing_lsoa_road['lsoa11cd'] = [street_number_to_lsoa(temp_road, int(missing_lsoa_road.iloc[missing_lsoa_row]['street_number2']))\n"
     ]
    },
    {
     "name": "stdout",
     "output_type": "stream",
     "text": [
      "upperstreet\n",
      "yorkway\n",
      "oldstreet\n",
      "singerstreet\n",
      "ansonroad\n",
      "carletonroad\n",
      "roseberyavenue\n",
      "pentonstreet\n",
      "pentonvilleroad\n",
      "albionyard\n",
      "stjohnstreet\n",
      "cityroad\n",
      "whitecrostreet\n",
      "sevensisterroad\n",
      "angelgate\n",
      "sevensisterroadandhertsletroad\n",
      "liverpoolroad\n",
      "blackstockroad\n",
      "greenlanes\n",
      "greshamplace\n",
      "haltonroad\n",
      "E09000016\n"
     ]
    },
    {
     "name": "stderr",
     "output_type": "stream",
     "text": [
      "<ipython-input-12-8bc6428979cb>:9: FutureWarning: The default value of regex will change from True to False in a future version.\n",
      "  missing_lsoa_df.loc[:,'street_number2'] = missing_lsoa_df.loc[:,'street_number'].str.replace(r\"^.*(?=\\b[0-9]+$)\", \"\").str.replace(r\"[^\\d]\", \"\", regex = True)\n",
      "<ipython-input-12-8bc6428979cb>:9: SettingWithCopyWarning: \n",
      "A value is trying to be set on a copy of a slice from a DataFrame.\n",
      "Try using .loc[row_indexer,col_indexer] = value instead\n",
      "\n",
      "See the caveats in the documentation: https://pandas.pydata.org/pandas-docs/stable/user_guide/indexing.html#returning-a-view-versus-a-copy\n",
      "  missing_lsoa_df.loc[:,'street_number2'] = missing_lsoa_df.loc[:,'street_number'].str.replace(r\"^.*(?=\\b[0-9]+$)\", \"\").str.replace(r\"[^\\d]\", \"\", regex = True)\n",
      "/tf/empty_homes_london/helper_functions.py:279: SettingWithCopyWarning: \n",
      "A value is trying to be set on a copy of a slice from a DataFrame.\n",
      "Try using .loc[row_indexer,col_indexer] = value instead\n",
      "\n",
      "See the caveats in the documentation: https://pandas.pydata.org/pandas-docs/stable/user_guide/indexing.html#returning-a-view-versus-a-copy\n",
      "  temp_multi['number_filter'] = filter_types\n",
      "<ipython-input-12-8bc6428979cb>:35: SettingWithCopyWarning: \n",
      "A value is trying to be set on a copy of a slice from a DataFrame.\n",
      "Try using .loc[row_indexer,col_indexer] = value instead\n",
      "\n",
      "See the caveats in the documentation: https://pandas.pydata.org/pandas-docs/stable/user_guide/indexing.html#returning-a-view-versus-a-copy\n",
      "  missing_lsoa_road['lsoa11cd'] = [street_number_to_lsoa(temp_road, int(missing_lsoa_road.iloc[missing_lsoa_row]['street_number2']))\n",
      "<ipython-input-12-8bc6428979cb>:9: FutureWarning: The default value of regex will change from True to False in a future version.\n",
      "  missing_lsoa_df.loc[:,'street_number2'] = missing_lsoa_df.loc[:,'street_number'].str.replace(r\"^.*(?=\\b[0-9]+$)\", \"\").str.replace(r\"[^\\d]\", \"\", regex = True)\n",
      "<ipython-input-12-8bc6428979cb>:9: SettingWithCopyWarning: \n",
      "A value is trying to be set on a copy of a slice from a DataFrame.\n",
      "Try using .loc[row_indexer,col_indexer] = value instead\n",
      "\n",
      "See the caveats in the documentation: https://pandas.pydata.org/pandas-docs/stable/user_guide/indexing.html#returning-a-view-versus-a-copy\n",
      "  missing_lsoa_df.loc[:,'street_number2'] = missing_lsoa_df.loc[:,'street_number'].str.replace(r\"^.*(?=\\b[0-9]+$)\", \"\").str.replace(r\"[^\\d]\", \"\", regex = True)\n"
     ]
    },
    {
     "name": "stdout",
     "output_type": "stream",
     "text": [
      "i= 0  expand time,0.0 filter time0.0 make_dataframe_time 0.001\n",
      "marketplace\n",
      "swanwalk\n",
      "lowerbedfordroad\n",
      "E08000015\n"
     ]
    },
    {
     "name": "stderr",
     "output_type": "stream",
     "text": [
      "/tf/empty_homes_london/helper_functions.py:279: SettingWithCopyWarning: \n",
      "A value is trying to be set on a copy of a slice from a DataFrame.\n",
      "Try using .loc[row_indexer,col_indexer] = value instead\n",
      "\n",
      "See the caveats in the documentation: https://pandas.pydata.org/pandas-docs/stable/user_guide/indexing.html#returning-a-view-versus-a-copy\n",
      "  temp_multi['number_filter'] = filter_types\n",
      "<ipython-input-12-8bc6428979cb>:35: SettingWithCopyWarning: \n",
      "A value is trying to be set on a copy of a slice from a DataFrame.\n",
      "Try using .loc[row_indexer,col_indexer] = value instead\n",
      "\n",
      "See the caveats in the documentation: https://pandas.pydata.org/pandas-docs/stable/user_guide/indexing.html#returning-a-view-versus-a-copy\n",
      "  missing_lsoa_road['lsoa11cd'] = [street_number_to_lsoa(temp_road, int(missing_lsoa_road.iloc[missing_lsoa_row]['street_number2']))\n"
     ]
    },
    {
     "name": "stdout",
     "output_type": "stream",
     "text": [
      "i= 0  expand time,0.001 filter time0.001 make_dataframe_time 0.002\n",
      "frederickstreet\n",
      "brookstreet\n",
      "pricestreet\n",
      "arthurstreet\n",
      "caldyroad\n",
      "E09000015\n"
     ]
    },
    {
     "name": "stderr",
     "output_type": "stream",
     "text": [
      "<ipython-input-12-8bc6428979cb>:9: FutureWarning: The default value of regex will change from True to False in a future version.\n",
      "  missing_lsoa_df.loc[:,'street_number2'] = missing_lsoa_df.loc[:,'street_number'].str.replace(r\"^.*(?=\\b[0-9]+$)\", \"\").str.replace(r\"[^\\d]\", \"\", regex = True)\n",
      "<ipython-input-12-8bc6428979cb>:9: SettingWithCopyWarning: \n",
      "A value is trying to be set on a copy of a slice from a DataFrame.\n",
      "Try using .loc[row_indexer,col_indexer] = value instead\n",
      "\n",
      "See the caveats in the documentation: https://pandas.pydata.org/pandas-docs/stable/user_guide/indexing.html#returning-a-view-versus-a-copy\n",
      "  missing_lsoa_df.loc[:,'street_number2'] = missing_lsoa_df.loc[:,'street_number'].str.replace(r\"^.*(?=\\b[0-9]+$)\", \"\").str.replace(r\"[^\\d]\", \"\", regex = True)\n",
      "/tf/empty_homes_london/helper_functions.py:279: SettingWithCopyWarning: \n",
      "A value is trying to be set on a copy of a slice from a DataFrame.\n",
      "Try using .loc[row_indexer,col_indexer] = value instead\n",
      "\n",
      "See the caveats in the documentation: https://pandas.pydata.org/pandas-docs/stable/user_guide/indexing.html#returning-a-view-versus-a-copy\n",
      "  temp_multi['number_filter'] = filter_types\n"
     ]
    },
    {
     "name": "stdout",
     "output_type": "stream",
     "text": [
      "i= 0  expand time,0.001 filter time0.0 make_dataframe_time 0.002\n",
      "churchroad\n",
      "stationroad\n",
      "pinnerroad\n",
      "bridgestreet\n",
      "raynerlane\n",
      "northoltroad\n"
     ]
    },
    {
     "name": "stderr",
     "output_type": "stream",
     "text": [
      "<ipython-input-12-8bc6428979cb>:35: SettingWithCopyWarning: \n",
      "A value is trying to be set on a copy of a slice from a DataFrame.\n",
      "Try using .loc[row_indexer,col_indexer] = value instead\n",
      "\n",
      "See the caveats in the documentation: https://pandas.pydata.org/pandas-docs/stable/user_guide/indexing.html#returning-a-view-versus-a-copy\n",
      "  missing_lsoa_road['lsoa11cd'] = [street_number_to_lsoa(temp_road, int(missing_lsoa_road.iloc[missing_lsoa_row]['street_number2']))\n"
     ]
    },
    {
     "name": "stdout",
     "output_type": "stream",
     "text": [
      "welldoncrescent\n",
      "kentonroad\n",
      "E06000030\n"
     ]
    },
    {
     "name": "stderr",
     "output_type": "stream",
     "text": [
      "<ipython-input-12-8bc6428979cb>:9: FutureWarning: The default value of regex will change from True to False in a future version.\n",
      "  missing_lsoa_df.loc[:,'street_number2'] = missing_lsoa_df.loc[:,'street_number'].str.replace(r\"^.*(?=\\b[0-9]+$)\", \"\").str.replace(r\"[^\\d]\", \"\", regex = True)\n",
      "<ipython-input-12-8bc6428979cb>:9: SettingWithCopyWarning: \n",
      "A value is trying to be set on a copy of a slice from a DataFrame.\n",
      "Try using .loc[row_indexer,col_indexer] = value instead\n",
      "\n",
      "See the caveats in the documentation: https://pandas.pydata.org/pandas-docs/stable/user_guide/indexing.html#returning-a-view-versus-a-copy\n",
      "  missing_lsoa_df.loc[:,'street_number2'] = missing_lsoa_df.loc[:,'street_number'].str.replace(r\"^.*(?=\\b[0-9]+$)\", \"\").str.replace(r\"[^\\d]\", \"\", regex = True)\n",
      "/tf/empty_homes_london/helper_functions.py:279: SettingWithCopyWarning: \n",
      "A value is trying to be set on a copy of a slice from a DataFrame.\n",
      "Try using .loc[row_indexer,col_indexer] = value instead\n",
      "\n",
      "See the caveats in the documentation: https://pandas.pydata.org/pandas-docs/stable/user_guide/indexing.html#returning-a-view-versus-a-copy\n",
      "  temp_multi['number_filter'] = filter_types\n",
      "<ipython-input-12-8bc6428979cb>:35: SettingWithCopyWarning: \n",
      "A value is trying to be set on a copy of a slice from a DataFrame.\n",
      "Try using .loc[row_indexer,col_indexer] = value instead\n",
      "\n",
      "See the caveats in the documentation: https://pandas.pydata.org/pandas-docs/stable/user_guide/indexing.html#returning-a-view-versus-a-copy\n",
      "  missing_lsoa_road['lsoa11cd'] = [street_number_to_lsoa(temp_road, int(missing_lsoa_road.iloc[missing_lsoa_row]['street_number2']))\n",
      "<ipython-input-12-8bc6428979cb>:9: FutureWarning: The default value of regex will change from True to False in a future version.\n",
      "  missing_lsoa_df.loc[:,'street_number2'] = missing_lsoa_df.loc[:,'street_number'].str.replace(r\"^.*(?=\\b[0-9]+$)\", \"\").str.replace(r\"[^\\d]\", \"\", regex = True)\n",
      "<ipython-input-12-8bc6428979cb>:9: SettingWithCopyWarning: \n",
      "A value is trying to be set on a copy of a slice from a DataFrame.\n",
      "Try using .loc[row_indexer,col_indexer] = value instead\n",
      "\n",
      "See the caveats in the documentation: https://pandas.pydata.org/pandas-docs/stable/user_guide/indexing.html#returning-a-view-versus-a-copy\n",
      "  missing_lsoa_df.loc[:,'street_number2'] = missing_lsoa_df.loc[:,'street_number'].str.replace(r\"^.*(?=\\b[0-9]+$)\", \"\").str.replace(r\"[^\\d]\", \"\", regex = True)\n"
     ]
    },
    {
     "name": "stdout",
     "output_type": "stream",
     "text": [
      "i= 0  expand time,0.0 filter time0.0 make_dataframe_time 0.001\n",
      "mazurekway\n",
      "regentstreet\n",
      "barnfieldroad\n",
      "E06000050\n"
     ]
    },
    {
     "name": "stderr",
     "output_type": "stream",
     "text": [
      "/tf/empty_homes_london/helper_functions.py:279: SettingWithCopyWarning: \n",
      "A value is trying to be set on a copy of a slice from a DataFrame.\n",
      "Try using .loc[row_indexer,col_indexer] = value instead\n",
      "\n",
      "See the caveats in the documentation: https://pandas.pydata.org/pandas-docs/stable/user_guide/indexing.html#returning-a-view-versus-a-copy\n",
      "  temp_multi['number_filter'] = filter_types\n",
      "<ipython-input-12-8bc6428979cb>:35: SettingWithCopyWarning: \n",
      "A value is trying to be set on a copy of a slice from a DataFrame.\n",
      "Try using .loc[row_indexer,col_indexer] = value instead\n",
      "\n",
      "See the caveats in the documentation: https://pandas.pydata.org/pandas-docs/stable/user_guide/indexing.html#returning-a-view-versus-a-copy\n",
      "  missing_lsoa_road['lsoa11cd'] = [street_number_to_lsoa(temp_road, int(missing_lsoa_road.iloc[missing_lsoa_row]['street_number2']))\n"
     ]
    },
    {
     "name": "stdout",
     "output_type": "stream",
     "text": [
      "i= 0  expand time,0.0 filter time0.0 make_dataframe_time 0.001\n",
      "marinawalk\n",
      "marinadrive\n",
      "marketsquare\n",
      "chesterroad\n",
      "E08000010\n"
     ]
    },
    {
     "name": "stderr",
     "output_type": "stream",
     "text": [
      "<ipython-input-12-8bc6428979cb>:9: FutureWarning: The default value of regex will change from True to False in a future version.\n",
      "  missing_lsoa_df.loc[:,'street_number2'] = missing_lsoa_df.loc[:,'street_number'].str.replace(r\"^.*(?=\\b[0-9]+$)\", \"\").str.replace(r\"[^\\d]\", \"\", regex = True)\n",
      "<ipython-input-12-8bc6428979cb>:9: SettingWithCopyWarning: \n",
      "A value is trying to be set on a copy of a slice from a DataFrame.\n",
      "Try using .loc[row_indexer,col_indexer] = value instead\n",
      "\n",
      "See the caveats in the documentation: https://pandas.pydata.org/pandas-docs/stable/user_guide/indexing.html#returning-a-view-versus-a-copy\n",
      "  missing_lsoa_df.loc[:,'street_number2'] = missing_lsoa_df.loc[:,'street_number'].str.replace(r\"^.*(?=\\b[0-9]+$)\", \"\").str.replace(r\"[^\\d]\", \"\", regex = True)\n",
      "/tf/empty_homes_london/helper_functions.py:279: SettingWithCopyWarning: \n",
      "A value is trying to be set on a copy of a slice from a DataFrame.\n",
      "Try using .loc[row_indexer,col_indexer] = value instead\n",
      "\n",
      "See the caveats in the documentation: https://pandas.pydata.org/pandas-docs/stable/user_guide/indexing.html#returning-a-view-versus-a-copy\n",
      "  temp_multi['number_filter'] = filter_types\n"
     ]
    },
    {
     "name": "stdout",
     "output_type": "stream",
     "text": [
      "i= 0  expand time,0.0 filter time0.0 make_dataframe_time 0.001\n",
      "wiganroad\n"
     ]
    },
    {
     "name": "stderr",
     "output_type": "stream",
     "text": [
      "<ipython-input-12-8bc6428979cb>:35: SettingWithCopyWarning: \n",
      "A value is trying to be set on a copy of a slice from a DataFrame.\n",
      "Try using .loc[row_indexer,col_indexer] = value instead\n",
      "\n",
      "See the caveats in the documentation: https://pandas.pydata.org/pandas-docs/stable/user_guide/indexing.html#returning-a-view-versus-a-copy\n",
      "  missing_lsoa_road['lsoa11cd'] = [street_number_to_lsoa(temp_road, int(missing_lsoa_road.iloc[missing_lsoa_row]['street_number2']))\n"
     ]
    },
    {
     "name": "stdout",
     "output_type": "stream",
     "text": [
      "tyldesleyroad\n",
      "huntstreet\n",
      "elizabethstreet\n",
      "boltonroad\n",
      "boltonoldroad\n",
      "baglane\n",
      "mealhouselane\n",
      "sumnerstreet\n",
      "leighroad\n",
      "earlstreet\n",
      "bridgestreet\n",
      "coatpitlane\n",
      "gloucesterstreet\n",
      "heskethstreet\n",
      "barnepassage\n",
      "nelsonstreet\n",
      "bradshawstreet\n",
      "worsleystreet\n",
      "belgraveclose\n",
      "marketstreet\n",
      "melrosedrive\n",
      "mosleycommonroad\n",
      "E07000070\n"
     ]
    },
    {
     "name": "stderr",
     "output_type": "stream",
     "text": [
      "<ipython-input-12-8bc6428979cb>:9: FutureWarning: The default value of regex will change from True to False in a future version.\n",
      "  missing_lsoa_df.loc[:,'street_number2'] = missing_lsoa_df.loc[:,'street_number'].str.replace(r\"^.*(?=\\b[0-9]+$)\", \"\").str.replace(r\"[^\\d]\", \"\", regex = True)\n",
      "<ipython-input-12-8bc6428979cb>:9: SettingWithCopyWarning: \n",
      "A value is trying to be set on a copy of a slice from a DataFrame.\n",
      "Try using .loc[row_indexer,col_indexer] = value instead\n",
      "\n",
      "See the caveats in the documentation: https://pandas.pydata.org/pandas-docs/stable/user_guide/indexing.html#returning-a-view-versus-a-copy\n",
      "  missing_lsoa_df.loc[:,'street_number2'] = missing_lsoa_df.loc[:,'street_number'].str.replace(r\"^.*(?=\\b[0-9]+$)\", \"\").str.replace(r\"[^\\d]\", \"\", regex = True)\n",
      "/tf/empty_homes_london/helper_functions.py:279: SettingWithCopyWarning: \n",
      "A value is trying to be set on a copy of a slice from a DataFrame.\n",
      "Try using .loc[row_indexer,col_indexer] = value instead\n",
      "\n",
      "See the caveats in the documentation: https://pandas.pydata.org/pandas-docs/stable/user_guide/indexing.html#returning-a-view-versus-a-copy\n",
      "  temp_multi['number_filter'] = filter_types\n",
      "<ipython-input-12-8bc6428979cb>:35: SettingWithCopyWarning: \n",
      "A value is trying to be set on a copy of a slice from a DataFrame.\n",
      "Try using .loc[row_indexer,col_indexer] = value instead\n",
      "\n",
      "See the caveats in the documentation: https://pandas.pydata.org/pandas-docs/stable/user_guide/indexing.html#returning-a-view-versus-a-copy\n",
      "  missing_lsoa_road['lsoa11cd'] = [street_number_to_lsoa(temp_road, int(missing_lsoa_road.iloc[missing_lsoa_row]['street_number2']))\n",
      "<ipython-input-12-8bc6428979cb>:9: FutureWarning: The default value of regex will change from True to False in a future version.\n",
      "  missing_lsoa_df.loc[:,'street_number2'] = missing_lsoa_df.loc[:,'street_number'].str.replace(r\"^.*(?=\\b[0-9]+$)\", \"\").str.replace(r\"[^\\d]\", \"\", regex = True)\n",
      "<ipython-input-12-8bc6428979cb>:9: SettingWithCopyWarning: \n",
      "A value is trying to be set on a copy of a slice from a DataFrame.\n",
      "Try using .loc[row_indexer,col_indexer] = value instead\n",
      "\n",
      "See the caveats in the documentation: https://pandas.pydata.org/pandas-docs/stable/user_guide/indexing.html#returning-a-view-versus-a-copy\n",
      "  missing_lsoa_df.loc[:,'street_number2'] = missing_lsoa_df.loc[:,'street_number'].str.replace(r\"^.*(?=\\b[0-9]+$)\", \"\").str.replace(r\"[^\\d]\", \"\", regex = True)\n"
     ]
    },
    {
     "name": "stdout",
     "output_type": "stream",
     "text": [
      "i= 0  expand time,0.0 filter time0.0 make_dataframe_time 0.001\n",
      "langfordplace\n",
      "stonhamplace\n",
      "moulshamstreet\n",
      "barracksquare\n",
      "newlondonroad\n",
      "E08000003\n"
     ]
    },
    {
     "name": "stderr",
     "output_type": "stream",
     "text": [
      "/tf/empty_homes_london/helper_functions.py:279: SettingWithCopyWarning: \n",
      "A value is trying to be set on a copy of a slice from a DataFrame.\n",
      "Try using .loc[row_indexer,col_indexer] = value instead\n",
      "\n",
      "See the caveats in the documentation: https://pandas.pydata.org/pandas-docs/stable/user_guide/indexing.html#returning-a-view-versus-a-copy\n",
      "  temp_multi['number_filter'] = filter_types\n"
     ]
    },
    {
     "name": "stdout",
     "output_type": "stream",
     "text": [
      "i= 0  expand time,0.0 filter time0.0 make_dataframe_time 0.001\n",
      "deansgate\n",
      "oldhamstreet\n",
      "hiltonstreet\n",
      "thomastreet\n",
      "southernstreet\n",
      "oxfordstreet\n",
      "meltonroad\n",
      "spearstreet\n",
      "hartroad\n",
      "highstreet\n"
     ]
    },
    {
     "name": "stderr",
     "output_type": "stream",
     "text": [
      "<ipython-input-12-8bc6428979cb>:35: SettingWithCopyWarning: \n",
      "A value is trying to be set on a copy of a slice from a DataFrame.\n",
      "Try using .loc[row_indexer,col_indexer] = value instead\n",
      "\n",
      "See the caveats in the documentation: https://pandas.pydata.org/pandas-docs/stable/user_guide/indexing.html#returning-a-view-versus-a-copy\n",
      "  missing_lsoa_road['lsoa11cd'] = [street_number_to_lsoa(temp_road, int(missing_lsoa_road.iloc[missing_lsoa_row]['street_number2']))\n"
     ]
    },
    {
     "name": "stdout",
     "output_type": "stream",
     "text": [
      "wilmslowroad\n",
      "princestreet\n",
      "beaverstreet\n",
      "waterlooroad\n",
      "gouldenstreet\n",
      "oldhamroad\n",
      "oxfordroad\n",
      "whitworthstreet\n",
      "lawnhurstavenue\n",
      "commercialstreet\n",
      "jordanstreet\n",
      "cottonstreet\n",
      "cambridgestreet\n",
      "leestreet\n",
      "quaystreet\n",
      "whitworthstreetwest\n",
      "plymouthgrove\n",
      "kelsoplace\n",
      "ahillquays,\n",
      "jerseystreet\n",
      "rochdaleroad\n",
      "moseleyroad\n",
      "thequadrangle\n",
      "spathroad\n",
      "theavenue\n",
      "greenwoodroad\n",
      "arundelstreet\n",
      "piccadilly\n",
      "ansonroad\n",
      "derbystreet\n",
      "cheethamhillroad\n",
      "marketstreet\n",
      "springgardens\n",
      "highercambridgestreet\n",
      "citygate\n",
      "stockportroad\n",
      "palatineroad\n",
      "E06000047\n"
     ]
    },
    {
     "name": "stderr",
     "output_type": "stream",
     "text": [
      "<ipython-input-12-8bc6428979cb>:9: FutureWarning: The default value of regex will change from True to False in a future version.\n",
      "  missing_lsoa_df.loc[:,'street_number2'] = missing_lsoa_df.loc[:,'street_number'].str.replace(r\"^.*(?=\\b[0-9]+$)\", \"\").str.replace(r\"[^\\d]\", \"\", regex = True)\n",
      "<ipython-input-12-8bc6428979cb>:9: SettingWithCopyWarning: \n",
      "A value is trying to be set on a copy of a slice from a DataFrame.\n",
      "Try using .loc[row_indexer,col_indexer] = value instead\n",
      "\n",
      "See the caveats in the documentation: https://pandas.pydata.org/pandas-docs/stable/user_guide/indexing.html#returning-a-view-versus-a-copy\n",
      "  missing_lsoa_df.loc[:,'street_number2'] = missing_lsoa_df.loc[:,'street_number'].str.replace(r\"^.*(?=\\b[0-9]+$)\", \"\").str.replace(r\"[^\\d]\", \"\", regex = True)\n",
      "/tf/empty_homes_london/helper_functions.py:279: SettingWithCopyWarning: \n",
      "A value is trying to be set on a copy of a slice from a DataFrame.\n",
      "Try using .loc[row_indexer,col_indexer] = value instead\n",
      "\n",
      "See the caveats in the documentation: https://pandas.pydata.org/pandas-docs/stable/user_guide/indexing.html#returning-a-view-versus-a-copy\n",
      "  temp_multi['number_filter'] = filter_types\n",
      "<ipython-input-12-8bc6428979cb>:35: SettingWithCopyWarning: \n",
      "A value is trying to be set on a copy of a slice from a DataFrame.\n",
      "Try using .loc[row_indexer,col_indexer] = value instead\n",
      "\n",
      "See the caveats in the documentation: https://pandas.pydata.org/pandas-docs/stable/user_guide/indexing.html#returning-a-view-versus-a-copy\n",
      "  missing_lsoa_road['lsoa11cd'] = [street_number_to_lsoa(temp_road, int(missing_lsoa_road.iloc[missing_lsoa_row]['street_number2']))\n",
      "<ipython-input-12-8bc6428979cb>:9: FutureWarning: The default value of regex will change from True to False in a future version.\n",
      "  missing_lsoa_df.loc[:,'street_number2'] = missing_lsoa_df.loc[:,'street_number'].str.replace(r\"^.*(?=\\b[0-9]+$)\", \"\").str.replace(r\"[^\\d]\", \"\", regex = True)\n",
      "<ipython-input-12-8bc6428979cb>:9: SettingWithCopyWarning: \n",
      "A value is trying to be set on a copy of a slice from a DataFrame.\n",
      "Try using .loc[row_indexer,col_indexer] = value instead\n",
      "\n",
      "See the caveats in the documentation: https://pandas.pydata.org/pandas-docs/stable/user_guide/indexing.html#returning-a-view-versus-a-copy\n",
      "  missing_lsoa_df.loc[:,'street_number2'] = missing_lsoa_df.loc[:,'street_number'].str.replace(r\"^.*(?=\\b[0-9]+$)\", \"\").str.replace(r\"[^\\d]\", \"\", regex = True)\n"
     ]
    },
    {
     "name": "stdout",
     "output_type": "stream",
     "text": [
      "i= 0  expand time,0.0 filter time0.0 make_dataframe_time 0.001\n",
      "themeadows\n",
      "foxcoverenterprisepark\n",
      "frontstreet\n",
      "winchesterdrive\n",
      "E08000033\n"
     ]
    },
    {
     "name": "stderr",
     "output_type": "stream",
     "text": [
      "/tf/empty_homes_london/helper_functions.py:279: SettingWithCopyWarning: \n",
      "A value is trying to be set on a copy of a slice from a DataFrame.\n",
      "Try using .loc[row_indexer,col_indexer] = value instead\n",
      "\n",
      "See the caveats in the documentation: https://pandas.pydata.org/pandas-docs/stable/user_guide/indexing.html#returning-a-view-versus-a-copy\n",
      "  temp_multi['number_filter'] = filter_types\n",
      "<ipython-input-12-8bc6428979cb>:35: SettingWithCopyWarning: \n",
      "A value is trying to be set on a copy of a slice from a DataFrame.\n",
      "Try using .loc[row_indexer,col_indexer] = value instead\n",
      "\n",
      "See the caveats in the documentation: https://pandas.pydata.org/pandas-docs/stable/user_guide/indexing.html#returning-a-view-versus-a-copy\n",
      "  missing_lsoa_road['lsoa11cd'] = [street_number_to_lsoa(temp_road, int(missing_lsoa_road.iloc[missing_lsoa_row]['street_number2']))\n",
      "<ipython-input-12-8bc6428979cb>:9: FutureWarning: The default value of regex will change from True to False in a future version.\n",
      "  missing_lsoa_df.loc[:,'street_number2'] = missing_lsoa_df.loc[:,'street_number'].str.replace(r\"^.*(?=\\b[0-9]+$)\", \"\").str.replace(r\"[^\\d]\", \"\", regex = True)\n",
      "<ipython-input-12-8bc6428979cb>:9: SettingWithCopyWarning: \n",
      "A value is trying to be set on a copy of a slice from a DataFrame.\n",
      "Try using .loc[row_indexer,col_indexer] = value instead\n",
      "\n",
      "See the caveats in the documentation: https://pandas.pydata.org/pandas-docs/stable/user_guide/indexing.html#returning-a-view-versus-a-copy\n",
      "  missing_lsoa_df.loc[:,'street_number2'] = missing_lsoa_df.loc[:,'street_number'].str.replace(r\"^.*(?=\\b[0-9]+$)\", \"\").str.replace(r\"[^\\d]\", \"\", regex = True)\n"
     ]
    },
    {
     "name": "stdout",
     "output_type": "stream",
     "text": [
      "i= 0  expand time,0.0 filter time0.0 make_dataframe_time 0.001\n",
      "georgestreet\n",
      "southgate\n",
      "beaconhillroad\n",
      "rochdaleroad\n",
      "commercialstreet\n",
      "E08000007\n"
     ]
    },
    {
     "name": "stderr",
     "output_type": "stream",
     "text": [
      "/tf/empty_homes_london/helper_functions.py:279: SettingWithCopyWarning: \n",
      "A value is trying to be set on a copy of a slice from a DataFrame.\n",
      "Try using .loc[row_indexer,col_indexer] = value instead\n",
      "\n",
      "See the caveats in the documentation: https://pandas.pydata.org/pandas-docs/stable/user_guide/indexing.html#returning-a-view-versus-a-copy\n",
      "  temp_multi['number_filter'] = filter_types\n"
     ]
    },
    {
     "name": "stdout",
     "output_type": "stream",
     "text": [
      "i= 0  expand time,0.0 filter time0.0 make_dataframe_time 0.001\n",
      "colwynroad\n",
      "stockportroad\n",
      "gatleyroad\n"
     ]
    },
    {
     "name": "stderr",
     "output_type": "stream",
     "text": [
      "<ipython-input-12-8bc6428979cb>:35: SettingWithCopyWarning: \n",
      "A value is trying to be set on a copy of a slice from a DataFrame.\n",
      "Try using .loc[row_indexer,col_indexer] = value instead\n",
      "\n",
      "See the caveats in the documentation: https://pandas.pydata.org/pandas-docs/stable/user_guide/indexing.html#returning-a-view-versus-a-copy\n",
      "  missing_lsoa_road['lsoa11cd'] = [street_number_to_lsoa(temp_road, int(missing_lsoa_road.iloc[missing_lsoa_row]['street_number2']))\n",
      "<ipython-input-12-8bc6428979cb>:9: FutureWarning: The default value of regex will change from True to False in a future version.\n",
      "  missing_lsoa_df.loc[:,'street_number2'] = missing_lsoa_df.loc[:,'street_number'].str.replace(r\"^.*(?=\\b[0-9]+$)\", \"\").str.replace(r\"[^\\d]\", \"\", regex = True)\n",
      "<ipython-input-12-8bc6428979cb>:9: SettingWithCopyWarning: \n",
      "A value is trying to be set on a copy of a slice from a DataFrame.\n",
      "Try using .loc[row_indexer,col_indexer] = value instead\n",
      "\n",
      "See the caveats in the documentation: https://pandas.pydata.org/pandas-docs/stable/user_guide/indexing.html#returning-a-view-versus-a-copy\n",
      "  missing_lsoa_df.loc[:,'street_number2'] = missing_lsoa_df.loc[:,'street_number'].str.replace(r\"^.*(?=\\b[0-9]+$)\", \"\").str.replace(r\"[^\\d]\", \"\", regex = True)\n"
     ]
    },
    {
     "name": "stdout",
     "output_type": "stream",
     "text": [
      "highstreet\n",
      "wellingtonroadsouth\n",
      "gorseybrow\n",
      "E08000035\n"
     ]
    },
    {
     "name": "stderr",
     "output_type": "stream",
     "text": [
      "/tf/empty_homes_london/helper_functions.py:279: SettingWithCopyWarning: \n",
      "A value is trying to be set on a copy of a slice from a DataFrame.\n",
      "Try using .loc[row_indexer,col_indexer] = value instead\n",
      "\n",
      "See the caveats in the documentation: https://pandas.pydata.org/pandas-docs/stable/user_guide/indexing.html#returning-a-view-versus-a-copy\n",
      "  temp_multi['number_filter'] = filter_types\n",
      "<ipython-input-12-8bc6428979cb>:35: SettingWithCopyWarning: \n",
      "A value is trying to be set on a copy of a slice from a DataFrame.\n",
      "Try using .loc[row_indexer,col_indexer] = value instead\n",
      "\n",
      "See the caveats in the documentation: https://pandas.pydata.org/pandas-docs/stable/user_guide/indexing.html#returning-a-view-versus-a-copy\n",
      "  missing_lsoa_road['lsoa11cd'] = [street_number_to_lsoa(temp_road, int(missing_lsoa_road.iloc[missing_lsoa_row]['street_number2']))\n"
     ]
    },
    {
     "name": "stdout",
     "output_type": "stream",
     "text": [
      "i= 0  expand time,0.0 filter time0.0 make_dataframe_time 0.001\n",
      "calllane\n",
      "northlane\n",
      "otleyroad\n",
      "briggate\n",
      "wakefieldroad\n",
      "calverleystreet\n",
      "skinnerlane\n",
      "kirkgate\n",
      "theheadrow\n",
      "parkrow\n",
      "victoriaroad\n",
      "highstreet\n",
      "albionstreet\n",
      "queenstreet\n",
      "watermanplace\n",
      "andnorthofavenue\n",
      "wellingtonroad\n",
      "roundhayroad\n",
      "E06000044\n"
     ]
    },
    {
     "name": "stderr",
     "output_type": "stream",
     "text": [
      "<ipython-input-12-8bc6428979cb>:9: FutureWarning: The default value of regex will change from True to False in a future version.\n",
      "  missing_lsoa_df.loc[:,'street_number2'] = missing_lsoa_df.loc[:,'street_number'].str.replace(r\"^.*(?=\\b[0-9]+$)\", \"\").str.replace(r\"[^\\d]\", \"\", regex = True)\n",
      "<ipython-input-12-8bc6428979cb>:9: SettingWithCopyWarning: \n",
      "A value is trying to be set on a copy of a slice from a DataFrame.\n",
      "Try using .loc[row_indexer,col_indexer] = value instead\n",
      "\n",
      "See the caveats in the documentation: https://pandas.pydata.org/pandas-docs/stable/user_guide/indexing.html#returning-a-view-versus-a-copy\n",
      "  missing_lsoa_df.loc[:,'street_number2'] = missing_lsoa_df.loc[:,'street_number'].str.replace(r\"^.*(?=\\b[0-9]+$)\", \"\").str.replace(r\"[^\\d]\", \"\", regex = True)\n",
      "/tf/empty_homes_london/helper_functions.py:279: SettingWithCopyWarning: \n",
      "A value is trying to be set on a copy of a slice from a DataFrame.\n",
      "Try using .loc[row_indexer,col_indexer] = value instead\n",
      "\n",
      "See the caveats in the documentation: https://pandas.pydata.org/pandas-docs/stable/user_guide/indexing.html#returning-a-view-versus-a-copy\n",
      "  temp_multi['number_filter'] = filter_types\n",
      "<ipython-input-12-8bc6428979cb>:35: SettingWithCopyWarning: \n",
      "A value is trying to be set on a copy of a slice from a DataFrame.\n",
      "Try using .loc[row_indexer,col_indexer] = value instead\n",
      "\n",
      "See the caveats in the documentation: https://pandas.pydata.org/pandas-docs/stable/user_guide/indexing.html#returning-a-view-versus-a-copy\n",
      "  missing_lsoa_road['lsoa11cd'] = [street_number_to_lsoa(temp_road, int(missing_lsoa_road.iloc[missing_lsoa_row]['street_number2']))\n",
      "<ipython-input-12-8bc6428979cb>:9: FutureWarning: The default value of regex will change from True to False in a future version.\n",
      "  missing_lsoa_df.loc[:,'street_number2'] = missing_lsoa_df.loc[:,'street_number'].str.replace(r\"^.*(?=\\b[0-9]+$)\", \"\").str.replace(r\"[^\\d]\", \"\", regex = True)\n",
      "<ipython-input-12-8bc6428979cb>:9: SettingWithCopyWarning: \n",
      "A value is trying to be set on a copy of a slice from a DataFrame.\n",
      "Try using .loc[row_indexer,col_indexer] = value instead\n",
      "\n",
      "See the caveats in the documentation: https://pandas.pydata.org/pandas-docs/stable/user_guide/indexing.html#returning-a-view-versus-a-copy\n",
      "  missing_lsoa_df.loc[:,'street_number2'] = missing_lsoa_df.loc[:,'street_number'].str.replace(r\"^.*(?=\\b[0-9]+$)\", \"\").str.replace(r\"[^\\d]\", \"\", regex = True)\n"
     ]
    },
    {
     "name": "stdout",
     "output_type": "stream",
     "text": [
      "i= 0  expand time,0.0 filter time0.0 make_dataframe_time 0.001\n",
      "highstreet\n",
      "albertroad\n",
      "northernroad\n",
      "portlandterrace\n",
      "savoyterrace\n",
      "walmerroad\n",
      "highlandroad\n",
      "E07000103\n"
     ]
    },
    {
     "name": "stderr",
     "output_type": "stream",
     "text": [
      "/tf/empty_homes_london/helper_functions.py:279: SettingWithCopyWarning: \n",
      "A value is trying to be set on a copy of a slice from a DataFrame.\n",
      "Try using .loc[row_indexer,col_indexer] = value instead\n",
      "\n",
      "See the caveats in the documentation: https://pandas.pydata.org/pandas-docs/stable/user_guide/indexing.html#returning-a-view-versus-a-copy\n",
      "  temp_multi['number_filter'] = filter_types\n",
      "<ipython-input-12-8bc6428979cb>:35: SettingWithCopyWarning: \n",
      "A value is trying to be set on a copy of a slice from a DataFrame.\n",
      "Try using .loc[row_indexer,col_indexer] = value instead\n",
      "\n",
      "See the caveats in the documentation: https://pandas.pydata.org/pandas-docs/stable/user_guide/indexing.html#returning-a-view-versus-a-copy\n",
      "  missing_lsoa_road['lsoa11cd'] = [street_number_to_lsoa(temp_road, int(missing_lsoa_road.iloc[missing_lsoa_row]['street_number2']))\n",
      "<ipython-input-12-8bc6428979cb>:9: FutureWarning: The default value of regex will change from True to False in a future version.\n",
      "  missing_lsoa_df.loc[:,'street_number2'] = missing_lsoa_df.loc[:,'street_number'].str.replace(r\"^.*(?=\\b[0-9]+$)\", \"\").str.replace(r\"[^\\d]\", \"\", regex = True)\n",
      "<ipython-input-12-8bc6428979cb>:9: SettingWithCopyWarning: \n",
      "A value is trying to be set on a copy of a slice from a DataFrame.\n",
      "Try using .loc[row_indexer,col_indexer] = value instead\n",
      "\n",
      "See the caveats in the documentation: https://pandas.pydata.org/pandas-docs/stable/user_guide/indexing.html#returning-a-view-versus-a-copy\n",
      "  missing_lsoa_df.loc[:,'street_number2'] = missing_lsoa_df.loc[:,'street_number'].str.replace(r\"^.*(?=\\b[0-9]+$)\", \"\").str.replace(r\"[^\\d]\", \"\", regex = True)\n"
     ]
    },
    {
     "name": "stdout",
     "output_type": "stream",
     "text": [
      "i= 0  expand time,0.0 filter time0.0 make_dataframe_time 0.001\n",
      "highstreet\n",
      "gammonlane\n",
      "E08000001\n"
     ]
    },
    {
     "name": "stderr",
     "output_type": "stream",
     "text": [
      "/tf/empty_homes_london/helper_functions.py:279: SettingWithCopyWarning: \n",
      "A value is trying to be set on a copy of a slice from a DataFrame.\n",
      "Try using .loc[row_indexer,col_indexer] = value instead\n",
      "\n",
      "See the caveats in the documentation: https://pandas.pydata.org/pandas-docs/stable/user_guide/indexing.html#returning-a-view-versus-a-copy\n",
      "  temp_multi['number_filter'] = filter_types\n"
     ]
    },
    {
     "name": "stdout",
     "output_type": "stream",
     "text": [
      "i= 0  expand time,0.0 filter time0.0 make_dataframe_time 0.001\n",
      "hulmeroad\n",
      "kearsleyavenue\n",
      "kingstreet\n",
      "regentroad\n",
      "overdeneclose\n",
      "boltonroad\n",
      "marketstreet\n",
      "sparoad\n",
      "westsidelowerleighroad\n",
      "chorleyoldroad\n",
      "E07000243\n"
     ]
    },
    {
     "name": "stderr",
     "output_type": "stream",
     "text": [
      "<ipython-input-12-8bc6428979cb>:35: SettingWithCopyWarning: \n",
      "A value is trying to be set on a copy of a slice from a DataFrame.\n",
      "Try using .loc[row_indexer,col_indexer] = value instead\n",
      "\n",
      "See the caveats in the documentation: https://pandas.pydata.org/pandas-docs/stable/user_guide/indexing.html#returning-a-view-versus-a-copy\n",
      "  missing_lsoa_road['lsoa11cd'] = [street_number_to_lsoa(temp_road, int(missing_lsoa_road.iloc[missing_lsoa_row]['street_number2']))\n",
      "<ipython-input-12-8bc6428979cb>:9: FutureWarning: The default value of regex will change from True to False in a future version.\n",
      "  missing_lsoa_df.loc[:,'street_number2'] = missing_lsoa_df.loc[:,'street_number'].str.replace(r\"^.*(?=\\b[0-9]+$)\", \"\").str.replace(r\"[^\\d]\", \"\", regex = True)\n",
      "<ipython-input-12-8bc6428979cb>:9: SettingWithCopyWarning: \n",
      "A value is trying to be set on a copy of a slice from a DataFrame.\n",
      "Try using .loc[row_indexer,col_indexer] = value instead\n",
      "\n",
      "See the caveats in the documentation: https://pandas.pydata.org/pandas-docs/stable/user_guide/indexing.html#returning-a-view-versus-a-copy\n",
      "  missing_lsoa_df.loc[:,'street_number2'] = missing_lsoa_df.loc[:,'street_number'].str.replace(r\"^.*(?=\\b[0-9]+$)\", \"\").str.replace(r\"[^\\d]\", \"\", regex = True)\n"
     ]
    },
    {
     "name": "stdout",
     "output_type": "stream",
     "text": [
      "thecedars\n",
      "epsomclose\n",
      "E08000012\n"
     ]
    },
    {
     "name": "stderr",
     "output_type": "stream",
     "text": [
      "<ipython-input-12-8bc6428979cb>:35: SettingWithCopyWarning: \n",
      "A value is trying to be set on a copy of a slice from a DataFrame.\n",
      "Try using .loc[row_indexer,col_indexer] = value instead\n",
      "\n",
      "See the caveats in the documentation: https://pandas.pydata.org/pandas-docs/stable/user_guide/indexing.html#returning-a-view-versus-a-copy\n",
      "  missing_lsoa_road['lsoa11cd'] = [street_number_to_lsoa(temp_road, int(missing_lsoa_road.iloc[missing_lsoa_row]['street_number2']))\n",
      "<ipython-input-12-8bc6428979cb>:9: FutureWarning: The default value of regex will change from True to False in a future version.\n",
      "  missing_lsoa_df.loc[:,'street_number2'] = missing_lsoa_df.loc[:,'street_number'].str.replace(r\"^.*(?=\\b[0-9]+$)\", \"\").str.replace(r\"[^\\d]\", \"\", regex = True)\n",
      "<ipython-input-12-8bc6428979cb>:9: SettingWithCopyWarning: \n",
      "A value is trying to be set on a copy of a slice from a DataFrame.\n",
      "Try using .loc[row_indexer,col_indexer] = value instead\n",
      "\n",
      "See the caveats in the documentation: https://pandas.pydata.org/pandas-docs/stable/user_guide/indexing.html#returning-a-view-versus-a-copy\n",
      "  missing_lsoa_df.loc[:,'street_number2'] = missing_lsoa_df.loc[:,'street_number'].str.replace(r\"^.*(?=\\b[0-9]+$)\", \"\").str.replace(r\"[^\\d]\", \"\", regex = True)\n",
      "/tf/empty_homes_london/helper_functions.py:279: SettingWithCopyWarning: \n",
      "A value is trying to be set on a copy of a slice from a DataFrame.\n",
      "Try using .loc[row_indexer,col_indexer] = value instead\n",
      "\n",
      "See the caveats in the documentation: https://pandas.pydata.org/pandas-docs/stable/user_guide/indexing.html#returning-a-view-versus-a-copy\n",
      "  temp_multi['number_filter'] = filter_types\n"
     ]
    },
    {
     "name": "stdout",
     "output_type": "stream",
     "text": [
      "i= 0  expand time,0.0 filter time0.0 make_dataframe_time 0.001\n",
      "deysbrooklane\n",
      "londonroad\n",
      "constancestreet\n",
      "gladstoneroad\n"
     ]
    },
    {
     "name": "stderr",
     "output_type": "stream",
     "text": [
      "<ipython-input-12-8bc6428979cb>:35: SettingWithCopyWarning: \n",
      "A value is trying to be set on a copy of a slice from a DataFrame.\n",
      "Try using .loc[row_indexer,col_indexer] = value instead\n",
      "\n",
      "See the caveats in the documentation: https://pandas.pydata.org/pandas-docs/stable/user_guide/indexing.html#returning-a-view-versus-a-copy\n",
      "  missing_lsoa_road['lsoa11cd'] = [street_number_to_lsoa(temp_road, int(missing_lsoa_road.iloc[missing_lsoa_row]['street_number2']))\n"
     ]
    },
    {
     "name": "stdout",
     "output_type": "stream",
     "text": [
      "edgelane\n",
      "bromptonroad\n",
      "shotwickstreet\n",
      "wenhamstreet\n",
      "thistlewoodroad\n",
      "dukestreet\n",
      "gradwellstreet\n",
      "houldingstreet\n",
      "henrystreet\n",
      "glengariffstreet\n",
      "mablane\n",
      "croxtethhalllane\n",
      "queendrive\n",
      "woodstreet\n",
      "fleetstreet\n",
      "stmaryroad\n",
      "wellingtonstreet\n",
      "knoclaidroad\n",
      "hattongarden\n",
      "crownstreet\n",
      "standrewgardens\n",
      "stanleystreet\n",
      "deckingconstructedovertherailway\n",
      "shawstreet\n",
      "greathomerstreet\n",
      "churchroad\n",
      "myrtlestreet\n",
      "hillfootavenue\n",
      "aigburthroad\n",
      "dalestreet\n",
      "falknerstreet\n",
      "E09000012\n"
     ]
    },
    {
     "name": "stderr",
     "output_type": "stream",
     "text": [
      "<ipython-input-12-8bc6428979cb>:9: FutureWarning: The default value of regex will change from True to False in a future version.\n",
      "  missing_lsoa_df.loc[:,'street_number2'] = missing_lsoa_df.loc[:,'street_number'].str.replace(r\"^.*(?=\\b[0-9]+$)\", \"\").str.replace(r\"[^\\d]\", \"\", regex = True)\n",
      "<ipython-input-12-8bc6428979cb>:9: SettingWithCopyWarning: \n",
      "A value is trying to be set on a copy of a slice from a DataFrame.\n",
      "Try using .loc[row_indexer,col_indexer] = value instead\n",
      "\n",
      "See the caveats in the documentation: https://pandas.pydata.org/pandas-docs/stable/user_guide/indexing.html#returning-a-view-versus-a-copy\n",
      "  missing_lsoa_df.loc[:,'street_number2'] = missing_lsoa_df.loc[:,'street_number'].str.replace(r\"^.*(?=\\b[0-9]+$)\", \"\").str.replace(r\"[^\\d]\", \"\", regex = True)\n",
      "/tf/empty_homes_london/helper_functions.py:279: SettingWithCopyWarning: \n",
      "A value is trying to be set on a copy of a slice from a DataFrame.\n",
      "Try using .loc[row_indexer,col_indexer] = value instead\n",
      "\n",
      "See the caveats in the documentation: https://pandas.pydata.org/pandas-docs/stable/user_guide/indexing.html#returning-a-view-versus-a-copy\n",
      "  temp_multi['number_filter'] = filter_types\n"
     ]
    },
    {
     "name": "stdout",
     "output_type": "stream",
     "text": [
      "i= 0  expand time,0.0 filter time0.0 make_dataframe_time 0.002\n",
      "amhurstroad\n",
      "cityroad\n",
      "lauristonroad\n",
      "victoriaparkroad\n",
      "alexandrayard\n",
      "evennumberscruttonstreet\n",
      "oddkingslandhighstreet\n",
      "boleynroad\n"
     ]
    },
    {
     "name": "stderr",
     "output_type": "stream",
     "text": [
      "<ipython-input-12-8bc6428979cb>:35: SettingWithCopyWarning: \n",
      "A value is trying to be set on a copy of a slice from a DataFrame.\n",
      "Try using .loc[row_indexer,col_indexer] = value instead\n",
      "\n",
      "See the caveats in the documentation: https://pandas.pydata.org/pandas-docs/stable/user_guide/indexing.html#returning-a-view-versus-a-copy\n",
      "  missing_lsoa_road['lsoa11cd'] = [street_number_to_lsoa(temp_road, int(missing_lsoa_road.iloc[missing_lsoa_row]['street_number2']))\n"
     ]
    },
    {
     "name": "stdout",
     "output_type": "stream",
     "text": [
      "shepherdeplace\n",
      "curtainroad\n",
      "shoreditchhighstreet\n",
      "stokenewingtonhighstreet\n",
      "amhurstparade,\n",
      "britanniawalk\n",
      "eastroad\n",
      "southgateroad\n",
      "morninglane\n",
      "vandystreet\n",
      "broadgatewest\n",
      "brunswickplace\n",
      "shepherdlane\n",
      "finsburyparkroad\n",
      "dalstonlane\n",
      "E09000032\n"
     ]
    },
    {
     "name": "stderr",
     "output_type": "stream",
     "text": [
      "<ipython-input-12-8bc6428979cb>:9: FutureWarning: The default value of regex will change from True to False in a future version.\n",
      "  missing_lsoa_df.loc[:,'street_number2'] = missing_lsoa_df.loc[:,'street_number'].str.replace(r\"^.*(?=\\b[0-9]+$)\", \"\").str.replace(r\"[^\\d]\", \"\", regex = True)\n",
      "<ipython-input-12-8bc6428979cb>:9: SettingWithCopyWarning: \n",
      "A value is trying to be set on a copy of a slice from a DataFrame.\n",
      "Try using .loc[row_indexer,col_indexer] = value instead\n",
      "\n",
      "See the caveats in the documentation: https://pandas.pydata.org/pandas-docs/stable/user_guide/indexing.html#returning-a-view-versus-a-copy\n",
      "  missing_lsoa_df.loc[:,'street_number2'] = missing_lsoa_df.loc[:,'street_number'].str.replace(r\"^.*(?=\\b[0-9]+$)\", \"\").str.replace(r\"[^\\d]\", \"\", regex = True)\n",
      "/tf/empty_homes_london/helper_functions.py:279: SettingWithCopyWarning: \n",
      "A value is trying to be set on a copy of a slice from a DataFrame.\n",
      "Try using .loc[row_indexer,col_indexer] = value instead\n",
      "\n",
      "See the caveats in the documentation: https://pandas.pydata.org/pandas-docs/stable/user_guide/indexing.html#returning-a-view-versus-a-copy\n",
      "  temp_multi['number_filter'] = filter_types\n"
     ]
    },
    {
     "name": "stdout",
     "output_type": "stream",
     "text": [
      "i= 0  expand time,0.0 filter time0.0 make_dataframe_time 0.001\n",
      "tootinghighstreet\n",
      "lavenderhill\n",
      "mitchamroad\n",
      "battersearise\n",
      "northcoteroad\n",
      "selkirkroad\n",
      "upperrichmondroad\n",
      "putneyhighstreet\n",
      "tokenyard\n",
      "wandsworthhighstreet\n",
      "ramstreet\n",
      "queenstownroad\n",
      "riverlightquay,\n",
      "vicaragecrescent\n",
      "beechcroftroad\n",
      "barringersquare\n",
      "orbelstreet\n"
     ]
    },
    {
     "name": "stderr",
     "output_type": "stream",
     "text": [
      "<ipython-input-12-8bc6428979cb>:35: SettingWithCopyWarning: \n",
      "A value is trying to be set on a copy of a slice from a DataFrame.\n",
      "Try using .loc[row_indexer,col_indexer] = value instead\n",
      "\n",
      "See the caveats in the documentation: https://pandas.pydata.org/pandas-docs/stable/user_guide/indexing.html#returning-a-view-versus-a-copy\n",
      "  missing_lsoa_road['lsoa11cd'] = [street_number_to_lsoa(temp_road, int(missing_lsoa_road.iloc[missing_lsoa_row]['street_number2']))\n"
     ]
    },
    {
     "name": "stdout",
     "output_type": "stream",
     "text": [
      "montserratroad\n",
      "batterseabridgeroad\n",
      "E06000045\n"
     ]
    },
    {
     "name": "stderr",
     "output_type": "stream",
     "text": [
      "<ipython-input-12-8bc6428979cb>:9: FutureWarning: The default value of regex will change from True to False in a future version.\n",
      "  missing_lsoa_df.loc[:,'street_number2'] = missing_lsoa_df.loc[:,'street_number'].str.replace(r\"^.*(?=\\b[0-9]+$)\", \"\").str.replace(r\"[^\\d]\", \"\", regex = True)\n",
      "<ipython-input-12-8bc6428979cb>:9: SettingWithCopyWarning: \n",
      "A value is trying to be set on a copy of a slice from a DataFrame.\n",
      "Try using .loc[row_indexer,col_indexer] = value instead\n",
      "\n",
      "See the caveats in the documentation: https://pandas.pydata.org/pandas-docs/stable/user_guide/indexing.html#returning-a-view-versus-a-copy\n",
      "  missing_lsoa_df.loc[:,'street_number2'] = missing_lsoa_df.loc[:,'street_number'].str.replace(r\"^.*(?=\\b[0-9]+$)\", \"\").str.replace(r\"[^\\d]\", \"\", regex = True)\n",
      "/tf/empty_homes_london/helper_functions.py:279: SettingWithCopyWarning: \n",
      "A value is trying to be set on a copy of a slice from a DataFrame.\n",
      "Try using .loc[row_indexer,col_indexer] = value instead\n",
      "\n",
      "See the caveats in the documentation: https://pandas.pydata.org/pandas-docs/stable/user_guide/indexing.html#returning-a-view-versus-a-copy\n",
      "  temp_multi['number_filter'] = filter_types\n",
      "<ipython-input-12-8bc6428979cb>:35: SettingWithCopyWarning: \n",
      "A value is trying to be set on a copy of a slice from a DataFrame.\n",
      "Try using .loc[row_indexer,col_indexer] = value instead\n",
      "\n",
      "See the caveats in the documentation: https://pandas.pydata.org/pandas-docs/stable/user_guide/indexing.html#returning-a-view-versus-a-copy\n",
      "  missing_lsoa_road['lsoa11cd'] = [street_number_to_lsoa(temp_road, int(missing_lsoa_road.iloc[missing_lsoa_row]['street_number2']))\n"
     ]
    },
    {
     "name": "stdout",
     "output_type": "stream",
     "text": [
      "i= 0  expand time,0.0 filter time0.0 make_dataframe_time 0.002\n",
      "northlandroad\n",
      "abovebarstreet\n",
      "springroad\n",
      "peartreeavenue\n",
      "millbrookroadeast\n",
      "E08000004\n"
     ]
    },
    {
     "name": "stderr",
     "output_type": "stream",
     "text": [
      "<ipython-input-12-8bc6428979cb>:9: FutureWarning: The default value of regex will change from True to False in a future version.\n",
      "  missing_lsoa_df.loc[:,'street_number2'] = missing_lsoa_df.loc[:,'street_number'].str.replace(r\"^.*(?=\\b[0-9]+$)\", \"\").str.replace(r\"[^\\d]\", \"\", regex = True)\n",
      "<ipython-input-12-8bc6428979cb>:9: SettingWithCopyWarning: \n",
      "A value is trying to be set on a copy of a slice from a DataFrame.\n",
      "Try using .loc[row_indexer,col_indexer] = value instead\n",
      "\n",
      "See the caveats in the documentation: https://pandas.pydata.org/pandas-docs/stable/user_guide/indexing.html#returning-a-view-versus-a-copy\n",
      "  missing_lsoa_df.loc[:,'street_number2'] = missing_lsoa_df.loc[:,'street_number'].str.replace(r\"^.*(?=\\b[0-9]+$)\", \"\").str.replace(r\"[^\\d]\", \"\", regex = True)\n",
      "/tf/empty_homes_london/helper_functions.py:279: SettingWithCopyWarning: \n",
      "A value is trying to be set on a copy of a slice from a DataFrame.\n",
      "Try using .loc[row_indexer,col_indexer] = value instead\n",
      "\n",
      "See the caveats in the documentation: https://pandas.pydata.org/pandas-docs/stable/user_guide/indexing.html#returning-a-view-versus-a-copy\n",
      "  temp_multi['number_filter'] = filter_types\n",
      "<ipython-input-12-8bc6428979cb>:35: SettingWithCopyWarning: \n",
      "A value is trying to be set on a copy of a slice from a DataFrame.\n",
      "Try using .loc[row_indexer,col_indexer] = value instead\n",
      "\n",
      "See the caveats in the documentation: https://pandas.pydata.org/pandas-docs/stable/user_guide/indexing.html#returning-a-view-versus-a-copy\n",
      "  missing_lsoa_road['lsoa11cd'] = [street_number_to_lsoa(temp_road, int(missing_lsoa_road.iloc[missing_lsoa_row]['street_number2']))\n",
      "<ipython-input-12-8bc6428979cb>:9: FutureWarning: The default value of regex will change from True to False in a future version.\n",
      "  missing_lsoa_df.loc[:,'street_number2'] = missing_lsoa_df.loc[:,'street_number'].str.replace(r\"^.*(?=\\b[0-9]+$)\", \"\").str.replace(r\"[^\\d]\", \"\", regex = True)\n"
     ]
    },
    {
     "name": "stdout",
     "output_type": "stream",
     "text": [
      "i= 0  expand time,0.001 filter time0.0 make_dataframe_time 0.001\n",
      "oldhamroad\n",
      "walkerlane\n",
      "cardinalstreet\n",
      "spencerstreet\n",
      "E08000028\n"
     ]
    },
    {
     "name": "stderr",
     "output_type": "stream",
     "text": [
      "<ipython-input-12-8bc6428979cb>:9: SettingWithCopyWarning: \n",
      "A value is trying to be set on a copy of a slice from a DataFrame.\n",
      "Try using .loc[row_indexer,col_indexer] = value instead\n",
      "\n",
      "See the caveats in the documentation: https://pandas.pydata.org/pandas-docs/stable/user_guide/indexing.html#returning-a-view-versus-a-copy\n",
      "  missing_lsoa_df.loc[:,'street_number2'] = missing_lsoa_df.loc[:,'street_number'].str.replace(r\"^.*(?=\\b[0-9]+$)\", \"\").str.replace(r\"[^\\d]\", \"\", regex = True)\n",
      "/tf/empty_homes_london/helper_functions.py:279: SettingWithCopyWarning: \n",
      "A value is trying to be set on a copy of a slice from a DataFrame.\n",
      "Try using .loc[row_indexer,col_indexer] = value instead\n",
      "\n",
      "See the caveats in the documentation: https://pandas.pydata.org/pandas-docs/stable/user_guide/indexing.html#returning-a-view-versus-a-copy\n",
      "  temp_multi['number_filter'] = filter_types\n"
     ]
    },
    {
     "name": "stdout",
     "output_type": "stream",
     "text": [
      "i= 0  expand time,0.0 filter time0.0 make_dataframe_time 0.001\n",
      "scotlandpassage\n",
      "leabrookroad\n",
      "highstreet\n",
      "claypitlane\n",
      "dudleyroadeast\n",
      "unionroad\n",
      "bearwoodroad\n",
      "rowaylane\n",
      "E08000013\n"
     ]
    },
    {
     "name": "stderr",
     "output_type": "stream",
     "text": [
      "<ipython-input-12-8bc6428979cb>:35: SettingWithCopyWarning: \n",
      "A value is trying to be set on a copy of a slice from a DataFrame.\n",
      "Try using .loc[row_indexer,col_indexer] = value instead\n",
      "\n",
      "See the caveats in the documentation: https://pandas.pydata.org/pandas-docs/stable/user_guide/indexing.html#returning-a-view-versus-a-copy\n",
      "  missing_lsoa_road['lsoa11cd'] = [street_number_to_lsoa(temp_road, int(missing_lsoa_road.iloc[missing_lsoa_row]['street_number2']))\n",
      "<ipython-input-12-8bc6428979cb>:9: FutureWarning: The default value of regex will change from True to False in a future version.\n",
      "  missing_lsoa_df.loc[:,'street_number2'] = missing_lsoa_df.loc[:,'street_number'].str.replace(r\"^.*(?=\\b[0-9]+$)\", \"\").str.replace(r\"[^\\d]\", \"\", regex = True)\n",
      "<ipython-input-12-8bc6428979cb>:9: SettingWithCopyWarning: \n",
      "A value is trying to be set on a copy of a slice from a DataFrame.\n",
      "Try using .loc[row_indexer,col_indexer] = value instead\n",
      "\n",
      "See the caveats in the documentation: https://pandas.pydata.org/pandas-docs/stable/user_guide/indexing.html#returning-a-view-versus-a-copy\n",
      "  missing_lsoa_df.loc[:,'street_number2'] = missing_lsoa_df.loc[:,'street_number'].str.replace(r\"^.*(?=\\b[0-9]+$)\", \"\").str.replace(r\"[^\\d]\", \"\", regex = True)\n",
      "/tf/empty_homes_london/helper_functions.py:279: SettingWithCopyWarning: \n",
      "A value is trying to be set on a copy of a slice from a DataFrame.\n",
      "Try using .loc[row_indexer,col_indexer] = value instead\n",
      "\n",
      "See the caveats in the documentation: https://pandas.pydata.org/pandas-docs/stable/user_guide/indexing.html#returning-a-view-versus-a-copy\n",
      "  temp_multi['number_filter'] = filter_types\n",
      "<ipython-input-12-8bc6428979cb>:35: SettingWithCopyWarning: \n",
      "A value is trying to be set on a copy of a slice from a DataFrame.\n",
      "Try using .loc[row_indexer,col_indexer] = value instead\n",
      "\n",
      "See the caveats in the documentation: https://pandas.pydata.org/pandas-docs/stable/user_guide/indexing.html#returning-a-view-versus-a-copy\n",
      "  missing_lsoa_road['lsoa11cd'] = [street_number_to_lsoa(temp_road, int(missing_lsoa_road.iloc[missing_lsoa_row]['street_number2']))\n"
     ]
    },
    {
     "name": "stdout",
     "output_type": "stream",
     "text": [
      "i= 0  expand time,0.001 filter time0.0 make_dataframe_time 0.002\n",
      "churchstreet\n",
      "marketstreet\n",
      "graftonstreet\n",
      "hardshawstreet\n",
      "ormskirkstreet\n",
      "ormskirkroad\n",
      "E07000117\n"
     ]
    },
    {
     "name": "stderr",
     "output_type": "stream",
     "text": [
      "<ipython-input-12-8bc6428979cb>:9: FutureWarning: The default value of regex will change from True to False in a future version.\n",
      "  missing_lsoa_df.loc[:,'street_number2'] = missing_lsoa_df.loc[:,'street_number'].str.replace(r\"^.*(?=\\b[0-9]+$)\", \"\").str.replace(r\"[^\\d]\", \"\", regex = True)\n",
      "<ipython-input-12-8bc6428979cb>:9: SettingWithCopyWarning: \n",
      "A value is trying to be set on a copy of a slice from a DataFrame.\n",
      "Try using .loc[row_indexer,col_indexer] = value instead\n",
      "\n",
      "See the caveats in the documentation: https://pandas.pydata.org/pandas-docs/stable/user_guide/indexing.html#returning-a-view-versus-a-copy\n",
      "  missing_lsoa_df.loc[:,'street_number2'] = missing_lsoa_df.loc[:,'street_number'].str.replace(r\"^.*(?=\\b[0-9]+$)\", \"\").str.replace(r\"[^\\d]\", \"\", regex = True)\n",
      "/tf/empty_homes_london/helper_functions.py:279: SettingWithCopyWarning: \n",
      "A value is trying to be set on a copy of a slice from a DataFrame.\n",
      "Try using .loc[row_indexer,col_indexer] = value instead\n",
      "\n",
      "See the caveats in the documentation: https://pandas.pydata.org/pandas-docs/stable/user_guide/indexing.html#returning-a-view-versus-a-copy\n",
      "  temp_multi['number_filter'] = filter_types\n",
      "<ipython-input-12-8bc6428979cb>:9: FutureWarning: The default value of regex will change from True to False in a future version.\n",
      "  missing_lsoa_df.loc[:,'street_number2'] = missing_lsoa_df.loc[:,'street_number'].str.replace(r\"^.*(?=\\b[0-9]+$)\", \"\").str.replace(r\"[^\\d]\", \"\", regex = True)\n",
      "<ipython-input-12-8bc6428979cb>:9: SettingWithCopyWarning: \n",
      "A value is trying to be set on a copy of a slice from a DataFrame.\n",
      "Try using .loc[row_indexer,col_indexer] = value instead\n",
      "\n",
      "See the caveats in the documentation: https://pandas.pydata.org/pandas-docs/stable/user_guide/indexing.html#returning-a-view-versus-a-copy\n",
      "  missing_lsoa_df.loc[:,'street_number2'] = missing_lsoa_df.loc[:,'street_number'].str.replace(r\"^.*(?=\\b[0-9]+$)\", \"\").str.replace(r\"[^\\d]\", \"\", regex = True)\n"
     ]
    },
    {
     "name": "stdout",
     "output_type": "stream",
     "text": [
      "i= 0  expand time,0.0 filter time0.0 make_dataframe_time 0.001\n",
      "padihamroad\n",
      "E07000119\n"
     ]
    },
    {
     "name": "stderr",
     "output_type": "stream",
     "text": [
      "/tf/empty_homes_london/helper_functions.py:279: SettingWithCopyWarning: \n",
      "A value is trying to be set on a copy of a slice from a DataFrame.\n",
      "Try using .loc[row_indexer,col_indexer] = value instead\n",
      "\n",
      "See the caveats in the documentation: https://pandas.pydata.org/pandas-docs/stable/user_guide/indexing.html#returning-a-view-versus-a-copy\n",
      "  temp_multi['number_filter'] = filter_types\n",
      "<ipython-input-12-8bc6428979cb>:35: SettingWithCopyWarning: \n",
      "A value is trying to be set on a copy of a slice from a DataFrame.\n",
      "Try using .loc[row_indexer,col_indexer] = value instead\n",
      "\n",
      "See the caveats in the documentation: https://pandas.pydata.org/pandas-docs/stable/user_guide/indexing.html#returning-a-view-versus-a-copy\n",
      "  missing_lsoa_road['lsoa11cd'] = [street_number_to_lsoa(temp_road, int(missing_lsoa_road.iloc[missing_lsoa_row]['street_number2']))\n",
      "<ipython-input-12-8bc6428979cb>:9: FutureWarning: The default value of regex will change from True to False in a future version.\n",
      "  missing_lsoa_df.loc[:,'street_number2'] = missing_lsoa_df.loc[:,'street_number'].str.replace(r\"^.*(?=\\b[0-9]+$)\", \"\").str.replace(r\"[^\\d]\", \"\", regex = True)\n",
      "<ipython-input-12-8bc6428979cb>:9: SettingWithCopyWarning: \n",
      "A value is trying to be set on a copy of a slice from a DataFrame.\n",
      "Try using .loc[row_indexer,col_indexer] = value instead\n",
      "\n",
      "See the caveats in the documentation: https://pandas.pydata.org/pandas-docs/stable/user_guide/indexing.html#returning-a-view-versus-a-copy\n",
      "  missing_lsoa_df.loc[:,'street_number2'] = missing_lsoa_df.loc[:,'street_number'].str.replace(r\"^.*(?=\\b[0-9]+$)\", \"\").str.replace(r\"[^\\d]\", \"\", regex = True)\n"
     ]
    },
    {
     "name": "stdout",
     "output_type": "stream",
     "text": [
      "i= 0  expand time,0.0 filter time0.0 make_dataframe_time 0.001\n",
      "standrewroadsouth\n",
      "westcrescent\n",
      "E06000016\n"
     ]
    },
    {
     "name": "stderr",
     "output_type": "stream",
     "text": [
      "/tf/empty_homes_london/helper_functions.py:279: SettingWithCopyWarning: \n",
      "A value is trying to be set on a copy of a slice from a DataFrame.\n",
      "Try using .loc[row_indexer,col_indexer] = value instead\n",
      "\n",
      "See the caveats in the documentation: https://pandas.pydata.org/pandas-docs/stable/user_guide/indexing.html#returning-a-view-versus-a-copy\n",
      "  temp_multi['number_filter'] = filter_types\n",
      "<ipython-input-12-8bc6428979cb>:35: SettingWithCopyWarning: \n",
      "A value is trying to be set on a copy of a slice from a DataFrame.\n",
      "Try using .loc[row_indexer,col_indexer] = value instead\n",
      "\n",
      "See the caveats in the documentation: https://pandas.pydata.org/pandas-docs/stable/user_guide/indexing.html#returning-a-view-versus-a-copy\n",
      "  missing_lsoa_road['lsoa11cd'] = [street_number_to_lsoa(temp_road, int(missing_lsoa_road.iloc[missing_lsoa_row]['street_number2']))\n",
      "<ipython-input-12-8bc6428979cb>:9: FutureWarning: The default value of regex will change from True to False in a future version.\n",
      "  missing_lsoa_df.loc[:,'street_number2'] = missing_lsoa_df.loc[:,'street_number'].str.replace(r\"^.*(?=\\b[0-9]+$)\", \"\").str.replace(r\"[^\\d]\", \"\", regex = True)\n",
      "<ipython-input-12-8bc6428979cb>:9: SettingWithCopyWarning: \n",
      "A value is trying to be set on a copy of a slice from a DataFrame.\n",
      "Try using .loc[row_indexer,col_indexer] = value instead\n",
      "\n",
      "See the caveats in the documentation: https://pandas.pydata.org/pandas-docs/stable/user_guide/indexing.html#returning-a-view-versus-a-copy\n",
      "  missing_lsoa_df.loc[:,'street_number2'] = missing_lsoa_df.loc[:,'street_number'].str.replace(r\"^.*(?=\\b[0-9]+$)\", \"\").str.replace(r\"[^\\d]\", \"\", regex = True)\n"
     ]
    },
    {
     "name": "stdout",
     "output_type": "stream",
     "text": [
      "i= 0  expand time,0.0 filter time0.0 make_dataframe_time 0.001\n",
      "belvoirstreet\n",
      "highcrostreet\n",
      "blackbirdroad\n",
      "E08000014\n"
     ]
    },
    {
     "name": "stderr",
     "output_type": "stream",
     "text": [
      "/tf/empty_homes_london/helper_functions.py:279: SettingWithCopyWarning: \n",
      "A value is trying to be set on a copy of a slice from a DataFrame.\n",
      "Try using .loc[row_indexer,col_indexer] = value instead\n",
      "\n",
      "See the caveats in the documentation: https://pandas.pydata.org/pandas-docs/stable/user_guide/indexing.html#returning-a-view-versus-a-copy\n",
      "  temp_multi['number_filter'] = filter_types\n",
      "<ipython-input-12-8bc6428979cb>:35: SettingWithCopyWarning: \n",
      "A value is trying to be set on a copy of a slice from a DataFrame.\n",
      "Try using .loc[row_indexer,col_indexer] = value instead\n",
      "\n",
      "See the caveats in the documentation: https://pandas.pydata.org/pandas-docs/stable/user_guide/indexing.html#returning-a-view-versus-a-copy\n",
      "  missing_lsoa_road['lsoa11cd'] = [street_number_to_lsoa(temp_road, int(missing_lsoa_road.iloc[missing_lsoa_row]['street_number2']))\n"
     ]
    },
    {
     "name": "stdout",
     "output_type": "stream",
     "text": [
      "i= 0  expand time,0.0 filter time0.0 make_dataframe_time 0.001\n",
      "stanleyroad\n",
      "liverpoolroad\n",
      "strandroad\n",
      "clareroad\n",
      "leicesterstreet\n",
      "E09000030\n"
     ]
    },
    {
     "name": "stderr",
     "output_type": "stream",
     "text": [
      "<ipython-input-12-8bc6428979cb>:9: FutureWarning: The default value of regex will change from True to False in a future version.\n",
      "  missing_lsoa_df.loc[:,'street_number2'] = missing_lsoa_df.loc[:,'street_number'].str.replace(r\"^.*(?=\\b[0-9]+$)\", \"\").str.replace(r\"[^\\d]\", \"\", regex = True)\n",
      "<ipython-input-12-8bc6428979cb>:9: SettingWithCopyWarning: \n",
      "A value is trying to be set on a copy of a slice from a DataFrame.\n",
      "Try using .loc[row_indexer,col_indexer] = value instead\n",
      "\n",
      "See the caveats in the documentation: https://pandas.pydata.org/pandas-docs/stable/user_guide/indexing.html#returning-a-view-versus-a-copy\n",
      "  missing_lsoa_df.loc[:,'street_number2'] = missing_lsoa_df.loc[:,'street_number'].str.replace(r\"^.*(?=\\b[0-9]+$)\", \"\").str.replace(r\"[^\\d]\", \"\", regex = True)\n",
      "/tf/empty_homes_london/helper_functions.py:279: SettingWithCopyWarning: \n",
      "A value is trying to be set on a copy of a slice from a DataFrame.\n",
      "Try using .loc[row_indexer,col_indexer] = value instead\n",
      "\n",
      "See the caveats in the documentation: https://pandas.pydata.org/pandas-docs/stable/user_guide/indexing.html#returning-a-view-versus-a-copy\n",
      "  temp_multi['number_filter'] = filter_types\n"
     ]
    },
    {
     "name": "stdout",
     "output_type": "stream",
     "text": [
      "i= 0  expand time,0.0 filter time0.0 make_dataframe_time 0.001\n",
      "otistreet\n",
      "shermanstreet\n",
      "thehighway\n",
      "penningtonstreet\n",
      "bethnalgreenroad\n",
      "queenanneterrace\n",
      "kinghenryterrace\n",
      "queenvictoriaterrace\n",
      "kingcharleterrace\n",
      "ashfieldstreet\n",
      "bowroad\n",
      "redchurchstreet\n",
      "saulstreet\n",
      "spitalstreet\n",
      "hackneyroad\n",
      "marianstreet\n",
      "westferryroad\n",
      "hanburystreet\n"
     ]
    },
    {
     "name": "stderr",
     "output_type": "stream",
     "text": [
      "<ipython-input-12-8bc6428979cb>:35: SettingWithCopyWarning: \n",
      "A value is trying to be set on a copy of a slice from a DataFrame.\n",
      "Try using .loc[row_indexer,col_indexer] = value instead\n",
      "\n",
      "See the caveats in the documentation: https://pandas.pydata.org/pandas-docs/stable/user_guide/indexing.html#returning-a-view-versus-a-copy\n",
      "  missing_lsoa_road['lsoa11cd'] = [street_number_to_lsoa(temp_road, int(missing_lsoa_road.iloc[missing_lsoa_row]['street_number2']))\n"
     ]
    },
    {
     "name": "stdout",
     "output_type": "stream",
     "text": [
      "baltimorewharf,\n",
      "philpotstreet\n",
      "turnerstreet\n",
      "romanroad\n",
      "poplarhighstreet\n",
      "woodseerstreet\n",
      "canadasquare\n",
      "churchillplace\n",
      "marshwall\n",
      "cabotsquare\n",
      "chrispstreet\n",
      "blackeaglebreweryfrontingquakerstreet\n",
      "wappinghighstreet\n",
      "bricklane\n",
      "canarywharf,\n",
      "salterstreet\n",
      "commercialroad\n",
      "threemilllane\n",
      "cannondrive\n",
      "buxtonstreet\n",
      "manchesterroad\n",
      "violetroad\n",
      "watneystreet\n",
      "mellishstreet\n",
      "hertsmereroad\n",
      "whitechapelroad\n",
      "harbourexchangesquare\n",
      "devonroad\n",
      "mileendroad\n",
      "E07000198\n"
     ]
    },
    {
     "name": "stderr",
     "output_type": "stream",
     "text": [
      "<ipython-input-12-8bc6428979cb>:9: FutureWarning: The default value of regex will change from True to False in a future version.\n",
      "  missing_lsoa_df.loc[:,'street_number2'] = missing_lsoa_df.loc[:,'street_number'].str.replace(r\"^.*(?=\\b[0-9]+$)\", \"\").str.replace(r\"[^\\d]\", \"\", regex = True)\n",
      "<ipython-input-12-8bc6428979cb>:9: SettingWithCopyWarning: \n",
      "A value is trying to be set on a copy of a slice from a DataFrame.\n",
      "Try using .loc[row_indexer,col_indexer] = value instead\n",
      "\n",
      "See the caveats in the documentation: https://pandas.pydata.org/pandas-docs/stable/user_guide/indexing.html#returning-a-view-versus-a-copy\n",
      "  missing_lsoa_df.loc[:,'street_number2'] = missing_lsoa_df.loc[:,'street_number'].str.replace(r\"^.*(?=\\b[0-9]+$)\", \"\").str.replace(r\"[^\\d]\", \"\", regex = True)\n"
     ]
    },
    {
     "name": "stdout",
     "output_type": "stream",
     "text": [
      "getliffeyardderbystreet\n",
      "portlandstreetnorth\n",
      "E07000177\n"
     ]
    },
    {
     "name": "stderr",
     "output_type": "stream",
     "text": [
      "<ipython-input-12-8bc6428979cb>:9: FutureWarning: The default value of regex will change from True to False in a future version.\n",
      "  missing_lsoa_df.loc[:,'street_number2'] = missing_lsoa_df.loc[:,'street_number'].str.replace(r\"^.*(?=\\b[0-9]+$)\", \"\").str.replace(r\"[^\\d]\", \"\", regex = True)\n",
      "<ipython-input-12-8bc6428979cb>:9: SettingWithCopyWarning: \n",
      "A value is trying to be set on a copy of a slice from a DataFrame.\n",
      "Try using .loc[row_indexer,col_indexer] = value instead\n",
      "\n",
      "See the caveats in the documentation: https://pandas.pydata.org/pandas-docs/stable/user_guide/indexing.html#returning-a-view-versus-a-copy\n",
      "  missing_lsoa_df.loc[:,'street_number2'] = missing_lsoa_df.loc[:,'street_number'].str.replace(r\"^.*(?=\\b[0-9]+$)\", \"\").str.replace(r\"[^\\d]\", \"\", regex = True)\n",
      "/tf/empty_homes_london/helper_functions.py:279: SettingWithCopyWarning: \n",
      "A value is trying to be set on a copy of a slice from a DataFrame.\n",
      "Try using .loc[row_indexer,col_indexer] = value instead\n",
      "\n",
      "See the caveats in the documentation: https://pandas.pydata.org/pandas-docs/stable/user_guide/indexing.html#returning-a-view-versus-a-copy\n",
      "  temp_multi['number_filter'] = filter_types\n",
      "<ipython-input-12-8bc6428979cb>:35: SettingWithCopyWarning: \n",
      "A value is trying to be set on a copy of a slice from a DataFrame.\n",
      "Try using .loc[row_indexer,col_indexer] = value instead\n",
      "\n",
      "See the caveats in the documentation: https://pandas.pydata.org/pandas-docs/stable/user_guide/indexing.html#returning-a-view-versus-a-copy\n",
      "  missing_lsoa_road['lsoa11cd'] = [street_number_to_lsoa(temp_road, int(missing_lsoa_road.iloc[missing_lsoa_row]['street_number2']))\n",
      "<ipython-input-12-8bc6428979cb>:9: FutureWarning: The default value of regex will change from True to False in a future version.\n",
      "  missing_lsoa_df.loc[:,'street_number2'] = missing_lsoa_df.loc[:,'street_number'].str.replace(r\"^.*(?=\\b[0-9]+$)\", \"\").str.replace(r\"[^\\d]\", \"\", regex = True)\n",
      "<ipython-input-12-8bc6428979cb>:9: SettingWithCopyWarning: \n",
      "A value is trying to be set on a copy of a slice from a DataFrame.\n",
      "Try using .loc[row_indexer,col_indexer] = value instead\n",
      "\n",
      "See the caveats in the documentation: https://pandas.pydata.org/pandas-docs/stable/user_guide/indexing.html#returning-a-view-versus-a-copy\n",
      "  missing_lsoa_df.loc[:,'street_number2'] = missing_lsoa_df.loc[:,'street_number'].str.replace(r\"^.*(?=\\b[0-9]+$)\", \"\").str.replace(r\"[^\\d]\", \"\", regex = True)\n"
     ]
    },
    {
     "name": "stdout",
     "output_type": "stream",
     "text": [
      "i= 0  expand time,0.0 filter time0.0 make_dataframe_time 0.001\n",
      "marketplace\n",
      "parsonstreet\n",
      "thorpeway\n",
      "honorclose\n",
      "E08000021\n"
     ]
    },
    {
     "name": "stderr",
     "output_type": "stream",
     "text": [
      "/tf/empty_homes_london/helper_functions.py:279: SettingWithCopyWarning: \n",
      "A value is trying to be set on a copy of a slice from a DataFrame.\n",
      "Try using .loc[row_indexer,col_indexer] = value instead\n",
      "\n",
      "See the caveats in the documentation: https://pandas.pydata.org/pandas-docs/stable/user_guide/indexing.html#returning-a-view-versus-a-copy\n",
      "  temp_multi['number_filter'] = filter_types\n"
     ]
    },
    {
     "name": "stdout",
     "output_type": "stream",
     "text": [
      "i= 0  expand time,0.0 filter time0.0 make_dataframe_time 0.001\n",
      "highstreet\n",
      "chillinghamroad\n",
      "simonsideterrace\n",
      "ivyroad\n",
      "elmfieldroad\n",
      "graingerstreet\n",
      "cartingtonterrace\n",
      "starbeckavenue\n",
      "bathlane\n",
      "scotswoodroad\n",
      "shieldroad\n",
      "greystreet\n"
     ]
    },
    {
     "name": "stderr",
     "output_type": "stream",
     "text": [
      "<ipython-input-12-8bc6428979cb>:35: SettingWithCopyWarning: \n",
      "A value is trying to be set on a copy of a slice from a DataFrame.\n",
      "Try using .loc[row_indexer,col_indexer] = value instead\n",
      "\n",
      "See the caveats in the documentation: https://pandas.pydata.org/pandas-docs/stable/user_guide/indexing.html#returning-a-view-versus-a-copy\n",
      "  missing_lsoa_road['lsoa11cd'] = [street_number_to_lsoa(temp_road, int(missing_lsoa_road.iloc[missing_lsoa_row]['street_number2']))\n"
     ]
    },
    {
     "name": "stdout",
     "output_type": "stream",
     "text": [
      "portlandroad\n",
      "shortridgeterrace\n",
      "highbridge\n",
      "W06000014\n"
     ]
    },
    {
     "name": "stderr",
     "output_type": "stream",
     "text": [
      "<ipython-input-12-8bc6428979cb>:9: FutureWarning: The default value of regex will change from True to False in a future version.\n",
      "  missing_lsoa_df.loc[:,'street_number2'] = missing_lsoa_df.loc[:,'street_number'].str.replace(r\"^.*(?=\\b[0-9]+$)\", \"\").str.replace(r\"[^\\d]\", \"\", regex = True)\n",
      "<ipython-input-12-8bc6428979cb>:9: SettingWithCopyWarning: \n",
      "A value is trying to be set on a copy of a slice from a DataFrame.\n",
      "Try using .loc[row_indexer,col_indexer] = value instead\n",
      "\n",
      "See the caveats in the documentation: https://pandas.pydata.org/pandas-docs/stable/user_guide/indexing.html#returning-a-view-versus-a-copy\n",
      "  missing_lsoa_df.loc[:,'street_number2'] = missing_lsoa_df.loc[:,'street_number'].str.replace(r\"^.*(?=\\b[0-9]+$)\", \"\").str.replace(r\"[^\\d]\", \"\", regex = True)\n"
     ]
    },
    {
     "name": "stdout",
     "output_type": "stream",
     "text": [
      "ty-draw\n",
      "heol-y-frenhines\n",
      "E06000018\n"
     ]
    },
    {
     "name": "stderr",
     "output_type": "stream",
     "text": [
      "<ipython-input-12-8bc6428979cb>:9: FutureWarning: The default value of regex will change from True to False in a future version.\n",
      "  missing_lsoa_df.loc[:,'street_number2'] = missing_lsoa_df.loc[:,'street_number'].str.replace(r\"^.*(?=\\b[0-9]+$)\", \"\").str.replace(r\"[^\\d]\", \"\", regex = True)\n",
      "<ipython-input-12-8bc6428979cb>:9: SettingWithCopyWarning: \n",
      "A value is trying to be set on a copy of a slice from a DataFrame.\n",
      "Try using .loc[row_indexer,col_indexer] = value instead\n",
      "\n",
      "See the caveats in the documentation: https://pandas.pydata.org/pandas-docs/stable/user_guide/indexing.html#returning-a-view-versus-a-copy\n",
      "  missing_lsoa_df.loc[:,'street_number2'] = missing_lsoa_df.loc[:,'street_number'].str.replace(r\"^.*(?=\\b[0-9]+$)\", \"\").str.replace(r\"[^\\d]\", \"\", regex = True)\n",
      "/tf/empty_homes_london/helper_functions.py:279: SettingWithCopyWarning: \n",
      "A value is trying to be set on a copy of a slice from a DataFrame.\n",
      "Try using .loc[row_indexer,col_indexer] = value instead\n",
      "\n",
      "See the caveats in the documentation: https://pandas.pydata.org/pandas-docs/stable/user_guide/indexing.html#returning-a-view-versus-a-copy\n",
      "  temp_multi['number_filter'] = filter_types\n"
     ]
    },
    {
     "name": "stdout",
     "output_type": "stream",
     "text": [
      "i= 0  expand time,0.0 filter time0.0 make_dataframe_time 0.001\n",
      "shakespearestreet\n",
      "peachystreet\n",
      "huntingdonstreet\n",
      "bodenstreet\n",
      "mansfieldroad\n",
      "queenroad\n",
      "canalstreet\n",
      "lowerparliamentstreet\n",
      "wyegardens\n",
      "stmarygate\n",
      "theicehousebelwardstreet\n",
      "E07000061\n"
     ]
    },
    {
     "name": "stderr",
     "output_type": "stream",
     "text": [
      "<ipython-input-12-8bc6428979cb>:35: SettingWithCopyWarning: \n",
      "A value is trying to be set on a copy of a slice from a DataFrame.\n",
      "Try using .loc[row_indexer,col_indexer] = value instead\n",
      "\n",
      "See the caveats in the documentation: https://pandas.pydata.org/pandas-docs/stable/user_guide/indexing.html#returning-a-view-versus-a-copy\n",
      "  missing_lsoa_road['lsoa11cd'] = [street_number_to_lsoa(temp_road, int(missing_lsoa_road.iloc[missing_lsoa_row]['street_number2']))\n",
      "<ipython-input-12-8bc6428979cb>:9: FutureWarning: The default value of regex will change from True to False in a future version.\n",
      "  missing_lsoa_df.loc[:,'street_number2'] = missing_lsoa_df.loc[:,'street_number'].str.replace(r\"^.*(?=\\b[0-9]+$)\", \"\").str.replace(r\"[^\\d]\", \"\", regex = True)\n",
      "<ipython-input-12-8bc6428979cb>:9: SettingWithCopyWarning: \n",
      "A value is trying to be set on a copy of a slice from a DataFrame.\n",
      "Try using .loc[row_indexer,col_indexer] = value instead\n",
      "\n",
      "See the caveats in the documentation: https://pandas.pydata.org/pandas-docs/stable/user_guide/indexing.html#returning-a-view-versus-a-copy\n",
      "  missing_lsoa_df.loc[:,'street_number2'] = missing_lsoa_df.loc[:,'street_number'].str.replace(r\"^.*(?=\\b[0-9]+$)\", \"\").str.replace(r\"[^\\d]\", \"\", regex = True)\n",
      "/tf/empty_homes_london/helper_functions.py:279: SettingWithCopyWarning: \n",
      "A value is trying to be set on a copy of a slice from a DataFrame.\n",
      "Try using .loc[row_indexer,col_indexer] = value instead\n",
      "\n",
      "See the caveats in the documentation: https://pandas.pydata.org/pandas-docs/stable/user_guide/indexing.html#returning-a-view-versus-a-copy\n",
      "  temp_multi['number_filter'] = filter_types\n",
      "<ipython-input-12-8bc6428979cb>:35: SettingWithCopyWarning: \n",
      "A value is trying to be set on a copy of a slice from a DataFrame.\n",
      "Try using .loc[row_indexer,col_indexer] = value instead\n",
      "\n",
      "See the caveats in the documentation: https://pandas.pydata.org/pandas-docs/stable/user_guide/indexing.html#returning-a-view-versus-a-copy\n",
      "  missing_lsoa_road['lsoa11cd'] = [street_number_to_lsoa(temp_road, int(missing_lsoa_road.iloc[missing_lsoa_row]['street_number2']))\n",
      "<ipython-input-12-8bc6428979cb>:9: FutureWarning: The default value of regex will change from True to False in a future version.\n",
      "  missing_lsoa_df.loc[:,'street_number2'] = missing_lsoa_df.loc[:,'street_number'].str.replace(r\"^.*(?=\\b[0-9]+$)\", \"\").str.replace(r\"[^\\d]\", \"\", regex = True)\n",
      "<ipython-input-12-8bc6428979cb>:9: SettingWithCopyWarning: \n",
      "A value is trying to be set on a copy of a slice from a DataFrame.\n",
      "Try using .loc[row_indexer,col_indexer] = value instead\n",
      "\n",
      "See the caveats in the documentation: https://pandas.pydata.org/pandas-docs/stable/user_guide/indexing.html#returning-a-view-versus-a-copy\n",
      "  missing_lsoa_df.loc[:,'street_number2'] = missing_lsoa_df.loc[:,'street_number'].str.replace(r\"^.*(?=\\b[0-9]+$)\", \"\").str.replace(r\"[^\\d]\", \"\", regex = True)\n"
     ]
    },
    {
     "name": "stdout",
     "output_type": "stream",
     "text": [
      "i= 0  expand time,0.0 filter time0.0 make_dataframe_time 0.001\n",
      "terminuroad\n",
      "howardsquare\n",
      "broadwaterway\n",
      "E07000090\n"
     ]
    },
    {
     "name": "stderr",
     "output_type": "stream",
     "text": [
      "/tf/empty_homes_london/helper_functions.py:279: SettingWithCopyWarning: \n",
      "A value is trying to be set on a copy of a slice from a DataFrame.\n",
      "Try using .loc[row_indexer,col_indexer] = value instead\n",
      "\n",
      "See the caveats in the documentation: https://pandas.pydata.org/pandas-docs/stable/user_guide/indexing.html#returning-a-view-versus-a-copy\n",
      "  temp_multi['number_filter'] = filter_types\n",
      "<ipython-input-12-8bc6428979cb>:35: SettingWithCopyWarning: \n",
      "A value is trying to be set on a copy of a slice from a DataFrame.\n",
      "Try using .loc[row_indexer,col_indexer] = value instead\n",
      "\n",
      "See the caveats in the documentation: https://pandas.pydata.org/pandas-docs/stable/user_guide/indexing.html#returning-a-view-versus-a-copy\n",
      "  missing_lsoa_road['lsoa11cd'] = [street_number_to_lsoa(temp_road, int(missing_lsoa_road.iloc[missing_lsoa_row]['street_number2']))\n",
      "<ipython-input-12-8bc6428979cb>:9: FutureWarning: The default value of regex will change from True to False in a future version.\n",
      "  missing_lsoa_df.loc[:,'street_number2'] = missing_lsoa_df.loc[:,'street_number'].str.replace(r\"^.*(?=\\b[0-9]+$)\", \"\").str.replace(r\"[^\\d]\", \"\", regex = True)\n",
      "<ipython-input-12-8bc6428979cb>:9: SettingWithCopyWarning: \n",
      "A value is trying to be set on a copy of a slice from a DataFrame.\n",
      "Try using .loc[row_indexer,col_indexer] = value instead\n",
      "\n",
      "See the caveats in the documentation: https://pandas.pydata.org/pandas-docs/stable/user_guide/indexing.html#returning-a-view-versus-a-copy\n",
      "  missing_lsoa_df.loc[:,'street_number2'] = missing_lsoa_df.loc[:,'street_number'].str.replace(r\"^.*(?=\\b[0-9]+$)\", \"\").str.replace(r\"[^\\d]\", \"\", regex = True)\n"
     ]
    },
    {
     "name": "stdout",
     "output_type": "stream",
     "text": [
      "i= 0  expand time,0.0 filter time0.0 make_dataframe_time 0.001\n",
      "amarketparade,\n",
      "londonroad\n",
      "E09000013\n"
     ]
    },
    {
     "name": "stderr",
     "output_type": "stream",
     "text": [
      "/tf/empty_homes_london/helper_functions.py:279: SettingWithCopyWarning: \n",
      "A value is trying to be set on a copy of a slice from a DataFrame.\n",
      "Try using .loc[row_indexer,col_indexer] = value instead\n",
      "\n",
      "See the caveats in the documentation: https://pandas.pydata.org/pandas-docs/stable/user_guide/indexing.html#returning-a-view-versus-a-copy\n",
      "  temp_multi['number_filter'] = filter_types\n"
     ]
    },
    {
     "name": "stdout",
     "output_type": "stream",
     "text": [
      "i= 0  expand time,0.0 filter time0.0 make_dataframe_time 0.001\n",
      "glenthorneroad\n",
      "scrublane\n",
      "lillieroad\n",
      "kingstreet\n",
      "hammersmithroad\n",
      "sedlescomberoad\n",
      "northendroad\n",
      "parsongreenlane\n",
      "fulhampalaceroad\n",
      "hamiltonvillas\n",
      "windsorway\n"
     ]
    },
    {
     "name": "stderr",
     "output_type": "stream",
     "text": [
      "<ipython-input-12-8bc6428979cb>:35: SettingWithCopyWarning: \n",
      "A value is trying to be set on a copy of a slice from a DataFrame.\n",
      "Try using .loc[row_indexer,col_indexer] = value instead\n",
      "\n",
      "See the caveats in the documentation: https://pandas.pydata.org/pandas-docs/stable/user_guide/indexing.html#returning-a-view-versus-a-copy\n",
      "  missing_lsoa_road['lsoa11cd'] = [street_number_to_lsoa(temp_road, int(missing_lsoa_road.iloc[missing_lsoa_row]['street_number2']))\n"
     ]
    },
    {
     "name": "stdout",
     "output_type": "stream",
     "text": [
      "wandsworthbridgeroad\n",
      "blytheroad\n",
      "hammersmithgrove\n",
      "bromptonparkcrescent\n",
      "fulhamroad\n",
      "taborroad\n",
      "fulhamparkgardens\n",
      "palliserroad\n",
      "woodlane\n",
      "kingwoodroad\n",
      "E08000024\n"
     ]
    },
    {
     "name": "stderr",
     "output_type": "stream",
     "text": [
      "<ipython-input-12-8bc6428979cb>:9: FutureWarning: The default value of regex will change from True to False in a future version.\n",
      "  missing_lsoa_df.loc[:,'street_number2'] = missing_lsoa_df.loc[:,'street_number'].str.replace(r\"^.*(?=\\b[0-9]+$)\", \"\").str.replace(r\"[^\\d]\", \"\", regex = True)\n",
      "<ipython-input-12-8bc6428979cb>:9: SettingWithCopyWarning: \n",
      "A value is trying to be set on a copy of a slice from a DataFrame.\n",
      "Try using .loc[row_indexer,col_indexer] = value instead\n",
      "\n",
      "See the caveats in the documentation: https://pandas.pydata.org/pandas-docs/stable/user_guide/indexing.html#returning-a-view-versus-a-copy\n",
      "  missing_lsoa_df.loc[:,'street_number2'] = missing_lsoa_df.loc[:,'street_number'].str.replace(r\"^.*(?=\\b[0-9]+$)\", \"\").str.replace(r\"[^\\d]\", \"\", regex = True)\n",
      "/tf/empty_homes_london/helper_functions.py:279: SettingWithCopyWarning: \n",
      "A value is trying to be set on a copy of a slice from a DataFrame.\n",
      "Try using .loc[row_indexer,col_indexer] = value instead\n",
      "\n",
      "See the caveats in the documentation: https://pandas.pydata.org/pandas-docs/stable/user_guide/indexing.html#returning-a-view-versus-a-copy\n",
      "  temp_multi['number_filter'] = filter_types\n",
      "<ipython-input-12-8bc6428979cb>:9: FutureWarning: The default value of regex will change from True to False in a future version.\n",
      "  missing_lsoa_df.loc[:,'street_number2'] = missing_lsoa_df.loc[:,'street_number'].str.replace(r\"^.*(?=\\b[0-9]+$)\", \"\").str.replace(r\"[^\\d]\", \"\", regex = True)\n",
      "<ipython-input-12-8bc6428979cb>:9: SettingWithCopyWarning: \n",
      "A value is trying to be set on a copy of a slice from a DataFrame.\n",
      "Try using .loc[row_indexer,col_indexer] = value instead\n",
      "\n",
      "See the caveats in the documentation: https://pandas.pydata.org/pandas-docs/stable/user_guide/indexing.html#returning-a-view-versus-a-copy\n",
      "  missing_lsoa_df.loc[:,'street_number2'] = missing_lsoa_df.loc[:,'street_number'].str.replace(r\"^.*(?=\\b[0-9]+$)\", \"\").str.replace(r\"[^\\d]\", \"\", regex = True)\n"
     ]
    },
    {
     "name": "stdout",
     "output_type": "stream",
     "text": [
      "i= 0  expand time,0.0 filter time0.0 make_dataframe_time 0.001\n",
      "highstreet\n",
      "W06000003\n",
      "rhoslanpark\n",
      "E09000025\n"
     ]
    },
    {
     "name": "stderr",
     "output_type": "stream",
     "text": [
      "<ipython-input-12-8bc6428979cb>:9: FutureWarning: The default value of regex will change from True to False in a future version.\n",
      "  missing_lsoa_df.loc[:,'street_number2'] = missing_lsoa_df.loc[:,'street_number'].str.replace(r\"^.*(?=\\b[0-9]+$)\", \"\").str.replace(r\"[^\\d]\", \"\", regex = True)\n",
      "<ipython-input-12-8bc6428979cb>:9: SettingWithCopyWarning: \n",
      "A value is trying to be set on a copy of a slice from a DataFrame.\n",
      "Try using .loc[row_indexer,col_indexer] = value instead\n",
      "\n",
      "See the caveats in the documentation: https://pandas.pydata.org/pandas-docs/stable/user_guide/indexing.html#returning-a-view-versus-a-copy\n",
      "  missing_lsoa_df.loc[:,'street_number2'] = missing_lsoa_df.loc[:,'street_number'].str.replace(r\"^.*(?=\\b[0-9]+$)\", \"\").str.replace(r\"[^\\d]\", \"\", regex = True)\n",
      "/tf/empty_homes_london/helper_functions.py:279: SettingWithCopyWarning: \n",
      "A value is trying to be set on a copy of a slice from a DataFrame.\n",
      "Try using .loc[row_indexer,col_indexer] = value instead\n",
      "\n",
      "See the caveats in the documentation: https://pandas.pydata.org/pandas-docs/stable/user_guide/indexing.html#returning-a-view-versus-a-copy\n",
      "  temp_multi['number_filter'] = filter_types\n"
     ]
    },
    {
     "name": "stdout",
     "output_type": "stream",
     "text": [
      "i= 0  expand time,0.0 filter time0.0 make_dataframe_time 0.002\n",
      "highstreetnorth\n",
      "caledonroad\n",
      "highstreet\n",
      "greenstreet\n",
      "wartonroad\n",
      "westerngateway\n",
      "humberstoneroad\n",
      "codyroad\n",
      "romfordroad\n",
      "katherineroad\n",
      "hermitroad\n",
      "thegrove\n",
      "victoriadockroad\n",
      "newbarnstreet\n"
     ]
    },
    {
     "name": "stderr",
     "output_type": "stream",
     "text": [
      "<ipython-input-12-8bc6428979cb>:35: SettingWithCopyWarning: \n",
      "A value is trying to be set on a copy of a slice from a DataFrame.\n",
      "Try using .loc[row_indexer,col_indexer] = value instead\n",
      "\n",
      "See the caveats in the documentation: https://pandas.pydata.org/pandas-docs/stable/user_guide/indexing.html#returning-a-view-versus-a-copy\n",
      "  missing_lsoa_road['lsoa11cd'] = [street_number_to_lsoa(temp_road, int(missing_lsoa_road.iloc[missing_lsoa_row]['street_number2']))\n"
     ]
    },
    {
     "name": "stdout",
     "output_type": "stream",
     "text": [
      "E06000036\n"
     ]
    },
    {
     "name": "stderr",
     "output_type": "stream",
     "text": [
      "<ipython-input-12-8bc6428979cb>:9: FutureWarning: The default value of regex will change from True to False in a future version.\n",
      "  missing_lsoa_df.loc[:,'street_number2'] = missing_lsoa_df.loc[:,'street_number'].str.replace(r\"^.*(?=\\b[0-9]+$)\", \"\").str.replace(r\"[^\\d]\", \"\", regex = True)\n",
      "<ipython-input-12-8bc6428979cb>:9: SettingWithCopyWarning: \n",
      "A value is trying to be set on a copy of a slice from a DataFrame.\n",
      "Try using .loc[row_indexer,col_indexer] = value instead\n",
      "\n",
      "See the caveats in the documentation: https://pandas.pydata.org/pandas-docs/stable/user_guide/indexing.html#returning-a-view-versus-a-copy\n",
      "  missing_lsoa_df.loc[:,'street_number2'] = missing_lsoa_df.loc[:,'street_number'].str.replace(r\"^.*(?=\\b[0-9]+$)\", \"\").str.replace(r\"[^\\d]\", \"\", regex = True)\n",
      "/tf/empty_homes_london/helper_functions.py:279: SettingWithCopyWarning: \n",
      "A value is trying to be set on a copy of a slice from a DataFrame.\n",
      "Try using .loc[row_indexer,col_indexer] = value instead\n",
      "\n",
      "See the caveats in the documentation: https://pandas.pydata.org/pandas-docs/stable/user_guide/indexing.html#returning-a-view-versus-a-copy\n",
      "  temp_multi['number_filter'] = filter_types\n",
      "<ipython-input-12-8bc6428979cb>:35: SettingWithCopyWarning: \n",
      "A value is trying to be set on a copy of a slice from a DataFrame.\n",
      "Try using .loc[row_indexer,col_indexer] = value instead\n",
      "\n",
      "See the caveats in the documentation: https://pandas.pydata.org/pandas-docs/stable/user_guide/indexing.html#returning-a-view-versus-a-copy\n",
      "  missing_lsoa_road['lsoa11cd'] = [street_number_to_lsoa(temp_road, int(missing_lsoa_road.iloc[missing_lsoa_row]['street_number2']))\n",
      "<ipython-input-12-8bc6428979cb>:9: FutureWarning: The default value of regex will change from True to False in a future version.\n",
      "  missing_lsoa_df.loc[:,'street_number2'] = missing_lsoa_df.loc[:,'street_number'].str.replace(r\"^.*(?=\\b[0-9]+$)\", \"\").str.replace(r\"[^\\d]\", \"\", regex = True)\n",
      "<ipython-input-12-8bc6428979cb>:9: SettingWithCopyWarning: \n",
      "A value is trying to be set on a copy of a slice from a DataFrame.\n",
      "Try using .loc[row_indexer,col_indexer] = value instead\n",
      "\n",
      "See the caveats in the documentation: https://pandas.pydata.org/pandas-docs/stable/user_guide/indexing.html#returning-a-view-versus-a-copy\n",
      "  missing_lsoa_df.loc[:,'street_number2'] = missing_lsoa_df.loc[:,'street_number'].str.replace(r\"^.*(?=\\b[0-9]+$)\", \"\").str.replace(r\"[^\\d]\", \"\", regex = True)\n"
     ]
    },
    {
     "name": "stdout",
     "output_type": "stream",
     "text": [
      "i= 0  expand time,0.0 filter time0.0 make_dataframe_time 0.001\n",
      "yorktownroad\n",
      "skimpedhilllane\n",
      "W06000011\n"
     ]
    },
    {
     "name": "stderr",
     "output_type": "stream",
     "text": [
      "/tf/empty_homes_london/helper_functions.py:279: SettingWithCopyWarning: \n",
      "A value is trying to be set on a copy of a slice from a DataFrame.\n",
      "Try using .loc[row_indexer,col_indexer] = value instead\n",
      "\n",
      "See the caveats in the documentation: https://pandas.pydata.org/pandas-docs/stable/user_guide/indexing.html#returning-a-view-versus-a-copy\n",
      "  temp_multi['number_filter'] = filter_types\n",
      "<ipython-input-12-8bc6428979cb>:35: SettingWithCopyWarning: \n",
      "A value is trying to be set on a copy of a slice from a DataFrame.\n",
      "Try using .loc[row_indexer,col_indexer] = value instead\n",
      "\n",
      "See the caveats in the documentation: https://pandas.pydata.org/pandas-docs/stable/user_guide/indexing.html#returning-a-view-versus-a-copy\n",
      "  missing_lsoa_road['lsoa11cd'] = [street_number_to_lsoa(temp_road, int(missing_lsoa_road.iloc[missing_lsoa_row]['street_number2']))\n"
     ]
    },
    {
     "name": "stdout",
     "output_type": "stream",
     "text": [
      "i= 0  expand time,0.0 filter time0.0 make_dataframe_time 0.001\n",
      "sthelenroad\n",
      "downleazecockett\n",
      "bryneglurroad\n",
      "lonheddwch\n",
      "E08000008\n"
     ]
    },
    {
     "name": "stderr",
     "output_type": "stream",
     "text": [
      "<ipython-input-12-8bc6428979cb>:9: FutureWarning: The default value of regex will change from True to False in a future version.\n",
      "  missing_lsoa_df.loc[:,'street_number2'] = missing_lsoa_df.loc[:,'street_number'].str.replace(r\"^.*(?=\\b[0-9]+$)\", \"\").str.replace(r\"[^\\d]\", \"\", regex = True)\n",
      "<ipython-input-12-8bc6428979cb>:9: SettingWithCopyWarning: \n",
      "A value is trying to be set on a copy of a slice from a DataFrame.\n",
      "Try using .loc[row_indexer,col_indexer] = value instead\n",
      "\n",
      "See the caveats in the documentation: https://pandas.pydata.org/pandas-docs/stable/user_guide/indexing.html#returning-a-view-versus-a-copy\n",
      "  missing_lsoa_df.loc[:,'street_number2'] = missing_lsoa_df.loc[:,'street_number'].str.replace(r\"^.*(?=\\b[0-9]+$)\", \"\").str.replace(r\"[^\\d]\", \"\", regex = True)\n",
      "/tf/empty_homes_london/helper_functions.py:279: SettingWithCopyWarning: \n",
      "A value is trying to be set on a copy of a slice from a DataFrame.\n",
      "Try using .loc[row_indexer,col_indexer] = value instead\n",
      "\n",
      "See the caveats in the documentation: https://pandas.pydata.org/pandas-docs/stable/user_guide/indexing.html#returning-a-view-versus-a-copy\n",
      "  temp_multi['number_filter'] = filter_types\n",
      "<ipython-input-12-8bc6428979cb>:35: SettingWithCopyWarning: \n",
      "A value is trying to be set on a copy of a slice from a DataFrame.\n",
      "Try using .loc[row_indexer,col_indexer] = value instead\n",
      "\n",
      "See the caveats in the documentation: https://pandas.pydata.org/pandas-docs/stable/user_guide/indexing.html#returning-a-view-versus-a-copy\n",
      "  missing_lsoa_road['lsoa11cd'] = [street_number_to_lsoa(temp_road, int(missing_lsoa_road.iloc[missing_lsoa_row]['street_number2']))\n"
     ]
    },
    {
     "name": "stdout",
     "output_type": "stream",
     "text": [
      "i= 0  expand time,0.0 filter time0.0 make_dataframe_time 0.001\n",
      "salisburydrive\n",
      "annstreet\n",
      "marketplace\n",
      "manchesterroad\n",
      "georgestreet\n",
      "ashtonroad\n",
      "E06000060\n"
     ]
    },
    {
     "name": "stderr",
     "output_type": "stream",
     "text": [
      "<ipython-input-12-8bc6428979cb>:9: FutureWarning: The default value of regex will change from True to False in a future version.\n",
      "  missing_lsoa_df.loc[:,'street_number2'] = missing_lsoa_df.loc[:,'street_number'].str.replace(r\"^.*(?=\\b[0-9]+$)\", \"\").str.replace(r\"[^\\d]\", \"\", regex = True)\n",
      "<ipython-input-12-8bc6428979cb>:9: SettingWithCopyWarning: \n",
      "A value is trying to be set on a copy of a slice from a DataFrame.\n",
      "Try using .loc[row_indexer,col_indexer] = value instead\n",
      "\n",
      "See the caveats in the documentation: https://pandas.pydata.org/pandas-docs/stable/user_guide/indexing.html#returning-a-view-versus-a-copy\n",
      "  missing_lsoa_df.loc[:,'street_number2'] = missing_lsoa_df.loc[:,'street_number'].str.replace(r\"^.*(?=\\b[0-9]+$)\", \"\").str.replace(r\"[^\\d]\", \"\", regex = True)\n",
      "/tf/empty_homes_london/helper_functions.py:279: SettingWithCopyWarning: \n",
      "A value is trying to be set on a copy of a slice from a DataFrame.\n",
      "Try using .loc[row_indexer,col_indexer] = value instead\n",
      "\n",
      "See the caveats in the documentation: https://pandas.pydata.org/pandas-docs/stable/user_guide/indexing.html#returning-a-view-versus-a-copy\n",
      "  temp_multi['number_filter'] = filter_types\n"
     ]
    },
    {
     "name": "stdout",
     "output_type": "stream",
     "text": [
      "i= 0  expand time,0.0 filter time0.0 make_dataframe_time 0.001\n",
      "highstreet\n",
      "stationroad\n",
      "oakendway\n",
      "frogmoor\n",
      "cambridgestreet\n",
      "stadiumapproach,\n",
      "oxfordroad\n",
      "londonroad\n",
      "piddingtonroad\n",
      "silverstreet\n",
      "marlowroad\n",
      "whitelionroad\n",
      "bathroad\n",
      "castlestreet\n",
      "W06000006\n"
     ]
    },
    {
     "name": "stderr",
     "output_type": "stream",
     "text": [
      "<ipython-input-12-8bc6428979cb>:35: SettingWithCopyWarning: \n",
      "A value is trying to be set on a copy of a slice from a DataFrame.\n",
      "Try using .loc[row_indexer,col_indexer] = value instead\n",
      "\n",
      "See the caveats in the documentation: https://pandas.pydata.org/pandas-docs/stable/user_guide/indexing.html#returning-a-view-versus-a-copy\n",
      "  missing_lsoa_road['lsoa11cd'] = [street_number_to_lsoa(temp_road, int(missing_lsoa_road.iloc[missing_lsoa_row]['street_number2']))\n",
      "<ipython-input-12-8bc6428979cb>:9: FutureWarning: The default value of regex will change from True to False in a future version.\n",
      "  missing_lsoa_df.loc[:,'street_number2'] = missing_lsoa_df.loc[:,'street_number'].str.replace(r\"^.*(?=\\b[0-9]+$)\", \"\").str.replace(r\"[^\\d]\", \"\", regex = True)\n",
      "<ipython-input-12-8bc6428979cb>:9: SettingWithCopyWarning: \n",
      "A value is trying to be set on a copy of a slice from a DataFrame.\n",
      "Try using .loc[row_indexer,col_indexer] = value instead\n",
      "\n",
      "See the caveats in the documentation: https://pandas.pydata.org/pandas-docs/stable/user_guide/indexing.html#returning-a-view-versus-a-copy\n",
      "  missing_lsoa_df.loc[:,'street_number2'] = missing_lsoa_df.loc[:,'street_number'].str.replace(r\"^.*(?=\\b[0-9]+$)\", \"\").str.replace(r\"[^\\d]\", \"\", regex = True)\n"
     ]
    },
    {
     "name": "stdout",
     "output_type": "stream",
     "text": [
      "llayroad\n",
      "E06000039\n"
     ]
    },
    {
     "name": "stderr",
     "output_type": "stream",
     "text": [
      "<ipython-input-12-8bc6428979cb>:9: FutureWarning: The default value of regex will change from True to False in a future version.\n",
      "  missing_lsoa_df.loc[:,'street_number2'] = missing_lsoa_df.loc[:,'street_number'].str.replace(r\"^.*(?=\\b[0-9]+$)\", \"\").str.replace(r\"[^\\d]\", \"\", regex = True)\n",
      "<ipython-input-12-8bc6428979cb>:9: SettingWithCopyWarning: \n",
      "A value is trying to be set on a copy of a slice from a DataFrame.\n",
      "Try using .loc[row_indexer,col_indexer] = value instead\n",
      "\n",
      "See the caveats in the documentation: https://pandas.pydata.org/pandas-docs/stable/user_guide/indexing.html#returning-a-view-versus-a-copy\n",
      "  missing_lsoa_df.loc[:,'street_number2'] = missing_lsoa_df.loc[:,'street_number'].str.replace(r\"^.*(?=\\b[0-9]+$)\", \"\").str.replace(r\"[^\\d]\", \"\", regex = True)\n",
      "/tf/empty_homes_london/helper_functions.py:279: SettingWithCopyWarning: \n",
      "A value is trying to be set on a copy of a slice from a DataFrame.\n",
      "Try using .loc[row_indexer,col_indexer] = value instead\n",
      "\n",
      "See the caveats in the documentation: https://pandas.pydata.org/pandas-docs/stable/user_guide/indexing.html#returning-a-view-versus-a-copy\n",
      "  temp_multi['number_filter'] = filter_types\n"
     ]
    },
    {
     "name": "stdout",
     "output_type": "stream",
     "text": [
      "i= 0  expand time,0.0 filter time0.0 make_dataframe_time 0.001\n",
      "bathroad\n",
      "cumberlandavenue\n",
      "canterburyavenue\n",
      "ajaxavenue\n",
      "highstreet\n",
      "montroseavenue\n",
      "marlboroughgrove\n",
      "E06000023\n"
     ]
    },
    {
     "name": "stderr",
     "output_type": "stream",
     "text": [
      "<ipython-input-12-8bc6428979cb>:35: SettingWithCopyWarning: \n",
      "A value is trying to be set on a copy of a slice from a DataFrame.\n",
      "Try using .loc[row_indexer,col_indexer] = value instead\n",
      "\n",
      "See the caveats in the documentation: https://pandas.pydata.org/pandas-docs/stable/user_guide/indexing.html#returning-a-view-versus-a-copy\n",
      "  missing_lsoa_road['lsoa11cd'] = [street_number_to_lsoa(temp_road, int(missing_lsoa_road.iloc[missing_lsoa_row]['street_number2']))\n",
      "<ipython-input-12-8bc6428979cb>:9: FutureWarning: The default value of regex will change from True to False in a future version.\n",
      "  missing_lsoa_df.loc[:,'street_number2'] = missing_lsoa_df.loc[:,'street_number'].str.replace(r\"^.*(?=\\b[0-9]+$)\", \"\").str.replace(r\"[^\\d]\", \"\", regex = True)\n",
      "<ipython-input-12-8bc6428979cb>:9: SettingWithCopyWarning: \n",
      "A value is trying to be set on a copy of a slice from a DataFrame.\n",
      "Try using .loc[row_indexer,col_indexer] = value instead\n",
      "\n",
      "See the caveats in the documentation: https://pandas.pydata.org/pandas-docs/stable/user_guide/indexing.html#returning-a-view-versus-a-copy\n",
      "  missing_lsoa_df.loc[:,'street_number2'] = missing_lsoa_df.loc[:,'street_number'].str.replace(r\"^.*(?=\\b[0-9]+$)\", \"\").str.replace(r\"[^\\d]\", \"\", regex = True)\n",
      "/tf/empty_homes_london/helper_functions.py:279: SettingWithCopyWarning: \n",
      "A value is trying to be set on a copy of a slice from a DataFrame.\n",
      "Try using .loc[row_indexer,col_indexer] = value instead\n",
      "\n",
      "See the caveats in the documentation: https://pandas.pydata.org/pandas-docs/stable/user_guide/indexing.html#returning-a-view-versus-a-copy\n",
      "  temp_multi['number_filter'] = filter_types\n",
      "<ipython-input-12-8bc6428979cb>:35: SettingWithCopyWarning: \n",
      "A value is trying to be set on a copy of a slice from a DataFrame.\n",
      "Try using .loc[row_indexer,col_indexer] = value instead\n",
      "\n",
      "See the caveats in the documentation: https://pandas.pydata.org/pandas-docs/stable/user_guide/indexing.html#returning-a-view-versus-a-copy\n",
      "  missing_lsoa_road['lsoa11cd'] = [street_number_to_lsoa(temp_road, int(missing_lsoa_road.iloc[missing_lsoa_row]['street_number2']))\n"
     ]
    },
    {
     "name": "stdout",
     "output_type": "stream",
     "text": [
      "i= 0  expand time,0.0 filter time0.0 make_dataframe_time 0.001\n",
      "gloucesterroad\n",
      "parkstreet\n",
      "fishpondroad\n",
      "portlandplace\n",
      "trinitystreet\n",
      "E08000005\n"
     ]
    },
    {
     "name": "stderr",
     "output_type": "stream",
     "text": [
      "<ipython-input-12-8bc6428979cb>:9: FutureWarning: The default value of regex will change from True to False in a future version.\n",
      "  missing_lsoa_df.loc[:,'street_number2'] = missing_lsoa_df.loc[:,'street_number'].str.replace(r\"^.*(?=\\b[0-9]+$)\", \"\").str.replace(r\"[^\\d]\", \"\", regex = True)\n",
      "<ipython-input-12-8bc6428979cb>:9: SettingWithCopyWarning: \n",
      "A value is trying to be set on a copy of a slice from a DataFrame.\n",
      "Try using .loc[row_indexer,col_indexer] = value instead\n",
      "\n",
      "See the caveats in the documentation: https://pandas.pydata.org/pandas-docs/stable/user_guide/indexing.html#returning-a-view-versus-a-copy\n",
      "  missing_lsoa_df.loc[:,'street_number2'] = missing_lsoa_df.loc[:,'street_number'].str.replace(r\"^.*(?=\\b[0-9]+$)\", \"\").str.replace(r\"[^\\d]\", \"\", regex = True)\n",
      "/tf/empty_homes_london/helper_functions.py:279: SettingWithCopyWarning: \n",
      "A value is trying to be set on a copy of a slice from a DataFrame.\n",
      "Try using .loc[row_indexer,col_indexer] = value instead\n",
      "\n",
      "See the caveats in the documentation: https://pandas.pydata.org/pandas-docs/stable/user_guide/indexing.html#returning-a-view-versus-a-copy\n",
      "  temp_multi['number_filter'] = filter_types\n",
      "<ipython-input-12-8bc6428979cb>:35: SettingWithCopyWarning: \n",
      "A value is trying to be set on a copy of a slice from a DataFrame.\n",
      "Try using .loc[row_indexer,col_indexer] = value instead\n",
      "\n",
      "See the caveats in the documentation: https://pandas.pydata.org/pandas-docs/stable/user_guide/indexing.html#returning-a-view-versus-a-copy\n",
      "  missing_lsoa_road['lsoa11cd'] = [street_number_to_lsoa(temp_road, int(missing_lsoa_road.iloc[missing_lsoa_row]['street_number2']))\n"
     ]
    },
    {
     "name": "stdout",
     "output_type": "stream",
     "text": [
      "i= 0  expand time,0.0 filter time0.0 make_dataframe_time 0.001\n",
      "oldhamroad\n",
      "ashgrove\n",
      "shawroad\n",
      "marketplace\n",
      "whitworthroad\n",
      "unionstreet\n",
      "yorkshirestreet\n",
      "todmordenroad\n",
      "E07000121\n"
     ]
    },
    {
     "name": "stderr",
     "output_type": "stream",
     "text": [
      "<ipython-input-12-8bc6428979cb>:9: FutureWarning: The default value of regex will change from True to False in a future version.\n",
      "  missing_lsoa_df.loc[:,'street_number2'] = missing_lsoa_df.loc[:,'street_number'].str.replace(r\"^.*(?=\\b[0-9]+$)\", \"\").str.replace(r\"[^\\d]\", \"\", regex = True)\n",
      "<ipython-input-12-8bc6428979cb>:9: SettingWithCopyWarning: \n",
      "A value is trying to be set on a copy of a slice from a DataFrame.\n",
      "Try using .loc[row_indexer,col_indexer] = value instead\n",
      "\n",
      "See the caveats in the documentation: https://pandas.pydata.org/pandas-docs/stable/user_guide/indexing.html#returning-a-view-versus-a-copy\n",
      "  missing_lsoa_df.loc[:,'street_number2'] = missing_lsoa_df.loc[:,'street_number'].str.replace(r\"^.*(?=\\b[0-9]+$)\", \"\").str.replace(r\"[^\\d]\", \"\", regex = True)\n",
      "/tf/empty_homes_london/helper_functions.py:279: SettingWithCopyWarning: \n",
      "A value is trying to be set on a copy of a slice from a DataFrame.\n",
      "Try using .loc[row_indexer,col_indexer] = value instead\n",
      "\n",
      "See the caveats in the documentation: https://pandas.pydata.org/pandas-docs/stable/user_guide/indexing.html#returning-a-view-versus-a-copy\n",
      "  temp_multi['number_filter'] = filter_types\n",
      "<ipython-input-12-8bc6428979cb>:35: SettingWithCopyWarning: \n",
      "A value is trying to be set on a copy of a slice from a DataFrame.\n",
      "Try using .loc[row_indexer,col_indexer] = value instead\n",
      "\n",
      "See the caveats in the documentation: https://pandas.pydata.org/pandas-docs/stable/user_guide/indexing.html#returning-a-view-versus-a-copy\n",
      "  missing_lsoa_road['lsoa11cd'] = [street_number_to_lsoa(temp_road, int(missing_lsoa_road.iloc[missing_lsoa_row]['street_number2']))\n",
      "<ipython-input-12-8bc6428979cb>:9: FutureWarning: The default value of regex will change from True to False in a future version.\n",
      "  missing_lsoa_df.loc[:,'street_number2'] = missing_lsoa_df.loc[:,'street_number'].str.replace(r\"^.*(?=\\b[0-9]+$)\", \"\").str.replace(r\"[^\\d]\", \"\", regex = True)\n",
      "<ipython-input-12-8bc6428979cb>:9: SettingWithCopyWarning: \n",
      "A value is trying to be set on a copy of a slice from a DataFrame.\n",
      "Try using .loc[row_indexer,col_indexer] = value instead\n",
      "\n",
      "See the caveats in the documentation: https://pandas.pydata.org/pandas-docs/stable/user_guide/indexing.html#returning-a-view-versus-a-copy\n",
      "  missing_lsoa_df.loc[:,'street_number2'] = missing_lsoa_df.loc[:,'street_number'].str.replace(r\"^.*(?=\\b[0-9]+$)\", \"\").str.replace(r\"[^\\d]\", \"\", regex = True)\n"
     ]
    },
    {
     "name": "stdout",
     "output_type": "stream",
     "text": [
      "i= 0  expand time,0.0 filter time0.0 make_dataframe_time 0.001\n",
      "parliamentstreet\n",
      "regentroad\n",
      "E09000017\n"
     ]
    },
    {
     "name": "stderr",
     "output_type": "stream",
     "text": [
      "/tf/empty_homes_london/helper_functions.py:279: SettingWithCopyWarning: \n",
      "A value is trying to be set on a copy of a slice from a DataFrame.\n",
      "Try using .loc[row_indexer,col_indexer] = value instead\n",
      "\n",
      "See the caveats in the documentation: https://pandas.pydata.org/pandas-docs/stable/user_guide/indexing.html#returning-a-view-versus-a-copy\n",
      "  temp_multi['number_filter'] = filter_types\n"
     ]
    },
    {
     "name": "stdout",
     "output_type": "stream",
     "text": [
      "i= 0  expand time,0.0 filter time0.0 make_dataframe_time 0.001\n",
      "highstreet\n",
      "beaconsfieldroad\n",
      "longlane\n"
     ]
    },
    {
     "name": "stderr",
     "output_type": "stream",
     "text": [
      "<ipython-input-12-8bc6428979cb>:35: SettingWithCopyWarning: \n",
      "A value is trying to be set on a copy of a slice from a DataFrame.\n",
      "Try using .loc[row_indexer,col_indexer] = value instead\n",
      "\n",
      "See the caveats in the documentation: https://pandas.pydata.org/pandas-docs/stable/user_guide/indexing.html#returning-a-view-versus-a-copy\n",
      "  missing_lsoa_road['lsoa11cd'] = [street_number_to_lsoa(temp_road, int(missing_lsoa_road.iloc[missing_lsoa_row]['street_number2']))\n",
      "<ipython-input-12-8bc6428979cb>:9: FutureWarning: The default value of regex will change from True to False in a future version.\n",
      "  missing_lsoa_df.loc[:,'street_number2'] = missing_lsoa_df.loc[:,'street_number'].str.replace(r\"^.*(?=\\b[0-9]+$)\", \"\").str.replace(r\"[^\\d]\", \"\", regex = True)\n",
      "<ipython-input-12-8bc6428979cb>:9: SettingWithCopyWarning: \n",
      "A value is trying to be set on a copy of a slice from a DataFrame.\n",
      "Try using .loc[row_indexer,col_indexer] = value instead\n",
      "\n",
      "See the caveats in the documentation: https://pandas.pydata.org/pandas-docs/stable/user_guide/indexing.html#returning-a-view-versus-a-copy\n",
      "  missing_lsoa_df.loc[:,'street_number2'] = missing_lsoa_df.loc[:,'street_number'].str.replace(r\"^.*(?=\\b[0-9]+$)\", \"\").str.replace(r\"[^\\d]\", \"\", regex = True)\n"
     ]
    },
    {
     "name": "stdout",
     "output_type": "stream",
     "text": [
      "coldharbourlane\n",
      "E08000009\n"
     ]
    },
    {
     "name": "stderr",
     "output_type": "stream",
     "text": [
      "/tf/empty_homes_london/helper_functions.py:279: SettingWithCopyWarning: \n",
      "A value is trying to be set on a copy of a slice from a DataFrame.\n",
      "Try using .loc[row_indexer,col_indexer] = value instead\n",
      "\n",
      "See the caveats in the documentation: https://pandas.pydata.org/pandas-docs/stable/user_guide/indexing.html#returning-a-view-versus-a-copy\n",
      "  temp_multi['number_filter'] = filter_types\n",
      "<ipython-input-12-8bc6428979cb>:35: SettingWithCopyWarning: \n",
      "A value is trying to be set on a copy of a slice from a DataFrame.\n",
      "Try using .loc[row_indexer,col_indexer] = value instead\n",
      "\n",
      "See the caveats in the documentation: https://pandas.pydata.org/pandas-docs/stable/user_guide/indexing.html#returning-a-view-versus-a-copy\n",
      "  missing_lsoa_road['lsoa11cd'] = [street_number_to_lsoa(temp_road, int(missing_lsoa_road.iloc[missing_lsoa_row]['street_number2']))\n",
      "<ipython-input-12-8bc6428979cb>:9: FutureWarning: The default value of regex will change from True to False in a future version.\n",
      "  missing_lsoa_df.loc[:,'street_number2'] = missing_lsoa_df.loc[:,'street_number'].str.replace(r\"^.*(?=\\b[0-9]+$)\", \"\").str.replace(r\"[^\\d]\", \"\", regex = True)\n",
      "<ipython-input-12-8bc6428979cb>:9: SettingWithCopyWarning: \n",
      "A value is trying to be set on a copy of a slice from a DataFrame.\n",
      "Try using .loc[row_indexer,col_indexer] = value instead\n",
      "\n",
      "See the caveats in the documentation: https://pandas.pydata.org/pandas-docs/stable/user_guide/indexing.html#returning-a-view-versus-a-copy\n",
      "  missing_lsoa_df.loc[:,'street_number2'] = missing_lsoa_df.loc[:,'street_number'].str.replace(r\"^.*(?=\\b[0-9]+$)\", \"\").str.replace(r\"[^\\d]\", \"\", regex = True)\n"
     ]
    },
    {
     "name": "stdout",
     "output_type": "stream",
     "text": [
      "i= 0  expand time,0.0 filter time0.0 make_dataframe_time 0.001\n",
      "wharfroad\n",
      "broadroad\n",
      "flixtonroad\n",
      "parkrise\n",
      "locklane\n",
      "stanhoperoad\n",
      "haleroad\n",
      "mosleyroad\n",
      "churchroad\n",
      "ashtonlane\n",
      "schoolroad\n",
      "atlanticstreet\n",
      "E09000018\n"
     ]
    },
    {
     "name": "stderr",
     "output_type": "stream",
     "text": [
      "/tf/empty_homes_london/helper_functions.py:279: SettingWithCopyWarning: \n",
      "A value is trying to be set on a copy of a slice from a DataFrame.\n",
      "Try using .loc[row_indexer,col_indexer] = value instead\n",
      "\n",
      "See the caveats in the documentation: https://pandas.pydata.org/pandas-docs/stable/user_guide/indexing.html#returning-a-view-versus-a-copy\n",
      "  temp_multi['number_filter'] = filter_types\n"
     ]
    },
    {
     "name": "stdout",
     "output_type": "stream",
     "text": [
      "i= 0  expand time,0.0 filter time0.0 make_dataframe_time 0.001\n",
      "chiswickhighroad\n",
      "highstreet\n",
      "hanworthroad\n",
      "stjohnroad\n",
      "turnhamgreenterrace\n",
      "chertseyroad\n"
     ]
    },
    {
     "name": "stderr",
     "output_type": "stream",
     "text": [
      "<ipython-input-12-8bc6428979cb>:35: SettingWithCopyWarning: \n",
      "A value is trying to be set on a copy of a slice from a DataFrame.\n",
      "Try using .loc[row_indexer,col_indexer] = value instead\n",
      "\n",
      "See the caveats in the documentation: https://pandas.pydata.org/pandas-docs/stable/user_guide/indexing.html#returning-a-view-versus-a-copy\n",
      "  missing_lsoa_road['lsoa11cd'] = [street_number_to_lsoa(temp_road, int(missing_lsoa_road.iloc[missing_lsoa_row]['street_number2']))\n"
     ]
    },
    {
     "name": "stdout",
     "output_type": "stream",
     "text": [
      "cliftongardens\n",
      "kewbridgeroad\n",
      "parkview\n",
      "greatwestroad\n",
      "staineroad\n",
      "ravensmedeway\n",
      "arlingtongardens\n",
      "angelfieldststephenroad\n",
      "bathroad\n",
      "harlequinavenue\n",
      "E09000003\n"
     ]
    },
    {
     "name": "stderr",
     "output_type": "stream",
     "text": [
      "<ipython-input-12-8bc6428979cb>:9: FutureWarning: The default value of regex will change from True to False in a future version.\n",
      "  missing_lsoa_df.loc[:,'street_number2'] = missing_lsoa_df.loc[:,'street_number'].str.replace(r\"^.*(?=\\b[0-9]+$)\", \"\").str.replace(r\"[^\\d]\", \"\", regex = True)\n",
      "<ipython-input-12-8bc6428979cb>:9: SettingWithCopyWarning: \n",
      "A value is trying to be set on a copy of a slice from a DataFrame.\n",
      "Try using .loc[row_indexer,col_indexer] = value instead\n",
      "\n",
      "See the caveats in the documentation: https://pandas.pydata.org/pandas-docs/stable/user_guide/indexing.html#returning-a-view-versus-a-copy\n",
      "  missing_lsoa_df.loc[:,'street_number2'] = missing_lsoa_df.loc[:,'street_number'].str.replace(r\"^.*(?=\\b[0-9]+$)\", \"\").str.replace(r\"[^\\d]\", \"\", regex = True)\n",
      "/tf/empty_homes_london/helper_functions.py:279: SettingWithCopyWarning: \n",
      "A value is trying to be set on a copy of a slice from a DataFrame.\n",
      "Try using .loc[row_indexer,col_indexer] = value instead\n",
      "\n",
      "See the caveats in the documentation: https://pandas.pydata.org/pandas-docs/stable/user_guide/indexing.html#returning-a-view-versus-a-copy\n",
      "  temp_multi['number_filter'] = filter_types\n"
     ]
    },
    {
     "name": "stdout",
     "output_type": "stream",
     "text": [
      "i= 0  expand time,0.0 filter time0.0 make_dataframe_time 0.001\n",
      "greatnorthroad\n",
      "totteridgelane\n",
      "marketplace\n",
      "stationroad\n",
      "highroad\n",
      "goldergreenroad\n",
      "westheathroad\n",
      "newarkparade,\n",
      "watfordway\n",
      "westhendonbroadway\n",
      "willifieldway\n",
      "regentparkroad\n",
      "sunningfieldroad\n",
      "thebishopavenue\n"
     ]
    },
    {
     "name": "stderr",
     "output_type": "stream",
     "text": [
      "<ipython-input-12-8bc6428979cb>:35: SettingWithCopyWarning: \n",
      "A value is trying to be set on a copy of a slice from a DataFrame.\n",
      "Try using .loc[row_indexer,col_indexer] = value instead\n",
      "\n",
      "See the caveats in the documentation: https://pandas.pydata.org/pandas-docs/stable/user_guide/indexing.html#returning-a-view-versus-a-copy\n",
      "  missing_lsoa_road['lsoa11cd'] = [street_number_to_lsoa(temp_road, int(missing_lsoa_road.iloc[missing_lsoa_row]['street_number2']))\n"
     ]
    },
    {
     "name": "stdout",
     "output_type": "stream",
     "text": [
      "russelllane\n",
      "victoriaroad\n",
      "brentstreet\n",
      "belllane\n",
      "E07000106\n"
     ]
    },
    {
     "name": "stderr",
     "output_type": "stream",
     "text": [
      "<ipython-input-12-8bc6428979cb>:9: FutureWarning: The default value of regex will change from True to False in a future version.\n",
      "  missing_lsoa_df.loc[:,'street_number2'] = missing_lsoa_df.loc[:,'street_number'].str.replace(r\"^.*(?=\\b[0-9]+$)\", \"\").str.replace(r\"[^\\d]\", \"\", regex = True)\n",
      "<ipython-input-12-8bc6428979cb>:9: SettingWithCopyWarning: \n",
      "A value is trying to be set on a copy of a slice from a DataFrame.\n",
      "Try using .loc[row_indexer,col_indexer] = value instead\n",
      "\n",
      "See the caveats in the documentation: https://pandas.pydata.org/pandas-docs/stable/user_guide/indexing.html#returning-a-view-versus-a-copy\n",
      "  missing_lsoa_df.loc[:,'street_number2'] = missing_lsoa_df.loc[:,'street_number'].str.replace(r\"^.*(?=\\b[0-9]+$)\", \"\").str.replace(r\"[^\\d]\", \"\", regex = True)\n",
      "/tf/empty_homes_london/helper_functions.py:279: SettingWithCopyWarning: \n",
      "A value is trying to be set on a copy of a slice from a DataFrame.\n",
      "Try using .loc[row_indexer,col_indexer] = value instead\n",
      "\n",
      "See the caveats in the documentation: https://pandas.pydata.org/pandas-docs/stable/user_guide/indexing.html#returning-a-view-versus-a-copy\n",
      "  temp_multi['number_filter'] = filter_types\n",
      "<ipython-input-12-8bc6428979cb>:9: FutureWarning: The default value of regex will change from True to False in a future version.\n",
      "  missing_lsoa_df.loc[:,'street_number2'] = missing_lsoa_df.loc[:,'street_number'].str.replace(r\"^.*(?=\\b[0-9]+$)\", \"\").str.replace(r\"[^\\d]\", \"\", regex = True)\n",
      "<ipython-input-12-8bc6428979cb>:9: SettingWithCopyWarning: \n",
      "A value is trying to be set on a copy of a slice from a DataFrame.\n",
      "Try using .loc[row_indexer,col_indexer] = value instead\n",
      "\n",
      "See the caveats in the documentation: https://pandas.pydata.org/pandas-docs/stable/user_guide/indexing.html#returning-a-view-versus-a-copy\n",
      "  missing_lsoa_df.loc[:,'street_number2'] = missing_lsoa_df.loc[:,'street_number'].str.replace(r\"^.*(?=\\b[0-9]+$)\", \"\").str.replace(r\"[^\\d]\", \"\", regex = True)\n"
     ]
    },
    {
     "name": "stdout",
     "output_type": "stream",
     "text": [
      "i= 0  expand time,0.001 filter time0.0 make_dataframe_time 0.002\n",
      "sturryroad\n",
      "E07000229\n"
     ]
    },
    {
     "name": "stderr",
     "output_type": "stream",
     "text": [
      "/tf/empty_homes_london/helper_functions.py:279: SettingWithCopyWarning: \n",
      "A value is trying to be set on a copy of a slice from a DataFrame.\n",
      "Try using .loc[row_indexer,col_indexer] = value instead\n",
      "\n",
      "See the caveats in the documentation: https://pandas.pydata.org/pandas-docs/stable/user_guide/indexing.html#returning-a-view-versus-a-copy\n",
      "  temp_multi['number_filter'] = filter_types\n",
      "<ipython-input-12-8bc6428979cb>:35: SettingWithCopyWarning: \n",
      "A value is trying to be set on a copy of a slice from a DataFrame.\n",
      "Try using .loc[row_indexer,col_indexer] = value instead\n",
      "\n",
      "See the caveats in the documentation: https://pandas.pydata.org/pandas-docs/stable/user_guide/indexing.html#returning-a-view-versus-a-copy\n",
      "  missing_lsoa_road['lsoa11cd'] = [street_number_to_lsoa(temp_road, int(missing_lsoa_road.iloc[missing_lsoa_row]['street_number2']))\n",
      "<ipython-input-12-8bc6428979cb>:9: FutureWarning: The default value of regex will change from True to False in a future version.\n",
      "  missing_lsoa_df.loc[:,'street_number2'] = missing_lsoa_df.loc[:,'street_number'].str.replace(r\"^.*(?=\\b[0-9]+$)\", \"\").str.replace(r\"[^\\d]\", \"\", regex = True)\n",
      "<ipython-input-12-8bc6428979cb>:9: SettingWithCopyWarning: \n",
      "A value is trying to be set on a copy of a slice from a DataFrame.\n",
      "Try using .loc[row_indexer,col_indexer] = value instead\n",
      "\n",
      "See the caveats in the documentation: https://pandas.pydata.org/pandas-docs/stable/user_guide/indexing.html#returning-a-view-versus-a-copy\n",
      "  missing_lsoa_df.loc[:,'street_number2'] = missing_lsoa_df.loc[:,'street_number'].str.replace(r\"^.*(?=\\b[0-9]+$)\", \"\").str.replace(r\"[^\\d]\", \"\", regex = True)\n"
     ]
    },
    {
     "name": "stdout",
     "output_type": "stream",
     "text": [
      "i= 0  expand time,0.0 filter time0.0 make_dataframe_time 0.001\n",
      "southstreet\n",
      "marineplace\n",
      "E08000032\n"
     ]
    },
    {
     "name": "stderr",
     "output_type": "stream",
     "text": [
      "/tf/empty_homes_london/helper_functions.py:279: SettingWithCopyWarning: \n",
      "A value is trying to be set on a copy of a slice from a DataFrame.\n",
      "Try using .loc[row_indexer,col_indexer] = value instead\n",
      "\n",
      "See the caveats in the documentation: https://pandas.pydata.org/pandas-docs/stable/user_guide/indexing.html#returning-a-view-versus-a-copy\n",
      "  temp_multi['number_filter'] = filter_types\n",
      "<ipython-input-12-8bc6428979cb>:35: SettingWithCopyWarning: \n",
      "A value is trying to be set on a copy of a slice from a DataFrame.\n",
      "Try using .loc[row_indexer,col_indexer] = value instead\n",
      "\n",
      "See the caveats in the documentation: https://pandas.pydata.org/pandas-docs/stable/user_guide/indexing.html#returning-a-view-versus-a-copy\n",
      "  missing_lsoa_road['lsoa11cd'] = [street_number_to_lsoa(temp_road, int(missing_lsoa_road.iloc[missing_lsoa_row]['street_number2']))\n"
     ]
    },
    {
     "name": "stdout",
     "output_type": "stream",
     "text": [
      "i= 0  expand time,0.0 filter time0.0 make_dataframe_time 0.001\n",
      "myrtlewalk\n",
      "johnstreet\n",
      "stationroad\n",
      "buttershawlane\n",
      "bingleyroad\n",
      "thorntonroad\n",
      "mainstreet\n",
      "sunbridgeroad\n",
      "rutlandstreet\n",
      "lowerparadisestreet\n",
      "manchesterroad\n",
      "victoriaroad\n",
      "kirkgate\n",
      "E07000111\n"
     ]
    },
    {
     "name": "stderr",
     "output_type": "stream",
     "text": [
      "<ipython-input-12-8bc6428979cb>:9: FutureWarning: The default value of regex will change from True to False in a future version.\n",
      "  missing_lsoa_df.loc[:,'street_number2'] = missing_lsoa_df.loc[:,'street_number'].str.replace(r\"^.*(?=\\b[0-9]+$)\", \"\").str.replace(r\"[^\\d]\", \"\", regex = True)\n",
      "<ipython-input-12-8bc6428979cb>:9: SettingWithCopyWarning: \n",
      "A value is trying to be set on a copy of a slice from a DataFrame.\n",
      "Try using .loc[row_indexer,col_indexer] = value instead\n",
      "\n",
      "See the caveats in the documentation: https://pandas.pydata.org/pandas-docs/stable/user_guide/indexing.html#returning-a-view-versus-a-copy\n",
      "  missing_lsoa_df.loc[:,'street_number2'] = missing_lsoa_df.loc[:,'street_number'].str.replace(r\"^.*(?=\\b[0-9]+$)\", \"\").str.replace(r\"[^\\d]\", \"\", regex = True)\n"
     ]
    },
    {
     "name": "stdout",
     "output_type": "stream",
     "text": [
      "oldlondonroad\n",
      "dortondrive\n",
      "marycotplace\n",
      "E09000023\n"
     ]
    },
    {
     "name": "stderr",
     "output_type": "stream",
     "text": [
      "<ipython-input-12-8bc6428979cb>:35: SettingWithCopyWarning: \n",
      "A value is trying to be set on a copy of a slice from a DataFrame.\n",
      "Try using .loc[row_indexer,col_indexer] = value instead\n",
      "\n",
      "See the caveats in the documentation: https://pandas.pydata.org/pandas-docs/stable/user_guide/indexing.html#returning-a-view-versus-a-copy\n",
      "  missing_lsoa_road['lsoa11cd'] = [street_number_to_lsoa(temp_road, int(missing_lsoa_road.iloc[missing_lsoa_row]['street_number2']))\n",
      "<ipython-input-12-8bc6428979cb>:9: FutureWarning: The default value of regex will change from True to False in a future version.\n",
      "  missing_lsoa_df.loc[:,'street_number2'] = missing_lsoa_df.loc[:,'street_number'].str.replace(r\"^.*(?=\\b[0-9]+$)\", \"\").str.replace(r\"[^\\d]\", \"\", regex = True)\n",
      "<ipython-input-12-8bc6428979cb>:9: SettingWithCopyWarning: \n",
      "A value is trying to be set on a copy of a slice from a DataFrame.\n",
      "Try using .loc[row_indexer,col_indexer] = value instead\n",
      "\n",
      "See the caveats in the documentation: https://pandas.pydata.org/pandas-docs/stable/user_guide/indexing.html#returning-a-view-versus-a-copy\n",
      "  missing_lsoa_df.loc[:,'street_number2'] = missing_lsoa_df.loc[:,'street_number'].str.replace(r\"^.*(?=\\b[0-9]+$)\", \"\").str.replace(r\"[^\\d]\", \"\", regex = True)\n",
      "/tf/empty_homes_london/helper_functions.py:279: SettingWithCopyWarning: \n",
      "A value is trying to be set on a copy of a slice from a DataFrame.\n",
      "Try using .loc[row_indexer,col_indexer] = value instead\n",
      "\n",
      "See the caveats in the documentation: https://pandas.pydata.org/pandas-docs/stable/user_guide/indexing.html#returning-a-view-versus-a-copy\n",
      "  temp_multi['number_filter'] = filter_types\n"
     ]
    },
    {
     "name": "stdout",
     "output_type": "stream",
     "text": [
      "i= 0  expand time,0.0 filter time0.0 make_dataframe_time 0.001\n",
      "lewishamhighstreet\n",
      "lewishamgrove\n",
      "brockleyroad\n",
      "sydenhamroad\n",
      "stansteadroad\n",
      "bromleyroad\n",
      "newcroroad\n",
      "E07000165\n"
     ]
    },
    {
     "name": "stderr",
     "output_type": "stream",
     "text": [
      "<ipython-input-12-8bc6428979cb>:35: SettingWithCopyWarning: \n",
      "A value is trying to be set on a copy of a slice from a DataFrame.\n",
      "Try using .loc[row_indexer,col_indexer] = value instead\n",
      "\n",
      "See the caveats in the documentation: https://pandas.pydata.org/pandas-docs/stable/user_guide/indexing.html#returning-a-view-versus-a-copy\n",
      "  missing_lsoa_road['lsoa11cd'] = [street_number_to_lsoa(temp_road, int(missing_lsoa_road.iloc[missing_lsoa_row]['street_number2']))\n",
      "<ipython-input-12-8bc6428979cb>:9: FutureWarning: The default value of regex will change from True to False in a future version.\n",
      "  missing_lsoa_df.loc[:,'street_number2'] = missing_lsoa_df.loc[:,'street_number'].str.replace(r\"^.*(?=\\b[0-9]+$)\", \"\").str.replace(r\"[^\\d]\", \"\", regex = True)\n",
      "<ipython-input-12-8bc6428979cb>:9: SettingWithCopyWarning: \n",
      "A value is trying to be set on a copy of a slice from a DataFrame.\n",
      "Try using .loc[row_indexer,col_indexer] = value instead\n",
      "\n",
      "See the caveats in the documentation: https://pandas.pydata.org/pandas-docs/stable/user_guide/indexing.html#returning-a-view-versus-a-copy\n",
      "  missing_lsoa_df.loc[:,'street_number2'] = missing_lsoa_df.loc[:,'street_number'].str.replace(r\"^.*(?=\\b[0-9]+$)\", \"\").str.replace(r\"[^\\d]\", \"\", regex = True)\n"
     ]
    },
    {
     "name": "stdout",
     "output_type": "stream",
     "text": [
      "harrogate\n",
      "E07000034\n"
     ]
    },
    {
     "name": "stderr",
     "output_type": "stream",
     "text": [
      "<ipython-input-12-8bc6428979cb>:9: FutureWarning: The default value of regex will change from True to False in a future version.\n",
      "  missing_lsoa_df.loc[:,'street_number2'] = missing_lsoa_df.loc[:,'street_number'].str.replace(r\"^.*(?=\\b[0-9]+$)\", \"\").str.replace(r\"[^\\d]\", \"\", regex = True)\n",
      "<ipython-input-12-8bc6428979cb>:9: SettingWithCopyWarning: \n",
      "A value is trying to be set on a copy of a slice from a DataFrame.\n",
      "Try using .loc[row_indexer,col_indexer] = value instead\n",
      "\n",
      "See the caveats in the documentation: https://pandas.pydata.org/pandas-docs/stable/user_guide/indexing.html#returning-a-view-versus-a-copy\n",
      "  missing_lsoa_df.loc[:,'street_number2'] = missing_lsoa_df.loc[:,'street_number'].str.replace(r\"^.*(?=\\b[0-9]+$)\", \"\").str.replace(r\"[^\\d]\", \"\", regex = True)\n",
      "/tf/empty_homes_london/helper_functions.py:279: SettingWithCopyWarning: \n",
      "A value is trying to be set on a copy of a slice from a DataFrame.\n",
      "Try using .loc[row_indexer,col_indexer] = value instead\n",
      "\n",
      "See the caveats in the documentation: https://pandas.pydata.org/pandas-docs/stable/user_guide/indexing.html#returning-a-view-versus-a-copy\n",
      "  temp_multi['number_filter'] = filter_types\n",
      "<ipython-input-12-8bc6428979cb>:35: SettingWithCopyWarning: \n",
      "A value is trying to be set on a copy of a slice from a DataFrame.\n",
      "Try using .loc[row_indexer,col_indexer] = value instead\n",
      "\n",
      "See the caveats in the documentation: https://pandas.pydata.org/pandas-docs/stable/user_guide/indexing.html#returning-a-view-versus-a-copy\n",
      "  missing_lsoa_road['lsoa11cd'] = [street_number_to_lsoa(temp_road, int(missing_lsoa_road.iloc[missing_lsoa_row]['street_number2']))\n",
      "<ipython-input-12-8bc6428979cb>:9: FutureWarning: The default value of regex will change from True to False in a future version.\n",
      "  missing_lsoa_df.loc[:,'street_number2'] = missing_lsoa_df.loc[:,'street_number'].str.replace(r\"^.*(?=\\b[0-9]+$)\", \"\").str.replace(r\"[^\\d]\", \"\", regex = True)\n",
      "<ipython-input-12-8bc6428979cb>:9: SettingWithCopyWarning: \n",
      "A value is trying to be set on a copy of a slice from a DataFrame.\n",
      "Try using .loc[row_indexer,col_indexer] = value instead\n",
      "\n",
      "See the caveats in the documentation: https://pandas.pydata.org/pandas-docs/stable/user_guide/indexing.html#returning-a-view-versus-a-copy\n",
      "  missing_lsoa_df.loc[:,'street_number2'] = missing_lsoa_df.loc[:,'street_number'].str.replace(r\"^.*(?=\\b[0-9]+$)\", \"\").str.replace(r\"[^\\d]\", \"\", regex = True)\n"
     ]
    },
    {
     "name": "stdout",
     "output_type": "stream",
     "text": [
      "i= 0  expand time,0.0 filter time0.0 make_dataframe_time 0.001\n",
      "highstreet\n",
      "marketplace\n",
      "E07000008\n"
     ]
    },
    {
     "name": "stderr",
     "output_type": "stream",
     "text": [
      "/tf/empty_homes_london/helper_functions.py:279: SettingWithCopyWarning: \n",
      "A value is trying to be set on a copy of a slice from a DataFrame.\n",
      "Try using .loc[row_indexer,col_indexer] = value instead\n",
      "\n",
      "See the caveats in the documentation: https://pandas.pydata.org/pandas-docs/stable/user_guide/indexing.html#returning-a-view-versus-a-copy\n",
      "  temp_multi['number_filter'] = filter_types\n",
      "<ipython-input-12-8bc6428979cb>:35: SettingWithCopyWarning: \n",
      "A value is trying to be set on a copy of a slice from a DataFrame.\n",
      "Try using .loc[row_indexer,col_indexer] = value instead\n",
      "\n",
      "See the caveats in the documentation: https://pandas.pydata.org/pandas-docs/stable/user_guide/indexing.html#returning-a-view-versus-a-copy\n",
      "  missing_lsoa_road['lsoa11cd'] = [street_number_to_lsoa(temp_road, int(missing_lsoa_road.iloc[missing_lsoa_row]['street_number2']))\n",
      "<ipython-input-12-8bc6428979cb>:9: FutureWarning: The default value of regex will change from True to False in a future version.\n",
      "  missing_lsoa_df.loc[:,'street_number2'] = missing_lsoa_df.loc[:,'street_number'].str.replace(r\"^.*(?=\\b[0-9]+$)\", \"\").str.replace(r\"[^\\d]\", \"\", regex = True)\n",
      "<ipython-input-12-8bc6428979cb>:9: SettingWithCopyWarning: \n",
      "A value is trying to be set on a copy of a slice from a DataFrame.\n",
      "Try using .loc[row_indexer,col_indexer] = value instead\n",
      "\n",
      "See the caveats in the documentation: https://pandas.pydata.org/pandas-docs/stable/user_guide/indexing.html#returning-a-view-versus-a-copy\n",
      "  missing_lsoa_df.loc[:,'street_number2'] = missing_lsoa_df.loc[:,'street_number'].str.replace(r\"^.*(?=\\b[0-9]+$)\", \"\").str.replace(r\"[^\\d]\", \"\", regex = True)\n"
     ]
    },
    {
     "name": "stdout",
     "output_type": "stream",
     "text": [
      "i= 0  expand time,0.0 filter time0.0 make_dataframe_time 0.001\n",
      "carltonway\n",
      "canterburystreetcambridge\n",
      "E07000118\n"
     ]
    },
    {
     "name": "stderr",
     "output_type": "stream",
     "text": [
      "/tf/empty_homes_london/helper_functions.py:279: SettingWithCopyWarning: \n",
      "A value is trying to be set on a copy of a slice from a DataFrame.\n",
      "Try using .loc[row_indexer,col_indexer] = value instead\n",
      "\n",
      "See the caveats in the documentation: https://pandas.pydata.org/pandas-docs/stable/user_guide/indexing.html#returning-a-view-versus-a-copy\n",
      "  temp_multi['number_filter'] = filter_types\n",
      "<ipython-input-12-8bc6428979cb>:35: SettingWithCopyWarning: \n",
      "A value is trying to be set on a copy of a slice from a DataFrame.\n",
      "Try using .loc[row_indexer,col_indexer] = value instead\n",
      "\n",
      "See the caveats in the documentation: https://pandas.pydata.org/pandas-docs/stable/user_guide/indexing.html#returning-a-view-versus-a-copy\n",
      "  missing_lsoa_road['lsoa11cd'] = [street_number_to_lsoa(temp_road, int(missing_lsoa_road.iloc[missing_lsoa_row]['street_number2']))\n",
      "<ipython-input-12-8bc6428979cb>:9: FutureWarning: The default value of regex will change from True to False in a future version.\n",
      "  missing_lsoa_df.loc[:,'street_number2'] = missing_lsoa_df.loc[:,'street_number'].str.replace(r\"^.*(?=\\b[0-9]+$)\", \"\").str.replace(r\"[^\\d]\", \"\", regex = True)\n",
      "<ipython-input-12-8bc6428979cb>:9: SettingWithCopyWarning: \n",
      "A value is trying to be set on a copy of a slice from a DataFrame.\n",
      "Try using .loc[row_indexer,col_indexer] = value instead\n",
      "\n",
      "See the caveats in the documentation: https://pandas.pydata.org/pandas-docs/stable/user_guide/indexing.html#returning-a-view-versus-a-copy\n",
      "  missing_lsoa_df.loc[:,'street_number2'] = missing_lsoa_df.loc[:,'street_number'].str.replace(r\"^.*(?=\\b[0-9]+$)\", \"\").str.replace(r\"[^\\d]\", \"\", regex = True)\n"
     ]
    },
    {
     "name": "stdout",
     "output_type": "stream",
     "text": [
      "i= 0  expand time,0.0 filter time0.0 make_dataframe_time 0.001\n",
      "fieldspringgardens\n",
      "westhoughtonroad\n",
      "newmarketstreet\n",
      "E09000021\n"
     ]
    },
    {
     "name": "stderr",
     "output_type": "stream",
     "text": [
      "/tf/empty_homes_london/helper_functions.py:279: SettingWithCopyWarning: \n",
      "A value is trying to be set on a copy of a slice from a DataFrame.\n",
      "Try using .loc[row_indexer,col_indexer] = value instead\n",
      "\n",
      "See the caveats in the documentation: https://pandas.pydata.org/pandas-docs/stable/user_guide/indexing.html#returning-a-view-versus-a-copy\n",
      "  temp_multi['number_filter'] = filter_types\n",
      "<ipython-input-12-8bc6428979cb>:35: SettingWithCopyWarning: \n",
      "A value is trying to be set on a copy of a slice from a DataFrame.\n",
      "Try using .loc[row_indexer,col_indexer] = value instead\n",
      "\n",
      "See the caveats in the documentation: https://pandas.pydata.org/pandas-docs/stable/user_guide/indexing.html#returning-a-view-versus-a-copy\n",
      "  missing_lsoa_road['lsoa11cd'] = [street_number_to_lsoa(temp_road, int(missing_lsoa_road.iloc[missing_lsoa_row]['street_number2']))\n"
     ]
    },
    {
     "name": "stdout",
     "output_type": "stream",
     "text": [
      "i= 0  expand time,0.0 filter time0.0 make_dataframe_time 0.001\n",
      "richmondroad\n",
      "highstreet\n",
      "canburyparkroad\n",
      "blagdonroad\n",
      "bathpassage\n",
      "victoriaroad\n",
      "E09000031\n"
     ]
    },
    {
     "name": "stderr",
     "output_type": "stream",
     "text": [
      "<ipython-input-12-8bc6428979cb>:9: FutureWarning: The default value of regex will change from True to False in a future version.\n",
      "  missing_lsoa_df.loc[:,'street_number2'] = missing_lsoa_df.loc[:,'street_number'].str.replace(r\"^.*(?=\\b[0-9]+$)\", \"\").str.replace(r\"[^\\d]\", \"\", regex = True)\n",
      "<ipython-input-12-8bc6428979cb>:9: SettingWithCopyWarning: \n",
      "A value is trying to be set on a copy of a slice from a DataFrame.\n",
      "Try using .loc[row_indexer,col_indexer] = value instead\n",
      "\n",
      "See the caveats in the documentation: https://pandas.pydata.org/pandas-docs/stable/user_guide/indexing.html#returning-a-view-versus-a-copy\n",
      "  missing_lsoa_df.loc[:,'street_number2'] = missing_lsoa_df.loc[:,'street_number'].str.replace(r\"^.*(?=\\b[0-9]+$)\", \"\").str.replace(r\"[^\\d]\", \"\", regex = True)\n",
      "/tf/empty_homes_london/helper_functions.py:279: SettingWithCopyWarning: \n",
      "A value is trying to be set on a copy of a slice from a DataFrame.\n",
      "Try using .loc[row_indexer,col_indexer] = value instead\n",
      "\n",
      "See the caveats in the documentation: https://pandas.pydata.org/pandas-docs/stable/user_guide/indexing.html#returning-a-view-versus-a-copy\n",
      "  temp_multi['number_filter'] = filter_types\n"
     ]
    },
    {
     "name": "stdout",
     "output_type": "stream",
     "text": [
      "i= 0  expand time,0.0 filter time0.0 make_dataframe_time 0.001\n",
      "westburyroad\n"
     ]
    },
    {
     "name": "stderr",
     "output_type": "stream",
     "text": [
      "<ipython-input-12-8bc6428979cb>:35: SettingWithCopyWarning: \n",
      "A value is trying to be set on a copy of a slice from a DataFrame.\n",
      "Try using .loc[row_indexer,col_indexer] = value instead\n",
      "\n",
      "See the caveats in the documentation: https://pandas.pydata.org/pandas-docs/stable/user_guide/indexing.html#returning-a-view-versus-a-copy\n",
      "  missing_lsoa_road['lsoa11cd'] = [street_number_to_lsoa(temp_road, int(missing_lsoa_road.iloc[missing_lsoa_row]['street_number2']))\n",
      "<ipython-input-12-8bc6428979cb>:9: FutureWarning: The default value of regex will change from True to False in a future version.\n",
      "  missing_lsoa_df.loc[:,'street_number2'] = missing_lsoa_df.loc[:,'street_number'].str.replace(r\"^.*(?=\\b[0-9]+$)\", \"\").str.replace(r\"[^\\d]\", \"\", regex = True)\n",
      "<ipython-input-12-8bc6428979cb>:9: SettingWithCopyWarning: \n",
      "A value is trying to be set on a copy of a slice from a DataFrame.\n",
      "Try using .loc[row_indexer,col_indexer] = value instead\n",
      "\n",
      "See the caveats in the documentation: https://pandas.pydata.org/pandas-docs/stable/user_guide/indexing.html#returning-a-view-versus-a-copy\n",
      "  missing_lsoa_df.loc[:,'street_number2'] = missing_lsoa_df.loc[:,'street_number'].str.replace(r\"^.*(?=\\b[0-9]+$)\", \"\").str.replace(r\"[^\\d]\", \"\", regex = True)\n"
     ]
    },
    {
     "name": "stdout",
     "output_type": "stream",
     "text": [
      "highstreet\n",
      "hoestreet\n",
      "glenthorneroad\n",
      "leabridgeroad\n",
      "E06000041\n"
     ]
    },
    {
     "name": "stderr",
     "output_type": "stream",
     "text": [
      "/tf/empty_homes_london/helper_functions.py:279: SettingWithCopyWarning: \n",
      "A value is trying to be set on a copy of a slice from a DataFrame.\n",
      "Try using .loc[row_indexer,col_indexer] = value instead\n",
      "\n",
      "See the caveats in the documentation: https://pandas.pydata.org/pandas-docs/stable/user_guide/indexing.html#returning-a-view-versus-a-copy\n",
      "  temp_multi['number_filter'] = filter_types\n",
      "<ipython-input-12-8bc6428979cb>:35: SettingWithCopyWarning: \n",
      "A value is trying to be set on a copy of a slice from a DataFrame.\n",
      "Try using .loc[row_indexer,col_indexer] = value instead\n",
      "\n",
      "See the caveats in the documentation: https://pandas.pydata.org/pandas-docs/stable/user_guide/indexing.html#returning-a-view-versus-a-copy\n",
      "  missing_lsoa_road['lsoa11cd'] = [street_number_to_lsoa(temp_road, int(missing_lsoa_road.iloc[missing_lsoa_row]['street_number2']))\n",
      "<ipython-input-12-8bc6428979cb>:9: FutureWarning: The default value of regex will change from True to False in a future version.\n",
      "  missing_lsoa_df.loc[:,'street_number2'] = missing_lsoa_df.loc[:,'street_number'].str.replace(r\"^.*(?=\\b[0-9]+$)\", \"\").str.replace(r\"[^\\d]\", \"\", regex = True)\n",
      "<ipython-input-12-8bc6428979cb>:9: SettingWithCopyWarning: \n",
      "A value is trying to be set on a copy of a slice from a DataFrame.\n",
      "Try using .loc[row_indexer,col_indexer] = value instead\n",
      "\n",
      "See the caveats in the documentation: https://pandas.pydata.org/pandas-docs/stable/user_guide/indexing.html#returning-a-view-versus-a-copy\n",
      "  missing_lsoa_df.loc[:,'street_number2'] = missing_lsoa_df.loc[:,'street_number'].str.replace(r\"^.*(?=\\b[0-9]+$)\", \"\").str.replace(r\"[^\\d]\", \"\", regex = True)\n"
     ]
    },
    {
     "name": "stdout",
     "output_type": "stream",
     "text": [
      "i= 0  expand time,0.0 filter time0.0 make_dataframe_time 0.001\n",
      "thamevalleypark\n",
      "colemanmoorroad\n",
      "E06000021\n"
     ]
    },
    {
     "name": "stderr",
     "output_type": "stream",
     "text": [
      "/tf/empty_homes_london/helper_functions.py:279: SettingWithCopyWarning: \n",
      "A value is trying to be set on a copy of a slice from a DataFrame.\n",
      "Try using .loc[row_indexer,col_indexer] = value instead\n",
      "\n",
      "See the caveats in the documentation: https://pandas.pydata.org/pandas-docs/stable/user_guide/indexing.html#returning-a-view-versus-a-copy\n",
      "  temp_multi['number_filter'] = filter_types\n",
      "<ipython-input-12-8bc6428979cb>:35: SettingWithCopyWarning: \n",
      "A value is trying to be set on a copy of a slice from a DataFrame.\n",
      "Try using .loc[row_indexer,col_indexer] = value instead\n",
      "\n",
      "See the caveats in the documentation: https://pandas.pydata.org/pandas-docs/stable/user_guide/indexing.html#returning-a-view-versus-a-copy\n",
      "  missing_lsoa_road['lsoa11cd'] = [street_number_to_lsoa(temp_road, int(missing_lsoa_road.iloc[missing_lsoa_row]['street_number2']))\n",
      "<ipython-input-12-8bc6428979cb>:9: FutureWarning: The default value of regex will change from True to False in a future version.\n",
      "  missing_lsoa_df.loc[:,'street_number2'] = missing_lsoa_df.loc[:,'street_number'].str.replace(r\"^.*(?=\\b[0-9]+$)\", \"\").str.replace(r\"[^\\d]\", \"\", regex = True)\n",
      "<ipython-input-12-8bc6428979cb>:9: SettingWithCopyWarning: \n",
      "A value is trying to be set on a copy of a slice from a DataFrame.\n",
      "Try using .loc[row_indexer,col_indexer] = value instead\n",
      "\n",
      "See the caveats in the documentation: https://pandas.pydata.org/pandas-docs/stable/user_guide/indexing.html#returning-a-view-versus-a-copy\n",
      "  missing_lsoa_df.loc[:,'street_number2'] = missing_lsoa_df.loc[:,'street_number'].str.replace(r\"^.*(?=\\b[0-9]+$)\", \"\").str.replace(r\"[^\\d]\", \"\", regex = True)\n"
     ]
    },
    {
     "name": "stdout",
     "output_type": "stream",
     "text": [
      "i= 0  expand time,0.0 filter time0.0 make_dataframe_time 0.001\n",
      "moorlandroad\n",
      "dividyroad\n",
      "E07000211\n"
     ]
    },
    {
     "name": "stderr",
     "output_type": "stream",
     "text": [
      "/tf/empty_homes_london/helper_functions.py:279: SettingWithCopyWarning: \n",
      "A value is trying to be set on a copy of a slice from a DataFrame.\n",
      "Try using .loc[row_indexer,col_indexer] = value instead\n",
      "\n",
      "See the caveats in the documentation: https://pandas.pydata.org/pandas-docs/stable/user_guide/indexing.html#returning-a-view-versus-a-copy\n",
      "  temp_multi['number_filter'] = filter_types\n",
      "<ipython-input-12-8bc6428979cb>:35: SettingWithCopyWarning: \n",
      "A value is trying to be set on a copy of a slice from a DataFrame.\n",
      "Try using .loc[row_indexer,col_indexer] = value instead\n",
      "\n",
      "See the caveats in the documentation: https://pandas.pydata.org/pandas-docs/stable/user_guide/indexing.html#returning-a-view-versus-a-copy\n",
      "  missing_lsoa_road['lsoa11cd'] = [street_number_to_lsoa(temp_road, int(missing_lsoa_road.iloc[missing_lsoa_row]['street_number2']))\n"
     ]
    },
    {
     "name": "stdout",
     "output_type": "stream",
     "text": [
      "i= 0  expand time,0.001 filter time0.0 make_dataframe_time 0.001\n",
      "brightonroad\n",
      "victoriaroad\n",
      "beechroad\n",
      "greenlane\n",
      "highstreet\n",
      "E07000246\n"
     ]
    },
    {
     "name": "stderr",
     "output_type": "stream",
     "text": [
      "<ipython-input-12-8bc6428979cb>:9: FutureWarning: The default value of regex will change from True to False in a future version.\n",
      "  missing_lsoa_df.loc[:,'street_number2'] = missing_lsoa_df.loc[:,'street_number'].str.replace(r\"^.*(?=\\b[0-9]+$)\", \"\").str.replace(r\"[^\\d]\", \"\", regex = True)\n",
      "<ipython-input-12-8bc6428979cb>:9: SettingWithCopyWarning: \n",
      "A value is trying to be set on a copy of a slice from a DataFrame.\n",
      "Try using .loc[row_indexer,col_indexer] = value instead\n",
      "\n",
      "See the caveats in the documentation: https://pandas.pydata.org/pandas-docs/stable/user_guide/indexing.html#returning-a-view-versus-a-copy\n",
      "  missing_lsoa_df.loc[:,'street_number2'] = missing_lsoa_df.loc[:,'street_number'].str.replace(r\"^.*(?=\\b[0-9]+$)\", \"\").str.replace(r\"[^\\d]\", \"\", regex = True)\n",
      "/tf/empty_homes_london/helper_functions.py:279: SettingWithCopyWarning: \n",
      "A value is trying to be set on a copy of a slice from a DataFrame.\n",
      "Try using .loc[row_indexer,col_indexer] = value instead\n",
      "\n",
      "See the caveats in the documentation: https://pandas.pydata.org/pandas-docs/stable/user_guide/indexing.html#returning-a-view-versus-a-copy\n",
      "  temp_multi['number_filter'] = filter_types\n",
      "<ipython-input-12-8bc6428979cb>:35: SettingWithCopyWarning: \n",
      "A value is trying to be set on a copy of a slice from a DataFrame.\n",
      "Try using .loc[row_indexer,col_indexer] = value instead\n",
      "\n",
      "See the caveats in the documentation: https://pandas.pydata.org/pandas-docs/stable/user_guide/indexing.html#returning-a-view-versus-a-copy\n",
      "  missing_lsoa_road['lsoa11cd'] = [street_number_to_lsoa(temp_road, int(missing_lsoa_road.iloc[missing_lsoa_row]['street_number2']))\n",
      "<ipython-input-12-8bc6428979cb>:9: FutureWarning: The default value of regex will change from True to False in a future version.\n",
      "  missing_lsoa_df.loc[:,'street_number2'] = missing_lsoa_df.loc[:,'street_number'].str.replace(r\"^.*(?=\\b[0-9]+$)\", \"\").str.replace(r\"[^\\d]\", \"\", regex = True)\n",
      "<ipython-input-12-8bc6428979cb>:9: SettingWithCopyWarning: \n",
      "A value is trying to be set on a copy of a slice from a DataFrame.\n",
      "Try using .loc[row_indexer,col_indexer] = value instead\n",
      "\n",
      "See the caveats in the documentation: https://pandas.pydata.org/pandas-docs/stable/user_guide/indexing.html#returning-a-view-versus-a-copy\n",
      "  missing_lsoa_df.loc[:,'street_number2'] = missing_lsoa_df.loc[:,'street_number'].str.replace(r\"^.*(?=\\b[0-9]+$)\", \"\").str.replace(r\"[^\\d]\", \"\", regex = True)\n"
     ]
    },
    {
     "name": "stdout",
     "output_type": "stream",
     "text": [
      "i= 0  expand time,0.0 filter time0.0 make_dataframe_time 0.001\n",
      "millhouseroad\n",
      "stationroad\n",
      "atheparade,\n",
      "E09000006\n"
     ]
    },
    {
     "name": "stderr",
     "output_type": "stream",
     "text": [
      "/tf/empty_homes_london/helper_functions.py:279: SettingWithCopyWarning: \n",
      "A value is trying to be set on a copy of a slice from a DataFrame.\n",
      "Try using .loc[row_indexer,col_indexer] = value instead\n",
      "\n",
      "See the caveats in the documentation: https://pandas.pydata.org/pandas-docs/stable/user_guide/indexing.html#returning-a-view-versus-a-copy\n",
      "  temp_multi['number_filter'] = filter_types\n"
     ]
    },
    {
     "name": "stdout",
     "output_type": "stream",
     "text": [
      "i= 0  expand time,0.0 filter time0.0 make_dataframe_time 0.001\n",
      "highstreet\n",
      "marketsquare\n",
      "weststreet\n",
      "shirelane\n",
      "croydonroad\n",
      "E08000022\n"
     ]
    },
    {
     "name": "stderr",
     "output_type": "stream",
     "text": [
      "<ipython-input-12-8bc6428979cb>:35: SettingWithCopyWarning: \n",
      "A value is trying to be set on a copy of a slice from a DataFrame.\n",
      "Try using .loc[row_indexer,col_indexer] = value instead\n",
      "\n",
      "See the caveats in the documentation: https://pandas.pydata.org/pandas-docs/stable/user_guide/indexing.html#returning-a-view-versus-a-copy\n",
      "  missing_lsoa_road['lsoa11cd'] = [street_number_to_lsoa(temp_road, int(missing_lsoa_road.iloc[missing_lsoa_row]['street_number2']))\n",
      "<ipython-input-12-8bc6428979cb>:9: FutureWarning: The default value of regex will change from True to False in a future version.\n",
      "  missing_lsoa_df.loc[:,'street_number2'] = missing_lsoa_df.loc[:,'street_number'].str.replace(r\"^.*(?=\\b[0-9]+$)\", \"\").str.replace(r\"[^\\d]\", \"\", regex = True)\n",
      "<ipython-input-12-8bc6428979cb>:9: SettingWithCopyWarning: \n",
      "A value is trying to be set on a copy of a slice from a DataFrame.\n",
      "Try using .loc[row_indexer,col_indexer] = value instead\n",
      "\n",
      "See the caveats in the documentation: https://pandas.pydata.org/pandas-docs/stable/user_guide/indexing.html#returning-a-view-versus-a-copy\n",
      "  missing_lsoa_df.loc[:,'street_number2'] = missing_lsoa_df.loc[:,'street_number'].str.replace(r\"^.*(?=\\b[0-9]+$)\", \"\").str.replace(r\"[^\\d]\", \"\", regex = True)\n"
     ]
    },
    {
     "name": "stdout",
     "output_type": "stream",
     "text": [
      "bentonroad\n",
      "newyorkroad\n",
      "W06000016\n"
     ]
    },
    {
     "name": "stderr",
     "output_type": "stream",
     "text": [
      "<ipython-input-12-8bc6428979cb>:35: SettingWithCopyWarning: \n",
      "A value is trying to be set on a copy of a slice from a DataFrame.\n",
      "Try using .loc[row_indexer,col_indexer] = value instead\n",
      "\n",
      "See the caveats in the documentation: https://pandas.pydata.org/pandas-docs/stable/user_guide/indexing.html#returning-a-view-versus-a-copy\n",
      "  missing_lsoa_road['lsoa11cd'] = [street_number_to_lsoa(temp_road, int(missing_lsoa_road.iloc[missing_lsoa_row]['street_number2']))\n",
      "<ipython-input-12-8bc6428979cb>:9: FutureWarning: The default value of regex will change from True to False in a future version.\n",
      "  missing_lsoa_df.loc[:,'street_number2'] = missing_lsoa_df.loc[:,'street_number'].str.replace(r\"^.*(?=\\b[0-9]+$)\", \"\").str.replace(r\"[^\\d]\", \"\", regex = True)\n",
      "<ipython-input-12-8bc6428979cb>:9: SettingWithCopyWarning: \n",
      "A value is trying to be set on a copy of a slice from a DataFrame.\n",
      "Try using .loc[row_indexer,col_indexer] = value instead\n",
      "\n",
      "See the caveats in the documentation: https://pandas.pydata.org/pandas-docs/stable/user_guide/indexing.html#returning-a-view-versus-a-copy\n",
      "  missing_lsoa_df.loc[:,'street_number2'] = missing_lsoa_df.loc[:,'street_number'].str.replace(r\"^.*(?=\\b[0-9]+$)\", \"\").str.replace(r\"[^\\d]\", \"\", regex = True)\n"
     ]
    },
    {
     "name": "stdout",
     "output_type": "stream",
     "text": [
      "reestreet\n",
      "ashgrove\n",
      "E07000037\n"
     ]
    },
    {
     "name": "stderr",
     "output_type": "stream",
     "text": [
      "<ipython-input-12-8bc6428979cb>:35: SettingWithCopyWarning: \n",
      "A value is trying to be set on a copy of a slice from a DataFrame.\n",
      "Try using .loc[row_indexer,col_indexer] = value instead\n",
      "\n",
      "See the caveats in the documentation: https://pandas.pydata.org/pandas-docs/stable/user_guide/indexing.html#returning-a-view-versus-a-copy\n",
      "  missing_lsoa_road['lsoa11cd'] = [street_number_to_lsoa(temp_road, int(missing_lsoa_road.iloc[missing_lsoa_row]['street_number2']))\n",
      "<ipython-input-12-8bc6428979cb>:9: FutureWarning: The default value of regex will change from True to False in a future version.\n",
      "  missing_lsoa_df.loc[:,'street_number2'] = missing_lsoa_df.loc[:,'street_number'].str.replace(r\"^.*(?=\\b[0-9]+$)\", \"\").str.replace(r\"[^\\d]\", \"\", regex = True)\n",
      "<ipython-input-12-8bc6428979cb>:9: SettingWithCopyWarning: \n",
      "A value is trying to be set on a copy of a slice from a DataFrame.\n",
      "Try using .loc[row_indexer,col_indexer] = value instead\n",
      "\n",
      "See the caveats in the documentation: https://pandas.pydata.org/pandas-docs/stable/user_guide/indexing.html#returning-a-view-versus-a-copy\n",
      "  missing_lsoa_df.loc[:,'street_number2'] = missing_lsoa_df.loc[:,'street_number'].str.replace(r\"^.*(?=\\b[0-9]+$)\", \"\").str.replace(r\"[^\\d]\", \"\", regex = True)\n",
      "/tf/empty_homes_london/helper_functions.py:279: SettingWithCopyWarning: \n",
      "A value is trying to be set on a copy of a slice from a DataFrame.\n",
      "Try using .loc[row_indexer,col_indexer] = value instead\n",
      "\n",
      "See the caveats in the documentation: https://pandas.pydata.org/pandas-docs/stable/user_guide/indexing.html#returning-a-view-versus-a-copy\n",
      "  temp_multi['number_filter'] = filter_types\n",
      "<ipython-input-12-8bc6428979cb>:35: SettingWithCopyWarning: \n",
      "A value is trying to be set on a copy of a slice from a DataFrame.\n",
      "Try using .loc[row_indexer,col_indexer] = value instead\n",
      "\n",
      "See the caveats in the documentation: https://pandas.pydata.org/pandas-docs/stable/user_guide/indexing.html#returning-a-view-versus-a-copy\n",
      "  missing_lsoa_road['lsoa11cd'] = [street_number_to_lsoa(temp_road, int(missing_lsoa_road.iloc[missing_lsoa_row]['street_number2']))\n",
      "<ipython-input-12-8bc6428979cb>:9: FutureWarning: The default value of regex will change from True to False in a future version.\n",
      "  missing_lsoa_df.loc[:,'street_number2'] = missing_lsoa_df.loc[:,'street_number'].str.replace(r\"^.*(?=\\b[0-9]+$)\", \"\").str.replace(r\"[^\\d]\", \"\", regex = True)\n",
      "<ipython-input-12-8bc6428979cb>:9: SettingWithCopyWarning: \n",
      "A value is trying to be set on a copy of a slice from a DataFrame.\n",
      "Try using .loc[row_indexer,col_indexer] = value instead\n",
      "\n",
      "See the caveats in the documentation: https://pandas.pydata.org/pandas-docs/stable/user_guide/indexing.html#returning-a-view-versus-a-copy\n",
      "  missing_lsoa_df.loc[:,'street_number2'] = missing_lsoa_df.loc[:,'street_number'].str.replace(r\"^.*(?=\\b[0-9]+$)\", \"\").str.replace(r\"[^\\d]\", \"\", regex = True)\n"
     ]
    },
    {
     "name": "stdout",
     "output_type": "stream",
     "text": [
      "i= 0  expand time,0.0 filter time0.0 make_dataframe_time 0.001\n",
      "thecroft,\n",
      "greenlane\n",
      "E06000024\n"
     ]
    },
    {
     "name": "stderr",
     "output_type": "stream",
     "text": [
      "/tf/empty_homes_london/helper_functions.py:279: SettingWithCopyWarning: \n",
      "A value is trying to be set on a copy of a slice from a DataFrame.\n",
      "Try using .loc[row_indexer,col_indexer] = value instead\n",
      "\n",
      "See the caveats in the documentation: https://pandas.pydata.org/pandas-docs/stable/user_guide/indexing.html#returning-a-view-versus-a-copy\n",
      "  temp_multi['number_filter'] = filter_types\n",
      "<ipython-input-12-8bc6428979cb>:9: FutureWarning: The default value of regex will change from True to False in a future version.\n",
      "  missing_lsoa_df.loc[:,'street_number2'] = missing_lsoa_df.loc[:,'street_number'].str.replace(r\"^.*(?=\\b[0-9]+$)\", \"\").str.replace(r\"[^\\d]\", \"\", regex = True)\n",
      "<ipython-input-12-8bc6428979cb>:9: SettingWithCopyWarning: \n",
      "A value is trying to be set on a copy of a slice from a DataFrame.\n",
      "Try using .loc[row_indexer,col_indexer] = value instead\n",
      "\n",
      "See the caveats in the documentation: https://pandas.pydata.org/pandas-docs/stable/user_guide/indexing.html#returning-a-view-versus-a-copy\n",
      "  missing_lsoa_df.loc[:,'street_number2'] = missing_lsoa_df.loc[:,'street_number'].str.replace(r\"^.*(?=\\b[0-9]+$)\", \"\").str.replace(r\"[^\\d]\", \"\", regex = True)\n"
     ]
    },
    {
     "name": "stdout",
     "output_type": "stream",
     "text": [
      "i= 0  expand time,0.0 filter time0.0 make_dataframe_time 0.001\n",
      "beachroad\n",
      "E06000059\n"
     ]
    },
    {
     "name": "stderr",
     "output_type": "stream",
     "text": [
      "/tf/empty_homes_london/helper_functions.py:279: SettingWithCopyWarning: \n",
      "A value is trying to be set on a copy of a slice from a DataFrame.\n",
      "Try using .loc[row_indexer,col_indexer] = value instead\n",
      "\n",
      "See the caveats in the documentation: https://pandas.pydata.org/pandas-docs/stable/user_guide/indexing.html#returning-a-view-versus-a-copy\n",
      "  temp_multi['number_filter'] = filter_types\n",
      "<ipython-input-12-8bc6428979cb>:35: SettingWithCopyWarning: \n",
      "A value is trying to be set on a copy of a slice from a DataFrame.\n",
      "Try using .loc[row_indexer,col_indexer] = value instead\n",
      "\n",
      "See the caveats in the documentation: https://pandas.pydata.org/pandas-docs/stable/user_guide/indexing.html#returning-a-view-versus-a-copy\n",
      "  missing_lsoa_road['lsoa11cd'] = [street_number_to_lsoa(temp_road, int(missing_lsoa_road.iloc[missing_lsoa_row]['street_number2']))\n",
      "<ipython-input-12-8bc6428979cb>:9: FutureWarning: The default value of regex will change from True to False in a future version.\n",
      "  missing_lsoa_df.loc[:,'street_number2'] = missing_lsoa_df.loc[:,'street_number'].str.replace(r\"^.*(?=\\b[0-9]+$)\", \"\").str.replace(r\"[^\\d]\", \"\", regex = True)\n",
      "<ipython-input-12-8bc6428979cb>:9: SettingWithCopyWarning: \n",
      "A value is trying to be set on a copy of a slice from a DataFrame.\n",
      "Try using .loc[row_indexer,col_indexer] = value instead\n",
      "\n",
      "See the caveats in the documentation: https://pandas.pydata.org/pandas-docs/stable/user_guide/indexing.html#returning-a-view-versus-a-copy\n",
      "  missing_lsoa_df.loc[:,'street_number2'] = missing_lsoa_df.loc[:,'street_number'].str.replace(r\"^.*(?=\\b[0-9]+$)\", \"\").str.replace(r\"[^\\d]\", \"\", regex = True)\n"
     ]
    },
    {
     "name": "stdout",
     "output_type": "stream",
     "text": [
      "i= 0  expand time,0.0 filter time0.0 make_dataframe_time 0.001\n",
      "fieldclose\n",
      "wimborneroadeast\n",
      "ringwoodroad\n",
      "dorchesterroad\n",
      "E08000030\n"
     ]
    },
    {
     "name": "stderr",
     "output_type": "stream",
     "text": [
      "/tf/empty_homes_london/helper_functions.py:279: SettingWithCopyWarning: \n",
      "A value is trying to be set on a copy of a slice from a DataFrame.\n",
      "Try using .loc[row_indexer,col_indexer] = value instead\n",
      "\n",
      "See the caveats in the documentation: https://pandas.pydata.org/pandas-docs/stable/user_guide/indexing.html#returning-a-view-versus-a-copy\n",
      "  temp_multi['number_filter'] = filter_types\n",
      "<ipython-input-12-8bc6428979cb>:35: SettingWithCopyWarning: \n",
      "A value is trying to be set on a copy of a slice from a DataFrame.\n",
      "Try using .loc[row_indexer,col_indexer] = value instead\n",
      "\n",
      "See the caveats in the documentation: https://pandas.pydata.org/pandas-docs/stable/user_guide/indexing.html#returning-a-view-versus-a-copy\n",
      "  missing_lsoa_road['lsoa11cd'] = [street_number_to_lsoa(temp_road, int(missing_lsoa_road.iloc[missing_lsoa_row]['street_number2']))\n",
      "<ipython-input-12-8bc6428979cb>:9: FutureWarning: The default value of regex will change from True to False in a future version.\n",
      "  missing_lsoa_df.loc[:,'street_number2'] = missing_lsoa_df.loc[:,'street_number'].str.replace(r\"^.*(?=\\b[0-9]+$)\", \"\").str.replace(r\"[^\\d]\", \"\", regex = True)\n",
      "<ipython-input-12-8bc6428979cb>:9: SettingWithCopyWarning: \n",
      "A value is trying to be set on a copy of a slice from a DataFrame.\n",
      "Try using .loc[row_indexer,col_indexer] = value instead\n",
      "\n",
      "See the caveats in the documentation: https://pandas.pydata.org/pandas-docs/stable/user_guide/indexing.html#returning-a-view-versus-a-copy\n",
      "  missing_lsoa_df.loc[:,'street_number2'] = missing_lsoa_df.loc[:,'street_number'].str.replace(r\"^.*(?=\\b[0-9]+$)\", \"\").str.replace(r\"[^\\d]\", \"\", regex = True)\n"
     ]
    },
    {
     "name": "stdout",
     "output_type": "stream",
     "text": [
      "i= 0  expand time,0.0 filter time0.0 make_dataframe_time 0.001\n",
      "highstreet\n",
      "gomerstreet\n",
      "E08000006\n"
     ]
    },
    {
     "name": "stderr",
     "output_type": "stream",
     "text": [
      "/tf/empty_homes_london/helper_functions.py:279: SettingWithCopyWarning: \n",
      "A value is trying to be set on a copy of a slice from a DataFrame.\n",
      "Try using .loc[row_indexer,col_indexer] = value instead\n",
      "\n",
      "See the caveats in the documentation: https://pandas.pydata.org/pandas-docs/stable/user_guide/indexing.html#returning-a-view-versus-a-copy\n",
      "  temp_multi['number_filter'] = filter_types\n",
      "<ipython-input-12-8bc6428979cb>:35: SettingWithCopyWarning: \n",
      "A value is trying to be set on a copy of a slice from a DataFrame.\n",
      "Try using .loc[row_indexer,col_indexer] = value instead\n",
      "\n",
      "See the caveats in the documentation: https://pandas.pydata.org/pandas-docs/stable/user_guide/indexing.html#returning-a-view-versus-a-copy\n",
      "  missing_lsoa_road['lsoa11cd'] = [street_number_to_lsoa(temp_road, int(missing_lsoa_road.iloc[missing_lsoa_row]['street_number2']))\n"
     ]
    },
    {
     "name": "stdout",
     "output_type": "stream",
     "text": [
      "i= 0  expand time,0.0 filter time0.0 make_dataframe_time 0.001\n",
      "broughtonlane\n",
      "lordstreet\n",
      "westminsterroad\n",
      "victoriaroad\n",
      "burynewroad\n",
      "chapelstreet\n",
      "manchesterroadwest\n",
      "molane\n",
      "salfordquays,\n",
      "blackfriarroad\n",
      "granvillestreet\n",
      "manchesterroad\n",
      "broadway\n",
      "E09000029\n"
     ]
    },
    {
     "name": "stderr",
     "output_type": "stream",
     "text": [
      "<ipython-input-12-8bc6428979cb>:9: FutureWarning: The default value of regex will change from True to False in a future version.\n",
      "  missing_lsoa_df.loc[:,'street_number2'] = missing_lsoa_df.loc[:,'street_number'].str.replace(r\"^.*(?=\\b[0-9]+$)\", \"\").str.replace(r\"[^\\d]\", \"\", regex = True)\n",
      "<ipython-input-12-8bc6428979cb>:9: SettingWithCopyWarning: \n",
      "A value is trying to be set on a copy of a slice from a DataFrame.\n",
      "Try using .loc[row_indexer,col_indexer] = value instead\n",
      "\n",
      "See the caveats in the documentation: https://pandas.pydata.org/pandas-docs/stable/user_guide/indexing.html#returning-a-view-versus-a-copy\n",
      "  missing_lsoa_df.loc[:,'street_number2'] = missing_lsoa_df.loc[:,'street_number'].str.replace(r\"^.*(?=\\b[0-9]+$)\", \"\").str.replace(r\"[^\\d]\", \"\", regex = True)\n",
      "/tf/empty_homes_london/helper_functions.py:279: SettingWithCopyWarning: \n",
      "A value is trying to be set on a copy of a slice from a DataFrame.\n",
      "Try using .loc[row_indexer,col_indexer] = value instead\n",
      "\n",
      "See the caveats in the documentation: https://pandas.pydata.org/pandas-docs/stable/user_guide/indexing.html#returning-a-view-versus-a-copy\n",
      "  temp_multi['number_filter'] = filter_types\n",
      "<ipython-input-12-8bc6428979cb>:35: SettingWithCopyWarning: \n",
      "A value is trying to be set on a copy of a slice from a DataFrame.\n",
      "Try using .loc[row_indexer,col_indexer] = value instead\n",
      "\n",
      "See the caveats in the documentation: https://pandas.pydata.org/pandas-docs/stable/user_guide/indexing.html#returning-a-view-versus-a-copy\n",
      "  missing_lsoa_road['lsoa11cd'] = [street_number_to_lsoa(temp_road, int(missing_lsoa_road.iloc[missing_lsoa_row]['street_number2']))\n"
     ]
    },
    {
     "name": "stdout",
     "output_type": "stream",
     "text": [
      "i= 0  expand time,0.0 filter time0.0 make_dataframe_time 0.001\n",
      "avenueroad\n",
      "woodcoteroad\n",
      "stanleyroad\n",
      "highstreet\n",
      "londonroad\n",
      "timberslipdrive\n",
      "parkroad\n",
      "staytonroad\n",
      "E08000018\n"
     ]
    },
    {
     "name": "stderr",
     "output_type": "stream",
     "text": [
      "<ipython-input-12-8bc6428979cb>:9: FutureWarning: The default value of regex will change from True to False in a future version.\n",
      "  missing_lsoa_df.loc[:,'street_number2'] = missing_lsoa_df.loc[:,'street_number'].str.replace(r\"^.*(?=\\b[0-9]+$)\", \"\").str.replace(r\"[^\\d]\", \"\", regex = True)\n",
      "<ipython-input-12-8bc6428979cb>:9: SettingWithCopyWarning: \n",
      "A value is trying to be set on a copy of a slice from a DataFrame.\n",
      "Try using .loc[row_indexer,col_indexer] = value instead\n",
      "\n",
      "See the caveats in the documentation: https://pandas.pydata.org/pandas-docs/stable/user_guide/indexing.html#returning-a-view-versus-a-copy\n",
      "  missing_lsoa_df.loc[:,'street_number2'] = missing_lsoa_df.loc[:,'street_number'].str.replace(r\"^.*(?=\\b[0-9]+$)\", \"\").str.replace(r\"[^\\d]\", \"\", regex = True)\n",
      "/tf/empty_homes_london/helper_functions.py:279: SettingWithCopyWarning: \n",
      "A value is trying to be set on a copy of a slice from a DataFrame.\n",
      "Try using .loc[row_indexer,col_indexer] = value instead\n",
      "\n",
      "See the caveats in the documentation: https://pandas.pydata.org/pandas-docs/stable/user_guide/indexing.html#returning-a-view-versus-a-copy\n",
      "  temp_multi['number_filter'] = filter_types\n",
      "<ipython-input-12-8bc6428979cb>:35: SettingWithCopyWarning: \n",
      "A value is trying to be set on a copy of a slice from a DataFrame.\n",
      "Try using .loc[row_indexer,col_indexer] = value instead\n",
      "\n",
      "See the caveats in the documentation: https://pandas.pydata.org/pandas-docs/stable/user_guide/indexing.html#returning-a-view-versus-a-copy\n",
      "  missing_lsoa_road['lsoa11cd'] = [street_number_to_lsoa(temp_road, int(missing_lsoa_road.iloc[missing_lsoa_row]['street_number2']))\n",
      "<ipython-input-12-8bc6428979cb>:9: FutureWarning: The default value of regex will change from True to False in a future version.\n",
      "  missing_lsoa_df.loc[:,'street_number2'] = missing_lsoa_df.loc[:,'street_number'].str.replace(r\"^.*(?=\\b[0-9]+$)\", \"\").str.replace(r\"[^\\d]\", \"\", regex = True)\n",
      "<ipython-input-12-8bc6428979cb>:9: SettingWithCopyWarning: \n",
      "A value is trying to be set on a copy of a slice from a DataFrame.\n",
      "Try using .loc[row_indexer,col_indexer] = value instead\n",
      "\n",
      "See the caveats in the documentation: https://pandas.pydata.org/pandas-docs/stable/user_guide/indexing.html#returning-a-view-versus-a-copy\n",
      "  missing_lsoa_df.loc[:,'street_number2'] = missing_lsoa_df.loc[:,'street_number'].str.replace(r\"^.*(?=\\b[0-9]+$)\", \"\").str.replace(r\"[^\\d]\", \"\", regex = True)\n"
     ]
    },
    {
     "name": "stdout",
     "output_type": "stream",
     "text": [
      "i= 0  expand time,0.0 filter time0.0 make_dataframe_time 0.001\n",
      "kearsleyroad\n",
      "baslowroad\n",
      "lodgelane\n",
      "laverdeneavenue\n",
      "rotherhamroad\n",
      "highstreet\n",
      "E06000025\n"
     ]
    },
    {
     "name": "stderr",
     "output_type": "stream",
     "text": [
      "/tf/empty_homes_london/helper_functions.py:279: SettingWithCopyWarning: \n",
      "A value is trying to be set on a copy of a slice from a DataFrame.\n",
      "Try using .loc[row_indexer,col_indexer] = value instead\n",
      "\n",
      "See the caveats in the documentation: https://pandas.pydata.org/pandas-docs/stable/user_guide/indexing.html#returning-a-view-versus-a-copy\n",
      "  temp_multi['number_filter'] = filter_types\n",
      "<ipython-input-12-8bc6428979cb>:35: SettingWithCopyWarning: \n",
      "A value is trying to be set on a copy of a slice from a DataFrame.\n",
      "Try using .loc[row_indexer,col_indexer] = value instead\n",
      "\n",
      "See the caveats in the documentation: https://pandas.pydata.org/pandas-docs/stable/user_guide/indexing.html#returning-a-view-versus-a-copy\n",
      "  missing_lsoa_road['lsoa11cd'] = [street_number_to_lsoa(temp_road, int(missing_lsoa_road.iloc[missing_lsoa_row]['street_number2']))\n",
      "<ipython-input-12-8bc6428979cb>:9: FutureWarning: The default value of regex will change from True to False in a future version.\n",
      "  missing_lsoa_df.loc[:,'street_number2'] = missing_lsoa_df.loc[:,'street_number'].str.replace(r\"^.*(?=\\b[0-9]+$)\", \"\").str.replace(r\"[^\\d]\", \"\", regex = True)\n",
      "<ipython-input-12-8bc6428979cb>:9: SettingWithCopyWarning: \n",
      "A value is trying to be set on a copy of a slice from a DataFrame.\n",
      "Try using .loc[row_indexer,col_indexer] = value instead\n",
      "\n",
      "See the caveats in the documentation: https://pandas.pydata.org/pandas-docs/stable/user_guide/indexing.html#returning-a-view-versus-a-copy\n",
      "  missing_lsoa_df.loc[:,'street_number2'] = missing_lsoa_df.loc[:,'street_number'].str.replace(r\"^.*(?=\\b[0-9]+$)\", \"\").str.replace(r\"[^\\d]\", \"\", regex = True)\n"
     ]
    },
    {
     "name": "stdout",
     "output_type": "stream",
     "text": [
      "i= 0  expand time,0.0 filter time0.0 make_dataframe_time 0.001\n",
      "emersongreen\n",
      "hallenclose\n",
      "parkavenue\n",
      "E06000038\n"
     ]
    },
    {
     "name": "stderr",
     "output_type": "stream",
     "text": [
      "/tf/empty_homes_london/helper_functions.py:279: SettingWithCopyWarning: \n",
      "A value is trying to be set on a copy of a slice from a DataFrame.\n",
      "Try using .loc[row_indexer,col_indexer] = value instead\n",
      "\n",
      "See the caveats in the documentation: https://pandas.pydata.org/pandas-docs/stable/user_guide/indexing.html#returning-a-view-versus-a-copy\n",
      "  temp_multi['number_filter'] = filter_types\n"
     ]
    },
    {
     "name": "stdout",
     "output_type": "stream",
     "text": [
      "i= 0  expand time,0.0 filter time0.0 make_dataframe_time 0.001\n",
      "cheapside\n",
      "friarstreet\n",
      "londonstreet\n",
      "oxfordroad\n",
      "kingroad\n",
      "broadstreet\n",
      "E06000051\n"
     ]
    },
    {
     "name": "stderr",
     "output_type": "stream",
     "text": [
      "<ipython-input-12-8bc6428979cb>:35: SettingWithCopyWarning: \n",
      "A value is trying to be set on a copy of a slice from a DataFrame.\n",
      "Try using .loc[row_indexer,col_indexer] = value instead\n",
      "\n",
      "See the caveats in the documentation: https://pandas.pydata.org/pandas-docs/stable/user_guide/indexing.html#returning-a-view-versus-a-copy\n",
      "  missing_lsoa_road['lsoa11cd'] = [street_number_to_lsoa(temp_road, int(missing_lsoa_road.iloc[missing_lsoa_row]['street_number2']))\n",
      "<ipython-input-12-8bc6428979cb>:9: FutureWarning: The default value of regex will change from True to False in a future version.\n",
      "  missing_lsoa_df.loc[:,'street_number2'] = missing_lsoa_df.loc[:,'street_number'].str.replace(r\"^.*(?=\\b[0-9]+$)\", \"\").str.replace(r\"[^\\d]\", \"\", regex = True)\n",
      "<ipython-input-12-8bc6428979cb>:9: SettingWithCopyWarning: \n",
      "A value is trying to be set on a copy of a slice from a DataFrame.\n",
      "Try using .loc[row_indexer,col_indexer] = value instead\n",
      "\n",
      "See the caveats in the documentation: https://pandas.pydata.org/pandas-docs/stable/user_guide/indexing.html#returning-a-view-versus-a-copy\n",
      "  missing_lsoa_df.loc[:,'street_number2'] = missing_lsoa_df.loc[:,'street_number'].str.replace(r\"^.*(?=\\b[0-9]+$)\", \"\").str.replace(r\"[^\\d]\", \"\", regex = True)\n",
      "/tf/empty_homes_london/helper_functions.py:279: SettingWithCopyWarning: \n",
      "A value is trying to be set on a copy of a slice from a DataFrame.\n",
      "Try using .loc[row_indexer,col_indexer] = value instead\n",
      "\n",
      "See the caveats in the documentation: https://pandas.pydata.org/pandas-docs/stable/user_guide/indexing.html#returning-a-view-versus-a-copy\n",
      "  temp_multi['number_filter'] = filter_types\n",
      "<ipython-input-12-8bc6428979cb>:35: SettingWithCopyWarning: \n",
      "A value is trying to be set on a copy of a slice from a DataFrame.\n",
      "Try using .loc[row_indexer,col_indexer] = value instead\n",
      "\n",
      "See the caveats in the documentation: https://pandas.pydata.org/pandas-docs/stable/user_guide/indexing.html#returning-a-view-versus-a-copy\n",
      "  missing_lsoa_road['lsoa11cd'] = [street_number_to_lsoa(temp_road, int(missing_lsoa_road.iloc[missing_lsoa_row]['street_number2']))\n",
      "<ipython-input-12-8bc6428979cb>:9: FutureWarning: The default value of regex will change from True to False in a future version.\n",
      "  missing_lsoa_df.loc[:,'street_number2'] = missing_lsoa_df.loc[:,'street_number'].str.replace(r\"^.*(?=\\b[0-9]+$)\", \"\").str.replace(r\"[^\\d]\", \"\", regex = True)\n",
      "<ipython-input-12-8bc6428979cb>:9: SettingWithCopyWarning: \n",
      "A value is trying to be set on a copy of a slice from a DataFrame.\n",
      "Try using .loc[row_indexer,col_indexer] = value instead\n",
      "\n",
      "See the caveats in the documentation: https://pandas.pydata.org/pandas-docs/stable/user_guide/indexing.html#returning-a-view-versus-a-copy\n",
      "  missing_lsoa_df.loc[:,'street_number2'] = missing_lsoa_df.loc[:,'street_number'].str.replace(r\"^.*(?=\\b[0-9]+$)\", \"\").str.replace(r\"[^\\d]\", \"\", regex = True)\n"
     ]
    },
    {
     "name": "stdout",
     "output_type": "stream",
     "text": [
      "i= 0  expand time,0.0 filter time0.0 make_dataframe_time 0.001\n",
      "poplarclose\n",
      "yewtreeclose\n",
      "watergatestreet\n",
      "E06000009\n"
     ]
    },
    {
     "name": "stderr",
     "output_type": "stream",
     "text": [
      "/tf/empty_homes_london/helper_functions.py:279: SettingWithCopyWarning: \n",
      "A value is trying to be set on a copy of a slice from a DataFrame.\n",
      "Try using .loc[row_indexer,col_indexer] = value instead\n",
      "\n",
      "See the caveats in the documentation: https://pandas.pydata.org/pandas-docs/stable/user_guide/indexing.html#returning-a-view-versus-a-copy\n",
      "  temp_multi['number_filter'] = filter_types\n",
      "<ipython-input-12-8bc6428979cb>:35: SettingWithCopyWarning: \n",
      "A value is trying to be set on a copy of a slice from a DataFrame.\n",
      "Try using .loc[row_indexer,col_indexer] = value instead\n",
      "\n",
      "See the caveats in the documentation: https://pandas.pydata.org/pandas-docs/stable/user_guide/indexing.html#returning-a-view-versus-a-copy\n",
      "  missing_lsoa_road['lsoa11cd'] = [street_number_to_lsoa(temp_road, int(missing_lsoa_road.iloc[missing_lsoa_row]['street_number2']))\n",
      "<ipython-input-12-8bc6428979cb>:9: FutureWarning: The default value of regex will change from True to False in a future version.\n",
      "  missing_lsoa_df.loc[:,'street_number2'] = missing_lsoa_df.loc[:,'street_number'].str.replace(r\"^.*(?=\\b[0-9]+$)\", \"\").str.replace(r\"[^\\d]\", \"\", regex = True)\n",
      "<ipython-input-12-8bc6428979cb>:9: SettingWithCopyWarning: \n",
      "A value is trying to be set on a copy of a slice from a DataFrame.\n",
      "Try using .loc[row_indexer,col_indexer] = value instead\n",
      "\n",
      "See the caveats in the documentation: https://pandas.pydata.org/pandas-docs/stable/user_guide/indexing.html#returning-a-view-versus-a-copy\n",
      "  missing_lsoa_df.loc[:,'street_number2'] = missing_lsoa_df.loc[:,'street_number'].str.replace(r\"^.*(?=\\b[0-9]+$)\", \"\").str.replace(r\"[^\\d]\", \"\", regex = True)\n"
     ]
    },
    {
     "name": "stdout",
     "output_type": "stream",
     "text": [
      "i= 0  expand time,0.0 filter time0.0 make_dataframe_time 0.001\n",
      "talbotroad\n",
      "toppingstreet\n",
      "highfieldroad\n",
      "E06000003\n"
     ]
    },
    {
     "name": "stderr",
     "output_type": "stream",
     "text": [
      "/tf/empty_homes_london/helper_functions.py:279: SettingWithCopyWarning: \n",
      "A value is trying to be set on a copy of a slice from a DataFrame.\n",
      "Try using .loc[row_indexer,col_indexer] = value instead\n",
      "\n",
      "See the caveats in the documentation: https://pandas.pydata.org/pandas-docs/stable/user_guide/indexing.html#returning-a-view-versus-a-copy\n",
      "  temp_multi['number_filter'] = filter_types\n",
      "<ipython-input-12-8bc6428979cb>:9: FutureWarning: The default value of regex will change from True to False in a future version.\n",
      "  missing_lsoa_df.loc[:,'street_number2'] = missing_lsoa_df.loc[:,'street_number'].str.replace(r\"^.*(?=\\b[0-9]+$)\", \"\").str.replace(r\"[^\\d]\", \"\", regex = True)\n",
      "<ipython-input-12-8bc6428979cb>:9: SettingWithCopyWarning: \n",
      "A value is trying to be set on a copy of a slice from a DataFrame.\n",
      "Try using .loc[row_indexer,col_indexer] = value instead\n",
      "\n",
      "See the caveats in the documentation: https://pandas.pydata.org/pandas-docs/stable/user_guide/indexing.html#returning-a-view-versus-a-copy\n",
      "  missing_lsoa_df.loc[:,'street_number2'] = missing_lsoa_df.loc[:,'street_number'].str.replace(r\"^.*(?=\\b[0-9]+$)\", \"\").str.replace(r\"[^\\d]\", \"\", regex = True)\n"
     ]
    },
    {
     "name": "stdout",
     "output_type": "stream",
     "text": [
      "i= 0  expand time,0.0 filter time0.0 make_dataframe_time 0.001\n",
      "highstreet\n",
      "E09000014\n"
     ]
    },
    {
     "name": "stderr",
     "output_type": "stream",
     "text": [
      "/tf/empty_homes_london/helper_functions.py:279: SettingWithCopyWarning: \n",
      "A value is trying to be set on a copy of a slice from a DataFrame.\n",
      "Try using .loc[row_indexer,col_indexer] = value instead\n",
      "\n",
      "See the caveats in the documentation: https://pandas.pydata.org/pandas-docs/stable/user_guide/indexing.html#returning-a-view-versus-a-copy\n",
      "  temp_multi['number_filter'] = filter_types\n"
     ]
    },
    {
     "name": "stdout",
     "output_type": "stream",
     "text": [
      "i= 0  expand time,0.0 filter time0.0 make_dataframe_time 0.001\n",
      "willoughbymews\n",
      "westburyavenue\n",
      "willoughbylane\n",
      "highroad\n",
      "muswellhillbroadway\n",
      "stjohnroad\n",
      "theroundway\n",
      "highstreet\n",
      "crescentroad\n",
      "boundgreenroad\n",
      "hampdenroad\n",
      "buryroad\n",
      "archwayroad\n",
      "E06000042\n"
     ]
    },
    {
     "name": "stderr",
     "output_type": "stream",
     "text": [
      "<ipython-input-12-8bc6428979cb>:35: SettingWithCopyWarning: \n",
      "A value is trying to be set on a copy of a slice from a DataFrame.\n",
      "Try using .loc[row_indexer,col_indexer] = value instead\n",
      "\n",
      "See the caveats in the documentation: https://pandas.pydata.org/pandas-docs/stable/user_guide/indexing.html#returning-a-view-versus-a-copy\n",
      "  missing_lsoa_road['lsoa11cd'] = [street_number_to_lsoa(temp_road, int(missing_lsoa_road.iloc[missing_lsoa_row]['street_number2']))\n",
      "<ipython-input-12-8bc6428979cb>:9: FutureWarning: The default value of regex will change from True to False in a future version.\n",
      "  missing_lsoa_df.loc[:,'street_number2'] = missing_lsoa_df.loc[:,'street_number'].str.replace(r\"^.*(?=\\b[0-9]+$)\", \"\").str.replace(r\"[^\\d]\", \"\", regex = True)\n",
      "<ipython-input-12-8bc6428979cb>:9: SettingWithCopyWarning: \n",
      "A value is trying to be set on a copy of a slice from a DataFrame.\n",
      "Try using .loc[row_indexer,col_indexer] = value instead\n",
      "\n",
      "See the caveats in the documentation: https://pandas.pydata.org/pandas-docs/stable/user_guide/indexing.html#returning-a-view-versus-a-copy\n",
      "  missing_lsoa_df.loc[:,'street_number2'] = missing_lsoa_df.loc[:,'street_number'].str.replace(r\"^.*(?=\\b[0-9]+$)\", \"\").str.replace(r\"[^\\d]\", \"\", regex = True)\n",
      "/tf/empty_homes_london/helper_functions.py:279: SettingWithCopyWarning: \n",
      "A value is trying to be set on a copy of a slice from a DataFrame.\n",
      "Try using .loc[row_indexer,col_indexer] = value instead\n",
      "\n",
      "See the caveats in the documentation: https://pandas.pydata.org/pandas-docs/stable/user_guide/indexing.html#returning-a-view-versus-a-copy\n",
      "  temp_multi['number_filter'] = filter_types\n",
      "<ipython-input-12-8bc6428979cb>:35: SettingWithCopyWarning: \n",
      "A value is trying to be set on a copy of a slice from a DataFrame.\n",
      "Try using .loc[row_indexer,col_indexer] = value instead\n",
      "\n",
      "See the caveats in the documentation: https://pandas.pydata.org/pandas-docs/stable/user_guide/indexing.html#returning-a-view-versus-a-copy\n",
      "  missing_lsoa_road['lsoa11cd'] = [street_number_to_lsoa(temp_road, int(missing_lsoa_road.iloc[missing_lsoa_row]['street_number2']))\n",
      "<ipython-input-12-8bc6428979cb>:9: FutureWarning: The default value of regex will change from True to False in a future version.\n",
      "  missing_lsoa_df.loc[:,'street_number2'] = missing_lsoa_df.loc[:,'street_number'].str.replace(r\"^.*(?=\\b[0-9]+$)\", \"\").str.replace(r\"[^\\d]\", \"\", regex = True)\n",
      "<ipython-input-12-8bc6428979cb>:9: SettingWithCopyWarning: \n",
      "A value is trying to be set on a copy of a slice from a DataFrame.\n",
      "Try using .loc[row_indexer,col_indexer] = value instead\n",
      "\n",
      "See the caveats in the documentation: https://pandas.pydata.org/pandas-docs/stable/user_guide/indexing.html#returning-a-view-versus-a-copy\n",
      "  missing_lsoa_df.loc[:,'street_number2'] = missing_lsoa_df.loc[:,'street_number'].str.replace(r\"^.*(?=\\b[0-9]+$)\", \"\").str.replace(r\"[^\\d]\", \"\", regex = True)\n"
     ]
    },
    {
     "name": "stdout",
     "output_type": "stream",
     "text": [
      "i= 0  expand time,0.0 filter time0.0 make_dataframe_time 0.001\n",
      "aveburyboulevard\n",
      "witangate\n",
      "stratfordroad\n",
      "queensway\n",
      "highstreet\n",
      "E06000015\n"
     ]
    },
    {
     "name": "stderr",
     "output_type": "stream",
     "text": [
      "/tf/empty_homes_london/helper_functions.py:279: SettingWithCopyWarning: \n",
      "A value is trying to be set on a copy of a slice from a DataFrame.\n",
      "Try using .loc[row_indexer,col_indexer] = value instead\n",
      "\n",
      "See the caveats in the documentation: https://pandas.pydata.org/pandas-docs/stable/user_guide/indexing.html#returning-a-view-versus-a-copy\n",
      "  temp_multi['number_filter'] = filter_types\n",
      "<ipython-input-12-8bc6428979cb>:9: FutureWarning: The default value of regex will change from True to False in a future version.\n",
      "  missing_lsoa_df.loc[:,'street_number2'] = missing_lsoa_df.loc[:,'street_number'].str.replace(r\"^.*(?=\\b[0-9]+$)\", \"\").str.replace(r\"[^\\d]\", \"\", regex = True)\n",
      "<ipython-input-12-8bc6428979cb>:9: SettingWithCopyWarning: \n",
      "A value is trying to be set on a copy of a slice from a DataFrame.\n",
      "Try using .loc[row_indexer,col_indexer] = value instead\n",
      "\n",
      "See the caveats in the documentation: https://pandas.pydata.org/pandas-docs/stable/user_guide/indexing.html#returning-a-view-versus-a-copy\n",
      "  missing_lsoa_df.loc[:,'street_number2'] = missing_lsoa_df.loc[:,'street_number'].str.replace(r\"^.*(?=\\b[0-9]+$)\", \"\").str.replace(r\"[^\\d]\", \"\", regex = True)\n"
     ]
    },
    {
     "name": "stdout",
     "output_type": "stream",
     "text": [
      "i= 0  expand time,0.0 filter time0.0 make_dataframe_time 0.001\n",
      "friargate\n",
      "E06000043\n"
     ]
    },
    {
     "name": "stderr",
     "output_type": "stream",
     "text": [
      "/tf/empty_homes_london/helper_functions.py:279: SettingWithCopyWarning: \n",
      "A value is trying to be set on a copy of a slice from a DataFrame.\n",
      "Try using .loc[row_indexer,col_indexer] = value instead\n",
      "\n",
      "See the caveats in the documentation: https://pandas.pydata.org/pandas-docs/stable/user_guide/indexing.html#returning-a-view-versus-a-copy\n",
      "  temp_multi['number_filter'] = filter_types\n"
     ]
    },
    {
     "name": "stdout",
     "output_type": "stream",
     "text": [
      "i= 0  expand time,0.0 filter time0.0 make_dataframe_time 0.001\n",
      "northstreet\n",
      "marineparade,\n",
      "westernroad\n",
      "lansdowneplace\n",
      "yorkplace\n",
      "oldshorehamroad\n",
      "castlestreet\n",
      "meadowvale\n",
      "georgestreet\n",
      "kingroad\n",
      "palmeiraavenue\n",
      "dykeroad\n",
      "E07000126\n"
     ]
    },
    {
     "name": "stderr",
     "output_type": "stream",
     "text": [
      "<ipython-input-12-8bc6428979cb>:35: SettingWithCopyWarning: \n",
      "A value is trying to be set on a copy of a slice from a DataFrame.\n",
      "Try using .loc[row_indexer,col_indexer] = value instead\n",
      "\n",
      "See the caveats in the documentation: https://pandas.pydata.org/pandas-docs/stable/user_guide/indexing.html#returning-a-view-versus-a-copy\n",
      "  missing_lsoa_road['lsoa11cd'] = [street_number_to_lsoa(temp_road, int(missing_lsoa_road.iloc[missing_lsoa_row]['street_number2']))\n",
      "<ipython-input-12-8bc6428979cb>:9: FutureWarning: The default value of regex will change from True to False in a future version.\n",
      "  missing_lsoa_df.loc[:,'street_number2'] = missing_lsoa_df.loc[:,'street_number'].str.replace(r\"^.*(?=\\b[0-9]+$)\", \"\").str.replace(r\"[^\\d]\", \"\", regex = True)\n",
      "<ipython-input-12-8bc6428979cb>:9: SettingWithCopyWarning: \n",
      "A value is trying to be set on a copy of a slice from a DataFrame.\n",
      "Try using .loc[row_indexer,col_indexer] = value instead\n",
      "\n",
      "See the caveats in the documentation: https://pandas.pydata.org/pandas-docs/stable/user_guide/indexing.html#returning-a-view-versus-a-copy\n",
      "  missing_lsoa_df.loc[:,'street_number2'] = missing_lsoa_df.loc[:,'street_number'].str.replace(r\"^.*(?=\\b[0-9]+$)\", \"\").str.replace(r\"[^\\d]\", \"\", regex = True)\n"
     ]
    },
    {
     "name": "stdout",
     "output_type": "stream",
     "text": [
      "crostonroad\n",
      "longmolane\n",
      "E07000228\n"
     ]
    },
    {
     "name": "stderr",
     "output_type": "stream",
     "text": [
      "<ipython-input-12-8bc6428979cb>:35: SettingWithCopyWarning: \n",
      "A value is trying to be set on a copy of a slice from a DataFrame.\n",
      "Try using .loc[row_indexer,col_indexer] = value instead\n",
      "\n",
      "See the caveats in the documentation: https://pandas.pydata.org/pandas-docs/stable/user_guide/indexing.html#returning-a-view-versus-a-copy\n",
      "  missing_lsoa_road['lsoa11cd'] = [street_number_to_lsoa(temp_road, int(missing_lsoa_road.iloc[missing_lsoa_row]['street_number2']))\n",
      "<ipython-input-12-8bc6428979cb>:9: FutureWarning: The default value of regex will change from True to False in a future version.\n",
      "  missing_lsoa_df.loc[:,'street_number2'] = missing_lsoa_df.loc[:,'street_number'].str.replace(r\"^.*(?=\\b[0-9]+$)\", \"\").str.replace(r\"[^\\d]\", \"\", regex = True)\n",
      "<ipython-input-12-8bc6428979cb>:9: SettingWithCopyWarning: \n",
      "A value is trying to be set on a copy of a slice from a DataFrame.\n",
      "Try using .loc[row_indexer,col_indexer] = value instead\n",
      "\n",
      "See the caveats in the documentation: https://pandas.pydata.org/pandas-docs/stable/user_guide/indexing.html#returning-a-view-versus-a-copy\n",
      "  missing_lsoa_df.loc[:,'street_number2'] = missing_lsoa_df.loc[:,'street_number'].str.replace(r\"^.*(?=\\b[0-9]+$)\", \"\").str.replace(r\"[^\\d]\", \"\", regex = True)\n",
      "/tf/empty_homes_london/helper_functions.py:279: SettingWithCopyWarning: \n",
      "A value is trying to be set on a copy of a slice from a DataFrame.\n",
      "Try using .loc[row_indexer,col_indexer] = value instead\n",
      "\n",
      "See the caveats in the documentation: https://pandas.pydata.org/pandas-docs/stable/user_guide/indexing.html#returning-a-view-versus-a-copy\n",
      "  temp_multi['number_filter'] = filter_types\n",
      "<ipython-input-12-8bc6428979cb>:9: FutureWarning: The default value of regex will change from True to False in a future version.\n",
      "  missing_lsoa_df.loc[:,'street_number2'] = missing_lsoa_df.loc[:,'street_number'].str.replace(r\"^.*(?=\\b[0-9]+$)\", \"\").str.replace(r\"[^\\d]\", \"\", regex = True)\n",
      "<ipython-input-12-8bc6428979cb>:9: SettingWithCopyWarning: \n",
      "A value is trying to be set on a copy of a slice from a DataFrame.\n",
      "Try using .loc[row_indexer,col_indexer] = value instead\n",
      "\n",
      "See the caveats in the documentation: https://pandas.pydata.org/pandas-docs/stable/user_guide/indexing.html#returning-a-view-versus-a-copy\n",
      "  missing_lsoa_df.loc[:,'street_number2'] = missing_lsoa_df.loc[:,'street_number'].str.replace(r\"^.*(?=\\b[0-9]+$)\", \"\").str.replace(r\"[^\\d]\", \"\", regex = True)\n"
     ]
    },
    {
     "name": "stdout",
     "output_type": "stream",
     "text": [
      "i= 0  expand time,0.0 filter time0.0 make_dataframe_time 0.001\n",
      "southroad\n",
      "E09000005\n"
     ]
    },
    {
     "name": "stderr",
     "output_type": "stream",
     "text": [
      "/tf/empty_homes_london/helper_functions.py:279: SettingWithCopyWarning: \n",
      "A value is trying to be set on a copy of a slice from a DataFrame.\n",
      "Try using .loc[row_indexer,col_indexer] = value instead\n",
      "\n",
      "See the caveats in the documentation: https://pandas.pydata.org/pandas-docs/stable/user_guide/indexing.html#returning-a-view-versus-a-copy\n",
      "  temp_multi['number_filter'] = filter_types\n",
      "<ipython-input-12-8bc6428979cb>:35: SettingWithCopyWarning: \n",
      "A value is trying to be set on a copy of a slice from a DataFrame.\n",
      "Try using .loc[row_indexer,col_indexer] = value instead\n",
      "\n",
      "See the caveats in the documentation: https://pandas.pydata.org/pandas-docs/stable/user_guide/indexing.html#returning-a-view-versus-a-copy\n",
      "  missing_lsoa_road['lsoa11cd'] = [street_number_to_lsoa(temp_road, int(missing_lsoa_road.iloc[missing_lsoa_row]['street_number2']))\n"
     ]
    },
    {
     "name": "stdout",
     "output_type": "stream",
     "text": [
      "i= 0  expand time,0.0 filter time0.0 make_dataframe_time 0.001\n",
      "walmlane\n",
      "northcircularroad\n",
      "kilburnlane\n",
      "kingsburyroad\n",
      "fryentway\n",
      "nicollroadandnewcrescent\n",
      "victoriaroad\n",
      "highroad\n",
      "alpertonlane\n",
      "E07000071\n"
     ]
    },
    {
     "name": "stderr",
     "output_type": "stream",
     "text": [
      "<ipython-input-12-8bc6428979cb>:9: FutureWarning: The default value of regex will change from True to False in a future version.\n",
      "  missing_lsoa_df.loc[:,'street_number2'] = missing_lsoa_df.loc[:,'street_number'].str.replace(r\"^.*(?=\\b[0-9]+$)\", \"\").str.replace(r\"[^\\d]\", \"\", regex = True)\n",
      "<ipython-input-12-8bc6428979cb>:9: SettingWithCopyWarning: \n",
      "A value is trying to be set on a copy of a slice from a DataFrame.\n",
      "Try using .loc[row_indexer,col_indexer] = value instead\n",
      "\n",
      "See the caveats in the documentation: https://pandas.pydata.org/pandas-docs/stable/user_guide/indexing.html#returning-a-view-versus-a-copy\n",
      "  missing_lsoa_df.loc[:,'street_number2'] = missing_lsoa_df.loc[:,'street_number'].str.replace(r\"^.*(?=\\b[0-9]+$)\", \"\").str.replace(r\"[^\\d]\", \"\", regex = True)\n",
      "/tf/empty_homes_london/helper_functions.py:279: SettingWithCopyWarning: \n",
      "A value is trying to be set on a copy of a slice from a DataFrame.\n",
      "Try using .loc[row_indexer,col_indexer] = value instead\n",
      "\n",
      "See the caveats in the documentation: https://pandas.pydata.org/pandas-docs/stable/user_guide/indexing.html#returning-a-view-versus-a-copy\n",
      "  temp_multi['number_filter'] = filter_types\n",
      "<ipython-input-12-8bc6428979cb>:35: SettingWithCopyWarning: \n",
      "A value is trying to be set on a copy of a slice from a DataFrame.\n",
      "Try using .loc[row_indexer,col_indexer] = value instead\n",
      "\n",
      "See the caveats in the documentation: https://pandas.pydata.org/pandas-docs/stable/user_guide/indexing.html#returning-a-view-versus-a-copy\n",
      "  missing_lsoa_road['lsoa11cd'] = [street_number_to_lsoa(temp_road, int(missing_lsoa_road.iloc[missing_lsoa_row]['street_number2']))\n",
      "<ipython-input-12-8bc6428979cb>:9: FutureWarning: The default value of regex will change from True to False in a future version.\n",
      "  missing_lsoa_df.loc[:,'street_number2'] = missing_lsoa_df.loc[:,'street_number'].str.replace(r\"^.*(?=\\b[0-9]+$)\", \"\").str.replace(r\"[^\\d]\", \"\", regex = True)\n",
      "<ipython-input-12-8bc6428979cb>:9: SettingWithCopyWarning: \n",
      "A value is trying to be set on a copy of a slice from a DataFrame.\n",
      "Try using .loc[row_indexer,col_indexer] = value instead\n",
      "\n",
      "See the caveats in the documentation: https://pandas.pydata.org/pandas-docs/stable/user_guide/indexing.html#returning-a-view-versus-a-copy\n",
      "  missing_lsoa_df.loc[:,'street_number2'] = missing_lsoa_df.loc[:,'street_number'].str.replace(r\"^.*(?=\\b[0-9]+$)\", \"\").str.replace(r\"[^\\d]\", \"\", regex = True)\n"
     ]
    },
    {
     "name": "stdout",
     "output_type": "stream",
     "text": [
      "i= 0  expand time,0.0 filter time0.0 make_dataframe_time 0.001\n",
      "headstreet\n",
      "colchesterroad\n",
      "thecrescent\n",
      "E07000124\n"
     ]
    },
    {
     "name": "stderr",
     "output_type": "stream",
     "text": [
      "/tf/empty_homes_london/helper_functions.py:279: SettingWithCopyWarning: \n",
      "A value is trying to be set on a copy of a slice from a DataFrame.\n",
      "Try using .loc[row_indexer,col_indexer] = value instead\n",
      "\n",
      "See the caveats in the documentation: https://pandas.pydata.org/pandas-docs/stable/user_guide/indexing.html#returning-a-view-versus-a-copy\n",
      "  temp_multi['number_filter'] = filter_types\n",
      "<ipython-input-12-8bc6428979cb>:9: FutureWarning: The default value of regex will change from True to False in a future version.\n",
      "  missing_lsoa_df.loc[:,'street_number2'] = missing_lsoa_df.loc[:,'street_number'].str.replace(r\"^.*(?=\\b[0-9]+$)\", \"\").str.replace(r\"[^\\d]\", \"\", regex = True)\n",
      "<ipython-input-12-8bc6428979cb>:9: SettingWithCopyWarning: \n",
      "A value is trying to be set on a copy of a slice from a DataFrame.\n",
      "Try using .loc[row_indexer,col_indexer] = value instead\n",
      "\n",
      "See the caveats in the documentation: https://pandas.pydata.org/pandas-docs/stable/user_guide/indexing.html#returning-a-view-versus-a-copy\n",
      "  missing_lsoa_df.loc[:,'street_number2'] = missing_lsoa_df.loc[:,'street_number'].str.replace(r\"^.*(?=\\b[0-9]+$)\", \"\").str.replace(r\"[^\\d]\", \"\", regex = True)\n"
     ]
    },
    {
     "name": "stdout",
     "output_type": "stream",
     "text": [
      "i= 0  expand time,0.0 filter time0.0 make_dataframe_time 0.001\n",
      "woonelane\n",
      "E07000105\n"
     ]
    },
    {
     "name": "stderr",
     "output_type": "stream",
     "text": [
      "/tf/empty_homes_london/helper_functions.py:279: SettingWithCopyWarning: \n",
      "A value is trying to be set on a copy of a slice from a DataFrame.\n",
      "Try using .loc[row_indexer,col_indexer] = value instead\n",
      "\n",
      "See the caveats in the documentation: https://pandas.pydata.org/pandas-docs/stable/user_guide/indexing.html#returning-a-view-versus-a-copy\n",
      "  temp_multi['number_filter'] = filter_types\n",
      "<ipython-input-12-8bc6428979cb>:35: SettingWithCopyWarning: \n",
      "A value is trying to be set on a copy of a slice from a DataFrame.\n",
      "Try using .loc[row_indexer,col_indexer] = value instead\n",
      "\n",
      "See the caveats in the documentation: https://pandas.pydata.org/pandas-docs/stable/user_guide/indexing.html#returning-a-view-versus-a-copy\n",
      "  missing_lsoa_road['lsoa11cd'] = [street_number_to_lsoa(temp_road, int(missing_lsoa_road.iloc[missing_lsoa_row]['street_number2']))\n",
      "<ipython-input-12-8bc6428979cb>:9: FutureWarning: The default value of regex will change from True to False in a future version.\n",
      "  missing_lsoa_df.loc[:,'street_number2'] = missing_lsoa_df.loc[:,'street_number'].str.replace(r\"^.*(?=\\b[0-9]+$)\", \"\").str.replace(r\"[^\\d]\", \"\", regex = True)\n",
      "<ipython-input-12-8bc6428979cb>:9: SettingWithCopyWarning: \n",
      "A value is trying to be set on a copy of a slice from a DataFrame.\n",
      "Try using .loc[row_indexer,col_indexer] = value instead\n",
      "\n",
      "See the caveats in the documentation: https://pandas.pydata.org/pandas-docs/stable/user_guide/indexing.html#returning-a-view-versus-a-copy\n",
      "  missing_lsoa_df.loc[:,'street_number2'] = missing_lsoa_df.loc[:,'street_number'].str.replace(r\"^.*(?=\\b[0-9]+$)\", \"\").str.replace(r\"[^\\d]\", \"\", regex = True)\n"
     ]
    },
    {
     "name": "stdout",
     "output_type": "stream",
     "text": [
      "i= 0  expand time,0.0 filter time0.0 make_dataframe_time 0.001\n",
      "thegreen\n",
      "highstreet\n",
      "northstreet\n",
      "E08000002\n"
     ]
    },
    {
     "name": "stderr",
     "output_type": "stream",
     "text": [
      "/tf/empty_homes_london/helper_functions.py:279: SettingWithCopyWarning: \n",
      "A value is trying to be set on a copy of a slice from a DataFrame.\n",
      "Try using .loc[row_indexer,col_indexer] = value instead\n",
      "\n",
      "See the caveats in the documentation: https://pandas.pydata.org/pandas-docs/stable/user_guide/indexing.html#returning-a-view-versus-a-copy\n",
      "  temp_multi['number_filter'] = filter_types\n",
      "<ipython-input-12-8bc6428979cb>:9: FutureWarning: The default value of regex will change from True to False in a future version.\n",
      "  missing_lsoa_df.loc[:,'street_number2'] = missing_lsoa_df.loc[:,'street_number'].str.replace(r\"^.*(?=\\b[0-9]+$)\", \"\").str.replace(r\"[^\\d]\", \"\", regex = True)\n",
      "<ipython-input-12-8bc6428979cb>:9: SettingWithCopyWarning: \n",
      "A value is trying to be set on a copy of a slice from a DataFrame.\n",
      "Try using .loc[row_indexer,col_indexer] = value instead\n",
      "\n",
      "See the caveats in the documentation: https://pandas.pydata.org/pandas-docs/stable/user_guide/indexing.html#returning-a-view-versus-a-copy\n",
      "  missing_lsoa_df.loc[:,'street_number2'] = missing_lsoa_df.loc[:,'street_number'].str.replace(r\"^.*(?=\\b[0-9]+$)\", \"\").str.replace(r\"[^\\d]\", \"\", regex = True)\n"
     ]
    },
    {
     "name": "stdout",
     "output_type": "stream",
     "text": [
      "i= 0  expand time,0.0 filter time0.0 make_dataframe_time 0.001\n",
      "marketstreet\n",
      "E09000022\n"
     ]
    },
    {
     "name": "stderr",
     "output_type": "stream",
     "text": [
      "/tf/empty_homes_london/helper_functions.py:279: SettingWithCopyWarning: \n",
      "A value is trying to be set on a copy of a slice from a DataFrame.\n",
      "Try using .loc[row_indexer,col_indexer] = value instead\n",
      "\n",
      "See the caveats in the documentation: https://pandas.pydata.org/pandas-docs/stable/user_guide/indexing.html#returning-a-view-versus-a-copy\n",
      "  temp_multi['number_filter'] = filter_types\n"
     ]
    },
    {
     "name": "stdout",
     "output_type": "stream",
     "text": [
      "i= 0  expand time,0.0 filter time0.0 make_dataframe_time 0.001\n",
      "brixtonroad\n",
      "atlanticroad\n",
      "stgeorgewharf,\n",
      "claphamparkroad\n",
      "streathamhighroad\n",
      "wandsworthroad\n",
      "lansdowneway\n",
      "brixtonhill\n",
      "newparkroad\n",
      "kenningtonroad\n",
      "stockwellroad\n",
      "stockwellavenue\n",
      "sunnyhillroad\n",
      "claphamroad\n",
      "southlambethroad\n",
      "pensburyplace\n"
     ]
    },
    {
     "name": "stderr",
     "output_type": "stream",
     "text": [
      "<ipython-input-12-8bc6428979cb>:35: SettingWithCopyWarning: \n",
      "A value is trying to be set on a copy of a slice from a DataFrame.\n",
      "Try using .loc[row_indexer,col_indexer] = value instead\n",
      "\n",
      "See the caveats in the documentation: https://pandas.pydata.org/pandas-docs/stable/user_guide/indexing.html#returning-a-view-versus-a-copy\n",
      "  missing_lsoa_road['lsoa11cd'] = [street_number_to_lsoa(temp_road, int(missing_lsoa_road.iloc[missing_lsoa_row]['street_number2']))\n"
     ]
    },
    {
     "name": "stdout",
     "output_type": "stream",
     "text": [
      "claphammanorstreet\n",
      "stalphonsuroad\n",
      "thurlowparkroad\n",
      "leighamcourtroad\n",
      "ellisonroad\n",
      "effraroad\n",
      "E09000010\n"
     ]
    },
    {
     "name": "stderr",
     "output_type": "stream",
     "text": [
      "<ipython-input-12-8bc6428979cb>:9: FutureWarning: The default value of regex will change from True to False in a future version.\n",
      "  missing_lsoa_df.loc[:,'street_number2'] = missing_lsoa_df.loc[:,'street_number'].str.replace(r\"^.*(?=\\b[0-9]+$)\", \"\").str.replace(r\"[^\\d]\", \"\", regex = True)\n",
      "<ipython-input-12-8bc6428979cb>:9: SettingWithCopyWarning: \n",
      "A value is trying to be set on a copy of a slice from a DataFrame.\n",
      "Try using .loc[row_indexer,col_indexer] = value instead\n",
      "\n",
      "See the caveats in the documentation: https://pandas.pydata.org/pandas-docs/stable/user_guide/indexing.html#returning-a-view-versus-a-copy\n",
      "  missing_lsoa_df.loc[:,'street_number2'] = missing_lsoa_df.loc[:,'street_number'].str.replace(r\"^.*(?=\\b[0-9]+$)\", \"\").str.replace(r\"[^\\d]\", \"\", regex = True)\n",
      "/tf/empty_homes_london/helper_functions.py:279: SettingWithCopyWarning: \n",
      "A value is trying to be set on a copy of a slice from a DataFrame.\n",
      "Try using .loc[row_indexer,col_indexer] = value instead\n",
      "\n",
      "See the caveats in the documentation: https://pandas.pydata.org/pandas-docs/stable/user_guide/indexing.html#returning-a-view-versus-a-copy\n",
      "  temp_multi['number_filter'] = filter_types\n",
      "<ipython-input-12-8bc6428979cb>:35: SettingWithCopyWarning: \n",
      "A value is trying to be set on a copy of a slice from a DataFrame.\n",
      "Try using .loc[row_indexer,col_indexer] = value instead\n",
      "\n",
      "See the caveats in the documentation: https://pandas.pydata.org/pandas-docs/stable/user_guide/indexing.html#returning-a-view-versus-a-copy\n",
      "  missing_lsoa_road['lsoa11cd'] = [street_number_to_lsoa(temp_road, int(missing_lsoa_road.iloc[missing_lsoa_row]['street_number2']))\n",
      "<ipython-input-12-8bc6428979cb>:9: FutureWarning: The default value of regex will change from True to False in a future version.\n",
      "  missing_lsoa_df.loc[:,'street_number2'] = missing_lsoa_df.loc[:,'street_number'].str.replace(r\"^.*(?=\\b[0-9]+$)\", \"\").str.replace(r\"[^\\d]\", \"\", regex = True)\n",
      "<ipython-input-12-8bc6428979cb>:9: SettingWithCopyWarning: \n",
      "A value is trying to be set on a copy of a slice from a DataFrame.\n",
      "Try using .loc[row_indexer,col_indexer] = value instead\n",
      "\n",
      "See the caveats in the documentation: https://pandas.pydata.org/pandas-docs/stable/user_guide/indexing.html#returning-a-view-versus-a-copy\n",
      "  missing_lsoa_df.loc[:,'street_number2'] = missing_lsoa_df.loc[:,'street_number'].str.replace(r\"^.*(?=\\b[0-9]+$)\", \"\").str.replace(r\"[^\\d]\", \"\", regex = True)\n"
     ]
    },
    {
     "name": "stdout",
     "output_type": "stream",
     "text": [
      "i= 0  expand time,0.0 filter time0.0 make_dataframe_time 0.001\n",
      "eastclose\n",
      "crewhill\n",
      "lancasterroad\n",
      "queenanneplace\n",
      "parkavenue\n",
      "greatcambridgeroad\n",
      "aldermanhill\n",
      "windmillhill\n",
      "E08000036\n"
     ]
    },
    {
     "name": "stderr",
     "output_type": "stream",
     "text": [
      "/tf/empty_homes_london/helper_functions.py:279: SettingWithCopyWarning: \n",
      "A value is trying to be set on a copy of a slice from a DataFrame.\n",
      "Try using .loc[row_indexer,col_indexer] = value instead\n",
      "\n",
      "See the caveats in the documentation: https://pandas.pydata.org/pandas-docs/stable/user_guide/indexing.html#returning-a-view-versus-a-copy\n",
      "  temp_multi['number_filter'] = filter_types\n",
      "<ipython-input-12-8bc6428979cb>:35: SettingWithCopyWarning: \n",
      "A value is trying to be set on a copy of a slice from a DataFrame.\n",
      "Try using .loc[row_indexer,col_indexer] = value instead\n",
      "\n",
      "See the caveats in the documentation: https://pandas.pydata.org/pandas-docs/stable/user_guide/indexing.html#returning-a-view-versus-a-copy\n",
      "  missing_lsoa_road['lsoa11cd'] = [street_number_to_lsoa(temp_road, int(missing_lsoa_road.iloc[missing_lsoa_row]['street_number2']))\n",
      "<ipython-input-12-8bc6428979cb>:9: FutureWarning: The default value of regex will change from True to False in a future version.\n",
      "  missing_lsoa_df.loc[:,'street_number2'] = missing_lsoa_df.loc[:,'street_number'].str.replace(r\"^.*(?=\\b[0-9]+$)\", \"\").str.replace(r\"[^\\d]\", \"\", regex = True)\n",
      "<ipython-input-12-8bc6428979cb>:9: SettingWithCopyWarning: \n",
      "A value is trying to be set on a copy of a slice from a DataFrame.\n",
      "Try using .loc[row_indexer,col_indexer] = value instead\n",
      "\n",
      "See the caveats in the documentation: https://pandas.pydata.org/pandas-docs/stable/user_guide/indexing.html#returning-a-view-versus-a-copy\n",
      "  missing_lsoa_df.loc[:,'street_number2'] = missing_lsoa_df.loc[:,'street_number'].str.replace(r\"^.*(?=\\b[0-9]+$)\", \"\").str.replace(r\"[^\\d]\", \"\", regex = True)\n"
     ]
    },
    {
     "name": "stdout",
     "output_type": "stream",
     "text": [
      "i= 0  expand time,0.0 filter time0.0 make_dataframe_time 0.001\n",
      "kirkgate\n",
      "westgate\n",
      "E06000052\n"
     ]
    },
    {
     "name": "stderr",
     "output_type": "stream",
     "text": [
      "/tf/empty_homes_london/helper_functions.py:279: SettingWithCopyWarning: \n",
      "A value is trying to be set on a copy of a slice from a DataFrame.\n",
      "Try using .loc[row_indexer,col_indexer] = value instead\n",
      "\n",
      "See the caveats in the documentation: https://pandas.pydata.org/pandas-docs/stable/user_guide/indexing.html#returning-a-view-versus-a-copy\n",
      "  temp_multi['number_filter'] = filter_types\n",
      "<ipython-input-12-8bc6428979cb>:35: SettingWithCopyWarning: \n",
      "A value is trying to be set on a copy of a slice from a DataFrame.\n",
      "Try using .loc[row_indexer,col_indexer] = value instead\n",
      "\n",
      "See the caveats in the documentation: https://pandas.pydata.org/pandas-docs/stable/user_guide/indexing.html#returning-a-view-versus-a-copy\n",
      "  missing_lsoa_road['lsoa11cd'] = [street_number_to_lsoa(temp_road, int(missing_lsoa_road.iloc[missing_lsoa_row]['street_number2']))\n",
      "<ipython-input-12-8bc6428979cb>:9: FutureWarning: The default value of regex will change from True to False in a future version.\n",
      "  missing_lsoa_df.loc[:,'street_number2'] = missing_lsoa_df.loc[:,'street_number'].str.replace(r\"^.*(?=\\b[0-9]+$)\", \"\").str.replace(r\"[^\\d]\", \"\", regex = True)\n",
      "<ipython-input-12-8bc6428979cb>:9: SettingWithCopyWarning: \n",
      "A value is trying to be set on a copy of a slice from a DataFrame.\n",
      "Try using .loc[row_indexer,col_indexer] = value instead\n",
      "\n",
      "See the caveats in the documentation: https://pandas.pydata.org/pandas-docs/stable/user_guide/indexing.html#returning-a-view-versus-a-copy\n",
      "  missing_lsoa_df.loc[:,'street_number2'] = missing_lsoa_df.loc[:,'street_number'].str.replace(r\"^.*(?=\\b[0-9]+$)\", \"\").str.replace(r\"[^\\d]\", \"\", regex = True)\n"
     ]
    },
    {
     "name": "stdout",
     "output_type": "stream",
     "text": [
      "i= 0  expand time,0.0 filter time0.0 make_dataframe_time 0.001\n",
      "pydarstreet\n",
      "coombelane\n",
      "kimberleyparkroad\n",
      "sawmilllane\n",
      "belleviewavenue\n",
      "henverroad\n",
      "woodlandpentirecrescent\n",
      "marketstreet\n",
      "E07000209\n"
     ]
    },
    {
     "name": "stderr",
     "output_type": "stream",
     "text": [
      "/tf/empty_homes_london/helper_functions.py:279: SettingWithCopyWarning: \n",
      "A value is trying to be set on a copy of a slice from a DataFrame.\n",
      "Try using .loc[row_indexer,col_indexer] = value instead\n",
      "\n",
      "See the caveats in the documentation: https://pandas.pydata.org/pandas-docs/stable/user_guide/indexing.html#returning-a-view-versus-a-copy\n",
      "  temp_multi['number_filter'] = filter_types\n",
      "<ipython-input-12-8bc6428979cb>:35: SettingWithCopyWarning: \n",
      "A value is trying to be set on a copy of a slice from a DataFrame.\n",
      "Try using .loc[row_indexer,col_indexer] = value instead\n",
      "\n",
      "See the caveats in the documentation: https://pandas.pydata.org/pandas-docs/stable/user_guide/indexing.html#returning-a-view-versus-a-copy\n",
      "  missing_lsoa_road['lsoa11cd'] = [street_number_to_lsoa(temp_road, int(missing_lsoa_road.iloc[missing_lsoa_row]['street_number2']))\n",
      "<ipython-input-12-8bc6428979cb>:9: FutureWarning: The default value of regex will change from True to False in a future version.\n",
      "  missing_lsoa_df.loc[:,'street_number2'] = missing_lsoa_df.loc[:,'street_number'].str.replace(r\"^.*(?=\\b[0-9]+$)\", \"\").str.replace(r\"[^\\d]\", \"\", regex = True)\n",
      "<ipython-input-12-8bc6428979cb>:9: SettingWithCopyWarning: \n",
      "A value is trying to be set on a copy of a slice from a DataFrame.\n",
      "Try using .loc[row_indexer,col_indexer] = value instead\n",
      "\n",
      "See the caveats in the documentation: https://pandas.pydata.org/pandas-docs/stable/user_guide/indexing.html#returning-a-view-versus-a-copy\n",
      "  missing_lsoa_df.loc[:,'street_number2'] = missing_lsoa_df.loc[:,'street_number'].str.replace(r\"^.*(?=\\b[0-9]+$)\", \"\").str.replace(r\"[^\\d]\", \"\", regex = True)\n"
     ]
    },
    {
     "name": "stdout",
     "output_type": "stream",
     "text": [
      "i= 0  expand time,0.0 filter time0.0 make_dataframe_time 0.001\n",
      "highstreet\n",
      "moorfieldroad\n",
      "W06000018\n",
      "stannegardens\n",
      "coed-y-brain\n",
      "charlestreet\n",
      "W06000015\n"
     ]
    },
    {
     "name": "stderr",
     "output_type": "stream",
     "text": [
      "<ipython-input-12-8bc6428979cb>:35: SettingWithCopyWarning: \n",
      "A value is trying to be set on a copy of a slice from a DataFrame.\n",
      "Try using .loc[row_indexer,col_indexer] = value instead\n",
      "\n",
      "See the caveats in the documentation: https://pandas.pydata.org/pandas-docs/stable/user_guide/indexing.html#returning-a-view-versus-a-copy\n",
      "  missing_lsoa_road['lsoa11cd'] = [street_number_to_lsoa(temp_road, int(missing_lsoa_road.iloc[missing_lsoa_row]['street_number2']))\n",
      "<ipython-input-12-8bc6428979cb>:9: FutureWarning: The default value of regex will change from True to False in a future version.\n",
      "  missing_lsoa_df.loc[:,'street_number2'] = missing_lsoa_df.loc[:,'street_number'].str.replace(r\"^.*(?=\\b[0-9]+$)\", \"\").str.replace(r\"[^\\d]\", \"\", regex = True)\n",
      "<ipython-input-12-8bc6428979cb>:9: SettingWithCopyWarning: \n",
      "A value is trying to be set on a copy of a slice from a DataFrame.\n",
      "Try using .loc[row_indexer,col_indexer] = value instead\n",
      "\n",
      "See the caveats in the documentation: https://pandas.pydata.org/pandas-docs/stable/user_guide/indexing.html#returning-a-view-versus-a-copy\n",
      "  missing_lsoa_df.loc[:,'street_number2'] = missing_lsoa_df.loc[:,'street_number'].str.replace(r\"^.*(?=\\b[0-9]+$)\", \"\").str.replace(r\"[^\\d]\", \"\", regex = True)\n",
      "/tf/empty_homes_london/helper_functions.py:279: SettingWithCopyWarning: \n",
      "A value is trying to be set on a copy of a slice from a DataFrame.\n",
      "Try using .loc[row_indexer,col_indexer] = value instead\n",
      "\n",
      "See the caveats in the documentation: https://pandas.pydata.org/pandas-docs/stable/user_guide/indexing.html#returning-a-view-versus-a-copy\n",
      "  temp_multi['number_filter'] = filter_types\n"
     ]
    },
    {
     "name": "stdout",
     "output_type": "stream",
     "text": [
      "i= 0  expand time,0.0 filter time0.0 make_dataframe_time 0.001\n",
      "cityroad\n"
     ]
    },
    {
     "name": "stderr",
     "output_type": "stream",
     "text": [
      "<ipython-input-12-8bc6428979cb>:35: SettingWithCopyWarning: \n",
      "A value is trying to be set on a copy of a slice from a DataFrame.\n",
      "Try using .loc[row_indexer,col_indexer] = value instead\n",
      "\n",
      "See the caveats in the documentation: https://pandas.pydata.org/pandas-docs/stable/user_guide/indexing.html#returning-a-view-versus-a-copy\n",
      "  missing_lsoa_road['lsoa11cd'] = [street_number_to_lsoa(temp_road, int(missing_lsoa_road.iloc[missing_lsoa_row]['street_number2']))\n",
      "<ipython-input-12-8bc6428979cb>:9: FutureWarning: The default value of regex will change from True to False in a future version.\n",
      "  missing_lsoa_df.loc[:,'street_number2'] = missing_lsoa_df.loc[:,'street_number'].str.replace(r\"^.*(?=\\b[0-9]+$)\", \"\").str.replace(r\"[^\\d]\", \"\", regex = True)\n",
      "<ipython-input-12-8bc6428979cb>:9: SettingWithCopyWarning: \n",
      "A value is trying to be set on a copy of a slice from a DataFrame.\n",
      "Try using .loc[row_indexer,col_indexer] = value instead\n",
      "\n",
      "See the caveats in the documentation: https://pandas.pydata.org/pandas-docs/stable/user_guide/indexing.html#returning-a-view-versus-a-copy\n",
      "  missing_lsoa_df.loc[:,'street_number2'] = missing_lsoa_df.loc[:,'street_number'].str.replace(r\"^.*(?=\\b[0-9]+$)\", \"\").str.replace(r\"[^\\d]\", \"\", regex = True)\n"
     ]
    },
    {
     "name": "stdout",
     "output_type": "stream",
     "text": [
      "penllinestreet\n",
      "bedfordstreet\n",
      "cowbridgeroadeast\n",
      "stmarystreet\n",
      "queenstreet\n",
      "westbutestreet\n",
      "hollybushroad\n",
      "watkiway\n",
      "cathedralroad\n",
      "theparade,\n",
      "walmerroad\n",
      "E07000077\n"
     ]
    },
    {
     "name": "stderr",
     "output_type": "stream",
     "text": [
      "/tf/empty_homes_london/helper_functions.py:279: SettingWithCopyWarning: \n",
      "A value is trying to be set on a copy of a slice from a DataFrame.\n",
      "Try using .loc[row_indexer,col_indexer] = value instead\n",
      "\n",
      "See the caveats in the documentation: https://pandas.pydata.org/pandas-docs/stable/user_guide/indexing.html#returning-a-view-versus-a-copy\n",
      "  temp_multi['number_filter'] = filter_types\n",
      "<ipython-input-12-8bc6428979cb>:9: FutureWarning: The default value of regex will change from True to False in a future version.\n",
      "  missing_lsoa_df.loc[:,'street_number2'] = missing_lsoa_df.loc[:,'street_number'].str.replace(r\"^.*(?=\\b[0-9]+$)\", \"\").str.replace(r\"[^\\d]\", \"\", regex = True)\n",
      "<ipython-input-12-8bc6428979cb>:9: SettingWithCopyWarning: \n",
      "A value is trying to be set on a copy of a slice from a DataFrame.\n",
      "Try using .loc[row_indexer,col_indexer] = value instead\n",
      "\n",
      "See the caveats in the documentation: https://pandas.pydata.org/pandas-docs/stable/user_guide/indexing.html#returning-a-view-versus-a-copy\n",
      "  missing_lsoa_df.loc[:,'street_number2'] = missing_lsoa_df.loc[:,'street_number'].str.replace(r\"^.*(?=\\b[0-9]+$)\", \"\").str.replace(r\"[^\\d]\", \"\", regex = True)\n"
     ]
    },
    {
     "name": "stdout",
     "output_type": "stream",
     "text": [
      "i= 0  expand time,0.0 filter time0.0 make_dataframe_time 0.001\n",
      "highstreet\n",
      "E09000009\n"
     ]
    },
    {
     "name": "stderr",
     "output_type": "stream",
     "text": [
      "/tf/empty_homes_london/helper_functions.py:279: SettingWithCopyWarning: \n",
      "A value is trying to be set on a copy of a slice from a DataFrame.\n",
      "Try using .loc[row_indexer,col_indexer] = value instead\n",
      "\n",
      "See the caveats in the documentation: https://pandas.pydata.org/pandas-docs/stable/user_guide/indexing.html#returning-a-view-versus-a-copy\n",
      "  temp_multi['number_filter'] = filter_types\n"
     ]
    },
    {
     "name": "stdout",
     "output_type": "stream",
     "text": [
      "i= 0  expand time,0.0 filter time0.0 make_dataframe_time 0.001\n",
      "thebroadway\n",
      "uxbridgeroad\n",
      "parkroyalroad\n",
      "southroad\n",
      "highstreet\n",
      "creffieldroad\n",
      "julianavenue\n",
      "broadway\n",
      "sandringhammews\n",
      "theavenue\n",
      "herefordroad\n",
      "thegrove\n",
      "cravenavenue\n",
      "creswickroad\n",
      "thegreen\n",
      "argyleroad\n",
      "bostonroad\n",
      "actonhighstreet\n",
      "gatcombemews\n",
      "E08000031\n"
     ]
    },
    {
     "name": "stderr",
     "output_type": "stream",
     "text": [
      "<ipython-input-12-8bc6428979cb>:35: SettingWithCopyWarning: \n",
      "A value is trying to be set on a copy of a slice from a DataFrame.\n",
      "Try using .loc[row_indexer,col_indexer] = value instead\n",
      "\n",
      "See the caveats in the documentation: https://pandas.pydata.org/pandas-docs/stable/user_guide/indexing.html#returning-a-view-versus-a-copy\n",
      "  missing_lsoa_road['lsoa11cd'] = [street_number_to_lsoa(temp_road, int(missing_lsoa_road.iloc[missing_lsoa_row]['street_number2']))\n",
      "<ipython-input-12-8bc6428979cb>:9: FutureWarning: The default value of regex will change from True to False in a future version.\n",
      "  missing_lsoa_df.loc[:,'street_number2'] = missing_lsoa_df.loc[:,'street_number'].str.replace(r\"^.*(?=\\b[0-9]+$)\", \"\").str.replace(r\"[^\\d]\", \"\", regex = True)\n",
      "<ipython-input-12-8bc6428979cb>:9: SettingWithCopyWarning: \n",
      "A value is trying to be set on a copy of a slice from a DataFrame.\n",
      "Try using .loc[row_indexer,col_indexer] = value instead\n",
      "\n",
      "See the caveats in the documentation: https://pandas.pydata.org/pandas-docs/stable/user_guide/indexing.html#returning-a-view-versus-a-copy\n",
      "  missing_lsoa_df.loc[:,'street_number2'] = missing_lsoa_df.loc[:,'street_number'].str.replace(r\"^.*(?=\\b[0-9]+$)\", \"\").str.replace(r\"[^\\d]\", \"\", regex = True)\n",
      "/tf/empty_homes_london/helper_functions.py:279: SettingWithCopyWarning: \n",
      "A value is trying to be set on a copy of a slice from a DataFrame.\n",
      "Try using .loc[row_indexer,col_indexer] = value instead\n",
      "\n",
      "See the caveats in the documentation: https://pandas.pydata.org/pandas-docs/stable/user_guide/indexing.html#returning-a-view-versus-a-copy\n",
      "  temp_multi['number_filter'] = filter_types\n",
      "<ipython-input-12-8bc6428979cb>:35: SettingWithCopyWarning: \n",
      "A value is trying to be set on a copy of a slice from a DataFrame.\n",
      "Try using .loc[row_indexer,col_indexer] = value instead\n",
      "\n",
      "See the caveats in the documentation: https://pandas.pydata.org/pandas-docs/stable/user_guide/indexing.html#returning-a-view-versus-a-copy\n",
      "  missing_lsoa_road['lsoa11cd'] = [street_number_to_lsoa(temp_road, int(missing_lsoa_road.iloc[missing_lsoa_row]['street_number2']))\n",
      "<ipython-input-12-8bc6428979cb>:9: FutureWarning: The default value of regex will change from True to False in a future version.\n",
      "  missing_lsoa_df.loc[:,'street_number2'] = missing_lsoa_df.loc[:,'street_number'].str.replace(r\"^.*(?=\\b[0-9]+$)\", \"\").str.replace(r\"[^\\d]\", \"\", regex = True)\n",
      "<ipython-input-12-8bc6428979cb>:9: SettingWithCopyWarning: \n",
      "A value is trying to be set on a copy of a slice from a DataFrame.\n",
      "Try using .loc[row_indexer,col_indexer] = value instead\n",
      "\n",
      "See the caveats in the documentation: https://pandas.pydata.org/pandas-docs/stable/user_guide/indexing.html#returning-a-view-versus-a-copy\n",
      "  missing_lsoa_df.loc[:,'street_number2'] = missing_lsoa_df.loc[:,'street_number'].str.replace(r\"^.*(?=\\b[0-9]+$)\", \"\").str.replace(r\"[^\\d]\", \"\", regex = True)\n"
     ]
    },
    {
     "name": "stdout",
     "output_type": "stream",
     "text": [
      "i= 0  expand time,0.0 filter time0.0 make_dataframe_time 0.001\n",
      "lichfieldstreet\n",
      "princestreet\n",
      "unionstreet\n",
      "E07000242\n",
      "tewingrove\n",
      "E07000179\n"
     ]
    },
    {
     "name": "stderr",
     "output_type": "stream",
     "text": [
      "<ipython-input-12-8bc6428979cb>:9: FutureWarning: The default value of regex will change from True to False in a future version.\n",
      "  missing_lsoa_df.loc[:,'street_number2'] = missing_lsoa_df.loc[:,'street_number'].str.replace(r\"^.*(?=\\b[0-9]+$)\", \"\").str.replace(r\"[^\\d]\", \"\", regex = True)\n",
      "<ipython-input-12-8bc6428979cb>:9: SettingWithCopyWarning: \n",
      "A value is trying to be set on a copy of a slice from a DataFrame.\n",
      "Try using .loc[row_indexer,col_indexer] = value instead\n",
      "\n",
      "See the caveats in the documentation: https://pandas.pydata.org/pandas-docs/stable/user_guide/indexing.html#returning-a-view-versus-a-copy\n",
      "  missing_lsoa_df.loc[:,'street_number2'] = missing_lsoa_df.loc[:,'street_number'].str.replace(r\"^.*(?=\\b[0-9]+$)\", \"\").str.replace(r\"[^\\d]\", \"\", regex = True)\n",
      "/tf/empty_homes_london/helper_functions.py:279: SettingWithCopyWarning: \n",
      "A value is trying to be set on a copy of a slice from a DataFrame.\n",
      "Try using .loc[row_indexer,col_indexer] = value instead\n",
      "\n",
      "See the caveats in the documentation: https://pandas.pydata.org/pandas-docs/stable/user_guide/indexing.html#returning-a-view-versus-a-copy\n",
      "  temp_multi['number_filter'] = filter_types\n",
      "<ipython-input-12-8bc6428979cb>:9: FutureWarning: The default value of regex will change from True to False in a future version.\n",
      "  missing_lsoa_df.loc[:,'street_number2'] = missing_lsoa_df.loc[:,'street_number'].str.replace(r\"^.*(?=\\b[0-9]+$)\", \"\").str.replace(r\"[^\\d]\", \"\", regex = True)\n",
      "<ipython-input-12-8bc6428979cb>:9: SettingWithCopyWarning: \n",
      "A value is trying to be set on a copy of a slice from a DataFrame.\n",
      "Try using .loc[row_indexer,col_indexer] = value instead\n",
      "\n",
      "See the caveats in the documentation: https://pandas.pydata.org/pandas-docs/stable/user_guide/indexing.html#returning-a-view-versus-a-copy\n",
      "  missing_lsoa_df.loc[:,'street_number2'] = missing_lsoa_df.loc[:,'street_number'].str.replace(r\"^.*(?=\\b[0-9]+$)\", \"\").str.replace(r\"[^\\d]\", \"\", regex = True)\n"
     ]
    },
    {
     "name": "stdout",
     "output_type": "stream",
     "text": [
      "i= 0  expand time,0.0 filter time0.0 make_dataframe_time 0.001\n",
      "marketplace\n",
      "E07000239\n"
     ]
    },
    {
     "name": "stderr",
     "output_type": "stream",
     "text": [
      "/tf/empty_homes_london/helper_functions.py:279: SettingWithCopyWarning: \n",
      "A value is trying to be set on a copy of a slice from a DataFrame.\n",
      "Try using .loc[row_indexer,col_indexer] = value instead\n",
      "\n",
      "See the caveats in the documentation: https://pandas.pydata.org/pandas-docs/stable/user_guide/indexing.html#returning-a-view-versus-a-copy\n",
      "  temp_multi['number_filter'] = filter_types\n",
      "<ipython-input-12-8bc6428979cb>:9: FutureWarning: The default value of regex will change from True to False in a future version.\n",
      "  missing_lsoa_df.loc[:,'street_number2'] = missing_lsoa_df.loc[:,'street_number'].str.replace(r\"^.*(?=\\b[0-9]+$)\", \"\").str.replace(r\"[^\\d]\", \"\", regex = True)\n",
      "<ipython-input-12-8bc6428979cb>:9: SettingWithCopyWarning: \n",
      "A value is trying to be set on a copy of a slice from a DataFrame.\n",
      "Try using .loc[row_indexer,col_indexer] = value instead\n",
      "\n",
      "See the caveats in the documentation: https://pandas.pydata.org/pandas-docs/stable/user_guide/indexing.html#returning-a-view-versus-a-copy\n",
      "  missing_lsoa_df.loc[:,'street_number2'] = missing_lsoa_df.loc[:,'street_number'].str.replace(r\"^.*(?=\\b[0-9]+$)\", \"\").str.replace(r\"[^\\d]\", \"\", regex = True)\n"
     ]
    },
    {
     "name": "stdout",
     "output_type": "stream",
     "text": [
      "i= 0  expand time,0.0 filter time0.0 make_dataframe_time 0.001\n",
      "stourportroad\n",
      "E07000123\n"
     ]
    },
    {
     "name": "stderr",
     "output_type": "stream",
     "text": [
      "/tf/empty_homes_london/helper_functions.py:279: SettingWithCopyWarning: \n",
      "A value is trying to be set on a copy of a slice from a DataFrame.\n",
      "Try using .loc[row_indexer,col_indexer] = value instead\n",
      "\n",
      "See the caveats in the documentation: https://pandas.pydata.org/pandas-docs/stable/user_guide/indexing.html#returning-a-view-versus-a-copy\n",
      "  temp_multi['number_filter'] = filter_types\n",
      "<ipython-input-12-8bc6428979cb>:35: SettingWithCopyWarning: \n",
      "A value is trying to be set on a copy of a slice from a DataFrame.\n",
      "Try using .loc[row_indexer,col_indexer] = value instead\n",
      "\n",
      "See the caveats in the documentation: https://pandas.pydata.org/pandas-docs/stable/user_guide/indexing.html#returning-a-view-versus-a-copy\n",
      "  missing_lsoa_road['lsoa11cd'] = [street_number_to_lsoa(temp_road, int(missing_lsoa_road.iloc[missing_lsoa_row]['street_number2']))\n",
      "<ipython-input-12-8bc6428979cb>:9: FutureWarning: The default value of regex will change from True to False in a future version.\n",
      "  missing_lsoa_df.loc[:,'street_number2'] = missing_lsoa_df.loc[:,'street_number'].str.replace(r\"^.*(?=\\b[0-9]+$)\", \"\").str.replace(r\"[^\\d]\", \"\", regex = True)\n",
      "<ipython-input-12-8bc6428979cb>:9: SettingWithCopyWarning: \n",
      "A value is trying to be set on a copy of a slice from a DataFrame.\n",
      "Try using .loc[row_indexer,col_indexer] = value instead\n",
      "\n",
      "See the caveats in the documentation: https://pandas.pydata.org/pandas-docs/stable/user_guide/indexing.html#returning-a-view-versus-a-copy\n",
      "  missing_lsoa_df.loc[:,'street_number2'] = missing_lsoa_df.loc[:,'street_number'].str.replace(r\"^.*(?=\\b[0-9]+$)\", \"\").str.replace(r\"[^\\d]\", \"\", regex = True)\n"
     ]
    },
    {
     "name": "stdout",
     "output_type": "stream",
     "text": [
      "i= 0  expand time,0.0 filter time0.0 make_dataframe_time 0.0\n",
      "deepdaleroad\n",
      "fishergate\n",
      "guildhallstreet\n",
      "charnleystreet\n",
      "bostockstreet\n",
      "longridgeroad\n",
      "E07000125\n"
     ]
    },
    {
     "name": "stderr",
     "output_type": "stream",
     "text": [
      "/tf/empty_homes_london/helper_functions.py:279: SettingWithCopyWarning: \n",
      "A value is trying to be set on a copy of a slice from a DataFrame.\n",
      "Try using .loc[row_indexer,col_indexer] = value instead\n",
      "\n",
      "See the caveats in the documentation: https://pandas.pydata.org/pandas-docs/stable/user_guide/indexing.html#returning-a-view-versus-a-copy\n",
      "  temp_multi['number_filter'] = filter_types\n",
      "<ipython-input-12-8bc6428979cb>:35: SettingWithCopyWarning: \n",
      "A value is trying to be set on a copy of a slice from a DataFrame.\n",
      "Try using .loc[row_indexer,col_indexer] = value instead\n",
      "\n",
      "See the caveats in the documentation: https://pandas.pydata.org/pandas-docs/stable/user_guide/indexing.html#returning-a-view-versus-a-copy\n",
      "  missing_lsoa_road['lsoa11cd'] = [street_number_to_lsoa(temp_road, int(missing_lsoa_road.iloc[missing_lsoa_row]['street_number2']))\n",
      "<ipython-input-12-8bc6428979cb>:9: FutureWarning: The default value of regex will change from True to False in a future version.\n",
      "  missing_lsoa_df.loc[:,'street_number2'] = missing_lsoa_df.loc[:,'street_number'].str.replace(r\"^.*(?=\\b[0-9]+$)\", \"\").str.replace(r\"[^\\d]\", \"\", regex = True)\n",
      "<ipython-input-12-8bc6428979cb>:9: SettingWithCopyWarning: \n",
      "A value is trying to be set on a copy of a slice from a DataFrame.\n",
      "Try using .loc[row_indexer,col_indexer] = value instead\n",
      "\n",
      "See the caveats in the documentation: https://pandas.pydata.org/pandas-docs/stable/user_guide/indexing.html#returning-a-view-versus-a-copy\n",
      "  missing_lsoa_df.loc[:,'street_number2'] = missing_lsoa_df.loc[:,'street_number'].str.replace(r\"^.*(?=\\b[0-9]+$)\", \"\").str.replace(r\"[^\\d]\", \"\", regex = True)\n"
     ]
    },
    {
     "name": "stdout",
     "output_type": "stream",
     "text": [
      "i= 0  expand time,0.0 filter time0.0 make_dataframe_time 0.001\n",
      "mayfairclose\n",
      "burnleyroadeast\n",
      "E07000207\n"
     ]
    },
    {
     "name": "stderr",
     "output_type": "stream",
     "text": [
      "/tf/empty_homes_london/helper_functions.py:279: SettingWithCopyWarning: \n",
      "A value is trying to be set on a copy of a slice from a DataFrame.\n",
      "Try using .loc[row_indexer,col_indexer] = value instead\n",
      "\n",
      "See the caveats in the documentation: https://pandas.pydata.org/pandas-docs/stable/user_guide/indexing.html#returning-a-view-versus-a-copy\n",
      "  temp_multi['number_filter'] = filter_types\n",
      "<ipython-input-12-8bc6428979cb>:35: SettingWithCopyWarning: \n",
      "A value is trying to be set on a copy of a slice from a DataFrame.\n",
      "Try using .loc[row_indexer,col_indexer] = value instead\n",
      "\n",
      "See the caveats in the documentation: https://pandas.pydata.org/pandas-docs/stable/user_guide/indexing.html#returning-a-view-versus-a-copy\n",
      "  missing_lsoa_road['lsoa11cd'] = [street_number_to_lsoa(temp_road, int(missing_lsoa_road.iloc[missing_lsoa_row]['street_number2']))\n"
     ]
    },
    {
     "name": "stdout",
     "output_type": "stream",
     "text": [
      "i= 0  expand time,0.0 filter time0.0 make_dataframe_time 0.001\n",
      "highstreet\n",
      "bakerstreet\n",
      "hershamroad\n",
      "rydenroad\n",
      "oakdeneparade,\n",
      "E08000037\n"
     ]
    },
    {
     "name": "stderr",
     "output_type": "stream",
     "text": [
      "<ipython-input-12-8bc6428979cb>:9: FutureWarning: The default value of regex will change from True to False in a future version.\n",
      "  missing_lsoa_df.loc[:,'street_number2'] = missing_lsoa_df.loc[:,'street_number'].str.replace(r\"^.*(?=\\b[0-9]+$)\", \"\").str.replace(r\"[^\\d]\", \"\", regex = True)\n",
      "<ipython-input-12-8bc6428979cb>:9: SettingWithCopyWarning: \n",
      "A value is trying to be set on a copy of a slice from a DataFrame.\n",
      "Try using .loc[row_indexer,col_indexer] = value instead\n",
      "\n",
      "See the caveats in the documentation: https://pandas.pydata.org/pandas-docs/stable/user_guide/indexing.html#returning-a-view-versus-a-copy\n",
      "  missing_lsoa_df.loc[:,'street_number2'] = missing_lsoa_df.loc[:,'street_number'].str.replace(r\"^.*(?=\\b[0-9]+$)\", \"\").str.replace(r\"[^\\d]\", \"\", regex = True)\n",
      "/tf/empty_homes_london/helper_functions.py:279: SettingWithCopyWarning: \n",
      "A value is trying to be set on a copy of a slice from a DataFrame.\n",
      "Try using .loc[row_indexer,col_indexer] = value instead\n",
      "\n",
      "See the caveats in the documentation: https://pandas.pydata.org/pandas-docs/stable/user_guide/indexing.html#returning-a-view-versus-a-copy\n",
      "  temp_multi['number_filter'] = filter_types\n",
      "<ipython-input-12-8bc6428979cb>:35: SettingWithCopyWarning: \n",
      "A value is trying to be set on a copy of a slice from a DataFrame.\n",
      "Try using .loc[row_indexer,col_indexer] = value instead\n",
      "\n",
      "See the caveats in the documentation: https://pandas.pydata.org/pandas-docs/stable/user_guide/indexing.html#returning-a-view-versus-a-copy\n",
      "  missing_lsoa_road['lsoa11cd'] = [street_number_to_lsoa(temp_road, int(missing_lsoa_road.iloc[missing_lsoa_row]['street_number2']))\n",
      "<ipython-input-12-8bc6428979cb>:9: FutureWarning: The default value of regex will change from True to False in a future version.\n",
      "  missing_lsoa_df.loc[:,'street_number2'] = missing_lsoa_df.loc[:,'street_number'].str.replace(r\"^.*(?=\\b[0-9]+$)\", \"\").str.replace(r\"[^\\d]\", \"\", regex = True)\n",
      "<ipython-input-12-8bc6428979cb>:9: SettingWithCopyWarning: \n",
      "A value is trying to be set on a copy of a slice from a DataFrame.\n",
      "Try using .loc[row_indexer,col_indexer] = value instead\n",
      "\n",
      "See the caveats in the documentation: https://pandas.pydata.org/pandas-docs/stable/user_guide/indexing.html#returning-a-view-versus-a-copy\n",
      "  missing_lsoa_df.loc[:,'street_number2'] = missing_lsoa_df.loc[:,'street_number'].str.replace(r\"^.*(?=\\b[0-9]+$)\", \"\").str.replace(r\"[^\\d]\", \"\", regex = True)\n"
     ]
    },
    {
     "name": "stdout",
     "output_type": "stream",
     "text": [
      "i= 0  expand time,0.0 filter time0.0 make_dataframe_time 0.001\n",
      "whitehallroad\n",
      "durhamroad\n",
      "bishoppark\n",
      "E08000025\n"
     ]
    },
    {
     "name": "stderr",
     "output_type": "stream",
     "text": [
      "/tf/empty_homes_london/helper_functions.py:279: SettingWithCopyWarning: \n",
      "A value is trying to be set on a copy of a slice from a DataFrame.\n",
      "Try using .loc[row_indexer,col_indexer] = value instead\n",
      "\n",
      "See the caveats in the documentation: https://pandas.pydata.org/pandas-docs/stable/user_guide/indexing.html#returning-a-view-versus-a-copy\n",
      "  temp_multi['number_filter'] = filter_types\n"
     ]
    },
    {
     "name": "stdout",
     "output_type": "stream",
     "text": [
      "i= 0  expand time,0.0 filter time0.0 make_dataframe_time 0.001\n",
      "alcesterroad\n",
      "kingroad\n",
      "allcockstreet\n",
      "exchangesquare\n",
      "woodridgeroad\n",
      "colmorerow\n",
      "newhallstreet\n",
      "ermingtoncrescent\n",
      "constitutionhill\n",
      "corporationstreet\n",
      "islingtonrow\n",
      "moorgreenlane\n",
      "highstreet\n",
      "brindleyplace\n"
     ]
    },
    {
     "name": "stderr",
     "output_type": "stream",
     "text": [
      "<ipython-input-12-8bc6428979cb>:35: SettingWithCopyWarning: \n",
      "A value is trying to be set on a copy of a slice from a DataFrame.\n",
      "Try using .loc[row_indexer,col_indexer] = value instead\n",
      "\n",
      "See the caveats in the documentation: https://pandas.pydata.org/pandas-docs/stable/user_guide/indexing.html#returning-a-view-versus-a-copy\n",
      "  missing_lsoa_road['lsoa11cd'] = [street_number_to_lsoa(temp_road, int(missing_lsoa_road.iloc[missing_lsoa_row]['street_number2']))\n"
     ]
    },
    {
     "name": "stdout",
     "output_type": "stream",
     "text": [
      "nurseryroad\n",
      "hagleyroad\n",
      "coventryroad\n",
      "waterlooroad\n",
      "frederickroad\n",
      "bournvillegardens\n",
      "clapgatelane\n",
      "hurststreet\n",
      "stirlingroad\n",
      "allisonstreet\n",
      "sherlockstreet\n",
      "broadstreet\n",
      "coxstreet\n",
      "prioryqueensway\n",
      "E07000216\n"
     ]
    },
    {
     "name": "stderr",
     "output_type": "stream",
     "text": [
      "<ipython-input-12-8bc6428979cb>:9: FutureWarning: The default value of regex will change from True to False in a future version.\n",
      "  missing_lsoa_df.loc[:,'street_number2'] = missing_lsoa_df.loc[:,'street_number'].str.replace(r\"^.*(?=\\b[0-9]+$)\", \"\").str.replace(r\"[^\\d]\", \"\", regex = True)\n",
      "<ipython-input-12-8bc6428979cb>:9: SettingWithCopyWarning: \n",
      "A value is trying to be set on a copy of a slice from a DataFrame.\n",
      "Try using .loc[row_indexer,col_indexer] = value instead\n",
      "\n",
      "See the caveats in the documentation: https://pandas.pydata.org/pandas-docs/stable/user_guide/indexing.html#returning-a-view-versus-a-copy\n",
      "  missing_lsoa_df.loc[:,'street_number2'] = missing_lsoa_df.loc[:,'street_number'].str.replace(r\"^.*(?=\\b[0-9]+$)\", \"\").str.replace(r\"[^\\d]\", \"\", regex = True)\n",
      "/tf/empty_homes_london/helper_functions.py:279: SettingWithCopyWarning: \n",
      "A value is trying to be set on a copy of a slice from a DataFrame.\n",
      "Try using .loc[row_indexer,col_indexer] = value instead\n",
      "\n",
      "See the caveats in the documentation: https://pandas.pydata.org/pandas-docs/stable/user_guide/indexing.html#returning-a-view-versus-a-copy\n",
      "  temp_multi['number_filter'] = filter_types\n",
      "<ipython-input-12-8bc6428979cb>:35: SettingWithCopyWarning: \n",
      "A value is trying to be set on a copy of a slice from a DataFrame.\n",
      "Try using .loc[row_indexer,col_indexer] = value instead\n",
      "\n",
      "See the caveats in the documentation: https://pandas.pydata.org/pandas-docs/stable/user_guide/indexing.html#returning-a-view-versus-a-copy\n",
      "  missing_lsoa_road['lsoa11cd'] = [street_number_to_lsoa(temp_road, int(missing_lsoa_road.iloc[missing_lsoa_row]['street_number2']))\n",
      "<ipython-input-12-8bc6428979cb>:9: FutureWarning: The default value of regex will change from True to False in a future version.\n",
      "  missing_lsoa_df.loc[:,'street_number2'] = missing_lsoa_df.loc[:,'street_number'].str.replace(r\"^.*(?=\\b[0-9]+$)\", \"\").str.replace(r\"[^\\d]\", \"\", regex = True)\n",
      "<ipython-input-12-8bc6428979cb>:9: SettingWithCopyWarning: \n",
      "A value is trying to be set on a copy of a slice from a DataFrame.\n",
      "Try using .loc[row_indexer,col_indexer] = value instead\n",
      "\n",
      "See the caveats in the documentation: https://pandas.pydata.org/pandas-docs/stable/user_guide/indexing.html#returning-a-view-versus-a-copy\n",
      "  missing_lsoa_df.loc[:,'street_number2'] = missing_lsoa_df.loc[:,'street_number'].str.replace(r\"^.*(?=\\b[0-9]+$)\", \"\").str.replace(r\"[^\\d]\", \"\", regex = True)\n"
     ]
    },
    {
     "name": "stdout",
     "output_type": "stream",
     "text": [
      "i= 0  expand time,0.0 filter time0.0 make_dataframe_time 0.001\n",
      "lambyard\n",
      "weststreet\n",
      "highstreet\n",
      "downingstreet\n",
      "E06000054\n"
     ]
    },
    {
     "name": "stderr",
     "output_type": "stream",
     "text": [
      "/tf/empty_homes_london/helper_functions.py:279: SettingWithCopyWarning: \n",
      "A value is trying to be set on a copy of a slice from a DataFrame.\n",
      "Try using .loc[row_indexer,col_indexer] = value instead\n",
      "\n",
      "See the caveats in the documentation: https://pandas.pydata.org/pandas-docs/stable/user_guide/indexing.html#returning-a-view-versus-a-copy\n",
      "  temp_multi['number_filter'] = filter_types\n"
     ]
    },
    {
     "name": "stdout",
     "output_type": "stream",
     "text": [
      "i= 0  expand time,0.0 filter time0.0 make_dataframe_time 0.001\n",
      "freestoneway\n"
     ]
    },
    {
     "name": "stderr",
     "output_type": "stream",
     "text": [
      "<ipython-input-12-8bc6428979cb>:35: SettingWithCopyWarning: \n",
      "A value is trying to be set on a copy of a slice from a DataFrame.\n",
      "Try using .loc[row_indexer,col_indexer] = value instead\n",
      "\n",
      "See the caveats in the documentation: https://pandas.pydata.org/pandas-docs/stable/user_guide/indexing.html#returning-a-view-versus-a-copy\n",
      "  missing_lsoa_road['lsoa11cd'] = [street_number_to_lsoa(temp_road, int(missing_lsoa_road.iloc[missing_lsoa_row]['street_number2']))\n",
      "<ipython-input-12-8bc6428979cb>:9: FutureWarning: The default value of regex will change from True to False in a future version.\n",
      "  missing_lsoa_df.loc[:,'street_number2'] = missing_lsoa_df.loc[:,'street_number'].str.replace(r\"^.*(?=\\b[0-9]+$)\", \"\").str.replace(r\"[^\\d]\", \"\", regex = True)\n",
      "<ipython-input-12-8bc6428979cb>:9: SettingWithCopyWarning: \n",
      "A value is trying to be set on a copy of a slice from a DataFrame.\n",
      "Try using .loc[row_indexer,col_indexer] = value instead\n",
      "\n",
      "See the caveats in the documentation: https://pandas.pydata.org/pandas-docs/stable/user_guide/indexing.html#returning-a-view-versus-a-copy\n",
      "  missing_lsoa_df.loc[:,'street_number2'] = missing_lsoa_df.loc[:,'street_number'].str.replace(r\"^.*(?=\\b[0-9]+$)\", \"\").str.replace(r\"[^\\d]\", \"\", regex = True)\n"
     ]
    },
    {
     "name": "stdout",
     "output_type": "stream",
     "text": [
      "swindonroad\n",
      "woodcockroad\n",
      "londonroad\n",
      "highstreet\n",
      "E06000055\n"
     ]
    },
    {
     "name": "stderr",
     "output_type": "stream",
     "text": [
      "/tf/empty_homes_london/helper_functions.py:279: SettingWithCopyWarning: \n",
      "A value is trying to be set on a copy of a slice from a DataFrame.\n",
      "Try using .loc[row_indexer,col_indexer] = value instead\n",
      "\n",
      "See the caveats in the documentation: https://pandas.pydata.org/pandas-docs/stable/user_guide/indexing.html#returning-a-view-versus-a-copy\n",
      "  temp_multi['number_filter'] = filter_types\n",
      "<ipython-input-12-8bc6428979cb>:35: SettingWithCopyWarning: \n",
      "A value is trying to be set on a copy of a slice from a DataFrame.\n",
      "Try using .loc[row_indexer,col_indexer] = value instead\n",
      "\n",
      "See the caveats in the documentation: https://pandas.pydata.org/pandas-docs/stable/user_guide/indexing.html#returning-a-view-versus-a-copy\n",
      "  missing_lsoa_road['lsoa11cd'] = [street_number_to_lsoa(temp_road, int(missing_lsoa_road.iloc[missing_lsoa_row]['street_number2']))\n",
      "<ipython-input-12-8bc6428979cb>:9: FutureWarning: The default value of regex will change from True to False in a future version.\n",
      "  missing_lsoa_df.loc[:,'street_number2'] = missing_lsoa_df.loc[:,'street_number'].str.replace(r\"^.*(?=\\b[0-9]+$)\", \"\").str.replace(r\"[^\\d]\", \"\", regex = True)\n",
      "<ipython-input-12-8bc6428979cb>:9: SettingWithCopyWarning: \n",
      "A value is trying to be set on a copy of a slice from a DataFrame.\n",
      "Try using .loc[row_indexer,col_indexer] = value instead\n",
      "\n",
      "See the caveats in the documentation: https://pandas.pydata.org/pandas-docs/stable/user_guide/indexing.html#returning-a-view-versus-a-copy\n",
      "  missing_lsoa_df.loc[:,'street_number2'] = missing_lsoa_df.loc[:,'street_number'].str.replace(r\"^.*(?=\\b[0-9]+$)\", \"\").str.replace(r\"[^\\d]\", \"\", regex = True)\n"
     ]
    },
    {
     "name": "stdout",
     "output_type": "stream",
     "text": [
      "i= 0  expand time,0.0 filter time0.0 make_dataframe_time 0.001\n",
      "bromhamroad\n",
      "harpurstreet\n",
      "bedfordroad\n",
      "W06000012\n",
      "delffordd\n",
      "oldroad\n",
      "E07000213\n"
     ]
    },
    {
     "name": "stderr",
     "output_type": "stream",
     "text": [
      "<ipython-input-12-8bc6428979cb>:35: SettingWithCopyWarning: \n",
      "A value is trying to be set on a copy of a slice from a DataFrame.\n",
      "Try using .loc[row_indexer,col_indexer] = value instead\n",
      "\n",
      "See the caveats in the documentation: https://pandas.pydata.org/pandas-docs/stable/user_guide/indexing.html#returning-a-view-versus-a-copy\n",
      "  missing_lsoa_road['lsoa11cd'] = [street_number_to_lsoa(temp_road, int(missing_lsoa_road.iloc[missing_lsoa_row]['street_number2']))\n",
      "<ipython-input-12-8bc6428979cb>:9: FutureWarning: The default value of regex will change from True to False in a future version.\n",
      "  missing_lsoa_df.loc[:,'street_number2'] = missing_lsoa_df.loc[:,'street_number'].str.replace(r\"^.*(?=\\b[0-9]+$)\", \"\").str.replace(r\"[^\\d]\", \"\", regex = True)\n",
      "<ipython-input-12-8bc6428979cb>:9: SettingWithCopyWarning: \n",
      "A value is trying to be set on a copy of a slice from a DataFrame.\n",
      "Try using .loc[row_indexer,col_indexer] = value instead\n",
      "\n",
      "See the caveats in the documentation: https://pandas.pydata.org/pandas-docs/stable/user_guide/indexing.html#returning-a-view-versus-a-copy\n",
      "  missing_lsoa_df.loc[:,'street_number2'] = missing_lsoa_df.loc[:,'street_number'].str.replace(r\"^.*(?=\\b[0-9]+$)\", \"\").str.replace(r\"[^\\d]\", \"\", regex = True)\n",
      "/tf/empty_homes_london/helper_functions.py:279: SettingWithCopyWarning: \n",
      "A value is trying to be set on a copy of a slice from a DataFrame.\n",
      "Try using .loc[row_indexer,col_indexer] = value instead\n",
      "\n",
      "See the caveats in the documentation: https://pandas.pydata.org/pandas-docs/stable/user_guide/indexing.html#returning-a-view-versus-a-copy\n",
      "  temp_multi['number_filter'] = filter_types\n",
      "<ipython-input-12-8bc6428979cb>:9: FutureWarning: The default value of regex will change from True to False in a future version.\n",
      "  missing_lsoa_df.loc[:,'street_number2'] = missing_lsoa_df.loc[:,'street_number'].str.replace(r\"^.*(?=\\b[0-9]+$)\", \"\").str.replace(r\"[^\\d]\", \"\", regex = True)\n",
      "<ipython-input-12-8bc6428979cb>:9: SettingWithCopyWarning: \n",
      "A value is trying to be set on a copy of a slice from a DataFrame.\n",
      "Try using .loc[row_indexer,col_indexer] = value instead\n",
      "\n",
      "See the caveats in the documentation: https://pandas.pydata.org/pandas-docs/stable/user_guide/indexing.html#returning-a-view-versus-a-copy\n",
      "  missing_lsoa_df.loc[:,'street_number2'] = missing_lsoa_df.loc[:,'street_number'].str.replace(r\"^.*(?=\\b[0-9]+$)\", \"\").str.replace(r\"[^\\d]\", \"\", regex = True)\n"
     ]
    },
    {
     "name": "stdout",
     "output_type": "stream",
     "text": [
      "i= 0  expand time,0.0 filter time0.0 make_dataframe_time 0.001\n",
      "highstreet\n",
      "E07000098\n"
     ]
    },
    {
     "name": "stderr",
     "output_type": "stream",
     "text": [
      "/tf/empty_homes_london/helper_functions.py:279: SettingWithCopyWarning: \n",
      "A value is trying to be set on a copy of a slice from a DataFrame.\n",
      "Try using .loc[row_indexer,col_indexer] = value instead\n",
      "\n",
      "See the caveats in the documentation: https://pandas.pydata.org/pandas-docs/stable/user_guide/indexing.html#returning-a-view-versus-a-copy\n",
      "  temp_multi['number_filter'] = filter_types\n",
      "<ipython-input-12-8bc6428979cb>:35: SettingWithCopyWarning: \n",
      "A value is trying to be set on a copy of a slice from a DataFrame.\n",
      "Try using .loc[row_indexer,col_indexer] = value instead\n",
      "\n",
      "See the caveats in the documentation: https://pandas.pydata.org/pandas-docs/stable/user_guide/indexing.html#returning-a-view-versus-a-copy\n",
      "  missing_lsoa_road['lsoa11cd'] = [street_number_to_lsoa(temp_road, int(missing_lsoa_road.iloc[missing_lsoa_row]['street_number2']))\n"
     ]
    },
    {
     "name": "stdout",
     "output_type": "stream",
     "text": [
      "i= 0  expand time,0.0 filter time0.0 make_dataframe_time 0.001\n",
      "highroad\n",
      "watlingstreet\n",
      "theobaldstreet\n",
      "highstreet\n",
      "darkelane\n",
      "shenleyroad\n",
      "E08000023\n"
     ]
    },
    {
     "name": "stderr",
     "output_type": "stream",
     "text": [
      "<ipython-input-12-8bc6428979cb>:9: FutureWarning: The default value of regex will change from True to False in a future version.\n",
      "  missing_lsoa_df.loc[:,'street_number2'] = missing_lsoa_df.loc[:,'street_number'].str.replace(r\"^.*(?=\\b[0-9]+$)\", \"\").str.replace(r\"[^\\d]\", \"\", regex = True)\n",
      "<ipython-input-12-8bc6428979cb>:9: SettingWithCopyWarning: \n",
      "A value is trying to be set on a copy of a slice from a DataFrame.\n",
      "Try using .loc[row_indexer,col_indexer] = value instead\n",
      "\n",
      "See the caveats in the documentation: https://pandas.pydata.org/pandas-docs/stable/user_guide/indexing.html#returning-a-view-versus-a-copy\n",
      "  missing_lsoa_df.loc[:,'street_number2'] = missing_lsoa_df.loc[:,'street_number'].str.replace(r\"^.*(?=\\b[0-9]+$)\", \"\").str.replace(r\"[^\\d]\", \"\", regex = True)\n",
      "/tf/empty_homes_london/helper_functions.py:279: SettingWithCopyWarning: \n",
      "A value is trying to be set on a copy of a slice from a DataFrame.\n",
      "Try using .loc[row_indexer,col_indexer] = value instead\n",
      "\n",
      "See the caveats in the documentation: https://pandas.pydata.org/pandas-docs/stable/user_guide/indexing.html#returning-a-view-versus-a-copy\n",
      "  temp_multi['number_filter'] = filter_types\n",
      "<ipython-input-12-8bc6428979cb>:9: FutureWarning: The default value of regex will change from True to False in a future version.\n",
      "  missing_lsoa_df.loc[:,'street_number2'] = missing_lsoa_df.loc[:,'street_number'].str.replace(r\"^.*(?=\\b[0-9]+$)\", \"\").str.replace(r\"[^\\d]\", \"\", regex = True)\n",
      "<ipython-input-12-8bc6428979cb>:9: SettingWithCopyWarning: \n",
      "A value is trying to be set on a copy of a slice from a DataFrame.\n",
      "Try using .loc[row_indexer,col_indexer] = value instead\n",
      "\n",
      "See the caveats in the documentation: https://pandas.pydata.org/pandas-docs/stable/user_guide/indexing.html#returning-a-view-versus-a-copy\n",
      "  missing_lsoa_df.loc[:,'street_number2'] = missing_lsoa_df.loc[:,'street_number'].str.replace(r\"^.*(?=\\b[0-9]+$)\", \"\").str.replace(r\"[^\\d]\", \"\", regex = True)\n"
     ]
    },
    {
     "name": "stdout",
     "output_type": "stream",
     "text": [
      "i= 0  expand time,0.0 filter time0.0 make_dataframe_time 0.001\n",
      "princeedwardroad\n",
      "E06000002\n"
     ]
    },
    {
     "name": "stderr",
     "output_type": "stream",
     "text": [
      "/tf/empty_homes_london/helper_functions.py:279: SettingWithCopyWarning: \n",
      "A value is trying to be set on a copy of a slice from a DataFrame.\n",
      "Try using .loc[row_indexer,col_indexer] = value instead\n",
      "\n",
      "See the caveats in the documentation: https://pandas.pydata.org/pandas-docs/stable/user_guide/indexing.html#returning-a-view-versus-a-copy\n",
      "  temp_multi['number_filter'] = filter_types\n",
      "<ipython-input-12-8bc6428979cb>:35: SettingWithCopyWarning: \n",
      "A value is trying to be set on a copy of a slice from a DataFrame.\n",
      "Try using .loc[row_indexer,col_indexer] = value instead\n",
      "\n",
      "See the caveats in the documentation: https://pandas.pydata.org/pandas-docs/stable/user_guide/indexing.html#returning-a-view-versus-a-copy\n",
      "  missing_lsoa_road['lsoa11cd'] = [street_number_to_lsoa(temp_road, int(missing_lsoa_road.iloc[missing_lsoa_row]['street_number2']))\n",
      "<ipython-input-12-8bc6428979cb>:9: FutureWarning: The default value of regex will change from True to False in a future version.\n",
      "  missing_lsoa_df.loc[:,'street_number2'] = missing_lsoa_df.loc[:,'street_number'].str.replace(r\"^.*(?=\\b[0-9]+$)\", \"\").str.replace(r\"[^\\d]\", \"\", regex = True)\n",
      "<ipython-input-12-8bc6428979cb>:9: SettingWithCopyWarning: \n",
      "A value is trying to be set on a copy of a slice from a DataFrame.\n",
      "Try using .loc[row_indexer,col_indexer] = value instead\n",
      "\n",
      "See the caveats in the documentation: https://pandas.pydata.org/pandas-docs/stable/user_guide/indexing.html#returning-a-view-versus-a-copy\n",
      "  missing_lsoa_df.loc[:,'street_number2'] = missing_lsoa_df.loc[:,'street_number'].str.replace(r\"^.*(?=\\b[0-9]+$)\", \"\").str.replace(r\"[^\\d]\", \"\", regex = True)\n"
     ]
    },
    {
     "name": "stdout",
     "output_type": "stream",
     "text": [
      "i= 0  expand time,0.0 filter time0.0 make_dataframe_time 0.001\n",
      "newportroad\n",
      "parkstreet\n",
      "nelsonstreet\n",
      "boroughroad\n",
      "E06000035\n"
     ]
    },
    {
     "name": "stderr",
     "output_type": "stream",
     "text": [
      "/tf/empty_homes_london/helper_functions.py:279: SettingWithCopyWarning: \n",
      "A value is trying to be set on a copy of a slice from a DataFrame.\n",
      "Try using .loc[row_indexer,col_indexer] = value instead\n",
      "\n",
      "See the caveats in the documentation: https://pandas.pydata.org/pandas-docs/stable/user_guide/indexing.html#returning-a-view-versus-a-copy\n",
      "  temp_multi['number_filter'] = filter_types\n"
     ]
    },
    {
     "name": "stdout",
     "output_type": "stream",
     "text": [
      "i= 0  expand time,0.0 filter time0.0 make_dataframe_time 0.001\n",
      "highstreet\n",
      "E07000163\n"
     ]
    },
    {
     "name": "stderr",
     "output_type": "stream",
     "text": [
      "<ipython-input-12-8bc6428979cb>:9: FutureWarning: The default value of regex will change from True to False in a future version.\n",
      "  missing_lsoa_df.loc[:,'street_number2'] = missing_lsoa_df.loc[:,'street_number'].str.replace(r\"^.*(?=\\b[0-9]+$)\", \"\").str.replace(r\"[^\\d]\", \"\", regex = True)\n",
      "<ipython-input-12-8bc6428979cb>:9: SettingWithCopyWarning: \n",
      "A value is trying to be set on a copy of a slice from a DataFrame.\n",
      "Try using .loc[row_indexer,col_indexer] = value instead\n",
      "\n",
      "See the caveats in the documentation: https://pandas.pydata.org/pandas-docs/stable/user_guide/indexing.html#returning-a-view-versus-a-copy\n",
      "  missing_lsoa_df.loc[:,'street_number2'] = missing_lsoa_df.loc[:,'street_number'].str.replace(r\"^.*(?=\\b[0-9]+$)\", \"\").str.replace(r\"[^\\d]\", \"\", regex = True)\n",
      "/tf/empty_homes_london/helper_functions.py:279: SettingWithCopyWarning: \n",
      "A value is trying to be set on a copy of a slice from a DataFrame.\n",
      "Try using .loc[row_indexer,col_indexer] = value instead\n",
      "\n",
      "See the caveats in the documentation: https://pandas.pydata.org/pandas-docs/stable/user_guide/indexing.html#returning-a-view-versus-a-copy\n",
      "  temp_multi['number_filter'] = filter_types\n",
      "<ipython-input-12-8bc6428979cb>:35: SettingWithCopyWarning: \n",
      "A value is trying to be set on a copy of a slice from a DataFrame.\n",
      "Try using .loc[row_indexer,col_indexer] = value instead\n",
      "\n",
      "See the caveats in the documentation: https://pandas.pydata.org/pandas-docs/stable/user_guide/indexing.html#returning-a-view-versus-a-copy\n",
      "  missing_lsoa_road['lsoa11cd'] = [street_number_to_lsoa(temp_road, int(missing_lsoa_road.iloc[missing_lsoa_row]['street_number2']))\n",
      "<ipython-input-12-8bc6428979cb>:9: FutureWarning: The default value of regex will change from True to False in a future version.\n",
      "  missing_lsoa_df.loc[:,'street_number2'] = missing_lsoa_df.loc[:,'street_number'].str.replace(r\"^.*(?=\\b[0-9]+$)\", \"\").str.replace(r\"[^\\d]\", \"\", regex = True)\n",
      "<ipython-input-12-8bc6428979cb>:9: SettingWithCopyWarning: \n",
      "A value is trying to be set on a copy of a slice from a DataFrame.\n",
      "Try using .loc[row_indexer,col_indexer] = value instead\n",
      "\n",
      "See the caveats in the documentation: https://pandas.pydata.org/pandas-docs/stable/user_guide/indexing.html#returning-a-view-versus-a-copy\n",
      "  missing_lsoa_df.loc[:,'street_number2'] = missing_lsoa_df.loc[:,'street_number'].str.replace(r\"^.*(?=\\b[0-9]+$)\", \"\").str.replace(r\"[^\\d]\", \"\", regex = True)\n"
     ]
    },
    {
     "name": "stdout",
     "output_type": "stream",
     "text": [
      "i= 0  expand time,0.0 filter time0.0 make_dataframe_time 0.001\n",
      "otleyroad\n",
      "thesquare\n",
      "highstreet\n",
      "E07000208\n"
     ]
    },
    {
     "name": "stderr",
     "output_type": "stream",
     "text": [
      "/tf/empty_homes_london/helper_functions.py:279: SettingWithCopyWarning: \n",
      "A value is trying to be set on a copy of a slice from a DataFrame.\n",
      "Try using .loc[row_indexer,col_indexer] = value instead\n",
      "\n",
      "See the caveats in the documentation: https://pandas.pydata.org/pandas-docs/stable/user_guide/indexing.html#returning-a-view-versus-a-copy\n",
      "  temp_multi['number_filter'] = filter_types\n",
      "<ipython-input-12-8bc6428979cb>:35: SettingWithCopyWarning: \n",
      "A value is trying to be set on a copy of a slice from a DataFrame.\n",
      "Try using .loc[row_indexer,col_indexer] = value instead\n",
      "\n",
      "See the caveats in the documentation: https://pandas.pydata.org/pandas-docs/stable/user_guide/indexing.html#returning-a-view-versus-a-copy\n",
      "  missing_lsoa_road['lsoa11cd'] = [street_number_to_lsoa(temp_road, int(missing_lsoa_road.iloc[missing_lsoa_row]['street_number2']))\n",
      "<ipython-input-12-8bc6428979cb>:9: FutureWarning: The default value of regex will change from True to False in a future version.\n",
      "  missing_lsoa_df.loc[:,'street_number2'] = missing_lsoa_df.loc[:,'street_number'].str.replace(r\"^.*(?=\\b[0-9]+$)\", \"\").str.replace(r\"[^\\d]\", \"\", regex = True)\n",
      "<ipython-input-12-8bc6428979cb>:9: SettingWithCopyWarning: \n",
      "A value is trying to be set on a copy of a slice from a DataFrame.\n",
      "Try using .loc[row_indexer,col_indexer] = value instead\n",
      "\n",
      "See the caveats in the documentation: https://pandas.pydata.org/pandas-docs/stable/user_guide/indexing.html#returning-a-view-versus-a-copy\n",
      "  missing_lsoa_df.loc[:,'street_number2'] = missing_lsoa_df.loc[:,'street_number'].str.replace(r\"^.*(?=\\b[0-9]+$)\", \"\").str.replace(r\"[^\\d]\", \"\", regex = True)\n"
     ]
    },
    {
     "name": "stdout",
     "output_type": "stream",
     "text": [
      "i= 0  expand time,0.0 filter time0.0 make_dataframe_time 0.001\n",
      "churchroad\n",
      "epsomroad\n",
      "albertroad\n",
      "bstationapproach,\n",
      "eaststreet\n",
      "W06000022\n"
     ]
    },
    {
     "name": "stderr",
     "output_type": "stream",
     "text": [
      "/tf/empty_homes_london/helper_functions.py:279: SettingWithCopyWarning: \n",
      "A value is trying to be set on a copy of a slice from a DataFrame.\n",
      "Try using .loc[row_indexer,col_indexer] = value instead\n",
      "\n",
      "See the caveats in the documentation: https://pandas.pydata.org/pandas-docs/stable/user_guide/indexing.html#returning-a-view-versus-a-copy\n",
      "  temp_multi['number_filter'] = filter_types\n",
      "<ipython-input-12-8bc6428979cb>:35: SettingWithCopyWarning: \n",
      "A value is trying to be set on a copy of a slice from a DataFrame.\n",
      "Try using .loc[row_indexer,col_indexer] = value instead\n",
      "\n",
      "See the caveats in the documentation: https://pandas.pydata.org/pandas-docs/stable/user_guide/indexing.html#returning-a-view-versus-a-copy\n",
      "  missing_lsoa_road['lsoa11cd'] = [street_number_to_lsoa(temp_road, int(missing_lsoa_road.iloc[missing_lsoa_row]['street_number2']))\n",
      "<ipython-input-12-8bc6428979cb>:9: FutureWarning: The default value of regex will change from True to False in a future version.\n",
      "  missing_lsoa_df.loc[:,'street_number2'] = missing_lsoa_df.loc[:,'street_number'].str.replace(r\"^.*(?=\\b[0-9]+$)\", \"\").str.replace(r\"[^\\d]\", \"\", regex = True)\n",
      "<ipython-input-12-8bc6428979cb>:9: SettingWithCopyWarning: \n",
      "A value is trying to be set on a copy of a slice from a DataFrame.\n",
      "Try using .loc[row_indexer,col_indexer] = value instead\n",
      "\n",
      "See the caveats in the documentation: https://pandas.pydata.org/pandas-docs/stable/user_guide/indexing.html#returning-a-view-versus-a-copy\n",
      "  missing_lsoa_df.loc[:,'street_number2'] = missing_lsoa_df.loc[:,'street_number'].str.replace(r\"^.*(?=\\b[0-9]+$)\", \"\").str.replace(r\"[^\\d]\", \"\", regex = True)\n"
     ]
    },
    {
     "name": "stdout",
     "output_type": "stream",
     "text": [
      "i= 0  expand time,0.0 filter time0.0 make_dataframe_time 0.002\n",
      "piltonvale\n",
      "thesquare\n",
      "caerleonroad\n",
      "clarenceplace\n",
      "E06000026\n"
     ]
    },
    {
     "name": "stderr",
     "output_type": "stream",
     "text": [
      "/tf/empty_homes_london/helper_functions.py:279: SettingWithCopyWarning: \n",
      "A value is trying to be set on a copy of a slice from a DataFrame.\n",
      "Try using .loc[row_indexer,col_indexer] = value instead\n",
      "\n",
      "See the caveats in the documentation: https://pandas.pydata.org/pandas-docs/stable/user_guide/indexing.html#returning-a-view-versus-a-copy\n",
      "  temp_multi['number_filter'] = filter_types\n",
      "<ipython-input-12-8bc6428979cb>:35: SettingWithCopyWarning: \n",
      "A value is trying to be set on a copy of a slice from a DataFrame.\n",
      "Try using .loc[row_indexer,col_indexer] = value instead\n",
      "\n",
      "See the caveats in the documentation: https://pandas.pydata.org/pandas-docs/stable/user_guide/indexing.html#returning-a-view-versus-a-copy\n",
      "  missing_lsoa_road['lsoa11cd'] = [street_number_to_lsoa(temp_road, int(missing_lsoa_road.iloc[missing_lsoa_row]['street_number2']))\n",
      "<ipython-input-12-8bc6428979cb>:9: FutureWarning: The default value of regex will change from True to False in a future version.\n",
      "  missing_lsoa_df.loc[:,'street_number2'] = missing_lsoa_df.loc[:,'street_number'].str.replace(r\"^.*(?=\\b[0-9]+$)\", \"\").str.replace(r\"[^\\d]\", \"\", regex = True)\n",
      "<ipython-input-12-8bc6428979cb>:9: SettingWithCopyWarning: \n",
      "A value is trying to be set on a copy of a slice from a DataFrame.\n",
      "Try using .loc[row_indexer,col_indexer] = value instead\n",
      "\n",
      "See the caveats in the documentation: https://pandas.pydata.org/pandas-docs/stable/user_guide/indexing.html#returning-a-view-versus-a-copy\n",
      "  missing_lsoa_df.loc[:,'street_number2'] = missing_lsoa_df.loc[:,'street_number'].str.replace(r\"^.*(?=\\b[0-9]+$)\", \"\").str.replace(r\"[^\\d]\", \"\", regex = True)\n"
     ]
    },
    {
     "name": "stdout",
     "output_type": "stream",
     "text": [
      "i= 0  expand time,0.0 filter time0.0 make_dataframe_time 0.001\n",
      "unionstreet\n",
      "granbyway\n",
      "soapstreet\n",
      "northeastquay,\n",
      "E06000008\n"
     ]
    },
    {
     "name": "stderr",
     "output_type": "stream",
     "text": [
      "/tf/empty_homes_london/helper_functions.py:279: SettingWithCopyWarning: \n",
      "A value is trying to be set on a copy of a slice from a DataFrame.\n",
      "Try using .loc[row_indexer,col_indexer] = value instead\n",
      "\n",
      "See the caveats in the documentation: https://pandas.pydata.org/pandas-docs/stable/user_guide/indexing.html#returning-a-view-versus-a-copy\n",
      "  temp_multi['number_filter'] = filter_types\n",
      "<ipython-input-12-8bc6428979cb>:35: SettingWithCopyWarning: \n",
      "A value is trying to be set on a copy of a slice from a DataFrame.\n",
      "Try using .loc[row_indexer,col_indexer] = value instead\n",
      "\n",
      "See the caveats in the documentation: https://pandas.pydata.org/pandas-docs/stable/user_guide/indexing.html#returning-a-view-versus-a-copy\n",
      "  missing_lsoa_road['lsoa11cd'] = [street_number_to_lsoa(temp_road, int(missing_lsoa_road.iloc[missing_lsoa_row]['street_number2']))\n",
      "<ipython-input-12-8bc6428979cb>:9: FutureWarning: The default value of regex will change from True to False in a future version.\n",
      "  missing_lsoa_df.loc[:,'street_number2'] = missing_lsoa_df.loc[:,'street_number'].str.replace(r\"^.*(?=\\b[0-9]+$)\", \"\").str.replace(r\"[^\\d]\", \"\", regex = True)\n",
      "<ipython-input-12-8bc6428979cb>:9: SettingWithCopyWarning: \n",
      "A value is trying to be set on a copy of a slice from a DataFrame.\n",
      "Try using .loc[row_indexer,col_indexer] = value instead\n",
      "\n",
      "See the caveats in the documentation: https://pandas.pydata.org/pandas-docs/stable/user_guide/indexing.html#returning-a-view-versus-a-copy\n",
      "  missing_lsoa_df.loc[:,'street_number2'] = missing_lsoa_df.loc[:,'street_number'].str.replace(r\"^.*(?=\\b[0-9]+$)\", \"\").str.replace(r\"[^\\d]\", \"\", regex = True)\n"
     ]
    },
    {
     "name": "stdout",
     "output_type": "stream",
     "text": [
      "i= 0  expand time,0.0 filter time0.0 make_dataframe_time 0.001\n",
      "bankstreet\n",
      "churchstreet\n",
      "duckworthstreet\n",
      "cranfieldview\n",
      "E07000094\n"
     ]
    },
    {
     "name": "stderr",
     "output_type": "stream",
     "text": [
      "/tf/empty_homes_london/helper_functions.py:279: SettingWithCopyWarning: \n",
      "A value is trying to be set on a copy of a slice from a DataFrame.\n",
      "Try using .loc[row_indexer,col_indexer] = value instead\n",
      "\n",
      "See the caveats in the documentation: https://pandas.pydata.org/pandas-docs/stable/user_guide/indexing.html#returning-a-view-versus-a-copy\n",
      "  temp_multi['number_filter'] = filter_types\n",
      "<ipython-input-12-8bc6428979cb>:35: SettingWithCopyWarning: \n",
      "A value is trying to be set on a copy of a slice from a DataFrame.\n",
      "Try using .loc[row_indexer,col_indexer] = value instead\n",
      "\n",
      "See the caveats in the documentation: https://pandas.pydata.org/pandas-docs/stable/user_guide/indexing.html#returning-a-view-versus-a-copy\n",
      "  missing_lsoa_road['lsoa11cd'] = [street_number_to_lsoa(temp_road, int(missing_lsoa_road.iloc[missing_lsoa_row]['street_number2']))\n",
      "<ipython-input-12-8bc6428979cb>:9: FutureWarning: The default value of regex will change from True to False in a future version.\n",
      "  missing_lsoa_df.loc[:,'street_number2'] = missing_lsoa_df.loc[:,'street_number'].str.replace(r\"^.*(?=\\b[0-9]+$)\", \"\").str.replace(r\"[^\\d]\", \"\", regex = True)\n",
      "<ipython-input-12-8bc6428979cb>:9: SettingWithCopyWarning: \n",
      "A value is trying to be set on a copy of a slice from a DataFrame.\n",
      "Try using .loc[row_indexer,col_indexer] = value instead\n",
      "\n",
      "See the caveats in the documentation: https://pandas.pydata.org/pandas-docs/stable/user_guide/indexing.html#returning-a-view-versus-a-copy\n",
      "  missing_lsoa_df.loc[:,'street_number2'] = missing_lsoa_df.loc[:,'street_number'].str.replace(r\"^.*(?=\\b[0-9]+$)\", \"\").str.replace(r\"[^\\d]\", \"\", regex = True)\n"
     ]
    },
    {
     "name": "stdout",
     "output_type": "stream",
     "text": [
      "i= 0  expand time,0.0 filter time0.0 make_dataframe_time 0.001\n",
      "highstreet\n",
      "thesquare\n",
      "E07000091\n",
      "lyndhursthill\n",
      "E08000016\n"
     ]
    },
    {
     "name": "stderr",
     "output_type": "stream",
     "text": [
      "<ipython-input-12-8bc6428979cb>:9: FutureWarning: The default value of regex will change from True to False in a future version.\n",
      "  missing_lsoa_df.loc[:,'street_number2'] = missing_lsoa_df.loc[:,'street_number'].str.replace(r\"^.*(?=\\b[0-9]+$)\", \"\").str.replace(r\"[^\\d]\", \"\", regex = True)\n",
      "<ipython-input-12-8bc6428979cb>:9: SettingWithCopyWarning: \n",
      "A value is trying to be set on a copy of a slice from a DataFrame.\n",
      "Try using .loc[row_indexer,col_indexer] = value instead\n",
      "\n",
      "See the caveats in the documentation: https://pandas.pydata.org/pandas-docs/stable/user_guide/indexing.html#returning-a-view-versus-a-copy\n",
      "  missing_lsoa_df.loc[:,'street_number2'] = missing_lsoa_df.loc[:,'street_number'].str.replace(r\"^.*(?=\\b[0-9]+$)\", \"\").str.replace(r\"[^\\d]\", \"\", regex = True)\n",
      "/tf/empty_homes_london/helper_functions.py:279: SettingWithCopyWarning: \n",
      "A value is trying to be set on a copy of a slice from a DataFrame.\n",
      "Try using .loc[row_indexer,col_indexer] = value instead\n",
      "\n",
      "See the caveats in the documentation: https://pandas.pydata.org/pandas-docs/stable/user_guide/indexing.html#returning-a-view-versus-a-copy\n",
      "  temp_multi['number_filter'] = filter_types\n",
      "<ipython-input-12-8bc6428979cb>:35: SettingWithCopyWarning: \n",
      "A value is trying to be set on a copy of a slice from a DataFrame.\n",
      "Try using .loc[row_indexer,col_indexer] = value instead\n",
      "\n",
      "See the caveats in the documentation: https://pandas.pydata.org/pandas-docs/stable/user_guide/indexing.html#returning-a-view-versus-a-copy\n",
      "  missing_lsoa_road['lsoa11cd'] = [street_number_to_lsoa(temp_road, int(missing_lsoa_road.iloc[missing_lsoa_row]['street_number2']))\n",
      "<ipython-input-12-8bc6428979cb>:9: FutureWarning: The default value of regex will change from True to False in a future version.\n",
      "  missing_lsoa_df.loc[:,'street_number2'] = missing_lsoa_df.loc[:,'street_number'].str.replace(r\"^.*(?=\\b[0-9]+$)\", \"\").str.replace(r\"[^\\d]\", \"\", regex = True)\n",
      "<ipython-input-12-8bc6428979cb>:9: SettingWithCopyWarning: \n",
      "A value is trying to be set on a copy of a slice from a DataFrame.\n",
      "Try using .loc[row_indexer,col_indexer] = value instead\n",
      "\n",
      "See the caveats in the documentation: https://pandas.pydata.org/pandas-docs/stable/user_guide/indexing.html#returning-a-view-versus-a-copy\n",
      "  missing_lsoa_df.loc[:,'street_number2'] = missing_lsoa_df.loc[:,'street_number'].str.replace(r\"^.*(?=\\b[0-9]+$)\", \"\").str.replace(r\"[^\\d]\", \"\", regex = True)\n"
     ]
    },
    {
     "name": "stdout",
     "output_type": "stream",
     "text": [
      "i= 0  expand time,0.0 filter time0.0 make_dataframe_time 0.001\n",
      "marketstreet\n",
      "barughgreenroad\n",
      "strawhill\n",
      "E09000027\n"
     ]
    },
    {
     "name": "stderr",
     "output_type": "stream",
     "text": [
      "/tf/empty_homes_london/helper_functions.py:279: SettingWithCopyWarning: \n",
      "A value is trying to be set on a copy of a slice from a DataFrame.\n",
      "Try using .loc[row_indexer,col_indexer] = value instead\n",
      "\n",
      "See the caveats in the documentation: https://pandas.pydata.org/pandas-docs/stable/user_guide/indexing.html#returning-a-view-versus-a-copy\n",
      "  temp_multi['number_filter'] = filter_types\n",
      "<ipython-input-12-8bc6428979cb>:35: SettingWithCopyWarning: \n",
      "A value is trying to be set on a copy of a slice from a DataFrame.\n",
      "Try using .loc[row_indexer,col_indexer] = value instead\n",
      "\n",
      "See the caveats in the documentation: https://pandas.pydata.org/pandas-docs/stable/user_guide/indexing.html#returning-a-view-versus-a-copy\n",
      "  missing_lsoa_road['lsoa11cd'] = [street_number_to_lsoa(temp_road, int(missing_lsoa_road.iloc[missing_lsoa_row]['street_number2']))\n",
      "<ipython-input-12-8bc6428979cb>:9: FutureWarning: The default value of regex will change from True to False in a future version.\n",
      "  missing_lsoa_df.loc[:,'street_number2'] = missing_lsoa_df.loc[:,'street_number'].str.replace(r\"^.*(?=\\b[0-9]+$)\", \"\").str.replace(r\"[^\\d]\", \"\", regex = True)\n",
      "<ipython-input-12-8bc6428979cb>:9: SettingWithCopyWarning: \n",
      "A value is trying to be set on a copy of a slice from a DataFrame.\n",
      "Try using .loc[row_indexer,col_indexer] = value instead\n",
      "\n",
      "See the caveats in the documentation: https://pandas.pydata.org/pandas-docs/stable/user_guide/indexing.html#returning-a-view-versus-a-copy\n",
      "  missing_lsoa_df.loc[:,'street_number2'] = missing_lsoa_df.loc[:,'street_number'].str.replace(r\"^.*(?=\\b[0-9]+$)\", \"\").str.replace(r\"[^\\d]\", \"\", regex = True)\n"
     ]
    },
    {
     "name": "stdout",
     "output_type": "stream",
     "text": [
      "i= 0  expand time,0.0 filter time0.0 make_dataframe_time 0.0\n",
      "lowerrichmondroad\n",
      "stmargaretroad\n",
      "stationparade,\n",
      "kingstreet\n",
      "cromwellroad\n",
      "hamstreet\n",
      "kingroad\n",
      "sandycomberoad\n",
      "broadstreet\n",
      "E07000180\n",
      "draytonroad\n",
      "E07000189\n"
     ]
    },
    {
     "name": "stderr",
     "output_type": "stream",
     "text": [
      "<ipython-input-12-8bc6428979cb>:9: FutureWarning: The default value of regex will change from True to False in a future version.\n",
      "  missing_lsoa_df.loc[:,'street_number2'] = missing_lsoa_df.loc[:,'street_number'].str.replace(r\"^.*(?=\\b[0-9]+$)\", \"\").str.replace(r\"[^\\d]\", \"\", regex = True)\n",
      "<ipython-input-12-8bc6428979cb>:9: SettingWithCopyWarning: \n",
      "A value is trying to be set on a copy of a slice from a DataFrame.\n",
      "Try using .loc[row_indexer,col_indexer] = value instead\n",
      "\n",
      "See the caveats in the documentation: https://pandas.pydata.org/pandas-docs/stable/user_guide/indexing.html#returning-a-view-versus-a-copy\n",
      "  missing_lsoa_df.loc[:,'street_number2'] = missing_lsoa_df.loc[:,'street_number'].str.replace(r\"^.*(?=\\b[0-9]+$)\", \"\").str.replace(r\"[^\\d]\", \"\", regex = True)\n"
     ]
    },
    {
     "name": "stdout",
     "output_type": "stream",
     "text": [
      "lysanderroad\n",
      "wyndhampark\n",
      "E09000026\n"
     ]
    },
    {
     "name": "stderr",
     "output_type": "stream",
     "text": [
      "<ipython-input-12-8bc6428979cb>:9: FutureWarning: The default value of regex will change from True to False in a future version.\n",
      "  missing_lsoa_df.loc[:,'street_number2'] = missing_lsoa_df.loc[:,'street_number'].str.replace(r\"^.*(?=\\b[0-9]+$)\", \"\").str.replace(r\"[^\\d]\", \"\", regex = True)\n",
      "<ipython-input-12-8bc6428979cb>:9: SettingWithCopyWarning: \n",
      "A value is trying to be set on a copy of a slice from a DataFrame.\n",
      "Try using .loc[row_indexer,col_indexer] = value instead\n",
      "\n",
      "See the caveats in the documentation: https://pandas.pydata.org/pandas-docs/stable/user_guide/indexing.html#returning-a-view-versus-a-copy\n",
      "  missing_lsoa_df.loc[:,'street_number2'] = missing_lsoa_df.loc[:,'street_number'].str.replace(r\"^.*(?=\\b[0-9]+$)\", \"\").str.replace(r\"[^\\d]\", \"\", regex = True)\n",
      "/tf/empty_homes_london/helper_functions.py:279: SettingWithCopyWarning: \n",
      "A value is trying to be set on a copy of a slice from a DataFrame.\n",
      "Try using .loc[row_indexer,col_indexer] = value instead\n",
      "\n",
      "See the caveats in the documentation: https://pandas.pydata.org/pandas-docs/stable/user_guide/indexing.html#returning-a-view-versus-a-copy\n",
      "  temp_multi['number_filter'] = filter_types\n"
     ]
    },
    {
     "name": "stdout",
     "output_type": "stream",
     "text": [
      "i= 0  expand time,0.0 filter time0.0 make_dataframe_time 0.001\n",
      "georgelane\n",
      "highroad\n",
      "albertroad\n",
      "argyleroad\n",
      "cranbrookroad\n",
      "hermonhill\n",
      "greenlane\n",
      "newnorthroad\n",
      "stationroad\n",
      "E07000115\n"
     ]
    },
    {
     "name": "stderr",
     "output_type": "stream",
     "text": [
      "<ipython-input-12-8bc6428979cb>:35: SettingWithCopyWarning: \n",
      "A value is trying to be set on a copy of a slice from a DataFrame.\n",
      "Try using .loc[row_indexer,col_indexer] = value instead\n",
      "\n",
      "See the caveats in the documentation: https://pandas.pydata.org/pandas-docs/stable/user_guide/indexing.html#returning-a-view-versus-a-copy\n",
      "  missing_lsoa_road['lsoa11cd'] = [street_number_to_lsoa(temp_road, int(missing_lsoa_road.iloc[missing_lsoa_row]['street_number2']))\n",
      "<ipython-input-12-8bc6428979cb>:9: FutureWarning: The default value of regex will change from True to False in a future version.\n",
      "  missing_lsoa_df.loc[:,'street_number2'] = missing_lsoa_df.loc[:,'street_number'].str.replace(r\"^.*(?=\\b[0-9]+$)\", \"\").str.replace(r\"[^\\d]\", \"\", regex = True)\n",
      "<ipython-input-12-8bc6428979cb>:9: SettingWithCopyWarning: \n",
      "A value is trying to be set on a copy of a slice from a DataFrame.\n",
      "Try using .loc[row_indexer,col_indexer] = value instead\n",
      "\n",
      "See the caveats in the documentation: https://pandas.pydata.org/pandas-docs/stable/user_guide/indexing.html#returning-a-view-versus-a-copy\n",
      "  missing_lsoa_df.loc[:,'street_number2'] = missing_lsoa_df.loc[:,'street_number'].str.replace(r\"^.*(?=\\b[0-9]+$)\", \"\").str.replace(r\"[^\\d]\", \"\", regex = True)\n"
     ]
    },
    {
     "name": "stdout",
     "output_type": "stream",
     "text": [
      "sevenmilelane\n",
      "pilgrimvale\n",
      "bluebellgrove\n",
      "E07000065\n"
     ]
    },
    {
     "name": "stderr",
     "output_type": "stream",
     "text": [
      "<ipython-input-12-8bc6428979cb>:35: SettingWithCopyWarning: \n",
      "A value is trying to be set on a copy of a slice from a DataFrame.\n",
      "Try using .loc[row_indexer,col_indexer] = value instead\n",
      "\n",
      "See the caveats in the documentation: https://pandas.pydata.org/pandas-docs/stable/user_guide/indexing.html#returning-a-view-versus-a-copy\n",
      "  missing_lsoa_road['lsoa11cd'] = [street_number_to_lsoa(temp_road, int(missing_lsoa_road.iloc[missing_lsoa_row]['street_number2']))\n",
      "<ipython-input-12-8bc6428979cb>:9: FutureWarning: The default value of regex will change from True to False in a future version.\n",
      "  missing_lsoa_df.loc[:,'street_number2'] = missing_lsoa_df.loc[:,'street_number'].str.replace(r\"^.*(?=\\b[0-9]+$)\", \"\").str.replace(r\"[^\\d]\", \"\", regex = True)\n",
      "<ipython-input-12-8bc6428979cb>:9: SettingWithCopyWarning: \n",
      "A value is trying to be set on a copy of a slice from a DataFrame.\n",
      "Try using .loc[row_indexer,col_indexer] = value instead\n",
      "\n",
      "See the caveats in the documentation: https://pandas.pydata.org/pandas-docs/stable/user_guide/indexing.html#returning-a-view-versus-a-copy\n",
      "  missing_lsoa_df.loc[:,'street_number2'] = missing_lsoa_df.loc[:,'street_number'].str.replace(r\"^.*(?=\\b[0-9]+$)\", \"\").str.replace(r\"[^\\d]\", \"\", regex = True)\n"
     ]
    },
    {
     "name": "stdout",
     "output_type": "stream",
     "text": [
      "stjohnroad\n",
      "E09000024\n"
     ]
    },
    {
     "name": "stderr",
     "output_type": "stream",
     "text": [
      "<ipython-input-12-8bc6428979cb>:9: FutureWarning: The default value of regex will change from True to False in a future version.\n",
      "  missing_lsoa_df.loc[:,'street_number2'] = missing_lsoa_df.loc[:,'street_number'].str.replace(r\"^.*(?=\\b[0-9]+$)\", \"\").str.replace(r\"[^\\d]\", \"\", regex = True)\n",
      "<ipython-input-12-8bc6428979cb>:9: SettingWithCopyWarning: \n",
      "A value is trying to be set on a copy of a slice from a DataFrame.\n",
      "Try using .loc[row_indexer,col_indexer] = value instead\n",
      "\n",
      "See the caveats in the documentation: https://pandas.pydata.org/pandas-docs/stable/user_guide/indexing.html#returning-a-view-versus-a-copy\n",
      "  missing_lsoa_df.loc[:,'street_number2'] = missing_lsoa_df.loc[:,'street_number'].str.replace(r\"^.*(?=\\b[0-9]+$)\", \"\").str.replace(r\"[^\\d]\", \"\", regex = True)\n",
      "/tf/empty_homes_london/helper_functions.py:279: SettingWithCopyWarning: \n",
      "A value is trying to be set on a copy of a slice from a DataFrame.\n",
      "Try using .loc[row_indexer,col_indexer] = value instead\n",
      "\n",
      "See the caveats in the documentation: https://pandas.pydata.org/pandas-docs/stable/user_guide/indexing.html#returning-a-view-versus-a-copy\n",
      "  temp_multi['number_filter'] = filter_types\n",
      "<ipython-input-12-8bc6428979cb>:35: SettingWithCopyWarning: \n",
      "A value is trying to be set on a copy of a slice from a DataFrame.\n",
      "Try using .loc[row_indexer,col_indexer] = value instead\n",
      "\n",
      "See the caveats in the documentation: https://pandas.pydata.org/pandas-docs/stable/user_guide/indexing.html#returning-a-view-versus-a-copy\n",
      "  missing_lsoa_road['lsoa11cd'] = [street_number_to_lsoa(temp_road, int(missing_lsoa_road.iloc[missing_lsoa_row]['street_number2']))\n",
      "<ipython-input-12-8bc6428979cb>:9: FutureWarning: The default value of regex will change from True to False in a future version.\n",
      "  missing_lsoa_df.loc[:,'street_number2'] = missing_lsoa_df.loc[:,'street_number'].str.replace(r\"^.*(?=\\b[0-9]+$)\", \"\").str.replace(r\"[^\\d]\", \"\", regex = True)\n",
      "<ipython-input-12-8bc6428979cb>:9: SettingWithCopyWarning: \n",
      "A value is trying to be set on a copy of a slice from a DataFrame.\n",
      "Try using .loc[row_indexer,col_indexer] = value instead\n",
      "\n",
      "See the caveats in the documentation: https://pandas.pydata.org/pandas-docs/stable/user_guide/indexing.html#returning-a-view-versus-a-copy\n",
      "  missing_lsoa_df.loc[:,'street_number2'] = missing_lsoa_df.loc[:,'street_number'].str.replace(r\"^.*(?=\\b[0-9]+$)\", \"\").str.replace(r\"[^\\d]\", \"\", regex = True)\n"
     ]
    },
    {
     "name": "stdout",
     "output_type": "stream",
     "text": [
      "i= 0  expand time,0.0 filter time0.0 make_dataframe_time 0.001\n",
      "streathamroad\n",
      "worpleroad\n",
      "christchurchroad\n",
      "hallplace\n",
      "kingroad\n",
      "kenleyroad\n",
      "E07000113\n"
     ]
    },
    {
     "name": "stderr",
     "output_type": "stream",
     "text": [
      "/tf/empty_homes_london/helper_functions.py:279: SettingWithCopyWarning: \n",
      "A value is trying to be set on a copy of a slice from a DataFrame.\n",
      "Try using .loc[row_indexer,col_indexer] = value instead\n",
      "\n",
      "See the caveats in the documentation: https://pandas.pydata.org/pandas-docs/stable/user_guide/indexing.html#returning-a-view-versus-a-copy\n",
      "  temp_multi['number_filter'] = filter_types\n",
      "<ipython-input-12-8bc6428979cb>:9: FutureWarning: The default value of regex will change from True to False in a future version.\n",
      "  missing_lsoa_df.loc[:,'street_number2'] = missing_lsoa_df.loc[:,'street_number'].str.replace(r\"^.*(?=\\b[0-9]+$)\", \"\").str.replace(r\"[^\\d]\", \"\", regex = True)\n",
      "<ipython-input-12-8bc6428979cb>:9: SettingWithCopyWarning: \n",
      "A value is trying to be set on a copy of a slice from a DataFrame.\n",
      "Try using .loc[row_indexer,col_indexer] = value instead\n",
      "\n",
      "See the caveats in the documentation: https://pandas.pydata.org/pandas-docs/stable/user_guide/indexing.html#returning-a-view-versus-a-copy\n",
      "  missing_lsoa_df.loc[:,'street_number2'] = missing_lsoa_df.loc[:,'street_number'].str.replace(r\"^.*(?=\\b[0-9]+$)\", \"\").str.replace(r\"[^\\d]\", \"\", regex = True)\n"
     ]
    },
    {
     "name": "stdout",
     "output_type": "stream",
     "text": [
      "i= 0  expand time,0.0 filter time0.0 make_dataframe_time 0.001\n",
      "prestonstreet\n",
      "E07000128\n"
     ]
    },
    {
     "name": "stderr",
     "output_type": "stream",
     "text": [
      "/tf/empty_homes_london/helper_functions.py:279: SettingWithCopyWarning: \n",
      "A value is trying to be set on a copy of a slice from a DataFrame.\n",
      "Try using .loc[row_indexer,col_indexer] = value instead\n",
      "\n",
      "See the caveats in the documentation: https://pandas.pydata.org/pandas-docs/stable/user_guide/indexing.html#returning-a-view-versus-a-copy\n",
      "  temp_multi['number_filter'] = filter_types\n",
      "<ipython-input-12-8bc6428979cb>:35: SettingWithCopyWarning: \n",
      "A value is trying to be set on a copy of a slice from a DataFrame.\n",
      "Try using .loc[row_indexer,col_indexer] = value instead\n",
      "\n",
      "See the caveats in the documentation: https://pandas.pydata.org/pandas-docs/stable/user_guide/indexing.html#returning-a-view-versus-a-copy\n",
      "  missing_lsoa_road['lsoa11cd'] = [street_number_to_lsoa(temp_road, int(missing_lsoa_road.iloc[missing_lsoa_row]['street_number2']))\n",
      "<ipython-input-12-8bc6428979cb>:9: FutureWarning: The default value of regex will change from True to False in a future version.\n",
      "  missing_lsoa_df.loc[:,'street_number2'] = missing_lsoa_df.loc[:,'street_number'].str.replace(r\"^.*(?=\\b[0-9]+$)\", \"\").str.replace(r\"[^\\d]\", \"\", regex = True)\n",
      "<ipython-input-12-8bc6428979cb>:9: SettingWithCopyWarning: \n",
      "A value is trying to be set on a copy of a slice from a DataFrame.\n",
      "Try using .loc[row_indexer,col_indexer] = value instead\n",
      "\n",
      "See the caveats in the documentation: https://pandas.pydata.org/pandas-docs/stable/user_guide/indexing.html#returning-a-view-versus-a-copy\n",
      "  missing_lsoa_df.loc[:,'street_number2'] = missing_lsoa_df.loc[:,'street_number'].str.replace(r\"^.*(?=\\b[0-9]+$)\", \"\").str.replace(r\"[^\\d]\", \"\", regex = True)\n"
     ]
    },
    {
     "name": "stdout",
     "output_type": "stream",
     "text": [
      "i= 0  expand time,0.0 filter time0.0 make_dataframe_time 0.001\n",
      "lancasterroad\n",
      "albertterrace\n",
      "E07000226\n"
     ]
    },
    {
     "name": "stderr",
     "output_type": "stream",
     "text": [
      "/tf/empty_homes_london/helper_functions.py:279: SettingWithCopyWarning: \n",
      "A value is trying to be set on a copy of a slice from a DataFrame.\n",
      "Try using .loc[row_indexer,col_indexer] = value instead\n",
      "\n",
      "See the caveats in the documentation: https://pandas.pydata.org/pandas-docs/stable/user_guide/indexing.html#returning-a-view-versus-a-copy\n",
      "  temp_multi['number_filter'] = filter_types\n",
      "<ipython-input-12-8bc6428979cb>:35: SettingWithCopyWarning: \n",
      "A value is trying to be set on a copy of a slice from a DataFrame.\n",
      "Try using .loc[row_indexer,col_indexer] = value instead\n",
      "\n",
      "See the caveats in the documentation: https://pandas.pydata.org/pandas-docs/stable/user_guide/indexing.html#returning-a-view-versus-a-copy\n",
      "  missing_lsoa_road['lsoa11cd'] = [street_number_to_lsoa(temp_road, int(missing_lsoa_road.iloc[missing_lsoa_row]['street_number2']))\n",
      "<ipython-input-12-8bc6428979cb>:9: FutureWarning: The default value of regex will change from True to False in a future version.\n",
      "  missing_lsoa_df.loc[:,'street_number2'] = missing_lsoa_df.loc[:,'street_number'].str.replace(r\"^.*(?=\\b[0-9]+$)\", \"\").str.replace(r\"[^\\d]\", \"\", regex = True)\n",
      "<ipython-input-12-8bc6428979cb>:9: SettingWithCopyWarning: \n",
      "A value is trying to be set on a copy of a slice from a DataFrame.\n",
      "Try using .loc[row_indexer,col_indexer] = value instead\n",
      "\n",
      "See the caveats in the documentation: https://pandas.pydata.org/pandas-docs/stable/user_guide/indexing.html#returning-a-view-versus-a-copy\n",
      "  missing_lsoa_df.loc[:,'street_number2'] = missing_lsoa_df.loc[:,'street_number'].str.replace(r\"^.*(?=\\b[0-9]+$)\", \"\").str.replace(r\"[^\\d]\", \"\", regex = True)\n"
     ]
    },
    {
     "name": "stdout",
     "output_type": "stream",
     "text": [
      "i= 0  expand time,0.0 filter time0.0 make_dataframe_time 0.001\n",
      "londonroad\n",
      "gatwickroad\n",
      "E07000102\n"
     ]
    },
    {
     "name": "stderr",
     "output_type": "stream",
     "text": [
      "/tf/empty_homes_london/helper_functions.py:279: SettingWithCopyWarning: \n",
      "A value is trying to be set on a copy of a slice from a DataFrame.\n",
      "Try using .loc[row_indexer,col_indexer] = value instead\n",
      "\n",
      "See the caveats in the documentation: https://pandas.pydata.org/pandas-docs/stable/user_guide/indexing.html#returning-a-view-versus-a-copy\n",
      "  temp_multi['number_filter'] = filter_types\n",
      "<ipython-input-12-8bc6428979cb>:35: SettingWithCopyWarning: \n",
      "A value is trying to be set on a copy of a slice from a DataFrame.\n",
      "Try using .loc[row_indexer,col_indexer] = value instead\n",
      "\n",
      "See the caveats in the documentation: https://pandas.pydata.org/pandas-docs/stable/user_guide/indexing.html#returning-a-view-versus-a-copy\n",
      "  missing_lsoa_road['lsoa11cd'] = [street_number_to_lsoa(temp_road, int(missing_lsoa_road.iloc[missing_lsoa_row]['street_number2']))\n"
     ]
    },
    {
     "name": "stdout",
     "output_type": "stream",
     "text": [
      "i= 0  expand time,0.0 filter time0.0 make_dataframe_time 0.001\n",
      "stationroad\n",
      "uxbridgeroad\n",
      "highstreet\n",
      "E06000014\n"
     ]
    },
    {
     "name": "stderr",
     "output_type": "stream",
     "text": [
      "<ipython-input-12-8bc6428979cb>:9: FutureWarning: The default value of regex will change from True to False in a future version.\n",
      "  missing_lsoa_df.loc[:,'street_number2'] = missing_lsoa_df.loc[:,'street_number'].str.replace(r\"^.*(?=\\b[0-9]+$)\", \"\").str.replace(r\"[^\\d]\", \"\", regex = True)\n",
      "<ipython-input-12-8bc6428979cb>:9: SettingWithCopyWarning: \n",
      "A value is trying to be set on a copy of a slice from a DataFrame.\n",
      "Try using .loc[row_indexer,col_indexer] = value instead\n",
      "\n",
      "See the caveats in the documentation: https://pandas.pydata.org/pandas-docs/stable/user_guide/indexing.html#returning-a-view-versus-a-copy\n",
      "  missing_lsoa_df.loc[:,'street_number2'] = missing_lsoa_df.loc[:,'street_number'].str.replace(r\"^.*(?=\\b[0-9]+$)\", \"\").str.replace(r\"[^\\d]\", \"\", regex = True)\n",
      "/tf/empty_homes_london/helper_functions.py:279: SettingWithCopyWarning: \n",
      "A value is trying to be set on a copy of a slice from a DataFrame.\n",
      "Try using .loc[row_indexer,col_indexer] = value instead\n",
      "\n",
      "See the caveats in the documentation: https://pandas.pydata.org/pandas-docs/stable/user_guide/indexing.html#returning-a-view-versus-a-copy\n",
      "  temp_multi['number_filter'] = filter_types\n",
      "<ipython-input-12-8bc6428979cb>:9: FutureWarning: The default value of regex will change from True to False in a future version.\n",
      "  missing_lsoa_df.loc[:,'street_number2'] = missing_lsoa_df.loc[:,'street_number'].str.replace(r\"^.*(?=\\b[0-9]+$)\", \"\").str.replace(r\"[^\\d]\", \"\", regex = True)\n",
      "<ipython-input-12-8bc6428979cb>:9: SettingWithCopyWarning: \n",
      "A value is trying to be set on a copy of a slice from a DataFrame.\n",
      "Try using .loc[row_indexer,col_indexer] = value instead\n",
      "\n",
      "See the caveats in the documentation: https://pandas.pydata.org/pandas-docs/stable/user_guide/indexing.html#returning-a-view-versus-a-copy\n",
      "  missing_lsoa_df.loc[:,'street_number2'] = missing_lsoa_df.loc[:,'street_number'].str.replace(r\"^.*(?=\\b[0-9]+$)\", \"\").str.replace(r\"[^\\d]\", \"\", regex = True)\n"
     ]
    },
    {
     "name": "stdout",
     "output_type": "stream",
     "text": [
      "i= 0  expand time,0.0 filter time0.0 make_dataframe_time 0.001\n",
      "goodramgate\n",
      "E07000187\n"
     ]
    },
    {
     "name": "stderr",
     "output_type": "stream",
     "text": [
      "/tf/empty_homes_london/helper_functions.py:279: SettingWithCopyWarning: \n",
      "A value is trying to be set on a copy of a slice from a DataFrame.\n",
      "Try using .loc[row_indexer,col_indexer] = value instead\n",
      "\n",
      "See the caveats in the documentation: https://pandas.pydata.org/pandas-docs/stable/user_guide/indexing.html#returning-a-view-versus-a-copy\n",
      "  temp_multi['number_filter'] = filter_types\n",
      "<ipython-input-12-8bc6428979cb>:35: SettingWithCopyWarning: \n",
      "A value is trying to be set on a copy of a slice from a DataFrame.\n",
      "Try using .loc[row_indexer,col_indexer] = value instead\n",
      "\n",
      "See the caveats in the documentation: https://pandas.pydata.org/pandas-docs/stable/user_guide/indexing.html#returning-a-view-versus-a-copy\n",
      "  missing_lsoa_road['lsoa11cd'] = [street_number_to_lsoa(temp_road, int(missing_lsoa_road.iloc[missing_lsoa_row]['street_number2']))\n",
      "<ipython-input-12-8bc6428979cb>:9: FutureWarning: The default value of regex will change from True to False in a future version.\n",
      "  missing_lsoa_df.loc[:,'street_number2'] = missing_lsoa_df.loc[:,'street_number'].str.replace(r\"^.*(?=\\b[0-9]+$)\", \"\").str.replace(r\"[^\\d]\", \"\", regex = True)\n",
      "<ipython-input-12-8bc6428979cb>:9: SettingWithCopyWarning: \n",
      "A value is trying to be set on a copy of a slice from a DataFrame.\n",
      "Try using .loc[row_indexer,col_indexer] = value instead\n",
      "\n",
      "See the caveats in the documentation: https://pandas.pydata.org/pandas-docs/stable/user_guide/indexing.html#returning-a-view-versus-a-copy\n",
      "  missing_lsoa_df.loc[:,'street_number2'] = missing_lsoa_df.loc[:,'street_number'].str.replace(r\"^.*(?=\\b[0-9]+$)\", \"\").str.replace(r\"[^\\d]\", \"\", regex = True)\n"
     ]
    },
    {
     "name": "stdout",
     "output_type": "stream",
     "text": [
      "i= 0  expand time,0.0 filter time0.0 make_dataframe_time 0.001\n",
      "whileygreen\n",
      "marketplace\n",
      "highstreet\n",
      "E09000004\n"
     ]
    },
    {
     "name": "stderr",
     "output_type": "stream",
     "text": [
      "/tf/empty_homes_london/helper_functions.py:279: SettingWithCopyWarning: \n",
      "A value is trying to be set on a copy of a slice from a DataFrame.\n",
      "Try using .loc[row_indexer,col_indexer] = value instead\n",
      "\n",
      "See the caveats in the documentation: https://pandas.pydata.org/pandas-docs/stable/user_guide/indexing.html#returning-a-view-versus-a-copy\n",
      "  temp_multi['number_filter'] = filter_types\n",
      "<ipython-input-12-8bc6428979cb>:9: FutureWarning: The default value of regex will change from True to False in a future version.\n",
      "  missing_lsoa_df.loc[:,'street_number2'] = missing_lsoa_df.loc[:,'street_number'].str.replace(r\"^.*(?=\\b[0-9]+$)\", \"\").str.replace(r\"[^\\d]\", \"\", regex = True)\n",
      "<ipython-input-12-8bc6428979cb>:9: SettingWithCopyWarning: \n",
      "A value is trying to be set on a copy of a slice from a DataFrame.\n",
      "Try using .loc[row_indexer,col_indexer] = value instead\n",
      "\n",
      "See the caveats in the documentation: https://pandas.pydata.org/pandas-docs/stable/user_guide/indexing.html#returning-a-view-versus-a-copy\n",
      "  missing_lsoa_df.loc[:,'street_number2'] = missing_lsoa_df.loc[:,'street_number'].str.replace(r\"^.*(?=\\b[0-9]+$)\", \"\").str.replace(r\"[^\\d]\", \"\", regex = True)\n"
     ]
    },
    {
     "name": "stdout",
     "output_type": "stream",
     "text": [
      "i= 0  expand time,0.0 filter time0.0 make_dataframe_time 0.001\n",
      "broadway\n",
      "E07000224\n",
      "norfolkroad\n",
      "fitzalanroad\n",
      "E07000096\n"
     ]
    },
    {
     "name": "stderr",
     "output_type": "stream",
     "text": [
      "<ipython-input-12-8bc6428979cb>:35: SettingWithCopyWarning: \n",
      "A value is trying to be set on a copy of a slice from a DataFrame.\n",
      "Try using .loc[row_indexer,col_indexer] = value instead\n",
      "\n",
      "See the caveats in the documentation: https://pandas.pydata.org/pandas-docs/stable/user_guide/indexing.html#returning-a-view-versus-a-copy\n",
      "  missing_lsoa_road['lsoa11cd'] = [street_number_to_lsoa(temp_road, int(missing_lsoa_road.iloc[missing_lsoa_row]['street_number2']))\n",
      "<ipython-input-12-8bc6428979cb>:9: FutureWarning: The default value of regex will change from True to False in a future version.\n",
      "  missing_lsoa_df.loc[:,'street_number2'] = missing_lsoa_df.loc[:,'street_number'].str.replace(r\"^.*(?=\\b[0-9]+$)\", \"\").str.replace(r\"[^\\d]\", \"\", regex = True)\n",
      "<ipython-input-12-8bc6428979cb>:9: SettingWithCopyWarning: \n",
      "A value is trying to be set on a copy of a slice from a DataFrame.\n",
      "Try using .loc[row_indexer,col_indexer] = value instead\n",
      "\n",
      "See the caveats in the documentation: https://pandas.pydata.org/pandas-docs/stable/user_guide/indexing.html#returning-a-view-versus-a-copy\n",
      "  missing_lsoa_df.loc[:,'street_number2'] = missing_lsoa_df.loc[:,'street_number'].str.replace(r\"^.*(?=\\b[0-9]+$)\", \"\").str.replace(r\"[^\\d]\", \"\", regex = True)\n",
      "/tf/empty_homes_london/helper_functions.py:279: SettingWithCopyWarning: \n",
      "A value is trying to be set on a copy of a slice from a DataFrame.\n",
      "Try using .loc[row_indexer,col_indexer] = value instead\n",
      "\n",
      "See the caveats in the documentation: https://pandas.pydata.org/pandas-docs/stable/user_guide/indexing.html#returning-a-view-versus-a-copy\n",
      "  temp_multi['number_filter'] = filter_types\n",
      "<ipython-input-12-8bc6428979cb>:35: SettingWithCopyWarning: \n",
      "A value is trying to be set on a copy of a slice from a DataFrame.\n",
      "Try using .loc[row_indexer,col_indexer] = value instead\n",
      "\n",
      "See the caveats in the documentation: https://pandas.pydata.org/pandas-docs/stable/user_guide/indexing.html#returning-a-view-versus-a-copy\n",
      "  missing_lsoa_road['lsoa11cd'] = [street_number_to_lsoa(temp_road, int(missing_lsoa_road.iloc[missing_lsoa_row]['street_number2']))\n",
      "<ipython-input-12-8bc6428979cb>:9: FutureWarning: The default value of regex will change from True to False in a future version.\n",
      "  missing_lsoa_df.loc[:,'street_number2'] = missing_lsoa_df.loc[:,'street_number'].str.replace(r\"^.*(?=\\b[0-9]+$)\", \"\").str.replace(r\"[^\\d]\", \"\", regex = True)\n",
      "<ipython-input-12-8bc6428979cb>:9: SettingWithCopyWarning: \n",
      "A value is trying to be set on a copy of a slice from a DataFrame.\n",
      "Try using .loc[row_indexer,col_indexer] = value instead\n",
      "\n",
      "See the caveats in the documentation: https://pandas.pydata.org/pandas-docs/stable/user_guide/indexing.html#returning-a-view-versus-a-copy\n",
      "  missing_lsoa_df.loc[:,'street_number2'] = missing_lsoa_df.loc[:,'street_number'].str.replace(r\"^.*(?=\\b[0-9]+$)\", \"\").str.replace(r\"[^\\d]\", \"\", regex = True)\n"
     ]
    },
    {
     "name": "stdout",
     "output_type": "stream",
     "text": [
      "i= 0  expand time,0.0 filter time0.0 make_dataframe_time 0.001\n",
      "bridgestreet\n",
      "maxtedroad\n",
      "inclusiveeastmanway\n",
      "marlowes\n",
      "E07000178\n"
     ]
    },
    {
     "name": "stderr",
     "output_type": "stream",
     "text": [
      "/tf/empty_homes_london/helper_functions.py:279: SettingWithCopyWarning: \n",
      "A value is trying to be set on a copy of a slice from a DataFrame.\n",
      "Try using .loc[row_indexer,col_indexer] = value instead\n",
      "\n",
      "See the caveats in the documentation: https://pandas.pydata.org/pandas-docs/stable/user_guide/indexing.html#returning-a-view-versus-a-copy\n",
      "  temp_multi['number_filter'] = filter_types\n",
      "<ipython-input-12-8bc6428979cb>:35: SettingWithCopyWarning: \n",
      "A value is trying to be set on a copy of a slice from a DataFrame.\n",
      "Try using .loc[row_indexer,col_indexer] = value instead\n",
      "\n",
      "See the caveats in the documentation: https://pandas.pydata.org/pandas-docs/stable/user_guide/indexing.html#returning-a-view-versus-a-copy\n",
      "  missing_lsoa_road['lsoa11cd'] = [street_number_to_lsoa(temp_road, int(missing_lsoa_road.iloc[missing_lsoa_row]['street_number2']))\n",
      "<ipython-input-12-8bc6428979cb>:9: FutureWarning: The default value of regex will change from True to False in a future version.\n",
      "  missing_lsoa_df.loc[:,'street_number2'] = missing_lsoa_df.loc[:,'street_number'].str.replace(r\"^.*(?=\\b[0-9]+$)\", \"\").str.replace(r\"[^\\d]\", \"\", regex = True)\n",
      "<ipython-input-12-8bc6428979cb>:9: SettingWithCopyWarning: \n",
      "A value is trying to be set on a copy of a slice from a DataFrame.\n",
      "Try using .loc[row_indexer,col_indexer] = value instead\n",
      "\n",
      "See the caveats in the documentation: https://pandas.pydata.org/pandas-docs/stable/user_guide/indexing.html#returning-a-view-versus-a-copy\n",
      "  missing_lsoa_df.loc[:,'street_number2'] = missing_lsoa_df.loc[:,'street_number'].str.replace(r\"^.*(?=\\b[0-9]+$)\", \"\").str.replace(r\"[^\\d]\", \"\", regex = True)\n"
     ]
    },
    {
     "name": "stdout",
     "output_type": "stream",
     "text": [
      "i= 0  expand time,0.0 filter time0.0 make_dataframe_time 0.001\n",
      "queenstreet\n",
      "banburyroad\n",
      "E07000214\n"
     ]
    },
    {
     "name": "stderr",
     "output_type": "stream",
     "text": [
      "/tf/empty_homes_london/helper_functions.py:279: SettingWithCopyWarning: \n",
      "A value is trying to be set on a copy of a slice from a DataFrame.\n",
      "Try using .loc[row_indexer,col_indexer] = value instead\n",
      "\n",
      "See the caveats in the documentation: https://pandas.pydata.org/pandas-docs/stable/user_guide/indexing.html#returning-a-view-versus-a-copy\n",
      "  temp_multi['number_filter'] = filter_types\n",
      "<ipython-input-12-8bc6428979cb>:9: FutureWarning: The default value of regex will change from True to False in a future version.\n",
      "  missing_lsoa_df.loc[:,'street_number2'] = missing_lsoa_df.loc[:,'street_number'].str.replace(r\"^.*(?=\\b[0-9]+$)\", \"\").str.replace(r\"[^\\d]\", \"\", regex = True)\n",
      "<ipython-input-12-8bc6428979cb>:9: SettingWithCopyWarning: \n",
      "A value is trying to be set on a copy of a slice from a DataFrame.\n",
      "Try using .loc[row_indexer,col_indexer] = value instead\n",
      "\n",
      "See the caveats in the documentation: https://pandas.pydata.org/pandas-docs/stable/user_guide/indexing.html#returning-a-view-versus-a-copy\n",
      "  missing_lsoa_df.loc[:,'street_number2'] = missing_lsoa_df.loc[:,'street_number'].str.replace(r\"^.*(?=\\b[0-9]+$)\", \"\").str.replace(r\"[^\\d]\", \"\", regex = True)\n"
     ]
    },
    {
     "name": "stdout",
     "output_type": "stream",
     "text": [
      "i= 0  expand time,0.0 filter time0.0 make_dataframe_time 0.001\n",
      "parkstreet\n",
      "E09000008\n"
     ]
    },
    {
     "name": "stderr",
     "output_type": "stream",
     "text": [
      "/tf/empty_homes_london/helper_functions.py:279: SettingWithCopyWarning: \n",
      "A value is trying to be set on a copy of a slice from a DataFrame.\n",
      "Try using .loc[row_indexer,col_indexer] = value instead\n",
      "\n",
      "See the caveats in the documentation: https://pandas.pydata.org/pandas-docs/stable/user_guide/indexing.html#returning-a-view-versus-a-copy\n",
      "  temp_multi['number_filter'] = filter_types\n",
      "<ipython-input-12-8bc6428979cb>:35: SettingWithCopyWarning: \n",
      "A value is trying to be set on a copy of a slice from a DataFrame.\n",
      "Try using .loc[row_indexer,col_indexer] = value instead\n",
      "\n",
      "See the caveats in the documentation: https://pandas.pydata.org/pandas-docs/stable/user_guide/indexing.html#returning-a-view-versus-a-copy\n",
      "  missing_lsoa_road['lsoa11cd'] = [street_number_to_lsoa(temp_road, int(missing_lsoa_road.iloc[missing_lsoa_row]['street_number2']))\n"
     ]
    },
    {
     "name": "stdout",
     "output_type": "stream",
     "text": [
      "i= 0  expand time,0.0 filter time0.0 make_dataframe_time 0.001\n",
      "purleyway\n",
      "staffordroad\n",
      "wellesleyroad\n",
      "brightonroad\n",
      "lodgeroad\n",
      "anthonyroad\n",
      "selhurstroad\n",
      "churchroad\n",
      "wandleroad\n",
      "E06000011\n"
     ]
    },
    {
     "name": "stderr",
     "output_type": "stream",
     "text": [
      "<ipython-input-12-8bc6428979cb>:9: FutureWarning: The default value of regex will change from True to False in a future version.\n",
      "  missing_lsoa_df.loc[:,'street_number2'] = missing_lsoa_df.loc[:,'street_number'].str.replace(r\"^.*(?=\\b[0-9]+$)\", \"\").str.replace(r\"[^\\d]\", \"\", regex = True)\n",
      "<ipython-input-12-8bc6428979cb>:9: SettingWithCopyWarning: \n",
      "A value is trying to be set on a copy of a slice from a DataFrame.\n",
      "Try using .loc[row_indexer,col_indexer] = value instead\n",
      "\n",
      "See the caveats in the documentation: https://pandas.pydata.org/pandas-docs/stable/user_guide/indexing.html#returning-a-view-versus-a-copy\n",
      "  missing_lsoa_df.loc[:,'street_number2'] = missing_lsoa_df.loc[:,'street_number'].str.replace(r\"^.*(?=\\b[0-9]+$)\", \"\").str.replace(r\"[^\\d]\", \"\", regex = True)\n",
      "/tf/empty_homes_london/helper_functions.py:279: SettingWithCopyWarning: \n",
      "A value is trying to be set on a copy of a slice from a DataFrame.\n",
      "Try using .loc[row_indexer,col_indexer] = value instead\n",
      "\n",
      "See the caveats in the documentation: https://pandas.pydata.org/pandas-docs/stable/user_guide/indexing.html#returning-a-view-versus-a-copy\n",
      "  temp_multi['number_filter'] = filter_types\n",
      "<ipython-input-12-8bc6428979cb>:35: SettingWithCopyWarning: \n",
      "A value is trying to be set on a copy of a slice from a DataFrame.\n",
      "Try using .loc[row_indexer,col_indexer] = value instead\n",
      "\n",
      "See the caveats in the documentation: https://pandas.pydata.org/pandas-docs/stable/user_guide/indexing.html#returning-a-view-versus-a-copy\n",
      "  missing_lsoa_road['lsoa11cd'] = [street_number_to_lsoa(temp_road, int(missing_lsoa_road.iloc[missing_lsoa_row]['street_number2']))\n",
      "<ipython-input-12-8bc6428979cb>:9: FutureWarning: The default value of regex will change from True to False in a future version.\n",
      "  missing_lsoa_df.loc[:,'street_number2'] = missing_lsoa_df.loc[:,'street_number'].str.replace(r\"^.*(?=\\b[0-9]+$)\", \"\").str.replace(r\"[^\\d]\", \"\", regex = True)\n",
      "<ipython-input-12-8bc6428979cb>:9: SettingWithCopyWarning: \n",
      "A value is trying to be set on a copy of a slice from a DataFrame.\n",
      "Try using .loc[row_indexer,col_indexer] = value instead\n",
      "\n",
      "See the caveats in the documentation: https://pandas.pydata.org/pandas-docs/stable/user_guide/indexing.html#returning-a-view-versus-a-copy\n",
      "  missing_lsoa_df.loc[:,'street_number2'] = missing_lsoa_df.loc[:,'street_number'].str.replace(r\"^.*(?=\\b[0-9]+$)\", \"\").str.replace(r\"[^\\d]\", \"\", regex = True)\n"
     ]
    },
    {
     "name": "stdout",
     "output_type": "stream",
     "text": [
      "i= 0  expand time,0.0 filter time0.0 make_dataframe_time 0.001\n",
      "middlestreet\n",
      "promenade\n",
      "princestreet\n",
      "lowthorpelane\n",
      "E08000034\n"
     ]
    },
    {
     "name": "stderr",
     "output_type": "stream",
     "text": [
      "/tf/empty_homes_london/helper_functions.py:279: SettingWithCopyWarning: \n",
      "A value is trying to be set on a copy of a slice from a DataFrame.\n",
      "Try using .loc[row_indexer,col_indexer] = value instead\n",
      "\n",
      "See the caveats in the documentation: https://pandas.pydata.org/pandas-docs/stable/user_guide/indexing.html#returning-a-view-versus-a-copy\n",
      "  temp_multi['number_filter'] = filter_types\n",
      "<ipython-input-12-8bc6428979cb>:35: SettingWithCopyWarning: \n",
      "A value is trying to be set on a copy of a slice from a DataFrame.\n",
      "Try using .loc[row_indexer,col_indexer] = value instead\n",
      "\n",
      "See the caveats in the documentation: https://pandas.pydata.org/pandas-docs/stable/user_guide/indexing.html#returning-a-view-versus-a-copy\n",
      "  missing_lsoa_road['lsoa11cd'] = [street_number_to_lsoa(temp_road, int(missing_lsoa_road.iloc[missing_lsoa_row]['street_number2']))\n",
      "<ipython-input-12-8bc6428979cb>:9: FutureWarning: The default value of regex will change from True to False in a future version.\n",
      "  missing_lsoa_df.loc[:,'street_number2'] = missing_lsoa_df.loc[:,'street_number'].str.replace(r\"^.*(?=\\b[0-9]+$)\", \"\").str.replace(r\"[^\\d]\", \"\", regex = True)\n",
      "<ipython-input-12-8bc6428979cb>:9: SettingWithCopyWarning: \n",
      "A value is trying to be set on a copy of a slice from a DataFrame.\n",
      "Try using .loc[row_indexer,col_indexer] = value instead\n",
      "\n",
      "See the caveats in the documentation: https://pandas.pydata.org/pandas-docs/stable/user_guide/indexing.html#returning-a-view-versus-a-copy\n",
      "  missing_lsoa_df.loc[:,'street_number2'] = missing_lsoa_df.loc[:,'street_number'].str.replace(r\"^.*(?=\\b[0-9]+$)\", \"\").str.replace(r\"[^\\d]\", \"\", regex = True)\n"
     ]
    },
    {
     "name": "stdout",
     "output_type": "stream",
     "text": [
      "i= 0  expand time,0.0 filter time0.0 make_dataframe_time 0.001\n",
      "marketplace\n",
      "westgate\n",
      "newstreet\n",
      "woodheadroad\n",
      "firthstreet\n",
      "spenlane\n",
      "kirkgate\n",
      "marketwalk\n",
      "crochurchstreet\n",
      "clevelandroad\n",
      "E06000040\n"
     ]
    },
    {
     "name": "stderr",
     "output_type": "stream",
     "text": [
      "/tf/empty_homes_london/helper_functions.py:279: SettingWithCopyWarning: \n",
      "A value is trying to be set on a copy of a slice from a DataFrame.\n",
      "Try using .loc[row_indexer,col_indexer] = value instead\n",
      "\n",
      "See the caveats in the documentation: https://pandas.pydata.org/pandas-docs/stable/user_guide/indexing.html#returning-a-view-versus-a-copy\n",
      "  temp_multi['number_filter'] = filter_types\n",
      "<ipython-input-12-8bc6428979cb>:35: SettingWithCopyWarning: \n",
      "A value is trying to be set on a copy of a slice from a DataFrame.\n",
      "Try using .loc[row_indexer,col_indexer] = value instead\n",
      "\n",
      "See the caveats in the documentation: https://pandas.pydata.org/pandas-docs/stable/user_guide/indexing.html#returning-a-view-versus-a-copy\n",
      "  missing_lsoa_road['lsoa11cd'] = [street_number_to_lsoa(temp_road, int(missing_lsoa_road.iloc[missing_lsoa_row]['street_number2']))\n",
      "<ipython-input-12-8bc6428979cb>:9: FutureWarning: The default value of regex will change from True to False in a future version.\n",
      "  missing_lsoa_df.loc[:,'street_number2'] = missing_lsoa_df.loc[:,'street_number'].str.replace(r\"^.*(?=\\b[0-9]+$)\", \"\").str.replace(r\"[^\\d]\", \"\", regex = True)\n",
      "<ipython-input-12-8bc6428979cb>:9: SettingWithCopyWarning: \n",
      "A value is trying to be set on a copy of a slice from a DataFrame.\n",
      "Try using .loc[row_indexer,col_indexer] = value instead\n",
      "\n",
      "See the caveats in the documentation: https://pandas.pydata.org/pandas-docs/stable/user_guide/indexing.html#returning-a-view-versus-a-copy\n",
      "  missing_lsoa_df.loc[:,'street_number2'] = missing_lsoa_df.loc[:,'street_number'].str.replace(r\"^.*(?=\\b[0-9]+$)\", \"\").str.replace(r\"[^\\d]\", \"\", regex = True)\n"
     ]
    },
    {
     "name": "stdout",
     "output_type": "stream",
     "text": [
      "i= 0  expand time,0.0 filter time0.0 make_dataframe_time 0.001\n",
      "sheetstreet\n",
      "londonroad\n",
      "stleonardroad\n",
      "E07000081\n"
     ]
    },
    {
     "name": "stderr",
     "output_type": "stream",
     "text": [
      "/tf/empty_homes_london/helper_functions.py:279: SettingWithCopyWarning: \n",
      "A value is trying to be set on a copy of a slice from a DataFrame.\n",
      "Try using .loc[row_indexer,col_indexer] = value instead\n",
      "\n",
      "See the caveats in the documentation: https://pandas.pydata.org/pandas-docs/stable/user_guide/indexing.html#returning-a-view-versus-a-copy\n",
      "  temp_multi['number_filter'] = filter_types\n",
      "<ipython-input-12-8bc6428979cb>:35: SettingWithCopyWarning: \n",
      "A value is trying to be set on a copy of a slice from a DataFrame.\n",
      "Try using .loc[row_indexer,col_indexer] = value instead\n",
      "\n",
      "See the caveats in the documentation: https://pandas.pydata.org/pandas-docs/stable/user_guide/indexing.html#returning-a-view-versus-a-copy\n",
      "  missing_lsoa_road['lsoa11cd'] = [street_number_to_lsoa(temp_road, int(missing_lsoa_road.iloc[missing_lsoa_row]['street_number2']))\n",
      "<ipython-input-12-8bc6428979cb>:9: FutureWarning: The default value of regex will change from True to False in a future version.\n",
      "  missing_lsoa_df.loc[:,'street_number2'] = missing_lsoa_df.loc[:,'street_number'].str.replace(r\"^.*(?=\\b[0-9]+$)\", \"\").str.replace(r\"[^\\d]\", \"\", regex = True)\n",
      "<ipython-input-12-8bc6428979cb>:9: SettingWithCopyWarning: \n",
      "A value is trying to be set on a copy of a slice from a DataFrame.\n",
      "Try using .loc[row_indexer,col_indexer] = value instead\n",
      "\n",
      "See the caveats in the documentation: https://pandas.pydata.org/pandas-docs/stable/user_guide/indexing.html#returning-a-view-versus-a-copy\n",
      "  missing_lsoa_df.loc[:,'street_number2'] = missing_lsoa_df.loc[:,'street_number'].str.replace(r\"^.*(?=\\b[0-9]+$)\", \"\").str.replace(r\"[^\\d]\", \"\", regex = True)\n"
     ]
    },
    {
     "name": "stdout",
     "output_type": "stream",
     "text": [
      "i= 0  expand time,0.0 filter time0.0 make_dataframe_time 0.001\n",
      "stmawganstreet\n",
      "bristolroad\n",
      "E07000221\n"
     ]
    },
    {
     "name": "stderr",
     "output_type": "stream",
     "text": [
      "/tf/empty_homes_london/helper_functions.py:279: SettingWithCopyWarning: \n",
      "A value is trying to be set on a copy of a slice from a DataFrame.\n",
      "Try using .loc[row_indexer,col_indexer] = value instead\n",
      "\n",
      "See the caveats in the documentation: https://pandas.pydata.org/pandas-docs/stable/user_guide/indexing.html#returning-a-view-versus-a-copy\n",
      "  temp_multi['number_filter'] = filter_types\n",
      "<ipython-input-12-8bc6428979cb>:35: SettingWithCopyWarning: \n",
      "A value is trying to be set on a copy of a slice from a DataFrame.\n",
      "Try using .loc[row_indexer,col_indexer] = value instead\n",
      "\n",
      "See the caveats in the documentation: https://pandas.pydata.org/pandas-docs/stable/user_guide/indexing.html#returning-a-view-versus-a-copy\n",
      "  missing_lsoa_road['lsoa11cd'] = [street_number_to_lsoa(temp_road, int(missing_lsoa_road.iloc[missing_lsoa_row]['street_number2']))\n",
      "<ipython-input-12-8bc6428979cb>:9: FutureWarning: The default value of regex will change from True to False in a future version.\n",
      "  missing_lsoa_df.loc[:,'street_number2'] = missing_lsoa_df.loc[:,'street_number'].str.replace(r\"^.*(?=\\b[0-9]+$)\", \"\").str.replace(r\"[^\\d]\", \"\", regex = True)\n",
      "<ipython-input-12-8bc6428979cb>:9: SettingWithCopyWarning: \n",
      "A value is trying to be set on a copy of a slice from a DataFrame.\n",
      "Try using .loc[row_indexer,col_indexer] = value instead\n",
      "\n",
      "See the caveats in the documentation: https://pandas.pydata.org/pandas-docs/stable/user_guide/indexing.html#returning-a-view-versus-a-copy\n",
      "  missing_lsoa_df.loc[:,'street_number2'] = missing_lsoa_df.loc[:,'street_number'].str.replace(r\"^.*(?=\\b[0-9]+$)\", \"\").str.replace(r\"[^\\d]\", \"\", regex = True)\n"
     ]
    },
    {
     "name": "stdout",
     "output_type": "stream",
     "text": [
      "i= 0  expand time,0.0 filter time0.0 make_dataframe_time 0.001\n",
      "inclusivecloptonfields,\n",
      "cloptonfields,\n",
      "chapelstreet\n",
      "bridgestreet\n",
      "W06000013\n"
     ]
    },
    {
     "name": "stderr",
     "output_type": "stream",
     "text": [
      "/tf/empty_homes_london/helper_functions.py:279: SettingWithCopyWarning: \n",
      "A value is trying to be set on a copy of a slice from a DataFrame.\n",
      "Try using .loc[row_indexer,col_indexer] = value instead\n",
      "\n",
      "See the caveats in the documentation: https://pandas.pydata.org/pandas-docs/stable/user_guide/indexing.html#returning-a-view-versus-a-copy\n",
      "  temp_multi['number_filter'] = filter_types\n",
      "<ipython-input-12-8bc6428979cb>:35: SettingWithCopyWarning: \n",
      "A value is trying to be set on a copy of a slice from a DataFrame.\n",
      "Try using .loc[row_indexer,col_indexer] = value instead\n",
      "\n",
      "See the caveats in the documentation: https://pandas.pydata.org/pandas-docs/stable/user_guide/indexing.html#returning-a-view-versus-a-copy\n",
      "  missing_lsoa_road['lsoa11cd'] = [street_number_to_lsoa(temp_road, int(missing_lsoa_road.iloc[missing_lsoa_row]['street_number2']))\n",
      "<ipython-input-12-8bc6428979cb>:9: FutureWarning: The default value of regex will change from True to False in a future version.\n",
      "  missing_lsoa_df.loc[:,'street_number2'] = missing_lsoa_df.loc[:,'street_number'].str.replace(r\"^.*(?=\\b[0-9]+$)\", \"\").str.replace(r\"[^\\d]\", \"\", regex = True)\n",
      "<ipython-input-12-8bc6428979cb>:9: SettingWithCopyWarning: \n",
      "A value is trying to be set on a copy of a slice from a DataFrame.\n",
      "Try using .loc[row_indexer,col_indexer] = value instead\n",
      "\n",
      "See the caveats in the documentation: https://pandas.pydata.org/pandas-docs/stable/user_guide/indexing.html#returning-a-view-versus-a-copy\n",
      "  missing_lsoa_df.loc[:,'street_number2'] = missing_lsoa_df.loc[:,'street_number'].str.replace(r\"^.*(?=\\b[0-9]+$)\", \"\").str.replace(r\"[^\\d]\", \"\", regex = True)\n"
     ]
    },
    {
     "name": "stdout",
     "output_type": "stream",
     "text": [
      "i= 0  expand time,0.0 filter time0.0 make_dataframe_time 0.0\n",
      "bridgend\n",
      "tudordrive\n",
      "tyn-y-betwclose\n",
      "noltonstreet\n",
      "E08000029\n"
     ]
    },
    {
     "name": "stderr",
     "output_type": "stream",
     "text": [
      "/tf/empty_homes_london/helper_functions.py:279: SettingWithCopyWarning: \n",
      "A value is trying to be set on a copy of a slice from a DataFrame.\n",
      "Try using .loc[row_indexer,col_indexer] = value instead\n",
      "\n",
      "See the caveats in the documentation: https://pandas.pydata.org/pandas-docs/stable/user_guide/indexing.html#returning-a-view-versus-a-copy\n",
      "  temp_multi['number_filter'] = filter_types\n",
      "<ipython-input-12-8bc6428979cb>:35: SettingWithCopyWarning: \n",
      "A value is trying to be set on a copy of a slice from a DataFrame.\n",
      "Try using .loc[row_indexer,col_indexer] = value instead\n",
      "\n",
      "See the caveats in the documentation: https://pandas.pydata.org/pandas-docs/stable/user_guide/indexing.html#returning-a-view-versus-a-copy\n",
      "  missing_lsoa_road['lsoa11cd'] = [street_number_to_lsoa(temp_road, int(missing_lsoa_road.iloc[missing_lsoa_row]['street_number2']))\n"
     ]
    },
    {
     "name": "stdout",
     "output_type": "stream",
     "text": [
      "i= 0  expand time,0.0 filter time0.0 make_dataframe_time 0.001\n",
      "highstreet\n",
      "warwickroad\n",
      "poplarroad\n",
      "stratfordroad\n",
      "thecrescent\n",
      "solihullparkway\n",
      "E07000039\n"
     ]
    },
    {
     "name": "stderr",
     "output_type": "stream",
     "text": [
      "<ipython-input-12-8bc6428979cb>:9: FutureWarning: The default value of regex will change from True to False in a future version.\n",
      "  missing_lsoa_df.loc[:,'street_number2'] = missing_lsoa_df.loc[:,'street_number'].str.replace(r\"^.*(?=\\b[0-9]+$)\", \"\").str.replace(r\"[^\\d]\", \"\", regex = True)\n",
      "<ipython-input-12-8bc6428979cb>:9: SettingWithCopyWarning: \n",
      "A value is trying to be set on a copy of a slice from a DataFrame.\n",
      "Try using .loc[row_indexer,col_indexer] = value instead\n",
      "\n",
      "See the caveats in the documentation: https://pandas.pydata.org/pandas-docs/stable/user_guide/indexing.html#returning-a-view-versus-a-copy\n",
      "  missing_lsoa_df.loc[:,'street_number2'] = missing_lsoa_df.loc[:,'street_number'].str.replace(r\"^.*(?=\\b[0-9]+$)\", \"\").str.replace(r\"[^\\d]\", \"\", regex = True)\n",
      "/tf/empty_homes_london/helper_functions.py:279: SettingWithCopyWarning: \n",
      "A value is trying to be set on a copy of a slice from a DataFrame.\n",
      "Try using .loc[row_indexer,col_indexer] = value instead\n",
      "\n",
      "See the caveats in the documentation: https://pandas.pydata.org/pandas-docs/stable/user_guide/indexing.html#returning-a-view-versus-a-copy\n",
      "  temp_multi['number_filter'] = filter_types\n",
      "<ipython-input-12-8bc6428979cb>:35: SettingWithCopyWarning: \n",
      "A value is trying to be set on a copy of a slice from a DataFrame.\n",
      "Try using .loc[row_indexer,col_indexer] = value instead\n",
      "\n",
      "See the caveats in the documentation: https://pandas.pydata.org/pandas-docs/stable/user_guide/indexing.html#returning-a-view-versus-a-copy\n",
      "  missing_lsoa_road['lsoa11cd'] = [street_number_to_lsoa(temp_road, int(missing_lsoa_road.iloc[missing_lsoa_row]['street_number2']))\n",
      "<ipython-input-12-8bc6428979cb>:9: FutureWarning: The default value of regex will change from True to False in a future version.\n",
      "  missing_lsoa_df.loc[:,'street_number2'] = missing_lsoa_df.loc[:,'street_number'].str.replace(r\"^.*(?=\\b[0-9]+$)\", \"\").str.replace(r\"[^\\d]\", \"\", regex = True)\n",
      "<ipython-input-12-8bc6428979cb>:9: SettingWithCopyWarning: \n",
      "A value is trying to be set on a copy of a slice from a DataFrame.\n",
      "Try using .loc[row_indexer,col_indexer] = value instead\n",
      "\n",
      "See the caveats in the documentation: https://pandas.pydata.org/pandas-docs/stable/user_guide/indexing.html#returning-a-view-versus-a-copy\n",
      "  missing_lsoa_df.loc[:,'street_number2'] = missing_lsoa_df.loc[:,'street_number'].str.replace(r\"^.*(?=\\b[0-9]+$)\", \"\").str.replace(r\"[^\\d]\", \"\", regex = True)\n"
     ]
    },
    {
     "name": "stdout",
     "output_type": "stream",
     "text": [
      "i= 0  expand time,0.0 filter time0.0 make_dataframe_time 0.001\n",
      "ashbyroad\n",
      "thegreen\n",
      "chapelstreet\n",
      "mainstreet\n",
      "melbournelane\n",
      "burtonroad\n",
      "highstreet\n",
      "churchlane\n",
      "E07000227\n"
     ]
    },
    {
     "name": "stderr",
     "output_type": "stream",
     "text": [
      "/tf/empty_homes_london/helper_functions.py:279: SettingWithCopyWarning: \n",
      "A value is trying to be set on a copy of a slice from a DataFrame.\n",
      "Try using .loc[row_indexer,col_indexer] = value instead\n",
      "\n",
      "See the caveats in the documentation: https://pandas.pydata.org/pandas-docs/stable/user_guide/indexing.html#returning-a-view-versus-a-copy\n",
      "  temp_multi['number_filter'] = filter_types\n",
      "<ipython-input-12-8bc6428979cb>:35: SettingWithCopyWarning: \n",
      "A value is trying to be set on a copy of a slice from a DataFrame.\n",
      "Try using .loc[row_indexer,col_indexer] = value instead\n",
      "\n",
      "See the caveats in the documentation: https://pandas.pydata.org/pandas-docs/stable/user_guide/indexing.html#returning-a-view-versus-a-copy\n",
      "  missing_lsoa_road['lsoa11cd'] = [street_number_to_lsoa(temp_road, int(missing_lsoa_road.iloc[missing_lsoa_row]['street_number2']))\n",
      "<ipython-input-12-8bc6428979cb>:9: FutureWarning: The default value of regex will change from True to False in a future version.\n",
      "  missing_lsoa_df.loc[:,'street_number2'] = missing_lsoa_df.loc[:,'street_number'].str.replace(r\"^.*(?=\\b[0-9]+$)\", \"\").str.replace(r\"[^\\d]\", \"\", regex = True)\n",
      "<ipython-input-12-8bc6428979cb>:9: SettingWithCopyWarning: \n",
      "A value is trying to be set on a copy of a slice from a DataFrame.\n",
      "Try using .loc[row_indexer,col_indexer] = value instead\n",
      "\n",
      "See the caveats in the documentation: https://pandas.pydata.org/pandas-docs/stable/user_guide/indexing.html#returning-a-view-versus-a-copy\n",
      "  missing_lsoa_df.loc[:,'street_number2'] = missing_lsoa_df.loc[:,'street_number'].str.replace(r\"^.*(?=\\b[0-9]+$)\", \"\").str.replace(r\"[^\\d]\", \"\", regex = True)\n"
     ]
    },
    {
     "name": "stdout",
     "output_type": "stream",
     "text": [
      "i= 0  expand time,0.0 filter time0.0 make_dataframe_time 0.001\n",
      "newtowncottagenewtownroad\n",
      "weststreet\n",
      "E07000148\n"
     ]
    },
    {
     "name": "stderr",
     "output_type": "stream",
     "text": [
      "/tf/empty_homes_london/helper_functions.py:279: SettingWithCopyWarning: \n",
      "A value is trying to be set on a copy of a slice from a DataFrame.\n",
      "Try using .loc[row_indexer,col_indexer] = value instead\n",
      "\n",
      "See the caveats in the documentation: https://pandas.pydata.org/pandas-docs/stable/user_guide/indexing.html#returning-a-view-versus-a-copy\n",
      "  temp_multi['number_filter'] = filter_types\n",
      "<ipython-input-12-8bc6428979cb>:35: SettingWithCopyWarning: \n",
      "A value is trying to be set on a copy of a slice from a DataFrame.\n",
      "Try using .loc[row_indexer,col_indexer] = value instead\n",
      "\n",
      "See the caveats in the documentation: https://pandas.pydata.org/pandas-docs/stable/user_guide/indexing.html#returning-a-view-versus-a-copy\n",
      "  missing_lsoa_road['lsoa11cd'] = [street_number_to_lsoa(temp_road, int(missing_lsoa_road.iloc[missing_lsoa_row]['street_number2']))\n",
      "<ipython-input-12-8bc6428979cb>:9: FutureWarning: The default value of regex will change from True to False in a future version.\n",
      "  missing_lsoa_df.loc[:,'street_number2'] = missing_lsoa_df.loc[:,'street_number'].str.replace(r\"^.*(?=\\b[0-9]+$)\", \"\").str.replace(r\"[^\\d]\", \"\", regex = True)\n",
      "<ipython-input-12-8bc6428979cb>:9: SettingWithCopyWarning: \n",
      "A value is trying to be set on a copy of a slice from a DataFrame.\n",
      "Try using .loc[row_indexer,col_indexer] = value instead\n",
      "\n",
      "See the caveats in the documentation: https://pandas.pydata.org/pandas-docs/stable/user_guide/indexing.html#returning-a-view-versus-a-copy\n",
      "  missing_lsoa_df.loc[:,'street_number2'] = missing_lsoa_df.loc[:,'street_number'].str.replace(r\"^.*(?=\\b[0-9]+$)\", \"\").str.replace(r\"[^\\d]\", \"\", regex = True)\n"
     ]
    },
    {
     "name": "stdout",
     "output_type": "stream",
     "text": [
      "i= 0  expand time,0.0 filter time0.0 make_dataframe_time 0.001\n",
      "chapelfieldroad\n",
      "onleystreet\n",
      "unthankroad\n",
      "magdalenstreet\n",
      "londonstreet\n",
      "swanlane\n",
      "ststephenstreet\n",
      "gentlemanwalk\n",
      "carrowroad\n",
      "thorperoad\n",
      "E07000223\n"
     ]
    },
    {
     "name": "stderr",
     "output_type": "stream",
     "text": [
      "/tf/empty_homes_london/helper_functions.py:279: SettingWithCopyWarning: \n",
      "A value is trying to be set on a copy of a slice from a DataFrame.\n",
      "Try using .loc[row_indexer,col_indexer] = value instead\n",
      "\n",
      "See the caveats in the documentation: https://pandas.pydata.org/pandas-docs/stable/user_guide/indexing.html#returning-a-view-versus-a-copy\n",
      "  temp_multi['number_filter'] = filter_types\n",
      "<ipython-input-12-8bc6428979cb>:35: SettingWithCopyWarning: \n",
      "A value is trying to be set on a copy of a slice from a DataFrame.\n",
      "Try using .loc[row_indexer,col_indexer] = value instead\n",
      "\n",
      "See the caveats in the documentation: https://pandas.pydata.org/pandas-docs/stable/user_guide/indexing.html#returning-a-view-versus-a-copy\n",
      "  missing_lsoa_road['lsoa11cd'] = [street_number_to_lsoa(temp_road, int(missing_lsoa_road.iloc[missing_lsoa_row]['street_number2']))\n",
      "<ipython-input-12-8bc6428979cb>:9: FutureWarning: The default value of regex will change from True to False in a future version.\n",
      "  missing_lsoa_df.loc[:,'street_number2'] = missing_lsoa_df.loc[:,'street_number'].str.replace(r\"^.*(?=\\b[0-9]+$)\", \"\").str.replace(r\"[^\\d]\", \"\", regex = True)\n",
      "<ipython-input-12-8bc6428979cb>:9: SettingWithCopyWarning: \n",
      "A value is trying to be set on a copy of a slice from a DataFrame.\n",
      "Try using .loc[row_indexer,col_indexer] = value instead\n",
      "\n",
      "See the caveats in the documentation: https://pandas.pydata.org/pandas-docs/stable/user_guide/indexing.html#returning-a-view-versus-a-copy\n",
      "  missing_lsoa_df.loc[:,'street_number2'] = missing_lsoa_df.loc[:,'street_number'].str.replace(r\"^.*(?=\\b[0-9]+$)\", \"\").str.replace(r\"[^\\d]\", \"\", regex = True)\n"
     ]
    },
    {
     "name": "stdout",
     "output_type": "stream",
     "text": [
      "i= 0  expand time,0.0 filter time0.0 make_dataframe_time 0.001\n",
      "royalgeorgeparade,\n",
      "penhillroad\n",
      "southstreet\n",
      "uppershorehamroad\n",
      "E07000083\n"
     ]
    },
    {
     "name": "stderr",
     "output_type": "stream",
     "text": [
      "/tf/empty_homes_london/helper_functions.py:279: SettingWithCopyWarning: \n",
      "A value is trying to be set on a copy of a slice from a DataFrame.\n",
      "Try using .loc[row_indexer,col_indexer] = value instead\n",
      "\n",
      "See the caveats in the documentation: https://pandas.pydata.org/pandas-docs/stable/user_guide/indexing.html#returning-a-view-versus-a-copy\n",
      "  temp_multi['number_filter'] = filter_types\n",
      "<ipython-input-12-8bc6428979cb>:35: SettingWithCopyWarning: \n",
      "A value is trying to be set on a copy of a slice from a DataFrame.\n",
      "Try using .loc[row_indexer,col_indexer] = value instead\n",
      "\n",
      "See the caveats in the documentation: https://pandas.pydata.org/pandas-docs/stable/user_guide/indexing.html#returning-a-view-versus-a-copy\n",
      "  missing_lsoa_road['lsoa11cd'] = [street_number_to_lsoa(temp_road, int(missing_lsoa_road.iloc[missing_lsoa_row]['street_number2']))\n",
      "<ipython-input-12-8bc6428979cb>:9: FutureWarning: The default value of regex will change from True to False in a future version.\n",
      "  missing_lsoa_df.loc[:,'street_number2'] = missing_lsoa_df.loc[:,'street_number'].str.replace(r\"^.*(?=\\b[0-9]+$)\", \"\").str.replace(r\"[^\\d]\", \"\", regex = True)\n",
      "<ipython-input-12-8bc6428979cb>:9: SettingWithCopyWarning: \n",
      "A value is trying to be set on a copy of a slice from a DataFrame.\n",
      "Try using .loc[row_indexer,col_indexer] = value instead\n",
      "\n",
      "See the caveats in the documentation: https://pandas.pydata.org/pandas-docs/stable/user_guide/indexing.html#returning-a-view-versus-a-copy\n",
      "  missing_lsoa_df.loc[:,'street_number2'] = missing_lsoa_df.loc[:,'street_number'].str.replace(r\"^.*(?=\\b[0-9]+$)\", \"\").str.replace(r\"[^\\d]\", \"\", regex = True)\n"
     ]
    },
    {
     "name": "stdout",
     "output_type": "stream",
     "text": [
      "i= 0  expand time,0.0 filter time0.0 make_dataframe_time 0.001\n",
      "atofbowthorpedrive\n",
      "chestnutdrive\n",
      "highstreet\n",
      "E07000142\n",
      "bobrainsforthwaycorringhamroad\n",
      "E07000237\n"
     ]
    },
    {
     "name": "stderr",
     "output_type": "stream",
     "text": [
      "<ipython-input-12-8bc6428979cb>:9: FutureWarning: The default value of regex will change from True to False in a future version.\n",
      "  missing_lsoa_df.loc[:,'street_number2'] = missing_lsoa_df.loc[:,'street_number'].str.replace(r\"^.*(?=\\b[0-9]+$)\", \"\").str.replace(r\"[^\\d]\", \"\", regex = True)\n",
      "<ipython-input-12-8bc6428979cb>:9: SettingWithCopyWarning: \n",
      "A value is trying to be set on a copy of a slice from a DataFrame.\n",
      "Try using .loc[row_indexer,col_indexer] = value instead\n",
      "\n",
      "See the caveats in the documentation: https://pandas.pydata.org/pandas-docs/stable/user_guide/indexing.html#returning-a-view-versus-a-copy\n",
      "  missing_lsoa_df.loc[:,'street_number2'] = missing_lsoa_df.loc[:,'street_number'].str.replace(r\"^.*(?=\\b[0-9]+$)\", \"\").str.replace(r\"[^\\d]\", \"\", regex = True)\n",
      "/tf/empty_homes_london/helper_functions.py:279: SettingWithCopyWarning: \n",
      "A value is trying to be set on a copy of a slice from a DataFrame.\n",
      "Try using .loc[row_indexer,col_indexer] = value instead\n",
      "\n",
      "See the caveats in the documentation: https://pandas.pydata.org/pandas-docs/stable/user_guide/indexing.html#returning-a-view-versus-a-copy\n",
      "  temp_multi['number_filter'] = filter_types\n",
      "<ipython-input-12-8bc6428979cb>:9: FutureWarning: The default value of regex will change from True to False in a future version.\n",
      "  missing_lsoa_df.loc[:,'street_number2'] = missing_lsoa_df.loc[:,'street_number'].str.replace(r\"^.*(?=\\b[0-9]+$)\", \"\").str.replace(r\"[^\\d]\", \"\", regex = True)\n",
      "<ipython-input-12-8bc6428979cb>:9: SettingWithCopyWarning: \n",
      "A value is trying to be set on a copy of a slice from a DataFrame.\n",
      "Try using .loc[row_indexer,col_indexer] = value instead\n",
      "\n",
      "See the caveats in the documentation: https://pandas.pydata.org/pandas-docs/stable/user_guide/indexing.html#returning-a-view-versus-a-copy\n",
      "  missing_lsoa_df.loc[:,'street_number2'] = missing_lsoa_df.loc[:,'street_number'].str.replace(r\"^.*(?=\\b[0-9]+$)\", \"\").str.replace(r\"[^\\d]\", \"\", regex = True)\n"
     ]
    },
    {
     "name": "stdout",
     "output_type": "stream",
     "text": [
      "i= 0  expand time,0.0 filter time0.0 make_dataframe_time 0.001\n",
      "highstreet\n",
      "E07000114\n"
     ]
    },
    {
     "name": "stderr",
     "output_type": "stream",
     "text": [
      "/tf/empty_homes_london/helper_functions.py:279: SettingWithCopyWarning: \n",
      "A value is trying to be set on a copy of a slice from a DataFrame.\n",
      "Try using .loc[row_indexer,col_indexer] = value instead\n",
      "\n",
      "See the caveats in the documentation: https://pandas.pydata.org/pandas-docs/stable/user_guide/indexing.html#returning-a-view-versus-a-copy\n",
      "  temp_multi['number_filter'] = filter_types\n",
      "<ipython-input-12-8bc6428979cb>:9: FutureWarning: The default value of regex will change from True to False in a future version.\n",
      "  missing_lsoa_df.loc[:,'street_number2'] = missing_lsoa_df.loc[:,'street_number'].str.replace(r\"^.*(?=\\b[0-9]+$)\", \"\").str.replace(r\"[^\\d]\", \"\", regex = True)\n",
      "<ipython-input-12-8bc6428979cb>:9: SettingWithCopyWarning: \n",
      "A value is trying to be set on a copy of a slice from a DataFrame.\n",
      "Try using .loc[row_indexer,col_indexer] = value instead\n",
      "\n",
      "See the caveats in the documentation: https://pandas.pydata.org/pandas-docs/stable/user_guide/indexing.html#returning-a-view-versus-a-copy\n",
      "  missing_lsoa_df.loc[:,'street_number2'] = missing_lsoa_df.loc[:,'street_number'].str.replace(r\"^.*(?=\\b[0-9]+$)\", \"\").str.replace(r\"[^\\d]\", \"\", regex = True)\n"
     ]
    },
    {
     "name": "stdout",
     "output_type": "stream",
     "text": [
      "i= 0  expand time,0.0 filter time0.0 make_dataframe_time 0.001\n",
      "addingtonstreet\n",
      "E07000171\n"
     ]
    },
    {
     "name": "stderr",
     "output_type": "stream",
     "text": [
      "/tf/empty_homes_london/helper_functions.py:279: SettingWithCopyWarning: \n",
      "A value is trying to be set on a copy of a slice from a DataFrame.\n",
      "Try using .loc[row_indexer,col_indexer] = value instead\n",
      "\n",
      "See the caveats in the documentation: https://pandas.pydata.org/pandas-docs/stable/user_guide/indexing.html#returning-a-view-versus-a-copy\n",
      "  temp_multi['number_filter'] = filter_types\n",
      "<ipython-input-12-8bc6428979cb>:35: SettingWithCopyWarning: \n",
      "A value is trying to be set on a copy of a slice from a DataFrame.\n",
      "Try using .loc[row_indexer,col_indexer] = value instead\n",
      "\n",
      "See the caveats in the documentation: https://pandas.pydata.org/pandas-docs/stable/user_guide/indexing.html#returning-a-view-versus-a-copy\n",
      "  missing_lsoa_road['lsoa11cd'] = [street_number_to_lsoa(temp_road, int(missing_lsoa_road.iloc[missing_lsoa_row]['street_number2']))\n",
      "<ipython-input-12-8bc6428979cb>:9: FutureWarning: The default value of regex will change from True to False in a future version.\n",
      "  missing_lsoa_df.loc[:,'street_number2'] = missing_lsoa_df.loc[:,'street_number'].str.replace(r\"^.*(?=\\b[0-9]+$)\", \"\").str.replace(r\"[^\\d]\", \"\", regex = True)\n",
      "<ipython-input-12-8bc6428979cb>:9: SettingWithCopyWarning: \n",
      "A value is trying to be set on a copy of a slice from a DataFrame.\n",
      "Try using .loc[row_indexer,col_indexer] = value instead\n",
      "\n",
      "See the caveats in the documentation: https://pandas.pydata.org/pandas-docs/stable/user_guide/indexing.html#returning-a-view-versus-a-copy\n",
      "  missing_lsoa_df.loc[:,'street_number2'] = missing_lsoa_df.loc[:,'street_number'].str.replace(r\"^.*(?=\\b[0-9]+$)\", \"\").str.replace(r\"[^\\d]\", \"\", regex = True)\n"
     ]
    },
    {
     "name": "stdout",
     "output_type": "stream",
     "text": [
      "i= 0  expand time,0.0 filter time0.0 make_dataframe_time 0.001\n",
      "carolgate\n",
      "gatefordroad\n",
      "E07000173\n"
     ]
    },
    {
     "name": "stderr",
     "output_type": "stream",
     "text": [
      "/tf/empty_homes_london/helper_functions.py:279: SettingWithCopyWarning: \n",
      "A value is trying to be set on a copy of a slice from a DataFrame.\n",
      "Try using .loc[row_indexer,col_indexer] = value instead\n",
      "\n",
      "See the caveats in the documentation: https://pandas.pydata.org/pandas-docs/stable/user_guide/indexing.html#returning-a-view-versus-a-copy\n",
      "  temp_multi['number_filter'] = filter_types\n",
      "<ipython-input-12-8bc6428979cb>:9: FutureWarning: The default value of regex will change from True to False in a future version.\n",
      "  missing_lsoa_df.loc[:,'street_number2'] = missing_lsoa_df.loc[:,'street_number'].str.replace(r\"^.*(?=\\b[0-9]+$)\", \"\").str.replace(r\"[^\\d]\", \"\", regex = True)\n",
      "<ipython-input-12-8bc6428979cb>:9: SettingWithCopyWarning: \n",
      "A value is trying to be set on a copy of a slice from a DataFrame.\n",
      "Try using .loc[row_indexer,col_indexer] = value instead\n",
      "\n",
      "See the caveats in the documentation: https://pandas.pydata.org/pandas-docs/stable/user_guide/indexing.html#returning-a-view-versus-a-copy\n",
      "  missing_lsoa_df.loc[:,'street_number2'] = missing_lsoa_df.loc[:,'street_number'].str.replace(r\"^.*(?=\\b[0-9]+$)\", \"\").str.replace(r\"[^\\d]\", \"\", regex = True)\n"
     ]
    },
    {
     "name": "stdout",
     "output_type": "stream",
     "text": [
      "i= 0  expand time,0.0 filter time0.0 make_dataframe_time 0.001\n",
      "carltonhill\n",
      "E07000109\n"
     ]
    },
    {
     "name": "stderr",
     "output_type": "stream",
     "text": [
      "/tf/empty_homes_london/helper_functions.py:279: SettingWithCopyWarning: \n",
      "A value is trying to be set on a copy of a slice from a DataFrame.\n",
      "Try using .loc[row_indexer,col_indexer] = value instead\n",
      "\n",
      "See the caveats in the documentation: https://pandas.pydata.org/pandas-docs/stable/user_guide/indexing.html#returning-a-view-versus-a-copy\n",
      "  temp_multi['number_filter'] = filter_types\n",
      "<ipython-input-12-8bc6428979cb>:35: SettingWithCopyWarning: \n",
      "A value is trying to be set on a copy of a slice from a DataFrame.\n",
      "Try using .loc[row_indexer,col_indexer] = value instead\n",
      "\n",
      "See the caveats in the documentation: https://pandas.pydata.org/pandas-docs/stable/user_guide/indexing.html#returning-a-view-versus-a-copy\n",
      "  missing_lsoa_road['lsoa11cd'] = [street_number_to_lsoa(temp_road, int(missing_lsoa_road.iloc[missing_lsoa_row]['street_number2']))\n",
      "<ipython-input-12-8bc6428979cb>:9: FutureWarning: The default value of regex will change from True to False in a future version.\n",
      "  missing_lsoa_df.loc[:,'street_number2'] = missing_lsoa_df.loc[:,'street_number'].str.replace(r\"^.*(?=\\b[0-9]+$)\", \"\").str.replace(r\"[^\\d]\", \"\", regex = True)\n",
      "<ipython-input-12-8bc6428979cb>:9: SettingWithCopyWarning: \n",
      "A value is trying to be set on a copy of a slice from a DataFrame.\n",
      "Try using .loc[row_indexer,col_indexer] = value instead\n",
      "\n",
      "See the caveats in the documentation: https://pandas.pydata.org/pandas-docs/stable/user_guide/indexing.html#returning-a-view-versus-a-copy\n",
      "  missing_lsoa_df.loc[:,'street_number2'] = missing_lsoa_df.loc[:,'street_number'].str.replace(r\"^.*(?=\\b[0-9]+$)\", \"\").str.replace(r\"[^\\d]\", \"\", regex = True)\n"
     ]
    },
    {
     "name": "stdout",
     "output_type": "stream",
     "text": [
      "i= 0  expand time,0.0 filter time0.0 make_dataframe_time 0.001\n",
      "thegrove\n",
      "edwinstreet\n",
      "newroad\n",
      "E07000076\n"
     ]
    },
    {
     "name": "stderr",
     "output_type": "stream",
     "text": [
      "/tf/empty_homes_london/helper_functions.py:279: SettingWithCopyWarning: \n",
      "A value is trying to be set on a copy of a slice from a DataFrame.\n",
      "Try using .loc[row_indexer,col_indexer] = value instead\n",
      "\n",
      "See the caveats in the documentation: https://pandas.pydata.org/pandas-docs/stable/user_guide/indexing.html#returning-a-view-versus-a-copy\n",
      "  temp_multi['number_filter'] = filter_types\n",
      "<ipython-input-12-8bc6428979cb>:35: SettingWithCopyWarning: \n",
      "A value is trying to be set on a copy of a slice from a DataFrame.\n",
      "Try using .loc[row_indexer,col_indexer] = value instead\n",
      "\n",
      "See the caveats in the documentation: https://pandas.pydata.org/pandas-docs/stable/user_guide/indexing.html#returning-a-view-versus-a-copy\n",
      "  missing_lsoa_road['lsoa11cd'] = [street_number_to_lsoa(temp_road, int(missing_lsoa_road.iloc[missing_lsoa_row]['street_number2']))\n",
      "<ipython-input-12-8bc6428979cb>:9: FutureWarning: The default value of regex will change from True to False in a future version.\n",
      "  missing_lsoa_df.loc[:,'street_number2'] = missing_lsoa_df.loc[:,'street_number'].str.replace(r\"^.*(?=\\b[0-9]+$)\", \"\").str.replace(r\"[^\\d]\", \"\", regex = True)\n",
      "<ipython-input-12-8bc6428979cb>:9: SettingWithCopyWarning: \n",
      "A value is trying to be set on a copy of a slice from a DataFrame.\n",
      "Try using .loc[row_indexer,col_indexer] = value instead\n",
      "\n",
      "See the caveats in the documentation: https://pandas.pydata.org/pandas-docs/stable/user_guide/indexing.html#returning-a-view-versus-a-copy\n",
      "  missing_lsoa_df.loc[:,'street_number2'] = missing_lsoa_df.loc[:,'street_number'].str.replace(r\"^.*(?=\\b[0-9]+$)\", \"\").str.replace(r\"[^\\d]\", \"\", regex = True)\n"
     ]
    },
    {
     "name": "stdout",
     "output_type": "stream",
     "text": [
      "i= 0  expand time,0.0 filter time0.0 make_dataframe_time 0.001\n",
      "pieravenue\n",
      "havenvale\n",
      "highstreet\n",
      "manorroad\n",
      "E07000234\n"
     ]
    },
    {
     "name": "stderr",
     "output_type": "stream",
     "text": [
      "/tf/empty_homes_london/helper_functions.py:279: SettingWithCopyWarning: \n",
      "A value is trying to be set on a copy of a slice from a DataFrame.\n",
      "Try using .loc[row_indexer,col_indexer] = value instead\n",
      "\n",
      "See the caveats in the documentation: https://pandas.pydata.org/pandas-docs/stable/user_guide/indexing.html#returning-a-view-versus-a-copy\n",
      "  temp_multi['number_filter'] = filter_types\n",
      "<ipython-input-12-8bc6428979cb>:9: FutureWarning: The default value of regex will change from True to False in a future version.\n",
      "  missing_lsoa_df.loc[:,'street_number2'] = missing_lsoa_df.loc[:,'street_number'].str.replace(r\"^.*(?=\\b[0-9]+$)\", \"\").str.replace(r\"[^\\d]\", \"\", regex = True)\n",
      "<ipython-input-12-8bc6428979cb>:9: SettingWithCopyWarning: \n",
      "A value is trying to be set on a copy of a slice from a DataFrame.\n",
      "Try using .loc[row_indexer,col_indexer] = value instead\n",
      "\n",
      "See the caveats in the documentation: https://pandas.pydata.org/pandas-docs/stable/user_guide/indexing.html#returning-a-view-versus-a-copy\n",
      "  missing_lsoa_df.loc[:,'street_number2'] = missing_lsoa_df.loc[:,'street_number'].str.replace(r\"^.*(?=\\b[0-9]+$)\", \"\").str.replace(r\"[^\\d]\", \"\", regex = True)\n"
     ]
    },
    {
     "name": "stdout",
     "output_type": "stream",
     "text": [
      "i= 0  expand time,0.0 filter time0.0 make_dataframe_time 0.001\n",
      "highstreet\n",
      "W06000010\n"
     ]
    },
    {
     "name": "stderr",
     "output_type": "stream",
     "text": [
      "/tf/empty_homes_london/helper_functions.py:279: SettingWithCopyWarning: \n",
      "A value is trying to be set on a copy of a slice from a DataFrame.\n",
      "Try using .loc[row_indexer,col_indexer] = value instead\n",
      "\n",
      "See the caveats in the documentation: https://pandas.pydata.org/pandas-docs/stable/user_guide/indexing.html#returning-a-view-versus-a-copy\n",
      "  temp_multi['number_filter'] = filter_types\n",
      "<ipython-input-12-8bc6428979cb>:35: SettingWithCopyWarning: \n",
      "A value is trying to be set on a copy of a slice from a DataFrame.\n",
      "Try using .loc[row_indexer,col_indexer] = value instead\n",
      "\n",
      "See the caveats in the documentation: https://pandas.pydata.org/pandas-docs/stable/user_guide/indexing.html#returning-a-view-versus-a-copy\n",
      "  missing_lsoa_road['lsoa11cd'] = [street_number_to_lsoa(temp_road, int(missing_lsoa_road.iloc[missing_lsoa_row]['street_number2']))\n",
      "<ipython-input-12-8bc6428979cb>:9: FutureWarning: The default value of regex will change from True to False in a future version.\n",
      "  missing_lsoa_df.loc[:,'street_number2'] = missing_lsoa_df.loc[:,'street_number'].str.replace(r\"^.*(?=\\b[0-9]+$)\", \"\").str.replace(r\"[^\\d]\", \"\", regex = True)\n",
      "<ipython-input-12-8bc6428979cb>:9: SettingWithCopyWarning: \n",
      "A value is trying to be set on a copy of a slice from a DataFrame.\n",
      "Try using .loc[row_indexer,col_indexer] = value instead\n",
      "\n",
      "See the caveats in the documentation: https://pandas.pydata.org/pandas-docs/stable/user_guide/indexing.html#returning-a-view-versus-a-copy\n",
      "  missing_lsoa_df.loc[:,'street_number2'] = missing_lsoa_df.loc[:,'street_number'].str.replace(r\"^.*(?=\\b[0-9]+$)\", \"\").str.replace(r\"[^\\d]\", \"\", regex = True)\n"
     ]
    },
    {
     "name": "stdout",
     "output_type": "stream",
     "text": [
      "i= 0  expand time,0.0 filter time0.0 make_dataframe_time 0.001\n",
      "johnstreet\n",
      "maeyrhaf\n",
      "E09000002\n"
     ]
    },
    {
     "name": "stderr",
     "output_type": "stream",
     "text": [
      "/tf/empty_homes_london/helper_functions.py:279: SettingWithCopyWarning: \n",
      "A value is trying to be set on a copy of a slice from a DataFrame.\n",
      "Try using .loc[row_indexer,col_indexer] = value instead\n",
      "\n",
      "See the caveats in the documentation: https://pandas.pydata.org/pandas-docs/stable/user_guide/indexing.html#returning-a-view-versus-a-copy\n",
      "  temp_multi['number_filter'] = filter_types\n",
      "<ipython-input-12-8bc6428979cb>:35: SettingWithCopyWarning: \n",
      "A value is trying to be set on a copy of a slice from a DataFrame.\n",
      "Try using .loc[row_indexer,col_indexer] = value instead\n",
      "\n",
      "See the caveats in the documentation: https://pandas.pydata.org/pandas-docs/stable/user_guide/indexing.html#returning-a-view-versus-a-copy\n",
      "  missing_lsoa_road['lsoa11cd'] = [street_number_to_lsoa(temp_road, int(missing_lsoa_road.iloc[missing_lsoa_row]['street_number2']))\n"
     ]
    },
    {
     "name": "stdout",
     "output_type": "stream",
     "text": [
      "i= 0  expand time,0.0 filter time0.0 make_dataframe_time 0.001\n",
      "highroadandmillbrookmilllane\n",
      "highroad\n",
      "riverroad\n",
      "E07000202\n"
     ]
    },
    {
     "name": "stderr",
     "output_type": "stream",
     "text": [
      "<ipython-input-12-8bc6428979cb>:9: FutureWarning: The default value of regex will change from True to False in a future version.\n",
      "  missing_lsoa_df.loc[:,'street_number2'] = missing_lsoa_df.loc[:,'street_number'].str.replace(r\"^.*(?=\\b[0-9]+$)\", \"\").str.replace(r\"[^\\d]\", \"\", regex = True)\n",
      "<ipython-input-12-8bc6428979cb>:9: SettingWithCopyWarning: \n",
      "A value is trying to be set on a copy of a slice from a DataFrame.\n",
      "Try using .loc[row_indexer,col_indexer] = value instead\n",
      "\n",
      "See the caveats in the documentation: https://pandas.pydata.org/pandas-docs/stable/user_guide/indexing.html#returning-a-view-versus-a-copy\n",
      "  missing_lsoa_df.loc[:,'street_number2'] = missing_lsoa_df.loc[:,'street_number'].str.replace(r\"^.*(?=\\b[0-9]+$)\", \"\").str.replace(r\"[^\\d]\", \"\", regex = True)\n",
      "/tf/empty_homes_london/helper_functions.py:279: SettingWithCopyWarning: \n",
      "A value is trying to be set on a copy of a slice from a DataFrame.\n",
      "Try using .loc[row_indexer,col_indexer] = value instead\n",
      "\n",
      "See the caveats in the documentation: https://pandas.pydata.org/pandas-docs/stable/user_guide/indexing.html#returning-a-view-versus-a-copy\n",
      "  temp_multi['number_filter'] = filter_types\n",
      "<ipython-input-12-8bc6428979cb>:9: FutureWarning: The default value of regex will change from True to False in a future version.\n",
      "  missing_lsoa_df.loc[:,'street_number2'] = missing_lsoa_df.loc[:,'street_number'].str.replace(r\"^.*(?=\\b[0-9]+$)\", \"\").str.replace(r\"[^\\d]\", \"\", regex = True)\n",
      "<ipython-input-12-8bc6428979cb>:9: SettingWithCopyWarning: \n",
      "A value is trying to be set on a copy of a slice from a DataFrame.\n",
      "Try using .loc[row_indexer,col_indexer] = value instead\n",
      "\n",
      "See the caveats in the documentation: https://pandas.pydata.org/pandas-docs/stable/user_guide/indexing.html#returning-a-view-versus-a-copy\n",
      "  missing_lsoa_df.loc[:,'street_number2'] = missing_lsoa_df.loc[:,'street_number'].str.replace(r\"^.*(?=\\b[0-9]+$)\", \"\").str.replace(r\"[^\\d]\", \"\", regex = True)\n"
     ]
    },
    {
     "name": "stdout",
     "output_type": "stream",
     "text": [
      "i= 0  expand time,0.0 filter time0.0 make_dataframe_time 0.001\n",
      "upperbrookstreet\n",
      "E07000225\n"
     ]
    },
    {
     "name": "stderr",
     "output_type": "stream",
     "text": [
      "/tf/empty_homes_london/helper_functions.py:279: SettingWithCopyWarning: \n",
      "A value is trying to be set on a copy of a slice from a DataFrame.\n",
      "Try using .loc[row_indexer,col_indexer] = value instead\n",
      "\n",
      "See the caveats in the documentation: https://pandas.pydata.org/pandas-docs/stable/user_guide/indexing.html#returning-a-view-versus-a-copy\n",
      "  temp_multi['number_filter'] = filter_types\n",
      "<ipython-input-12-8bc6428979cb>:35: SettingWithCopyWarning: \n",
      "A value is trying to be set on a copy of a slice from a DataFrame.\n",
      "Try using .loc[row_indexer,col_indexer] = value instead\n",
      "\n",
      "See the caveats in the documentation: https://pandas.pydata.org/pandas-docs/stable/user_guide/indexing.html#returning-a-view-versus-a-copy\n",
      "  missing_lsoa_road['lsoa11cd'] = [street_number_to_lsoa(temp_road, int(missing_lsoa_road.iloc[missing_lsoa_row]['street_number2']))\n",
      "<ipython-input-12-8bc6428979cb>:9: FutureWarning: The default value of regex will change from True to False in a future version.\n",
      "  missing_lsoa_df.loc[:,'street_number2'] = missing_lsoa_df.loc[:,'street_number'].str.replace(r\"^.*(?=\\b[0-9]+$)\", \"\").str.replace(r\"[^\\d]\", \"\", regex = True)\n",
      "<ipython-input-12-8bc6428979cb>:9: SettingWithCopyWarning: \n",
      "A value is trying to be set on a copy of a slice from a DataFrame.\n",
      "Try using .loc[row_indexer,col_indexer] = value instead\n",
      "\n",
      "See the caveats in the documentation: https://pandas.pydata.org/pandas-docs/stable/user_guide/indexing.html#returning-a-view-versus-a-copy\n",
      "  missing_lsoa_df.loc[:,'street_number2'] = missing_lsoa_df.loc[:,'street_number'].str.replace(r\"^.*(?=\\b[0-9]+$)\", \"\").str.replace(r\"[^\\d]\", \"\", regex = True)\n"
     ]
    },
    {
     "name": "stdout",
     "output_type": "stream",
     "text": [
      "i= 0  expand time,0.0 filter time0.0 make_dataframe_time 0.001\n",
      "eaststreet\n",
      "southstreet\n",
      "southgate\n",
      "E06000058\n"
     ]
    },
    {
     "name": "stderr",
     "output_type": "stream",
     "text": [
      "/tf/empty_homes_london/helper_functions.py:279: SettingWithCopyWarning: \n",
      "A value is trying to be set on a copy of a slice from a DataFrame.\n",
      "Try using .loc[row_indexer,col_indexer] = value instead\n",
      "\n",
      "See the caveats in the documentation: https://pandas.pydata.org/pandas-docs/stable/user_guide/indexing.html#returning-a-view-versus-a-copy\n",
      "  temp_multi['number_filter'] = filter_types\n"
     ]
    },
    {
     "name": "stdout",
     "output_type": "stream",
     "text": [
      "i= 0  expand time,0.0 filter time0.0 make_dataframe_time 0.001\n",
      "highstreet\n",
      "oldchristchurchroad\n",
      "kinglandroad\n",
      "curzonroad\n",
      "salternway\n",
      "almaroad\n",
      "princegate\n",
      "pooleroad\n"
     ]
    },
    {
     "name": "stderr",
     "output_type": "stream",
     "text": [
      "<ipython-input-12-8bc6428979cb>:35: SettingWithCopyWarning: \n",
      "A value is trying to be set on a copy of a slice from a DataFrame.\n",
      "Try using .loc[row_indexer,col_indexer] = value instead\n",
      "\n",
      "See the caveats in the documentation: https://pandas.pydata.org/pandas-docs/stable/user_guide/indexing.html#returning-a-view-versus-a-copy\n",
      "  missing_lsoa_road['lsoa11cd'] = [street_number_to_lsoa(temp_road, int(missing_lsoa_road.iloc[missing_lsoa_row]['street_number2']))\n",
      "<ipython-input-12-8bc6428979cb>:9: FutureWarning: The default value of regex will change from True to False in a future version.\n",
      "  missing_lsoa_df.loc[:,'street_number2'] = missing_lsoa_df.loc[:,'street_number'].str.replace(r\"^.*(?=\\b[0-9]+$)\", \"\").str.replace(r\"[^\\d]\", \"\", regex = True)\n",
      "<ipython-input-12-8bc6428979cb>:9: SettingWithCopyWarning: \n",
      "A value is trying to be set on a copy of a slice from a DataFrame.\n",
      "Try using .loc[row_indexer,col_indexer] = value instead\n",
      "\n",
      "See the caveats in the documentation: https://pandas.pydata.org/pandas-docs/stable/user_guide/indexing.html#returning-a-view-versus-a-copy\n",
      "  missing_lsoa_df.loc[:,'street_number2'] = missing_lsoa_df.loc[:,'street_number'].str.replace(r\"^.*(?=\\b[0-9]+$)\", \"\").str.replace(r\"[^\\d]\", \"\", regex = True)\n"
     ]
    },
    {
     "name": "stdout",
     "output_type": "stream",
     "text": [
      "commercialroad\n",
      "gerviroad\n",
      "yarrowroad\n",
      "E07000107\n",
      "victoriapark\n",
      "littlebrookmanorway\n",
      "E07000188\n"
     ]
    },
    {
     "name": "stderr",
     "output_type": "stream",
     "text": [
      "<ipython-input-12-8bc6428979cb>:35: SettingWithCopyWarning: \n",
      "A value is trying to be set on a copy of a slice from a DataFrame.\n",
      "Try using .loc[row_indexer,col_indexer] = value instead\n",
      "\n",
      "See the caveats in the documentation: https://pandas.pydata.org/pandas-docs/stable/user_guide/indexing.html#returning-a-view-versus-a-copy\n",
      "  missing_lsoa_road['lsoa11cd'] = [street_number_to_lsoa(temp_road, int(missing_lsoa_road.iloc[missing_lsoa_row]['street_number2']))\n",
      "<ipython-input-12-8bc6428979cb>:9: FutureWarning: The default value of regex will change from True to False in a future version.\n",
      "  missing_lsoa_df.loc[:,'street_number2'] = missing_lsoa_df.loc[:,'street_number'].str.replace(r\"^.*(?=\\b[0-9]+$)\", \"\").str.replace(r\"[^\\d]\", \"\", regex = True)\n",
      "<ipython-input-12-8bc6428979cb>:9: SettingWithCopyWarning: \n",
      "A value is trying to be set on a copy of a slice from a DataFrame.\n",
      "Try using .loc[row_indexer,col_indexer] = value instead\n",
      "\n",
      "See the caveats in the documentation: https://pandas.pydata.org/pandas-docs/stable/user_guide/indexing.html#returning-a-view-versus-a-copy\n",
      "  missing_lsoa_df.loc[:,'street_number2'] = missing_lsoa_df.loc[:,'street_number'].str.replace(r\"^.*(?=\\b[0-9]+$)\", \"\").str.replace(r\"[^\\d]\", \"\", regex = True)\n",
      "/tf/empty_homes_london/helper_functions.py:279: SettingWithCopyWarning: \n",
      "A value is trying to be set on a copy of a slice from a DataFrame.\n",
      "Try using .loc[row_indexer,col_indexer] = value instead\n",
      "\n",
      "See the caveats in the documentation: https://pandas.pydata.org/pandas-docs/stable/user_guide/indexing.html#returning-a-view-versus-a-copy\n",
      "  temp_multi['number_filter'] = filter_types\n",
      "<ipython-input-12-8bc6428979cb>:9: FutureWarning: The default value of regex will change from True to False in a future version.\n",
      "  missing_lsoa_df.loc[:,'street_number2'] = missing_lsoa_df.loc[:,'street_number'].str.replace(r\"^.*(?=\\b[0-9]+$)\", \"\").str.replace(r\"[^\\d]\", \"\", regex = True)\n",
      "<ipython-input-12-8bc6428979cb>:9: SettingWithCopyWarning: \n",
      "A value is trying to be set on a copy of a slice from a DataFrame.\n",
      "Try using .loc[row_indexer,col_indexer] = value instead\n",
      "\n",
      "See the caveats in the documentation: https://pandas.pydata.org/pandas-docs/stable/user_guide/indexing.html#returning-a-view-versus-a-copy\n",
      "  missing_lsoa_df.loc[:,'street_number2'] = missing_lsoa_df.loc[:,'street_number'].str.replace(r\"^.*(?=\\b[0-9]+$)\", \"\").str.replace(r\"[^\\d]\", \"\", regex = True)\n"
     ]
    },
    {
     "name": "stdout",
     "output_type": "stream",
     "text": [
      "i= 0  expand time,0.0 filter time0.0 make_dataframe_time 0.001\n",
      "highstreet\n",
      "E06000020\n"
     ]
    },
    {
     "name": "stderr",
     "output_type": "stream",
     "text": [
      "/tf/empty_homes_london/helper_functions.py:279: SettingWithCopyWarning: \n",
      "A value is trying to be set on a copy of a slice from a DataFrame.\n",
      "Try using .loc[row_indexer,col_indexer] = value instead\n",
      "\n",
      "See the caveats in the documentation: https://pandas.pydata.org/pandas-docs/stable/user_guide/indexing.html#returning-a-view-versus-a-copy\n",
      "  temp_multi['number_filter'] = filter_types\n",
      "<ipython-input-12-8bc6428979cb>:9: FutureWarning: The default value of regex will change from True to False in a future version.\n",
      "  missing_lsoa_df.loc[:,'street_number2'] = missing_lsoa_df.loc[:,'street_number'].str.replace(r\"^.*(?=\\b[0-9]+$)\", \"\").str.replace(r\"[^\\d]\", \"\", regex = True)\n",
      "<ipython-input-12-8bc6428979cb>:9: SettingWithCopyWarning: \n",
      "A value is trying to be set on a copy of a slice from a DataFrame.\n",
      "Try using .loc[row_indexer,col_indexer] = value instead\n",
      "\n",
      "See the caveats in the documentation: https://pandas.pydata.org/pandas-docs/stable/user_guide/indexing.html#returning-a-view-versus-a-copy\n",
      "  missing_lsoa_df.loc[:,'street_number2'] = missing_lsoa_df.loc[:,'street_number'].str.replace(r\"^.*(?=\\b[0-9]+$)\", \"\").str.replace(r\"[^\\d]\", \"\", regex = True)\n"
     ]
    },
    {
     "name": "stdout",
     "output_type": "stream",
     "text": [
      "i= 0  expand time,0.0 filter time0.0 make_dataframe_time 0.001\n",
      "newstreet\n",
      "E07000197\n"
     ]
    },
    {
     "name": "stderr",
     "output_type": "stream",
     "text": [
      "/tf/empty_homes_london/helper_functions.py:279: SettingWithCopyWarning: \n",
      "A value is trying to be set on a copy of a slice from a DataFrame.\n",
      "Try using .loc[row_indexer,col_indexer] = value instead\n",
      "\n",
      "See the caveats in the documentation: https://pandas.pydata.org/pandas-docs/stable/user_guide/indexing.html#returning-a-view-versus-a-copy\n",
      "  temp_multi['number_filter'] = filter_types\n",
      "<ipython-input-12-8bc6428979cb>:9: FutureWarning: The default value of regex will change from True to False in a future version.\n",
      "  missing_lsoa_df.loc[:,'street_number2'] = missing_lsoa_df.loc[:,'street_number'].str.replace(r\"^.*(?=\\b[0-9]+$)\", \"\").str.replace(r\"[^\\d]\", \"\", regex = True)\n",
      "<ipython-input-12-8bc6428979cb>:9: SettingWithCopyWarning: \n",
      "A value is trying to be set on a copy of a slice from a DataFrame.\n",
      "Try using .loc[row_indexer,col_indexer] = value instead\n",
      "\n",
      "See the caveats in the documentation: https://pandas.pydata.org/pandas-docs/stable/user_guide/indexing.html#returning-a-view-versus-a-copy\n",
      "  missing_lsoa_df.loc[:,'street_number2'] = missing_lsoa_df.loc[:,'street_number'].str.replace(r\"^.*(?=\\b[0-9]+$)\", \"\").str.replace(r\"[^\\d]\", \"\", regex = True)\n"
     ]
    },
    {
     "name": "stdout",
     "output_type": "stream",
     "text": [
      "i= 0  expand time,0.0 filter time0.0 make_dataframe_time 0.001\n",
      "stoneroad\n",
      "E07000012\n",
      "stjohnlane\n",
      "E07000029\n"
     ]
    },
    {
     "name": "stderr",
     "output_type": "stream",
     "text": [
      "<ipython-input-12-8bc6428979cb>:9: FutureWarning: The default value of regex will change from True to False in a future version.\n",
      "  missing_lsoa_df.loc[:,'street_number2'] = missing_lsoa_df.loc[:,'street_number'].str.replace(r\"^.*(?=\\b[0-9]+$)\", \"\").str.replace(r\"[^\\d]\", \"\", regex = True)\n",
      "<ipython-input-12-8bc6428979cb>:9: SettingWithCopyWarning: \n",
      "A value is trying to be set on a copy of a slice from a DataFrame.\n",
      "Try using .loc[row_indexer,col_indexer] = value instead\n",
      "\n",
      "See the caveats in the documentation: https://pandas.pydata.org/pandas-docs/stable/user_guide/indexing.html#returning-a-view-versus-a-copy\n",
      "  missing_lsoa_df.loc[:,'street_number2'] = missing_lsoa_df.loc[:,'street_number'].str.replace(r\"^.*(?=\\b[0-9]+$)\", \"\").str.replace(r\"[^\\d]\", \"\", regex = True)\n",
      "/tf/empty_homes_london/helper_functions.py:279: SettingWithCopyWarning: \n",
      "A value is trying to be set on a copy of a slice from a DataFrame.\n",
      "Try using .loc[row_indexer,col_indexer] = value instead\n",
      "\n",
      "See the caveats in the documentation: https://pandas.pydata.org/pandas-docs/stable/user_guide/indexing.html#returning-a-view-versus-a-copy\n",
      "  temp_multi['number_filter'] = filter_types\n",
      "<ipython-input-12-8bc6428979cb>:35: SettingWithCopyWarning: \n",
      "A value is trying to be set on a copy of a slice from a DataFrame.\n",
      "Try using .loc[row_indexer,col_indexer] = value instead\n",
      "\n",
      "See the caveats in the documentation: https://pandas.pydata.org/pandas-docs/stable/user_guide/indexing.html#returning-a-view-versus-a-copy\n",
      "  missing_lsoa_road['lsoa11cd'] = [street_number_to_lsoa(temp_road, int(missing_lsoa_road.iloc[missing_lsoa_row]['street_number2']))\n",
      "<ipython-input-12-8bc6428979cb>:9: FutureWarning: The default value of regex will change from True to False in a future version.\n",
      "  missing_lsoa_df.loc[:,'street_number2'] = missing_lsoa_df.loc[:,'street_number'].str.replace(r\"^.*(?=\\b[0-9]+$)\", \"\").str.replace(r\"[^\\d]\", \"\", regex = True)\n",
      "<ipython-input-12-8bc6428979cb>:9: SettingWithCopyWarning: \n",
      "A value is trying to be set on a copy of a slice from a DataFrame.\n",
      "Try using .loc[row_indexer,col_indexer] = value instead\n",
      "\n",
      "See the caveats in the documentation: https://pandas.pydata.org/pandas-docs/stable/user_guide/indexing.html#returning-a-view-versus-a-copy\n",
      "  missing_lsoa_df.loc[:,'street_number2'] = missing_lsoa_df.loc[:,'street_number'].str.replace(r\"^.*(?=\\b[0-9]+$)\", \"\").str.replace(r\"[^\\d]\", \"\", regex = True)\n"
     ]
    },
    {
     "name": "stdout",
     "output_type": "stream",
     "text": [
      "i= 0  expand time,0.0 filter time0.0 make_dataframe_time 0.001\n",
      "kingstreet\n",
      "chapelstreet\n",
      "E07000074\n"
     ]
    },
    {
     "name": "stderr",
     "output_type": "stream",
     "text": [
      "/tf/empty_homes_london/helper_functions.py:279: SettingWithCopyWarning: \n",
      "A value is trying to be set on a copy of a slice from a DataFrame.\n",
      "Try using .loc[row_indexer,col_indexer] = value instead\n",
      "\n",
      "See the caveats in the documentation: https://pandas.pydata.org/pandas-docs/stable/user_guide/indexing.html#returning-a-view-versus-a-copy\n",
      "  temp_multi['number_filter'] = filter_types\n",
      "<ipython-input-12-8bc6428979cb>:9: FutureWarning: The default value of regex will change from True to False in a future version.\n",
      "  missing_lsoa_df.loc[:,'street_number2'] = missing_lsoa_df.loc[:,'street_number'].str.replace(r\"^.*(?=\\b[0-9]+$)\", \"\").str.replace(r\"[^\\d]\", \"\", regex = True)\n",
      "<ipython-input-12-8bc6428979cb>:9: SettingWithCopyWarning: \n",
      "A value is trying to be set on a copy of a slice from a DataFrame.\n",
      "Try using .loc[row_indexer,col_indexer] = value instead\n",
      "\n",
      "See the caveats in the documentation: https://pandas.pydata.org/pandas-docs/stable/user_guide/indexing.html#returning-a-view-versus-a-copy\n",
      "  missing_lsoa_df.loc[:,'street_number2'] = missing_lsoa_df.loc[:,'street_number'].str.replace(r\"^.*(?=\\b[0-9]+$)\", \"\").str.replace(r\"[^\\d]\", \"\", regex = True)\n"
     ]
    },
    {
     "name": "stdout",
     "output_type": "stream",
     "text": [
      "i= 0  expand time,0.0 filter time0.0 make_dataframe_time 0.001\n",
      "highstreet\n",
      "E06000032\n"
     ]
    },
    {
     "name": "stderr",
     "output_type": "stream",
     "text": [
      "/tf/empty_homes_london/helper_functions.py:279: SettingWithCopyWarning: \n",
      "A value is trying to be set on a copy of a slice from a DataFrame.\n",
      "Try using .loc[row_indexer,col_indexer] = value instead\n",
      "\n",
      "See the caveats in the documentation: https://pandas.pydata.org/pandas-docs/stable/user_guide/indexing.html#returning-a-view-versus-a-copy\n",
      "  temp_multi['number_filter'] = filter_types\n",
      "<ipython-input-12-8bc6428979cb>:35: SettingWithCopyWarning: \n",
      "A value is trying to be set on a copy of a slice from a DataFrame.\n",
      "Try using .loc[row_indexer,col_indexer] = value instead\n",
      "\n",
      "See the caveats in the documentation: https://pandas.pydata.org/pandas-docs/stable/user_guide/indexing.html#returning-a-view-versus-a-copy\n",
      "  missing_lsoa_road['lsoa11cd'] = [street_number_to_lsoa(temp_road, int(missing_lsoa_road.iloc[missing_lsoa_row]['street_number2']))\n",
      "<ipython-input-12-8bc6428979cb>:9: FutureWarning: The default value of regex will change from True to False in a future version.\n",
      "  missing_lsoa_df.loc[:,'street_number2'] = missing_lsoa_df.loc[:,'street_number'].str.replace(r\"^.*(?=\\b[0-9]+$)\", \"\").str.replace(r\"[^\\d]\", \"\", regex = True)\n",
      "<ipython-input-12-8bc6428979cb>:9: SettingWithCopyWarning: \n",
      "A value is trying to be set on a copy of a slice from a DataFrame.\n",
      "Try using .loc[row_indexer,col_indexer] = value instead\n",
      "\n",
      "See the caveats in the documentation: https://pandas.pydata.org/pandas-docs/stable/user_guide/indexing.html#returning-a-view-versus-a-copy\n",
      "  missing_lsoa_df.loc[:,'street_number2'] = missing_lsoa_df.loc[:,'street_number'].str.replace(r\"^.*(?=\\b[0-9]+$)\", \"\").str.replace(r\"[^\\d]\", \"\", regex = True)\n"
     ]
    },
    {
     "name": "stdout",
     "output_type": "stream",
     "text": [
      "i= 0  expand time,0.0 filter time0.0 make_dataframe_time 0.001\n",
      "parkstreet\n",
      "dunstableroad\n",
      "E07000086\n"
     ]
    },
    {
     "name": "stderr",
     "output_type": "stream",
     "text": [
      "/tf/empty_homes_london/helper_functions.py:279: SettingWithCopyWarning: \n",
      "A value is trying to be set on a copy of a slice from a DataFrame.\n",
      "Try using .loc[row_indexer,col_indexer] = value instead\n",
      "\n",
      "See the caveats in the documentation: https://pandas.pydata.org/pandas-docs/stable/user_guide/indexing.html#returning-a-view-versus-a-copy\n",
      "  temp_multi['number_filter'] = filter_types\n",
      "<ipython-input-12-8bc6428979cb>:35: SettingWithCopyWarning: \n",
      "A value is trying to be set on a copy of a slice from a DataFrame.\n",
      "Try using .loc[row_indexer,col_indexer] = value instead\n",
      "\n",
      "See the caveats in the documentation: https://pandas.pydata.org/pandas-docs/stable/user_guide/indexing.html#returning-a-view-versus-a-copy\n",
      "  missing_lsoa_road['lsoa11cd'] = [street_number_to_lsoa(temp_road, int(missing_lsoa_road.iloc[missing_lsoa_row]['street_number2']))\n",
      "<ipython-input-12-8bc6428979cb>:9: FutureWarning: The default value of regex will change from True to False in a future version.\n",
      "  missing_lsoa_df.loc[:,'street_number2'] = missing_lsoa_df.loc[:,'street_number'].str.replace(r\"^.*(?=\\b[0-9]+$)\", \"\").str.replace(r\"[^\\d]\", \"\", regex = True)\n",
      "<ipython-input-12-8bc6428979cb>:9: SettingWithCopyWarning: \n",
      "A value is trying to be set on a copy of a slice from a DataFrame.\n",
      "Try using .loc[row_indexer,col_indexer] = value instead\n",
      "\n",
      "See the caveats in the documentation: https://pandas.pydata.org/pandas-docs/stable/user_guide/indexing.html#returning-a-view-versus-a-copy\n",
      "  missing_lsoa_df.loc[:,'street_number2'] = missing_lsoa_df.loc[:,'street_number'].str.replace(r\"^.*(?=\\b[0-9]+$)\", \"\").str.replace(r\"[^\\d]\", \"\", regex = True)\n"
     ]
    },
    {
     "name": "stdout",
     "output_type": "stream",
     "text": [
      "i= 0  expand time,0.0 filter time0.0 make_dataframe_time 0.001\n",
      "lowernorthamroad\n",
      "chestnutavenue\n",
      "E07000130\n"
     ]
    },
    {
     "name": "stderr",
     "output_type": "stream",
     "text": [
      "/tf/empty_homes_london/helper_functions.py:279: SettingWithCopyWarning: \n",
      "A value is trying to be set on a copy of a slice from a DataFrame.\n",
      "Try using .loc[row_indexer,col_indexer] = value instead\n",
      "\n",
      "See the caveats in the documentation: https://pandas.pydata.org/pandas-docs/stable/user_guide/indexing.html#returning-a-view-versus-a-copy\n",
      "  temp_multi['number_filter'] = filter_types\n",
      "<ipython-input-12-8bc6428979cb>:9: FutureWarning: The default value of regex will change from True to False in a future version.\n",
      "  missing_lsoa_df.loc[:,'street_number2'] = missing_lsoa_df.loc[:,'street_number'].str.replace(r\"^.*(?=\\b[0-9]+$)\", \"\").str.replace(r\"[^\\d]\", \"\", regex = True)\n",
      "<ipython-input-12-8bc6428979cb>:9: SettingWithCopyWarning: \n",
      "A value is trying to be set on a copy of a slice from a DataFrame.\n",
      "Try using .loc[row_indexer,col_indexer] = value instead\n",
      "\n",
      "See the caveats in the documentation: https://pandas.pydata.org/pandas-docs/stable/user_guide/indexing.html#returning-a-view-versus-a-copy\n",
      "  missing_lsoa_df.loc[:,'street_number2'] = missing_lsoa_df.loc[:,'street_number'].str.replace(r\"^.*(?=\\b[0-9]+$)\", \"\").str.replace(r\"[^\\d]\", \"\", regex = True)\n"
     ]
    },
    {
     "name": "stdout",
     "output_type": "stream",
     "text": [
      "i= 0  expand time,0.0 filter time0.0 make_dataframe_time 0.001\n",
      "woodgate\n",
      "E06000033\n"
     ]
    },
    {
     "name": "stderr",
     "output_type": "stream",
     "text": [
      "/tf/empty_homes_london/helper_functions.py:279: SettingWithCopyWarning: \n",
      "A value is trying to be set on a copy of a slice from a DataFrame.\n",
      "Try using .loc[row_indexer,col_indexer] = value instead\n",
      "\n",
      "See the caveats in the documentation: https://pandas.pydata.org/pandas-docs/stable/user_guide/indexing.html#returning-a-view-versus-a-copy\n",
      "  temp_multi['number_filter'] = filter_types\n",
      "<ipython-input-12-8bc6428979cb>:35: SettingWithCopyWarning: \n",
      "A value is trying to be set on a copy of a slice from a DataFrame.\n",
      "Try using .loc[row_indexer,col_indexer] = value instead\n",
      "\n",
      "See the caveats in the documentation: https://pandas.pydata.org/pandas-docs/stable/user_guide/indexing.html#returning-a-view-versus-a-copy\n",
      "  missing_lsoa_road['lsoa11cd'] = [street_number_to_lsoa(temp_road, int(missing_lsoa_road.iloc[missing_lsoa_row]['street_number2']))\n",
      "<ipython-input-12-8bc6428979cb>:9: FutureWarning: The default value of regex will change from True to False in a future version.\n",
      "  missing_lsoa_df.loc[:,'street_number2'] = missing_lsoa_df.loc[:,'street_number'].str.replace(r\"^.*(?=\\b[0-9]+$)\", \"\").str.replace(r\"[^\\d]\", \"\", regex = True)\n",
      "<ipython-input-12-8bc6428979cb>:9: SettingWithCopyWarning: \n",
      "A value is trying to be set on a copy of a slice from a DataFrame.\n",
      "Try using .loc[row_indexer,col_indexer] = value instead\n",
      "\n",
      "See the caveats in the documentation: https://pandas.pydata.org/pandas-docs/stable/user_guide/indexing.html#returning-a-view-versus-a-copy\n",
      "  missing_lsoa_df.loc[:,'street_number2'] = missing_lsoa_df.loc[:,'street_number'].str.replace(r\"^.*(?=\\b[0-9]+$)\", \"\").str.replace(r\"[^\\d]\", \"\", regex = True)\n"
     ]
    },
    {
     "name": "stdout",
     "output_type": "stream",
     "text": [
      "i= 0  expand time,0.0 filter time0.0 make_dataframe_time 0.001\n",
      "richmondavenue\n",
      "yorkroad\n",
      "E07000241\n"
     ]
    },
    {
     "name": "stderr",
     "output_type": "stream",
     "text": [
      "/tf/empty_homes_london/helper_functions.py:279: SettingWithCopyWarning: \n",
      "A value is trying to be set on a copy of a slice from a DataFrame.\n",
      "Try using .loc[row_indexer,col_indexer] = value instead\n",
      "\n",
      "See the caveats in the documentation: https://pandas.pydata.org/pandas-docs/stable/user_guide/indexing.html#returning-a-view-versus-a-copy\n",
      "  temp_multi['number_filter'] = filter_types\n",
      "<ipython-input-12-8bc6428979cb>:35: SettingWithCopyWarning: \n",
      "A value is trying to be set on a copy of a slice from a DataFrame.\n",
      "Try using .loc[row_indexer,col_indexer] = value instead\n",
      "\n",
      "See the caveats in the documentation: https://pandas.pydata.org/pandas-docs/stable/user_guide/indexing.html#returning-a-view-versus-a-copy\n",
      "  missing_lsoa_road['lsoa11cd'] = [street_number_to_lsoa(temp_road, int(missing_lsoa_road.iloc[missing_lsoa_row]['street_number2']))\n",
      "<ipython-input-12-8bc6428979cb>:9: FutureWarning: The default value of regex will change from True to False in a future version.\n",
      "  missing_lsoa_df.loc[:,'street_number2'] = missing_lsoa_df.loc[:,'street_number'].str.replace(r\"^.*(?=\\b[0-9]+$)\", \"\").str.replace(r\"[^\\d]\", \"\", regex = True)\n",
      "<ipython-input-12-8bc6428979cb>:9: SettingWithCopyWarning: \n",
      "A value is trying to be set on a copy of a slice from a DataFrame.\n",
      "Try using .loc[row_indexer,col_indexer] = value instead\n",
      "\n",
      "See the caveats in the documentation: https://pandas.pydata.org/pandas-docs/stable/user_guide/indexing.html#returning-a-view-versus-a-copy\n",
      "  missing_lsoa_df.loc[:,'street_number2'] = missing_lsoa_df.loc[:,'street_number'].str.replace(r\"^.*(?=\\b[0-9]+$)\", \"\").str.replace(r\"[^\\d]\", \"\", regex = True)\n"
     ]
    },
    {
     "name": "stdout",
     "output_type": "stream",
     "text": [
      "i= 0  expand time,0.001 filter time0.0 make_dataframe_time 0.001\n",
      "tolmerroad\n",
      "wellfieldroad\n",
      "bishoprise\n",
      "E07000127\n"
     ]
    },
    {
     "name": "stderr",
     "output_type": "stream",
     "text": [
      "/tf/empty_homes_london/helper_functions.py:279: SettingWithCopyWarning: \n",
      "A value is trying to be set on a copy of a slice from a DataFrame.\n",
      "Try using .loc[row_indexer,col_indexer] = value instead\n",
      "\n",
      "See the caveats in the documentation: https://pandas.pydata.org/pandas-docs/stable/user_guide/indexing.html#returning-a-view-versus-a-copy\n",
      "  temp_multi['number_filter'] = filter_types\n",
      "<ipython-input-12-8bc6428979cb>:35: SettingWithCopyWarning: \n",
      "A value is trying to be set on a copy of a slice from a DataFrame.\n",
      "Try using .loc[row_indexer,col_indexer] = value instead\n",
      "\n",
      "See the caveats in the documentation: https://pandas.pydata.org/pandas-docs/stable/user_guide/indexing.html#returning-a-view-versus-a-copy\n",
      "  missing_lsoa_road['lsoa11cd'] = [street_number_to_lsoa(temp_road, int(missing_lsoa_road.iloc[missing_lsoa_row]['street_number2']))\n",
      "<ipython-input-12-8bc6428979cb>:9: FutureWarning: The default value of regex will change from True to False in a future version.\n",
      "  missing_lsoa_df.loc[:,'street_number2'] = missing_lsoa_df.loc[:,'street_number'].str.replace(r\"^.*(?=\\b[0-9]+$)\", \"\").str.replace(r\"[^\\d]\", \"\", regex = True)\n",
      "<ipython-input-12-8bc6428979cb>:9: SettingWithCopyWarning: \n",
      "A value is trying to be set on a copy of a slice from a DataFrame.\n",
      "Try using .loc[row_indexer,col_indexer] = value instead\n",
      "\n",
      "See the caveats in the documentation: https://pandas.pydata.org/pandas-docs/stable/user_guide/indexing.html#returning-a-view-versus-a-copy\n",
      "  missing_lsoa_df.loc[:,'street_number2'] = missing_lsoa_df.loc[:,'street_number'].str.replace(r\"^.*(?=\\b[0-9]+$)\", \"\").str.replace(r\"[^\\d]\", \"\", regex = True)\n"
     ]
    },
    {
     "name": "stdout",
     "output_type": "stream",
     "text": [
      "i= 0  expand time,0.0 filter time0.0 make_dataframe_time 0.001\n",
      "blackgatelane\n",
      "carrlane\n",
      "E07000116\n"
     ]
    },
    {
     "name": "stderr",
     "output_type": "stream",
     "text": [
      "/tf/empty_homes_london/helper_functions.py:279: SettingWithCopyWarning: \n",
      "A value is trying to be set on a copy of a slice from a DataFrame.\n",
      "Try using .loc[row_indexer,col_indexer] = value instead\n",
      "\n",
      "See the caveats in the documentation: https://pandas.pydata.org/pandas-docs/stable/user_guide/indexing.html#returning-a-view-versus-a-copy\n",
      "  temp_multi['number_filter'] = filter_types\n",
      "<ipython-input-12-8bc6428979cb>:35: SettingWithCopyWarning: \n",
      "A value is trying to be set on a copy of a slice from a DataFrame.\n",
      "Try using .loc[row_indexer,col_indexer] = value instead\n",
      "\n",
      "See the caveats in the documentation: https://pandas.pydata.org/pandas-docs/stable/user_guide/indexing.html#returning-a-view-versus-a-copy\n",
      "  missing_lsoa_road['lsoa11cd'] = [street_number_to_lsoa(temp_road, int(missing_lsoa_road.iloc[missing_lsoa_row]['street_number2']))\n",
      "<ipython-input-12-8bc6428979cb>:9: FutureWarning: The default value of regex will change from True to False in a future version.\n",
      "  missing_lsoa_df.loc[:,'street_number2'] = missing_lsoa_df.loc[:,'street_number'].str.replace(r\"^.*(?=\\b[0-9]+$)\", \"\").str.replace(r\"[^\\d]\", \"\", regex = True)\n",
      "<ipython-input-12-8bc6428979cb>:9: SettingWithCopyWarning: \n",
      "A value is trying to be set on a copy of a slice from a DataFrame.\n",
      "Try using .loc[row_indexer,col_indexer] = value instead\n",
      "\n",
      "See the caveats in the documentation: https://pandas.pydata.org/pandas-docs/stable/user_guide/indexing.html#returning-a-view-versus-a-copy\n",
      "  missing_lsoa_df.loc[:,'street_number2'] = missing_lsoa_df.loc[:,'street_number'].str.replace(r\"^.*(?=\\b[0-9]+$)\", \"\").str.replace(r\"[^\\d]\", \"\", regex = True)\n"
     ]
    },
    {
     "name": "stdout",
     "output_type": "stream",
     "text": [
      "i= 0  expand time,0.0 filter time0.0 make_dataframe_time 0.001\n",
      "highstreet\n",
      "londonroad\n",
      "E06000046\n"
     ]
    },
    {
     "name": "stderr",
     "output_type": "stream",
     "text": [
      "/tf/empty_homes_london/helper_functions.py:279: SettingWithCopyWarning: \n",
      "A value is trying to be set on a copy of a slice from a DataFrame.\n",
      "Try using .loc[row_indexer,col_indexer] = value instead\n",
      "\n",
      "See the caveats in the documentation: https://pandas.pydata.org/pandas-docs/stable/user_guide/indexing.html#returning-a-view-versus-a-copy\n",
      "  temp_multi['number_filter'] = filter_types\n"
     ]
    },
    {
     "name": "stdout",
     "output_type": "stream",
     "text": [
      "i= 0  expand time,0.0 filter time0.0 make_dataframe_time 0.001\n",
      "highstreet\n"
     ]
    },
    {
     "name": "stderr",
     "output_type": "stream",
     "text": [
      "<ipython-input-12-8bc6428979cb>:35: SettingWithCopyWarning: \n",
      "A value is trying to be set on a copy of a slice from a DataFrame.\n",
      "Try using .loc[row_indexer,col_indexer] = value instead\n",
      "\n",
      "See the caveats in the documentation: https://pandas.pydata.org/pandas-docs/stable/user_guide/indexing.html#returning-a-view-versus-a-copy\n",
      "  missing_lsoa_road['lsoa11cd'] = [street_number_to_lsoa(temp_road, int(missing_lsoa_road.iloc[missing_lsoa_row]['street_number2']))\n",
      "<ipython-input-12-8bc6428979cb>:9: FutureWarning: The default value of regex will change from True to False in a future version.\n",
      "  missing_lsoa_df.loc[:,'street_number2'] = missing_lsoa_df.loc[:,'street_number'].str.replace(r\"^.*(?=\\b[0-9]+$)\", \"\").str.replace(r\"[^\\d]\", \"\", regex = True)\n",
      "<ipython-input-12-8bc6428979cb>:9: SettingWithCopyWarning: \n",
      "A value is trying to be set on a copy of a slice from a DataFrame.\n",
      "Try using .loc[row_indexer,col_indexer] = value instead\n",
      "\n",
      "See the caveats in the documentation: https://pandas.pydata.org/pandas-docs/stable/user_guide/indexing.html#returning-a-view-versus-a-copy\n",
      "  missing_lsoa_df.loc[:,'street_number2'] = missing_lsoa_df.loc[:,'street_number'].str.replace(r\"^.*(?=\\b[0-9]+$)\", \"\").str.replace(r\"[^\\d]\", \"\", regex = True)\n"
     ]
    },
    {
     "name": "stdout",
     "output_type": "stream",
     "text": [
      "johnstreet\n",
      "victoriastreet\n",
      "E07000078\n"
     ]
    },
    {
     "name": "stderr",
     "output_type": "stream",
     "text": [
      "/tf/empty_homes_london/helper_functions.py:279: SettingWithCopyWarning: \n",
      "A value is trying to be set on a copy of a slice from a DataFrame.\n",
      "Try using .loc[row_indexer,col_indexer] = value instead\n",
      "\n",
      "See the caveats in the documentation: https://pandas.pydata.org/pandas-docs/stable/user_guide/indexing.html#returning-a-view-versus-a-copy\n",
      "  temp_multi['number_filter'] = filter_types\n",
      "<ipython-input-12-8bc6428979cb>:35: SettingWithCopyWarning: \n",
      "A value is trying to be set on a copy of a slice from a DataFrame.\n",
      "Try using .loc[row_indexer,col_indexer] = value instead\n",
      "\n",
      "See the caveats in the documentation: https://pandas.pydata.org/pandas-docs/stable/user_guide/indexing.html#returning-a-view-versus-a-copy\n",
      "  missing_lsoa_road['lsoa11cd'] = [street_number_to_lsoa(temp_road, int(missing_lsoa_road.iloc[missing_lsoa_row]['street_number2']))\n",
      "<ipython-input-12-8bc6428979cb>:9: FutureWarning: The default value of regex will change from True to False in a future version.\n",
      "  missing_lsoa_df.loc[:,'street_number2'] = missing_lsoa_df.loc[:,'street_number'].str.replace(r\"^.*(?=\\b[0-9]+$)\", \"\").str.replace(r\"[^\\d]\", \"\", regex = True)\n",
      "<ipython-input-12-8bc6428979cb>:9: SettingWithCopyWarning: \n",
      "A value is trying to be set on a copy of a slice from a DataFrame.\n",
      "Try using .loc[row_indexer,col_indexer] = value instead\n",
      "\n",
      "See the caveats in the documentation: https://pandas.pydata.org/pandas-docs/stable/user_guide/indexing.html#returning-a-view-versus-a-copy\n",
      "  missing_lsoa_df.loc[:,'street_number2'] = missing_lsoa_df.loc[:,'street_number'].str.replace(r\"^.*(?=\\b[0-9]+$)\", \"\").str.replace(r\"[^\\d]\", \"\", regex = True)\n"
     ]
    },
    {
     "name": "stdout",
     "output_type": "stream",
     "text": [
      "i= 0  expand time,0.0 filter time0.0 make_dataframe_time 0.001\n",
      "clarencestreet\n",
      "highstreet\n",
      "E08000027\n"
     ]
    },
    {
     "name": "stderr",
     "output_type": "stream",
     "text": [
      "/tf/empty_homes_london/helper_functions.py:279: SettingWithCopyWarning: \n",
      "A value is trying to be set on a copy of a slice from a DataFrame.\n",
      "Try using .loc[row_indexer,col_indexer] = value instead\n",
      "\n",
      "See the caveats in the documentation: https://pandas.pydata.org/pandas-docs/stable/user_guide/indexing.html#returning-a-view-versus-a-copy\n",
      "  temp_multi['number_filter'] = filter_types\n"
     ]
    },
    {
     "name": "stdout",
     "output_type": "stream",
     "text": [
      "i= 0  expand time,0.0 filter time0.0 make_dataframe_time 0.001\n",
      "dudleyroad\n",
      "highstreet\n",
      "stourbridgeroad\n",
      "E07000164\n"
     ]
    },
    {
     "name": "stderr",
     "output_type": "stream",
     "text": [
      "<ipython-input-12-8bc6428979cb>:35: SettingWithCopyWarning: \n",
      "A value is trying to be set on a copy of a slice from a DataFrame.\n",
      "Try using .loc[row_indexer,col_indexer] = value instead\n",
      "\n",
      "See the caveats in the documentation: https://pandas.pydata.org/pandas-docs/stable/user_guide/indexing.html#returning-a-view-versus-a-copy\n",
      "  missing_lsoa_road['lsoa11cd'] = [street_number_to_lsoa(temp_road, int(missing_lsoa_road.iloc[missing_lsoa_row]['street_number2']))\n",
      "<ipython-input-12-8bc6428979cb>:9: FutureWarning: The default value of regex will change from True to False in a future version.\n",
      "  missing_lsoa_df.loc[:,'street_number2'] = missing_lsoa_df.loc[:,'street_number'].str.replace(r\"^.*(?=\\b[0-9]+$)\", \"\").str.replace(r\"[^\\d]\", \"\", regex = True)\n",
      "<ipython-input-12-8bc6428979cb>:9: SettingWithCopyWarning: \n",
      "A value is trying to be set on a copy of a slice from a DataFrame.\n",
      "Try using .loc[row_indexer,col_indexer] = value instead\n",
      "\n",
      "See the caveats in the documentation: https://pandas.pydata.org/pandas-docs/stable/user_guide/indexing.html#returning-a-view-versus-a-copy\n",
      "  missing_lsoa_df.loc[:,'street_number2'] = missing_lsoa_df.loc[:,'street_number'].str.replace(r\"^.*(?=\\b[0-9]+$)\", \"\").str.replace(r\"[^\\d]\", \"\", regex = True)\n",
      "/tf/empty_homes_london/helper_functions.py:279: SettingWithCopyWarning: \n",
      "A value is trying to be set on a copy of a slice from a DataFrame.\n",
      "Try using .loc[row_indexer,col_indexer] = value instead\n",
      "\n",
      "See the caveats in the documentation: https://pandas.pydata.org/pandas-docs/stable/user_guide/indexing.html#returning-a-view-versus-a-copy\n",
      "  temp_multi['number_filter'] = filter_types\n",
      "<ipython-input-12-8bc6428979cb>:9: FutureWarning: The default value of regex will change from True to False in a future version.\n",
      "  missing_lsoa_df.loc[:,'street_number2'] = missing_lsoa_df.loc[:,'street_number'].str.replace(r\"^.*(?=\\b[0-9]+$)\", \"\").str.replace(r\"[^\\d]\", \"\", regex = True)\n",
      "<ipython-input-12-8bc6428979cb>:9: SettingWithCopyWarning: \n",
      "A value is trying to be set on a copy of a slice from a DataFrame.\n",
      "Try using .loc[row_indexer,col_indexer] = value instead\n",
      "\n",
      "See the caveats in the documentation: https://pandas.pydata.org/pandas-docs/stable/user_guide/indexing.html#returning-a-view-versus-a-copy\n",
      "  missing_lsoa_df.loc[:,'street_number2'] = missing_lsoa_df.loc[:,'street_number'].str.replace(r\"^.*(?=\\b[0-9]+$)\", \"\").str.replace(r\"[^\\d]\", \"\", regex = True)\n"
     ]
    },
    {
     "name": "stdout",
     "output_type": "stream",
     "text": [
      "i= 0  expand time,0.0 filter time0.0 make_dataframe_time 0.001\n",
      "highstreet\n",
      "E07000212\n",
      "theoldorangeryottershawpark\n",
      "W06000001\n"
     ]
    },
    {
     "name": "stderr",
     "output_type": "stream",
     "text": [
      "<ipython-input-12-8bc6428979cb>:9: FutureWarning: The default value of regex will change from True to False in a future version.\n",
      "  missing_lsoa_df.loc[:,'street_number2'] = missing_lsoa_df.loc[:,'street_number'].str.replace(r\"^.*(?=\\b[0-9]+$)\", \"\").str.replace(r\"[^\\d]\", \"\", regex = True)\n",
      "<ipython-input-12-8bc6428979cb>:9: SettingWithCopyWarning: \n",
      "A value is trying to be set on a copy of a slice from a DataFrame.\n",
      "Try using .loc[row_indexer,col_indexer] = value instead\n",
      "\n",
      "See the caveats in the documentation: https://pandas.pydata.org/pandas-docs/stable/user_guide/indexing.html#returning-a-view-versus-a-copy\n",
      "  missing_lsoa_df.loc[:,'street_number2'] = missing_lsoa_df.loc[:,'street_number'].str.replace(r\"^.*(?=\\b[0-9]+$)\", \"\").str.replace(r\"[^\\d]\", \"\", regex = True)\n",
      "/tf/empty_homes_london/helper_functions.py:279: SettingWithCopyWarning: \n",
      "A value is trying to be set on a copy of a slice from a DataFrame.\n",
      "Try using .loc[row_indexer,col_indexer] = value instead\n",
      "\n",
      "See the caveats in the documentation: https://pandas.pydata.org/pandas-docs/stable/user_guide/indexing.html#returning-a-view-versus-a-copy\n",
      "  temp_multi['number_filter'] = filter_types\n",
      "<ipython-input-12-8bc6428979cb>:35: SettingWithCopyWarning: \n",
      "A value is trying to be set on a copy of a slice from a DataFrame.\n",
      "Try using .loc[row_indexer,col_indexer] = value instead\n",
      "\n",
      "See the caveats in the documentation: https://pandas.pydata.org/pandas-docs/stable/user_guide/indexing.html#returning-a-view-versus-a-copy\n",
      "  missing_lsoa_road['lsoa11cd'] = [street_number_to_lsoa(temp_road, int(missing_lsoa_road.iloc[missing_lsoa_row]['street_number2']))\n",
      "<ipython-input-12-8bc6428979cb>:9: FutureWarning: The default value of regex will change from True to False in a future version.\n",
      "  missing_lsoa_df.loc[:,'street_number2'] = missing_lsoa_df.loc[:,'street_number'].str.replace(r\"^.*(?=\\b[0-9]+$)\", \"\").str.replace(r\"[^\\d]\", \"\", regex = True)\n",
      "<ipython-input-12-8bc6428979cb>:9: SettingWithCopyWarning: \n",
      "A value is trying to be set on a copy of a slice from a DataFrame.\n",
      "Try using .loc[row_indexer,col_indexer] = value instead\n",
      "\n",
      "See the caveats in the documentation: https://pandas.pydata.org/pandas-docs/stable/user_guide/indexing.html#returning-a-view-versus-a-copy\n",
      "  missing_lsoa_df.loc[:,'street_number2'] = missing_lsoa_df.loc[:,'street_number'].str.replace(r\"^.*(?=\\b[0-9]+$)\", \"\").str.replace(r\"[^\\d]\", \"\", regex = True)\n"
     ]
    },
    {
     "name": "stdout",
     "output_type": "stream",
     "text": [
      "i= 0  expand time,0.0 filter time0.0 make_dataframe_time 0.001\n",
      "marketstreet\n",
      "llyyffair\n",
      "E07000072\n"
     ]
    },
    {
     "name": "stderr",
     "output_type": "stream",
     "text": [
      "/tf/empty_homes_london/helper_functions.py:279: SettingWithCopyWarning: \n",
      "A value is trying to be set on a copy of a slice from a DataFrame.\n",
      "Try using .loc[row_indexer,col_indexer] = value instead\n",
      "\n",
      "See the caveats in the documentation: https://pandas.pydata.org/pandas-docs/stable/user_guide/indexing.html#returning-a-view-versus-a-copy\n",
      "  temp_multi['number_filter'] = filter_types\n",
      "<ipython-input-12-8bc6428979cb>:35: SettingWithCopyWarning: \n",
      "A value is trying to be set on a copy of a slice from a DataFrame.\n",
      "Try using .loc[row_indexer,col_indexer] = value instead\n",
      "\n",
      "See the caveats in the documentation: https://pandas.pydata.org/pandas-docs/stable/user_guide/indexing.html#returning-a-view-versus-a-copy\n",
      "  missing_lsoa_road['lsoa11cd'] = [street_number_to_lsoa(temp_road, int(missing_lsoa_road.iloc[missing_lsoa_row]['street_number2']))\n",
      "<ipython-input-12-8bc6428979cb>:9: FutureWarning: The default value of regex will change from True to False in a future version.\n",
      "  missing_lsoa_df.loc[:,'street_number2'] = missing_lsoa_df.loc[:,'street_number'].str.replace(r\"^.*(?=\\b[0-9]+$)\", \"\").str.replace(r\"[^\\d]\", \"\", regex = True)\n",
      "<ipython-input-12-8bc6428979cb>:9: SettingWithCopyWarning: \n",
      "A value is trying to be set on a copy of a slice from a DataFrame.\n",
      "Try using .loc[row_indexer,col_indexer] = value instead\n",
      "\n",
      "See the caveats in the documentation: https://pandas.pydata.org/pandas-docs/stable/user_guide/indexing.html#returning-a-view-versus-a-copy\n",
      "  missing_lsoa_df.loc[:,'street_number2'] = missing_lsoa_df.loc[:,'street_number'].str.replace(r\"^.*(?=\\b[0-9]+$)\", \"\").str.replace(r\"[^\\d]\", \"\", regex = True)\n"
     ]
    },
    {
     "name": "stdout",
     "output_type": "stream",
     "text": [
      "i= 0  expand time,0.0 filter time0.0 make_dataframe_time 0.001\n",
      "highroad\n",
      "burylane\n",
      "lindseystreet\n",
      "E07000240\n"
     ]
    },
    {
     "name": "stderr",
     "output_type": "stream",
     "text": [
      "/tf/empty_homes_london/helper_functions.py:279: SettingWithCopyWarning: \n",
      "A value is trying to be set on a copy of a slice from a DataFrame.\n",
      "Try using .loc[row_indexer,col_indexer] = value instead\n",
      "\n",
      "See the caveats in the documentation: https://pandas.pydata.org/pandas-docs/stable/user_guide/indexing.html#returning-a-view-versus-a-copy\n",
      "  temp_multi['number_filter'] = filter_types\n",
      "<ipython-input-12-8bc6428979cb>:35: SettingWithCopyWarning: \n",
      "A value is trying to be set on a copy of a slice from a DataFrame.\n",
      "Try using .loc[row_indexer,col_indexer] = value instead\n",
      "\n",
      "See the caveats in the documentation: https://pandas.pydata.org/pandas-docs/stable/user_guide/indexing.html#returning-a-view-versus-a-copy\n",
      "  missing_lsoa_road['lsoa11cd'] = [street_number_to_lsoa(temp_road, int(missing_lsoa_road.iloc[missing_lsoa_row]['street_number2']))\n",
      "<ipython-input-12-8bc6428979cb>:9: FutureWarning: The default value of regex will change from True to False in a future version.\n",
      "  missing_lsoa_df.loc[:,'street_number2'] = missing_lsoa_df.loc[:,'street_number'].str.replace(r\"^.*(?=\\b[0-9]+$)\", \"\").str.replace(r\"[^\\d]\", \"\", regex = True)\n",
      "<ipython-input-12-8bc6428979cb>:9: SettingWithCopyWarning: \n",
      "A value is trying to be set on a copy of a slice from a DataFrame.\n",
      "Try using .loc[row_indexer,col_indexer] = value instead\n",
      "\n",
      "See the caveats in the documentation: https://pandas.pydata.org/pandas-docs/stable/user_guide/indexing.html#returning-a-view-versus-a-copy\n",
      "  missing_lsoa_df.loc[:,'street_number2'] = missing_lsoa_df.loc[:,'street_number'].str.replace(r\"^.*(?=\\b[0-9]+$)\", \"\").str.replace(r\"[^\\d]\", \"\", regex = True)\n"
     ]
    },
    {
     "name": "stdout",
     "output_type": "stream",
     "text": [
      "i= 0  expand time,0.0 filter time0.0 make_dataframe_time 0.001\n",
      "highstreet\n",
      "hillendlane\n",
      "mountpleasantlane\n",
      "E06000022\n"
     ]
    },
    {
     "name": "stderr",
     "output_type": "stream",
     "text": [
      "/tf/empty_homes_london/helper_functions.py:279: SettingWithCopyWarning: \n",
      "A value is trying to be set on a copy of a slice from a DataFrame.\n",
      "Try using .loc[row_indexer,col_indexer] = value instead\n",
      "\n",
      "See the caveats in the documentation: https://pandas.pydata.org/pandas-docs/stable/user_guide/indexing.html#returning-a-view-versus-a-copy\n",
      "  temp_multi['number_filter'] = filter_types\n",
      "<ipython-input-12-8bc6428979cb>:9: FutureWarning: The default value of regex will change from True to False in a future version.\n",
      "  missing_lsoa_df.loc[:,'street_number2'] = missing_lsoa_df.loc[:,'street_number'].str.replace(r\"^.*(?=\\b[0-9]+$)\", \"\").str.replace(r\"[^\\d]\", \"\", regex = True)\n",
      "<ipython-input-12-8bc6428979cb>:9: SettingWithCopyWarning: \n",
      "A value is trying to be set on a copy of a slice from a DataFrame.\n",
      "Try using .loc[row_indexer,col_indexer] = value instead\n",
      "\n",
      "See the caveats in the documentation: https://pandas.pydata.org/pandas-docs/stable/user_guide/indexing.html#returning-a-view-versus-a-copy\n",
      "  missing_lsoa_df.loc[:,'street_number2'] = missing_lsoa_df.loc[:,'street_number'].str.replace(r\"^.*(?=\\b[0-9]+$)\", \"\").str.replace(r\"[^\\d]\", \"\", regex = True)\n"
     ]
    },
    {
     "name": "stdout",
     "output_type": "stream",
     "text": [
      "i= 0  expand time,0.0 filter time0.0 make_dataframe_time 0.001\n",
      "lowerbristolroad\n",
      "E07000194\n"
     ]
    },
    {
     "name": "stderr",
     "output_type": "stream",
     "text": [
      "/tf/empty_homes_london/helper_functions.py:279: SettingWithCopyWarning: \n",
      "A value is trying to be set on a copy of a slice from a DataFrame.\n",
      "Try using .loc[row_indexer,col_indexer] = value instead\n",
      "\n",
      "See the caveats in the documentation: https://pandas.pydata.org/pandas-docs/stable/user_guide/indexing.html#returning-a-view-versus-a-copy\n",
      "  temp_multi['number_filter'] = filter_types\n",
      "<ipython-input-12-8bc6428979cb>:9: FutureWarning: The default value of regex will change from True to False in a future version.\n",
      "  missing_lsoa_df.loc[:,'street_number2'] = missing_lsoa_df.loc[:,'street_number'].str.replace(r\"^.*(?=\\b[0-9]+$)\", \"\").str.replace(r\"[^\\d]\", \"\", regex = True)\n",
      "<ipython-input-12-8bc6428979cb>:9: SettingWithCopyWarning: \n",
      "A value is trying to be set on a copy of a slice from a DataFrame.\n",
      "Try using .loc[row_indexer,col_indexer] = value instead\n",
      "\n",
      "See the caveats in the documentation: https://pandas.pydata.org/pandas-docs/stable/user_guide/indexing.html#returning-a-view-versus-a-copy\n",
      "  missing_lsoa_df.loc[:,'street_number2'] = missing_lsoa_df.loc[:,'street_number'].str.replace(r\"^.*(?=\\b[0-9]+$)\", \"\").str.replace(r\"[^\\d]\", \"\", regex = True)\n"
     ]
    },
    {
     "name": "stdout",
     "output_type": "stream",
     "text": [
      "i= 0  expand time,0.0 filter time0.0 make_dataframe_time 0.001\n",
      "birdstreet\n",
      "E07000210\n"
     ]
    },
    {
     "name": "stderr",
     "output_type": "stream",
     "text": [
      "/tf/empty_homes_london/helper_functions.py:279: SettingWithCopyWarning: \n",
      "A value is trying to be set on a copy of a slice from a DataFrame.\n",
      "Try using .loc[row_indexer,col_indexer] = value instead\n",
      "\n",
      "See the caveats in the documentation: https://pandas.pydata.org/pandas-docs/stable/user_guide/indexing.html#returning-a-view-versus-a-copy\n",
      "  temp_multi['number_filter'] = filter_types\n",
      "<ipython-input-12-8bc6428979cb>:35: SettingWithCopyWarning: \n",
      "A value is trying to be set on a copy of a slice from a DataFrame.\n",
      "Try using .loc[row_indexer,col_indexer] = value instead\n",
      "\n",
      "See the caveats in the documentation: https://pandas.pydata.org/pandas-docs/stable/user_guide/indexing.html#returning-a-view-versus-a-copy\n",
      "  missing_lsoa_road['lsoa11cd'] = [street_number_to_lsoa(temp_road, int(missing_lsoa_road.iloc[missing_lsoa_row]['street_number2']))\n"
     ]
    },
    {
     "name": "stdout",
     "output_type": "stream",
     "text": [
      "i= 0  expand time,0.0 filter time0.0 make_dataframe_time 0.001\n",
      "southstreet\n",
      "highstreet\n",
      "horshamroad\n",
      "forestgreen\n",
      "bridgestreet\n",
      "E07000137\n"
     ]
    },
    {
     "name": "stderr",
     "output_type": "stream",
     "text": [
      "<ipython-input-12-8bc6428979cb>:9: FutureWarning: The default value of regex will change from True to False in a future version.\n",
      "  missing_lsoa_df.loc[:,'street_number2'] = missing_lsoa_df.loc[:,'street_number'].str.replace(r\"^.*(?=\\b[0-9]+$)\", \"\").str.replace(r\"[^\\d]\", \"\", regex = True)\n",
      "<ipython-input-12-8bc6428979cb>:9: SettingWithCopyWarning: \n",
      "A value is trying to be set on a copy of a slice from a DataFrame.\n",
      "Try using .loc[row_indexer,col_indexer] = value instead\n",
      "\n",
      "See the caveats in the documentation: https://pandas.pydata.org/pandas-docs/stable/user_guide/indexing.html#returning-a-view-versus-a-copy\n",
      "  missing_lsoa_df.loc[:,'street_number2'] = missing_lsoa_df.loc[:,'street_number'].str.replace(r\"^.*(?=\\b[0-9]+$)\", \"\").str.replace(r\"[^\\d]\", \"\", regex = True)\n",
      "/tf/empty_homes_london/helper_functions.py:279: SettingWithCopyWarning: \n",
      "A value is trying to be set on a copy of a slice from a DataFrame.\n",
      "Try using .loc[row_indexer,col_indexer] = value instead\n",
      "\n",
      "See the caveats in the documentation: https://pandas.pydata.org/pandas-docs/stable/user_guide/indexing.html#returning-a-view-versus-a-copy\n",
      "  temp_multi['number_filter'] = filter_types\n",
      "<ipython-input-12-8bc6428979cb>:9: FutureWarning: The default value of regex will change from True to False in a future version.\n",
      "  missing_lsoa_df.loc[:,'street_number2'] = missing_lsoa_df.loc[:,'street_number'].str.replace(r\"^.*(?=\\b[0-9]+$)\", \"\").str.replace(r\"[^\\d]\", \"\", regex = True)\n",
      "<ipython-input-12-8bc6428979cb>:9: SettingWithCopyWarning: \n",
      "A value is trying to be set on a copy of a slice from a DataFrame.\n",
      "Try using .loc[row_indexer,col_indexer] = value instead\n",
      "\n",
      "See the caveats in the documentation: https://pandas.pydata.org/pandas-docs/stable/user_guide/indexing.html#returning-a-view-versus-a-copy\n",
      "  missing_lsoa_df.loc[:,'street_number2'] = missing_lsoa_df.loc[:,'street_number'].str.replace(r\"^.*(?=\\b[0-9]+$)\", \"\").str.replace(r\"[^\\d]\", \"\", regex = True)\n"
     ]
    },
    {
     "name": "stdout",
     "output_type": "stream",
     "text": [
      "i= 0  expand time,0.0 filter time0.0 make_dataframe_time 0.001\n",
      "lumleyroad\n",
      "W06000005\n"
     ]
    },
    {
     "name": "stderr",
     "output_type": "stream",
     "text": [
      "/tf/empty_homes_london/helper_functions.py:279: SettingWithCopyWarning: \n",
      "A value is trying to be set on a copy of a slice from a DataFrame.\n",
      "Try using .loc[row_indexer,col_indexer] = value instead\n",
      "\n",
      "See the caveats in the documentation: https://pandas.pydata.org/pandas-docs/stable/user_guide/indexing.html#returning-a-view-versus-a-copy\n",
      "  temp_multi['number_filter'] = filter_types\n",
      "<ipython-input-12-8bc6428979cb>:35: SettingWithCopyWarning: \n",
      "A value is trying to be set on a copy of a slice from a DataFrame.\n",
      "Try using .loc[row_indexer,col_indexer] = value instead\n",
      "\n",
      "See the caveats in the documentation: https://pandas.pydata.org/pandas-docs/stable/user_guide/indexing.html#returning-a-view-versus-a-copy\n",
      "  missing_lsoa_road['lsoa11cd'] = [street_number_to_lsoa(temp_road, int(missing_lsoa_road.iloc[missing_lsoa_row]['street_number2']))\n",
      "<ipython-input-12-8bc6428979cb>:9: FutureWarning: The default value of regex will change from True to False in a future version.\n",
      "  missing_lsoa_df.loc[:,'street_number2'] = missing_lsoa_df.loc[:,'street_number'].str.replace(r\"^.*(?=\\b[0-9]+$)\", \"\").str.replace(r\"[^\\d]\", \"\", regex = True)\n",
      "<ipython-input-12-8bc6428979cb>:9: SettingWithCopyWarning: \n",
      "A value is trying to be set on a copy of a slice from a DataFrame.\n",
      "Try using .loc[row_indexer,col_indexer] = value instead\n",
      "\n",
      "See the caveats in the documentation: https://pandas.pydata.org/pandas-docs/stable/user_guide/indexing.html#returning-a-view-versus-a-copy\n",
      "  missing_lsoa_df.loc[:,'street_number2'] = missing_lsoa_df.loc[:,'street_number'].str.replace(r\"^.*(?=\\b[0-9]+$)\", \"\").str.replace(r\"[^\\d]\", \"\", regex = True)\n"
     ]
    },
    {
     "name": "stdout",
     "output_type": "stream",
     "text": [
      "i= 0  expand time,0.0 filter time0.0 make_dataframe_time 0.001\n",
      "chesterroad\n",
      "firstavenue\n",
      "E07000175\n"
     ]
    },
    {
     "name": "stderr",
     "output_type": "stream",
     "text": [
      "/tf/empty_homes_london/helper_functions.py:279: SettingWithCopyWarning: \n",
      "A value is trying to be set on a copy of a slice from a DataFrame.\n",
      "Try using .loc[row_indexer,col_indexer] = value instead\n",
      "\n",
      "See the caveats in the documentation: https://pandas.pydata.org/pandas-docs/stable/user_guide/indexing.html#returning-a-view-versus-a-copy\n",
      "  temp_multi['number_filter'] = filter_types\n",
      "<ipython-input-12-8bc6428979cb>:9: FutureWarning: The default value of regex will change from True to False in a future version.\n",
      "  missing_lsoa_df.loc[:,'street_number2'] = missing_lsoa_df.loc[:,'street_number'].str.replace(r\"^.*(?=\\b[0-9]+$)\", \"\").str.replace(r\"[^\\d]\", \"\", regex = True)\n",
      "<ipython-input-12-8bc6428979cb>:9: SettingWithCopyWarning: \n",
      "A value is trying to be set on a copy of a slice from a DataFrame.\n",
      "Try using .loc[row_indexer,col_indexer] = value instead\n",
      "\n",
      "See the caveats in the documentation: https://pandas.pydata.org/pandas-docs/stable/user_guide/indexing.html#returning-a-view-versus-a-copy\n",
      "  missing_lsoa_df.loc[:,'street_number2'] = missing_lsoa_df.loc[:,'street_number'].str.replace(r\"^.*(?=\\b[0-9]+$)\", \"\").str.replace(r\"[^\\d]\", \"\", regex = True)\n"
     ]
    },
    {
     "name": "stdout",
     "output_type": "stream",
     "text": [
      "i= 0  expand time,0.0 filter time0.0 make_dataframe_time 0.001\n",
      "londonroad\n",
      "W06000009\n"
     ]
    },
    {
     "name": "stderr",
     "output_type": "stream",
     "text": [
      "/tf/empty_homes_london/helper_functions.py:279: SettingWithCopyWarning: \n",
      "A value is trying to be set on a copy of a slice from a DataFrame.\n",
      "Try using .loc[row_indexer,col_indexer] = value instead\n",
      "\n",
      "See the caveats in the documentation: https://pandas.pydata.org/pandas-docs/stable/user_guide/indexing.html#returning-a-view-versus-a-copy\n",
      "  temp_multi['number_filter'] = filter_types\n",
      "<ipython-input-12-8bc6428979cb>:9: FutureWarning: The default value of regex will change from True to False in a future version.\n",
      "  missing_lsoa_df.loc[:,'street_number2'] = missing_lsoa_df.loc[:,'street_number'].str.replace(r\"^.*(?=\\b[0-9]+$)\", \"\").str.replace(r\"[^\\d]\", \"\", regex = True)\n",
      "<ipython-input-12-8bc6428979cb>:9: SettingWithCopyWarning: \n",
      "A value is trying to be set on a copy of a slice from a DataFrame.\n",
      "Try using .loc[row_indexer,col_indexer] = value instead\n",
      "\n",
      "See the caveats in the documentation: https://pandas.pydata.org/pandas-docs/stable/user_guide/indexing.html#returning-a-view-versus-a-copy\n",
      "  missing_lsoa_df.loc[:,'street_number2'] = missing_lsoa_df.loc[:,'street_number'].str.replace(r\"^.*(?=\\b[0-9]+$)\", \"\").str.replace(r\"[^\\d]\", \"\", regex = True)\n"
     ]
    },
    {
     "name": "stdout",
     "output_type": "stream",
     "text": [
      "i= 0  expand time,0.0 filter time0.0 make_dataframe_time 0.001\n",
      "dimondstreet\n",
      "E07000026\n"
     ]
    },
    {
     "name": "stderr",
     "output_type": "stream",
     "text": [
      "/tf/empty_homes_london/helper_functions.py:279: SettingWithCopyWarning: \n",
      "A value is trying to be set on a copy of a slice from a DataFrame.\n",
      "Try using .loc[row_indexer,col_indexer] = value instead\n",
      "\n",
      "See the caveats in the documentation: https://pandas.pydata.org/pandas-docs/stable/user_guide/indexing.html#returning-a-view-versus-a-copy\n",
      "  temp_multi['number_filter'] = filter_types\n",
      "<ipython-input-12-8bc6428979cb>:35: SettingWithCopyWarning: \n",
      "A value is trying to be set on a copy of a slice from a DataFrame.\n",
      "Try using .loc[row_indexer,col_indexer] = value instead\n",
      "\n",
      "See the caveats in the documentation: https://pandas.pydata.org/pandas-docs/stable/user_guide/indexing.html#returning-a-view-versus-a-copy\n",
      "  missing_lsoa_road['lsoa11cd'] = [street_number_to_lsoa(temp_road, int(missing_lsoa_road.iloc[missing_lsoa_row]['street_number2']))\n",
      "<ipython-input-12-8bc6428979cb>:9: FutureWarning: The default value of regex will change from True to False in a future version.\n",
      "  missing_lsoa_df.loc[:,'street_number2'] = missing_lsoa_df.loc[:,'street_number'].str.replace(r\"^.*(?=\\b[0-9]+$)\", \"\").str.replace(r\"[^\\d]\", \"\", regex = True)\n",
      "<ipython-input-12-8bc6428979cb>:9: SettingWithCopyWarning: \n",
      "A value is trying to be set on a copy of a slice from a DataFrame.\n",
      "Try using .loc[row_indexer,col_indexer] = value instead\n",
      "\n",
      "See the caveats in the documentation: https://pandas.pydata.org/pandas-docs/stable/user_guide/indexing.html#returning-a-view-versus-a-copy\n",
      "  missing_lsoa_df.loc[:,'street_number2'] = missing_lsoa_df.loc[:,'street_number'].str.replace(r\"^.*(?=\\b[0-9]+$)\", \"\").str.replace(r\"[^\\d]\", \"\", regex = True)\n"
     ]
    },
    {
     "name": "stdout",
     "output_type": "stream",
     "text": [
      "i= 0  expand time,0.0 filter time0.0 make_dataframe_time 0.001\n",
      "mainstreet\n",
      "stationstreet\n",
      "E07000099\n",
      "tilehousestreet\n",
      "E07000218\n"
     ]
    },
    {
     "name": "stderr",
     "output_type": "stream",
     "text": [
      "<ipython-input-12-8bc6428979cb>:9: FutureWarning: The default value of regex will change from True to False in a future version.\n",
      "  missing_lsoa_df.loc[:,'street_number2'] = missing_lsoa_df.loc[:,'street_number'].str.replace(r\"^.*(?=\\b[0-9]+$)\", \"\").str.replace(r\"[^\\d]\", \"\", regex = True)\n",
      "<ipython-input-12-8bc6428979cb>:9: SettingWithCopyWarning: \n",
      "A value is trying to be set on a copy of a slice from a DataFrame.\n",
      "Try using .loc[row_indexer,col_indexer] = value instead\n",
      "\n",
      "See the caveats in the documentation: https://pandas.pydata.org/pandas-docs/stable/user_guide/indexing.html#returning-a-view-versus-a-copy\n",
      "  missing_lsoa_df.loc[:,'street_number2'] = missing_lsoa_df.loc[:,'street_number'].str.replace(r\"^.*(?=\\b[0-9]+$)\", \"\").str.replace(r\"[^\\d]\", \"\", regex = True)\n",
      "/tf/empty_homes_london/helper_functions.py:279: SettingWithCopyWarning: \n",
      "A value is trying to be set on a copy of a slice from a DataFrame.\n",
      "Try using .loc[row_indexer,col_indexer] = value instead\n",
      "\n",
      "See the caveats in the documentation: https://pandas.pydata.org/pandas-docs/stable/user_guide/indexing.html#returning-a-view-versus-a-copy\n",
      "  temp_multi['number_filter'] = filter_types\n",
      "<ipython-input-12-8bc6428979cb>:35: SettingWithCopyWarning: \n",
      "A value is trying to be set on a copy of a slice from a DataFrame.\n",
      "Try using .loc[row_indexer,col_indexer] = value instead\n",
      "\n",
      "See the caveats in the documentation: https://pandas.pydata.org/pandas-docs/stable/user_guide/indexing.html#returning-a-view-versus-a-copy\n",
      "  missing_lsoa_road['lsoa11cd'] = [street_number_to_lsoa(temp_road, int(missing_lsoa_road.iloc[missing_lsoa_row]['street_number2']))\n",
      "<ipython-input-12-8bc6428979cb>:9: FutureWarning: The default value of regex will change from True to False in a future version.\n",
      "  missing_lsoa_df.loc[:,'street_number2'] = missing_lsoa_df.loc[:,'street_number'].str.replace(r\"^.*(?=\\b[0-9]+$)\", \"\").str.replace(r\"[^\\d]\", \"\", regex = True)\n",
      "<ipython-input-12-8bc6428979cb>:9: SettingWithCopyWarning: \n",
      "A value is trying to be set on a copy of a slice from a DataFrame.\n",
      "Try using .loc[row_indexer,col_indexer] = value instead\n",
      "\n",
      "See the caveats in the documentation: https://pandas.pydata.org/pandas-docs/stable/user_guide/indexing.html#returning-a-view-versus-a-copy\n",
      "  missing_lsoa_df.loc[:,'street_number2'] = missing_lsoa_df.loc[:,'street_number'].str.replace(r\"^.*(?=\\b[0-9]+$)\", \"\").str.replace(r\"[^\\d]\", \"\", regex = True)\n"
     ]
    },
    {
     "name": "stdout",
     "output_type": "stream",
     "text": [
      "i= 0  expand time,0.0 filter time0.0 make_dataframe_time 0.001\n",
      "gorseylane\n",
      "longstreet\n",
      "E07000143\n"
     ]
    },
    {
     "name": "stderr",
     "output_type": "stream",
     "text": [
      "/tf/empty_homes_london/helper_functions.py:279: SettingWithCopyWarning: \n",
      "A value is trying to be set on a copy of a slice from a DataFrame.\n",
      "Try using .loc[row_indexer,col_indexer] = value instead\n",
      "\n",
      "See the caveats in the documentation: https://pandas.pydata.org/pandas-docs/stable/user_guide/indexing.html#returning-a-view-versus-a-copy\n",
      "  temp_multi['number_filter'] = filter_types\n",
      "<ipython-input-12-8bc6428979cb>:9: FutureWarning: The default value of regex will change from True to False in a future version.\n",
      "  missing_lsoa_df.loc[:,'street_number2'] = missing_lsoa_df.loc[:,'street_number'].str.replace(r\"^.*(?=\\b[0-9]+$)\", \"\").str.replace(r\"[^\\d]\", \"\", regex = True)\n",
      "<ipython-input-12-8bc6428979cb>:9: SettingWithCopyWarning: \n",
      "A value is trying to be set on a copy of a slice from a DataFrame.\n",
      "Try using .loc[row_indexer,col_indexer] = value instead\n",
      "\n",
      "See the caveats in the documentation: https://pandas.pydata.org/pandas-docs/stable/user_guide/indexing.html#returning-a-view-versus-a-copy\n",
      "  missing_lsoa_df.loc[:,'street_number2'] = missing_lsoa_df.loc[:,'street_number'].str.replace(r\"^.*(?=\\b[0-9]+$)\", \"\").str.replace(r\"[^\\d]\", \"\", regex = True)\n"
     ]
    },
    {
     "name": "stdout",
     "output_type": "stream",
     "text": [
      "i= 0  expand time,0.0 filter time0.0 make_dataframe_time 0.001\n",
      "marketplace\n",
      "E07000170\n"
     ]
    },
    {
     "name": "stderr",
     "output_type": "stream",
     "text": [
      "/tf/empty_homes_london/helper_functions.py:279: SettingWithCopyWarning: \n",
      "A value is trying to be set on a copy of a slice from a DataFrame.\n",
      "Try using .loc[row_indexer,col_indexer] = value instead\n",
      "\n",
      "See the caveats in the documentation: https://pandas.pydata.org/pandas-docs/stable/user_guide/indexing.html#returning-a-view-versus-a-copy\n",
      "  temp_multi['number_filter'] = filter_types\n",
      "<ipython-input-12-8bc6428979cb>:35: SettingWithCopyWarning: \n",
      "A value is trying to be set on a copy of a slice from a DataFrame.\n",
      "Try using .loc[row_indexer,col_indexer] = value instead\n",
      "\n",
      "See the caveats in the documentation: https://pandas.pydata.org/pandas-docs/stable/user_guide/indexing.html#returning-a-view-versus-a-copy\n",
      "  missing_lsoa_road['lsoa11cd'] = [street_number_to_lsoa(temp_road, int(missing_lsoa_road.iloc[missing_lsoa_row]['street_number2']))\n",
      "<ipython-input-12-8bc6428979cb>:9: FutureWarning: The default value of regex will change from True to False in a future version.\n",
      "  missing_lsoa_df.loc[:,'street_number2'] = missing_lsoa_df.loc[:,'street_number'].str.replace(r\"^.*(?=\\b[0-9]+$)\", \"\").str.replace(r\"[^\\d]\", \"\", regex = True)\n",
      "<ipython-input-12-8bc6428979cb>:9: SettingWithCopyWarning: \n",
      "A value is trying to be set on a copy of a slice from a DataFrame.\n",
      "Try using .loc[row_indexer,col_indexer] = value instead\n",
      "\n",
      "See the caveats in the documentation: https://pandas.pydata.org/pandas-docs/stable/user_guide/indexing.html#returning-a-view-versus-a-copy\n",
      "  missing_lsoa_df.loc[:,'street_number2'] = missing_lsoa_df.loc[:,'street_number'].str.replace(r\"^.*(?=\\b[0-9]+$)\", \"\").str.replace(r\"[^\\d]\", \"\", regex = True)\n"
     ]
    },
    {
     "name": "stdout",
     "output_type": "stream",
     "text": [
      "i= 0  expand time,0.0 filter time0.0 make_dataframe_time 0.001\n",
      "sherwoodpark\n",
      "ascotgardens\n",
      "portlandstreet\n",
      "hardwicklane\n",
      "E06000004\n"
     ]
    },
    {
     "name": "stderr",
     "output_type": "stream",
     "text": [
      "/tf/empty_homes_london/helper_functions.py:279: SettingWithCopyWarning: \n",
      "A value is trying to be set on a copy of a slice from a DataFrame.\n",
      "Try using .loc[row_indexer,col_indexer] = value instead\n",
      "\n",
      "See the caveats in the documentation: https://pandas.pydata.org/pandas-docs/stable/user_guide/indexing.html#returning-a-view-versus-a-copy\n",
      "  temp_multi['number_filter'] = filter_types\n",
      "<ipython-input-12-8bc6428979cb>:35: SettingWithCopyWarning: \n",
      "A value is trying to be set on a copy of a slice from a DataFrame.\n",
      "Try using .loc[row_indexer,col_indexer] = value instead\n",
      "\n",
      "See the caveats in the documentation: https://pandas.pydata.org/pandas-docs/stable/user_guide/indexing.html#returning-a-view-versus-a-copy\n",
      "  missing_lsoa_road['lsoa11cd'] = [street_number_to_lsoa(temp_road, int(missing_lsoa_road.iloc[missing_lsoa_row]['street_number2']))\n",
      "<ipython-input-12-8bc6428979cb>:9: FutureWarning: The default value of regex will change from True to False in a future version.\n",
      "  missing_lsoa_df.loc[:,'street_number2'] = missing_lsoa_df.loc[:,'street_number'].str.replace(r\"^.*(?=\\b[0-9]+$)\", \"\").str.replace(r\"[^\\d]\", \"\", regex = True)\n",
      "<ipython-input-12-8bc6428979cb>:9: SettingWithCopyWarning: \n",
      "A value is trying to be set on a copy of a slice from a DataFrame.\n",
      "Try using .loc[row_indexer,col_indexer] = value instead\n",
      "\n",
      "See the caveats in the documentation: https://pandas.pydata.org/pandas-docs/stable/user_guide/indexing.html#returning-a-view-versus-a-copy\n",
      "  missing_lsoa_df.loc[:,'street_number2'] = missing_lsoa_df.loc[:,'street_number'].str.replace(r\"^.*(?=\\b[0-9]+$)\", \"\").str.replace(r\"[^\\d]\", \"\", regex = True)\n"
     ]
    },
    {
     "name": "stdout",
     "output_type": "stream",
     "text": [
      "i= 0  expand time,0.0 filter time0.0 make_dataframe_time 0.001\n",
      "princetondrive\n",
      "highstreet\n",
      "nortonroad\n",
      "E06000001\n"
     ]
    },
    {
     "name": "stderr",
     "output_type": "stream",
     "text": [
      "/tf/empty_homes_london/helper_functions.py:279: SettingWithCopyWarning: \n",
      "A value is trying to be set on a copy of a slice from a DataFrame.\n",
      "Try using .loc[row_indexer,col_indexer] = value instead\n",
      "\n",
      "See the caveats in the documentation: https://pandas.pydata.org/pandas-docs/stable/user_guide/indexing.html#returning-a-view-versus-a-copy\n",
      "  temp_multi['number_filter'] = filter_types\n",
      "<ipython-input-12-8bc6428979cb>:35: SettingWithCopyWarning: \n",
      "A value is trying to be set on a copy of a slice from a DataFrame.\n",
      "Try using .loc[row_indexer,col_indexer] = value instead\n",
      "\n",
      "See the caveats in the documentation: https://pandas.pydata.org/pandas-docs/stable/user_guide/indexing.html#returning-a-view-versus-a-copy\n",
      "  missing_lsoa_road['lsoa11cd'] = [street_number_to_lsoa(temp_road, int(missing_lsoa_road.iloc[missing_lsoa_row]['street_number2']))\n",
      "<ipython-input-12-8bc6428979cb>:9: FutureWarning: The default value of regex will change from True to False in a future version.\n",
      "  missing_lsoa_df.loc[:,'street_number2'] = missing_lsoa_df.loc[:,'street_number'].str.replace(r\"^.*(?=\\b[0-9]+$)\", \"\").str.replace(r\"[^\\d]\", \"\", regex = True)\n",
      "<ipython-input-12-8bc6428979cb>:9: SettingWithCopyWarning: \n",
      "A value is trying to be set on a copy of a slice from a DataFrame.\n",
      "Try using .loc[row_indexer,col_indexer] = value instead\n",
      "\n",
      "See the caveats in the documentation: https://pandas.pydata.org/pandas-docs/stable/user_guide/indexing.html#returning-a-view-versus-a-copy\n",
      "  missing_lsoa_df.loc[:,'street_number2'] = missing_lsoa_df.loc[:,'street_number'].str.replace(r\"^.*(?=\\b[0-9]+$)\", \"\").str.replace(r\"[^\\d]\", \"\", regex = True)\n"
     ]
    },
    {
     "name": "stdout",
     "output_type": "stream",
     "text": [
      "i= 0  expand time,0.0 filter time0.0 make_dataframe_time 0.001\n",
      "seatonlane\n",
      "brendaroad\n",
      "E07000011\n"
     ]
    },
    {
     "name": "stderr",
     "output_type": "stream",
     "text": [
      "/tf/empty_homes_london/helper_functions.py:279: SettingWithCopyWarning: \n",
      "A value is trying to be set on a copy of a slice from a DataFrame.\n",
      "Try using .loc[row_indexer,col_indexer] = value instead\n",
      "\n",
      "See the caveats in the documentation: https://pandas.pydata.org/pandas-docs/stable/user_guide/indexing.html#returning-a-view-versus-a-copy\n",
      "  temp_multi['number_filter'] = filter_types\n",
      "<ipython-input-12-8bc6428979cb>:9: FutureWarning: The default value of regex will change from True to False in a future version.\n",
      "  missing_lsoa_df.loc[:,'street_number2'] = missing_lsoa_df.loc[:,'street_number'].str.replace(r\"^.*(?=\\b[0-9]+$)\", \"\").str.replace(r\"[^\\d]\", \"\", regex = True)\n",
      "<ipython-input-12-8bc6428979cb>:9: SettingWithCopyWarning: \n",
      "A value is trying to be set on a copy of a slice from a DataFrame.\n",
      "Try using .loc[row_indexer,col_indexer] = value instead\n",
      "\n",
      "See the caveats in the documentation: https://pandas.pydata.org/pandas-docs/stable/user_guide/indexing.html#returning-a-view-versus-a-copy\n",
      "  missing_lsoa_df.loc[:,'street_number2'] = missing_lsoa_df.loc[:,'street_number'].str.replace(r\"^.*(?=\\b[0-9]+$)\", \"\").str.replace(r\"[^\\d]\", \"\", regex = True)\n"
     ]
    },
    {
     "name": "stdout",
     "output_type": "stream",
     "text": [
      "i= 0  expand time,0.0 filter time0.0 make_dataframe_time 0.001\n",
      "georgestreet\n",
      "W06000008\n",
      "queenstreet\n",
      "avondale\n",
      "E07000120\n"
     ]
    },
    {
     "name": "stderr",
     "output_type": "stream",
     "text": [
      "<ipython-input-12-8bc6428979cb>:35: SettingWithCopyWarning: \n",
      "A value is trying to be set on a copy of a slice from a DataFrame.\n",
      "Try using .loc[row_indexer,col_indexer] = value instead\n",
      "\n",
      "See the caveats in the documentation: https://pandas.pydata.org/pandas-docs/stable/user_guide/indexing.html#returning-a-view-versus-a-copy\n",
      "  missing_lsoa_road['lsoa11cd'] = [street_number_to_lsoa(temp_road, int(missing_lsoa_road.iloc[missing_lsoa_row]['street_number2']))\n",
      "<ipython-input-12-8bc6428979cb>:9: FutureWarning: The default value of regex will change from True to False in a future version.\n",
      "  missing_lsoa_df.loc[:,'street_number2'] = missing_lsoa_df.loc[:,'street_number'].str.replace(r\"^.*(?=\\b[0-9]+$)\", \"\").str.replace(r\"[^\\d]\", \"\", regex = True)\n",
      "<ipython-input-12-8bc6428979cb>:9: SettingWithCopyWarning: \n",
      "A value is trying to be set on a copy of a slice from a DataFrame.\n",
      "Try using .loc[row_indexer,col_indexer] = value instead\n",
      "\n",
      "See the caveats in the documentation: https://pandas.pydata.org/pandas-docs/stable/user_guide/indexing.html#returning-a-view-versus-a-copy\n",
      "  missing_lsoa_df.loc[:,'street_number2'] = missing_lsoa_df.loc[:,'street_number'].str.replace(r\"^.*(?=\\b[0-9]+$)\", \"\").str.replace(r\"[^\\d]\", \"\", regex = True)\n"
     ]
    },
    {
     "name": "stdout",
     "output_type": "stream",
     "text": [
      "stanhillroad\n",
      "E07000140\n"
     ]
    },
    {
     "name": "stderr",
     "output_type": "stream",
     "text": [
      "<ipython-input-12-8bc6428979cb>:9: FutureWarning: The default value of regex will change from True to False in a future version.\n",
      "  missing_lsoa_df.loc[:,'street_number2'] = missing_lsoa_df.loc[:,'street_number'].str.replace(r\"^.*(?=\\b[0-9]+$)\", \"\").str.replace(r\"[^\\d]\", \"\", regex = True)\n",
      "<ipython-input-12-8bc6428979cb>:9: SettingWithCopyWarning: \n",
      "A value is trying to be set on a copy of a slice from a DataFrame.\n",
      "Try using .loc[row_indexer,col_indexer] = value instead\n",
      "\n",
      "See the caveats in the documentation: https://pandas.pydata.org/pandas-docs/stable/user_guide/indexing.html#returning-a-view-versus-a-copy\n",
      "  missing_lsoa_df.loc[:,'street_number2'] = missing_lsoa_df.loc[:,'street_number'].str.replace(r\"^.*(?=\\b[0-9]+$)\", \"\").str.replace(r\"[^\\d]\", \"\", regex = True)\n"
     ]
    },
    {
     "name": "stdout",
     "output_type": "stream",
     "text": [
      "westmarshroad\n",
      "E07000138\n"
     ]
    },
    {
     "name": "stderr",
     "output_type": "stream",
     "text": [
      "<ipython-input-12-8bc6428979cb>:9: FutureWarning: The default value of regex will change from True to False in a future version.\n",
      "  missing_lsoa_df.loc[:,'street_number2'] = missing_lsoa_df.loc[:,'street_number'].str.replace(r\"^.*(?=\\b[0-9]+$)\", \"\").str.replace(r\"[^\\d]\", \"\", regex = True)\n",
      "<ipython-input-12-8bc6428979cb>:9: SettingWithCopyWarning: \n",
      "A value is trying to be set on a copy of a slice from a DataFrame.\n",
      "Try using .loc[row_indexer,col_indexer] = value instead\n",
      "\n",
      "See the caveats in the documentation: https://pandas.pydata.org/pandas-docs/stable/user_guide/indexing.html#returning-a-view-versus-a-copy\n",
      "  missing_lsoa_df.loc[:,'street_number2'] = missing_lsoa_df.loc[:,'street_number'].str.replace(r\"^.*(?=\\b[0-9]+$)\", \"\").str.replace(r\"[^\\d]\", \"\", regex = True)\n",
      "/tf/empty_homes_london/helper_functions.py:279: SettingWithCopyWarning: \n",
      "A value is trying to be set on a copy of a slice from a DataFrame.\n",
      "Try using .loc[row_indexer,col_indexer] = value instead\n",
      "\n",
      "See the caveats in the documentation: https://pandas.pydata.org/pandas-docs/stable/user_guide/indexing.html#returning-a-view-versus-a-copy\n",
      "  temp_multi['number_filter'] = filter_types\n",
      "<ipython-input-12-8bc6428979cb>:9: FutureWarning: The default value of regex will change from True to False in a future version.\n",
      "  missing_lsoa_df.loc[:,'street_number2'] = missing_lsoa_df.loc[:,'street_number'].str.replace(r\"^.*(?=\\b[0-9]+$)\", \"\").str.replace(r\"[^\\d]\", \"\", regex = True)\n",
      "<ipython-input-12-8bc6428979cb>:9: SettingWithCopyWarning: \n",
      "A value is trying to be set on a copy of a slice from a DataFrame.\n",
      "Try using .loc[row_indexer,col_indexer] = value instead\n",
      "\n",
      "See the caveats in the documentation: https://pandas.pydata.org/pandas-docs/stable/user_guide/indexing.html#returning-a-view-versus-a-copy\n",
      "  missing_lsoa_df.loc[:,'street_number2'] = missing_lsoa_df.loc[:,'street_number'].str.replace(r\"^.*(?=\\b[0-9]+$)\", \"\").str.replace(r\"[^\\d]\", \"\", regex = True)\n"
     ]
    },
    {
     "name": "stdout",
     "output_type": "stream",
     "text": [
      "i= 0  expand time,0.0 filter time0.0 make_dataframe_time 0.001\n",
      "carholmeroad\n",
      "E07000141\n"
     ]
    },
    {
     "name": "stderr",
     "output_type": "stream",
     "text": [
      "/tf/empty_homes_london/helper_functions.py:279: SettingWithCopyWarning: \n",
      "A value is trying to be set on a copy of a slice from a DataFrame.\n",
      "Try using .loc[row_indexer,col_indexer] = value instead\n",
      "\n",
      "See the caveats in the documentation: https://pandas.pydata.org/pandas-docs/stable/user_guide/indexing.html#returning-a-view-versus-a-copy\n",
      "  temp_multi['number_filter'] = filter_types\n",
      "<ipython-input-12-8bc6428979cb>:9: FutureWarning: The default value of regex will change from True to False in a future version.\n",
      "  missing_lsoa_df.loc[:,'street_number2'] = missing_lsoa_df.loc[:,'street_number'].str.replace(r\"^.*(?=\\b[0-9]+$)\", \"\").str.replace(r\"[^\\d]\", \"\", regex = True)\n",
      "<ipython-input-12-8bc6428979cb>:9: SettingWithCopyWarning: \n",
      "A value is trying to be set on a copy of a slice from a DataFrame.\n",
      "Try using .loc[row_indexer,col_indexer] = value instead\n",
      "\n",
      "See the caveats in the documentation: https://pandas.pydata.org/pandas-docs/stable/user_guide/indexing.html#returning-a-view-versus-a-copy\n",
      "  missing_lsoa_df.loc[:,'street_number2'] = missing_lsoa_df.loc[:,'street_number'].str.replace(r\"^.*(?=\\b[0-9]+$)\", \"\").str.replace(r\"[^\\d]\", \"\", regex = True)\n"
     ]
    },
    {
     "name": "stdout",
     "output_type": "stream",
     "text": [
      "i= 0  expand time,0.0 filter time0.0 make_dataframe_time 0.001\n",
      "stpeterhill\n",
      "E07000028\n"
     ]
    },
    {
     "name": "stderr",
     "output_type": "stream",
     "text": [
      "/tf/empty_homes_london/helper_functions.py:279: SettingWithCopyWarning: \n",
      "A value is trying to be set on a copy of a slice from a DataFrame.\n",
      "Try using .loc[row_indexer,col_indexer] = value instead\n",
      "\n",
      "See the caveats in the documentation: https://pandas.pydata.org/pandas-docs/stable/user_guide/indexing.html#returning-a-view-versus-a-copy\n",
      "  temp_multi['number_filter'] = filter_types\n",
      "<ipython-input-12-8bc6428979cb>:35: SettingWithCopyWarning: \n",
      "A value is trying to be set on a copy of a slice from a DataFrame.\n",
      "Try using .loc[row_indexer,col_indexer] = value instead\n",
      "\n",
      "See the caveats in the documentation: https://pandas.pydata.org/pandas-docs/stable/user_guide/indexing.html#returning-a-view-versus-a-copy\n",
      "  missing_lsoa_road['lsoa11cd'] = [street_number_to_lsoa(temp_road, int(missing_lsoa_road.iloc[missing_lsoa_row]['street_number2']))\n",
      "<ipython-input-12-8bc6428979cb>:9: FutureWarning: The default value of regex will change from True to False in a future version.\n",
      "  missing_lsoa_df.loc[:,'street_number2'] = missing_lsoa_df.loc[:,'street_number'].str.replace(r\"^.*(?=\\b[0-9]+$)\", \"\").str.replace(r\"[^\\d]\", \"\", regex = True)\n",
      "<ipython-input-12-8bc6428979cb>:9: SettingWithCopyWarning: \n",
      "A value is trying to be set on a copy of a slice from a DataFrame.\n",
      "Try using .loc[row_indexer,col_indexer] = value instead\n",
      "\n",
      "See the caveats in the documentation: https://pandas.pydata.org/pandas-docs/stable/user_guide/indexing.html#returning-a-view-versus-a-copy\n",
      "  missing_lsoa_df.loc[:,'street_number2'] = missing_lsoa_df.loc[:,'street_number'].str.replace(r\"^.*(?=\\b[0-9]+$)\", \"\").str.replace(r\"[^\\d]\", \"\", regex = True)\n"
     ]
    },
    {
     "name": "stdout",
     "output_type": "stream",
     "text": [
      "i= 0  expand time,0.0 filter time0.0 make_dataframe_time 0.001\n",
      "englishstreet\n",
      "englishgateplazabotchergate\n",
      "W06000020\n",
      "georgestreet\n",
      "E06000027\n"
     ]
    },
    {
     "name": "stderr",
     "output_type": "stream",
     "text": [
      "<ipython-input-12-8bc6428979cb>:9: FutureWarning: The default value of regex will change from True to False in a future version.\n",
      "  missing_lsoa_df.loc[:,'street_number2'] = missing_lsoa_df.loc[:,'street_number'].str.replace(r\"^.*(?=\\b[0-9]+$)\", \"\").str.replace(r\"[^\\d]\", \"\", regex = True)\n",
      "<ipython-input-12-8bc6428979cb>:9: SettingWithCopyWarning: \n",
      "A value is trying to be set on a copy of a slice from a DataFrame.\n",
      "Try using .loc[row_indexer,col_indexer] = value instead\n",
      "\n",
      "See the caveats in the documentation: https://pandas.pydata.org/pandas-docs/stable/user_guide/indexing.html#returning-a-view-versus-a-copy\n",
      "  missing_lsoa_df.loc[:,'street_number2'] = missing_lsoa_df.loc[:,'street_number'].str.replace(r\"^.*(?=\\b[0-9]+$)\", \"\").str.replace(r\"[^\\d]\", \"\", regex = True)\n"
     ]
    },
    {
     "name": "stdout",
     "output_type": "stream",
     "text": [
      "brixhamroad\n",
      "E07000040\n"
     ]
    },
    {
     "name": "stderr",
     "output_type": "stream",
     "text": [
      "<ipython-input-12-8bc6428979cb>:9: FutureWarning: The default value of regex will change from True to False in a future version.\n",
      "  missing_lsoa_df.loc[:,'street_number2'] = missing_lsoa_df.loc[:,'street_number'].str.replace(r\"^.*(?=\\b[0-9]+$)\", \"\").str.replace(r\"[^\\d]\", \"\", regex = True)\n",
      "<ipython-input-12-8bc6428979cb>:9: SettingWithCopyWarning: \n",
      "A value is trying to be set on a copy of a slice from a DataFrame.\n",
      "Try using .loc[row_indexer,col_indexer] = value instead\n",
      "\n",
      "See the caveats in the documentation: https://pandas.pydata.org/pandas-docs/stable/user_guide/indexing.html#returning-a-view-versus-a-copy\n",
      "  missing_lsoa_df.loc[:,'street_number2'] = missing_lsoa_df.loc[:,'street_number'].str.replace(r\"^.*(?=\\b[0-9]+$)\", \"\").str.replace(r\"[^\\d]\", \"\", regex = True)\n"
     ]
    },
    {
     "name": "stdout",
     "output_type": "stream",
     "text": [
      "forestreet\n",
      "E07000046\n"
     ]
    },
    {
     "name": "stderr",
     "output_type": "stream",
     "text": [
      "<ipython-input-12-8bc6428979cb>:9: FutureWarning: The default value of regex will change from True to False in a future version.\n",
      "  missing_lsoa_df.loc[:,'street_number2'] = missing_lsoa_df.loc[:,'street_number'].str.replace(r\"^.*(?=\\b[0-9]+$)\", \"\").str.replace(r\"[^\\d]\", \"\", regex = True)\n",
      "<ipython-input-12-8bc6428979cb>:9: SettingWithCopyWarning: \n",
      "A value is trying to be set on a copy of a slice from a DataFrame.\n",
      "Try using .loc[row_indexer,col_indexer] = value instead\n",
      "\n",
      "See the caveats in the documentation: https://pandas.pydata.org/pandas-docs/stable/user_guide/indexing.html#returning-a-view-versus-a-copy\n",
      "  missing_lsoa_df.loc[:,'street_number2'] = missing_lsoa_df.loc[:,'street_number'].str.replace(r\"^.*(?=\\b[0-9]+$)\", \"\").str.replace(r\"[^\\d]\", \"\", regex = True)\n",
      "/tf/empty_homes_london/helper_functions.py:279: SettingWithCopyWarning: \n",
      "A value is trying to be set on a copy of a slice from a DataFrame.\n",
      "Try using .loc[row_indexer,col_indexer] = value instead\n",
      "\n",
      "See the caveats in the documentation: https://pandas.pydata.org/pandas-docs/stable/user_guide/indexing.html#returning-a-view-versus-a-copy\n",
      "  temp_multi['number_filter'] = filter_types\n",
      "<ipython-input-12-8bc6428979cb>:9: FutureWarning: The default value of regex will change from True to False in a future version.\n",
      "  missing_lsoa_df.loc[:,'street_number2'] = missing_lsoa_df.loc[:,'street_number'].str.replace(r\"^.*(?=\\b[0-9]+$)\", \"\").str.replace(r\"[^\\d]\", \"\", regex = True)\n",
      "<ipython-input-12-8bc6428979cb>:9: SettingWithCopyWarning: \n",
      "A value is trying to be set on a copy of a slice from a DataFrame.\n",
      "Try using .loc[row_indexer,col_indexer] = value instead\n",
      "\n",
      "See the caveats in the documentation: https://pandas.pydata.org/pandas-docs/stable/user_guide/indexing.html#returning-a-view-versus-a-copy\n",
      "  missing_lsoa_df.loc[:,'street_number2'] = missing_lsoa_df.loc[:,'street_number'].str.replace(r\"^.*(?=\\b[0-9]+$)\", \"\").str.replace(r\"[^\\d]\", \"\", regex = True)\n"
     ]
    },
    {
     "name": "stdout",
     "output_type": "stream",
     "text": [
      "i= 0  expand time,0.0 filter time0.0 make_dataframe_time 0.001\n",
      "clovellyroad\n",
      "E07000041\n"
     ]
    },
    {
     "name": "stderr",
     "output_type": "stream",
     "text": [
      "/tf/empty_homes_london/helper_functions.py:279: SettingWithCopyWarning: \n",
      "A value is trying to be set on a copy of a slice from a DataFrame.\n",
      "Try using .loc[row_indexer,col_indexer] = value instead\n",
      "\n",
      "See the caveats in the documentation: https://pandas.pydata.org/pandas-docs/stable/user_guide/indexing.html#returning-a-view-versus-a-copy\n",
      "  temp_multi['number_filter'] = filter_types\n",
      "<ipython-input-12-8bc6428979cb>:35: SettingWithCopyWarning: \n",
      "A value is trying to be set on a copy of a slice from a DataFrame.\n",
      "Try using .loc[row_indexer,col_indexer] = value instead\n",
      "\n",
      "See the caveats in the documentation: https://pandas.pydata.org/pandas-docs/stable/user_guide/indexing.html#returning-a-view-versus-a-copy\n",
      "  missing_lsoa_road['lsoa11cd'] = [street_number_to_lsoa(temp_road, int(missing_lsoa_road.iloc[missing_lsoa_row]['street_number2']))\n",
      "<ipython-input-12-8bc6428979cb>:9: FutureWarning: The default value of regex will change from True to False in a future version.\n",
      "  missing_lsoa_df.loc[:,'street_number2'] = missing_lsoa_df.loc[:,'street_number'].str.replace(r\"^.*(?=\\b[0-9]+$)\", \"\").str.replace(r\"[^\\d]\", \"\", regex = True)\n",
      "<ipython-input-12-8bc6428979cb>:9: SettingWithCopyWarning: \n",
      "A value is trying to be set on a copy of a slice from a DataFrame.\n",
      "Try using .loc[row_indexer,col_indexer] = value instead\n",
      "\n",
      "See the caveats in the documentation: https://pandas.pydata.org/pandas-docs/stable/user_guide/indexing.html#returning-a-view-versus-a-copy\n",
      "  missing_lsoa_df.loc[:,'street_number2'] = missing_lsoa_df.loc[:,'street_number'].str.replace(r\"^.*(?=\\b[0-9]+$)\", \"\").str.replace(r\"[^\\d]\", \"\", regex = True)\n"
     ]
    },
    {
     "name": "stdout",
     "output_type": "stream",
     "text": [
      "i= 0  expand time,0.0 filter time0.0 make_dataframe_time 0.001\n",
      "southernhaygardens\n",
      "paulstreet\n",
      "E07000067\n"
     ]
    },
    {
     "name": "stderr",
     "output_type": "stream",
     "text": [
      "/tf/empty_homes_london/helper_functions.py:279: SettingWithCopyWarning: \n",
      "A value is trying to be set on a copy of a slice from a DataFrame.\n",
      "Try using .loc[row_indexer,col_indexer] = value instead\n",
      "\n",
      "See the caveats in the documentation: https://pandas.pydata.org/pandas-docs/stable/user_guide/indexing.html#returning-a-view-versus-a-copy\n",
      "  temp_multi['number_filter'] = filter_types\n",
      "<ipython-input-12-8bc6428979cb>:35: SettingWithCopyWarning: \n",
      "A value is trying to be set on a copy of a slice from a DataFrame.\n",
      "Try using .loc[row_indexer,col_indexer] = value instead\n",
      "\n",
      "See the caveats in the documentation: https://pandas.pydata.org/pandas-docs/stable/user_guide/indexing.html#returning-a-view-versus-a-copy\n",
      "  missing_lsoa_road['lsoa11cd'] = [street_number_to_lsoa(temp_road, int(missing_lsoa_road.iloc[missing_lsoa_row]['street_number2']))\n",
      "<ipython-input-12-8bc6428979cb>:9: FutureWarning: The default value of regex will change from True to False in a future version.\n",
      "  missing_lsoa_df.loc[:,'street_number2'] = missing_lsoa_df.loc[:,'street_number'].str.replace(r\"^.*(?=\\b[0-9]+$)\", \"\").str.replace(r\"[^\\d]\", \"\", regex = True)\n",
      "<ipython-input-12-8bc6428979cb>:9: SettingWithCopyWarning: \n",
      "A value is trying to be set on a copy of a slice from a DataFrame.\n",
      "Try using .loc[row_indexer,col_indexer] = value instead\n",
      "\n",
      "See the caveats in the documentation: https://pandas.pydata.org/pandas-docs/stable/user_guide/indexing.html#returning-a-view-versus-a-copy\n",
      "  missing_lsoa_df.loc[:,'street_number2'] = missing_lsoa_df.loc[:,'street_number'].str.replace(r\"^.*(?=\\b[0-9]+$)\", \"\").str.replace(r\"[^\\d]\", \"\", regex = True)\n"
     ]
    },
    {
     "name": "stdout",
     "output_type": "stream",
     "text": [
      "i= 0  expand time,0.0 filter time0.0 make_dataframe_time 0.001\n",
      "freebourneroad\n",
      "newlandstreet\n",
      "E06000034\n"
     ]
    },
    {
     "name": "stderr",
     "output_type": "stream",
     "text": [
      "/tf/empty_homes_london/helper_functions.py:279: SettingWithCopyWarning: \n",
      "A value is trying to be set on a copy of a slice from a DataFrame.\n",
      "Try using .loc[row_indexer,col_indexer] = value instead\n",
      "\n",
      "See the caveats in the documentation: https://pandas.pydata.org/pandas-docs/stable/user_guide/indexing.html#returning-a-view-versus-a-copy\n",
      "  temp_multi['number_filter'] = filter_types\n",
      "<ipython-input-12-8bc6428979cb>:35: SettingWithCopyWarning: \n",
      "A value is trying to be set on a copy of a slice from a DataFrame.\n",
      "Try using .loc[row_indexer,col_indexer] = value instead\n",
      "\n",
      "See the caveats in the documentation: https://pandas.pydata.org/pandas-docs/stable/user_guide/indexing.html#returning-a-view-versus-a-copy\n",
      "  missing_lsoa_road['lsoa11cd'] = [street_number_to_lsoa(temp_road, int(missing_lsoa_road.iloc[missing_lsoa_row]['street_number2']))\n",
      "<ipython-input-12-8bc6428979cb>:9: FutureWarning: The default value of regex will change from True to False in a future version.\n",
      "  missing_lsoa_df.loc[:,'street_number2'] = missing_lsoa_df.loc[:,'street_number'].str.replace(r\"^.*(?=\\b[0-9]+$)\", \"\").str.replace(r\"[^\\d]\", \"\", regex = True)\n",
      "<ipython-input-12-8bc6428979cb>:9: SettingWithCopyWarning: \n",
      "A value is trying to be set on a copy of a slice from a DataFrame.\n",
      "Try using .loc[row_indexer,col_indexer] = value instead\n",
      "\n",
      "See the caveats in the documentation: https://pandas.pydata.org/pandas-docs/stable/user_guide/indexing.html#returning-a-view-versus-a-copy\n",
      "  missing_lsoa_df.loc[:,'street_number2'] = missing_lsoa_df.loc[:,'street_number'].str.replace(r\"^.*(?=\\b[0-9]+$)\", \"\").str.replace(r\"[^\\d]\", \"\", regex = True)\n"
     ]
    },
    {
     "name": "stdout",
     "output_type": "stream",
     "text": [
      "i= 0  expand time,0.0 filter time0.0 make_dataframe_time 0.001\n",
      "lionridge\n",
      "londonroad\n",
      "E07000036\n"
     ]
    },
    {
     "name": "stderr",
     "output_type": "stream",
     "text": [
      "/tf/empty_homes_london/helper_functions.py:279: SettingWithCopyWarning: \n",
      "A value is trying to be set on a copy of a slice from a DataFrame.\n",
      "Try using .loc[row_indexer,col_indexer] = value instead\n",
      "\n",
      "See the caveats in the documentation: https://pandas.pydata.org/pandas-docs/stable/user_guide/indexing.html#returning-a-view-versus-a-copy\n",
      "  temp_multi['number_filter'] = filter_types\n",
      "<ipython-input-12-8bc6428979cb>:35: SettingWithCopyWarning: \n",
      "A value is trying to be set on a copy of a slice from a DataFrame.\n",
      "Try using .loc[row_indexer,col_indexer] = value instead\n",
      "\n",
      "See the caveats in the documentation: https://pandas.pydata.org/pandas-docs/stable/user_guide/indexing.html#returning-a-view-versus-a-copy\n",
      "  missing_lsoa_road['lsoa11cd'] = [street_number_to_lsoa(temp_road, int(missing_lsoa_road.iloc[missing_lsoa_row]['street_number2']))\n",
      "<ipython-input-12-8bc6428979cb>:9: FutureWarning: The default value of regex will change from True to False in a future version.\n",
      "  missing_lsoa_df.loc[:,'street_number2'] = missing_lsoa_df.loc[:,'street_number'].str.replace(r\"^.*(?=\\b[0-9]+$)\", \"\").str.replace(r\"[^\\d]\", \"\", regex = True)\n",
      "<ipython-input-12-8bc6428979cb>:9: SettingWithCopyWarning: \n",
      "A value is trying to be set on a copy of a slice from a DataFrame.\n",
      "Try using .loc[row_indexer,col_indexer] = value instead\n",
      "\n",
      "See the caveats in the documentation: https://pandas.pydata.org/pandas-docs/stable/user_guide/indexing.html#returning-a-view-versus-a-copy\n",
      "  missing_lsoa_df.loc[:,'street_number2'] = missing_lsoa_df.loc[:,'street_number'].str.replace(r\"^.*(?=\\b[0-9]+$)\", \"\").str.replace(r\"[^\\d]\", \"\", regex = True)\n"
     ]
    },
    {
     "name": "stdout",
     "output_type": "stream",
     "text": [
      "i= 0  expand time,0.0 filter time0.0 make_dataframe_time 0.001\n",
      "derbyroad\n",
      "bridgestreet\n",
      "nelsonstreet\n",
      "E07000092\n"
     ]
    },
    {
     "name": "stderr",
     "output_type": "stream",
     "text": [
      "/tf/empty_homes_london/helper_functions.py:279: SettingWithCopyWarning: \n",
      "A value is trying to be set on a copy of a slice from a DataFrame.\n",
      "Try using .loc[row_indexer,col_indexer] = value instead\n",
      "\n",
      "See the caveats in the documentation: https://pandas.pydata.org/pandas-docs/stable/user_guide/indexing.html#returning-a-view-versus-a-copy\n",
      "  temp_multi['number_filter'] = filter_types\n",
      "<ipython-input-12-8bc6428979cb>:35: SettingWithCopyWarning: \n",
      "A value is trying to be set on a copy of a slice from a DataFrame.\n",
      "Try using .loc[row_indexer,col_indexer] = value instead\n",
      "\n",
      "See the caveats in the documentation: https://pandas.pydata.org/pandas-docs/stable/user_guide/indexing.html#returning-a-view-versus-a-copy\n",
      "  missing_lsoa_road['lsoa11cd'] = [street_number_to_lsoa(temp_road, int(missing_lsoa_road.iloc[missing_lsoa_row]['street_number2']))\n",
      "<ipython-input-12-8bc6428979cb>:9: FutureWarning: The default value of regex will change from True to False in a future version.\n",
      "  missing_lsoa_df.loc[:,'street_number2'] = missing_lsoa_df.loc[:,'street_number'].str.replace(r\"^.*(?=\\b[0-9]+$)\", \"\").str.replace(r\"[^\\d]\", \"\", regex = True)\n",
      "<ipython-input-12-8bc6428979cb>:9: SettingWithCopyWarning: \n",
      "A value is trying to be set on a copy of a slice from a DataFrame.\n",
      "Try using .loc[row_indexer,col_indexer] = value instead\n",
      "\n",
      "See the caveats in the documentation: https://pandas.pydata.org/pandas-docs/stable/user_guide/indexing.html#returning-a-view-versus-a-copy\n",
      "  missing_lsoa_df.loc[:,'street_number2'] = missing_lsoa_df.loc[:,'street_number'].str.replace(r\"^.*(?=\\b[0-9]+$)\", \"\").str.replace(r\"[^\\d]\", \"\", regex = True)\n"
     ]
    },
    {
     "name": "stdout",
     "output_type": "stream",
     "text": [
      "i= 0  expand time,0.0 filter time0.0 make_dataframe_time 0.001\n",
      "lynchfordroad\n",
      "hawleylane\n",
      "prospectroad\n",
      "E07000085\n"
     ]
    },
    {
     "name": "stderr",
     "output_type": "stream",
     "text": [
      "/tf/empty_homes_london/helper_functions.py:279: SettingWithCopyWarning: \n",
      "A value is trying to be set on a copy of a slice from a DataFrame.\n",
      "Try using .loc[row_indexer,col_indexer] = value instead\n",
      "\n",
      "See the caveats in the documentation: https://pandas.pydata.org/pandas-docs/stable/user_guide/indexing.html#returning-a-view-versus-a-copy\n",
      "  temp_multi['number_filter'] = filter_types\n",
      "<ipython-input-12-8bc6428979cb>:9: FutureWarning: The default value of regex will change from True to False in a future version.\n",
      "  missing_lsoa_df.loc[:,'street_number2'] = missing_lsoa_df.loc[:,'street_number'].str.replace(r\"^.*(?=\\b[0-9]+$)\", \"\").str.replace(r\"[^\\d]\", \"\", regex = True)\n",
      "<ipython-input-12-8bc6428979cb>:9: SettingWithCopyWarning: \n",
      "A value is trying to be set on a copy of a slice from a DataFrame.\n",
      "Try using .loc[row_indexer,col_indexer] = value instead\n",
      "\n",
      "See the caveats in the documentation: https://pandas.pydata.org/pandas-docs/stable/user_guide/indexing.html#returning-a-view-versus-a-copy\n",
      "  missing_lsoa_df.loc[:,'street_number2'] = missing_lsoa_df.loc[:,'street_number'].str.replace(r\"^.*(?=\\b[0-9]+$)\", \"\").str.replace(r\"[^\\d]\", \"\", regex = True)\n"
     ]
    },
    {
     "name": "stdout",
     "output_type": "stream",
     "text": [
      "i= 0  expand time,0.0 filter time0.0 make_dataframe_time 0.001\n",
      "highstreet\n",
      "E07000146\n"
     ]
    },
    {
     "name": "stderr",
     "output_type": "stream",
     "text": [
      "/tf/empty_homes_london/helper_functions.py:279: SettingWithCopyWarning: \n",
      "A value is trying to be set on a copy of a slice from a DataFrame.\n",
      "Try using .loc[row_indexer,col_indexer] = value instead\n",
      "\n",
      "See the caveats in the documentation: https://pandas.pydata.org/pandas-docs/stable/user_guide/indexing.html#returning-a-view-versus-a-copy\n",
      "  temp_multi['number_filter'] = filter_types\n",
      "<ipython-input-12-8bc6428979cb>:9: FutureWarning: The default value of regex will change from True to False in a future version.\n",
      "  missing_lsoa_df.loc[:,'street_number2'] = missing_lsoa_df.loc[:,'street_number'].str.replace(r\"^.*(?=\\b[0-9]+$)\", \"\").str.replace(r\"[^\\d]\", \"\", regex = True)\n",
      "<ipython-input-12-8bc6428979cb>:9: SettingWithCopyWarning: \n",
      "A value is trying to be set on a copy of a slice from a DataFrame.\n",
      "Try using .loc[row_indexer,col_indexer] = value instead\n",
      "\n",
      "See the caveats in the documentation: https://pandas.pydata.org/pandas-docs/stable/user_guide/indexing.html#returning-a-view-versus-a-copy\n",
      "  missing_lsoa_df.loc[:,'street_number2'] = missing_lsoa_df.loc[:,'street_number'].str.replace(r\"^.*(?=\\b[0-9]+$)\", \"\").str.replace(r\"[^\\d]\", \"\", regex = True)\n"
     ]
    },
    {
     "name": "stdout",
     "output_type": "stream",
     "text": [
      "i= 0  expand time,0.0 filter time0.0 make_dataframe_time 0.001\n",
      "stationroad\n",
      "E07000149\n",
      "gateway\n",
      "E07000144\n"
     ]
    },
    {
     "name": "stderr",
     "output_type": "stream",
     "text": [
      "<ipython-input-12-8bc6428979cb>:9: FutureWarning: The default value of regex will change from True to False in a future version.\n",
      "  missing_lsoa_df.loc[:,'street_number2'] = missing_lsoa_df.loc[:,'street_number'].str.replace(r\"^.*(?=\\b[0-9]+$)\", \"\").str.replace(r\"[^\\d]\", \"\", regex = True)\n",
      "<ipython-input-12-8bc6428979cb>:9: SettingWithCopyWarning: \n",
      "A value is trying to be set on a copy of a slice from a DataFrame.\n",
      "Try using .loc[row_indexer,col_indexer] = value instead\n",
      "\n",
      "See the caveats in the documentation: https://pandas.pydata.org/pandas-docs/stable/user_guide/indexing.html#returning-a-view-versus-a-copy\n",
      "  missing_lsoa_df.loc[:,'street_number2'] = missing_lsoa_df.loc[:,'street_number'].str.replace(r\"^.*(?=\\b[0-9]+$)\", \"\").str.replace(r\"[^\\d]\", \"\", regex = True)\n",
      "/tf/empty_homes_london/helper_functions.py:279: SettingWithCopyWarning: \n",
      "A value is trying to be set on a copy of a slice from a DataFrame.\n",
      "Try using .loc[row_indexer,col_indexer] = value instead\n",
      "\n",
      "See the caveats in the documentation: https://pandas.pydata.org/pandas-docs/stable/user_guide/indexing.html#returning-a-view-versus-a-copy\n",
      "  temp_multi['number_filter'] = filter_types\n",
      "<ipython-input-12-8bc6428979cb>:9: FutureWarning: The default value of regex will change from True to False in a future version.\n",
      "  missing_lsoa_df.loc[:,'street_number2'] = missing_lsoa_df.loc[:,'street_number'].str.replace(r\"^.*(?=\\b[0-9]+$)\", \"\").str.replace(r\"[^\\d]\", \"\", regex = True)\n",
      "<ipython-input-12-8bc6428979cb>:9: SettingWithCopyWarning: \n",
      "A value is trying to be set on a copy of a slice from a DataFrame.\n",
      "Try using .loc[row_indexer,col_indexer] = value instead\n",
      "\n",
      "See the caveats in the documentation: https://pandas.pydata.org/pandas-docs/stable/user_guide/indexing.html#returning-a-view-versus-a-copy\n",
      "  missing_lsoa_df.loc[:,'street_number2'] = missing_lsoa_df.loc[:,'street_number'].str.replace(r\"^.*(?=\\b[0-9]+$)\", \"\").str.replace(r\"[^\\d]\", \"\", regex = True)\n"
     ]
    },
    {
     "name": "stdout",
     "output_type": "stream",
     "text": [
      "i= 0  expand time,0.0 filter time0.0 make_dataframe_time 0.001\n",
      "roundtreeway\n",
      "E07000069\n"
     ]
    },
    {
     "name": "stderr",
     "output_type": "stream",
     "text": [
      "/tf/empty_homes_london/helper_functions.py:279: SettingWithCopyWarning: \n",
      "A value is trying to be set on a copy of a slice from a DataFrame.\n",
      "Try using .loc[row_indexer,col_indexer] = value instead\n",
      "\n",
      "See the caveats in the documentation: https://pandas.pydata.org/pandas-docs/stable/user_guide/indexing.html#returning-a-view-versus-a-copy\n",
      "  temp_multi['number_filter'] = filter_types\n",
      "<ipython-input-12-8bc6428979cb>:9: FutureWarning: The default value of regex will change from True to False in a future version.\n",
      "  missing_lsoa_df.loc[:,'street_number2'] = missing_lsoa_df.loc[:,'street_number'].str.replace(r\"^.*(?=\\b[0-9]+$)\", \"\").str.replace(r\"[^\\d]\", \"\", regex = True)\n",
      "<ipython-input-12-8bc6428979cb>:9: SettingWithCopyWarning: \n",
      "A value is trying to be set on a copy of a slice from a DataFrame.\n",
      "Try using .loc[row_indexer,col_indexer] = value instead\n",
      "\n",
      "See the caveats in the documentation: https://pandas.pydata.org/pandas-docs/stable/user_guide/indexing.html#returning-a-view-versus-a-copy\n",
      "  missing_lsoa_df.loc[:,'street_number2'] = missing_lsoa_df.loc[:,'street_number'].str.replace(r\"^.*(?=\\b[0-9]+$)\", \"\").str.replace(r\"[^\\d]\", \"\", regex = True)\n"
     ]
    },
    {
     "name": "stdout",
     "output_type": "stream",
     "text": [
      "i= 0  expand time,0.0 filter time0.0 make_dataframe_time 0.001\n",
      "highroad\n",
      "E06000013\n",
      "toproad\n",
      "E07000095\n"
     ]
    },
    {
     "name": "stderr",
     "output_type": "stream",
     "text": [
      "<ipython-input-12-8bc6428979cb>:9: FutureWarning: The default value of regex will change from True to False in a future version.\n",
      "  missing_lsoa_df.loc[:,'street_number2'] = missing_lsoa_df.loc[:,'street_number'].str.replace(r\"^.*(?=\\b[0-9]+$)\", \"\").str.replace(r\"[^\\d]\", \"\", regex = True)\n",
      "<ipython-input-12-8bc6428979cb>:9: SettingWithCopyWarning: \n",
      "A value is trying to be set on a copy of a slice from a DataFrame.\n",
      "Try using .loc[row_indexer,col_indexer] = value instead\n",
      "\n",
      "See the caveats in the documentation: https://pandas.pydata.org/pandas-docs/stable/user_guide/indexing.html#returning-a-view-versus-a-copy\n",
      "  missing_lsoa_df.loc[:,'street_number2'] = missing_lsoa_df.loc[:,'street_number'].str.replace(r\"^.*(?=\\b[0-9]+$)\", \"\").str.replace(r\"[^\\d]\", \"\", regex = True)\n",
      "/tf/empty_homes_london/helper_functions.py:279: SettingWithCopyWarning: \n",
      "A value is trying to be set on a copy of a slice from a DataFrame.\n",
      "Try using .loc[row_indexer,col_indexer] = value instead\n",
      "\n",
      "See the caveats in the documentation: https://pandas.pydata.org/pandas-docs/stable/user_guide/indexing.html#returning-a-view-versus-a-copy\n",
      "  temp_multi['number_filter'] = filter_types\n",
      "<ipython-input-12-8bc6428979cb>:35: SettingWithCopyWarning: \n",
      "A value is trying to be set on a copy of a slice from a DataFrame.\n",
      "Try using .loc[row_indexer,col_indexer] = value instead\n",
      "\n",
      "See the caveats in the documentation: https://pandas.pydata.org/pandas-docs/stable/user_guide/indexing.html#returning-a-view-versus-a-copy\n",
      "  missing_lsoa_road['lsoa11cd'] = [street_number_to_lsoa(temp_road, int(missing_lsoa_road.iloc[missing_lsoa_row]['street_number2']))\n",
      "<ipython-input-12-8bc6428979cb>:9: FutureWarning: The default value of regex will change from True to False in a future version.\n",
      "  missing_lsoa_df.loc[:,'street_number2'] = missing_lsoa_df.loc[:,'street_number'].str.replace(r\"^.*(?=\\b[0-9]+$)\", \"\").str.replace(r\"[^\\d]\", \"\", regex = True)\n",
      "<ipython-input-12-8bc6428979cb>:9: SettingWithCopyWarning: \n",
      "A value is trying to be set on a copy of a slice from a DataFrame.\n",
      "Try using .loc[row_indexer,col_indexer] = value instead\n",
      "\n",
      "See the caveats in the documentation: https://pandas.pydata.org/pandas-docs/stable/user_guide/indexing.html#returning-a-view-versus-a-copy\n",
      "  missing_lsoa_df.loc[:,'street_number2'] = missing_lsoa_df.loc[:,'street_number'].str.replace(r\"^.*(?=\\b[0-9]+$)\", \"\").str.replace(r\"[^\\d]\", \"\", regex = True)\n"
     ]
    },
    {
     "name": "stdout",
     "output_type": "stream",
     "text": [
      "i= 0  expand time,0.0 filter time0.0 make_dataframe_time 0.001\n",
      "highroad\n",
      "eleanorcroroad\n",
      "highstreet\n",
      "huronroad\n",
      "breweryroad\n",
      "E07000089\n"
     ]
    },
    {
     "name": "stderr",
     "output_type": "stream",
     "text": [
      "/tf/empty_homes_london/helper_functions.py:279: SettingWithCopyWarning: \n",
      "A value is trying to be set on a copy of a slice from a DataFrame.\n",
      "Try using .loc[row_indexer,col_indexer] = value instead\n",
      "\n",
      "See the caveats in the documentation: https://pandas.pydata.org/pandas-docs/stable/user_guide/indexing.html#returning-a-view-versus-a-copy\n",
      "  temp_multi['number_filter'] = filter_types\n",
      "<ipython-input-12-8bc6428979cb>:9: FutureWarning: The default value of regex will change from True to False in a future version.\n",
      "  missing_lsoa_df.loc[:,'street_number2'] = missing_lsoa_df.loc[:,'street_number'].str.replace(r\"^.*(?=\\b[0-9]+$)\", \"\").str.replace(r\"[^\\d]\", \"\", regex = True)\n",
      "<ipython-input-12-8bc6428979cb>:9: SettingWithCopyWarning: \n",
      "A value is trying to be set on a copy of a slice from a DataFrame.\n",
      "Try using .loc[row_indexer,col_indexer] = value instead\n",
      "\n",
      "See the caveats in the documentation: https://pandas.pydata.org/pandas-docs/stable/user_guide/indexing.html#returning-a-view-versus-a-copy\n",
      "  missing_lsoa_df.loc[:,'street_number2'] = missing_lsoa_df.loc[:,'street_number'].str.replace(r\"^.*(?=\\b[0-9]+$)\", \"\").str.replace(r\"[^\\d]\", \"\", regex = True)\n"
     ]
    },
    {
     "name": "stdout",
     "output_type": "stream",
     "text": [
      "i= 0  expand time,0.0 filter time0.0 make_dataframe_time 0.001\n",
      "fleetroad\n",
      "E07000087\n"
     ]
    },
    {
     "name": "stderr",
     "output_type": "stream",
     "text": [
      "/tf/empty_homes_london/helper_functions.py:279: SettingWithCopyWarning: \n",
      "A value is trying to be set on a copy of a slice from a DataFrame.\n",
      "Try using .loc[row_indexer,col_indexer] = value instead\n",
      "\n",
      "See the caveats in the documentation: https://pandas.pydata.org/pandas-docs/stable/user_guide/indexing.html#returning-a-view-versus-a-copy\n",
      "  temp_multi['number_filter'] = filter_types\n",
      "<ipython-input-12-8bc6428979cb>:35: SettingWithCopyWarning: \n",
      "A value is trying to be set on a copy of a slice from a DataFrame.\n",
      "Try using .loc[row_indexer,col_indexer] = value instead\n",
      "\n",
      "See the caveats in the documentation: https://pandas.pydata.org/pandas-docs/stable/user_guide/indexing.html#returning-a-view-versus-a-copy\n",
      "  missing_lsoa_road['lsoa11cd'] = [street_number_to_lsoa(temp_road, int(missing_lsoa_road.iloc[missing_lsoa_row]['street_number2']))\n",
      "<ipython-input-12-8bc6428979cb>:9: FutureWarning: The default value of regex will change from True to False in a future version.\n",
      "  missing_lsoa_df.loc[:,'street_number2'] = missing_lsoa_df.loc[:,'street_number'].str.replace(r\"^.*(?=\\b[0-9]+$)\", \"\").str.replace(r\"[^\\d]\", \"\", regex = True)\n",
      "<ipython-input-12-8bc6428979cb>:9: SettingWithCopyWarning: \n",
      "A value is trying to be set on a copy of a slice from a DataFrame.\n",
      "Try using .loc[row_indexer,col_indexer] = value instead\n",
      "\n",
      "See the caveats in the documentation: https://pandas.pydata.org/pandas-docs/stable/user_guide/indexing.html#returning-a-view-versus-a-copy\n",
      "  missing_lsoa_df.loc[:,'street_number2'] = missing_lsoa_df.loc[:,'street_number'].str.replace(r\"^.*(?=\\b[0-9]+$)\", \"\").str.replace(r\"[^\\d]\", \"\", regex = True)\n"
     ]
    },
    {
     "name": "stdout",
     "output_type": "stream",
     "text": [
      "i= 0  expand time,0.0 filter time0.0 make_dataframe_time 0.001\n",
      "meonterrace\n",
      "botleyroad\n",
      "E06000037\n"
     ]
    },
    {
     "name": "stderr",
     "output_type": "stream",
     "text": [
      "/tf/empty_homes_london/helper_functions.py:279: SettingWithCopyWarning: \n",
      "A value is trying to be set on a copy of a slice from a DataFrame.\n",
      "Try using .loc[row_indexer,col_indexer] = value instead\n",
      "\n",
      "See the caveats in the documentation: https://pandas.pydata.org/pandas-docs/stable/user_guide/indexing.html#returning-a-view-versus-a-copy\n",
      "  temp_multi['number_filter'] = filter_types\n",
      "<ipython-input-12-8bc6428979cb>:9: FutureWarning: The default value of regex will change from True to False in a future version.\n",
      "  missing_lsoa_df.loc[:,'street_number2'] = missing_lsoa_df.loc[:,'street_number'].str.replace(r\"^.*(?=\\b[0-9]+$)\", \"\").str.replace(r\"[^\\d]\", \"\", regex = True)\n",
      "<ipython-input-12-8bc6428979cb>:9: SettingWithCopyWarning: \n",
      "A value is trying to be set on a copy of a slice from a DataFrame.\n",
      "Try using .loc[row_indexer,col_indexer] = value instead\n",
      "\n",
      "See the caveats in the documentation: https://pandas.pydata.org/pandas-docs/stable/user_guide/indexing.html#returning-a-view-versus-a-copy\n",
      "  missing_lsoa_df.loc[:,'street_number2'] = missing_lsoa_df.loc[:,'street_number'].str.replace(r\"^.*(?=\\b[0-9]+$)\", \"\").str.replace(r\"[^\\d]\", \"\", regex = True)\n"
     ]
    },
    {
     "name": "stdout",
     "output_type": "stream",
     "text": [
      "i= 0  expand time,0.0 filter time0.0 make_dataframe_time 0.001\n",
      "londonroad\n",
      "E06000017\n"
     ]
    },
    {
     "name": "stderr",
     "output_type": "stream",
     "text": [
      "/tf/empty_homes_london/helper_functions.py:279: SettingWithCopyWarning: \n",
      "A value is trying to be set on a copy of a slice from a DataFrame.\n",
      "Try using .loc[row_indexer,col_indexer] = value instead\n",
      "\n",
      "See the caveats in the documentation: https://pandas.pydata.org/pandas-docs/stable/user_guide/indexing.html#returning-a-view-versus-a-copy\n",
      "  temp_multi['number_filter'] = filter_types\n",
      "<ipython-input-12-8bc6428979cb>:9: FutureWarning: The default value of regex will change from True to False in a future version.\n",
      "  missing_lsoa_df.loc[:,'street_number2'] = missing_lsoa_df.loc[:,'street_number'].str.replace(r\"^.*(?=\\b[0-9]+$)\", \"\").str.replace(r\"[^\\d]\", \"\", regex = True)\n",
      "<ipython-input-12-8bc6428979cb>:9: SettingWithCopyWarning: \n",
      "A value is trying to be set on a copy of a slice from a DataFrame.\n",
      "Try using .loc[row_indexer,col_indexer] = value instead\n",
      "\n",
      "See the caveats in the documentation: https://pandas.pydata.org/pandas-docs/stable/user_guide/indexing.html#returning-a-view-versus-a-copy\n",
      "  missing_lsoa_df.loc[:,'street_number2'] = missing_lsoa_df.loc[:,'street_number'].str.replace(r\"^.*(?=\\b[0-9]+$)\", \"\").str.replace(r\"[^\\d]\", \"\", regex = True)\n"
     ]
    },
    {
     "name": "stdout",
     "output_type": "stream",
     "text": [
      "i= 0  expand time,0.0 filter time0.0 make_dataframe_time 0.001\n",
      "highstreet\n",
      "E07000245\n"
     ]
    },
    {
     "name": "stderr",
     "output_type": "stream",
     "text": [
      "/tf/empty_homes_london/helper_functions.py:279: SettingWithCopyWarning: \n",
      "A value is trying to be set on a copy of a slice from a DataFrame.\n",
      "Try using .loc[row_indexer,col_indexer] = value instead\n",
      "\n",
      "See the caveats in the documentation: https://pandas.pydata.org/pandas-docs/stable/user_guide/indexing.html#returning-a-view-versus-a-copy\n",
      "  temp_multi['number_filter'] = filter_types\n",
      "<ipython-input-12-8bc6428979cb>:9: FutureWarning: The default value of regex will change from True to False in a future version.\n",
      "  missing_lsoa_df.loc[:,'street_number2'] = missing_lsoa_df.loc[:,'street_number'].str.replace(r\"^.*(?=\\b[0-9]+$)\", \"\").str.replace(r\"[^\\d]\", \"\", regex = True)\n",
      "<ipython-input-12-8bc6428979cb>:9: SettingWithCopyWarning: \n",
      "A value is trying to be set on a copy of a slice from a DataFrame.\n",
      "Try using .loc[row_indexer,col_indexer] = value instead\n",
      "\n",
      "See the caveats in the documentation: https://pandas.pydata.org/pandas-docs/stable/user_guide/indexing.html#returning-a-view-versus-a-copy\n",
      "  missing_lsoa_df.loc[:,'street_number2'] = missing_lsoa_df.loc[:,'street_number'].str.replace(r\"^.*(?=\\b[0-9]+$)\", \"\").str.replace(r\"[^\\d]\", \"\", regex = True)\n"
     ]
    },
    {
     "name": "stdout",
     "output_type": "stream",
     "text": [
      "i= 0  expand time,0.0 filter time0.0 make_dataframe_time 0.001\n",
      "highstreet\n",
      "E07000172\n"
     ]
    },
    {
     "name": "stderr",
     "output_type": "stream",
     "text": [
      "/tf/empty_homes_london/helper_functions.py:279: SettingWithCopyWarning: \n",
      "A value is trying to be set on a copy of a slice from a DataFrame.\n",
      "Try using .loc[row_indexer,col_indexer] = value instead\n",
      "\n",
      "See the caveats in the documentation: https://pandas.pydata.org/pandas-docs/stable/user_guide/indexing.html#returning-a-view-versus-a-copy\n",
      "  temp_multi['number_filter'] = filter_types\n",
      "<ipython-input-12-8bc6428979cb>:9: FutureWarning: The default value of regex will change from True to False in a future version.\n",
      "  missing_lsoa_df.loc[:,'street_number2'] = missing_lsoa_df.loc[:,'street_number'].str.replace(r\"^.*(?=\\b[0-9]+$)\", \"\").str.replace(r\"[^\\d]\", \"\", regex = True)\n",
      "<ipython-input-12-8bc6428979cb>:9: SettingWithCopyWarning: \n",
      "A value is trying to be set on a copy of a slice from a DataFrame.\n",
      "Try using .loc[row_indexer,col_indexer] = value instead\n",
      "\n",
      "See the caveats in the documentation: https://pandas.pydata.org/pandas-docs/stable/user_guide/indexing.html#returning-a-view-versus-a-copy\n",
      "  missing_lsoa_df.loc[:,'street_number2'] = missing_lsoa_df.loc[:,'street_number'].str.replace(r\"^.*(?=\\b[0-9]+$)\", \"\").str.replace(r\"[^\\d]\", \"\", regex = True)\n"
     ]
    },
    {
     "name": "stdout",
     "output_type": "stream",
     "text": [
      "i= 0  expand time,0.0 filter time0.0 make_dataframe_time 0.001\n",
      "highroad\n",
      "E07000181\n"
     ]
    },
    {
     "name": "stderr",
     "output_type": "stream",
     "text": [
      "/tf/empty_homes_london/helper_functions.py:279: SettingWithCopyWarning: \n",
      "A value is trying to be set on a copy of a slice from a DataFrame.\n",
      "Try using .loc[row_indexer,col_indexer] = value instead\n",
      "\n",
      "See the caveats in the documentation: https://pandas.pydata.org/pandas-docs/stable/user_guide/indexing.html#returning-a-view-versus-a-copy\n",
      "  temp_multi['number_filter'] = filter_types\n",
      "<ipython-input-12-8bc6428979cb>:9: FutureWarning: The default value of regex will change from True to False in a future version.\n",
      "  missing_lsoa_df.loc[:,'street_number2'] = missing_lsoa_df.loc[:,'street_number'].str.replace(r\"^.*(?=\\b[0-9]+$)\", \"\").str.replace(r\"[^\\d]\", \"\", regex = True)\n",
      "<ipython-input-12-8bc6428979cb>:9: SettingWithCopyWarning: \n",
      "A value is trying to be set on a copy of a slice from a DataFrame.\n",
      "Try using .loc[row_indexer,col_indexer] = value instead\n",
      "\n",
      "See the caveats in the documentation: https://pandas.pydata.org/pandas-docs/stable/user_guide/indexing.html#returning-a-view-versus-a-copy\n",
      "  missing_lsoa_df.loc[:,'street_number2'] = missing_lsoa_df.loc[:,'street_number'].str.replace(r\"^.*(?=\\b[0-9]+$)\", \"\").str.replace(r\"[^\\d]\", \"\", regex = True)\n"
     ]
    },
    {
     "name": "stdout",
     "output_type": "stream",
     "text": [
      "i= 0  expand time,0.0 filter time0.0 make_dataframe_time 0.001\n",
      "highstreet\n",
      "E07000174\n"
     ]
    },
    {
     "name": "stderr",
     "output_type": "stream",
     "text": [
      "/tf/empty_homes_london/helper_functions.py:279: SettingWithCopyWarning: \n",
      "A value is trying to be set on a copy of a slice from a DataFrame.\n",
      "Try using .loc[row_indexer,col_indexer] = value instead\n",
      "\n",
      "See the caveats in the documentation: https://pandas.pydata.org/pandas-docs/stable/user_guide/indexing.html#returning-a-view-versus-a-copy\n",
      "  temp_multi['number_filter'] = filter_types\n",
      "<ipython-input-12-8bc6428979cb>:9: FutureWarning: The default value of regex will change from True to False in a future version.\n",
      "  missing_lsoa_df.loc[:,'street_number2'] = missing_lsoa_df.loc[:,'street_number'].str.replace(r\"^.*(?=\\b[0-9]+$)\", \"\").str.replace(r\"[^\\d]\", \"\", regex = True)\n",
      "<ipython-input-12-8bc6428979cb>:9: SettingWithCopyWarning: \n",
      "A value is trying to be set on a copy of a slice from a DataFrame.\n",
      "Try using .loc[row_indexer,col_indexer] = value instead\n",
      "\n",
      "See the caveats in the documentation: https://pandas.pydata.org/pandas-docs/stable/user_guide/indexing.html#returning-a-view-versus-a-copy\n",
      "  missing_lsoa_df.loc[:,'street_number2'] = missing_lsoa_df.loc[:,'street_number'].str.replace(r\"^.*(?=\\b[0-9]+$)\", \"\").str.replace(r\"[^\\d]\", \"\", regex = True)\n"
     ]
    },
    {
     "name": "stdout",
     "output_type": "stream",
     "text": [
      "i= 0  expand time,0.0 filter time0.0 make_dataframe_time 0.001\n",
      "churchstreet\n",
      "E07000217\n",
      "mountsideplace\n",
      "E07000215\n"
     ]
    },
    {
     "name": "stderr",
     "output_type": "stream",
     "text": [
      "<ipython-input-12-8bc6428979cb>:9: FutureWarning: The default value of regex will change from True to False in a future version.\n",
      "  missing_lsoa_df.loc[:,'street_number2'] = missing_lsoa_df.loc[:,'street_number'].str.replace(r\"^.*(?=\\b[0-9]+$)\", \"\").str.replace(r\"[^\\d]\", \"\", regex = True)\n",
      "<ipython-input-12-8bc6428979cb>:9: SettingWithCopyWarning: \n",
      "A value is trying to be set on a copy of a slice from a DataFrame.\n",
      "Try using .loc[row_indexer,col_indexer] = value instead\n",
      "\n",
      "See the caveats in the documentation: https://pandas.pydata.org/pandas-docs/stable/user_guide/indexing.html#returning-a-view-versus-a-copy\n",
      "  missing_lsoa_df.loc[:,'street_number2'] = missing_lsoa_df.loc[:,'street_number'].str.replace(r\"^.*(?=\\b[0-9]+$)\", \"\").str.replace(r\"[^\\d]\", \"\", regex = True)\n"
     ]
    },
    {
     "name": "stdout",
     "output_type": "stream",
     "text": [
      "byerlane\n",
      "thesquare\n",
      "E07000166\n"
     ]
    },
    {
     "name": "stderr",
     "output_type": "stream",
     "text": [
      "<ipython-input-12-8bc6428979cb>:35: SettingWithCopyWarning: \n",
      "A value is trying to be set on a copy of a slice from a DataFrame.\n",
      "Try using .loc[row_indexer,col_indexer] = value instead\n",
      "\n",
      "See the caveats in the documentation: https://pandas.pydata.org/pandas-docs/stable/user_guide/indexing.html#returning-a-view-versus-a-copy\n",
      "  missing_lsoa_road['lsoa11cd'] = [street_number_to_lsoa(temp_road, int(missing_lsoa_road.iloc[missing_lsoa_row]['street_number2']))\n",
      "<ipython-input-12-8bc6428979cb>:9: FutureWarning: The default value of regex will change from True to False in a future version.\n",
      "  missing_lsoa_df.loc[:,'street_number2'] = missing_lsoa_df.loc[:,'street_number'].str.replace(r\"^.*(?=\\b[0-9]+$)\", \"\").str.replace(r\"[^\\d]\", \"\", regex = True)\n",
      "<ipython-input-12-8bc6428979cb>:9: SettingWithCopyWarning: \n",
      "A value is trying to be set on a copy of a slice from a DataFrame.\n",
      "Try using .loc[row_indexer,col_indexer] = value instead\n",
      "\n",
      "See the caveats in the documentation: https://pandas.pydata.org/pandas-docs/stable/user_guide/indexing.html#returning-a-view-versus-a-copy\n",
      "  missing_lsoa_df.loc[:,'street_number2'] = missing_lsoa_df.loc[:,'street_number'].str.replace(r\"^.*(?=\\b[0-9]+$)\", \"\").str.replace(r\"[^\\d]\", \"\", regex = True)\n",
      "/tf/empty_homes_london/helper_functions.py:279: SettingWithCopyWarning: \n",
      "A value is trying to be set on a copy of a slice from a DataFrame.\n",
      "Try using .loc[row_indexer,col_indexer] = value instead\n",
      "\n",
      "See the caveats in the documentation: https://pandas.pydata.org/pandas-docs/stable/user_guide/indexing.html#returning-a-view-versus-a-copy\n",
      "  temp_multi['number_filter'] = filter_types\n"
     ]
    },
    {
     "name": "stdout",
     "output_type": "stream",
     "text": [
      "i= 0  expand time,0.0 filter time0.0 make_dataframe_time 0.001\n",
      "marketplace\n"
     ]
    },
    {
     "data": {
      "text/html": [
       "<div>\n",
       "<style scoped>\n",
       "    .dataframe tbody tr th:only-of-type {\n",
       "        vertical-align: middle;\n",
       "    }\n",
       "\n",
       "    .dataframe tbody tr th {\n",
       "        vertical-align: top;\n",
       "    }\n",
       "\n",
       "    .dataframe thead th {\n",
       "        text-align: right;\n",
       "    }\n",
       "</style>\n",
       "<table border=\"1\" class=\"dataframe\">\n",
       "  <thead>\n",
       "    <tr style=\"text-align: right;\">\n",
       "      <th></th>\n",
       "      <th>Unnamed: 0</th>\n",
       "      <th>title_number</th>\n",
       "      <th>within_title_id</th>\n",
       "      <th>unique_id</th>\n",
       "      <th>within_larger_title</th>\n",
       "      <th>tenure</th>\n",
       "      <th>unit_id</th>\n",
       "      <th>unit_type</th>\n",
       "      <th>building_name</th>\n",
       "      <th>street_number</th>\n",
       "      <th>...</th>\n",
       "      <th>street_number2</th>\n",
       "      <th>street_name2</th>\n",
       "      <th>lad11cd</th>\n",
       "      <th>lsoa_street</th>\n",
       "      <th>lsoa_building</th>\n",
       "      <th>oa_building</th>\n",
       "      <th>oa_busi_building</th>\n",
       "      <th>lsoa_busi_building</th>\n",
       "      <th>lsoa_nested</th>\n",
       "      <th>oa_nested</th>\n",
       "    </tr>\n",
       "  </thead>\n",
       "  <tbody>\n",
       "    <tr>\n",
       "      <th>0</th>\n",
       "      <td>0</td>\n",
       "      <td>CB400630</td>\n",
       "      <td>1</td>\n",
       "      <td>CB400630-1</td>\n",
       "      <td>True</td>\n",
       "      <td>Freehold</td>\n",
       "      <td>NaN</td>\n",
       "      <td>NaN</td>\n",
       "      <td>NaN</td>\n",
       "      <td>2</td>\n",
       "      <td>...</td>\n",
       "      <td>2</td>\n",
       "      <td>millerway</td>\n",
       "      <td>E06000031</td>\n",
       "      <td>E01015611</td>\n",
       "      <td>NaN</td>\n",
       "      <td>NaN</td>\n",
       "      <td>NaN</td>\n",
       "      <td>NaN</td>\n",
       "      <td>E01015611</td>\n",
       "      <td>NaN</td>\n",
       "    </tr>\n",
       "    <tr>\n",
       "      <th>1</th>\n",
       "      <td>1</td>\n",
       "      <td>CB400630</td>\n",
       "      <td>2</td>\n",
       "      <td>CB400630-2</td>\n",
       "      <td>True</td>\n",
       "      <td>Freehold</td>\n",
       "      <td>NaN</td>\n",
       "      <td>NaN</td>\n",
       "      <td>NaN</td>\n",
       "      <td>4</td>\n",
       "      <td>...</td>\n",
       "      <td>4</td>\n",
       "      <td>millerway</td>\n",
       "      <td>E06000031</td>\n",
       "      <td>E01015611</td>\n",
       "      <td>NaN</td>\n",
       "      <td>NaN</td>\n",
       "      <td>NaN</td>\n",
       "      <td>NaN</td>\n",
       "      <td>E01015611</td>\n",
       "      <td>NaN</td>\n",
       "    </tr>\n",
       "    <tr>\n",
       "      <th>2</th>\n",
       "      <td>2</td>\n",
       "      <td>CB400630</td>\n",
       "      <td>3</td>\n",
       "      <td>CB400630-3</td>\n",
       "      <td>True</td>\n",
       "      <td>Freehold</td>\n",
       "      <td>NaN</td>\n",
       "      <td>NaN</td>\n",
       "      <td>NaN</td>\n",
       "      <td>6</td>\n",
       "      <td>...</td>\n",
       "      <td>6</td>\n",
       "      <td>millerway</td>\n",
       "      <td>E06000031</td>\n",
       "      <td>E01015611</td>\n",
       "      <td>NaN</td>\n",
       "      <td>NaN</td>\n",
       "      <td>NaN</td>\n",
       "      <td>NaN</td>\n",
       "      <td>E01015611</td>\n",
       "      <td>NaN</td>\n",
       "    </tr>\n",
       "    <tr>\n",
       "      <th>3</th>\n",
       "      <td>3</td>\n",
       "      <td>CB400630</td>\n",
       "      <td>4</td>\n",
       "      <td>CB400630-4</td>\n",
       "      <td>True</td>\n",
       "      <td>Freehold</td>\n",
       "      <td>NaN</td>\n",
       "      <td>NaN</td>\n",
       "      <td>NaN</td>\n",
       "      <td>8</td>\n",
       "      <td>...</td>\n",
       "      <td>8</td>\n",
       "      <td>millerway</td>\n",
       "      <td>E06000031</td>\n",
       "      <td>E01015611</td>\n",
       "      <td>NaN</td>\n",
       "      <td>NaN</td>\n",
       "      <td>NaN</td>\n",
       "      <td>NaN</td>\n",
       "      <td>E01015611</td>\n",
       "      <td>NaN</td>\n",
       "    </tr>\n",
       "    <tr>\n",
       "      <th>4</th>\n",
       "      <td>4</td>\n",
       "      <td>CB400630</td>\n",
       "      <td>5</td>\n",
       "      <td>CB400630-5</td>\n",
       "      <td>True</td>\n",
       "      <td>Freehold</td>\n",
       "      <td>NaN</td>\n",
       "      <td>NaN</td>\n",
       "      <td>NaN</td>\n",
       "      <td>10</td>\n",
       "      <td>...</td>\n",
       "      <td>10</td>\n",
       "      <td>millerway</td>\n",
       "      <td>E06000031</td>\n",
       "      <td>E01015611</td>\n",
       "      <td>NaN</td>\n",
       "      <td>NaN</td>\n",
       "      <td>NaN</td>\n",
       "      <td>NaN</td>\n",
       "      <td>E01015611</td>\n",
       "      <td>NaN</td>\n",
       "    </tr>\n",
       "    <tr>\n",
       "      <th>...</th>\n",
       "      <td>...</td>\n",
       "      <td>...</td>\n",
       "      <td>...</td>\n",
       "      <td>...</td>\n",
       "      <td>...</td>\n",
       "      <td>...</td>\n",
       "      <td>...</td>\n",
       "      <td>...</td>\n",
       "      <td>...</td>\n",
       "      <td>...</td>\n",
       "      <td>...</td>\n",
       "      <td>...</td>\n",
       "      <td>...</td>\n",
       "      <td>...</td>\n",
       "      <td>...</td>\n",
       "      <td>...</td>\n",
       "      <td>...</td>\n",
       "      <td>...</td>\n",
       "      <td>...</td>\n",
       "      <td>...</td>\n",
       "      <td>...</td>\n",
       "    </tr>\n",
       "    <tr>\n",
       "      <th>57055</th>\n",
       "      <td>27785</td>\n",
       "      <td>NT214819</td>\n",
       "      <td>1</td>\n",
       "      <td>NT214819-1</td>\n",
       "      <td>False</td>\n",
       "      <td>Freehold</td>\n",
       "      <td>NaN</td>\n",
       "      <td>NaN</td>\n",
       "      <td>NaN</td>\n",
       "      <td>27 to 33</td>\n",
       "      <td>...</td>\n",
       "      <td>33</td>\n",
       "      <td>highroad</td>\n",
       "      <td>E07000172</td>\n",
       "      <td>NaN</td>\n",
       "      <td>NaN</td>\n",
       "      <td>NaN</td>\n",
       "      <td>NaN</td>\n",
       "      <td>NaN</td>\n",
       "      <td>NaN</td>\n",
       "      <td>NaN</td>\n",
       "    </tr>\n",
       "    <tr>\n",
       "      <th>57106</th>\n",
       "      <td>66326</td>\n",
       "      <td>ON137736</td>\n",
       "      <td>1</td>\n",
       "      <td>ON137736-1</td>\n",
       "      <td>False</td>\n",
       "      <td>Freehold</td>\n",
       "      <td>NaN</td>\n",
       "      <td>NaN</td>\n",
       "      <td>NaN</td>\n",
       "      <td>2-8</td>\n",
       "      <td>...</td>\n",
       "      <td>8</td>\n",
       "      <td>highstreet</td>\n",
       "      <td>E07000181</td>\n",
       "      <td>NaN</td>\n",
       "      <td>NaN</td>\n",
       "      <td>NaN</td>\n",
       "      <td>NaN</td>\n",
       "      <td>NaN</td>\n",
       "      <td>NaN</td>\n",
       "      <td>NaN</td>\n",
       "    </tr>\n",
       "    <tr>\n",
       "      <th>57126</th>\n",
       "      <td>10554</td>\n",
       "      <td>NT73623</td>\n",
       "      <td>1</td>\n",
       "      <td>NT73623-1</td>\n",
       "      <td>False</td>\n",
       "      <td>Freehold</td>\n",
       "      <td>NaN</td>\n",
       "      <td>NaN</td>\n",
       "      <td>NaN</td>\n",
       "      <td>22</td>\n",
       "      <td>...</td>\n",
       "      <td>22</td>\n",
       "      <td>churchstreet</td>\n",
       "      <td>E07000174</td>\n",
       "      <td>NaN</td>\n",
       "      <td>NaN</td>\n",
       "      <td>NaN</td>\n",
       "      <td>NaN</td>\n",
       "      <td>NaN</td>\n",
       "      <td>NaN</td>\n",
       "      <td>NaN</td>\n",
       "    </tr>\n",
       "    <tr>\n",
       "      <th>57306</th>\n",
       "      <td>20461</td>\n",
       "      <td>SY64666</td>\n",
       "      <td>1</td>\n",
       "      <td>SY64666-1</td>\n",
       "      <td>False</td>\n",
       "      <td>Freehold</td>\n",
       "      <td>NaN</td>\n",
       "      <td>NaN</td>\n",
       "      <td>NaN</td>\n",
       "      <td>8 to 14</td>\n",
       "      <td>...</td>\n",
       "      <td>14</td>\n",
       "      <td>thesquare</td>\n",
       "      <td>E07000215</td>\n",
       "      <td>NaN</td>\n",
       "      <td>NaN</td>\n",
       "      <td>NaN</td>\n",
       "      <td>NaN</td>\n",
       "      <td>NaN</td>\n",
       "      <td>NaN</td>\n",
       "      <td>NaN</td>\n",
       "    </tr>\n",
       "    <tr>\n",
       "      <th>57441</th>\n",
       "      <td>66181</td>\n",
       "      <td>NYK93166</td>\n",
       "      <td>1</td>\n",
       "      <td>NYK93166-1</td>\n",
       "      <td>False</td>\n",
       "      <td>Freehold</td>\n",
       "      <td>NaN</td>\n",
       "      <td>NaN</td>\n",
       "      <td>NaN</td>\n",
       "      <td>15</td>\n",
       "      <td>...</td>\n",
       "      <td>15</td>\n",
       "      <td>marketplace</td>\n",
       "      <td>E07000166</td>\n",
       "      <td>NaN</td>\n",
       "      <td>NaN</td>\n",
       "      <td>NaN</td>\n",
       "      <td>NaN</td>\n",
       "      <td>NaN</td>\n",
       "      <td>NaN</td>\n",
       "      <td>NaN</td>\n",
       "    </tr>\n",
       "  </tbody>\n",
       "</table>\n",
       "<p>159600 rows × 33 columns</p>\n",
       "</div>"
      ],
      "text/plain": [
       "       Unnamed: 0 title_number  within_title_id   unique_id  \\\n",
       "0               0     CB400630                1  CB400630-1   \n",
       "1               1     CB400630                2  CB400630-2   \n",
       "2               2     CB400630                3  CB400630-3   \n",
       "3               3     CB400630                4  CB400630-4   \n",
       "4               4     CB400630                5  CB400630-5   \n",
       "...           ...          ...              ...         ...   \n",
       "57055       27785     NT214819                1  NT214819-1   \n",
       "57106       66326     ON137736                1  ON137736-1   \n",
       "57126       10554      NT73623                1   NT73623-1   \n",
       "57306       20461      SY64666                1   SY64666-1   \n",
       "57441       66181     NYK93166                1  NYK93166-1   \n",
       "\n",
       "       within_larger_title    tenure unit_id unit_type building_name  \\\n",
       "0                     True  Freehold     NaN       NaN           NaN   \n",
       "1                     True  Freehold     NaN       NaN           NaN   \n",
       "2                     True  Freehold     NaN       NaN           NaN   \n",
       "3                     True  Freehold     NaN       NaN           NaN   \n",
       "4                     True  Freehold     NaN       NaN           NaN   \n",
       "...                    ...       ...     ...       ...           ...   \n",
       "57055                False  Freehold     NaN       NaN           NaN   \n",
       "57106                False  Freehold     NaN       NaN           NaN   \n",
       "57126                False  Freehold     NaN       NaN           NaN   \n",
       "57306                False  Freehold     NaN       NaN           NaN   \n",
       "57441                False  Freehold     NaN       NaN           NaN   \n",
       "\n",
       "      street_number  ... street_number2  street_name2    lad11cd lsoa_street  \\\n",
       "0                 2  ...              2     millerway  E06000031   E01015611   \n",
       "1                 4  ...              4     millerway  E06000031   E01015611   \n",
       "2                 6  ...              6     millerway  E06000031   E01015611   \n",
       "3                 8  ...              8     millerway  E06000031   E01015611   \n",
       "4                10  ...             10     millerway  E06000031   E01015611   \n",
       "...             ...  ...            ...           ...        ...         ...   \n",
       "57055      27 to 33  ...             33      highroad  E07000172         NaN   \n",
       "57106           2-8  ...              8    highstreet  E07000181         NaN   \n",
       "57126            22  ...             22  churchstreet  E07000174         NaN   \n",
       "57306       8 to 14  ...             14     thesquare  E07000215         NaN   \n",
       "57441            15  ...             15   marketplace  E07000166         NaN   \n",
       "\n",
       "      lsoa_building oa_building oa_busi_building  lsoa_busi_building  \\\n",
       "0               NaN         NaN              NaN                 NaN   \n",
       "1               NaN         NaN              NaN                 NaN   \n",
       "2               NaN         NaN              NaN                 NaN   \n",
       "3               NaN         NaN              NaN                 NaN   \n",
       "4               NaN         NaN              NaN                 NaN   \n",
       "...             ...         ...              ...                 ...   \n",
       "57055           NaN         NaN              NaN                 NaN   \n",
       "57106           NaN         NaN              NaN                 NaN   \n",
       "57126           NaN         NaN              NaN                 NaN   \n",
       "57306           NaN         NaN              NaN                 NaN   \n",
       "57441           NaN         NaN              NaN                 NaN   \n",
       "\n",
       "      lsoa_nested oa_nested  \n",
       "0       E01015611       NaN  \n",
       "1       E01015611       NaN  \n",
       "2       E01015611       NaN  \n",
       "3       E01015611       NaN  \n",
       "4       E01015611       NaN  \n",
       "...           ...       ...  \n",
       "57055         NaN       NaN  \n",
       "57106         NaN       NaN  \n",
       "57126         NaN       NaN  \n",
       "57306         NaN       NaN  \n",
       "57441         NaN       NaN  \n",
       "\n",
       "[159600 rows x 33 columns]"
      ]
     },
     "execution_count": 12,
     "metadata": {},
     "output_type": "execute_result"
    }
   ],
   "source": [
    "filled_lsoa_list = []\n",
    "\n",
    "unique_lad_codes = ocod_data[ocod_data['street_name'].notnull() & ocod_data['street_number'].notnull() & ocod_data['lsoa11cd'].isnull()]['lad11cd'].unique()\n",
    "\n",
    "for target_lad in unique_lad_codes:\n",
    "    print(target_lad)\n",
    "    #subset to the relevat rows within a single lad\n",
    "    missing_lsoa_df = ocod_data[ocod_data['street_name'].notnull() & ocod_data['street_number'].notnull() & ocod_data['lsoa11cd'].isnull() & (ocod_data['lad11cd']==target_lad)]\n",
    "    missing_lsoa_df.loc[:,'street_number2'] = missing_lsoa_df.loc[:,'street_number'].str.replace(r\"^.*(?=\\b[0-9]+$)\", \"\").str.replace(r\"[^\\d]\", \"\", regex = True)\n",
    "\n",
    "    target_street_names = missing_lsoa_df['street_name2'].unique()\n",
    "\n",
    "    temp_lsoa = pd.concat([\n",
    "        #the price paid data with names changed\n",
    "        price_paid_df[price_paid_df['street_name2'].isin(target_street_names )  & \n",
    "                                    (price_paid_df['lad11cd']==target_lad) ], \n",
    "      #voa data added in                \n",
    "                      voa_businesses[(voa_businesses['lad11cd']==target_lad)]]\n",
    "                                                    )[['street_name2', 'street_number', 'lsoa11cd', 'lad11cd']].dropna(axis = 0, how = 'any', inplace = False)\n",
    "\n",
    "    temp_lsoa.loc[:,'street_number2'] = temp_lsoa.loc[:,'street_number'].str.replace(r\"^.*(?=\\b[0-9]+$)\", \"\", regex = True).str.replace(r\"[^\\d]\", \"\", regex = True)\n",
    "    \n",
    "    temp_lsoa  = create_all_street_addresses(temp_lsoa[temp_lsoa['street_name2'].isin(target_street_names ) & \n",
    "                                            temp_lsoa['street_number2'].notnull()], \n",
    "                                       target_lad, \n",
    "                                       ['street_name2', 'street_number2', 'lsoa11cd'])\n",
    "    \n",
    "\n",
    "    for target_road in target_street_names:\n",
    "        print(target_road)\n",
    "        missing_lsoa_road = missing_lsoa_df[missing_lsoa_df['street_name2']== target_road ]\n",
    "        temp_road = temp_lsoa[temp_lsoa['street_name2'] ==target_road ]\n",
    "\n",
    "        if len(temp_road)>0:\n",
    "            missing_lsoa_road['lsoa11cd'] = [street_number_to_lsoa(temp_road, int(missing_lsoa_road.iloc[missing_lsoa_row]['street_number2'])) \n",
    "                                             for missing_lsoa_row \n",
    "                                             in range(0, len(missing_lsoa_road))]\n",
    "            filled_lsoa_list = filled_lsoa_list + [missing_lsoa_road]\n",
    " \n",
    "#join the list back together\n",
    "temp_lsoa = pd.concat(filled_lsoa_list)\n",
    "\n",
    "#join the ocod dataset backtogether\n",
    "ocod_data = pd.concat([ocod_data[~ocod_data['unique_id'].isin(temp_lsoa['unique_id'])], temp_lsoa ] )\n",
    "ocod_data\n"
   ]
  },
  {
   "cell_type": "code",
   "execution_count": 13,
   "id": "86c906e1",
   "metadata": {},
   "outputs": [],
   "source": [
    "#Doing this grouped nested business a second time pushes lsoa ID over 90% which seems good enough for me\n",
    "\n",
    "#after all other lsoa adding methods are completed\n",
    "#all nested properties with missing lsoa have the lsoa of the other properties within their group added\n",
    "\n",
    "temp = ocod_data.loc[(ocod_data['lsoa11cd'].notnull()) & (ocod_data['within_larger_title']==True) ,['lsoa11cd', 'title_number']].\\\n",
    "groupby(['lsoa11cd', 'title_number']).size().reset_index()\n",
    "temp = temp[['lsoa11cd', 'title_number']].rename(columns = {'lsoa11cd':'lsoa_nested2'})\n",
    "\n",
    "#there are a small number of nested addresses where there are multiple lsoa this prevents increasing the number of observations with these duplicates\n",
    "#I don't think it matters if a ver observations are in neighbouring lsoa, the general spatial coherence is maintained\n",
    "temp = temp.groupby('title_number')['lsoa_nested2'].first().reset_index()\n",
    "\n",
    "\n",
    "ocod_data = ocod_data.merge(temp[['title_number', 'lsoa_nested2']], \n",
    "                       how = \"left\",\n",
    "                           on = \"title_number\")\n",
    "\n",
    "ocod_data.loc[ocod_data['lsoa11cd'].isnull(), 'lsoa11cd'] = ocod_data['lsoa_nested2'][ocod_data['lsoa11cd'].isnull()] "
   ]
  },
  {
   "cell_type": "code",
   "execution_count": 14,
   "id": "4a78a050",
   "metadata": {},
   "outputs": [
    {
     "data": {
      "text/plain": [
       "0.09225563909774435"
      ]
     },
     "execution_count": 14,
     "metadata": {},
     "output_type": "execute_result"
    }
   ],
   "source": [
    "#percent of dataset without lsoa\n",
    "ocod_data['lsoa11cd'].isnull().sum()/ocod_data.shape[0]"
   ]
  },
  {
   "cell_type": "markdown",
   "id": "684b5ef9",
   "metadata": {},
   "source": [
    "## Add in counts of businesses per oa and LSOA"
   ]
  },
  {
   "cell_type": "code",
   "execution_count": 15,
   "id": "daacca98",
   "metadata": {},
   "outputs": [],
   "source": [
    "#Create a dataframe that contains the counts of businesses per OA\n",
    "postcode_counts_voa = voa_businesses.groupby('oa11cd').size().reset_index(name = 'business_counts')\n",
    "ocod_data = pd.merge(ocod_data, postcode_counts_voa, on = \"oa11cd\", how = \"left\")\n",
    "ocod_data[\"business_counts\"] = ocod_data[\"business_counts\"].fillna(0)\n",
    "\n",
    "#do the same for lsoa\n",
    "lsoa_counts_voa = voa_businesses.groupby('lsoa11cd').size().reset_index(name = 'lsoa_business_counts')\n",
    "ocod_data = pd.merge(ocod_data, lsoa_counts_voa, on = \"lsoa11cd\", how = \"left\")\n",
    "ocod_data[\"lsoa_business_counts\"] = ocod_data[\"lsoa_business_counts\"].fillna(0)"
   ]
  },
  {
   "cell_type": "code",
   "execution_count": 16,
   "id": "497aef9c",
   "metadata": {},
   "outputs": [],
   "source": [
    "ocod_data[ocod_data['lsoa11cd'].isnull()].to_csv('/tf/empty_homes_data/delete_me.csv')"
   ]
  },
  {
   "cell_type": "code",
   "execution_count": 17,
   "id": "1bfd7ce4",
   "metadata": {},
   "outputs": [
    {
     "data": {
      "text/html": [
       "<div>\n",
       "<style scoped>\n",
       "    .dataframe tbody tr th:only-of-type {\n",
       "        vertical-align: middle;\n",
       "    }\n",
       "\n",
       "    .dataframe tbody tr th {\n",
       "        vertical-align: top;\n",
       "    }\n",
       "\n",
       "    .dataframe thead th {\n",
       "        text-align: right;\n",
       "    }\n",
       "</style>\n",
       "<table border=\"1\" class=\"dataframe\">\n",
       "  <thead>\n",
       "    <tr style=\"text-align: right;\">\n",
       "      <th>lsoa_building</th>\n",
       "      <th>False</th>\n",
       "      <th>True</th>\n",
       "    </tr>\n",
       "    <tr>\n",
       "      <th>postcode</th>\n",
       "      <th></th>\n",
       "      <th></th>\n",
       "    </tr>\n",
       "  </thead>\n",
       "  <tbody>\n",
       "    <tr>\n",
       "      <th>False</th>\n",
       "      <td>50152</td>\n",
       "      <td>7119</td>\n",
       "    </tr>\n",
       "    <tr>\n",
       "      <th>True</th>\n",
       "      <td>81217</td>\n",
       "      <td>21112</td>\n",
       "    </tr>\n",
       "  </tbody>\n",
       "</table>\n",
       "</div>"
      ],
      "text/plain": [
       "lsoa_building  False   True\n",
       "postcode                   \n",
       "False          50152   7119\n",
       "True           81217  21112"
      ]
     },
     "execution_count": 17,
     "metadata": {},
     "output_type": "execute_result"
    }
   ],
   "source": [
    "pd.crosstab(ocod_data['postcode'].notnull(), ocod_data['lsoa_building'].notnull())"
   ]
  },
  {
   "cell_type": "markdown",
   "id": "df42a1c8",
   "metadata": {},
   "source": [
    "## looking at what is left\n",
    "what still doesn't have lsoa and what properties do they have?"
   ]
  },
  {
   "cell_type": "code",
   "execution_count": 18,
   "id": "17a04c37",
   "metadata": {},
   "outputs": [],
   "source": [
    "test = ocod_data"
   ]
  },
  {
   "cell_type": "code",
   "execution_count": 19,
   "id": "090d12e2",
   "metadata": {},
   "outputs": [
    {
     "data": {
      "text/html": [
       "<div>\n",
       "<style scoped>\n",
       "    .dataframe tbody tr th:only-of-type {\n",
       "        vertical-align: middle;\n",
       "    }\n",
       "\n",
       "    .dataframe tbody tr th {\n",
       "        vertical-align: top;\n",
       "    }\n",
       "\n",
       "    .dataframe thead th {\n",
       "        text-align: right;\n",
       "    }\n",
       "</style>\n",
       "<table border=\"1\" class=\"dataframe\">\n",
       "  <thead>\n",
       "    <tr style=\"text-align: right;\">\n",
       "      <th>oa11cd</th>\n",
       "      <th>False</th>\n",
       "      <th>True</th>\n",
       "    </tr>\n",
       "    <tr>\n",
       "      <th>lsoa11cd</th>\n",
       "      <th></th>\n",
       "      <th></th>\n",
       "    </tr>\n",
       "  </thead>\n",
       "  <tbody>\n",
       "    <tr>\n",
       "      <th>False</th>\n",
       "      <td>0.092256</td>\n",
       "      <td>0.000000</td>\n",
       "    </tr>\n",
       "    <tr>\n",
       "      <th>True</th>\n",
       "      <td>0.213709</td>\n",
       "      <td>0.694035</td>\n",
       "    </tr>\n",
       "  </tbody>\n",
       "</table>\n",
       "</div>"
      ],
      "text/plain": [
       "oa11cd       False      True\n",
       "lsoa11cd                    \n",
       "False     0.092256  0.000000\n",
       "True      0.213709  0.694035"
      ]
     },
     "execution_count": 19,
     "metadata": {},
     "output_type": "execute_result"
    }
   ],
   "source": [
    "#observations localised with lsoa and/or oa\n",
    "pd.crosstab(test['lsoa11cd'].notnull(),  test['oa11cd'].notnull())/ocod_data.shape[0]"
   ]
  },
  {
   "cell_type": "code",
   "execution_count": 20,
   "id": "42dda4d0",
   "metadata": {},
   "outputs": [
    {
     "data": {
      "text/html": [
       "<div>\n",
       "<style scoped>\n",
       "    .dataframe tbody tr th:only-of-type {\n",
       "        vertical-align: middle;\n",
       "    }\n",
       "\n",
       "    .dataframe tbody tr th {\n",
       "        vertical-align: top;\n",
       "    }\n",
       "\n",
       "    .dataframe thead th {\n",
       "        text-align: right;\n",
       "    }\n",
       "</style>\n",
       "<table border=\"1\" class=\"dataframe\">\n",
       "  <thead>\n",
       "    <tr style=\"text-align: right;\">\n",
       "      <th>lsoa_building</th>\n",
       "      <th>False</th>\n",
       "      <th>True</th>\n",
       "    </tr>\n",
       "    <tr>\n",
       "      <th>lsoa_street</th>\n",
       "      <th></th>\n",
       "      <th></th>\n",
       "    </tr>\n",
       "  </thead>\n",
       "  <tbody>\n",
       "    <tr>\n",
       "      <th>False</th>\n",
       "      <td>75689</td>\n",
       "      <td>16238</td>\n",
       "    </tr>\n",
       "    <tr>\n",
       "      <th>True</th>\n",
       "      <td>55680</td>\n",
       "      <td>11993</td>\n",
       "    </tr>\n",
       "  </tbody>\n",
       "</table>\n",
       "</div>"
      ],
      "text/plain": [
       "lsoa_building  False   True\n",
       "lsoa_street                \n",
       "False          75689  16238\n",
       "True           55680  11993"
      ]
     },
     "execution_count": 20,
     "metadata": {},
     "output_type": "execute_result"
    }
   ],
   "source": [
    "#this is definately the problem then\n",
    "pd.crosstab(test['lsoa_street'].notnull(),  test['lsoa_building'].notnull())"
   ]
  },
  {
   "cell_type": "code",
   "execution_count": 21,
   "id": "11681719",
   "metadata": {},
   "outputs": [
    {
     "data": {
      "text/html": [
       "<div>\n",
       "<style scoped>\n",
       "    .dataframe tbody tr th:only-of-type {\n",
       "        vertical-align: middle;\n",
       "    }\n",
       "\n",
       "    .dataframe tbody tr th {\n",
       "        vertical-align: top;\n",
       "    }\n",
       "\n",
       "    .dataframe thead th {\n",
       "        text-align: right;\n",
       "    }\n",
       "</style>\n",
       "<table border=\"1\" class=\"dataframe\">\n",
       "  <thead>\n",
       "    <tr style=\"text-align: right;\">\n",
       "      <th>lsoa_street</th>\n",
       "      <th>False</th>\n",
       "    </tr>\n",
       "    <tr>\n",
       "      <th>property_address</th>\n",
       "      <th></th>\n",
       "    </tr>\n",
       "  </thead>\n",
       "  <tbody>\n",
       "    <tr>\n",
       "      <th>False</th>\n",
       "      <td>10704</td>\n",
       "    </tr>\n",
       "    <tr>\n",
       "      <th>True</th>\n",
       "      <td>4020</td>\n",
       "    </tr>\n",
       "  </tbody>\n",
       "</table>\n",
       "</div>"
      ],
      "text/plain": [
       "lsoa_street       False\n",
       "property_address       \n",
       "False             10704\n",
       "True               4020"
      ]
     },
     "execution_count": 21,
     "metadata": {},
     "output_type": "execute_result"
    }
   ],
   "source": [
    "test2 = test[test['lsoa11cd'].isnull()]\n",
    "pd.crosstab(test2['property_address'].str.startswith('land') , test2['lsoa_street'].notnull())"
   ]
  },
  {
   "cell_type": "code",
   "execution_count": 22,
   "id": "06a2a0ee",
   "metadata": {},
   "outputs": [
    {
     "data": {
      "text/html": [
       "<div>\n",
       "<style scoped>\n",
       "    .dataframe tbody tr th:only-of-type {\n",
       "        vertical-align: middle;\n",
       "    }\n",
       "\n",
       "    .dataframe tbody tr th {\n",
       "        vertical-align: top;\n",
       "    }\n",
       "\n",
       "    .dataframe thead th {\n",
       "        text-align: right;\n",
       "    }\n",
       "</style>\n",
       "<table border=\"1\" class=\"dataframe\">\n",
       "  <thead>\n",
       "    <tr style=\"text-align: right;\">\n",
       "      <th>lsoa11cd</th>\n",
       "      <th>False</th>\n",
       "      <th>True</th>\n",
       "    </tr>\n",
       "    <tr>\n",
       "      <th>street_name</th>\n",
       "      <th></th>\n",
       "      <th></th>\n",
       "    </tr>\n",
       "  </thead>\n",
       "  <tbody>\n",
       "    <tr>\n",
       "      <th>False</th>\n",
       "      <td>3245</td>\n",
       "      <td>9418</td>\n",
       "    </tr>\n",
       "    <tr>\n",
       "      <th>True</th>\n",
       "      <td>11479</td>\n",
       "      <td>135458</td>\n",
       "    </tr>\n",
       "  </tbody>\n",
       "</table>\n",
       "</div>"
      ],
      "text/plain": [
       "lsoa11cd     False    True\n",
       "street_name               \n",
       "False         3245    9418\n",
       "True         11479  135458"
      ]
     },
     "execution_count": 22,
     "metadata": {},
     "output_type": "execute_result"
    }
   ],
   "source": [
    "#this is definately the problem then\n",
    "pd.crosstab(test['street_name'].notnull(),  test['lsoa11cd'].notnull())"
   ]
  },
  {
   "cell_type": "code",
   "execution_count": 23,
   "id": "40b6cc11",
   "metadata": {},
   "outputs": [],
   "source": [
    "test[test['lsoa11cd'].isnull() & test['street_name'].notnull()].to_csv('/tf/empty_homes_data/delete_me.csv')"
   ]
  },
  {
   "cell_type": "code",
   "execution_count": 24,
   "id": "a85ec4c6",
   "metadata": {},
   "outputs": [
    {
     "data": {
      "text/plain": [
       "counts\n",
       "1     0.878886\n",
       "2     0.085376\n",
       "3     0.019499\n",
       "4     0.007090\n",
       "5     0.003393\n",
       "6     0.001796\n",
       "7     0.001165\n",
       "8     0.000746\n",
       "9     0.000512\n",
       "10    0.000369\n",
       "11    0.000264\n",
       "12    0.000200\n",
       "13    0.000140\n",
       "14    0.000116\n",
       "15    0.000072\n",
       "16    0.000069\n",
       "17    0.000052\n",
       "18    0.000034\n",
       "19    0.000037\n",
       "20    0.000026\n",
       "21    0.000021\n",
       "22    0.000018\n",
       "23    0.000016\n",
       "24    0.000021\n",
       "25    0.000013\n",
       "26    0.000008\n",
       "27    0.000011\n",
       "28    0.000005\n",
       "29    0.000006\n",
       "30    0.000008\n",
       "31    0.000005\n",
       "33    0.000003\n",
       "34    0.000005\n",
       "35    0.000003\n",
       "37    0.000002\n",
       "41    0.000002\n",
       "42    0.000002\n",
       "45    0.000002\n",
       "54    0.000002\n",
       "57    0.000002\n",
       "65    0.000002\n",
       "71    0.000002\n",
       "74    0.000002\n",
       "dtype: float64"
      ]
     },
     "execution_count": 24,
     "metadata": {},
     "output_type": "execute_result"
    }
   ],
   "source": [
    "#95.5% of sets have only a single lsoa, when grouped by street, town, district and locality\n",
    "#when grouped by only street and district, this number is still 90%\n",
    "#excluding town the number is still 0.95% but dropping locality gives a match on 91%, therefore using locality is the key\n",
    "temp = price_paid_df.groupby(['street', 'district', 'lsoa11cd']).size().reset_index().groupby(['street', 'district']).size()\\\n",
    ".reset_index().rename(columns = {0:'counts'})\n",
    "\n",
    "temp.groupby('counts').size()/temp.shape[0]\n"
   ]
  },
  {
   "cell_type": "markdown",
   "id": "4bae9ba4",
   "metadata": {},
   "source": [
    "# VOA matching businesses\n",
    "\n",
    "The below chunk matches addresses to known businesses"
   ]
  },
  {
   "cell_type": "markdown",
   "id": "2b06dd67",
   "metadata": {},
   "source": [
    "## Creating a voa expander for individual LADs"
   ]
  },
  {
   "cell_type": "code",
   "execution_count": 25,
   "id": "a34e2658",
   "metadata": {},
   "outputs": [
    {
     "name": "stdout",
     "output_type": "stream",
     "text": [
      "E06000031\n",
      "i= 0  expand time,0.0 filter time0.0 make_dataframe_time 0.001\n"
     ]
    },
    {
     "name": "stderr",
     "output_type": "stream",
     "text": [
      "/tf/empty_homes_london/helper_functions.py:279: SettingWithCopyWarning: \n",
      "A value is trying to be set on a copy of a slice from a DataFrame.\n",
      "Try using .loc[row_indexer,col_indexer] = value instead\n",
      "\n",
      "See the caveats in the documentation: https://pandas.pydata.org/pandas-docs/stable/user_guide/indexing.html#returning-a-view-versus-a-copy\n",
      "  temp_multi['number_filter'] = filter_types\n"
     ]
    },
    {
     "name": "stdout",
     "output_type": "stream",
     "text": [
      "E07000032\n",
      "i= 0  expand time,0.0 filter time0.0 make_dataframe_time 0.001\n",
      "E09000001\n"
     ]
    },
    {
     "name": "stderr",
     "output_type": "stream",
     "text": [
      "/tf/empty_homes_london/helper_functions.py:279: SettingWithCopyWarning: \n",
      "A value is trying to be set on a copy of a slice from a DataFrame.\n",
      "Try using .loc[row_indexer,col_indexer] = value instead\n",
      "\n",
      "See the caveats in the documentation: https://pandas.pydata.org/pandas-docs/stable/user_guide/indexing.html#returning-a-view-versus-a-copy\n",
      "  temp_multi['number_filter'] = filter_types\n",
      "/tf/empty_homes_london/helper_functions.py:279: SettingWithCopyWarning: \n",
      "A value is trying to be set on a copy of a slice from a DataFrame.\n",
      "Try using .loc[row_indexer,col_indexer] = value instead\n",
      "\n",
      "See the caveats in the documentation: https://pandas.pydata.org/pandas-docs/stable/user_guide/indexing.html#returning-a-view-versus-a-copy\n",
      "  temp_multi['number_filter'] = filter_types\n"
     ]
    },
    {
     "name": "stdout",
     "output_type": "stream",
     "text": [
      "i= 0  expand time,0.0 filter time0.0 make_dataframe_time 0.001\n",
      "E08000019\n",
      "i= 0  expand time,0.0 filter time0.0 make_dataframe_time 0.001\n"
     ]
    },
    {
     "name": "stderr",
     "output_type": "stream",
     "text": [
      "/tf/empty_homes_london/helper_functions.py:279: SettingWithCopyWarning: \n",
      "A value is trying to be set on a copy of a slice from a DataFrame.\n",
      "Try using .loc[row_indexer,col_indexer] = value instead\n",
      "\n",
      "See the caveats in the documentation: https://pandas.pydata.org/pandas-docs/stable/user_guide/indexing.html#returning-a-view-versus-a-copy\n",
      "  temp_multi['number_filter'] = filter_types\n"
     ]
    },
    {
     "name": "stdout",
     "output_type": "stream",
     "text": [
      "E08000017\n",
      "i= 0  expand time,0.0 filter time0.0 make_dataframe_time 0.001\n"
     ]
    },
    {
     "name": "stderr",
     "output_type": "stream",
     "text": [
      "/tf/empty_homes_london/helper_functions.py:279: SettingWithCopyWarning: \n",
      "A value is trying to be set on a copy of a slice from a DataFrame.\n",
      "Try using .loc[row_indexer,col_indexer] = value instead\n",
      "\n",
      "See the caveats in the documentation: https://pandas.pydata.org/pandas-docs/stable/user_guide/indexing.html#returning-a-view-versus-a-copy\n",
      "  temp_multi['number_filter'] = filter_types\n"
     ]
    },
    {
     "name": "stdout",
     "output_type": "stream",
     "text": [
      "E09000028\n",
      "i= 0  expand time,0.0 filter time0.0 make_dataframe_time 0.001\n"
     ]
    },
    {
     "name": "stderr",
     "output_type": "stream",
     "text": [
      "/tf/empty_homes_london/helper_functions.py:279: SettingWithCopyWarning: \n",
      "A value is trying to be set on a copy of a slice from a DataFrame.\n",
      "Try using .loc[row_indexer,col_indexer] = value instead\n",
      "\n",
      "See the caveats in the documentation: https://pandas.pydata.org/pandas-docs/stable/user_guide/indexing.html#returning-a-view-versus-a-copy\n",
      "  temp_multi['number_filter'] = filter_types\n"
     ]
    },
    {
     "name": "stdout",
     "output_type": "stream",
     "text": [
      "E09000020\n",
      "i= 0  expand time,0.0 filter time0.0 make_dataframe_time 0.001\n"
     ]
    },
    {
     "name": "stderr",
     "output_type": "stream",
     "text": [
      "/tf/empty_homes_london/helper_functions.py:279: SettingWithCopyWarning: \n",
      "A value is trying to be set on a copy of a slice from a DataFrame.\n",
      "Try using .loc[row_indexer,col_indexer] = value instead\n",
      "\n",
      "See the caveats in the documentation: https://pandas.pydata.org/pandas-docs/stable/user_guide/indexing.html#returning-a-view-versus-a-copy\n",
      "  temp_multi['number_filter'] = filter_types\n"
     ]
    },
    {
     "name": "stdout",
     "output_type": "stream",
     "text": [
      "E09000007\n",
      "i= 0  expand time,0.0 filter time0.0 make_dataframe_time 0.001\n"
     ]
    },
    {
     "name": "stderr",
     "output_type": "stream",
     "text": [
      "/tf/empty_homes_london/helper_functions.py:279: SettingWithCopyWarning: \n",
      "A value is trying to be set on a copy of a slice from a DataFrame.\n",
      "Try using .loc[row_indexer,col_indexer] = value instead\n",
      "\n",
      "See the caveats in the documentation: https://pandas.pydata.org/pandas-docs/stable/user_guide/indexing.html#returning-a-view-versus-a-copy\n",
      "  temp_multi['number_filter'] = filter_types\n"
     ]
    },
    {
     "name": "stdout",
     "output_type": "stream",
     "text": [
      "E06000049\n",
      "i= 0  expand time,0.0 filter time0.001 make_dataframe_time 0.003\n"
     ]
    },
    {
     "name": "stderr",
     "output_type": "stream",
     "text": [
      "/tf/empty_homes_london/helper_functions.py:279: SettingWithCopyWarning: \n",
      "A value is trying to be set on a copy of a slice from a DataFrame.\n",
      "Try using .loc[row_indexer,col_indexer] = value instead\n",
      "\n",
      "See the caveats in the documentation: https://pandas.pydata.org/pandas-docs/stable/user_guide/indexing.html#returning-a-view-versus-a-copy\n",
      "  temp_multi['number_filter'] = filter_types\n"
     ]
    },
    {
     "name": "stdout",
     "output_type": "stream",
     "text": [
      "E09000011\n",
      "i= 0  expand time,0.0 filter time0.0 make_dataframe_time 0.001\n"
     ]
    },
    {
     "name": "stderr",
     "output_type": "stream",
     "text": [
      "/tf/empty_homes_london/helper_functions.py:279: SettingWithCopyWarning: \n",
      "A value is trying to be set on a copy of a slice from a DataFrame.\n",
      "Try using .loc[row_indexer,col_indexer] = value instead\n",
      "\n",
      "See the caveats in the documentation: https://pandas.pydata.org/pandas-docs/stable/user_guide/indexing.html#returning-a-view-versus-a-copy\n",
      "  temp_multi['number_filter'] = filter_types\n"
     ]
    },
    {
     "name": "stdout",
     "output_type": "stream",
     "text": [
      "E09000033\n"
     ]
    },
    {
     "name": "stderr",
     "output_type": "stream",
     "text": [
      "/tf/empty_homes_london/helper_functions.py:279: SettingWithCopyWarning: \n",
      "A value is trying to be set on a copy of a slice from a DataFrame.\n",
      "Try using .loc[row_indexer,col_indexer] = value instead\n",
      "\n",
      "See the caveats in the documentation: https://pandas.pydata.org/pandas-docs/stable/user_guide/indexing.html#returning-a-view-versus-a-copy\n",
      "  temp_multi['number_filter'] = filter_types\n"
     ]
    },
    {
     "name": "stdout",
     "output_type": "stream",
     "text": [
      "i= 0  expand time,0.0 filter time0.001 make_dataframe_time 0.001\n",
      "E09000019\n",
      "i= 0  expand time,0.0 filter time0.0 make_dataframe_time 0.001\n"
     ]
    },
    {
     "name": "stderr",
     "output_type": "stream",
     "text": [
      "/tf/empty_homes_london/helper_functions.py:279: SettingWithCopyWarning: \n",
      "A value is trying to be set on a copy of a slice from a DataFrame.\n",
      "Try using .loc[row_indexer,col_indexer] = value instead\n",
      "\n",
      "See the caveats in the documentation: https://pandas.pydata.org/pandas-docs/stable/user_guide/indexing.html#returning-a-view-versus-a-copy\n",
      "  temp_multi['number_filter'] = filter_types\n"
     ]
    },
    {
     "name": "stdout",
     "output_type": "stream",
     "text": [
      "E09000016\n",
      "i= 0  expand time,0.0 filter time0.0 make_dataframe_time 0.001\n"
     ]
    },
    {
     "name": "stderr",
     "output_type": "stream",
     "text": [
      "/tf/empty_homes_london/helper_functions.py:279: SettingWithCopyWarning: \n",
      "A value is trying to be set on a copy of a slice from a DataFrame.\n",
      "Try using .loc[row_indexer,col_indexer] = value instead\n",
      "\n",
      "See the caveats in the documentation: https://pandas.pydata.org/pandas-docs/stable/user_guide/indexing.html#returning-a-view-versus-a-copy\n",
      "  temp_multi['number_filter'] = filter_types\n"
     ]
    },
    {
     "name": "stdout",
     "output_type": "stream",
     "text": [
      "E08000015\n",
      "i= 0  expand time,0.0 filter time0.0 make_dataframe_time 0.001\n"
     ]
    },
    {
     "name": "stderr",
     "output_type": "stream",
     "text": [
      "/tf/empty_homes_london/helper_functions.py:279: SettingWithCopyWarning: \n",
      "A value is trying to be set on a copy of a slice from a DataFrame.\n",
      "Try using .loc[row_indexer,col_indexer] = value instead\n",
      "\n",
      "See the caveats in the documentation: https://pandas.pydata.org/pandas-docs/stable/user_guide/indexing.html#returning-a-view-versus-a-copy\n",
      "  temp_multi['number_filter'] = filter_types\n"
     ]
    },
    {
     "name": "stdout",
     "output_type": "stream",
     "text": [
      "E09000015\n",
      "i= 0  expand time,0.0 filter time0.0 make_dataframe_time 0.001\n"
     ]
    },
    {
     "name": "stderr",
     "output_type": "stream",
     "text": [
      "/tf/empty_homes_london/helper_functions.py:279: SettingWithCopyWarning: \n",
      "A value is trying to be set on a copy of a slice from a DataFrame.\n",
      "Try using .loc[row_indexer,col_indexer] = value instead\n",
      "\n",
      "See the caveats in the documentation: https://pandas.pydata.org/pandas-docs/stable/user_guide/indexing.html#returning-a-view-versus-a-copy\n",
      "  temp_multi['number_filter'] = filter_types\n"
     ]
    },
    {
     "name": "stdout",
     "output_type": "stream",
     "text": [
      "E06000030\n",
      "i= 0  expand time,0.0 filter time0.0 make_dataframe_time 0.001\n"
     ]
    },
    {
     "name": "stderr",
     "output_type": "stream",
     "text": [
      "/tf/empty_homes_london/helper_functions.py:279: SettingWithCopyWarning: \n",
      "A value is trying to be set on a copy of a slice from a DataFrame.\n",
      "Try using .loc[row_indexer,col_indexer] = value instead\n",
      "\n",
      "See the caveats in the documentation: https://pandas.pydata.org/pandas-docs/stable/user_guide/indexing.html#returning-a-view-versus-a-copy\n",
      "  temp_multi['number_filter'] = filter_types\n"
     ]
    },
    {
     "name": "stdout",
     "output_type": "stream",
     "text": [
      "E06000050\n",
      "i= 0  expand time,0.0 filter time0.0 make_dataframe_time 0.001\n"
     ]
    },
    {
     "name": "stderr",
     "output_type": "stream",
     "text": [
      "/tf/empty_homes_london/helper_functions.py:279: SettingWithCopyWarning: \n",
      "A value is trying to be set on a copy of a slice from a DataFrame.\n",
      "Try using .loc[row_indexer,col_indexer] = value instead\n",
      "\n",
      "See the caveats in the documentation: https://pandas.pydata.org/pandas-docs/stable/user_guide/indexing.html#returning-a-view-versus-a-copy\n",
      "  temp_multi['number_filter'] = filter_types\n"
     ]
    },
    {
     "name": "stdout",
     "output_type": "stream",
     "text": [
      "E08000010\n",
      "i= 0  expand time,0.0 filter time0.0 make_dataframe_time 0.001\n"
     ]
    },
    {
     "name": "stderr",
     "output_type": "stream",
     "text": [
      "/tf/empty_homes_london/helper_functions.py:279: SettingWithCopyWarning: \n",
      "A value is trying to be set on a copy of a slice from a DataFrame.\n",
      "Try using .loc[row_indexer,col_indexer] = value instead\n",
      "\n",
      "See the caveats in the documentation: https://pandas.pydata.org/pandas-docs/stable/user_guide/indexing.html#returning-a-view-versus-a-copy\n",
      "  temp_multi['number_filter'] = filter_types\n"
     ]
    },
    {
     "name": "stdout",
     "output_type": "stream",
     "text": [
      "E07000070\n",
      "i= 0  expand time,0.0 filter time0.0 make_dataframe_time 0.0\n"
     ]
    },
    {
     "name": "stderr",
     "output_type": "stream",
     "text": [
      "/tf/empty_homes_london/helper_functions.py:279: SettingWithCopyWarning: \n",
      "A value is trying to be set on a copy of a slice from a DataFrame.\n",
      "Try using .loc[row_indexer,col_indexer] = value instead\n",
      "\n",
      "See the caveats in the documentation: https://pandas.pydata.org/pandas-docs/stable/user_guide/indexing.html#returning-a-view-versus-a-copy\n",
      "  temp_multi['number_filter'] = filter_types\n"
     ]
    },
    {
     "name": "stdout",
     "output_type": "stream",
     "text": [
      "E08000003\n",
      "i= 0  expand time,0.001 filter time0.0 make_dataframe_time 0.001\n"
     ]
    },
    {
     "name": "stderr",
     "output_type": "stream",
     "text": [
      "/tf/empty_homes_london/helper_functions.py:279: SettingWithCopyWarning: \n",
      "A value is trying to be set on a copy of a slice from a DataFrame.\n",
      "Try using .loc[row_indexer,col_indexer] = value instead\n",
      "\n",
      "See the caveats in the documentation: https://pandas.pydata.org/pandas-docs/stable/user_guide/indexing.html#returning-a-view-versus-a-copy\n",
      "  temp_multi['number_filter'] = filter_types\n"
     ]
    },
    {
     "name": "stdout",
     "output_type": "stream",
     "text": [
      "E06000057\n",
      "i= 0  expand time,0.0 filter time0.0 make_dataframe_time 0.001\n"
     ]
    },
    {
     "name": "stderr",
     "output_type": "stream",
     "text": [
      "/tf/empty_homes_london/helper_functions.py:279: SettingWithCopyWarning: \n",
      "A value is trying to be set on a copy of a slice from a DataFrame.\n",
      "Try using .loc[row_indexer,col_indexer] = value instead\n",
      "\n",
      "See the caveats in the documentation: https://pandas.pydata.org/pandas-docs/stable/user_guide/indexing.html#returning-a-view-versus-a-copy\n",
      "  temp_multi['number_filter'] = filter_types\n"
     ]
    },
    {
     "name": "stdout",
     "output_type": "stream",
     "text": [
      "E06000047\n",
      "i= 0  expand time,0.0 filter time0.0 make_dataframe_time 0.001\n"
     ]
    },
    {
     "name": "stderr",
     "output_type": "stream",
     "text": [
      "/tf/empty_homes_london/helper_functions.py:279: SettingWithCopyWarning: \n",
      "A value is trying to be set on a copy of a slice from a DataFrame.\n",
      "Try using .loc[row_indexer,col_indexer] = value instead\n",
      "\n",
      "See the caveats in the documentation: https://pandas.pydata.org/pandas-docs/stable/user_guide/indexing.html#returning-a-view-versus-a-copy\n",
      "  temp_multi['number_filter'] = filter_types\n"
     ]
    },
    {
     "name": "stdout",
     "output_type": "stream",
     "text": [
      "E08000033\n",
      "i= 0  expand time,0.0 filter time0.0 make_dataframe_time 0.001\n",
      "E08000007\n"
     ]
    },
    {
     "name": "stderr",
     "output_type": "stream",
     "text": [
      "/tf/empty_homes_london/helper_functions.py:279: SettingWithCopyWarning: \n",
      "A value is trying to be set on a copy of a slice from a DataFrame.\n",
      "Try using .loc[row_indexer,col_indexer] = value instead\n",
      "\n",
      "See the caveats in the documentation: https://pandas.pydata.org/pandas-docs/stable/user_guide/indexing.html#returning-a-view-versus-a-copy\n",
      "  temp_multi['number_filter'] = filter_types\n",
      "/tf/empty_homes_london/helper_functions.py:279: SettingWithCopyWarning: \n",
      "A value is trying to be set on a copy of a slice from a DataFrame.\n",
      "Try using .loc[row_indexer,col_indexer] = value instead\n",
      "\n",
      "See the caveats in the documentation: https://pandas.pydata.org/pandas-docs/stable/user_guide/indexing.html#returning-a-view-versus-a-copy\n",
      "  temp_multi['number_filter'] = filter_types\n"
     ]
    },
    {
     "name": "stdout",
     "output_type": "stream",
     "text": [
      "i= 0  expand time,0.0 filter time0.0 make_dataframe_time 0.001\n",
      "E08000035\n",
      "i= 0  expand time,0.0 filter time0.0 make_dataframe_time 0.001\n"
     ]
    },
    {
     "name": "stderr",
     "output_type": "stream",
     "text": [
      "/tf/empty_homes_london/helper_functions.py:279: SettingWithCopyWarning: \n",
      "A value is trying to be set on a copy of a slice from a DataFrame.\n",
      "Try using .loc[row_indexer,col_indexer] = value instead\n",
      "\n",
      "See the caveats in the documentation: https://pandas.pydata.org/pandas-docs/stable/user_guide/indexing.html#returning-a-view-versus-a-copy\n",
      "  temp_multi['number_filter'] = filter_types\n"
     ]
    },
    {
     "name": "stdout",
     "output_type": "stream",
     "text": [
      "E06000044\n",
      "i= 0  expand time,0.0 filter time0.0 make_dataframe_time 0.001\n"
     ]
    },
    {
     "name": "stderr",
     "output_type": "stream",
     "text": [
      "/tf/empty_homes_london/helper_functions.py:279: SettingWithCopyWarning: \n",
      "A value is trying to be set on a copy of a slice from a DataFrame.\n",
      "Try using .loc[row_indexer,col_indexer] = value instead\n",
      "\n",
      "See the caveats in the documentation: https://pandas.pydata.org/pandas-docs/stable/user_guide/indexing.html#returning-a-view-versus-a-copy\n",
      "  temp_multi['number_filter'] = filter_types\n"
     ]
    },
    {
     "name": "stdout",
     "output_type": "stream",
     "text": [
      "E07000103\n",
      "i= 0  expand time,0.0 filter time0.0 make_dataframe_time 0.001\n"
     ]
    },
    {
     "name": "stderr",
     "output_type": "stream",
     "text": [
      "/tf/empty_homes_london/helper_functions.py:279: SettingWithCopyWarning: \n",
      "A value is trying to be set on a copy of a slice from a DataFrame.\n",
      "Try using .loc[row_indexer,col_indexer] = value instead\n",
      "\n",
      "See the caveats in the documentation: https://pandas.pydata.org/pandas-docs/stable/user_guide/indexing.html#returning-a-view-versus-a-copy\n",
      "  temp_multi['number_filter'] = filter_types\n"
     ]
    },
    {
     "name": "stdout",
     "output_type": "stream",
     "text": [
      "E08000001\n",
      "i= 0  expand time,0.0 filter time0.0 make_dataframe_time 0.001\n"
     ]
    },
    {
     "name": "stderr",
     "output_type": "stream",
     "text": [
      "/tf/empty_homes_london/helper_functions.py:279: SettingWithCopyWarning: \n",
      "A value is trying to be set on a copy of a slice from a DataFrame.\n",
      "Try using .loc[row_indexer,col_indexer] = value instead\n",
      "\n",
      "See the caveats in the documentation: https://pandas.pydata.org/pandas-docs/stable/user_guide/indexing.html#returning-a-view-versus-a-copy\n",
      "  temp_multi['number_filter'] = filter_types\n"
     ]
    },
    {
     "name": "stdout",
     "output_type": "stream",
     "text": [
      "E07000243\n",
      "i= 0  expand time,0.0 filter time0.0 make_dataframe_time 0.001\n"
     ]
    },
    {
     "name": "stderr",
     "output_type": "stream",
     "text": [
      "/tf/empty_homes_london/helper_functions.py:279: SettingWithCopyWarning: \n",
      "A value is trying to be set on a copy of a slice from a DataFrame.\n",
      "Try using .loc[row_indexer,col_indexer] = value instead\n",
      "\n",
      "See the caveats in the documentation: https://pandas.pydata.org/pandas-docs/stable/user_guide/indexing.html#returning-a-view-versus-a-copy\n",
      "  temp_multi['number_filter'] = filter_types\n"
     ]
    },
    {
     "name": "stdout",
     "output_type": "stream",
     "text": [
      "E08000012\n",
      "i= 0  expand time,0.0 filter time0.0 make_dataframe_time 0.001\n"
     ]
    },
    {
     "name": "stderr",
     "output_type": "stream",
     "text": [
      "/tf/empty_homes_london/helper_functions.py:279: SettingWithCopyWarning: \n",
      "A value is trying to be set on a copy of a slice from a DataFrame.\n",
      "Try using .loc[row_indexer,col_indexer] = value instead\n",
      "\n",
      "See the caveats in the documentation: https://pandas.pydata.org/pandas-docs/stable/user_guide/indexing.html#returning-a-view-versus-a-copy\n",
      "  temp_multi['number_filter'] = filter_types\n"
     ]
    },
    {
     "name": "stdout",
     "output_type": "stream",
     "text": [
      "E09000012\n",
      "i= 0  expand time,0.0 filter time0.0 make_dataframe_time 0.001\n"
     ]
    },
    {
     "name": "stderr",
     "output_type": "stream",
     "text": [
      "/tf/empty_homes_london/helper_functions.py:279: SettingWithCopyWarning: \n",
      "A value is trying to be set on a copy of a slice from a DataFrame.\n",
      "Try using .loc[row_indexer,col_indexer] = value instead\n",
      "\n",
      "See the caveats in the documentation: https://pandas.pydata.org/pandas-docs/stable/user_guide/indexing.html#returning-a-view-versus-a-copy\n",
      "  temp_multi['number_filter'] = filter_types\n"
     ]
    },
    {
     "name": "stdout",
     "output_type": "stream",
     "text": [
      "E09000032\n",
      "i= 0  expand time,0.0 filter time0.0 make_dataframe_time 0.001\n"
     ]
    },
    {
     "name": "stderr",
     "output_type": "stream",
     "text": [
      "/tf/empty_homes_london/helper_functions.py:279: SettingWithCopyWarning: \n",
      "A value is trying to be set on a copy of a slice from a DataFrame.\n",
      "Try using .loc[row_indexer,col_indexer] = value instead\n",
      "\n",
      "See the caveats in the documentation: https://pandas.pydata.org/pandas-docs/stable/user_guide/indexing.html#returning-a-view-versus-a-copy\n",
      "  temp_multi['number_filter'] = filter_types\n"
     ]
    },
    {
     "name": "stdout",
     "output_type": "stream",
     "text": [
      "E06000045\n",
      "i= 0  expand time,0.0 filter time0.0 make_dataframe_time 0.001\n"
     ]
    },
    {
     "name": "stderr",
     "output_type": "stream",
     "text": [
      "/tf/empty_homes_london/helper_functions.py:279: SettingWithCopyWarning: \n",
      "A value is trying to be set on a copy of a slice from a DataFrame.\n",
      "Try using .loc[row_indexer,col_indexer] = value instead\n",
      "\n",
      "See the caveats in the documentation: https://pandas.pydata.org/pandas-docs/stable/user_guide/indexing.html#returning-a-view-versus-a-copy\n",
      "  temp_multi['number_filter'] = filter_types\n"
     ]
    },
    {
     "name": "stdout",
     "output_type": "stream",
     "text": [
      "E08000004\n",
      "i= 0  expand time,0.0 filter time0.0 make_dataframe_time 0.001\n"
     ]
    },
    {
     "name": "stderr",
     "output_type": "stream",
     "text": [
      "/tf/empty_homes_london/helper_functions.py:279: SettingWithCopyWarning: \n",
      "A value is trying to be set on a copy of a slice from a DataFrame.\n",
      "Try using .loc[row_indexer,col_indexer] = value instead\n",
      "\n",
      "See the caveats in the documentation: https://pandas.pydata.org/pandas-docs/stable/user_guide/indexing.html#returning-a-view-versus-a-copy\n",
      "  temp_multi['number_filter'] = filter_types\n"
     ]
    },
    {
     "name": "stdout",
     "output_type": "stream",
     "text": [
      "E08000028\n",
      "i= 0  expand time,0.0 filter time0.0 make_dataframe_time 0.001\n"
     ]
    },
    {
     "name": "stderr",
     "output_type": "stream",
     "text": [
      "/tf/empty_homes_london/helper_functions.py:279: SettingWithCopyWarning: \n",
      "A value is trying to be set on a copy of a slice from a DataFrame.\n",
      "Try using .loc[row_indexer,col_indexer] = value instead\n",
      "\n",
      "See the caveats in the documentation: https://pandas.pydata.org/pandas-docs/stable/user_guide/indexing.html#returning-a-view-versus-a-copy\n",
      "  temp_multi['number_filter'] = filter_types\n"
     ]
    },
    {
     "name": "stdout",
     "output_type": "stream",
     "text": [
      "E08000013\n",
      "i= 0  expand time,0.0 filter time0.0 make_dataframe_time 0.001\n"
     ]
    },
    {
     "name": "stderr",
     "output_type": "stream",
     "text": [
      "/tf/empty_homes_london/helper_functions.py:279: SettingWithCopyWarning: \n",
      "A value is trying to be set on a copy of a slice from a DataFrame.\n",
      "Try using .loc[row_indexer,col_indexer] = value instead\n",
      "\n",
      "See the caveats in the documentation: https://pandas.pydata.org/pandas-docs/stable/user_guide/indexing.html#returning-a-view-versus-a-copy\n",
      "  temp_multi['number_filter'] = filter_types\n"
     ]
    },
    {
     "name": "stdout",
     "output_type": "stream",
     "text": [
      "E07000117\n",
      "i= 0  expand time,0.0 filter time0.0 make_dataframe_time 0.001\n"
     ]
    },
    {
     "name": "stderr",
     "output_type": "stream",
     "text": [
      "/tf/empty_homes_london/helper_functions.py:279: SettingWithCopyWarning: \n",
      "A value is trying to be set on a copy of a slice from a DataFrame.\n",
      "Try using .loc[row_indexer,col_indexer] = value instead\n",
      "\n",
      "See the caveats in the documentation: https://pandas.pydata.org/pandas-docs/stable/user_guide/indexing.html#returning-a-view-versus-a-copy\n",
      "  temp_multi['number_filter'] = filter_types\n"
     ]
    },
    {
     "name": "stdout",
     "output_type": "stream",
     "text": [
      "E07000119\n",
      "i= 0  expand time,0.0 filter time0.0 make_dataframe_time 0.001\n"
     ]
    },
    {
     "name": "stderr",
     "output_type": "stream",
     "text": [
      "/tf/empty_homes_london/helper_functions.py:279: SettingWithCopyWarning: \n",
      "A value is trying to be set on a copy of a slice from a DataFrame.\n",
      "Try using .loc[row_indexer,col_indexer] = value instead\n",
      "\n",
      "See the caveats in the documentation: https://pandas.pydata.org/pandas-docs/stable/user_guide/indexing.html#returning-a-view-versus-a-copy\n",
      "  temp_multi['number_filter'] = filter_types\n"
     ]
    },
    {
     "name": "stdout",
     "output_type": "stream",
     "text": [
      "E06000016\n",
      "i= 0  expand time,0.0 filter time0.0 make_dataframe_time 0.001\n"
     ]
    },
    {
     "name": "stderr",
     "output_type": "stream",
     "text": [
      "/tf/empty_homes_london/helper_functions.py:279: SettingWithCopyWarning: \n",
      "A value is trying to be set on a copy of a slice from a DataFrame.\n",
      "Try using .loc[row_indexer,col_indexer] = value instead\n",
      "\n",
      "See the caveats in the documentation: https://pandas.pydata.org/pandas-docs/stable/user_guide/indexing.html#returning-a-view-versus-a-copy\n",
      "  temp_multi['number_filter'] = filter_types\n"
     ]
    },
    {
     "name": "stdout",
     "output_type": "stream",
     "text": [
      "E08000014\n",
      "i= 0  expand time,0.0 filter time0.0 make_dataframe_time 0.001\n"
     ]
    },
    {
     "name": "stderr",
     "output_type": "stream",
     "text": [
      "/tf/empty_homes_london/helper_functions.py:279: SettingWithCopyWarning: \n",
      "A value is trying to be set on a copy of a slice from a DataFrame.\n",
      "Try using .loc[row_indexer,col_indexer] = value instead\n",
      "\n",
      "See the caveats in the documentation: https://pandas.pydata.org/pandas-docs/stable/user_guide/indexing.html#returning-a-view-versus-a-copy\n",
      "  temp_multi['number_filter'] = filter_types\n"
     ]
    },
    {
     "name": "stdout",
     "output_type": "stream",
     "text": [
      "E09000030\n",
      "i= 0  expand time,0.0 filter time0.0 make_dataframe_time 0.001\n"
     ]
    },
    {
     "name": "stderr",
     "output_type": "stream",
     "text": [
      "/tf/empty_homes_london/helper_functions.py:279: SettingWithCopyWarning: \n",
      "A value is trying to be set on a copy of a slice from a DataFrame.\n",
      "Try using .loc[row_indexer,col_indexer] = value instead\n",
      "\n",
      "See the caveats in the documentation: https://pandas.pydata.org/pandas-docs/stable/user_guide/indexing.html#returning-a-view-versus-a-copy\n",
      "  temp_multi['number_filter'] = filter_types\n"
     ]
    },
    {
     "name": "stdout",
     "output_type": "stream",
     "text": [
      "E07000198\n",
      "i= 0  expand time,0.0 filter time0.0 make_dataframe_time 0.001\n",
      "E07000177\n"
     ]
    },
    {
     "name": "stderr",
     "output_type": "stream",
     "text": [
      "/tf/empty_homes_london/helper_functions.py:279: SettingWithCopyWarning: \n",
      "A value is trying to be set on a copy of a slice from a DataFrame.\n",
      "Try using .loc[row_indexer,col_indexer] = value instead\n",
      "\n",
      "See the caveats in the documentation: https://pandas.pydata.org/pandas-docs/stable/user_guide/indexing.html#returning-a-view-versus-a-copy\n",
      "  temp_multi['number_filter'] = filter_types\n",
      "/tf/empty_homes_london/helper_functions.py:279: SettingWithCopyWarning: \n",
      "A value is trying to be set on a copy of a slice from a DataFrame.\n",
      "Try using .loc[row_indexer,col_indexer] = value instead\n",
      "\n",
      "See the caveats in the documentation: https://pandas.pydata.org/pandas-docs/stable/user_guide/indexing.html#returning-a-view-versus-a-copy\n",
      "  temp_multi['number_filter'] = filter_types\n"
     ]
    },
    {
     "name": "stdout",
     "output_type": "stream",
     "text": [
      "i= 0  expand time,0.0 filter time0.0 make_dataframe_time 0.001\n",
      "E08000021\n",
      "i= 0  expand time,0.0 filter time0.0 make_dataframe_time 0.001\n"
     ]
    },
    {
     "name": "stderr",
     "output_type": "stream",
     "text": [
      "/tf/empty_homes_london/helper_functions.py:279: SettingWithCopyWarning: \n",
      "A value is trying to be set on a copy of a slice from a DataFrame.\n",
      "Try using .loc[row_indexer,col_indexer] = value instead\n",
      "\n",
      "See the caveats in the documentation: https://pandas.pydata.org/pandas-docs/stable/user_guide/indexing.html#returning-a-view-versus-a-copy\n",
      "  temp_multi['number_filter'] = filter_types\n"
     ]
    },
    {
     "name": "stdout",
     "output_type": "stream",
     "text": [
      "W06000014\n",
      "i= 0  expand time,0.0 filter time0.0 make_dataframe_time 0.002\n",
      "E06000018\n"
     ]
    },
    {
     "name": "stderr",
     "output_type": "stream",
     "text": [
      "/tf/empty_homes_london/helper_functions.py:279: SettingWithCopyWarning: \n",
      "A value is trying to be set on a copy of a slice from a DataFrame.\n",
      "Try using .loc[row_indexer,col_indexer] = value instead\n",
      "\n",
      "See the caveats in the documentation: https://pandas.pydata.org/pandas-docs/stable/user_guide/indexing.html#returning-a-view-versus-a-copy\n",
      "  temp_multi['number_filter'] = filter_types\n",
      "/tf/empty_homes_london/helper_functions.py:279: SettingWithCopyWarning: \n",
      "A value is trying to be set on a copy of a slice from a DataFrame.\n",
      "Try using .loc[row_indexer,col_indexer] = value instead\n",
      "\n",
      "See the caveats in the documentation: https://pandas.pydata.org/pandas-docs/stable/user_guide/indexing.html#returning-a-view-versus-a-copy\n",
      "  temp_multi['number_filter'] = filter_types\n"
     ]
    },
    {
     "name": "stdout",
     "output_type": "stream",
     "text": [
      "i= 0  expand time,0.001 filter time0.0 make_dataframe_time 0.001\n",
      "E07000061\n",
      "i= 0  expand time,0.0 filter time0.0 make_dataframe_time 0.001\n"
     ]
    },
    {
     "name": "stderr",
     "output_type": "stream",
     "text": [
      "/tf/empty_homes_london/helper_functions.py:279: SettingWithCopyWarning: \n",
      "A value is trying to be set on a copy of a slice from a DataFrame.\n",
      "Try using .loc[row_indexer,col_indexer] = value instead\n",
      "\n",
      "See the caveats in the documentation: https://pandas.pydata.org/pandas-docs/stable/user_guide/indexing.html#returning-a-view-versus-a-copy\n",
      "  temp_multi['number_filter'] = filter_types\n"
     ]
    },
    {
     "name": "stdout",
     "output_type": "stream",
     "text": [
      "E07000090\n",
      "i= 0  expand time,0.0 filter time0.0 make_dataframe_time 0.002\n"
     ]
    },
    {
     "name": "stderr",
     "output_type": "stream",
     "text": [
      "/tf/empty_homes_london/helper_functions.py:279: SettingWithCopyWarning: \n",
      "A value is trying to be set on a copy of a slice from a DataFrame.\n",
      "Try using .loc[row_indexer,col_indexer] = value instead\n",
      "\n",
      "See the caveats in the documentation: https://pandas.pydata.org/pandas-docs/stable/user_guide/indexing.html#returning-a-view-versus-a-copy\n",
      "  temp_multi['number_filter'] = filter_types\n"
     ]
    },
    {
     "name": "stdout",
     "output_type": "stream",
     "text": [
      "E09000013\n",
      "i= 0  expand time,0.0 filter time0.0 make_dataframe_time 0.001\n"
     ]
    },
    {
     "name": "stderr",
     "output_type": "stream",
     "text": [
      "/tf/empty_homes_london/helper_functions.py:279: SettingWithCopyWarning: \n",
      "A value is trying to be set on a copy of a slice from a DataFrame.\n",
      "Try using .loc[row_indexer,col_indexer] = value instead\n",
      "\n",
      "See the caveats in the documentation: https://pandas.pydata.org/pandas-docs/stable/user_guide/indexing.html#returning-a-view-versus-a-copy\n",
      "  temp_multi['number_filter'] = filter_types\n"
     ]
    },
    {
     "name": "stdout",
     "output_type": "stream",
     "text": [
      "E08000024\n",
      "i= 0  expand time,0.0 filter time0.0 make_dataframe_time 0.002\n"
     ]
    },
    {
     "name": "stderr",
     "output_type": "stream",
     "text": [
      "/tf/empty_homes_london/helper_functions.py:279: SettingWithCopyWarning: \n",
      "A value is trying to be set on a copy of a slice from a DataFrame.\n",
      "Try using .loc[row_indexer,col_indexer] = value instead\n",
      "\n",
      "See the caveats in the documentation: https://pandas.pydata.org/pandas-docs/stable/user_guide/indexing.html#returning-a-view-versus-a-copy\n",
      "  temp_multi['number_filter'] = filter_types\n"
     ]
    },
    {
     "name": "stdout",
     "output_type": "stream",
     "text": [
      "W06000003\n",
      "i= 0  expand time,0.0 filter time0.0 make_dataframe_time 0.001\n"
     ]
    },
    {
     "name": "stderr",
     "output_type": "stream",
     "text": [
      "/tf/empty_homes_london/helper_functions.py:279: SettingWithCopyWarning: \n",
      "A value is trying to be set on a copy of a slice from a DataFrame.\n",
      "Try using .loc[row_indexer,col_indexer] = value instead\n",
      "\n",
      "See the caveats in the documentation: https://pandas.pydata.org/pandas-docs/stable/user_guide/indexing.html#returning-a-view-versus-a-copy\n",
      "  temp_multi['number_filter'] = filter_types\n"
     ]
    },
    {
     "name": "stdout",
     "output_type": "stream",
     "text": [
      "E09000025\n",
      "i= 0  expand time,0.0 filter time0.0 make_dataframe_time 0.001\n"
     ]
    },
    {
     "name": "stderr",
     "output_type": "stream",
     "text": [
      "/tf/empty_homes_london/helper_functions.py:279: SettingWithCopyWarning: \n",
      "A value is trying to be set on a copy of a slice from a DataFrame.\n",
      "Try using .loc[row_indexer,col_indexer] = value instead\n",
      "\n",
      "See the caveats in the documentation: https://pandas.pydata.org/pandas-docs/stable/user_guide/indexing.html#returning-a-view-versus-a-copy\n",
      "  temp_multi['number_filter'] = filter_types\n"
     ]
    },
    {
     "name": "stdout",
     "output_type": "stream",
     "text": [
      "W06000002\n",
      "i= 0  expand time,0.0 filter time0.0 make_dataframe_time 0.001\n"
     ]
    },
    {
     "name": "stderr",
     "output_type": "stream",
     "text": [
      "/tf/empty_homes_london/helper_functions.py:279: SettingWithCopyWarning: \n",
      "A value is trying to be set on a copy of a slice from a DataFrame.\n",
      "Try using .loc[row_indexer,col_indexer] = value instead\n",
      "\n",
      "See the caveats in the documentation: https://pandas.pydata.org/pandas-docs/stable/user_guide/indexing.html#returning-a-view-versus-a-copy\n",
      "  temp_multi['number_filter'] = filter_types\n"
     ]
    },
    {
     "name": "stdout",
     "output_type": "stream",
     "text": [
      "E06000036\n",
      "i= 0  expand time,0.0 filter time0.001 make_dataframe_time 0.001\n",
      "W06000011\n"
     ]
    },
    {
     "name": "stderr",
     "output_type": "stream",
     "text": [
      "/tf/empty_homes_london/helper_functions.py:279: SettingWithCopyWarning: \n",
      "A value is trying to be set on a copy of a slice from a DataFrame.\n",
      "Try using .loc[row_indexer,col_indexer] = value instead\n",
      "\n",
      "See the caveats in the documentation: https://pandas.pydata.org/pandas-docs/stable/user_guide/indexing.html#returning-a-view-versus-a-copy\n",
      "  temp_multi['number_filter'] = filter_types\n",
      "/tf/empty_homes_london/helper_functions.py:279: SettingWithCopyWarning: \n",
      "A value is trying to be set on a copy of a slice from a DataFrame.\n",
      "Try using .loc[row_indexer,col_indexer] = value instead\n",
      "\n",
      "See the caveats in the documentation: https://pandas.pydata.org/pandas-docs/stable/user_guide/indexing.html#returning-a-view-versus-a-copy\n",
      "  temp_multi['number_filter'] = filter_types\n"
     ]
    },
    {
     "name": "stdout",
     "output_type": "stream",
     "text": [
      "i= 0  expand time,0.0 filter time0.0 make_dataframe_time 0.001\n",
      "E08000008\n",
      "i= 0  expand time,0.0 filter time0.0 make_dataframe_time 0.002\n"
     ]
    },
    {
     "name": "stderr",
     "output_type": "stream",
     "text": [
      "/tf/empty_homes_london/helper_functions.py:279: SettingWithCopyWarning: \n",
      "A value is trying to be set on a copy of a slice from a DataFrame.\n",
      "Try using .loc[row_indexer,col_indexer] = value instead\n",
      "\n",
      "See the caveats in the documentation: https://pandas.pydata.org/pandas-docs/stable/user_guide/indexing.html#returning-a-view-versus-a-copy\n",
      "  temp_multi['number_filter'] = filter_types\n"
     ]
    },
    {
     "name": "stdout",
     "output_type": "stream",
     "text": [
      "E06000060\n"
     ]
    },
    {
     "name": "stderr",
     "output_type": "stream",
     "text": [
      "/tf/empty_homes_london/helper_functions.py:279: SettingWithCopyWarning: \n",
      "A value is trying to be set on a copy of a slice from a DataFrame.\n",
      "Try using .loc[row_indexer,col_indexer] = value instead\n",
      "\n",
      "See the caveats in the documentation: https://pandas.pydata.org/pandas-docs/stable/user_guide/indexing.html#returning-a-view-versus-a-copy\n",
      "  temp_multi['number_filter'] = filter_types\n"
     ]
    },
    {
     "name": "stdout",
     "output_type": "stream",
     "text": [
      "i= 0  expand time,0.001 filter time0.001 make_dataframe_time 0.002\n",
      "W06000006\n",
      "i= 0  expand time,0.001 filter time0.001 make_dataframe_time 0.004\n"
     ]
    },
    {
     "name": "stderr",
     "output_type": "stream",
     "text": [
      "/tf/empty_homes_london/helper_functions.py:279: SettingWithCopyWarning: \n",
      "A value is trying to be set on a copy of a slice from a DataFrame.\n",
      "Try using .loc[row_indexer,col_indexer] = value instead\n",
      "\n",
      "See the caveats in the documentation: https://pandas.pydata.org/pandas-docs/stable/user_guide/indexing.html#returning-a-view-versus-a-copy\n",
      "  temp_multi['number_filter'] = filter_types\n"
     ]
    },
    {
     "name": "stdout",
     "output_type": "stream",
     "text": [
      "E07000238\n",
      "i= 0  expand time,0.001 filter time0.0 make_dataframe_time 0.003\n"
     ]
    },
    {
     "name": "stderr",
     "output_type": "stream",
     "text": [
      "/tf/empty_homes_london/helper_functions.py:279: SettingWithCopyWarning: \n",
      "A value is trying to be set on a copy of a slice from a DataFrame.\n",
      "Try using .loc[row_indexer,col_indexer] = value instead\n",
      "\n",
      "See the caveats in the documentation: https://pandas.pydata.org/pandas-docs/stable/user_guide/indexing.html#returning-a-view-versus-a-copy\n",
      "  temp_multi['number_filter'] = filter_types\n"
     ]
    },
    {
     "name": "stdout",
     "output_type": "stream",
     "text": [
      "E06000039\n",
      "i= 0  expand time,0.001 filter time0.0 make_dataframe_time 0.001\n"
     ]
    },
    {
     "name": "stderr",
     "output_type": "stream",
     "text": [
      "/tf/empty_homes_london/helper_functions.py:279: SettingWithCopyWarning: \n",
      "A value is trying to be set on a copy of a slice from a DataFrame.\n",
      "Try using .loc[row_indexer,col_indexer] = value instead\n",
      "\n",
      "See the caveats in the documentation: https://pandas.pydata.org/pandas-docs/stable/user_guide/indexing.html#returning-a-view-versus-a-copy\n",
      "  temp_multi['number_filter'] = filter_types\n"
     ]
    },
    {
     "name": "stdout",
     "output_type": "stream",
     "text": [
      "E06000023\n",
      "i= 0  expand time,0.001 filter time0.0 make_dataframe_time 0.001\n"
     ]
    },
    {
     "name": "stderr",
     "output_type": "stream",
     "text": [
      "/tf/empty_homes_london/helper_functions.py:279: SettingWithCopyWarning: \n",
      "A value is trying to be set on a copy of a slice from a DataFrame.\n",
      "Try using .loc[row_indexer,col_indexer] = value instead\n",
      "\n",
      "See the caveats in the documentation: https://pandas.pydata.org/pandas-docs/stable/user_guide/indexing.html#returning-a-view-versus-a-copy\n",
      "  temp_multi['number_filter'] = filter_types\n"
     ]
    },
    {
     "name": "stdout",
     "output_type": "stream",
     "text": [
      "E08000005\n",
      "i= 0  expand time,0.0 filter time0.0 make_dataframe_time 0.001\n"
     ]
    },
    {
     "name": "stderr",
     "output_type": "stream",
     "text": [
      "/tf/empty_homes_london/helper_functions.py:279: SettingWithCopyWarning: \n",
      "A value is trying to be set on a copy of a slice from a DataFrame.\n",
      "Try using .loc[row_indexer,col_indexer] = value instead\n",
      "\n",
      "See the caveats in the documentation: https://pandas.pydata.org/pandas-docs/stable/user_guide/indexing.html#returning-a-view-versus-a-copy\n",
      "  temp_multi['number_filter'] = filter_types\n"
     ]
    },
    {
     "name": "stdout",
     "output_type": "stream",
     "text": [
      "E07000121\n",
      "i= 0  expand time,0.0 filter time0.0 make_dataframe_time 0.002\n"
     ]
    },
    {
     "name": "stderr",
     "output_type": "stream",
     "text": [
      "/tf/empty_homes_london/helper_functions.py:279: SettingWithCopyWarning: \n",
      "A value is trying to be set on a copy of a slice from a DataFrame.\n",
      "Try using .loc[row_indexer,col_indexer] = value instead\n",
      "\n",
      "See the caveats in the documentation: https://pandas.pydata.org/pandas-docs/stable/user_guide/indexing.html#returning-a-view-versus-a-copy\n",
      "  temp_multi['number_filter'] = filter_types\n"
     ]
    },
    {
     "name": "stdout",
     "output_type": "stream",
     "text": [
      "E09000017\n",
      "i= 0  expand time,0.0 filter time0.0 make_dataframe_time 0.002\n"
     ]
    },
    {
     "name": "stderr",
     "output_type": "stream",
     "text": [
      "/tf/empty_homes_london/helper_functions.py:279: SettingWithCopyWarning: \n",
      "A value is trying to be set on a copy of a slice from a DataFrame.\n",
      "Try using .loc[row_indexer,col_indexer] = value instead\n",
      "\n",
      "See the caveats in the documentation: https://pandas.pydata.org/pandas-docs/stable/user_guide/indexing.html#returning-a-view-versus-a-copy\n",
      "  temp_multi['number_filter'] = filter_types\n"
     ]
    },
    {
     "name": "stdout",
     "output_type": "stream",
     "text": [
      "E08000009\n",
      "i= 0  expand time,0.001 filter time0.0 make_dataframe_time 0.001\n"
     ]
    },
    {
     "name": "stderr",
     "output_type": "stream",
     "text": [
      "/tf/empty_homes_london/helper_functions.py:279: SettingWithCopyWarning: \n",
      "A value is trying to be set on a copy of a slice from a DataFrame.\n",
      "Try using .loc[row_indexer,col_indexer] = value instead\n",
      "\n",
      "See the caveats in the documentation: https://pandas.pydata.org/pandas-docs/stable/user_guide/indexing.html#returning-a-view-versus-a-copy\n",
      "  temp_multi['number_filter'] = filter_types\n"
     ]
    },
    {
     "name": "stdout",
     "output_type": "stream",
     "text": [
      "E09000018\n",
      "i= 0  expand time,0.001 filter time0.0 make_dataframe_time 0.001\n"
     ]
    },
    {
     "name": "stderr",
     "output_type": "stream",
     "text": [
      "/tf/empty_homes_london/helper_functions.py:279: SettingWithCopyWarning: \n",
      "A value is trying to be set on a copy of a slice from a DataFrame.\n",
      "Try using .loc[row_indexer,col_indexer] = value instead\n",
      "\n",
      "See the caveats in the documentation: https://pandas.pydata.org/pandas-docs/stable/user_guide/indexing.html#returning-a-view-versus-a-copy\n",
      "  temp_multi['number_filter'] = filter_types\n"
     ]
    },
    {
     "name": "stdout",
     "output_type": "stream",
     "text": [
      "E09000003\n",
      "i= 0  expand time,0.0 filter time0.0 make_dataframe_time 0.001\n"
     ]
    },
    {
     "name": "stderr",
     "output_type": "stream",
     "text": [
      "/tf/empty_homes_london/helper_functions.py:279: SettingWithCopyWarning: \n",
      "A value is trying to be set on a copy of a slice from a DataFrame.\n",
      "Try using .loc[row_indexer,col_indexer] = value instead\n",
      "\n",
      "See the caveats in the documentation: https://pandas.pydata.org/pandas-docs/stable/user_guide/indexing.html#returning-a-view-versus-a-copy\n",
      "  temp_multi['number_filter'] = filter_types\n"
     ]
    },
    {
     "name": "stdout",
     "output_type": "stream",
     "text": [
      "E07000106\n",
      "i= 0  expand time,0.0 filter time0.0 make_dataframe_time 0.002\n"
     ]
    },
    {
     "name": "stderr",
     "output_type": "stream",
     "text": [
      "/tf/empty_homes_london/helper_functions.py:279: SettingWithCopyWarning: \n",
      "A value is trying to be set on a copy of a slice from a DataFrame.\n",
      "Try using .loc[row_indexer,col_indexer] = value instead\n",
      "\n",
      "See the caveats in the documentation: https://pandas.pydata.org/pandas-docs/stable/user_guide/indexing.html#returning-a-view-versus-a-copy\n",
      "  temp_multi['number_filter'] = filter_types\n"
     ]
    },
    {
     "name": "stdout",
     "output_type": "stream",
     "text": [
      "E07000229\n",
      "i= 0  expand time,0.0 filter time0.0 make_dataframe_time 0.001\n"
     ]
    },
    {
     "name": "stderr",
     "output_type": "stream",
     "text": [
      "/tf/empty_homes_london/helper_functions.py:279: SettingWithCopyWarning: \n",
      "A value is trying to be set on a copy of a slice from a DataFrame.\n",
      "Try using .loc[row_indexer,col_indexer] = value instead\n",
      "\n",
      "See the caveats in the documentation: https://pandas.pydata.org/pandas-docs/stable/user_guide/indexing.html#returning-a-view-versus-a-copy\n",
      "  temp_multi['number_filter'] = filter_types\n"
     ]
    },
    {
     "name": "stdout",
     "output_type": "stream",
     "text": [
      "E08000032\n",
      "i= 0  expand time,0.0 filter time0.0 make_dataframe_time 0.002\n"
     ]
    },
    {
     "name": "stderr",
     "output_type": "stream",
     "text": [
      "/tf/empty_homes_london/helper_functions.py:279: SettingWithCopyWarning: \n",
      "A value is trying to be set on a copy of a slice from a DataFrame.\n",
      "Try using .loc[row_indexer,col_indexer] = value instead\n",
      "\n",
      "See the caveats in the documentation: https://pandas.pydata.org/pandas-docs/stable/user_guide/indexing.html#returning-a-view-versus-a-copy\n",
      "  temp_multi['number_filter'] = filter_types\n"
     ]
    },
    {
     "name": "stdout",
     "output_type": "stream",
     "text": [
      "E07000111\n",
      "i= 0  expand time,0.0 filter time0.0 make_dataframe_time 0.001\n"
     ]
    },
    {
     "name": "stderr",
     "output_type": "stream",
     "text": [
      "/tf/empty_homes_london/helper_functions.py:279: SettingWithCopyWarning: \n",
      "A value is trying to be set on a copy of a slice from a DataFrame.\n",
      "Try using .loc[row_indexer,col_indexer] = value instead\n",
      "\n",
      "See the caveats in the documentation: https://pandas.pydata.org/pandas-docs/stable/user_guide/indexing.html#returning-a-view-versus-a-copy\n",
      "  temp_multi['number_filter'] = filter_types\n"
     ]
    },
    {
     "name": "stdout",
     "output_type": "stream",
     "text": [
      "E09000023\n",
      "i= 0  expand time,0.001 filter time0.0 make_dataframe_time 0.002\n"
     ]
    },
    {
     "name": "stderr",
     "output_type": "stream",
     "text": [
      "/tf/empty_homes_london/helper_functions.py:279: SettingWithCopyWarning: \n",
      "A value is trying to be set on a copy of a slice from a DataFrame.\n",
      "Try using .loc[row_indexer,col_indexer] = value instead\n",
      "\n",
      "See the caveats in the documentation: https://pandas.pydata.org/pandas-docs/stable/user_guide/indexing.html#returning-a-view-versus-a-copy\n",
      "  temp_multi['number_filter'] = filter_types\n"
     ]
    },
    {
     "name": "stdout",
     "output_type": "stream",
     "text": [
      "E07000165\n",
      "i= 0  expand time,0.0 filter time0.0 make_dataframe_time 0.002\n"
     ]
    },
    {
     "name": "stderr",
     "output_type": "stream",
     "text": [
      "/tf/empty_homes_london/helper_functions.py:279: SettingWithCopyWarning: \n",
      "A value is trying to be set on a copy of a slice from a DataFrame.\n",
      "Try using .loc[row_indexer,col_indexer] = value instead\n",
      "\n",
      "See the caveats in the documentation: https://pandas.pydata.org/pandas-docs/stable/user_guide/indexing.html#returning-a-view-versus-a-copy\n",
      "  temp_multi['number_filter'] = filter_types\n"
     ]
    },
    {
     "name": "stdout",
     "output_type": "stream",
     "text": [
      "E07000034\n",
      "i= 0  expand time,0.001 filter time0.0 make_dataframe_time 0.002\n"
     ]
    },
    {
     "name": "stderr",
     "output_type": "stream",
     "text": [
      "/tf/empty_homes_london/helper_functions.py:279: SettingWithCopyWarning: \n",
      "A value is trying to be set on a copy of a slice from a DataFrame.\n",
      "Try using .loc[row_indexer,col_indexer] = value instead\n",
      "\n",
      "See the caveats in the documentation: https://pandas.pydata.org/pandas-docs/stable/user_guide/indexing.html#returning-a-view-versus-a-copy\n",
      "  temp_multi['number_filter'] = filter_types\n"
     ]
    },
    {
     "name": "stdout",
     "output_type": "stream",
     "text": [
      "E07000008\n",
      "i= 0  expand time,0.0 filter time0.0 make_dataframe_time 0.001\n"
     ]
    },
    {
     "name": "stderr",
     "output_type": "stream",
     "text": [
      "/tf/empty_homes_london/helper_functions.py:279: SettingWithCopyWarning: \n",
      "A value is trying to be set on a copy of a slice from a DataFrame.\n",
      "Try using .loc[row_indexer,col_indexer] = value instead\n",
      "\n",
      "See the caveats in the documentation: https://pandas.pydata.org/pandas-docs/stable/user_guide/indexing.html#returning-a-view-versus-a-copy\n",
      "  temp_multi['number_filter'] = filter_types\n"
     ]
    },
    {
     "name": "stdout",
     "output_type": "stream",
     "text": [
      "E06000007\n",
      "i= 0  expand time,0.001 filter time0.0 make_dataframe_time 0.002\n"
     ]
    },
    {
     "name": "stderr",
     "output_type": "stream",
     "text": [
      "/tf/empty_homes_london/helper_functions.py:279: SettingWithCopyWarning: \n",
      "A value is trying to be set on a copy of a slice from a DataFrame.\n",
      "Try using .loc[row_indexer,col_indexer] = value instead\n",
      "\n",
      "See the caveats in the documentation: https://pandas.pydata.org/pandas-docs/stable/user_guide/indexing.html#returning-a-view-versus-a-copy\n",
      "  temp_multi['number_filter'] = filter_types\n"
     ]
    },
    {
     "name": "stdout",
     "output_type": "stream",
     "text": [
      "E07000118\n",
      "i= 0  expand time,0.0 filter time0.0 make_dataframe_time 0.001\n"
     ]
    },
    {
     "name": "stderr",
     "output_type": "stream",
     "text": [
      "/tf/empty_homes_london/helper_functions.py:279: SettingWithCopyWarning: \n",
      "A value is trying to be set on a copy of a slice from a DataFrame.\n",
      "Try using .loc[row_indexer,col_indexer] = value instead\n",
      "\n",
      "See the caveats in the documentation: https://pandas.pydata.org/pandas-docs/stable/user_guide/indexing.html#returning-a-view-versus-a-copy\n",
      "  temp_multi['number_filter'] = filter_types\n"
     ]
    },
    {
     "name": "stdout",
     "output_type": "stream",
     "text": [
      "E09000021\n",
      "i= 0  expand time,0.001 filter time0.001 make_dataframe_time 0.002\n"
     ]
    },
    {
     "name": "stderr",
     "output_type": "stream",
     "text": [
      "/tf/empty_homes_london/helper_functions.py:279: SettingWithCopyWarning: \n",
      "A value is trying to be set on a copy of a slice from a DataFrame.\n",
      "Try using .loc[row_indexer,col_indexer] = value instead\n",
      "\n",
      "See the caveats in the documentation: https://pandas.pydata.org/pandas-docs/stable/user_guide/indexing.html#returning-a-view-versus-a-copy\n",
      "  temp_multi['number_filter'] = filter_types\n"
     ]
    },
    {
     "name": "stdout",
     "output_type": "stream",
     "text": [
      "E09000031\n",
      "i= 0  expand time,0.0 filter time0.0 make_dataframe_time 0.001\n"
     ]
    },
    {
     "name": "stderr",
     "output_type": "stream",
     "text": [
      "/tf/empty_homes_london/helper_functions.py:279: SettingWithCopyWarning: \n",
      "A value is trying to be set on a copy of a slice from a DataFrame.\n",
      "Try using .loc[row_indexer,col_indexer] = value instead\n",
      "\n",
      "See the caveats in the documentation: https://pandas.pydata.org/pandas-docs/stable/user_guide/indexing.html#returning-a-view-versus-a-copy\n",
      "  temp_multi['number_filter'] = filter_types\n"
     ]
    },
    {
     "name": "stdout",
     "output_type": "stream",
     "text": [
      "E06000041\n",
      "i= 0  expand time,0.001 filter time0.0 make_dataframe_time 0.001\n"
     ]
    },
    {
     "name": "stderr",
     "output_type": "stream",
     "text": [
      "/tf/empty_homes_london/helper_functions.py:279: SettingWithCopyWarning: \n",
      "A value is trying to be set on a copy of a slice from a DataFrame.\n",
      "Try using .loc[row_indexer,col_indexer] = value instead\n",
      "\n",
      "See the caveats in the documentation: https://pandas.pydata.org/pandas-docs/stable/user_guide/indexing.html#returning-a-view-versus-a-copy\n",
      "  temp_multi['number_filter'] = filter_types\n"
     ]
    },
    {
     "name": "stdout",
     "output_type": "stream",
     "text": [
      "E06000021\n",
      "i= 0  expand time,0.001 filter time0.0 make_dataframe_time 0.001\n"
     ]
    },
    {
     "name": "stderr",
     "output_type": "stream",
     "text": [
      "/tf/empty_homes_london/helper_functions.py:279: SettingWithCopyWarning: \n",
      "A value is trying to be set on a copy of a slice from a DataFrame.\n",
      "Try using .loc[row_indexer,col_indexer] = value instead\n",
      "\n",
      "See the caveats in the documentation: https://pandas.pydata.org/pandas-docs/stable/user_guide/indexing.html#returning-a-view-versus-a-copy\n",
      "  temp_multi['number_filter'] = filter_types\n"
     ]
    },
    {
     "name": "stdout",
     "output_type": "stream",
     "text": [
      "E07000211\n",
      "i= 0  expand time,0.0 filter time0.0 make_dataframe_time 0.001\n"
     ]
    },
    {
     "name": "stderr",
     "output_type": "stream",
     "text": [
      "/tf/empty_homes_london/helper_functions.py:279: SettingWithCopyWarning: \n",
      "A value is trying to be set on a copy of a slice from a DataFrame.\n",
      "Try using .loc[row_indexer,col_indexer] = value instead\n",
      "\n",
      "See the caveats in the documentation: https://pandas.pydata.org/pandas-docs/stable/user_guide/indexing.html#returning-a-view-versus-a-copy\n",
      "  temp_multi['number_filter'] = filter_types\n"
     ]
    },
    {
     "name": "stdout",
     "output_type": "stream",
     "text": [
      "E07000246\n",
      "i= 0  expand time,0.0 filter time0.0 make_dataframe_time 0.001\n"
     ]
    },
    {
     "name": "stderr",
     "output_type": "stream",
     "text": [
      "/tf/empty_homes_london/helper_functions.py:279: SettingWithCopyWarning: \n",
      "A value is trying to be set on a copy of a slice from a DataFrame.\n",
      "Try using .loc[row_indexer,col_indexer] = value instead\n",
      "\n",
      "See the caveats in the documentation: https://pandas.pydata.org/pandas-docs/stable/user_guide/indexing.html#returning-a-view-versus-a-copy\n",
      "  temp_multi['number_filter'] = filter_types\n"
     ]
    },
    {
     "name": "stdout",
     "output_type": "stream",
     "text": [
      "E09000006\n",
      "i= 0  expand time,0.0 filter time0.0 make_dataframe_time 0.002\n"
     ]
    },
    {
     "name": "stderr",
     "output_type": "stream",
     "text": [
      "/tf/empty_homes_london/helper_functions.py:279: SettingWithCopyWarning: \n",
      "A value is trying to be set on a copy of a slice from a DataFrame.\n",
      "Try using .loc[row_indexer,col_indexer] = value instead\n",
      "\n",
      "See the caveats in the documentation: https://pandas.pydata.org/pandas-docs/stable/user_guide/indexing.html#returning-a-view-versus-a-copy\n",
      "  temp_multi['number_filter'] = filter_types\n"
     ]
    },
    {
     "name": "stdout",
     "output_type": "stream",
     "text": [
      "E08000022\n",
      "i= 0  expand time,0.0 filter time0.0 make_dataframe_time 0.002\n"
     ]
    },
    {
     "name": "stderr",
     "output_type": "stream",
     "text": [
      "/tf/empty_homes_london/helper_functions.py:279: SettingWithCopyWarning: \n",
      "A value is trying to be set on a copy of a slice from a DataFrame.\n",
      "Try using .loc[row_indexer,col_indexer] = value instead\n",
      "\n",
      "See the caveats in the documentation: https://pandas.pydata.org/pandas-docs/stable/user_guide/indexing.html#returning-a-view-versus-a-copy\n",
      "  temp_multi['number_filter'] = filter_types\n"
     ]
    },
    {
     "name": "stdout",
     "output_type": "stream",
     "text": [
      "E07000027\n",
      "i= 0  expand time,0.0 filter time0.0 make_dataframe_time 0.001\n"
     ]
    },
    {
     "name": "stderr",
     "output_type": "stream",
     "text": [
      "/tf/empty_homes_london/helper_functions.py:279: SettingWithCopyWarning: \n",
      "A value is trying to be set on a copy of a slice from a DataFrame.\n",
      "Try using .loc[row_indexer,col_indexer] = value instead\n",
      "\n",
      "See the caveats in the documentation: https://pandas.pydata.org/pandas-docs/stable/user_guide/indexing.html#returning-a-view-versus-a-copy\n",
      "  temp_multi['number_filter'] = filter_types\n"
     ]
    },
    {
     "name": "stdout",
     "output_type": "stream",
     "text": [
      "W06000016\n",
      "i= 0  expand time,0.0 filter time0.0 make_dataframe_time 0.002\n"
     ]
    },
    {
     "name": "stderr",
     "output_type": "stream",
     "text": [
      "/tf/empty_homes_london/helper_functions.py:279: SettingWithCopyWarning: \n",
      "A value is trying to be set on a copy of a slice from a DataFrame.\n",
      "Try using .loc[row_indexer,col_indexer] = value instead\n",
      "\n",
      "See the caveats in the documentation: https://pandas.pydata.org/pandas-docs/stable/user_guide/indexing.html#returning-a-view-versus-a-copy\n",
      "  temp_multi['number_filter'] = filter_types\n"
     ]
    },
    {
     "name": "stdout",
     "output_type": "stream",
     "text": [
      "E07000037\n",
      "i= 0  expand time,0.0 filter time0.0 make_dataframe_time 0.002\n"
     ]
    },
    {
     "name": "stderr",
     "output_type": "stream",
     "text": [
      "/tf/empty_homes_london/helper_functions.py:279: SettingWithCopyWarning: \n",
      "A value is trying to be set on a copy of a slice from a DataFrame.\n",
      "Try using .loc[row_indexer,col_indexer] = value instead\n",
      "\n",
      "See the caveats in the documentation: https://pandas.pydata.org/pandas-docs/stable/user_guide/indexing.html#returning-a-view-versus-a-copy\n",
      "  temp_multi['number_filter'] = filter_types\n"
     ]
    },
    {
     "name": "stdout",
     "output_type": "stream",
     "text": [
      "E06000024\n",
      "i= 0  expand time,0.001 filter time0.0 make_dataframe_time 0.001\n"
     ]
    },
    {
     "name": "stderr",
     "output_type": "stream",
     "text": [
      "/tf/empty_homes_london/helper_functions.py:279: SettingWithCopyWarning: \n",
      "A value is trying to be set on a copy of a slice from a DataFrame.\n",
      "Try using .loc[row_indexer,col_indexer] = value instead\n",
      "\n",
      "See the caveats in the documentation: https://pandas.pydata.org/pandas-docs/stable/user_guide/indexing.html#returning-a-view-versus-a-copy\n",
      "  temp_multi['number_filter'] = filter_types\n"
     ]
    },
    {
     "name": "stdout",
     "output_type": "stream",
     "text": [
      "E06000059\n",
      "i= 0  expand time,0.0 filter time0.0 make_dataframe_time 0.002\n"
     ]
    },
    {
     "name": "stderr",
     "output_type": "stream",
     "text": [
      "/tf/empty_homes_london/helper_functions.py:279: SettingWithCopyWarning: \n",
      "A value is trying to be set on a copy of a slice from a DataFrame.\n",
      "Try using .loc[row_indexer,col_indexer] = value instead\n",
      "\n",
      "See the caveats in the documentation: https://pandas.pydata.org/pandas-docs/stable/user_guide/indexing.html#returning-a-view-versus-a-copy\n",
      "  temp_multi['number_filter'] = filter_types\n"
     ]
    },
    {
     "name": "stdout",
     "output_type": "stream",
     "text": [
      "E08000030\n",
      "i= 0  expand time,0.0 filter time0.0 make_dataframe_time 0.002\n"
     ]
    },
    {
     "name": "stderr",
     "output_type": "stream",
     "text": [
      "/tf/empty_homes_london/helper_functions.py:279: SettingWithCopyWarning: \n",
      "A value is trying to be set on a copy of a slice from a DataFrame.\n",
      "Try using .loc[row_indexer,col_indexer] = value instead\n",
      "\n",
      "See the caveats in the documentation: https://pandas.pydata.org/pandas-docs/stable/user_guide/indexing.html#returning-a-view-versus-a-copy\n",
      "  temp_multi['number_filter'] = filter_types\n"
     ]
    },
    {
     "name": "stdout",
     "output_type": "stream",
     "text": [
      "E08000006\n",
      "i= 0  expand time,0.0 filter time0.0 make_dataframe_time 0.002\n"
     ]
    },
    {
     "name": "stderr",
     "output_type": "stream",
     "text": [
      "/tf/empty_homes_london/helper_functions.py:279: SettingWithCopyWarning: \n",
      "A value is trying to be set on a copy of a slice from a DataFrame.\n",
      "Try using .loc[row_indexer,col_indexer] = value instead\n",
      "\n",
      "See the caveats in the documentation: https://pandas.pydata.org/pandas-docs/stable/user_guide/indexing.html#returning-a-view-versus-a-copy\n",
      "  temp_multi['number_filter'] = filter_types\n"
     ]
    },
    {
     "name": "stdout",
     "output_type": "stream",
     "text": [
      "E09000029\n",
      "i= 0  expand time,0.001 filter time0.0 make_dataframe_time 0.001\n"
     ]
    },
    {
     "name": "stderr",
     "output_type": "stream",
     "text": [
      "/tf/empty_homes_london/helper_functions.py:279: SettingWithCopyWarning: \n",
      "A value is trying to be set on a copy of a slice from a DataFrame.\n",
      "Try using .loc[row_indexer,col_indexer] = value instead\n",
      "\n",
      "See the caveats in the documentation: https://pandas.pydata.org/pandas-docs/stable/user_guide/indexing.html#returning-a-view-versus-a-copy\n",
      "  temp_multi['number_filter'] = filter_types\n"
     ]
    },
    {
     "name": "stdout",
     "output_type": "stream",
     "text": [
      "E08000018\n",
      "i= 0  expand time,0.0 filter time0.0 make_dataframe_time 0.001\n"
     ]
    },
    {
     "name": "stderr",
     "output_type": "stream",
     "text": [
      "/tf/empty_homes_london/helper_functions.py:279: SettingWithCopyWarning: \n",
      "A value is trying to be set on a copy of a slice from a DataFrame.\n",
      "Try using .loc[row_indexer,col_indexer] = value instead\n",
      "\n",
      "See the caveats in the documentation: https://pandas.pydata.org/pandas-docs/stable/user_guide/indexing.html#returning-a-view-versus-a-copy\n",
      "  temp_multi['number_filter'] = filter_types\n"
     ]
    },
    {
     "name": "stdout",
     "output_type": "stream",
     "text": [
      "E06000025\n",
      "i= 0  expand time,0.0 filter time0.0 make_dataframe_time 0.001\n"
     ]
    },
    {
     "name": "stderr",
     "output_type": "stream",
     "text": [
      "/tf/empty_homes_london/helper_functions.py:279: SettingWithCopyWarning: \n",
      "A value is trying to be set on a copy of a slice from a DataFrame.\n",
      "Try using .loc[row_indexer,col_indexer] = value instead\n",
      "\n",
      "See the caveats in the documentation: https://pandas.pydata.org/pandas-docs/stable/user_guide/indexing.html#returning-a-view-versus-a-copy\n",
      "  temp_multi['number_filter'] = filter_types\n"
     ]
    },
    {
     "name": "stdout",
     "output_type": "stream",
     "text": [
      "E06000038\n",
      "i= 0  expand time,0.0 filter time0.0 make_dataframe_time 0.001\n"
     ]
    },
    {
     "name": "stderr",
     "output_type": "stream",
     "text": [
      "/tf/empty_homes_london/helper_functions.py:279: SettingWithCopyWarning: \n",
      "A value is trying to be set on a copy of a slice from a DataFrame.\n",
      "Try using .loc[row_indexer,col_indexer] = value instead\n",
      "\n",
      "See the caveats in the documentation: https://pandas.pydata.org/pandas-docs/stable/user_guide/indexing.html#returning-a-view-versus-a-copy\n",
      "  temp_multi['number_filter'] = filter_types\n"
     ]
    },
    {
     "name": "stdout",
     "output_type": "stream",
     "text": [
      "E06000051\n",
      "i= 0  expand time,0.0 filter time0.0 make_dataframe_time 0.001\n"
     ]
    },
    {
     "name": "stderr",
     "output_type": "stream",
     "text": [
      "/tf/empty_homes_london/helper_functions.py:279: SettingWithCopyWarning: \n",
      "A value is trying to be set on a copy of a slice from a DataFrame.\n",
      "Try using .loc[row_indexer,col_indexer] = value instead\n",
      "\n",
      "See the caveats in the documentation: https://pandas.pydata.org/pandas-docs/stable/user_guide/indexing.html#returning-a-view-versus-a-copy\n",
      "  temp_multi['number_filter'] = filter_types\n"
     ]
    },
    {
     "name": "stdout",
     "output_type": "stream",
     "text": [
      "E06000009\n",
      "i= 0  expand time,0.0 filter time0.0 make_dataframe_time 0.001\n"
     ]
    },
    {
     "name": "stderr",
     "output_type": "stream",
     "text": [
      "/tf/empty_homes_london/helper_functions.py:279: SettingWithCopyWarning: \n",
      "A value is trying to be set on a copy of a slice from a DataFrame.\n",
      "Try using .loc[row_indexer,col_indexer] = value instead\n",
      "\n",
      "See the caveats in the documentation: https://pandas.pydata.org/pandas-docs/stable/user_guide/indexing.html#returning-a-view-versus-a-copy\n",
      "  temp_multi['number_filter'] = filter_types\n"
     ]
    },
    {
     "name": "stdout",
     "output_type": "stream",
     "text": [
      "E06000003\n",
      "i= 0  expand time,0.0 filter time0.0 make_dataframe_time 0.001\n"
     ]
    },
    {
     "name": "stderr",
     "output_type": "stream",
     "text": [
      "/tf/empty_homes_london/helper_functions.py:279: SettingWithCopyWarning: \n",
      "A value is trying to be set on a copy of a slice from a DataFrame.\n",
      "Try using .loc[row_indexer,col_indexer] = value instead\n",
      "\n",
      "See the caveats in the documentation: https://pandas.pydata.org/pandas-docs/stable/user_guide/indexing.html#returning-a-view-versus-a-copy\n",
      "  temp_multi['number_filter'] = filter_types\n"
     ]
    },
    {
     "name": "stdout",
     "output_type": "stream",
     "text": [
      "E09000014\n",
      "i= 0  expand time,0.0 filter time0.0 make_dataframe_time 0.001\n"
     ]
    },
    {
     "name": "stderr",
     "output_type": "stream",
     "text": [
      "/tf/empty_homes_london/helper_functions.py:279: SettingWithCopyWarning: \n",
      "A value is trying to be set on a copy of a slice from a DataFrame.\n",
      "Try using .loc[row_indexer,col_indexer] = value instead\n",
      "\n",
      "See the caveats in the documentation: https://pandas.pydata.org/pandas-docs/stable/user_guide/indexing.html#returning-a-view-versus-a-copy\n",
      "  temp_multi['number_filter'] = filter_types\n"
     ]
    },
    {
     "name": "stdout",
     "output_type": "stream",
     "text": [
      "E06000042\n",
      "i= 0  expand time,0.0 filter time0.0 make_dataframe_time 0.001\n"
     ]
    },
    {
     "name": "stderr",
     "output_type": "stream",
     "text": [
      "/tf/empty_homes_london/helper_functions.py:279: SettingWithCopyWarning: \n",
      "A value is trying to be set on a copy of a slice from a DataFrame.\n",
      "Try using .loc[row_indexer,col_indexer] = value instead\n",
      "\n",
      "See the caveats in the documentation: https://pandas.pydata.org/pandas-docs/stable/user_guide/indexing.html#returning-a-view-versus-a-copy\n",
      "  temp_multi['number_filter'] = filter_types\n"
     ]
    },
    {
     "name": "stdout",
     "output_type": "stream",
     "text": [
      "E06000015\n",
      "i= 0  expand time,0.0 filter time0.0 make_dataframe_time 0.002\n"
     ]
    },
    {
     "name": "stderr",
     "output_type": "stream",
     "text": [
      "/tf/empty_homes_london/helper_functions.py:279: SettingWithCopyWarning: \n",
      "A value is trying to be set on a copy of a slice from a DataFrame.\n",
      "Try using .loc[row_indexer,col_indexer] = value instead\n",
      "\n",
      "See the caveats in the documentation: https://pandas.pydata.org/pandas-docs/stable/user_guide/indexing.html#returning-a-view-versus-a-copy\n",
      "  temp_multi['number_filter'] = filter_types\n"
     ]
    },
    {
     "name": "stdout",
     "output_type": "stream",
     "text": [
      "E06000043\n",
      "i= 0  expand time,0.0 filter time0.0 make_dataframe_time 0.002\n"
     ]
    },
    {
     "name": "stderr",
     "output_type": "stream",
     "text": [
      "/tf/empty_homes_london/helper_functions.py:279: SettingWithCopyWarning: \n",
      "A value is trying to be set on a copy of a slice from a DataFrame.\n",
      "Try using .loc[row_indexer,col_indexer] = value instead\n",
      "\n",
      "See the caveats in the documentation: https://pandas.pydata.org/pandas-docs/stable/user_guide/indexing.html#returning-a-view-versus-a-copy\n",
      "  temp_multi['number_filter'] = filter_types\n"
     ]
    },
    {
     "name": "stdout",
     "output_type": "stream",
     "text": [
      "E07000126\n",
      "i= 0  expand time,0.001 filter time0.0 make_dataframe_time 0.001\n"
     ]
    },
    {
     "name": "stderr",
     "output_type": "stream",
     "text": [
      "/tf/empty_homes_london/helper_functions.py:279: SettingWithCopyWarning: \n",
      "A value is trying to be set on a copy of a slice from a DataFrame.\n",
      "Try using .loc[row_indexer,col_indexer] = value instead\n",
      "\n",
      "See the caveats in the documentation: https://pandas.pydata.org/pandas-docs/stable/user_guide/indexing.html#returning-a-view-versus-a-copy\n",
      "  temp_multi['number_filter'] = filter_types\n"
     ]
    },
    {
     "name": "stdout",
     "output_type": "stream",
     "text": [
      "E07000228\n",
      "i= 0  expand time,0.0 filter time0.001 make_dataframe_time 0.002\n"
     ]
    },
    {
     "name": "stderr",
     "output_type": "stream",
     "text": [
      "/tf/empty_homes_london/helper_functions.py:279: SettingWithCopyWarning: \n",
      "A value is trying to be set on a copy of a slice from a DataFrame.\n",
      "Try using .loc[row_indexer,col_indexer] = value instead\n",
      "\n",
      "See the caveats in the documentation: https://pandas.pydata.org/pandas-docs/stable/user_guide/indexing.html#returning-a-view-versus-a-copy\n",
      "  temp_multi['number_filter'] = filter_types\n"
     ]
    },
    {
     "name": "stdout",
     "output_type": "stream",
     "text": [
      "E09000005\n",
      "i= 0  expand time,0.0 filter time0.0 make_dataframe_time 0.001\n"
     ]
    },
    {
     "name": "stderr",
     "output_type": "stream",
     "text": [
      "/tf/empty_homes_london/helper_functions.py:279: SettingWithCopyWarning: \n",
      "A value is trying to be set on a copy of a slice from a DataFrame.\n",
      "Try using .loc[row_indexer,col_indexer] = value instead\n",
      "\n",
      "See the caveats in the documentation: https://pandas.pydata.org/pandas-docs/stable/user_guide/indexing.html#returning-a-view-versus-a-copy\n",
      "  temp_multi['number_filter'] = filter_types\n"
     ]
    },
    {
     "name": "stdout",
     "output_type": "stream",
     "text": [
      "E07000071\n",
      "i= 0  expand time,0.001 filter time0.0 make_dataframe_time 0.001\n"
     ]
    },
    {
     "name": "stderr",
     "output_type": "stream",
     "text": [
      "/tf/empty_homes_london/helper_functions.py:279: SettingWithCopyWarning: \n",
      "A value is trying to be set on a copy of a slice from a DataFrame.\n",
      "Try using .loc[row_indexer,col_indexer] = value instead\n",
      "\n",
      "See the caveats in the documentation: https://pandas.pydata.org/pandas-docs/stable/user_guide/indexing.html#returning-a-view-versus-a-copy\n",
      "  temp_multi['number_filter'] = filter_types\n"
     ]
    },
    {
     "name": "stdout",
     "output_type": "stream",
     "text": [
      "E07000124\n",
      "i= 0  expand time,0.001 filter time0.0 make_dataframe_time 0.001\n"
     ]
    },
    {
     "name": "stderr",
     "output_type": "stream",
     "text": [
      "/tf/empty_homes_london/helper_functions.py:279: SettingWithCopyWarning: \n",
      "A value is trying to be set on a copy of a slice from a DataFrame.\n",
      "Try using .loc[row_indexer,col_indexer] = value instead\n",
      "\n",
      "See the caveats in the documentation: https://pandas.pydata.org/pandas-docs/stable/user_guide/indexing.html#returning-a-view-versus-a-copy\n",
      "  temp_multi['number_filter'] = filter_types\n"
     ]
    },
    {
     "name": "stdout",
     "output_type": "stream",
     "text": [
      "E07000105\n",
      "i= 0  expand time,0.001 filter time0.0 make_dataframe_time 0.001\n"
     ]
    },
    {
     "name": "stderr",
     "output_type": "stream",
     "text": [
      "/tf/empty_homes_london/helper_functions.py:279: SettingWithCopyWarning: \n",
      "A value is trying to be set on a copy of a slice from a DataFrame.\n",
      "Try using .loc[row_indexer,col_indexer] = value instead\n",
      "\n",
      "See the caveats in the documentation: https://pandas.pydata.org/pandas-docs/stable/user_guide/indexing.html#returning-a-view-versus-a-copy\n",
      "  temp_multi['number_filter'] = filter_types\n"
     ]
    },
    {
     "name": "stdout",
     "output_type": "stream",
     "text": [
      "E08000002\n",
      "i= 0  expand time,0.001 filter time0.0 make_dataframe_time 0.002\n"
     ]
    },
    {
     "name": "stderr",
     "output_type": "stream",
     "text": [
      "/tf/empty_homes_london/helper_functions.py:279: SettingWithCopyWarning: \n",
      "A value is trying to be set on a copy of a slice from a DataFrame.\n",
      "Try using .loc[row_indexer,col_indexer] = value instead\n",
      "\n",
      "See the caveats in the documentation: https://pandas.pydata.org/pandas-docs/stable/user_guide/indexing.html#returning-a-view-versus-a-copy\n",
      "  temp_multi['number_filter'] = filter_types\n"
     ]
    },
    {
     "name": "stdout",
     "output_type": "stream",
     "text": [
      "E09000022\n",
      "i= 0  expand time,0.0 filter time0.0 make_dataframe_time 0.001\n"
     ]
    },
    {
     "name": "stderr",
     "output_type": "stream",
     "text": [
      "/tf/empty_homes_london/helper_functions.py:279: SettingWithCopyWarning: \n",
      "A value is trying to be set on a copy of a slice from a DataFrame.\n",
      "Try using .loc[row_indexer,col_indexer] = value instead\n",
      "\n",
      "See the caveats in the documentation: https://pandas.pydata.org/pandas-docs/stable/user_guide/indexing.html#returning-a-view-versus-a-copy\n",
      "  temp_multi['number_filter'] = filter_types\n"
     ]
    },
    {
     "name": "stdout",
     "output_type": "stream",
     "text": [
      "E09000010\n",
      "i= 0  expand time,0.0 filter time0.0 make_dataframe_time 0.001\n"
     ]
    },
    {
     "name": "stderr",
     "output_type": "stream",
     "text": [
      "/tf/empty_homes_london/helper_functions.py:279: SettingWithCopyWarning: \n",
      "A value is trying to be set on a copy of a slice from a DataFrame.\n",
      "Try using .loc[row_indexer,col_indexer] = value instead\n",
      "\n",
      "See the caveats in the documentation: https://pandas.pydata.org/pandas-docs/stable/user_guide/indexing.html#returning-a-view-versus-a-copy\n",
      "  temp_multi['number_filter'] = filter_types\n"
     ]
    },
    {
     "name": "stdout",
     "output_type": "stream",
     "text": [
      "E08000036\n",
      "i= 0  expand time,0.0 filter time0.0 make_dataframe_time 0.002\n"
     ]
    },
    {
     "name": "stderr",
     "output_type": "stream",
     "text": [
      "/tf/empty_homes_london/helper_functions.py:279: SettingWithCopyWarning: \n",
      "A value is trying to be set on a copy of a slice from a DataFrame.\n",
      "Try using .loc[row_indexer,col_indexer] = value instead\n",
      "\n",
      "See the caveats in the documentation: https://pandas.pydata.org/pandas-docs/stable/user_guide/indexing.html#returning-a-view-versus-a-copy\n",
      "  temp_multi['number_filter'] = filter_types\n"
     ]
    },
    {
     "name": "stdout",
     "output_type": "stream",
     "text": [
      "E06000052\n",
      "i= 0  expand time,0.0 filter time0.0 make_dataframe_time 0.001\n"
     ]
    },
    {
     "name": "stderr",
     "output_type": "stream",
     "text": [
      "/tf/empty_homes_london/helper_functions.py:279: SettingWithCopyWarning: \n",
      "A value is trying to be set on a copy of a slice from a DataFrame.\n",
      "Try using .loc[row_indexer,col_indexer] = value instead\n",
      "\n",
      "See the caveats in the documentation: https://pandas.pydata.org/pandas-docs/stable/user_guide/indexing.html#returning-a-view-versus-a-copy\n",
      "  temp_multi['number_filter'] = filter_types\n"
     ]
    },
    {
     "name": "stdout",
     "output_type": "stream",
     "text": [
      "E08000011\n",
      "i= 0  expand time,0.0 filter time0.0 make_dataframe_time 0.001\n",
      "E07000108\n"
     ]
    },
    {
     "name": "stderr",
     "output_type": "stream",
     "text": [
      "/tf/empty_homes_london/helper_functions.py:279: SettingWithCopyWarning: \n",
      "A value is trying to be set on a copy of a slice from a DataFrame.\n",
      "Try using .loc[row_indexer,col_indexer] = value instead\n",
      "\n",
      "See the caveats in the documentation: https://pandas.pydata.org/pandas-docs/stable/user_guide/indexing.html#returning-a-view-versus-a-copy\n",
      "  temp_multi['number_filter'] = filter_types\n",
      "/tf/empty_homes_london/helper_functions.py:279: SettingWithCopyWarning: \n",
      "A value is trying to be set on a copy of a slice from a DataFrame.\n",
      "Try using .loc[row_indexer,col_indexer] = value instead\n",
      "\n",
      "See the caveats in the documentation: https://pandas.pydata.org/pandas-docs/stable/user_guide/indexing.html#returning-a-view-versus-a-copy\n",
      "  temp_multi['number_filter'] = filter_types\n"
     ]
    },
    {
     "name": "stdout",
     "output_type": "stream",
     "text": [
      "i= 0  expand time,0.0 filter time0.0 make_dataframe_time 0.001\n",
      "E07000209\n"
     ]
    },
    {
     "name": "stderr",
     "output_type": "stream",
     "text": [
      "/tf/empty_homes_london/helper_functions.py:279: SettingWithCopyWarning: \n",
      "A value is trying to be set on a copy of a slice from a DataFrame.\n",
      "Try using .loc[row_indexer,col_indexer] = value instead\n",
      "\n",
      "See the caveats in the documentation: https://pandas.pydata.org/pandas-docs/stable/user_guide/indexing.html#returning-a-view-versus-a-copy\n",
      "  temp_multi['number_filter'] = filter_types\n"
     ]
    },
    {
     "name": "stdout",
     "output_type": "stream",
     "text": [
      "i= 0  expand time,0.0 filter time0.0 make_dataframe_time 0.001\n",
      "E07000131\n",
      "i= 0  expand time,0.0 filter time0.0 make_dataframe_time 0.001\n",
      "W06000018\n"
     ]
    },
    {
     "name": "stderr",
     "output_type": "stream",
     "text": [
      "/tf/empty_homes_london/helper_functions.py:279: SettingWithCopyWarning: \n",
      "A value is trying to be set on a copy of a slice from a DataFrame.\n",
      "Try using .loc[row_indexer,col_indexer] = value instead\n",
      "\n",
      "See the caveats in the documentation: https://pandas.pydata.org/pandas-docs/stable/user_guide/indexing.html#returning-a-view-versus-a-copy\n",
      "  temp_multi['number_filter'] = filter_types\n",
      "/tf/empty_homes_london/helper_functions.py:279: SettingWithCopyWarning: \n",
      "A value is trying to be set on a copy of a slice from a DataFrame.\n",
      "Try using .loc[row_indexer,col_indexer] = value instead\n",
      "\n",
      "See the caveats in the documentation: https://pandas.pydata.org/pandas-docs/stable/user_guide/indexing.html#returning-a-view-versus-a-copy\n",
      "  temp_multi['number_filter'] = filter_types\n"
     ]
    },
    {
     "name": "stdout",
     "output_type": "stream",
     "text": [
      "i= 0  expand time,0.0 filter time0.0 make_dataframe_time 0.001\n",
      "W06000015\n"
     ]
    },
    {
     "name": "stderr",
     "output_type": "stream",
     "text": [
      "/tf/empty_homes_london/helper_functions.py:279: SettingWithCopyWarning: \n",
      "A value is trying to be set on a copy of a slice from a DataFrame.\n",
      "Try using .loc[row_indexer,col_indexer] = value instead\n",
      "\n",
      "See the caveats in the documentation: https://pandas.pydata.org/pandas-docs/stable/user_guide/indexing.html#returning-a-view-versus-a-copy\n",
      "  temp_multi['number_filter'] = filter_types\n"
     ]
    },
    {
     "name": "stdout",
     "output_type": "stream",
     "text": [
      "i= 0  expand time,0.0 filter time0.0 make_dataframe_time 0.001\n",
      "E07000077\n",
      "i= 0  expand time,0.0 filter time0.0 make_dataframe_time 0.001\n",
      "E09000009\n"
     ]
    },
    {
     "name": "stderr",
     "output_type": "stream",
     "text": [
      "/tf/empty_homes_london/helper_functions.py:279: SettingWithCopyWarning: \n",
      "A value is trying to be set on a copy of a slice from a DataFrame.\n",
      "Try using .loc[row_indexer,col_indexer] = value instead\n",
      "\n",
      "See the caveats in the documentation: https://pandas.pydata.org/pandas-docs/stable/user_guide/indexing.html#returning-a-view-versus-a-copy\n",
      "  temp_multi['number_filter'] = filter_types\n",
      "/tf/empty_homes_london/helper_functions.py:279: SettingWithCopyWarning: \n",
      "A value is trying to be set on a copy of a slice from a DataFrame.\n",
      "Try using .loc[row_indexer,col_indexer] = value instead\n",
      "\n",
      "See the caveats in the documentation: https://pandas.pydata.org/pandas-docs/stable/user_guide/indexing.html#returning-a-view-versus-a-copy\n",
      "  temp_multi['number_filter'] = filter_types\n"
     ]
    },
    {
     "name": "stdout",
     "output_type": "stream",
     "text": [
      "i= 0  expand time,0.0 filter time0.0 make_dataframe_time 0.001\n",
      "E07000220\n",
      "i= 0  expand time,0.0 filter time0.0 make_dataframe_time 0.001\n"
     ]
    },
    {
     "name": "stderr",
     "output_type": "stream",
     "text": [
      "/tf/empty_homes_london/helper_functions.py:279: SettingWithCopyWarning: \n",
      "A value is trying to be set on a copy of a slice from a DataFrame.\n",
      "Try using .loc[row_indexer,col_indexer] = value instead\n",
      "\n",
      "See the caveats in the documentation: https://pandas.pydata.org/pandas-docs/stable/user_guide/indexing.html#returning-a-view-versus-a-copy\n",
      "  temp_multi['number_filter'] = filter_types\n"
     ]
    },
    {
     "name": "stdout",
     "output_type": "stream",
     "text": [
      "E08000031\n",
      "i= 0  expand time,0.0 filter time0.0 make_dataframe_time 0.001\n"
     ]
    },
    {
     "name": "stderr",
     "output_type": "stream",
     "text": [
      "/tf/empty_homes_london/helper_functions.py:279: SettingWithCopyWarning: \n",
      "A value is trying to be set on a copy of a slice from a DataFrame.\n",
      "Try using .loc[row_indexer,col_indexer] = value instead\n",
      "\n",
      "See the caveats in the documentation: https://pandas.pydata.org/pandas-docs/stable/user_guide/indexing.html#returning-a-view-versus-a-copy\n",
      "  temp_multi['number_filter'] = filter_types\n"
     ]
    },
    {
     "name": "stdout",
     "output_type": "stream",
     "text": [
      "E07000242\n",
      "i= 0  expand time,0.0 filter time0.0 make_dataframe_time 0.001\n"
     ]
    },
    {
     "name": "stderr",
     "output_type": "stream",
     "text": [
      "/tf/empty_homes_london/helper_functions.py:279: SettingWithCopyWarning: \n",
      "A value is trying to be set on a copy of a slice from a DataFrame.\n",
      "Try using .loc[row_indexer,col_indexer] = value instead\n",
      "\n",
      "See the caveats in the documentation: https://pandas.pydata.org/pandas-docs/stable/user_guide/indexing.html#returning-a-view-versus-a-copy\n",
      "  temp_multi['number_filter'] = filter_types\n"
     ]
    },
    {
     "name": "stdout",
     "output_type": "stream",
     "text": [
      "E07000179\n",
      "i= 0  expand time,0.0 filter time0.0 make_dataframe_time 0.001\n"
     ]
    },
    {
     "name": "stderr",
     "output_type": "stream",
     "text": [
      "/tf/empty_homes_london/helper_functions.py:279: SettingWithCopyWarning: \n",
      "A value is trying to be set on a copy of a slice from a DataFrame.\n",
      "Try using .loc[row_indexer,col_indexer] = value instead\n",
      "\n",
      "See the caveats in the documentation: https://pandas.pydata.org/pandas-docs/stable/user_guide/indexing.html#returning-a-view-versus-a-copy\n",
      "  temp_multi['number_filter'] = filter_types\n"
     ]
    },
    {
     "name": "stdout",
     "output_type": "stream",
     "text": [
      "E07000239\n",
      "i= 0  expand time,0.0 filter time0.0 make_dataframe_time 0.001\n"
     ]
    },
    {
     "name": "stderr",
     "output_type": "stream",
     "text": [
      "/tf/empty_homes_london/helper_functions.py:279: SettingWithCopyWarning: \n",
      "A value is trying to be set on a copy of a slice from a DataFrame.\n",
      "Try using .loc[row_indexer,col_indexer] = value instead\n",
      "\n",
      "See the caveats in the documentation: https://pandas.pydata.org/pandas-docs/stable/user_guide/indexing.html#returning-a-view-versus-a-copy\n",
      "  temp_multi['number_filter'] = filter_types\n"
     ]
    },
    {
     "name": "stdout",
     "output_type": "stream",
     "text": [
      "E07000123\n",
      "i= 0  expand time,0.0 filter time0.0 make_dataframe_time 0.001\n"
     ]
    },
    {
     "name": "stderr",
     "output_type": "stream",
     "text": [
      "/tf/empty_homes_london/helper_functions.py:279: SettingWithCopyWarning: \n",
      "A value is trying to be set on a copy of a slice from a DataFrame.\n",
      "Try using .loc[row_indexer,col_indexer] = value instead\n",
      "\n",
      "See the caveats in the documentation: https://pandas.pydata.org/pandas-docs/stable/user_guide/indexing.html#returning-a-view-versus-a-copy\n",
      "  temp_multi['number_filter'] = filter_types\n"
     ]
    },
    {
     "name": "stdout",
     "output_type": "stream",
     "text": [
      "E07000125\n",
      "i= 0  expand time,0.0 filter time0.0 make_dataframe_time 0.001\n"
     ]
    },
    {
     "name": "stderr",
     "output_type": "stream",
     "text": [
      "/tf/empty_homes_london/helper_functions.py:279: SettingWithCopyWarning: \n",
      "A value is trying to be set on a copy of a slice from a DataFrame.\n",
      "Try using .loc[row_indexer,col_indexer] = value instead\n",
      "\n",
      "See the caveats in the documentation: https://pandas.pydata.org/pandas-docs/stable/user_guide/indexing.html#returning-a-view-versus-a-copy\n",
      "  temp_multi['number_filter'] = filter_types\n"
     ]
    },
    {
     "name": "stdout",
     "output_type": "stream",
     "text": [
      "E07000203\n",
      "i= 0  expand time,0.0 filter time0.0 make_dataframe_time 0.001\n",
      "E07000207\n"
     ]
    },
    {
     "name": "stderr",
     "output_type": "stream",
     "text": [
      "/tf/empty_homes_london/helper_functions.py:279: SettingWithCopyWarning: \n",
      "A value is trying to be set on a copy of a slice from a DataFrame.\n",
      "Try using .loc[row_indexer,col_indexer] = value instead\n",
      "\n",
      "See the caveats in the documentation: https://pandas.pydata.org/pandas-docs/stable/user_guide/indexing.html#returning-a-view-versus-a-copy\n",
      "  temp_multi['number_filter'] = filter_types\n",
      "/tf/empty_homes_london/helper_functions.py:279: SettingWithCopyWarning: \n",
      "A value is trying to be set on a copy of a slice from a DataFrame.\n",
      "Try using .loc[row_indexer,col_indexer] = value instead\n",
      "\n",
      "See the caveats in the documentation: https://pandas.pydata.org/pandas-docs/stable/user_guide/indexing.html#returning-a-view-versus-a-copy\n",
      "  temp_multi['number_filter'] = filter_types\n"
     ]
    },
    {
     "name": "stdout",
     "output_type": "stream",
     "text": [
      "i= 0  expand time,0.0 filter time0.0 make_dataframe_time 0.001\n",
      "E08000037\n",
      "i= 0  expand time,0.0 filter time0.0 make_dataframe_time 0.001\n",
      "E08000025\n"
     ]
    },
    {
     "name": "stderr",
     "output_type": "stream",
     "text": [
      "/tf/empty_homes_london/helper_functions.py:279: SettingWithCopyWarning: \n",
      "A value is trying to be set on a copy of a slice from a DataFrame.\n",
      "Try using .loc[row_indexer,col_indexer] = value instead\n",
      "\n",
      "See the caveats in the documentation: https://pandas.pydata.org/pandas-docs/stable/user_guide/indexing.html#returning-a-view-versus-a-copy\n",
      "  temp_multi['number_filter'] = filter_types\n",
      "/tf/empty_homes_london/helper_functions.py:279: SettingWithCopyWarning: \n",
      "A value is trying to be set on a copy of a slice from a DataFrame.\n",
      "Try using .loc[row_indexer,col_indexer] = value instead\n",
      "\n",
      "See the caveats in the documentation: https://pandas.pydata.org/pandas-docs/stable/user_guide/indexing.html#returning-a-view-versus-a-copy\n",
      "  temp_multi['number_filter'] = filter_types\n"
     ]
    },
    {
     "name": "stdout",
     "output_type": "stream",
     "text": [
      "i= 0  expand time,0.0 filter time0.0 make_dataframe_time 0.001\n",
      "E07000216\n",
      "i= 0  expand time,0.0 filter time0.0 make_dataframe_time 0.001\n"
     ]
    },
    {
     "name": "stderr",
     "output_type": "stream",
     "text": [
      "/tf/empty_homes_london/helper_functions.py:279: SettingWithCopyWarning: \n",
      "A value is trying to be set on a copy of a slice from a DataFrame.\n",
      "Try using .loc[row_indexer,col_indexer] = value instead\n",
      "\n",
      "See the caveats in the documentation: https://pandas.pydata.org/pandas-docs/stable/user_guide/indexing.html#returning-a-view-versus-a-copy\n",
      "  temp_multi['number_filter'] = filter_types\n"
     ]
    },
    {
     "name": "stdout",
     "output_type": "stream",
     "text": [
      "E06000054\n",
      "i= 0  expand time,0.0 filter time0.0 make_dataframe_time 0.001\n"
     ]
    },
    {
     "name": "stderr",
     "output_type": "stream",
     "text": [
      "/tf/empty_homes_london/helper_functions.py:279: SettingWithCopyWarning: \n",
      "A value is trying to be set on a copy of a slice from a DataFrame.\n",
      "Try using .loc[row_indexer,col_indexer] = value instead\n",
      "\n",
      "See the caveats in the documentation: https://pandas.pydata.org/pandas-docs/stable/user_guide/indexing.html#returning-a-view-versus-a-copy\n",
      "  temp_multi['number_filter'] = filter_types\n"
     ]
    },
    {
     "name": "stdout",
     "output_type": "stream",
     "text": [
      "E06000055\n",
      "i= 0  expand time,0.0 filter time0.0 make_dataframe_time 0.001\n"
     ]
    },
    {
     "name": "stderr",
     "output_type": "stream",
     "text": [
      "/tf/empty_homes_london/helper_functions.py:279: SettingWithCopyWarning: \n",
      "A value is trying to be set on a copy of a slice from a DataFrame.\n",
      "Try using .loc[row_indexer,col_indexer] = value instead\n",
      "\n",
      "See the caveats in the documentation: https://pandas.pydata.org/pandas-docs/stable/user_guide/indexing.html#returning-a-view-versus-a-copy\n",
      "  temp_multi['number_filter'] = filter_types\n"
     ]
    },
    {
     "name": "stdout",
     "output_type": "stream",
     "text": [
      "E06000056\n",
      "i= 0  expand time,0.0 filter time0.0 make_dataframe_time 0.001\n"
     ]
    },
    {
     "name": "stderr",
     "output_type": "stream",
     "text": [
      "/tf/empty_homes_london/helper_functions.py:279: SettingWithCopyWarning: \n",
      "A value is trying to be set on a copy of a slice from a DataFrame.\n",
      "Try using .loc[row_indexer,col_indexer] = value instead\n",
      "\n",
      "See the caveats in the documentation: https://pandas.pydata.org/pandas-docs/stable/user_guide/indexing.html#returning-a-view-versus-a-copy\n",
      "  temp_multi['number_filter'] = filter_types\n"
     ]
    },
    {
     "name": "stdout",
     "output_type": "stream",
     "text": [
      "W06000012\n",
      "i= 0  expand time,0.0 filter time0.0 make_dataframe_time 0.001\n",
      "E06000005\n"
     ]
    },
    {
     "name": "stderr",
     "output_type": "stream",
     "text": [
      "/tf/empty_homes_london/helper_functions.py:279: SettingWithCopyWarning: \n",
      "A value is trying to be set on a copy of a slice from a DataFrame.\n",
      "Try using .loc[row_indexer,col_indexer] = value instead\n",
      "\n",
      "See the caveats in the documentation: https://pandas.pydata.org/pandas-docs/stable/user_guide/indexing.html#returning-a-view-versus-a-copy\n",
      "  temp_multi['number_filter'] = filter_types\n",
      "/tf/empty_homes_london/helper_functions.py:279: SettingWithCopyWarning: \n",
      "A value is trying to be set on a copy of a slice from a DataFrame.\n",
      "Try using .loc[row_indexer,col_indexer] = value instead\n",
      "\n",
      "See the caveats in the documentation: https://pandas.pydata.org/pandas-docs/stable/user_guide/indexing.html#returning-a-view-versus-a-copy\n",
      "  temp_multi['number_filter'] = filter_types\n"
     ]
    },
    {
     "name": "stdout",
     "output_type": "stream",
     "text": [
      "i= 0  expand time,0.0 filter time0.0 make_dataframe_time 0.001\n",
      "E07000213\n",
      "i= 0  expand time,0.0 filter time0.0 make_dataframe_time 0.001\n"
     ]
    },
    {
     "name": "stderr",
     "output_type": "stream",
     "text": [
      "/tf/empty_homes_london/helper_functions.py:279: SettingWithCopyWarning: \n",
      "A value is trying to be set on a copy of a slice from a DataFrame.\n",
      "Try using .loc[row_indexer,col_indexer] = value instead\n",
      "\n",
      "See the caveats in the documentation: https://pandas.pydata.org/pandas-docs/stable/user_guide/indexing.html#returning-a-view-versus-a-copy\n",
      "  temp_multi['number_filter'] = filter_types\n"
     ]
    },
    {
     "name": "stdout",
     "output_type": "stream",
     "text": [
      "E07000098\n",
      "i= 0  expand time,0.0 filter time0.0 make_dataframe_time 0.001\n"
     ]
    },
    {
     "name": "stderr",
     "output_type": "stream",
     "text": [
      "/tf/empty_homes_london/helper_functions.py:279: SettingWithCopyWarning: \n",
      "A value is trying to be set on a copy of a slice from a DataFrame.\n",
      "Try using .loc[row_indexer,col_indexer] = value instead\n",
      "\n",
      "See the caveats in the documentation: https://pandas.pydata.org/pandas-docs/stable/user_guide/indexing.html#returning-a-view-versus-a-copy\n",
      "  temp_multi['number_filter'] = filter_types\n"
     ]
    },
    {
     "name": "stdout",
     "output_type": "stream",
     "text": [
      "E08000023\n",
      "i= 0  expand time,0.0 filter time0.0 make_dataframe_time 0.001\n",
      "E06000002\n"
     ]
    },
    {
     "name": "stderr",
     "output_type": "stream",
     "text": [
      "/tf/empty_homes_london/helper_functions.py:279: SettingWithCopyWarning: \n",
      "A value is trying to be set on a copy of a slice from a DataFrame.\n",
      "Try using .loc[row_indexer,col_indexer] = value instead\n",
      "\n",
      "See the caveats in the documentation: https://pandas.pydata.org/pandas-docs/stable/user_guide/indexing.html#returning-a-view-versus-a-copy\n",
      "  temp_multi['number_filter'] = filter_types\n",
      "/tf/empty_homes_london/helper_functions.py:279: SettingWithCopyWarning: \n",
      "A value is trying to be set on a copy of a slice from a DataFrame.\n",
      "Try using .loc[row_indexer,col_indexer] = value instead\n",
      "\n",
      "See the caveats in the documentation: https://pandas.pydata.org/pandas-docs/stable/user_guide/indexing.html#returning-a-view-versus-a-copy\n",
      "  temp_multi['number_filter'] = filter_types\n"
     ]
    },
    {
     "name": "stdout",
     "output_type": "stream",
     "text": [
      "i= 0  expand time,0.0 filter time0.0 make_dataframe_time 0.001\n",
      "E06000035\n"
     ]
    },
    {
     "name": "stderr",
     "output_type": "stream",
     "text": [
      "/tf/empty_homes_london/helper_functions.py:279: SettingWithCopyWarning: \n",
      "A value is trying to be set on a copy of a slice from a DataFrame.\n",
      "Try using .loc[row_indexer,col_indexer] = value instead\n",
      "\n",
      "See the caveats in the documentation: https://pandas.pydata.org/pandas-docs/stable/user_guide/indexing.html#returning-a-view-versus-a-copy\n",
      "  temp_multi['number_filter'] = filter_types\n"
     ]
    },
    {
     "name": "stdout",
     "output_type": "stream",
     "text": [
      "i= 0  expand time,0.0 filter time0.0 make_dataframe_time 0.001\n",
      "E07000169\n",
      "i= 0  expand time,0.0 filter time0.0 make_dataframe_time 0.001\n",
      "E07000163\n"
     ]
    },
    {
     "name": "stderr",
     "output_type": "stream",
     "text": [
      "/tf/empty_homes_london/helper_functions.py:279: SettingWithCopyWarning: \n",
      "A value is trying to be set on a copy of a slice from a DataFrame.\n",
      "Try using .loc[row_indexer,col_indexer] = value instead\n",
      "\n",
      "See the caveats in the documentation: https://pandas.pydata.org/pandas-docs/stable/user_guide/indexing.html#returning-a-view-versus-a-copy\n",
      "  temp_multi['number_filter'] = filter_types\n",
      "/tf/empty_homes_london/helper_functions.py:279: SettingWithCopyWarning: \n",
      "A value is trying to be set on a copy of a slice from a DataFrame.\n",
      "Try using .loc[row_indexer,col_indexer] = value instead\n",
      "\n",
      "See the caveats in the documentation: https://pandas.pydata.org/pandas-docs/stable/user_guide/indexing.html#returning-a-view-versus-a-copy\n",
      "  temp_multi['number_filter'] = filter_types\n"
     ]
    },
    {
     "name": "stdout",
     "output_type": "stream",
     "text": [
      "i= 0  expand time,0.0 filter time0.0 make_dataframe_time 0.001\n",
      "E07000244\n",
      "i= 0  expand time,0.0 filter time0.0 make_dataframe_time 0.001\n"
     ]
    },
    {
     "name": "stderr",
     "output_type": "stream",
     "text": [
      "/tf/empty_homes_london/helper_functions.py:279: SettingWithCopyWarning: \n",
      "A value is trying to be set on a copy of a slice from a DataFrame.\n",
      "Try using .loc[row_indexer,col_indexer] = value instead\n",
      "\n",
      "See the caveats in the documentation: https://pandas.pydata.org/pandas-docs/stable/user_guide/indexing.html#returning-a-view-versus-a-copy\n",
      "  temp_multi['number_filter'] = filter_types\n"
     ]
    },
    {
     "name": "stdout",
     "output_type": "stream",
     "text": [
      "E07000208\n",
      "i= 0  expand time,0.0 filter time0.0 make_dataframe_time 0.001\n"
     ]
    },
    {
     "name": "stderr",
     "output_type": "stream",
     "text": [
      "/tf/empty_homes_london/helper_functions.py:279: SettingWithCopyWarning: \n",
      "A value is trying to be set on a copy of a slice from a DataFrame.\n",
      "Try using .loc[row_indexer,col_indexer] = value instead\n",
      "\n",
      "See the caveats in the documentation: https://pandas.pydata.org/pandas-docs/stable/user_guide/indexing.html#returning-a-view-versus-a-copy\n",
      "  temp_multi['number_filter'] = filter_types\n"
     ]
    },
    {
     "name": "stdout",
     "output_type": "stream",
     "text": [
      "W06000022\n",
      "i= 0  expand time,0.0 filter time0.0 make_dataframe_time 0.001\n"
     ]
    },
    {
     "name": "stderr",
     "output_type": "stream",
     "text": [
      "/tf/empty_homes_london/helper_functions.py:279: SettingWithCopyWarning: \n",
      "A value is trying to be set on a copy of a slice from a DataFrame.\n",
      "Try using .loc[row_indexer,col_indexer] = value instead\n",
      "\n",
      "See the caveats in the documentation: https://pandas.pydata.org/pandas-docs/stable/user_guide/indexing.html#returning-a-view-versus-a-copy\n",
      "  temp_multi['number_filter'] = filter_types\n"
     ]
    },
    {
     "name": "stdout",
     "output_type": "stream",
     "text": [
      "E06000026\n",
      "i= 0  expand time,0.001 filter time0.0 make_dataframe_time 0.001\n"
     ]
    },
    {
     "name": "stderr",
     "output_type": "stream",
     "text": [
      "/tf/empty_homes_london/helper_functions.py:279: SettingWithCopyWarning: \n",
      "A value is trying to be set on a copy of a slice from a DataFrame.\n",
      "Try using .loc[row_indexer,col_indexer] = value instead\n",
      "\n",
      "See the caveats in the documentation: https://pandas.pydata.org/pandas-docs/stable/user_guide/indexing.html#returning-a-view-versus-a-copy\n",
      "  temp_multi['number_filter'] = filter_types\n"
     ]
    },
    {
     "name": "stdout",
     "output_type": "stream",
     "text": [
      "E06000008\n",
      "i= 0  expand time,0.0 filter time0.0 make_dataframe_time 0.001\n"
     ]
    },
    {
     "name": "stderr",
     "output_type": "stream",
     "text": [
      "/tf/empty_homes_london/helper_functions.py:279: SettingWithCopyWarning: \n",
      "A value is trying to be set on a copy of a slice from a DataFrame.\n",
      "Try using .loc[row_indexer,col_indexer] = value instead\n",
      "\n",
      "See the caveats in the documentation: https://pandas.pydata.org/pandas-docs/stable/user_guide/indexing.html#returning-a-view-versus-a-copy\n",
      "  temp_multi['number_filter'] = filter_types\n"
     ]
    },
    {
     "name": "stdout",
     "output_type": "stream",
     "text": [
      "E07000094\n",
      "i= 0  expand time,0.0 filter time0.001 make_dataframe_time 0.002\n"
     ]
    },
    {
     "name": "stderr",
     "output_type": "stream",
     "text": [
      "/tf/empty_homes_london/helper_functions.py:279: SettingWithCopyWarning: \n",
      "A value is trying to be set on a copy of a slice from a DataFrame.\n",
      "Try using .loc[row_indexer,col_indexer] = value instead\n",
      "\n",
      "See the caveats in the documentation: https://pandas.pydata.org/pandas-docs/stable/user_guide/indexing.html#returning-a-view-versus-a-copy\n",
      "  temp_multi['number_filter'] = filter_types\n"
     ]
    },
    {
     "name": "stdout",
     "output_type": "stream",
     "text": [
      "E08000026\n",
      "i= 0  expand time,0.0 filter time0.0 make_dataframe_time 0.001\n"
     ]
    },
    {
     "name": "stderr",
     "output_type": "stream",
     "text": [
      "/tf/empty_homes_london/helper_functions.py:279: SettingWithCopyWarning: \n",
      "A value is trying to be set on a copy of a slice from a DataFrame.\n",
      "Try using .loc[row_indexer,col_indexer] = value instead\n",
      "\n",
      "See the caveats in the documentation: https://pandas.pydata.org/pandas-docs/stable/user_guide/indexing.html#returning-a-view-versus-a-copy\n",
      "  temp_multi['number_filter'] = filter_types\n"
     ]
    },
    {
     "name": "stdout",
     "output_type": "stream",
     "text": [
      "E07000091\n",
      "i= 0  expand time,0.001 filter time0.0 make_dataframe_time 0.002\n"
     ]
    },
    {
     "name": "stderr",
     "output_type": "stream",
     "text": [
      "/tf/empty_homes_london/helper_functions.py:279: SettingWithCopyWarning: \n",
      "A value is trying to be set on a copy of a slice from a DataFrame.\n",
      "Try using .loc[row_indexer,col_indexer] = value instead\n",
      "\n",
      "See the caveats in the documentation: https://pandas.pydata.org/pandas-docs/stable/user_guide/indexing.html#returning-a-view-versus-a-copy\n",
      "  temp_multi['number_filter'] = filter_types\n"
     ]
    },
    {
     "name": "stdout",
     "output_type": "stream",
     "text": [
      "E08000016\n",
      "i= 0  expand time,0.0 filter time0.0 make_dataframe_time 0.001\n"
     ]
    },
    {
     "name": "stderr",
     "output_type": "stream",
     "text": [
      "/tf/empty_homes_london/helper_functions.py:279: SettingWithCopyWarning: \n",
      "A value is trying to be set on a copy of a slice from a DataFrame.\n",
      "Try using .loc[row_indexer,col_indexer] = value instead\n",
      "\n",
      "See the caveats in the documentation: https://pandas.pydata.org/pandas-docs/stable/user_guide/indexing.html#returning-a-view-versus-a-copy\n",
      "  temp_multi['number_filter'] = filter_types\n"
     ]
    },
    {
     "name": "stdout",
     "output_type": "stream",
     "text": [
      "E09000027\n",
      "i= 0  expand time,0.0 filter time0.0 make_dataframe_time 0.002\n"
     ]
    },
    {
     "name": "stderr",
     "output_type": "stream",
     "text": [
      "/tf/empty_homes_london/helper_functions.py:279: SettingWithCopyWarning: \n",
      "A value is trying to be set on a copy of a slice from a DataFrame.\n",
      "Try using .loc[row_indexer,col_indexer] = value instead\n",
      "\n",
      "See the caveats in the documentation: https://pandas.pydata.org/pandas-docs/stable/user_guide/indexing.html#returning-a-view-versus-a-copy\n",
      "  temp_multi['number_filter'] = filter_types\n"
     ]
    },
    {
     "name": "stdout",
     "output_type": "stream",
     "text": [
      "E07000180\n",
      "i= 0  expand time,0.0 filter time0.0 make_dataframe_time 0.001\n"
     ]
    },
    {
     "name": "stderr",
     "output_type": "stream",
     "text": [
      "/tf/empty_homes_london/helper_functions.py:279: SettingWithCopyWarning: \n",
      "A value is trying to be set on a copy of a slice from a DataFrame.\n",
      "Try using .loc[row_indexer,col_indexer] = value instead\n",
      "\n",
      "See the caveats in the documentation: https://pandas.pydata.org/pandas-docs/stable/user_guide/indexing.html#returning-a-view-versus-a-copy\n",
      "  temp_multi['number_filter'] = filter_types\n"
     ]
    },
    {
     "name": "stdout",
     "output_type": "stream",
     "text": [
      "E07000189\n",
      "i= 0  expand time,0.001 filter time0.0 make_dataframe_time 0.004\n"
     ]
    },
    {
     "name": "stderr",
     "output_type": "stream",
     "text": [
      "/tf/empty_homes_london/helper_functions.py:279: SettingWithCopyWarning: \n",
      "A value is trying to be set on a copy of a slice from a DataFrame.\n",
      "Try using .loc[row_indexer,col_indexer] = value instead\n",
      "\n",
      "See the caveats in the documentation: https://pandas.pydata.org/pandas-docs/stable/user_guide/indexing.html#returning-a-view-versus-a-copy\n",
      "  temp_multi['number_filter'] = filter_types\n"
     ]
    },
    {
     "name": "stdout",
     "output_type": "stream",
     "text": [
      "E09000026\n",
      "i= 0  expand time,0.001 filter time0.0 make_dataframe_time 0.002\n"
     ]
    },
    {
     "name": "stderr",
     "output_type": "stream",
     "text": [
      "/tf/empty_homes_london/helper_functions.py:279: SettingWithCopyWarning: \n",
      "A value is trying to be set on a copy of a slice from a DataFrame.\n",
      "Try using .loc[row_indexer,col_indexer] = value instead\n",
      "\n",
      "See the caveats in the documentation: https://pandas.pydata.org/pandas-docs/stable/user_guide/indexing.html#returning-a-view-versus-a-copy\n",
      "  temp_multi['number_filter'] = filter_types\n"
     ]
    },
    {
     "name": "stdout",
     "output_type": "stream",
     "text": [
      "E07000115\n",
      "i= 0  expand time,0.0 filter time0.0 make_dataframe_time 0.001\n"
     ]
    },
    {
     "name": "stderr",
     "output_type": "stream",
     "text": [
      "/tf/empty_homes_london/helper_functions.py:279: SettingWithCopyWarning: \n",
      "A value is trying to be set on a copy of a slice from a DataFrame.\n",
      "Try using .loc[row_indexer,col_indexer] = value instead\n",
      "\n",
      "See the caveats in the documentation: https://pandas.pydata.org/pandas-docs/stable/user_guide/indexing.html#returning-a-view-versus-a-copy\n",
      "  temp_multi['number_filter'] = filter_types\n"
     ]
    },
    {
     "name": "stdout",
     "output_type": "stream",
     "text": [
      "E06000006\n",
      "i= 0  expand time,0.0 filter time0.0 make_dataframe_time 0.001\n"
     ]
    },
    {
     "name": "stderr",
     "output_type": "stream",
     "text": [
      "/tf/empty_homes_london/helper_functions.py:279: SettingWithCopyWarning: \n",
      "A value is trying to be set on a copy of a slice from a DataFrame.\n",
      "Try using .loc[row_indexer,col_indexer] = value instead\n",
      "\n",
      "See the caveats in the documentation: https://pandas.pydata.org/pandas-docs/stable/user_guide/indexing.html#returning-a-view-versus-a-copy\n",
      "  temp_multi['number_filter'] = filter_types\n"
     ]
    },
    {
     "name": "stdout",
     "output_type": "stream",
     "text": [
      "E07000065\n",
      "i= 0  expand time,0.0 filter time0.0 make_dataframe_time 0.001\n"
     ]
    },
    {
     "name": "stderr",
     "output_type": "stream",
     "text": [
      "/tf/empty_homes_london/helper_functions.py:279: SettingWithCopyWarning: \n",
      "A value is trying to be set on a copy of a slice from a DataFrame.\n",
      "Try using .loc[row_indexer,col_indexer] = value instead\n",
      "\n",
      "See the caveats in the documentation: https://pandas.pydata.org/pandas-docs/stable/user_guide/indexing.html#returning-a-view-versus-a-copy\n",
      "  temp_multi['number_filter'] = filter_types\n"
     ]
    },
    {
     "name": "stdout",
     "output_type": "stream",
     "text": [
      "E09000024\n",
      "i= 0  expand time,0.0 filter time0.0 make_dataframe_time 0.001\n"
     ]
    },
    {
     "name": "stderr",
     "output_type": "stream",
     "text": [
      "/tf/empty_homes_london/helper_functions.py:279: SettingWithCopyWarning: \n",
      "A value is trying to be set on a copy of a slice from a DataFrame.\n",
      "Try using .loc[row_indexer,col_indexer] = value instead\n",
      "\n",
      "See the caveats in the documentation: https://pandas.pydata.org/pandas-docs/stable/user_guide/indexing.html#returning-a-view-versus-a-copy\n",
      "  temp_multi['number_filter'] = filter_types\n"
     ]
    },
    {
     "name": "stdout",
     "output_type": "stream",
     "text": [
      "E07000113\n",
      "i= 0  expand time,0.0 filter time0.0 make_dataframe_time 0.001\n"
     ]
    },
    {
     "name": "stderr",
     "output_type": "stream",
     "text": [
      "/tf/empty_homes_london/helper_functions.py:279: SettingWithCopyWarning: \n",
      "A value is trying to be set on a copy of a slice from a DataFrame.\n",
      "Try using .loc[row_indexer,col_indexer] = value instead\n",
      "\n",
      "See the caveats in the documentation: https://pandas.pydata.org/pandas-docs/stable/user_guide/indexing.html#returning-a-view-versus-a-copy\n",
      "  temp_multi['number_filter'] = filter_types\n"
     ]
    },
    {
     "name": "stdout",
     "output_type": "stream",
     "text": [
      "E07000128\n",
      "i= 0  expand time,0.0 filter time0.0 make_dataframe_time 0.002\n"
     ]
    },
    {
     "name": "stderr",
     "output_type": "stream",
     "text": [
      "/tf/empty_homes_london/helper_functions.py:279: SettingWithCopyWarning: \n",
      "A value is trying to be set on a copy of a slice from a DataFrame.\n",
      "Try using .loc[row_indexer,col_indexer] = value instead\n",
      "\n",
      "See the caveats in the documentation: https://pandas.pydata.org/pandas-docs/stable/user_guide/indexing.html#returning-a-view-versus-a-copy\n",
      "  temp_multi['number_filter'] = filter_types\n"
     ]
    },
    {
     "name": "stdout",
     "output_type": "stream",
     "text": [
      "E07000226\n",
      "i= 0  expand time,0.0 filter time0.0 make_dataframe_time 0.001\n"
     ]
    },
    {
     "name": "stderr",
     "output_type": "stream",
     "text": [
      "/tf/empty_homes_london/helper_functions.py:279: SettingWithCopyWarning: \n",
      "A value is trying to be set on a copy of a slice from a DataFrame.\n",
      "Try using .loc[row_indexer,col_indexer] = value instead\n",
      "\n",
      "See the caveats in the documentation: https://pandas.pydata.org/pandas-docs/stable/user_guide/indexing.html#returning-a-view-versus-a-copy\n",
      "  temp_multi['number_filter'] = filter_types\n"
     ]
    },
    {
     "name": "stdout",
     "output_type": "stream",
     "text": [
      "E07000102\n",
      "i= 0  expand time,0.001 filter time0.0 make_dataframe_time 0.001\n"
     ]
    },
    {
     "name": "stderr",
     "output_type": "stream",
     "text": [
      "/tf/empty_homes_london/helper_functions.py:279: SettingWithCopyWarning: \n",
      "A value is trying to be set on a copy of a slice from a DataFrame.\n",
      "Try using .loc[row_indexer,col_indexer] = value instead\n",
      "\n",
      "See the caveats in the documentation: https://pandas.pydata.org/pandas-docs/stable/user_guide/indexing.html#returning-a-view-versus-a-copy\n",
      "  temp_multi['number_filter'] = filter_types\n"
     ]
    },
    {
     "name": "stdout",
     "output_type": "stream",
     "text": [
      "E06000014\n",
      "i= 0  expand time,0.001 filter time0.0 make_dataframe_time 0.001\n"
     ]
    },
    {
     "name": "stderr",
     "output_type": "stream",
     "text": [
      "/tf/empty_homes_london/helper_functions.py:279: SettingWithCopyWarning: \n",
      "A value is trying to be set on a copy of a slice from a DataFrame.\n",
      "Try using .loc[row_indexer,col_indexer] = value instead\n",
      "\n",
      "See the caveats in the documentation: https://pandas.pydata.org/pandas-docs/stable/user_guide/indexing.html#returning-a-view-versus-a-copy\n",
      "  temp_multi['number_filter'] = filter_types\n"
     ]
    },
    {
     "name": "stdout",
     "output_type": "stream",
     "text": [
      "E07000031\n",
      "i= 0  expand time,0.0 filter time0.0 make_dataframe_time 0.001\n"
     ]
    },
    {
     "name": "stderr",
     "output_type": "stream",
     "text": [
      "/tf/empty_homes_london/helper_functions.py:279: SettingWithCopyWarning: \n",
      "A value is trying to be set on a copy of a slice from a DataFrame.\n",
      "Try using .loc[row_indexer,col_indexer] = value instead\n",
      "\n",
      "See the caveats in the documentation: https://pandas.pydata.org/pandas-docs/stable/user_guide/indexing.html#returning-a-view-versus-a-copy\n",
      "  temp_multi['number_filter'] = filter_types\n"
     ]
    },
    {
     "name": "stdout",
     "output_type": "stream",
     "text": [
      "E07000193\n",
      "i= 0  expand time,0.001 filter time0.0 make_dataframe_time 0.001\n"
     ]
    },
    {
     "name": "stderr",
     "output_type": "stream",
     "text": [
      "/tf/empty_homes_london/helper_functions.py:279: SettingWithCopyWarning: \n",
      "A value is trying to be set on a copy of a slice from a DataFrame.\n",
      "Try using .loc[row_indexer,col_indexer] = value instead\n",
      "\n",
      "See the caveats in the documentation: https://pandas.pydata.org/pandas-docs/stable/user_guide/indexing.html#returning-a-view-versus-a-copy\n",
      "  temp_multi['number_filter'] = filter_types\n"
     ]
    },
    {
     "name": "stdout",
     "output_type": "stream",
     "text": [
      "E07000187\n",
      "i= 0  expand time,0.001 filter time0.0 make_dataframe_time 0.002\n"
     ]
    },
    {
     "name": "stderr",
     "output_type": "stream",
     "text": [
      "/tf/empty_homes_london/helper_functions.py:279: SettingWithCopyWarning: \n",
      "A value is trying to be set on a copy of a slice from a DataFrame.\n",
      "Try using .loc[row_indexer,col_indexer] = value instead\n",
      "\n",
      "See the caveats in the documentation: https://pandas.pydata.org/pandas-docs/stable/user_guide/indexing.html#returning-a-view-versus-a-copy\n",
      "  temp_multi['number_filter'] = filter_types\n"
     ]
    },
    {
     "name": "stdout",
     "output_type": "stream",
     "text": [
      "E09000004\n",
      "i= 0  expand time,0.001 filter time0.0 make_dataframe_time 0.002\n"
     ]
    },
    {
     "name": "stderr",
     "output_type": "stream",
     "text": [
      "/tf/empty_homes_london/helper_functions.py:279: SettingWithCopyWarning: \n",
      "A value is trying to be set on a copy of a slice from a DataFrame.\n",
      "Try using .loc[row_indexer,col_indexer] = value instead\n",
      "\n",
      "See the caveats in the documentation: https://pandas.pydata.org/pandas-docs/stable/user_guide/indexing.html#returning-a-view-versus-a-copy\n",
      "  temp_multi['number_filter'] = filter_types\n"
     ]
    },
    {
     "name": "stdout",
     "output_type": "stream",
     "text": [
      "E07000224\n",
      "i= 0  expand time,0.0 filter time0.0 make_dataframe_time 0.001\n"
     ]
    },
    {
     "name": "stderr",
     "output_type": "stream",
     "text": [
      "/tf/empty_homes_london/helper_functions.py:279: SettingWithCopyWarning: \n",
      "A value is trying to be set on a copy of a slice from a DataFrame.\n",
      "Try using .loc[row_indexer,col_indexer] = value instead\n",
      "\n",
      "See the caveats in the documentation: https://pandas.pydata.org/pandas-docs/stable/user_guide/indexing.html#returning-a-view-versus-a-copy\n",
      "  temp_multi['number_filter'] = filter_types\n"
     ]
    },
    {
     "name": "stdout",
     "output_type": "stream",
     "text": [
      "E07000093\n",
      "i= 0  expand time,0.0 filter time0.0 make_dataframe_time 0.001\n"
     ]
    },
    {
     "name": "stderr",
     "output_type": "stream",
     "text": [
      "/tf/empty_homes_london/helper_functions.py:279: SettingWithCopyWarning: \n",
      "A value is trying to be set on a copy of a slice from a DataFrame.\n",
      "Try using .loc[row_indexer,col_indexer] = value instead\n",
      "\n",
      "See the caveats in the documentation: https://pandas.pydata.org/pandas-docs/stable/user_guide/indexing.html#returning-a-view-versus-a-copy\n",
      "  temp_multi['number_filter'] = filter_types\n"
     ]
    },
    {
     "name": "stdout",
     "output_type": "stream",
     "text": [
      "E07000079\n",
      "i= 0  expand time,0.0 filter time0.0 make_dataframe_time 0.002\n",
      "E07000096\n"
     ]
    },
    {
     "name": "stderr",
     "output_type": "stream",
     "text": [
      "/tf/empty_homes_london/helper_functions.py:279: SettingWithCopyWarning: \n",
      "A value is trying to be set on a copy of a slice from a DataFrame.\n",
      "Try using .loc[row_indexer,col_indexer] = value instead\n",
      "\n",
      "See the caveats in the documentation: https://pandas.pydata.org/pandas-docs/stable/user_guide/indexing.html#returning-a-view-versus-a-copy\n",
      "  temp_multi['number_filter'] = filter_types\n",
      "/tf/empty_homes_london/helper_functions.py:279: SettingWithCopyWarning: \n",
      "A value is trying to be set on a copy of a slice from a DataFrame.\n",
      "Try using .loc[row_indexer,col_indexer] = value instead\n",
      "\n",
      "See the caveats in the documentation: https://pandas.pydata.org/pandas-docs/stable/user_guide/indexing.html#returning-a-view-versus-a-copy\n",
      "  temp_multi['number_filter'] = filter_types\n"
     ]
    },
    {
     "name": "stdout",
     "output_type": "stream",
     "text": [
      "i= 0  expand time,0.0 filter time0.0 make_dataframe_time 0.001\n",
      "E07000178\n",
      "i= 0  expand time,0.001 filter time0.0 make_dataframe_time 0.001\n"
     ]
    },
    {
     "name": "stderr",
     "output_type": "stream",
     "text": [
      "/tf/empty_homes_london/helper_functions.py:279: SettingWithCopyWarning: \n",
      "A value is trying to be set on a copy of a slice from a DataFrame.\n",
      "Try using .loc[row_indexer,col_indexer] = value instead\n",
      "\n",
      "See the caveats in the documentation: https://pandas.pydata.org/pandas-docs/stable/user_guide/indexing.html#returning-a-view-versus-a-copy\n",
      "  temp_multi['number_filter'] = filter_types\n"
     ]
    },
    {
     "name": "stdout",
     "output_type": "stream",
     "text": [
      "E07000214\n",
      "i= 0  expand time,0.001 filter time0.0 make_dataframe_time 0.001\n"
     ]
    },
    {
     "name": "stderr",
     "output_type": "stream",
     "text": [
      "/tf/empty_homes_london/helper_functions.py:279: SettingWithCopyWarning: \n",
      "A value is trying to be set on a copy of a slice from a DataFrame.\n",
      "Try using .loc[row_indexer,col_indexer] = value instead\n",
      "\n",
      "See the caveats in the documentation: https://pandas.pydata.org/pandas-docs/stable/user_guide/indexing.html#returning-a-view-versus-a-copy\n",
      "  temp_multi['number_filter'] = filter_types\n"
     ]
    },
    {
     "name": "stdout",
     "output_type": "stream",
     "text": [
      "E07000084\n",
      "i= 0  expand time,0.001 filter time0.0 make_dataframe_time 0.002\n"
     ]
    },
    {
     "name": "stderr",
     "output_type": "stream",
     "text": [
      "/tf/empty_homes_london/helper_functions.py:279: SettingWithCopyWarning: \n",
      "A value is trying to be set on a copy of a slice from a DataFrame.\n",
      "Try using .loc[row_indexer,col_indexer] = value instead\n",
      "\n",
      "See the caveats in the documentation: https://pandas.pydata.org/pandas-docs/stable/user_guide/indexing.html#returning-a-view-versus-a-copy\n",
      "  temp_multi['number_filter'] = filter_types\n"
     ]
    },
    {
     "name": "stdout",
     "output_type": "stream",
     "text": [
      "E07000009\n",
      "i= 0  expand time,0.0 filter time0.0 make_dataframe_time 0.001\n",
      "E09000008\n"
     ]
    },
    {
     "name": "stderr",
     "output_type": "stream",
     "text": [
      "/tf/empty_homes_london/helper_functions.py:279: SettingWithCopyWarning: \n",
      "A value is trying to be set on a copy of a slice from a DataFrame.\n",
      "Try using .loc[row_indexer,col_indexer] = value instead\n",
      "\n",
      "See the caveats in the documentation: https://pandas.pydata.org/pandas-docs/stable/user_guide/indexing.html#returning-a-view-versus-a-copy\n",
      "  temp_multi['number_filter'] = filter_types\n",
      "/tf/empty_homes_london/helper_functions.py:279: SettingWithCopyWarning: \n",
      "A value is trying to be set on a copy of a slice from a DataFrame.\n",
      "Try using .loc[row_indexer,col_indexer] = value instead\n",
      "\n",
      "See the caveats in the documentation: https://pandas.pydata.org/pandas-docs/stable/user_guide/indexing.html#returning-a-view-versus-a-copy\n",
      "  temp_multi['number_filter'] = filter_types\n"
     ]
    },
    {
     "name": "stdout",
     "output_type": "stream",
     "text": [
      "i= 0  expand time,0.0 filter time0.0 make_dataframe_time 0.001\n",
      "E06000011\n",
      "i= 0  expand time,0.0 filter time0.0 make_dataframe_time 0.001\n",
      "E08000034\n"
     ]
    },
    {
     "name": "stderr",
     "output_type": "stream",
     "text": [
      "/tf/empty_homes_london/helper_functions.py:279: SettingWithCopyWarning: \n",
      "A value is trying to be set on a copy of a slice from a DataFrame.\n",
      "Try using .loc[row_indexer,col_indexer] = value instead\n",
      "\n",
      "See the caveats in the documentation: https://pandas.pydata.org/pandas-docs/stable/user_guide/indexing.html#returning-a-view-versus-a-copy\n",
      "  temp_multi['number_filter'] = filter_types\n",
      "/tf/empty_homes_london/helper_functions.py:279: SettingWithCopyWarning: \n",
      "A value is trying to be set on a copy of a slice from a DataFrame.\n",
      "Try using .loc[row_indexer,col_indexer] = value instead\n",
      "\n",
      "See the caveats in the documentation: https://pandas.pydata.org/pandas-docs/stable/user_guide/indexing.html#returning-a-view-versus-a-copy\n",
      "  temp_multi['number_filter'] = filter_types\n"
     ]
    },
    {
     "name": "stdout",
     "output_type": "stream",
     "text": [
      "i= 0  expand time,0.0 filter time0.0 make_dataframe_time 0.001\n",
      "E06000040\n"
     ]
    },
    {
     "name": "stderr",
     "output_type": "stream",
     "text": [
      "/tf/empty_homes_london/helper_functions.py:279: SettingWithCopyWarning: \n",
      "A value is trying to be set on a copy of a slice from a DataFrame.\n",
      "Try using .loc[row_indexer,col_indexer] = value instead\n",
      "\n",
      "See the caveats in the documentation: https://pandas.pydata.org/pandas-docs/stable/user_guide/indexing.html#returning-a-view-versus-a-copy\n",
      "  temp_multi['number_filter'] = filter_types\n"
     ]
    },
    {
     "name": "stdout",
     "output_type": "stream",
     "text": [
      "i= 0  expand time,0.0 filter time0.0 make_dataframe_time 0.001\n",
      "E07000081\n",
      "i= 0  expand time,0.0 filter time0.0 make_dataframe_time 0.001\n"
     ]
    },
    {
     "name": "stderr",
     "output_type": "stream",
     "text": [
      "/tf/empty_homes_london/helper_functions.py:279: SettingWithCopyWarning: \n",
      "A value is trying to be set on a copy of a slice from a DataFrame.\n",
      "Try using .loc[row_indexer,col_indexer] = value instead\n",
      "\n",
      "See the caveats in the documentation: https://pandas.pydata.org/pandas-docs/stable/user_guide/indexing.html#returning-a-view-versus-a-copy\n",
      "  temp_multi['number_filter'] = filter_types\n"
     ]
    },
    {
     "name": "stdout",
     "output_type": "stream",
     "text": [
      "E07000221\n",
      "i= 0  expand time,0.0 filter time0.0 make_dataframe_time 0.001\n"
     ]
    },
    {
     "name": "stderr",
     "output_type": "stream",
     "text": [
      "/tf/empty_homes_london/helper_functions.py:279: SettingWithCopyWarning: \n",
      "A value is trying to be set on a copy of a slice from a DataFrame.\n",
      "Try using .loc[row_indexer,col_indexer] = value instead\n",
      "\n",
      "See the caveats in the documentation: https://pandas.pydata.org/pandas-docs/stable/user_guide/indexing.html#returning-a-view-versus-a-copy\n",
      "  temp_multi['number_filter'] = filter_types\n"
     ]
    },
    {
     "name": "stdout",
     "output_type": "stream",
     "text": [
      "W06000013\n",
      "i= 0  expand time,0.0 filter time0.0 make_dataframe_time 0.001\n",
      "E08000029\n"
     ]
    },
    {
     "name": "stderr",
     "output_type": "stream",
     "text": [
      "/tf/empty_homes_london/helper_functions.py:279: SettingWithCopyWarning: \n",
      "A value is trying to be set on a copy of a slice from a DataFrame.\n",
      "Try using .loc[row_indexer,col_indexer] = value instead\n",
      "\n",
      "See the caveats in the documentation: https://pandas.pydata.org/pandas-docs/stable/user_guide/indexing.html#returning-a-view-versus-a-copy\n",
      "  temp_multi['number_filter'] = filter_types\n",
      "/tf/empty_homes_london/helper_functions.py:279: SettingWithCopyWarning: \n",
      "A value is trying to be set on a copy of a slice from a DataFrame.\n",
      "Try using .loc[row_indexer,col_indexer] = value instead\n",
      "\n",
      "See the caveats in the documentation: https://pandas.pydata.org/pandas-docs/stable/user_guide/indexing.html#returning-a-view-versus-a-copy\n",
      "  temp_multi['number_filter'] = filter_types\n"
     ]
    },
    {
     "name": "stdout",
     "output_type": "stream",
     "text": [
      "i= 0  expand time,0.0 filter time0.0 make_dataframe_time 0.001\n",
      "E07000039\n",
      "i= 0  expand time,0.0 filter time0.0 make_dataframe_time 0.001\n",
      "E07000227\n"
     ]
    },
    {
     "name": "stderr",
     "output_type": "stream",
     "text": [
      "/tf/empty_homes_london/helper_functions.py:279: SettingWithCopyWarning: \n",
      "A value is trying to be set on a copy of a slice from a DataFrame.\n",
      "Try using .loc[row_indexer,col_indexer] = value instead\n",
      "\n",
      "See the caveats in the documentation: https://pandas.pydata.org/pandas-docs/stable/user_guide/indexing.html#returning-a-view-versus-a-copy\n",
      "  temp_multi['number_filter'] = filter_types\n",
      "/tf/empty_homes_london/helper_functions.py:279: SettingWithCopyWarning: \n",
      "A value is trying to be set on a copy of a slice from a DataFrame.\n",
      "Try using .loc[row_indexer,col_indexer] = value instead\n",
      "\n",
      "See the caveats in the documentation: https://pandas.pydata.org/pandas-docs/stable/user_guide/indexing.html#returning-a-view-versus-a-copy\n",
      "  temp_multi['number_filter'] = filter_types\n"
     ]
    },
    {
     "name": "stdout",
     "output_type": "stream",
     "text": [
      "i= 0  expand time,0.001 filter time0.0 make_dataframe_time 0.001\n",
      "E07000148\n"
     ]
    },
    {
     "name": "stderr",
     "output_type": "stream",
     "text": [
      "/tf/empty_homes_london/helper_functions.py:279: SettingWithCopyWarning: \n",
      "A value is trying to be set on a copy of a slice from a DataFrame.\n",
      "Try using .loc[row_indexer,col_indexer] = value instead\n",
      "\n",
      "See the caveats in the documentation: https://pandas.pydata.org/pandas-docs/stable/user_guide/indexing.html#returning-a-view-versus-a-copy\n",
      "  temp_multi['number_filter'] = filter_types\n"
     ]
    },
    {
     "name": "stdout",
     "output_type": "stream",
     "text": [
      "i= 0  expand time,0.0 filter time0.0 make_dataframe_time 0.002\n",
      "E07000223\n"
     ]
    },
    {
     "name": "stderr",
     "output_type": "stream",
     "text": [
      "/tf/empty_homes_london/helper_functions.py:279: SettingWithCopyWarning: \n",
      "A value is trying to be set on a copy of a slice from a DataFrame.\n",
      "Try using .loc[row_indexer,col_indexer] = value instead\n",
      "\n",
      "See the caveats in the documentation: https://pandas.pydata.org/pandas-docs/stable/user_guide/indexing.html#returning-a-view-versus-a-copy\n",
      "  temp_multi['number_filter'] = filter_types\n"
     ]
    },
    {
     "name": "stdout",
     "output_type": "stream",
     "text": [
      "i= 0  expand time,0.0 filter time0.0 make_dataframe_time 0.001\n",
      "E07000083\n"
     ]
    },
    {
     "name": "stderr",
     "output_type": "stream",
     "text": [
      "/tf/empty_homes_london/helper_functions.py:279: SettingWithCopyWarning: \n",
      "A value is trying to be set on a copy of a slice from a DataFrame.\n",
      "Try using .loc[row_indexer,col_indexer] = value instead\n",
      "\n",
      "See the caveats in the documentation: https://pandas.pydata.org/pandas-docs/stable/user_guide/indexing.html#returning-a-view-versus-a-copy\n",
      "  temp_multi['number_filter'] = filter_types\n",
      "/tf/empty_homes_london/helper_functions.py:279: SettingWithCopyWarning: \n",
      "A value is trying to be set on a copy of a slice from a DataFrame.\n",
      "Try using .loc[row_indexer,col_indexer] = value instead\n",
      "\n",
      "See the caveats in the documentation: https://pandas.pydata.org/pandas-docs/stable/user_guide/indexing.html#returning-a-view-versus-a-copy\n",
      "  temp_multi['number_filter'] = filter_types\n"
     ]
    },
    {
     "name": "stdout",
     "output_type": "stream",
     "text": [
      "i= 0  expand time,0.0 filter time0.0 make_dataframe_time 0.001\n",
      "E07000142\n",
      "i= 0  expand time,0.0 filter time0.0 make_dataframe_time 0.001\n",
      "E07000237\n"
     ]
    },
    {
     "name": "stderr",
     "output_type": "stream",
     "text": [
      "/tf/empty_homes_london/helper_functions.py:279: SettingWithCopyWarning: \n",
      "A value is trying to be set on a copy of a slice from a DataFrame.\n",
      "Try using .loc[row_indexer,col_indexer] = value instead\n",
      "\n",
      "See the caveats in the documentation: https://pandas.pydata.org/pandas-docs/stable/user_guide/indexing.html#returning-a-view-versus-a-copy\n",
      "  temp_multi['number_filter'] = filter_types\n"
     ]
    },
    {
     "name": "stdout",
     "output_type": "stream",
     "text": [
      "i= 0  expand time,0.0 filter time0.0 make_dataframe_time 0.001\n",
      "E07000114\n",
      "i= 0  expand time,0.0 filter time0.0 make_dataframe_time 0.001\n"
     ]
    },
    {
     "name": "stderr",
     "output_type": "stream",
     "text": [
      "/tf/empty_homes_london/helper_functions.py:279: SettingWithCopyWarning: \n",
      "A value is trying to be set on a copy of a slice from a DataFrame.\n",
      "Try using .loc[row_indexer,col_indexer] = value instead\n",
      "\n",
      "See the caveats in the documentation: https://pandas.pydata.org/pandas-docs/stable/user_guide/indexing.html#returning-a-view-versus-a-copy\n",
      "  temp_multi['number_filter'] = filter_types\n"
     ]
    },
    {
     "name": "stdout",
     "output_type": "stream",
     "text": [
      "E07000171\n",
      "i= 0  expand time,0.0 filter time0.0 make_dataframe_time 0.001\n"
     ]
    },
    {
     "name": "stderr",
     "output_type": "stream",
     "text": [
      "/tf/empty_homes_london/helper_functions.py:279: SettingWithCopyWarning: \n",
      "A value is trying to be set on a copy of a slice from a DataFrame.\n",
      "Try using .loc[row_indexer,col_indexer] = value instead\n",
      "\n",
      "See the caveats in the documentation: https://pandas.pydata.org/pandas-docs/stable/user_guide/indexing.html#returning-a-view-versus-a-copy\n",
      "  temp_multi['number_filter'] = filter_types\n"
     ]
    },
    {
     "name": "stdout",
     "output_type": "stream",
     "text": [
      "E07000173\n",
      "i= 0  expand time,0.0 filter time0.0 make_dataframe_time 0.001\n"
     ]
    },
    {
     "name": "stderr",
     "output_type": "stream",
     "text": [
      "/tf/empty_homes_london/helper_functions.py:279: SettingWithCopyWarning: \n",
      "A value is trying to be set on a copy of a slice from a DataFrame.\n",
      "Try using .loc[row_indexer,col_indexer] = value instead\n",
      "\n",
      "See the caveats in the documentation: https://pandas.pydata.org/pandas-docs/stable/user_guide/indexing.html#returning-a-view-versus-a-copy\n",
      "  temp_multi['number_filter'] = filter_types\n"
     ]
    },
    {
     "name": "stdout",
     "output_type": "stream",
     "text": [
      "E07000109\n",
      "i= 0  expand time,0.0 filter time0.0 make_dataframe_time 0.002\n"
     ]
    },
    {
     "name": "stderr",
     "output_type": "stream",
     "text": [
      "/tf/empty_homes_london/helper_functions.py:279: SettingWithCopyWarning: \n",
      "A value is trying to be set on a copy of a slice from a DataFrame.\n",
      "Try using .loc[row_indexer,col_indexer] = value instead\n",
      "\n",
      "See the caveats in the documentation: https://pandas.pydata.org/pandas-docs/stable/user_guide/indexing.html#returning-a-view-versus-a-copy\n",
      "  temp_multi['number_filter'] = filter_types\n"
     ]
    },
    {
     "name": "stdout",
     "output_type": "stream",
     "text": [
      "E07000076\n",
      "i= 0  expand time,0.0 filter time0.0 make_dataframe_time 0.002\n"
     ]
    },
    {
     "name": "stderr",
     "output_type": "stream",
     "text": [
      "/tf/empty_homes_london/helper_functions.py:279: SettingWithCopyWarning: \n",
      "A value is trying to be set on a copy of a slice from a DataFrame.\n",
      "Try using .loc[row_indexer,col_indexer] = value instead\n",
      "\n",
      "See the caveats in the documentation: https://pandas.pydata.org/pandas-docs/stable/user_guide/indexing.html#returning-a-view-versus-a-copy\n",
      "  temp_multi['number_filter'] = filter_types\n"
     ]
    },
    {
     "name": "stdout",
     "output_type": "stream",
     "text": [
      "E07000234\n",
      "i= 0  expand time,0.0 filter time0.0 make_dataframe_time 0.001\n"
     ]
    },
    {
     "name": "stderr",
     "output_type": "stream",
     "text": [
      "/tf/empty_homes_london/helper_functions.py:279: SettingWithCopyWarning: \n",
      "A value is trying to be set on a copy of a slice from a DataFrame.\n",
      "Try using .loc[row_indexer,col_indexer] = value instead\n",
      "\n",
      "See the caveats in the documentation: https://pandas.pydata.org/pandas-docs/stable/user_guide/indexing.html#returning-a-view-versus-a-copy\n",
      "  temp_multi['number_filter'] = filter_types\n"
     ]
    },
    {
     "name": "stdout",
     "output_type": "stream",
     "text": [
      "W06000010\n",
      "i= 0  expand time,0.0 filter time0.0 make_dataframe_time 0.001\n",
      "E09000002\n"
     ]
    },
    {
     "name": "stderr",
     "output_type": "stream",
     "text": [
      "/tf/empty_homes_london/helper_functions.py:279: SettingWithCopyWarning: \n",
      "A value is trying to be set on a copy of a slice from a DataFrame.\n",
      "Try using .loc[row_indexer,col_indexer] = value instead\n",
      "\n",
      "See the caveats in the documentation: https://pandas.pydata.org/pandas-docs/stable/user_guide/indexing.html#returning-a-view-versus-a-copy\n",
      "  temp_multi['number_filter'] = filter_types\n",
      "/tf/empty_homes_london/helper_functions.py:279: SettingWithCopyWarning: \n",
      "A value is trying to be set on a copy of a slice from a DataFrame.\n",
      "Try using .loc[row_indexer,col_indexer] = value instead\n",
      "\n",
      "See the caveats in the documentation: https://pandas.pydata.org/pandas-docs/stable/user_guide/indexing.html#returning-a-view-versus-a-copy\n",
      "  temp_multi['number_filter'] = filter_types\n"
     ]
    },
    {
     "name": "stdout",
     "output_type": "stream",
     "text": [
      "i= 0  expand time,0.0 filter time0.0 make_dataframe_time 0.001\n",
      "E07000202\n",
      "i= 0  expand time,0.0 filter time0.0 make_dataframe_time 0.001\n"
     ]
    },
    {
     "name": "stderr",
     "output_type": "stream",
     "text": [
      "/tf/empty_homes_london/helper_functions.py:279: SettingWithCopyWarning: \n",
      "A value is trying to be set on a copy of a slice from a DataFrame.\n",
      "Try using .loc[row_indexer,col_indexer] = value instead\n",
      "\n",
      "See the caveats in the documentation: https://pandas.pydata.org/pandas-docs/stable/user_guide/indexing.html#returning-a-view-versus-a-copy\n",
      "  temp_multi['number_filter'] = filter_types\n"
     ]
    },
    {
     "name": "stdout",
     "output_type": "stream",
     "text": [
      "E07000225\n",
      "i= 0  expand time,0.0 filter time0.0 make_dataframe_time 0.001\n"
     ]
    },
    {
     "name": "stderr",
     "output_type": "stream",
     "text": [
      "/tf/empty_homes_london/helper_functions.py:279: SettingWithCopyWarning: \n",
      "A value is trying to be set on a copy of a slice from a DataFrame.\n",
      "Try using .loc[row_indexer,col_indexer] = value instead\n",
      "\n",
      "See the caveats in the documentation: https://pandas.pydata.org/pandas-docs/stable/user_guide/indexing.html#returning-a-view-versus-a-copy\n",
      "  temp_multi['number_filter'] = filter_types\n"
     ]
    },
    {
     "name": "stdout",
     "output_type": "stream",
     "text": [
      "E06000058\n",
      "i= 0  expand time,0.001 filter time0.0 make_dataframe_time 0.001\n"
     ]
    },
    {
     "name": "stderr",
     "output_type": "stream",
     "text": [
      "/tf/empty_homes_london/helper_functions.py:279: SettingWithCopyWarning: \n",
      "A value is trying to be set on a copy of a slice from a DataFrame.\n",
      "Try using .loc[row_indexer,col_indexer] = value instead\n",
      "\n",
      "See the caveats in the documentation: https://pandas.pydata.org/pandas-docs/stable/user_guide/indexing.html#returning-a-view-versus-a-copy\n",
      "  temp_multi['number_filter'] = filter_types\n"
     ]
    },
    {
     "name": "stdout",
     "output_type": "stream",
     "text": [
      "E07000107\n",
      "i= 0  expand time,0.0 filter time0.0 make_dataframe_time 0.001\n"
     ]
    },
    {
     "name": "stderr",
     "output_type": "stream",
     "text": [
      "/tf/empty_homes_london/helper_functions.py:279: SettingWithCopyWarning: \n",
      "A value is trying to be set on a copy of a slice from a DataFrame.\n",
      "Try using .loc[row_indexer,col_indexer] = value instead\n",
      "\n",
      "See the caveats in the documentation: https://pandas.pydata.org/pandas-docs/stable/user_guide/indexing.html#returning-a-view-versus-a-copy\n",
      "  temp_multi['number_filter'] = filter_types\n"
     ]
    },
    {
     "name": "stdout",
     "output_type": "stream",
     "text": [
      "E07000168\n",
      "i= 0  expand time,0.0 filter time0.0 make_dataframe_time 0.001\n"
     ]
    },
    {
     "name": "stderr",
     "output_type": "stream",
     "text": [
      "/tf/empty_homes_london/helper_functions.py:279: SettingWithCopyWarning: \n",
      "A value is trying to be set on a copy of a slice from a DataFrame.\n",
      "Try using .loc[row_indexer,col_indexer] = value instead\n",
      "\n",
      "See the caveats in the documentation: https://pandas.pydata.org/pandas-docs/stable/user_guide/indexing.html#returning-a-view-versus-a-copy\n",
      "  temp_multi['number_filter'] = filter_types\n"
     ]
    },
    {
     "name": "stdout",
     "output_type": "stream",
     "text": [
      "E07000188\n",
      "i= 0  expand time,0.0 filter time0.0 make_dataframe_time 0.0\n",
      "E07000200\n"
     ]
    },
    {
     "name": "stderr",
     "output_type": "stream",
     "text": [
      "/tf/empty_homes_london/helper_functions.py:279: SettingWithCopyWarning: \n",
      "A value is trying to be set on a copy of a slice from a DataFrame.\n",
      "Try using .loc[row_indexer,col_indexer] = value instead\n",
      "\n",
      "See the caveats in the documentation: https://pandas.pydata.org/pandas-docs/stable/user_guide/indexing.html#returning-a-view-versus-a-copy\n",
      "  temp_multi['number_filter'] = filter_types\n",
      "/tf/empty_homes_london/helper_functions.py:279: SettingWithCopyWarning: \n",
      "A value is trying to be set on a copy of a slice from a DataFrame.\n",
      "Try using .loc[row_indexer,col_indexer] = value instead\n",
      "\n",
      "See the caveats in the documentation: https://pandas.pydata.org/pandas-docs/stable/user_guide/indexing.html#returning-a-view-versus-a-copy\n",
      "  temp_multi['number_filter'] = filter_types\n",
      "/tf/empty_homes_london/helper_functions.py:279: SettingWithCopyWarning: \n",
      "A value is trying to be set on a copy of a slice from a DataFrame.\n",
      "Try using .loc[row_indexer,col_indexer] = value instead\n",
      "\n",
      "See the caveats in the documentation: https://pandas.pydata.org/pandas-docs/stable/user_guide/indexing.html#returning-a-view-versus-a-copy\n",
      "  temp_multi['number_filter'] = filter_types\n"
     ]
    },
    {
     "name": "stdout",
     "output_type": "stream",
     "text": [
      "i= 0  expand time,0.001 filter time0.0 make_dataframe_time 0.002\n",
      "E06000020\n",
      "i= 0  expand time,0.0 filter time0.0 make_dataframe_time 0.001\n",
      "E07000199\n",
      "i= 0  expand time,0.0 filter time0.0 make_dataframe_time 0.001\n",
      "E07000197\n"
     ]
    },
    {
     "name": "stderr",
     "output_type": "stream",
     "text": [
      "/tf/empty_homes_london/helper_functions.py:279: SettingWithCopyWarning: \n",
      "A value is trying to be set on a copy of a slice from a DataFrame.\n",
      "Try using .loc[row_indexer,col_indexer] = value instead\n",
      "\n",
      "See the caveats in the documentation: https://pandas.pydata.org/pandas-docs/stable/user_guide/indexing.html#returning-a-view-versus-a-copy\n",
      "  temp_multi['number_filter'] = filter_types\n",
      "/tf/empty_homes_london/helper_functions.py:279: SettingWithCopyWarning: \n",
      "A value is trying to be set on a copy of a slice from a DataFrame.\n",
      "Try using .loc[row_indexer,col_indexer] = value instead\n",
      "\n",
      "See the caveats in the documentation: https://pandas.pydata.org/pandas-docs/stable/user_guide/indexing.html#returning-a-view-versus-a-copy\n",
      "  temp_multi['number_filter'] = filter_types\n"
     ]
    },
    {
     "name": "stdout",
     "output_type": "stream",
     "text": [
      "i= 0  expand time,0.0 filter time0.0 make_dataframe_time 0.001\n",
      "E07000012\n",
      "i= 0  expand time,0.0 filter time0.0 make_dataframe_time 0.002\n"
     ]
    },
    {
     "name": "stderr",
     "output_type": "stream",
     "text": [
      "/tf/empty_homes_london/helper_functions.py:279: SettingWithCopyWarning: \n",
      "A value is trying to be set on a copy of a slice from a DataFrame.\n",
      "Try using .loc[row_indexer,col_indexer] = value instead\n",
      "\n",
      "See the caveats in the documentation: https://pandas.pydata.org/pandas-docs/stable/user_guide/indexing.html#returning-a-view-versus-a-copy\n",
      "  temp_multi['number_filter'] = filter_types\n"
     ]
    },
    {
     "name": "stdout",
     "output_type": "stream",
     "text": [
      "E07000029\n",
      "i= 0  expand time,0.0 filter time0.0 make_dataframe_time 0.001\n",
      "E07000074\n"
     ]
    },
    {
     "name": "stderr",
     "output_type": "stream",
     "text": [
      "/tf/empty_homes_london/helper_functions.py:279: SettingWithCopyWarning: \n",
      "A value is trying to be set on a copy of a slice from a DataFrame.\n",
      "Try using .loc[row_indexer,col_indexer] = value instead\n",
      "\n",
      "See the caveats in the documentation: https://pandas.pydata.org/pandas-docs/stable/user_guide/indexing.html#returning-a-view-versus-a-copy\n",
      "  temp_multi['number_filter'] = filter_types\n",
      "/tf/empty_homes_london/helper_functions.py:279: SettingWithCopyWarning: \n",
      "A value is trying to be set on a copy of a slice from a DataFrame.\n",
      "Try using .loc[row_indexer,col_indexer] = value instead\n",
      "\n",
      "See the caveats in the documentation: https://pandas.pydata.org/pandas-docs/stable/user_guide/indexing.html#returning-a-view-versus-a-copy\n",
      "  temp_multi['number_filter'] = filter_types\n"
     ]
    },
    {
     "name": "stdout",
     "output_type": "stream",
     "text": [
      "i= 0  expand time,0.0 filter time0.0 make_dataframe_time 0.001\n",
      "E06000032\n",
      "i= 0  expand time,0.0 filter time0.0 make_dataframe_time 0.001\n"
     ]
    },
    {
     "name": "stderr",
     "output_type": "stream",
     "text": [
      "/tf/empty_homes_london/helper_functions.py:279: SettingWithCopyWarning: \n",
      "A value is trying to be set on a copy of a slice from a DataFrame.\n",
      "Try using .loc[row_indexer,col_indexer] = value instead\n",
      "\n",
      "See the caveats in the documentation: https://pandas.pydata.org/pandas-docs/stable/user_guide/indexing.html#returning-a-view-versus-a-copy\n",
      "  temp_multi['number_filter'] = filter_types\n"
     ]
    },
    {
     "name": "stdout",
     "output_type": "stream",
     "text": [
      "E07000086\n",
      "i= 0  expand time,0.0 filter time0.0 make_dataframe_time 0.002\n"
     ]
    },
    {
     "name": "stderr",
     "output_type": "stream",
     "text": [
      "/tf/empty_homes_london/helper_functions.py:279: SettingWithCopyWarning: \n",
      "A value is trying to be set on a copy of a slice from a DataFrame.\n",
      "Try using .loc[row_indexer,col_indexer] = value instead\n",
      "\n",
      "See the caveats in the documentation: https://pandas.pydata.org/pandas-docs/stable/user_guide/indexing.html#returning-a-view-versus-a-copy\n",
      "  temp_multi['number_filter'] = filter_types\n"
     ]
    },
    {
     "name": "stdout",
     "output_type": "stream",
     "text": [
      "E07000130\n",
      "i= 0  expand time,0.0 filter time0.0 make_dataframe_time 0.001\n"
     ]
    },
    {
     "name": "stderr",
     "output_type": "stream",
     "text": [
      "/tf/empty_homes_london/helper_functions.py:279: SettingWithCopyWarning: \n",
      "A value is trying to be set on a copy of a slice from a DataFrame.\n",
      "Try using .loc[row_indexer,col_indexer] = value instead\n",
      "\n",
      "See the caveats in the documentation: https://pandas.pydata.org/pandas-docs/stable/user_guide/indexing.html#returning-a-view-versus-a-copy\n",
      "  temp_multi['number_filter'] = filter_types\n"
     ]
    },
    {
     "name": "stdout",
     "output_type": "stream",
     "text": [
      "E06000033\n",
      "i= 0  expand time,0.0 filter time0.0 make_dataframe_time 0.001\n"
     ]
    },
    {
     "name": "stderr",
     "output_type": "stream",
     "text": [
      "/tf/empty_homes_london/helper_functions.py:279: SettingWithCopyWarning: \n",
      "A value is trying to be set on a copy of a slice from a DataFrame.\n",
      "Try using .loc[row_indexer,col_indexer] = value instead\n",
      "\n",
      "See the caveats in the documentation: https://pandas.pydata.org/pandas-docs/stable/user_guide/indexing.html#returning-a-view-versus-a-copy\n",
      "  temp_multi['number_filter'] = filter_types\n"
     ]
    },
    {
     "name": "stdout",
     "output_type": "stream",
     "text": [
      "E07000241\n",
      "i= 0  expand time,0.0 filter time0.0 make_dataframe_time 0.001\n"
     ]
    },
    {
     "name": "stderr",
     "output_type": "stream",
     "text": [
      "/tf/empty_homes_london/helper_functions.py:279: SettingWithCopyWarning: \n",
      "A value is trying to be set on a copy of a slice from a DataFrame.\n",
      "Try using .loc[row_indexer,col_indexer] = value instead\n",
      "\n",
      "See the caveats in the documentation: https://pandas.pydata.org/pandas-docs/stable/user_guide/indexing.html#returning-a-view-versus-a-copy\n",
      "  temp_multi['number_filter'] = filter_types\n"
     ]
    },
    {
     "name": "stdout",
     "output_type": "stream",
     "text": [
      "E07000127\n",
      "i= 0  expand time,0.0 filter time0.0 make_dataframe_time 0.001\n",
      "E07000116\n"
     ]
    },
    {
     "name": "stderr",
     "output_type": "stream",
     "text": [
      "/tf/empty_homes_london/helper_functions.py:279: SettingWithCopyWarning: \n",
      "A value is trying to be set on a copy of a slice from a DataFrame.\n",
      "Try using .loc[row_indexer,col_indexer] = value instead\n",
      "\n",
      "See the caveats in the documentation: https://pandas.pydata.org/pandas-docs/stable/user_guide/indexing.html#returning-a-view-versus-a-copy\n",
      "  temp_multi['number_filter'] = filter_types\n",
      "/tf/empty_homes_london/helper_functions.py:279: SettingWithCopyWarning: \n",
      "A value is trying to be set on a copy of a slice from a DataFrame.\n",
      "Try using .loc[row_indexer,col_indexer] = value instead\n",
      "\n",
      "See the caveats in the documentation: https://pandas.pydata.org/pandas-docs/stable/user_guide/indexing.html#returning-a-view-versus-a-copy\n",
      "  temp_multi['number_filter'] = filter_types\n"
     ]
    },
    {
     "name": "stdout",
     "output_type": "stream",
     "text": [
      "i= 0  expand time,0.0 filter time0.0 make_dataframe_time 0.001\n",
      "E06000046\n",
      "i= 0  expand time,0.001 filter time0.0 make_dataframe_time 0.002\n"
     ]
    },
    {
     "name": "stderr",
     "output_type": "stream",
     "text": [
      "/tf/empty_homes_london/helper_functions.py:279: SettingWithCopyWarning: \n",
      "A value is trying to be set on a copy of a slice from a DataFrame.\n",
      "Try using .loc[row_indexer,col_indexer] = value instead\n",
      "\n",
      "See the caveats in the documentation: https://pandas.pydata.org/pandas-docs/stable/user_guide/indexing.html#returning-a-view-versus-a-copy\n",
      "  temp_multi['number_filter'] = filter_types\n"
     ]
    },
    {
     "name": "stdout",
     "output_type": "stream",
     "text": [
      "E07000078\n",
      "i= 0  expand time,0.0 filter time0.0 make_dataframe_time 0.001\n"
     ]
    },
    {
     "name": "stderr",
     "output_type": "stream",
     "text": [
      "/tf/empty_homes_london/helper_functions.py:279: SettingWithCopyWarning: \n",
      "A value is trying to be set on a copy of a slice from a DataFrame.\n",
      "Try using .loc[row_indexer,col_indexer] = value instead\n",
      "\n",
      "See the caveats in the documentation: https://pandas.pydata.org/pandas-docs/stable/user_guide/indexing.html#returning-a-view-versus-a-copy\n",
      "  temp_multi['number_filter'] = filter_types\n"
     ]
    },
    {
     "name": "stdout",
     "output_type": "stream",
     "text": [
      "E08000027\n",
      "i= 0  expand time,0.0 filter time0.0 make_dataframe_time 0.001\n"
     ]
    },
    {
     "name": "stderr",
     "output_type": "stream",
     "text": [
      "/tf/empty_homes_london/helper_functions.py:279: SettingWithCopyWarning: \n",
      "A value is trying to be set on a copy of a slice from a DataFrame.\n",
      "Try using .loc[row_indexer,col_indexer] = value instead\n",
      "\n",
      "See the caveats in the documentation: https://pandas.pydata.org/pandas-docs/stable/user_guide/indexing.html#returning-a-view-versus-a-copy\n",
      "  temp_multi['number_filter'] = filter_types\n"
     ]
    },
    {
     "name": "stdout",
     "output_type": "stream",
     "text": [
      "E07000145\n",
      "i= 0  expand time,0.001 filter time0.0 make_dataframe_time 0.001\n",
      "E06000019\n"
     ]
    },
    {
     "name": "stderr",
     "output_type": "stream",
     "text": [
      "/tf/empty_homes_london/helper_functions.py:279: SettingWithCopyWarning: \n",
      "A value is trying to be set on a copy of a slice from a DataFrame.\n",
      "Try using .loc[row_indexer,col_indexer] = value instead\n",
      "\n",
      "See the caveats in the documentation: https://pandas.pydata.org/pandas-docs/stable/user_guide/indexing.html#returning-a-view-versus-a-copy\n",
      "  temp_multi['number_filter'] = filter_types\n",
      "/tf/empty_homes_london/helper_functions.py:279: SettingWithCopyWarning: \n",
      "A value is trying to be set on a copy of a slice from a DataFrame.\n",
      "Try using .loc[row_indexer,col_indexer] = value instead\n",
      "\n",
      "See the caveats in the documentation: https://pandas.pydata.org/pandas-docs/stable/user_guide/indexing.html#returning-a-view-versus-a-copy\n",
      "  temp_multi['number_filter'] = filter_types\n"
     ]
    },
    {
     "name": "stdout",
     "output_type": "stream",
     "text": [
      "i= 0  expand time,0.0 filter time0.0 make_dataframe_time 0.001\n",
      "E07000164\n",
      "i= 0  expand time,0.0 filter time0.0 make_dataframe_time 0.001\n",
      "E07000212\n"
     ]
    },
    {
     "name": "stderr",
     "output_type": "stream",
     "text": [
      "/tf/empty_homes_london/helper_functions.py:279: SettingWithCopyWarning: \n",
      "A value is trying to be set on a copy of a slice from a DataFrame.\n",
      "Try using .loc[row_indexer,col_indexer] = value instead\n",
      "\n",
      "See the caveats in the documentation: https://pandas.pydata.org/pandas-docs/stable/user_guide/indexing.html#returning-a-view-versus-a-copy\n",
      "  temp_multi['number_filter'] = filter_types\n",
      "/tf/empty_homes_london/helper_functions.py:279: SettingWithCopyWarning: \n",
      "A value is trying to be set on a copy of a slice from a DataFrame.\n",
      "Try using .loc[row_indexer,col_indexer] = value instead\n",
      "\n",
      "See the caveats in the documentation: https://pandas.pydata.org/pandas-docs/stable/user_guide/indexing.html#returning-a-view-versus-a-copy\n",
      "  temp_multi['number_filter'] = filter_types\n"
     ]
    },
    {
     "name": "stdout",
     "output_type": "stream",
     "text": [
      "i= 0  expand time,0.001 filter time0.0 make_dataframe_time 0.001\n",
      "W06000024\n"
     ]
    },
    {
     "name": "stderr",
     "output_type": "stream",
     "text": [
      "/tf/empty_homes_london/helper_functions.py:279: SettingWithCopyWarning: \n",
      "A value is trying to be set on a copy of a slice from a DataFrame.\n",
      "Try using .loc[row_indexer,col_indexer] = value instead\n",
      "\n",
      "See the caveats in the documentation: https://pandas.pydata.org/pandas-docs/stable/user_guide/indexing.html#returning-a-view-versus-a-copy\n",
      "  temp_multi['number_filter'] = filter_types\n",
      "/tf/empty_homes_london/helper_functions.py:279: SettingWithCopyWarning: \n",
      "A value is trying to be set on a copy of a slice from a DataFrame.\n",
      "Try using .loc[row_indexer,col_indexer] = value instead\n",
      "\n",
      "See the caveats in the documentation: https://pandas.pydata.org/pandas-docs/stable/user_guide/indexing.html#returning-a-view-versus-a-copy\n",
      "  temp_multi['number_filter'] = filter_types\n"
     ]
    },
    {
     "name": "stdout",
     "output_type": "stream",
     "text": [
      "i= 0  expand time,0.0 filter time0.0 make_dataframe_time 0.002\n",
      "W06000001\n",
      "i= 0  expand time,0.0 filter time0.0 make_dataframe_time 0.001\n",
      "E07000072\n"
     ]
    },
    {
     "name": "stderr",
     "output_type": "stream",
     "text": [
      "/tf/empty_homes_london/helper_functions.py:279: SettingWithCopyWarning: \n",
      "A value is trying to be set on a copy of a slice from a DataFrame.\n",
      "Try using .loc[row_indexer,col_indexer] = value instead\n",
      "\n",
      "See the caveats in the documentation: https://pandas.pydata.org/pandas-docs/stable/user_guide/indexing.html#returning-a-view-versus-a-copy\n",
      "  temp_multi['number_filter'] = filter_types\n"
     ]
    },
    {
     "name": "stdout",
     "output_type": "stream",
     "text": [
      "i= 0  expand time,0.001 filter time0.001 make_dataframe_time 0.003\n",
      "E07000147\n",
      "i= 0  expand time,0.001 filter time0.001 make_dataframe_time 0.003\n"
     ]
    },
    {
     "name": "stderr",
     "output_type": "stream",
     "text": [
      "/tf/empty_homes_london/helper_functions.py:279: SettingWithCopyWarning: \n",
      "A value is trying to be set on a copy of a slice from a DataFrame.\n",
      "Try using .loc[row_indexer,col_indexer] = value instead\n",
      "\n",
      "See the caveats in the documentation: https://pandas.pydata.org/pandas-docs/stable/user_guide/indexing.html#returning-a-view-versus-a-copy\n",
      "  temp_multi['number_filter'] = filter_types\n"
     ]
    },
    {
     "name": "stdout",
     "output_type": "stream",
     "text": [
      "E07000240\n",
      "i= 0  expand time,0.0 filter time0.0 make_dataframe_time 0.001\n"
     ]
    },
    {
     "name": "stderr",
     "output_type": "stream",
     "text": [
      "/tf/empty_homes_london/helper_functions.py:279: SettingWithCopyWarning: \n",
      "A value is trying to be set on a copy of a slice from a DataFrame.\n",
      "Try using .loc[row_indexer,col_indexer] = value instead\n",
      "\n",
      "See the caveats in the documentation: https://pandas.pydata.org/pandas-docs/stable/user_guide/indexing.html#returning-a-view-versus-a-copy\n",
      "  temp_multi['number_filter'] = filter_types\n"
     ]
    },
    {
     "name": "stdout",
     "output_type": "stream",
     "text": [
      "E06000022\n",
      "i= 0  expand time,0.0 filter time0.0 make_dataframe_time 0.001\n"
     ]
    },
    {
     "name": "stderr",
     "output_type": "stream",
     "text": [
      "/tf/empty_homes_london/helper_functions.py:279: SettingWithCopyWarning: \n",
      "A value is trying to be set on a copy of a slice from a DataFrame.\n",
      "Try using .loc[row_indexer,col_indexer] = value instead\n",
      "\n",
      "See the caveats in the documentation: https://pandas.pydata.org/pandas-docs/stable/user_guide/indexing.html#returning-a-view-versus-a-copy\n",
      "  temp_multi['number_filter'] = filter_types\n"
     ]
    },
    {
     "name": "stdout",
     "output_type": "stream",
     "text": [
      "E07000194\n",
      "i= 0  expand time,0.0 filter time0.0 make_dataframe_time 0.001\n",
      "E07000210\n"
     ]
    },
    {
     "name": "stderr",
     "output_type": "stream",
     "text": [
      "/tf/empty_homes_london/helper_functions.py:279: SettingWithCopyWarning: \n",
      "A value is trying to be set on a copy of a slice from a DataFrame.\n",
      "Try using .loc[row_indexer,col_indexer] = value instead\n",
      "\n",
      "See the caveats in the documentation: https://pandas.pydata.org/pandas-docs/stable/user_guide/indexing.html#returning-a-view-versus-a-copy\n",
      "  temp_multi['number_filter'] = filter_types\n",
      "/tf/empty_homes_london/helper_functions.py:279: SettingWithCopyWarning: \n",
      "A value is trying to be set on a copy of a slice from a DataFrame.\n",
      "Try using .loc[row_indexer,col_indexer] = value instead\n",
      "\n",
      "See the caveats in the documentation: https://pandas.pydata.org/pandas-docs/stable/user_guide/indexing.html#returning-a-view-versus-a-copy\n",
      "  temp_multi['number_filter'] = filter_types\n"
     ]
    },
    {
     "name": "stdout",
     "output_type": "stream",
     "text": [
      "i= 0  expand time,0.0 filter time0.0 make_dataframe_time 0.001\n",
      "E07000137\n"
     ]
    },
    {
     "name": "stderr",
     "output_type": "stream",
     "text": [
      "/tf/empty_homes_london/helper_functions.py:279: SettingWithCopyWarning: \n",
      "A value is trying to be set on a copy of a slice from a DataFrame.\n",
      "Try using .loc[row_indexer,col_indexer] = value instead\n",
      "\n",
      "See the caveats in the documentation: https://pandas.pydata.org/pandas-docs/stable/user_guide/indexing.html#returning-a-view-versus-a-copy\n",
      "  temp_multi['number_filter'] = filter_types\n"
     ]
    },
    {
     "name": "stdout",
     "output_type": "stream",
     "text": [
      "i= 0  expand time,0.0 filter time0.0 make_dataframe_time 0.001\n",
      "W06000005\n"
     ]
    },
    {
     "name": "stderr",
     "output_type": "stream",
     "text": [
      "/tf/empty_homes_london/helper_functions.py:279: SettingWithCopyWarning: \n",
      "A value is trying to be set on a copy of a slice from a DataFrame.\n",
      "Try using .loc[row_indexer,col_indexer] = value instead\n",
      "\n",
      "See the caveats in the documentation: https://pandas.pydata.org/pandas-docs/stable/user_guide/indexing.html#returning-a-view-versus-a-copy\n",
      "  temp_multi['number_filter'] = filter_types\n",
      "/tf/empty_homes_london/helper_functions.py:279: SettingWithCopyWarning: \n",
      "A value is trying to be set on a copy of a slice from a DataFrame.\n",
      "Try using .loc[row_indexer,col_indexer] = value instead\n",
      "\n",
      "See the caveats in the documentation: https://pandas.pydata.org/pandas-docs/stable/user_guide/indexing.html#returning-a-view-versus-a-copy\n",
      "  temp_multi['number_filter'] = filter_types\n"
     ]
    },
    {
     "name": "stdout",
     "output_type": "stream",
     "text": [
      "i= 0  expand time,0.0 filter time0.0 make_dataframe_time 0.001\n",
      "E07000175\n",
      "i= 0  expand time,0.0 filter time0.0 make_dataframe_time 0.001\n",
      "W06000009\n",
      "i= 0  expand time,0.0 filter time0.0 make_dataframe_time 0.001\n",
      "E07000222\n"
     ]
    },
    {
     "name": "stderr",
     "output_type": "stream",
     "text": [
      "/tf/empty_homes_london/helper_functions.py:279: SettingWithCopyWarning: \n",
      "A value is trying to be set on a copy of a slice from a DataFrame.\n",
      "Try using .loc[row_indexer,col_indexer] = value instead\n",
      "\n",
      "See the caveats in the documentation: https://pandas.pydata.org/pandas-docs/stable/user_guide/indexing.html#returning-a-view-versus-a-copy\n",
      "  temp_multi['number_filter'] = filter_types\n",
      "/tf/empty_homes_london/helper_functions.py:279: SettingWithCopyWarning: \n",
      "A value is trying to be set on a copy of a slice from a DataFrame.\n",
      "Try using .loc[row_indexer,col_indexer] = value instead\n",
      "\n",
      "See the caveats in the documentation: https://pandas.pydata.org/pandas-docs/stable/user_guide/indexing.html#returning-a-view-versus-a-copy\n",
      "  temp_multi['number_filter'] = filter_types\n"
     ]
    },
    {
     "name": "stdout",
     "output_type": "stream",
     "text": [
      "i= 0  expand time,0.0 filter time0.0 make_dataframe_time 0.001\n",
      "E07000236\n"
     ]
    },
    {
     "name": "stderr",
     "output_type": "stream",
     "text": [
      "/tf/empty_homes_london/helper_functions.py:279: SettingWithCopyWarning: \n",
      "A value is trying to be set on a copy of a slice from a DataFrame.\n",
      "Try using .loc[row_indexer,col_indexer] = value instead\n",
      "\n",
      "See the caveats in the documentation: https://pandas.pydata.org/pandas-docs/stable/user_guide/indexing.html#returning-a-view-versus-a-copy\n",
      "  temp_multi['number_filter'] = filter_types\n",
      "/tf/empty_homes_london/helper_functions.py:279: SettingWithCopyWarning: \n",
      "A value is trying to be set on a copy of a slice from a DataFrame.\n",
      "Try using .loc[row_indexer,col_indexer] = value instead\n",
      "\n",
      "See the caveats in the documentation: https://pandas.pydata.org/pandas-docs/stable/user_guide/indexing.html#returning-a-view-versus-a-copy\n",
      "  temp_multi['number_filter'] = filter_types\n"
     ]
    },
    {
     "name": "stdout",
     "output_type": "stream",
     "text": [
      "i= 0  expand time,0.0 filter time0.0 make_dataframe_time 0.001\n",
      "W06000021\n",
      "i= 0  expand time,0.0 filter time0.0 make_dataframe_time 0.001\n",
      "E07000026\n"
     ]
    },
    {
     "name": "stderr",
     "output_type": "stream",
     "text": [
      "/tf/empty_homes_london/helper_functions.py:279: SettingWithCopyWarning: \n",
      "A value is trying to be set on a copy of a slice from a DataFrame.\n",
      "Try using .loc[row_indexer,col_indexer] = value instead\n",
      "\n",
      "See the caveats in the documentation: https://pandas.pydata.org/pandas-docs/stable/user_guide/indexing.html#returning-a-view-versus-a-copy\n",
      "  temp_multi['number_filter'] = filter_types\n",
      "/tf/empty_homes_london/helper_functions.py:279: SettingWithCopyWarning: \n",
      "A value is trying to be set on a copy of a slice from a DataFrame.\n",
      "Try using .loc[row_indexer,col_indexer] = value instead\n",
      "\n",
      "See the caveats in the documentation: https://pandas.pydata.org/pandas-docs/stable/user_guide/indexing.html#returning-a-view-versus-a-copy\n",
      "  temp_multi['number_filter'] = filter_types\n"
     ]
    },
    {
     "name": "stdout",
     "output_type": "stream",
     "text": [
      "i= 0  expand time,0.0 filter time0.0 make_dataframe_time 0.001\n",
      "E07000099\n",
      "i= 0  expand time,0.0 filter time0.0 make_dataframe_time 0.001\n",
      "E07000218\n",
      "i= 0  expand time,0.0 filter time0.0 make_dataframe_time 0.001\n"
     ]
    },
    {
     "name": "stderr",
     "output_type": "stream",
     "text": [
      "/tf/empty_homes_london/helper_functions.py:279: SettingWithCopyWarning: \n",
      "A value is trying to be set on a copy of a slice from a DataFrame.\n",
      "Try using .loc[row_indexer,col_indexer] = value instead\n",
      "\n",
      "See the caveats in the documentation: https://pandas.pydata.org/pandas-docs/stable/user_guide/indexing.html#returning-a-view-versus-a-copy\n",
      "  temp_multi['number_filter'] = filter_types\n"
     ]
    },
    {
     "name": "stdout",
     "output_type": "stream",
     "text": [
      "E07000143\n",
      "i= 0  expand time,0.001 filter time0.0 make_dataframe_time 0.002\n"
     ]
    },
    {
     "name": "stderr",
     "output_type": "stream",
     "text": [
      "/tf/empty_homes_london/helper_functions.py:279: SettingWithCopyWarning: \n",
      "A value is trying to be set on a copy of a slice from a DataFrame.\n",
      "Try using .loc[row_indexer,col_indexer] = value instead\n",
      "\n",
      "See the caveats in the documentation: https://pandas.pydata.org/pandas-docs/stable/user_guide/indexing.html#returning-a-view-versus-a-copy\n",
      "  temp_multi['number_filter'] = filter_types\n"
     ]
    },
    {
     "name": "stdout",
     "output_type": "stream",
     "text": [
      "E07000064\n",
      "i= 0  expand time,0.001 filter time0.0 make_dataframe_time 0.001\n"
     ]
    },
    {
     "name": "stderr",
     "output_type": "stream",
     "text": [
      "/tf/empty_homes_london/helper_functions.py:279: SettingWithCopyWarning: \n",
      "A value is trying to be set on a copy of a slice from a DataFrame.\n",
      "Try using .loc[row_indexer,col_indexer] = value instead\n",
      "\n",
      "See the caveats in the documentation: https://pandas.pydata.org/pandas-docs/stable/user_guide/indexing.html#returning-a-view-versus-a-copy\n",
      "  temp_multi['number_filter'] = filter_types\n"
     ]
    },
    {
     "name": "stdout",
     "output_type": "stream",
     "text": [
      "E07000170\n",
      "i= 0  expand time,0.0 filter time0.0 make_dataframe_time 0.001\n"
     ]
    },
    {
     "name": "stderr",
     "output_type": "stream",
     "text": [
      "/tf/empty_homes_london/helper_functions.py:279: SettingWithCopyWarning: \n",
      "A value is trying to be set on a copy of a slice from a DataFrame.\n",
      "Try using .loc[row_indexer,col_indexer] = value instead\n",
      "\n",
      "See the caveats in the documentation: https://pandas.pydata.org/pandas-docs/stable/user_guide/indexing.html#returning-a-view-versus-a-copy\n",
      "  temp_multi['number_filter'] = filter_types\n"
     ]
    },
    {
     "name": "stdout",
     "output_type": "stream",
     "text": [
      "E07000010\n",
      "i= 0  expand time,0.0 filter time0.0 make_dataframe_time 0.001\n",
      "E06000004\n",
      "i= 0  expand time,0.0 filter time0.0 make_dataframe_time 0.0\n"
     ]
    },
    {
     "name": "stderr",
     "output_type": "stream",
     "text": [
      "/tf/empty_homes_london/helper_functions.py:279: SettingWithCopyWarning: \n",
      "A value is trying to be set on a copy of a slice from a DataFrame.\n",
      "Try using .loc[row_indexer,col_indexer] = value instead\n",
      "\n",
      "See the caveats in the documentation: https://pandas.pydata.org/pandas-docs/stable/user_guide/indexing.html#returning-a-view-versus-a-copy\n",
      "  temp_multi['number_filter'] = filter_types\n",
      "/tf/empty_homes_london/helper_functions.py:279: SettingWithCopyWarning: \n",
      "A value is trying to be set on a copy of a slice from a DataFrame.\n",
      "Try using .loc[row_indexer,col_indexer] = value instead\n",
      "\n",
      "See the caveats in the documentation: https://pandas.pydata.org/pandas-docs/stable/user_guide/indexing.html#returning-a-view-versus-a-copy\n",
      "  temp_multi['number_filter'] = filter_types\n"
     ]
    },
    {
     "name": "stdout",
     "output_type": "stream",
     "text": [
      "E06000001\n",
      "i= 0  expand time,0.0 filter time0.0 make_dataframe_time 0.001\n",
      "E07000011\n"
     ]
    },
    {
     "name": "stderr",
     "output_type": "stream",
     "text": [
      "/tf/empty_homes_london/helper_functions.py:279: SettingWithCopyWarning: \n",
      "A value is trying to be set on a copy of a slice from a DataFrame.\n",
      "Try using .loc[row_indexer,col_indexer] = value instead\n",
      "\n",
      "See the caveats in the documentation: https://pandas.pydata.org/pandas-docs/stable/user_guide/indexing.html#returning-a-view-versus-a-copy\n",
      "  temp_multi['number_filter'] = filter_types\n",
      "/tf/empty_homes_london/helper_functions.py:279: SettingWithCopyWarning: \n",
      "A value is trying to be set on a copy of a slice from a DataFrame.\n",
      "Try using .loc[row_indexer,col_indexer] = value instead\n",
      "\n",
      "See the caveats in the documentation: https://pandas.pydata.org/pandas-docs/stable/user_guide/indexing.html#returning-a-view-versus-a-copy\n",
      "  temp_multi['number_filter'] = filter_types\n"
     ]
    },
    {
     "name": "stdout",
     "output_type": "stream",
     "text": [
      "i= 0  expand time,0.0 filter time0.0 make_dataframe_time 0.001\n",
      "W06000008\n",
      "i= 0  expand time,0.0 filter time0.0 make_dataframe_time 0.001\n"
     ]
    },
    {
     "name": "stderr",
     "output_type": "stream",
     "text": [
      "/tf/empty_homes_london/helper_functions.py:279: SettingWithCopyWarning: \n",
      "A value is trying to be set on a copy of a slice from a DataFrame.\n",
      "Try using .loc[row_indexer,col_indexer] = value instead\n",
      "\n",
      "See the caveats in the documentation: https://pandas.pydata.org/pandas-docs/stable/user_guide/indexing.html#returning-a-view-versus-a-copy\n",
      "  temp_multi['number_filter'] = filter_types\n",
      "/tf/empty_homes_london/helper_functions.py:279: SettingWithCopyWarning: \n",
      "A value is trying to be set on a copy of a slice from a DataFrame.\n",
      "Try using .loc[row_indexer,col_indexer] = value instead\n",
      "\n",
      "See the caveats in the documentation: https://pandas.pydata.org/pandas-docs/stable/user_guide/indexing.html#returning-a-view-versus-a-copy\n",
      "  temp_multi['number_filter'] = filter_types\n"
     ]
    },
    {
     "name": "stdout",
     "output_type": "stream",
     "text": [
      "W06000019\n",
      "i= 0  expand time,0.0 filter time0.0 make_dataframe_time 0.001\n",
      "E07000219\n"
     ]
    },
    {
     "name": "stderr",
     "output_type": "stream",
     "text": [
      "/tf/empty_homes_london/helper_functions.py:279: SettingWithCopyWarning: \n",
      "A value is trying to be set on a copy of a slice from a DataFrame.\n",
      "Try using .loc[row_indexer,col_indexer] = value instead\n",
      "\n",
      "See the caveats in the documentation: https://pandas.pydata.org/pandas-docs/stable/user_guide/indexing.html#returning-a-view-versus-a-copy\n",
      "  temp_multi['number_filter'] = filter_types\n",
      "/tf/empty_homes_london/helper_functions.py:279: SettingWithCopyWarning: \n",
      "A value is trying to be set on a copy of a slice from a DataFrame.\n",
      "Try using .loc[row_indexer,col_indexer] = value instead\n",
      "\n",
      "See the caveats in the documentation: https://pandas.pydata.org/pandas-docs/stable/user_guide/indexing.html#returning-a-view-versus-a-copy\n",
      "  temp_multi['number_filter'] = filter_types\n"
     ]
    },
    {
     "name": "stdout",
     "output_type": "stream",
     "text": [
      "i= 0  expand time,0.0 filter time0.0 make_dataframe_time 0.001\n",
      "E07000122\n",
      "i= 0  expand time,0.0 filter time0.0 make_dataframe_time 0.001\n",
      "W06000023\n",
      "i= 0  expand time,0.0 filter time0.0 make_dataframe_time 0.001\n"
     ]
    },
    {
     "name": "stderr",
     "output_type": "stream",
     "text": [
      "/tf/empty_homes_london/helper_functions.py:279: SettingWithCopyWarning: \n",
      "A value is trying to be set on a copy of a slice from a DataFrame.\n",
      "Try using .loc[row_indexer,col_indexer] = value instead\n",
      "\n",
      "See the caveats in the documentation: https://pandas.pydata.org/pandas-docs/stable/user_guide/indexing.html#returning-a-view-versus-a-copy\n",
      "  temp_multi['number_filter'] = filter_types\n",
      "/tf/empty_homes_london/helper_functions.py:279: SettingWithCopyWarning: \n",
      "A value is trying to be set on a copy of a slice from a DataFrame.\n",
      "Try using .loc[row_indexer,col_indexer] = value instead\n",
      "\n",
      "See the caveats in the documentation: https://pandas.pydata.org/pandas-docs/stable/user_guide/indexing.html#returning-a-view-versus-a-copy\n",
      "  temp_multi['number_filter'] = filter_types\n"
     ]
    },
    {
     "name": "stdout",
     "output_type": "stream",
     "text": [
      "E07000120\n",
      "i= 0  expand time,0.001 filter time0.0 make_dataframe_time 0.002\n",
      "E07000139\n",
      "i= 0  expand time,0.0 filter time0.0 make_dataframe_time 0.001\n",
      "E07000140\n"
     ]
    },
    {
     "name": "stderr",
     "output_type": "stream",
     "text": [
      "/tf/empty_homes_london/helper_functions.py:279: SettingWithCopyWarning: \n",
      "A value is trying to be set on a copy of a slice from a DataFrame.\n",
      "Try using .loc[row_indexer,col_indexer] = value instead\n",
      "\n",
      "See the caveats in the documentation: https://pandas.pydata.org/pandas-docs/stable/user_guide/indexing.html#returning-a-view-versus-a-copy\n",
      "  temp_multi['number_filter'] = filter_types\n",
      "/tf/empty_homes_london/helper_functions.py:279: SettingWithCopyWarning: \n",
      "A value is trying to be set on a copy of a slice from a DataFrame.\n",
      "Try using .loc[row_indexer,col_indexer] = value instead\n",
      "\n",
      "See the caveats in the documentation: https://pandas.pydata.org/pandas-docs/stable/user_guide/indexing.html#returning-a-view-versus-a-copy\n",
      "  temp_multi['number_filter'] = filter_types\n"
     ]
    },
    {
     "name": "stdout",
     "output_type": "stream",
     "text": [
      "i= 0  expand time,0.0 filter time0.0 make_dataframe_time 0.001\n",
      "E07000138\n",
      "i= 0  expand time,0.0 filter time0.0 make_dataframe_time 0.001\n"
     ]
    },
    {
     "name": "stderr",
     "output_type": "stream",
     "text": [
      "/tf/empty_homes_london/helper_functions.py:279: SettingWithCopyWarning: \n",
      "A value is trying to be set on a copy of a slice from a DataFrame.\n",
      "Try using .loc[row_indexer,col_indexer] = value instead\n",
      "\n",
      "See the caveats in the documentation: https://pandas.pydata.org/pandas-docs/stable/user_guide/indexing.html#returning-a-view-versus-a-copy\n",
      "  temp_multi['number_filter'] = filter_types\n"
     ]
    },
    {
     "name": "stdout",
     "output_type": "stream",
     "text": [
      "E07000141\n",
      "i= 0  expand time,0.0 filter time0.0 make_dataframe_time 0.001\n"
     ]
    },
    {
     "name": "stderr",
     "output_type": "stream",
     "text": [
      "/tf/empty_homes_london/helper_functions.py:279: SettingWithCopyWarning: \n",
      "A value is trying to be set on a copy of a slice from a DataFrame.\n",
      "Try using .loc[row_indexer,col_indexer] = value instead\n",
      "\n",
      "See the caveats in the documentation: https://pandas.pydata.org/pandas-docs/stable/user_guide/indexing.html#returning-a-view-versus-a-copy\n",
      "  temp_multi['number_filter'] = filter_types\n"
     ]
    },
    {
     "name": "stdout",
     "output_type": "stream",
     "text": [
      "E07000235\n",
      "i= 0  expand time,0.0 filter time0.0 make_dataframe_time 0.001\n",
      "E07000132\n"
     ]
    },
    {
     "name": "stderr",
     "output_type": "stream",
     "text": [
      "/tf/empty_homes_london/helper_functions.py:279: SettingWithCopyWarning: \n",
      "A value is trying to be set on a copy of a slice from a DataFrame.\n",
      "Try using .loc[row_indexer,col_indexer] = value instead\n",
      "\n",
      "See the caveats in the documentation: https://pandas.pydata.org/pandas-docs/stable/user_guide/indexing.html#returning-a-view-versus-a-copy\n",
      "  temp_multi['number_filter'] = filter_types\n",
      "/tf/empty_homes_london/helper_functions.py:279: SettingWithCopyWarning: \n",
      "A value is trying to be set on a copy of a slice from a DataFrame.\n",
      "Try using .loc[row_indexer,col_indexer] = value instead\n",
      "\n",
      "See the caveats in the documentation: https://pandas.pydata.org/pandas-docs/stable/user_guide/indexing.html#returning-a-view-versus-a-copy\n",
      "  temp_multi['number_filter'] = filter_types\n"
     ]
    },
    {
     "name": "stdout",
     "output_type": "stream",
     "text": [
      "i= 0  expand time,0.0 filter time0.0 make_dataframe_time 0.001\n",
      "E07000028\n",
      "i= 0  expand time,0.0 filter time0.0 make_dataframe_time 0.001\n"
     ]
    },
    {
     "name": "stderr",
     "output_type": "stream",
     "text": [
      "/tf/empty_homes_london/helper_functions.py:279: SettingWithCopyWarning: \n",
      "A value is trying to be set on a copy of a slice from a DataFrame.\n",
      "Try using .loc[row_indexer,col_indexer] = value instead\n",
      "\n",
      "See the caveats in the documentation: https://pandas.pydata.org/pandas-docs/stable/user_guide/indexing.html#returning-a-view-versus-a-copy\n",
      "  temp_multi['number_filter'] = filter_types\n"
     ]
    },
    {
     "name": "stdout",
     "output_type": "stream",
     "text": [
      "E07000134\n",
      "i= 0  expand time,0.0 filter time0.0 make_dataframe_time 0.001\n",
      "E07000030\n"
     ]
    },
    {
     "name": "stderr",
     "output_type": "stream",
     "text": [
      "/tf/empty_homes_london/helper_functions.py:279: SettingWithCopyWarning: \n",
      "A value is trying to be set on a copy of a slice from a DataFrame.\n",
      "Try using .loc[row_indexer,col_indexer] = value instead\n",
      "\n",
      "See the caveats in the documentation: https://pandas.pydata.org/pandas-docs/stable/user_guide/indexing.html#returning-a-view-versus-a-copy\n",
      "  temp_multi['number_filter'] = filter_types\n",
      "/tf/empty_homes_london/helper_functions.py:279: SettingWithCopyWarning: \n",
      "A value is trying to be set on a copy of a slice from a DataFrame.\n",
      "Try using .loc[row_indexer,col_indexer] = value instead\n",
      "\n",
      "See the caveats in the documentation: https://pandas.pydata.org/pandas-docs/stable/user_guide/indexing.html#returning-a-view-versus-a-copy\n",
      "  temp_multi['number_filter'] = filter_types\n"
     ]
    },
    {
     "name": "stdout",
     "output_type": "stream",
     "text": [
      "i= 0  expand time,0.0 filter time0.0 make_dataframe_time 0.001\n",
      "W06000020\n",
      "i= 0  expand time,0.0 filter time0.0 make_dataframe_time 0.001\n",
      "E06000027\n"
     ]
    },
    {
     "name": "stderr",
     "output_type": "stream",
     "text": [
      "/tf/empty_homes_london/helper_functions.py:279: SettingWithCopyWarning: \n",
      "A value is trying to be set on a copy of a slice from a DataFrame.\n",
      "Try using .loc[row_indexer,col_indexer] = value instead\n",
      "\n",
      "See the caveats in the documentation: https://pandas.pydata.org/pandas-docs/stable/user_guide/indexing.html#returning-a-view-versus-a-copy\n",
      "  temp_multi['number_filter'] = filter_types\n",
      "/tf/empty_homes_london/helper_functions.py:279: SettingWithCopyWarning: \n",
      "A value is trying to be set on a copy of a slice from a DataFrame.\n",
      "Try using .loc[row_indexer,col_indexer] = value instead\n",
      "\n",
      "See the caveats in the documentation: https://pandas.pydata.org/pandas-docs/stable/user_guide/indexing.html#returning-a-view-versus-a-copy\n",
      "  temp_multi['number_filter'] = filter_types\n"
     ]
    },
    {
     "name": "stdout",
     "output_type": "stream",
     "text": [
      "i= 0  expand time,0.0 filter time0.0 make_dataframe_time 0.001\n",
      "E07000040\n",
      "i= 0  expand time,0.0 filter time0.0 make_dataframe_time 0.001\n",
      "E07000045\n"
     ]
    },
    {
     "name": "stderr",
     "output_type": "stream",
     "text": [
      "/tf/empty_homes_london/helper_functions.py:279: SettingWithCopyWarning: \n",
      "A value is trying to be set on a copy of a slice from a DataFrame.\n",
      "Try using .loc[row_indexer,col_indexer] = value instead\n",
      "\n",
      "See the caveats in the documentation: https://pandas.pydata.org/pandas-docs/stable/user_guide/indexing.html#returning-a-view-versus-a-copy\n",
      "  temp_multi['number_filter'] = filter_types\n",
      "/tf/empty_homes_london/helper_functions.py:279: SettingWithCopyWarning: \n",
      "A value is trying to be set on a copy of a slice from a DataFrame.\n",
      "Try using .loc[row_indexer,col_indexer] = value instead\n",
      "\n",
      "See the caveats in the documentation: https://pandas.pydata.org/pandas-docs/stable/user_guide/indexing.html#returning-a-view-versus-a-copy\n",
      "  temp_multi['number_filter'] = filter_types\n"
     ]
    },
    {
     "name": "stdout",
     "output_type": "stream",
     "text": [
      "i= 0  expand time,0.001 filter time0.0 make_dataframe_time 0.002\n",
      "E07000046\n",
      "i= 0  expand time,0.0 filter time0.0 make_dataframe_time 0.001\n",
      "E07000042\n"
     ]
    },
    {
     "name": "stderr",
     "output_type": "stream",
     "text": [
      "/tf/empty_homes_london/helper_functions.py:279: SettingWithCopyWarning: \n",
      "A value is trying to be set on a copy of a slice from a DataFrame.\n",
      "Try using .loc[row_indexer,col_indexer] = value instead\n",
      "\n",
      "See the caveats in the documentation: https://pandas.pydata.org/pandas-docs/stable/user_guide/indexing.html#returning-a-view-versus-a-copy\n",
      "  temp_multi['number_filter'] = filter_types\n",
      "/tf/empty_homes_london/helper_functions.py:279: SettingWithCopyWarning: \n",
      "A value is trying to be set on a copy of a slice from a DataFrame.\n",
      "Try using .loc[row_indexer,col_indexer] = value instead\n",
      "\n",
      "See the caveats in the documentation: https://pandas.pydata.org/pandas-docs/stable/user_guide/indexing.html#returning-a-view-versus-a-copy\n",
      "  temp_multi['number_filter'] = filter_types\n"
     ]
    },
    {
     "name": "stdout",
     "output_type": "stream",
     "text": [
      "i= 0  expand time,0.0 filter time0.0 make_dataframe_time 0.001\n",
      "E07000041\n",
      "i= 0  expand time,0.0 filter time0.0 make_dataframe_time 0.001\n",
      "E07000067\n"
     ]
    },
    {
     "name": "stderr",
     "output_type": "stream",
     "text": [
      "/tf/empty_homes_london/helper_functions.py:279: SettingWithCopyWarning: \n",
      "A value is trying to be set on a copy of a slice from a DataFrame.\n",
      "Try using .loc[row_indexer,col_indexer] = value instead\n",
      "\n",
      "See the caveats in the documentation: https://pandas.pydata.org/pandas-docs/stable/user_guide/indexing.html#returning-a-view-versus-a-copy\n",
      "  temp_multi['number_filter'] = filter_types\n",
      "/tf/empty_homes_london/helper_functions.py:279: SettingWithCopyWarning: \n",
      "A value is trying to be set on a copy of a slice from a DataFrame.\n",
      "Try using .loc[row_indexer,col_indexer] = value instead\n",
      "\n",
      "See the caveats in the documentation: https://pandas.pydata.org/pandas-docs/stable/user_guide/indexing.html#returning-a-view-versus-a-copy\n",
      "  temp_multi['number_filter'] = filter_types\n"
     ]
    },
    {
     "name": "stdout",
     "output_type": "stream",
     "text": [
      "i= 0  expand time,0.0 filter time0.0 make_dataframe_time 0.001\n",
      "E06000034\n"
     ]
    },
    {
     "name": "stderr",
     "output_type": "stream",
     "text": [
      "/tf/empty_homes_london/helper_functions.py:279: SettingWithCopyWarning: \n",
      "A value is trying to be set on a copy of a slice from a DataFrame.\n",
      "Try using .loc[row_indexer,col_indexer] = value instead\n",
      "\n",
      "See the caveats in the documentation: https://pandas.pydata.org/pandas-docs/stable/user_guide/indexing.html#returning-a-view-versus-a-copy\n",
      "  temp_multi['number_filter'] = filter_types\n"
     ]
    },
    {
     "name": "stdout",
     "output_type": "stream",
     "text": [
      "i= 0  expand time,0.0 filter time0.0 make_dataframe_time 0.001\n",
      "E07000066\n"
     ]
    },
    {
     "name": "stderr",
     "output_type": "stream",
     "text": [
      "/tf/empty_homes_london/helper_functions.py:279: SettingWithCopyWarning: \n",
      "A value is trying to be set on a copy of a slice from a DataFrame.\n",
      "Try using .loc[row_indexer,col_indexer] = value instead\n",
      "\n",
      "See the caveats in the documentation: https://pandas.pydata.org/pandas-docs/stable/user_guide/indexing.html#returning-a-view-versus-a-copy\n",
      "  temp_multi['number_filter'] = filter_types\n",
      "/tf/empty_homes_london/helper_functions.py:279: SettingWithCopyWarning: \n",
      "A value is trying to be set on a copy of a slice from a DataFrame.\n",
      "Try using .loc[row_indexer,col_indexer] = value instead\n",
      "\n",
      "See the caveats in the documentation: https://pandas.pydata.org/pandas-docs/stable/user_guide/indexing.html#returning-a-view-versus-a-copy\n",
      "  temp_multi['number_filter'] = filter_types\n"
     ]
    },
    {
     "name": "stdout",
     "output_type": "stream",
     "text": [
      "i= 0  expand time,0.0 filter time0.0 make_dataframe_time 0.001\n",
      "E07000073\n",
      "i= 0  expand time,0.0 filter time0.0 make_dataframe_time 0.001\n",
      "E07000063\n",
      "i= 0  expand time,0.0 filter time0.001 make_dataframe_time 0.002\n"
     ]
    },
    {
     "name": "stderr",
     "output_type": "stream",
     "text": [
      "/tf/empty_homes_london/helper_functions.py:279: SettingWithCopyWarning: \n",
      "A value is trying to be set on a copy of a slice from a DataFrame.\n",
      "Try using .loc[row_indexer,col_indexer] = value instead\n",
      "\n",
      "See the caveats in the documentation: https://pandas.pydata.org/pandas-docs/stable/user_guide/indexing.html#returning-a-view-versus-a-copy\n",
      "  temp_multi['number_filter'] = filter_types\n"
     ]
    },
    {
     "name": "stdout",
     "output_type": "stream",
     "text": [
      "E07000036\n",
      "i= 0  expand time,0.0 filter time0.0 make_dataframe_time 0.001\n"
     ]
    },
    {
     "name": "stderr",
     "output_type": "stream",
     "text": [
      "/tf/empty_homes_london/helper_functions.py:279: SettingWithCopyWarning: \n",
      "A value is trying to be set on a copy of a slice from a DataFrame.\n",
      "Try using .loc[row_indexer,col_indexer] = value instead\n",
      "\n",
      "See the caveats in the documentation: https://pandas.pydata.org/pandas-docs/stable/user_guide/indexing.html#returning-a-view-versus-a-copy\n",
      "  temp_multi['number_filter'] = filter_types\n"
     ]
    },
    {
     "name": "stdout",
     "output_type": "stream",
     "text": [
      "E07000033\n",
      "i= 0  expand time,0.0 filter time0.0 make_dataframe_time 0.001\n",
      "E07000038\n"
     ]
    },
    {
     "name": "stderr",
     "output_type": "stream",
     "text": [
      "/tf/empty_homes_london/helper_functions.py:279: SettingWithCopyWarning: \n",
      "A value is trying to be set on a copy of a slice from a DataFrame.\n",
      "Try using .loc[row_indexer,col_indexer] = value instead\n",
      "\n",
      "See the caveats in the documentation: https://pandas.pydata.org/pandas-docs/stable/user_guide/indexing.html#returning-a-view-versus-a-copy\n",
      "  temp_multi['number_filter'] = filter_types\n",
      "/tf/empty_homes_london/helper_functions.py:279: SettingWithCopyWarning: \n",
      "A value is trying to be set on a copy of a slice from a DataFrame.\n",
      "Try using .loc[row_indexer,col_indexer] = value instead\n",
      "\n",
      "See the caveats in the documentation: https://pandas.pydata.org/pandas-docs/stable/user_guide/indexing.html#returning-a-view-versus-a-copy\n",
      "  temp_multi['number_filter'] = filter_types\n"
     ]
    },
    {
     "name": "stdout",
     "output_type": "stream",
     "text": [
      "i= 0  expand time,0.0 filter time0.0 make_dataframe_time 0.001\n",
      "E07000092\n"
     ]
    },
    {
     "name": "stderr",
     "output_type": "stream",
     "text": [
      "/tf/empty_homes_london/helper_functions.py:279: SettingWithCopyWarning: \n",
      "A value is trying to be set on a copy of a slice from a DataFrame.\n",
      "Try using .loc[row_indexer,col_indexer] = value instead\n",
      "\n",
      "See the caveats in the documentation: https://pandas.pydata.org/pandas-docs/stable/user_guide/indexing.html#returning-a-view-versus-a-copy\n",
      "  temp_multi['number_filter'] = filter_types\n"
     ]
    },
    {
     "name": "stdout",
     "output_type": "stream",
     "text": [
      "i= 0  expand time,0.0 filter time0.0 make_dataframe_time 0.001\n",
      "E07000085\n"
     ]
    },
    {
     "name": "stderr",
     "output_type": "stream",
     "text": [
      "/tf/empty_homes_london/helper_functions.py:279: SettingWithCopyWarning: \n",
      "A value is trying to be set on a copy of a slice from a DataFrame.\n",
      "Try using .loc[row_indexer,col_indexer] = value instead\n",
      "\n",
      "See the caveats in the documentation: https://pandas.pydata.org/pandas-docs/stable/user_guide/indexing.html#returning-a-view-versus-a-copy\n",
      "  temp_multi['number_filter'] = filter_types\n"
     ]
    },
    {
     "name": "stdout",
     "output_type": "stream",
     "text": [
      "i= 0  expand time,0.0 filter time0.0 make_dataframe_time 0.001\n",
      "E07000082\n"
     ]
    },
    {
     "name": "stderr",
     "output_type": "stream",
     "text": [
      "/tf/empty_homes_london/helper_functions.py:279: SettingWithCopyWarning: \n",
      "A value is trying to be set on a copy of a slice from a DataFrame.\n",
      "Try using .loc[row_indexer,col_indexer] = value instead\n",
      "\n",
      "See the caveats in the documentation: https://pandas.pydata.org/pandas-docs/stable/user_guide/indexing.html#returning-a-view-versus-a-copy\n",
      "  temp_multi['number_filter'] = filter_types\n",
      "/tf/empty_homes_london/helper_functions.py:279: SettingWithCopyWarning: \n",
      "A value is trying to be set on a copy of a slice from a DataFrame.\n",
      "Try using .loc[row_indexer,col_indexer] = value instead\n",
      "\n",
      "See the caveats in the documentation: https://pandas.pydata.org/pandas-docs/stable/user_guide/indexing.html#returning-a-view-versus-a-copy\n",
      "  temp_multi['number_filter'] = filter_types\n"
     ]
    },
    {
     "name": "stdout",
     "output_type": "stream",
     "text": [
      "i= 0  expand time,0.0 filter time0.0 make_dataframe_time 0.001\n",
      "E07000080\n",
      "i= 0  expand time,0.0 filter time0.0 make_dataframe_time 0.001\n",
      "E07000088\n"
     ]
    },
    {
     "name": "stderr",
     "output_type": "stream",
     "text": [
      "/tf/empty_homes_london/helper_functions.py:279: SettingWithCopyWarning: \n",
      "A value is trying to be set on a copy of a slice from a DataFrame.\n",
      "Try using .loc[row_indexer,col_indexer] = value instead\n",
      "\n",
      "See the caveats in the documentation: https://pandas.pydata.org/pandas-docs/stable/user_guide/indexing.html#returning-a-view-versus-a-copy\n",
      "  temp_multi['number_filter'] = filter_types\n"
     ]
    },
    {
     "name": "stdout",
     "output_type": "stream",
     "text": [
      "i= 0  expand time,0.0 filter time0.0 make_dataframe_time 0.001\n",
      "E07000146\n"
     ]
    },
    {
     "name": "stderr",
     "output_type": "stream",
     "text": [
      "/tf/empty_homes_london/helper_functions.py:279: SettingWithCopyWarning: \n",
      "A value is trying to be set on a copy of a slice from a DataFrame.\n",
      "Try using .loc[row_indexer,col_indexer] = value instead\n",
      "\n",
      "See the caveats in the documentation: https://pandas.pydata.org/pandas-docs/stable/user_guide/indexing.html#returning-a-view-versus-a-copy\n",
      "  temp_multi['number_filter'] = filter_types\n"
     ]
    },
    {
     "name": "stdout",
     "output_type": "stream",
     "text": [
      "i= 0  expand time,0.0 filter time0.0 make_dataframe_time 0.001\n",
      "E07000149\n"
     ]
    },
    {
     "name": "stderr",
     "output_type": "stream",
     "text": [
      "/tf/empty_homes_london/helper_functions.py:279: SettingWithCopyWarning: \n",
      "A value is trying to be set on a copy of a slice from a DataFrame.\n",
      "Try using .loc[row_indexer,col_indexer] = value instead\n",
      "\n",
      "See the caveats in the documentation: https://pandas.pydata.org/pandas-docs/stable/user_guide/indexing.html#returning-a-view-versus-a-copy\n",
      "  temp_multi['number_filter'] = filter_types\n",
      "/tf/empty_homes_london/helper_functions.py:279: SettingWithCopyWarning: \n",
      "A value is trying to be set on a copy of a slice from a DataFrame.\n",
      "Try using .loc[row_indexer,col_indexer] = value instead\n",
      "\n",
      "See the caveats in the documentation: https://pandas.pydata.org/pandas-docs/stable/user_guide/indexing.html#returning-a-view-versus-a-copy\n",
      "  temp_multi['number_filter'] = filter_types\n"
     ]
    },
    {
     "name": "stdout",
     "output_type": "stream",
     "text": [
      "i= 0  expand time,0.0 filter time0.0 make_dataframe_time 0.001\n",
      "E07000144\n",
      "i= 0  expand time,0.0 filter time0.0 make_dataframe_time 0.001\n",
      "E07000075\n"
     ]
    },
    {
     "name": "stderr",
     "output_type": "stream",
     "text": [
      "/tf/empty_homes_london/helper_functions.py:279: SettingWithCopyWarning: \n",
      "A value is trying to be set on a copy of a slice from a DataFrame.\n",
      "Try using .loc[row_indexer,col_indexer] = value instead\n",
      "\n",
      "See the caveats in the documentation: https://pandas.pydata.org/pandas-docs/stable/user_guide/indexing.html#returning-a-view-versus-a-copy\n",
      "  temp_multi['number_filter'] = filter_types\n",
      "/tf/empty_homes_london/helper_functions.py:279: SettingWithCopyWarning: \n",
      "A value is trying to be set on a copy of a slice from a DataFrame.\n",
      "Try using .loc[row_indexer,col_indexer] = value instead\n",
      "\n",
      "See the caveats in the documentation: https://pandas.pydata.org/pandas-docs/stable/user_guide/indexing.html#returning-a-view-versus-a-copy\n",
      "  temp_multi['number_filter'] = filter_types\n"
     ]
    },
    {
     "name": "stdout",
     "output_type": "stream",
     "text": [
      "i= 0  expand time,0.0 filter time0.0 make_dataframe_time 0.001\n",
      "E07000069\n",
      "i= 0  expand time,0.0 filter time0.0 make_dataframe_time 0.001\n",
      "E06000013\n"
     ]
    },
    {
     "name": "stderr",
     "output_type": "stream",
     "text": [
      "/tf/empty_homes_london/helper_functions.py:279: SettingWithCopyWarning: \n",
      "A value is trying to be set on a copy of a slice from a DataFrame.\n",
      "Try using .loc[row_indexer,col_indexer] = value instead\n",
      "\n",
      "See the caveats in the documentation: https://pandas.pydata.org/pandas-docs/stable/user_guide/indexing.html#returning-a-view-versus-a-copy\n",
      "  temp_multi['number_filter'] = filter_types\n"
     ]
    },
    {
     "name": "stdout",
     "output_type": "stream",
     "text": [
      "i= 0  expand time,0.0 filter time0.0 make_dataframe_time 0.001\n",
      "E06000012\n"
     ]
    },
    {
     "name": "stderr",
     "output_type": "stream",
     "text": [
      "/tf/empty_homes_london/helper_functions.py:279: SettingWithCopyWarning: \n",
      "A value is trying to be set on a copy of a slice from a DataFrame.\n",
      "Try using .loc[row_indexer,col_indexer] = value instead\n",
      "\n",
      "See the caveats in the documentation: https://pandas.pydata.org/pandas-docs/stable/user_guide/indexing.html#returning-a-view-versus-a-copy\n",
      "  temp_multi['number_filter'] = filter_types\n"
     ]
    },
    {
     "name": "stdout",
     "output_type": "stream",
     "text": [
      "i= 0  expand time,0.001 filter time0.0 make_dataframe_time 0.001\n",
      "E06000010\n",
      "i= 0  expand time,0.0 filter time0.0 make_dataframe_time 0.001\n"
     ]
    },
    {
     "name": "stderr",
     "output_type": "stream",
     "text": [
      "/tf/empty_homes_london/helper_functions.py:279: SettingWithCopyWarning: \n",
      "A value is trying to be set on a copy of a slice from a DataFrame.\n",
      "Try using .loc[row_indexer,col_indexer] = value instead\n",
      "\n",
      "See the caveats in the documentation: https://pandas.pydata.org/pandas-docs/stable/user_guide/indexing.html#returning-a-view-versus-a-copy\n",
      "  temp_multi['number_filter'] = filter_types\n"
     ]
    },
    {
     "name": "stdout",
     "output_type": "stream",
     "text": [
      "E07000095\n",
      "i= 0  expand time,0.0 filter time0.0 make_dataframe_time 0.001\n"
     ]
    },
    {
     "name": "stderr",
     "output_type": "stream",
     "text": [
      "/tf/empty_homes_london/helper_functions.py:279: SettingWithCopyWarning: \n",
      "A value is trying to be set on a copy of a slice from a DataFrame.\n",
      "Try using .loc[row_indexer,col_indexer] = value instead\n",
      "\n",
      "See the caveats in the documentation: https://pandas.pydata.org/pandas-docs/stable/user_guide/indexing.html#returning-a-view-versus-a-copy\n",
      "  temp_multi['number_filter'] = filter_types\n"
     ]
    },
    {
     "name": "stdout",
     "output_type": "stream",
     "text": [
      "E07000089\n",
      "i= 0  expand time,0.0 filter time0.0 make_dataframe_time 0.001\n"
     ]
    },
    {
     "name": "stderr",
     "output_type": "stream",
     "text": [
      "/tf/empty_homes_london/helper_functions.py:279: SettingWithCopyWarning: \n",
      "A value is trying to be set on a copy of a slice from a DataFrame.\n",
      "Try using .loc[row_indexer,col_indexer] = value instead\n",
      "\n",
      "See the caveats in the documentation: https://pandas.pydata.org/pandas-docs/stable/user_guide/indexing.html#returning-a-view-versus-a-copy\n",
      "  temp_multi['number_filter'] = filter_types\n"
     ]
    },
    {
     "name": "stdout",
     "output_type": "stream",
     "text": [
      "E07000087\n",
      "i= 0  expand time,0.0 filter time0.0 make_dataframe_time 0.001\n"
     ]
    },
    {
     "name": "stderr",
     "output_type": "stream",
     "text": [
      "/tf/empty_homes_london/helper_functions.py:279: SettingWithCopyWarning: \n",
      "A value is trying to be set on a copy of a slice from a DataFrame.\n",
      "Try using .loc[row_indexer,col_indexer] = value instead\n",
      "\n",
      "See the caveats in the documentation: https://pandas.pydata.org/pandas-docs/stable/user_guide/indexing.html#returning-a-view-versus-a-copy\n",
      "  temp_multi['number_filter'] = filter_types\n"
     ]
    },
    {
     "name": "stdout",
     "output_type": "stream",
     "text": [
      "E06000037\n",
      "i= 0  expand time,0.0 filter time0.0 make_dataframe_time 0.001\n"
     ]
    },
    {
     "name": "stderr",
     "output_type": "stream",
     "text": [
      "/tf/empty_homes_london/helper_functions.py:279: SettingWithCopyWarning: \n",
      "A value is trying to be set on a copy of a slice from a DataFrame.\n",
      "Try using .loc[row_indexer,col_indexer] = value instead\n",
      "\n",
      "See the caveats in the documentation: https://pandas.pydata.org/pandas-docs/stable/user_guide/indexing.html#returning-a-view-versus-a-copy\n",
      "  temp_multi['number_filter'] = filter_types\n"
     ]
    },
    {
     "name": "stdout",
     "output_type": "stream",
     "text": [
      "E07000044\n",
      "i= 0  expand time,0.0 filter time0.0 make_dataframe_time 0.001\n",
      "E07000129\n"
     ]
    },
    {
     "name": "stderr",
     "output_type": "stream",
     "text": [
      "/tf/empty_homes_london/helper_functions.py:279: SettingWithCopyWarning: \n",
      "A value is trying to be set on a copy of a slice from a DataFrame.\n",
      "Try using .loc[row_indexer,col_indexer] = value instead\n",
      "\n",
      "See the caveats in the documentation: https://pandas.pydata.org/pandas-docs/stable/user_guide/indexing.html#returning-a-view-versus-a-copy\n",
      "  temp_multi['number_filter'] = filter_types\n",
      "/tf/empty_homes_london/helper_functions.py:279: SettingWithCopyWarning: \n",
      "A value is trying to be set on a copy of a slice from a DataFrame.\n",
      "Try using .loc[row_indexer,col_indexer] = value instead\n",
      "\n",
      "See the caveats in the documentation: https://pandas.pydata.org/pandas-docs/stable/user_guide/indexing.html#returning-a-view-versus-a-copy\n",
      "  temp_multi['number_filter'] = filter_types\n"
     ]
    },
    {
     "name": "stdout",
     "output_type": "stream",
     "text": [
      "i= 0  expand time,0.0 filter time0.0 make_dataframe_time 0.001\n",
      "E07000110\n",
      "i= 0  expand time,0.0 filter time0.0 make_dataframe_time 0.001\n"
     ]
    },
    {
     "name": "stderr",
     "output_type": "stream",
     "text": [
      "/tf/empty_homes_london/helper_functions.py:279: SettingWithCopyWarning: \n",
      "A value is trying to be set on a copy of a slice from a DataFrame.\n",
      "Try using .loc[row_indexer,col_indexer] = value instead\n",
      "\n",
      "See the caveats in the documentation: https://pandas.pydata.org/pandas-docs/stable/user_guide/indexing.html#returning-a-view-versus-a-copy\n",
      "  temp_multi['number_filter'] = filter_types\n"
     ]
    },
    {
     "name": "stdout",
     "output_type": "stream",
     "text": [
      "E07000133\n",
      "i= 0  expand time,0.0 filter time0.0 make_dataframe_time 0.001\n",
      "E07000136\n"
     ]
    },
    {
     "name": "stderr",
     "output_type": "stream",
     "text": [
      "/tf/empty_homes_london/helper_functions.py:279: SettingWithCopyWarning: \n",
      "A value is trying to be set on a copy of a slice from a DataFrame.\n",
      "Try using .loc[row_indexer,col_indexer] = value instead\n",
      "\n",
      "See the caveats in the documentation: https://pandas.pydata.org/pandas-docs/stable/user_guide/indexing.html#returning-a-view-versus-a-copy\n",
      "  temp_multi['number_filter'] = filter_types\n",
      "/tf/empty_homes_london/helper_functions.py:279: SettingWithCopyWarning: \n",
      "A value is trying to be set on a copy of a slice from a DataFrame.\n",
      "Try using .loc[row_indexer,col_indexer] = value instead\n",
      "\n",
      "See the caveats in the documentation: https://pandas.pydata.org/pandas-docs/stable/user_guide/indexing.html#returning-a-view-versus-a-copy\n",
      "  temp_multi['number_filter'] = filter_types\n"
     ]
    },
    {
     "name": "stdout",
     "output_type": "stream",
     "text": [
      "i= 0  expand time,0.0 filter time0.0 make_dataframe_time 0.001\n",
      "E07000135\n",
      "i= 0  expand time,0.0 filter time0.0 make_dataframe_time 0.001\n",
      "E06000017\n"
     ]
    },
    {
     "name": "stderr",
     "output_type": "stream",
     "text": [
      "/tf/empty_homes_london/helper_functions.py:279: SettingWithCopyWarning: \n",
      "A value is trying to be set on a copy of a slice from a DataFrame.\n",
      "Try using .loc[row_indexer,col_indexer] = value instead\n",
      "\n",
      "See the caveats in the documentation: https://pandas.pydata.org/pandas-docs/stable/user_guide/indexing.html#returning-a-view-versus-a-copy\n",
      "  temp_multi['number_filter'] = filter_types\n",
      "/tf/empty_homes_london/helper_functions.py:279: SettingWithCopyWarning: \n",
      "A value is trying to be set on a copy of a slice from a DataFrame.\n",
      "Try using .loc[row_indexer,col_indexer] = value instead\n",
      "\n",
      "See the caveats in the documentation: https://pandas.pydata.org/pandas-docs/stable/user_guide/indexing.html#returning-a-view-versus-a-copy\n",
      "  temp_multi['number_filter'] = filter_types\n"
     ]
    },
    {
     "name": "stdout",
     "output_type": "stream",
     "text": [
      "i= 0  expand time,0.0 filter time0.0 make_dataframe_time 0.001\n",
      "E07000245\n",
      "i= 0  expand time,0.0 filter time0.0 make_dataframe_time 0.001\n"
     ]
    },
    {
     "name": "stderr",
     "output_type": "stream",
     "text": [
      "/tf/empty_homes_london/helper_functions.py:279: SettingWithCopyWarning: \n",
      "A value is trying to be set on a copy of a slice from a DataFrame.\n",
      "Try using .loc[row_indexer,col_indexer] = value instead\n",
      "\n",
      "See the caveats in the documentation: https://pandas.pydata.org/pandas-docs/stable/user_guide/indexing.html#returning-a-view-versus-a-copy\n",
      "  temp_multi['number_filter'] = filter_types\n"
     ]
    },
    {
     "name": "stdout",
     "output_type": "stream",
     "text": [
      "E07000172\n",
      "i= 0  expand time,0.001 filter time0.0 make_dataframe_time 0.001\n"
     ]
    },
    {
     "name": "stderr",
     "output_type": "stream",
     "text": [
      "/tf/empty_homes_london/helper_functions.py:279: SettingWithCopyWarning: \n",
      "A value is trying to be set on a copy of a slice from a DataFrame.\n",
      "Try using .loc[row_indexer,col_indexer] = value instead\n",
      "\n",
      "See the caveats in the documentation: https://pandas.pydata.org/pandas-docs/stable/user_guide/indexing.html#returning-a-view-versus-a-copy\n",
      "  temp_multi['number_filter'] = filter_types\n"
     ]
    },
    {
     "name": "stdout",
     "output_type": "stream",
     "text": [
      "E07000176\n",
      "i= 0  expand time,0.0 filter time0.0 make_dataframe_time 0.001\n",
      "E07000181\n"
     ]
    },
    {
     "name": "stderr",
     "output_type": "stream",
     "text": [
      "/tf/empty_homes_london/helper_functions.py:279: SettingWithCopyWarning: \n",
      "A value is trying to be set on a copy of a slice from a DataFrame.\n",
      "Try using .loc[row_indexer,col_indexer] = value instead\n",
      "\n",
      "See the caveats in the documentation: https://pandas.pydata.org/pandas-docs/stable/user_guide/indexing.html#returning-a-view-versus-a-copy\n",
      "  temp_multi['number_filter'] = filter_types\n",
      "/tf/empty_homes_london/helper_functions.py:279: SettingWithCopyWarning: \n",
      "A value is trying to be set on a copy of a slice from a DataFrame.\n",
      "Try using .loc[row_indexer,col_indexer] = value instead\n",
      "\n",
      "See the caveats in the documentation: https://pandas.pydata.org/pandas-docs/stable/user_guide/indexing.html#returning-a-view-versus-a-copy\n",
      "  temp_multi['number_filter'] = filter_types\n"
     ]
    },
    {
     "name": "stdout",
     "output_type": "stream",
     "text": [
      "i= 0  expand time,0.0 filter time0.0 make_dataframe_time 0.001\n",
      "E07000174\n",
      "i= 0  expand time,0.0 filter time0.0 make_dataframe_time 0.001\n"
     ]
    },
    {
     "name": "stderr",
     "output_type": "stream",
     "text": [
      "/tf/empty_homes_london/helper_functions.py:279: SettingWithCopyWarning: \n",
      "A value is trying to be set on a copy of a slice from a DataFrame.\n",
      "Try using .loc[row_indexer,col_indexer] = value instead\n",
      "\n",
      "See the caveats in the documentation: https://pandas.pydata.org/pandas-docs/stable/user_guide/indexing.html#returning-a-view-versus-a-copy\n",
      "  temp_multi['number_filter'] = filter_types\n"
     ]
    },
    {
     "name": "stdout",
     "output_type": "stream",
     "text": [
      "E07000167\n",
      "i= 0  expand time,0.0 filter time0.0 make_dataframe_time 0.001\n",
      "E07000192\n"
     ]
    },
    {
     "name": "stderr",
     "output_type": "stream",
     "text": [
      "/tf/empty_homes_london/helper_functions.py:279: SettingWithCopyWarning: \n",
      "A value is trying to be set on a copy of a slice from a DataFrame.\n",
      "Try using .loc[row_indexer,col_indexer] = value instead\n",
      "\n",
      "See the caveats in the documentation: https://pandas.pydata.org/pandas-docs/stable/user_guide/indexing.html#returning-a-view-versus-a-copy\n",
      "  temp_multi['number_filter'] = filter_types\n",
      "/tf/empty_homes_london/helper_functions.py:279: SettingWithCopyWarning: \n",
      "A value is trying to be set on a copy of a slice from a DataFrame.\n",
      "Try using .loc[row_indexer,col_indexer] = value instead\n",
      "\n",
      "See the caveats in the documentation: https://pandas.pydata.org/pandas-docs/stable/user_guide/indexing.html#returning-a-view-versus-a-copy\n",
      "  temp_multi['number_filter'] = filter_types\n"
     ]
    },
    {
     "name": "stdout",
     "output_type": "stream",
     "text": [
      "i= 0  expand time,0.0 filter time0.0 make_dataframe_time 0.001\n",
      "E07000196\n"
     ]
    },
    {
     "name": "stderr",
     "output_type": "stream",
     "text": [
      "/tf/empty_homes_london/helper_functions.py:279: SettingWithCopyWarning: \n",
      "A value is trying to be set on a copy of a slice from a DataFrame.\n",
      "Try using .loc[row_indexer,col_indexer] = value instead\n",
      "\n",
      "See the caveats in the documentation: https://pandas.pydata.org/pandas-docs/stable/user_guide/indexing.html#returning-a-view-versus-a-copy\n",
      "  temp_multi['number_filter'] = filter_types\n",
      "/tf/empty_homes_london/helper_functions.py:279: SettingWithCopyWarning: \n",
      "A value is trying to be set on a copy of a slice from a DataFrame.\n",
      "Try using .loc[row_indexer,col_indexer] = value instead\n",
      "\n",
      "See the caveats in the documentation: https://pandas.pydata.org/pandas-docs/stable/user_guide/indexing.html#returning-a-view-versus-a-copy\n",
      "  temp_multi['number_filter'] = filter_types\n"
     ]
    },
    {
     "name": "stdout",
     "output_type": "stream",
     "text": [
      "i= 0  expand time,0.0 filter time0.0 make_dataframe_time 0.001\n",
      "W06000004\n",
      "i= 0  expand time,0.0 filter time0.0 make_dataframe_time 0.001\n",
      "E07000217\n"
     ]
    },
    {
     "name": "stderr",
     "output_type": "stream",
     "text": [
      "/tf/empty_homes_london/helper_functions.py:279: SettingWithCopyWarning: \n",
      "A value is trying to be set on a copy of a slice from a DataFrame.\n",
      "Try using .loc[row_indexer,col_indexer] = value instead\n",
      "\n",
      "See the caveats in the documentation: https://pandas.pydata.org/pandas-docs/stable/user_guide/indexing.html#returning-a-view-versus-a-copy\n",
      "  temp_multi['number_filter'] = filter_types\n"
     ]
    },
    {
     "name": "stdout",
     "output_type": "stream",
     "text": [
      "i= 0  expand time,0.0 filter time0.0 make_dataframe_time 0.001\n",
      "E07000068\n"
     ]
    },
    {
     "name": "stderr",
     "output_type": "stream",
     "text": [
      "/tf/empty_homes_london/helper_functions.py:279: SettingWithCopyWarning: \n",
      "A value is trying to be set on a copy of a slice from a DataFrame.\n",
      "Try using .loc[row_indexer,col_indexer] = value instead\n",
      "\n",
      "See the caveats in the documentation: https://pandas.pydata.org/pandas-docs/stable/user_guide/indexing.html#returning-a-view-versus-a-copy\n",
      "  temp_multi['number_filter'] = filter_types\n",
      "/tf/empty_homes_london/helper_functions.py:279: SettingWithCopyWarning: \n",
      "A value is trying to be set on a copy of a slice from a DataFrame.\n",
      "Try using .loc[row_indexer,col_indexer] = value instead\n",
      "\n",
      "See the caveats in the documentation: https://pandas.pydata.org/pandas-docs/stable/user_guide/indexing.html#returning-a-view-versus-a-copy\n",
      "  temp_multi['number_filter'] = filter_types\n"
     ]
    },
    {
     "name": "stdout",
     "output_type": "stream",
     "text": [
      "i= 0  expand time,0.0 filter time0.0 make_dataframe_time 0.001\n",
      "E07000215\n",
      "i= 0  expand time,0.0 filter time0.0 make_dataframe_time 0.001\n",
      "E07000062\n",
      "i= 0  expand time,0.0 filter time0.0 make_dataframe_time 0.001\n"
     ]
    },
    {
     "name": "stderr",
     "output_type": "stream",
     "text": [
      "/tf/empty_homes_london/helper_functions.py:279: SettingWithCopyWarning: \n",
      "A value is trying to be set on a copy of a slice from a DataFrame.\n",
      "Try using .loc[row_indexer,col_indexer] = value instead\n",
      "\n",
      "See the caveats in the documentation: https://pandas.pydata.org/pandas-docs/stable/user_guide/indexing.html#returning-a-view-versus-a-copy\n",
      "  temp_multi['number_filter'] = filter_types\n"
     ]
    },
    {
     "name": "stdout",
     "output_type": "stream",
     "text": [
      "E07000043\n",
      "i= 0  expand time,0.0 filter time0.0 make_dataframe_time 0.001\n",
      "E07000047\n"
     ]
    },
    {
     "name": "stderr",
     "output_type": "stream",
     "text": [
      "/tf/empty_homes_london/helper_functions.py:279: SettingWithCopyWarning: \n",
      "A value is trying to be set on a copy of a slice from a DataFrame.\n",
      "Try using .loc[row_indexer,col_indexer] = value instead\n",
      "\n",
      "See the caveats in the documentation: https://pandas.pydata.org/pandas-docs/stable/user_guide/indexing.html#returning-a-view-versus-a-copy\n",
      "  temp_multi['number_filter'] = filter_types\n",
      "/tf/empty_homes_london/helper_functions.py:279: SettingWithCopyWarning: \n",
      "A value is trying to be set on a copy of a slice from a DataFrame.\n",
      "Try using .loc[row_indexer,col_indexer] = value instead\n",
      "\n",
      "See the caveats in the documentation: https://pandas.pydata.org/pandas-docs/stable/user_guide/indexing.html#returning-a-view-versus-a-copy\n",
      "  temp_multi['number_filter'] = filter_types\n"
     ]
    },
    {
     "name": "stdout",
     "output_type": "stream",
     "text": [
      "i= 0  expand time,0.0 filter time0.0 make_dataframe_time 0.001\n",
      "E07000035\n",
      "i= 0  expand time,0.0 filter time0.0 make_dataframe_time 0.001\n",
      "E07000195\n"
     ]
    },
    {
     "name": "stderr",
     "output_type": "stream",
     "text": [
      "/tf/empty_homes_london/helper_functions.py:279: SettingWithCopyWarning: \n",
      "A value is trying to be set on a copy of a slice from a DataFrame.\n",
      "Try using .loc[row_indexer,col_indexer] = value instead\n",
      "\n",
      "See the caveats in the documentation: https://pandas.pydata.org/pandas-docs/stable/user_guide/indexing.html#returning-a-view-versus-a-copy\n",
      "  temp_multi['number_filter'] = filter_types\n",
      "/tf/empty_homes_london/helper_functions.py:279: SettingWithCopyWarning: \n",
      "A value is trying to be set on a copy of a slice from a DataFrame.\n",
      "Try using .loc[row_indexer,col_indexer] = value instead\n",
      "\n",
      "See the caveats in the documentation: https://pandas.pydata.org/pandas-docs/stable/user_guide/indexing.html#returning-a-view-versus-a-copy\n",
      "  temp_multi['number_filter'] = filter_types\n"
     ]
    },
    {
     "name": "stdout",
     "output_type": "stream",
     "text": [
      "i= 0  expand time,0.0 filter time0.0 make_dataframe_time 0.001\n",
      "E07000166\n",
      "E06000061\n"
     ]
    },
    {
     "name": "stderr",
     "output_type": "stream",
     "text": [
      "/tf/empty_homes_london/helper_functions.py:279: SettingWithCopyWarning: \n",
      "A value is trying to be set on a copy of a slice from a DataFrame.\n",
      "Try using .loc[row_indexer,col_indexer] = value instead\n",
      "\n",
      "See the caveats in the documentation: https://pandas.pydata.org/pandas-docs/stable/user_guide/indexing.html#returning-a-view-versus-a-copy\n",
      "  temp_multi['number_filter'] = filter_types\n",
      "/tf/empty_homes_london/helper_functions.py:279: SettingWithCopyWarning: \n",
      "A value is trying to be set on a copy of a slice from a DataFrame.\n",
      "Try using .loc[row_indexer,col_indexer] = value instead\n",
      "\n",
      "See the caveats in the documentation: https://pandas.pydata.org/pandas-docs/stable/user_guide/indexing.html#returning-a-view-versus-a-copy\n",
      "  temp_multi['number_filter'] = filter_types\n"
     ]
    },
    {
     "name": "stdout",
     "output_type": "stream",
     "text": [
      "i= 0  expand time,0.0 filter time0.0 make_dataframe_time 0.001\n",
      "E06000062\n",
      "i= 0  expand time,0.0 filter time0.0 make_dataframe_time 0.001\n",
      "E07000112\n",
      "i= 0  expand time,0.0 filter time0.0 make_dataframe_time 0.001\n"
     ]
    },
    {
     "name": "stderr",
     "output_type": "stream",
     "text": [
      "/tf/empty_homes_london/helper_functions.py:279: SettingWithCopyWarning: \n",
      "A value is trying to be set on a copy of a slice from a DataFrame.\n",
      "Try using .loc[row_indexer,col_indexer] = value instead\n",
      "\n",
      "See the caveats in the documentation: https://pandas.pydata.org/pandas-docs/stable/user_guide/indexing.html#returning-a-view-versus-a-copy\n",
      "  temp_multi['number_filter'] = filter_types\n"
     ]
    },
    {
     "name": "stdout",
     "output_type": "stream",
     "text": [
      "E06000053\n"
     ]
    }
   ],
   "source": [
    "all_lads = ocod_data.lad11cd.unique()\n",
    "\n",
    "matched_lads_list = []\n",
    "\n",
    "all_lads = [x for x in all_lads if str(x) != 'nan']\n",
    "#see which roads match a road in voa data set for each local authority\n",
    "for target_lad in all_lads:\n",
    "    print(target_lad)\n",
    "    #temp['matches_business_address'] = business_address_matcher(temp['street_name'], temp['street_number'], voa_businesses, target_lad)\n",
    "    matched_lads_list = matched_lads_list + [massaged_address_match(ocod_data, voa_businesses, target_lad)]\n",
    "\n",
    "    #matched_lads_list = [massaged_address_match(ocod_data, voa_businesses, target_lad) for target_lad in all_lads]\n"
   ]
  },
  {
   "cell_type": "code",
   "execution_count": 26,
   "id": "27114b81",
   "metadata": {},
   "outputs": [
    {
     "data": {
      "text/html": [
       "<div>\n",
       "<style scoped>\n",
       "    .dataframe tbody tr th:only-of-type {\n",
       "        vertical-align: middle;\n",
       "    }\n",
       "\n",
       "    .dataframe tbody tr th {\n",
       "        vertical-align: top;\n",
       "    }\n",
       "\n",
       "    .dataframe thead th {\n",
       "        text-align: right;\n",
       "    }\n",
       "</style>\n",
       "<table border=\"1\" class=\"dataframe\">\n",
       "  <thead>\n",
       "    <tr style=\"text-align: right;\">\n",
       "      <th></th>\n",
       "      <th>primary_and_secondary_description_code</th>\n",
       "      <th>primary_description_text</th>\n",
       "      <th>unique_address_reference_number_uarn</th>\n",
       "      <th>full_property_identifier</th>\n",
       "      <th>firms_name</th>\n",
       "      <th>number_or_name</th>\n",
       "      <th>street</th>\n",
       "      <th>town</th>\n",
       "      <th>postal_district</th>\n",
       "      <th>county</th>\n",
       "      <th>postcode</th>\n",
       "      <th>street_number</th>\n",
       "      <th>postcode2</th>\n",
       "      <th>building_name</th>\n",
       "      <th>lad11cd</th>\n",
       "      <th>oa11cd</th>\n",
       "      <th>lsoa11cd</th>\n",
       "      <th>msoa11cd</th>\n",
       "      <th>street_name2</th>\n",
       "    </tr>\n",
       "  </thead>\n",
       "  <tbody>\n",
       "    <tr>\n",
       "      <th>2175556</th>\n",
       "      <td>CO</td>\n",
       "      <td>OFFICES AND PREMISES</td>\n",
       "      <td>8068183000</td>\n",
       "      <td>10, ERNEST HARRIS HOUSE 61, ELGIN AVENUE, LONDON</td>\n",
       "      <td>NaN</td>\n",
       "      <td>10</td>\n",
       "      <td>elgin avenue</td>\n",
       "      <td>LONDON</td>\n",
       "      <td>NaN</td>\n",
       "      <td>NaN</td>\n",
       "      <td>w9 2bx</td>\n",
       "      <td>10</td>\n",
       "      <td>w92bx</td>\n",
       "      <td>NaN</td>\n",
       "      <td>E09000033</td>\n",
       "      <td>E00023604</td>\n",
       "      <td>E01004675</td>\n",
       "      <td>E02000964</td>\n",
       "      <td>elginavenue</td>\n",
       "    </tr>\n",
       "    <tr>\n",
       "      <th>2175557</th>\n",
       "      <td>LC</td>\n",
       "      <td>COMMUNITY CENTRE</td>\n",
       "      <td>332017088</td>\n",
       "      <td>63, ELGIN AVENUE, LONDON</td>\n",
       "      <td>NaN</td>\n",
       "      <td>63</td>\n",
       "      <td>elgin avenue</td>\n",
       "      <td>LONDON</td>\n",
       "      <td>NaN</td>\n",
       "      <td>NaN</td>\n",
       "      <td>w9 2bx</td>\n",
       "      <td>63</td>\n",
       "      <td>w92bx</td>\n",
       "      <td>NaN</td>\n",
       "      <td>E09000033</td>\n",
       "      <td>E00023604</td>\n",
       "      <td>E01004675</td>\n",
       "      <td>E02000964</td>\n",
       "      <td>elginavenue</td>\n",
       "    </tr>\n",
       "    <tr>\n",
       "      <th>2175558</th>\n",
       "      <td>CO</td>\n",
       "      <td>SURGERY AND PREMISES</td>\n",
       "      <td>7107750000</td>\n",
       "      <td>GRD FLR 40, ELGIN AVENUE, LONDON</td>\n",
       "      <td>NaN</td>\n",
       "      <td>GRD FLR 40</td>\n",
       "      <td>elgin avenue</td>\n",
       "      <td>LONDON</td>\n",
       "      <td>NaN</td>\n",
       "      <td>NaN</td>\n",
       "      <td>w9 3qt</td>\n",
       "      <td>40</td>\n",
       "      <td>w93qt</td>\n",
       "      <td>NaN</td>\n",
       "      <td>E09000033</td>\n",
       "      <td>E00023604</td>\n",
       "      <td>E01004675</td>\n",
       "      <td>E02000964</td>\n",
       "      <td>elginavenue</td>\n",
       "    </tr>\n",
       "    <tr>\n",
       "      <th>2175559</th>\n",
       "      <td>CO</td>\n",
       "      <td>OFFICES AND PREMISES</td>\n",
       "      <td>240250088</td>\n",
       "      <td>UPPER PT 243, ELGIN AVENUE, LONDON</td>\n",
       "      <td>NaN</td>\n",
       "      <td>UPPER PT 243</td>\n",
       "      <td>elgin avenue</td>\n",
       "      <td>LONDON</td>\n",
       "      <td>NaN</td>\n",
       "      <td>NaN</td>\n",
       "      <td>w9 1nj</td>\n",
       "      <td>243</td>\n",
       "      <td>w91nj</td>\n",
       "      <td>NaN</td>\n",
       "      <td>E09000033</td>\n",
       "      <td>E00023798</td>\n",
       "      <td>E01004709</td>\n",
       "      <td>E02000966</td>\n",
       "      <td>elginavenue</td>\n",
       "    </tr>\n",
       "    <tr>\n",
       "      <th>2175560</th>\n",
       "      <td>CO</td>\n",
       "      <td>OFFICES AND PREMISES</td>\n",
       "      <td>240228088</td>\n",
       "      <td>BST 243, ELGIN AVENUE, LONDON</td>\n",
       "      <td>NaN</td>\n",
       "      <td>BST 243</td>\n",
       "      <td>elgin avenue</td>\n",
       "      <td>LONDON</td>\n",
       "      <td>NaN</td>\n",
       "      <td>NaN</td>\n",
       "      <td>w9 1nj</td>\n",
       "      <td>243</td>\n",
       "      <td>w91nj</td>\n",
       "      <td>NaN</td>\n",
       "      <td>E09000033</td>\n",
       "      <td>E00023798</td>\n",
       "      <td>E01004709</td>\n",
       "      <td>E02000966</td>\n",
       "      <td>elginavenue</td>\n",
       "    </tr>\n",
       "    <tr>\n",
       "      <th>2175561</th>\n",
       "      <td>CL</td>\n",
       "      <td>PUBLIC HOUSE AND PREMISES</td>\n",
       "      <td>3723249000</td>\n",
       "      <td>THE ELGIN 255, ELGIN AVENUE, LONDON</td>\n",
       "      <td>NaN</td>\n",
       "      <td>THE ELGIN 255</td>\n",
       "      <td>elgin avenue</td>\n",
       "      <td>LONDON</td>\n",
       "      <td>NaN</td>\n",
       "      <td>NaN</td>\n",
       "      <td>w9 1nj</td>\n",
       "      <td>255</td>\n",
       "      <td>w91nj</td>\n",
       "      <td>NaN</td>\n",
       "      <td>E09000033</td>\n",
       "      <td>E00023798</td>\n",
       "      <td>E01004709</td>\n",
       "      <td>E02000966</td>\n",
       "      <td>elginavenue</td>\n",
       "    </tr>\n",
       "    <tr>\n",
       "      <th>2175562</th>\n",
       "      <td>CS</td>\n",
       "      <td>SHOP AND PREMISES</td>\n",
       "      <td>340022088</td>\n",
       "      <td>BST &amp; GRD FLR 249, ELGIN AVENUE, LONDON</td>\n",
       "      <td>NaN</td>\n",
       "      <td>BST &amp; GRD FLR 249</td>\n",
       "      <td>elgin avenue</td>\n",
       "      <td>LONDON</td>\n",
       "      <td>NaN</td>\n",
       "      <td>NaN</td>\n",
       "      <td>w9 1nj</td>\n",
       "      <td>249</td>\n",
       "      <td>w91nj</td>\n",
       "      <td>NaN</td>\n",
       "      <td>E09000033</td>\n",
       "      <td>E00023798</td>\n",
       "      <td>E01004709</td>\n",
       "      <td>E02000966</td>\n",
       "      <td>elginavenue</td>\n",
       "    </tr>\n",
       "    <tr>\n",
       "      <th>2175563</th>\n",
       "      <td>CS</td>\n",
       "      <td>SHOP AND PREMISES</td>\n",
       "      <td>240246088</td>\n",
       "      <td>BST &amp; GRD FLR 241, ELGIN AVENUE, LONDON</td>\n",
       "      <td>NaN</td>\n",
       "      <td>BST &amp; GRD FLR 241</td>\n",
       "      <td>elgin avenue</td>\n",
       "      <td>LONDON</td>\n",
       "      <td>NaN</td>\n",
       "      <td>NaN</td>\n",
       "      <td>w9 1nj</td>\n",
       "      <td>241</td>\n",
       "      <td>w91nj</td>\n",
       "      <td>NaN</td>\n",
       "      <td>E09000033</td>\n",
       "      <td>E00023798</td>\n",
       "      <td>E01004709</td>\n",
       "      <td>E02000966</td>\n",
       "      <td>elginavenue</td>\n",
       "    </tr>\n",
       "    <tr>\n",
       "      <th>2175564</th>\n",
       "      <td>CS</td>\n",
       "      <td>SHOP AND PREMISES</td>\n",
       "      <td>240238088</td>\n",
       "      <td>237, ELGIN AVENUE, LONDON</td>\n",
       "      <td>NaN</td>\n",
       "      <td>237</td>\n",
       "      <td>elgin avenue</td>\n",
       "      <td>LONDON</td>\n",
       "      <td>NaN</td>\n",
       "      <td>NaN</td>\n",
       "      <td>w9 1nj</td>\n",
       "      <td>237</td>\n",
       "      <td>w91nj</td>\n",
       "      <td>NaN</td>\n",
       "      <td>E09000033</td>\n",
       "      <td>E00023798</td>\n",
       "      <td>E01004709</td>\n",
       "      <td>E02000966</td>\n",
       "      <td>elginavenue</td>\n",
       "    </tr>\n",
       "    <tr>\n",
       "      <th>2175565</th>\n",
       "      <td>CS</td>\n",
       "      <td>SHOP AND PREMISES</td>\n",
       "      <td>240248088</td>\n",
       "      <td>GRD FLR 243, ELGIN AVENUE, LONDON</td>\n",
       "      <td>NaN</td>\n",
       "      <td>GRD FLR 243</td>\n",
       "      <td>elgin avenue</td>\n",
       "      <td>LONDON</td>\n",
       "      <td>NaN</td>\n",
       "      <td>NaN</td>\n",
       "      <td>w9 1nj</td>\n",
       "      <td>243</td>\n",
       "      <td>w91nj</td>\n",
       "      <td>NaN</td>\n",
       "      <td>E09000033</td>\n",
       "      <td>E00023798</td>\n",
       "      <td>E01004709</td>\n",
       "      <td>E02000966</td>\n",
       "      <td>elginavenue</td>\n",
       "    </tr>\n",
       "    <tr>\n",
       "      <th>2175566</th>\n",
       "      <td>CS</td>\n",
       "      <td>SHOP AND PREMISES</td>\n",
       "      <td>240258088</td>\n",
       "      <td>BST &amp; GRD FLR 245, ELGIN AVENUE, LONDON</td>\n",
       "      <td>NaN</td>\n",
       "      <td>BST &amp; GRD FLR 245</td>\n",
       "      <td>elgin avenue</td>\n",
       "      <td>LONDON</td>\n",
       "      <td>NaN</td>\n",
       "      <td>NaN</td>\n",
       "      <td>w9 1nj</td>\n",
       "      <td>245</td>\n",
       "      <td>w91nj</td>\n",
       "      <td>NaN</td>\n",
       "      <td>E09000033</td>\n",
       "      <td>E00023798</td>\n",
       "      <td>E01004709</td>\n",
       "      <td>E02000966</td>\n",
       "      <td>elginavenue</td>\n",
       "    </tr>\n",
       "    <tr>\n",
       "      <th>2175567</th>\n",
       "      <td>CS</td>\n",
       "      <td>SHOP AND PREMISES</td>\n",
       "      <td>240268088</td>\n",
       "      <td>BST &amp; GRD FLR 251, ELGIN AVENUE, LONDON</td>\n",
       "      <td>NaN</td>\n",
       "      <td>BST &amp; GRD FLR 251</td>\n",
       "      <td>elgin avenue</td>\n",
       "      <td>LONDON</td>\n",
       "      <td>NaN</td>\n",
       "      <td>NaN</td>\n",
       "      <td>w9 1nj</td>\n",
       "      <td>251</td>\n",
       "      <td>w91nj</td>\n",
       "      <td>NaN</td>\n",
       "      <td>E09000033</td>\n",
       "      <td>E00023798</td>\n",
       "      <td>E01004709</td>\n",
       "      <td>E02000966</td>\n",
       "      <td>elginavenue</td>\n",
       "    </tr>\n",
       "    <tr>\n",
       "      <th>2175568</th>\n",
       "      <td>CS</td>\n",
       "      <td>SHOP AND PREMISES</td>\n",
       "      <td>240270088</td>\n",
       "      <td>253, ELGIN AVENUE, LONDON</td>\n",
       "      <td>NaN</td>\n",
       "      <td>253</td>\n",
       "      <td>elgin avenue</td>\n",
       "      <td>LONDON</td>\n",
       "      <td>NaN</td>\n",
       "      <td>NaN</td>\n",
       "      <td>w9 1nj</td>\n",
       "      <td>253</td>\n",
       "      <td>w91nj</td>\n",
       "      <td>NaN</td>\n",
       "      <td>E09000033</td>\n",
       "      <td>E00023798</td>\n",
       "      <td>E01004709</td>\n",
       "      <td>E02000966</td>\n",
       "      <td>elginavenue</td>\n",
       "    </tr>\n",
       "    <tr>\n",
       "      <th>2175569</th>\n",
       "      <td>MT1</td>\n",
       "      <td>COMMUNICATION STATION AND PREMISES</td>\n",
       "      <td>7021700000</td>\n",
       "      <td>O2 SITE (9894) AT THE ELGIN 255, ELGIN AVENUE,...</td>\n",
       "      <td>NaN</td>\n",
       "      <td>O2 SITE (9894) AT THE ELGIN 255</td>\n",
       "      <td>elgin avenue</td>\n",
       "      <td>LONDON</td>\n",
       "      <td>NaN</td>\n",
       "      <td>NaN</td>\n",
       "      <td>w9 1nj</td>\n",
       "      <td>255</td>\n",
       "      <td>w91nj</td>\n",
       "      <td>NaN</td>\n",
       "      <td>E09000033</td>\n",
       "      <td>E00023798</td>\n",
       "      <td>E01004709</td>\n",
       "      <td>E02000966</td>\n",
       "      <td>elginavenue</td>\n",
       "    </tr>\n",
       "    <tr>\n",
       "      <th>2175570</th>\n",
       "      <td>CR</td>\n",
       "      <td>RESTAURANT AND PREMISES</td>\n",
       "      <td>240240088</td>\n",
       "      <td>BST &amp; GRD FLR 239, ELGIN AVENUE, LONDON</td>\n",
       "      <td>NaN</td>\n",
       "      <td>BST &amp; GRD FLR 239</td>\n",
       "      <td>elgin avenue</td>\n",
       "      <td>LONDON</td>\n",
       "      <td>NaN</td>\n",
       "      <td>NaN</td>\n",
       "      <td>w9 1nj</td>\n",
       "      <td>239</td>\n",
       "      <td>w91nj</td>\n",
       "      <td>NaN</td>\n",
       "      <td>E09000033</td>\n",
       "      <td>E00023798</td>\n",
       "      <td>E01004709</td>\n",
       "      <td>E02000966</td>\n",
       "      <td>elginavenue</td>\n",
       "    </tr>\n",
       "    <tr>\n",
       "      <th>2175571</th>\n",
       "      <td>CS</td>\n",
       "      <td>SHOP AND PREMISES</td>\n",
       "      <td>10908770000</td>\n",
       "      <td>PT BST - GRD FLR 247, ELGIN AVENUE, LONDON</td>\n",
       "      <td>NaN</td>\n",
       "      <td>PT BST - GRD FLR 247</td>\n",
       "      <td>elgin avenue</td>\n",
       "      <td>LONDON</td>\n",
       "      <td>NaN</td>\n",
       "      <td>NaN</td>\n",
       "      <td>w9 1nj</td>\n",
       "      <td>247</td>\n",
       "      <td>w91nj</td>\n",
       "      <td>NaN</td>\n",
       "      <td>E09000033</td>\n",
       "      <td>E00023798</td>\n",
       "      <td>E01004709</td>\n",
       "      <td>E02000966</td>\n",
       "      <td>elginavenue</td>\n",
       "    </tr>\n",
       "    <tr>\n",
       "      <th>2175572</th>\n",
       "      <td>MT1</td>\n",
       "      <td>COMMUNICATION STATION AND PREMISES</td>\n",
       "      <td>7032351000</td>\n",
       "      <td>VODAFONE SITE (2661) AT THE ELGIN 255, ELGIN A...</td>\n",
       "      <td>NaN</td>\n",
       "      <td>VODAFONE SITE (2661) AT THE ELGIN 255</td>\n",
       "      <td>elgin avenue</td>\n",
       "      <td>LONDON</td>\n",
       "      <td>NaN</td>\n",
       "      <td>NaN</td>\n",
       "      <td>w9 1nj</td>\n",
       "      <td>255</td>\n",
       "      <td>w91nj</td>\n",
       "      <td>NaN</td>\n",
       "      <td>E09000033</td>\n",
       "      <td>E00023798</td>\n",
       "      <td>E01004709</td>\n",
       "      <td>E02000966</td>\n",
       "      <td>elginavenue</td>\n",
       "    </tr>\n",
       "    <tr>\n",
       "      <th>2175573</th>\n",
       "      <td>CO</td>\n",
       "      <td>OFFICES AND PREMISES</td>\n",
       "      <td>5704256000</td>\n",
       "      <td>59, ELGIN AVENUE, LONDON</td>\n",
       "      <td>NaN</td>\n",
       "      <td>59</td>\n",
       "      <td>elgin avenue</td>\n",
       "      <td>LONDON</td>\n",
       "      <td>NaN</td>\n",
       "      <td>NaN</td>\n",
       "      <td>w9 2db</td>\n",
       "      <td>59</td>\n",
       "      <td>w92db</td>\n",
       "      <td>NaN</td>\n",
       "      <td>E09000033</td>\n",
       "      <td>E00023603</td>\n",
       "      <td>E01004675</td>\n",
       "      <td>E02000964</td>\n",
       "      <td>elginavenue</td>\n",
       "    </tr>\n",
       "    <tr>\n",
       "      <th>2175574</th>\n",
       "      <td>MH</td>\n",
       "      <td>SURGERY AND PREMISES</td>\n",
       "      <td>240509088</td>\n",
       "      <td>GRD FLR 284, ELGIN AVENUE, LONDON</td>\n",
       "      <td>NaN</td>\n",
       "      <td>GRD FLR 284</td>\n",
       "      <td>elgin avenue</td>\n",
       "      <td>LONDON</td>\n",
       "      <td>NaN</td>\n",
       "      <td>NaN</td>\n",
       "      <td>w9 1jr</td>\n",
       "      <td>284</td>\n",
       "      <td>w91jr</td>\n",
       "      <td>NaN</td>\n",
       "      <td>E09000033</td>\n",
       "      <td>E00023778</td>\n",
       "      <td>E01004709</td>\n",
       "      <td>E02000966</td>\n",
       "      <td>elginavenue</td>\n",
       "    </tr>\n",
       "    <tr>\n",
       "      <th>2175575</th>\n",
       "      <td>MH</td>\n",
       "      <td>SURGERY AND PREMISES</td>\n",
       "      <td>335920088</td>\n",
       "      <td>40 41 50A &amp; 51 BIDDULPH MANSIONS, ELGIN AVENUE...</td>\n",
       "      <td>NaN</td>\n",
       "      <td>40 41 50A &amp; 51 BIDDULPH MANSIONS</td>\n",
       "      <td>elgin avenue</td>\n",
       "      <td>LONDON</td>\n",
       "      <td>NaN</td>\n",
       "      <td>NaN</td>\n",
       "      <td>w9 1ht</td>\n",
       "      <td>NaN</td>\n",
       "      <td>w91ht</td>\n",
       "      <td>NaN</td>\n",
       "      <td>E09000033</td>\n",
       "      <td>E00023805</td>\n",
       "      <td>E01004707</td>\n",
       "      <td>E02000965</td>\n",
       "      <td>elginavenue</td>\n",
       "    </tr>\n",
       "    <tr>\n",
       "      <th>2175576</th>\n",
       "      <td>MH</td>\n",
       "      <td>SURGERY AND PREMISES</td>\n",
       "      <td>336882088</td>\n",
       "      <td>235A, ELGIN AVENUE, LONDON</td>\n",
       "      <td>NaN</td>\n",
       "      <td>235A</td>\n",
       "      <td>elgin avenue</td>\n",
       "      <td>LONDON</td>\n",
       "      <td>NaN</td>\n",
       "      <td>NaN</td>\n",
       "      <td>w9 1nh</td>\n",
       "      <td>235</td>\n",
       "      <td>w91nh</td>\n",
       "      <td>NaN</td>\n",
       "      <td>E09000033</td>\n",
       "      <td>E00023778</td>\n",
       "      <td>E01004709</td>\n",
       "      <td>E02000966</td>\n",
       "      <td>elginavenue</td>\n",
       "    </tr>\n",
       "    <tr>\n",
       "      <th>2175577</th>\n",
       "      <td>CS1</td>\n",
       "      <td>BANK AND PREMISES</td>\n",
       "      <td>400494088</td>\n",
       "      <td>(INCL S/O 4-6) BST &amp; GRD FLR 2, ELGIN AVENUE, ...</td>\n",
       "      <td>NaN</td>\n",
       "      <td>(INCL S/O 4-6) BST &amp; GRD FLR 2</td>\n",
       "      <td>elgin avenue</td>\n",
       "      <td>LONDON</td>\n",
       "      <td>NaN</td>\n",
       "      <td>NaN</td>\n",
       "      <td>w9 3qp</td>\n",
       "      <td>2</td>\n",
       "      <td>w93qp</td>\n",
       "      <td>NaN</td>\n",
       "      <td>E09000033</td>\n",
       "      <td>E00023612</td>\n",
       "      <td>E01004675</td>\n",
       "      <td>E02000964</td>\n",
       "      <td>elginavenue</td>\n",
       "    </tr>\n",
       "    <tr>\n",
       "      <th>2175578</th>\n",
       "      <td>CS</td>\n",
       "      <td>SHOP AND PREMISES</td>\n",
       "      <td>2260853000</td>\n",
       "      <td>BST &amp; GRD FLR 55, ELGIN AVENUE, LONDON</td>\n",
       "      <td>NaN</td>\n",
       "      <td>BST &amp; GRD FLR 55</td>\n",
       "      <td>elgin avenue</td>\n",
       "      <td>LONDON</td>\n",
       "      <td>NaN</td>\n",
       "      <td>NaN</td>\n",
       "      <td>w9 3qp</td>\n",
       "      <td>55</td>\n",
       "      <td>w93qp</td>\n",
       "      <td>NaN</td>\n",
       "      <td>E09000033</td>\n",
       "      <td>E00023612</td>\n",
       "      <td>E01004675</td>\n",
       "      <td>E02000964</td>\n",
       "      <td>elginavenue</td>\n",
       "    </tr>\n",
       "    <tr>\n",
       "      <th>2175579</th>\n",
       "      <td>CL</td>\n",
       "      <td>PUBLIC HOUSE AND PREMISES</td>\n",
       "      <td>332016088</td>\n",
       "      <td>ELEPHANT &amp; CASTLE 16, ELGIN AVENUE, LONDON</td>\n",
       "      <td>NaN</td>\n",
       "      <td>ELEPHANT &amp; CASTLE 16</td>\n",
       "      <td>elgin avenue</td>\n",
       "      <td>LONDON</td>\n",
       "      <td>NaN</td>\n",
       "      <td>NaN</td>\n",
       "      <td>w9 3qp</td>\n",
       "      <td>16</td>\n",
       "      <td>w93qp</td>\n",
       "      <td>NaN</td>\n",
       "      <td>E09000033</td>\n",
       "      <td>E00023612</td>\n",
       "      <td>E01004675</td>\n",
       "      <td>E02000964</td>\n",
       "      <td>elginavenue</td>\n",
       "    </tr>\n",
       "    <tr>\n",
       "      <th>2175580</th>\n",
       "      <td>EL1</td>\n",
       "      <td>COLLEGE AND PREMISES</td>\n",
       "      <td>332013088</td>\n",
       "      <td>CITY OF WESTMINSTER COLLEGE, ELGIN AVENUE, LONDON</td>\n",
       "      <td>NaN</td>\n",
       "      <td>CITY OF WESTMINSTER COLLEGE</td>\n",
       "      <td>elgin avenue</td>\n",
       "      <td>LONDON</td>\n",
       "      <td>NaN</td>\n",
       "      <td>NaN</td>\n",
       "      <td>w9 2nr</td>\n",
       "      <td>NaN</td>\n",
       "      <td>w92nr</td>\n",
       "      <td>NaN</td>\n",
       "      <td>E09000033</td>\n",
       "      <td>E00023808</td>\n",
       "      <td>E01004706</td>\n",
       "      <td>E02000965</td>\n",
       "      <td>elginavenue</td>\n",
       "    </tr>\n",
       "    <tr>\n",
       "      <th>2175581</th>\n",
       "      <td>CS</td>\n",
       "      <td>SHOP AND PREMISES</td>\n",
       "      <td>240525088</td>\n",
       "      <td>BST &amp; GRD FLR 304, ELGIN AVENUE, LONDON</td>\n",
       "      <td>NaN</td>\n",
       "      <td>BST &amp; GRD FLR 304</td>\n",
       "      <td>elgin avenue</td>\n",
       "      <td>LONDON</td>\n",
       "      <td>NaN</td>\n",
       "      <td>NaN</td>\n",
       "      <td>w9 1js</td>\n",
       "      <td>304</td>\n",
       "      <td>w91js</td>\n",
       "      <td>NaN</td>\n",
       "      <td>E09000033</td>\n",
       "      <td>E00023798</td>\n",
       "      <td>E01004709</td>\n",
       "      <td>E02000966</td>\n",
       "      <td>elginavenue</td>\n",
       "    </tr>\n",
       "    <tr>\n",
       "      <th>2175582</th>\n",
       "      <td>CS</td>\n",
       "      <td>SHOP AND PREMISES</td>\n",
       "      <td>332014088</td>\n",
       "      <td>BST &amp; GRD FLR 290, ELGIN AVENUE, LONDON</td>\n",
       "      <td>NaN</td>\n",
       "      <td>BST &amp; GRD FLR 290</td>\n",
       "      <td>elgin avenue</td>\n",
       "      <td>LONDON</td>\n",
       "      <td>NaN</td>\n",
       "      <td>NaN</td>\n",
       "      <td>w9 1js</td>\n",
       "      <td>290</td>\n",
       "      <td>w91js</td>\n",
       "      <td>NaN</td>\n",
       "      <td>E09000033</td>\n",
       "      <td>E00023798</td>\n",
       "      <td>E01004709</td>\n",
       "      <td>E02000966</td>\n",
       "      <td>elginavenue</td>\n",
       "    </tr>\n",
       "    <tr>\n",
       "      <th>2175583</th>\n",
       "      <td>CS</td>\n",
       "      <td>SHOP AND PREMISES</td>\n",
       "      <td>240520088</td>\n",
       "      <td>BST &amp; GRD FLR 292, ELGIN AVENUE, LONDON</td>\n",
       "      <td>NaN</td>\n",
       "      <td>BST &amp; GRD FLR 292</td>\n",
       "      <td>elgin avenue</td>\n",
       "      <td>LONDON</td>\n",
       "      <td>NaN</td>\n",
       "      <td>NaN</td>\n",
       "      <td>w9 1js</td>\n",
       "      <td>292</td>\n",
       "      <td>w91js</td>\n",
       "      <td>NaN</td>\n",
       "      <td>E09000033</td>\n",
       "      <td>E00023798</td>\n",
       "      <td>E01004709</td>\n",
       "      <td>E02000966</td>\n",
       "      <td>elginavenue</td>\n",
       "    </tr>\n",
       "    <tr>\n",
       "      <th>2175584</th>\n",
       "      <td>CS</td>\n",
       "      <td>SHOP AND PREMISES</td>\n",
       "      <td>240521088</td>\n",
       "      <td>BST &amp; GRD FLR 294, ELGIN AVENUE, LONDON</td>\n",
       "      <td>NaN</td>\n",
       "      <td>BST &amp; GRD FLR 294</td>\n",
       "      <td>elgin avenue</td>\n",
       "      <td>LONDON</td>\n",
       "      <td>NaN</td>\n",
       "      <td>NaN</td>\n",
       "      <td>w9 1js</td>\n",
       "      <td>294</td>\n",
       "      <td>w91js</td>\n",
       "      <td>NaN</td>\n",
       "      <td>E09000033</td>\n",
       "      <td>E00023798</td>\n",
       "      <td>E01004709</td>\n",
       "      <td>E02000966</td>\n",
       "      <td>elginavenue</td>\n",
       "    </tr>\n",
       "    <tr>\n",
       "      <th>2175585</th>\n",
       "      <td>CS</td>\n",
       "      <td>SHOP AND PREMISES</td>\n",
       "      <td>240522088</td>\n",
       "      <td>BST &amp; GRD FLR 296, ELGIN AVENUE, LONDON</td>\n",
       "      <td>NaN</td>\n",
       "      <td>BST &amp; GRD FLR 296</td>\n",
       "      <td>elgin avenue</td>\n",
       "      <td>LONDON</td>\n",
       "      <td>NaN</td>\n",
       "      <td>NaN</td>\n",
       "      <td>w9 1js</td>\n",
       "      <td>296</td>\n",
       "      <td>w91js</td>\n",
       "      <td>NaN</td>\n",
       "      <td>E09000033</td>\n",
       "      <td>E00023798</td>\n",
       "      <td>E01004709</td>\n",
       "      <td>E02000966</td>\n",
       "      <td>elginavenue</td>\n",
       "    </tr>\n",
       "    <tr>\n",
       "      <th>2175586</th>\n",
       "      <td>CS</td>\n",
       "      <td>SHOP AND PREMISES</td>\n",
       "      <td>240524088</td>\n",
       "      <td>BST &amp; GRD FLR 302, ELGIN AVENUE, LONDON</td>\n",
       "      <td>NaN</td>\n",
       "      <td>BST &amp; GRD FLR 302</td>\n",
       "      <td>elgin avenue</td>\n",
       "      <td>LONDON</td>\n",
       "      <td>NaN</td>\n",
       "      <td>NaN</td>\n",
       "      <td>w9 1js</td>\n",
       "      <td>302</td>\n",
       "      <td>w91js</td>\n",
       "      <td>NaN</td>\n",
       "      <td>E09000033</td>\n",
       "      <td>E00023798</td>\n",
       "      <td>E01004709</td>\n",
       "      <td>E02000966</td>\n",
       "      <td>elginavenue</td>\n",
       "    </tr>\n",
       "    <tr>\n",
       "      <th>2175587</th>\n",
       "      <td>CS</td>\n",
       "      <td>SHOP AND PREMISES</td>\n",
       "      <td>12669512000</td>\n",
       "      <td>BST-GND FLR 298-300, ELGIN AVENUE, LONDON</td>\n",
       "      <td>NaN</td>\n",
       "      <td>BST-GND FLR 298-300</td>\n",
       "      <td>elgin avenue</td>\n",
       "      <td>LONDON</td>\n",
       "      <td>NaN</td>\n",
       "      <td>NaN</td>\n",
       "      <td>w9 1js</td>\n",
       "      <td>298-300</td>\n",
       "      <td>w91js</td>\n",
       "      <td>NaN</td>\n",
       "      <td>E09000033</td>\n",
       "      <td>E00023798</td>\n",
       "      <td>E01004709</td>\n",
       "      <td>E02000966</td>\n",
       "      <td>elginavenue</td>\n",
       "    </tr>\n",
       "    <tr>\n",
       "      <th>2175588</th>\n",
       "      <td>CS1</td>\n",
       "      <td>BANK AND PREMISES</td>\n",
       "      <td>240523088</td>\n",
       "      <td>BST &amp; GRD FLR 298-300, ELGIN AVENUE, LONDON</td>\n",
       "      <td>NaN</td>\n",
       "      <td>BST &amp; GRD FLR 298-300</td>\n",
       "      <td>elgin avenue</td>\n",
       "      <td>LONDON</td>\n",
       "      <td>NaN</td>\n",
       "      <td>NaN</td>\n",
       "      <td>w9 1js</td>\n",
       "      <td>298-300</td>\n",
       "      <td>w91js</td>\n",
       "      <td>NaN</td>\n",
       "      <td>E09000033</td>\n",
       "      <td>E00023798</td>\n",
       "      <td>E01004709</td>\n",
       "      <td>E02000966</td>\n",
       "      <td>elginavenue</td>\n",
       "    </tr>\n",
       "    <tr>\n",
       "      <th>2175589</th>\n",
       "      <td>CS1</td>\n",
       "      <td>BANK AND PREMISES</td>\n",
       "      <td>240530088</td>\n",
       "      <td>GRD FLR 318-322, ELGIN AVENUE, LONDON</td>\n",
       "      <td>NaN</td>\n",
       "      <td>GRD FLR 318-322</td>\n",
       "      <td>elgin avenue</td>\n",
       "      <td>LONDON</td>\n",
       "      <td>NaN</td>\n",
       "      <td>NaN</td>\n",
       "      <td>w9 1ju</td>\n",
       "      <td>318-322</td>\n",
       "      <td>w91ju</td>\n",
       "      <td>NaN</td>\n",
       "      <td>E09000033</td>\n",
       "      <td>E00023798</td>\n",
       "      <td>E01004709</td>\n",
       "      <td>E02000966</td>\n",
       "      <td>elginavenue</td>\n",
       "    </tr>\n",
       "    <tr>\n",
       "      <th>2175590</th>\n",
       "      <td>CS</td>\n",
       "      <td>SHOP AND PREMISES</td>\n",
       "      <td>240526088</td>\n",
       "      <td>GRD FLR 306, ELGIN AVENUE, LONDON</td>\n",
       "      <td>NaN</td>\n",
       "      <td>GRD FLR 306</td>\n",
       "      <td>elgin avenue</td>\n",
       "      <td>LONDON</td>\n",
       "      <td>NaN</td>\n",
       "      <td>NaN</td>\n",
       "      <td>w9 1ju</td>\n",
       "      <td>306</td>\n",
       "      <td>w91ju</td>\n",
       "      <td>NaN</td>\n",
       "      <td>E09000033</td>\n",
       "      <td>E00023798</td>\n",
       "      <td>E01004709</td>\n",
       "      <td>E02000966</td>\n",
       "      <td>elginavenue</td>\n",
       "    </tr>\n",
       "    <tr>\n",
       "      <th>2175591</th>\n",
       "      <td>CS</td>\n",
       "      <td>SHOP AND PREMISES</td>\n",
       "      <td>240528088</td>\n",
       "      <td>GRD FLR 310-312, ELGIN AVENUE, LONDON</td>\n",
       "      <td>NaN</td>\n",
       "      <td>GRD FLR 310-312</td>\n",
       "      <td>elgin avenue</td>\n",
       "      <td>LONDON</td>\n",
       "      <td>NaN</td>\n",
       "      <td>NaN</td>\n",
       "      <td>w9 1ju</td>\n",
       "      <td>310-312</td>\n",
       "      <td>w91ju</td>\n",
       "      <td>NaN</td>\n",
       "      <td>E09000033</td>\n",
       "      <td>E00023798</td>\n",
       "      <td>E01004709</td>\n",
       "      <td>E02000966</td>\n",
       "      <td>elginavenue</td>\n",
       "    </tr>\n",
       "    <tr>\n",
       "      <th>2175592</th>\n",
       "      <td>CS</td>\n",
       "      <td>SHOP AND PREMISES</td>\n",
       "      <td>240529088</td>\n",
       "      <td>GRD FLR 314-316, ELGIN AVENUE, LONDON</td>\n",
       "      <td>NaN</td>\n",
       "      <td>GRD FLR 314-316</td>\n",
       "      <td>elgin avenue</td>\n",
       "      <td>LONDON</td>\n",
       "      <td>NaN</td>\n",
       "      <td>NaN</td>\n",
       "      <td>w9 1ju</td>\n",
       "      <td>314-316</td>\n",
       "      <td>w91ju</td>\n",
       "      <td>NaN</td>\n",
       "      <td>E09000033</td>\n",
       "      <td>E00023798</td>\n",
       "      <td>E01004709</td>\n",
       "      <td>E02000966</td>\n",
       "      <td>elginavenue</td>\n",
       "    </tr>\n",
       "    <tr>\n",
       "      <th>2175593</th>\n",
       "      <td>CS</td>\n",
       "      <td>SHOP AND PREMISES</td>\n",
       "      <td>240527088</td>\n",
       "      <td>GRD FLR 308, ELGIN AVENUE, LONDON</td>\n",
       "      <td>NaN</td>\n",
       "      <td>GRD FLR 308</td>\n",
       "      <td>elgin avenue</td>\n",
       "      <td>LONDON</td>\n",
       "      <td>NaN</td>\n",
       "      <td>NaN</td>\n",
       "      <td>w9 1ju</td>\n",
       "      <td>308</td>\n",
       "      <td>w91ju</td>\n",
       "      <td>NaN</td>\n",
       "      <td>E09000033</td>\n",
       "      <td>E00023798</td>\n",
       "      <td>E01004709</td>\n",
       "      <td>E02000966</td>\n",
       "      <td>elginavenue</td>\n",
       "    </tr>\n",
       "    <tr>\n",
       "      <th>2175594</th>\n",
       "      <td>CS</td>\n",
       "      <td>SHOP AND PREMISES</td>\n",
       "      <td>3999643000</td>\n",
       "      <td>BST &amp; GRD FLR 57, ELGIN AVENUE, LONDON</td>\n",
       "      <td>NaN</td>\n",
       "      <td>BST &amp; GRD FLR 57</td>\n",
       "      <td>elgin avenue</td>\n",
       "      <td>LONDON</td>\n",
       "      <td>NaN</td>\n",
       "      <td>NaN</td>\n",
       "      <td>w9 3pp</td>\n",
       "      <td>57</td>\n",
       "      <td>w93pp</td>\n",
       "      <td>NaN</td>\n",
       "      <td>E09000033</td>\n",
       "      <td>E00023604</td>\n",
       "      <td>E01004675</td>\n",
       "      <td>E02000964</td>\n",
       "      <td>elginavenue</td>\n",
       "    </tr>\n",
       "    <tr>\n",
       "      <th>2175595</th>\n",
       "      <td>CS</td>\n",
       "      <td>SHOP AND PREMISES</td>\n",
       "      <td>1487543000</td>\n",
       "      <td>BST &amp; GRD 45, ELGIN AVENUE, LONDON</td>\n",
       "      <td>NaN</td>\n",
       "      <td>BST &amp; GRD 45</td>\n",
       "      <td>elgin avenue</td>\n",
       "      <td>LONDON</td>\n",
       "      <td>NaN</td>\n",
       "      <td>NaN</td>\n",
       "      <td>w9 3pp</td>\n",
       "      <td>45</td>\n",
       "      <td>w93pp</td>\n",
       "      <td>NaN</td>\n",
       "      <td>E09000033</td>\n",
       "      <td>E00023604</td>\n",
       "      <td>E01004675</td>\n",
       "      <td>E02000964</td>\n",
       "      <td>elginavenue</td>\n",
       "    </tr>\n",
       "    <tr>\n",
       "      <th>2175596</th>\n",
       "      <td>CS</td>\n",
       "      <td>SHOP AND PREMISES</td>\n",
       "      <td>352775000</td>\n",
       "      <td>BST &amp; GND FLRS 53, ELGIN AVENUE, LONDON</td>\n",
       "      <td>NaN</td>\n",
       "      <td>BST &amp; GND FLRS 53</td>\n",
       "      <td>elgin avenue</td>\n",
       "      <td>LONDON</td>\n",
       "      <td>NaN</td>\n",
       "      <td>NaN</td>\n",
       "      <td>w9 3pp</td>\n",
       "      <td>53</td>\n",
       "      <td>w93pp</td>\n",
       "      <td>NaN</td>\n",
       "      <td>E09000033</td>\n",
       "      <td>E00023604</td>\n",
       "      <td>E01004675</td>\n",
       "      <td>E02000964</td>\n",
       "      <td>elginavenue</td>\n",
       "    </tr>\n",
       "    <tr>\n",
       "      <th>2175597</th>\n",
       "      <td>CS</td>\n",
       "      <td>SHOP AND PREMISES</td>\n",
       "      <td>964939000</td>\n",
       "      <td>BST &amp; GRD FLR 47, ELGIN AVENUE, LONDON</td>\n",
       "      <td>NaN</td>\n",
       "      <td>BST &amp; GRD FLR 47</td>\n",
       "      <td>elgin avenue</td>\n",
       "      <td>LONDON</td>\n",
       "      <td>NaN</td>\n",
       "      <td>NaN</td>\n",
       "      <td>w9 3pp</td>\n",
       "      <td>47</td>\n",
       "      <td>w93pp</td>\n",
       "      <td>NaN</td>\n",
       "      <td>E09000033</td>\n",
       "      <td>E00023604</td>\n",
       "      <td>E01004675</td>\n",
       "      <td>E02000964</td>\n",
       "      <td>elginavenue</td>\n",
       "    </tr>\n",
       "    <tr>\n",
       "      <th>2175598</th>\n",
       "      <td>CS</td>\n",
       "      <td>SHOP AND PREMISES</td>\n",
       "      <td>927062000</td>\n",
       "      <td>BST&amp; GND FL 51, ELGIN AVENUE, LONDON</td>\n",
       "      <td>NaN</td>\n",
       "      <td>BST&amp; GND FL 51</td>\n",
       "      <td>elgin avenue</td>\n",
       "      <td>LONDON</td>\n",
       "      <td>NaN</td>\n",
       "      <td>NaN</td>\n",
       "      <td>w9 3pp</td>\n",
       "      <td>51</td>\n",
       "      <td>w93pp</td>\n",
       "      <td>NaN</td>\n",
       "      <td>E09000033</td>\n",
       "      <td>E00023604</td>\n",
       "      <td>E01004675</td>\n",
       "      <td>E02000964</td>\n",
       "      <td>elginavenue</td>\n",
       "    </tr>\n",
       "    <tr>\n",
       "      <th>2175599</th>\n",
       "      <td>CS</td>\n",
       "      <td>SHOP AND PREMISES</td>\n",
       "      <td>980981000</td>\n",
       "      <td>BST GRD FLR 49, ELGIN AVENUE, LONDON</td>\n",
       "      <td>NaN</td>\n",
       "      <td>BST GRD FLR 49</td>\n",
       "      <td>elgin avenue</td>\n",
       "      <td>LONDON</td>\n",
       "      <td>NaN</td>\n",
       "      <td>NaN</td>\n",
       "      <td>w9 3pp</td>\n",
       "      <td>49</td>\n",
       "      <td>w93pp</td>\n",
       "      <td>NaN</td>\n",
       "      <td>E09000033</td>\n",
       "      <td>E00023604</td>\n",
       "      <td>E01004675</td>\n",
       "      <td>E02000964</td>\n",
       "      <td>elginavenue</td>\n",
       "    </tr>\n",
       "    <tr>\n",
       "      <th>2175600</th>\n",
       "      <td>CS</td>\n",
       "      <td>SHOP AND PREMISES</td>\n",
       "      <td>240274088</td>\n",
       "      <td>GRD FLR 97, ELGIN AVENUE, LONDON</td>\n",
       "      <td>NaN</td>\n",
       "      <td>GRD FLR 97</td>\n",
       "      <td>elgin avenue</td>\n",
       "      <td>LONDON</td>\n",
       "      <td>NaN</td>\n",
       "      <td>NaN</td>\n",
       "      <td>w9 2da</td>\n",
       "      <td>97</td>\n",
       "      <td>w92da</td>\n",
       "      <td>NaN</td>\n",
       "      <td>E09000033</td>\n",
       "      <td>E00023600</td>\n",
       "      <td>E01004676</td>\n",
       "      <td>E02000965</td>\n",
       "      <td>elginavenue</td>\n",
       "    </tr>\n",
       "    <tr>\n",
       "      <th>2175601</th>\n",
       "      <td>CO</td>\n",
       "      <td>OFFICES AND PREMISES</td>\n",
       "      <td>11483512000</td>\n",
       "      <td>BST 97C, ELGIN AVENUE, LONDON</td>\n",
       "      <td>NaN</td>\n",
       "      <td>BST 97C</td>\n",
       "      <td>elgin avenue</td>\n",
       "      <td>LONDON</td>\n",
       "      <td>NaN</td>\n",
       "      <td>NaN</td>\n",
       "      <td>w9 2da</td>\n",
       "      <td>97</td>\n",
       "      <td>w92da</td>\n",
       "      <td>NaN</td>\n",
       "      <td>E09000033</td>\n",
       "      <td>E00023600</td>\n",
       "      <td>E01004676</td>\n",
       "      <td>E02000965</td>\n",
       "      <td>elginavenue</td>\n",
       "    </tr>\n",
       "    <tr>\n",
       "      <th>2175602</th>\n",
       "      <td>CO</td>\n",
       "      <td>OFFICES AND PREMISES</td>\n",
       "      <td>11497005000</td>\n",
       "      <td>1ST FLR 97C, ELGIN AVENUE, LONDON</td>\n",
       "      <td>NaN</td>\n",
       "      <td>1ST FLR 97C</td>\n",
       "      <td>elgin avenue</td>\n",
       "      <td>LONDON</td>\n",
       "      <td>NaN</td>\n",
       "      <td>NaN</td>\n",
       "      <td>w9 2da</td>\n",
       "      <td>97</td>\n",
       "      <td>w92da</td>\n",
       "      <td>NaN</td>\n",
       "      <td>E09000033</td>\n",
       "      <td>E00023600</td>\n",
       "      <td>E01004676</td>\n",
       "      <td>E02000965</td>\n",
       "      <td>elginavenue</td>\n",
       "    </tr>\n",
       "    <tr>\n",
       "      <th>2175603</th>\n",
       "      <td>CO</td>\n",
       "      <td>OFFICES AND PREMISES</td>\n",
       "      <td>11497002000</td>\n",
       "      <td>GND 97C, ELGIN AVENUE, LONDON</td>\n",
       "      <td>NaN</td>\n",
       "      <td>GND 97C</td>\n",
       "      <td>elgin avenue</td>\n",
       "      <td>LONDON</td>\n",
       "      <td>NaN</td>\n",
       "      <td>NaN</td>\n",
       "      <td>w9 2da</td>\n",
       "      <td>97</td>\n",
       "      <td>w92da</td>\n",
       "      <td>NaN</td>\n",
       "      <td>E09000033</td>\n",
       "      <td>E00023600</td>\n",
       "      <td>E01004676</td>\n",
       "      <td>E02000965</td>\n",
       "      <td>elginavenue</td>\n",
       "    </tr>\n",
       "    <tr>\n",
       "      <th>2175604</th>\n",
       "      <td>CO</td>\n",
       "      <td>OFFICES AND PREMISES</td>\n",
       "      <td>7273018000</td>\n",
       "      <td>BST GRD &amp; 1ST FLRS 97C, ELGIN AVENUE, LONDON</td>\n",
       "      <td>NaN</td>\n",
       "      <td>BST GRD &amp; 1ST FLRS 97C</td>\n",
       "      <td>elgin avenue</td>\n",
       "      <td>LONDON</td>\n",
       "      <td>NaN</td>\n",
       "      <td>NaN</td>\n",
       "      <td>w9 2da</td>\n",
       "      <td>97</td>\n",
       "      <td>w92da</td>\n",
       "      <td>NaN</td>\n",
       "      <td>E09000033</td>\n",
       "      <td>E00023600</td>\n",
       "      <td>E01004676</td>\n",
       "      <td>E02000965</td>\n",
       "      <td>elginavenue</td>\n",
       "    </tr>\n",
       "    <tr>\n",
       "      <th>2175605</th>\n",
       "      <td>CO</td>\n",
       "      <td>OFFICES AND PREMISES</td>\n",
       "      <td>11483513000</td>\n",
       "      <td>GND &amp; 1ST FLRS 97C, ELGIN AVENUE, LONDON</td>\n",
       "      <td>NaN</td>\n",
       "      <td>GND &amp; 1ST FLRS 97C</td>\n",
       "      <td>elgin avenue</td>\n",
       "      <td>LONDON</td>\n",
       "      <td>NaN</td>\n",
       "      <td>NaN</td>\n",
       "      <td>w9 2da</td>\n",
       "      <td>97</td>\n",
       "      <td>w92da</td>\n",
       "      <td>NaN</td>\n",
       "      <td>E09000033</td>\n",
       "      <td>E00023600</td>\n",
       "      <td>E01004676</td>\n",
       "      <td>E02000965</td>\n",
       "      <td>elginavenue</td>\n",
       "    </tr>\n",
       "    <tr>\n",
       "      <th>2175606</th>\n",
       "      <td>CS</td>\n",
       "      <td>SHOP AND PREMISES</td>\n",
       "      <td>240426088</td>\n",
       "      <td>BST &amp; GRD FLR 128, ELGIN AVENUE, LONDON</td>\n",
       "      <td>NaN</td>\n",
       "      <td>BST &amp; GRD FLR 128</td>\n",
       "      <td>elgin avenue</td>\n",
       "      <td>LONDON</td>\n",
       "      <td>NaN</td>\n",
       "      <td>NaN</td>\n",
       "      <td>w9 2hd</td>\n",
       "      <td>128</td>\n",
       "      <td>w92hd</td>\n",
       "      <td>NaN</td>\n",
       "      <td>E09000033</td>\n",
       "      <td>E00023600</td>\n",
       "      <td>E01004676</td>\n",
       "      <td>E02000965</td>\n",
       "      <td>elginavenue</td>\n",
       "    </tr>\n",
       "    <tr>\n",
       "      <th>2175607</th>\n",
       "      <td>CO</td>\n",
       "      <td>OFFICES AND PREMISES</td>\n",
       "      <td>12970299000</td>\n",
       "      <td>GND FLR 36A, ELGIN AVENUE, LONDON</td>\n",
       "      <td>NaN</td>\n",
       "      <td>GND FLR 36A</td>\n",
       "      <td>elgin avenue</td>\n",
       "      <td>LONDON</td>\n",
       "      <td>NaN</td>\n",
       "      <td>NaN</td>\n",
       "      <td>w9 3az</td>\n",
       "      <td>36</td>\n",
       "      <td>w93az</td>\n",
       "      <td>NaN</td>\n",
       "      <td>E09000033</td>\n",
       "      <td>E00023612</td>\n",
       "      <td>E01004675</td>\n",
       "      <td>E02000964</td>\n",
       "      <td>elginavenue</td>\n",
       "    </tr>\n",
       "  </tbody>\n",
       "</table>\n",
       "</div>"
      ],
      "text/plain": [
       "        primary_and_secondary_description_code  \\\n",
       "2175556                                     CO   \n",
       "2175557                                     LC   \n",
       "2175558                                     CO   \n",
       "2175559                                     CO   \n",
       "2175560                                     CO   \n",
       "2175561                                     CL   \n",
       "2175562                                     CS   \n",
       "2175563                                     CS   \n",
       "2175564                                     CS   \n",
       "2175565                                     CS   \n",
       "2175566                                     CS   \n",
       "2175567                                     CS   \n",
       "2175568                                     CS   \n",
       "2175569                                    MT1   \n",
       "2175570                                     CR   \n",
       "2175571                                     CS   \n",
       "2175572                                    MT1   \n",
       "2175573                                     CO   \n",
       "2175574                                     MH   \n",
       "2175575                                     MH   \n",
       "2175576                                     MH   \n",
       "2175577                                    CS1   \n",
       "2175578                                     CS   \n",
       "2175579                                     CL   \n",
       "2175580                                    EL1   \n",
       "2175581                                     CS   \n",
       "2175582                                     CS   \n",
       "2175583                                     CS   \n",
       "2175584                                     CS   \n",
       "2175585                                     CS   \n",
       "2175586                                     CS   \n",
       "2175587                                     CS   \n",
       "2175588                                    CS1   \n",
       "2175589                                    CS1   \n",
       "2175590                                     CS   \n",
       "2175591                                     CS   \n",
       "2175592                                     CS   \n",
       "2175593                                     CS   \n",
       "2175594                                     CS   \n",
       "2175595                                     CS   \n",
       "2175596                                     CS   \n",
       "2175597                                     CS   \n",
       "2175598                                     CS   \n",
       "2175599                                     CS   \n",
       "2175600                                     CS   \n",
       "2175601                                     CO   \n",
       "2175602                                     CO   \n",
       "2175603                                     CO   \n",
       "2175604                                     CO   \n",
       "2175605                                     CO   \n",
       "2175606                                     CS   \n",
       "2175607                                     CO   \n",
       "\n",
       "                   primary_description_text  \\\n",
       "2175556                OFFICES AND PREMISES   \n",
       "2175557                    COMMUNITY CENTRE   \n",
       "2175558                SURGERY AND PREMISES   \n",
       "2175559                OFFICES AND PREMISES   \n",
       "2175560                OFFICES AND PREMISES   \n",
       "2175561           PUBLIC HOUSE AND PREMISES   \n",
       "2175562                   SHOP AND PREMISES   \n",
       "2175563                   SHOP AND PREMISES   \n",
       "2175564                   SHOP AND PREMISES   \n",
       "2175565                   SHOP AND PREMISES   \n",
       "2175566                   SHOP AND PREMISES   \n",
       "2175567                   SHOP AND PREMISES   \n",
       "2175568                   SHOP AND PREMISES   \n",
       "2175569  COMMUNICATION STATION AND PREMISES   \n",
       "2175570             RESTAURANT AND PREMISES   \n",
       "2175571                   SHOP AND PREMISES   \n",
       "2175572  COMMUNICATION STATION AND PREMISES   \n",
       "2175573                OFFICES AND PREMISES   \n",
       "2175574                SURGERY AND PREMISES   \n",
       "2175575                SURGERY AND PREMISES   \n",
       "2175576                SURGERY AND PREMISES   \n",
       "2175577                   BANK AND PREMISES   \n",
       "2175578                   SHOP AND PREMISES   \n",
       "2175579           PUBLIC HOUSE AND PREMISES   \n",
       "2175580                COLLEGE AND PREMISES   \n",
       "2175581                   SHOP AND PREMISES   \n",
       "2175582                   SHOP AND PREMISES   \n",
       "2175583                   SHOP AND PREMISES   \n",
       "2175584                   SHOP AND PREMISES   \n",
       "2175585                   SHOP AND PREMISES   \n",
       "2175586                   SHOP AND PREMISES   \n",
       "2175587                   SHOP AND PREMISES   \n",
       "2175588                   BANK AND PREMISES   \n",
       "2175589                   BANK AND PREMISES   \n",
       "2175590                   SHOP AND PREMISES   \n",
       "2175591                   SHOP AND PREMISES   \n",
       "2175592                   SHOP AND PREMISES   \n",
       "2175593                   SHOP AND PREMISES   \n",
       "2175594                   SHOP AND PREMISES   \n",
       "2175595                   SHOP AND PREMISES   \n",
       "2175596                   SHOP AND PREMISES   \n",
       "2175597                   SHOP AND PREMISES   \n",
       "2175598                   SHOP AND PREMISES   \n",
       "2175599                   SHOP AND PREMISES   \n",
       "2175600                   SHOP AND PREMISES   \n",
       "2175601                OFFICES AND PREMISES   \n",
       "2175602                OFFICES AND PREMISES   \n",
       "2175603                OFFICES AND PREMISES   \n",
       "2175604                OFFICES AND PREMISES   \n",
       "2175605                OFFICES AND PREMISES   \n",
       "2175606                   SHOP AND PREMISES   \n",
       "2175607                OFFICES AND PREMISES   \n",
       "\n",
       "        unique_address_reference_number_uarn  \\\n",
       "2175556                           8068183000   \n",
       "2175557                            332017088   \n",
       "2175558                           7107750000   \n",
       "2175559                            240250088   \n",
       "2175560                            240228088   \n",
       "2175561                           3723249000   \n",
       "2175562                            340022088   \n",
       "2175563                            240246088   \n",
       "2175564                            240238088   \n",
       "2175565                            240248088   \n",
       "2175566                            240258088   \n",
       "2175567                            240268088   \n",
       "2175568                            240270088   \n",
       "2175569                           7021700000   \n",
       "2175570                            240240088   \n",
       "2175571                          10908770000   \n",
       "2175572                           7032351000   \n",
       "2175573                           5704256000   \n",
       "2175574                            240509088   \n",
       "2175575                            335920088   \n",
       "2175576                            336882088   \n",
       "2175577                            400494088   \n",
       "2175578                           2260853000   \n",
       "2175579                            332016088   \n",
       "2175580                            332013088   \n",
       "2175581                            240525088   \n",
       "2175582                            332014088   \n",
       "2175583                            240520088   \n",
       "2175584                            240521088   \n",
       "2175585                            240522088   \n",
       "2175586                            240524088   \n",
       "2175587                          12669512000   \n",
       "2175588                            240523088   \n",
       "2175589                            240530088   \n",
       "2175590                            240526088   \n",
       "2175591                            240528088   \n",
       "2175592                            240529088   \n",
       "2175593                            240527088   \n",
       "2175594                           3999643000   \n",
       "2175595                           1487543000   \n",
       "2175596                            352775000   \n",
       "2175597                            964939000   \n",
       "2175598                            927062000   \n",
       "2175599                            980981000   \n",
       "2175600                            240274088   \n",
       "2175601                          11483512000   \n",
       "2175602                          11497005000   \n",
       "2175603                          11497002000   \n",
       "2175604                           7273018000   \n",
       "2175605                          11483513000   \n",
       "2175606                            240426088   \n",
       "2175607                          12970299000   \n",
       "\n",
       "                                  full_property_identifier firms_name  \\\n",
       "2175556   10, ERNEST HARRIS HOUSE 61, ELGIN AVENUE, LONDON        NaN   \n",
       "2175557                           63, ELGIN AVENUE, LONDON        NaN   \n",
       "2175558                   GRD FLR 40, ELGIN AVENUE, LONDON        NaN   \n",
       "2175559                 UPPER PT 243, ELGIN AVENUE, LONDON        NaN   \n",
       "2175560                      BST 243, ELGIN AVENUE, LONDON        NaN   \n",
       "2175561                THE ELGIN 255, ELGIN AVENUE, LONDON        NaN   \n",
       "2175562            BST & GRD FLR 249, ELGIN AVENUE, LONDON        NaN   \n",
       "2175563            BST & GRD FLR 241, ELGIN AVENUE, LONDON        NaN   \n",
       "2175564                          237, ELGIN AVENUE, LONDON        NaN   \n",
       "2175565                  GRD FLR 243, ELGIN AVENUE, LONDON        NaN   \n",
       "2175566            BST & GRD FLR 245, ELGIN AVENUE, LONDON        NaN   \n",
       "2175567            BST & GRD FLR 251, ELGIN AVENUE, LONDON        NaN   \n",
       "2175568                          253, ELGIN AVENUE, LONDON        NaN   \n",
       "2175569  O2 SITE (9894) AT THE ELGIN 255, ELGIN AVENUE,...        NaN   \n",
       "2175570            BST & GRD FLR 239, ELGIN AVENUE, LONDON        NaN   \n",
       "2175571         PT BST - GRD FLR 247, ELGIN AVENUE, LONDON        NaN   \n",
       "2175572  VODAFONE SITE (2661) AT THE ELGIN 255, ELGIN A...        NaN   \n",
       "2175573                           59, ELGIN AVENUE, LONDON        NaN   \n",
       "2175574                  GRD FLR 284, ELGIN AVENUE, LONDON        NaN   \n",
       "2175575  40 41 50A & 51 BIDDULPH MANSIONS, ELGIN AVENUE...        NaN   \n",
       "2175576                         235A, ELGIN AVENUE, LONDON        NaN   \n",
       "2175577  (INCL S/O 4-6) BST & GRD FLR 2, ELGIN AVENUE, ...        NaN   \n",
       "2175578             BST & GRD FLR 55, ELGIN AVENUE, LONDON        NaN   \n",
       "2175579         ELEPHANT & CASTLE 16, ELGIN AVENUE, LONDON        NaN   \n",
       "2175580  CITY OF WESTMINSTER COLLEGE, ELGIN AVENUE, LONDON        NaN   \n",
       "2175581            BST & GRD FLR 304, ELGIN AVENUE, LONDON        NaN   \n",
       "2175582            BST & GRD FLR 290, ELGIN AVENUE, LONDON        NaN   \n",
       "2175583            BST & GRD FLR 292, ELGIN AVENUE, LONDON        NaN   \n",
       "2175584            BST & GRD FLR 294, ELGIN AVENUE, LONDON        NaN   \n",
       "2175585            BST & GRD FLR 296, ELGIN AVENUE, LONDON        NaN   \n",
       "2175586            BST & GRD FLR 302, ELGIN AVENUE, LONDON        NaN   \n",
       "2175587          BST-GND FLR 298-300, ELGIN AVENUE, LONDON        NaN   \n",
       "2175588        BST & GRD FLR 298-300, ELGIN AVENUE, LONDON        NaN   \n",
       "2175589              GRD FLR 318-322, ELGIN AVENUE, LONDON        NaN   \n",
       "2175590                  GRD FLR 306, ELGIN AVENUE, LONDON        NaN   \n",
       "2175591              GRD FLR 310-312, ELGIN AVENUE, LONDON        NaN   \n",
       "2175592              GRD FLR 314-316, ELGIN AVENUE, LONDON        NaN   \n",
       "2175593                  GRD FLR 308, ELGIN AVENUE, LONDON        NaN   \n",
       "2175594             BST & GRD FLR 57, ELGIN AVENUE, LONDON        NaN   \n",
       "2175595                 BST & GRD 45, ELGIN AVENUE, LONDON        NaN   \n",
       "2175596            BST & GND FLRS 53, ELGIN AVENUE, LONDON        NaN   \n",
       "2175597             BST & GRD FLR 47, ELGIN AVENUE, LONDON        NaN   \n",
       "2175598               BST& GND FL 51, ELGIN AVENUE, LONDON        NaN   \n",
       "2175599               BST GRD FLR 49, ELGIN AVENUE, LONDON        NaN   \n",
       "2175600                   GRD FLR 97, ELGIN AVENUE, LONDON        NaN   \n",
       "2175601                      BST 97C, ELGIN AVENUE, LONDON        NaN   \n",
       "2175602                  1ST FLR 97C, ELGIN AVENUE, LONDON        NaN   \n",
       "2175603                      GND 97C, ELGIN AVENUE, LONDON        NaN   \n",
       "2175604       BST GRD & 1ST FLRS 97C, ELGIN AVENUE, LONDON        NaN   \n",
       "2175605           GND & 1ST FLRS 97C, ELGIN AVENUE, LONDON        NaN   \n",
       "2175606            BST & GRD FLR 128, ELGIN AVENUE, LONDON        NaN   \n",
       "2175607                  GND FLR 36A, ELGIN AVENUE, LONDON        NaN   \n",
       "\n",
       "                                number_or_name        street    town  \\\n",
       "2175556                                     10  elgin avenue  LONDON   \n",
       "2175557                                     63  elgin avenue  LONDON   \n",
       "2175558                             GRD FLR 40  elgin avenue  LONDON   \n",
       "2175559                           UPPER PT 243  elgin avenue  LONDON   \n",
       "2175560                                BST 243  elgin avenue  LONDON   \n",
       "2175561                          THE ELGIN 255  elgin avenue  LONDON   \n",
       "2175562                      BST & GRD FLR 249  elgin avenue  LONDON   \n",
       "2175563                      BST & GRD FLR 241  elgin avenue  LONDON   \n",
       "2175564                                    237  elgin avenue  LONDON   \n",
       "2175565                            GRD FLR 243  elgin avenue  LONDON   \n",
       "2175566                      BST & GRD FLR 245  elgin avenue  LONDON   \n",
       "2175567                      BST & GRD FLR 251  elgin avenue  LONDON   \n",
       "2175568                                    253  elgin avenue  LONDON   \n",
       "2175569        O2 SITE (9894) AT THE ELGIN 255  elgin avenue  LONDON   \n",
       "2175570                      BST & GRD FLR 239  elgin avenue  LONDON   \n",
       "2175571                   PT BST - GRD FLR 247  elgin avenue  LONDON   \n",
       "2175572  VODAFONE SITE (2661) AT THE ELGIN 255  elgin avenue  LONDON   \n",
       "2175573                                     59  elgin avenue  LONDON   \n",
       "2175574                            GRD FLR 284  elgin avenue  LONDON   \n",
       "2175575       40 41 50A & 51 BIDDULPH MANSIONS  elgin avenue  LONDON   \n",
       "2175576                                   235A  elgin avenue  LONDON   \n",
       "2175577         (INCL S/O 4-6) BST & GRD FLR 2  elgin avenue  LONDON   \n",
       "2175578                       BST & GRD FLR 55  elgin avenue  LONDON   \n",
       "2175579                   ELEPHANT & CASTLE 16  elgin avenue  LONDON   \n",
       "2175580            CITY OF WESTMINSTER COLLEGE  elgin avenue  LONDON   \n",
       "2175581                      BST & GRD FLR 304  elgin avenue  LONDON   \n",
       "2175582                      BST & GRD FLR 290  elgin avenue  LONDON   \n",
       "2175583                      BST & GRD FLR 292  elgin avenue  LONDON   \n",
       "2175584                      BST & GRD FLR 294  elgin avenue  LONDON   \n",
       "2175585                      BST & GRD FLR 296  elgin avenue  LONDON   \n",
       "2175586                      BST & GRD FLR 302  elgin avenue  LONDON   \n",
       "2175587                    BST-GND FLR 298-300  elgin avenue  LONDON   \n",
       "2175588                  BST & GRD FLR 298-300  elgin avenue  LONDON   \n",
       "2175589                        GRD FLR 318-322  elgin avenue  LONDON   \n",
       "2175590                            GRD FLR 306  elgin avenue  LONDON   \n",
       "2175591                        GRD FLR 310-312  elgin avenue  LONDON   \n",
       "2175592                        GRD FLR 314-316  elgin avenue  LONDON   \n",
       "2175593                            GRD FLR 308  elgin avenue  LONDON   \n",
       "2175594                       BST & GRD FLR 57  elgin avenue  LONDON   \n",
       "2175595                           BST & GRD 45  elgin avenue  LONDON   \n",
       "2175596                      BST & GND FLRS 53  elgin avenue  LONDON   \n",
       "2175597                       BST & GRD FLR 47  elgin avenue  LONDON   \n",
       "2175598                         BST& GND FL 51  elgin avenue  LONDON   \n",
       "2175599                         BST GRD FLR 49  elgin avenue  LONDON   \n",
       "2175600                             GRD FLR 97  elgin avenue  LONDON   \n",
       "2175601                                BST 97C  elgin avenue  LONDON   \n",
       "2175602                            1ST FLR 97C  elgin avenue  LONDON   \n",
       "2175603                                GND 97C  elgin avenue  LONDON   \n",
       "2175604                 BST GRD & 1ST FLRS 97C  elgin avenue  LONDON   \n",
       "2175605                     GND & 1ST FLRS 97C  elgin avenue  LONDON   \n",
       "2175606                      BST & GRD FLR 128  elgin avenue  LONDON   \n",
       "2175607                            GND FLR 36A  elgin avenue  LONDON   \n",
       "\n",
       "        postal_district county postcode street_number postcode2 building_name  \\\n",
       "2175556             NaN    NaN   w9 2bx            10     w92bx           NaN   \n",
       "2175557             NaN    NaN   w9 2bx            63     w92bx           NaN   \n",
       "2175558             NaN    NaN   w9 3qt            40     w93qt           NaN   \n",
       "2175559             NaN    NaN   w9 1nj           243     w91nj           NaN   \n",
       "2175560             NaN    NaN   w9 1nj           243     w91nj           NaN   \n",
       "2175561             NaN    NaN   w9 1nj           255     w91nj           NaN   \n",
       "2175562             NaN    NaN   w9 1nj           249     w91nj           NaN   \n",
       "2175563             NaN    NaN   w9 1nj           241     w91nj           NaN   \n",
       "2175564             NaN    NaN   w9 1nj           237     w91nj           NaN   \n",
       "2175565             NaN    NaN   w9 1nj           243     w91nj           NaN   \n",
       "2175566             NaN    NaN   w9 1nj           245     w91nj           NaN   \n",
       "2175567             NaN    NaN   w9 1nj           251     w91nj           NaN   \n",
       "2175568             NaN    NaN   w9 1nj           253     w91nj           NaN   \n",
       "2175569             NaN    NaN   w9 1nj           255     w91nj           NaN   \n",
       "2175570             NaN    NaN   w9 1nj           239     w91nj           NaN   \n",
       "2175571             NaN    NaN   w9 1nj           247     w91nj           NaN   \n",
       "2175572             NaN    NaN   w9 1nj           255     w91nj           NaN   \n",
       "2175573             NaN    NaN   w9 2db            59     w92db           NaN   \n",
       "2175574             NaN    NaN   w9 1jr           284     w91jr           NaN   \n",
       "2175575             NaN    NaN   w9 1ht           NaN     w91ht           NaN   \n",
       "2175576             NaN    NaN   w9 1nh           235     w91nh           NaN   \n",
       "2175577             NaN    NaN   w9 3qp             2     w93qp           NaN   \n",
       "2175578             NaN    NaN   w9 3qp            55     w93qp           NaN   \n",
       "2175579             NaN    NaN   w9 3qp            16     w93qp           NaN   \n",
       "2175580             NaN    NaN   w9 2nr           NaN     w92nr           NaN   \n",
       "2175581             NaN    NaN   w9 1js           304     w91js           NaN   \n",
       "2175582             NaN    NaN   w9 1js           290     w91js           NaN   \n",
       "2175583             NaN    NaN   w9 1js           292     w91js           NaN   \n",
       "2175584             NaN    NaN   w9 1js           294     w91js           NaN   \n",
       "2175585             NaN    NaN   w9 1js           296     w91js           NaN   \n",
       "2175586             NaN    NaN   w9 1js           302     w91js           NaN   \n",
       "2175587             NaN    NaN   w9 1js       298-300     w91js           NaN   \n",
       "2175588             NaN    NaN   w9 1js       298-300     w91js           NaN   \n",
       "2175589             NaN    NaN   w9 1ju       318-322     w91ju           NaN   \n",
       "2175590             NaN    NaN   w9 1ju           306     w91ju           NaN   \n",
       "2175591             NaN    NaN   w9 1ju       310-312     w91ju           NaN   \n",
       "2175592             NaN    NaN   w9 1ju       314-316     w91ju           NaN   \n",
       "2175593             NaN    NaN   w9 1ju           308     w91ju           NaN   \n",
       "2175594             NaN    NaN   w9 3pp            57     w93pp           NaN   \n",
       "2175595             NaN    NaN   w9 3pp            45     w93pp           NaN   \n",
       "2175596             NaN    NaN   w9 3pp            53     w93pp           NaN   \n",
       "2175597             NaN    NaN   w9 3pp            47     w93pp           NaN   \n",
       "2175598             NaN    NaN   w9 3pp            51     w93pp           NaN   \n",
       "2175599             NaN    NaN   w9 3pp            49     w93pp           NaN   \n",
       "2175600             NaN    NaN   w9 2da            97     w92da           NaN   \n",
       "2175601             NaN    NaN   w9 2da            97     w92da           NaN   \n",
       "2175602             NaN    NaN   w9 2da            97     w92da           NaN   \n",
       "2175603             NaN    NaN   w9 2da            97     w92da           NaN   \n",
       "2175604             NaN    NaN   w9 2da            97     w92da           NaN   \n",
       "2175605             NaN    NaN   w9 2da            97     w92da           NaN   \n",
       "2175606             NaN    NaN   w9 2hd           128     w92hd           NaN   \n",
       "2175607             NaN    NaN   w9 3az            36     w93az           NaN   \n",
       "\n",
       "           lad11cd     oa11cd   lsoa11cd   msoa11cd street_name2  \n",
       "2175556  E09000033  E00023604  E01004675  E02000964  elginavenue  \n",
       "2175557  E09000033  E00023604  E01004675  E02000964  elginavenue  \n",
       "2175558  E09000033  E00023604  E01004675  E02000964  elginavenue  \n",
       "2175559  E09000033  E00023798  E01004709  E02000966  elginavenue  \n",
       "2175560  E09000033  E00023798  E01004709  E02000966  elginavenue  \n",
       "2175561  E09000033  E00023798  E01004709  E02000966  elginavenue  \n",
       "2175562  E09000033  E00023798  E01004709  E02000966  elginavenue  \n",
       "2175563  E09000033  E00023798  E01004709  E02000966  elginavenue  \n",
       "2175564  E09000033  E00023798  E01004709  E02000966  elginavenue  \n",
       "2175565  E09000033  E00023798  E01004709  E02000966  elginavenue  \n",
       "2175566  E09000033  E00023798  E01004709  E02000966  elginavenue  \n",
       "2175567  E09000033  E00023798  E01004709  E02000966  elginavenue  \n",
       "2175568  E09000033  E00023798  E01004709  E02000966  elginavenue  \n",
       "2175569  E09000033  E00023798  E01004709  E02000966  elginavenue  \n",
       "2175570  E09000033  E00023798  E01004709  E02000966  elginavenue  \n",
       "2175571  E09000033  E00023798  E01004709  E02000966  elginavenue  \n",
       "2175572  E09000033  E00023798  E01004709  E02000966  elginavenue  \n",
       "2175573  E09000033  E00023603  E01004675  E02000964  elginavenue  \n",
       "2175574  E09000033  E00023778  E01004709  E02000966  elginavenue  \n",
       "2175575  E09000033  E00023805  E01004707  E02000965  elginavenue  \n",
       "2175576  E09000033  E00023778  E01004709  E02000966  elginavenue  \n",
       "2175577  E09000033  E00023612  E01004675  E02000964  elginavenue  \n",
       "2175578  E09000033  E00023612  E01004675  E02000964  elginavenue  \n",
       "2175579  E09000033  E00023612  E01004675  E02000964  elginavenue  \n",
       "2175580  E09000033  E00023808  E01004706  E02000965  elginavenue  \n",
       "2175581  E09000033  E00023798  E01004709  E02000966  elginavenue  \n",
       "2175582  E09000033  E00023798  E01004709  E02000966  elginavenue  \n",
       "2175583  E09000033  E00023798  E01004709  E02000966  elginavenue  \n",
       "2175584  E09000033  E00023798  E01004709  E02000966  elginavenue  \n",
       "2175585  E09000033  E00023798  E01004709  E02000966  elginavenue  \n",
       "2175586  E09000033  E00023798  E01004709  E02000966  elginavenue  \n",
       "2175587  E09000033  E00023798  E01004709  E02000966  elginavenue  \n",
       "2175588  E09000033  E00023798  E01004709  E02000966  elginavenue  \n",
       "2175589  E09000033  E00023798  E01004709  E02000966  elginavenue  \n",
       "2175590  E09000033  E00023798  E01004709  E02000966  elginavenue  \n",
       "2175591  E09000033  E00023798  E01004709  E02000966  elginavenue  \n",
       "2175592  E09000033  E00023798  E01004709  E02000966  elginavenue  \n",
       "2175593  E09000033  E00023798  E01004709  E02000966  elginavenue  \n",
       "2175594  E09000033  E00023604  E01004675  E02000964  elginavenue  \n",
       "2175595  E09000033  E00023604  E01004675  E02000964  elginavenue  \n",
       "2175596  E09000033  E00023604  E01004675  E02000964  elginavenue  \n",
       "2175597  E09000033  E00023604  E01004675  E02000964  elginavenue  \n",
       "2175598  E09000033  E00023604  E01004675  E02000964  elginavenue  \n",
       "2175599  E09000033  E00023604  E01004675  E02000964  elginavenue  \n",
       "2175600  E09000033  E00023600  E01004676  E02000965  elginavenue  \n",
       "2175601  E09000033  E00023600  E01004676  E02000965  elginavenue  \n",
       "2175602  E09000033  E00023600  E01004676  E02000965  elginavenue  \n",
       "2175603  E09000033  E00023600  E01004676  E02000965  elginavenue  \n",
       "2175604  E09000033  E00023600  E01004676  E02000965  elginavenue  \n",
       "2175605  E09000033  E00023600  E01004676  E02000965  elginavenue  \n",
       "2175606  E09000033  E00023600  E01004676  E02000965  elginavenue  \n",
       "2175607  E09000033  E00023612  E01004675  E02000964  elginavenue  "
      ]
     },
     "execution_count": 26,
     "metadata": {},
     "output_type": "execute_result"
    }
   ],
   "source": [
    "voa_businesses[voa_businesses['street_name2']==\"elginavenue\"]"
   ]
  },
  {
   "cell_type": "code",
   "execution_count": 27,
   "id": "42806c12",
   "metadata": {},
   "outputs": [],
   "source": [
    "\n",
    "#each line is a matched business\n",
    "ocod_data = pd.concat(matched_lads_list)\n",
    "#matched_businesses.to_csv('/tf/empty_homes_data/delete_me.csv')"
   ]
  },
  {
   "cell_type": "code",
   "execution_count": 28,
   "id": "e4e713ab",
   "metadata": {},
   "outputs": [
    {
     "data": {
      "text/html": [
       "<div>\n",
       "<style scoped>\n",
       "    .dataframe tbody tr th:only-of-type {\n",
       "        vertical-align: middle;\n",
       "    }\n",
       "\n",
       "    .dataframe tbody tr th {\n",
       "        vertical-align: top;\n",
       "    }\n",
       "\n",
       "    .dataframe thead th {\n",
       "        text-align: right;\n",
       "    }\n",
       "</style>\n",
       "<table border=\"1\" class=\"dataframe\">\n",
       "  <thead>\n",
       "    <tr style=\"text-align: right;\">\n",
       "      <th>business_address</th>\n",
       "      <th>False</th>\n",
       "      <th>True</th>\n",
       "    </tr>\n",
       "    <tr>\n",
       "      <th>oa_busi_building</th>\n",
       "      <th></th>\n",
       "      <th></th>\n",
       "    </tr>\n",
       "  </thead>\n",
       "  <tbody>\n",
       "    <tr>\n",
       "      <th>False</th>\n",
       "      <td>133631</td>\n",
       "      <td>24874</td>\n",
       "    </tr>\n",
       "    <tr>\n",
       "      <th>True</th>\n",
       "      <td>2636</td>\n",
       "      <td>607</td>\n",
       "    </tr>\n",
       "  </tbody>\n",
       "</table>\n",
       "</div>"
      ],
      "text/plain": [
       "business_address   False   True\n",
       "oa_busi_building               \n",
       "False             133631  24874\n",
       "True                2636    607"
      ]
     },
     "execution_count": 28,
     "metadata": {},
     "output_type": "execute_result"
    }
   ],
   "source": [
    "pd.crosstab(ocod_data['oa_busi_building'].notnull(), ocod_data['business_address'].notnull())"
   ]
  },
  {
   "cell_type": "markdown",
   "id": "efd17f75",
   "metadata": {},
   "source": [
    "# Classify property type"
   ]
  },
  {
   "cell_type": "code",
   "execution_count": 29,
   "id": "e4143c2e",
   "metadata": {},
   "outputs": [
    {
     "name": "stderr",
     "output_type": "stream",
     "text": [
      "<ipython-input-29-0a2e72214d1f>:3: UserWarning: This pattern is interpreted as a regular expression, and has match groups. To actually get the groups, use str.extract.\n",
      "  ocod_data['property_address'].str.contains(r\"^(land|plot)\", case = False),\n",
      "<ipython-input-29-0a2e72214d1f>:4: UserWarning: This pattern is interpreted as a regular expression, and has match groups. To actually get the groups, use str.extract.\n",
      "  ocod_data['property_address'].str.contains(r\"^([a-z\\s]*)((garage)|(parking(\\s)?space)|(parking space)|(car park(ing)?))\", case = False),\n",
      "<ipython-input-29-0a2e72214d1f>:5: UserWarning: This pattern is interpreted as a regular expression, and has match groups. To actually get the groups, use str.extract.\n",
      "  ocod_data['property_address'].str.contains(r\"^((the airspace)|(airspace))\", case = False),\n",
      "<ipython-input-29-0a2e72214d1f>:6: UserWarning: This pattern is interpreted as a regular expression, and has match groups. To actually get the groups, use str.extract.\n",
      "  ocod_data['property_address'].str.contains(r\"(penthouse|flat|apartment)\", case = False),\n",
      "<ipython-input-29-0a2e72214d1f>:8: UserWarning: This pattern is interpreted as a regular expression, and has match groups. To actually get the groups, use str.extract.\n",
      "  ocod_data['property_address'].str.contains(r\"(cinema)|(hotel)|(office)|centre|(\\bpub)|holiday(\\s)?inn|travel(\\s)?lodge|(business)|(cafe)|(^shop)|( shop)|(restaurant)|(home)|(^store(s)?\\b)|(^storage\\b)|(company)|(ltd)|(limited)|(plc)|(retail)|(leisure)|(industrial)|(hall of)|trading|commercial|works|advertising\", case = False),\n",
      "<ipython-input-29-0a2e72214d1f>:9: UserWarning: This pattern is interpreted as a regular expression, and has match groups. To actually get the groups, use str.extract.\n",
      "  ocod_data['property_address'].str.contains(r\"^[a-z\\s']+\\b(land(s)?|plot(s)?)\\b\", case = False)==True, #land with words before it\n",
      "<ipython-input-29-0a2e72214d1f>:10: UserWarning: This pattern is interpreted as a regular expression, and has match groups. To actually get the groups, use str.extract.\n",
      "  ocod_data['building_name'].str.contains(r'\\binn$|public house|^the\\s\\w+\\sand\\s\\w+|(tavern$)')==True, #pubs in various guises\n"
     ]
    }
   ],
   "source": [
    "ocod_data['class'] = np.select(\n",
    "    [\n",
    "        ocod_data['property_address'].str.contains(r\"^(land|plot)\", case = False),\n",
    "        ocod_data['property_address'].str.contains(r\"^([a-z\\s]*)((garage)|(parking(\\s)?space)|(parking space)|(car park(ing)?))\", case = False),\n",
    "        ocod_data['property_address'].str.contains(r\"^((the airspace)|(airspace))\", case = False),\n",
    "        ocod_data['property_address'].str.contains(r\"(penthouse|flat|apartment)\", case = False),\n",
    "        ocod_data['address_match']==True,\n",
    "        ocod_data['property_address'].str.contains(r\"(cinema)|(hotel)|(office)|centre|(\\bpub)|holiday(\\s)?inn|travel(\\s)?lodge|(business)|(cafe)|(^shop)|( shop)|(restaurant)|(home)|(^store(s)?\\b)|(^storage\\b)|(company)|(ltd)|(limited)|(plc)|(retail)|(leisure)|(industrial)|(hall of)|trading|commercial|works|club,|advertising\", case = False), \n",
    "        ocod_data['property_address'].str.contains(r\"^[a-z\\s']+\\b(land(s)?|plot(s)?)\\b\", case = False)==True, #land with words before it\n",
    "        ocod_data['building_name'].str.contains(r'\\binn$|public house|^the\\s\\w+\\sand\\s\\w+|(tavern$)')==True, #pubs in various guises\n",
    "        ocod_data['oa_busi_building'].notnull(),#a business building was matched\n",
    "        ocod_data['business_address'].notnull(),\n",
    "        ocod_data['business_counts']==0, #if there are no businesses in the oa then it is a domestic\n",
    "        ocod_data['lsoa_business_counts']==0, #if there are no businesses in the lsoa then it is a domestic\n",
    "        \n",
    "    ], \n",
    "    [\n",
    "        'land',\n",
    "        'carpark',\n",
    "        'airspace',\n",
    "        'domestic',\n",
    "        'business',\n",
    "        'business',\n",
    "        'land',\n",
    "        'business',\n",
    "        'business',\n",
    "        'business',\n",
    "        'domestic',\n",
    "        'domestic',\n",
    "    ], \n",
    "    default='unknown'\n",
    ")"
   ]
  },
  {
   "cell_type": "code",
   "execution_count": 30,
   "id": "8da89556",
   "metadata": {},
   "outputs": [],
   "source": [
    "#ocod_data.loc[ocod_data['property_address'].str.contains(r\"^[a-z\\s']+\\b(land(s)?|plot(s)?)\\b\", case = False)==True,\n",
    "#             'property_address'].to_csv('/tf/empty_homes_data/delete_me.csv')"
   ]
  },
  {
   "cell_type": "code",
   "execution_count": 31,
   "id": "40acfb0b",
   "metadata": {},
   "outputs": [
    {
     "name": "stdout",
     "output_type": "stream",
     "text": [
      "     title_number  counts\n",
      "10         126312       2\n",
      "17         142155       2\n",
      "18         146577       2\n",
      "20         147442       2\n",
      "21         148312       2\n",
      "...           ...     ...\n",
      "3963    WYK792514       2\n",
      "3967    WYK856042       2\n",
      "3971     YEA16295       2\n",
      "3976     YWE42140       2\n",
      "3986      YY38811       2\n",
      "\n",
      "[677 rows x 2 columns]\n"
     ]
    },
    {
     "data": {
      "text/plain": [
       "class\n",
       "business     5209\n",
       "domestic    39576\n",
       "land            8\n",
       "unknown      2562\n",
       "dtype: int64"
      ]
     },
     "execution_count": 31,
     "metadata": {},
     "output_type": "execute_result"
    }
   ],
   "source": [
    "multi_class_titles = ocod_data[~ocod_data['class'].isin(['unknown', 'airspace', 'carpark']) & (ocod_data['within_larger_title']==True)].groupby(['title_number', 'class']).\\\n",
    "size().reset_index().groupby('title_number').size().reset_index().rename(columns={0:'counts'})\n",
    "\n",
    "#there are no within title-ids that have more than one class. This shows that this is a very accurate way of filling in missing class data\n",
    "print(multi_class_titles[multi_class_titles['counts']>1])\n",
    "\n",
    "multi_class_titles = multi_class_titles[multi_class_titles['counts']==1]\n",
    "#multi_class_titles.groupby('counts').size()\n",
    "\n",
    "ocod_data[ocod_data['title_number'].isin(multi_class_titles['title_number'])].groupby('class').size()\n",
    "#[['street_number', 'street_name','property_address', \"business_address\"]]"
   ]
  },
  {
   "cell_type": "code",
   "execution_count": 32,
   "id": "b13e5ab9",
   "metadata": {},
   "outputs": [
    {
     "name": "stderr",
     "output_type": "stream",
     "text": [
      "<ipython-input-32-e2889b13a25b>:8: SettingWithCopyWarning: \n",
      "A value is trying to be set on a copy of a slice from a DataFrame\n",
      "\n",
      "See the caveats in the documentation: https://pandas.pydata.org/pandas-docs/stable/user_guide/indexing.html#returning-a-view-versus-a-copy\n",
      "  temp.drop('class', axis = 1, inplace = True)\n"
     ]
    }
   ],
   "source": [
    "#Fills out unknown class values using the known class values from the same \n",
    "\n",
    "temp_fill = ocod_data[~ocod_data['class'].isin(['unknown', 'airspace', 'carpark']) & (ocod_data['within_larger_title']==True)].groupby(['title_number', 'class']).\\\n",
    "size().reset_index()[['title_number', 'class']].drop_duplicates()\n",
    "\n",
    "temp = ocod_data[ocod_data['title_number'].isin(temp_fill['title_number']) & (ocod_data['class']=='unknown') & (ocod_data['within_larger_title']==True)]\n",
    "\n",
    "temp.drop('class', axis = 1, inplace = True)\n",
    "\n",
    "temp = temp.merge(temp_fill, how = \"left\", on = \"title_number\")\n",
    "\n",
    "ocod_data = pd.concat([temp, ocod_data[~ocod_data['unique_id'].isin(temp['unique_id'])]])\n"
   ]
  },
  {
   "cell_type": "code",
   "execution_count": 33,
   "id": "42981cf5",
   "metadata": {},
   "outputs": [],
   "source": [
    "#pd.crosstab(test['class'], ocod_data['oa_busi_building'].isna()==False)"
   ]
  },
  {
   "cell_type": "code",
   "execution_count": 34,
   "id": "166f872c",
   "metadata": {},
   "outputs": [
    {
     "data": {
      "text/plain": [
       "Index(['Unnamed: 0', 'title_number', 'within_title_id', 'unique_id',\n",
       "       'within_larger_title', 'tenure', 'unit_id', 'unit_type',\n",
       "       'building_name', 'street_number', 'street_name', 'postcode', 'city',\n",
       "       'district', 'county', 'region', 'multiple_address_indicator',\n",
       "       'price_paid', 'property_address', 'postcode2', 'oa11cd', 'lsoa11cd',\n",
       "       'msoa11cd', 'street_number2', 'street_name2', 'lad11cd', 'lsoa_street',\n",
       "       'lsoa_building', 'oa_building', 'oa_busi_building',\n",
       "       'lsoa_busi_building', 'lsoa_nested', 'oa_nested', 'lsoa_nested2',\n",
       "       'business_counts', 'lsoa_business_counts', 'street_match',\n",
       "       'address_match', 'business_address', 'class'],\n",
       "      dtype='object')"
      ]
     },
     "execution_count": 34,
     "metadata": {},
     "output_type": "execute_result"
    }
   ],
   "source": [
    "ocod_data.columns"
   ]
  },
  {
   "cell_type": "code",
   "execution_count": 35,
   "id": "7bcc4b18",
   "metadata": {},
   "outputs": [
    {
     "data": {
      "text/html": [
       "<div>\n",
       "<style scoped>\n",
       "    .dataframe tbody tr th:only-of-type {\n",
       "        vertical-align: middle;\n",
       "    }\n",
       "\n",
       "    .dataframe tbody tr th {\n",
       "        vertical-align: top;\n",
       "    }\n",
       "\n",
       "    .dataframe thead th {\n",
       "        text-align: right;\n",
       "    }\n",
       "</style>\n",
       "<table border=\"1\" class=\"dataframe\">\n",
       "  <thead>\n",
       "    <tr style=\"text-align: right;\">\n",
       "      <th>col_0</th>\n",
       "      <th>False</th>\n",
       "      <th>True</th>\n",
       "    </tr>\n",
       "    <tr>\n",
       "      <th>street_match</th>\n",
       "      <th></th>\n",
       "      <th></th>\n",
       "    </tr>\n",
       "  </thead>\n",
       "  <tbody>\n",
       "    <tr>\n",
       "      <th>False</th>\n",
       "      <td>6846</td>\n",
       "      <td>11546</td>\n",
       "    </tr>\n",
       "    <tr>\n",
       "      <th>True</th>\n",
       "      <td>6678</td>\n",
       "      <td>13307</td>\n",
       "    </tr>\n",
       "  </tbody>\n",
       "</table>\n",
       "</div>"
      ],
      "text/plain": [
       "col_0         False   True\n",
       "street_match              \n",
       "False          6846  11546\n",
       "True           6678  13307"
      ]
     },
     "execution_count": 35,
     "metadata": {},
     "output_type": "execute_result"
    }
   ],
   "source": [
    "#if there is a street match, and the property has a street and a street number OR a building name\n",
    "#Then is is a domestic property\n",
    "\n",
    "test = ocod_data[ocod_data['class']=='unknown']\n",
    "pd.crosstab((test['street_match']==True), (test['street_name'].notnull()==True) & (test['street_number'].notnull()==True) )"
   ]
  },
  {
   "cell_type": "code",
   "execution_count": 36,
   "id": "5839226a",
   "metadata": {},
   "outputs": [
    {
     "data": {
      "text/html": [
       "<div>\n",
       "<style scoped>\n",
       "    .dataframe tbody tr th:only-of-type {\n",
       "        vertical-align: middle;\n",
       "    }\n",
       "\n",
       "    .dataframe tbody tr th {\n",
       "        vertical-align: top;\n",
       "    }\n",
       "\n",
       "    .dataframe thead th {\n",
       "        text-align: right;\n",
       "    }\n",
       "</style>\n",
       "<table border=\"1\" class=\"dataframe\">\n",
       "  <thead>\n",
       "    <tr style=\"text-align: right;\">\n",
       "      <th>street_name</th>\n",
       "      <th>False</th>\n",
       "      <th>True</th>\n",
       "    </tr>\n",
       "    <tr>\n",
       "      <th>street_match</th>\n",
       "      <th></th>\n",
       "      <th></th>\n",
       "    </tr>\n",
       "  </thead>\n",
       "  <tbody>\n",
       "    <tr>\n",
       "      <th>False</th>\n",
       "      <td>4415</td>\n",
       "      <td>13977</td>\n",
       "    </tr>\n",
       "    <tr>\n",
       "      <th>True</th>\n",
       "      <td>0</td>\n",
       "      <td>19985</td>\n",
       "    </tr>\n",
       "  </tbody>\n",
       "</table>\n",
       "</div>"
      ],
      "text/plain": [
       "street_name   False   True\n",
       "street_match              \n",
       "False          4415  13977\n",
       "True              0  19985"
      ]
     },
     "execution_count": 36,
     "metadata": {},
     "output_type": "execute_result"
    }
   ],
   "source": [
    "#If street match is false but there is a street name\n",
    "#The it is a domestic property\n",
    "pd.crosstab((test['street_match']==True), (test['street_name'].notnull()==True))"
   ]
  },
  {
   "cell_type": "code",
   "execution_count": 37,
   "id": "8d070194",
   "metadata": {},
   "outputs": [
    {
     "data": {
      "text/html": [
       "<div>\n",
       "<style scoped>\n",
       "    .dataframe tbody tr th:only-of-type {\n",
       "        vertical-align: middle;\n",
       "    }\n",
       "\n",
       "    .dataframe tbody tr th {\n",
       "        vertical-align: top;\n",
       "    }\n",
       "\n",
       "    .dataframe thead th {\n",
       "        text-align: right;\n",
       "    }\n",
       "</style>\n",
       "<table border=\"1\" class=\"dataframe\">\n",
       "  <thead>\n",
       "    <tr style=\"text-align: right;\">\n",
       "      <th>building_name</th>\n",
       "      <th>False</th>\n",
       "      <th>True</th>\n",
       "    </tr>\n",
       "    <tr>\n",
       "      <th>street_match</th>\n",
       "      <th></th>\n",
       "      <th></th>\n",
       "    </tr>\n",
       "  </thead>\n",
       "  <tbody>\n",
       "    <tr>\n",
       "      <th>False</th>\n",
       "      <td>12873</td>\n",
       "      <td>5519</td>\n",
       "    </tr>\n",
       "    <tr>\n",
       "      <th>True</th>\n",
       "      <td>12228</td>\n",
       "      <td>7757</td>\n",
       "    </tr>\n",
       "  </tbody>\n",
       "</table>\n",
       "</div>"
      ],
      "text/plain": [
       "building_name  False  True\n",
       "street_match              \n",
       "False          12873  5519\n",
       "True           12228  7757"
      ]
     },
     "execution_count": 37,
     "metadata": {},
     "output_type": "execute_result"
    }
   ],
   "source": [
    "pd.crosstab((test['street_match']==True), (test['building_name'].notnull()==True))"
   ]
  },
  {
   "cell_type": "code",
   "execution_count": 38,
   "id": "bbd2e931",
   "metadata": {},
   "outputs": [
    {
     "name": "stderr",
     "output_type": "stream",
     "text": [
      "<ipython-input-38-bb210c6eae9b>:24: SettingWithCopyWarning: \n",
      "A value is trying to be set on a copy of a slice from a DataFrame\n",
      "\n",
      "See the caveats in the documentation: https://pandas.pydata.org/pandas-docs/stable/user_guide/indexing.html#returning-a-view-versus-a-copy\n",
      "  temp.drop('class2', axis = 1, inplace = True)\n"
     ]
    }
   ],
   "source": [
    "ocod_data['class2'] = np.select(\n",
    "    [\n",
    "        (ocod_data['class']=='unknown') & (ocod_data['street_match']==True) & (ocod_data['street_name'].notnull()==True) & (ocod_data['street_number'].notnull()==True),\n",
    "        (ocod_data['class']=='unknown') & (ocod_data['street_match']==False) & (ocod_data['street_name'].notnull()==True),\n",
    "        (ocod_data['class']=='unknown') & (ocod_data['building_name'].notnull()==True)\n",
    "        \n",
    "    ], \n",
    "    [\n",
    "        'domestic',\n",
    "        'domestic',\n",
    "        'domestic'\n",
    "    ], \n",
    "    default= ocod_data['class']\n",
    ")\n",
    "\n",
    "\n",
    "#fillout larger titles that are now partially tagged\n",
    "\n",
    "temp_fill = ocod_data[~ocod_data['class2'].isin(['unknown', 'airspace', 'carpark']) & (ocod_data['within_larger_title']==True)].groupby(['title_number', 'class2']).\\\n",
    "size().reset_index()[['title_number', 'class2']].drop_duplicates()\n",
    "\n",
    "temp = ocod_data[ocod_data['title_number'].isin(temp_fill['title_number']) & (ocod_data['class2']=='unknown') & (ocod_data['within_larger_title']==True)]\n",
    "\n",
    "temp.drop('class2', axis = 1, inplace = True)\n",
    "\n",
    "temp = temp.merge(temp_fill, how = \"left\", on = \"title_number\")\n",
    "\n",
    "ocod_data = pd.concat([temp, ocod_data[~ocod_data['unique_id'].isin(temp['unique_id'])]])\n"
   ]
  },
  {
   "cell_type": "code",
   "execution_count": 39,
   "id": "c97e8ba2",
   "metadata": {},
   "outputs": [
    {
     "name": "stdout",
     "output_type": "stream",
     "text": [
      "street_name   False  True\n",
      "street_match             \n",
      "False          1070     0\n",
      "True              0  1459\n"
     ]
    }
   ],
   "source": [
    "#if there is a street match, and the property has a street and a street number OR a building name\n",
    "#Then is is a domestic property\n",
    "\n",
    "test = ocod_data[ocod_data['class2']=='unknown']\n",
    "print(pd.crosstab((test['street_match']==True), (test['street_name'].notnull()==True) ))\n",
    "\n",
    "ocod_data[(ocod_data['street_name'].isnull()==True) & (ocod_data['class2']=='unknown')].to_csv('/tf/empty_homes_data/delete_me.csv')"
   ]
  },
  {
   "cell_type": "code",
   "execution_count": 40,
   "id": "042b7ec5",
   "metadata": {},
   "outputs": [
    {
     "data": {
      "text/plain": [
       "class\n",
       "airspace     1673\n",
       "business    29349\n",
       "carpark      2616\n",
       "domestic    73274\n",
       "land        16478\n",
       "unknown     38377\n",
       "dtype: int64"
      ]
     },
     "execution_count": 40,
     "metadata": {},
     "output_type": "execute_result"
    }
   ],
   "source": [
    "ocod_data.groupby('class').size()"
   ]
  },
  {
   "cell_type": "code",
   "execution_count": 41,
   "id": "16c88222",
   "metadata": {},
   "outputs": [
    {
     "data": {
      "text/html": [
       "<div>\n",
       "<style scoped>\n",
       "    .dataframe tbody tr th:only-of-type {\n",
       "        vertical-align: middle;\n",
       "    }\n",
       "\n",
       "    .dataframe tbody tr th {\n",
       "        vertical-align: top;\n",
       "    }\n",
       "\n",
       "    .dataframe thead th {\n",
       "        text-align: right;\n",
       "    }\n",
       "</style>\n",
       "<table border=\"1\" class=\"dataframe\">\n",
       "  <thead>\n",
       "    <tr style=\"text-align: right;\">\n",
       "      <th>class2</th>\n",
       "      <th>False</th>\n",
       "      <th>True</th>\n",
       "    </tr>\n",
       "    <tr>\n",
       "      <th>unit_type</th>\n",
       "      <th></th>\n",
       "      <th></th>\n",
       "    </tr>\n",
       "  </thead>\n",
       "  <tbody>\n",
       "    <tr>\n",
       "      <th>airspace</th>\n",
       "      <td>1500</td>\n",
       "      <td>0</td>\n",
       "    </tr>\n",
       "    <tr>\n",
       "      <th>apartment</th>\n",
       "      <td>0</td>\n",
       "      <td>5994</td>\n",
       "    </tr>\n",
       "    <tr>\n",
       "      <th>car park space</th>\n",
       "      <td>51</td>\n",
       "      <td>0</td>\n",
       "    </tr>\n",
       "    <tr>\n",
       "      <th>car parking space</th>\n",
       "      <td>465</td>\n",
       "      <td>34</td>\n",
       "    </tr>\n",
       "    <tr>\n",
       "      <th>flat</th>\n",
       "      <td>1</td>\n",
       "      <td>15820</td>\n",
       "    </tr>\n",
       "    <tr>\n",
       "      <th>garage</th>\n",
       "      <td>443</td>\n",
       "      <td>424</td>\n",
       "    </tr>\n",
       "    <tr>\n",
       "      <th>land</th>\n",
       "      <td>13596</td>\n",
       "      <td>0</td>\n",
       "    </tr>\n",
       "    <tr>\n",
       "      <th>parking space</th>\n",
       "      <td>1189</td>\n",
       "      <td>411</td>\n",
       "    </tr>\n",
       "    <tr>\n",
       "      <th>penthouse</th>\n",
       "      <td>0</td>\n",
       "      <td>138</td>\n",
       "    </tr>\n",
       "    <tr>\n",
       "      <th>plot</th>\n",
       "      <td>2430</td>\n",
       "      <td>0</td>\n",
       "    </tr>\n",
       "    <tr>\n",
       "      <th>room</th>\n",
       "      <td>186</td>\n",
       "      <td>785</td>\n",
       "    </tr>\n",
       "    <tr>\n",
       "      <th>storage</th>\n",
       "      <td>110</td>\n",
       "      <td>279</td>\n",
       "    </tr>\n",
       "    <tr>\n",
       "      <th>store</th>\n",
       "      <td>40</td>\n",
       "      <td>15</td>\n",
       "    </tr>\n",
       "    <tr>\n",
       "      <th>suite</th>\n",
       "      <td>110</td>\n",
       "      <td>22</td>\n",
       "    </tr>\n",
       "    <tr>\n",
       "      <th>unit</th>\n",
       "      <td>2330</td>\n",
       "      <td>1276</td>\n",
       "    </tr>\n",
       "  </tbody>\n",
       "</table>\n",
       "</div>"
      ],
      "text/plain": [
       "class2             False   True\n",
       "unit_type                      \n",
       "airspace            1500      0\n",
       "apartment              0   5994\n",
       "car park space        51      0\n",
       "car parking space    465     34\n",
       "flat                   1  15820\n",
       "garage               443    424\n",
       "land               13596      0\n",
       "parking space       1189    411\n",
       "penthouse              0    138\n",
       "plot                2430      0\n",
       "room                 186    785\n",
       "storage              110    279\n",
       "store                 40     15\n",
       "suite                110     22\n",
       "unit                2330   1276"
      ]
     },
     "execution_count": 41,
     "metadata": {},
     "output_type": "execute_result"
    }
   ],
   "source": [
    "pd.crosstab(ocod_data['unit_type'],(ocod_data['class2']==\"domestic\"))"
   ]
  },
  {
   "cell_type": "markdown",
   "id": "511e1cf0",
   "metadata": {},
   "source": [
    "## Removing copies\n",
    "\n",
    "Businesses, carparks and airpsace etc are classed as a single address independent of how many components they a made of.\n",
    "This chunk strips down businesses that have been expanded back to a single address\n"
   ]
  },
  {
   "cell_type": "code",
   "execution_count": 42,
   "id": "1cb810bc",
   "metadata": {},
   "outputs": [
    {
     "name": "stderr",
     "output_type": "stream",
     "text": [
      "<ipython-input-42-13c420431290>:6: UserWarning: This pattern is interpreted as a regular expression, and has match groups. To actually get the groups, use str.extract.\n",
      "  ocod_data = ocod_data[~(ocod_data['unit_type'].str.contains(r\"(park|garage)\") & (ocod_data['class2']==\"domestic\"))]\n"
     ]
    }
   ],
   "source": [
    "\n",
    "\n",
    "temp = ocod_data[~ocod_data['class'].isin(['domestic', 'unknown'])]\n",
    "\n",
    "ocod_data = pd.concat([ocod_data[ocod_data['class'].isin(['domestic', 'unknown'])], temp.groupby('title_number').first()]).sort_values(by = \"unique_id\")\n",
    "\n",
    "#when the unit type is a carparking space but the class is domestic it means that the address is a domestic property that explicitly mentions a car park\n",
    "ocod_data = ocod_data[~(ocod_data['unit_type'].str.contains(r\"(park|garage)\") & (ocod_data['class2']==\"domestic\"))]\n"
   ]
  },
  {
   "cell_type": "code",
   "execution_count": 43,
   "id": "b112ef88",
   "metadata": {},
   "outputs": [
    {
     "data": {
      "text/plain": [
       "class\n",
       "airspace     1667\n",
       "business    19442\n",
       "carpark      2438\n",
       "domestic    72897\n",
       "land        16399\n",
       "unknown     37885\n",
       "dtype: int64"
      ]
     },
     "execution_count": 43,
     "metadata": {},
     "output_type": "execute_result"
    }
   ],
   "source": [
    "ocod_data.groupby('class2').size()"
   ]
  },
  {
   "cell_type": "code",
   "execution_count": 50,
   "id": "a5c52cbf",
   "metadata": {},
   "outputs": [
    {
     "data": {
      "text/plain": [
       "class2\n",
       "airspace    0.011060\n",
       "business    0.128987\n",
       "carpark     0.016175\n",
       "domestic    0.718201\n",
       "land        0.108799\n",
       "unknown     0.016779\n",
       "dtype: float64"
      ]
     },
     "execution_count": 50,
     "metadata": {},
     "output_type": "execute_result"
    }
   ],
   "source": [
    "ocod_data.groupby('class2').size()/ocod_data.shape[0]"
   ]
  },
  {
   "cell_type": "code",
   "execution_count": 45,
   "id": "05816de5",
   "metadata": {},
   "outputs": [],
   "source": [
    "#non of the unknowns have a postcode. I guess this is obvious as if there is no matching VOA postcode you are classed as domestic\n",
    "#pd.crosstab(ocod_data[ocod_data['class']==\"unknown\"].postcode.notnull(), ocod_data[ocod_data['class']==\"unknown\"].street_name.notnull())"
   ]
  },
  {
   "cell_type": "code",
   "execution_count": 46,
   "id": "fbec4170",
   "metadata": {},
   "outputs": [
    {
     "data": {
      "text/html": [
       "<div>\n",
       "<style scoped>\n",
       "    .dataframe tbody tr th:only-of-type {\n",
       "        vertical-align: middle;\n",
       "    }\n",
       "\n",
       "    .dataframe tbody tr th {\n",
       "        vertical-align: top;\n",
       "    }\n",
       "\n",
       "    .dataframe thead th {\n",
       "        text-align: right;\n",
       "    }\n",
       "</style>\n",
       "<table border=\"1\" class=\"dataframe\">\n",
       "  <thead>\n",
       "    <tr style=\"text-align: right;\">\n",
       "      <th>region</th>\n",
       "      <th>east anglia</th>\n",
       "      <th>east midlands</th>\n",
       "      <th>greater london</th>\n",
       "      <th>north</th>\n",
       "      <th>north west</th>\n",
       "      <th>south east</th>\n",
       "      <th>south west</th>\n",
       "      <th>wales</th>\n",
       "      <th>west midlands</th>\n",
       "      <th>yorks and humber</th>\n",
       "    </tr>\n",
       "    <tr>\n",
       "      <th>tenure</th>\n",
       "      <th></th>\n",
       "      <th></th>\n",
       "      <th></th>\n",
       "      <th></th>\n",
       "      <th></th>\n",
       "      <th></th>\n",
       "      <th></th>\n",
       "      <th></th>\n",
       "      <th></th>\n",
       "      <th></th>\n",
       "    </tr>\n",
       "  </thead>\n",
       "  <tbody>\n",
       "    <tr>\n",
       "      <th>Freehold</th>\n",
       "      <td>3418</td>\n",
       "      <td>4680</td>\n",
       "      <td>21783</td>\n",
       "      <td>3304</td>\n",
       "      <td>16221</td>\n",
       "      <td>17722</td>\n",
       "      <td>5754</td>\n",
       "      <td>3395</td>\n",
       "      <td>5050</td>\n",
       "      <td>8460</td>\n",
       "    </tr>\n",
       "    <tr>\n",
       "      <th>Leasehold</th>\n",
       "      <td>434</td>\n",
       "      <td>1209</td>\n",
       "      <td>40133</td>\n",
       "      <td>882</td>\n",
       "      <td>5741</td>\n",
       "      <td>5496</td>\n",
       "      <td>1702</td>\n",
       "      <td>693</td>\n",
       "      <td>1858</td>\n",
       "      <td>2793</td>\n",
       "    </tr>\n",
       "  </tbody>\n",
       "</table>\n",
       "</div>"
      ],
      "text/plain": [
       "region     east anglia  east midlands  greater london  north  north west  \\\n",
       "tenure                                                                     \n",
       "Freehold          3418           4680           21783   3304       16221   \n",
       "Leasehold          434           1209           40133    882        5741   \n",
       "\n",
       "region     south east  south west  wales  west midlands  yorks and humber  \n",
       "tenure                                                                     \n",
       "Freehold        17722        5754   3395           5050              8460  \n",
       "Leasehold        5496        1702    693           1858              2793  "
      ]
     },
     "execution_count": 46,
     "metadata": {},
     "output_type": "execute_result"
    }
   ],
   "source": [
    "pd.crosstab(ocod_data['tenure'], ocod_data['region'].str.lower())#.to_latex() #convert to copyable latex table"
   ]
  },
  {
   "cell_type": "markdown",
   "id": "9e9605d6",
   "metadata": {},
   "source": [
    "## Dump out the test set indices to manually create the ground truth\n",
    "\n",
    "The code is commented out to avoid overwriting"
   ]
  },
  {
   "cell_type": "code",
   "execution_count": 55,
   "id": "8eca279b",
   "metadata": {},
   "outputs": [],
   "source": [
    "\n",
    "\n",
    "# ocod_data.loc[ocod_data.title_number.isin(pd.read_csv(\"/tf/empty_homes_data/test_set_indices.csv\")['title_number']) ,  \n",
    "#               ['title_number','within_title_id','unit_type' ,'building_name', 'street_number', 'street_name','postcode' ,'property_address',  'lsoa11cd', 'class2']].to_csv('/tf/empty_homes_data/parsed_ground_truth_raw.csv')"
   ]
  },
  {
   "cell_type": "code",
   "execution_count": 64,
   "id": "df0c2b94",
   "metadata": {},
   "outputs": [
    {
     "data": {
      "text/plain": [
       "class2\n",
       "airspace     192\n",
       "business     410\n",
       "carpark      123\n",
       "domestic    3940\n",
       "land         333\n",
       "unknown      100\n",
       "dtype: int64"
      ]
     },
     "execution_count": 64,
     "metadata": {},
     "output_type": "execute_result"
    }
   ],
   "source": [
    "ocod_data.loc[  (ocod_data['lad11cd'].isin(['E08000011','E08000012','E08000013',  'E08000014', 'E08000015'])==True),  \n",
    "              ['title_number', 'building_name', 'street_number', 'street_number2', 'street_name', 'property_address', 'price_paid', 'lsoa11cd', 'class', 'class2']].groupby('class2').size()#.to_csv('/tf/empty_homes_data/merseyside.csv')"
   ]
  },
  {
   "cell_type": "code",
   "execution_count": 53,
   "id": "2e03305b",
   "metadata": {},
   "outputs": [
    {
     "data": {
      "text/html": [
       "<div>\n",
       "<style scoped>\n",
       "    .dataframe tbody tr th:only-of-type {\n",
       "        vertical-align: middle;\n",
       "    }\n",
       "\n",
       "    .dataframe tbody tr th {\n",
       "        vertical-align: top;\n",
       "    }\n",
       "\n",
       "    .dataframe thead th {\n",
       "        text-align: right;\n",
       "    }\n",
       "</style>\n",
       "<table border=\"1\" class=\"dataframe\">\n",
       "  <thead>\n",
       "    <tr style=\"text-align: right;\">\n",
       "      <th></th>\n",
       "      <th>title_number</th>\n",
       "      <th>building_name</th>\n",
       "      <th>street_number</th>\n",
       "      <th>street_number2</th>\n",
       "      <th>street_name</th>\n",
       "      <th>property_address</th>\n",
       "      <th>price_paid</th>\n",
       "      <th>lsoa11cd</th>\n",
       "      <th>class</th>\n",
       "    </tr>\n",
       "  </thead>\n",
       "  <tbody>\n",
       "    <tr>\n",
       "      <th>101426</th>\n",
       "      <td>NaN</td>\n",
       "      <td>the railway tavern</td>\n",
       "      <td>393</td>\n",
       "      <td>393</td>\n",
       "      <td>old ford road</td>\n",
       "      <td>The Railway Tavern, 393 Old Ford Road, London ...</td>\n",
       "      <td>110000.0</td>\n",
       "      <td>E01004224</td>\n",
       "      <td>business</td>\n",
       "    </tr>\n",
       "    <tr>\n",
       "      <th>375861</th>\n",
       "      <td>NaN</td>\n",
       "      <td>the cock tavern</td>\n",
       "      <td>23</td>\n",
       "      <td>23</td>\n",
       "      <td>phoenix road</td>\n",
       "      <td>The Cock Tavern, 23 Phoenix Road, London (NW1 ...</td>\n",
       "      <td>NaN</td>\n",
       "      <td>E01000953</td>\n",
       "      <td>business</td>\n",
       "    </tr>\n",
       "    <tr>\n",
       "      <th>69284</th>\n",
       "      <td>NaN</td>\n",
       "      <td>the grove tavern</td>\n",
       "      <td>83</td>\n",
       "      <td>83</td>\n",
       "      <td>hammersmith grove</td>\n",
       "      <td>The Grove Tavern, 83 Hammersmith Grove, London...</td>\n",
       "      <td>NaN</td>\n",
       "      <td>E01001898</td>\n",
       "      <td>business</td>\n",
       "    </tr>\n",
       "    <tr>\n",
       "      <th>AV56717</th>\n",
       "      <td>NaN</td>\n",
       "      <td>air balloon tavern</td>\n",
       "      <td>11</td>\n",
       "      <td>11</td>\n",
       "      <td>air balloon road</td>\n",
       "      <td>Air Balloon Tavern, 11 Air Balloon Road, St Ge...</td>\n",
       "      <td>69750.0</td>\n",
       "      <td>E01014682</td>\n",
       "      <td>business</td>\n",
       "    </tr>\n",
       "    <tr>\n",
       "      <th>CB271724</th>\n",
       "      <td>NaN</td>\n",
       "      <td>minster tavern</td>\n",
       "      <td>1</td>\n",
       "      <td>1</td>\n",
       "      <td>minster place</td>\n",
       "      <td>Minster Tavern, 1 Minster Place, Ely (CB7 4EL)</td>\n",
       "      <td>NaN</td>\n",
       "      <td>E01018025</td>\n",
       "      <td>business</td>\n",
       "    </tr>\n",
       "    <tr>\n",
       "      <th>DY405002</th>\n",
       "      <td>NaN</td>\n",
       "      <td>railway tavern</td>\n",
       "      <td>None</td>\n",
       "      <td>nan</td>\n",
       "      <td>station road</td>\n",
       "      <td>Railway Tavern, Station Road, Hatton, Derby (D...</td>\n",
       "      <td>NaN</td>\n",
       "      <td>E01019845</td>\n",
       "      <td>business</td>\n",
       "    </tr>\n",
       "    <tr>\n",
       "      <th>GM567433</th>\n",
       "      <td>NaN</td>\n",
       "      <td>town hall tavern</td>\n",
       "      <td>None</td>\n",
       "      <td>nan</td>\n",
       "      <td>wellington road south</td>\n",
       "      <td>Town Hall Tavern ,95 Wellington Road South, St...</td>\n",
       "      <td>189290.0</td>\n",
       "      <td>E01005758</td>\n",
       "      <td>business</td>\n",
       "    </tr>\n",
       "    <tr>\n",
       "      <th>HS302581</th>\n",
       "      <td>NaN</td>\n",
       "      <td>saltshouse tavern</td>\n",
       "      <td>1</td>\n",
       "      <td>1</td>\n",
       "      <td>dunvegan road</td>\n",
       "      <td>Saltshouse Tavern, 1 Dunvegan Road, Hull (HU8 ...</td>\n",
       "      <td>NaN</td>\n",
       "      <td>E01012821</td>\n",
       "      <td>business</td>\n",
       "    </tr>\n",
       "    <tr>\n",
       "      <th>NGL477707</th>\n",
       "      <td>NaN</td>\n",
       "      <td>the crown tavern</td>\n",
       "      <td>158</td>\n",
       "      <td>158</td>\n",
       "      <td>prince of wales road</td>\n",
       "      <td>The Crown Tavern, 158 Prince of Wales Road, St...</td>\n",
       "      <td>200000.0</td>\n",
       "      <td>E01000905</td>\n",
       "      <td>business</td>\n",
       "    </tr>\n",
       "    <tr>\n",
       "      <th>NGL792560</th>\n",
       "      <td>NaN</td>\n",
       "      <td>part of the cock tavern</td>\n",
       "      <td>259</td>\n",
       "      <td>259</td>\n",
       "      <td>upper street</td>\n",
       "      <td>Part of The Cock Tavern, 259 Upper Street, Lon...</td>\n",
       "      <td>NaN</td>\n",
       "      <td>E01002795</td>\n",
       "      <td>business</td>\n",
       "    </tr>\n",
       "    <tr>\n",
       "      <th>NGL823008</th>\n",
       "      <td>NaN</td>\n",
       "      <td>belsize tavern</td>\n",
       "      <td>29</td>\n",
       "      <td>29</td>\n",
       "      <td>belsize lane</td>\n",
       "      <td>Belsize Tavern, 29 Belsize Lane, London (NW3 5AS)</td>\n",
       "      <td>1180000.0</td>\n",
       "      <td>E01000848</td>\n",
       "      <td>business</td>\n",
       "    </tr>\n",
       "    <tr>\n",
       "      <th>NGL844497</th>\n",
       "      <td>NaN</td>\n",
       "      <td>premises at st martin's tavern</td>\n",
       "      <td>35</td>\n",
       "      <td>35</td>\n",
       "      <td>pratt street</td>\n",
       "      <td>Premises at St Martin's Tavern, 35 Pratt Stree...</td>\n",
       "      <td>NaN</td>\n",
       "      <td>E01000861</td>\n",
       "      <td>business</td>\n",
       "    </tr>\n",
       "    <tr>\n",
       "      <th>NT237568</th>\n",
       "      <td>NaN</td>\n",
       "      <td>forest tavern</td>\n",
       "      <td>24</td>\n",
       "      <td>24</td>\n",
       "      <td>skegby road</td>\n",
       "      <td>Forest Tavern, 24 Skegby Road, Kirkby In Ashfi...</td>\n",
       "      <td>NaN</td>\n",
       "      <td>E01027998</td>\n",
       "      <td>business</td>\n",
       "    </tr>\n",
       "    <tr>\n",
       "      <th>NT316383</th>\n",
       "      <td>NaN</td>\n",
       "      <td>old rose tavern</td>\n",
       "      <td>None</td>\n",
       "      <td>nan</td>\n",
       "      <td>st peters street</td>\n",
       "      <td>Old Rose Tavern, St Peters Street, Nottingham ...</td>\n",
       "      <td>NaN</td>\n",
       "      <td>E01033395</td>\n",
       "      <td>business</td>\n",
       "    </tr>\n",
       "    <tr>\n",
       "      <th>PM4663</th>\n",
       "      <td>NaN</td>\n",
       "      <td>the eastney tavern</td>\n",
       "      <td>None</td>\n",
       "      <td>nan</td>\n",
       "      <td>cromwell road</td>\n",
       "      <td>The Eastney Tavern, Cromwell Road, Eastney, So...</td>\n",
       "      <td>802994.0</td>\n",
       "      <td>E01017068</td>\n",
       "      <td>business</td>\n",
       "    </tr>\n",
       "    <tr>\n",
       "      <th>SF511252</th>\n",
       "      <td>NaN</td>\n",
       "      <td>foresters tavern</td>\n",
       "      <td>68</td>\n",
       "      <td>68</td>\n",
       "      <td>ogley hay road</td>\n",
       "      <td>Foresters Tavern, 68 Ogley Hay Road, Chase Ter...</td>\n",
       "      <td>NaN</td>\n",
       "      <td>E01029486</td>\n",
       "      <td>business</td>\n",
       "    </tr>\n",
       "    <tr>\n",
       "      <th>SGL66322</th>\n",
       "      <td>NaN</td>\n",
       "      <td>dukes tavern</td>\n",
       "      <td>None</td>\n",
       "      <td>nan</td>\n",
       "      <td>cambridge road</td>\n",
       "      <td>Dukes Tavern, Cambridge Road, Kingston upon Th...</td>\n",
       "      <td>1700000.0</td>\n",
       "      <td>E01002969</td>\n",
       "      <td>business</td>\n",
       "    </tr>\n",
       "    <tr>\n",
       "      <th>TGL125040</th>\n",
       "      <td>NaN</td>\n",
       "      <td>downham tavern</td>\n",
       "      <td>None</td>\n",
       "      <td>nan</td>\n",
       "      <td>downham way</td>\n",
       "      <td>Downham Tavern, Downham Way, Bromley, (BR1 5HS)</td>\n",
       "      <td>693375.0</td>\n",
       "      <td>E01003237</td>\n",
       "      <td>business</td>\n",
       "    </tr>\n",
       "    <tr>\n",
       "      <th>TGL183009</th>\n",
       "      <td>NaN</td>\n",
       "      <td>the grove tavern</td>\n",
       "      <td>None</td>\n",
       "      <td>nan</td>\n",
       "      <td>lordship lane</td>\n",
       "      <td>The Grove Tavern, Lordship Lane, London (SE22 ...</td>\n",
       "      <td>NaN</td>\n",
       "      <td>E01003949</td>\n",
       "      <td>business</td>\n",
       "    </tr>\n",
       "    <tr>\n",
       "      <th>TGL254024</th>\n",
       "      <td>NaN</td>\n",
       "      <td>the surrey tavern</td>\n",
       "      <td>226</td>\n",
       "      <td>226</td>\n",
       "      <td>trinity road</td>\n",
       "      <td>The Surrey Tavern, 226 Trinity Road, London an...</td>\n",
       "      <td>NaN</td>\n",
       "      <td>E01004543</td>\n",
       "      <td>business</td>\n",
       "    </tr>\n",
       "    <tr>\n",
       "      <th>TY294685</th>\n",
       "      <td>NaN</td>\n",
       "      <td>rosehill tavern</td>\n",
       "      <td>None</td>\n",
       "      <td>nan</td>\n",
       "      <td>churchill street</td>\n",
       "      <td>Rosehill Tavern, Churchill Street, Wallsend (N...</td>\n",
       "      <td>NaN</td>\n",
       "      <td>E01008511</td>\n",
       "      <td>business</td>\n",
       "    </tr>\n",
       "    <tr>\n",
       "      <th>WA661492</th>\n",
       "      <td>NaN</td>\n",
       "      <td>the lyceum tavern</td>\n",
       "      <td>None</td>\n",
       "      <td>nan</td>\n",
       "      <td>malpas road</td>\n",
       "      <td>The Lyceum Tavern, Malpas Road, Newport (NP20 ...</td>\n",
       "      <td>257423.0</td>\n",
       "      <td>W01001684</td>\n",
       "      <td>business</td>\n",
       "    </tr>\n",
       "  </tbody>\n",
       "</table>\n",
       "</div>"
      ],
      "text/plain": [
       "          title_number                   building_name street_number  \\\n",
       "101426             NaN              the railway tavern           393   \n",
       "375861             NaN                 the cock tavern            23   \n",
       "69284              NaN                the grove tavern            83   \n",
       "AV56717            NaN              air balloon tavern            11   \n",
       "CB271724           NaN                  minster tavern             1   \n",
       "DY405002           NaN                  railway tavern          None   \n",
       "GM567433           NaN                town hall tavern          None   \n",
       "HS302581           NaN               saltshouse tavern             1   \n",
       "NGL477707          NaN                the crown tavern           158   \n",
       "NGL792560          NaN         part of the cock tavern           259   \n",
       "NGL823008          NaN                  belsize tavern            29   \n",
       "NGL844497          NaN  premises at st martin's tavern            35   \n",
       "NT237568           NaN                   forest tavern            24   \n",
       "NT316383           NaN                 old rose tavern          None   \n",
       "PM4663             NaN              the eastney tavern          None   \n",
       "SF511252           NaN                foresters tavern            68   \n",
       "SGL66322           NaN                    dukes tavern          None   \n",
       "TGL125040          NaN                  downham tavern          None   \n",
       "TGL183009          NaN                the grove tavern          None   \n",
       "TGL254024          NaN               the surrey tavern           226   \n",
       "TY294685           NaN                 rosehill tavern          None   \n",
       "WA661492           NaN               the lyceum tavern          None   \n",
       "\n",
       "          street_number2            street_name  \\\n",
       "101426               393          old ford road   \n",
       "375861                23           phoenix road   \n",
       "69284                 83      hammersmith grove   \n",
       "AV56717               11       air balloon road   \n",
       "CB271724               1          minster place   \n",
       "DY405002             nan           station road   \n",
       "GM567433             nan  wellington road south   \n",
       "HS302581               1          dunvegan road   \n",
       "NGL477707            158   prince of wales road   \n",
       "NGL792560            259           upper street   \n",
       "NGL823008             29           belsize lane   \n",
       "NGL844497             35           pratt street   \n",
       "NT237568              24            skegby road   \n",
       "NT316383             nan       st peters street   \n",
       "PM4663               nan          cromwell road   \n",
       "SF511252              68         ogley hay road   \n",
       "SGL66322             nan         cambridge road   \n",
       "TGL125040            nan            downham way   \n",
       "TGL183009            nan          lordship lane   \n",
       "TGL254024            226           trinity road   \n",
       "TY294685             nan       churchill street   \n",
       "WA661492             nan            malpas road   \n",
       "\n",
       "                                            property_address  price_paid  \\\n",
       "101426     The Railway Tavern, 393 Old Ford Road, London ...    110000.0   \n",
       "375861     The Cock Tavern, 23 Phoenix Road, London (NW1 ...         NaN   \n",
       "69284      The Grove Tavern, 83 Hammersmith Grove, London...         NaN   \n",
       "AV56717    Air Balloon Tavern, 11 Air Balloon Road, St Ge...     69750.0   \n",
       "CB271724      Minster Tavern, 1 Minster Place, Ely (CB7 4EL)         NaN   \n",
       "DY405002   Railway Tavern, Station Road, Hatton, Derby (D...         NaN   \n",
       "GM567433   Town Hall Tavern ,95 Wellington Road South, St...    189290.0   \n",
       "HS302581   Saltshouse Tavern, 1 Dunvegan Road, Hull (HU8 ...         NaN   \n",
       "NGL477707  The Crown Tavern, 158 Prince of Wales Road, St...    200000.0   \n",
       "NGL792560  Part of The Cock Tavern, 259 Upper Street, Lon...         NaN   \n",
       "NGL823008  Belsize Tavern, 29 Belsize Lane, London (NW3 5AS)   1180000.0   \n",
       "NGL844497  Premises at St Martin's Tavern, 35 Pratt Stree...         NaN   \n",
       "NT237568   Forest Tavern, 24 Skegby Road, Kirkby In Ashfi...         NaN   \n",
       "NT316383   Old Rose Tavern, St Peters Street, Nottingham ...         NaN   \n",
       "PM4663     The Eastney Tavern, Cromwell Road, Eastney, So...    802994.0   \n",
       "SF511252   Foresters Tavern, 68 Ogley Hay Road, Chase Ter...         NaN   \n",
       "SGL66322   Dukes Tavern, Cambridge Road, Kingston upon Th...   1700000.0   \n",
       "TGL125040    Downham Tavern, Downham Way, Bromley, (BR1 5HS)    693375.0   \n",
       "TGL183009  The Grove Tavern, Lordship Lane, London (SE22 ...         NaN   \n",
       "TGL254024  The Surrey Tavern, 226 Trinity Road, London an...         NaN   \n",
       "TY294685   Rosehill Tavern, Churchill Street, Wallsend (N...         NaN   \n",
       "WA661492   The Lyceum Tavern, Malpas Road, Newport (NP20 ...    257423.0   \n",
       "\n",
       "            lsoa11cd     class  \n",
       "101426     E01004224  business  \n",
       "375861     E01000953  business  \n",
       "69284      E01001898  business  \n",
       "AV56717    E01014682  business  \n",
       "CB271724   E01018025  business  \n",
       "DY405002   E01019845  business  \n",
       "GM567433   E01005758  business  \n",
       "HS302581   E01012821  business  \n",
       "NGL477707  E01000905  business  \n",
       "NGL792560  E01002795  business  \n",
       "NGL823008  E01000848  business  \n",
       "NGL844497  E01000861  business  \n",
       "NT237568   E01027998  business  \n",
       "NT316383   E01033395  business  \n",
       "PM4663     E01017068  business  \n",
       "SF511252   E01029486  business  \n",
       "SGL66322   E01002969  business  \n",
       "TGL125040  E01003237  business  \n",
       "TGL183009  E01003949  business  \n",
       "TGL254024  E01004543  business  \n",
       "TY294685   E01008511  business  \n",
       "WA661492   W01001684  business  "
      ]
     },
     "execution_count": 53,
     "metadata": {},
     "output_type": "execute_result"
    }
   ],
   "source": [
    "\n",
    "\n",
    "#ocod_data['building_name'].str.contains(r'^the\\s\\w+\\sand\\s\\w+$')==True\n",
    "#'\\binn$'\n",
    "\n",
    "ocod_data.loc[ ocod_data['building_name'].str.contains(r'tavern$')==True,  \n",
    "              ['title_number', 'building_name', 'street_number', 'street_number2', 'street_name', 'property_address', 'price_paid', 'lsoa11cd', 'class']]#.to_csv('/tf/empty_homes_data/delete_me.csv')"
   ]
  },
  {
   "cell_type": "code",
   "execution_count": 53,
   "id": "1133f5a1",
   "metadata": {},
   "outputs": [
    {
     "data": {
      "text/html": [
       "<div>\n",
       "<style scoped>\n",
       "    .dataframe tbody tr th:only-of-type {\n",
       "        vertical-align: middle;\n",
       "    }\n",
       "\n",
       "    .dataframe tbody tr th {\n",
       "        vertical-align: top;\n",
       "    }\n",
       "\n",
       "    .dataframe thead th {\n",
       "        text-align: right;\n",
       "    }\n",
       "</style>\n",
       "<table border=\"1\" class=\"dataframe\">\n",
       "  <thead>\n",
       "    <tr style=\"text-align: right;\">\n",
       "      <th>region</th>\n",
       "      <th>east anglia</th>\n",
       "      <th>east midlands</th>\n",
       "      <th>greater london</th>\n",
       "      <th>north</th>\n",
       "      <th>north west</th>\n",
       "      <th>south east</th>\n",
       "      <th>south west</th>\n",
       "      <th>wales</th>\n",
       "      <th>west midlands</th>\n",
       "      <th>yorks and humber</th>\n",
       "    </tr>\n",
       "    <tr>\n",
       "      <th>class2</th>\n",
       "      <th></th>\n",
       "      <th></th>\n",
       "      <th></th>\n",
       "      <th></th>\n",
       "      <th></th>\n",
       "      <th></th>\n",
       "      <th></th>\n",
       "      <th></th>\n",
       "      <th></th>\n",
       "      <th></th>\n",
       "    </tr>\n",
       "  </thead>\n",
       "  <tbody>\n",
       "    <tr>\n",
       "      <th>airspace</th>\n",
       "      <td>50</td>\n",
       "      <td>162</td>\n",
       "      <td>87</td>\n",
       "      <td>15</td>\n",
       "      <td>215</td>\n",
       "      <td>185</td>\n",
       "      <td>266</td>\n",
       "      <td>290</td>\n",
       "      <td>94</td>\n",
       "      <td>303</td>\n",
       "    </tr>\n",
       "    <tr>\n",
       "      <th>business</th>\n",
       "      <td>418</td>\n",
       "      <td>914</td>\n",
       "      <td>9153</td>\n",
       "      <td>637</td>\n",
       "      <td>1717</td>\n",
       "      <td>3099</td>\n",
       "      <td>1091</td>\n",
       "      <td>469</td>\n",
       "      <td>1034</td>\n",
       "      <td>910</td>\n",
       "    </tr>\n",
       "    <tr>\n",
       "      <th>carpark</th>\n",
       "      <td>27</td>\n",
       "      <td>36</td>\n",
       "      <td>1454</td>\n",
       "      <td>23</td>\n",
       "      <td>518</td>\n",
       "      <td>186</td>\n",
       "      <td>88</td>\n",
       "      <td>9</td>\n",
       "      <td>49</td>\n",
       "      <td>48</td>\n",
       "    </tr>\n",
       "    <tr>\n",
       "      <th>domestic</th>\n",
       "      <td>2662</td>\n",
       "      <td>3749</td>\n",
       "      <td>47847</td>\n",
       "      <td>2656</td>\n",
       "      <td>16985</td>\n",
       "      <td>14501</td>\n",
       "      <td>4566</td>\n",
       "      <td>2614</td>\n",
       "      <td>4287</td>\n",
       "      <td>8386</td>\n",
       "    </tr>\n",
       "    <tr>\n",
       "      <th>land</th>\n",
       "      <td>639</td>\n",
       "      <td>918</td>\n",
       "      <td>2622</td>\n",
       "      <td>727</td>\n",
       "      <td>2210</td>\n",
       "      <td>4789</td>\n",
       "      <td>1251</td>\n",
       "      <td>629</td>\n",
       "      <td>1303</td>\n",
       "      <td>1311</td>\n",
       "    </tr>\n",
       "    <tr>\n",
       "      <th>unknown</th>\n",
       "      <td>56</td>\n",
       "      <td>110</td>\n",
       "      <td>753</td>\n",
       "      <td>128</td>\n",
       "      <td>317</td>\n",
       "      <td>458</td>\n",
       "      <td>194</td>\n",
       "      <td>77</td>\n",
       "      <td>141</td>\n",
       "      <td>295</td>\n",
       "    </tr>\n",
       "  </tbody>\n",
       "</table>\n",
       "</div>"
      ],
      "text/plain": [
       "region    east anglia  east midlands  greater london  north  north west  \\\n",
       "class2                                                                    \n",
       "airspace           50            162              87     15         215   \n",
       "business          418            914            9153    637        1717   \n",
       "carpark            27             36            1454     23         518   \n",
       "domestic         2662           3749           47847   2656       16985   \n",
       "land              639            918            2622    727        2210   \n",
       "unknown            56            110             753    128         317   \n",
       "\n",
       "region    south east  south west  wales  west midlands  yorks and humber  \n",
       "class2                                                                    \n",
       "airspace         185         266    290             94               303  \n",
       "business        3099        1091    469           1034               910  \n",
       "carpark          186          88      9             49                48  \n",
       "domestic       14501        4566   2614           4287              8386  \n",
       "land            4789        1251    629           1303              1311  \n",
       "unknown          458         194     77            141               295  "
      ]
     },
     "execution_count": 53,
     "metadata": {},
     "output_type": "execute_result"
    }
   ],
   "source": [
    "pd.crosstab(ocod_data['class2'], ocod_data['region'].str.lower())#.to_latex() #convert to copyable latex table"
   ]
  },
  {
   "cell_type": "code",
   "execution_count": null,
   "id": "06c3a9b7",
   "metadata": {},
   "outputs": [],
   "source": [
    "pd.crosstab(ocod_data['class2'], ocod_data['tenure'])#.to_latex() #convert to copyable latex table"
   ]
  },
  {
   "cell_type": "code",
   "execution_count": null,
   "id": "1dbfb79f",
   "metadata": {},
   "outputs": [],
   "source": [
    "temp_df = ocod_data[['title_number', 'tenure', 'within_larger_title']].drop_duplicates()\n",
    "\n",
    "#most of titles containing nested addresses are free hold by about 3/2\n",
    "pd.crosstab(temp_df['tenure'], temp_df['within_larger_title'])\n"
   ]
  },
  {
   "cell_type": "code",
   "execution_count": null,
   "id": "720c2244",
   "metadata": {},
   "outputs": [],
   "source": [
    "#The analysis is based on nested addresses being domestic\n",
    "temp_df = ocod_data[['title_number', 'tenure', 'property_address']][ocod_data['within_larger_title']==True]\n",
    "temp_df['is_flat'] = temp_df['property_address'].str.contains(r\"(flat|apartment|penthouse|unit)\", case = False)\n",
    "\n",
    "#pd.crosstab(temp_df['tenure'], temp_df['within_larger_title'])\n",
    "\n",
    "temp_df.groupby('tenure').size()\n",
    "\n",
    "#Of nested addresses freehold is more common by 3/2 50k to 24k\n",
    "#most of theproperties are not flats however flats dominate the leasehold section\n",
    "#flats are 1/3 of nested addresses but make up almost 3/4 of the leashold nested addresses\n",
    "#note this does not include items marked as units\n",
    "pd.crosstab(temp_df.tenure, temp_df.is_flat)"
   ]
  },
  {
   "cell_type": "code",
   "execution_count": null,
   "id": "01b01126",
   "metadata": {},
   "outputs": [],
   "source": [
    "#This is interesting as it shows that only about 15% of normal titles are missing a postcode whilst half of within larger title addresses are missing a postcode.\n",
    "#This is probably because they cover multiple postcodes\n",
    "pd.crosstab(ocod_data.postcode.notnull(), ocod_data.within_larger_title)"
   ]
  },
  {
   "cell_type": "code",
   "execution_count": null,
   "id": "5bdbc081",
   "metadata": {},
   "outputs": [],
   "source": [
    "#64% of the propertys have postcodes/lsoa.\n",
    "#I need to match the remaining to get an accurate distribution of the properties\n",
    "\n",
    "ocod_data.postcode.notnull().sum()/ocod_data.shape[0]"
   ]
  },
  {
   "cell_type": "markdown",
   "id": "468fb9c6",
   "metadata": {},
   "source": [
    "## Road matching"
   ]
  },
  {
   "cell_type": "markdown",
   "id": "397cedf2",
   "metadata": {},
   "source": [
    "## Exploring road matching\n",
    "\n",
    "Before matching the names I should edit the street names to remove all ' apostraphes as these are very unreliable, I should also remove spaces between 'gate' and whatever comes before it same with 'way'\n",
    "It may also be an idea to remove 's' that appears at the end of a word but we can try this again later"
   ]
  },
  {
   "cell_type": "code",
   "execution_count": null,
   "id": "be63aa0b",
   "metadata": {},
   "outputs": [],
   "source": [
    "#target_lad = 'E09000019'\n",
    "#test= fuzzy_street_match(ocod_data, voa_businesses, target_lad)\n"
   ]
  },
  {
   "cell_type": "code",
   "execution_count": null,
   "id": "84e28a02",
   "metadata": {},
   "outputs": [],
   "source": [
    "target_lad = 'E09000019'\n",
    "test= massaged_street_match(ocod_data, voa_businesses, target_lad)\n",
    "\n",
    "test.columns#[test['street_name2']].groupby('match').size()"
   ]
  },
  {
   "cell_type": "code",
   "execution_count": null,
   "id": "ce9a8db5",
   "metadata": {},
   "outputs": [],
   "source": [
    "#all_lads = ocod_data.lad11cd.unique()\n",
    "\n",
    "#all_lads = [x for x in all_lads if str(x) != 'nan']\n",
    "##see which roads match a road in voa data set for each local authority\n",
    "#ocod_road_match= [fuzzy_street_match(ocod_data, voa_businesses, target_lad) for target_lad in all_lads]\n",
    "#ocod_road_match = pd.concat(ocod_road_match)"
   ]
  },
  {
   "cell_type": "code",
   "execution_count": null,
   "id": "746ef028",
   "metadata": {},
   "outputs": [],
   "source": [
    "all_lads = ocod_data.lad11cd.unique()\n",
    "\n",
    "all_lads = [x for x in all_lads if str(x) != 'nan']\n",
    "#see which roads match a road in voa data set for each local authority\n",
    "ocod_road_match= [massaged_street_match(ocod_data, voa_businesses, target_lad) for target_lad in all_lads]\n",
    "ocod_road_match = pd.concat(ocod_road_match)"
   ]
  },
  {
   "cell_type": "code",
   "execution_count": null,
   "id": "3db02091",
   "metadata": {},
   "outputs": [],
   "source": [
    "ocod_road_match.groupby('match').size()"
   ]
  },
  {
   "cell_type": "code",
   "execution_count": null,
   "id": "ea1b03c9",
   "metadata": {},
   "outputs": [],
   "source": [
    "test = ocod_road_match2[ocod_road_match2['street_name'] != 'xxxstreet name missingxxx']\n",
    "pd.crosstab(test['match'], test['class'])"
   ]
  },
  {
   "cell_type": "code",
   "execution_count": 2,
   "id": "912e7f1a",
   "metadata": {},
   "outputs": [
    {
     "data": {
      "text/plain": [
       "0.11638233232063566"
      ]
     },
     "execution_count": 2,
     "metadata": {},
     "output_type": "execute_result"
    }
   ],
   "source": [
    "498/(498+3781)"
   ]
  },
  {
   "cell_type": "code",
   "execution_count": 3,
   "id": "7c925b75",
   "metadata": {},
   "outputs": [
    {
     "ename": "NameError",
     "evalue": "name 'ocod_road_match2' is not defined",
     "output_type": "error",
     "traceback": [
      "\u001b[0;31m---------------------------------------------------------------------------\u001b[0m",
      "\u001b[0;31mNameError\u001b[0m                                 Traceback (most recent call last)",
      "\u001b[0;32m<ipython-input-3-16d227f4ce55>\u001b[0m in \u001b[0;36m<module>\u001b[0;34m\u001b[0m\n\u001b[0;32m----> 1\u001b[0;31m \u001b[0mocod_road_match2\u001b[0m\u001b[0;34m[\u001b[0m\u001b[0;34m(\u001b[0m\u001b[0mocod_road_match2\u001b[0m\u001b[0;34m[\u001b[0m\u001b[0;34m'match'\u001b[0m\u001b[0;34m]\u001b[0m\u001b[0;34m==\u001b[0m\u001b[0;32mFalse\u001b[0m\u001b[0;34m)\u001b[0m \u001b[0;34m&\u001b[0m \u001b[0;34m(\u001b[0m\u001b[0mocod_road_match2\u001b[0m\u001b[0;34m[\u001b[0m\u001b[0;34m'class'\u001b[0m\u001b[0;34m]\u001b[0m \u001b[0;34m==\u001b[0m \u001b[0;34m\"business\"\u001b[0m\u001b[0;34m)\u001b[0m\u001b[0;34m&\u001b[0m \u001b[0;34m(\u001b[0m\u001b[0mocod_road_match2\u001b[0m\u001b[0;34m[\u001b[0m\u001b[0;34m'street_name'\u001b[0m\u001b[0;34m]\u001b[0m \u001b[0;34m!=\u001b[0m \u001b[0;34m'xxxstreet name missingxxx'\u001b[0m\u001b[0;34m)\u001b[0m\u001b[0;34m]\u001b[0m\u001b[0;34m.\u001b[0m\u001b[0mto_csv\u001b[0m\u001b[0;34m(\u001b[0m\u001b[0;34m\"/tf/empty_homes_data/fuzzy_roads.csv\"\u001b[0m\u001b[0;34m)\u001b[0m\u001b[0;34m\u001b[0m\u001b[0;34m\u001b[0m\u001b[0m\n\u001b[0m",
      "\u001b[0;31mNameError\u001b[0m: name 'ocod_road_match2' is not defined"
     ]
    }
   ],
   "source": [
    "\n",
    "ocod_road_match2[(ocod_road_match2['match']==False) & (ocod_road_match2['class'] == \"business\")& (ocod_road_match2['street_name'] != 'xxxstreet name missingxxx')].to_csv(\"/tf/empty_homes_data/fuzzy_roads.csv\")"
   ]
  },
  {
   "cell_type": "code",
   "execution_count": 49,
   "id": "f167139f",
   "metadata": {},
   "outputs": [
    {
     "ename": "NameError",
     "evalue": "name 'ocod_road_match' is not defined",
     "output_type": "error",
     "traceback": [
      "\u001b[0;31m---------------------------------------------------------------------------\u001b[0m",
      "\u001b[0;31mNameError\u001b[0m                                 Traceback (most recent call last)",
      "\u001b[0;32m<ipython-input-49-1681baa4c244>\u001b[0m in \u001b[0;36m<module>\u001b[0;34m\u001b[0m\n\u001b[0;32m----> 1\u001b[0;31m \u001b[0mocod_road_match\u001b[0m\u001b[0;34m[\u001b[0m\u001b[0;34m(\u001b[0m\u001b[0mocod_road_match\u001b[0m\u001b[0;34m[\u001b[0m\u001b[0;34m'similarity'\u001b[0m\u001b[0;34m]\u001b[0m\u001b[0;34m<\u001b[0m\u001b[0;36m93\u001b[0m\u001b[0;34m)\u001b[0m \u001b[0;34m&\u001b[0m \u001b[0;34m(\u001b[0m\u001b[0mocod_road_match\u001b[0m\u001b[0;34m[\u001b[0m\u001b[0;34m'class'\u001b[0m\u001b[0;34m]\u001b[0m \u001b[0;34m==\u001b[0m \u001b[0;34m\"business\"\u001b[0m\u001b[0;34m)\u001b[0m \u001b[0;34m&\u001b[0m \u001b[0;34m(\u001b[0m\u001b[0mocod_road_match\u001b[0m\u001b[0;34m[\u001b[0m\u001b[0;34m'street_name'\u001b[0m\u001b[0;34m]\u001b[0m \u001b[0;34m!=\u001b[0m \u001b[0;34m'xxxstreet name missingxxx'\u001b[0m\u001b[0;34m)\u001b[0m\u001b[0;34m]\u001b[0m\u001b[0;34m.\u001b[0m\u001b[0mto_csv\u001b[0m\u001b[0;34m(\u001b[0m\u001b[0;34m\"/tf/empty_homes_data/fuzzy_roads.csv\"\u001b[0m\u001b[0;34m)\u001b[0m\u001b[0;34m\u001b[0m\u001b[0;34m\u001b[0m\u001b[0m\n\u001b[0m",
      "\u001b[0;31mNameError\u001b[0m: name 'ocod_road_match' is not defined"
     ]
    }
   ],
   "source": [
    "\n",
    "ocod_road_match[(ocod_road_match['similarity']<93) & (ocod_road_match['class'] == \"business\") & (ocod_road_match['street_name'] != 'xxxstreet name missingxxx')].to_csv(\"/tf/empty_homes_data/fuzzy_roads.csv\")"
   ]
  },
  {
   "cell_type": "code",
   "execution_count": null,
   "id": "badaab0b",
   "metadata": {},
   "outputs": [],
   "source": [
    "ocod_road_match[ocod_road_match['street_name'].str.contains(r\"'\")][['street_name', 'street_name2', 'matched_road_name' ]]"
   ]
  },
  {
   "cell_type": "code",
   "execution_count": null,
   "id": "0cbed506",
   "metadata": {},
   "outputs": [],
   "source": [
    "#values greater than or equal to 94 seem to be pretty good\n",
    "ocod_data.columns\n",
    "#ocod_road_match[ocod_road_match['similarity']==96][['property_address', 'street_name2', 'matched_road_name']]"
   ]
  },
  {
   "cell_type": "markdown",
   "id": "0eaa195d",
   "metadata": {},
   "source": [
    "# creating the aggregated ocod dataset for sampling"
   ]
  },
  {
   "cell_type": "code",
   "execution_count": 55,
   "id": "66ba5cb7",
   "metadata": {},
   "outputs": [],
   "source": [
    "ocod_data_lsoa = ocod_data\n",
    "#ocod_data_lsoa['postcode2'] = ocod_data['postcode'].str.lower().str.replace(\"\\s\", \"\")\n",
    "\n",
    "#ocod_data_lsoa = ocod_data.merge(postcode_district_lookup, 'left', left_on = \"postcode2\", right_on = \"postcode2\")\n",
    "\n",
    "ocod_data_lsoa.groupby(['lad11cd', 'lsoa11cd', 'msoa11cd', 'class2']).size().reset_index().to_csv(\"/tf/empty_homes_data/ocod_lsoa.csv\")\n",
    "ocod_data_lsoa.groupby(['lad11cd', 'lsoa11cd', 'msoa11cd', 'class2', 'within_larger_title']).size().reset_index().to_csv(\"/tf/empty_homes_data/ocod_lsoa_by_nested_type.csv\")\n",
    "\n"
   ]
  },
  {
   "cell_type": "markdown",
   "id": "2bb4c35d",
   "metadata": {},
   "source": [
    "## Largest nested addresses"
   ]
  },
  {
   "cell_type": "code",
   "execution_count": null,
   "id": "2f0d64e7",
   "metadata": {},
   "outputs": [],
   "source": [
    "#The largest nested address\n",
    "ocod_data.within_title_id.max()"
   ]
  },
  {
   "cell_type": "code",
   "execution_count": null,
   "id": "42c32471",
   "metadata": {},
   "outputs": [],
   "source": [
    "ocod_data[ocod_data.within_title_id==ocod_data.within_title_id.max()].reset_index()['property_address'][0]\n",
    "\n"
   ]
  },
  {
   "cell_type": "code",
   "execution_count": null,
   "id": "16b357ac",
   "metadata": {},
   "outputs": [],
   "source": [
    "ocod_data.to_csv(\"/tf/empty_homes_data/OCOD_classes.csv\")"
   ]
  },
  {
   "cell_type": "code",
   "execution_count": null,
   "id": "735c172e",
   "metadata": {},
   "outputs": [],
   "source": [
    "test  = ocod_data[ocod_data['class']==\"unknown\" ]\n",
    "\n",
    "pd.crosstab(test.postcode.notnull(), test.street_name.notnull())"
   ]
  },
  {
   "cell_type": "code",
   "execution_count": null,
   "id": "62b111bf",
   "metadata": {},
   "outputs": [],
   "source": [
    "ocod_data[ ocod_data.street_name.isnull()].to_csv(\"/tf/empty_homes_data/OCOD_no_street.csv\")"
   ]
  },
  {
   "cell_type": "code",
   "execution_count": null,
   "id": "5b7a2c7d",
   "metadata": {},
   "outputs": [],
   "source": [
    "1/21"
   ]
  }
 ],
 "metadata": {
  "kernelspec": {
   "display_name": "Python 3",
   "language": "python",
   "name": "python3"
  },
  "language_info": {
   "codemirror_mode": {
    "name": "ipython",
    "version": 3
   },
   "file_extension": ".py",
   "mimetype": "text/x-python",
   "name": "python",
   "nbconvert_exporter": "python",
   "pygments_lexer": "ipython3",
   "version": "3.8.10"
  }
 },
 "nbformat": 4,
 "nbformat_minor": 5
}
