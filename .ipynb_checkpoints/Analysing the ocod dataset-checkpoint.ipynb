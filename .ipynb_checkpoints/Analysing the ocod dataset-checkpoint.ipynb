{
 "cells": [
  {
   "cell_type": "markdown",
   "id": "17d63086",
   "metadata": {},
   "source": [
    "# Analysing the cleaned OCOD dataset\n",
    "\n",
    "This is causing problems and needs to be fixed needs the preceeding code\n",
    "'hillfield mansions and tagore house'\t"
   ]
  },
  {
   "cell_type": "code",
   "execution_count": 1,
   "id": "3948b703",
   "metadata": {},
   "outputs": [
    {
     "data": {
      "text/html": [
       "<style>.container { width:90% !important; }</style>"
      ],
      "text/plain": [
       "<IPython.core.display.HTML object>"
      ]
     },
     "metadata": {},
     "output_type": "display_data"
    }
   ],
   "source": [
    "from IPython.core.display import display, HTML\n",
    "display(HTML(\"<style>.container { width:90% !important; }</style>\"))\n",
    "import pandas as pd\n",
    "import numpy as np\n",
    "import os\n",
    "import re\n",
    "import io\n",
    "import zipfile\n",
    "from helper_functions import *\n",
    "\n"
   ]
  },
  {
   "cell_type": "code",
   "execution_count": 2,
   "id": "5af5ed4f",
   "metadata": {},
   "outputs": [],
   "source": [
    "#!pip install thefuzz[speedup]\n",
    "#from thefuzz import process #an alternative could jellyfish, nltk, diff-match-patch"
   ]
  },
  {
   "cell_type": "code",
   "execution_count": 3,
   "id": "d6bb958a",
   "metadata": {},
   "outputs": [
    {
     "name": "stderr",
     "output_type": "stream",
     "text": [
      "<ipython-input-3-e74e004024cc>:5: DtypeWarning: Columns (18,31,40,45) have mixed types. Specify dtype option on import or set low_memory=False.\n",
      "  postcode_district_lookup = pd.read_csv(f)[['pcds','oslaua','oa11','lsoa11', 'msoa11', 'ctry']]\n"
     ]
    }
   ],
   "source": [
    "target_post_area = \"Data/ONSPD_NOV_2021_UK.csv\"\n",
    "\n",
    "with zipfile.ZipFile(\"/tf/empty_homes_data/\" + \"ONSPD_NOV_2021_UK.zip\") as zf:\n",
    "    with io.TextIOWrapper(zf.open(target_post_area), encoding = 'latin-1') as f:\n",
    "        postcode_district_lookup = pd.read_csv(f)[['pcds','oslaua','oa11','lsoa11', 'msoa11', 'ctry']]\n",
    "        postcode_district_lookup = postcode_district_lookup[(postcode_district_lookup['ctry'] == 'E92000001') | (postcode_district_lookup['ctry'] == 'W92000004')]\n",
    "        postcode_district_lookup.rename(columns = {'pcds':'postcode2',\n",
    "                                                  'oslaua':'lad11cd',\n",
    "                                                   'oa11':'oa11cd',\n",
    "                                                  'lsoa11': 'lsoa11cd',\n",
    "                                                  'msoa11':'msoa11cd'}, inplace = True)\n",
    "        #spaces are removed because I don't know if the formatting is the same in the two datasets\n",
    "        postcode_district_lookup['postcode2']= postcode_district_lookup['postcode2'].str.lower().str.replace(r\"\\s\", r\"\", regex = True)\n",
    "        postcode_district_lookup.drop('ctry',  axis =1, inplace = True)\n"
   ]
  },
  {
   "cell_type": "code",
   "execution_count": 4,
   "id": "858e4f97",
   "metadata": {},
   "outputs": [
    {
     "name": "stderr",
     "output_type": "stream",
     "text": [
      "<ipython-input-4-4bb3ddb47f6f>:1: DtypeWarning: Columns (6) have mixed types. Specify dtype option on import or set low_memory=False.\n",
      "  ocod_data =  pd.read_csv(\"/tf/empty_homes_data/OCOD_cleaned_expanded2.csv\")\n",
      "<ipython-input-4-4bb3ddb47f6f>:4: FutureWarning: The default value of regex will change from True to False in a future version.\n",
      "  ocod_data['postcode2'] = ocod_data['postcode'].str.lower().str.replace(\"\\s\", \"\")\n",
      "<ipython-input-4-4bb3ddb47f6f>:9: FutureWarning: The default value of regex will change from True to False in a future version.\n",
      "  ocod_data['street_number2'] = ocod_data['street_number'].str.replace(r\"^.*(?=\\b[0-9]+$)\", \"\").str.replace(r\"[^\\d]\", \"\", regex = True)\n"
     ]
    }
   ],
   "source": [
    "ocod_data =  pd.read_csv(\"/tf/empty_homes_data/OCOD_cleaned_expanded2.csv\")\n",
    "\n",
    "##add in the geographic area data like lsoa etc\n",
    "ocod_data['postcode2'] = ocod_data['postcode'].str.lower().str.replace(\"\\s\", \"\")\n",
    "\n",
    "ocod_data = ocod_data.merge(postcode_district_lookup, 'left', left_on = \"postcode2\", right_on = \"postcode2\")\n",
    "\n",
    "ocod_data['street_name'] = ocod_data['street_name'].str.replace(r\"^ +| +$\", r\"\", regex=True)\n",
    "ocod_data['street_number2'] = ocod_data['street_number'].str.replace(r\"^.*(?=\\b[0-9]+$)\", \"\").str.replace(r\"[^\\d]\", \"\", regex = True)\n",
    "\n",
    "#This stripped out versionof street name is used several times throughout the notebook\n",
    "ocod_data['street_name2'] = ocod_data.loc[:,'street_name'].str.replace(r\"'\", \"\", regex = True).\\\n",
    "    str.replace(r\"s(s)?(?=\\s)\", \"\", regex = True).str.replace(r\"\\s\", \"\", regex = True)"
   ]
  },
  {
   "cell_type": "markdown",
   "id": "52af5b1f",
   "metadata": {},
   "source": [
    "## Using price paid data to match names\n",
    "\n",
    "The land registry does not use standardised LAD codes or names and \n",
    "the LAD names it uses appear to be wrong sometimes. I need to know the LADs so that I only try road matching within local authorities to minimise the chance of having the same road twice. To get around this I will use the substantially larger database of the price paid data to get all the land registry district names and match them to the onsp using the postcodes. This works as there are a large number of sales in each district most of them will have a postcode. There are cases where the wrong district or postcode is applied meaning a single district name can have two or more lad11cd's, to solve this I simply take the lad11cd with the largest number of counts.\n",
    "\n",
    "The resulting OCOD data frame has a LAD11CD for each entry, and thus allows the fuzzy road matching to work effectively"
   ]
  },
  {
   "cell_type": "code",
   "execution_count": 5,
   "id": "188bd9ea",
   "metadata": {},
   "outputs": [],
   "source": [
    "#https://www.gov.uk/guidance/about-the-price-paid-data#explanations-of-column-headers-in-the-ppd\n",
    "price_paid_headers = ['Transaction unique identifier', 'Price', 'Date of Transfer', 'Postcode', 'Property Type', \n",
    "                     'Old New', 'Duration', 'PAON', 'SAON', 'Street',  'Locality', 'Town', 'District', 'County',\n",
    "                     'PPD Category Type', 'Record Status - monthly file only']\n",
    "#clean up to make working with them easier\n",
    "price_paid_headers = [x.lower().replace(' ', '_') for x in price_paid_headers]\n",
    "\n",
    "##\n",
    "## Here we add in the lsoa11cd msoa11cd and lad11cd using postcode\n",
    "##\n",
    "\n",
    "#price_paid_df = pd.read_csv('/tf/empty_homes_data/price_paid_files/pp-2021.csv', names = price_paid_headers)\n",
    "price_paid_df = pd.concat([ pd.read_csv('/tf/empty_homes_data/price_paid_files/'+x, names = price_paid_headers) for x in os.listdir('/tf/empty_homes_data/price_paid_files')])\n",
    "\n",
    "price_paid_df['street'] = price_paid_df['street'].str.lower()\n",
    "\n",
    "price_paid_df['street_name2'] = price_paid_df.loc[:,'street'].str.replace(r\"'\", \"\", regex = True).\\\n",
    "    str.replace(r\"s(s)?(?=\\s)\", \"\", regex = True).str.replace(r\"\\s\", \"\", regex = True)\n",
    "\n",
    "price_paid_df['locality'] = price_paid_df['locality'].str.lower()\n",
    "price_paid_df['paon'] = price_paid_df['paon'].str.lower()\n",
    "\n",
    "price_paid_df = clean_street_numbers(price_paid_df, original_column = 'paon')\n",
    "\n",
    "price_paid_df['postcode2'] = price_paid_df['postcode'].str.lower().str.replace(r\"\\s\", r\"\", regex=True)\n",
    "\n",
    "price_paid_df = price_paid_df.merge(postcode_district_lookup, 'left', left_on = \"postcode2\", right_on = \"postcode2\")\n",
    "\n",
    "##\n",
    "## Not all observations have a postcode and some postcodes are erroneous or otherwise cannot be found in the postcode database\n",
    "## These entries need to be found ny joining districts\n",
    "##\n",
    "\n",
    "#when there are multiples take the lad11cd with the largest number of counts\n",
    "lad_lookup = price_paid_df[['district', 'lad11cd']].dropna().groupby(['district', 'lad11cd']).size().reset_index()\n",
    "lad_lookup.rename(columns = {0:'counts'}, inplace = True)\n",
    "lad_lookup = lad_lookup.sort_values('counts', ascending=False).groupby('lad11cd').first().reset_index()\n",
    "lad_lookup.drop('counts', axis = 1, inplace = True)\n",
    "\n",
    "temp = ocod_data\n",
    "\n",
    "#only take data that is missing the lad code. If you include only is missing postcode, bad postcode entries also get excluded leaving a small number of\n",
    "## blanks in the final dataset\n",
    "temp = temp[temp['lad11cd'].isna()]\n",
    "\n",
    "temp = temp.drop('lad11cd', axis = 1)\n",
    "\n",
    "temp = temp.merge(lad_lookup, left_on = \"district\", right_on = \"district\")\n",
    "\n",
    "temp['lad11cd'].isna().sum() #there are no na values showing all districts now have a lad code\n",
    "\n",
    "#join the ocod data back together again\n",
    "ocod_data = pd.concat( [temp, ocod_data[~ocod_data['lad11cd'].isna()]])\n",
    "\n",
    "#tidy up\n",
    "#del temp\n",
    "#del lad_lookup\n",
    "#del price_paid_df"
   ]
  },
  {
   "cell_type": "code",
   "execution_count": 6,
   "id": "a8b3fb5c",
   "metadata": {},
   "outputs": [
    {
     "data": {
      "text/html": [
       "<div>\n",
       "<style scoped>\n",
       "    .dataframe tbody tr th:only-of-type {\n",
       "        vertical-align: middle;\n",
       "    }\n",
       "\n",
       "    .dataframe tbody tr th {\n",
       "        vertical-align: top;\n",
       "    }\n",
       "\n",
       "    .dataframe thead th {\n",
       "        text-align: right;\n",
       "    }\n",
       "</style>\n",
       "<table border=\"1\" class=\"dataframe\">\n",
       "  <thead>\n",
       "    <tr style=\"text-align: right;\">\n",
       "      <th></th>\n",
       "      <th>transaction_unique_identifier</th>\n",
       "      <th>price</th>\n",
       "      <th>date_of_transfer</th>\n",
       "      <th>postcode</th>\n",
       "      <th>property_type</th>\n",
       "      <th>old_new</th>\n",
       "      <th>duration</th>\n",
       "      <th>paon</th>\n",
       "      <th>saon</th>\n",
       "      <th>street</th>\n",
       "      <th>...</th>\n",
       "      <th>county</th>\n",
       "      <th>ppd_category_type</th>\n",
       "      <th>record_status_-_monthly_file_only</th>\n",
       "      <th>street_name2</th>\n",
       "      <th>street_number</th>\n",
       "      <th>postcode2</th>\n",
       "      <th>lad11cd</th>\n",
       "      <th>oa11cd</th>\n",
       "      <th>lsoa11cd</th>\n",
       "      <th>msoa11cd</th>\n",
       "    </tr>\n",
       "  </thead>\n",
       "  <tbody>\n",
       "    <tr>\n",
       "      <th>0</th>\n",
       "      <td>{64342BFF-702A-422C-E053-6C04A8C0FB8A}</td>\n",
       "      <td>555000</td>\n",
       "      <td>2017-09-18 00:00</td>\n",
       "      <td>PO19 1LB</td>\n",
       "      <td>O</td>\n",
       "      <td>N</td>\n",
       "      <td>L</td>\n",
       "      <td>18</td>\n",
       "      <td>NaN</td>\n",
       "      <td>north street</td>\n",
       "      <td>...</td>\n",
       "      <td>WEST SUSSEX</td>\n",
       "      <td>B</td>\n",
       "      <td>A</td>\n",
       "      <td>northstreet</td>\n",
       "      <td>18</td>\n",
       "      <td>po191lb</td>\n",
       "      <td>E07000225</td>\n",
       "      <td>E00160587</td>\n",
       "      <td>E01031490</td>\n",
       "      <td>E02006570</td>\n",
       "    </tr>\n",
       "    <tr>\n",
       "      <th>1</th>\n",
       "      <td>{64342BFF-702B-422C-E053-6C04A8C0FB8A}</td>\n",
       "      <td>25000</td>\n",
       "      <td>2017-09-29 00:00</td>\n",
       "      <td>NaN</td>\n",
       "      <td>O</td>\n",
       "      <td>Y</td>\n",
       "      <td>L</td>\n",
       "      <td>ifield car park</td>\n",
       "      <td>PLOT 55</td>\n",
       "      <td>charlwood road</td>\n",
       "      <td>...</td>\n",
       "      <td>WEST SUSSEX</td>\n",
       "      <td>B</td>\n",
       "      <td>A</td>\n",
       "      <td>charlwoodroad</td>\n",
       "      <td>NaN</td>\n",
       "      <td>NaN</td>\n",
       "      <td>NaN</td>\n",
       "      <td>NaN</td>\n",
       "      <td>NaN</td>\n",
       "      <td>NaN</td>\n",
       "    </tr>\n",
       "    <tr>\n",
       "      <th>2</th>\n",
       "      <td>{64342BFF-702C-422C-E053-6C04A8C0FB8A}</td>\n",
       "      <td>177500</td>\n",
       "      <td>2017-04-07 00:00</td>\n",
       "      <td>PO19 7BJ</td>\n",
       "      <td>O</td>\n",
       "      <td>N</td>\n",
       "      <td>F</td>\n",
       "      <td>glenmore business park portfield works</td>\n",
       "      <td>UNIT 6</td>\n",
       "      <td>chichester by pass</td>\n",
       "      <td>...</td>\n",
       "      <td>WEST SUSSEX</td>\n",
       "      <td>B</td>\n",
       "      <td>A</td>\n",
       "      <td>chichesterbypass</td>\n",
       "      <td>NaN</td>\n",
       "      <td>po197bj</td>\n",
       "      <td>E07000225</td>\n",
       "      <td>E00160721</td>\n",
       "      <td>E01031513</td>\n",
       "      <td>E02006572</td>\n",
       "    </tr>\n",
       "    <tr>\n",
       "      <th>3</th>\n",
       "      <td>{64342BFF-702D-422C-E053-6C04A8C0FB8A}</td>\n",
       "      <td>90000</td>\n",
       "      <td>2017-10-09 00:00</td>\n",
       "      <td>BN43 5DB</td>\n",
       "      <td>O</td>\n",
       "      <td>N</td>\n",
       "      <td>L</td>\n",
       "      <td>118</td>\n",
       "      <td>NaN</td>\n",
       "      <td>high street</td>\n",
       "      <td>...</td>\n",
       "      <td>WEST SUSSEX</td>\n",
       "      <td>B</td>\n",
       "      <td>A</td>\n",
       "      <td>highstreet</td>\n",
       "      <td>118</td>\n",
       "      <td>bn435db</td>\n",
       "      <td>E07000223</td>\n",
       "      <td>E00167749</td>\n",
       "      <td>E01031364</td>\n",
       "      <td>E02006538</td>\n",
       "    </tr>\n",
       "    <tr>\n",
       "      <th>4</th>\n",
       "      <td>{64342BFF-702E-422C-E053-6C04A8C0FB8A}</td>\n",
       "      <td>190000</td>\n",
       "      <td>2017-10-10 00:00</td>\n",
       "      <td>PO21 1QD</td>\n",
       "      <td>O</td>\n",
       "      <td>N</td>\n",
       "      <td>F</td>\n",
       "      <td>25</td>\n",
       "      <td>NaN</td>\n",
       "      <td>station road</td>\n",
       "      <td>...</td>\n",
       "      <td>WEST SUSSEX</td>\n",
       "      <td>B</td>\n",
       "      <td>A</td>\n",
       "      <td>stationroad</td>\n",
       "      <td>25</td>\n",
       "      <td>po211qd</td>\n",
       "      <td>E07000224</td>\n",
       "      <td>E00160299</td>\n",
       "      <td>E01031436</td>\n",
       "      <td>E02006558</td>\n",
       "    </tr>\n",
       "    <tr>\n",
       "      <th>...</th>\n",
       "      <td>...</td>\n",
       "      <td>...</td>\n",
       "      <td>...</td>\n",
       "      <td>...</td>\n",
       "      <td>...</td>\n",
       "      <td>...</td>\n",
       "      <td>...</td>\n",
       "      <td>...</td>\n",
       "      <td>...</td>\n",
       "      <td>...</td>\n",
       "      <td>...</td>\n",
       "      <td>...</td>\n",
       "      <td>...</td>\n",
       "      <td>...</td>\n",
       "      <td>...</td>\n",
       "      <td>...</td>\n",
       "      <td>...</td>\n",
       "      <td>...</td>\n",
       "      <td>...</td>\n",
       "      <td>...</td>\n",
       "      <td>...</td>\n",
       "    </tr>\n",
       "    <tr>\n",
       "      <th>4812242</th>\n",
       "      <td>{C3C3F9B5-7995-362B-E053-6B04A8C03ACC}</td>\n",
       "      <td>220000</td>\n",
       "      <td>2021-03-08 00:00</td>\n",
       "      <td>TR11 2RR</td>\n",
       "      <td>T</td>\n",
       "      <td>N</td>\n",
       "      <td>F</td>\n",
       "      <td>40</td>\n",
       "      <td>NaN</td>\n",
       "      <td>pengarth rise</td>\n",
       "      <td>...</td>\n",
       "      <td>CORNWALL</td>\n",
       "      <td>A</td>\n",
       "      <td>A</td>\n",
       "      <td>pengarthrise</td>\n",
       "      <td>40</td>\n",
       "      <td>tr112rr</td>\n",
       "      <td>E06000052</td>\n",
       "      <td>E00094935</td>\n",
       "      <td>E01018806</td>\n",
       "      <td>E02003916</td>\n",
       "    </tr>\n",
       "    <tr>\n",
       "      <th>4812243</th>\n",
       "      <td>{C3C3F9B5-7996-362B-E053-6B04A8C03ACC}</td>\n",
       "      <td>430000</td>\n",
       "      <td>2021-02-05 00:00</td>\n",
       "      <td>PL15 8SS</td>\n",
       "      <td>D</td>\n",
       "      <td>N</td>\n",
       "      <td>F</td>\n",
       "      <td>17</td>\n",
       "      <td>NaN</td>\n",
       "      <td>well meadow</td>\n",
       "      <td>...</td>\n",
       "      <td>CORNWALL</td>\n",
       "      <td>A</td>\n",
       "      <td>A</td>\n",
       "      <td>wellmeadow</td>\n",
       "      <td>17</td>\n",
       "      <td>pl158ss</td>\n",
       "      <td>E06000052</td>\n",
       "      <td>E00095795</td>\n",
       "      <td>E01018968</td>\n",
       "      <td>E02003934</td>\n",
       "    </tr>\n",
       "    <tr>\n",
       "      <th>4812244</th>\n",
       "      <td>{C3C3F9B5-7997-362B-E053-6B04A8C03ACC}</td>\n",
       "      <td>236500</td>\n",
       "      <td>2021-03-12 00:00</td>\n",
       "      <td>TR21 0NE</td>\n",
       "      <td>F</td>\n",
       "      <td>N</td>\n",
       "      <td>L</td>\n",
       "      <td>mount flagon</td>\n",
       "      <td>ANNETT</td>\n",
       "      <td>NaN</td>\n",
       "      <td>...</td>\n",
       "      <td>ISLES OF SCILLY</td>\n",
       "      <td>A</td>\n",
       "      <td>A</td>\n",
       "      <td>NaN</td>\n",
       "      <td>NaN</td>\n",
       "      <td>tr210ne</td>\n",
       "      <td>E06000053</td>\n",
       "      <td>E00096403</td>\n",
       "      <td>E01019077</td>\n",
       "      <td>E02006781</td>\n",
       "    </tr>\n",
       "    <tr>\n",
       "      <th>4812245</th>\n",
       "      <td>{C3C3F9B5-7998-362B-E053-6B04A8C03ACC}</td>\n",
       "      <td>185050</td>\n",
       "      <td>2021-03-09 00:00</td>\n",
       "      <td>TR27 4DJ</td>\n",
       "      <td>T</td>\n",
       "      <td>N</td>\n",
       "      <td>F</td>\n",
       "      <td>102</td>\n",
       "      <td>NaN</td>\n",
       "      <td>commercial road</td>\n",
       "      <td>...</td>\n",
       "      <td>CORNWALL</td>\n",
       "      <td>A</td>\n",
       "      <td>A</td>\n",
       "      <td>commercialroad</td>\n",
       "      <td>102</td>\n",
       "      <td>tr274dj</td>\n",
       "      <td>E06000052</td>\n",
       "      <td>E00095885</td>\n",
       "      <td>E01018982</td>\n",
       "      <td>E02003944</td>\n",
       "    </tr>\n",
       "    <tr>\n",
       "      <th>4812246</th>\n",
       "      <td>{C3C3F9B5-7999-362B-E053-6B04A8C03ACC}</td>\n",
       "      <td>375000</td>\n",
       "      <td>2021-02-05 00:00</td>\n",
       "      <td>TR26 2SQ</td>\n",
       "      <td>D</td>\n",
       "      <td>N</td>\n",
       "      <td>F</td>\n",
       "      <td>9</td>\n",
       "      <td>NaN</td>\n",
       "      <td>polmennor drive</td>\n",
       "      <td>...</td>\n",
       "      <td>CORNWALL</td>\n",
       "      <td>A</td>\n",
       "      <td>A</td>\n",
       "      <td>polmennordrive</td>\n",
       "      <td>9</td>\n",
       "      <td>tr262sq</td>\n",
       "      <td>E06000052</td>\n",
       "      <td>E00095906</td>\n",
       "      <td>E01018985</td>\n",
       "      <td>E02003945</td>\n",
       "    </tr>\n",
       "  </tbody>\n",
       "</table>\n",
       "<p>4812247 rows × 23 columns</p>\n",
       "</div>"
      ],
      "text/plain": [
       "                  transaction_unique_identifier   price  date_of_transfer  \\\n",
       "0        {64342BFF-702A-422C-E053-6C04A8C0FB8A}  555000  2017-09-18 00:00   \n",
       "1        {64342BFF-702B-422C-E053-6C04A8C0FB8A}   25000  2017-09-29 00:00   \n",
       "2        {64342BFF-702C-422C-E053-6C04A8C0FB8A}  177500  2017-04-07 00:00   \n",
       "3        {64342BFF-702D-422C-E053-6C04A8C0FB8A}   90000  2017-10-09 00:00   \n",
       "4        {64342BFF-702E-422C-E053-6C04A8C0FB8A}  190000  2017-10-10 00:00   \n",
       "...                                         ...     ...               ...   \n",
       "4812242  {C3C3F9B5-7995-362B-E053-6B04A8C03ACC}  220000  2021-03-08 00:00   \n",
       "4812243  {C3C3F9B5-7996-362B-E053-6B04A8C03ACC}  430000  2021-02-05 00:00   \n",
       "4812244  {C3C3F9B5-7997-362B-E053-6B04A8C03ACC}  236500  2021-03-12 00:00   \n",
       "4812245  {C3C3F9B5-7998-362B-E053-6B04A8C03ACC}  185050  2021-03-09 00:00   \n",
       "4812246  {C3C3F9B5-7999-362B-E053-6B04A8C03ACC}  375000  2021-02-05 00:00   \n",
       "\n",
       "         postcode property_type old_new duration  \\\n",
       "0        PO19 1LB             O       N        L   \n",
       "1             NaN             O       Y        L   \n",
       "2        PO19 7BJ             O       N        F   \n",
       "3        BN43 5DB             O       N        L   \n",
       "4        PO21 1QD             O       N        F   \n",
       "...           ...           ...     ...      ...   \n",
       "4812242  TR11 2RR             T       N        F   \n",
       "4812243  PL15 8SS             D       N        F   \n",
       "4812244  TR21 0NE             F       N        L   \n",
       "4812245  TR27 4DJ             T       N        F   \n",
       "4812246  TR26 2SQ             D       N        F   \n",
       "\n",
       "                                           paon     saon              street  \\\n",
       "0                                            18      NaN        north street   \n",
       "1                               ifield car park  PLOT 55      charlwood road   \n",
       "2        glenmore business park portfield works   UNIT 6  chichester by pass   \n",
       "3                                           118      NaN         high street   \n",
       "4                                            25      NaN        station road   \n",
       "...                                         ...      ...                 ...   \n",
       "4812242                                      40      NaN       pengarth rise   \n",
       "4812243                                      17      NaN         well meadow   \n",
       "4812244                            mount flagon   ANNETT                 NaN   \n",
       "4812245                                     102      NaN     commercial road   \n",
       "4812246                                       9      NaN     polmennor drive   \n",
       "\n",
       "         ...           county ppd_category_type  \\\n",
       "0        ...      WEST SUSSEX                 B   \n",
       "1        ...      WEST SUSSEX                 B   \n",
       "2        ...      WEST SUSSEX                 B   \n",
       "3        ...      WEST SUSSEX                 B   \n",
       "4        ...      WEST SUSSEX                 B   \n",
       "...      ...              ...               ...   \n",
       "4812242  ...         CORNWALL                 A   \n",
       "4812243  ...         CORNWALL                 A   \n",
       "4812244  ...  ISLES OF SCILLY                 A   \n",
       "4812245  ...         CORNWALL                 A   \n",
       "4812246  ...         CORNWALL                 A   \n",
       "\n",
       "        record_status_-_monthly_file_only      street_name2 street_number  \\\n",
       "0                                       A       northstreet            18   \n",
       "1                                       A     charlwoodroad           NaN   \n",
       "2                                       A  chichesterbypass           NaN   \n",
       "3                                       A        highstreet           118   \n",
       "4                                       A       stationroad            25   \n",
       "...                                   ...               ...           ...   \n",
       "4812242                                 A      pengarthrise            40   \n",
       "4812243                                 A        wellmeadow            17   \n",
       "4812244                                 A               NaN           NaN   \n",
       "4812245                                 A    commercialroad           102   \n",
       "4812246                                 A    polmennordrive             9   \n",
       "\n",
       "        postcode2    lad11cd     oa11cd   lsoa11cd   msoa11cd  \n",
       "0         po191lb  E07000225  E00160587  E01031490  E02006570  \n",
       "1             NaN        NaN        NaN        NaN        NaN  \n",
       "2         po197bj  E07000225  E00160721  E01031513  E02006572  \n",
       "3         bn435db  E07000223  E00167749  E01031364  E02006538  \n",
       "4         po211qd  E07000224  E00160299  E01031436  E02006558  \n",
       "...           ...        ...        ...        ...        ...  \n",
       "4812242   tr112rr  E06000052  E00094935  E01018806  E02003916  \n",
       "4812243   pl158ss  E06000052  E00095795  E01018968  E02003934  \n",
       "4812244   tr210ne  E06000053  E00096403  E01019077  E02006781  \n",
       "4812245   tr274dj  E06000052  E00095885  E01018982  E02003944  \n",
       "4812246   tr262sq  E06000052  E00095906  E01018985  E02003945  \n",
       "\n",
       "[4812247 rows x 23 columns]"
      ]
     },
     "execution_count": 6,
     "metadata": {},
     "output_type": "execute_result"
    }
   ],
   "source": [
    "price_paid_df"
   ]
  },
  {
   "cell_type": "markdown",
   "id": "45eb4648",
   "metadata": {},
   "source": [
    "## Load Voa and get business postcodes\n",
    "\n",
    "This alllows businesses to be identified, and also missing lsoa to be added via the street name"
   ]
  },
  {
   "cell_type": "code",
   "execution_count": 7,
   "id": "8f5fd67a",
   "metadata": {},
   "outputs": [
    {
     "name": "stderr",
     "output_type": "stream",
     "text": [
      "<ipython-input-7-084a6af4ea39>:14: DtypeWarning: Columns (1,2,6,12,13,17,22) have mixed types. Specify dtype option on import or set low_memory=False.\n",
      "  voa_businesses =  pd.read_csv('/tf/empty_homes_data/' +\n"
     ]
    }
   ],
   "source": [
    "VOA_headers_raw= [\"Incrementing Entry Number\", \"Billing Authority Code\", \"NDR Community Code\", \n",
    " \"BA Reference Number\", \"Primary And Secondary Description Code\", \"Primary Description Text\",\n",
    "\"Unique Address Reference Number UARN\", \"Full Property Identifier\", \"Firms Name\", \"Number Or Name\",\n",
    "\"Street\", \"Town\", \"Postal District\", \"County\", \"Postcode\", \"Effective Date\", \"Composite Indicator\",\n",
    " \"Rateable Value\", \"Appeal Settlement Code\", \"Assessment Reference\", \"List Alteration Date\", \"SCAT Code And Suffix\",\n",
    " \"Sub Street level 3\", \"Sub Street level 2\", \"Sub Street level 1\", \"Case Number\", \n",
    " \"Current From Date\", \"Current To Date\", \n",
    "]\n",
    "\n",
    "#set to lower and replace spaces with underscore to turn the names into appropriate column names\n",
    "VOA_headers = [x.lower().replace(\" \", \"_\") for x in VOA_headers_raw]\n",
    "\n",
    "\n",
    "voa_businesses =  pd.read_csv('/tf/empty_homes_data/' +\n",
    "                    'uk-englandwales-ndr-2017-listentries-compiled-epoch-0029-baseline-csv.csv',\n",
    "                   sep = \"*\",\n",
    "                   encoding_errors= 'ignore',\n",
    "                    header=None,\n",
    "                   names = VOA_headers,\n",
    "                    index_col = False,\n",
    "                    #usecols = list(range(1,28))\n",
    "                   )\n",
    "voa_businesses['postcode'] = voa_businesses['postcode'].str.lower()\n",
    "voa_businesses['street'] = voa_businesses['street'].str.lower()\n",
    "\n",
    "#voa_businesses['street_name2'] = voa_businesses['street'].str.replace(r\"'\", \"\", regex = True).\\\n",
    "#    str.replace(r\"s(s)?(?=\\s)\", \"\", regex = True).str.replace(r\"\\s\", \"\", regex = True)\n",
    "voa_businesses['street_name2'] = voa_businesses.loc[:,'street'].str.replace(r\"'\", \"\", regex = True).\\\n",
    "    str.replace(r\"s(s)?(?=\\s)\", \"\", regex = True).str.replace(r\"\\s\", \"\", regex = True)\n",
    "\n",
    "#this removes advertising hordings which are irrelevant\n",
    "voa_businesses = voa_businesses.loc[voa_businesses['primary_description_text'].str.contains(\"ADVERTISING\")==False,:]\n",
    "#remove several kinds of car parking space\n",
    "voa_businesses = voa_businesses[~voa_businesses['primary_and_secondary_description_code'].isin(['C0', 'CP','CP1', 'CX', 'MX'])]\n",
    "##\n",
    "##\n",
    "## Warning this removes a large amount of columns, these may be interesting for some people\n",
    "##\n",
    "##\n",
    "voa_businesses = voa_businesses.iloc[:,4:15]\n",
    "#Extract the street number\n",
    "#replace unit numbers with nothing to avoid accidentally using them as street numbers\n",
    "#voa_businesses['street_number'] = voa_businesses['number_or_name'].str.replace(r\"(unit|suite)\\s\\d+(,)?\", \"\", regex = True).str.extract(r\"(\\b[0-9\\-]+$)\")\n",
    "voa_businesses = clean_street_numbers(voa_businesses, original_column = 'number_or_name')\n",
    "\n",
    "#Westfield has a ludicrous numbering system and is removed to avoid issues\n",
    "voa_businesses.loc[voa_businesses['full_property_identifier'].str.contains('WESTFIELD SHOPPING CENTRE')==True, 'street_number']= np.nan\n",
    "#sometimes a phone number ends up in the address causing havoc, these are few (145) and  are ignored\n",
    "voa_businesses.loc[voa_businesses['street_number'].str.contains(r'-\\d+-', regex = True)==True, 'street_number']= np.nan\n",
    "\n",
    "voa_businesses['postcode2'] = voa_businesses['postcode'].str.lower().str.replace(\"\\s\", \"\", regex = True)\n",
    "#Extracts the name of any \"house\" buildings\n",
    "voa_businesses['building_name'] = voa_businesses['number_or_name'].str.lower().str.extract(r'((?<!\\S)(?:(?!\\b(?:\\)|\\(|r\\/o|floor|floors|pt|and|annexe|room|gf|south|north|east|west|at|on|in|of|adjoining|adj|basement|bsmt|fl|flr|flrs|wing)\\b)[^\\n\\d])*? house\\b)')\n",
    "\n",
    "#add in postcode data and LSOA etc data, this is useful for a range of tasks\n",
    "voa_businesses = voa_businesses.merge(postcode_district_lookup, left_on = 'postcode2', right_on = \"postcode2\")\n",
    "\n",
    "#Create a dataframe that contains the counts of businesses per OA\n",
    "postcode_counts_voa = voa_businesses.groupby('oa11cd').size().reset_index(name = 'business_counts')\n",
    "\n",
    "ocod_data = pd.merge(ocod_data, postcode_counts_voa, on = \"oa11cd\", how = \"left\")\n",
    "ocod_data[\"business_counts\"] = ocod_data[\"business_counts\"].fillna(0)\n",
    "\n",
    "voa_businesses['street_name2'] = voa_businesses.loc[:,'street'].str.replace(r\"'\", \"\", regex = True).\\\n",
    "    str.replace(r\"s(s)?(?=\\s)\", \"\", regex = True).str.replace(r\"\\s\", \"\", regex = True)\n",
    "#del voa_businesses\n",
    "\n",
    "#this is quite large and no longer necessary so is removed from the workspace to save memory\n",
    "#del postcode_district_lookup"
   ]
  },
  {
   "cell_type": "markdown",
   "id": "f30938ea",
   "metadata": {},
   "source": [
    "# Street and buildings to match lsoa\n",
    "\n",
    "This section fills in missing lsoa11cd using knowledge of the LAD11cd and the streets within it. This takes data from price paid and voa"
   ]
  },
  {
   "cell_type": "code",
   "execution_count": 8,
   "id": "61ef2ef5",
   "metadata": {},
   "outputs": [
    {
     "name": "stderr",
     "output_type": "stream",
     "text": [
      "<ipython-input-8-4b6113370a7f>:26: FutureWarning: The default value of regex will change from True to False in a future version.\n",
      "  temp['paon'] = temp['paon'].str.replace(r\"\\d+\", \"\").replace(r\"and|\\&|-|,\", \"\", regex = True).replace(r\"^ +| +$\", r\"\", regex=True)\n",
      "<ipython-input-8-4b6113370a7f>:34: FutureWarning: The default value of regex will change from True to False in a future version.\n",
      "  pp_temp['paon'] = pp_temp['paon'].str.replace(r\"\\d+\", \"\").replace(r\"and|\\&|-|,\", \"\", regex = True).replace(r\"^ +| +$\", r\"\", regex=True)\n",
      "<ipython-input-8-4b6113370a7f>:34: SettingWithCopyWarning: \n",
      "A value is trying to be set on a copy of a slice from a DataFrame.\n",
      "Try using .loc[row_indexer,col_indexer] = value instead\n",
      "\n",
      "See the caveats in the documentation: https://pandas.pydata.org/pandas-docs/stable/user_guide/indexing.html#returning-a-view-versus-a-copy\n",
      "  pp_temp['paon'] = pp_temp['paon'].str.replace(r\"\\d+\", \"\").replace(r\"and|\\&|-|,\", \"\", regex = True).replace(r\"^ +| +$\", r\"\", regex=True)\n"
     ]
    }
   ],
   "source": [
    "##\n",
    "##This process is quite convoluted and there is certainly a more efficient and pythonic way\n",
    "## however the order within each filling method is important to ensure that there are no duplicates\n",
    "## as this causes the OCOD dataset to grow with duplicates\n",
    "##\n",
    "\n",
    "#replce the missing lsoa using street matching\n",
    "\n",
    "temp_lsoa = pd.concat([\n",
    "    price_paid_df[['street_name2', 'lad11cd', 'lsoa11cd']], voa_businesses[['street_name2', 'lad11cd', 'lsoa11cd']]\n",
    "                      ]).dropna(axis = 0, how = 'any', inplace = False)\n",
    "\n",
    "temp = temp_lsoa.groupby(['street_name2', 'lad11cd', 'lsoa11cd']).size().reset_index().groupby(['street_name2', 'lad11cd']).size()\\\n",
    ".reset_index().rename(columns = {0:'counts'})\n",
    "\n",
    "temp = temp[temp['counts']==1].merge(temp_lsoa.drop_duplicates(), \n",
    "                                     how = \"left\", on = ['street_name2', 'lad11cd']).rename(columns ={'lsoa11cd':'lsoa_street'})\n",
    "\n",
    "ocod_data = ocod_data.merge(temp[['lsoa_street', \"street_name2\", \"lad11cd\"]], how = \"left\", on = ['street_name2', 'lad11cd'])\n",
    "\n",
    "\n",
    "#replace the missing lsoa using building matching\n",
    "\n",
    "temp = price_paid_df.copy()\n",
    "\n",
    "temp['paon'] = temp['paon'].str.replace(r\"\\d+\", \"\").replace(r\"and|\\&|-|,\", \"\", regex = True).replace(r\"^ +| +$\", r\"\", regex=True)\n",
    "\n",
    "temp = temp.groupby(['paon', 'lad11cd', 'lsoa11cd']).size().reset_index()\n",
    "\n",
    "temp = temp[temp['paon'].str.len()!=0].groupby(['paon', 'lad11cd']).size().reset_index().rename(columns = {0:'counts'})\n",
    "\n",
    "pp_temp = price_paid_df[['paon', 'lad11cd','oa11cd' , 'lsoa11cd']]\n",
    "\n",
    "pp_temp['paon'] = pp_temp['paon'].str.replace(r\"\\d+\", \"\").replace(r\"and|\\&|-|,\", \"\", regex = True).replace(r\"^ +| +$\", r\"\", regex=True)\n",
    "\n",
    "pp_temp = pp_temp.drop_duplicates()\n",
    "\n",
    "temp = temp[temp['counts']==1].merge(pp_temp, \n",
    "                                     how = \"left\", on = ['paon', 'lad11cd'])\n",
    "\n",
    "temp = temp.rename(columns ={'lsoa11cd':'lsoa_building',\n",
    "                            'oa11cd':'oa_building',\n",
    "                            'paon':'building_name'}).drop_duplicates(subset = ['building_name', 'lsoa_building'])\n",
    "\n",
    "ocod_data = ocod_data.merge(temp[['lsoa_building', \"oa_building\" ,\"building_name\", \"lad11cd\"]], \n",
    "                       how = \"left\", \n",
    "                       on =  ['building_name', 'lad11cd'])\n",
    "\n",
    "ocod_data = ocod_data.merge(voa_businesses.loc[~voa_businesses['building_name'].isna(), \n",
    "                   ['building_name','oa11cd', 'lsoa11cd', 'lad11cd']].drop_duplicates(subset = ['building_name', 'lsoa11cd']).rename(\n",
    "    columns = {'lsoa11cd':'lsoa_busi_building',\n",
    "              'oa11cd':'oa_busi_building'}),\n",
    "                       how = \"left\", \n",
    "                       on =  ['building_name', 'lad11cd'])\n"
   ]
  },
  {
   "cell_type": "code",
   "execution_count": 9,
   "id": "bdfab0ff",
   "metadata": {},
   "outputs": [
    {
     "data": {
      "text/plain": [
       "Index(['Unnamed: 0', 'title_number', 'within_title_id', 'unique_id',\n",
       "       'within_larger_title', 'tenure', 'unit_id', 'unit_type',\n",
       "       'building_name', 'street_number', 'street_name', 'postcode', 'city',\n",
       "       'district', 'county', 'region', 'multiple_address_indicator',\n",
       "       'price_paid', 'property_address', 'postcode2', 'oa11cd', 'lsoa11cd',\n",
       "       'msoa11cd', 'street_number2', 'street_name2', 'lad11cd',\n",
       "       'business_counts', 'lsoa_street', 'lsoa_building', 'oa_building',\n",
       "       'oa_busi_building', 'lsoa_busi_building'],\n",
       "      dtype='object')"
      ]
     },
     "execution_count": 9,
     "metadata": {},
     "output_type": "execute_result"
    }
   ],
   "source": [
    "ocod_data.columns"
   ]
  },
  {
   "cell_type": "code",
   "execution_count": 10,
   "id": "61c637e2",
   "metadata": {},
   "outputs": [],
   "source": [
    "#I appreciate this is an almost artistically silly way of doing this. \n",
    "for x in ['lsoa_street', 'lsoa_building', 'lsoa_busi_building']:#, 'lsoa_business']:\n",
    "    ocod_data.loc[ocod_data['lsoa11cd'].isnull(), 'lsoa11cd'] = ocod_data[x][ocod_data['lsoa11cd'].isnull()] \n",
    "    \n",
    "#add in the OA for when building matches have occured\n",
    "for x in ['oa_building', 'oa_busi_building']:#, 'lsoa_business']:\n",
    "    ocod_data.loc[ocod_data['oa11cd'].isnull(), 'oa11cd'] = ocod_data[x][ocod_data['oa11cd'].isnull()] \n"
   ]
  },
  {
   "cell_type": "code",
   "execution_count": 11,
   "id": "657e453f",
   "metadata": {},
   "outputs": [
    {
     "data": {
      "text/plain": [
       "0.16621864258964755"
      ]
     },
     "execution_count": 11,
     "metadata": {},
     "output_type": "execute_result"
    }
   ],
   "source": [
    "ocod_data['lsoa11cd'].isnull().sum()/ocod_data.shape[0]"
   ]
  },
  {
   "cell_type": "code",
   "execution_count": 12,
   "id": "ac2cf149",
   "metadata": {},
   "outputs": [],
   "source": [
    "#after all other lsoa adding methods are completed\n",
    "#all nested properties with missing lsoa have the lsoa of the other properties within their group added\n",
    "\n",
    "temp = ocod_data.loc[(ocod_data['lsoa11cd'].notnull()) & (ocod_data['within_larger_title']==True) ,['lsoa11cd', 'title_number']].\\\n",
    "groupby(['lsoa11cd', 'title_number']).size().reset_index()\n",
    "temp = temp[['lsoa11cd', 'title_number']].rename(columns = {'lsoa11cd':'lsoa_nested'})\n",
    "\n",
    "#there are a small number of nested addresses where there are multiple lsoa this prevents increasing the number of observations with these duplicates\n",
    "#I don't think it matters if a ver observations are in neighbouring lsoa, the general spatial coherence is maintained\n",
    "temp = temp.groupby('title_number')['lsoa_nested'].first().reset_index()\n",
    "\n",
    "\n",
    "ocod_data = ocod_data.merge(temp[['title_number', 'lsoa_nested']], \n",
    "                       how = \"left\",\n",
    "                           on = \"title_number\")\n",
    "\n",
    "ocod_data.loc[ocod_data['lsoa11cd'].isnull(), 'lsoa11cd'] = ocod_data['lsoa_nested'][ocod_data['lsoa11cd'].isnull()] \n",
    "\n",
    "##\n",
    "##repeats again but for oa instead of lsoa\n",
    "##\n",
    "\n",
    "temp = ocod_data.loc[(ocod_data['oa11cd'].notnull()) & (ocod_data['within_larger_title']==True) ,['oa11cd', 'title_number']].\\\n",
    "groupby(['oa11cd', 'title_number']).size().reset_index()\n",
    "temp = temp[['oa11cd', 'title_number']].rename(columns = {'oa11cd':'oa_nested'})\n",
    "\n",
    "#there are a small number of nested addresses where there are multiple lsoa this prevents increasing the number of observations with these duplicates\n",
    "#I don't think it matters if a ver observations are in neighbouring lsoa, the general spatial coherence is maintained\n",
    "temp = temp.groupby('title_number')['oa_nested'].first().reset_index()\n",
    "\n",
    "\n",
    "ocod_data = ocod_data.merge(temp[['title_number', 'oa_nested']], \n",
    "                       how = \"left\",\n",
    "                           on = \"title_number\")\n",
    "\n",
    "ocod_data.loc[ocod_data['oa11cd'].isnull(), 'oa11cd'] = ocod_data['oa_nested'][ocod_data['oa11cd'].isnull()] \n"
   ]
  },
  {
   "cell_type": "markdown",
   "id": "81e533d7",
   "metadata": {},
   "source": [
    "## Matching at sub street level\n",
    "\n",
    "Some streets are on the boundary of LSOA this section uses the street number to match to the nearest lsoa."
   ]
  },
  {
   "cell_type": "code",
   "execution_count": 13,
   "id": "0ac66365",
   "metadata": {},
   "outputs": [
    {
     "name": "stdout",
     "output_type": "stream",
     "text": [
      "E06000031\n"
     ]
    },
    {
     "name": "stderr",
     "output_type": "stream",
     "text": [
      "<ipython-input-13-8bc6428979cb>:9: FutureWarning: The default value of regex will change from True to False in a future version.\n",
      "  missing_lsoa_df.loc[:,'street_number2'] = missing_lsoa_df.loc[:,'street_number'].str.replace(r\"^.*(?=\\b[0-9]+$)\", \"\").str.replace(r\"[^\\d]\", \"\", regex = True)\n",
      "<ipython-input-13-8bc6428979cb>:9: SettingWithCopyWarning: \n",
      "A value is trying to be set on a copy of a slice from a DataFrame.\n",
      "Try using .loc[row_indexer,col_indexer] = value instead\n",
      "\n",
      "See the caveats in the documentation: https://pandas.pydata.org/pandas-docs/stable/user_guide/indexing.html#returning-a-view-versus-a-copy\n",
      "  missing_lsoa_df.loc[:,'street_number2'] = missing_lsoa_df.loc[:,'street_number'].str.replace(r\"^.*(?=\\b[0-9]+$)\", \"\").str.replace(r\"[^\\d]\", \"\", regex = True)\n",
      "/tf/empty_homes_london/helper_functions.py:272: SettingWithCopyWarning: \n",
      "A value is trying to be set on a copy of a slice from a DataFrame.\n",
      "Try using .loc[row_indexer,col_indexer] = value instead\n",
      "\n",
      "See the caveats in the documentation: https://pandas.pydata.org/pandas-docs/stable/user_guide/indexing.html#returning-a-view-versus-a-copy\n",
      "  temp_multi['number_filter'] = filter_types\n",
      "<ipython-input-13-8bc6428979cb>:9: FutureWarning: The default value of regex will change from True to False in a future version.\n",
      "  missing_lsoa_df.loc[:,'street_number2'] = missing_lsoa_df.loc[:,'street_number'].str.replace(r\"^.*(?=\\b[0-9]+$)\", \"\").str.replace(r\"[^\\d]\", \"\", regex = True)\n",
      "<ipython-input-13-8bc6428979cb>:9: SettingWithCopyWarning: \n",
      "A value is trying to be set on a copy of a slice from a DataFrame.\n",
      "Try using .loc[row_indexer,col_indexer] = value instead\n",
      "\n",
      "See the caveats in the documentation: https://pandas.pydata.org/pandas-docs/stable/user_guide/indexing.html#returning-a-view-versus-a-copy\n",
      "  missing_lsoa_df.loc[:,'street_number2'] = missing_lsoa_df.loc[:,'street_number'].str.replace(r\"^.*(?=\\b[0-9]+$)\", \"\").str.replace(r\"[^\\d]\", \"\", regex = True)\n"
     ]
    },
    {
     "name": "stdout",
     "output_type": "stream",
     "text": [
      "i= 0  expand time,0.0 filter time0.0 make_dataframe_time 0.001\n",
      "broadway\n",
      "E07000032\n",
      "albionclose\n",
      "colliergrove\n",
      "gadfieldgrove\n",
      "E06000060\n"
     ]
    },
    {
     "name": "stderr",
     "output_type": "stream",
     "text": [
      "<ipython-input-13-8bc6428979cb>:9: FutureWarning: The default value of regex will change from True to False in a future version.\n",
      "  missing_lsoa_df.loc[:,'street_number2'] = missing_lsoa_df.loc[:,'street_number'].str.replace(r\"^.*(?=\\b[0-9]+$)\", \"\").str.replace(r\"[^\\d]\", \"\", regex = True)\n",
      "<ipython-input-13-8bc6428979cb>:9: SettingWithCopyWarning: \n",
      "A value is trying to be set on a copy of a slice from a DataFrame.\n",
      "Try using .loc[row_indexer,col_indexer] = value instead\n",
      "\n",
      "See the caveats in the documentation: https://pandas.pydata.org/pandas-docs/stable/user_guide/indexing.html#returning-a-view-versus-a-copy\n",
      "  missing_lsoa_df.loc[:,'street_number2'] = missing_lsoa_df.loc[:,'street_number'].str.replace(r\"^.*(?=\\b[0-9]+$)\", \"\").str.replace(r\"[^\\d]\", \"\", regex = True)\n",
      "/tf/empty_homes_london/helper_functions.py:272: SettingWithCopyWarning: \n",
      "A value is trying to be set on a copy of a slice from a DataFrame.\n",
      "Try using .loc[row_indexer,col_indexer] = value instead\n",
      "\n",
      "See the caveats in the documentation: https://pandas.pydata.org/pandas-docs/stable/user_guide/indexing.html#returning-a-view-versus-a-copy\n",
      "  temp_multi['number_filter'] = filter_types\n"
     ]
    },
    {
     "name": "stdout",
     "output_type": "stream",
     "text": [
      "i= 0  expand time,0.001 filter time0.0 make_dataframe_time 0.001\n",
      "stadiumapproach,\n",
      "highstreet\n",
      "stationroad\n",
      "oakendway\n",
      "cambridgestreet\n",
      "oxfordroad\n",
      "londonroad\n",
      "piddingtonroad\n",
      "marlowroad\n",
      "whitelionroad\n",
      "bathroad\n",
      "castlestreet\n",
      "E09000033\n"
     ]
    },
    {
     "name": "stderr",
     "output_type": "stream",
     "text": [
      "<ipython-input-13-8bc6428979cb>:35: SettingWithCopyWarning: \n",
      "A value is trying to be set on a copy of a slice from a DataFrame.\n",
      "Try using .loc[row_indexer,col_indexer] = value instead\n",
      "\n",
      "See the caveats in the documentation: https://pandas.pydata.org/pandas-docs/stable/user_guide/indexing.html#returning-a-view-versus-a-copy\n",
      "  missing_lsoa_road['lsoa11cd'] = [street_number_to_lsoa(temp_road, int(missing_lsoa_road.iloc[missing_lsoa_row]['street_number2']))\n",
      "<ipython-input-13-8bc6428979cb>:9: FutureWarning: The default value of regex will change from True to False in a future version.\n",
      "  missing_lsoa_df.loc[:,'street_number2'] = missing_lsoa_df.loc[:,'street_number'].str.replace(r\"^.*(?=\\b[0-9]+$)\", \"\").str.replace(r\"[^\\d]\", \"\", regex = True)\n",
      "<ipython-input-13-8bc6428979cb>:9: SettingWithCopyWarning: \n",
      "A value is trying to be set on a copy of a slice from a DataFrame.\n",
      "Try using .loc[row_indexer,col_indexer] = value instead\n",
      "\n",
      "See the caveats in the documentation: https://pandas.pydata.org/pandas-docs/stable/user_guide/indexing.html#returning-a-view-versus-a-copy\n",
      "  missing_lsoa_df.loc[:,'street_number2'] = missing_lsoa_df.loc[:,'street_number'].str.replace(r\"^.*(?=\\b[0-9]+$)\", \"\").str.replace(r\"[^\\d]\", \"\", regex = True)\n",
      "/tf/empty_homes_london/helper_functions.py:272: SettingWithCopyWarning: \n",
      "A value is trying to be set on a copy of a slice from a DataFrame.\n",
      "Try using .loc[row_indexer,col_indexer] = value instead\n",
      "\n",
      "See the caveats in the documentation: https://pandas.pydata.org/pandas-docs/stable/user_guide/indexing.html#returning-a-view-versus-a-copy\n",
      "  temp_multi['number_filter'] = filter_types\n"
     ]
    },
    {
     "name": "stdout",
     "output_type": "stream",
     "text": [
      "i= 0  expand time,0.0 filter time0.0 make_dataframe_time 0.001\n",
      "southstreet\n",
      "chilternstreet\n",
      "shaftesburyavenue\n",
      "corkstreet\n",
      "oxfordstreet\n"
     ]
    },
    {
     "name": "stderr",
     "output_type": "stream",
     "text": [
      "<ipython-input-13-8bc6428979cb>:35: SettingWithCopyWarning: \n",
      "A value is trying to be set on a copy of a slice from a DataFrame.\n",
      "Try using .loc[row_indexer,col_indexer] = value instead\n",
      "\n",
      "See the caveats in the documentation: https://pandas.pydata.org/pandas-docs/stable/user_guide/indexing.html#returning-a-view-versus-a-copy\n",
      "  missing_lsoa_road['lsoa11cd'] = [street_number_to_lsoa(temp_road, int(missing_lsoa_road.iloc[missing_lsoa_row]['street_number2']))\n"
     ]
    },
    {
     "name": "stdout",
     "output_type": "stream",
     "text": [
      "praedstreet\n",
      "strand\n",
      "mountstreet\n",
      "daviestreet\n",
      "oldbondstreet\n",
      "piccadilly\n",
      "paddingtonstreet\n",
      "parklane\n",
      "curzonplace\n",
      "parkcrescentmews\n",
      "carlislestreet\n",
      "sussexgardens\n",
      "amberleyroad\n",
      "polandstreet\n",
      "grosvenorhill\n",
      "greattitchfieldstreet\n",
      "parkcrescent\n",
      "portlandplace\n",
      "wiltonroad\n",
      "gillinghamstreet\n",
      "vauxhallbridgeroad\n",
      "jamestreet\n",
      "maryleboneroad\n",
      "cochranestreet\n",
      "greatportlandstreet\n",
      "charingcroroad\n",
      "knightsbridge\n",
      "weymouthstreet\n",
      "hallamstreet\n",
      "bridfordmews\n",
      "edgwareroad\n",
      "crawfordplace\n",
      "stgeorgesquare\n",
      "eatonplace\n",
      "mortimerstreet\n",
      "grosvenorstreet\n",
      "rutlandgate\n",
      "eatonsquare\n",
      "oldmaryleboneroad\n",
      "cavendishmewsouth\n",
      "belgravesquare\n",
      "belgravemews\n",
      "newbondstreet\n",
      "brookstreet\n",
      "albemarlestreet\n",
      "graftonstreet\n",
      "garrickstreet\n",
      "darblaystreet\n",
      "gloucesterterrace\n",
      "leinstersquare\n",
      "marketplace\n",
      "woodfieldroad\n",
      "harrowroad\n",
      "cliffordstreet\n",
      "horseyard\n",
      "oldburlingtonstreet\n",
      "upperbrookstreet\n",
      "charlbertstreet\n",
      "maidavale\n",
      "greatpeterstreet\n",
      "queensway\n",
      "newcavendishstreet\n",
      "winsleystreet\n",
      "greatmarlboroughstreet\n",
      "brookmews\n",
      "queensboroughterrace\n",
      "oldcomptonstreet\n",
      "deanstreet\n",
      "howickplace\n",
      "ramilieplace\n",
      "crawfordstreet\n",
      "gloucesterplace\n",
      "parkstreet\n",
      "uppergrosvenorstreet\n",
      "berwickstreet\n",
      "wardourmews\n",
      "grosvenorsquare\n",
      "southaudleystreet\n",
      "greatwindmillstreet\n",
      "archerstreet\n",
      "avenueroad\n",
      "townshendroad\n",
      "brutonplace\n",
      "londonstreet\n",
      "berkeleystreet\n",
      "manchestersquare\n",
      "wardourstreet\n",
      "foleystreet\n",
      "ridinghousestreet\n",
      "uppermontagustreet\n",
      "candoverstreet\n",
      "threekingyard\n",
      "lupustreet\n",
      "moretonstreet\n",
      "tachbrookstreet\n",
      "clavertonstreet\n",
      "grosvenorroad\n",
      "coventrystreet\n",
      "southsouthstreet\n",
      "grosvenorgardens\n",
      "grosvenorgardenmews\n",
      "gloucesterstreet\n",
      "rossmoreroad\n",
      "bayswaterroad\n",
      "cravenroad\n",
      "victoriastreet\n",
      "cravenhillgardens\n",
      "pimlicoroad\n",
      "kensingtonroad\n",
      "herefordroad\n",
      "formosastreet\n",
      "eatonterrace\n",
      "abbeyroad\n",
      "wellingtonroad\n",
      "warwickway\n",
      "alderneystreet\n",
      "cliftonroad\n",
      "princegate\n",
      "princealbertroad\n",
      "ennismoregardens\n",
      "portmansquare\n",
      "randolphavenue\n",
      "clevelandsquare\n",
      "regentstreet\n",
      "oxendonstreet\n",
      "bravingtonroad\n",
      "marshallstreet\n",
      "lyonplace\n",
      "cheshamplace\n",
      "inverneterrace\n",
      "princeconsortroad\n",
      "parkroad\n",
      "westbourneterrace\n",
      "theterrace\n",
      "beakstreet\n",
      "seymourstreet\n",
      "buckinghampalaceroad\n",
      "greatcumberlandplace\n",
      "northkensingtonroad\n",
      "eburystreet\n",
      "cambridgestreet\n",
      "adamstreet\n",
      "croxleyroad\n",
      "stgeorgefields,\n",
      "abercornplace\n",
      "stjamestreet\n",
      "woodmews\n",
      "grosvenorplace\n",
      "dorsetmews\n",
      "cavendishsquare\n",
      "curzonstreet\n",
      "clevelandplace\n",
      "newscotlandyard\n",
      "wellstreet\n",
      "hydeparksquare\n",
      "kingstonhouseeastkensingtonroad\n",
      "kilburnlane\n",
      "marlboroughhill\n",
      "curzonsquare\n",
      "hydeparksquaremews\n",
      "wigmorestreet\n",
      "sutherlandavenue\n",
      "bryanstonmeweast\n",
      "ashleygardens\n",
      "connaughtplace\n",
      "lissongrove\n",
      "whitehall\n",
      "thestrand\n",
      "welbeckstreet\n",
      "blackburnemews\n",
      "fernheadroad\n",
      "hanwaygardens\n",
      "ecclestonsquare\n",
      "loudounroad\n",
      "horseferryroad\n",
      "buckinghamgate\n",
      "E09000001\n"
     ]
    },
    {
     "name": "stderr",
     "output_type": "stream",
     "text": [
      "<ipython-input-13-8bc6428979cb>:9: FutureWarning: The default value of regex will change from True to False in a future version.\n",
      "  missing_lsoa_df.loc[:,'street_number2'] = missing_lsoa_df.loc[:,'street_number'].str.replace(r\"^.*(?=\\b[0-9]+$)\", \"\").str.replace(r\"[^\\d]\", \"\", regex = True)\n",
      "<ipython-input-13-8bc6428979cb>:9: SettingWithCopyWarning: \n",
      "A value is trying to be set on a copy of a slice from a DataFrame.\n",
      "Try using .loc[row_indexer,col_indexer] = value instead\n",
      "\n",
      "See the caveats in the documentation: https://pandas.pydata.org/pandas-docs/stable/user_guide/indexing.html#returning-a-view-versus-a-copy\n",
      "  missing_lsoa_df.loc[:,'street_number2'] = missing_lsoa_df.loc[:,'street_number'].str.replace(r\"^.*(?=\\b[0-9]+$)\", \"\").str.replace(r\"[^\\d]\", \"\", regex = True)\n",
      "/tf/empty_homes_london/helper_functions.py:272: SettingWithCopyWarning: \n",
      "A value is trying to be set on a copy of a slice from a DataFrame.\n",
      "Try using .loc[row_indexer,col_indexer] = value instead\n",
      "\n",
      "See the caveats in the documentation: https://pandas.pydata.org/pandas-docs/stable/user_guide/indexing.html#returning-a-view-versus-a-copy\n",
      "  temp_multi['number_filter'] = filter_types\n"
     ]
    },
    {
     "name": "stdout",
     "output_type": "stream",
     "text": [
      "i= 0  expand time,0.0 filter time0.0 make_dataframe_time 0.001\n",
      "londonwall\n",
      "cheapside\n",
      "woodstreet\n",
      "colemanstreet\n",
      "princestreet\n",
      "queenstreet\n"
     ]
    },
    {
     "name": "stderr",
     "output_type": "stream",
     "text": [
      "<ipython-input-13-8bc6428979cb>:35: SettingWithCopyWarning: \n",
      "A value is trying to be set on a copy of a slice from a DataFrame.\n",
      "Try using .loc[row_indexer,col_indexer] = value instead\n",
      "\n",
      "See the caveats in the documentation: https://pandas.pydata.org/pandas-docs/stable/user_guide/indexing.html#returning-a-view-versus-a-copy\n",
      "  missing_lsoa_road['lsoa11cd'] = [street_number_to_lsoa(temp_road, int(missing_lsoa_road.iloc[missing_lsoa_row]['street_number2']))\n"
     ]
    },
    {
     "name": "stdout",
     "output_type": "stream",
     "text": [
      "moorgate\n",
      "bartholomewclose\n",
      "cannonstreet\n",
      "laurencepountneylane\n",
      "gutterlane\n",
      "pancralane\n",
      "houndsditch\n",
      "greshamstreet\n",
      "aldersgatestreet\n",
      "montagueplace\n",
      "georgestreet\n",
      "farringdonroad\n",
      "park\n",
      "newbridgestreet\n",
      "fleetstreet\n",
      "cornhill\n",
      "vinestreet\n",
      "stmaryaxe\n",
      "atriumbuildingcannonbridge\n",
      "devonshiresquare\n",
      "holborngate\n",
      "onelondonwallplace\n",
      "westhardingstreet\n",
      "stonecuttersquare\n",
      "farringdonstreet\n",
      "oldbailey\n",
      "E08000019\n"
     ]
    },
    {
     "name": "stderr",
     "output_type": "stream",
     "text": [
      "<ipython-input-13-8bc6428979cb>:9: FutureWarning: The default value of regex will change from True to False in a future version.\n",
      "  missing_lsoa_df.loc[:,'street_number2'] = missing_lsoa_df.loc[:,'street_number'].str.replace(r\"^.*(?=\\b[0-9]+$)\", \"\").str.replace(r\"[^\\d]\", \"\", regex = True)\n",
      "<ipython-input-13-8bc6428979cb>:9: SettingWithCopyWarning: \n",
      "A value is trying to be set on a copy of a slice from a DataFrame.\n",
      "Try using .loc[row_indexer,col_indexer] = value instead\n",
      "\n",
      "See the caveats in the documentation: https://pandas.pydata.org/pandas-docs/stable/user_guide/indexing.html#returning-a-view-versus-a-copy\n",
      "  missing_lsoa_df.loc[:,'street_number2'] = missing_lsoa_df.loc[:,'street_number'].str.replace(r\"^.*(?=\\b[0-9]+$)\", \"\").str.replace(r\"[^\\d]\", \"\", regex = True)\n",
      "/tf/empty_homes_london/helper_functions.py:272: SettingWithCopyWarning: \n",
      "A value is trying to be set on a copy of a slice from a DataFrame.\n",
      "Try using .loc[row_indexer,col_indexer] = value instead\n",
      "\n",
      "See the caveats in the documentation: https://pandas.pydata.org/pandas-docs/stable/user_guide/indexing.html#returning-a-view-versus-a-copy\n",
      "  temp_multi['number_filter'] = filter_types\n"
     ]
    },
    {
     "name": "stdout",
     "output_type": "stream",
     "text": [
      "i= 0  expand time,0.0 filter time0.0 make_dataframe_time 0.001\n",
      "pinstonestreet\n",
      "mainroad\n",
      "barnsleyroad\n",
      "nortonavenue\n",
      "cityroad\n"
     ]
    },
    {
     "name": "stderr",
     "output_type": "stream",
     "text": [
      "<ipython-input-13-8bc6428979cb>:35: SettingWithCopyWarning: \n",
      "A value is trying to be set on a copy of a slice from a DataFrame.\n",
      "Try using .loc[row_indexer,col_indexer] = value instead\n",
      "\n",
      "See the caveats in the documentation: https://pandas.pydata.org/pandas-docs/stable/user_guide/indexing.html#returning-a-view-versus-a-copy\n",
      "  missing_lsoa_road['lsoa11cd'] = [street_number_to_lsoa(temp_road, int(missing_lsoa_road.iloc[missing_lsoa_row]['street_number2']))\n"
     ]
    },
    {
     "name": "stdout",
     "output_type": "stream",
     "text": [
      "benlane\n",
      "monaroad\n",
      "northfieldroad\n",
      "cobdenviewroad\n",
      "manchesterroad\n",
      "woodseatroad\n",
      "taptonhillroad\n",
      "beightonroad\n",
      "stationroad\n",
      "middlewoodroad\n",
      "smithywoodcrescent\n",
      "princeofwaleroad\n",
      "montgomeryroad\n",
      "manorlane\n",
      "kenwoodparkroad\n",
      "wincoroad\n",
      "handsworthroad\n",
      "beechwoodroad\n",
      "highstreet\n",
      "E08000017\n"
     ]
    },
    {
     "name": "stderr",
     "output_type": "stream",
     "text": [
      "<ipython-input-13-8bc6428979cb>:9: FutureWarning: The default value of regex will change from True to False in a future version.\n",
      "  missing_lsoa_df.loc[:,'street_number2'] = missing_lsoa_df.loc[:,'street_number'].str.replace(r\"^.*(?=\\b[0-9]+$)\", \"\").str.replace(r\"[^\\d]\", \"\", regex = True)\n",
      "<ipython-input-13-8bc6428979cb>:9: SettingWithCopyWarning: \n",
      "A value is trying to be set on a copy of a slice from a DataFrame.\n",
      "Try using .loc[row_indexer,col_indexer] = value instead\n",
      "\n",
      "See the caveats in the documentation: https://pandas.pydata.org/pandas-docs/stable/user_guide/indexing.html#returning-a-view-versus-a-copy\n",
      "  missing_lsoa_df.loc[:,'street_number2'] = missing_lsoa_df.loc[:,'street_number'].str.replace(r\"^.*(?=\\b[0-9]+$)\", \"\").str.replace(r\"[^\\d]\", \"\", regex = True)\n",
      "/tf/empty_homes_london/helper_functions.py:272: SettingWithCopyWarning: \n",
      "A value is trying to be set on a copy of a slice from a DataFrame.\n",
      "Try using .loc[row_indexer,col_indexer] = value instead\n",
      "\n",
      "See the caveats in the documentation: https://pandas.pydata.org/pandas-docs/stable/user_guide/indexing.html#returning-a-view-versus-a-copy\n",
      "  temp_multi['number_filter'] = filter_types\n",
      "<ipython-input-13-8bc6428979cb>:35: SettingWithCopyWarning: \n",
      "A value is trying to be set on a copy of a slice from a DataFrame.\n",
      "Try using .loc[row_indexer,col_indexer] = value instead\n",
      "\n",
      "See the caveats in the documentation: https://pandas.pydata.org/pandas-docs/stable/user_guide/indexing.html#returning-a-view-versus-a-copy\n",
      "  missing_lsoa_road['lsoa11cd'] = [street_number_to_lsoa(temp_road, int(missing_lsoa_road.iloc[missing_lsoa_row]['street_number2']))\n",
      "<ipython-input-13-8bc6428979cb>:9: FutureWarning: The default value of regex will change from True to False in a future version.\n",
      "  missing_lsoa_df.loc[:,'street_number2'] = missing_lsoa_df.loc[:,'street_number'].str.replace(r\"^.*(?=\\b[0-9]+$)\", \"\").str.replace(r\"[^\\d]\", \"\", regex = True)\n",
      "<ipython-input-13-8bc6428979cb>:9: SettingWithCopyWarning: \n",
      "A value is trying to be set on a copy of a slice from a DataFrame.\n",
      "Try using .loc[row_indexer,col_indexer] = value instead\n",
      "\n",
      "See the caveats in the documentation: https://pandas.pydata.org/pandas-docs/stable/user_guide/indexing.html#returning-a-view-versus-a-copy\n",
      "  missing_lsoa_df.loc[:,'street_number2'] = missing_lsoa_df.loc[:,'street_number'].str.replace(r\"^.*(?=\\b[0-9]+$)\", \"\").str.replace(r\"[^\\d]\", \"\", regex = True)\n"
     ]
    },
    {
     "name": "stdout",
     "output_type": "stream",
     "text": [
      "i= 0  expand time,0.0 filter time0.0 make_dataframe_time 0.001\n",
      "thegreen\n",
      "kingstreet\n",
      "hallgate\n",
      "woodstreet\n",
      "doncasterroad\n",
      "askernroad\n",
      "highstreet\n",
      "frenchgate\n",
      "E09000028\n"
     ]
    },
    {
     "name": "stderr",
     "output_type": "stream",
     "text": [
      "/tf/empty_homes_london/helper_functions.py:272: SettingWithCopyWarning: \n",
      "A value is trying to be set on a copy of a slice from a DataFrame.\n",
      "Try using .loc[row_indexer,col_indexer] = value instead\n",
      "\n",
      "See the caveats in the documentation: https://pandas.pydata.org/pandas-docs/stable/user_guide/indexing.html#returning-a-view-versus-a-copy\n",
      "  temp_multi['number_filter'] = filter_types\n"
     ]
    },
    {
     "name": "stdout",
     "output_type": "stream",
     "text": [
      "i= 0  expand time,0.001 filter time0.0 make_dataframe_time 0.001\n",
      "ameliastreet\n",
      "walworthroad\n",
      "manorplace\n",
      "towerbridgeroad\n",
      "bermondseystreet\n"
     ]
    },
    {
     "name": "stderr",
     "output_type": "stream",
     "text": [
      "<ipython-input-13-8bc6428979cb>:35: SettingWithCopyWarning: \n",
      "A value is trying to be set on a copy of a slice from a DataFrame.\n",
      "Try using .loc[row_indexer,col_indexer] = value instead\n",
      "\n",
      "See the caveats in the documentation: https://pandas.pydata.org/pandas-docs/stable/user_guide/indexing.html#returning-a-view-versus-a-copy\n",
      "  missing_lsoa_road['lsoa11cd'] = [street_number_to_lsoa(temp_road, int(missing_lsoa_road.iloc[missing_lsoa_row]['street_number2']))\n"
     ]
    },
    {
     "name": "stdout",
     "output_type": "stream",
     "text": [
      "southwarkbridgeroad\n",
      "ryelane\n",
      "brunelroad\n",
      "albionstreet\n",
      "grangeroad\n",
      "southwarkstreet\n",
      "peckhamhighstreet\n",
      "hanoverparkandlandandbuildingonthenorthsideofhanoverpark\n",
      "lomondgrove\n",
      "parkhousestreet\n",
      "falmouthroad\n",
      "blackfriarroad\n",
      "peckhamroad\n",
      "queenelizabethstreet\n",
      "lordshiplane\n",
      "millstreet\n",
      "johnruskinstreet\n",
      "E09000020\n"
     ]
    },
    {
     "name": "stderr",
     "output_type": "stream",
     "text": [
      "<ipython-input-13-8bc6428979cb>:9: FutureWarning: The default value of regex will change from True to False in a future version.\n",
      "  missing_lsoa_df.loc[:,'street_number2'] = missing_lsoa_df.loc[:,'street_number'].str.replace(r\"^.*(?=\\b[0-9]+$)\", \"\").str.replace(r\"[^\\d]\", \"\", regex = True)\n",
      "<ipython-input-13-8bc6428979cb>:9: SettingWithCopyWarning: \n",
      "A value is trying to be set on a copy of a slice from a DataFrame.\n",
      "Try using .loc[row_indexer,col_indexer] = value instead\n",
      "\n",
      "See the caveats in the documentation: https://pandas.pydata.org/pandas-docs/stable/user_guide/indexing.html#returning-a-view-versus-a-copy\n",
      "  missing_lsoa_df.loc[:,'street_number2'] = missing_lsoa_df.loc[:,'street_number'].str.replace(r\"^.*(?=\\b[0-9]+$)\", \"\").str.replace(r\"[^\\d]\", \"\", regex = True)\n",
      "/tf/empty_homes_london/helper_functions.py:272: SettingWithCopyWarning: \n",
      "A value is trying to be set on a copy of a slice from a DataFrame.\n",
      "Try using .loc[row_indexer,col_indexer] = value instead\n",
      "\n",
      "See the caveats in the documentation: https://pandas.pydata.org/pandas-docs/stable/user_guide/indexing.html#returning-a-view-versus-a-copy\n",
      "  temp_multi['number_filter'] = filter_types\n"
     ]
    },
    {
     "name": "stdout",
     "output_type": "stream",
     "text": [
      "i= 0  expand time,0.0 filter time0.0 make_dataframe_time 0.001\n",
      "rabbitrow\n",
      "nottinghillgate\n",
      "fulhamroad\n",
      "gloucesterroad\n",
      "kensingtonhighstreet\n"
     ]
    },
    {
     "name": "stderr",
     "output_type": "stream",
     "text": [
      "<ipython-input-13-8bc6428979cb>:35: SettingWithCopyWarning: \n",
      "A value is trying to be set on a copy of a slice from a DataFrame.\n",
      "Try using .loc[row_indexer,col_indexer] = value instead\n",
      "\n",
      "See the caveats in the documentation: https://pandas.pydata.org/pandas-docs/stable/user_guide/indexing.html#returning-a-view-versus-a-copy\n",
      "  missing_lsoa_road['lsoa11cd'] = [street_number_to_lsoa(temp_road, int(missing_lsoa_road.iloc[missing_lsoa_row]['street_number2']))\n"
     ]
    },
    {
     "name": "stdout",
     "output_type": "stream",
     "text": [
      "oldchurchstreet\n",
      "pontstreet\n",
      "waltonstreet\n",
      "hollywoodroad\n",
      "kensingtonchurchstreet\n",
      "earlcourtroad\n",
      "pembrokeplace\n",
      "phillimorewalk\n",
      "uxbridgestreet\n",
      "portobelloroad\n",
      "lancasterroad\n",
      "cromwellroad\n",
      "cadogansquare\n",
      "draycottavenue\n",
      "harringtongardens\n",
      "bromptonroad\n",
      "lennoxgardens\n",
      "beaufortgardens\n",
      "hancrescent\n",
      "harringtonroad\n",
      "onslowgardens\n",
      "westcromwellroad\n",
      "leckystreet\n",
      "marloeroad\n",
      "emperorgate\n",
      "lexhamgardens\n",
      "cadoganplace\n",
      "clarendonroad\n",
      "chepstowvillas\n",
      "stalbanroad\n",
      "hollandvillaroad\n",
      "kingroad\n",
      "stmaryabbotterrace\n",
      "kensingtonplace\n",
      "victoriaroad\n",
      "deveregardens\n",
      "kensingtonroad\n",
      "latimerroad\n",
      "grenvilleplace\n",
      "campdenhillplace\n",
      "collegeplace\n",
      "cornwallgardens\n",
      "queengategardens\n",
      "burywalk\n",
      "draycottplace\n",
      "sloanestreet\n",
      "elmpark\n",
      "canningplacemews\n",
      "queengate\n",
      "E09000007\n"
     ]
    },
    {
     "name": "stderr",
     "output_type": "stream",
     "text": [
      "<ipython-input-13-8bc6428979cb>:9: FutureWarning: The default value of regex will change from True to False in a future version.\n",
      "  missing_lsoa_df.loc[:,'street_number2'] = missing_lsoa_df.loc[:,'street_number'].str.replace(r\"^.*(?=\\b[0-9]+$)\", \"\").str.replace(r\"[^\\d]\", \"\", regex = True)\n",
      "<ipython-input-13-8bc6428979cb>:9: SettingWithCopyWarning: \n",
      "A value is trying to be set on a copy of a slice from a DataFrame.\n",
      "Try using .loc[row_indexer,col_indexer] = value instead\n",
      "\n",
      "See the caveats in the documentation: https://pandas.pydata.org/pandas-docs/stable/user_guide/indexing.html#returning-a-view-versus-a-copy\n",
      "  missing_lsoa_df.loc[:,'street_number2'] = missing_lsoa_df.loc[:,'street_number'].str.replace(r\"^.*(?=\\b[0-9]+$)\", \"\").str.replace(r\"[^\\d]\", \"\", regex = True)\n",
      "/tf/empty_homes_london/helper_functions.py:272: SettingWithCopyWarning: \n",
      "A value is trying to be set on a copy of a slice from a DataFrame.\n",
      "Try using .loc[row_indexer,col_indexer] = value instead\n",
      "\n",
      "See the caveats in the documentation: https://pandas.pydata.org/pandas-docs/stable/user_guide/indexing.html#returning-a-view-versus-a-copy\n",
      "  temp_multi['number_filter'] = filter_types\n"
     ]
    },
    {
     "name": "stdout",
     "output_type": "stream",
     "text": [
      "i= 0  expand time,0.001 filter time0.0 make_dataframe_time 0.001\n",
      "eustonroad\n",
      "warrenstreet\n",
      "torringtonplace\n",
      "burystreet\n",
      "fitzroystreet\n",
      "whitfieldplace\n",
      "newoxfordstreet\n",
      "juddstreet\n"
     ]
    },
    {
     "name": "stderr",
     "output_type": "stream",
     "text": [
      "<ipython-input-13-8bc6428979cb>:35: SettingWithCopyWarning: \n",
      "A value is trying to be set on a copy of a slice from a DataFrame.\n",
      "Try using .loc[row_indexer,col_indexer] = value instead\n",
      "\n",
      "See the caveats in the documentation: https://pandas.pydata.org/pandas-docs/stable/user_guide/indexing.html#returning-a-view-versus-a-copy\n",
      "  missing_lsoa_road['lsoa11cd'] = [street_number_to_lsoa(temp_road, int(missing_lsoa_road.iloc[missing_lsoa_row]['street_number2']))\n"
     ]
    },
    {
     "name": "stdout",
     "output_type": "stream",
     "text": [
      "britanniastreet\n",
      "winchesterroad\n",
      "highholborn\n",
      "southamptonplace\n",
      "southamptonrow\n",
      "camdenhighstreet\n",
      "kilburnhighroad\n",
      "kilburnpriory,\n",
      "grayinnroad\n",
      "royalcollegestreet\n",
      "kentishtownroad\n",
      "belsizeroad\n",
      "heathstreet\n",
      "highroad\n",
      "quexroad\n",
      "huntleystreet\n",
      "cheniemews\n",
      "whitfieldstreet\n",
      "tottenhamcourtroad\n",
      "fellowroad\n",
      "charingcroroad\n",
      "leithyard\n",
      "westcentralstreet\n",
      "delanceystreet\n",
      "jamestownroad\n",
      "grevilleroad\n",
      "pondstreet\n",
      "southendroad\n",
      "weedingtonroad\n",
      "finchleyroad\n",
      "gowerstreet\n",
      "redhillstreet\n",
      "saffronstreet\n",
      "jockeyfields,\n",
      "westheathroad\n",
      "oakhillavenue\n",
      "avenueroad\n",
      "stpancraway\n",
      "ovalroad\n",
      "herbrandstreet\n",
      "lincolninnfields,\n",
      "clarenceway\n",
      "kinghenryroad\n",
      "airspaceabovedunnpassage\n",
      "leatherlane\n",
      "bayhamstreet\n",
      "belsizegrove\n",
      "fitzroysquare\n",
      "E06000049\n"
     ]
    },
    {
     "name": "stderr",
     "output_type": "stream",
     "text": [
      "<ipython-input-13-8bc6428979cb>:9: FutureWarning: The default value of regex will change from True to False in a future version.\n",
      "  missing_lsoa_df.loc[:,'street_number2'] = missing_lsoa_df.loc[:,'street_number'].str.replace(r\"^.*(?=\\b[0-9]+$)\", \"\").str.replace(r\"[^\\d]\", \"\", regex = True)\n",
      "<ipython-input-13-8bc6428979cb>:9: SettingWithCopyWarning: \n",
      "A value is trying to be set on a copy of a slice from a DataFrame.\n",
      "Try using .loc[row_indexer,col_indexer] = value instead\n",
      "\n",
      "See the caveats in the documentation: https://pandas.pydata.org/pandas-docs/stable/user_guide/indexing.html#returning-a-view-versus-a-copy\n",
      "  missing_lsoa_df.loc[:,'street_number2'] = missing_lsoa_df.loc[:,'street_number'].str.replace(r\"^.*(?=\\b[0-9]+$)\", \"\").str.replace(r\"[^\\d]\", \"\", regex = True)\n",
      "/tf/empty_homes_london/helper_functions.py:272: SettingWithCopyWarning: \n",
      "A value is trying to be set on a copy of a slice from a DataFrame.\n",
      "Try using .loc[row_indexer,col_indexer] = value instead\n",
      "\n",
      "See the caveats in the documentation: https://pandas.pydata.org/pandas-docs/stable/user_guide/indexing.html#returning-a-view-versus-a-copy\n",
      "  temp_multi['number_filter'] = filter_types\n",
      "<ipython-input-13-8bc6428979cb>:35: SettingWithCopyWarning: \n",
      "A value is trying to be set on a copy of a slice from a DataFrame.\n",
      "Try using .loc[row_indexer,col_indexer] = value instead\n",
      "\n",
      "See the caveats in the documentation: https://pandas.pydata.org/pandas-docs/stable/user_guide/indexing.html#returning-a-view-versus-a-copy\n",
      "  missing_lsoa_road['lsoa11cd'] = [street_number_to_lsoa(temp_road, int(missing_lsoa_road.iloc[missing_lsoa_row]['street_number2']))\n",
      "<ipython-input-13-8bc6428979cb>:9: FutureWarning: The default value of regex will change from True to False in a future version.\n",
      "  missing_lsoa_df.loc[:,'street_number2'] = missing_lsoa_df.loc[:,'street_number'].str.replace(r\"^.*(?=\\b[0-9]+$)\", \"\").str.replace(r\"[^\\d]\", \"\", regex = True)\n",
      "<ipython-input-13-8bc6428979cb>:9: SettingWithCopyWarning: \n",
      "A value is trying to be set on a copy of a slice from a DataFrame.\n",
      "Try using .loc[row_indexer,col_indexer] = value instead\n",
      "\n",
      "See the caveats in the documentation: https://pandas.pydata.org/pandas-docs/stable/user_guide/indexing.html#returning-a-view-versus-a-copy\n",
      "  missing_lsoa_df.loc[:,'street_number2'] = missing_lsoa_df.loc[:,'street_number'].str.replace(r\"^.*(?=\\b[0-9]+$)\", \"\").str.replace(r\"[^\\d]\", \"\", regex = True)\n"
     ]
    },
    {
     "name": "stdout",
     "output_type": "stream",
     "text": [
      "i= 0  expand time,0.001 filter time0.0 make_dataframe_time 0.001\n",
      "highstreet\n",
      "gardinarclose\n",
      "aldenclose\n",
      "trevoredrive\n",
      "westonroad\n",
      "E08000003\n"
     ]
    },
    {
     "name": "stderr",
     "output_type": "stream",
     "text": [
      "/tf/empty_homes_london/helper_functions.py:272: SettingWithCopyWarning: \n",
      "A value is trying to be set on a copy of a slice from a DataFrame.\n",
      "Try using .loc[row_indexer,col_indexer] = value instead\n",
      "\n",
      "See the caveats in the documentation: https://pandas.pydata.org/pandas-docs/stable/user_guide/indexing.html#returning-a-view-versus-a-copy\n",
      "  temp_multi['number_filter'] = filter_types\n"
     ]
    },
    {
     "name": "stdout",
     "output_type": "stream",
     "text": [
      "i= 0  expand time,0.0 filter time0.0 make_dataframe_time 0.001\n",
      "leestreet\n",
      "deansgate\n",
      "oldhamstreet\n",
      "hiltonstreet\n",
      "oldhamroad\n"
     ]
    },
    {
     "name": "stderr",
     "output_type": "stream",
     "text": [
      "<ipython-input-13-8bc6428979cb>:35: SettingWithCopyWarning: \n",
      "A value is trying to be set on a copy of a slice from a DataFrame.\n",
      "Try using .loc[row_indexer,col_indexer] = value instead\n",
      "\n",
      "See the caveats in the documentation: https://pandas.pydata.org/pandas-docs/stable/user_guide/indexing.html#returning-a-view-versus-a-copy\n",
      "  missing_lsoa_road['lsoa11cd'] = [street_number_to_lsoa(temp_road, int(missing_lsoa_road.iloc[missing_lsoa_row]['street_number2']))\n"
     ]
    },
    {
     "name": "stdout",
     "output_type": "stream",
     "text": [
      "plymouthgrove\n",
      "thomastreet\n",
      "moseleyroad\n",
      "southernstreet\n",
      "oxfordstreet\n",
      "marketstreet\n",
      "meltonroad\n",
      "spearstreet\n",
      "hartroad\n",
      "highstreet\n",
      "jerseystreet\n",
      "polandstreet\n",
      "wilmslowroad\n",
      "princestreet\n",
      "beaverstreet\n",
      "waterlooroad\n",
      "jordanstreet\n",
      "commercialstreet\n",
      "gouldenstreet\n",
      "oxfordroad\n",
      "whitworthstreet\n",
      "lawnhurstavenue\n",
      "cottonstreet\n",
      "cambridgestreet\n",
      "whitworthstreetwest\n",
      "ansonroad\n",
      "kelsoplace\n",
      "ahillquays,\n",
      "rochdaleroad\n",
      "thequadrangle\n",
      "spathroad\n",
      "theavenue\n",
      "arundelstreet\n",
      "derbystreet\n",
      "springgardens\n",
      "highercambridgestreet\n",
      "citygate\n",
      "stockportroad\n",
      "palatineroad\n",
      "E09000011\n"
     ]
    },
    {
     "name": "stderr",
     "output_type": "stream",
     "text": [
      "<ipython-input-13-8bc6428979cb>:9: FutureWarning: The default value of regex will change from True to False in a future version.\n",
      "  missing_lsoa_df.loc[:,'street_number2'] = missing_lsoa_df.loc[:,'street_number'].str.replace(r\"^.*(?=\\b[0-9]+$)\", \"\").str.replace(r\"[^\\d]\", \"\", regex = True)\n",
      "<ipython-input-13-8bc6428979cb>:9: SettingWithCopyWarning: \n",
      "A value is trying to be set on a copy of a slice from a DataFrame.\n",
      "Try using .loc[row_indexer,col_indexer] = value instead\n",
      "\n",
      "See the caveats in the documentation: https://pandas.pydata.org/pandas-docs/stable/user_guide/indexing.html#returning-a-view-versus-a-copy\n",
      "  missing_lsoa_df.loc[:,'street_number2'] = missing_lsoa_df.loc[:,'street_number'].str.replace(r\"^.*(?=\\b[0-9]+$)\", \"\").str.replace(r\"[^\\d]\", \"\", regex = True)\n",
      "/tf/empty_homes_london/helper_functions.py:272: SettingWithCopyWarning: \n",
      "A value is trying to be set on a copy of a slice from a DataFrame.\n",
      "Try using .loc[row_indexer,col_indexer] = value instead\n",
      "\n",
      "See the caveats in the documentation: https://pandas.pydata.org/pandas-docs/stable/user_guide/indexing.html#returning-a-view-versus-a-copy\n",
      "  temp_multi['number_filter'] = filter_types\n",
      "<ipython-input-13-8bc6428979cb>:35: SettingWithCopyWarning: \n",
      "A value is trying to be set on a copy of a slice from a DataFrame.\n",
      "Try using .loc[row_indexer,col_indexer] = value instead\n",
      "\n",
      "See the caveats in the documentation: https://pandas.pydata.org/pandas-docs/stable/user_guide/indexing.html#returning-a-view-versus-a-copy\n",
      "  missing_lsoa_road['lsoa11cd'] = [street_number_to_lsoa(temp_road, int(missing_lsoa_road.iloc[missing_lsoa_row]['street_number2']))\n"
     ]
    },
    {
     "name": "stdout",
     "output_type": "stream",
     "text": [
      "i= 0  expand time,0.0 filter time0.0 make_dataframe_time 0.001\n",
      "creekroad\n",
      "harmonyway\n",
      "peartreeway\n",
      "powistreet\n",
      "elthamhighstreet\n",
      "bramshottavenue\n",
      "woodwharf,\n",
      "greenwichchurchstreet\n",
      "E09000019\n"
     ]
    },
    {
     "name": "stderr",
     "output_type": "stream",
     "text": [
      "<ipython-input-13-8bc6428979cb>:9: FutureWarning: The default value of regex will change from True to False in a future version.\n",
      "  missing_lsoa_df.loc[:,'street_number2'] = missing_lsoa_df.loc[:,'street_number'].str.replace(r\"^.*(?=\\b[0-9]+$)\", \"\").str.replace(r\"[^\\d]\", \"\", regex = True)\n",
      "<ipython-input-13-8bc6428979cb>:9: SettingWithCopyWarning: \n",
      "A value is trying to be set on a copy of a slice from a DataFrame.\n",
      "Try using .loc[row_indexer,col_indexer] = value instead\n",
      "\n",
      "See the caveats in the documentation: https://pandas.pydata.org/pandas-docs/stable/user_guide/indexing.html#returning-a-view-versus-a-copy\n",
      "  missing_lsoa_df.loc[:,'street_number2'] = missing_lsoa_df.loc[:,'street_number'].str.replace(r\"^.*(?=\\b[0-9]+$)\", \"\").str.replace(r\"[^\\d]\", \"\", regex = True)\n",
      "/tf/empty_homes_london/helper_functions.py:272: SettingWithCopyWarning: \n",
      "A value is trying to be set on a copy of a slice from a DataFrame.\n",
      "Try using .loc[row_indexer,col_indexer] = value instead\n",
      "\n",
      "See the caveats in the documentation: https://pandas.pydata.org/pandas-docs/stable/user_guide/indexing.html#returning-a-view-versus-a-copy\n",
      "  temp_multi['number_filter'] = filter_types\n"
     ]
    },
    {
     "name": "stdout",
     "output_type": "stream",
     "text": [
      "i= 0  expand time,0.0 filter time0.0 make_dataframe_time 0.001\n",
      "hollowayroad\n",
      "tollingtonroad\n",
      "roseberyavenue\n",
      "stjohnstreet\n",
      "cityroad\n"
     ]
    },
    {
     "name": "stderr",
     "output_type": "stream",
     "text": [
      "<ipython-input-13-8bc6428979cb>:35: SettingWithCopyWarning: \n",
      "A value is trying to be set on a copy of a slice from a DataFrame.\n",
      "Try using .loc[row_indexer,col_indexer] = value instead\n",
      "\n",
      "See the caveats in the documentation: https://pandas.pydata.org/pandas-docs/stable/user_guide/indexing.html#returning-a-view-versus-a-copy\n",
      "  missing_lsoa_road['lsoa11cd'] = [street_number_to_lsoa(temp_road, int(missing_lsoa_road.iloc[missing_lsoa_row]['street_number2']))\n"
     ]
    },
    {
     "name": "stdout",
     "output_type": "stream",
     "text": [
      "pentonvilleroad\n",
      "parkfieldstreet\n",
      "upperstreet\n",
      "yorkway\n",
      "oldstreet\n",
      "singerstreet\n",
      "hamiltonpark\n",
      "highburypark\n",
      "ansonroad\n",
      "carletonroad\n",
      "pentonstreet\n",
      "sevensisterroad\n",
      "liverpoolroad\n",
      "haltonroad\n",
      "albionyard\n",
      "whitecrostreet\n",
      "angelgate\n",
      "greenlanes\n",
      "E09000016\n"
     ]
    },
    {
     "name": "stderr",
     "output_type": "stream",
     "text": [
      "<ipython-input-13-8bc6428979cb>:9: FutureWarning: The default value of regex will change from True to False in a future version.\n",
      "  missing_lsoa_df.loc[:,'street_number2'] = missing_lsoa_df.loc[:,'street_number'].str.replace(r\"^.*(?=\\b[0-9]+$)\", \"\").str.replace(r\"[^\\d]\", \"\", regex = True)\n",
      "<ipython-input-13-8bc6428979cb>:9: SettingWithCopyWarning: \n",
      "A value is trying to be set on a copy of a slice from a DataFrame.\n",
      "Try using .loc[row_indexer,col_indexer] = value instead\n",
      "\n",
      "See the caveats in the documentation: https://pandas.pydata.org/pandas-docs/stable/user_guide/indexing.html#returning-a-view-versus-a-copy\n",
      "  missing_lsoa_df.loc[:,'street_number2'] = missing_lsoa_df.loc[:,'street_number'].str.replace(r\"^.*(?=\\b[0-9]+$)\", \"\").str.replace(r\"[^\\d]\", \"\", regex = True)\n",
      "/tf/empty_homes_london/helper_functions.py:272: SettingWithCopyWarning: \n",
      "A value is trying to be set on a copy of a slice from a DataFrame.\n",
      "Try using .loc[row_indexer,col_indexer] = value instead\n",
      "\n",
      "See the caveats in the documentation: https://pandas.pydata.org/pandas-docs/stable/user_guide/indexing.html#returning-a-view-versus-a-copy\n",
      "  temp_multi['number_filter'] = filter_types\n",
      "<ipython-input-13-8bc6428979cb>:35: SettingWithCopyWarning: \n",
      "A value is trying to be set on a copy of a slice from a DataFrame.\n",
      "Try using .loc[row_indexer,col_indexer] = value instead\n",
      "\n",
      "See the caveats in the documentation: https://pandas.pydata.org/pandas-docs/stable/user_guide/indexing.html#returning-a-view-versus-a-copy\n",
      "  missing_lsoa_road['lsoa11cd'] = [street_number_to_lsoa(temp_road, int(missing_lsoa_road.iloc[missing_lsoa_row]['street_number2']))\n",
      "<ipython-input-13-8bc6428979cb>:9: FutureWarning: The default value of regex will change from True to False in a future version.\n",
      "  missing_lsoa_df.loc[:,'street_number2'] = missing_lsoa_df.loc[:,'street_number'].str.replace(r\"^.*(?=\\b[0-9]+$)\", \"\").str.replace(r\"[^\\d]\", \"\", regex = True)\n",
      "<ipython-input-13-8bc6428979cb>:9: SettingWithCopyWarning: \n",
      "A value is trying to be set on a copy of a slice from a DataFrame.\n",
      "Try using .loc[row_indexer,col_indexer] = value instead\n",
      "\n",
      "See the caveats in the documentation: https://pandas.pydata.org/pandas-docs/stable/user_guide/indexing.html#returning-a-view-versus-a-copy\n",
      "  missing_lsoa_df.loc[:,'street_number2'] = missing_lsoa_df.loc[:,'street_number'].str.replace(r\"^.*(?=\\b[0-9]+$)\", \"\").str.replace(r\"[^\\d]\", \"\", regex = True)\n"
     ]
    },
    {
     "name": "stdout",
     "output_type": "stream",
     "text": [
      "i= 0  expand time,0.0 filter time0.0 make_dataframe_time 0.001\n",
      "marketplace\n",
      "swanwalk\n",
      "lowerbedfordroad\n",
      "E08000015\n"
     ]
    },
    {
     "name": "stderr",
     "output_type": "stream",
     "text": [
      "/tf/empty_homes_london/helper_functions.py:272: SettingWithCopyWarning: \n",
      "A value is trying to be set on a copy of a slice from a DataFrame.\n",
      "Try using .loc[row_indexer,col_indexer] = value instead\n",
      "\n",
      "See the caveats in the documentation: https://pandas.pydata.org/pandas-docs/stable/user_guide/indexing.html#returning-a-view-versus-a-copy\n",
      "  temp_multi['number_filter'] = filter_types\n",
      "<ipython-input-13-8bc6428979cb>:35: SettingWithCopyWarning: \n",
      "A value is trying to be set on a copy of a slice from a DataFrame.\n",
      "Try using .loc[row_indexer,col_indexer] = value instead\n",
      "\n",
      "See the caveats in the documentation: https://pandas.pydata.org/pandas-docs/stable/user_guide/indexing.html#returning-a-view-versus-a-copy\n",
      "  missing_lsoa_road['lsoa11cd'] = [street_number_to_lsoa(temp_road, int(missing_lsoa_road.iloc[missing_lsoa_row]['street_number2']))\n",
      "<ipython-input-13-8bc6428979cb>:9: FutureWarning: The default value of regex will change from True to False in a future version.\n",
      "  missing_lsoa_df.loc[:,'street_number2'] = missing_lsoa_df.loc[:,'street_number'].str.replace(r\"^.*(?=\\b[0-9]+$)\", \"\").str.replace(r\"[^\\d]\", \"\", regex = True)\n"
     ]
    },
    {
     "name": "stdout",
     "output_type": "stream",
     "text": [
      "i= 0  expand time,0.0 filter time0.0 make_dataframe_time 0.001\n",
      "frederickstreet\n",
      "brookstreet\n",
      "pricestreet\n",
      "arthurstreet\n",
      "caldyroad\n",
      "E09000015\n"
     ]
    },
    {
     "name": "stderr",
     "output_type": "stream",
     "text": [
      "<ipython-input-13-8bc6428979cb>:9: SettingWithCopyWarning: \n",
      "A value is trying to be set on a copy of a slice from a DataFrame.\n",
      "Try using .loc[row_indexer,col_indexer] = value instead\n",
      "\n",
      "See the caveats in the documentation: https://pandas.pydata.org/pandas-docs/stable/user_guide/indexing.html#returning-a-view-versus-a-copy\n",
      "  missing_lsoa_df.loc[:,'street_number2'] = missing_lsoa_df.loc[:,'street_number'].str.replace(r\"^.*(?=\\b[0-9]+$)\", \"\").str.replace(r\"[^\\d]\", \"\", regex = True)\n",
      "/tf/empty_homes_london/helper_functions.py:272: SettingWithCopyWarning: \n",
      "A value is trying to be set on a copy of a slice from a DataFrame.\n",
      "Try using .loc[row_indexer,col_indexer] = value instead\n",
      "\n",
      "See the caveats in the documentation: https://pandas.pydata.org/pandas-docs/stable/user_guide/indexing.html#returning-a-view-versus-a-copy\n",
      "  temp_multi['number_filter'] = filter_types\n"
     ]
    },
    {
     "name": "stdout",
     "output_type": "stream",
     "text": [
      "i= 0  expand time,0.001 filter time0.0 make_dataframe_time 0.001\n",
      "churchroad\n",
      "stationroad\n",
      "pinnerroad\n",
      "bridgestreet\n",
      "raynerlane\n"
     ]
    },
    {
     "name": "stderr",
     "output_type": "stream",
     "text": [
      "<ipython-input-13-8bc6428979cb>:35: SettingWithCopyWarning: \n",
      "A value is trying to be set on a copy of a slice from a DataFrame.\n",
      "Try using .loc[row_indexer,col_indexer] = value instead\n",
      "\n",
      "See the caveats in the documentation: https://pandas.pydata.org/pandas-docs/stable/user_guide/indexing.html#returning-a-view-versus-a-copy\n",
      "  missing_lsoa_road['lsoa11cd'] = [street_number_to_lsoa(temp_road, int(missing_lsoa_road.iloc[missing_lsoa_row]['street_number2']))\n"
     ]
    },
    {
     "name": "stdout",
     "output_type": "stream",
     "text": [
      "welldoncrescent\n",
      "northoltroad\n",
      "kentonroad\n",
      "E06000030\n"
     ]
    },
    {
     "name": "stderr",
     "output_type": "stream",
     "text": [
      "<ipython-input-13-8bc6428979cb>:9: FutureWarning: The default value of regex will change from True to False in a future version.\n",
      "  missing_lsoa_df.loc[:,'street_number2'] = missing_lsoa_df.loc[:,'street_number'].str.replace(r\"^.*(?=\\b[0-9]+$)\", \"\").str.replace(r\"[^\\d]\", \"\", regex = True)\n",
      "<ipython-input-13-8bc6428979cb>:9: SettingWithCopyWarning: \n",
      "A value is trying to be set on a copy of a slice from a DataFrame.\n",
      "Try using .loc[row_indexer,col_indexer] = value instead\n",
      "\n",
      "See the caveats in the documentation: https://pandas.pydata.org/pandas-docs/stable/user_guide/indexing.html#returning-a-view-versus-a-copy\n",
      "  missing_lsoa_df.loc[:,'street_number2'] = missing_lsoa_df.loc[:,'street_number'].str.replace(r\"^.*(?=\\b[0-9]+$)\", \"\").str.replace(r\"[^\\d]\", \"\", regex = True)\n",
      "/tf/empty_homes_london/helper_functions.py:272: SettingWithCopyWarning: \n",
      "A value is trying to be set on a copy of a slice from a DataFrame.\n",
      "Try using .loc[row_indexer,col_indexer] = value instead\n",
      "\n",
      "See the caveats in the documentation: https://pandas.pydata.org/pandas-docs/stable/user_guide/indexing.html#returning-a-view-versus-a-copy\n",
      "  temp_multi['number_filter'] = filter_types\n",
      "<ipython-input-13-8bc6428979cb>:35: SettingWithCopyWarning: \n",
      "A value is trying to be set on a copy of a slice from a DataFrame.\n",
      "Try using .loc[row_indexer,col_indexer] = value instead\n",
      "\n",
      "See the caveats in the documentation: https://pandas.pydata.org/pandas-docs/stable/user_guide/indexing.html#returning-a-view-versus-a-copy\n",
      "  missing_lsoa_road['lsoa11cd'] = [street_number_to_lsoa(temp_road, int(missing_lsoa_road.iloc[missing_lsoa_row]['street_number2']))\n",
      "<ipython-input-13-8bc6428979cb>:9: FutureWarning: The default value of regex will change from True to False in a future version.\n",
      "  missing_lsoa_df.loc[:,'street_number2'] = missing_lsoa_df.loc[:,'street_number'].str.replace(r\"^.*(?=\\b[0-9]+$)\", \"\").str.replace(r\"[^\\d]\", \"\", regex = True)\n",
      "<ipython-input-13-8bc6428979cb>:9: SettingWithCopyWarning: \n",
      "A value is trying to be set on a copy of a slice from a DataFrame.\n",
      "Try using .loc[row_indexer,col_indexer] = value instead\n",
      "\n",
      "See the caveats in the documentation: https://pandas.pydata.org/pandas-docs/stable/user_guide/indexing.html#returning-a-view-versus-a-copy\n",
      "  missing_lsoa_df.loc[:,'street_number2'] = missing_lsoa_df.loc[:,'street_number'].str.replace(r\"^.*(?=\\b[0-9]+$)\", \"\").str.replace(r\"[^\\d]\", \"\", regex = True)\n"
     ]
    },
    {
     "name": "stdout",
     "output_type": "stream",
     "text": [
      "i= 0  expand time,0.0 filter time0.0 make_dataframe_time 0.001\n",
      "mazurekway\n",
      "regentstreet\n",
      "E08000012\n"
     ]
    },
    {
     "name": "stderr",
     "output_type": "stream",
     "text": [
      "/tf/empty_homes_london/helper_functions.py:272: SettingWithCopyWarning: \n",
      "A value is trying to be set on a copy of a slice from a DataFrame.\n",
      "Try using .loc[row_indexer,col_indexer] = value instead\n",
      "\n",
      "See the caveats in the documentation: https://pandas.pydata.org/pandas-docs/stable/user_guide/indexing.html#returning-a-view-versus-a-copy\n",
      "  temp_multi['number_filter'] = filter_types\n"
     ]
    },
    {
     "name": "stdout",
     "output_type": "stream",
     "text": [
      "i= 0  expand time,0.0 filter time0.0 make_dataframe_time 0.001\n",
      "londonroad\n",
      "deysbrooklane\n",
      "constancestreet\n",
      "gladstoneroad\n"
     ]
    },
    {
     "name": "stderr",
     "output_type": "stream",
     "text": [
      "<ipython-input-13-8bc6428979cb>:35: SettingWithCopyWarning: \n",
      "A value is trying to be set on a copy of a slice from a DataFrame.\n",
      "Try using .loc[row_indexer,col_indexer] = value instead\n",
      "\n",
      "See the caveats in the documentation: https://pandas.pydata.org/pandas-docs/stable/user_guide/indexing.html#returning-a-view-versus-a-copy\n",
      "  missing_lsoa_road['lsoa11cd'] = [street_number_to_lsoa(temp_road, int(missing_lsoa_road.iloc[missing_lsoa_row]['street_number2']))\n"
     ]
    },
    {
     "name": "stdout",
     "output_type": "stream",
     "text": [
      "edgelane\n",
      "bromptonroad\n",
      "shotwickstreet\n",
      "wenhamstreet\n",
      "thistlewoodroad\n",
      "dukestreet\n",
      "gradwellstreet\n",
      "houldingstreet\n",
      "henrystreet\n",
      "glengariffstreet\n",
      "mablane\n",
      "croxtethhalllane\n",
      "churchroad\n",
      "queendrive\n",
      "woodstreet\n",
      "fleetstreet\n",
      "stmaryroad\n",
      "wellingtonstreet\n",
      "knoclaidroad\n",
      "crownstreet\n",
      "standrewgardens\n",
      "stanleystreet\n",
      "deckingconstructedovertherailway\n",
      "shawstreet\n",
      "greathomerstreet\n",
      "myrtlestreet\n",
      "aigburthroad\n",
      "dalestreet\n",
      "falknerstreet\n",
      "E06000050\n"
     ]
    },
    {
     "name": "stderr",
     "output_type": "stream",
     "text": [
      "<ipython-input-13-8bc6428979cb>:9: FutureWarning: The default value of regex will change from True to False in a future version.\n",
      "  missing_lsoa_df.loc[:,'street_number2'] = missing_lsoa_df.loc[:,'street_number'].str.replace(r\"^.*(?=\\b[0-9]+$)\", \"\").str.replace(r\"[^\\d]\", \"\", regex = True)\n",
      "<ipython-input-13-8bc6428979cb>:9: SettingWithCopyWarning: \n",
      "A value is trying to be set on a copy of a slice from a DataFrame.\n",
      "Try using .loc[row_indexer,col_indexer] = value instead\n",
      "\n",
      "See the caveats in the documentation: https://pandas.pydata.org/pandas-docs/stable/user_guide/indexing.html#returning-a-view-versus-a-copy\n",
      "  missing_lsoa_df.loc[:,'street_number2'] = missing_lsoa_df.loc[:,'street_number'].str.replace(r\"^.*(?=\\b[0-9]+$)\", \"\").str.replace(r\"[^\\d]\", \"\", regex = True)\n",
      "/tf/empty_homes_london/helper_functions.py:272: SettingWithCopyWarning: \n",
      "A value is trying to be set on a copy of a slice from a DataFrame.\n",
      "Try using .loc[row_indexer,col_indexer] = value instead\n",
      "\n",
      "See the caveats in the documentation: https://pandas.pydata.org/pandas-docs/stable/user_guide/indexing.html#returning-a-view-versus-a-copy\n",
      "  temp_multi['number_filter'] = filter_types\n",
      "<ipython-input-13-8bc6428979cb>:35: SettingWithCopyWarning: \n",
      "A value is trying to be set on a copy of a slice from a DataFrame.\n",
      "Try using .loc[row_indexer,col_indexer] = value instead\n",
      "\n",
      "See the caveats in the documentation: https://pandas.pydata.org/pandas-docs/stable/user_guide/indexing.html#returning-a-view-versus-a-copy\n",
      "  missing_lsoa_road['lsoa11cd'] = [street_number_to_lsoa(temp_road, int(missing_lsoa_road.iloc[missing_lsoa_row]['street_number2']))\n"
     ]
    },
    {
     "name": "stdout",
     "output_type": "stream",
     "text": [
      "i= 0  expand time,0.0 filter time0.0 make_dataframe_time 0.001\n",
      "marinawalk\n",
      "marinadrive\n",
      "bridgestreet\n",
      "bridgestreetrow\n",
      "marketsquare\n",
      "chesterroad\n",
      "E08000010\n"
     ]
    },
    {
     "name": "stderr",
     "output_type": "stream",
     "text": [
      "<ipython-input-13-8bc6428979cb>:9: FutureWarning: The default value of regex will change from True to False in a future version.\n",
      "  missing_lsoa_df.loc[:,'street_number2'] = missing_lsoa_df.loc[:,'street_number'].str.replace(r\"^.*(?=\\b[0-9]+$)\", \"\").str.replace(r\"[^\\d]\", \"\", regex = True)\n",
      "<ipython-input-13-8bc6428979cb>:9: SettingWithCopyWarning: \n",
      "A value is trying to be set on a copy of a slice from a DataFrame.\n",
      "Try using .loc[row_indexer,col_indexer] = value instead\n",
      "\n",
      "See the caveats in the documentation: https://pandas.pydata.org/pandas-docs/stable/user_guide/indexing.html#returning-a-view-versus-a-copy\n",
      "  missing_lsoa_df.loc[:,'street_number2'] = missing_lsoa_df.loc[:,'street_number'].str.replace(r\"^.*(?=\\b[0-9]+$)\", \"\").str.replace(r\"[^\\d]\", \"\", regex = True)\n",
      "/tf/empty_homes_london/helper_functions.py:272: SettingWithCopyWarning: \n",
      "A value is trying to be set on a copy of a slice from a DataFrame.\n",
      "Try using .loc[row_indexer,col_indexer] = value instead\n",
      "\n",
      "See the caveats in the documentation: https://pandas.pydata.org/pandas-docs/stable/user_guide/indexing.html#returning-a-view-versus-a-copy\n",
      "  temp_multi['number_filter'] = filter_types\n"
     ]
    },
    {
     "name": "stdout",
     "output_type": "stream",
     "text": [
      "i= 0  expand time,0.0 filter time0.0 make_dataframe_time 0.001\n",
      "wiganroad\n"
     ]
    },
    {
     "name": "stderr",
     "output_type": "stream",
     "text": [
      "<ipython-input-13-8bc6428979cb>:35: SettingWithCopyWarning: \n",
      "A value is trying to be set on a copy of a slice from a DataFrame.\n",
      "Try using .loc[row_indexer,col_indexer] = value instead\n",
      "\n",
      "See the caveats in the documentation: https://pandas.pydata.org/pandas-docs/stable/user_guide/indexing.html#returning-a-view-versus-a-copy\n",
      "  missing_lsoa_road['lsoa11cd'] = [street_number_to_lsoa(temp_road, int(missing_lsoa_road.iloc[missing_lsoa_row]['street_number2']))\n"
     ]
    },
    {
     "name": "stdout",
     "output_type": "stream",
     "text": [
      "tyldesleyroad\n",
      "huntstreet\n",
      "elizabethstreet\n",
      "boltonroad\n",
      "boltonoldroad\n",
      "baglane\n",
      "mealhouselane\n",
      "sumnerstreet\n",
      "marketstreet\n",
      "leighroad\n",
      "earlstreet\n",
      "bridgestreet\n",
      "coatpitlane\n",
      "gloucesterstreet\n",
      "heskethstreet\n",
      "barnepassage\n",
      "nelsonstreet\n",
      "bradshawstreet\n",
      "smithstreet\n",
      "worsleystreet\n",
      "belgraveclose\n",
      "mosleycommonroad\n",
      "E07000070\n"
     ]
    },
    {
     "name": "stderr",
     "output_type": "stream",
     "text": [
      "<ipython-input-13-8bc6428979cb>:9: FutureWarning: The default value of regex will change from True to False in a future version.\n",
      "  missing_lsoa_df.loc[:,'street_number2'] = missing_lsoa_df.loc[:,'street_number'].str.replace(r\"^.*(?=\\b[0-9]+$)\", \"\").str.replace(r\"[^\\d]\", \"\", regex = True)\n",
      "<ipython-input-13-8bc6428979cb>:9: SettingWithCopyWarning: \n",
      "A value is trying to be set on a copy of a slice from a DataFrame.\n",
      "Try using .loc[row_indexer,col_indexer] = value instead\n",
      "\n",
      "See the caveats in the documentation: https://pandas.pydata.org/pandas-docs/stable/user_guide/indexing.html#returning-a-view-versus-a-copy\n",
      "  missing_lsoa_df.loc[:,'street_number2'] = missing_lsoa_df.loc[:,'street_number'].str.replace(r\"^.*(?=\\b[0-9]+$)\", \"\").str.replace(r\"[^\\d]\", \"\", regex = True)\n",
      "/tf/empty_homes_london/helper_functions.py:272: SettingWithCopyWarning: \n",
      "A value is trying to be set on a copy of a slice from a DataFrame.\n",
      "Try using .loc[row_indexer,col_indexer] = value instead\n",
      "\n",
      "See the caveats in the documentation: https://pandas.pydata.org/pandas-docs/stable/user_guide/indexing.html#returning-a-view-versus-a-copy\n",
      "  temp_multi['number_filter'] = filter_types\n",
      "<ipython-input-13-8bc6428979cb>:35: SettingWithCopyWarning: \n",
      "A value is trying to be set on a copy of a slice from a DataFrame.\n",
      "Try using .loc[row_indexer,col_indexer] = value instead\n",
      "\n",
      "See the caveats in the documentation: https://pandas.pydata.org/pandas-docs/stable/user_guide/indexing.html#returning-a-view-versus-a-copy\n",
      "  missing_lsoa_road['lsoa11cd'] = [street_number_to_lsoa(temp_road, int(missing_lsoa_road.iloc[missing_lsoa_row]['street_number2']))\n",
      "<ipython-input-13-8bc6428979cb>:9: FutureWarning: The default value of regex will change from True to False in a future version.\n",
      "  missing_lsoa_df.loc[:,'street_number2'] = missing_lsoa_df.loc[:,'street_number'].str.replace(r\"^.*(?=\\b[0-9]+$)\", \"\").str.replace(r\"[^\\d]\", \"\", regex = True)\n",
      "<ipython-input-13-8bc6428979cb>:9: SettingWithCopyWarning: \n",
      "A value is trying to be set on a copy of a slice from a DataFrame.\n",
      "Try using .loc[row_indexer,col_indexer] = value instead\n",
      "\n",
      "See the caveats in the documentation: https://pandas.pydata.org/pandas-docs/stable/user_guide/indexing.html#returning-a-view-versus-a-copy\n",
      "  missing_lsoa_df.loc[:,'street_number2'] = missing_lsoa_df.loc[:,'street_number'].str.replace(r\"^.*(?=\\b[0-9]+$)\", \"\").str.replace(r\"[^\\d]\", \"\", regex = True)\n"
     ]
    },
    {
     "name": "stdout",
     "output_type": "stream",
     "text": [
      "i= 0  expand time,0.0 filter time0.0 make_dataframe_time 0.001\n",
      "langfordplace\n",
      "stonhamplace\n",
      "moulshamstreet\n",
      "barracksquare\n",
      "newlondonroad\n",
      "E09000022\n"
     ]
    },
    {
     "name": "stderr",
     "output_type": "stream",
     "text": [
      "/tf/empty_homes_london/helper_functions.py:272: SettingWithCopyWarning: \n",
      "A value is trying to be set on a copy of a slice from a DataFrame.\n",
      "Try using .loc[row_indexer,col_indexer] = value instead\n",
      "\n",
      "See the caveats in the documentation: https://pandas.pydata.org/pandas-docs/stable/user_guide/indexing.html#returning-a-view-versus-a-copy\n",
      "  temp_multi['number_filter'] = filter_types\n"
     ]
    },
    {
     "name": "stdout",
     "output_type": "stream",
     "text": [
      "i= 0  expand time,0.0 filter time0.0 make_dataframe_time 0.001\n",
      "southlambethroad\n",
      "streathamhighroad\n",
      "brixtonroad\n"
     ]
    },
    {
     "name": "stderr",
     "output_type": "stream",
     "text": [
      "<ipython-input-13-8bc6428979cb>:35: SettingWithCopyWarning: \n",
      "A value is trying to be set on a copy of a slice from a DataFrame.\n",
      "Try using .loc[row_indexer,col_indexer] = value instead\n",
      "\n",
      "See the caveats in the documentation: https://pandas.pydata.org/pandas-docs/stable/user_guide/indexing.html#returning-a-view-versus-a-copy\n",
      "  missing_lsoa_road['lsoa11cd'] = [street_number_to_lsoa(temp_road, int(missing_lsoa_road.iloc[missing_lsoa_row]['street_number2']))\n"
     ]
    },
    {
     "name": "stdout",
     "output_type": "stream",
     "text": [
      "atlanticroad\n",
      "stgeorgewharf,\n",
      "claphamparkroad\n",
      "wandsworthroad\n",
      "lansdowneway\n",
      "brixtonhill\n",
      "newparkroad\n",
      "kenningtonroad\n",
      "stockwellroad\n",
      "stockwellavenue\n",
      "sunnyhillroad\n",
      "claphamroad\n",
      "claphammanorstreet\n",
      "thurlowparkroad\n",
      "leighamcourtroad\n",
      "ellisonroad\n",
      "effraroad\n",
      "E06000047\n"
     ]
    },
    {
     "name": "stderr",
     "output_type": "stream",
     "text": [
      "<ipython-input-13-8bc6428979cb>:9: FutureWarning: The default value of regex will change from True to False in a future version.\n",
      "  missing_lsoa_df.loc[:,'street_number2'] = missing_lsoa_df.loc[:,'street_number'].str.replace(r\"^.*(?=\\b[0-9]+$)\", \"\").str.replace(r\"[^\\d]\", \"\", regex = True)\n",
      "<ipython-input-13-8bc6428979cb>:9: SettingWithCopyWarning: \n",
      "A value is trying to be set on a copy of a slice from a DataFrame.\n",
      "Try using .loc[row_indexer,col_indexer] = value instead\n",
      "\n",
      "See the caveats in the documentation: https://pandas.pydata.org/pandas-docs/stable/user_guide/indexing.html#returning-a-view-versus-a-copy\n",
      "  missing_lsoa_df.loc[:,'street_number2'] = missing_lsoa_df.loc[:,'street_number'].str.replace(r\"^.*(?=\\b[0-9]+$)\", \"\").str.replace(r\"[^\\d]\", \"\", regex = True)\n",
      "/tf/empty_homes_london/helper_functions.py:272: SettingWithCopyWarning: \n",
      "A value is trying to be set on a copy of a slice from a DataFrame.\n",
      "Try using .loc[row_indexer,col_indexer] = value instead\n",
      "\n",
      "See the caveats in the documentation: https://pandas.pydata.org/pandas-docs/stable/user_guide/indexing.html#returning-a-view-versus-a-copy\n",
      "  temp_multi['number_filter'] = filter_types\n",
      "<ipython-input-13-8bc6428979cb>:35: SettingWithCopyWarning: \n",
      "A value is trying to be set on a copy of a slice from a DataFrame.\n",
      "Try using .loc[row_indexer,col_indexer] = value instead\n",
      "\n",
      "See the caveats in the documentation: https://pandas.pydata.org/pandas-docs/stable/user_guide/indexing.html#returning-a-view-versus-a-copy\n",
      "  missing_lsoa_road['lsoa11cd'] = [street_number_to_lsoa(temp_road, int(missing_lsoa_road.iloc[missing_lsoa_row]['street_number2']))\n",
      "<ipython-input-13-8bc6428979cb>:9: FutureWarning: The default value of regex will change from True to False in a future version.\n",
      "  missing_lsoa_df.loc[:,'street_number2'] = missing_lsoa_df.loc[:,'street_number'].str.replace(r\"^.*(?=\\b[0-9]+$)\", \"\").str.replace(r\"[^\\d]\", \"\", regex = True)\n",
      "<ipython-input-13-8bc6428979cb>:9: SettingWithCopyWarning: \n",
      "A value is trying to be set on a copy of a slice from a DataFrame.\n",
      "Try using .loc[row_indexer,col_indexer] = value instead\n",
      "\n",
      "See the caveats in the documentation: https://pandas.pydata.org/pandas-docs/stable/user_guide/indexing.html#returning-a-view-versus-a-copy\n",
      "  missing_lsoa_df.loc[:,'street_number2'] = missing_lsoa_df.loc[:,'street_number'].str.replace(r\"^.*(?=\\b[0-9]+$)\", \"\").str.replace(r\"[^\\d]\", \"\", regex = True)\n"
     ]
    },
    {
     "name": "stdout",
     "output_type": "stream",
     "text": [
      "i= 0  expand time,0.0 filter time0.0 make_dataframe_time 0.001\n",
      "winchesterdrive\n",
      "foxcoverenterprisepark\n",
      "frontstreet\n",
      "E08000033\n"
     ]
    },
    {
     "name": "stderr",
     "output_type": "stream",
     "text": [
      "/tf/empty_homes_london/helper_functions.py:272: SettingWithCopyWarning: \n",
      "A value is trying to be set on a copy of a slice from a DataFrame.\n",
      "Try using .loc[row_indexer,col_indexer] = value instead\n",
      "\n",
      "See the caveats in the documentation: https://pandas.pydata.org/pandas-docs/stable/user_guide/indexing.html#returning-a-view-versus-a-copy\n",
      "  temp_multi['number_filter'] = filter_types\n",
      "<ipython-input-13-8bc6428979cb>:35: SettingWithCopyWarning: \n",
      "A value is trying to be set on a copy of a slice from a DataFrame.\n",
      "Try using .loc[row_indexer,col_indexer] = value instead\n",
      "\n",
      "See the caveats in the documentation: https://pandas.pydata.org/pandas-docs/stable/user_guide/indexing.html#returning-a-view-versus-a-copy\n",
      "  missing_lsoa_road['lsoa11cd'] = [street_number_to_lsoa(temp_road, int(missing_lsoa_road.iloc[missing_lsoa_row]['street_number2']))\n",
      "<ipython-input-13-8bc6428979cb>:9: FutureWarning: The default value of regex will change from True to False in a future version.\n",
      "  missing_lsoa_df.loc[:,'street_number2'] = missing_lsoa_df.loc[:,'street_number'].str.replace(r\"^.*(?=\\b[0-9]+$)\", \"\").str.replace(r\"[^\\d]\", \"\", regex = True)\n",
      "<ipython-input-13-8bc6428979cb>:9: SettingWithCopyWarning: \n",
      "A value is trying to be set on a copy of a slice from a DataFrame.\n",
      "Try using .loc[row_indexer,col_indexer] = value instead\n",
      "\n",
      "See the caveats in the documentation: https://pandas.pydata.org/pandas-docs/stable/user_guide/indexing.html#returning-a-view-versus-a-copy\n",
      "  missing_lsoa_df.loc[:,'street_number2'] = missing_lsoa_df.loc[:,'street_number'].str.replace(r\"^.*(?=\\b[0-9]+$)\", \"\").str.replace(r\"[^\\d]\", \"\", regex = True)\n"
     ]
    },
    {
     "name": "stdout",
     "output_type": "stream",
     "text": [
      "i= 0  expand time,0.0 filter time0.0 make_dataframe_time 0.001\n",
      "commercialstreet\n",
      "briggate\n",
      "georgestreet\n",
      "beaconhillroad\n",
      "rochdaleroad\n",
      "E07000144\n"
     ]
    },
    {
     "name": "stderr",
     "output_type": "stream",
     "text": [
      "/tf/empty_homes_london/helper_functions.py:272: SettingWithCopyWarning: \n",
      "A value is trying to be set on a copy of a slice from a DataFrame.\n",
      "Try using .loc[row_indexer,col_indexer] = value instead\n",
      "\n",
      "See the caveats in the documentation: https://pandas.pydata.org/pandas-docs/stable/user_guide/indexing.html#returning-a-view-versus-a-copy\n",
      "  temp_multi['number_filter'] = filter_types\n",
      "<ipython-input-13-8bc6428979cb>:9: FutureWarning: The default value of regex will change from True to False in a future version.\n",
      "  missing_lsoa_df.loc[:,'street_number2'] = missing_lsoa_df.loc[:,'street_number'].str.replace(r\"^.*(?=\\b[0-9]+$)\", \"\").str.replace(r\"[^\\d]\", \"\", regex = True)\n",
      "<ipython-input-13-8bc6428979cb>:9: SettingWithCopyWarning: \n",
      "A value is trying to be set on a copy of a slice from a DataFrame.\n",
      "Try using .loc[row_indexer,col_indexer] = value instead\n",
      "\n",
      "See the caveats in the documentation: https://pandas.pydata.org/pandas-docs/stable/user_guide/indexing.html#returning-a-view-versus-a-copy\n",
      "  missing_lsoa_df.loc[:,'street_number2'] = missing_lsoa_df.loc[:,'street_number'].str.replace(r\"^.*(?=\\b[0-9]+$)\", \"\").str.replace(r\"[^\\d]\", \"\", regex = True)\n"
     ]
    },
    {
     "name": "stdout",
     "output_type": "stream",
     "text": [
      "i= 0  expand time,0.0 filter time0.0 make_dataframe_time 0.001\n",
      "roundtreeway\n",
      "E07000146\n"
     ]
    },
    {
     "name": "stderr",
     "output_type": "stream",
     "text": [
      "/tf/empty_homes_london/helper_functions.py:272: SettingWithCopyWarning: \n",
      "A value is trying to be set on a copy of a slice from a DataFrame.\n",
      "Try using .loc[row_indexer,col_indexer] = value instead\n",
      "\n",
      "See the caveats in the documentation: https://pandas.pydata.org/pandas-docs/stable/user_guide/indexing.html#returning-a-view-versus-a-copy\n",
      "  temp_multi['number_filter'] = filter_types\n",
      "<ipython-input-13-8bc6428979cb>:9: FutureWarning: The default value of regex will change from True to False in a future version.\n",
      "  missing_lsoa_df.loc[:,'street_number2'] = missing_lsoa_df.loc[:,'street_number'].str.replace(r\"^.*(?=\\b[0-9]+$)\", \"\").str.replace(r\"[^\\d]\", \"\", regex = True)\n",
      "<ipython-input-13-8bc6428979cb>:9: SettingWithCopyWarning: \n",
      "A value is trying to be set on a copy of a slice from a DataFrame.\n",
      "Try using .loc[row_indexer,col_indexer] = value instead\n",
      "\n",
      "See the caveats in the documentation: https://pandas.pydata.org/pandas-docs/stable/user_guide/indexing.html#returning-a-view-versus-a-copy\n",
      "  missing_lsoa_df.loc[:,'street_number2'] = missing_lsoa_df.loc[:,'street_number'].str.replace(r\"^.*(?=\\b[0-9]+$)\", \"\").str.replace(r\"[^\\d]\", \"\", regex = True)\n"
     ]
    },
    {
     "name": "stdout",
     "output_type": "stream",
     "text": [
      "i= 0  expand time,0.0 filter time0.0 make_dataframe_time 0.001\n",
      "stationroad\n",
      "E08000007\n"
     ]
    },
    {
     "name": "stderr",
     "output_type": "stream",
     "text": [
      "/tf/empty_homes_london/helper_functions.py:272: SettingWithCopyWarning: \n",
      "A value is trying to be set on a copy of a slice from a DataFrame.\n",
      "Try using .loc[row_indexer,col_indexer] = value instead\n",
      "\n",
      "See the caveats in the documentation: https://pandas.pydata.org/pandas-docs/stable/user_guide/indexing.html#returning-a-view-versus-a-copy\n",
      "  temp_multi['number_filter'] = filter_types\n",
      "<ipython-input-13-8bc6428979cb>:35: SettingWithCopyWarning: \n",
      "A value is trying to be set on a copy of a slice from a DataFrame.\n",
      "Try using .loc[row_indexer,col_indexer] = value instead\n",
      "\n",
      "See the caveats in the documentation: https://pandas.pydata.org/pandas-docs/stable/user_guide/indexing.html#returning-a-view-versus-a-copy\n",
      "  missing_lsoa_road['lsoa11cd'] = [street_number_to_lsoa(temp_road, int(missing_lsoa_road.iloc[missing_lsoa_row]['street_number2']))\n",
      "<ipython-input-13-8bc6428979cb>:9: FutureWarning: The default value of regex will change from True to False in a future version.\n",
      "  missing_lsoa_df.loc[:,'street_number2'] = missing_lsoa_df.loc[:,'street_number'].str.replace(r\"^.*(?=\\b[0-9]+$)\", \"\").str.replace(r\"[^\\d]\", \"\", regex = True)\n"
     ]
    },
    {
     "name": "stdout",
     "output_type": "stream",
     "text": [
      "i= 0  expand time,0.0 filter time0.0 make_dataframe_time 0.001\n",
      "colwynroad\n",
      "stockportroad\n",
      "gatleyroad\n",
      "highstreet\n",
      "gorseybrow\n",
      "E08000035\n"
     ]
    },
    {
     "name": "stderr",
     "output_type": "stream",
     "text": [
      "<ipython-input-13-8bc6428979cb>:9: SettingWithCopyWarning: \n",
      "A value is trying to be set on a copy of a slice from a DataFrame.\n",
      "Try using .loc[row_indexer,col_indexer] = value instead\n",
      "\n",
      "See the caveats in the documentation: https://pandas.pydata.org/pandas-docs/stable/user_guide/indexing.html#returning-a-view-versus-a-copy\n",
      "  missing_lsoa_df.loc[:,'street_number2'] = missing_lsoa_df.loc[:,'street_number'].str.replace(r\"^.*(?=\\b[0-9]+$)\", \"\").str.replace(r\"[^\\d]\", \"\", regex = True)\n",
      "/tf/empty_homes_london/helper_functions.py:272: SettingWithCopyWarning: \n",
      "A value is trying to be set on a copy of a slice from a DataFrame.\n",
      "Try using .loc[row_indexer,col_indexer] = value instead\n",
      "\n",
      "See the caveats in the documentation: https://pandas.pydata.org/pandas-docs/stable/user_guide/indexing.html#returning-a-view-versus-a-copy\n",
      "  temp_multi['number_filter'] = filter_types\n",
      "<ipython-input-13-8bc6428979cb>:35: SettingWithCopyWarning: \n",
      "A value is trying to be set on a copy of a slice from a DataFrame.\n",
      "Try using .loc[row_indexer,col_indexer] = value instead\n",
      "\n",
      "See the caveats in the documentation: https://pandas.pydata.org/pandas-docs/stable/user_guide/indexing.html#returning-a-view-versus-a-copy\n",
      "  missing_lsoa_road['lsoa11cd'] = [street_number_to_lsoa(temp_road, int(missing_lsoa_road.iloc[missing_lsoa_row]['street_number2']))\n"
     ]
    },
    {
     "name": "stdout",
     "output_type": "stream",
     "text": [
      "i= 0  expand time,0.0 filter time0.0 make_dataframe_time 0.001\n",
      "calllane\n",
      "northlane\n",
      "otleyroad\n",
      "highstreet\n",
      "briggate\n",
      "queenstreet\n",
      "yorkplace\n",
      "wakefieldroad\n",
      "calverleystreet\n",
      "skinnerlane\n",
      "kirkgate\n",
      "theheadrow\n",
      "parkrow\n",
      "victoriaroad\n",
      "albionstreet\n",
      "watermanplace\n",
      "andnorthofavenue\n",
      "wellingtonroad\n",
      "roundhayroad\n",
      "E07000067\n"
     ]
    },
    {
     "name": "stderr",
     "output_type": "stream",
     "text": [
      "<ipython-input-13-8bc6428979cb>:9: FutureWarning: The default value of regex will change from True to False in a future version.\n",
      "  missing_lsoa_df.loc[:,'street_number2'] = missing_lsoa_df.loc[:,'street_number'].str.replace(r\"^.*(?=\\b[0-9]+$)\", \"\").str.replace(r\"[^\\d]\", \"\", regex = True)\n",
      "<ipython-input-13-8bc6428979cb>:9: SettingWithCopyWarning: \n",
      "A value is trying to be set on a copy of a slice from a DataFrame.\n",
      "Try using .loc[row_indexer,col_indexer] = value instead\n",
      "\n",
      "See the caveats in the documentation: https://pandas.pydata.org/pandas-docs/stable/user_guide/indexing.html#returning-a-view-versus-a-copy\n",
      "  missing_lsoa_df.loc[:,'street_number2'] = missing_lsoa_df.loc[:,'street_number'].str.replace(r\"^.*(?=\\b[0-9]+$)\", \"\").str.replace(r\"[^\\d]\", \"\", regex = True)\n",
      "/tf/empty_homes_london/helper_functions.py:272: SettingWithCopyWarning: \n",
      "A value is trying to be set on a copy of a slice from a DataFrame.\n",
      "Try using .loc[row_indexer,col_indexer] = value instead\n",
      "\n",
      "See the caveats in the documentation: https://pandas.pydata.org/pandas-docs/stable/user_guide/indexing.html#returning-a-view-versus-a-copy\n",
      "  temp_multi['number_filter'] = filter_types\n",
      "<ipython-input-13-8bc6428979cb>:35: SettingWithCopyWarning: \n",
      "A value is trying to be set on a copy of a slice from a DataFrame.\n",
      "Try using .loc[row_indexer,col_indexer] = value instead\n",
      "\n",
      "See the caveats in the documentation: https://pandas.pydata.org/pandas-docs/stable/user_guide/indexing.html#returning-a-view-versus-a-copy\n",
      "  missing_lsoa_road['lsoa11cd'] = [street_number_to_lsoa(temp_road, int(missing_lsoa_road.iloc[missing_lsoa_row]['street_number2']))\n",
      "<ipython-input-13-8bc6428979cb>:9: FutureWarning: The default value of regex will change from True to False in a future version.\n",
      "  missing_lsoa_df.loc[:,'street_number2'] = missing_lsoa_df.loc[:,'street_number'].str.replace(r\"^.*(?=\\b[0-9]+$)\", \"\").str.replace(r\"[^\\d]\", \"\", regex = True)\n",
      "<ipython-input-13-8bc6428979cb>:9: SettingWithCopyWarning: \n",
      "A value is trying to be set on a copy of a slice from a DataFrame.\n",
      "Try using .loc[row_indexer,col_indexer] = value instead\n",
      "\n",
      "See the caveats in the documentation: https://pandas.pydata.org/pandas-docs/stable/user_guide/indexing.html#returning-a-view-versus-a-copy\n",
      "  missing_lsoa_df.loc[:,'street_number2'] = missing_lsoa_df.loc[:,'street_number'].str.replace(r\"^.*(?=\\b[0-9]+$)\", \"\").str.replace(r\"[^\\d]\", \"\", regex = True)\n"
     ]
    },
    {
     "name": "stdout",
     "output_type": "stream",
     "text": [
      "i= 0  expand time,0.0 filter time0.0 make_dataframe_time 0.001\n",
      "freebourneroad\n",
      "newlandstreet\n",
      "E07000083\n"
     ]
    },
    {
     "name": "stderr",
     "output_type": "stream",
     "text": [
      "/tf/empty_homes_london/helper_functions.py:272: SettingWithCopyWarning: \n",
      "A value is trying to be set on a copy of a slice from a DataFrame.\n",
      "Try using .loc[row_indexer,col_indexer] = value instead\n",
      "\n",
      "See the caveats in the documentation: https://pandas.pydata.org/pandas-docs/stable/user_guide/indexing.html#returning-a-view-versus-a-copy\n",
      "  temp_multi['number_filter'] = filter_types\n",
      "<ipython-input-13-8bc6428979cb>:35: SettingWithCopyWarning: \n",
      "A value is trying to be set on a copy of a slice from a DataFrame.\n",
      "Try using .loc[row_indexer,col_indexer] = value instead\n",
      "\n",
      "See the caveats in the documentation: https://pandas.pydata.org/pandas-docs/stable/user_guide/indexing.html#returning-a-view-versus-a-copy\n",
      "  missing_lsoa_road['lsoa11cd'] = [street_number_to_lsoa(temp_road, int(missing_lsoa_road.iloc[missing_lsoa_row]['street_number2']))\n",
      "<ipython-input-13-8bc6428979cb>:9: FutureWarning: The default value of regex will change from True to False in a future version.\n",
      "  missing_lsoa_df.loc[:,'street_number2'] = missing_lsoa_df.loc[:,'street_number'].str.replace(r\"^.*(?=\\b[0-9]+$)\", \"\").str.replace(r\"[^\\d]\", \"\", regex = True)\n",
      "<ipython-input-13-8bc6428979cb>:9: SettingWithCopyWarning: \n",
      "A value is trying to be set on a copy of a slice from a DataFrame.\n",
      "Try using .loc[row_indexer,col_indexer] = value instead\n",
      "\n",
      "See the caveats in the documentation: https://pandas.pydata.org/pandas-docs/stable/user_guide/indexing.html#returning-a-view-versus-a-copy\n",
      "  missing_lsoa_df.loc[:,'street_number2'] = missing_lsoa_df.loc[:,'street_number'].str.replace(r\"^.*(?=\\b[0-9]+$)\", \"\").str.replace(r\"[^\\d]\", \"\", regex = True)\n"
     ]
    },
    {
     "name": "stdout",
     "output_type": "stream",
     "text": [
      "i= 0  expand time,0.0 filter time0.0 make_dataframe_time 0.001\n",
      "highstreet\n",
      "atofbowthorpedrive\n",
      "chestnutdrive\n",
      "E08000009\n"
     ]
    },
    {
     "name": "stderr",
     "output_type": "stream",
     "text": [
      "/tf/empty_homes_london/helper_functions.py:272: SettingWithCopyWarning: \n",
      "A value is trying to be set on a copy of a slice from a DataFrame.\n",
      "Try using .loc[row_indexer,col_indexer] = value instead\n",
      "\n",
      "See the caveats in the documentation: https://pandas.pydata.org/pandas-docs/stable/user_guide/indexing.html#returning-a-view-versus-a-copy\n",
      "  temp_multi['number_filter'] = filter_types\n",
      "<ipython-input-13-8bc6428979cb>:35: SettingWithCopyWarning: \n",
      "A value is trying to be set on a copy of a slice from a DataFrame.\n",
      "Try using .loc[row_indexer,col_indexer] = value instead\n",
      "\n",
      "See the caveats in the documentation: https://pandas.pydata.org/pandas-docs/stable/user_guide/indexing.html#returning-a-view-versus-a-copy\n",
      "  missing_lsoa_road['lsoa11cd'] = [street_number_to_lsoa(temp_road, int(missing_lsoa_road.iloc[missing_lsoa_row]['street_number2']))\n"
     ]
    },
    {
     "name": "stdout",
     "output_type": "stream",
     "text": [
      "i= 0  expand time,0.0 filter time0.0 make_dataframe_time 0.001\n",
      "locklane\n",
      "wharfroad\n",
      "mosleyroad\n",
      "broadroad\n",
      "stanhoperoad\n",
      "haleroad\n",
      "schoolroad\n",
      "atlanticstreet\n",
      "E07000098\n"
     ]
    },
    {
     "name": "stderr",
     "output_type": "stream",
     "text": [
      "<ipython-input-13-8bc6428979cb>:9: FutureWarning: The default value of regex will change from True to False in a future version.\n",
      "  missing_lsoa_df.loc[:,'street_number2'] = missing_lsoa_df.loc[:,'street_number'].str.replace(r\"^.*(?=\\b[0-9]+$)\", \"\").str.replace(r\"[^\\d]\", \"\", regex = True)\n",
      "<ipython-input-13-8bc6428979cb>:9: SettingWithCopyWarning: \n",
      "A value is trying to be set on a copy of a slice from a DataFrame.\n",
      "Try using .loc[row_indexer,col_indexer] = value instead\n",
      "\n",
      "See the caveats in the documentation: https://pandas.pydata.org/pandas-docs/stable/user_guide/indexing.html#returning-a-view-versus-a-copy\n",
      "  missing_lsoa_df.loc[:,'street_number2'] = missing_lsoa_df.loc[:,'street_number'].str.replace(r\"^.*(?=\\b[0-9]+$)\", \"\").str.replace(r\"[^\\d]\", \"\", regex = True)\n",
      "/tf/empty_homes_london/helper_functions.py:272: SettingWithCopyWarning: \n",
      "A value is trying to be set on a copy of a slice from a DataFrame.\n",
      "Try using .loc[row_indexer,col_indexer] = value instead\n",
      "\n",
      "See the caveats in the documentation: https://pandas.pydata.org/pandas-docs/stable/user_guide/indexing.html#returning-a-view-versus-a-copy\n",
      "  temp_multi['number_filter'] = filter_types\n"
     ]
    },
    {
     "name": "stdout",
     "output_type": "stream",
     "text": [
      "i= 0  expand time,0.001 filter time0.0 make_dataframe_time 0.001\n",
      "darkelane\n",
      "highroad\n",
      "watlingstreet\n",
      "theobaldstreet\n",
      "highstreet\n",
      "shenleyroad\n",
      "E06000044\n"
     ]
    },
    {
     "name": "stderr",
     "output_type": "stream",
     "text": [
      "<ipython-input-13-8bc6428979cb>:35: SettingWithCopyWarning: \n",
      "A value is trying to be set on a copy of a slice from a DataFrame.\n",
      "Try using .loc[row_indexer,col_indexer] = value instead\n",
      "\n",
      "See the caveats in the documentation: https://pandas.pydata.org/pandas-docs/stable/user_guide/indexing.html#returning-a-view-versus-a-copy\n",
      "  missing_lsoa_road['lsoa11cd'] = [street_number_to_lsoa(temp_road, int(missing_lsoa_road.iloc[missing_lsoa_row]['street_number2']))\n",
      "<ipython-input-13-8bc6428979cb>:9: FutureWarning: The default value of regex will change from True to False in a future version.\n",
      "  missing_lsoa_df.loc[:,'street_number2'] = missing_lsoa_df.loc[:,'street_number'].str.replace(r\"^.*(?=\\b[0-9]+$)\", \"\").str.replace(r\"[^\\d]\", \"\", regex = True)\n",
      "<ipython-input-13-8bc6428979cb>:9: SettingWithCopyWarning: \n",
      "A value is trying to be set on a copy of a slice from a DataFrame.\n",
      "Try using .loc[row_indexer,col_indexer] = value instead\n",
      "\n",
      "See the caveats in the documentation: https://pandas.pydata.org/pandas-docs/stable/user_guide/indexing.html#returning-a-view-versus-a-copy\n",
      "  missing_lsoa_df.loc[:,'street_number2'] = missing_lsoa_df.loc[:,'street_number'].str.replace(r\"^.*(?=\\b[0-9]+$)\", \"\").str.replace(r\"[^\\d]\", \"\", regex = True)\n",
      "/tf/empty_homes_london/helper_functions.py:272: SettingWithCopyWarning: \n",
      "A value is trying to be set on a copy of a slice from a DataFrame.\n",
      "Try using .loc[row_indexer,col_indexer] = value instead\n",
      "\n",
      "See the caveats in the documentation: https://pandas.pydata.org/pandas-docs/stable/user_guide/indexing.html#returning-a-view-versus-a-copy\n",
      "  temp_multi['number_filter'] = filter_types\n",
      "<ipython-input-13-8bc6428979cb>:35: SettingWithCopyWarning: \n",
      "A value is trying to be set on a copy of a slice from a DataFrame.\n",
      "Try using .loc[row_indexer,col_indexer] = value instead\n",
      "\n",
      "See the caveats in the documentation: https://pandas.pydata.org/pandas-docs/stable/user_guide/indexing.html#returning-a-view-versus-a-copy\n",
      "  missing_lsoa_road['lsoa11cd'] = [street_number_to_lsoa(temp_road, int(missing_lsoa_road.iloc[missing_lsoa_row]['street_number2']))\n"
     ]
    },
    {
     "name": "stdout",
     "output_type": "stream",
     "text": [
      "i= 0  expand time,0.0 filter time0.0 make_dataframe_time 0.001\n",
      "highstreet\n",
      "albertroad\n",
      "northernroad\n",
      "portlandterrace\n",
      "walmerroad\n",
      "highlandroad\n",
      "E07000103\n"
     ]
    },
    {
     "name": "stderr",
     "output_type": "stream",
     "text": [
      "<ipython-input-13-8bc6428979cb>:9: FutureWarning: The default value of regex will change from True to False in a future version.\n",
      "  missing_lsoa_df.loc[:,'street_number2'] = missing_lsoa_df.loc[:,'street_number'].str.replace(r\"^.*(?=\\b[0-9]+$)\", \"\").str.replace(r\"[^\\d]\", \"\", regex = True)\n",
      "<ipython-input-13-8bc6428979cb>:9: SettingWithCopyWarning: \n",
      "A value is trying to be set on a copy of a slice from a DataFrame.\n",
      "Try using .loc[row_indexer,col_indexer] = value instead\n",
      "\n",
      "See the caveats in the documentation: https://pandas.pydata.org/pandas-docs/stable/user_guide/indexing.html#returning-a-view-versus-a-copy\n",
      "  missing_lsoa_df.loc[:,'street_number2'] = missing_lsoa_df.loc[:,'street_number'].str.replace(r\"^.*(?=\\b[0-9]+$)\", \"\").str.replace(r\"[^\\d]\", \"\", regex = True)\n",
      "/tf/empty_homes_london/helper_functions.py:272: SettingWithCopyWarning: \n",
      "A value is trying to be set on a copy of a slice from a DataFrame.\n",
      "Try using .loc[row_indexer,col_indexer] = value instead\n",
      "\n",
      "See the caveats in the documentation: https://pandas.pydata.org/pandas-docs/stable/user_guide/indexing.html#returning-a-view-versus-a-copy\n",
      "  temp_multi['number_filter'] = filter_types\n",
      "<ipython-input-13-8bc6428979cb>:35: SettingWithCopyWarning: \n",
      "A value is trying to be set on a copy of a slice from a DataFrame.\n",
      "Try using .loc[row_indexer,col_indexer] = value instead\n",
      "\n",
      "See the caveats in the documentation: https://pandas.pydata.org/pandas-docs/stable/user_guide/indexing.html#returning-a-view-versus-a-copy\n",
      "  missing_lsoa_road['lsoa11cd'] = [street_number_to_lsoa(temp_road, int(missing_lsoa_road.iloc[missing_lsoa_row]['street_number2']))\n",
      "<ipython-input-13-8bc6428979cb>:9: FutureWarning: The default value of regex will change from True to False in a future version.\n",
      "  missing_lsoa_df.loc[:,'street_number2'] = missing_lsoa_df.loc[:,'street_number'].str.replace(r\"^.*(?=\\b[0-9]+$)\", \"\").str.replace(r\"[^\\d]\", \"\", regex = True)\n",
      "<ipython-input-13-8bc6428979cb>:9: SettingWithCopyWarning: \n",
      "A value is trying to be set on a copy of a slice from a DataFrame.\n",
      "Try using .loc[row_indexer,col_indexer] = value instead\n",
      "\n",
      "See the caveats in the documentation: https://pandas.pydata.org/pandas-docs/stable/user_guide/indexing.html#returning-a-view-versus-a-copy\n",
      "  missing_lsoa_df.loc[:,'street_number2'] = missing_lsoa_df.loc[:,'street_number'].str.replace(r\"^.*(?=\\b[0-9]+$)\", \"\").str.replace(r\"[^\\d]\", \"\", regex = True)\n"
     ]
    },
    {
     "name": "stdout",
     "output_type": "stream",
     "text": [
      "i= 0  expand time,0.0 filter time0.0 make_dataframe_time 0.001\n",
      "highstreet\n",
      "gammonlane\n",
      "E08000032\n"
     ]
    },
    {
     "name": "stderr",
     "output_type": "stream",
     "text": [
      "/tf/empty_homes_london/helper_functions.py:272: SettingWithCopyWarning: \n",
      "A value is trying to be set on a copy of a slice from a DataFrame.\n",
      "Try using .loc[row_indexer,col_indexer] = value instead\n",
      "\n",
      "See the caveats in the documentation: https://pandas.pydata.org/pandas-docs/stable/user_guide/indexing.html#returning-a-view-versus-a-copy\n",
      "  temp_multi['number_filter'] = filter_types\n",
      "<ipython-input-13-8bc6428979cb>:35: SettingWithCopyWarning: \n",
      "A value is trying to be set on a copy of a slice from a DataFrame.\n",
      "Try using .loc[row_indexer,col_indexer] = value instead\n",
      "\n",
      "See the caveats in the documentation: https://pandas.pydata.org/pandas-docs/stable/user_guide/indexing.html#returning-a-view-versus-a-copy\n",
      "  missing_lsoa_road['lsoa11cd'] = [street_number_to_lsoa(temp_road, int(missing_lsoa_road.iloc[missing_lsoa_row]['street_number2']))\n"
     ]
    },
    {
     "name": "stdout",
     "output_type": "stream",
     "text": [
      "i= 0  expand time,0.0 filter time0.0 make_dataframe_time 0.002\n",
      "sunbridgeroad\n",
      "myrtlewalk\n",
      "johnstreet\n",
      "stationroad\n",
      "buttershawlane\n",
      "bingleyroad\n",
      "mainstreet\n",
      "rutlandstreet\n",
      "lowerparadisestreet\n",
      "manchesterroad\n",
      "victoriaroad\n",
      "kirkgate\n",
      "E08000001\n"
     ]
    },
    {
     "name": "stderr",
     "output_type": "stream",
     "text": [
      "<ipython-input-13-8bc6428979cb>:9: FutureWarning: The default value of regex will change from True to False in a future version.\n",
      "  missing_lsoa_df.loc[:,'street_number2'] = missing_lsoa_df.loc[:,'street_number'].str.replace(r\"^.*(?=\\b[0-9]+$)\", \"\").str.replace(r\"[^\\d]\", \"\", regex = True)\n",
      "<ipython-input-13-8bc6428979cb>:9: SettingWithCopyWarning: \n",
      "A value is trying to be set on a copy of a slice from a DataFrame.\n",
      "Try using .loc[row_indexer,col_indexer] = value instead\n",
      "\n",
      "See the caveats in the documentation: https://pandas.pydata.org/pandas-docs/stable/user_guide/indexing.html#returning-a-view-versus-a-copy\n",
      "  missing_lsoa_df.loc[:,'street_number2'] = missing_lsoa_df.loc[:,'street_number'].str.replace(r\"^.*(?=\\b[0-9]+$)\", \"\").str.replace(r\"[^\\d]\", \"\", regex = True)\n",
      "/tf/empty_homes_london/helper_functions.py:272: SettingWithCopyWarning: \n",
      "A value is trying to be set on a copy of a slice from a DataFrame.\n",
      "Try using .loc[row_indexer,col_indexer] = value instead\n",
      "\n",
      "See the caveats in the documentation: https://pandas.pydata.org/pandas-docs/stable/user_guide/indexing.html#returning-a-view-versus-a-copy\n",
      "  temp_multi['number_filter'] = filter_types\n"
     ]
    },
    {
     "name": "stdout",
     "output_type": "stream",
     "text": [
      "i= 0  expand time,0.001 filter time0.0 make_dataframe_time 0.001\n",
      "boltonroad\n",
      "chorleyoldroad\n",
      "hulmeroad\n",
      "kearsleyavenue\n",
      "kingstreet\n",
      "regentroad\n"
     ]
    },
    {
     "name": "stderr",
     "output_type": "stream",
     "text": [
      "<ipython-input-13-8bc6428979cb>:35: SettingWithCopyWarning: \n",
      "A value is trying to be set on a copy of a slice from a DataFrame.\n",
      "Try using .loc[row_indexer,col_indexer] = value instead\n",
      "\n",
      "See the caveats in the documentation: https://pandas.pydata.org/pandas-docs/stable/user_guide/indexing.html#returning-a-view-versus-a-copy\n",
      "  missing_lsoa_road['lsoa11cd'] = [street_number_to_lsoa(temp_road, int(missing_lsoa_road.iloc[missing_lsoa_row]['street_number2']))\n"
     ]
    },
    {
     "name": "stdout",
     "output_type": "stream",
     "text": [
      "overdeneclose\n",
      "marketstreet\n",
      "sparoad\n",
      "westsidelowerleighroad\n",
      "E07000243\n"
     ]
    },
    {
     "name": "stderr",
     "output_type": "stream",
     "text": [
      "<ipython-input-13-8bc6428979cb>:9: FutureWarning: The default value of regex will change from True to False in a future version.\n",
      "  missing_lsoa_df.loc[:,'street_number2'] = missing_lsoa_df.loc[:,'street_number'].str.replace(r\"^.*(?=\\b[0-9]+$)\", \"\").str.replace(r\"[^\\d]\", \"\", regex = True)\n",
      "<ipython-input-13-8bc6428979cb>:9: SettingWithCopyWarning: \n",
      "A value is trying to be set on a copy of a slice from a DataFrame.\n",
      "Try using .loc[row_indexer,col_indexer] = value instead\n",
      "\n",
      "See the caveats in the documentation: https://pandas.pydata.org/pandas-docs/stable/user_guide/indexing.html#returning-a-view-versus-a-copy\n",
      "  missing_lsoa_df.loc[:,'street_number2'] = missing_lsoa_df.loc[:,'street_number'].str.replace(r\"^.*(?=\\b[0-9]+$)\", \"\").str.replace(r\"[^\\d]\", \"\", regex = True)\n"
     ]
    },
    {
     "name": "stdout",
     "output_type": "stream",
     "text": [
      "epsomclose\n",
      "E08000013\n"
     ]
    },
    {
     "name": "stderr",
     "output_type": "stream",
     "text": [
      "<ipython-input-13-8bc6428979cb>:9: FutureWarning: The default value of regex will change from True to False in a future version.\n",
      "  missing_lsoa_df.loc[:,'street_number2'] = missing_lsoa_df.loc[:,'street_number'].str.replace(r\"^.*(?=\\b[0-9]+$)\", \"\").str.replace(r\"[^\\d]\", \"\", regex = True)\n",
      "<ipython-input-13-8bc6428979cb>:9: SettingWithCopyWarning: \n",
      "A value is trying to be set on a copy of a slice from a DataFrame.\n",
      "Try using .loc[row_indexer,col_indexer] = value instead\n",
      "\n",
      "See the caveats in the documentation: https://pandas.pydata.org/pandas-docs/stable/user_guide/indexing.html#returning-a-view-versus-a-copy\n",
      "  missing_lsoa_df.loc[:,'street_number2'] = missing_lsoa_df.loc[:,'street_number'].str.replace(r\"^.*(?=\\b[0-9]+$)\", \"\").str.replace(r\"[^\\d]\", \"\", regex = True)\n",
      "/tf/empty_homes_london/helper_functions.py:272: SettingWithCopyWarning: \n",
      "A value is trying to be set on a copy of a slice from a DataFrame.\n",
      "Try using .loc[row_indexer,col_indexer] = value instead\n",
      "\n",
      "See the caveats in the documentation: https://pandas.pydata.org/pandas-docs/stable/user_guide/indexing.html#returning-a-view-versus-a-copy\n",
      "  temp_multi['number_filter'] = filter_types\n",
      "<ipython-input-13-8bc6428979cb>:35: SettingWithCopyWarning: \n",
      "A value is trying to be set on a copy of a slice from a DataFrame.\n",
      "Try using .loc[row_indexer,col_indexer] = value instead\n",
      "\n",
      "See the caveats in the documentation: https://pandas.pydata.org/pandas-docs/stable/user_guide/indexing.html#returning-a-view-versus-a-copy\n",
      "  missing_lsoa_road['lsoa11cd'] = [street_number_to_lsoa(temp_road, int(missing_lsoa_road.iloc[missing_lsoa_row]['street_number2']))\n"
     ]
    },
    {
     "name": "stdout",
     "output_type": "stream",
     "text": [
      "i= 0  expand time,0.0 filter time0.0 make_dataframe_time 0.002\n",
      "ormskirkstreet\n",
      "churchstreet\n",
      "marketstreet\n",
      "graftonstreet\n",
      "hardshawstreet\n",
      "ormskirkroad\n",
      "E09000012\n"
     ]
    },
    {
     "name": "stderr",
     "output_type": "stream",
     "text": [
      "<ipython-input-13-8bc6428979cb>:9: FutureWarning: The default value of regex will change from True to False in a future version.\n",
      "  missing_lsoa_df.loc[:,'street_number2'] = missing_lsoa_df.loc[:,'street_number'].str.replace(r\"^.*(?=\\b[0-9]+$)\", \"\").str.replace(r\"[^\\d]\", \"\", regex = True)\n",
      "<ipython-input-13-8bc6428979cb>:9: SettingWithCopyWarning: \n",
      "A value is trying to be set on a copy of a slice from a DataFrame.\n",
      "Try using .loc[row_indexer,col_indexer] = value instead\n",
      "\n",
      "See the caveats in the documentation: https://pandas.pydata.org/pandas-docs/stable/user_guide/indexing.html#returning-a-view-versus-a-copy\n",
      "  missing_lsoa_df.loc[:,'street_number2'] = missing_lsoa_df.loc[:,'street_number'].str.replace(r\"^.*(?=\\b[0-9]+$)\", \"\").str.replace(r\"[^\\d]\", \"\", regex = True)\n",
      "/tf/empty_homes_london/helper_functions.py:272: SettingWithCopyWarning: \n",
      "A value is trying to be set on a copy of a slice from a DataFrame.\n",
      "Try using .loc[row_indexer,col_indexer] = value instead\n",
      "\n",
      "See the caveats in the documentation: https://pandas.pydata.org/pandas-docs/stable/user_guide/indexing.html#returning-a-view-versus-a-copy\n",
      "  temp_multi['number_filter'] = filter_types\n"
     ]
    },
    {
     "name": "stdout",
     "output_type": "stream",
     "text": [
      "i= 0  expand time,0.0 filter time0.0 make_dataframe_time 0.002\n",
      "amhurstroad\n",
      "cityroad\n",
      "eastroad\n",
      "lauristonroad\n",
      "victoriaparkroad\n"
     ]
    },
    {
     "name": "stderr",
     "output_type": "stream",
     "text": [
      "<ipython-input-13-8bc6428979cb>:35: SettingWithCopyWarning: \n",
      "A value is trying to be set on a copy of a slice from a DataFrame.\n",
      "Try using .loc[row_indexer,col_indexer] = value instead\n",
      "\n",
      "See the caveats in the documentation: https://pandas.pydata.org/pandas-docs/stable/user_guide/indexing.html#returning-a-view-versus-a-copy\n",
      "  missing_lsoa_road['lsoa11cd'] = [street_number_to_lsoa(temp_road, int(missing_lsoa_road.iloc[missing_lsoa_row]['street_number2']))\n"
     ]
    },
    {
     "name": "stdout",
     "output_type": "stream",
     "text": [
      "alexandrayard\n",
      "evennumberscruttonstreet\n",
      "oddkingslandhighstreet\n",
      "boleynroad\n",
      "shepherdeplace\n",
      "curtainroad\n",
      "kingslandhighstreet\n",
      "shoreditchhighstreet\n",
      "amhurstparade,\n",
      "britanniawalk\n",
      "southgateroad\n",
      "morninglane\n",
      "vandystreet\n",
      "broadgatewest\n",
      "brunswickplace\n",
      "finsburyparkroad\n",
      "dalstonlane\n",
      "E09000032\n"
     ]
    },
    {
     "name": "stderr",
     "output_type": "stream",
     "text": [
      "<ipython-input-13-8bc6428979cb>:9: FutureWarning: The default value of regex will change from True to False in a future version.\n",
      "  missing_lsoa_df.loc[:,'street_number2'] = missing_lsoa_df.loc[:,'street_number'].str.replace(r\"^.*(?=\\b[0-9]+$)\", \"\").str.replace(r\"[^\\d]\", \"\", regex = True)\n",
      "<ipython-input-13-8bc6428979cb>:9: SettingWithCopyWarning: \n",
      "A value is trying to be set on a copy of a slice from a DataFrame.\n",
      "Try using .loc[row_indexer,col_indexer] = value instead\n",
      "\n",
      "See the caveats in the documentation: https://pandas.pydata.org/pandas-docs/stable/user_guide/indexing.html#returning-a-view-versus-a-copy\n",
      "  missing_lsoa_df.loc[:,'street_number2'] = missing_lsoa_df.loc[:,'street_number'].str.replace(r\"^.*(?=\\b[0-9]+$)\", \"\").str.replace(r\"[^\\d]\", \"\", regex = True)\n",
      "/tf/empty_homes_london/helper_functions.py:272: SettingWithCopyWarning: \n",
      "A value is trying to be set on a copy of a slice from a DataFrame.\n",
      "Try using .loc[row_indexer,col_indexer] = value instead\n",
      "\n",
      "See the caveats in the documentation: https://pandas.pydata.org/pandas-docs/stable/user_guide/indexing.html#returning-a-view-versus-a-copy\n",
      "  temp_multi['number_filter'] = filter_types\n"
     ]
    },
    {
     "name": "stdout",
     "output_type": "stream",
     "text": [
      "i= 0  expand time,0.0 filter time0.0 make_dataframe_time 0.001\n",
      "tootinghighstreet\n",
      "vicaragecrescent\n",
      "lavenderhill\n",
      "mitchamroad\n",
      "battersearise\n",
      "northcoteroad\n",
      "selkirkroad\n",
      "upperrichmondroad\n",
      "putneyhighstreet\n"
     ]
    },
    {
     "name": "stderr",
     "output_type": "stream",
     "text": [
      "<ipython-input-13-8bc6428979cb>:35: SettingWithCopyWarning: \n",
      "A value is trying to be set on a copy of a slice from a DataFrame.\n",
      "Try using .loc[row_indexer,col_indexer] = value instead\n",
      "\n",
      "See the caveats in the documentation: https://pandas.pydata.org/pandas-docs/stable/user_guide/indexing.html#returning-a-view-versus-a-copy\n",
      "  missing_lsoa_road['lsoa11cd'] = [street_number_to_lsoa(temp_road, int(missing_lsoa_road.iloc[missing_lsoa_row]['street_number2']))\n"
     ]
    },
    {
     "name": "stdout",
     "output_type": "stream",
     "text": [
      "tokenyard\n",
      "wandsworthhighstreet\n",
      "ramstreet\n",
      "queenstownroad\n",
      "riverlightquay,\n",
      "beechcroftroad\n",
      "barringersquare\n",
      "orbelstreet\n",
      "montserratroad\n",
      "batterseabridgeroad\n",
      "E06000045\n"
     ]
    },
    {
     "name": "stderr",
     "output_type": "stream",
     "text": [
      "<ipython-input-13-8bc6428979cb>:9: FutureWarning: The default value of regex will change from True to False in a future version.\n",
      "  missing_lsoa_df.loc[:,'street_number2'] = missing_lsoa_df.loc[:,'street_number'].str.replace(r\"^.*(?=\\b[0-9]+$)\", \"\").str.replace(r\"[^\\d]\", \"\", regex = True)\n",
      "<ipython-input-13-8bc6428979cb>:9: SettingWithCopyWarning: \n",
      "A value is trying to be set on a copy of a slice from a DataFrame.\n",
      "Try using .loc[row_indexer,col_indexer] = value instead\n",
      "\n",
      "See the caveats in the documentation: https://pandas.pydata.org/pandas-docs/stable/user_guide/indexing.html#returning-a-view-versus-a-copy\n",
      "  missing_lsoa_df.loc[:,'street_number2'] = missing_lsoa_df.loc[:,'street_number'].str.replace(r\"^.*(?=\\b[0-9]+$)\", \"\").str.replace(r\"[^\\d]\", \"\", regex = True)\n",
      "/tf/empty_homes_london/helper_functions.py:272: SettingWithCopyWarning: \n",
      "A value is trying to be set on a copy of a slice from a DataFrame.\n",
      "Try using .loc[row_indexer,col_indexer] = value instead\n",
      "\n",
      "See the caveats in the documentation: https://pandas.pydata.org/pandas-docs/stable/user_guide/indexing.html#returning-a-view-versus-a-copy\n",
      "  temp_multi['number_filter'] = filter_types\n",
      "<ipython-input-13-8bc6428979cb>:35: SettingWithCopyWarning: \n",
      "A value is trying to be set on a copy of a slice from a DataFrame.\n",
      "Try using .loc[row_indexer,col_indexer] = value instead\n",
      "\n",
      "See the caveats in the documentation: https://pandas.pydata.org/pandas-docs/stable/user_guide/indexing.html#returning-a-view-versus-a-copy\n",
      "  missing_lsoa_road['lsoa11cd'] = [street_number_to_lsoa(temp_road, int(missing_lsoa_road.iloc[missing_lsoa_row]['street_number2']))\n"
     ]
    },
    {
     "name": "stdout",
     "output_type": "stream",
     "text": [
      "i= 0  expand time,0.0 filter time0.0 make_dataframe_time 0.001\n",
      "abovebarstreet\n",
      "northlandroad\n",
      "springroad\n",
      "peartreeavenue\n",
      "millbrookroadeast\n",
      "E08000004\n"
     ]
    },
    {
     "name": "stderr",
     "output_type": "stream",
     "text": [
      "<ipython-input-13-8bc6428979cb>:9: FutureWarning: The default value of regex will change from True to False in a future version.\n",
      "  missing_lsoa_df.loc[:,'street_number2'] = missing_lsoa_df.loc[:,'street_number'].str.replace(r\"^.*(?=\\b[0-9]+$)\", \"\").str.replace(r\"[^\\d]\", \"\", regex = True)\n",
      "<ipython-input-13-8bc6428979cb>:9: SettingWithCopyWarning: \n",
      "A value is trying to be set on a copy of a slice from a DataFrame.\n",
      "Try using .loc[row_indexer,col_indexer] = value instead\n",
      "\n",
      "See the caveats in the documentation: https://pandas.pydata.org/pandas-docs/stable/user_guide/indexing.html#returning-a-view-versus-a-copy\n",
      "  missing_lsoa_df.loc[:,'street_number2'] = missing_lsoa_df.loc[:,'street_number'].str.replace(r\"^.*(?=\\b[0-9]+$)\", \"\").str.replace(r\"[^\\d]\", \"\", regex = True)\n",
      "/tf/empty_homes_london/helper_functions.py:272: SettingWithCopyWarning: \n",
      "A value is trying to be set on a copy of a slice from a DataFrame.\n",
      "Try using .loc[row_indexer,col_indexer] = value instead\n",
      "\n",
      "See the caveats in the documentation: https://pandas.pydata.org/pandas-docs/stable/user_guide/indexing.html#returning-a-view-versus-a-copy\n",
      "  temp_multi['number_filter'] = filter_types\n",
      "<ipython-input-13-8bc6428979cb>:35: SettingWithCopyWarning: \n",
      "A value is trying to be set on a copy of a slice from a DataFrame.\n",
      "Try using .loc[row_indexer,col_indexer] = value instead\n",
      "\n",
      "See the caveats in the documentation: https://pandas.pydata.org/pandas-docs/stable/user_guide/indexing.html#returning-a-view-versus-a-copy\n",
      "  missing_lsoa_road['lsoa11cd'] = [street_number_to_lsoa(temp_road, int(missing_lsoa_road.iloc[missing_lsoa_row]['street_number2']))\n",
      "<ipython-input-13-8bc6428979cb>:9: FutureWarning: The default value of regex will change from True to False in a future version.\n",
      "  missing_lsoa_df.loc[:,'street_number2'] = missing_lsoa_df.loc[:,'street_number'].str.replace(r\"^.*(?=\\b[0-9]+$)\", \"\").str.replace(r\"[^\\d]\", \"\", regex = True)\n",
      "<ipython-input-13-8bc6428979cb>:9: SettingWithCopyWarning: \n",
      "A value is trying to be set on a copy of a slice from a DataFrame.\n",
      "Try using .loc[row_indexer,col_indexer] = value instead\n",
      "\n",
      "See the caveats in the documentation: https://pandas.pydata.org/pandas-docs/stable/user_guide/indexing.html#returning-a-view-versus-a-copy\n",
      "  missing_lsoa_df.loc[:,'street_number2'] = missing_lsoa_df.loc[:,'street_number'].str.replace(r\"^.*(?=\\b[0-9]+$)\", \"\").str.replace(r\"[^\\d]\", \"\", regex = True)\n"
     ]
    },
    {
     "name": "stdout",
     "output_type": "stream",
     "text": [
      "i= 0  expand time,0.0 filter time0.0 make_dataframe_time 0.002\n",
      "oldhamroad\n",
      "walkerlane\n",
      "E08000028\n"
     ]
    },
    {
     "name": "stderr",
     "output_type": "stream",
     "text": [
      "/tf/empty_homes_london/helper_functions.py:272: SettingWithCopyWarning: \n",
      "A value is trying to be set on a copy of a slice from a DataFrame.\n",
      "Try using .loc[row_indexer,col_indexer] = value instead\n",
      "\n",
      "See the caveats in the documentation: https://pandas.pydata.org/pandas-docs/stable/user_guide/indexing.html#returning-a-view-versus-a-copy\n",
      "  temp_multi['number_filter'] = filter_types\n"
     ]
    },
    {
     "name": "stdout",
     "output_type": "stream",
     "text": [
      "i= 0  expand time,0.0 filter time0.0 make_dataframe_time 0.001\n",
      "highstreet\n"
     ]
    },
    {
     "name": "stderr",
     "output_type": "stream",
     "text": [
      "<ipython-input-13-8bc6428979cb>:35: SettingWithCopyWarning: \n",
      "A value is trying to be set on a copy of a slice from a DataFrame.\n",
      "Try using .loc[row_indexer,col_indexer] = value instead\n",
      "\n",
      "See the caveats in the documentation: https://pandas.pydata.org/pandas-docs/stable/user_guide/indexing.html#returning-a-view-versus-a-copy\n",
      "  missing_lsoa_road['lsoa11cd'] = [street_number_to_lsoa(temp_road, int(missing_lsoa_road.iloc[missing_lsoa_row]['street_number2']))\n",
      "<ipython-input-13-8bc6428979cb>:9: FutureWarning: The default value of regex will change from True to False in a future version.\n",
      "  missing_lsoa_df.loc[:,'street_number2'] = missing_lsoa_df.loc[:,'street_number'].str.replace(r\"^.*(?=\\b[0-9]+$)\", \"\").str.replace(r\"[^\\d]\", \"\", regex = True)\n",
      "<ipython-input-13-8bc6428979cb>:9: SettingWithCopyWarning: \n",
      "A value is trying to be set on a copy of a slice from a DataFrame.\n",
      "Try using .loc[row_indexer,col_indexer] = value instead\n",
      "\n",
      "See the caveats in the documentation: https://pandas.pydata.org/pandas-docs/stable/user_guide/indexing.html#returning-a-view-versus-a-copy\n",
      "  missing_lsoa_df.loc[:,'street_number2'] = missing_lsoa_df.loc[:,'street_number'].str.replace(r\"^.*(?=\\b[0-9]+$)\", \"\").str.replace(r\"[^\\d]\", \"\", regex = True)\n"
     ]
    },
    {
     "name": "stdout",
     "output_type": "stream",
     "text": [
      "bearwoodroad\n",
      "scotlandpassage\n",
      "leabrookroad\n",
      "unionroad\n",
      "dudleyroadeast\n",
      "E07000119\n"
     ]
    },
    {
     "name": "stderr",
     "output_type": "stream",
     "text": [
      "/tf/empty_homes_london/helper_functions.py:272: SettingWithCopyWarning: \n",
      "A value is trying to be set on a copy of a slice from a DataFrame.\n",
      "Try using .loc[row_indexer,col_indexer] = value instead\n",
      "\n",
      "See the caveats in the documentation: https://pandas.pydata.org/pandas-docs/stable/user_guide/indexing.html#returning-a-view-versus-a-copy\n",
      "  temp_multi['number_filter'] = filter_types\n",
      "<ipython-input-13-8bc6428979cb>:35: SettingWithCopyWarning: \n",
      "A value is trying to be set on a copy of a slice from a DataFrame.\n",
      "Try using .loc[row_indexer,col_indexer] = value instead\n",
      "\n",
      "See the caveats in the documentation: https://pandas.pydata.org/pandas-docs/stable/user_guide/indexing.html#returning-a-view-versus-a-copy\n",
      "  missing_lsoa_road['lsoa11cd'] = [street_number_to_lsoa(temp_road, int(missing_lsoa_road.iloc[missing_lsoa_row]['street_number2']))\n",
      "<ipython-input-13-8bc6428979cb>:9: FutureWarning: The default value of regex will change from True to False in a future version.\n",
      "  missing_lsoa_df.loc[:,'street_number2'] = missing_lsoa_df.loc[:,'street_number'].str.replace(r\"^.*(?=\\b[0-9]+$)\", \"\").str.replace(r\"[^\\d]\", \"\", regex = True)\n",
      "<ipython-input-13-8bc6428979cb>:9: SettingWithCopyWarning: \n",
      "A value is trying to be set on a copy of a slice from a DataFrame.\n",
      "Try using .loc[row_indexer,col_indexer] = value instead\n",
      "\n",
      "See the caveats in the documentation: https://pandas.pydata.org/pandas-docs/stable/user_guide/indexing.html#returning-a-view-versus-a-copy\n",
      "  missing_lsoa_df.loc[:,'street_number2'] = missing_lsoa_df.loc[:,'street_number'].str.replace(r\"^.*(?=\\b[0-9]+$)\", \"\").str.replace(r\"[^\\d]\", \"\", regex = True)\n"
     ]
    },
    {
     "name": "stdout",
     "output_type": "stream",
     "text": [
      "i= 0  expand time,0.001 filter time0.0 make_dataframe_time 0.002\n",
      "standrewroadsouth\n",
      "westcrescent\n",
      "standrewroad\n",
      "E06000016\n"
     ]
    },
    {
     "name": "stderr",
     "output_type": "stream",
     "text": [
      "/tf/empty_homes_london/helper_functions.py:272: SettingWithCopyWarning: \n",
      "A value is trying to be set on a copy of a slice from a DataFrame.\n",
      "Try using .loc[row_indexer,col_indexer] = value instead\n",
      "\n",
      "See the caveats in the documentation: https://pandas.pydata.org/pandas-docs/stable/user_guide/indexing.html#returning-a-view-versus-a-copy\n",
      "  temp_multi['number_filter'] = filter_types\n",
      "<ipython-input-13-8bc6428979cb>:35: SettingWithCopyWarning: \n",
      "A value is trying to be set on a copy of a slice from a DataFrame.\n",
      "Try using .loc[row_indexer,col_indexer] = value instead\n",
      "\n",
      "See the caveats in the documentation: https://pandas.pydata.org/pandas-docs/stable/user_guide/indexing.html#returning-a-view-versus-a-copy\n",
      "  missing_lsoa_road['lsoa11cd'] = [street_number_to_lsoa(temp_road, int(missing_lsoa_road.iloc[missing_lsoa_row]['street_number2']))\n",
      "<ipython-input-13-8bc6428979cb>:9: FutureWarning: The default value of regex will change from True to False in a future version.\n",
      "  missing_lsoa_df.loc[:,'street_number2'] = missing_lsoa_df.loc[:,'street_number'].str.replace(r\"^.*(?=\\b[0-9]+$)\", \"\").str.replace(r\"[^\\d]\", \"\", regex = True)\n",
      "<ipython-input-13-8bc6428979cb>:9: SettingWithCopyWarning: \n",
      "A value is trying to be set on a copy of a slice from a DataFrame.\n",
      "Try using .loc[row_indexer,col_indexer] = value instead\n",
      "\n",
      "See the caveats in the documentation: https://pandas.pydata.org/pandas-docs/stable/user_guide/indexing.html#returning-a-view-versus-a-copy\n",
      "  missing_lsoa_df.loc[:,'street_number2'] = missing_lsoa_df.loc[:,'street_number'].str.replace(r\"^.*(?=\\b[0-9]+$)\", \"\").str.replace(r\"[^\\d]\", \"\", regex = True)\n"
     ]
    },
    {
     "name": "stdout",
     "output_type": "stream",
     "text": [
      "i= 0  expand time,0.0 filter time0.0 make_dataframe_time 0.001\n",
      "belvoirstreet\n",
      "highcrostreet\n",
      "blackbirdroad\n",
      "E06000003\n"
     ]
    },
    {
     "name": "stderr",
     "output_type": "stream",
     "text": [
      "/tf/empty_homes_london/helper_functions.py:272: SettingWithCopyWarning: \n",
      "A value is trying to be set on a copy of a slice from a DataFrame.\n",
      "Try using .loc[row_indexer,col_indexer] = value instead\n",
      "\n",
      "See the caveats in the documentation: https://pandas.pydata.org/pandas-docs/stable/user_guide/indexing.html#returning-a-view-versus-a-copy\n",
      "  temp_multi['number_filter'] = filter_types\n",
      "<ipython-input-13-8bc6428979cb>:9: FutureWarning: The default value of regex will change from True to False in a future version.\n",
      "  missing_lsoa_df.loc[:,'street_number2'] = missing_lsoa_df.loc[:,'street_number'].str.replace(r\"^.*(?=\\b[0-9]+$)\", \"\").str.replace(r\"[^\\d]\", \"\", regex = True)\n",
      "<ipython-input-13-8bc6428979cb>:9: SettingWithCopyWarning: \n",
      "A value is trying to be set on a copy of a slice from a DataFrame.\n",
      "Try using .loc[row_indexer,col_indexer] = value instead\n",
      "\n",
      "See the caveats in the documentation: https://pandas.pydata.org/pandas-docs/stable/user_guide/indexing.html#returning-a-view-versus-a-copy\n",
      "  missing_lsoa_df.loc[:,'street_number2'] = missing_lsoa_df.loc[:,'street_number'].str.replace(r\"^.*(?=\\b[0-9]+$)\", \"\").str.replace(r\"[^\\d]\", \"\", regex = True)\n"
     ]
    },
    {
     "name": "stdout",
     "output_type": "stream",
     "text": [
      "i= 0  expand time,0.001 filter time0.0 make_dataframe_time 0.001\n",
      "highstreet\n",
      "E08000014\n"
     ]
    },
    {
     "name": "stderr",
     "output_type": "stream",
     "text": [
      "/tf/empty_homes_london/helper_functions.py:272: SettingWithCopyWarning: \n",
      "A value is trying to be set on a copy of a slice from a DataFrame.\n",
      "Try using .loc[row_indexer,col_indexer] = value instead\n",
      "\n",
      "See the caveats in the documentation: https://pandas.pydata.org/pandas-docs/stable/user_guide/indexing.html#returning-a-view-versus-a-copy\n",
      "  temp_multi['number_filter'] = filter_types\n",
      "<ipython-input-13-8bc6428979cb>:35: SettingWithCopyWarning: \n",
      "A value is trying to be set on a copy of a slice from a DataFrame.\n",
      "Try using .loc[row_indexer,col_indexer] = value instead\n",
      "\n",
      "See the caveats in the documentation: https://pandas.pydata.org/pandas-docs/stable/user_guide/indexing.html#returning-a-view-versus-a-copy\n",
      "  missing_lsoa_road['lsoa11cd'] = [street_number_to_lsoa(temp_road, int(missing_lsoa_road.iloc[missing_lsoa_row]['street_number2']))\n"
     ]
    },
    {
     "name": "stdout",
     "output_type": "stream",
     "text": [
      "i= 0  expand time,0.0 filter time0.0 make_dataframe_time 0.001\n",
      "stanleyroad\n",
      "liverpoolroad\n",
      "strandroad\n",
      "leicesterstreet\n",
      "E09000014\n"
     ]
    },
    {
     "name": "stderr",
     "output_type": "stream",
     "text": [
      "<ipython-input-13-8bc6428979cb>:9: FutureWarning: The default value of regex will change from True to False in a future version.\n",
      "  missing_lsoa_df.loc[:,'street_number2'] = missing_lsoa_df.loc[:,'street_number'].str.replace(r\"^.*(?=\\b[0-9]+$)\", \"\").str.replace(r\"[^\\d]\", \"\", regex = True)\n",
      "<ipython-input-13-8bc6428979cb>:9: SettingWithCopyWarning: \n",
      "A value is trying to be set on a copy of a slice from a DataFrame.\n",
      "Try using .loc[row_indexer,col_indexer] = value instead\n",
      "\n",
      "See the caveats in the documentation: https://pandas.pydata.org/pandas-docs/stable/user_guide/indexing.html#returning-a-view-versus-a-copy\n",
      "  missing_lsoa_df.loc[:,'street_number2'] = missing_lsoa_df.loc[:,'street_number'].str.replace(r\"^.*(?=\\b[0-9]+$)\", \"\").str.replace(r\"[^\\d]\", \"\", regex = True)\n",
      "/tf/empty_homes_london/helper_functions.py:272: SettingWithCopyWarning: \n",
      "A value is trying to be set on a copy of a slice from a DataFrame.\n",
      "Try using .loc[row_indexer,col_indexer] = value instead\n",
      "\n",
      "See the caveats in the documentation: https://pandas.pydata.org/pandas-docs/stable/user_guide/indexing.html#returning-a-view-versus-a-copy\n",
      "  temp_multi['number_filter'] = filter_types\n"
     ]
    },
    {
     "name": "stdout",
     "output_type": "stream",
     "text": [
      "i= 0  expand time,0.0 filter time0.0 make_dataframe_time 0.001\n",
      "muswellhillbroadway\n",
      "willoughbymews\n",
      "westburyavenue\n",
      "boundgreenroad\n",
      "willoughbylane\n",
      "stjohnroad\n",
      "highroad\n",
      "theroundway\n",
      "highstreet\n",
      "hampdenroad\n",
      "buryroad\n",
      "archwayroad\n",
      "E07000174\n"
     ]
    },
    {
     "name": "stderr",
     "output_type": "stream",
     "text": [
      "<ipython-input-13-8bc6428979cb>:35: SettingWithCopyWarning: \n",
      "A value is trying to be set on a copy of a slice from a DataFrame.\n",
      "Try using .loc[row_indexer,col_indexer] = value instead\n",
      "\n",
      "See the caveats in the documentation: https://pandas.pydata.org/pandas-docs/stable/user_guide/indexing.html#returning-a-view-versus-a-copy\n",
      "  missing_lsoa_road['lsoa11cd'] = [street_number_to_lsoa(temp_road, int(missing_lsoa_road.iloc[missing_lsoa_row]['street_number2']))\n",
      "<ipython-input-13-8bc6428979cb>:9: FutureWarning: The default value of regex will change from True to False in a future version.\n",
      "  missing_lsoa_df.loc[:,'street_number2'] = missing_lsoa_df.loc[:,'street_number'].str.replace(r\"^.*(?=\\b[0-9]+$)\", \"\").str.replace(r\"[^\\d]\", \"\", regex = True)\n",
      "<ipython-input-13-8bc6428979cb>:9: SettingWithCopyWarning: \n",
      "A value is trying to be set on a copy of a slice from a DataFrame.\n",
      "Try using .loc[row_indexer,col_indexer] = value instead\n",
      "\n",
      "See the caveats in the documentation: https://pandas.pydata.org/pandas-docs/stable/user_guide/indexing.html#returning-a-view-versus-a-copy\n",
      "  missing_lsoa_df.loc[:,'street_number2'] = missing_lsoa_df.loc[:,'street_number'].str.replace(r\"^.*(?=\\b[0-9]+$)\", \"\").str.replace(r\"[^\\d]\", \"\", regex = True)\n",
      "/tf/empty_homes_london/helper_functions.py:272: SettingWithCopyWarning: \n",
      "A value is trying to be set on a copy of a slice from a DataFrame.\n",
      "Try using .loc[row_indexer,col_indexer] = value instead\n",
      "\n",
      "See the caveats in the documentation: https://pandas.pydata.org/pandas-docs/stable/user_guide/indexing.html#returning-a-view-versus-a-copy\n",
      "  temp_multi['number_filter'] = filter_types\n",
      "<ipython-input-13-8bc6428979cb>:9: FutureWarning: The default value of regex will change from True to False in a future version.\n",
      "  missing_lsoa_df.loc[:,'street_number2'] = missing_lsoa_df.loc[:,'street_number'].str.replace(r\"^.*(?=\\b[0-9]+$)\", \"\").str.replace(r\"[^\\d]\", \"\", regex = True)\n",
      "<ipython-input-13-8bc6428979cb>:9: SettingWithCopyWarning: \n",
      "A value is trying to be set on a copy of a slice from a DataFrame.\n",
      "Try using .loc[row_indexer,col_indexer] = value instead\n",
      "\n",
      "See the caveats in the documentation: https://pandas.pydata.org/pandas-docs/stable/user_guide/indexing.html#returning-a-view-versus-a-copy\n",
      "  missing_lsoa_df.loc[:,'street_number2'] = missing_lsoa_df.loc[:,'street_number'].str.replace(r\"^.*(?=\\b[0-9]+$)\", \"\").str.replace(r\"[^\\d]\", \"\", regex = True)\n"
     ]
    },
    {
     "name": "stdout",
     "output_type": "stream",
     "text": [
      "i= 0  expand time,0.0 filter time0.0 make_dataframe_time 0.001\n",
      "churchstreet\n",
      "E09000030\n"
     ]
    },
    {
     "name": "stderr",
     "output_type": "stream",
     "text": [
      "/tf/empty_homes_london/helper_functions.py:272: SettingWithCopyWarning: \n",
      "A value is trying to be set on a copy of a slice from a DataFrame.\n",
      "Try using .loc[row_indexer,col_indexer] = value instead\n",
      "\n",
      "See the caveats in the documentation: https://pandas.pydata.org/pandas-docs/stable/user_guide/indexing.html#returning-a-view-versus-a-copy\n",
      "  temp_multi['number_filter'] = filter_types\n"
     ]
    },
    {
     "name": "stdout",
     "output_type": "stream",
     "text": [
      "i= 0  expand time,0.0 filter time0.0 make_dataframe_time 0.001\n",
      "otistreet\n",
      "shermanstreet\n",
      "thehighway\n",
      "penningtonstreet\n",
      "bethnalgreenroad\n",
      "chrispstreet\n",
      "westferryroad\n",
      "salterstreet\n",
      "queenanneterrace\n",
      "kinghenryterrace\n",
      "queenvictoriaterrace\n",
      "kingcharleterrace\n",
      "commercialroad\n"
     ]
    },
    {
     "name": "stderr",
     "output_type": "stream",
     "text": [
      "<ipython-input-13-8bc6428979cb>:35: SettingWithCopyWarning: \n",
      "A value is trying to be set on a copy of a slice from a DataFrame.\n",
      "Try using .loc[row_indexer,col_indexer] = value instead\n",
      "\n",
      "See the caveats in the documentation: https://pandas.pydata.org/pandas-docs/stable/user_guide/indexing.html#returning-a-view-versus-a-copy\n",
      "  missing_lsoa_road['lsoa11cd'] = [street_number_to_lsoa(temp_road, int(missing_lsoa_road.iloc[missing_lsoa_row]['street_number2']))\n"
     ]
    },
    {
     "name": "stdout",
     "output_type": "stream",
     "text": [
      "backchurchlane\n",
      "bernerstreet\n",
      "sanderstreet\n",
      "marshwall\n",
      "ashfieldstreet\n",
      "poplarhighstreet\n",
      "bowroad\n",
      "redchurchstreet\n",
      "saulstreet\n",
      "spitalstreet\n",
      "hackneyroad\n",
      "marianstreet\n",
      "philpotstreet\n",
      "turnerstreet\n",
      "romanroad\n",
      "woodseerstreet\n",
      "canadasquare\n",
      "churchillplace\n",
      "cabotsquare\n",
      "blackeaglebreweryfrontingquakerstreet\n",
      "bricklane\n",
      "hanburystreet\n",
      "canarywharf,\n",
      "threemilllane\n",
      "baltimorewharf,\n",
      "buxtonstreet\n",
      "manchesterroad\n",
      "watneystreet\n",
      "mellishstreet\n",
      "hertsmereroad\n",
      "harbourexchangesquare\n",
      "whitechapelroad\n",
      "E06000018\n"
     ]
    },
    {
     "name": "stderr",
     "output_type": "stream",
     "text": [
      "<ipython-input-13-8bc6428979cb>:9: FutureWarning: The default value of regex will change from True to False in a future version.\n",
      "  missing_lsoa_df.loc[:,'street_number2'] = missing_lsoa_df.loc[:,'street_number'].str.replace(r\"^.*(?=\\b[0-9]+$)\", \"\").str.replace(r\"[^\\d]\", \"\", regex = True)\n",
      "<ipython-input-13-8bc6428979cb>:9: SettingWithCopyWarning: \n",
      "A value is trying to be set on a copy of a slice from a DataFrame.\n",
      "Try using .loc[row_indexer,col_indexer] = value instead\n",
      "\n",
      "See the caveats in the documentation: https://pandas.pydata.org/pandas-docs/stable/user_guide/indexing.html#returning-a-view-versus-a-copy\n",
      "  missing_lsoa_df.loc[:,'street_number2'] = missing_lsoa_df.loc[:,'street_number'].str.replace(r\"^.*(?=\\b[0-9]+$)\", \"\").str.replace(r\"[^\\d]\", \"\", regex = True)\n",
      "/tf/empty_homes_london/helper_functions.py:272: SettingWithCopyWarning: \n",
      "A value is trying to be set on a copy of a slice from a DataFrame.\n",
      "Try using .loc[row_indexer,col_indexer] = value instead\n",
      "\n",
      "See the caveats in the documentation: https://pandas.pydata.org/pandas-docs/stable/user_guide/indexing.html#returning-a-view-versus-a-copy\n",
      "  temp_multi['number_filter'] = filter_types\n",
      "<ipython-input-13-8bc6428979cb>:35: SettingWithCopyWarning: \n",
      "A value is trying to be set on a copy of a slice from a DataFrame.\n",
      "Try using .loc[row_indexer,col_indexer] = value instead\n",
      "\n",
      "See the caveats in the documentation: https://pandas.pydata.org/pandas-docs/stable/user_guide/indexing.html#returning-a-view-versus-a-copy\n",
      "  missing_lsoa_road['lsoa11cd'] = [street_number_to_lsoa(temp_road, int(missing_lsoa_road.iloc[missing_lsoa_row]['street_number2']))\n"
     ]
    },
    {
     "name": "stdout",
     "output_type": "stream",
     "text": [
      "i= 0  expand time,0.0 filter time0.0 make_dataframe_time 0.001\n",
      "mansfieldroad\n",
      "canalstreet\n",
      "shakespearestreet\n",
      "peachystreet\n",
      "huntingdonstreet\n",
      "bodenstreet\n",
      "queenroad\n",
      "lowerparliamentstreet\n",
      "wyegardens\n",
      "E07000198\n"
     ]
    },
    {
     "name": "stderr",
     "output_type": "stream",
     "text": [
      "<ipython-input-13-8bc6428979cb>:9: FutureWarning: The default value of regex will change from True to False in a future version.\n",
      "  missing_lsoa_df.loc[:,'street_number2'] = missing_lsoa_df.loc[:,'street_number'].str.replace(r\"^.*(?=\\b[0-9]+$)\", \"\").str.replace(r\"[^\\d]\", \"\", regex = True)\n",
      "<ipython-input-13-8bc6428979cb>:9: SettingWithCopyWarning: \n",
      "A value is trying to be set on a copy of a slice from a DataFrame.\n",
      "Try using .loc[row_indexer,col_indexer] = value instead\n",
      "\n",
      "See the caveats in the documentation: https://pandas.pydata.org/pandas-docs/stable/user_guide/indexing.html#returning-a-view-versus-a-copy\n",
      "  missing_lsoa_df.loc[:,'street_number2'] = missing_lsoa_df.loc[:,'street_number'].str.replace(r\"^.*(?=\\b[0-9]+$)\", \"\").str.replace(r\"[^\\d]\", \"\", regex = True)\n"
     ]
    },
    {
     "name": "stdout",
     "output_type": "stream",
     "text": [
      "getliffeyardderbystreet\n",
      "portlandstreetnorth\n",
      "E07000177\n"
     ]
    },
    {
     "name": "stderr",
     "output_type": "stream",
     "text": [
      "<ipython-input-13-8bc6428979cb>:9: FutureWarning: The default value of regex will change from True to False in a future version.\n",
      "  missing_lsoa_df.loc[:,'street_number2'] = missing_lsoa_df.loc[:,'street_number'].str.replace(r\"^.*(?=\\b[0-9]+$)\", \"\").str.replace(r\"[^\\d]\", \"\", regex = True)\n",
      "<ipython-input-13-8bc6428979cb>:9: SettingWithCopyWarning: \n",
      "A value is trying to be set on a copy of a slice from a DataFrame.\n",
      "Try using .loc[row_indexer,col_indexer] = value instead\n",
      "\n",
      "See the caveats in the documentation: https://pandas.pydata.org/pandas-docs/stable/user_guide/indexing.html#returning-a-view-versus-a-copy\n",
      "  missing_lsoa_df.loc[:,'street_number2'] = missing_lsoa_df.loc[:,'street_number'].str.replace(r\"^.*(?=\\b[0-9]+$)\", \"\").str.replace(r\"[^\\d]\", \"\", regex = True)\n",
      "/tf/empty_homes_london/helper_functions.py:272: SettingWithCopyWarning: \n",
      "A value is trying to be set on a copy of a slice from a DataFrame.\n",
      "Try using .loc[row_indexer,col_indexer] = value instead\n",
      "\n",
      "See the caveats in the documentation: https://pandas.pydata.org/pandas-docs/stable/user_guide/indexing.html#returning-a-view-versus-a-copy\n",
      "  temp_multi['number_filter'] = filter_types\n",
      "<ipython-input-13-8bc6428979cb>:35: SettingWithCopyWarning: \n",
      "A value is trying to be set on a copy of a slice from a DataFrame.\n",
      "Try using .loc[row_indexer,col_indexer] = value instead\n",
      "\n",
      "See the caveats in the documentation: https://pandas.pydata.org/pandas-docs/stable/user_guide/indexing.html#returning-a-view-versus-a-copy\n",
      "  missing_lsoa_road['lsoa11cd'] = [street_number_to_lsoa(temp_road, int(missing_lsoa_road.iloc[missing_lsoa_row]['street_number2']))\n",
      "<ipython-input-13-8bc6428979cb>:9: FutureWarning: The default value of regex will change from True to False in a future version.\n",
      "  missing_lsoa_df.loc[:,'street_number2'] = missing_lsoa_df.loc[:,'street_number'].str.replace(r\"^.*(?=\\b[0-9]+$)\", \"\").str.replace(r\"[^\\d]\", \"\", regex = True)\n",
      "<ipython-input-13-8bc6428979cb>:9: SettingWithCopyWarning: \n",
      "A value is trying to be set on a copy of a slice from a DataFrame.\n",
      "Try using .loc[row_indexer,col_indexer] = value instead\n",
      "\n",
      "See the caveats in the documentation: https://pandas.pydata.org/pandas-docs/stable/user_guide/indexing.html#returning-a-view-versus-a-copy\n",
      "  missing_lsoa_df.loc[:,'street_number2'] = missing_lsoa_df.loc[:,'street_number'].str.replace(r\"^.*(?=\\b[0-9]+$)\", \"\").str.replace(r\"[^\\d]\", \"\", regex = True)\n"
     ]
    },
    {
     "name": "stdout",
     "output_type": "stream",
     "text": [
      "i= 0  expand time,0.0 filter time0.0 make_dataframe_time 0.001\n",
      "marketplace\n",
      "parsonstreet\n",
      "thorpeway\n",
      "E08000021\n"
     ]
    },
    {
     "name": "stderr",
     "output_type": "stream",
     "text": [
      "/tf/empty_homes_london/helper_functions.py:272: SettingWithCopyWarning: \n",
      "A value is trying to be set on a copy of a slice from a DataFrame.\n",
      "Try using .loc[row_indexer,col_indexer] = value instead\n",
      "\n",
      "See the caveats in the documentation: https://pandas.pydata.org/pandas-docs/stable/user_guide/indexing.html#returning-a-view-versus-a-copy\n",
      "  temp_multi['number_filter'] = filter_types\n"
     ]
    },
    {
     "name": "stdout",
     "output_type": "stream",
     "text": [
      "i= 0  expand time,0.0 filter time0.0 make_dataframe_time 0.001\n",
      "highstreet\n",
      "graingerstreet\n",
      "starbeckavenue\n",
      "bathlane\n",
      "scotswoodroad\n",
      "highbridge\n",
      "chillinghamroad\n",
      "simonsideterrace\n",
      "ivyroad\n",
      "elmfieldroad\n",
      "cartingtonterrace\n",
      "shieldroad\n",
      "portlandroad\n",
      "shortridgeterrace\n",
      "W06000014\n"
     ]
    },
    {
     "name": "stderr",
     "output_type": "stream",
     "text": [
      "<ipython-input-13-8bc6428979cb>:35: SettingWithCopyWarning: \n",
      "A value is trying to be set on a copy of a slice from a DataFrame.\n",
      "Try using .loc[row_indexer,col_indexer] = value instead\n",
      "\n",
      "See the caveats in the documentation: https://pandas.pydata.org/pandas-docs/stable/user_guide/indexing.html#returning-a-view-versus-a-copy\n",
      "  missing_lsoa_road['lsoa11cd'] = [street_number_to_lsoa(temp_road, int(missing_lsoa_road.iloc[missing_lsoa_row]['street_number2']))\n",
      "<ipython-input-13-8bc6428979cb>:9: FutureWarning: The default value of regex will change from True to False in a future version.\n",
      "  missing_lsoa_df.loc[:,'street_number2'] = missing_lsoa_df.loc[:,'street_number'].str.replace(r\"^.*(?=\\b[0-9]+$)\", \"\").str.replace(r\"[^\\d]\", \"\", regex = True)\n",
      "<ipython-input-13-8bc6428979cb>:9: SettingWithCopyWarning: \n",
      "A value is trying to be set on a copy of a slice from a DataFrame.\n",
      "Try using .loc[row_indexer,col_indexer] = value instead\n",
      "\n",
      "See the caveats in the documentation: https://pandas.pydata.org/pandas-docs/stable/user_guide/indexing.html#returning-a-view-versus-a-copy\n",
      "  missing_lsoa_df.loc[:,'street_number2'] = missing_lsoa_df.loc[:,'street_number'].str.replace(r\"^.*(?=\\b[0-9]+$)\", \"\").str.replace(r\"[^\\d]\", \"\", regex = True)\n"
     ]
    },
    {
     "name": "stdout",
     "output_type": "stream",
     "text": [
      "ty-draw\n",
      "heol-y-frenhines\n",
      "E07000061\n"
     ]
    },
    {
     "name": "stderr",
     "output_type": "stream",
     "text": [
      "<ipython-input-13-8bc6428979cb>:9: FutureWarning: The default value of regex will change from True to False in a future version.\n",
      "  missing_lsoa_df.loc[:,'street_number2'] = missing_lsoa_df.loc[:,'street_number'].str.replace(r\"^.*(?=\\b[0-9]+$)\", \"\").str.replace(r\"[^\\d]\", \"\", regex = True)\n",
      "<ipython-input-13-8bc6428979cb>:9: SettingWithCopyWarning: \n",
      "A value is trying to be set on a copy of a slice from a DataFrame.\n",
      "Try using .loc[row_indexer,col_indexer] = value instead\n",
      "\n",
      "See the caveats in the documentation: https://pandas.pydata.org/pandas-docs/stable/user_guide/indexing.html#returning-a-view-versus-a-copy\n",
      "  missing_lsoa_df.loc[:,'street_number2'] = missing_lsoa_df.loc[:,'street_number'].str.replace(r\"^.*(?=\\b[0-9]+$)\", \"\").str.replace(r\"[^\\d]\", \"\", regex = True)\n",
      "/tf/empty_homes_london/helper_functions.py:272: SettingWithCopyWarning: \n",
      "A value is trying to be set on a copy of a slice from a DataFrame.\n",
      "Try using .loc[row_indexer,col_indexer] = value instead\n",
      "\n",
      "See the caveats in the documentation: https://pandas.pydata.org/pandas-docs/stable/user_guide/indexing.html#returning-a-view-versus-a-copy\n",
      "  temp_multi['number_filter'] = filter_types\n",
      "<ipython-input-13-8bc6428979cb>:35: SettingWithCopyWarning: \n",
      "A value is trying to be set on a copy of a slice from a DataFrame.\n",
      "Try using .loc[row_indexer,col_indexer] = value instead\n",
      "\n",
      "See the caveats in the documentation: https://pandas.pydata.org/pandas-docs/stable/user_guide/indexing.html#returning-a-view-versus-a-copy\n",
      "  missing_lsoa_road['lsoa11cd'] = [street_number_to_lsoa(temp_road, int(missing_lsoa_road.iloc[missing_lsoa_row]['street_number2']))\n",
      "<ipython-input-13-8bc6428979cb>:9: FutureWarning: The default value of regex will change from True to False in a future version.\n",
      "  missing_lsoa_df.loc[:,'street_number2'] = missing_lsoa_df.loc[:,'street_number'].str.replace(r\"^.*(?=\\b[0-9]+$)\", \"\").str.replace(r\"[^\\d]\", \"\", regex = True)\n",
      "<ipython-input-13-8bc6428979cb>:9: SettingWithCopyWarning: \n",
      "A value is trying to be set on a copy of a slice from a DataFrame.\n",
      "Try using .loc[row_indexer,col_indexer] = value instead\n",
      "\n",
      "See the caveats in the documentation: https://pandas.pydata.org/pandas-docs/stable/user_guide/indexing.html#returning-a-view-versus-a-copy\n",
      "  missing_lsoa_df.loc[:,'street_number2'] = missing_lsoa_df.loc[:,'street_number'].str.replace(r\"^.*(?=\\b[0-9]+$)\", \"\").str.replace(r\"[^\\d]\", \"\", regex = True)\n"
     ]
    },
    {
     "name": "stdout",
     "output_type": "stream",
     "text": [
      "i= 0  expand time,0.0 filter time0.0 make_dataframe_time 0.001\n",
      "terminuroad\n",
      "howardsquare\n",
      "broadwaterway\n",
      "E07000090\n"
     ]
    },
    {
     "name": "stderr",
     "output_type": "stream",
     "text": [
      "/tf/empty_homes_london/helper_functions.py:272: SettingWithCopyWarning: \n",
      "A value is trying to be set on a copy of a slice from a DataFrame.\n",
      "Try using .loc[row_indexer,col_indexer] = value instead\n",
      "\n",
      "See the caveats in the documentation: https://pandas.pydata.org/pandas-docs/stable/user_guide/indexing.html#returning-a-view-versus-a-copy\n",
      "  temp_multi['number_filter'] = filter_types\n",
      "<ipython-input-13-8bc6428979cb>:35: SettingWithCopyWarning: \n",
      "A value is trying to be set on a copy of a slice from a DataFrame.\n",
      "Try using .loc[row_indexer,col_indexer] = value instead\n",
      "\n",
      "See the caveats in the documentation: https://pandas.pydata.org/pandas-docs/stable/user_guide/indexing.html#returning-a-view-versus-a-copy\n",
      "  missing_lsoa_road['lsoa11cd'] = [street_number_to_lsoa(temp_road, int(missing_lsoa_road.iloc[missing_lsoa_row]['street_number2']))\n",
      "<ipython-input-13-8bc6428979cb>:9: FutureWarning: The default value of regex will change from True to False in a future version.\n",
      "  missing_lsoa_df.loc[:,'street_number2'] = missing_lsoa_df.loc[:,'street_number'].str.replace(r\"^.*(?=\\b[0-9]+$)\", \"\").str.replace(r\"[^\\d]\", \"\", regex = True)\n",
      "<ipython-input-13-8bc6428979cb>:9: SettingWithCopyWarning: \n",
      "A value is trying to be set on a copy of a slice from a DataFrame.\n",
      "Try using .loc[row_indexer,col_indexer] = value instead\n",
      "\n",
      "See the caveats in the documentation: https://pandas.pydata.org/pandas-docs/stable/user_guide/indexing.html#returning-a-view-versus-a-copy\n",
      "  missing_lsoa_df.loc[:,'street_number2'] = missing_lsoa_df.loc[:,'street_number'].str.replace(r\"^.*(?=\\b[0-9]+$)\", \"\").str.replace(r\"[^\\d]\", \"\", regex = True)\n"
     ]
    },
    {
     "name": "stdout",
     "output_type": "stream",
     "text": [
      "i= 0  expand time,0.0 filter time0.0 make_dataframe_time 0.001\n",
      "amarketparade,\n",
      "londonroad\n",
      "E09000013\n"
     ]
    },
    {
     "name": "stderr",
     "output_type": "stream",
     "text": [
      "/tf/empty_homes_london/helper_functions.py:272: SettingWithCopyWarning: \n",
      "A value is trying to be set on a copy of a slice from a DataFrame.\n",
      "Try using .loc[row_indexer,col_indexer] = value instead\n",
      "\n",
      "See the caveats in the documentation: https://pandas.pydata.org/pandas-docs/stable/user_guide/indexing.html#returning-a-view-versus-a-copy\n",
      "  temp_multi['number_filter'] = filter_types\n"
     ]
    },
    {
     "name": "stdout",
     "output_type": "stream",
     "text": [
      "i= 0  expand time,0.0 filter time0.0 make_dataframe_time 0.001\n",
      "glenthorneroad\n",
      "scrublane\n",
      "lillieroad\n",
      "shepherdbushroad\n",
      "kingstreet\n",
      "hammersmithroad\n",
      "sedlescomberoad\n",
      "northendroad\n",
      "parsongreenlane\n",
      "palliserroad\n",
      "hamiltonvillas\n",
      "windsorway\n",
      "wandsworthbridgeroad\n"
     ]
    },
    {
     "name": "stderr",
     "output_type": "stream",
     "text": [
      "<ipython-input-13-8bc6428979cb>:35: SettingWithCopyWarning: \n",
      "A value is trying to be set on a copy of a slice from a DataFrame.\n",
      "Try using .loc[row_indexer,col_indexer] = value instead\n",
      "\n",
      "See the caveats in the documentation: https://pandas.pydata.org/pandas-docs/stable/user_guide/indexing.html#returning-a-view-versus-a-copy\n",
      "  missing_lsoa_road['lsoa11cd'] = [street_number_to_lsoa(temp_road, int(missing_lsoa_road.iloc[missing_lsoa_row]['street_number2']))\n"
     ]
    },
    {
     "name": "stdout",
     "output_type": "stream",
     "text": [
      "blytheroad\n",
      "bromptonparkcrescent\n",
      "fulhamroad\n",
      "taborroad\n",
      "fulhamparkgardens\n",
      "kingwoodroad\n",
      "E08000024\n"
     ]
    },
    {
     "name": "stderr",
     "output_type": "stream",
     "text": [
      "<ipython-input-13-8bc6428979cb>:9: FutureWarning: The default value of regex will change from True to False in a future version.\n",
      "  missing_lsoa_df.loc[:,'street_number2'] = missing_lsoa_df.loc[:,'street_number'].str.replace(r\"^.*(?=\\b[0-9]+$)\", \"\").str.replace(r\"[^\\d]\", \"\", regex = True)\n",
      "<ipython-input-13-8bc6428979cb>:9: SettingWithCopyWarning: \n",
      "A value is trying to be set on a copy of a slice from a DataFrame.\n",
      "Try using .loc[row_indexer,col_indexer] = value instead\n",
      "\n",
      "See the caveats in the documentation: https://pandas.pydata.org/pandas-docs/stable/user_guide/indexing.html#returning-a-view-versus-a-copy\n",
      "  missing_lsoa_df.loc[:,'street_number2'] = missing_lsoa_df.loc[:,'street_number'].str.replace(r\"^.*(?=\\b[0-9]+$)\", \"\").str.replace(r\"[^\\d]\", \"\", regex = True)\n",
      "/tf/empty_homes_london/helper_functions.py:272: SettingWithCopyWarning: \n",
      "A value is trying to be set on a copy of a slice from a DataFrame.\n",
      "Try using .loc[row_indexer,col_indexer] = value instead\n",
      "\n",
      "See the caveats in the documentation: https://pandas.pydata.org/pandas-docs/stable/user_guide/indexing.html#returning-a-view-versus-a-copy\n",
      "  temp_multi['number_filter'] = filter_types\n",
      "<ipython-input-13-8bc6428979cb>:35: SettingWithCopyWarning: \n",
      "A value is trying to be set on a copy of a slice from a DataFrame.\n",
      "Try using .loc[row_indexer,col_indexer] = value instead\n",
      "\n",
      "See the caveats in the documentation: https://pandas.pydata.org/pandas-docs/stable/user_guide/indexing.html#returning-a-view-versus-a-copy\n",
      "  missing_lsoa_road['lsoa11cd'] = [street_number_to_lsoa(temp_road, int(missing_lsoa_road.iloc[missing_lsoa_row]['street_number2']))\n",
      "<ipython-input-13-8bc6428979cb>:9: FutureWarning: The default value of regex will change from True to False in a future version.\n",
      "  missing_lsoa_df.loc[:,'street_number2'] = missing_lsoa_df.loc[:,'street_number'].str.replace(r\"^.*(?=\\b[0-9]+$)\", \"\").str.replace(r\"[^\\d]\", \"\", regex = True)\n",
      "<ipython-input-13-8bc6428979cb>:9: SettingWithCopyWarning: \n",
      "A value is trying to be set on a copy of a slice from a DataFrame.\n",
      "Try using .loc[row_indexer,col_indexer] = value instead\n",
      "\n",
      "See the caveats in the documentation: https://pandas.pydata.org/pandas-docs/stable/user_guide/indexing.html#returning-a-view-versus-a-copy\n",
      "  missing_lsoa_df.loc[:,'street_number2'] = missing_lsoa_df.loc[:,'street_number'].str.replace(r\"^.*(?=\\b[0-9]+$)\", \"\").str.replace(r\"[^\\d]\", \"\", regex = True)\n"
     ]
    },
    {
     "name": "stdout",
     "output_type": "stream",
     "text": [
      "i= 0  expand time,0.0 filter time0.0 make_dataframe_time 0.001\n",
      "stocktonroad\n",
      "saintaidanterrace\n",
      "highstreet\n",
      "anelectricitysubstationbedfordstreet\n",
      "W06000003\n",
      "rhoslanpark\n",
      "E09000025\n"
     ]
    },
    {
     "name": "stderr",
     "output_type": "stream",
     "text": [
      "<ipython-input-13-8bc6428979cb>:9: FutureWarning: The default value of regex will change from True to False in a future version.\n",
      "  missing_lsoa_df.loc[:,'street_number2'] = missing_lsoa_df.loc[:,'street_number'].str.replace(r\"^.*(?=\\b[0-9]+$)\", \"\").str.replace(r\"[^\\d]\", \"\", regex = True)\n",
      "<ipython-input-13-8bc6428979cb>:9: SettingWithCopyWarning: \n",
      "A value is trying to be set on a copy of a slice from a DataFrame.\n",
      "Try using .loc[row_indexer,col_indexer] = value instead\n",
      "\n",
      "See the caveats in the documentation: https://pandas.pydata.org/pandas-docs/stable/user_guide/indexing.html#returning-a-view-versus-a-copy\n",
      "  missing_lsoa_df.loc[:,'street_number2'] = missing_lsoa_df.loc[:,'street_number'].str.replace(r\"^.*(?=\\b[0-9]+$)\", \"\").str.replace(r\"[^\\d]\", \"\", regex = True)\n",
      "/tf/empty_homes_london/helper_functions.py:272: SettingWithCopyWarning: \n",
      "A value is trying to be set on a copy of a slice from a DataFrame.\n",
      "Try using .loc[row_indexer,col_indexer] = value instead\n",
      "\n",
      "See the caveats in the documentation: https://pandas.pydata.org/pandas-docs/stable/user_guide/indexing.html#returning-a-view-versus-a-copy\n",
      "  temp_multi['number_filter'] = filter_types\n"
     ]
    },
    {
     "name": "stdout",
     "output_type": "stream",
     "text": [
      "i= 0  expand time,0.0 filter time0.0 make_dataframe_time 0.001\n",
      "highstreetnorth\n",
      "hermitroad\n",
      "caledonroad\n",
      "highstreet\n",
      "romfordroad\n",
      "greenstreet\n",
      "westerngateway\n",
      "wartonroad\n",
      "humberstoneroad\n",
      "codyroad\n",
      "katherineroad\n",
      "victoriadockroad\n",
      "newbarnstreet\n",
      "E07000116\n"
     ]
    },
    {
     "name": "stderr",
     "output_type": "stream",
     "text": [
      "<ipython-input-13-8bc6428979cb>:35: SettingWithCopyWarning: \n",
      "A value is trying to be set on a copy of a slice from a DataFrame.\n",
      "Try using .loc[row_indexer,col_indexer] = value instead\n",
      "\n",
      "See the caveats in the documentation: https://pandas.pydata.org/pandas-docs/stable/user_guide/indexing.html#returning-a-view-versus-a-copy\n",
      "  missing_lsoa_road['lsoa11cd'] = [street_number_to_lsoa(temp_road, int(missing_lsoa_road.iloc[missing_lsoa_row]['street_number2']))\n",
      "<ipython-input-13-8bc6428979cb>:9: FutureWarning: The default value of regex will change from True to False in a future version.\n",
      "  missing_lsoa_df.loc[:,'street_number2'] = missing_lsoa_df.loc[:,'street_number'].str.replace(r\"^.*(?=\\b[0-9]+$)\", \"\").str.replace(r\"[^\\d]\", \"\", regex = True)\n",
      "<ipython-input-13-8bc6428979cb>:9: SettingWithCopyWarning: \n",
      "A value is trying to be set on a copy of a slice from a DataFrame.\n",
      "Try using .loc[row_indexer,col_indexer] = value instead\n",
      "\n",
      "See the caveats in the documentation: https://pandas.pydata.org/pandas-docs/stable/user_guide/indexing.html#returning-a-view-versus-a-copy\n",
      "  missing_lsoa_df.loc[:,'street_number2'] = missing_lsoa_df.loc[:,'street_number'].str.replace(r\"^.*(?=\\b[0-9]+$)\", \"\").str.replace(r\"[^\\d]\", \"\", regex = True)\n",
      "/tf/empty_homes_london/helper_functions.py:272: SettingWithCopyWarning: \n",
      "A value is trying to be set on a copy of a slice from a DataFrame.\n",
      "Try using .loc[row_indexer,col_indexer] = value instead\n",
      "\n",
      "See the caveats in the documentation: https://pandas.pydata.org/pandas-docs/stable/user_guide/indexing.html#returning-a-view-versus-a-copy\n",
      "  temp_multi['number_filter'] = filter_types\n",
      "<ipython-input-13-8bc6428979cb>:35: SettingWithCopyWarning: \n",
      "A value is trying to be set on a copy of a slice from a DataFrame.\n",
      "Try using .loc[row_indexer,col_indexer] = value instead\n",
      "\n",
      "See the caveats in the documentation: https://pandas.pydata.org/pandas-docs/stable/user_guide/indexing.html#returning-a-view-versus-a-copy\n",
      "  missing_lsoa_road['lsoa11cd'] = [street_number_to_lsoa(temp_road, int(missing_lsoa_road.iloc[missing_lsoa_row]['street_number2']))\n",
      "<ipython-input-13-8bc6428979cb>:9: FutureWarning: The default value of regex will change from True to False in a future version.\n",
      "  missing_lsoa_df.loc[:,'street_number2'] = missing_lsoa_df.loc[:,'street_number'].str.replace(r\"^.*(?=\\b[0-9]+$)\", \"\").str.replace(r\"[^\\d]\", \"\", regex = True)\n",
      "<ipython-input-13-8bc6428979cb>:9: SettingWithCopyWarning: \n",
      "A value is trying to be set on a copy of a slice from a DataFrame.\n",
      "Try using .loc[row_indexer,col_indexer] = value instead\n",
      "\n",
      "See the caveats in the documentation: https://pandas.pydata.org/pandas-docs/stable/user_guide/indexing.html#returning-a-view-versus-a-copy\n",
      "  missing_lsoa_df.loc[:,'street_number2'] = missing_lsoa_df.loc[:,'street_number'].str.replace(r\"^.*(?=\\b[0-9]+$)\", \"\").str.replace(r\"[^\\d]\", \"\", regex = True)\n"
     ]
    },
    {
     "name": "stdout",
     "output_type": "stream",
     "text": [
      "i= 0  expand time,0.0 filter time0.0 make_dataframe_time 0.001\n",
      "londonroad\n",
      "highstreet\n",
      "E06000036\n"
     ]
    },
    {
     "name": "stderr",
     "output_type": "stream",
     "text": [
      "/tf/empty_homes_london/helper_functions.py:272: SettingWithCopyWarning: \n",
      "A value is trying to be set on a copy of a slice from a DataFrame.\n",
      "Try using .loc[row_indexer,col_indexer] = value instead\n",
      "\n",
      "See the caveats in the documentation: https://pandas.pydata.org/pandas-docs/stable/user_guide/indexing.html#returning-a-view-versus-a-copy\n",
      "  temp_multi['number_filter'] = filter_types\n",
      "<ipython-input-13-8bc6428979cb>:35: SettingWithCopyWarning: \n",
      "A value is trying to be set on a copy of a slice from a DataFrame.\n",
      "Try using .loc[row_indexer,col_indexer] = value instead\n",
      "\n",
      "See the caveats in the documentation: https://pandas.pydata.org/pandas-docs/stable/user_guide/indexing.html#returning-a-view-versus-a-copy\n",
      "  missing_lsoa_road['lsoa11cd'] = [street_number_to_lsoa(temp_road, int(missing_lsoa_road.iloc[missing_lsoa_row]['street_number2']))\n",
      "<ipython-input-13-8bc6428979cb>:9: FutureWarning: The default value of regex will change from True to False in a future version.\n",
      "  missing_lsoa_df.loc[:,'street_number2'] = missing_lsoa_df.loc[:,'street_number'].str.replace(r\"^.*(?=\\b[0-9]+$)\", \"\").str.replace(r\"[^\\d]\", \"\", regex = True)\n",
      "<ipython-input-13-8bc6428979cb>:9: SettingWithCopyWarning: \n",
      "A value is trying to be set on a copy of a slice from a DataFrame.\n",
      "Try using .loc[row_indexer,col_indexer] = value instead\n",
      "\n",
      "See the caveats in the documentation: https://pandas.pydata.org/pandas-docs/stable/user_guide/indexing.html#returning-a-view-versus-a-copy\n",
      "  missing_lsoa_df.loc[:,'street_number2'] = missing_lsoa_df.loc[:,'street_number'].str.replace(r\"^.*(?=\\b[0-9]+$)\", \"\").str.replace(r\"[^\\d]\", \"\", regex = True)\n"
     ]
    },
    {
     "name": "stdout",
     "output_type": "stream",
     "text": [
      "i= 0  expand time,0.0 filter time0.0 make_dataframe_time 0.001\n",
      "yorktownroad\n",
      "skimpedhilllane\n",
      "W06000011\n"
     ]
    },
    {
     "name": "stderr",
     "output_type": "stream",
     "text": [
      "/tf/empty_homes_london/helper_functions.py:272: SettingWithCopyWarning: \n",
      "A value is trying to be set on a copy of a slice from a DataFrame.\n",
      "Try using .loc[row_indexer,col_indexer] = value instead\n",
      "\n",
      "See the caveats in the documentation: https://pandas.pydata.org/pandas-docs/stable/user_guide/indexing.html#returning-a-view-versus-a-copy\n",
      "  temp_multi['number_filter'] = filter_types\n",
      "<ipython-input-13-8bc6428979cb>:35: SettingWithCopyWarning: \n",
      "A value is trying to be set on a copy of a slice from a DataFrame.\n",
      "Try using .loc[row_indexer,col_indexer] = value instead\n",
      "\n",
      "See the caveats in the documentation: https://pandas.pydata.org/pandas-docs/stable/user_guide/indexing.html#returning-a-view-versus-a-copy\n",
      "  missing_lsoa_road['lsoa11cd'] = [street_number_to_lsoa(temp_road, int(missing_lsoa_road.iloc[missing_lsoa_row]['street_number2']))\n",
      "<ipython-input-13-8bc6428979cb>:9: FutureWarning: The default value of regex will change from True to False in a future version.\n",
      "  missing_lsoa_df.loc[:,'street_number2'] = missing_lsoa_df.loc[:,'street_number'].str.replace(r\"^.*(?=\\b[0-9]+$)\", \"\").str.replace(r\"[^\\d]\", \"\", regex = True)\n",
      "<ipython-input-13-8bc6428979cb>:9: SettingWithCopyWarning: \n",
      "A value is trying to be set on a copy of a slice from a DataFrame.\n",
      "Try using .loc[row_indexer,col_indexer] = value instead\n",
      "\n",
      "See the caveats in the documentation: https://pandas.pydata.org/pandas-docs/stable/user_guide/indexing.html#returning-a-view-versus-a-copy\n",
      "  missing_lsoa_df.loc[:,'street_number2'] = missing_lsoa_df.loc[:,'street_number'].str.replace(r\"^.*(?=\\b[0-9]+$)\", \"\").str.replace(r\"[^\\d]\", \"\", regex = True)\n"
     ]
    },
    {
     "name": "stdout",
     "output_type": "stream",
     "text": [
      "i= 0  expand time,0.0 filter time0.0 make_dataframe_time 0.001\n",
      "sthelenroad\n",
      "downleazecockett\n",
      "grovesend\n",
      "bryneglurroad\n",
      "lonheddwch\n",
      "E08000025\n"
     ]
    },
    {
     "name": "stderr",
     "output_type": "stream",
     "text": [
      "/tf/empty_homes_london/helper_functions.py:272: SettingWithCopyWarning: \n",
      "A value is trying to be set on a copy of a slice from a DataFrame.\n",
      "Try using .loc[row_indexer,col_indexer] = value instead\n",
      "\n",
      "See the caveats in the documentation: https://pandas.pydata.org/pandas-docs/stable/user_guide/indexing.html#returning-a-view-versus-a-copy\n",
      "  temp_multi['number_filter'] = filter_types\n"
     ]
    },
    {
     "name": "stdout",
     "output_type": "stream",
     "text": [
      "i= 0  expand time,0.0 filter time0.0 make_dataframe_time 0.001\n",
      "waterlooroad\n",
      "alcesterroad\n",
      "kingroad\n",
      "hurststreet\n",
      "allcockstreet\n",
      "exchangesquare\n",
      "woodridgeroad\n",
      "colmorerow\n",
      "newhallstreet\n",
      "ermingtoncrescent\n",
      "constitutionhill\n"
     ]
    },
    {
     "name": "stderr",
     "output_type": "stream",
     "text": [
      "<ipython-input-13-8bc6428979cb>:35: SettingWithCopyWarning: \n",
      "A value is trying to be set on a copy of a slice from a DataFrame.\n",
      "Try using .loc[row_indexer,col_indexer] = value instead\n",
      "\n",
      "See the caveats in the documentation: https://pandas.pydata.org/pandas-docs/stable/user_guide/indexing.html#returning-a-view-versus-a-copy\n",
      "  missing_lsoa_road['lsoa11cd'] = [street_number_to_lsoa(temp_road, int(missing_lsoa_road.iloc[missing_lsoa_row]['street_number2']))\n"
     ]
    },
    {
     "name": "stdout",
     "output_type": "stream",
     "text": [
      "corporationstreet\n",
      "islingtonrow\n",
      "moorgreenlane\n",
      "brindleyplace\n",
      "nurseryroad\n",
      "coventryroad\n",
      "frederickroad\n",
      "bournvillegardens\n",
      "clapgatelane\n",
      "stirlingroad\n",
      "allisonstreet\n",
      "coxstreet\n",
      "prioryqueensway\n",
      "E08000031\n"
     ]
    },
    {
     "name": "stderr",
     "output_type": "stream",
     "text": [
      "<ipython-input-13-8bc6428979cb>:9: FutureWarning: The default value of regex will change from True to False in a future version.\n",
      "  missing_lsoa_df.loc[:,'street_number2'] = missing_lsoa_df.loc[:,'street_number'].str.replace(r\"^.*(?=\\b[0-9]+$)\", \"\").str.replace(r\"[^\\d]\", \"\", regex = True)\n",
      "<ipython-input-13-8bc6428979cb>:9: SettingWithCopyWarning: \n",
      "A value is trying to be set on a copy of a slice from a DataFrame.\n",
      "Try using .loc[row_indexer,col_indexer] = value instead\n",
      "\n",
      "See the caveats in the documentation: https://pandas.pydata.org/pandas-docs/stable/user_guide/indexing.html#returning-a-view-versus-a-copy\n",
      "  missing_lsoa_df.loc[:,'street_number2'] = missing_lsoa_df.loc[:,'street_number'].str.replace(r\"^.*(?=\\b[0-9]+$)\", \"\").str.replace(r\"[^\\d]\", \"\", regex = True)\n",
      "/tf/empty_homes_london/helper_functions.py:272: SettingWithCopyWarning: \n",
      "A value is trying to be set on a copy of a slice from a DataFrame.\n",
      "Try using .loc[row_indexer,col_indexer] = value instead\n",
      "\n",
      "See the caveats in the documentation: https://pandas.pydata.org/pandas-docs/stable/user_guide/indexing.html#returning-a-view-versus-a-copy\n",
      "  temp_multi['number_filter'] = filter_types\n",
      "<ipython-input-13-8bc6428979cb>:35: SettingWithCopyWarning: \n",
      "A value is trying to be set on a copy of a slice from a DataFrame.\n",
      "Try using .loc[row_indexer,col_indexer] = value instead\n",
      "\n",
      "See the caveats in the documentation: https://pandas.pydata.org/pandas-docs/stable/user_guide/indexing.html#returning-a-view-versus-a-copy\n",
      "  missing_lsoa_road['lsoa11cd'] = [street_number_to_lsoa(temp_road, int(missing_lsoa_road.iloc[missing_lsoa_row]['street_number2']))\n",
      "<ipython-input-13-8bc6428979cb>:9: FutureWarning: The default value of regex will change from True to False in a future version.\n",
      "  missing_lsoa_df.loc[:,'street_number2'] = missing_lsoa_df.loc[:,'street_number'].str.replace(r\"^.*(?=\\b[0-9]+$)\", \"\").str.replace(r\"[^\\d]\", \"\", regex = True)\n",
      "<ipython-input-13-8bc6428979cb>:9: SettingWithCopyWarning: \n",
      "A value is trying to be set on a copy of a slice from a DataFrame.\n",
      "Try using .loc[row_indexer,col_indexer] = value instead\n",
      "\n",
      "See the caveats in the documentation: https://pandas.pydata.org/pandas-docs/stable/user_guide/indexing.html#returning-a-view-versus-a-copy\n",
      "  missing_lsoa_df.loc[:,'street_number2'] = missing_lsoa_df.loc[:,'street_number'].str.replace(r\"^.*(?=\\b[0-9]+$)\", \"\").str.replace(r\"[^\\d]\", \"\", regex = True)\n"
     ]
    },
    {
     "name": "stdout",
     "output_type": "stream",
     "text": [
      "i= 0  expand time,0.0 filter time0.0 make_dataframe_time 0.001\n",
      "lichfieldstreet\n",
      "princestreet\n",
      "E08000029\n"
     ]
    },
    {
     "name": "stderr",
     "output_type": "stream",
     "text": [
      "/tf/empty_homes_london/helper_functions.py:272: SettingWithCopyWarning: \n",
      "A value is trying to be set on a copy of a slice from a DataFrame.\n",
      "Try using .loc[row_indexer,col_indexer] = value instead\n",
      "\n",
      "See the caveats in the documentation: https://pandas.pydata.org/pandas-docs/stable/user_guide/indexing.html#returning-a-view-versus-a-copy\n",
      "  temp_multi['number_filter'] = filter_types\n"
     ]
    },
    {
     "name": "stdout",
     "output_type": "stream",
     "text": [
      "i= 0  expand time,0.0 filter time0.0 make_dataframe_time 0.001\n",
      "stratfordroad\n"
     ]
    },
    {
     "name": "stderr",
     "output_type": "stream",
     "text": [
      "<ipython-input-13-8bc6428979cb>:35: SettingWithCopyWarning: \n",
      "A value is trying to be set on a copy of a slice from a DataFrame.\n",
      "Try using .loc[row_indexer,col_indexer] = value instead\n",
      "\n",
      "See the caveats in the documentation: https://pandas.pydata.org/pandas-docs/stable/user_guide/indexing.html#returning-a-view-versus-a-copy\n",
      "  missing_lsoa_road['lsoa11cd'] = [street_number_to_lsoa(temp_road, int(missing_lsoa_road.iloc[missing_lsoa_row]['street_number2']))\n",
      "<ipython-input-13-8bc6428979cb>:9: FutureWarning: The default value of regex will change from True to False in a future version.\n",
      "  missing_lsoa_df.loc[:,'street_number2'] = missing_lsoa_df.loc[:,'street_number'].str.replace(r\"^.*(?=\\b[0-9]+$)\", \"\").str.replace(r\"[^\\d]\", \"\", regex = True)\n",
      "<ipython-input-13-8bc6428979cb>:9: SettingWithCopyWarning: \n",
      "A value is trying to be set on a copy of a slice from a DataFrame.\n",
      "Try using .loc[row_indexer,col_indexer] = value instead\n",
      "\n",
      "See the caveats in the documentation: https://pandas.pydata.org/pandas-docs/stable/user_guide/indexing.html#returning-a-view-versus-a-copy\n",
      "  missing_lsoa_df.loc[:,'street_number2'] = missing_lsoa_df.loc[:,'street_number'].str.replace(r\"^.*(?=\\b[0-9]+$)\", \"\").str.replace(r\"[^\\d]\", \"\", regex = True)\n"
     ]
    },
    {
     "name": "stdout",
     "output_type": "stream",
     "text": [
      "highstreet\n",
      "warwickroad\n",
      "poplarroad\n",
      "thecrescent\n",
      "solihullparkway\n",
      "E08000008\n"
     ]
    },
    {
     "name": "stderr",
     "output_type": "stream",
     "text": [
      "/tf/empty_homes_london/helper_functions.py:272: SettingWithCopyWarning: \n",
      "A value is trying to be set on a copy of a slice from a DataFrame.\n",
      "Try using .loc[row_indexer,col_indexer] = value instead\n",
      "\n",
      "See the caveats in the documentation: https://pandas.pydata.org/pandas-docs/stable/user_guide/indexing.html#returning-a-view-versus-a-copy\n",
      "  temp_multi['number_filter'] = filter_types\n",
      "<ipython-input-13-8bc6428979cb>:35: SettingWithCopyWarning: \n",
      "A value is trying to be set on a copy of a slice from a DataFrame.\n",
      "Try using .loc[row_indexer,col_indexer] = value instead\n",
      "\n",
      "See the caveats in the documentation: https://pandas.pydata.org/pandas-docs/stable/user_guide/indexing.html#returning-a-view-versus-a-copy\n",
      "  missing_lsoa_road['lsoa11cd'] = [street_number_to_lsoa(temp_road, int(missing_lsoa_road.iloc[missing_lsoa_row]['street_number2']))\n"
     ]
    },
    {
     "name": "stdout",
     "output_type": "stream",
     "text": [
      "i= 0  expand time,0.0 filter time0.0 make_dataframe_time 0.001\n",
      "ashtonroad\n",
      "salisburydrive\n",
      "annstreet\n",
      "marketplace\n",
      "manchesterroad\n",
      "georgestreet\n",
      "E07000226\n"
     ]
    },
    {
     "name": "stderr",
     "output_type": "stream",
     "text": [
      "<ipython-input-13-8bc6428979cb>:9: FutureWarning: The default value of regex will change from True to False in a future version.\n",
      "  missing_lsoa_df.loc[:,'street_number2'] = missing_lsoa_df.loc[:,'street_number'].str.replace(r\"^.*(?=\\b[0-9]+$)\", \"\").str.replace(r\"[^\\d]\", \"\", regex = True)\n",
      "<ipython-input-13-8bc6428979cb>:9: SettingWithCopyWarning: \n",
      "A value is trying to be set on a copy of a slice from a DataFrame.\n",
      "Try using .loc[row_indexer,col_indexer] = value instead\n",
      "\n",
      "See the caveats in the documentation: https://pandas.pydata.org/pandas-docs/stable/user_guide/indexing.html#returning-a-view-versus-a-copy\n",
      "  missing_lsoa_df.loc[:,'street_number2'] = missing_lsoa_df.loc[:,'street_number'].str.replace(r\"^.*(?=\\b[0-9]+$)\", \"\").str.replace(r\"[^\\d]\", \"\", regex = True)\n",
      "/tf/empty_homes_london/helper_functions.py:272: SettingWithCopyWarning: \n",
      "A value is trying to be set on a copy of a slice from a DataFrame.\n",
      "Try using .loc[row_indexer,col_indexer] = value instead\n",
      "\n",
      "See the caveats in the documentation: https://pandas.pydata.org/pandas-docs/stable/user_guide/indexing.html#returning-a-view-versus-a-copy\n",
      "  temp_multi['number_filter'] = filter_types\n",
      "<ipython-input-13-8bc6428979cb>:35: SettingWithCopyWarning: \n",
      "A value is trying to be set on a copy of a slice from a DataFrame.\n",
      "Try using .loc[row_indexer,col_indexer] = value instead\n",
      "\n",
      "See the caveats in the documentation: https://pandas.pydata.org/pandas-docs/stable/user_guide/indexing.html#returning-a-view-versus-a-copy\n",
      "  missing_lsoa_road['lsoa11cd'] = [street_number_to_lsoa(temp_road, int(missing_lsoa_road.iloc[missing_lsoa_row]['street_number2']))\n",
      "<ipython-input-13-8bc6428979cb>:9: FutureWarning: The default value of regex will change from True to False in a future version.\n",
      "  missing_lsoa_df.loc[:,'street_number2'] = missing_lsoa_df.loc[:,'street_number'].str.replace(r\"^.*(?=\\b[0-9]+$)\", \"\").str.replace(r\"[^\\d]\", \"\", regex = True)\n",
      "<ipython-input-13-8bc6428979cb>:9: SettingWithCopyWarning: \n",
      "A value is trying to be set on a copy of a slice from a DataFrame.\n",
      "Try using .loc[row_indexer,col_indexer] = value instead\n",
      "\n",
      "See the caveats in the documentation: https://pandas.pydata.org/pandas-docs/stable/user_guide/indexing.html#returning-a-view-versus-a-copy\n",
      "  missing_lsoa_df.loc[:,'street_number2'] = missing_lsoa_df.loc[:,'street_number'].str.replace(r\"^.*(?=\\b[0-9]+$)\", \"\").str.replace(r\"[^\\d]\", \"\", regex = True)\n"
     ]
    },
    {
     "name": "stdout",
     "output_type": "stream",
     "text": [
      "i= 0  expand time,0.0 filter time0.0 make_dataframe_time 0.001\n",
      "gatwickroad\n",
      "londonroad\n",
      "W06000006\n",
      "llayroad\n",
      "E06000039\n"
     ]
    },
    {
     "name": "stderr",
     "output_type": "stream",
     "text": [
      "<ipython-input-13-8bc6428979cb>:9: FutureWarning: The default value of regex will change from True to False in a future version.\n",
      "  missing_lsoa_df.loc[:,'street_number2'] = missing_lsoa_df.loc[:,'street_number'].str.replace(r\"^.*(?=\\b[0-9]+$)\", \"\").str.replace(r\"[^\\d]\", \"\", regex = True)\n",
      "<ipython-input-13-8bc6428979cb>:9: SettingWithCopyWarning: \n",
      "A value is trying to be set on a copy of a slice from a DataFrame.\n",
      "Try using .loc[row_indexer,col_indexer] = value instead\n",
      "\n",
      "See the caveats in the documentation: https://pandas.pydata.org/pandas-docs/stable/user_guide/indexing.html#returning-a-view-versus-a-copy\n",
      "  missing_lsoa_df.loc[:,'street_number2'] = missing_lsoa_df.loc[:,'street_number'].str.replace(r\"^.*(?=\\b[0-9]+$)\", \"\").str.replace(r\"[^\\d]\", \"\", regex = True)\n",
      "/tf/empty_homes_london/helper_functions.py:272: SettingWithCopyWarning: \n",
      "A value is trying to be set on a copy of a slice from a DataFrame.\n",
      "Try using .loc[row_indexer,col_indexer] = value instead\n",
      "\n",
      "See the caveats in the documentation: https://pandas.pydata.org/pandas-docs/stable/user_guide/indexing.html#returning-a-view-versus-a-copy\n",
      "  temp_multi['number_filter'] = filter_types\n"
     ]
    },
    {
     "name": "stdout",
     "output_type": "stream",
     "text": [
      "i= 0  expand time,0.0 filter time0.0 make_dataframe_time 0.001\n",
      "bathroad\n",
      "cumberlandavenue\n",
      "montroseavenue\n",
      "highstreet\n",
      "canterburyavenue\n"
     ]
    },
    {
     "name": "stderr",
     "output_type": "stream",
     "text": [
      "<ipython-input-13-8bc6428979cb>:35: SettingWithCopyWarning: \n",
      "A value is trying to be set on a copy of a slice from a DataFrame.\n",
      "Try using .loc[row_indexer,col_indexer] = value instead\n",
      "\n",
      "See the caveats in the documentation: https://pandas.pydata.org/pandas-docs/stable/user_guide/indexing.html#returning-a-view-versus-a-copy\n",
      "  missing_lsoa_road['lsoa11cd'] = [street_number_to_lsoa(temp_road, int(missing_lsoa_road.iloc[missing_lsoa_row]['street_number2']))\n",
      "<ipython-input-13-8bc6428979cb>:9: FutureWarning: The default value of regex will change from True to False in a future version.\n",
      "  missing_lsoa_df.loc[:,'street_number2'] = missing_lsoa_df.loc[:,'street_number'].str.replace(r\"^.*(?=\\b[0-9]+$)\", \"\").str.replace(r\"[^\\d]\", \"\", regex = True)\n",
      "<ipython-input-13-8bc6428979cb>:9: SettingWithCopyWarning: \n",
      "A value is trying to be set on a copy of a slice from a DataFrame.\n",
      "Try using .loc[row_indexer,col_indexer] = value instead\n",
      "\n",
      "See the caveats in the documentation: https://pandas.pydata.org/pandas-docs/stable/user_guide/indexing.html#returning-a-view-versus-a-copy\n",
      "  missing_lsoa_df.loc[:,'street_number2'] = missing_lsoa_df.loc[:,'street_number'].str.replace(r\"^.*(?=\\b[0-9]+$)\", \"\").str.replace(r\"[^\\d]\", \"\", regex = True)\n"
     ]
    },
    {
     "name": "stdout",
     "output_type": "stream",
     "text": [
      "ajaxavenue\n",
      "marlboroughgrove\n",
      "E08000005\n"
     ]
    },
    {
     "name": "stderr",
     "output_type": "stream",
     "text": [
      "/tf/empty_homes_london/helper_functions.py:272: SettingWithCopyWarning: \n",
      "A value is trying to be set on a copy of a slice from a DataFrame.\n",
      "Try using .loc[row_indexer,col_indexer] = value instead\n",
      "\n",
      "See the caveats in the documentation: https://pandas.pydata.org/pandas-docs/stable/user_guide/indexing.html#returning-a-view-versus-a-copy\n",
      "  temp_multi['number_filter'] = filter_types\n"
     ]
    },
    {
     "name": "stdout",
     "output_type": "stream",
     "text": [
      "i= 0  expand time,0.0 filter time0.0 make_dataframe_time 0.001\n",
      "oldhamroad\n"
     ]
    },
    {
     "name": "stderr",
     "output_type": "stream",
     "text": [
      "<ipython-input-13-8bc6428979cb>:35: SettingWithCopyWarning: \n",
      "A value is trying to be set on a copy of a slice from a DataFrame.\n",
      "Try using .loc[row_indexer,col_indexer] = value instead\n",
      "\n",
      "See the caveats in the documentation: https://pandas.pydata.org/pandas-docs/stable/user_guide/indexing.html#returning-a-view-versus-a-copy\n",
      "  missing_lsoa_road['lsoa11cd'] = [street_number_to_lsoa(temp_road, int(missing_lsoa_road.iloc[missing_lsoa_row]['street_number2']))\n",
      "<ipython-input-13-8bc6428979cb>:9: FutureWarning: The default value of regex will change from True to False in a future version.\n",
      "  missing_lsoa_df.loc[:,'street_number2'] = missing_lsoa_df.loc[:,'street_number'].str.replace(r\"^.*(?=\\b[0-9]+$)\", \"\").str.replace(r\"[^\\d]\", \"\", regex = True)\n",
      "<ipython-input-13-8bc6428979cb>:9: SettingWithCopyWarning: \n",
      "A value is trying to be set on a copy of a slice from a DataFrame.\n",
      "Try using .loc[row_indexer,col_indexer] = value instead\n",
      "\n",
      "See the caveats in the documentation: https://pandas.pydata.org/pandas-docs/stable/user_guide/indexing.html#returning-a-view-versus-a-copy\n",
      "  missing_lsoa_df.loc[:,'street_number2'] = missing_lsoa_df.loc[:,'street_number'].str.replace(r\"^.*(?=\\b[0-9]+$)\", \"\").str.replace(r\"[^\\d]\", \"\", regex = True)\n"
     ]
    },
    {
     "name": "stdout",
     "output_type": "stream",
     "text": [
      "ashgrove\n",
      "shawroad\n",
      "marketplace\n",
      "darnhill\n",
      "whitworthroad\n",
      "yorkshirestreet\n",
      "todmordenroad\n",
      "E06000023\n"
     ]
    },
    {
     "name": "stderr",
     "output_type": "stream",
     "text": [
      "/tf/empty_homes_london/helper_functions.py:272: SettingWithCopyWarning: \n",
      "A value is trying to be set on a copy of a slice from a DataFrame.\n",
      "Try using .loc[row_indexer,col_indexer] = value instead\n",
      "\n",
      "See the caveats in the documentation: https://pandas.pydata.org/pandas-docs/stable/user_guide/indexing.html#returning-a-view-versus-a-copy\n",
      "  temp_multi['number_filter'] = filter_types\n",
      "<ipython-input-13-8bc6428979cb>:35: SettingWithCopyWarning: \n",
      "A value is trying to be set on a copy of a slice from a DataFrame.\n",
      "Try using .loc[row_indexer,col_indexer] = value instead\n",
      "\n",
      "See the caveats in the documentation: https://pandas.pydata.org/pandas-docs/stable/user_guide/indexing.html#returning-a-view-versus-a-copy\n",
      "  missing_lsoa_road['lsoa11cd'] = [street_number_to_lsoa(temp_road, int(missing_lsoa_road.iloc[missing_lsoa_row]['street_number2']))\n"
     ]
    },
    {
     "name": "stdout",
     "output_type": "stream",
     "text": [
      "i= 0  expand time,0.0 filter time0.0 make_dataframe_time 0.001\n",
      "fishpondroad\n",
      "gloucesterroad\n",
      "alexandrapark\n",
      "parkstreet\n",
      "portlandplace\n",
      "trinitystreet\n",
      "E09000006\n"
     ]
    },
    {
     "name": "stderr",
     "output_type": "stream",
     "text": [
      "<ipython-input-13-8bc6428979cb>:9: FutureWarning: The default value of regex will change from True to False in a future version.\n",
      "  missing_lsoa_df.loc[:,'street_number2'] = missing_lsoa_df.loc[:,'street_number'].str.replace(r\"^.*(?=\\b[0-9]+$)\", \"\").str.replace(r\"[^\\d]\", \"\", regex = True)\n",
      "<ipython-input-13-8bc6428979cb>:9: SettingWithCopyWarning: \n",
      "A value is trying to be set on a copy of a slice from a DataFrame.\n",
      "Try using .loc[row_indexer,col_indexer] = value instead\n",
      "\n",
      "See the caveats in the documentation: https://pandas.pydata.org/pandas-docs/stable/user_guide/indexing.html#returning-a-view-versus-a-copy\n",
      "  missing_lsoa_df.loc[:,'street_number2'] = missing_lsoa_df.loc[:,'street_number'].str.replace(r\"^.*(?=\\b[0-9]+$)\", \"\").str.replace(r\"[^\\d]\", \"\", regex = True)\n",
      "/tf/empty_homes_london/helper_functions.py:272: SettingWithCopyWarning: \n",
      "A value is trying to be set on a copy of a slice from a DataFrame.\n",
      "Try using .loc[row_indexer,col_indexer] = value instead\n",
      "\n",
      "See the caveats in the documentation: https://pandas.pydata.org/pandas-docs/stable/user_guide/indexing.html#returning-a-view-versus-a-copy\n",
      "  temp_multi['number_filter'] = filter_types\n"
     ]
    },
    {
     "name": "stdout",
     "output_type": "stream",
     "text": [
      "i= 0  expand time,0.0 filter time0.0 make_dataframe_time 0.001\n",
      "highstreet\n",
      "marketsquare\n",
      "weststreet\n",
      "shirelane\n",
      "croydonroad\n",
      "E07000121\n"
     ]
    },
    {
     "name": "stderr",
     "output_type": "stream",
     "text": [
      "<ipython-input-13-8bc6428979cb>:35: SettingWithCopyWarning: \n",
      "A value is trying to be set on a copy of a slice from a DataFrame.\n",
      "Try using .loc[row_indexer,col_indexer] = value instead\n",
      "\n",
      "See the caveats in the documentation: https://pandas.pydata.org/pandas-docs/stable/user_guide/indexing.html#returning-a-view-versus-a-copy\n",
      "  missing_lsoa_road['lsoa11cd'] = [street_number_to_lsoa(temp_road, int(missing_lsoa_road.iloc[missing_lsoa_row]['street_number2']))\n",
      "<ipython-input-13-8bc6428979cb>:9: FutureWarning: The default value of regex will change from True to False in a future version.\n",
      "  missing_lsoa_df.loc[:,'street_number2'] = missing_lsoa_df.loc[:,'street_number'].str.replace(r\"^.*(?=\\b[0-9]+$)\", \"\").str.replace(r\"[^\\d]\", \"\", regex = True)\n",
      "<ipython-input-13-8bc6428979cb>:9: SettingWithCopyWarning: \n",
      "A value is trying to be set on a copy of a slice from a DataFrame.\n",
      "Try using .loc[row_indexer,col_indexer] = value instead\n",
      "\n",
      "See the caveats in the documentation: https://pandas.pydata.org/pandas-docs/stable/user_guide/indexing.html#returning-a-view-versus-a-copy\n",
      "  missing_lsoa_df.loc[:,'street_number2'] = missing_lsoa_df.loc[:,'street_number'].str.replace(r\"^.*(?=\\b[0-9]+$)\", \"\").str.replace(r\"[^\\d]\", \"\", regex = True)\n",
      "/tf/empty_homes_london/helper_functions.py:272: SettingWithCopyWarning: \n",
      "A value is trying to be set on a copy of a slice from a DataFrame.\n",
      "Try using .loc[row_indexer,col_indexer] = value instead\n",
      "\n",
      "See the caveats in the documentation: https://pandas.pydata.org/pandas-docs/stable/user_guide/indexing.html#returning-a-view-versus-a-copy\n",
      "  temp_multi['number_filter'] = filter_types\n",
      "<ipython-input-13-8bc6428979cb>:35: SettingWithCopyWarning: \n",
      "A value is trying to be set on a copy of a slice from a DataFrame.\n",
      "Try using .loc[row_indexer,col_indexer] = value instead\n",
      "\n",
      "See the caveats in the documentation: https://pandas.pydata.org/pandas-docs/stable/user_guide/indexing.html#returning-a-view-versus-a-copy\n",
      "  missing_lsoa_road['lsoa11cd'] = [street_number_to_lsoa(temp_road, int(missing_lsoa_road.iloc[missing_lsoa_row]['street_number2']))\n",
      "<ipython-input-13-8bc6428979cb>:9: FutureWarning: The default value of regex will change from True to False in a future version.\n",
      "  missing_lsoa_df.loc[:,'street_number2'] = missing_lsoa_df.loc[:,'street_number'].str.replace(r\"^.*(?=\\b[0-9]+$)\", \"\").str.replace(r\"[^\\d]\", \"\", regex = True)\n",
      "<ipython-input-13-8bc6428979cb>:9: SettingWithCopyWarning: \n",
      "A value is trying to be set on a copy of a slice from a DataFrame.\n",
      "Try using .loc[row_indexer,col_indexer] = value instead\n",
      "\n",
      "See the caveats in the documentation: https://pandas.pydata.org/pandas-docs/stable/user_guide/indexing.html#returning-a-view-versus-a-copy\n",
      "  missing_lsoa_df.loc[:,'street_number2'] = missing_lsoa_df.loc[:,'street_number'].str.replace(r\"^.*(?=\\b[0-9]+$)\", \"\").str.replace(r\"[^\\d]\", \"\", regex = True)\n"
     ]
    },
    {
     "name": "stdout",
     "output_type": "stream",
     "text": [
      "i= 0  expand time,0.0 filter time0.0 make_dataframe_time 0.001\n",
      "parliamentstreet\n",
      "regentroad\n",
      "E09000017\n"
     ]
    },
    {
     "name": "stderr",
     "output_type": "stream",
     "text": [
      "/tf/empty_homes_london/helper_functions.py:272: SettingWithCopyWarning: \n",
      "A value is trying to be set on a copy of a slice from a DataFrame.\n",
      "Try using .loc[row_indexer,col_indexer] = value instead\n",
      "\n",
      "See the caveats in the documentation: https://pandas.pydata.org/pandas-docs/stable/user_guide/indexing.html#returning-a-view-versus-a-copy\n",
      "  temp_multi['number_filter'] = filter_types\n"
     ]
    },
    {
     "name": "stdout",
     "output_type": "stream",
     "text": [
      "i= 0  expand time,0.0 filter time0.0 make_dataframe_time 0.001\n",
      "coldharbourlane\n",
      "beaconsfieldroad\n",
      "highstreet\n",
      "longlane\n",
      "E09000018\n"
     ]
    },
    {
     "name": "stderr",
     "output_type": "stream",
     "text": [
      "<ipython-input-13-8bc6428979cb>:35: SettingWithCopyWarning: \n",
      "A value is trying to be set on a copy of a slice from a DataFrame.\n",
      "Try using .loc[row_indexer,col_indexer] = value instead\n",
      "\n",
      "See the caveats in the documentation: https://pandas.pydata.org/pandas-docs/stable/user_guide/indexing.html#returning-a-view-versus-a-copy\n",
      "  missing_lsoa_road['lsoa11cd'] = [street_number_to_lsoa(temp_road, int(missing_lsoa_road.iloc[missing_lsoa_row]['street_number2']))\n",
      "<ipython-input-13-8bc6428979cb>:9: FutureWarning: The default value of regex will change from True to False in a future version.\n",
      "  missing_lsoa_df.loc[:,'street_number2'] = missing_lsoa_df.loc[:,'street_number'].str.replace(r\"^.*(?=\\b[0-9]+$)\", \"\").str.replace(r\"[^\\d]\", \"\", regex = True)\n",
      "<ipython-input-13-8bc6428979cb>:9: SettingWithCopyWarning: \n",
      "A value is trying to be set on a copy of a slice from a DataFrame.\n",
      "Try using .loc[row_indexer,col_indexer] = value instead\n",
      "\n",
      "See the caveats in the documentation: https://pandas.pydata.org/pandas-docs/stable/user_guide/indexing.html#returning-a-view-versus-a-copy\n",
      "  missing_lsoa_df.loc[:,'street_number2'] = missing_lsoa_df.loc[:,'street_number'].str.replace(r\"^.*(?=\\b[0-9]+$)\", \"\").str.replace(r\"[^\\d]\", \"\", regex = True)\n",
      "/tf/empty_homes_london/helper_functions.py:272: SettingWithCopyWarning: \n",
      "A value is trying to be set on a copy of a slice from a DataFrame.\n",
      "Try using .loc[row_indexer,col_indexer] = value instead\n",
      "\n",
      "See the caveats in the documentation: https://pandas.pydata.org/pandas-docs/stable/user_guide/indexing.html#returning-a-view-versus-a-copy\n",
      "  temp_multi['number_filter'] = filter_types\n"
     ]
    },
    {
     "name": "stdout",
     "output_type": "stream",
     "text": [
      "i= 0  expand time,0.0 filter time0.0 make_dataframe_time 0.001\n",
      "chiswickhighroad\n",
      "highstreet\n",
      "hanworthroad\n",
      "stjohnroad\n",
      "turnhamgreenterrace\n",
      "chertseyroad\n"
     ]
    },
    {
     "name": "stderr",
     "output_type": "stream",
     "text": [
      "<ipython-input-13-8bc6428979cb>:35: SettingWithCopyWarning: \n",
      "A value is trying to be set on a copy of a slice from a DataFrame.\n",
      "Try using .loc[row_indexer,col_indexer] = value instead\n",
      "\n",
      "See the caveats in the documentation: https://pandas.pydata.org/pandas-docs/stable/user_guide/indexing.html#returning-a-view-versus-a-copy\n",
      "  missing_lsoa_road['lsoa11cd'] = [street_number_to_lsoa(temp_road, int(missing_lsoa_road.iloc[missing_lsoa_row]['street_number2']))\n"
     ]
    },
    {
     "name": "stdout",
     "output_type": "stream",
     "text": [
      "cliftongardens\n",
      "kewbridgeroad\n",
      "parkview\n",
      "greatwestroad\n",
      "staineroad\n",
      "ravensmedeway\n",
      "arlingtongardens\n",
      "bathroad\n",
      "harlequinavenue\n",
      "E09000003\n"
     ]
    },
    {
     "name": "stderr",
     "output_type": "stream",
     "text": [
      "<ipython-input-13-8bc6428979cb>:9: FutureWarning: The default value of regex will change from True to False in a future version.\n",
      "  missing_lsoa_df.loc[:,'street_number2'] = missing_lsoa_df.loc[:,'street_number'].str.replace(r\"^.*(?=\\b[0-9]+$)\", \"\").str.replace(r\"[^\\d]\", \"\", regex = True)\n",
      "<ipython-input-13-8bc6428979cb>:9: SettingWithCopyWarning: \n",
      "A value is trying to be set on a copy of a slice from a DataFrame.\n",
      "Try using .loc[row_indexer,col_indexer] = value instead\n",
      "\n",
      "See the caveats in the documentation: https://pandas.pydata.org/pandas-docs/stable/user_guide/indexing.html#returning-a-view-versus-a-copy\n",
      "  missing_lsoa_df.loc[:,'street_number2'] = missing_lsoa_df.loc[:,'street_number'].str.replace(r\"^.*(?=\\b[0-9]+$)\", \"\").str.replace(r\"[^\\d]\", \"\", regex = True)\n",
      "/tf/empty_homes_london/helper_functions.py:272: SettingWithCopyWarning: \n",
      "A value is trying to be set on a copy of a slice from a DataFrame.\n",
      "Try using .loc[row_indexer,col_indexer] = value instead\n",
      "\n",
      "See the caveats in the documentation: https://pandas.pydata.org/pandas-docs/stable/user_guide/indexing.html#returning-a-view-versus-a-copy\n",
      "  temp_multi['number_filter'] = filter_types\n"
     ]
    },
    {
     "name": "stdout",
     "output_type": "stream",
     "text": [
      "i= 0  expand time,0.0 filter time0.0 make_dataframe_time 0.001\n",
      "greatnorthroad\n",
      "totteridgelane\n",
      "marketplace\n",
      "stationroad\n",
      "highroad\n",
      "goldergreenroad\n",
      "westheathroad\n",
      "newarkparade,\n",
      "watfordway\n",
      "westhendonbroadway\n",
      "willifieldway\n",
      "regentparkroad\n",
      "sunningfieldroad\n",
      "thebishopavenue\n",
      "hendonparkrow\n",
      "russelllane\n"
     ]
    },
    {
     "name": "stderr",
     "output_type": "stream",
     "text": [
      "<ipython-input-13-8bc6428979cb>:35: SettingWithCopyWarning: \n",
      "A value is trying to be set on a copy of a slice from a DataFrame.\n",
      "Try using .loc[row_indexer,col_indexer] = value instead\n",
      "\n",
      "See the caveats in the documentation: https://pandas.pydata.org/pandas-docs/stable/user_guide/indexing.html#returning-a-view-versus-a-copy\n",
      "  missing_lsoa_road['lsoa11cd'] = [street_number_to_lsoa(temp_road, int(missing_lsoa_road.iloc[missing_lsoa_row]['street_number2']))\n"
     ]
    },
    {
     "name": "stdout",
     "output_type": "stream",
     "text": [
      "victoriaroad\n",
      "belllane\n",
      "E07000106\n"
     ]
    },
    {
     "name": "stderr",
     "output_type": "stream",
     "text": [
      "<ipython-input-13-8bc6428979cb>:9: FutureWarning: The default value of regex will change from True to False in a future version.\n",
      "  missing_lsoa_df.loc[:,'street_number2'] = missing_lsoa_df.loc[:,'street_number'].str.replace(r\"^.*(?=\\b[0-9]+$)\", \"\").str.replace(r\"[^\\d]\", \"\", regex = True)\n",
      "<ipython-input-13-8bc6428979cb>:9: SettingWithCopyWarning: \n",
      "A value is trying to be set on a copy of a slice from a DataFrame.\n",
      "Try using .loc[row_indexer,col_indexer] = value instead\n",
      "\n",
      "See the caveats in the documentation: https://pandas.pydata.org/pandas-docs/stable/user_guide/indexing.html#returning-a-view-versus-a-copy\n",
      "  missing_lsoa_df.loc[:,'street_number2'] = missing_lsoa_df.loc[:,'street_number'].str.replace(r\"^.*(?=\\b[0-9]+$)\", \"\").str.replace(r\"[^\\d]\", \"\", regex = True)\n",
      "/tf/empty_homes_london/helper_functions.py:272: SettingWithCopyWarning: \n",
      "A value is trying to be set on a copy of a slice from a DataFrame.\n",
      "Try using .loc[row_indexer,col_indexer] = value instead\n",
      "\n",
      "See the caveats in the documentation: https://pandas.pydata.org/pandas-docs/stable/user_guide/indexing.html#returning-a-view-versus-a-copy\n",
      "  temp_multi['number_filter'] = filter_types\n",
      "<ipython-input-13-8bc6428979cb>:9: FutureWarning: The default value of regex will change from True to False in a future version.\n",
      "  missing_lsoa_df.loc[:,'street_number2'] = missing_lsoa_df.loc[:,'street_number'].str.replace(r\"^.*(?=\\b[0-9]+$)\", \"\").str.replace(r\"[^\\d]\", \"\", regex = True)\n",
      "<ipython-input-13-8bc6428979cb>:9: SettingWithCopyWarning: \n",
      "A value is trying to be set on a copy of a slice from a DataFrame.\n",
      "Try using .loc[row_indexer,col_indexer] = value instead\n",
      "\n",
      "See the caveats in the documentation: https://pandas.pydata.org/pandas-docs/stable/user_guide/indexing.html#returning-a-view-versus-a-copy\n",
      "  missing_lsoa_df.loc[:,'street_number2'] = missing_lsoa_df.loc[:,'street_number'].str.replace(r\"^.*(?=\\b[0-9]+$)\", \"\").str.replace(r\"[^\\d]\", \"\", regex = True)\n"
     ]
    },
    {
     "name": "stdout",
     "output_type": "stream",
     "text": [
      "i= 0  expand time,0.0 filter time0.0 make_dataframe_time 0.001\n",
      "sturryroad\n",
      "E07000229\n"
     ]
    },
    {
     "name": "stderr",
     "output_type": "stream",
     "text": [
      "/tf/empty_homes_london/helper_functions.py:272: SettingWithCopyWarning: \n",
      "A value is trying to be set on a copy of a slice from a DataFrame.\n",
      "Try using .loc[row_indexer,col_indexer] = value instead\n",
      "\n",
      "See the caveats in the documentation: https://pandas.pydata.org/pandas-docs/stable/user_guide/indexing.html#returning-a-view-versus-a-copy\n",
      "  temp_multi['number_filter'] = filter_types\n",
      "<ipython-input-13-8bc6428979cb>:35: SettingWithCopyWarning: \n",
      "A value is trying to be set on a copy of a slice from a DataFrame.\n",
      "Try using .loc[row_indexer,col_indexer] = value instead\n",
      "\n",
      "See the caveats in the documentation: https://pandas.pydata.org/pandas-docs/stable/user_guide/indexing.html#returning-a-view-versus-a-copy\n",
      "  missing_lsoa_road['lsoa11cd'] = [street_number_to_lsoa(temp_road, int(missing_lsoa_road.iloc[missing_lsoa_row]['street_number2']))\n",
      "<ipython-input-13-8bc6428979cb>:9: FutureWarning: The default value of regex will change from True to False in a future version.\n",
      "  missing_lsoa_df.loc[:,'street_number2'] = missing_lsoa_df.loc[:,'street_number'].str.replace(r\"^.*(?=\\b[0-9]+$)\", \"\").str.replace(r\"[^\\d]\", \"\", regex = True)\n",
      "<ipython-input-13-8bc6428979cb>:9: SettingWithCopyWarning: \n",
      "A value is trying to be set on a copy of a slice from a DataFrame.\n",
      "Try using .loc[row_indexer,col_indexer] = value instead\n",
      "\n",
      "See the caveats in the documentation: https://pandas.pydata.org/pandas-docs/stable/user_guide/indexing.html#returning-a-view-versus-a-copy\n",
      "  missing_lsoa_df.loc[:,'street_number2'] = missing_lsoa_df.loc[:,'street_number'].str.replace(r\"^.*(?=\\b[0-9]+$)\", \"\").str.replace(r\"[^\\d]\", \"\", regex = True)\n"
     ]
    },
    {
     "name": "stdout",
     "output_type": "stream",
     "text": [
      "i= 0  expand time,0.0 filter time0.0 make_dataframe_time 0.001\n",
      "southstreet\n",
      "marineplace\n",
      "E08000034\n"
     ]
    },
    {
     "name": "stderr",
     "output_type": "stream",
     "text": [
      "/tf/empty_homes_london/helper_functions.py:272: SettingWithCopyWarning: \n",
      "A value is trying to be set on a copy of a slice from a DataFrame.\n",
      "Try using .loc[row_indexer,col_indexer] = value instead\n",
      "\n",
      "See the caveats in the documentation: https://pandas.pydata.org/pandas-docs/stable/user_guide/indexing.html#returning-a-view-versus-a-copy\n",
      "  temp_multi['number_filter'] = filter_types\n",
      "<ipython-input-13-8bc6428979cb>:35: SettingWithCopyWarning: \n",
      "A value is trying to be set on a copy of a slice from a DataFrame.\n",
      "Try using .loc[row_indexer,col_indexer] = value instead\n",
      "\n",
      "See the caveats in the documentation: https://pandas.pydata.org/pandas-docs/stable/user_guide/indexing.html#returning-a-view-versus-a-copy\n",
      "  missing_lsoa_road['lsoa11cd'] = [street_number_to_lsoa(temp_road, int(missing_lsoa_road.iloc[missing_lsoa_row]['street_number2']))\n",
      "<ipython-input-13-8bc6428979cb>:9: FutureWarning: The default value of regex will change from True to False in a future version.\n",
      "  missing_lsoa_df.loc[:,'street_number2'] = missing_lsoa_df.loc[:,'street_number'].str.replace(r\"^.*(?=\\b[0-9]+$)\", \"\").str.replace(r\"[^\\d]\", \"\", regex = True)\n",
      "<ipython-input-13-8bc6428979cb>:9: SettingWithCopyWarning: \n",
      "A value is trying to be set on a copy of a slice from a DataFrame.\n",
      "Try using .loc[row_indexer,col_indexer] = value instead\n",
      "\n",
      "See the caveats in the documentation: https://pandas.pydata.org/pandas-docs/stable/user_guide/indexing.html#returning-a-view-versus-a-copy\n",
      "  missing_lsoa_df.loc[:,'street_number2'] = missing_lsoa_df.loc[:,'street_number'].str.replace(r\"^.*(?=\\b[0-9]+$)\", \"\").str.replace(r\"[^\\d]\", \"\", regex = True)\n"
     ]
    },
    {
     "name": "stdout",
     "output_type": "stream",
     "text": [
      "i= 0  expand time,0.0 filter time0.0 make_dataframe_time 0.001\n",
      "marketplace\n",
      "westgate\n",
      "newstreet\n",
      "woodheadroad\n",
      "firthstreet\n",
      "spenlane\n",
      "E07000111\n",
      "oldlondonroad\n",
      "E09000023\n"
     ]
    },
    {
     "name": "stderr",
     "output_type": "stream",
     "text": [
      "<ipython-input-13-8bc6428979cb>:9: FutureWarning: The default value of regex will change from True to False in a future version.\n",
      "  missing_lsoa_df.loc[:,'street_number2'] = missing_lsoa_df.loc[:,'street_number'].str.replace(r\"^.*(?=\\b[0-9]+$)\", \"\").str.replace(r\"[^\\d]\", \"\", regex = True)\n",
      "<ipython-input-13-8bc6428979cb>:9: SettingWithCopyWarning: \n",
      "A value is trying to be set on a copy of a slice from a DataFrame.\n",
      "Try using .loc[row_indexer,col_indexer] = value instead\n",
      "\n",
      "See the caveats in the documentation: https://pandas.pydata.org/pandas-docs/stable/user_guide/indexing.html#returning-a-view-versus-a-copy\n",
      "  missing_lsoa_df.loc[:,'street_number2'] = missing_lsoa_df.loc[:,'street_number'].str.replace(r\"^.*(?=\\b[0-9]+$)\", \"\").str.replace(r\"[^\\d]\", \"\", regex = True)\n",
      "/tf/empty_homes_london/helper_functions.py:272: SettingWithCopyWarning: \n",
      "A value is trying to be set on a copy of a slice from a DataFrame.\n",
      "Try using .loc[row_indexer,col_indexer] = value instead\n",
      "\n",
      "See the caveats in the documentation: https://pandas.pydata.org/pandas-docs/stable/user_guide/indexing.html#returning-a-view-versus-a-copy\n",
      "  temp_multi['number_filter'] = filter_types\n"
     ]
    },
    {
     "name": "stdout",
     "output_type": "stream",
     "text": [
      "i= 0  expand time,0.0 filter time0.0 make_dataframe_time 0.001\n",
      "bromleyroad\n",
      "lewishamhighstreet\n",
      "lewishamgrove\n",
      "brockleyroad\n",
      "sydenhamroad\n",
      "stansteadroad\n",
      "newcroroad\n",
      "E07000165\n"
     ]
    },
    {
     "name": "stderr",
     "output_type": "stream",
     "text": [
      "<ipython-input-13-8bc6428979cb>:35: SettingWithCopyWarning: \n",
      "A value is trying to be set on a copy of a slice from a DataFrame.\n",
      "Try using .loc[row_indexer,col_indexer] = value instead\n",
      "\n",
      "See the caveats in the documentation: https://pandas.pydata.org/pandas-docs/stable/user_guide/indexing.html#returning-a-view-versus-a-copy\n",
      "  missing_lsoa_road['lsoa11cd'] = [street_number_to_lsoa(temp_road, int(missing_lsoa_road.iloc[missing_lsoa_row]['street_number2']))\n",
      "<ipython-input-13-8bc6428979cb>:9: FutureWarning: The default value of regex will change from True to False in a future version.\n",
      "  missing_lsoa_df.loc[:,'street_number2'] = missing_lsoa_df.loc[:,'street_number'].str.replace(r\"^.*(?=\\b[0-9]+$)\", \"\").str.replace(r\"[^\\d]\", \"\", regex = True)\n",
      "<ipython-input-13-8bc6428979cb>:9: SettingWithCopyWarning: \n",
      "A value is trying to be set on a copy of a slice from a DataFrame.\n",
      "Try using .loc[row_indexer,col_indexer] = value instead\n",
      "\n",
      "See the caveats in the documentation: https://pandas.pydata.org/pandas-docs/stable/user_guide/indexing.html#returning-a-view-versus-a-copy\n",
      "  missing_lsoa_df.loc[:,'street_number2'] = missing_lsoa_df.loc[:,'street_number'].str.replace(r\"^.*(?=\\b[0-9]+$)\", \"\").str.replace(r\"[^\\d]\", \"\", regex = True)\n"
     ]
    },
    {
     "name": "stdout",
     "output_type": "stream",
     "text": [
      "harrogate\n",
      "E07000034\n"
     ]
    },
    {
     "name": "stderr",
     "output_type": "stream",
     "text": [
      "<ipython-input-13-8bc6428979cb>:9: FutureWarning: The default value of regex will change from True to False in a future version.\n",
      "  missing_lsoa_df.loc[:,'street_number2'] = missing_lsoa_df.loc[:,'street_number'].str.replace(r\"^.*(?=\\b[0-9]+$)\", \"\").str.replace(r\"[^\\d]\", \"\", regex = True)\n",
      "<ipython-input-13-8bc6428979cb>:9: SettingWithCopyWarning: \n",
      "A value is trying to be set on a copy of a slice from a DataFrame.\n",
      "Try using .loc[row_indexer,col_indexer] = value instead\n",
      "\n",
      "See the caveats in the documentation: https://pandas.pydata.org/pandas-docs/stable/user_guide/indexing.html#returning-a-view-versus-a-copy\n",
      "  missing_lsoa_df.loc[:,'street_number2'] = missing_lsoa_df.loc[:,'street_number'].str.replace(r\"^.*(?=\\b[0-9]+$)\", \"\").str.replace(r\"[^\\d]\", \"\", regex = True)\n",
      "/tf/empty_homes_london/helper_functions.py:272: SettingWithCopyWarning: \n",
      "A value is trying to be set on a copy of a slice from a DataFrame.\n",
      "Try using .loc[row_indexer,col_indexer] = value instead\n",
      "\n",
      "See the caveats in the documentation: https://pandas.pydata.org/pandas-docs/stable/user_guide/indexing.html#returning-a-view-versus-a-copy\n",
      "  temp_multi['number_filter'] = filter_types\n",
      "<ipython-input-13-8bc6428979cb>:35: SettingWithCopyWarning: \n",
      "A value is trying to be set on a copy of a slice from a DataFrame.\n",
      "Try using .loc[row_indexer,col_indexer] = value instead\n",
      "\n",
      "See the caveats in the documentation: https://pandas.pydata.org/pandas-docs/stable/user_guide/indexing.html#returning-a-view-versus-a-copy\n",
      "  missing_lsoa_road['lsoa11cd'] = [street_number_to_lsoa(temp_road, int(missing_lsoa_road.iloc[missing_lsoa_row]['street_number2']))\n",
      "<ipython-input-13-8bc6428979cb>:9: FutureWarning: The default value of regex will change from True to False in a future version.\n",
      "  missing_lsoa_df.loc[:,'street_number2'] = missing_lsoa_df.loc[:,'street_number'].str.replace(r\"^.*(?=\\b[0-9]+$)\", \"\").str.replace(r\"[^\\d]\", \"\", regex = True)\n",
      "<ipython-input-13-8bc6428979cb>:9: SettingWithCopyWarning: \n",
      "A value is trying to be set on a copy of a slice from a DataFrame.\n",
      "Try using .loc[row_indexer,col_indexer] = value instead\n",
      "\n",
      "See the caveats in the documentation: https://pandas.pydata.org/pandas-docs/stable/user_guide/indexing.html#returning-a-view-versus-a-copy\n",
      "  missing_lsoa_df.loc[:,'street_number2'] = missing_lsoa_df.loc[:,'street_number'].str.replace(r\"^.*(?=\\b[0-9]+$)\", \"\").str.replace(r\"[^\\d]\", \"\", regex = True)\n"
     ]
    },
    {
     "name": "stdout",
     "output_type": "stream",
     "text": [
      "i= 0  expand time,0.0 filter time0.0 make_dataframe_time 0.001\n",
      "highstreet\n",
      "marketplace\n",
      "E07000008\n"
     ]
    },
    {
     "name": "stderr",
     "output_type": "stream",
     "text": [
      "/tf/empty_homes_london/helper_functions.py:272: SettingWithCopyWarning: \n",
      "A value is trying to be set on a copy of a slice from a DataFrame.\n",
      "Try using .loc[row_indexer,col_indexer] = value instead\n",
      "\n",
      "See the caveats in the documentation: https://pandas.pydata.org/pandas-docs/stable/user_guide/indexing.html#returning-a-view-versus-a-copy\n",
      "  temp_multi['number_filter'] = filter_types\n",
      "<ipython-input-13-8bc6428979cb>:35: SettingWithCopyWarning: \n",
      "A value is trying to be set on a copy of a slice from a DataFrame.\n",
      "Try using .loc[row_indexer,col_indexer] = value instead\n",
      "\n",
      "See the caveats in the documentation: https://pandas.pydata.org/pandas-docs/stable/user_guide/indexing.html#returning-a-view-versus-a-copy\n",
      "  missing_lsoa_road['lsoa11cd'] = [street_number_to_lsoa(temp_road, int(missing_lsoa_road.iloc[missing_lsoa_row]['street_number2']))\n",
      "<ipython-input-13-8bc6428979cb>:9: FutureWarning: The default value of regex will change from True to False in a future version.\n",
      "  missing_lsoa_df.loc[:,'street_number2'] = missing_lsoa_df.loc[:,'street_number'].str.replace(r\"^.*(?=\\b[0-9]+$)\", \"\").str.replace(r\"[^\\d]\", \"\", regex = True)\n",
      "<ipython-input-13-8bc6428979cb>:9: SettingWithCopyWarning: \n",
      "A value is trying to be set on a copy of a slice from a DataFrame.\n",
      "Try using .loc[row_indexer,col_indexer] = value instead\n",
      "\n",
      "See the caveats in the documentation: https://pandas.pydata.org/pandas-docs/stable/user_guide/indexing.html#returning-a-view-versus-a-copy\n",
      "  missing_lsoa_df.loc[:,'street_number2'] = missing_lsoa_df.loc[:,'street_number'].str.replace(r\"^.*(?=\\b[0-9]+$)\", \"\").str.replace(r\"[^\\d]\", \"\", regex = True)\n"
     ]
    },
    {
     "name": "stdout",
     "output_type": "stream",
     "text": [
      "i= 0  expand time,0.0 filter time0.0 make_dataframe_time 0.001\n",
      "carltonway\n",
      "newmarketroad\n",
      "canterburystreetcambridge\n",
      "E07000118\n",
      "fieldspringgardens\n",
      "westhoughtonroad\n",
      "molane\n",
      "E09000021\n"
     ]
    },
    {
     "name": "stderr",
     "output_type": "stream",
     "text": [
      "<ipython-input-13-8bc6428979cb>:35: SettingWithCopyWarning: \n",
      "A value is trying to be set on a copy of a slice from a DataFrame.\n",
      "Try using .loc[row_indexer,col_indexer] = value instead\n",
      "\n",
      "See the caveats in the documentation: https://pandas.pydata.org/pandas-docs/stable/user_guide/indexing.html#returning-a-view-versus-a-copy\n",
      "  missing_lsoa_road['lsoa11cd'] = [street_number_to_lsoa(temp_road, int(missing_lsoa_road.iloc[missing_lsoa_row]['street_number2']))\n",
      "<ipython-input-13-8bc6428979cb>:9: FutureWarning: The default value of regex will change from True to False in a future version.\n",
      "  missing_lsoa_df.loc[:,'street_number2'] = missing_lsoa_df.loc[:,'street_number'].str.replace(r\"^.*(?=\\b[0-9]+$)\", \"\").str.replace(r\"[^\\d]\", \"\", regex = True)\n",
      "<ipython-input-13-8bc6428979cb>:9: SettingWithCopyWarning: \n",
      "A value is trying to be set on a copy of a slice from a DataFrame.\n",
      "Try using .loc[row_indexer,col_indexer] = value instead\n",
      "\n",
      "See the caveats in the documentation: https://pandas.pydata.org/pandas-docs/stable/user_guide/indexing.html#returning-a-view-versus-a-copy\n",
      "  missing_lsoa_df.loc[:,'street_number2'] = missing_lsoa_df.loc[:,'street_number'].str.replace(r\"^.*(?=\\b[0-9]+$)\", \"\").str.replace(r\"[^\\d]\", \"\", regex = True)\n",
      "/tf/empty_homes_london/helper_functions.py:272: SettingWithCopyWarning: \n",
      "A value is trying to be set on a copy of a slice from a DataFrame.\n",
      "Try using .loc[row_indexer,col_indexer] = value instead\n",
      "\n",
      "See the caveats in the documentation: https://pandas.pydata.org/pandas-docs/stable/user_guide/indexing.html#returning-a-view-versus-a-copy\n",
      "  temp_multi['number_filter'] = filter_types\n"
     ]
    },
    {
     "name": "stdout",
     "output_type": "stream",
     "text": [
      "i= 0  expand time,0.0 filter time0.0 make_dataframe_time 0.001\n",
      "richmondroad\n",
      "highstreet\n"
     ]
    },
    {
     "name": "stderr",
     "output_type": "stream",
     "text": [
      "<ipython-input-13-8bc6428979cb>:35: SettingWithCopyWarning: \n",
      "A value is trying to be set on a copy of a slice from a DataFrame.\n",
      "Try using .loc[row_indexer,col_indexer] = value instead\n",
      "\n",
      "See the caveats in the documentation: https://pandas.pydata.org/pandas-docs/stable/user_guide/indexing.html#returning-a-view-versus-a-copy\n",
      "  missing_lsoa_road['lsoa11cd'] = [street_number_to_lsoa(temp_road, int(missing_lsoa_road.iloc[missing_lsoa_row]['street_number2']))\n",
      "<ipython-input-13-8bc6428979cb>:9: FutureWarning: The default value of regex will change from True to False in a future version.\n",
      "  missing_lsoa_df.loc[:,'street_number2'] = missing_lsoa_df.loc[:,'street_number'].str.replace(r\"^.*(?=\\b[0-9]+$)\", \"\").str.replace(r\"[^\\d]\", \"\", regex = True)\n",
      "<ipython-input-13-8bc6428979cb>:9: SettingWithCopyWarning: \n",
      "A value is trying to be set on a copy of a slice from a DataFrame.\n",
      "Try using .loc[row_indexer,col_indexer] = value instead\n",
      "\n",
      "See the caveats in the documentation: https://pandas.pydata.org/pandas-docs/stable/user_guide/indexing.html#returning-a-view-versus-a-copy\n",
      "  missing_lsoa_df.loc[:,'street_number2'] = missing_lsoa_df.loc[:,'street_number'].str.replace(r\"^.*(?=\\b[0-9]+$)\", \"\").str.replace(r\"[^\\d]\", \"\", regex = True)\n"
     ]
    },
    {
     "name": "stdout",
     "output_type": "stream",
     "text": [
      "brightonroad\n",
      "canburyparkroad\n",
      "blagdonroad\n",
      "victoriaroad\n",
      "kingstonhill\n",
      "bathpassage\n",
      "E07000069\n"
     ]
    },
    {
     "name": "stderr",
     "output_type": "stream",
     "text": [
      "/tf/empty_homes_london/helper_functions.py:272: SettingWithCopyWarning: \n",
      "A value is trying to be set on a copy of a slice from a DataFrame.\n",
      "Try using .loc[row_indexer,col_indexer] = value instead\n",
      "\n",
      "See the caveats in the documentation: https://pandas.pydata.org/pandas-docs/stable/user_guide/indexing.html#returning-a-view-versus-a-copy\n",
      "  temp_multi['number_filter'] = filter_types\n",
      "<ipython-input-13-8bc6428979cb>:9: FutureWarning: The default value of regex will change from True to False in a future version.\n",
      "  missing_lsoa_df.loc[:,'street_number2'] = missing_lsoa_df.loc[:,'street_number'].str.replace(r\"^.*(?=\\b[0-9]+$)\", \"\").str.replace(r\"[^\\d]\", \"\", regex = True)\n",
      "<ipython-input-13-8bc6428979cb>:9: SettingWithCopyWarning: \n",
      "A value is trying to be set on a copy of a slice from a DataFrame.\n",
      "Try using .loc[row_indexer,col_indexer] = value instead\n",
      "\n",
      "See the caveats in the documentation: https://pandas.pydata.org/pandas-docs/stable/user_guide/indexing.html#returning-a-view-versus-a-copy\n",
      "  missing_lsoa_df.loc[:,'street_number2'] = missing_lsoa_df.loc[:,'street_number'].str.replace(r\"^.*(?=\\b[0-9]+$)\", \"\").str.replace(r\"[^\\d]\", \"\", regex = True)\n"
     ]
    },
    {
     "name": "stdout",
     "output_type": "stream",
     "text": [
      "i= 0  expand time,0.0 filter time0.0 make_dataframe_time 0.001\n",
      "highroad\n",
      "E09000031\n"
     ]
    },
    {
     "name": "stderr",
     "output_type": "stream",
     "text": [
      "/tf/empty_homes_london/helper_functions.py:272: SettingWithCopyWarning: \n",
      "A value is trying to be set on a copy of a slice from a DataFrame.\n",
      "Try using .loc[row_indexer,col_indexer] = value instead\n",
      "\n",
      "See the caveats in the documentation: https://pandas.pydata.org/pandas-docs/stable/user_guide/indexing.html#returning-a-view-versus-a-copy\n",
      "  temp_multi['number_filter'] = filter_types\n",
      "<ipython-input-13-8bc6428979cb>:35: SettingWithCopyWarning: \n",
      "A value is trying to be set on a copy of a slice from a DataFrame.\n",
      "Try using .loc[row_indexer,col_indexer] = value instead\n",
      "\n",
      "See the caveats in the documentation: https://pandas.pydata.org/pandas-docs/stable/user_guide/indexing.html#returning-a-view-versus-a-copy\n",
      "  missing_lsoa_road['lsoa11cd'] = [street_number_to_lsoa(temp_road, int(missing_lsoa_road.iloc[missing_lsoa_row]['street_number2']))\n"
     ]
    },
    {
     "name": "stdout",
     "output_type": "stream",
     "text": [
      "i= 0  expand time,0.0 filter time0.0 make_dataframe_time 0.001\n",
      "westburyroad\n",
      "highstreet\n",
      "hoestreet\n",
      "glenthorneroad\n",
      "E07000172\n"
     ]
    },
    {
     "name": "stderr",
     "output_type": "stream",
     "text": [
      "<ipython-input-13-8bc6428979cb>:9: FutureWarning: The default value of regex will change from True to False in a future version.\n",
      "  missing_lsoa_df.loc[:,'street_number2'] = missing_lsoa_df.loc[:,'street_number'].str.replace(r\"^.*(?=\\b[0-9]+$)\", \"\").str.replace(r\"[^\\d]\", \"\", regex = True)\n",
      "<ipython-input-13-8bc6428979cb>:9: SettingWithCopyWarning: \n",
      "A value is trying to be set on a copy of a slice from a DataFrame.\n",
      "Try using .loc[row_indexer,col_indexer] = value instead\n",
      "\n",
      "See the caveats in the documentation: https://pandas.pydata.org/pandas-docs/stable/user_guide/indexing.html#returning-a-view-versus-a-copy\n",
      "  missing_lsoa_df.loc[:,'street_number2'] = missing_lsoa_df.loc[:,'street_number'].str.replace(r\"^.*(?=\\b[0-9]+$)\", \"\").str.replace(r\"[^\\d]\", \"\", regex = True)\n",
      "/tf/empty_homes_london/helper_functions.py:272: SettingWithCopyWarning: \n",
      "A value is trying to be set on a copy of a slice from a DataFrame.\n",
      "Try using .loc[row_indexer,col_indexer] = value instead\n",
      "\n",
      "See the caveats in the documentation: https://pandas.pydata.org/pandas-docs/stable/user_guide/indexing.html#returning-a-view-versus-a-copy\n",
      "  temp_multi['number_filter'] = filter_types\n",
      "<ipython-input-13-8bc6428979cb>:9: FutureWarning: The default value of regex will change from True to False in a future version.\n",
      "  missing_lsoa_df.loc[:,'street_number2'] = missing_lsoa_df.loc[:,'street_number'].str.replace(r\"^.*(?=\\b[0-9]+$)\", \"\").str.replace(r\"[^\\d]\", \"\", regex = True)\n",
      "<ipython-input-13-8bc6428979cb>:9: SettingWithCopyWarning: \n",
      "A value is trying to be set on a copy of a slice from a DataFrame.\n",
      "Try using .loc[row_indexer,col_indexer] = value instead\n",
      "\n",
      "See the caveats in the documentation: https://pandas.pydata.org/pandas-docs/stable/user_guide/indexing.html#returning-a-view-versus-a-copy\n",
      "  missing_lsoa_df.loc[:,'street_number2'] = missing_lsoa_df.loc[:,'street_number'].str.replace(r\"^.*(?=\\b[0-9]+$)\", \"\").str.replace(r\"[^\\d]\", \"\", regex = True)\n"
     ]
    },
    {
     "name": "stdout",
     "output_type": "stream",
     "text": [
      "i= 0  expand time,0.0 filter time0.0 make_dataframe_time 0.001\n",
      "highroad\n",
      "E06000041\n"
     ]
    },
    {
     "name": "stderr",
     "output_type": "stream",
     "text": [
      "/tf/empty_homes_london/helper_functions.py:272: SettingWithCopyWarning: \n",
      "A value is trying to be set on a copy of a slice from a DataFrame.\n",
      "Try using .loc[row_indexer,col_indexer] = value instead\n",
      "\n",
      "See the caveats in the documentation: https://pandas.pydata.org/pandas-docs/stable/user_guide/indexing.html#returning-a-view-versus-a-copy\n",
      "  temp_multi['number_filter'] = filter_types\n",
      "<ipython-input-13-8bc6428979cb>:35: SettingWithCopyWarning: \n",
      "A value is trying to be set on a copy of a slice from a DataFrame.\n",
      "Try using .loc[row_indexer,col_indexer] = value instead\n",
      "\n",
      "See the caveats in the documentation: https://pandas.pydata.org/pandas-docs/stable/user_guide/indexing.html#returning-a-view-versus-a-copy\n",
      "  missing_lsoa_road['lsoa11cd'] = [street_number_to_lsoa(temp_road, int(missing_lsoa_road.iloc[missing_lsoa_row]['street_number2']))\n",
      "<ipython-input-13-8bc6428979cb>:9: FutureWarning: The default value of regex will change from True to False in a future version.\n",
      "  missing_lsoa_df.loc[:,'street_number2'] = missing_lsoa_df.loc[:,'street_number'].str.replace(r\"^.*(?=\\b[0-9]+$)\", \"\").str.replace(r\"[^\\d]\", \"\", regex = True)\n",
      "<ipython-input-13-8bc6428979cb>:9: SettingWithCopyWarning: \n",
      "A value is trying to be set on a copy of a slice from a DataFrame.\n",
      "Try using .loc[row_indexer,col_indexer] = value instead\n",
      "\n",
      "See the caveats in the documentation: https://pandas.pydata.org/pandas-docs/stable/user_guide/indexing.html#returning-a-view-versus-a-copy\n",
      "  missing_lsoa_df.loc[:,'street_number2'] = missing_lsoa_df.loc[:,'street_number'].str.replace(r\"^.*(?=\\b[0-9]+$)\", \"\").str.replace(r\"[^\\d]\", \"\", regex = True)\n"
     ]
    },
    {
     "name": "stdout",
     "output_type": "stream",
     "text": [
      "i= 0  expand time,0.0 filter time0.0 make_dataframe_time 0.001\n",
      "colemanmoorroad\n",
      "thamevalleypark\n",
      "E06000042\n"
     ]
    },
    {
     "name": "stderr",
     "output_type": "stream",
     "text": [
      "/tf/empty_homes_london/helper_functions.py:272: SettingWithCopyWarning: \n",
      "A value is trying to be set on a copy of a slice from a DataFrame.\n",
      "Try using .loc[row_indexer,col_indexer] = value instead\n",
      "\n",
      "See the caveats in the documentation: https://pandas.pydata.org/pandas-docs/stable/user_guide/indexing.html#returning-a-view-versus-a-copy\n",
      "  temp_multi['number_filter'] = filter_types\n",
      "<ipython-input-13-8bc6428979cb>:35: SettingWithCopyWarning: \n",
      "A value is trying to be set on a copy of a slice from a DataFrame.\n",
      "Try using .loc[row_indexer,col_indexer] = value instead\n",
      "\n",
      "See the caveats in the documentation: https://pandas.pydata.org/pandas-docs/stable/user_guide/indexing.html#returning-a-view-versus-a-copy\n",
      "  missing_lsoa_road['lsoa11cd'] = [street_number_to_lsoa(temp_road, int(missing_lsoa_road.iloc[missing_lsoa_row]['street_number2']))\n",
      "<ipython-input-13-8bc6428979cb>:9: FutureWarning: The default value of regex will change from True to False in a future version.\n",
      "  missing_lsoa_df.loc[:,'street_number2'] = missing_lsoa_df.loc[:,'street_number'].str.replace(r\"^.*(?=\\b[0-9]+$)\", \"\").str.replace(r\"[^\\d]\", \"\", regex = True)\n",
      "<ipython-input-13-8bc6428979cb>:9: SettingWithCopyWarning: \n",
      "A value is trying to be set on a copy of a slice from a DataFrame.\n",
      "Try using .loc[row_indexer,col_indexer] = value instead\n",
      "\n",
      "See the caveats in the documentation: https://pandas.pydata.org/pandas-docs/stable/user_guide/indexing.html#returning-a-view-versus-a-copy\n",
      "  missing_lsoa_df.loc[:,'street_number2'] = missing_lsoa_df.loc[:,'street_number'].str.replace(r\"^.*(?=\\b[0-9]+$)\", \"\").str.replace(r\"[^\\d]\", \"\", regex = True)\n"
     ]
    },
    {
     "name": "stdout",
     "output_type": "stream",
     "text": [
      "i= 0  expand time,0.0 filter time0.0 make_dataframe_time 0.001\n",
      "queensway\n",
      "aveburyboulevard\n",
      "highstreet\n",
      "E06000021\n"
     ]
    },
    {
     "name": "stderr",
     "output_type": "stream",
     "text": [
      "/tf/empty_homes_london/helper_functions.py:272: SettingWithCopyWarning: \n",
      "A value is trying to be set on a copy of a slice from a DataFrame.\n",
      "Try using .loc[row_indexer,col_indexer] = value instead\n",
      "\n",
      "See the caveats in the documentation: https://pandas.pydata.org/pandas-docs/stable/user_guide/indexing.html#returning-a-view-versus-a-copy\n",
      "  temp_multi['number_filter'] = filter_types\n",
      "<ipython-input-13-8bc6428979cb>:35: SettingWithCopyWarning: \n",
      "A value is trying to be set on a copy of a slice from a DataFrame.\n",
      "Try using .loc[row_indexer,col_indexer] = value instead\n",
      "\n",
      "See the caveats in the documentation: https://pandas.pydata.org/pandas-docs/stable/user_guide/indexing.html#returning-a-view-versus-a-copy\n",
      "  missing_lsoa_road['lsoa11cd'] = [street_number_to_lsoa(temp_road, int(missing_lsoa_road.iloc[missing_lsoa_row]['street_number2']))\n",
      "<ipython-input-13-8bc6428979cb>:9: FutureWarning: The default value of regex will change from True to False in a future version.\n",
      "  missing_lsoa_df.loc[:,'street_number2'] = missing_lsoa_df.loc[:,'street_number'].str.replace(r\"^.*(?=\\b[0-9]+$)\", \"\").str.replace(r\"[^\\d]\", \"\", regex = True)\n",
      "<ipython-input-13-8bc6428979cb>:9: SettingWithCopyWarning: \n",
      "A value is trying to be set on a copy of a slice from a DataFrame.\n",
      "Try using .loc[row_indexer,col_indexer] = value instead\n",
      "\n",
      "See the caveats in the documentation: https://pandas.pydata.org/pandas-docs/stable/user_guide/indexing.html#returning-a-view-versus-a-copy\n",
      "  missing_lsoa_df.loc[:,'street_number2'] = missing_lsoa_df.loc[:,'street_number'].str.replace(r\"^.*(?=\\b[0-9]+$)\", \"\").str.replace(r\"[^\\d]\", \"\", regex = True)\n"
     ]
    },
    {
     "name": "stdout",
     "output_type": "stream",
     "text": [
      "i= 0  expand time,0.0 filter time0.0 make_dataframe_time 0.001\n",
      "moorlandroad\n",
      "dividyroad\n",
      "E07000211\n"
     ]
    },
    {
     "name": "stderr",
     "output_type": "stream",
     "text": [
      "/tf/empty_homes_london/helper_functions.py:272: SettingWithCopyWarning: \n",
      "A value is trying to be set on a copy of a slice from a DataFrame.\n",
      "Try using .loc[row_indexer,col_indexer] = value instead\n",
      "\n",
      "See the caveats in the documentation: https://pandas.pydata.org/pandas-docs/stable/user_guide/indexing.html#returning-a-view-versus-a-copy\n",
      "  temp_multi['number_filter'] = filter_types\n",
      "<ipython-input-13-8bc6428979cb>:35: SettingWithCopyWarning: \n",
      "A value is trying to be set on a copy of a slice from a DataFrame.\n",
      "Try using .loc[row_indexer,col_indexer] = value instead\n",
      "\n",
      "See the caveats in the documentation: https://pandas.pydata.org/pandas-docs/stable/user_guide/indexing.html#returning-a-view-versus-a-copy\n",
      "  missing_lsoa_road['lsoa11cd'] = [street_number_to_lsoa(temp_road, int(missing_lsoa_road.iloc[missing_lsoa_row]['street_number2']))\n",
      "<ipython-input-13-8bc6428979cb>:9: FutureWarning: The default value of regex will change from True to False in a future version.\n",
      "  missing_lsoa_df.loc[:,'street_number2'] = missing_lsoa_df.loc[:,'street_number'].str.replace(r\"^.*(?=\\b[0-9]+$)\", \"\").str.replace(r\"[^\\d]\", \"\", regex = True)\n"
     ]
    },
    {
     "name": "stdout",
     "output_type": "stream",
     "text": [
      "i= 0  expand time,0.0 filter time0.0 make_dataframe_time 0.001\n",
      "victoriaroad\n",
      "brightonroad\n",
      "greenlane\n",
      "highstreet\n",
      "E07000246\n"
     ]
    },
    {
     "name": "stderr",
     "output_type": "stream",
     "text": [
      "<ipython-input-13-8bc6428979cb>:9: SettingWithCopyWarning: \n",
      "A value is trying to be set on a copy of a slice from a DataFrame.\n",
      "Try using .loc[row_indexer,col_indexer] = value instead\n",
      "\n",
      "See the caveats in the documentation: https://pandas.pydata.org/pandas-docs/stable/user_guide/indexing.html#returning-a-view-versus-a-copy\n",
      "  missing_lsoa_df.loc[:,'street_number2'] = missing_lsoa_df.loc[:,'street_number'].str.replace(r\"^.*(?=\\b[0-9]+$)\", \"\").str.replace(r\"[^\\d]\", \"\", regex = True)\n",
      "/tf/empty_homes_london/helper_functions.py:272: SettingWithCopyWarning: \n",
      "A value is trying to be set on a copy of a slice from a DataFrame.\n",
      "Try using .loc[row_indexer,col_indexer] = value instead\n",
      "\n",
      "See the caveats in the documentation: https://pandas.pydata.org/pandas-docs/stable/user_guide/indexing.html#returning-a-view-versus-a-copy\n",
      "  temp_multi['number_filter'] = filter_types\n",
      "<ipython-input-13-8bc6428979cb>:35: SettingWithCopyWarning: \n",
      "A value is trying to be set on a copy of a slice from a DataFrame.\n",
      "Try using .loc[row_indexer,col_indexer] = value instead\n",
      "\n",
      "See the caveats in the documentation: https://pandas.pydata.org/pandas-docs/stable/user_guide/indexing.html#returning-a-view-versus-a-copy\n",
      "  missing_lsoa_road['lsoa11cd'] = [street_number_to_lsoa(temp_road, int(missing_lsoa_road.iloc[missing_lsoa_row]['street_number2']))\n",
      "<ipython-input-13-8bc6428979cb>:9: FutureWarning: The default value of regex will change from True to False in a future version.\n",
      "  missing_lsoa_df.loc[:,'street_number2'] = missing_lsoa_df.loc[:,'street_number'].str.replace(r\"^.*(?=\\b[0-9]+$)\", \"\").str.replace(r\"[^\\d]\", \"\", regex = True)\n",
      "<ipython-input-13-8bc6428979cb>:9: SettingWithCopyWarning: \n",
      "A value is trying to be set on a copy of a slice from a DataFrame.\n",
      "Try using .loc[row_indexer,col_indexer] = value instead\n",
      "\n",
      "See the caveats in the documentation: https://pandas.pydata.org/pandas-docs/stable/user_guide/indexing.html#returning-a-view-versus-a-copy\n",
      "  missing_lsoa_df.loc[:,'street_number2'] = missing_lsoa_df.loc[:,'street_number'].str.replace(r\"^.*(?=\\b[0-9]+$)\", \"\").str.replace(r\"[^\\d]\", \"\", regex = True)\n"
     ]
    },
    {
     "name": "stdout",
     "output_type": "stream",
     "text": [
      "i= 0  expand time,0.0 filter time0.0 make_dataframe_time 0.001\n",
      "millhouseroad\n",
      "stationroad\n",
      "atheparade,\n",
      "E08000022\n",
      "bentonroad\n",
      "wallsend\n",
      "newyorkroad\n",
      "W06000016\n"
     ]
    },
    {
     "name": "stderr",
     "output_type": "stream",
     "text": [
      "<ipython-input-13-8bc6428979cb>:35: SettingWithCopyWarning: \n",
      "A value is trying to be set on a copy of a slice from a DataFrame.\n",
      "Try using .loc[row_indexer,col_indexer] = value instead\n",
      "\n",
      "See the caveats in the documentation: https://pandas.pydata.org/pandas-docs/stable/user_guide/indexing.html#returning-a-view-versus-a-copy\n",
      "  missing_lsoa_road['lsoa11cd'] = [street_number_to_lsoa(temp_road, int(missing_lsoa_road.iloc[missing_lsoa_row]['street_number2']))\n",
      "<ipython-input-13-8bc6428979cb>:9: FutureWarning: The default value of regex will change from True to False in a future version.\n",
      "  missing_lsoa_df.loc[:,'street_number2'] = missing_lsoa_df.loc[:,'street_number'].str.replace(r\"^.*(?=\\b[0-9]+$)\", \"\").str.replace(r\"[^\\d]\", \"\", regex = True)\n",
      "<ipython-input-13-8bc6428979cb>:9: SettingWithCopyWarning: \n",
      "A value is trying to be set on a copy of a slice from a DataFrame.\n",
      "Try using .loc[row_indexer,col_indexer] = value instead\n",
      "\n",
      "See the caveats in the documentation: https://pandas.pydata.org/pandas-docs/stable/user_guide/indexing.html#returning-a-view-versus-a-copy\n",
      "  missing_lsoa_df.loc[:,'street_number2'] = missing_lsoa_df.loc[:,'street_number'].str.replace(r\"^.*(?=\\b[0-9]+$)\", \"\").str.replace(r\"[^\\d]\", \"\", regex = True)\n"
     ]
    },
    {
     "name": "stdout",
     "output_type": "stream",
     "text": [
      "reestreet\n",
      "ashgrove\n",
      "E07000037\n"
     ]
    },
    {
     "name": "stderr",
     "output_type": "stream",
     "text": [
      "<ipython-input-13-8bc6428979cb>:35: SettingWithCopyWarning: \n",
      "A value is trying to be set on a copy of a slice from a DataFrame.\n",
      "Try using .loc[row_indexer,col_indexer] = value instead\n",
      "\n",
      "See the caveats in the documentation: https://pandas.pydata.org/pandas-docs/stable/user_guide/indexing.html#returning-a-view-versus-a-copy\n",
      "  missing_lsoa_road['lsoa11cd'] = [street_number_to_lsoa(temp_road, int(missing_lsoa_road.iloc[missing_lsoa_row]['street_number2']))\n",
      "<ipython-input-13-8bc6428979cb>:9: FutureWarning: The default value of regex will change from True to False in a future version.\n",
      "  missing_lsoa_df.loc[:,'street_number2'] = missing_lsoa_df.loc[:,'street_number'].str.replace(r\"^.*(?=\\b[0-9]+$)\", \"\").str.replace(r\"[^\\d]\", \"\", regex = True)\n",
      "<ipython-input-13-8bc6428979cb>:9: SettingWithCopyWarning: \n",
      "A value is trying to be set on a copy of a slice from a DataFrame.\n",
      "Try using .loc[row_indexer,col_indexer] = value instead\n",
      "\n",
      "See the caveats in the documentation: https://pandas.pydata.org/pandas-docs/stable/user_guide/indexing.html#returning-a-view-versus-a-copy\n",
      "  missing_lsoa_df.loc[:,'street_number2'] = missing_lsoa_df.loc[:,'street_number'].str.replace(r\"^.*(?=\\b[0-9]+$)\", \"\").str.replace(r\"[^\\d]\", \"\", regex = True)\n",
      "/tf/empty_homes_london/helper_functions.py:272: SettingWithCopyWarning: \n",
      "A value is trying to be set on a copy of a slice from a DataFrame.\n",
      "Try using .loc[row_indexer,col_indexer] = value instead\n",
      "\n",
      "See the caveats in the documentation: https://pandas.pydata.org/pandas-docs/stable/user_guide/indexing.html#returning-a-view-versus-a-copy\n",
      "  temp_multi['number_filter'] = filter_types\n",
      "<ipython-input-13-8bc6428979cb>:35: SettingWithCopyWarning: \n",
      "A value is trying to be set on a copy of a slice from a DataFrame.\n",
      "Try using .loc[row_indexer,col_indexer] = value instead\n",
      "\n",
      "See the caveats in the documentation: https://pandas.pydata.org/pandas-docs/stable/user_guide/indexing.html#returning-a-view-versus-a-copy\n",
      "  missing_lsoa_road['lsoa11cd'] = [street_number_to_lsoa(temp_road, int(missing_lsoa_road.iloc[missing_lsoa_row]['street_number2']))\n",
      "<ipython-input-13-8bc6428979cb>:9: FutureWarning: The default value of regex will change from True to False in a future version.\n",
      "  missing_lsoa_df.loc[:,'street_number2'] = missing_lsoa_df.loc[:,'street_number'].str.replace(r\"^.*(?=\\b[0-9]+$)\", \"\").str.replace(r\"[^\\d]\", \"\", regex = True)\n",
      "<ipython-input-13-8bc6428979cb>:9: SettingWithCopyWarning: \n",
      "A value is trying to be set on a copy of a slice from a DataFrame.\n",
      "Try using .loc[row_indexer,col_indexer] = value instead\n",
      "\n",
      "See the caveats in the documentation: https://pandas.pydata.org/pandas-docs/stable/user_guide/indexing.html#returning-a-view-versus-a-copy\n",
      "  missing_lsoa_df.loc[:,'street_number2'] = missing_lsoa_df.loc[:,'street_number'].str.replace(r\"^.*(?=\\b[0-9]+$)\", \"\").str.replace(r\"[^\\d]\", \"\", regex = True)\n"
     ]
    },
    {
     "name": "stdout",
     "output_type": "stream",
     "text": [
      "i= 0  expand time,0.0 filter time0.0 make_dataframe_time 0.001\n",
      "thecroft,\n",
      "greenlane\n",
      "E06000024\n"
     ]
    },
    {
     "name": "stderr",
     "output_type": "stream",
     "text": [
      "/tf/empty_homes_london/helper_functions.py:272: SettingWithCopyWarning: \n",
      "A value is trying to be set on a copy of a slice from a DataFrame.\n",
      "Try using .loc[row_indexer,col_indexer] = value instead\n",
      "\n",
      "See the caveats in the documentation: https://pandas.pydata.org/pandas-docs/stable/user_guide/indexing.html#returning-a-view-versus-a-copy\n",
      "  temp_multi['number_filter'] = filter_types\n",
      "<ipython-input-13-8bc6428979cb>:9: FutureWarning: The default value of regex will change from True to False in a future version.\n",
      "  missing_lsoa_df.loc[:,'street_number2'] = missing_lsoa_df.loc[:,'street_number'].str.replace(r\"^.*(?=\\b[0-9]+$)\", \"\").str.replace(r\"[^\\d]\", \"\", regex = True)\n",
      "<ipython-input-13-8bc6428979cb>:9: SettingWithCopyWarning: \n",
      "A value is trying to be set on a copy of a slice from a DataFrame.\n",
      "Try using .loc[row_indexer,col_indexer] = value instead\n",
      "\n",
      "See the caveats in the documentation: https://pandas.pydata.org/pandas-docs/stable/user_guide/indexing.html#returning-a-view-versus-a-copy\n",
      "  missing_lsoa_df.loc[:,'street_number2'] = missing_lsoa_df.loc[:,'street_number'].str.replace(r\"^.*(?=\\b[0-9]+$)\", \"\").str.replace(r\"[^\\d]\", \"\", regex = True)\n"
     ]
    },
    {
     "name": "stdout",
     "output_type": "stream",
     "text": [
      "i= 0  expand time,0.0 filter time0.0 make_dataframe_time 0.001\n",
      "beachroad\n",
      "E06000059\n"
     ]
    },
    {
     "name": "stderr",
     "output_type": "stream",
     "text": [
      "/tf/empty_homes_london/helper_functions.py:272: SettingWithCopyWarning: \n",
      "A value is trying to be set on a copy of a slice from a DataFrame.\n",
      "Try using .loc[row_indexer,col_indexer] = value instead\n",
      "\n",
      "See the caveats in the documentation: https://pandas.pydata.org/pandas-docs/stable/user_guide/indexing.html#returning-a-view-versus-a-copy\n",
      "  temp_multi['number_filter'] = filter_types\n",
      "<ipython-input-13-8bc6428979cb>:35: SettingWithCopyWarning: \n",
      "A value is trying to be set on a copy of a slice from a DataFrame.\n",
      "Try using .loc[row_indexer,col_indexer] = value instead\n",
      "\n",
      "See the caveats in the documentation: https://pandas.pydata.org/pandas-docs/stable/user_guide/indexing.html#returning-a-view-versus-a-copy\n",
      "  missing_lsoa_road['lsoa11cd'] = [street_number_to_lsoa(temp_road, int(missing_lsoa_road.iloc[missing_lsoa_row]['street_number2']))\n",
      "<ipython-input-13-8bc6428979cb>:9: FutureWarning: The default value of regex will change from True to False in a future version.\n",
      "  missing_lsoa_df.loc[:,'street_number2'] = missing_lsoa_df.loc[:,'street_number'].str.replace(r\"^.*(?=\\b[0-9]+$)\", \"\").str.replace(r\"[^\\d]\", \"\", regex = True)\n",
      "<ipython-input-13-8bc6428979cb>:9: SettingWithCopyWarning: \n",
      "A value is trying to be set on a copy of a slice from a DataFrame.\n",
      "Try using .loc[row_indexer,col_indexer] = value instead\n",
      "\n",
      "See the caveats in the documentation: https://pandas.pydata.org/pandas-docs/stable/user_guide/indexing.html#returning-a-view-versus-a-copy\n",
      "  missing_lsoa_df.loc[:,'street_number2'] = missing_lsoa_df.loc[:,'street_number'].str.replace(r\"^.*(?=\\b[0-9]+$)\", \"\").str.replace(r\"[^\\d]\", \"\", regex = True)\n"
     ]
    },
    {
     "name": "stdout",
     "output_type": "stream",
     "text": [
      "i= 0  expand time,0.0 filter time0.0 make_dataframe_time 0.001\n",
      "fieldclose\n",
      "wimborneroadeast\n",
      "ringwoodroad\n",
      "dorchesterroad\n",
      "E08000030\n"
     ]
    },
    {
     "name": "stderr",
     "output_type": "stream",
     "text": [
      "/tf/empty_homes_london/helper_functions.py:272: SettingWithCopyWarning: \n",
      "A value is trying to be set on a copy of a slice from a DataFrame.\n",
      "Try using .loc[row_indexer,col_indexer] = value instead\n",
      "\n",
      "See the caveats in the documentation: https://pandas.pydata.org/pandas-docs/stable/user_guide/indexing.html#returning-a-view-versus-a-copy\n",
      "  temp_multi['number_filter'] = filter_types\n",
      "<ipython-input-13-8bc6428979cb>:35: SettingWithCopyWarning: \n",
      "A value is trying to be set on a copy of a slice from a DataFrame.\n",
      "Try using .loc[row_indexer,col_indexer] = value instead\n",
      "\n",
      "See the caveats in the documentation: https://pandas.pydata.org/pandas-docs/stable/user_guide/indexing.html#returning-a-view-versus-a-copy\n",
      "  missing_lsoa_road['lsoa11cd'] = [street_number_to_lsoa(temp_road, int(missing_lsoa_road.iloc[missing_lsoa_row]['street_number2']))\n",
      "<ipython-input-13-8bc6428979cb>:9: FutureWarning: The default value of regex will change from True to False in a future version.\n",
      "  missing_lsoa_df.loc[:,'street_number2'] = missing_lsoa_df.loc[:,'street_number'].str.replace(r\"^.*(?=\\b[0-9]+$)\", \"\").str.replace(r\"[^\\d]\", \"\", regex = True)\n",
      "<ipython-input-13-8bc6428979cb>:9: SettingWithCopyWarning: \n",
      "A value is trying to be set on a copy of a slice from a DataFrame.\n",
      "Try using .loc[row_indexer,col_indexer] = value instead\n",
      "\n",
      "See the caveats in the documentation: https://pandas.pydata.org/pandas-docs/stable/user_guide/indexing.html#returning-a-view-versus-a-copy\n",
      "  missing_lsoa_df.loc[:,'street_number2'] = missing_lsoa_df.loc[:,'street_number'].str.replace(r\"^.*(?=\\b[0-9]+$)\", \"\").str.replace(r\"[^\\d]\", \"\", regex = True)\n"
     ]
    },
    {
     "name": "stdout",
     "output_type": "stream",
     "text": [
      "i= 0  expand time,0.0 filter time0.0 make_dataframe_time 0.001\n",
      "highstreet\n",
      "versonpark\n",
      "gomerstreet\n",
      "E08000006\n"
     ]
    },
    {
     "name": "stderr",
     "output_type": "stream",
     "text": [
      "/tf/empty_homes_london/helper_functions.py:272: SettingWithCopyWarning: \n",
      "A value is trying to be set on a copy of a slice from a DataFrame.\n",
      "Try using .loc[row_indexer,col_indexer] = value instead\n",
      "\n",
      "See the caveats in the documentation: https://pandas.pydata.org/pandas-docs/stable/user_guide/indexing.html#returning-a-view-versus-a-copy\n",
      "  temp_multi['number_filter'] = filter_types\n",
      "<ipython-input-13-8bc6428979cb>:35: SettingWithCopyWarning: \n",
      "A value is trying to be set on a copy of a slice from a DataFrame.\n",
      "Try using .loc[row_indexer,col_indexer] = value instead\n",
      "\n",
      "See the caveats in the documentation: https://pandas.pydata.org/pandas-docs/stable/user_guide/indexing.html#returning-a-view-versus-a-copy\n",
      "  missing_lsoa_road['lsoa11cd'] = [street_number_to_lsoa(temp_road, int(missing_lsoa_road.iloc[missing_lsoa_row]['street_number2']))\n"
     ]
    },
    {
     "name": "stdout",
     "output_type": "stream",
     "text": [
      "i= 0  expand time,0.0 filter time0.0 make_dataframe_time 0.001\n",
      "broughtonlane\n",
      "lordstreet\n",
      "molane\n",
      "westminsterroad\n",
      "victoriaroad\n",
      "burynewroad\n",
      "chapelstreet\n",
      "manchesterroadwest\n",
      "salfordquays,\n",
      "langleyroad\n",
      "blackfriarroad\n",
      "granvillestreet\n",
      "manchesterroad\n",
      "E09000029\n"
     ]
    },
    {
     "name": "stderr",
     "output_type": "stream",
     "text": [
      "<ipython-input-13-8bc6428979cb>:9: FutureWarning: The default value of regex will change from True to False in a future version.\n",
      "  missing_lsoa_df.loc[:,'street_number2'] = missing_lsoa_df.loc[:,'street_number'].str.replace(r\"^.*(?=\\b[0-9]+$)\", \"\").str.replace(r\"[^\\d]\", \"\", regex = True)\n",
      "<ipython-input-13-8bc6428979cb>:9: SettingWithCopyWarning: \n",
      "A value is trying to be set on a copy of a slice from a DataFrame.\n",
      "Try using .loc[row_indexer,col_indexer] = value instead\n",
      "\n",
      "See the caveats in the documentation: https://pandas.pydata.org/pandas-docs/stable/user_guide/indexing.html#returning-a-view-versus-a-copy\n",
      "  missing_lsoa_df.loc[:,'street_number2'] = missing_lsoa_df.loc[:,'street_number'].str.replace(r\"^.*(?=\\b[0-9]+$)\", \"\").str.replace(r\"[^\\d]\", \"\", regex = True)\n",
      "/tf/empty_homes_london/helper_functions.py:272: SettingWithCopyWarning: \n",
      "A value is trying to be set on a copy of a slice from a DataFrame.\n",
      "Try using .loc[row_indexer,col_indexer] = value instead\n",
      "\n",
      "See the caveats in the documentation: https://pandas.pydata.org/pandas-docs/stable/user_guide/indexing.html#returning-a-view-versus-a-copy\n",
      "  temp_multi['number_filter'] = filter_types\n"
     ]
    },
    {
     "name": "stdout",
     "output_type": "stream",
     "text": [
      "i= 0  expand time,0.0 filter time0.0 make_dataframe_time 0.001\n",
      "avenueroad\n",
      "woodcoteroad\n",
      "stanleyroad\n",
      "londonroad\n",
      "highstreet\n",
      "timberslipdrive\n",
      "parkroad\n",
      "staytonroad\n",
      "E08000018\n"
     ]
    },
    {
     "name": "stderr",
     "output_type": "stream",
     "text": [
      "<ipython-input-13-8bc6428979cb>:35: SettingWithCopyWarning: \n",
      "A value is trying to be set on a copy of a slice from a DataFrame.\n",
      "Try using .loc[row_indexer,col_indexer] = value instead\n",
      "\n",
      "See the caveats in the documentation: https://pandas.pydata.org/pandas-docs/stable/user_guide/indexing.html#returning-a-view-versus-a-copy\n",
      "  missing_lsoa_road['lsoa11cd'] = [street_number_to_lsoa(temp_road, int(missing_lsoa_road.iloc[missing_lsoa_row]['street_number2']))\n",
      "<ipython-input-13-8bc6428979cb>:9: FutureWarning: The default value of regex will change from True to False in a future version.\n",
      "  missing_lsoa_df.loc[:,'street_number2'] = missing_lsoa_df.loc[:,'street_number'].str.replace(r\"^.*(?=\\b[0-9]+$)\", \"\").str.replace(r\"[^\\d]\", \"\", regex = True)\n",
      "<ipython-input-13-8bc6428979cb>:9: SettingWithCopyWarning: \n",
      "A value is trying to be set on a copy of a slice from a DataFrame.\n",
      "Try using .loc[row_indexer,col_indexer] = value instead\n",
      "\n",
      "See the caveats in the documentation: https://pandas.pydata.org/pandas-docs/stable/user_guide/indexing.html#returning-a-view-versus-a-copy\n",
      "  missing_lsoa_df.loc[:,'street_number2'] = missing_lsoa_df.loc[:,'street_number'].str.replace(r\"^.*(?=\\b[0-9]+$)\", \"\").str.replace(r\"[^\\d]\", \"\", regex = True)\n",
      "/tf/empty_homes_london/helper_functions.py:272: SettingWithCopyWarning: \n",
      "A value is trying to be set on a copy of a slice from a DataFrame.\n",
      "Try using .loc[row_indexer,col_indexer] = value instead\n",
      "\n",
      "See the caveats in the documentation: https://pandas.pydata.org/pandas-docs/stable/user_guide/indexing.html#returning-a-view-versus-a-copy\n",
      "  temp_multi['number_filter'] = filter_types\n",
      "<ipython-input-13-8bc6428979cb>:35: SettingWithCopyWarning: \n",
      "A value is trying to be set on a copy of a slice from a DataFrame.\n",
      "Try using .loc[row_indexer,col_indexer] = value instead\n",
      "\n",
      "See the caveats in the documentation: https://pandas.pydata.org/pandas-docs/stable/user_guide/indexing.html#returning-a-view-versus-a-copy\n",
      "  missing_lsoa_road['lsoa11cd'] = [street_number_to_lsoa(temp_road, int(missing_lsoa_road.iloc[missing_lsoa_row]['street_number2']))\n",
      "<ipython-input-13-8bc6428979cb>:9: FutureWarning: The default value of regex will change from True to False in a future version.\n",
      "  missing_lsoa_df.loc[:,'street_number2'] = missing_lsoa_df.loc[:,'street_number'].str.replace(r\"^.*(?=\\b[0-9]+$)\", \"\").str.replace(r\"[^\\d]\", \"\", regex = True)\n",
      "<ipython-input-13-8bc6428979cb>:9: SettingWithCopyWarning: \n",
      "A value is trying to be set on a copy of a slice from a DataFrame.\n",
      "Try using .loc[row_indexer,col_indexer] = value instead\n",
      "\n",
      "See the caveats in the documentation: https://pandas.pydata.org/pandas-docs/stable/user_guide/indexing.html#returning-a-view-versus-a-copy\n",
      "  missing_lsoa_df.loc[:,'street_number2'] = missing_lsoa_df.loc[:,'street_number'].str.replace(r\"^.*(?=\\b[0-9]+$)\", \"\").str.replace(r\"[^\\d]\", \"\", regex = True)\n"
     ]
    },
    {
     "name": "stdout",
     "output_type": "stream",
     "text": [
      "i= 0  expand time,0.0 filter time0.0 make_dataframe_time 0.001\n",
      "kearsleyroad\n",
      "baslowroad\n",
      "lodgelane\n",
      "laverdeneavenue\n",
      "rotherhamroad\n",
      "highstreet\n",
      "E06000025\n"
     ]
    },
    {
     "name": "stderr",
     "output_type": "stream",
     "text": [
      "/tf/empty_homes_london/helper_functions.py:272: SettingWithCopyWarning: \n",
      "A value is trying to be set on a copy of a slice from a DataFrame.\n",
      "Try using .loc[row_indexer,col_indexer] = value instead\n",
      "\n",
      "See the caveats in the documentation: https://pandas.pydata.org/pandas-docs/stable/user_guide/indexing.html#returning-a-view-versus-a-copy\n",
      "  temp_multi['number_filter'] = filter_types\n",
      "<ipython-input-13-8bc6428979cb>:35: SettingWithCopyWarning: \n",
      "A value is trying to be set on a copy of a slice from a DataFrame.\n",
      "Try using .loc[row_indexer,col_indexer] = value instead\n",
      "\n",
      "See the caveats in the documentation: https://pandas.pydata.org/pandas-docs/stable/user_guide/indexing.html#returning-a-view-versus-a-copy\n",
      "  missing_lsoa_road['lsoa11cd'] = [street_number_to_lsoa(temp_road, int(missing_lsoa_road.iloc[missing_lsoa_row]['street_number2']))\n",
      "<ipython-input-13-8bc6428979cb>:9: FutureWarning: The default value of regex will change from True to False in a future version.\n",
      "  missing_lsoa_df.loc[:,'street_number2'] = missing_lsoa_df.loc[:,'street_number'].str.replace(r\"^.*(?=\\b[0-9]+$)\", \"\").str.replace(r\"[^\\d]\", \"\", regex = True)\n",
      "<ipython-input-13-8bc6428979cb>:9: SettingWithCopyWarning: \n",
      "A value is trying to be set on a copy of a slice from a DataFrame.\n",
      "Try using .loc[row_indexer,col_indexer] = value instead\n",
      "\n",
      "See the caveats in the documentation: https://pandas.pydata.org/pandas-docs/stable/user_guide/indexing.html#returning-a-view-versus-a-copy\n",
      "  missing_lsoa_df.loc[:,'street_number2'] = missing_lsoa_df.loc[:,'street_number'].str.replace(r\"^.*(?=\\b[0-9]+$)\", \"\").str.replace(r\"[^\\d]\", \"\", regex = True)\n"
     ]
    },
    {
     "name": "stdout",
     "output_type": "stream",
     "text": [
      "i= 0  expand time,0.0 filter time0.0 make_dataframe_time 0.001\n",
      "emersongreen\n",
      "hallenclose\n",
      "parkavenue\n",
      "E06000038\n"
     ]
    },
    {
     "name": "stderr",
     "output_type": "stream",
     "text": [
      "/tf/empty_homes_london/helper_functions.py:272: SettingWithCopyWarning: \n",
      "A value is trying to be set on a copy of a slice from a DataFrame.\n",
      "Try using .loc[row_indexer,col_indexer] = value instead\n",
      "\n",
      "See the caveats in the documentation: https://pandas.pydata.org/pandas-docs/stable/user_guide/indexing.html#returning-a-view-versus-a-copy\n",
      "  temp_multi['number_filter'] = filter_types\n"
     ]
    },
    {
     "name": "stdout",
     "output_type": "stream",
     "text": [
      "i= 0  expand time,0.0 filter time0.0 make_dataframe_time 0.001\n",
      "cheapside\n",
      "londonstreet\n",
      "oxfordroad\n",
      "kingroad\n",
      "broadstreet\n",
      "E06000051\n"
     ]
    },
    {
     "name": "stderr",
     "output_type": "stream",
     "text": [
      "<ipython-input-13-8bc6428979cb>:35: SettingWithCopyWarning: \n",
      "A value is trying to be set on a copy of a slice from a DataFrame.\n",
      "Try using .loc[row_indexer,col_indexer] = value instead\n",
      "\n",
      "See the caveats in the documentation: https://pandas.pydata.org/pandas-docs/stable/user_guide/indexing.html#returning-a-view-versus-a-copy\n",
      "  missing_lsoa_road['lsoa11cd'] = [street_number_to_lsoa(temp_road, int(missing_lsoa_road.iloc[missing_lsoa_row]['street_number2']))\n",
      "<ipython-input-13-8bc6428979cb>:9: FutureWarning: The default value of regex will change from True to False in a future version.\n",
      "  missing_lsoa_df.loc[:,'street_number2'] = missing_lsoa_df.loc[:,'street_number'].str.replace(r\"^.*(?=\\b[0-9]+$)\", \"\").str.replace(r\"[^\\d]\", \"\", regex = True)\n",
      "<ipython-input-13-8bc6428979cb>:9: SettingWithCopyWarning: \n",
      "A value is trying to be set on a copy of a slice from a DataFrame.\n",
      "Try using .loc[row_indexer,col_indexer] = value instead\n",
      "\n",
      "See the caveats in the documentation: https://pandas.pydata.org/pandas-docs/stable/user_guide/indexing.html#returning-a-view-versus-a-copy\n",
      "  missing_lsoa_df.loc[:,'street_number2'] = missing_lsoa_df.loc[:,'street_number'].str.replace(r\"^.*(?=\\b[0-9]+$)\", \"\").str.replace(r\"[^\\d]\", \"\", regex = True)\n",
      "/tf/empty_homes_london/helper_functions.py:272: SettingWithCopyWarning: \n",
      "A value is trying to be set on a copy of a slice from a DataFrame.\n",
      "Try using .loc[row_indexer,col_indexer] = value instead\n",
      "\n",
      "See the caveats in the documentation: https://pandas.pydata.org/pandas-docs/stable/user_guide/indexing.html#returning-a-view-versus-a-copy\n",
      "  temp_multi['number_filter'] = filter_types\n",
      "<ipython-input-13-8bc6428979cb>:35: SettingWithCopyWarning: \n",
      "A value is trying to be set on a copy of a slice from a DataFrame.\n",
      "Try using .loc[row_indexer,col_indexer] = value instead\n",
      "\n",
      "See the caveats in the documentation: https://pandas.pydata.org/pandas-docs/stable/user_guide/indexing.html#returning-a-view-versus-a-copy\n",
      "  missing_lsoa_road['lsoa11cd'] = [street_number_to_lsoa(temp_road, int(missing_lsoa_road.iloc[missing_lsoa_row]['street_number2']))\n",
      "<ipython-input-13-8bc6428979cb>:9: FutureWarning: The default value of regex will change from True to False in a future version.\n",
      "  missing_lsoa_df.loc[:,'street_number2'] = missing_lsoa_df.loc[:,'street_number'].str.replace(r\"^.*(?=\\b[0-9]+$)\", \"\").str.replace(r\"[^\\d]\", \"\", regex = True)\n",
      "<ipython-input-13-8bc6428979cb>:9: SettingWithCopyWarning: \n",
      "A value is trying to be set on a copy of a slice from a DataFrame.\n",
      "Try using .loc[row_indexer,col_indexer] = value instead\n",
      "\n",
      "See the caveats in the documentation: https://pandas.pydata.org/pandas-docs/stable/user_guide/indexing.html#returning-a-view-versus-a-copy\n",
      "  missing_lsoa_df.loc[:,'street_number2'] = missing_lsoa_df.loc[:,'street_number'].str.replace(r\"^.*(?=\\b[0-9]+$)\", \"\").str.replace(r\"[^\\d]\", \"\", regex = True)\n"
     ]
    },
    {
     "name": "stdout",
     "output_type": "stream",
     "text": [
      "i= 0  expand time,0.0 filter time0.0 make_dataframe_time 0.001\n",
      "poplarclose\n",
      "yewtreeclose\n",
      "watergatestreet\n",
      "E06000043\n"
     ]
    },
    {
     "name": "stderr",
     "output_type": "stream",
     "text": [
      "/tf/empty_homes_london/helper_functions.py:272: SettingWithCopyWarning: \n",
      "A value is trying to be set on a copy of a slice from a DataFrame.\n",
      "Try using .loc[row_indexer,col_indexer] = value instead\n",
      "\n",
      "See the caveats in the documentation: https://pandas.pydata.org/pandas-docs/stable/user_guide/indexing.html#returning-a-view-versus-a-copy\n",
      "  temp_multi['number_filter'] = filter_types\n"
     ]
    },
    {
     "name": "stdout",
     "output_type": "stream",
     "text": [
      "i= 0  expand time,0.0 filter time0.0 make_dataframe_time 0.001\n",
      "northstreet\n",
      "kingroad\n",
      "marineparade,\n",
      "westernroad\n",
      "lansdowneplace\n",
      "yorkplace\n",
      "oldshorehamroad\n",
      "castlestreet\n",
      "meadowvale\n",
      "georgestreet\n",
      "palmeiraavenue\n",
      "dykeroad\n",
      "E06000009\n"
     ]
    },
    {
     "name": "stderr",
     "output_type": "stream",
     "text": [
      "<ipython-input-13-8bc6428979cb>:35: SettingWithCopyWarning: \n",
      "A value is trying to be set on a copy of a slice from a DataFrame.\n",
      "Try using .loc[row_indexer,col_indexer] = value instead\n",
      "\n",
      "See the caveats in the documentation: https://pandas.pydata.org/pandas-docs/stable/user_guide/indexing.html#returning-a-view-versus-a-copy\n",
      "  missing_lsoa_road['lsoa11cd'] = [street_number_to_lsoa(temp_road, int(missing_lsoa_road.iloc[missing_lsoa_row]['street_number2']))\n",
      "<ipython-input-13-8bc6428979cb>:9: FutureWarning: The default value of regex will change from True to False in a future version.\n",
      "  missing_lsoa_df.loc[:,'street_number2'] = missing_lsoa_df.loc[:,'street_number'].str.replace(r\"^.*(?=\\b[0-9]+$)\", \"\").str.replace(r\"[^\\d]\", \"\", regex = True)\n",
      "<ipython-input-13-8bc6428979cb>:9: SettingWithCopyWarning: \n",
      "A value is trying to be set on a copy of a slice from a DataFrame.\n",
      "Try using .loc[row_indexer,col_indexer] = value instead\n",
      "\n",
      "See the caveats in the documentation: https://pandas.pydata.org/pandas-docs/stable/user_guide/indexing.html#returning-a-view-versus-a-copy\n",
      "  missing_lsoa_df.loc[:,'street_number2'] = missing_lsoa_df.loc[:,'street_number'].str.replace(r\"^.*(?=\\b[0-9]+$)\", \"\").str.replace(r\"[^\\d]\", \"\", regex = True)\n",
      "/tf/empty_homes_london/helper_functions.py:272: SettingWithCopyWarning: \n",
      "A value is trying to be set on a copy of a slice from a DataFrame.\n",
      "Try using .loc[row_indexer,col_indexer] = value instead\n",
      "\n",
      "See the caveats in the documentation: https://pandas.pydata.org/pandas-docs/stable/user_guide/indexing.html#returning-a-view-versus-a-copy\n",
      "  temp_multi['number_filter'] = filter_types\n",
      "<ipython-input-13-8bc6428979cb>:35: SettingWithCopyWarning: \n",
      "A value is trying to be set on a copy of a slice from a DataFrame.\n",
      "Try using .loc[row_indexer,col_indexer] = value instead\n",
      "\n",
      "See the caveats in the documentation: https://pandas.pydata.org/pandas-docs/stable/user_guide/indexing.html#returning-a-view-versus-a-copy\n",
      "  missing_lsoa_road['lsoa11cd'] = [street_number_to_lsoa(temp_road, int(missing_lsoa_road.iloc[missing_lsoa_row]['street_number2']))\n",
      "<ipython-input-13-8bc6428979cb>:9: FutureWarning: The default value of regex will change from True to False in a future version.\n",
      "  missing_lsoa_df.loc[:,'street_number2'] = missing_lsoa_df.loc[:,'street_number'].str.replace(r\"^.*(?=\\b[0-9]+$)\", \"\").str.replace(r\"[^\\d]\", \"\", regex = True)\n",
      "<ipython-input-13-8bc6428979cb>:9: SettingWithCopyWarning: \n",
      "A value is trying to be set on a copy of a slice from a DataFrame.\n",
      "Try using .loc[row_indexer,col_indexer] = value instead\n",
      "\n",
      "See the caveats in the documentation: https://pandas.pydata.org/pandas-docs/stable/user_guide/indexing.html#returning-a-view-versus-a-copy\n",
      "  missing_lsoa_df.loc[:,'street_number2'] = missing_lsoa_df.loc[:,'street_number'].str.replace(r\"^.*(?=\\b[0-9]+$)\", \"\").str.replace(r\"[^\\d]\", \"\", regex = True)\n"
     ]
    },
    {
     "name": "stdout",
     "output_type": "stream",
     "text": [
      "i= 0  expand time,0.0 filter time0.0 make_dataframe_time 0.001\n",
      "skerryvoreresidentialpark\n",
      "talbotroad\n",
      "toppingstreet\n",
      "highfieldroad\n",
      "E06000040\n"
     ]
    },
    {
     "name": "stderr",
     "output_type": "stream",
     "text": [
      "/tf/empty_homes_london/helper_functions.py:272: SettingWithCopyWarning: \n",
      "A value is trying to be set on a copy of a slice from a DataFrame.\n",
      "Try using .loc[row_indexer,col_indexer] = value instead\n",
      "\n",
      "See the caveats in the documentation: https://pandas.pydata.org/pandas-docs/stable/user_guide/indexing.html#returning-a-view-versus-a-copy\n",
      "  temp_multi['number_filter'] = filter_types\n",
      "<ipython-input-13-8bc6428979cb>:35: SettingWithCopyWarning: \n",
      "A value is trying to be set on a copy of a slice from a DataFrame.\n",
      "Try using .loc[row_indexer,col_indexer] = value instead\n",
      "\n",
      "See the caveats in the documentation: https://pandas.pydata.org/pandas-docs/stable/user_guide/indexing.html#returning-a-view-versus-a-copy\n",
      "  missing_lsoa_road['lsoa11cd'] = [street_number_to_lsoa(temp_road, int(missing_lsoa_road.iloc[missing_lsoa_row]['street_number2']))\n",
      "<ipython-input-13-8bc6428979cb>:9: FutureWarning: The default value of regex will change from True to False in a future version.\n",
      "  missing_lsoa_df.loc[:,'street_number2'] = missing_lsoa_df.loc[:,'street_number'].str.replace(r\"^.*(?=\\b[0-9]+$)\", \"\").str.replace(r\"[^\\d]\", \"\", regex = True)\n",
      "<ipython-input-13-8bc6428979cb>:9: SettingWithCopyWarning: \n",
      "A value is trying to be set on a copy of a slice from a DataFrame.\n",
      "Try using .loc[row_indexer,col_indexer] = value instead\n",
      "\n",
      "See the caveats in the documentation: https://pandas.pydata.org/pandas-docs/stable/user_guide/indexing.html#returning-a-view-versus-a-copy\n",
      "  missing_lsoa_df.loc[:,'street_number2'] = missing_lsoa_df.loc[:,'street_number'].str.replace(r\"^.*(?=\\b[0-9]+$)\", \"\").str.replace(r\"[^\\d]\", \"\", regex = True)\n"
     ]
    },
    {
     "name": "stdout",
     "output_type": "stream",
     "text": [
      "i= 0  expand time,0.0 filter time0.0 make_dataframe_time 0.001\n",
      "londonroad\n",
      "stleonardroad\n",
      "E09000002\n"
     ]
    },
    {
     "name": "stderr",
     "output_type": "stream",
     "text": [
      "/tf/empty_homes_london/helper_functions.py:272: SettingWithCopyWarning: \n",
      "A value is trying to be set on a copy of a slice from a DataFrame.\n",
      "Try using .loc[row_indexer,col_indexer] = value instead\n",
      "\n",
      "See the caveats in the documentation: https://pandas.pydata.org/pandas-docs/stable/user_guide/indexing.html#returning-a-view-versus-a-copy\n",
      "  temp_multi['number_filter'] = filter_types\n"
     ]
    },
    {
     "name": "stdout",
     "output_type": "stream",
     "text": [
      "i= 0  expand time,0.0 filter time0.0 make_dataframe_time 0.001\n",
      "highroad\n",
      "highroadandmillbrookmilllane\n",
      "binarypark\n",
      "riverroad\n",
      "E09000026\n"
     ]
    },
    {
     "name": "stderr",
     "output_type": "stream",
     "text": [
      "<ipython-input-13-8bc6428979cb>:35: SettingWithCopyWarning: \n",
      "A value is trying to be set on a copy of a slice from a DataFrame.\n",
      "Try using .loc[row_indexer,col_indexer] = value instead\n",
      "\n",
      "See the caveats in the documentation: https://pandas.pydata.org/pandas-docs/stable/user_guide/indexing.html#returning-a-view-versus-a-copy\n",
      "  missing_lsoa_road['lsoa11cd'] = [street_number_to_lsoa(temp_road, int(missing_lsoa_road.iloc[missing_lsoa_row]['street_number2']))\n",
      "<ipython-input-13-8bc6428979cb>:9: FutureWarning: The default value of regex will change from True to False in a future version.\n",
      "  missing_lsoa_df.loc[:,'street_number2'] = missing_lsoa_df.loc[:,'street_number'].str.replace(r\"^.*(?=\\b[0-9]+$)\", \"\").str.replace(r\"[^\\d]\", \"\", regex = True)\n",
      "<ipython-input-13-8bc6428979cb>:9: SettingWithCopyWarning: \n",
      "A value is trying to be set on a copy of a slice from a DataFrame.\n",
      "Try using .loc[row_indexer,col_indexer] = value instead\n",
      "\n",
      "See the caveats in the documentation: https://pandas.pydata.org/pandas-docs/stable/user_guide/indexing.html#returning-a-view-versus-a-copy\n",
      "  missing_lsoa_df.loc[:,'street_number2'] = missing_lsoa_df.loc[:,'street_number'].str.replace(r\"^.*(?=\\b[0-9]+$)\", \"\").str.replace(r\"[^\\d]\", \"\", regex = True)\n",
      "/tf/empty_homes_london/helper_functions.py:272: SettingWithCopyWarning: \n",
      "A value is trying to be set on a copy of a slice from a DataFrame.\n",
      "Try using .loc[row_indexer,col_indexer] = value instead\n",
      "\n",
      "See the caveats in the documentation: https://pandas.pydata.org/pandas-docs/stable/user_guide/indexing.html#returning-a-view-versus-a-copy\n",
      "  temp_multi['number_filter'] = filter_types\n"
     ]
    },
    {
     "name": "stdout",
     "output_type": "stream",
     "text": [
      "i= 0  expand time,0.0 filter time0.0 make_dataframe_time 0.001\n",
      "cranbrookroad\n",
      "georgelane\n",
      "highroad\n",
      "albertroad\n",
      "argyleroad\n",
      "hermonhill\n",
      "greenlane\n",
      "newnorthroad\n",
      "stationroad\n",
      "E06000058\n"
     ]
    },
    {
     "name": "stderr",
     "output_type": "stream",
     "text": [
      "<ipython-input-13-8bc6428979cb>:35: SettingWithCopyWarning: \n",
      "A value is trying to be set on a copy of a slice from a DataFrame.\n",
      "Try using .loc[row_indexer,col_indexer] = value instead\n",
      "\n",
      "See the caveats in the documentation: https://pandas.pydata.org/pandas-docs/stable/user_guide/indexing.html#returning-a-view-versus-a-copy\n",
      "  missing_lsoa_road['lsoa11cd'] = [street_number_to_lsoa(temp_road, int(missing_lsoa_road.iloc[missing_lsoa_row]['street_number2']))\n",
      "<ipython-input-13-8bc6428979cb>:9: FutureWarning: The default value of regex will change from True to False in a future version.\n",
      "  missing_lsoa_df.loc[:,'street_number2'] = missing_lsoa_df.loc[:,'street_number'].str.replace(r\"^.*(?=\\b[0-9]+$)\", \"\").str.replace(r\"[^\\d]\", \"\", regex = True)\n",
      "<ipython-input-13-8bc6428979cb>:9: SettingWithCopyWarning: \n",
      "A value is trying to be set on a copy of a slice from a DataFrame.\n",
      "Try using .loc[row_indexer,col_indexer] = value instead\n",
      "\n",
      "See the caveats in the documentation: https://pandas.pydata.org/pandas-docs/stable/user_guide/indexing.html#returning-a-view-versus-a-copy\n",
      "  missing_lsoa_df.loc[:,'street_number2'] = missing_lsoa_df.loc[:,'street_number'].str.replace(r\"^.*(?=\\b[0-9]+$)\", \"\").str.replace(r\"[^\\d]\", \"\", regex = True)\n",
      "/tf/empty_homes_london/helper_functions.py:272: SettingWithCopyWarning: \n",
      "A value is trying to be set on a copy of a slice from a DataFrame.\n",
      "Try using .loc[row_indexer,col_indexer] = value instead\n",
      "\n",
      "See the caveats in the documentation: https://pandas.pydata.org/pandas-docs/stable/user_guide/indexing.html#returning-a-view-versus-a-copy\n",
      "  temp_multi['number_filter'] = filter_types\n"
     ]
    },
    {
     "name": "stdout",
     "output_type": "stream",
     "text": [
      "i= 0  expand time,0.0 filter time0.0 make_dataframe_time 0.001\n",
      "oldchristchurchroad\n",
      "commercialroad\n",
      "avenueroad\n",
      "highstreet\n",
      "kinglandroad\n",
      "curzonroad\n",
      "salternway\n",
      "almaroad\n",
      "yarrowroad\n",
      "E06000015\n"
     ]
    },
    {
     "name": "stderr",
     "output_type": "stream",
     "text": [
      "<ipython-input-13-8bc6428979cb>:35: SettingWithCopyWarning: \n",
      "A value is trying to be set on a copy of a slice from a DataFrame.\n",
      "Try using .loc[row_indexer,col_indexer] = value instead\n",
      "\n",
      "See the caveats in the documentation: https://pandas.pydata.org/pandas-docs/stable/user_guide/indexing.html#returning-a-view-versus-a-copy\n",
      "  missing_lsoa_road['lsoa11cd'] = [street_number_to_lsoa(temp_road, int(missing_lsoa_road.iloc[missing_lsoa_row]['street_number2']))\n",
      "<ipython-input-13-8bc6428979cb>:9: FutureWarning: The default value of regex will change from True to False in a future version.\n",
      "  missing_lsoa_df.loc[:,'street_number2'] = missing_lsoa_df.loc[:,'street_number'].str.replace(r\"^.*(?=\\b[0-9]+$)\", \"\").str.replace(r\"[^\\d]\", \"\", regex = True)\n",
      "<ipython-input-13-8bc6428979cb>:9: SettingWithCopyWarning: \n",
      "A value is trying to be set on a copy of a slice from a DataFrame.\n",
      "Try using .loc[row_indexer,col_indexer] = value instead\n",
      "\n",
      "See the caveats in the documentation: https://pandas.pydata.org/pandas-docs/stable/user_guide/indexing.html#returning-a-view-versus-a-copy\n",
      "  missing_lsoa_df.loc[:,'street_number2'] = missing_lsoa_df.loc[:,'street_number'].str.replace(r\"^.*(?=\\b[0-9]+$)\", \"\").str.replace(r\"[^\\d]\", \"\", regex = True)\n",
      "/tf/empty_homes_london/helper_functions.py:272: SettingWithCopyWarning: \n",
      "A value is trying to be set on a copy of a slice from a DataFrame.\n",
      "Try using .loc[row_indexer,col_indexer] = value instead\n",
      "\n",
      "See the caveats in the documentation: https://pandas.pydata.org/pandas-docs/stable/user_guide/indexing.html#returning-a-view-versus-a-copy\n",
      "  temp_multi['number_filter'] = filter_types\n",
      "<ipython-input-13-8bc6428979cb>:9: FutureWarning: The default value of regex will change from True to False in a future version.\n",
      "  missing_lsoa_df.loc[:,'street_number2'] = missing_lsoa_df.loc[:,'street_number'].str.replace(r\"^.*(?=\\b[0-9]+$)\", \"\").str.replace(r\"[^\\d]\", \"\", regex = True)\n",
      "<ipython-input-13-8bc6428979cb>:9: SettingWithCopyWarning: \n",
      "A value is trying to be set on a copy of a slice from a DataFrame.\n",
      "Try using .loc[row_indexer,col_indexer] = value instead\n",
      "\n",
      "See the caveats in the documentation: https://pandas.pydata.org/pandas-docs/stable/user_guide/indexing.html#returning-a-view-versus-a-copy\n",
      "  missing_lsoa_df.loc[:,'street_number2'] = missing_lsoa_df.loc[:,'street_number'].str.replace(r\"^.*(?=\\b[0-9]+$)\", \"\").str.replace(r\"[^\\d]\", \"\", regex = True)\n"
     ]
    },
    {
     "name": "stdout",
     "output_type": "stream",
     "text": [
      "i= 0  expand time,0.0 filter time0.0 make_dataframe_time 0.001\n",
      "friargate\n",
      "E07000126\n",
      "crostonroad\n",
      "longmolane\n",
      "E07000228\n"
     ]
    },
    {
     "name": "stderr",
     "output_type": "stream",
     "text": [
      "<ipython-input-13-8bc6428979cb>:35: SettingWithCopyWarning: \n",
      "A value is trying to be set on a copy of a slice from a DataFrame.\n",
      "Try using .loc[row_indexer,col_indexer] = value instead\n",
      "\n",
      "See the caveats in the documentation: https://pandas.pydata.org/pandas-docs/stable/user_guide/indexing.html#returning-a-view-versus-a-copy\n",
      "  missing_lsoa_road['lsoa11cd'] = [street_number_to_lsoa(temp_road, int(missing_lsoa_road.iloc[missing_lsoa_row]['street_number2']))\n",
      "<ipython-input-13-8bc6428979cb>:9: FutureWarning: The default value of regex will change from True to False in a future version.\n",
      "  missing_lsoa_df.loc[:,'street_number2'] = missing_lsoa_df.loc[:,'street_number'].str.replace(r\"^.*(?=\\b[0-9]+$)\", \"\").str.replace(r\"[^\\d]\", \"\", regex = True)\n",
      "<ipython-input-13-8bc6428979cb>:9: SettingWithCopyWarning: \n",
      "A value is trying to be set on a copy of a slice from a DataFrame.\n",
      "Try using .loc[row_indexer,col_indexer] = value instead\n",
      "\n",
      "See the caveats in the documentation: https://pandas.pydata.org/pandas-docs/stable/user_guide/indexing.html#returning-a-view-versus-a-copy\n",
      "  missing_lsoa_df.loc[:,'street_number2'] = missing_lsoa_df.loc[:,'street_number'].str.replace(r\"^.*(?=\\b[0-9]+$)\", \"\").str.replace(r\"[^\\d]\", \"\", regex = True)\n",
      "/tf/empty_homes_london/helper_functions.py:272: SettingWithCopyWarning: \n",
      "A value is trying to be set on a copy of a slice from a DataFrame.\n",
      "Try using .loc[row_indexer,col_indexer] = value instead\n",
      "\n",
      "See the caveats in the documentation: https://pandas.pydata.org/pandas-docs/stable/user_guide/indexing.html#returning-a-view-versus-a-copy\n",
      "  temp_multi['number_filter'] = filter_types\n",
      "<ipython-input-13-8bc6428979cb>:35: SettingWithCopyWarning: \n",
      "A value is trying to be set on a copy of a slice from a DataFrame.\n",
      "Try using .loc[row_indexer,col_indexer] = value instead\n",
      "\n",
      "See the caveats in the documentation: https://pandas.pydata.org/pandas-docs/stable/user_guide/indexing.html#returning-a-view-versus-a-copy\n",
      "  missing_lsoa_road['lsoa11cd'] = [street_number_to_lsoa(temp_road, int(missing_lsoa_road.iloc[missing_lsoa_row]['street_number2']))\n",
      "<ipython-input-13-8bc6428979cb>:9: FutureWarning: The default value of regex will change from True to False in a future version.\n",
      "  missing_lsoa_df.loc[:,'street_number2'] = missing_lsoa_df.loc[:,'street_number'].str.replace(r\"^.*(?=\\b[0-9]+$)\", \"\").str.replace(r\"[^\\d]\", \"\", regex = True)\n",
      "<ipython-input-13-8bc6428979cb>:9: SettingWithCopyWarning: \n",
      "A value is trying to be set on a copy of a slice from a DataFrame.\n",
      "Try using .loc[row_indexer,col_indexer] = value instead\n",
      "\n",
      "See the caveats in the documentation: https://pandas.pydata.org/pandas-docs/stable/user_guide/indexing.html#returning-a-view-versus-a-copy\n",
      "  missing_lsoa_df.loc[:,'street_number2'] = missing_lsoa_df.loc[:,'street_number'].str.replace(r\"^.*(?=\\b[0-9]+$)\", \"\").str.replace(r\"[^\\d]\", \"\", regex = True)\n"
     ]
    },
    {
     "name": "stdout",
     "output_type": "stream",
     "text": [
      "i= 0  expand time,0.0 filter time0.0 make_dataframe_time 0.001\n",
      "southroad\n",
      "bolnoreroad\n",
      "E09000005\n"
     ]
    },
    {
     "name": "stderr",
     "output_type": "stream",
     "text": [
      "/tf/empty_homes_london/helper_functions.py:272: SettingWithCopyWarning: \n",
      "A value is trying to be set on a copy of a slice from a DataFrame.\n",
      "Try using .loc[row_indexer,col_indexer] = value instead\n",
      "\n",
      "See the caveats in the documentation: https://pandas.pydata.org/pandas-docs/stable/user_guide/indexing.html#returning-a-view-versus-a-copy\n",
      "  temp_multi['number_filter'] = filter_types\n",
      "<ipython-input-13-8bc6428979cb>:35: SettingWithCopyWarning: \n",
      "A value is trying to be set on a copy of a slice from a DataFrame.\n",
      "Try using .loc[row_indexer,col_indexer] = value instead\n",
      "\n",
      "See the caveats in the documentation: https://pandas.pydata.org/pandas-docs/stable/user_guide/indexing.html#returning-a-view-versus-a-copy\n",
      "  missing_lsoa_road['lsoa11cd'] = [street_number_to_lsoa(temp_road, int(missing_lsoa_road.iloc[missing_lsoa_row]['street_number2']))\n"
     ]
    },
    {
     "name": "stdout",
     "output_type": "stream",
     "text": [
      "i= 0  expand time,0.0 filter time0.0 make_dataframe_time 0.001\n",
      "alpertonlane\n",
      "kingsburyroad\n",
      "walmlane\n",
      "kilburnlane\n",
      "fryentway\n",
      "nicollroadandnewcrescent\n",
      "victoriaroad\n",
      "druryway\n",
      "brondesburypark\n",
      "highroad\n",
      "E07000071\n"
     ]
    },
    {
     "name": "stderr",
     "output_type": "stream",
     "text": [
      "<ipython-input-13-8bc6428979cb>:9: FutureWarning: The default value of regex will change from True to False in a future version.\n",
      "  missing_lsoa_df.loc[:,'street_number2'] = missing_lsoa_df.loc[:,'street_number'].str.replace(r\"^.*(?=\\b[0-9]+$)\", \"\").str.replace(r\"[^\\d]\", \"\", regex = True)\n",
      "<ipython-input-13-8bc6428979cb>:9: SettingWithCopyWarning: \n",
      "A value is trying to be set on a copy of a slice from a DataFrame.\n",
      "Try using .loc[row_indexer,col_indexer] = value instead\n",
      "\n",
      "See the caveats in the documentation: https://pandas.pydata.org/pandas-docs/stable/user_guide/indexing.html#returning-a-view-versus-a-copy\n",
      "  missing_lsoa_df.loc[:,'street_number2'] = missing_lsoa_df.loc[:,'street_number'].str.replace(r\"^.*(?=\\b[0-9]+$)\", \"\").str.replace(r\"[^\\d]\", \"\", regex = True)\n"
     ]
    },
    {
     "name": "stdout",
     "output_type": "stream",
     "text": [
      "colchesterroad\n",
      "E07000105\n"
     ]
    },
    {
     "name": "stderr",
     "output_type": "stream",
     "text": [
      "<ipython-input-13-8bc6428979cb>:9: FutureWarning: The default value of regex will change from True to False in a future version.\n",
      "  missing_lsoa_df.loc[:,'street_number2'] = missing_lsoa_df.loc[:,'street_number'].str.replace(r\"^.*(?=\\b[0-9]+$)\", \"\").str.replace(r\"[^\\d]\", \"\", regex = True)\n",
      "<ipython-input-13-8bc6428979cb>:9: SettingWithCopyWarning: \n",
      "A value is trying to be set on a copy of a slice from a DataFrame.\n",
      "Try using .loc[row_indexer,col_indexer] = value instead\n",
      "\n",
      "See the caveats in the documentation: https://pandas.pydata.org/pandas-docs/stable/user_guide/indexing.html#returning-a-view-versus-a-copy\n",
      "  missing_lsoa_df.loc[:,'street_number2'] = missing_lsoa_df.loc[:,'street_number'].str.replace(r\"^.*(?=\\b[0-9]+$)\", \"\").str.replace(r\"[^\\d]\", \"\", regex = True)\n",
      "/tf/empty_homes_london/helper_functions.py:272: SettingWithCopyWarning: \n",
      "A value is trying to be set on a copy of a slice from a DataFrame.\n",
      "Try using .loc[row_indexer,col_indexer] = value instead\n",
      "\n",
      "See the caveats in the documentation: https://pandas.pydata.org/pandas-docs/stable/user_guide/indexing.html#returning-a-view-versus-a-copy\n",
      "  temp_multi['number_filter'] = filter_types\n",
      "<ipython-input-13-8bc6428979cb>:35: SettingWithCopyWarning: \n",
      "A value is trying to be set on a copy of a slice from a DataFrame.\n",
      "Try using .loc[row_indexer,col_indexer] = value instead\n",
      "\n",
      "See the caveats in the documentation: https://pandas.pydata.org/pandas-docs/stable/user_guide/indexing.html#returning-a-view-versus-a-copy\n",
      "  missing_lsoa_road['lsoa11cd'] = [street_number_to_lsoa(temp_road, int(missing_lsoa_road.iloc[missing_lsoa_row]['street_number2']))\n",
      "<ipython-input-13-8bc6428979cb>:9: FutureWarning: The default value of regex will change from True to False in a future version.\n",
      "  missing_lsoa_df.loc[:,'street_number2'] = missing_lsoa_df.loc[:,'street_number'].str.replace(r\"^.*(?=\\b[0-9]+$)\", \"\").str.replace(r\"[^\\d]\", \"\", regex = True)\n",
      "<ipython-input-13-8bc6428979cb>:9: SettingWithCopyWarning: \n",
      "A value is trying to be set on a copy of a slice from a DataFrame.\n",
      "Try using .loc[row_indexer,col_indexer] = value instead\n",
      "\n",
      "See the caveats in the documentation: https://pandas.pydata.org/pandas-docs/stable/user_guide/indexing.html#returning-a-view-versus-a-copy\n",
      "  missing_lsoa_df.loc[:,'street_number2'] = missing_lsoa_df.loc[:,'street_number'].str.replace(r\"^.*(?=\\b[0-9]+$)\", \"\").str.replace(r\"[^\\d]\", \"\", regex = True)\n"
     ]
    },
    {
     "name": "stdout",
     "output_type": "stream",
     "text": [
      "i= 0  expand time,0.0 filter time0.0 make_dataframe_time 0.001\n",
      "thegreen\n",
      "highstreet\n",
      "northstreet\n",
      "E08000002\n"
     ]
    },
    {
     "name": "stderr",
     "output_type": "stream",
     "text": [
      "/tf/empty_homes_london/helper_functions.py:272: SettingWithCopyWarning: \n",
      "A value is trying to be set on a copy of a slice from a DataFrame.\n",
      "Try using .loc[row_indexer,col_indexer] = value instead\n",
      "\n",
      "See the caveats in the documentation: https://pandas.pydata.org/pandas-docs/stable/user_guide/indexing.html#returning-a-view-versus-a-copy\n",
      "  temp_multi['number_filter'] = filter_types\n",
      "<ipython-input-13-8bc6428979cb>:9: FutureWarning: The default value of regex will change from True to False in a future version.\n",
      "  missing_lsoa_df.loc[:,'street_number2'] = missing_lsoa_df.loc[:,'street_number'].str.replace(r\"^.*(?=\\b[0-9]+$)\", \"\").str.replace(r\"[^\\d]\", \"\", regex = True)\n",
      "<ipython-input-13-8bc6428979cb>:9: SettingWithCopyWarning: \n",
      "A value is trying to be set on a copy of a slice from a DataFrame.\n",
      "Try using .loc[row_indexer,col_indexer] = value instead\n",
      "\n",
      "See the caveats in the documentation: https://pandas.pydata.org/pandas-docs/stable/user_guide/indexing.html#returning-a-view-versus-a-copy\n",
      "  missing_lsoa_df.loc[:,'street_number2'] = missing_lsoa_df.loc[:,'street_number'].str.replace(r\"^.*(?=\\b[0-9]+$)\", \"\").str.replace(r\"[^\\d]\", \"\", regex = True)\n"
     ]
    },
    {
     "name": "stdout",
     "output_type": "stream",
     "text": [
      "i= 0  expand time,0.0 filter time0.0 make_dataframe_time 0.001\n",
      "marketstreet\n",
      "E09000010\n"
     ]
    },
    {
     "name": "stderr",
     "output_type": "stream",
     "text": [
      "/tf/empty_homes_london/helper_functions.py:272: SettingWithCopyWarning: \n",
      "A value is trying to be set on a copy of a slice from a DataFrame.\n",
      "Try using .loc[row_indexer,col_indexer] = value instead\n",
      "\n",
      "See the caveats in the documentation: https://pandas.pydata.org/pandas-docs/stable/user_guide/indexing.html#returning-a-view-versus-a-copy\n",
      "  temp_multi['number_filter'] = filter_types\n",
      "<ipython-input-13-8bc6428979cb>:35: SettingWithCopyWarning: \n",
      "A value is trying to be set on a copy of a slice from a DataFrame.\n",
      "Try using .loc[row_indexer,col_indexer] = value instead\n",
      "\n",
      "See the caveats in the documentation: https://pandas.pydata.org/pandas-docs/stable/user_guide/indexing.html#returning-a-view-versus-a-copy\n",
      "  missing_lsoa_road['lsoa11cd'] = [street_number_to_lsoa(temp_road, int(missing_lsoa_road.iloc[missing_lsoa_row]['street_number2']))\n",
      "<ipython-input-13-8bc6428979cb>:9: FutureWarning: The default value of regex will change from True to False in a future version.\n",
      "  missing_lsoa_df.loc[:,'street_number2'] = missing_lsoa_df.loc[:,'street_number'].str.replace(r\"^.*(?=\\b[0-9]+$)\", \"\").str.replace(r\"[^\\d]\", \"\", regex = True)\n",
      "<ipython-input-13-8bc6428979cb>:9: SettingWithCopyWarning: \n",
      "A value is trying to be set on a copy of a slice from a DataFrame.\n",
      "Try using .loc[row_indexer,col_indexer] = value instead\n",
      "\n",
      "See the caveats in the documentation: https://pandas.pydata.org/pandas-docs/stable/user_guide/indexing.html#returning-a-view-versus-a-copy\n",
      "  missing_lsoa_df.loc[:,'street_number2'] = missing_lsoa_df.loc[:,'street_number'].str.replace(r\"^.*(?=\\b[0-9]+$)\", \"\").str.replace(r\"[^\\d]\", \"\", regex = True)\n"
     ]
    },
    {
     "name": "stdout",
     "output_type": "stream",
     "text": [
      "i= 0  expand time,0.0 filter time0.0 make_dataframe_time 0.001\n",
      "eastclose\n",
      "crewhill\n",
      "lancasterroad\n",
      "queenanneplace\n",
      "parkavenue\n",
      "greatcambridgeroad\n",
      "aldermanhill\n",
      "windmillhill\n",
      "E08000036\n"
     ]
    },
    {
     "name": "stderr",
     "output_type": "stream",
     "text": [
      "/tf/empty_homes_london/helper_functions.py:272: SettingWithCopyWarning: \n",
      "A value is trying to be set on a copy of a slice from a DataFrame.\n",
      "Try using .loc[row_indexer,col_indexer] = value instead\n",
      "\n",
      "See the caveats in the documentation: https://pandas.pydata.org/pandas-docs/stable/user_guide/indexing.html#returning-a-view-versus-a-copy\n",
      "  temp_multi['number_filter'] = filter_types\n",
      "<ipython-input-13-8bc6428979cb>:35: SettingWithCopyWarning: \n",
      "A value is trying to be set on a copy of a slice from a DataFrame.\n",
      "Try using .loc[row_indexer,col_indexer] = value instead\n",
      "\n",
      "See the caveats in the documentation: https://pandas.pydata.org/pandas-docs/stable/user_guide/indexing.html#returning-a-view-versus-a-copy\n",
      "  missing_lsoa_road['lsoa11cd'] = [street_number_to_lsoa(temp_road, int(missing_lsoa_road.iloc[missing_lsoa_row]['street_number2']))\n",
      "<ipython-input-13-8bc6428979cb>:9: FutureWarning: The default value of regex will change from True to False in a future version.\n",
      "  missing_lsoa_df.loc[:,'street_number2'] = missing_lsoa_df.loc[:,'street_number'].str.replace(r\"^.*(?=\\b[0-9]+$)\", \"\").str.replace(r\"[^\\d]\", \"\", regex = True)\n",
      "<ipython-input-13-8bc6428979cb>:9: SettingWithCopyWarning: \n",
      "A value is trying to be set on a copy of a slice from a DataFrame.\n",
      "Try using .loc[row_indexer,col_indexer] = value instead\n",
      "\n",
      "See the caveats in the documentation: https://pandas.pydata.org/pandas-docs/stable/user_guide/indexing.html#returning-a-view-versus-a-copy\n",
      "  missing_lsoa_df.loc[:,'street_number2'] = missing_lsoa_df.loc[:,'street_number'].str.replace(r\"^.*(?=\\b[0-9]+$)\", \"\").str.replace(r\"[^\\d]\", \"\", regex = True)\n"
     ]
    },
    {
     "name": "stdout",
     "output_type": "stream",
     "text": [
      "i= 0  expand time,0.0 filter time0.0 make_dataframe_time 0.001\n",
      "kirkgate\n",
      "westgate\n",
      "E06000052\n"
     ]
    },
    {
     "name": "stderr",
     "output_type": "stream",
     "text": [
      "/tf/empty_homes_london/helper_functions.py:272: SettingWithCopyWarning: \n",
      "A value is trying to be set on a copy of a slice from a DataFrame.\n",
      "Try using .loc[row_indexer,col_indexer] = value instead\n",
      "\n",
      "See the caveats in the documentation: https://pandas.pydata.org/pandas-docs/stable/user_guide/indexing.html#returning-a-view-versus-a-copy\n",
      "  temp_multi['number_filter'] = filter_types\n",
      "<ipython-input-13-8bc6428979cb>:35: SettingWithCopyWarning: \n",
      "A value is trying to be set on a copy of a slice from a DataFrame.\n",
      "Try using .loc[row_indexer,col_indexer] = value instead\n",
      "\n",
      "See the caveats in the documentation: https://pandas.pydata.org/pandas-docs/stable/user_guide/indexing.html#returning-a-view-versus-a-copy\n",
      "  missing_lsoa_road['lsoa11cd'] = [street_number_to_lsoa(temp_road, int(missing_lsoa_road.iloc[missing_lsoa_row]['street_number2']))\n",
      "<ipython-input-13-8bc6428979cb>:9: FutureWarning: The default value of regex will change from True to False in a future version.\n",
      "  missing_lsoa_df.loc[:,'street_number2'] = missing_lsoa_df.loc[:,'street_number'].str.replace(r\"^.*(?=\\b[0-9]+$)\", \"\").str.replace(r\"[^\\d]\", \"\", regex = True)\n",
      "<ipython-input-13-8bc6428979cb>:9: SettingWithCopyWarning: \n",
      "A value is trying to be set on a copy of a slice from a DataFrame.\n",
      "Try using .loc[row_indexer,col_indexer] = value instead\n",
      "\n",
      "See the caveats in the documentation: https://pandas.pydata.org/pandas-docs/stable/user_guide/indexing.html#returning-a-view-versus-a-copy\n",
      "  missing_lsoa_df.loc[:,'street_number2'] = missing_lsoa_df.loc[:,'street_number'].str.replace(r\"^.*(?=\\b[0-9]+$)\", \"\").str.replace(r\"[^\\d]\", \"\", regex = True)\n"
     ]
    },
    {
     "name": "stdout",
     "output_type": "stream",
     "text": [
      "i= 0  expand time,0.0 filter time0.0 make_dataframe_time 0.001\n",
      "pydarstreet\n",
      "coombelane\n",
      "kimberleyparkroad\n",
      "sawmilllane\n",
      "belleviewavenue\n",
      "marketstreet\n",
      "E07000094\n"
     ]
    },
    {
     "name": "stderr",
     "output_type": "stream",
     "text": [
      "/tf/empty_homes_london/helper_functions.py:272: SettingWithCopyWarning: \n",
      "A value is trying to be set on a copy of a slice from a DataFrame.\n",
      "Try using .loc[row_indexer,col_indexer] = value instead\n",
      "\n",
      "See the caveats in the documentation: https://pandas.pydata.org/pandas-docs/stable/user_guide/indexing.html#returning-a-view-versus-a-copy\n",
      "  temp_multi['number_filter'] = filter_types\n",
      "<ipython-input-13-8bc6428979cb>:35: SettingWithCopyWarning: \n",
      "A value is trying to be set on a copy of a slice from a DataFrame.\n",
      "Try using .loc[row_indexer,col_indexer] = value instead\n",
      "\n",
      "See the caveats in the documentation: https://pandas.pydata.org/pandas-docs/stable/user_guide/indexing.html#returning-a-view-versus-a-copy\n",
      "  missing_lsoa_road['lsoa11cd'] = [street_number_to_lsoa(temp_road, int(missing_lsoa_road.iloc[missing_lsoa_row]['street_number2']))\n",
      "<ipython-input-13-8bc6428979cb>:9: FutureWarning: The default value of regex will change from True to False in a future version.\n",
      "  missing_lsoa_df.loc[:,'street_number2'] = missing_lsoa_df.loc[:,'street_number'].str.replace(r\"^.*(?=\\b[0-9]+$)\", \"\").str.replace(r\"[^\\d]\", \"\", regex = True)\n",
      "<ipython-input-13-8bc6428979cb>:9: SettingWithCopyWarning: \n",
      "A value is trying to be set on a copy of a slice from a DataFrame.\n",
      "Try using .loc[row_indexer,col_indexer] = value instead\n",
      "\n",
      "See the caveats in the documentation: https://pandas.pydata.org/pandas-docs/stable/user_guide/indexing.html#returning-a-view-versus-a-copy\n",
      "  missing_lsoa_df.loc[:,'street_number2'] = missing_lsoa_df.loc[:,'street_number'].str.replace(r\"^.*(?=\\b[0-9]+$)\", \"\").str.replace(r\"[^\\d]\", \"\", regex = True)\n"
     ]
    },
    {
     "name": "stdout",
     "output_type": "stream",
     "text": [
      "i= 0  expand time,0.0 filter time0.0 make_dataframe_time 0.001\n",
      "highstreet\n",
      "thesquare\n",
      "E07000209\n"
     ]
    },
    {
     "name": "stderr",
     "output_type": "stream",
     "text": [
      "/tf/empty_homes_london/helper_functions.py:272: SettingWithCopyWarning: \n",
      "A value is trying to be set on a copy of a slice from a DataFrame.\n",
      "Try using .loc[row_indexer,col_indexer] = value instead\n",
      "\n",
      "See the caveats in the documentation: https://pandas.pydata.org/pandas-docs/stable/user_guide/indexing.html#returning-a-view-versus-a-copy\n",
      "  temp_multi['number_filter'] = filter_types\n",
      "<ipython-input-13-8bc6428979cb>:9: FutureWarning: The default value of regex will change from True to False in a future version.\n",
      "  missing_lsoa_df.loc[:,'street_number2'] = missing_lsoa_df.loc[:,'street_number'].str.replace(r\"^.*(?=\\b[0-9]+$)\", \"\").str.replace(r\"[^\\d]\", \"\", regex = True)\n",
      "<ipython-input-13-8bc6428979cb>:9: SettingWithCopyWarning: \n",
      "A value is trying to be set on a copy of a slice from a DataFrame.\n",
      "Try using .loc[row_indexer,col_indexer] = value instead\n",
      "\n",
      "See the caveats in the documentation: https://pandas.pydata.org/pandas-docs/stable/user_guide/indexing.html#returning-a-view-versus-a-copy\n",
      "  missing_lsoa_df.loc[:,'street_number2'] = missing_lsoa_df.loc[:,'street_number'].str.replace(r\"^.*(?=\\b[0-9]+$)\", \"\").str.replace(r\"[^\\d]\", \"\", regex = True)\n"
     ]
    },
    {
     "name": "stdout",
     "output_type": "stream",
     "text": [
      "i= 0  expand time,0.0 filter time0.0 make_dataframe_time 0.001\n",
      "moorfieldroad\n",
      "W06000018\n",
      "stannegardens\n",
      "coed-y-brain\n",
      "charlestreet\n",
      "W06000015\n"
     ]
    },
    {
     "name": "stderr",
     "output_type": "stream",
     "text": [
      "<ipython-input-13-8bc6428979cb>:35: SettingWithCopyWarning: \n",
      "A value is trying to be set on a copy of a slice from a DataFrame.\n",
      "Try using .loc[row_indexer,col_indexer] = value instead\n",
      "\n",
      "See the caveats in the documentation: https://pandas.pydata.org/pandas-docs/stable/user_guide/indexing.html#returning-a-view-versus-a-copy\n",
      "  missing_lsoa_road['lsoa11cd'] = [street_number_to_lsoa(temp_road, int(missing_lsoa_road.iloc[missing_lsoa_row]['street_number2']))\n",
      "<ipython-input-13-8bc6428979cb>:9: FutureWarning: The default value of regex will change from True to False in a future version.\n",
      "  missing_lsoa_df.loc[:,'street_number2'] = missing_lsoa_df.loc[:,'street_number'].str.replace(r\"^.*(?=\\b[0-9]+$)\", \"\").str.replace(r\"[^\\d]\", \"\", regex = True)\n",
      "<ipython-input-13-8bc6428979cb>:9: SettingWithCopyWarning: \n",
      "A value is trying to be set on a copy of a slice from a DataFrame.\n",
      "Try using .loc[row_indexer,col_indexer] = value instead\n",
      "\n",
      "See the caveats in the documentation: https://pandas.pydata.org/pandas-docs/stable/user_guide/indexing.html#returning-a-view-versus-a-copy\n",
      "  missing_lsoa_df.loc[:,'street_number2'] = missing_lsoa_df.loc[:,'street_number'].str.replace(r\"^.*(?=\\b[0-9]+$)\", \"\").str.replace(r\"[^\\d]\", \"\", regex = True)\n",
      "/tf/empty_homes_london/helper_functions.py:272: SettingWithCopyWarning: \n",
      "A value is trying to be set on a copy of a slice from a DataFrame.\n",
      "Try using .loc[row_indexer,col_indexer] = value instead\n",
      "\n",
      "See the caveats in the documentation: https://pandas.pydata.org/pandas-docs/stable/user_guide/indexing.html#returning-a-view-versus-a-copy\n",
      "  temp_multi['number_filter'] = filter_types\n"
     ]
    },
    {
     "name": "stdout",
     "output_type": "stream",
     "text": [
      "i= 0  expand time,0.0 filter time0.0 make_dataframe_time 0.001\n",
      "cityroad\n"
     ]
    },
    {
     "name": "stderr",
     "output_type": "stream",
     "text": [
      "<ipython-input-13-8bc6428979cb>:35: SettingWithCopyWarning: \n",
      "A value is trying to be set on a copy of a slice from a DataFrame.\n",
      "Try using .loc[row_indexer,col_indexer] = value instead\n",
      "\n",
      "See the caveats in the documentation: https://pandas.pydata.org/pandas-docs/stable/user_guide/indexing.html#returning-a-view-versus-a-copy\n",
      "  missing_lsoa_road['lsoa11cd'] = [street_number_to_lsoa(temp_road, int(missing_lsoa_road.iloc[missing_lsoa_row]['street_number2']))\n",
      "<ipython-input-13-8bc6428979cb>:9: FutureWarning: The default value of regex will change from True to False in a future version.\n",
      "  missing_lsoa_df.loc[:,'street_number2'] = missing_lsoa_df.loc[:,'street_number'].str.replace(r\"^.*(?=\\b[0-9]+$)\", \"\").str.replace(r\"[^\\d]\", \"\", regex = True)\n",
      "<ipython-input-13-8bc6428979cb>:9: SettingWithCopyWarning: \n",
      "A value is trying to be set on a copy of a slice from a DataFrame.\n",
      "Try using .loc[row_indexer,col_indexer] = value instead\n",
      "\n",
      "See the caveats in the documentation: https://pandas.pydata.org/pandas-docs/stable/user_guide/indexing.html#returning-a-view-versus-a-copy\n",
      "  missing_lsoa_df.loc[:,'street_number2'] = missing_lsoa_df.loc[:,'street_number'].str.replace(r\"^.*(?=\\b[0-9]+$)\", \"\").str.replace(r\"[^\\d]\", \"\", regex = True)\n"
     ]
    },
    {
     "name": "stdout",
     "output_type": "stream",
     "text": [
      "penllinestreet\n",
      "bedfordstreet\n",
      "stmarystreet\n",
      "queenstreet\n",
      "westbutestreet\n",
      "hollybushroad\n",
      "cowbridgeroadeast\n",
      "theparade,\n",
      "walmerroad\n",
      "E07000077\n"
     ]
    },
    {
     "name": "stderr",
     "output_type": "stream",
     "text": [
      "/tf/empty_homes_london/helper_functions.py:272: SettingWithCopyWarning: \n",
      "A value is trying to be set on a copy of a slice from a DataFrame.\n",
      "Try using .loc[row_indexer,col_indexer] = value instead\n",
      "\n",
      "See the caveats in the documentation: https://pandas.pydata.org/pandas-docs/stable/user_guide/indexing.html#returning-a-view-versus-a-copy\n",
      "  temp_multi['number_filter'] = filter_types\n",
      "<ipython-input-13-8bc6428979cb>:9: FutureWarning: The default value of regex will change from True to False in a future version.\n",
      "  missing_lsoa_df.loc[:,'street_number2'] = missing_lsoa_df.loc[:,'street_number'].str.replace(r\"^.*(?=\\b[0-9]+$)\", \"\").str.replace(r\"[^\\d]\", \"\", regex = True)\n",
      "<ipython-input-13-8bc6428979cb>:9: SettingWithCopyWarning: \n",
      "A value is trying to be set on a copy of a slice from a DataFrame.\n",
      "Try using .loc[row_indexer,col_indexer] = value instead\n",
      "\n",
      "See the caveats in the documentation: https://pandas.pydata.org/pandas-docs/stable/user_guide/indexing.html#returning-a-view-versus-a-copy\n",
      "  missing_lsoa_df.loc[:,'street_number2'] = missing_lsoa_df.loc[:,'street_number'].str.replace(r\"^.*(?=\\b[0-9]+$)\", \"\").str.replace(r\"[^\\d]\", \"\", regex = True)\n"
     ]
    },
    {
     "name": "stdout",
     "output_type": "stream",
     "text": [
      "i= 0  expand time,0.0 filter time0.0 make_dataframe_time 0.001\n",
      "highstreet\n",
      "E09000009\n"
     ]
    },
    {
     "name": "stderr",
     "output_type": "stream",
     "text": [
      "/tf/empty_homes_london/helper_functions.py:272: SettingWithCopyWarning: \n",
      "A value is trying to be set on a copy of a slice from a DataFrame.\n",
      "Try using .loc[row_indexer,col_indexer] = value instead\n",
      "\n",
      "See the caveats in the documentation: https://pandas.pydata.org/pandas-docs/stable/user_guide/indexing.html#returning-a-view-versus-a-copy\n",
      "  temp_multi['number_filter'] = filter_types\n"
     ]
    },
    {
     "name": "stdout",
     "output_type": "stream",
     "text": [
      "i= 0  expand time,0.0 filter time0.0 make_dataframe_time 0.001\n",
      "thebroadway\n",
      "bromyardavenue\n"
     ]
    },
    {
     "name": "stderr",
     "output_type": "stream",
     "text": [
      "<ipython-input-13-8bc6428979cb>:35: SettingWithCopyWarning: \n",
      "A value is trying to be set on a copy of a slice from a DataFrame.\n",
      "Try using .loc[row_indexer,col_indexer] = value instead\n",
      "\n",
      "See the caveats in the documentation: https://pandas.pydata.org/pandas-docs/stable/user_guide/indexing.html#returning-a-view-versus-a-copy\n",
      "  missing_lsoa_road['lsoa11cd'] = [street_number_to_lsoa(temp_road, int(missing_lsoa_road.iloc[missing_lsoa_row]['street_number2']))\n",
      "<ipython-input-13-8bc6428979cb>:9: FutureWarning: The default value of regex will change from True to False in a future version.\n",
      "  missing_lsoa_df.loc[:,'street_number2'] = missing_lsoa_df.loc[:,'street_number'].str.replace(r\"^.*(?=\\b[0-9]+$)\", \"\").str.replace(r\"[^\\d]\", \"\", regex = True)\n",
      "<ipython-input-13-8bc6428979cb>:9: SettingWithCopyWarning: \n",
      "A value is trying to be set on a copy of a slice from a DataFrame.\n",
      "Try using .loc[row_indexer,col_indexer] = value instead\n",
      "\n",
      "See the caveats in the documentation: https://pandas.pydata.org/pandas-docs/stable/user_guide/indexing.html#returning-a-view-versus-a-copy\n",
      "  missing_lsoa_df.loc[:,'street_number2'] = missing_lsoa_df.loc[:,'street_number'].str.replace(r\"^.*(?=\\b[0-9]+$)\", \"\").str.replace(r\"[^\\d]\", \"\", regex = True)\n"
     ]
    },
    {
     "name": "stdout",
     "output_type": "stream",
     "text": [
      "uxbridgeroad\n",
      "parkroyalroad\n",
      "southroad\n",
      "highstreet\n",
      "creffieldroad\n",
      "julianavenue\n",
      "westernavenue\n",
      "sandringhammews\n",
      "herefordroad\n",
      "perivale\n",
      "thegrove\n",
      "cravenavenue\n",
      "thegreen\n",
      "argyleroad\n",
      "bostonroad\n",
      "actonhighstreet\n",
      "gatcombemews\n",
      "E07000242\n",
      "tewingrove\n",
      "E07000179\n"
     ]
    },
    {
     "name": "stderr",
     "output_type": "stream",
     "text": [
      "<ipython-input-13-8bc6428979cb>:9: FutureWarning: The default value of regex will change from True to False in a future version.\n",
      "  missing_lsoa_df.loc[:,'street_number2'] = missing_lsoa_df.loc[:,'street_number'].str.replace(r\"^.*(?=\\b[0-9]+$)\", \"\").str.replace(r\"[^\\d]\", \"\", regex = True)\n",
      "<ipython-input-13-8bc6428979cb>:9: SettingWithCopyWarning: \n",
      "A value is trying to be set on a copy of a slice from a DataFrame.\n",
      "Try using .loc[row_indexer,col_indexer] = value instead\n",
      "\n",
      "See the caveats in the documentation: https://pandas.pydata.org/pandas-docs/stable/user_guide/indexing.html#returning-a-view-versus-a-copy\n",
      "  missing_lsoa_df.loc[:,'street_number2'] = missing_lsoa_df.loc[:,'street_number'].str.replace(r\"^.*(?=\\b[0-9]+$)\", \"\").str.replace(r\"[^\\d]\", \"\", regex = True)\n",
      "/tf/empty_homes_london/helper_functions.py:272: SettingWithCopyWarning: \n",
      "A value is trying to be set on a copy of a slice from a DataFrame.\n",
      "Try using .loc[row_indexer,col_indexer] = value instead\n",
      "\n",
      "See the caveats in the documentation: https://pandas.pydata.org/pandas-docs/stable/user_guide/indexing.html#returning-a-view-versus-a-copy\n",
      "  temp_multi['number_filter'] = filter_types\n",
      "<ipython-input-13-8bc6428979cb>:9: FutureWarning: The default value of regex will change from True to False in a future version.\n",
      "  missing_lsoa_df.loc[:,'street_number2'] = missing_lsoa_df.loc[:,'street_number'].str.replace(r\"^.*(?=\\b[0-9]+$)\", \"\").str.replace(r\"[^\\d]\", \"\", regex = True)\n",
      "<ipython-input-13-8bc6428979cb>:9: SettingWithCopyWarning: \n",
      "A value is trying to be set on a copy of a slice from a DataFrame.\n",
      "Try using .loc[row_indexer,col_indexer] = value instead\n",
      "\n",
      "See the caveats in the documentation: https://pandas.pydata.org/pandas-docs/stable/user_guide/indexing.html#returning-a-view-versus-a-copy\n",
      "  missing_lsoa_df.loc[:,'street_number2'] = missing_lsoa_df.loc[:,'street_number'].str.replace(r\"^.*(?=\\b[0-9]+$)\", \"\").str.replace(r\"[^\\d]\", \"\", regex = True)\n"
     ]
    },
    {
     "name": "stdout",
     "output_type": "stream",
     "text": [
      "i= 0  expand time,0.0 filter time0.0 make_dataframe_time 0.001\n",
      "marketplace\n",
      "E07000239\n"
     ]
    },
    {
     "name": "stderr",
     "output_type": "stream",
     "text": [
      "/tf/empty_homes_london/helper_functions.py:272: SettingWithCopyWarning: \n",
      "A value is trying to be set on a copy of a slice from a DataFrame.\n",
      "Try using .loc[row_indexer,col_indexer] = value instead\n",
      "\n",
      "See the caveats in the documentation: https://pandas.pydata.org/pandas-docs/stable/user_guide/indexing.html#returning-a-view-versus-a-copy\n",
      "  temp_multi['number_filter'] = filter_types\n",
      "<ipython-input-13-8bc6428979cb>:9: FutureWarning: The default value of regex will change from True to False in a future version.\n",
      "  missing_lsoa_df.loc[:,'street_number2'] = missing_lsoa_df.loc[:,'street_number'].str.replace(r\"^.*(?=\\b[0-9]+$)\", \"\").str.replace(r\"[^\\d]\", \"\", regex = True)\n",
      "<ipython-input-13-8bc6428979cb>:9: SettingWithCopyWarning: \n",
      "A value is trying to be set on a copy of a slice from a DataFrame.\n",
      "Try using .loc[row_indexer,col_indexer] = value instead\n",
      "\n",
      "See the caveats in the documentation: https://pandas.pydata.org/pandas-docs/stable/user_guide/indexing.html#returning-a-view-versus-a-copy\n",
      "  missing_lsoa_df.loc[:,'street_number2'] = missing_lsoa_df.loc[:,'street_number'].str.replace(r\"^.*(?=\\b[0-9]+$)\", \"\").str.replace(r\"[^\\d]\", \"\", regex = True)\n"
     ]
    },
    {
     "name": "stdout",
     "output_type": "stream",
     "text": [
      "i= 0  expand time,0.0 filter time0.0 make_dataframe_time 0.001\n",
      "stourportroad\n",
      "E07000123\n"
     ]
    },
    {
     "name": "stderr",
     "output_type": "stream",
     "text": [
      "/tf/empty_homes_london/helper_functions.py:272: SettingWithCopyWarning: \n",
      "A value is trying to be set on a copy of a slice from a DataFrame.\n",
      "Try using .loc[row_indexer,col_indexer] = value instead\n",
      "\n",
      "See the caveats in the documentation: https://pandas.pydata.org/pandas-docs/stable/user_guide/indexing.html#returning-a-view-versus-a-copy\n",
      "  temp_multi['number_filter'] = filter_types\n",
      "<ipython-input-13-8bc6428979cb>:35: SettingWithCopyWarning: \n",
      "A value is trying to be set on a copy of a slice from a DataFrame.\n",
      "Try using .loc[row_indexer,col_indexer] = value instead\n",
      "\n",
      "See the caveats in the documentation: https://pandas.pydata.org/pandas-docs/stable/user_guide/indexing.html#returning-a-view-versus-a-copy\n",
      "  missing_lsoa_road['lsoa11cd'] = [street_number_to_lsoa(temp_road, int(missing_lsoa_road.iloc[missing_lsoa_row]['street_number2']))\n",
      "<ipython-input-13-8bc6428979cb>:9: FutureWarning: The default value of regex will change from True to False in a future version.\n",
      "  missing_lsoa_df.loc[:,'street_number2'] = missing_lsoa_df.loc[:,'street_number'].str.replace(r\"^.*(?=\\b[0-9]+$)\", \"\").str.replace(r\"[^\\d]\", \"\", regex = True)\n",
      "<ipython-input-13-8bc6428979cb>:9: SettingWithCopyWarning: \n",
      "A value is trying to be set on a copy of a slice from a DataFrame.\n",
      "Try using .loc[row_indexer,col_indexer] = value instead\n",
      "\n",
      "See the caveats in the documentation: https://pandas.pydata.org/pandas-docs/stable/user_guide/indexing.html#returning-a-view-versus-a-copy\n",
      "  missing_lsoa_df.loc[:,'street_number2'] = missing_lsoa_df.loc[:,'street_number'].str.replace(r\"^.*(?=\\b[0-9]+$)\", \"\").str.replace(r\"[^\\d]\", \"\", regex = True)\n"
     ]
    },
    {
     "name": "stdout",
     "output_type": "stream",
     "text": [
      "i= 0  expand time,0.0 filter time0.0 make_dataframe_time 0.0\n",
      "deepdaleroad\n",
      "fishergate\n",
      "guildhallstreet\n",
      "charnleystreet\n",
      "bostockstreet\n",
      "longridgeroad\n",
      "E07000125\n",
      "mayfairclose\n",
      "E07000216\n"
     ]
    },
    {
     "name": "stderr",
     "output_type": "stream",
     "text": [
      "<ipython-input-13-8bc6428979cb>:9: FutureWarning: The default value of regex will change from True to False in a future version.\n",
      "  missing_lsoa_df.loc[:,'street_number2'] = missing_lsoa_df.loc[:,'street_number'].str.replace(r\"^.*(?=\\b[0-9]+$)\", \"\").str.replace(r\"[^\\d]\", \"\", regex = True)\n",
      "<ipython-input-13-8bc6428979cb>:9: SettingWithCopyWarning: \n",
      "A value is trying to be set on a copy of a slice from a DataFrame.\n",
      "Try using .loc[row_indexer,col_indexer] = value instead\n",
      "\n",
      "See the caveats in the documentation: https://pandas.pydata.org/pandas-docs/stable/user_guide/indexing.html#returning-a-view-versus-a-copy\n",
      "  missing_lsoa_df.loc[:,'street_number2'] = missing_lsoa_df.loc[:,'street_number'].str.replace(r\"^.*(?=\\b[0-9]+$)\", \"\").str.replace(r\"[^\\d]\", \"\", regex = True)\n",
      "/tf/empty_homes_london/helper_functions.py:272: SettingWithCopyWarning: \n",
      "A value is trying to be set on a copy of a slice from a DataFrame.\n",
      "Try using .loc[row_indexer,col_indexer] = value instead\n",
      "\n",
      "See the caveats in the documentation: https://pandas.pydata.org/pandas-docs/stable/user_guide/indexing.html#returning-a-view-versus-a-copy\n",
      "  temp_multi['number_filter'] = filter_types\n",
      "<ipython-input-13-8bc6428979cb>:35: SettingWithCopyWarning: \n",
      "A value is trying to be set on a copy of a slice from a DataFrame.\n",
      "Try using .loc[row_indexer,col_indexer] = value instead\n",
      "\n",
      "See the caveats in the documentation: https://pandas.pydata.org/pandas-docs/stable/user_guide/indexing.html#returning-a-view-versus-a-copy\n",
      "  missing_lsoa_road['lsoa11cd'] = [street_number_to_lsoa(temp_road, int(missing_lsoa_road.iloc[missing_lsoa_row]['street_number2']))\n",
      "<ipython-input-13-8bc6428979cb>:9: FutureWarning: The default value of regex will change from True to False in a future version.\n",
      "  missing_lsoa_df.loc[:,'street_number2'] = missing_lsoa_df.loc[:,'street_number'].str.replace(r\"^.*(?=\\b[0-9]+$)\", \"\").str.replace(r\"[^\\d]\", \"\", regex = True)\n",
      "<ipython-input-13-8bc6428979cb>:9: SettingWithCopyWarning: \n",
      "A value is trying to be set on a copy of a slice from a DataFrame.\n",
      "Try using .loc[row_indexer,col_indexer] = value instead\n",
      "\n",
      "See the caveats in the documentation: https://pandas.pydata.org/pandas-docs/stable/user_guide/indexing.html#returning-a-view-versus-a-copy\n",
      "  missing_lsoa_df.loc[:,'street_number2'] = missing_lsoa_df.loc[:,'street_number'].str.replace(r\"^.*(?=\\b[0-9]+$)\", \"\").str.replace(r\"[^\\d]\", \"\", regex = True)\n"
     ]
    },
    {
     "name": "stdout",
     "output_type": "stream",
     "text": [
      "i= 0  expand time,0.0 filter time0.0 make_dataframe_time 0.001\n",
      "highstreet\n",
      "lambyard\n",
      "weststreet\n",
      "downingstreet\n",
      "E07000207\n"
     ]
    },
    {
     "name": "stderr",
     "output_type": "stream",
     "text": [
      "/tf/empty_homes_london/helper_functions.py:272: SettingWithCopyWarning: \n",
      "A value is trying to be set on a copy of a slice from a DataFrame.\n",
      "Try using .loc[row_indexer,col_indexer] = value instead\n",
      "\n",
      "See the caveats in the documentation: https://pandas.pydata.org/pandas-docs/stable/user_guide/indexing.html#returning-a-view-versus-a-copy\n",
      "  temp_multi['number_filter'] = filter_types\n"
     ]
    },
    {
     "name": "stdout",
     "output_type": "stream",
     "text": [
      "i= 0  expand time,0.0 filter time0.0 make_dataframe_time 0.001\n",
      "highstreet\n",
      "bakerstreet\n",
      "hershamroad\n",
      "rydenroad\n"
     ]
    },
    {
     "name": "stderr",
     "output_type": "stream",
     "text": [
      "<ipython-input-13-8bc6428979cb>:35: SettingWithCopyWarning: \n",
      "A value is trying to be set on a copy of a slice from a DataFrame.\n",
      "Try using .loc[row_indexer,col_indexer] = value instead\n",
      "\n",
      "See the caveats in the documentation: https://pandas.pydata.org/pandas-docs/stable/user_guide/indexing.html#returning-a-view-versus-a-copy\n",
      "  missing_lsoa_road['lsoa11cd'] = [street_number_to_lsoa(temp_road, int(missing_lsoa_road.iloc[missing_lsoa_row]['street_number2']))\n",
      "<ipython-input-13-8bc6428979cb>:9: FutureWarning: The default value of regex will change from True to False in a future version.\n",
      "  missing_lsoa_df.loc[:,'street_number2'] = missing_lsoa_df.loc[:,'street_number'].str.replace(r\"^.*(?=\\b[0-9]+$)\", \"\").str.replace(r\"[^\\d]\", \"\", regex = True)\n",
      "<ipython-input-13-8bc6428979cb>:9: SettingWithCopyWarning: \n",
      "A value is trying to be set on a copy of a slice from a DataFrame.\n",
      "Try using .loc[row_indexer,col_indexer] = value instead\n",
      "\n",
      "See the caveats in the documentation: https://pandas.pydata.org/pandas-docs/stable/user_guide/indexing.html#returning-a-view-versus-a-copy\n",
      "  missing_lsoa_df.loc[:,'street_number2'] = missing_lsoa_df.loc[:,'street_number'].str.replace(r\"^.*(?=\\b[0-9]+$)\", \"\").str.replace(r\"[^\\d]\", \"\", regex = True)\n"
     ]
    },
    {
     "name": "stdout",
     "output_type": "stream",
     "text": [
      "oakdeneparade,\n",
      "E08000037\n"
     ]
    },
    {
     "name": "stderr",
     "output_type": "stream",
     "text": [
      "/tf/empty_homes_london/helper_functions.py:272: SettingWithCopyWarning: \n",
      "A value is trying to be set on a copy of a slice from a DataFrame.\n",
      "Try using .loc[row_indexer,col_indexer] = value instead\n",
      "\n",
      "See the caveats in the documentation: https://pandas.pydata.org/pandas-docs/stable/user_guide/indexing.html#returning-a-view-versus-a-copy\n",
      "  temp_multi['number_filter'] = filter_types\n",
      "<ipython-input-13-8bc6428979cb>:35: SettingWithCopyWarning: \n",
      "A value is trying to be set on a copy of a slice from a DataFrame.\n",
      "Try using .loc[row_indexer,col_indexer] = value instead\n",
      "\n",
      "See the caveats in the documentation: https://pandas.pydata.org/pandas-docs/stable/user_guide/indexing.html#returning-a-view-versus-a-copy\n",
      "  missing_lsoa_road['lsoa11cd'] = [street_number_to_lsoa(temp_road, int(missing_lsoa_road.iloc[missing_lsoa_row]['street_number2']))\n",
      "<ipython-input-13-8bc6428979cb>:9: FutureWarning: The default value of regex will change from True to False in a future version.\n",
      "  missing_lsoa_df.loc[:,'street_number2'] = missing_lsoa_df.loc[:,'street_number'].str.replace(r\"^.*(?=\\b[0-9]+$)\", \"\").str.replace(r\"[^\\d]\", \"\", regex = True)\n",
      "<ipython-input-13-8bc6428979cb>:9: SettingWithCopyWarning: \n",
      "A value is trying to be set on a copy of a slice from a DataFrame.\n",
      "Try using .loc[row_indexer,col_indexer] = value instead\n",
      "\n",
      "See the caveats in the documentation: https://pandas.pydata.org/pandas-docs/stable/user_guide/indexing.html#returning-a-view-versus-a-copy\n",
      "  missing_lsoa_df.loc[:,'street_number2'] = missing_lsoa_df.loc[:,'street_number'].str.replace(r\"^.*(?=\\b[0-9]+$)\", \"\").str.replace(r\"[^\\d]\", \"\", regex = True)\n"
     ]
    },
    {
     "name": "stdout",
     "output_type": "stream",
     "text": [
      "i= 0  expand time,0.0 filter time0.0 make_dataframe_time 0.001\n",
      "whitehallroad\n",
      "durhamroad\n",
      "bishoppark\n",
      "E07000225\n"
     ]
    },
    {
     "name": "stderr",
     "output_type": "stream",
     "text": [
      "/tf/empty_homes_london/helper_functions.py:272: SettingWithCopyWarning: \n",
      "A value is trying to be set on a copy of a slice from a DataFrame.\n",
      "Try using .loc[row_indexer,col_indexer] = value instead\n",
      "\n",
      "See the caveats in the documentation: https://pandas.pydata.org/pandas-docs/stable/user_guide/indexing.html#returning-a-view-versus-a-copy\n",
      "  temp_multi['number_filter'] = filter_types\n",
      "<ipython-input-13-8bc6428979cb>:35: SettingWithCopyWarning: \n",
      "A value is trying to be set on a copy of a slice from a DataFrame.\n",
      "Try using .loc[row_indexer,col_indexer] = value instead\n",
      "\n",
      "See the caveats in the documentation: https://pandas.pydata.org/pandas-docs/stable/user_guide/indexing.html#returning-a-view-versus-a-copy\n",
      "  missing_lsoa_road['lsoa11cd'] = [street_number_to_lsoa(temp_road, int(missing_lsoa_road.iloc[missing_lsoa_row]['street_number2']))\n",
      "<ipython-input-13-8bc6428979cb>:9: FutureWarning: The default value of regex will change from True to False in a future version.\n",
      "  missing_lsoa_df.loc[:,'street_number2'] = missing_lsoa_df.loc[:,'street_number'].str.replace(r\"^.*(?=\\b[0-9]+$)\", \"\").str.replace(r\"[^\\d]\", \"\", regex = True)\n",
      "<ipython-input-13-8bc6428979cb>:9: SettingWithCopyWarning: \n",
      "A value is trying to be set on a copy of a slice from a DataFrame.\n",
      "Try using .loc[row_indexer,col_indexer] = value instead\n",
      "\n",
      "See the caveats in the documentation: https://pandas.pydata.org/pandas-docs/stable/user_guide/indexing.html#returning-a-view-versus-a-copy\n",
      "  missing_lsoa_df.loc[:,'street_number2'] = missing_lsoa_df.loc[:,'street_number'].str.replace(r\"^.*(?=\\b[0-9]+$)\", \"\").str.replace(r\"[^\\d]\", \"\", regex = True)\n"
     ]
    },
    {
     "name": "stdout",
     "output_type": "stream",
     "text": [
      "i= 0  expand time,0.0 filter time0.0 make_dataframe_time 0.001\n",
      "eaststreet\n",
      "southstreet\n",
      "southgate\n",
      "E07000173\n"
     ]
    },
    {
     "name": "stderr",
     "output_type": "stream",
     "text": [
      "/tf/empty_homes_london/helper_functions.py:272: SettingWithCopyWarning: \n",
      "A value is trying to be set on a copy of a slice from a DataFrame.\n",
      "Try using .loc[row_indexer,col_indexer] = value instead\n",
      "\n",
      "See the caveats in the documentation: https://pandas.pydata.org/pandas-docs/stable/user_guide/indexing.html#returning-a-view-versus-a-copy\n",
      "  temp_multi['number_filter'] = filter_types\n",
      "<ipython-input-13-8bc6428979cb>:9: FutureWarning: The default value of regex will change from True to False in a future version.\n",
      "  missing_lsoa_df.loc[:,'street_number2'] = missing_lsoa_df.loc[:,'street_number'].str.replace(r\"^.*(?=\\b[0-9]+$)\", \"\").str.replace(r\"[^\\d]\", \"\", regex = True)\n",
      "<ipython-input-13-8bc6428979cb>:9: SettingWithCopyWarning: \n",
      "A value is trying to be set on a copy of a slice from a DataFrame.\n",
      "Try using .loc[row_indexer,col_indexer] = value instead\n",
      "\n",
      "See the caveats in the documentation: https://pandas.pydata.org/pandas-docs/stable/user_guide/indexing.html#returning-a-view-versus-a-copy\n",
      "  missing_lsoa_df.loc[:,'street_number2'] = missing_lsoa_df.loc[:,'street_number'].str.replace(r\"^.*(?=\\b[0-9]+$)\", \"\").str.replace(r\"[^\\d]\", \"\", regex = True)\n"
     ]
    },
    {
     "name": "stdout",
     "output_type": "stream",
     "text": [
      "i= 0  expand time,0.0 filter time0.0 make_dataframe_time 0.001\n",
      "carltonhill\n",
      "E07000089\n"
     ]
    },
    {
     "name": "stderr",
     "output_type": "stream",
     "text": [
      "/tf/empty_homes_london/helper_functions.py:272: SettingWithCopyWarning: \n",
      "A value is trying to be set on a copy of a slice from a DataFrame.\n",
      "Try using .loc[row_indexer,col_indexer] = value instead\n",
      "\n",
      "See the caveats in the documentation: https://pandas.pydata.org/pandas-docs/stable/user_guide/indexing.html#returning-a-view-versus-a-copy\n",
      "  temp_multi['number_filter'] = filter_types\n",
      "<ipython-input-13-8bc6428979cb>:9: FutureWarning: The default value of regex will change from True to False in a future version.\n",
      "  missing_lsoa_df.loc[:,'street_number2'] = missing_lsoa_df.loc[:,'street_number'].str.replace(r\"^.*(?=\\b[0-9]+$)\", \"\").str.replace(r\"[^\\d]\", \"\", regex = True)\n",
      "<ipython-input-13-8bc6428979cb>:9: SettingWithCopyWarning: \n",
      "A value is trying to be set on a copy of a slice from a DataFrame.\n",
      "Try using .loc[row_indexer,col_indexer] = value instead\n",
      "\n",
      "See the caveats in the documentation: https://pandas.pydata.org/pandas-docs/stable/user_guide/indexing.html#returning-a-view-versus-a-copy\n",
      "  missing_lsoa_df.loc[:,'street_number2'] = missing_lsoa_df.loc[:,'street_number'].str.replace(r\"^.*(?=\\b[0-9]+$)\", \"\").str.replace(r\"[^\\d]\", \"\", regex = True)\n"
     ]
    },
    {
     "name": "stdout",
     "output_type": "stream",
     "text": [
      "i= 0  expand time,0.0 filter time0.0 make_dataframe_time 0.001\n",
      "fleetroad\n",
      "E06000054\n"
     ]
    },
    {
     "name": "stderr",
     "output_type": "stream",
     "text": [
      "/tf/empty_homes_london/helper_functions.py:272: SettingWithCopyWarning: \n",
      "A value is trying to be set on a copy of a slice from a DataFrame.\n",
      "Try using .loc[row_indexer,col_indexer] = value instead\n",
      "\n",
      "See the caveats in the documentation: https://pandas.pydata.org/pandas-docs/stable/user_guide/indexing.html#returning-a-view-versus-a-copy\n",
      "  temp_multi['number_filter'] = filter_types\n"
     ]
    },
    {
     "name": "stdout",
     "output_type": "stream",
     "text": [
      "i= 0  expand time,0.0 filter time0.0 make_dataframe_time 0.001\n",
      "freestoneway\n"
     ]
    },
    {
     "name": "stderr",
     "output_type": "stream",
     "text": [
      "<ipython-input-13-8bc6428979cb>:35: SettingWithCopyWarning: \n",
      "A value is trying to be set on a copy of a slice from a DataFrame.\n",
      "Try using .loc[row_indexer,col_indexer] = value instead\n",
      "\n",
      "See the caveats in the documentation: https://pandas.pydata.org/pandas-docs/stable/user_guide/indexing.html#returning-a-view-versus-a-copy\n",
      "  missing_lsoa_road['lsoa11cd'] = [street_number_to_lsoa(temp_road, int(missing_lsoa_road.iloc[missing_lsoa_row]['street_number2']))\n",
      "<ipython-input-13-8bc6428979cb>:9: FutureWarning: The default value of regex will change from True to False in a future version.\n",
      "  missing_lsoa_df.loc[:,'street_number2'] = missing_lsoa_df.loc[:,'street_number'].str.replace(r\"^.*(?=\\b[0-9]+$)\", \"\").str.replace(r\"[^\\d]\", \"\", regex = True)\n",
      "<ipython-input-13-8bc6428979cb>:9: SettingWithCopyWarning: \n",
      "A value is trying to be set on a copy of a slice from a DataFrame.\n",
      "Try using .loc[row_indexer,col_indexer] = value instead\n",
      "\n",
      "See the caveats in the documentation: https://pandas.pydata.org/pandas-docs/stable/user_guide/indexing.html#returning-a-view-versus-a-copy\n",
      "  missing_lsoa_df.loc[:,'street_number2'] = missing_lsoa_df.loc[:,'street_number'].str.replace(r\"^.*(?=\\b[0-9]+$)\", \"\").str.replace(r\"[^\\d]\", \"\", regex = True)\n"
     ]
    },
    {
     "name": "stdout",
     "output_type": "stream",
     "text": [
      "londonroad\n",
      "woodcockroad\n",
      "swindonroad\n",
      "highstreet\n",
      "E06000055\n"
     ]
    },
    {
     "name": "stderr",
     "output_type": "stream",
     "text": [
      "/tf/empty_homes_london/helper_functions.py:272: SettingWithCopyWarning: \n",
      "A value is trying to be set on a copy of a slice from a DataFrame.\n",
      "Try using .loc[row_indexer,col_indexer] = value instead\n",
      "\n",
      "See the caveats in the documentation: https://pandas.pydata.org/pandas-docs/stable/user_guide/indexing.html#returning-a-view-versus-a-copy\n",
      "  temp_multi['number_filter'] = filter_types\n",
      "<ipython-input-13-8bc6428979cb>:35: SettingWithCopyWarning: \n",
      "A value is trying to be set on a copy of a slice from a DataFrame.\n",
      "Try using .loc[row_indexer,col_indexer] = value instead\n",
      "\n",
      "See the caveats in the documentation: https://pandas.pydata.org/pandas-docs/stable/user_guide/indexing.html#returning-a-view-versus-a-copy\n",
      "  missing_lsoa_road['lsoa11cd'] = [street_number_to_lsoa(temp_road, int(missing_lsoa_road.iloc[missing_lsoa_row]['street_number2']))\n",
      "<ipython-input-13-8bc6428979cb>:9: FutureWarning: The default value of regex will change from True to False in a future version.\n",
      "  missing_lsoa_df.loc[:,'street_number2'] = missing_lsoa_df.loc[:,'street_number'].str.replace(r\"^.*(?=\\b[0-9]+$)\", \"\").str.replace(r\"[^\\d]\", \"\", regex = True)\n",
      "<ipython-input-13-8bc6428979cb>:9: SettingWithCopyWarning: \n",
      "A value is trying to be set on a copy of a slice from a DataFrame.\n",
      "Try using .loc[row_indexer,col_indexer] = value instead\n",
      "\n",
      "See the caveats in the documentation: https://pandas.pydata.org/pandas-docs/stable/user_guide/indexing.html#returning-a-view-versus-a-copy\n",
      "  missing_lsoa_df.loc[:,'street_number2'] = missing_lsoa_df.loc[:,'street_number'].str.replace(r\"^.*(?=\\b[0-9]+$)\", \"\").str.replace(r\"[^\\d]\", \"\", regex = True)\n"
     ]
    },
    {
     "name": "stdout",
     "output_type": "stream",
     "text": [
      "i= 0  expand time,0.0 filter time0.0 make_dataframe_time 0.001\n",
      "bromhamroad\n",
      "harpurstreet\n",
      "bedfordroad\n",
      "E07000095\n"
     ]
    },
    {
     "name": "stderr",
     "output_type": "stream",
     "text": [
      "/tf/empty_homes_london/helper_functions.py:272: SettingWithCopyWarning: \n",
      "A value is trying to be set on a copy of a slice from a DataFrame.\n",
      "Try using .loc[row_indexer,col_indexer] = value instead\n",
      "\n",
      "See the caveats in the documentation: https://pandas.pydata.org/pandas-docs/stable/user_guide/indexing.html#returning-a-view-versus-a-copy\n",
      "  temp_multi['number_filter'] = filter_types\n",
      "<ipython-input-13-8bc6428979cb>:35: SettingWithCopyWarning: \n",
      "A value is trying to be set on a copy of a slice from a DataFrame.\n",
      "Try using .loc[row_indexer,col_indexer] = value instead\n",
      "\n",
      "See the caveats in the documentation: https://pandas.pydata.org/pandas-docs/stable/user_guide/indexing.html#returning-a-view-versus-a-copy\n",
      "  missing_lsoa_road['lsoa11cd'] = [street_number_to_lsoa(temp_road, int(missing_lsoa_road.iloc[missing_lsoa_row]['street_number2']))\n",
      "<ipython-input-13-8bc6428979cb>:9: FutureWarning: The default value of regex will change from True to False in a future version.\n",
      "  missing_lsoa_df.loc[:,'street_number2'] = missing_lsoa_df.loc[:,'street_number'].str.replace(r\"^.*(?=\\b[0-9]+$)\", \"\").str.replace(r\"[^\\d]\", \"\", regex = True)\n",
      "<ipython-input-13-8bc6428979cb>:9: SettingWithCopyWarning: \n",
      "A value is trying to be set on a copy of a slice from a DataFrame.\n",
      "Try using .loc[row_indexer,col_indexer] = value instead\n",
      "\n",
      "See the caveats in the documentation: https://pandas.pydata.org/pandas-docs/stable/user_guide/indexing.html#returning-a-view-versus-a-copy\n",
      "  missing_lsoa_df.loc[:,'street_number2'] = missing_lsoa_df.loc[:,'street_number'].str.replace(r\"^.*(?=\\b[0-9]+$)\", \"\").str.replace(r\"[^\\d]\", \"\", regex = True)\n"
     ]
    },
    {
     "name": "stdout",
     "output_type": "stream",
     "text": [
      "i= 0  expand time,0.0 filter time0.0 make_dataframe_time 0.001\n",
      "highstreet\n",
      "highroad\n",
      "eleanorcroroad\n",
      "W06000012\n",
      "delffordd\n",
      "oldroad\n",
      "E07000208\n"
     ]
    },
    {
     "name": "stderr",
     "output_type": "stream",
     "text": [
      "<ipython-input-13-8bc6428979cb>:35: SettingWithCopyWarning: \n",
      "A value is trying to be set on a copy of a slice from a DataFrame.\n",
      "Try using .loc[row_indexer,col_indexer] = value instead\n",
      "\n",
      "See the caveats in the documentation: https://pandas.pydata.org/pandas-docs/stable/user_guide/indexing.html#returning-a-view-versus-a-copy\n",
      "  missing_lsoa_road['lsoa11cd'] = [street_number_to_lsoa(temp_road, int(missing_lsoa_road.iloc[missing_lsoa_row]['street_number2']))\n",
      "<ipython-input-13-8bc6428979cb>:9: FutureWarning: The default value of regex will change from True to False in a future version.\n",
      "  missing_lsoa_df.loc[:,'street_number2'] = missing_lsoa_df.loc[:,'street_number'].str.replace(r\"^.*(?=\\b[0-9]+$)\", \"\").str.replace(r\"[^\\d]\", \"\", regex = True)\n",
      "<ipython-input-13-8bc6428979cb>:9: SettingWithCopyWarning: \n",
      "A value is trying to be set on a copy of a slice from a DataFrame.\n",
      "Try using .loc[row_indexer,col_indexer] = value instead\n",
      "\n",
      "See the caveats in the documentation: https://pandas.pydata.org/pandas-docs/stable/user_guide/indexing.html#returning-a-view-versus-a-copy\n",
      "  missing_lsoa_df.loc[:,'street_number2'] = missing_lsoa_df.loc[:,'street_number'].str.replace(r\"^.*(?=\\b[0-9]+$)\", \"\").str.replace(r\"[^\\d]\", \"\", regex = True)\n",
      "/tf/empty_homes_london/helper_functions.py:272: SettingWithCopyWarning: \n",
      "A value is trying to be set on a copy of a slice from a DataFrame.\n",
      "Try using .loc[row_indexer,col_indexer] = value instead\n",
      "\n",
      "See the caveats in the documentation: https://pandas.pydata.org/pandas-docs/stable/user_guide/indexing.html#returning-a-view-versus-a-copy\n",
      "  temp_multi['number_filter'] = filter_types\n",
      "<ipython-input-13-8bc6428979cb>:35: SettingWithCopyWarning: \n",
      "A value is trying to be set on a copy of a slice from a DataFrame.\n",
      "Try using .loc[row_indexer,col_indexer] = value instead\n",
      "\n",
      "See the caveats in the documentation: https://pandas.pydata.org/pandas-docs/stable/user_guide/indexing.html#returning-a-view-versus-a-copy\n",
      "  missing_lsoa_road['lsoa11cd'] = [street_number_to_lsoa(temp_road, int(missing_lsoa_road.iloc[missing_lsoa_row]['street_number2']))\n",
      "<ipython-input-13-8bc6428979cb>:9: FutureWarning: The default value of regex will change from True to False in a future version.\n",
      "  missing_lsoa_df.loc[:,'street_number2'] = missing_lsoa_df.loc[:,'street_number'].str.replace(r\"^.*(?=\\b[0-9]+$)\", \"\").str.replace(r\"[^\\d]\", \"\", regex = True)\n",
      "<ipython-input-13-8bc6428979cb>:9: SettingWithCopyWarning: \n",
      "A value is trying to be set on a copy of a slice from a DataFrame.\n",
      "Try using .loc[row_indexer,col_indexer] = value instead\n",
      "\n",
      "See the caveats in the documentation: https://pandas.pydata.org/pandas-docs/stable/user_guide/indexing.html#returning-a-view-versus-a-copy\n",
      "  missing_lsoa_df.loc[:,'street_number2'] = missing_lsoa_df.loc[:,'street_number'].str.replace(r\"^.*(?=\\b[0-9]+$)\", \"\").str.replace(r\"[^\\d]\", \"\", regex = True)\n"
     ]
    },
    {
     "name": "stdout",
     "output_type": "stream",
     "text": [
      "i= 0  expand time,0.0 filter time0.0 make_dataframe_time 0.001\n",
      "eaststreet\n",
      "churchroad\n",
      "epsomroad\n",
      "albertroad\n",
      "bstationapproach,\n",
      "E07000213\n"
     ]
    },
    {
     "name": "stderr",
     "output_type": "stream",
     "text": [
      "/tf/empty_homes_london/helper_functions.py:272: SettingWithCopyWarning: \n",
      "A value is trying to be set on a copy of a slice from a DataFrame.\n",
      "Try using .loc[row_indexer,col_indexer] = value instead\n",
      "\n",
      "See the caveats in the documentation: https://pandas.pydata.org/pandas-docs/stable/user_guide/indexing.html#returning-a-view-versus-a-copy\n",
      "  temp_multi['number_filter'] = filter_types\n",
      "<ipython-input-13-8bc6428979cb>:9: FutureWarning: The default value of regex will change from True to False in a future version.\n",
      "  missing_lsoa_df.loc[:,'street_number2'] = missing_lsoa_df.loc[:,'street_number'].str.replace(r\"^.*(?=\\b[0-9]+$)\", \"\").str.replace(r\"[^\\d]\", \"\", regex = True)\n",
      "<ipython-input-13-8bc6428979cb>:9: SettingWithCopyWarning: \n",
      "A value is trying to be set on a copy of a slice from a DataFrame.\n",
      "Try using .loc[row_indexer,col_indexer] = value instead\n",
      "\n",
      "See the caveats in the documentation: https://pandas.pydata.org/pandas-docs/stable/user_guide/indexing.html#returning-a-view-versus-a-copy\n",
      "  missing_lsoa_df.loc[:,'street_number2'] = missing_lsoa_df.loc[:,'street_number'].str.replace(r\"^.*(?=\\b[0-9]+$)\", \"\").str.replace(r\"[^\\d]\", \"\", regex = True)\n"
     ]
    },
    {
     "name": "stdout",
     "output_type": "stream",
     "text": [
      "i= 0  expand time,0.0 filter time0.0 make_dataframe_time 0.001\n",
      "highstreet\n",
      "E06000002\n"
     ]
    },
    {
     "name": "stderr",
     "output_type": "stream",
     "text": [
      "/tf/empty_homes_london/helper_functions.py:272: SettingWithCopyWarning: \n",
      "A value is trying to be set on a copy of a slice from a DataFrame.\n",
      "Try using .loc[row_indexer,col_indexer] = value instead\n",
      "\n",
      "See the caveats in the documentation: https://pandas.pydata.org/pandas-docs/stable/user_guide/indexing.html#returning-a-view-versus-a-copy\n",
      "  temp_multi['number_filter'] = filter_types\n",
      "<ipython-input-13-8bc6428979cb>:35: SettingWithCopyWarning: \n",
      "A value is trying to be set on a copy of a slice from a DataFrame.\n",
      "Try using .loc[row_indexer,col_indexer] = value instead\n",
      "\n",
      "See the caveats in the documentation: https://pandas.pydata.org/pandas-docs/stable/user_guide/indexing.html#returning-a-view-versus-a-copy\n",
      "  missing_lsoa_road['lsoa11cd'] = [street_number_to_lsoa(temp_road, int(missing_lsoa_road.iloc[missing_lsoa_row]['street_number2']))\n",
      "<ipython-input-13-8bc6428979cb>:9: FutureWarning: The default value of regex will change from True to False in a future version.\n",
      "  missing_lsoa_df.loc[:,'street_number2'] = missing_lsoa_df.loc[:,'street_number'].str.replace(r\"^.*(?=\\b[0-9]+$)\", \"\").str.replace(r\"[^\\d]\", \"\", regex = True)\n",
      "<ipython-input-13-8bc6428979cb>:9: SettingWithCopyWarning: \n",
      "A value is trying to be set on a copy of a slice from a DataFrame.\n",
      "Try using .loc[row_indexer,col_indexer] = value instead\n",
      "\n",
      "See the caveats in the documentation: https://pandas.pydata.org/pandas-docs/stable/user_guide/indexing.html#returning-a-view-versus-a-copy\n",
      "  missing_lsoa_df.loc[:,'street_number2'] = missing_lsoa_df.loc[:,'street_number'].str.replace(r\"^.*(?=\\b[0-9]+$)\", \"\").str.replace(r\"[^\\d]\", \"\", regex = True)\n"
     ]
    },
    {
     "name": "stdout",
     "output_type": "stream",
     "text": [
      "i= 0  expand time,0.0 filter time0.0 make_dataframe_time 0.001\n",
      "nelsonstreet\n",
      "newportroad\n",
      "parkstreet\n",
      "boroughroad\n",
      "E08000023\n"
     ]
    },
    {
     "name": "stderr",
     "output_type": "stream",
     "text": [
      "/tf/empty_homes_london/helper_functions.py:272: SettingWithCopyWarning: \n",
      "A value is trying to be set on a copy of a slice from a DataFrame.\n",
      "Try using .loc[row_indexer,col_indexer] = value instead\n",
      "\n",
      "See the caveats in the documentation: https://pandas.pydata.org/pandas-docs/stable/user_guide/indexing.html#returning-a-view-versus-a-copy\n",
      "  temp_multi['number_filter'] = filter_types\n",
      "<ipython-input-13-8bc6428979cb>:9: FutureWarning: The default value of regex will change from True to False in a future version.\n",
      "  missing_lsoa_df.loc[:,'street_number2'] = missing_lsoa_df.loc[:,'street_number'].str.replace(r\"^.*(?=\\b[0-9]+$)\", \"\").str.replace(r\"[^\\d]\", \"\", regex = True)\n",
      "<ipython-input-13-8bc6428979cb>:9: SettingWithCopyWarning: \n",
      "A value is trying to be set on a copy of a slice from a DataFrame.\n",
      "Try using .loc[row_indexer,col_indexer] = value instead\n",
      "\n",
      "See the caveats in the documentation: https://pandas.pydata.org/pandas-docs/stable/user_guide/indexing.html#returning-a-view-versus-a-copy\n",
      "  missing_lsoa_df.loc[:,'street_number2'] = missing_lsoa_df.loc[:,'street_number'].str.replace(r\"^.*(?=\\b[0-9]+$)\", \"\").str.replace(r\"[^\\d]\", \"\", regex = True)\n"
     ]
    },
    {
     "name": "stdout",
     "output_type": "stream",
     "text": [
      "i= 0  expand time,0.0 filter time0.0 make_dataframe_time 0.001\n",
      "princeedwardroad\n",
      "E08000027\n"
     ]
    },
    {
     "name": "stderr",
     "output_type": "stream",
     "text": [
      "/tf/empty_homes_london/helper_functions.py:272: SettingWithCopyWarning: \n",
      "A value is trying to be set on a copy of a slice from a DataFrame.\n",
      "Try using .loc[row_indexer,col_indexer] = value instead\n",
      "\n",
      "See the caveats in the documentation: https://pandas.pydata.org/pandas-docs/stable/user_guide/indexing.html#returning-a-view-versus-a-copy\n",
      "  temp_multi['number_filter'] = filter_types\n"
     ]
    },
    {
     "name": "stdout",
     "output_type": "stream",
     "text": [
      "i= 0  expand time,0.0 filter time0.0 make_dataframe_time 0.001\n",
      "highstreet\n",
      "dudleyroad\n",
      "stourbridgeroad\n",
      "E06000035\n"
     ]
    },
    {
     "name": "stderr",
     "output_type": "stream",
     "text": [
      "<ipython-input-13-8bc6428979cb>:35: SettingWithCopyWarning: \n",
      "A value is trying to be set on a copy of a slice from a DataFrame.\n",
      "Try using .loc[row_indexer,col_indexer] = value instead\n",
      "\n",
      "See the caveats in the documentation: https://pandas.pydata.org/pandas-docs/stable/user_guide/indexing.html#returning-a-view-versus-a-copy\n",
      "  missing_lsoa_road['lsoa11cd'] = [street_number_to_lsoa(temp_road, int(missing_lsoa_road.iloc[missing_lsoa_row]['street_number2']))\n",
      "<ipython-input-13-8bc6428979cb>:9: FutureWarning: The default value of regex will change from True to False in a future version.\n",
      "  missing_lsoa_df.loc[:,'street_number2'] = missing_lsoa_df.loc[:,'street_number'].str.replace(r\"^.*(?=\\b[0-9]+$)\", \"\").str.replace(r\"[^\\d]\", \"\", regex = True)\n",
      "<ipython-input-13-8bc6428979cb>:9: SettingWithCopyWarning: \n",
      "A value is trying to be set on a copy of a slice from a DataFrame.\n",
      "Try using .loc[row_indexer,col_indexer] = value instead\n",
      "\n",
      "See the caveats in the documentation: https://pandas.pydata.org/pandas-docs/stable/user_guide/indexing.html#returning-a-view-versus-a-copy\n",
      "  missing_lsoa_df.loc[:,'street_number2'] = missing_lsoa_df.loc[:,'street_number'].str.replace(r\"^.*(?=\\b[0-9]+$)\", \"\").str.replace(r\"[^\\d]\", \"\", regex = True)\n",
      "/tf/empty_homes_london/helper_functions.py:272: SettingWithCopyWarning: \n",
      "A value is trying to be set on a copy of a slice from a DataFrame.\n",
      "Try using .loc[row_indexer,col_indexer] = value instead\n",
      "\n",
      "See the caveats in the documentation: https://pandas.pydata.org/pandas-docs/stable/user_guide/indexing.html#returning-a-view-versus-a-copy\n",
      "  temp_multi['number_filter'] = filter_types\n"
     ]
    },
    {
     "name": "stdout",
     "output_type": "stream",
     "text": [
      "i= 0  expand time,0.0 filter time0.0 make_dataframe_time 0.001\n",
      "highstreet\n",
      "E07000163\n"
     ]
    },
    {
     "name": "stderr",
     "output_type": "stream",
     "text": [
      "<ipython-input-13-8bc6428979cb>:9: FutureWarning: The default value of regex will change from True to False in a future version.\n",
      "  missing_lsoa_df.loc[:,'street_number2'] = missing_lsoa_df.loc[:,'street_number'].str.replace(r\"^.*(?=\\b[0-9]+$)\", \"\").str.replace(r\"[^\\d]\", \"\", regex = True)\n",
      "<ipython-input-13-8bc6428979cb>:9: SettingWithCopyWarning: \n",
      "A value is trying to be set on a copy of a slice from a DataFrame.\n",
      "Try using .loc[row_indexer,col_indexer] = value instead\n",
      "\n",
      "See the caveats in the documentation: https://pandas.pydata.org/pandas-docs/stable/user_guide/indexing.html#returning-a-view-versus-a-copy\n",
      "  missing_lsoa_df.loc[:,'street_number2'] = missing_lsoa_df.loc[:,'street_number'].str.replace(r\"^.*(?=\\b[0-9]+$)\", \"\").str.replace(r\"[^\\d]\", \"\", regex = True)\n",
      "/tf/empty_homes_london/helper_functions.py:272: SettingWithCopyWarning: \n",
      "A value is trying to be set on a copy of a slice from a DataFrame.\n",
      "Try using .loc[row_indexer,col_indexer] = value instead\n",
      "\n",
      "See the caveats in the documentation: https://pandas.pydata.org/pandas-docs/stable/user_guide/indexing.html#returning-a-view-versus-a-copy\n",
      "  temp_multi['number_filter'] = filter_types\n",
      "<ipython-input-13-8bc6428979cb>:35: SettingWithCopyWarning: \n",
      "A value is trying to be set on a copy of a slice from a DataFrame.\n",
      "Try using .loc[row_indexer,col_indexer] = value instead\n",
      "\n",
      "See the caveats in the documentation: https://pandas.pydata.org/pandas-docs/stable/user_guide/indexing.html#returning-a-view-versus-a-copy\n",
      "  missing_lsoa_road['lsoa11cd'] = [street_number_to_lsoa(temp_road, int(missing_lsoa_road.iloc[missing_lsoa_row]['street_number2']))\n",
      "<ipython-input-13-8bc6428979cb>:9: FutureWarning: The default value of regex will change from True to False in a future version.\n",
      "  missing_lsoa_df.loc[:,'street_number2'] = missing_lsoa_df.loc[:,'street_number'].str.replace(r\"^.*(?=\\b[0-9]+$)\", \"\").str.replace(r\"[^\\d]\", \"\", regex = True)\n",
      "<ipython-input-13-8bc6428979cb>:9: SettingWithCopyWarning: \n",
      "A value is trying to be set on a copy of a slice from a DataFrame.\n",
      "Try using .loc[row_indexer,col_indexer] = value instead\n",
      "\n",
      "See the caveats in the documentation: https://pandas.pydata.org/pandas-docs/stable/user_guide/indexing.html#returning-a-view-versus-a-copy\n",
      "  missing_lsoa_df.loc[:,'street_number2'] = missing_lsoa_df.loc[:,'street_number'].str.replace(r\"^.*(?=\\b[0-9]+$)\", \"\").str.replace(r\"[^\\d]\", \"\", regex = True)\n"
     ]
    },
    {
     "name": "stdout",
     "output_type": "stream",
     "text": [
      "i= 0  expand time,0.0 filter time0.0 make_dataframe_time 0.001\n",
      "otleyroad\n",
      "thesquare\n",
      "highstreet\n",
      "E07000202\n"
     ]
    },
    {
     "name": "stderr",
     "output_type": "stream",
     "text": [
      "/tf/empty_homes_london/helper_functions.py:272: SettingWithCopyWarning: \n",
      "A value is trying to be set on a copy of a slice from a DataFrame.\n",
      "Try using .loc[row_indexer,col_indexer] = value instead\n",
      "\n",
      "See the caveats in the documentation: https://pandas.pydata.org/pandas-docs/stable/user_guide/indexing.html#returning-a-view-versus-a-copy\n",
      "  temp_multi['number_filter'] = filter_types\n",
      "<ipython-input-13-8bc6428979cb>:9: FutureWarning: The default value of regex will change from True to False in a future version.\n",
      "  missing_lsoa_df.loc[:,'street_number2'] = missing_lsoa_df.loc[:,'street_number'].str.replace(r\"^.*(?=\\b[0-9]+$)\", \"\").str.replace(r\"[^\\d]\", \"\", regex = True)\n",
      "<ipython-input-13-8bc6428979cb>:9: SettingWithCopyWarning: \n",
      "A value is trying to be set on a copy of a slice from a DataFrame.\n",
      "Try using .loc[row_indexer,col_indexer] = value instead\n",
      "\n",
      "See the caveats in the documentation: https://pandas.pydata.org/pandas-docs/stable/user_guide/indexing.html#returning-a-view-versus-a-copy\n",
      "  missing_lsoa_df.loc[:,'street_number2'] = missing_lsoa_df.loc[:,'street_number'].str.replace(r\"^.*(?=\\b[0-9]+$)\", \"\").str.replace(r\"[^\\d]\", \"\", regex = True)\n"
     ]
    },
    {
     "name": "stdout",
     "output_type": "stream",
     "text": [
      "i= 0  expand time,0.0 filter time0.0 make_dataframe_time 0.001\n",
      "upperbrookstreet\n",
      "E07000210\n"
     ]
    },
    {
     "name": "stderr",
     "output_type": "stream",
     "text": [
      "/tf/empty_homes_london/helper_functions.py:272: SettingWithCopyWarning: \n",
      "A value is trying to be set on a copy of a slice from a DataFrame.\n",
      "Try using .loc[row_indexer,col_indexer] = value instead\n",
      "\n",
      "See the caveats in the documentation: https://pandas.pydata.org/pandas-docs/stable/user_guide/indexing.html#returning-a-view-versus-a-copy\n",
      "  temp_multi['number_filter'] = filter_types\n",
      "<ipython-input-13-8bc6428979cb>:35: SettingWithCopyWarning: \n",
      "A value is trying to be set on a copy of a slice from a DataFrame.\n",
      "Try using .loc[row_indexer,col_indexer] = value instead\n",
      "\n",
      "See the caveats in the documentation: https://pandas.pydata.org/pandas-docs/stable/user_guide/indexing.html#returning-a-view-versus-a-copy\n",
      "  missing_lsoa_road['lsoa11cd'] = [street_number_to_lsoa(temp_road, int(missing_lsoa_road.iloc[missing_lsoa_row]['street_number2']))\n"
     ]
    },
    {
     "name": "stdout",
     "output_type": "stream",
     "text": [
      "i= 0  expand time,0.0 filter time0.0 make_dataframe_time 0.001\n",
      "highstreet\n",
      "bridgestreet\n",
      "southstreet\n",
      "horshamroad\n",
      "forestgreen\n",
      "W06000022\n"
     ]
    },
    {
     "name": "stderr",
     "output_type": "stream",
     "text": [
      "<ipython-input-13-8bc6428979cb>:9: FutureWarning: The default value of regex will change from True to False in a future version.\n",
      "  missing_lsoa_df.loc[:,'street_number2'] = missing_lsoa_df.loc[:,'street_number'].str.replace(r\"^.*(?=\\b[0-9]+$)\", \"\").str.replace(r\"[^\\d]\", \"\", regex = True)\n",
      "<ipython-input-13-8bc6428979cb>:9: SettingWithCopyWarning: \n",
      "A value is trying to be set on a copy of a slice from a DataFrame.\n",
      "Try using .loc[row_indexer,col_indexer] = value instead\n",
      "\n",
      "See the caveats in the documentation: https://pandas.pydata.org/pandas-docs/stable/user_guide/indexing.html#returning-a-view-versus-a-copy\n",
      "  missing_lsoa_df.loc[:,'street_number2'] = missing_lsoa_df.loc[:,'street_number'].str.replace(r\"^.*(?=\\b[0-9]+$)\", \"\").str.replace(r\"[^\\d]\", \"\", regex = True)\n",
      "/tf/empty_homes_london/helper_functions.py:272: SettingWithCopyWarning: \n",
      "A value is trying to be set on a copy of a slice from a DataFrame.\n",
      "Try using .loc[row_indexer,col_indexer] = value instead\n",
      "\n",
      "See the caveats in the documentation: https://pandas.pydata.org/pandas-docs/stable/user_guide/indexing.html#returning-a-view-versus-a-copy\n",
      "  temp_multi['number_filter'] = filter_types\n",
      "<ipython-input-13-8bc6428979cb>:35: SettingWithCopyWarning: \n",
      "A value is trying to be set on a copy of a slice from a DataFrame.\n",
      "Try using .loc[row_indexer,col_indexer] = value instead\n",
      "\n",
      "See the caveats in the documentation: https://pandas.pydata.org/pandas-docs/stable/user_guide/indexing.html#returning-a-view-versus-a-copy\n",
      "  missing_lsoa_road['lsoa11cd'] = [street_number_to_lsoa(temp_road, int(missing_lsoa_road.iloc[missing_lsoa_row]['street_number2']))\n",
      "<ipython-input-13-8bc6428979cb>:9: FutureWarning: The default value of regex will change from True to False in a future version.\n",
      "  missing_lsoa_df.loc[:,'street_number2'] = missing_lsoa_df.loc[:,'street_number'].str.replace(r\"^.*(?=\\b[0-9]+$)\", \"\").str.replace(r\"[^\\d]\", \"\", regex = True)\n",
      "<ipython-input-13-8bc6428979cb>:9: SettingWithCopyWarning: \n",
      "A value is trying to be set on a copy of a slice from a DataFrame.\n",
      "Try using .loc[row_indexer,col_indexer] = value instead\n",
      "\n",
      "See the caveats in the documentation: https://pandas.pydata.org/pandas-docs/stable/user_guide/indexing.html#returning-a-view-versus-a-copy\n",
      "  missing_lsoa_df.loc[:,'street_number2'] = missing_lsoa_df.loc[:,'street_number'].str.replace(r\"^.*(?=\\b[0-9]+$)\", \"\").str.replace(r\"[^\\d]\", \"\", regex = True)\n"
     ]
    },
    {
     "name": "stdout",
     "output_type": "stream",
     "text": [
      "i= 0  expand time,0.0 filter time0.0 make_dataframe_time 0.001\n",
      "piltonvale\n",
      "thesquare\n",
      "caerleonroad\n",
      "clarenceplace\n",
      "E06000026\n"
     ]
    },
    {
     "name": "stderr",
     "output_type": "stream",
     "text": [
      "/tf/empty_homes_london/helper_functions.py:272: SettingWithCopyWarning: \n",
      "A value is trying to be set on a copy of a slice from a DataFrame.\n",
      "Try using .loc[row_indexer,col_indexer] = value instead\n",
      "\n",
      "See the caveats in the documentation: https://pandas.pydata.org/pandas-docs/stable/user_guide/indexing.html#returning-a-view-versus-a-copy\n",
      "  temp_multi['number_filter'] = filter_types\n",
      "<ipython-input-13-8bc6428979cb>:35: SettingWithCopyWarning: \n",
      "A value is trying to be set on a copy of a slice from a DataFrame.\n",
      "Try using .loc[row_indexer,col_indexer] = value instead\n",
      "\n",
      "See the caveats in the documentation: https://pandas.pydata.org/pandas-docs/stable/user_guide/indexing.html#returning-a-view-versus-a-copy\n",
      "  missing_lsoa_road['lsoa11cd'] = [street_number_to_lsoa(temp_road, int(missing_lsoa_road.iloc[missing_lsoa_row]['street_number2']))\n",
      "<ipython-input-13-8bc6428979cb>:9: FutureWarning: The default value of regex will change from True to False in a future version.\n",
      "  missing_lsoa_df.loc[:,'street_number2'] = missing_lsoa_df.loc[:,'street_number'].str.replace(r\"^.*(?=\\b[0-9]+$)\", \"\").str.replace(r\"[^\\d]\", \"\", regex = True)\n",
      "<ipython-input-13-8bc6428979cb>:9: SettingWithCopyWarning: \n",
      "A value is trying to be set on a copy of a slice from a DataFrame.\n",
      "Try using .loc[row_indexer,col_indexer] = value instead\n",
      "\n",
      "See the caveats in the documentation: https://pandas.pydata.org/pandas-docs/stable/user_guide/indexing.html#returning-a-view-versus-a-copy\n",
      "  missing_lsoa_df.loc[:,'street_number2'] = missing_lsoa_df.loc[:,'street_number'].str.replace(r\"^.*(?=\\b[0-9]+$)\", \"\").str.replace(r\"[^\\d]\", \"\", regex = True)\n"
     ]
    },
    {
     "name": "stdout",
     "output_type": "stream",
     "text": [
      "i= 0  expand time,0.0 filter time0.0 make_dataframe_time 0.001\n",
      "unionstreet\n",
      "granbyway\n",
      "soapstreet\n",
      "E06000008\n"
     ]
    },
    {
     "name": "stderr",
     "output_type": "stream",
     "text": [
      "/tf/empty_homes_london/helper_functions.py:272: SettingWithCopyWarning: \n",
      "A value is trying to be set on a copy of a slice from a DataFrame.\n",
      "Try using .loc[row_indexer,col_indexer] = value instead\n",
      "\n",
      "See the caveats in the documentation: https://pandas.pydata.org/pandas-docs/stable/user_guide/indexing.html#returning-a-view-versus-a-copy\n",
      "  temp_multi['number_filter'] = filter_types\n",
      "<ipython-input-13-8bc6428979cb>:35: SettingWithCopyWarning: \n",
      "A value is trying to be set on a copy of a slice from a DataFrame.\n",
      "Try using .loc[row_indexer,col_indexer] = value instead\n",
      "\n",
      "See the caveats in the documentation: https://pandas.pydata.org/pandas-docs/stable/user_guide/indexing.html#returning-a-view-versus-a-copy\n",
      "  missing_lsoa_road['lsoa11cd'] = [street_number_to_lsoa(temp_road, int(missing_lsoa_road.iloc[missing_lsoa_row]['street_number2']))\n",
      "<ipython-input-13-8bc6428979cb>:9: FutureWarning: The default value of regex will change from True to False in a future version.\n",
      "  missing_lsoa_df.loc[:,'street_number2'] = missing_lsoa_df.loc[:,'street_number'].str.replace(r\"^.*(?=\\b[0-9]+$)\", \"\").str.replace(r\"[^\\d]\", \"\", regex = True)\n",
      "<ipython-input-13-8bc6428979cb>:9: SettingWithCopyWarning: \n",
      "A value is trying to be set on a copy of a slice from a DataFrame.\n",
      "Try using .loc[row_indexer,col_indexer] = value instead\n",
      "\n",
      "See the caveats in the documentation: https://pandas.pydata.org/pandas-docs/stable/user_guide/indexing.html#returning-a-view-versus-a-copy\n",
      "  missing_lsoa_df.loc[:,'street_number2'] = missing_lsoa_df.loc[:,'street_number'].str.replace(r\"^.*(?=\\b[0-9]+$)\", \"\").str.replace(r\"[^\\d]\", \"\", regex = True)\n"
     ]
    },
    {
     "name": "stdout",
     "output_type": "stream",
     "text": [
      "i= 0  expand time,0.0 filter time0.0 make_dataframe_time 0.001\n",
      "bankstreet\n",
      "churchstreet\n",
      "duckworthstreet\n",
      "cranfieldview\n",
      "E07000091\n",
      "lyndhursthill\n",
      "E08000016\n"
     ]
    },
    {
     "name": "stderr",
     "output_type": "stream",
     "text": [
      "<ipython-input-13-8bc6428979cb>:9: FutureWarning: The default value of regex will change from True to False in a future version.\n",
      "  missing_lsoa_df.loc[:,'street_number2'] = missing_lsoa_df.loc[:,'street_number'].str.replace(r\"^.*(?=\\b[0-9]+$)\", \"\").str.replace(r\"[^\\d]\", \"\", regex = True)\n",
      "<ipython-input-13-8bc6428979cb>:9: SettingWithCopyWarning: \n",
      "A value is trying to be set on a copy of a slice from a DataFrame.\n",
      "Try using .loc[row_indexer,col_indexer] = value instead\n",
      "\n",
      "See the caveats in the documentation: https://pandas.pydata.org/pandas-docs/stable/user_guide/indexing.html#returning-a-view-versus-a-copy\n",
      "  missing_lsoa_df.loc[:,'street_number2'] = missing_lsoa_df.loc[:,'street_number'].str.replace(r\"^.*(?=\\b[0-9]+$)\", \"\").str.replace(r\"[^\\d]\", \"\", regex = True)\n",
      "/tf/empty_homes_london/helper_functions.py:272: SettingWithCopyWarning: \n",
      "A value is trying to be set on a copy of a slice from a DataFrame.\n",
      "Try using .loc[row_indexer,col_indexer] = value instead\n",
      "\n",
      "See the caveats in the documentation: https://pandas.pydata.org/pandas-docs/stable/user_guide/indexing.html#returning-a-view-versus-a-copy\n",
      "  temp_multi['number_filter'] = filter_types\n",
      "<ipython-input-13-8bc6428979cb>:35: SettingWithCopyWarning: \n",
      "A value is trying to be set on a copy of a slice from a DataFrame.\n",
      "Try using .loc[row_indexer,col_indexer] = value instead\n",
      "\n",
      "See the caveats in the documentation: https://pandas.pydata.org/pandas-docs/stable/user_guide/indexing.html#returning-a-view-versus-a-copy\n",
      "  missing_lsoa_road['lsoa11cd'] = [street_number_to_lsoa(temp_road, int(missing_lsoa_road.iloc[missing_lsoa_row]['street_number2']))\n",
      "<ipython-input-13-8bc6428979cb>:9: FutureWarning: The default value of regex will change from True to False in a future version.\n",
      "  missing_lsoa_df.loc[:,'street_number2'] = missing_lsoa_df.loc[:,'street_number'].str.replace(r\"^.*(?=\\b[0-9]+$)\", \"\").str.replace(r\"[^\\d]\", \"\", regex = True)\n",
      "<ipython-input-13-8bc6428979cb>:9: SettingWithCopyWarning: \n",
      "A value is trying to be set on a copy of a slice from a DataFrame.\n",
      "Try using .loc[row_indexer,col_indexer] = value instead\n",
      "\n",
      "See the caveats in the documentation: https://pandas.pydata.org/pandas-docs/stable/user_guide/indexing.html#returning-a-view-versus-a-copy\n",
      "  missing_lsoa_df.loc[:,'street_number2'] = missing_lsoa_df.loc[:,'street_number'].str.replace(r\"^.*(?=\\b[0-9]+$)\", \"\").str.replace(r\"[^\\d]\", \"\", regex = True)\n"
     ]
    },
    {
     "name": "stdout",
     "output_type": "stream",
     "text": [
      "i= 0  expand time,0.0 filter time0.0 make_dataframe_time 0.001\n",
      "marketstreet\n",
      "barughgreenroad\n",
      "strawhill\n",
      "E07000096\n"
     ]
    },
    {
     "name": "stderr",
     "output_type": "stream",
     "text": [
      "/tf/empty_homes_london/helper_functions.py:272: SettingWithCopyWarning: \n",
      "A value is trying to be set on a copy of a slice from a DataFrame.\n",
      "Try using .loc[row_indexer,col_indexer] = value instead\n",
      "\n",
      "See the caveats in the documentation: https://pandas.pydata.org/pandas-docs/stable/user_guide/indexing.html#returning-a-view-versus-a-copy\n",
      "  temp_multi['number_filter'] = filter_types\n",
      "<ipython-input-13-8bc6428979cb>:35: SettingWithCopyWarning: \n",
      "A value is trying to be set on a copy of a slice from a DataFrame.\n",
      "Try using .loc[row_indexer,col_indexer] = value instead\n",
      "\n",
      "See the caveats in the documentation: https://pandas.pydata.org/pandas-docs/stable/user_guide/indexing.html#returning-a-view-versus-a-copy\n",
      "  missing_lsoa_road['lsoa11cd'] = [street_number_to_lsoa(temp_road, int(missing_lsoa_road.iloc[missing_lsoa_row]['street_number2']))\n",
      "<ipython-input-13-8bc6428979cb>:9: FutureWarning: The default value of regex will change from True to False in a future version.\n",
      "  missing_lsoa_df.loc[:,'street_number2'] = missing_lsoa_df.loc[:,'street_number'].str.replace(r\"^.*(?=\\b[0-9]+$)\", \"\").str.replace(r\"[^\\d]\", \"\", regex = True)\n",
      "<ipython-input-13-8bc6428979cb>:9: SettingWithCopyWarning: \n",
      "A value is trying to be set on a copy of a slice from a DataFrame.\n",
      "Try using .loc[row_indexer,col_indexer] = value instead\n",
      "\n",
      "See the caveats in the documentation: https://pandas.pydata.org/pandas-docs/stable/user_guide/indexing.html#returning-a-view-versus-a-copy\n",
      "  missing_lsoa_df.loc[:,'street_number2'] = missing_lsoa_df.loc[:,'street_number'].str.replace(r\"^.*(?=\\b[0-9]+$)\", \"\").str.replace(r\"[^\\d]\", \"\", regex = True)\n"
     ]
    },
    {
     "name": "stdout",
     "output_type": "stream",
     "text": [
      "i= 0  expand time,0.0 filter time0.0 make_dataframe_time 0.001\n",
      "marlowes\n",
      "bridgestreet\n",
      "maxtedroad\n",
      "E07000102\n"
     ]
    },
    {
     "name": "stderr",
     "output_type": "stream",
     "text": [
      "/tf/empty_homes_london/helper_functions.py:272: SettingWithCopyWarning: \n",
      "A value is trying to be set on a copy of a slice from a DataFrame.\n",
      "Try using .loc[row_indexer,col_indexer] = value instead\n",
      "\n",
      "See the caveats in the documentation: https://pandas.pydata.org/pandas-docs/stable/user_guide/indexing.html#returning-a-view-versus-a-copy\n",
      "  temp_multi['number_filter'] = filter_types\n",
      "<ipython-input-13-8bc6428979cb>:35: SettingWithCopyWarning: \n",
      "A value is trying to be set on a copy of a slice from a DataFrame.\n",
      "Try using .loc[row_indexer,col_indexer] = value instead\n",
      "\n",
      "See the caveats in the documentation: https://pandas.pydata.org/pandas-docs/stable/user_guide/indexing.html#returning-a-view-versus-a-copy\n",
      "  missing_lsoa_road['lsoa11cd'] = [street_number_to_lsoa(temp_road, int(missing_lsoa_road.iloc[missing_lsoa_row]['street_number2']))\n",
      "<ipython-input-13-8bc6428979cb>:9: FutureWarning: The default value of regex will change from True to False in a future version.\n",
      "  missing_lsoa_df.loc[:,'street_number2'] = missing_lsoa_df.loc[:,'street_number'].str.replace(r\"^.*(?=\\b[0-9]+$)\", \"\").str.replace(r\"[^\\d]\", \"\", regex = True)\n"
     ]
    },
    {
     "name": "stdout",
     "output_type": "stream",
     "text": [
      "i= 0  expand time,0.0 filter time0.0 make_dataframe_time 0.001\n",
      "highstreet\n",
      "stationroad\n",
      "uxbridgeroad\n",
      "E07000078\n"
     ]
    },
    {
     "name": "stderr",
     "output_type": "stream",
     "text": [
      "<ipython-input-13-8bc6428979cb>:9: SettingWithCopyWarning: \n",
      "A value is trying to be set on a copy of a slice from a DataFrame.\n",
      "Try using .loc[row_indexer,col_indexer] = value instead\n",
      "\n",
      "See the caveats in the documentation: https://pandas.pydata.org/pandas-docs/stable/user_guide/indexing.html#returning-a-view-versus-a-copy\n",
      "  missing_lsoa_df.loc[:,'street_number2'] = missing_lsoa_df.loc[:,'street_number'].str.replace(r\"^.*(?=\\b[0-9]+$)\", \"\").str.replace(r\"[^\\d]\", \"\", regex = True)\n",
      "/tf/empty_homes_london/helper_functions.py:272: SettingWithCopyWarning: \n",
      "A value is trying to be set on a copy of a slice from a DataFrame.\n",
      "Try using .loc[row_indexer,col_indexer] = value instead\n",
      "\n",
      "See the caveats in the documentation: https://pandas.pydata.org/pandas-docs/stable/user_guide/indexing.html#returning-a-view-versus-a-copy\n",
      "  temp_multi['number_filter'] = filter_types\n"
     ]
    },
    {
     "name": "stdout",
     "output_type": "stream",
     "text": [
      "i= 0  expand time,0.0 filter time0.0 make_dataframe_time 0.001\n",
      "highstreet\n",
      "clarencestreet\n",
      "E07000130\n"
     ]
    },
    {
     "name": "stderr",
     "output_type": "stream",
     "text": [
      "<ipython-input-13-8bc6428979cb>:35: SettingWithCopyWarning: \n",
      "A value is trying to be set on a copy of a slice from a DataFrame.\n",
      "Try using .loc[row_indexer,col_indexer] = value instead\n",
      "\n",
      "See the caveats in the documentation: https://pandas.pydata.org/pandas-docs/stable/user_guide/indexing.html#returning-a-view-versus-a-copy\n",
      "  missing_lsoa_road['lsoa11cd'] = [street_number_to_lsoa(temp_road, int(missing_lsoa_road.iloc[missing_lsoa_row]['street_number2']))\n",
      "<ipython-input-13-8bc6428979cb>:9: FutureWarning: The default value of regex will change from True to False in a future version.\n",
      "  missing_lsoa_df.loc[:,'street_number2'] = missing_lsoa_df.loc[:,'street_number'].str.replace(r\"^.*(?=\\b[0-9]+$)\", \"\").str.replace(r\"[^\\d]\", \"\", regex = True)\n",
      "<ipython-input-13-8bc6428979cb>:9: SettingWithCopyWarning: \n",
      "A value is trying to be set on a copy of a slice from a DataFrame.\n",
      "Try using .loc[row_indexer,col_indexer] = value instead\n",
      "\n",
      "See the caveats in the documentation: https://pandas.pydata.org/pandas-docs/stable/user_guide/indexing.html#returning-a-view-versus-a-copy\n",
      "  missing_lsoa_df.loc[:,'street_number2'] = missing_lsoa_df.loc[:,'street_number'].str.replace(r\"^.*(?=\\b[0-9]+$)\", \"\").str.replace(r\"[^\\d]\", \"\", regex = True)\n",
      "/tf/empty_homes_london/helper_functions.py:272: SettingWithCopyWarning: \n",
      "A value is trying to be set on a copy of a slice from a DataFrame.\n",
      "Try using .loc[row_indexer,col_indexer] = value instead\n",
      "\n",
      "See the caveats in the documentation: https://pandas.pydata.org/pandas-docs/stable/user_guide/indexing.html#returning-a-view-versus-a-copy\n",
      "  temp_multi['number_filter'] = filter_types\n",
      "<ipython-input-13-8bc6428979cb>:9: FutureWarning: The default value of regex will change from True to False in a future version.\n",
      "  missing_lsoa_df.loc[:,'street_number2'] = missing_lsoa_df.loc[:,'street_number'].str.replace(r\"^.*(?=\\b[0-9]+$)\", \"\").str.replace(r\"[^\\d]\", \"\", regex = True)\n",
      "<ipython-input-13-8bc6428979cb>:9: SettingWithCopyWarning: \n",
      "A value is trying to be set on a copy of a slice from a DataFrame.\n",
      "Try using .loc[row_indexer,col_indexer] = value instead\n",
      "\n",
      "See the caveats in the documentation: https://pandas.pydata.org/pandas-docs/stable/user_guide/indexing.html#returning-a-view-versus-a-copy\n",
      "  missing_lsoa_df.loc[:,'street_number2'] = missing_lsoa_df.loc[:,'street_number'].str.replace(r\"^.*(?=\\b[0-9]+$)\", \"\").str.replace(r\"[^\\d]\", \"\", regex = True)\n"
     ]
    },
    {
     "name": "stdout",
     "output_type": "stream",
     "text": [
      "i= 0  expand time,0.0 filter time0.0 make_dataframe_time 0.001\n",
      "woodgate\n",
      "E09000027\n"
     ]
    },
    {
     "name": "stderr",
     "output_type": "stream",
     "text": [
      "/tf/empty_homes_london/helper_functions.py:272: SettingWithCopyWarning: \n",
      "A value is trying to be set on a copy of a slice from a DataFrame.\n",
      "Try using .loc[row_indexer,col_indexer] = value instead\n",
      "\n",
      "See the caveats in the documentation: https://pandas.pydata.org/pandas-docs/stable/user_guide/indexing.html#returning-a-view-versus-a-copy\n",
      "  temp_multi['number_filter'] = filter_types\n",
      "<ipython-input-13-8bc6428979cb>:35: SettingWithCopyWarning: \n",
      "A value is trying to be set on a copy of a slice from a DataFrame.\n",
      "Try using .loc[row_indexer,col_indexer] = value instead\n",
      "\n",
      "See the caveats in the documentation: https://pandas.pydata.org/pandas-docs/stable/user_guide/indexing.html#returning-a-view-versus-a-copy\n",
      "  missing_lsoa_road['lsoa11cd'] = [street_number_to_lsoa(temp_road, int(missing_lsoa_road.iloc[missing_lsoa_row]['street_number2']))\n"
     ]
    },
    {
     "name": "stdout",
     "output_type": "stream",
     "text": [
      "i= 0  expand time,0.0 filter time0.0 make_dataframe_time 0.001\n",
      "lowerrichmondroad\n",
      "upperrichmondroad\n",
      "stmargaretroad\n",
      "cromwellroad\n",
      "hamstreet\n",
      "sandycomberoad\n",
      "broadstreet\n",
      "E07000240\n"
     ]
    },
    {
     "name": "stderr",
     "output_type": "stream",
     "text": [
      "<ipython-input-13-8bc6428979cb>:9: FutureWarning: The default value of regex will change from True to False in a future version.\n",
      "  missing_lsoa_df.loc[:,'street_number2'] = missing_lsoa_df.loc[:,'street_number'].str.replace(r\"^.*(?=\\b[0-9]+$)\", \"\").str.replace(r\"[^\\d]\", \"\", regex = True)\n",
      "<ipython-input-13-8bc6428979cb>:9: SettingWithCopyWarning: \n",
      "A value is trying to be set on a copy of a slice from a DataFrame.\n",
      "Try using .loc[row_indexer,col_indexer] = value instead\n",
      "\n",
      "See the caveats in the documentation: https://pandas.pydata.org/pandas-docs/stable/user_guide/indexing.html#returning-a-view-versus-a-copy\n",
      "  missing_lsoa_df.loc[:,'street_number2'] = missing_lsoa_df.loc[:,'street_number'].str.replace(r\"^.*(?=\\b[0-9]+$)\", \"\").str.replace(r\"[^\\d]\", \"\", regex = True)\n"
     ]
    },
    {
     "name": "stdout",
     "output_type": "stream",
     "text": [
      "hillendlane\n",
      "mountpleasantlane\n",
      "E07000081\n"
     ]
    },
    {
     "name": "stderr",
     "output_type": "stream",
     "text": [
      "<ipython-input-13-8bc6428979cb>:35: SettingWithCopyWarning: \n",
      "A value is trying to be set on a copy of a slice from a DataFrame.\n",
      "Try using .loc[row_indexer,col_indexer] = value instead\n",
      "\n",
      "See the caveats in the documentation: https://pandas.pydata.org/pandas-docs/stable/user_guide/indexing.html#returning-a-view-versus-a-copy\n",
      "  missing_lsoa_road['lsoa11cd'] = [street_number_to_lsoa(temp_road, int(missing_lsoa_road.iloc[missing_lsoa_row]['street_number2']))\n",
      "<ipython-input-13-8bc6428979cb>:9: FutureWarning: The default value of regex will change from True to False in a future version.\n",
      "  missing_lsoa_df.loc[:,'street_number2'] = missing_lsoa_df.loc[:,'street_number'].str.replace(r\"^.*(?=\\b[0-9]+$)\", \"\").str.replace(r\"[^\\d]\", \"\", regex = True)\n",
      "<ipython-input-13-8bc6428979cb>:9: SettingWithCopyWarning: \n",
      "A value is trying to be set on a copy of a slice from a DataFrame.\n",
      "Try using .loc[row_indexer,col_indexer] = value instead\n",
      "\n",
      "See the caveats in the documentation: https://pandas.pydata.org/pandas-docs/stable/user_guide/indexing.html#returning-a-view-versus-a-copy\n",
      "  missing_lsoa_df.loc[:,'street_number2'] = missing_lsoa_df.loc[:,'street_number'].str.replace(r\"^.*(?=\\b[0-9]+$)\", \"\").str.replace(r\"[^\\d]\", \"\", regex = True)\n",
      "/tf/empty_homes_london/helper_functions.py:272: SettingWithCopyWarning: \n",
      "A value is trying to be set on a copy of a slice from a DataFrame.\n",
      "Try using .loc[row_indexer,col_indexer] = value instead\n",
      "\n",
      "See the caveats in the documentation: https://pandas.pydata.org/pandas-docs/stable/user_guide/indexing.html#returning-a-view-versus-a-copy\n",
      "  temp_multi['number_filter'] = filter_types\n",
      "<ipython-input-13-8bc6428979cb>:35: SettingWithCopyWarning: \n",
      "A value is trying to be set on a copy of a slice from a DataFrame.\n",
      "Try using .loc[row_indexer,col_indexer] = value instead\n",
      "\n",
      "See the caveats in the documentation: https://pandas.pydata.org/pandas-docs/stable/user_guide/indexing.html#returning-a-view-versus-a-copy\n",
      "  missing_lsoa_road['lsoa11cd'] = [street_number_to_lsoa(temp_road, int(missing_lsoa_road.iloc[missing_lsoa_row]['street_number2']))\n",
      "<ipython-input-13-8bc6428979cb>:9: FutureWarning: The default value of regex will change from True to False in a future version.\n",
      "  missing_lsoa_df.loc[:,'street_number2'] = missing_lsoa_df.loc[:,'street_number'].str.replace(r\"^.*(?=\\b[0-9]+$)\", \"\").str.replace(r\"[^\\d]\", \"\", regex = True)\n",
      "<ipython-input-13-8bc6428979cb>:9: SettingWithCopyWarning: \n",
      "A value is trying to be set on a copy of a slice from a DataFrame.\n",
      "Try using .loc[row_indexer,col_indexer] = value instead\n",
      "\n",
      "See the caveats in the documentation: https://pandas.pydata.org/pandas-docs/stable/user_guide/indexing.html#returning-a-view-versus-a-copy\n",
      "  missing_lsoa_df.loc[:,'street_number2'] = missing_lsoa_df.loc[:,'street_number'].str.replace(r\"^.*(?=\\b[0-9]+$)\", \"\").str.replace(r\"[^\\d]\", \"\", regex = True)\n"
     ]
    },
    {
     "name": "stdout",
     "output_type": "stream",
     "text": [
      "i= 0  expand time,0.0 filter time0.0 make_dataframe_time 0.001\n",
      "stmawganstreet\n",
      "bristolroad\n",
      "E07000180\n",
      "draytonroad\n",
      "E07000189\n"
     ]
    },
    {
     "name": "stderr",
     "output_type": "stream",
     "text": [
      "<ipython-input-13-8bc6428979cb>:9: FutureWarning: The default value of regex will change from True to False in a future version.\n",
      "  missing_lsoa_df.loc[:,'street_number2'] = missing_lsoa_df.loc[:,'street_number'].str.replace(r\"^.*(?=\\b[0-9]+$)\", \"\").str.replace(r\"[^\\d]\", \"\", regex = True)\n",
      "<ipython-input-13-8bc6428979cb>:9: SettingWithCopyWarning: \n",
      "A value is trying to be set on a copy of a slice from a DataFrame.\n",
      "Try using .loc[row_indexer,col_indexer] = value instead\n",
      "\n",
      "See the caveats in the documentation: https://pandas.pydata.org/pandas-docs/stable/user_guide/indexing.html#returning-a-view-versus-a-copy\n",
      "  missing_lsoa_df.loc[:,'street_number2'] = missing_lsoa_df.loc[:,'street_number'].str.replace(r\"^.*(?=\\b[0-9]+$)\", \"\").str.replace(r\"[^\\d]\", \"\", regex = True)\n"
     ]
    },
    {
     "name": "stdout",
     "output_type": "stream",
     "text": [
      "lysanderroad\n",
      "wyndhampark\n",
      "E07000115\n"
     ]
    },
    {
     "name": "stderr",
     "output_type": "stream",
     "text": [
      "<ipython-input-13-8bc6428979cb>:9: FutureWarning: The default value of regex will change from True to False in a future version.\n",
      "  missing_lsoa_df.loc[:,'street_number2'] = missing_lsoa_df.loc[:,'street_number'].str.replace(r\"^.*(?=\\b[0-9]+$)\", \"\").str.replace(r\"[^\\d]\", \"\", regex = True)\n",
      "<ipython-input-13-8bc6428979cb>:9: SettingWithCopyWarning: \n",
      "A value is trying to be set on a copy of a slice from a DataFrame.\n",
      "Try using .loc[row_indexer,col_indexer] = value instead\n",
      "\n",
      "See the caveats in the documentation: https://pandas.pydata.org/pandas-docs/stable/user_guide/indexing.html#returning-a-view-versus-a-copy\n",
      "  missing_lsoa_df.loc[:,'street_number2'] = missing_lsoa_df.loc[:,'street_number'].str.replace(r\"^.*(?=\\b[0-9]+$)\", \"\").str.replace(r\"[^\\d]\", \"\", regex = True)\n"
     ]
    },
    {
     "name": "stdout",
     "output_type": "stream",
     "text": [
      "sevenmilelane\n",
      "pilgrimvale\n",
      "bluebellgrove\n",
      "E07000065\n"
     ]
    },
    {
     "name": "stderr",
     "output_type": "stream",
     "text": [
      "<ipython-input-13-8bc6428979cb>:35: SettingWithCopyWarning: \n",
      "A value is trying to be set on a copy of a slice from a DataFrame.\n",
      "Try using .loc[row_indexer,col_indexer] = value instead\n",
      "\n",
      "See the caveats in the documentation: https://pandas.pydata.org/pandas-docs/stable/user_guide/indexing.html#returning-a-view-versus-a-copy\n",
      "  missing_lsoa_road['lsoa11cd'] = [street_number_to_lsoa(temp_road, int(missing_lsoa_road.iloc[missing_lsoa_row]['street_number2']))\n",
      "<ipython-input-13-8bc6428979cb>:9: FutureWarning: The default value of regex will change from True to False in a future version.\n",
      "  missing_lsoa_df.loc[:,'street_number2'] = missing_lsoa_df.loc[:,'street_number'].str.replace(r\"^.*(?=\\b[0-9]+$)\", \"\").str.replace(r\"[^\\d]\", \"\", regex = True)\n",
      "<ipython-input-13-8bc6428979cb>:9: SettingWithCopyWarning: \n",
      "A value is trying to be set on a copy of a slice from a DataFrame.\n",
      "Try using .loc[row_indexer,col_indexer] = value instead\n",
      "\n",
      "See the caveats in the documentation: https://pandas.pydata.org/pandas-docs/stable/user_guide/indexing.html#returning-a-view-versus-a-copy\n",
      "  missing_lsoa_df.loc[:,'street_number2'] = missing_lsoa_df.loc[:,'street_number'].str.replace(r\"^.*(?=\\b[0-9]+$)\", \"\").str.replace(r\"[^\\d]\", \"\", regex = True)\n"
     ]
    },
    {
     "name": "stdout",
     "output_type": "stream",
     "text": [
      "stjohnroad\n",
      "E09000024\n"
     ]
    },
    {
     "name": "stderr",
     "output_type": "stream",
     "text": [
      "<ipython-input-13-8bc6428979cb>:9: FutureWarning: The default value of regex will change from True to False in a future version.\n",
      "  missing_lsoa_df.loc[:,'street_number2'] = missing_lsoa_df.loc[:,'street_number'].str.replace(r\"^.*(?=\\b[0-9]+$)\", \"\").str.replace(r\"[^\\d]\", \"\", regex = True)\n",
      "<ipython-input-13-8bc6428979cb>:9: SettingWithCopyWarning: \n",
      "A value is trying to be set on a copy of a slice from a DataFrame.\n",
      "Try using .loc[row_indexer,col_indexer] = value instead\n",
      "\n",
      "See the caveats in the documentation: https://pandas.pydata.org/pandas-docs/stable/user_guide/indexing.html#returning-a-view-versus-a-copy\n",
      "  missing_lsoa_df.loc[:,'street_number2'] = missing_lsoa_df.loc[:,'street_number'].str.replace(r\"^.*(?=\\b[0-9]+$)\", \"\").str.replace(r\"[^\\d]\", \"\", regex = True)\n",
      "/tf/empty_homes_london/helper_functions.py:272: SettingWithCopyWarning: \n",
      "A value is trying to be set on a copy of a slice from a DataFrame.\n",
      "Try using .loc[row_indexer,col_indexer] = value instead\n",
      "\n",
      "See the caveats in the documentation: https://pandas.pydata.org/pandas-docs/stable/user_guide/indexing.html#returning-a-view-versus-a-copy\n",
      "  temp_multi['number_filter'] = filter_types\n",
      "<ipython-input-13-8bc6428979cb>:35: SettingWithCopyWarning: \n",
      "A value is trying to be set on a copy of a slice from a DataFrame.\n",
      "Try using .loc[row_indexer,col_indexer] = value instead\n",
      "\n",
      "See the caveats in the documentation: https://pandas.pydata.org/pandas-docs/stable/user_guide/indexing.html#returning-a-view-versus-a-copy\n",
      "  missing_lsoa_road['lsoa11cd'] = [street_number_to_lsoa(temp_road, int(missing_lsoa_road.iloc[missing_lsoa_row]['street_number2']))\n",
      "<ipython-input-13-8bc6428979cb>:9: FutureWarning: The default value of regex will change from True to False in a future version.\n",
      "  missing_lsoa_df.loc[:,'street_number2'] = missing_lsoa_df.loc[:,'street_number'].str.replace(r\"^.*(?=\\b[0-9]+$)\", \"\").str.replace(r\"[^\\d]\", \"\", regex = True)\n"
     ]
    },
    {
     "name": "stdout",
     "output_type": "stream",
     "text": [
      "i= 0  expand time,0.0 filter time0.0 make_dataframe_time 0.001\n",
      "streathamroad\n",
      "worpleroad\n",
      "christchurchroad\n",
      "hallplace\n",
      "kingroad\n",
      "kenleyroad\n",
      "E06000037\n"
     ]
    },
    {
     "name": "stderr",
     "output_type": "stream",
     "text": [
      "<ipython-input-13-8bc6428979cb>:9: SettingWithCopyWarning: \n",
      "A value is trying to be set on a copy of a slice from a DataFrame.\n",
      "Try using .loc[row_indexer,col_indexer] = value instead\n",
      "\n",
      "See the caveats in the documentation: https://pandas.pydata.org/pandas-docs/stable/user_guide/indexing.html#returning-a-view-versus-a-copy\n",
      "  missing_lsoa_df.loc[:,'street_number2'] = missing_lsoa_df.loc[:,'street_number'].str.replace(r\"^.*(?=\\b[0-9]+$)\", \"\").str.replace(r\"[^\\d]\", \"\", regex = True)\n",
      "/tf/empty_homes_london/helper_functions.py:272: SettingWithCopyWarning: \n",
      "A value is trying to be set on a copy of a slice from a DataFrame.\n",
      "Try using .loc[row_indexer,col_indexer] = value instead\n",
      "\n",
      "See the caveats in the documentation: https://pandas.pydata.org/pandas-docs/stable/user_guide/indexing.html#returning-a-view-versus-a-copy\n",
      "  temp_multi['number_filter'] = filter_types\n"
     ]
    },
    {
     "name": "stdout",
     "output_type": "stream",
     "text": [
      "i= 0  expand time,0.0 filter time0.0 make_dataframe_time 0.001\n",
      "londonroad\n",
      "E07000113\n"
     ]
    },
    {
     "name": "stderr",
     "output_type": "stream",
     "text": [
      "<ipython-input-13-8bc6428979cb>:9: FutureWarning: The default value of regex will change from True to False in a future version.\n",
      "  missing_lsoa_df.loc[:,'street_number2'] = missing_lsoa_df.loc[:,'street_number'].str.replace(r\"^.*(?=\\b[0-9]+$)\", \"\").str.replace(r\"[^\\d]\", \"\", regex = True)\n",
      "<ipython-input-13-8bc6428979cb>:9: SettingWithCopyWarning: \n",
      "A value is trying to be set on a copy of a slice from a DataFrame.\n",
      "Try using .loc[row_indexer,col_indexer] = value instead\n",
      "\n",
      "See the caveats in the documentation: https://pandas.pydata.org/pandas-docs/stable/user_guide/indexing.html#returning-a-view-versus-a-copy\n",
      "  missing_lsoa_df.loc[:,'street_number2'] = missing_lsoa_df.loc[:,'street_number'].str.replace(r\"^.*(?=\\b[0-9]+$)\", \"\").str.replace(r\"[^\\d]\", \"\", regex = True)\n",
      "/tf/empty_homes_london/helper_functions.py:272: SettingWithCopyWarning: \n",
      "A value is trying to be set on a copy of a slice from a DataFrame.\n",
      "Try using .loc[row_indexer,col_indexer] = value instead\n",
      "\n",
      "See the caveats in the documentation: https://pandas.pydata.org/pandas-docs/stable/user_guide/indexing.html#returning-a-view-versus-a-copy\n",
      "  temp_multi['number_filter'] = filter_types\n",
      "<ipython-input-13-8bc6428979cb>:9: FutureWarning: The default value of regex will change from True to False in a future version.\n",
      "  missing_lsoa_df.loc[:,'street_number2'] = missing_lsoa_df.loc[:,'street_number'].str.replace(r\"^.*(?=\\b[0-9]+$)\", \"\").str.replace(r\"[^\\d]\", \"\", regex = True)\n",
      "<ipython-input-13-8bc6428979cb>:9: SettingWithCopyWarning: \n",
      "A value is trying to be set on a copy of a slice from a DataFrame.\n",
      "Try using .loc[row_indexer,col_indexer] = value instead\n",
      "\n",
      "See the caveats in the documentation: https://pandas.pydata.org/pandas-docs/stable/user_guide/indexing.html#returning-a-view-versus-a-copy\n",
      "  missing_lsoa_df.loc[:,'street_number2'] = missing_lsoa_df.loc[:,'street_number'].str.replace(r\"^.*(?=\\b[0-9]+$)\", \"\").str.replace(r\"[^\\d]\", \"\", regex = True)\n"
     ]
    },
    {
     "name": "stdout",
     "output_type": "stream",
     "text": [
      "i= 0  expand time,0.0 filter time0.0 make_dataframe_time 0.001\n",
      "prestonstreet\n",
      "E07000128\n"
     ]
    },
    {
     "name": "stderr",
     "output_type": "stream",
     "text": [
      "/tf/empty_homes_london/helper_functions.py:272: SettingWithCopyWarning: \n",
      "A value is trying to be set on a copy of a slice from a DataFrame.\n",
      "Try using .loc[row_indexer,col_indexer] = value instead\n",
      "\n",
      "See the caveats in the documentation: https://pandas.pydata.org/pandas-docs/stable/user_guide/indexing.html#returning-a-view-versus-a-copy\n",
      "  temp_multi['number_filter'] = filter_types\n",
      "<ipython-input-13-8bc6428979cb>:35: SettingWithCopyWarning: \n",
      "A value is trying to be set on a copy of a slice from a DataFrame.\n",
      "Try using .loc[row_indexer,col_indexer] = value instead\n",
      "\n",
      "See the caveats in the documentation: https://pandas.pydata.org/pandas-docs/stable/user_guide/indexing.html#returning-a-view-versus-a-copy\n",
      "  missing_lsoa_road['lsoa11cd'] = [street_number_to_lsoa(temp_road, int(missing_lsoa_road.iloc[missing_lsoa_row]['street_number2']))\n",
      "<ipython-input-13-8bc6428979cb>:9: FutureWarning: The default value of regex will change from True to False in a future version.\n",
      "  missing_lsoa_df.loc[:,'street_number2'] = missing_lsoa_df.loc[:,'street_number'].str.replace(r\"^.*(?=\\b[0-9]+$)\", \"\").str.replace(r\"[^\\d]\", \"\", regex = True)\n",
      "<ipython-input-13-8bc6428979cb>:9: SettingWithCopyWarning: \n",
      "A value is trying to be set on a copy of a slice from a DataFrame.\n",
      "Try using .loc[row_indexer,col_indexer] = value instead\n",
      "\n",
      "See the caveats in the documentation: https://pandas.pydata.org/pandas-docs/stable/user_guide/indexing.html#returning-a-view-versus-a-copy\n",
      "  missing_lsoa_df.loc[:,'street_number2'] = missing_lsoa_df.loc[:,'street_number'].str.replace(r\"^.*(?=\\b[0-9]+$)\", \"\").str.replace(r\"[^\\d]\", \"\", regex = True)\n"
     ]
    },
    {
     "name": "stdout",
     "output_type": "stream",
     "text": [
      "i= 0  expand time,0.0 filter time0.0 make_dataframe_time 0.001\n",
      "lancasterroad\n",
      "albertterrace\n",
      "E06000014\n"
     ]
    },
    {
     "name": "stderr",
     "output_type": "stream",
     "text": [
      "/tf/empty_homes_london/helper_functions.py:272: SettingWithCopyWarning: \n",
      "A value is trying to be set on a copy of a slice from a DataFrame.\n",
      "Try using .loc[row_indexer,col_indexer] = value instead\n",
      "\n",
      "See the caveats in the documentation: https://pandas.pydata.org/pandas-docs/stable/user_guide/indexing.html#returning-a-view-versus-a-copy\n",
      "  temp_multi['number_filter'] = filter_types\n",
      "<ipython-input-13-8bc6428979cb>:9: FutureWarning: The default value of regex will change from True to False in a future version.\n",
      "  missing_lsoa_df.loc[:,'street_number2'] = missing_lsoa_df.loc[:,'street_number'].str.replace(r\"^.*(?=\\b[0-9]+$)\", \"\").str.replace(r\"[^\\d]\", \"\", regex = True)\n",
      "<ipython-input-13-8bc6428979cb>:9: SettingWithCopyWarning: \n",
      "A value is trying to be set on a copy of a slice from a DataFrame.\n",
      "Try using .loc[row_indexer,col_indexer] = value instead\n",
      "\n",
      "See the caveats in the documentation: https://pandas.pydata.org/pandas-docs/stable/user_guide/indexing.html#returning-a-view-versus-a-copy\n",
      "  missing_lsoa_df.loc[:,'street_number2'] = missing_lsoa_df.loc[:,'street_number'].str.replace(r\"^.*(?=\\b[0-9]+$)\", \"\").str.replace(r\"[^\\d]\", \"\", regex = True)\n"
     ]
    },
    {
     "name": "stdout",
     "output_type": "stream",
     "text": [
      "i= 0  expand time,0.0 filter time0.0 make_dataframe_time 0.001\n",
      "goodramgate\n",
      "E07000187\n"
     ]
    },
    {
     "name": "stderr",
     "output_type": "stream",
     "text": [
      "/tf/empty_homes_london/helper_functions.py:272: SettingWithCopyWarning: \n",
      "A value is trying to be set on a copy of a slice from a DataFrame.\n",
      "Try using .loc[row_indexer,col_indexer] = value instead\n",
      "\n",
      "See the caveats in the documentation: https://pandas.pydata.org/pandas-docs/stable/user_guide/indexing.html#returning-a-view-versus-a-copy\n",
      "  temp_multi['number_filter'] = filter_types\n",
      "<ipython-input-13-8bc6428979cb>:35: SettingWithCopyWarning: \n",
      "A value is trying to be set on a copy of a slice from a DataFrame.\n",
      "Try using .loc[row_indexer,col_indexer] = value instead\n",
      "\n",
      "See the caveats in the documentation: https://pandas.pydata.org/pandas-docs/stable/user_guide/indexing.html#returning-a-view-versus-a-copy\n",
      "  missing_lsoa_road['lsoa11cd'] = [street_number_to_lsoa(temp_road, int(missing_lsoa_road.iloc[missing_lsoa_row]['street_number2']))\n",
      "<ipython-input-13-8bc6428979cb>:9: FutureWarning: The default value of regex will change from True to False in a future version.\n",
      "  missing_lsoa_df.loc[:,'street_number2'] = missing_lsoa_df.loc[:,'street_number'].str.replace(r\"^.*(?=\\b[0-9]+$)\", \"\").str.replace(r\"[^\\d]\", \"\", regex = True)\n",
      "<ipython-input-13-8bc6428979cb>:9: SettingWithCopyWarning: \n",
      "A value is trying to be set on a copy of a slice from a DataFrame.\n",
      "Try using .loc[row_indexer,col_indexer] = value instead\n",
      "\n",
      "See the caveats in the documentation: https://pandas.pydata.org/pandas-docs/stable/user_guide/indexing.html#returning-a-view-versus-a-copy\n",
      "  missing_lsoa_df.loc[:,'street_number2'] = missing_lsoa_df.loc[:,'street_number'].str.replace(r\"^.*(?=\\b[0-9]+$)\", \"\").str.replace(r\"[^\\d]\", \"\", regex = True)\n"
     ]
    },
    {
     "name": "stdout",
     "output_type": "stream",
     "text": [
      "i= 0  expand time,0.0 filter time0.0 make_dataframe_time 0.001\n",
      "whileygreen\n",
      "marketplace\n",
      "highstreet\n",
      "E07000224\n"
     ]
    },
    {
     "name": "stderr",
     "output_type": "stream",
     "text": [
      "/tf/empty_homes_london/helper_functions.py:272: SettingWithCopyWarning: \n",
      "A value is trying to be set on a copy of a slice from a DataFrame.\n",
      "Try using .loc[row_indexer,col_indexer] = value instead\n",
      "\n",
      "See the caveats in the documentation: https://pandas.pydata.org/pandas-docs/stable/user_guide/indexing.html#returning-a-view-versus-a-copy\n",
      "  temp_multi['number_filter'] = filter_types\n",
      "<ipython-input-13-8bc6428979cb>:35: SettingWithCopyWarning: \n",
      "A value is trying to be set on a copy of a slice from a DataFrame.\n",
      "Try using .loc[row_indexer,col_indexer] = value instead\n",
      "\n",
      "See the caveats in the documentation: https://pandas.pydata.org/pandas-docs/stable/user_guide/indexing.html#returning-a-view-versus-a-copy\n",
      "  missing_lsoa_road['lsoa11cd'] = [street_number_to_lsoa(temp_road, int(missing_lsoa_road.iloc[missing_lsoa_row]['street_number2']))\n",
      "<ipython-input-13-8bc6428979cb>:9: FutureWarning: The default value of regex will change from True to False in a future version.\n",
      "  missing_lsoa_df.loc[:,'street_number2'] = missing_lsoa_df.loc[:,'street_number'].str.replace(r\"^.*(?=\\b[0-9]+$)\", \"\").str.replace(r\"[^\\d]\", \"\", regex = True)\n",
      "<ipython-input-13-8bc6428979cb>:9: SettingWithCopyWarning: \n",
      "A value is trying to be set on a copy of a slice from a DataFrame.\n",
      "Try using .loc[row_indexer,col_indexer] = value instead\n",
      "\n",
      "See the caveats in the documentation: https://pandas.pydata.org/pandas-docs/stable/user_guide/indexing.html#returning-a-view-versus-a-copy\n",
      "  missing_lsoa_df.loc[:,'street_number2'] = missing_lsoa_df.loc[:,'street_number'].str.replace(r\"^.*(?=\\b[0-9]+$)\", \"\").str.replace(r\"[^\\d]\", \"\", regex = True)\n"
     ]
    },
    {
     "name": "stdout",
     "output_type": "stream",
     "text": [
      "i= 0  expand time,0.0 filter time0.0 make_dataframe_time 0.001\n",
      "fitzalanroad\n",
      "eaststreet\n",
      "norfolkroad\n",
      "E07000178\n"
     ]
    },
    {
     "name": "stderr",
     "output_type": "stream",
     "text": [
      "/tf/empty_homes_london/helper_functions.py:272: SettingWithCopyWarning: \n",
      "A value is trying to be set on a copy of a slice from a DataFrame.\n",
      "Try using .loc[row_indexer,col_indexer] = value instead\n",
      "\n",
      "See the caveats in the documentation: https://pandas.pydata.org/pandas-docs/stable/user_guide/indexing.html#returning-a-view-versus-a-copy\n",
      "  temp_multi['number_filter'] = filter_types\n",
      "<ipython-input-13-8bc6428979cb>:9: FutureWarning: The default value of regex will change from True to False in a future version.\n",
      "  missing_lsoa_df.loc[:,'street_number2'] = missing_lsoa_df.loc[:,'street_number'].str.replace(r\"^.*(?=\\b[0-9]+$)\", \"\").str.replace(r\"[^\\d]\", \"\", regex = True)\n",
      "<ipython-input-13-8bc6428979cb>:9: SettingWithCopyWarning: \n",
      "A value is trying to be set on a copy of a slice from a DataFrame.\n",
      "Try using .loc[row_indexer,col_indexer] = value instead\n",
      "\n",
      "See the caveats in the documentation: https://pandas.pydata.org/pandas-docs/stable/user_guide/indexing.html#returning-a-view-versus-a-copy\n",
      "  missing_lsoa_df.loc[:,'street_number2'] = missing_lsoa_df.loc[:,'street_number'].str.replace(r\"^.*(?=\\b[0-9]+$)\", \"\").str.replace(r\"[^\\d]\", \"\", regex = True)\n"
     ]
    },
    {
     "name": "stdout",
     "output_type": "stream",
     "text": [
      "i= 0  expand time,0.0 filter time0.0 make_dataframe_time 0.001\n",
      "banburyroad\n",
      "E07000214\n"
     ]
    },
    {
     "name": "stderr",
     "output_type": "stream",
     "text": [
      "/tf/empty_homes_london/helper_functions.py:272: SettingWithCopyWarning: \n",
      "A value is trying to be set on a copy of a slice from a DataFrame.\n",
      "Try using .loc[row_indexer,col_indexer] = value instead\n",
      "\n",
      "See the caveats in the documentation: https://pandas.pydata.org/pandas-docs/stable/user_guide/indexing.html#returning-a-view-versus-a-copy\n",
      "  temp_multi['number_filter'] = filter_types\n",
      "<ipython-input-13-8bc6428979cb>:9: FutureWarning: The default value of regex will change from True to False in a future version.\n",
      "  missing_lsoa_df.loc[:,'street_number2'] = missing_lsoa_df.loc[:,'street_number'].str.replace(r\"^.*(?=\\b[0-9]+$)\", \"\").str.replace(r\"[^\\d]\", \"\", regex = True)\n",
      "<ipython-input-13-8bc6428979cb>:9: SettingWithCopyWarning: \n",
      "A value is trying to be set on a copy of a slice from a DataFrame.\n",
      "Try using .loc[row_indexer,col_indexer] = value instead\n",
      "\n",
      "See the caveats in the documentation: https://pandas.pydata.org/pandas-docs/stable/user_guide/indexing.html#returning-a-view-versus-a-copy\n",
      "  missing_lsoa_df.loc[:,'street_number2'] = missing_lsoa_df.loc[:,'street_number'].str.replace(r\"^.*(?=\\b[0-9]+$)\", \"\").str.replace(r\"[^\\d]\", \"\", regex = True)\n"
     ]
    },
    {
     "name": "stdout",
     "output_type": "stream",
     "text": [
      "i= 0  expand time,0.0 filter time0.0 make_dataframe_time 0.001\n",
      "parkstreet\n",
      "E09000008\n"
     ]
    },
    {
     "name": "stderr",
     "output_type": "stream",
     "text": [
      "/tf/empty_homes_london/helper_functions.py:272: SettingWithCopyWarning: \n",
      "A value is trying to be set on a copy of a slice from a DataFrame.\n",
      "Try using .loc[row_indexer,col_indexer] = value instead\n",
      "\n",
      "See the caveats in the documentation: https://pandas.pydata.org/pandas-docs/stable/user_guide/indexing.html#returning-a-view-versus-a-copy\n",
      "  temp_multi['number_filter'] = filter_types\n",
      "<ipython-input-13-8bc6428979cb>:35: SettingWithCopyWarning: \n",
      "A value is trying to be set on a copy of a slice from a DataFrame.\n",
      "Try using .loc[row_indexer,col_indexer] = value instead\n",
      "\n",
      "See the caveats in the documentation: https://pandas.pydata.org/pandas-docs/stable/user_guide/indexing.html#returning-a-view-versus-a-copy\n",
      "  missing_lsoa_road['lsoa11cd'] = [street_number_to_lsoa(temp_road, int(missing_lsoa_road.iloc[missing_lsoa_row]['street_number2']))\n",
      "<ipython-input-13-8bc6428979cb>:9: FutureWarning: The default value of regex will change from True to False in a future version.\n",
      "  missing_lsoa_df.loc[:,'street_number2'] = missing_lsoa_df.loc[:,'street_number'].str.replace(r\"^.*(?=\\b[0-9]+$)\", \"\").str.replace(r\"[^\\d]\", \"\", regex = True)\n",
      "<ipython-input-13-8bc6428979cb>:9: SettingWithCopyWarning: \n",
      "A value is trying to be set on a copy of a slice from a DataFrame.\n",
      "Try using .loc[row_indexer,col_indexer] = value instead\n",
      "\n",
      "See the caveats in the documentation: https://pandas.pydata.org/pandas-docs/stable/user_guide/indexing.html#returning-a-view-versus-a-copy\n",
      "  missing_lsoa_df.loc[:,'street_number2'] = missing_lsoa_df.loc[:,'street_number'].str.replace(r\"^.*(?=\\b[0-9]+$)\", \"\").str.replace(r\"[^\\d]\", \"\", regex = True)\n"
     ]
    },
    {
     "name": "stdout",
     "output_type": "stream",
     "text": [
      "i= 0  expand time,0.0 filter time0.0 make_dataframe_time 0.001\n",
      "purleyway\n",
      "staffordroad\n",
      "lodgeroad\n",
      "anthonyroad\n",
      "selhurstroad\n",
      "churchroad\n",
      "wellesleyroad\n",
      "E06000011\n"
     ]
    },
    {
     "name": "stderr",
     "output_type": "stream",
     "text": [
      "/tf/empty_homes_london/helper_functions.py:272: SettingWithCopyWarning: \n",
      "A value is trying to be set on a copy of a slice from a DataFrame.\n",
      "Try using .loc[row_indexer,col_indexer] = value instead\n",
      "\n",
      "See the caveats in the documentation: https://pandas.pydata.org/pandas-docs/stable/user_guide/indexing.html#returning-a-view-versus-a-copy\n",
      "  temp_multi['number_filter'] = filter_types\n",
      "<ipython-input-13-8bc6428979cb>:35: SettingWithCopyWarning: \n",
      "A value is trying to be set on a copy of a slice from a DataFrame.\n",
      "Try using .loc[row_indexer,col_indexer] = value instead\n",
      "\n",
      "See the caveats in the documentation: https://pandas.pydata.org/pandas-docs/stable/user_guide/indexing.html#returning-a-view-versus-a-copy\n",
      "  missing_lsoa_road['lsoa11cd'] = [street_number_to_lsoa(temp_road, int(missing_lsoa_road.iloc[missing_lsoa_row]['street_number2']))\n",
      "<ipython-input-13-8bc6428979cb>:9: FutureWarning: The default value of regex will change from True to False in a future version.\n",
      "  missing_lsoa_df.loc[:,'street_number2'] = missing_lsoa_df.loc[:,'street_number'].str.replace(r\"^.*(?=\\b[0-9]+$)\", \"\").str.replace(r\"[^\\d]\", \"\", regex = True)\n",
      "<ipython-input-13-8bc6428979cb>:9: SettingWithCopyWarning: \n",
      "A value is trying to be set on a copy of a slice from a DataFrame.\n",
      "Try using .loc[row_indexer,col_indexer] = value instead\n",
      "\n",
      "See the caveats in the documentation: https://pandas.pydata.org/pandas-docs/stable/user_guide/indexing.html#returning-a-view-versus-a-copy\n",
      "  missing_lsoa_df.loc[:,'street_number2'] = missing_lsoa_df.loc[:,'street_number'].str.replace(r\"^.*(?=\\b[0-9]+$)\", \"\").str.replace(r\"[^\\d]\", \"\", regex = True)\n"
     ]
    },
    {
     "name": "stdout",
     "output_type": "stream",
     "text": [
      "i= 0  expand time,0.0 filter time0.0 make_dataframe_time 0.001\n",
      "middlestreet\n",
      "promenade\n",
      "princestreet\n",
      "lowthorpelane\n",
      "W06000020\n",
      "georgestreet\n",
      "E07000099\n"
     ]
    },
    {
     "name": "stderr",
     "output_type": "stream",
     "text": [
      "<ipython-input-13-8bc6428979cb>:9: FutureWarning: The default value of regex will change from True to False in a future version.\n",
      "  missing_lsoa_df.loc[:,'street_number2'] = missing_lsoa_df.loc[:,'street_number'].str.replace(r\"^.*(?=\\b[0-9]+$)\", \"\").str.replace(r\"[^\\d]\", \"\", regex = True)\n",
      "<ipython-input-13-8bc6428979cb>:9: SettingWithCopyWarning: \n",
      "A value is trying to be set on a copy of a slice from a DataFrame.\n",
      "Try using .loc[row_indexer,col_indexer] = value instead\n",
      "\n",
      "See the caveats in the documentation: https://pandas.pydata.org/pandas-docs/stable/user_guide/indexing.html#returning-a-view-versus-a-copy\n",
      "  missing_lsoa_df.loc[:,'street_number2'] = missing_lsoa_df.loc[:,'street_number'].str.replace(r\"^.*(?=\\b[0-9]+$)\", \"\").str.replace(r\"[^\\d]\", \"\", regex = True)\n"
     ]
    },
    {
     "name": "stdout",
     "output_type": "stream",
     "text": [
      "tilehousestreet\n",
      "E07000221\n"
     ]
    },
    {
     "name": "stderr",
     "output_type": "stream",
     "text": [
      "<ipython-input-13-8bc6428979cb>:9: FutureWarning: The default value of regex will change from True to False in a future version.\n",
      "  missing_lsoa_df.loc[:,'street_number2'] = missing_lsoa_df.loc[:,'street_number'].str.replace(r\"^.*(?=\\b[0-9]+$)\", \"\").str.replace(r\"[^\\d]\", \"\", regex = True)\n",
      "<ipython-input-13-8bc6428979cb>:9: SettingWithCopyWarning: \n",
      "A value is trying to be set on a copy of a slice from a DataFrame.\n",
      "Try using .loc[row_indexer,col_indexer] = value instead\n",
      "\n",
      "See the caveats in the documentation: https://pandas.pydata.org/pandas-docs/stable/user_guide/indexing.html#returning-a-view-versus-a-copy\n",
      "  missing_lsoa_df.loc[:,'street_number2'] = missing_lsoa_df.loc[:,'street_number'].str.replace(r\"^.*(?=\\b[0-9]+$)\", \"\").str.replace(r\"[^\\d]\", \"\", regex = True)\n",
      "/tf/empty_homes_london/helper_functions.py:272: SettingWithCopyWarning: \n",
      "A value is trying to be set on a copy of a slice from a DataFrame.\n",
      "Try using .loc[row_indexer,col_indexer] = value instead\n",
      "\n",
      "See the caveats in the documentation: https://pandas.pydata.org/pandas-docs/stable/user_guide/indexing.html#returning-a-view-versus-a-copy\n",
      "  temp_multi['number_filter'] = filter_types\n",
      "<ipython-input-13-8bc6428979cb>:35: SettingWithCopyWarning: \n",
      "A value is trying to be set on a copy of a slice from a DataFrame.\n",
      "Try using .loc[row_indexer,col_indexer] = value instead\n",
      "\n",
      "See the caveats in the documentation: https://pandas.pydata.org/pandas-docs/stable/user_guide/indexing.html#returning-a-view-versus-a-copy\n",
      "  missing_lsoa_road['lsoa11cd'] = [street_number_to_lsoa(temp_road, int(missing_lsoa_road.iloc[missing_lsoa_row]['street_number2']))\n",
      "<ipython-input-13-8bc6428979cb>:9: FutureWarning: The default value of regex will change from True to False in a future version.\n",
      "  missing_lsoa_df.loc[:,'street_number2'] = missing_lsoa_df.loc[:,'street_number'].str.replace(r\"^.*(?=\\b[0-9]+$)\", \"\").str.replace(r\"[^\\d]\", \"\", regex = True)\n",
      "<ipython-input-13-8bc6428979cb>:9: SettingWithCopyWarning: \n",
      "A value is trying to be set on a copy of a slice from a DataFrame.\n",
      "Try using .loc[row_indexer,col_indexer] = value instead\n",
      "\n",
      "See the caveats in the documentation: https://pandas.pydata.org/pandas-docs/stable/user_guide/indexing.html#returning-a-view-versus-a-copy\n",
      "  missing_lsoa_df.loc[:,'street_number2'] = missing_lsoa_df.loc[:,'street_number'].str.replace(r\"^.*(?=\\b[0-9]+$)\", \"\").str.replace(r\"[^\\d]\", \"\", regex = True)\n"
     ]
    },
    {
     "name": "stdout",
     "output_type": "stream",
     "text": [
      "i= 0  expand time,0.0 filter time0.0 make_dataframe_time 0.001\n",
      "inclusivecloptonfields,\n",
      "cloptonfields,\n",
      "chapelstreet\n",
      "bridgestreet\n",
      "W06000013\n"
     ]
    },
    {
     "name": "stderr",
     "output_type": "stream",
     "text": [
      "/tf/empty_homes_london/helper_functions.py:272: SettingWithCopyWarning: \n",
      "A value is trying to be set on a copy of a slice from a DataFrame.\n",
      "Try using .loc[row_indexer,col_indexer] = value instead\n",
      "\n",
      "See the caveats in the documentation: https://pandas.pydata.org/pandas-docs/stable/user_guide/indexing.html#returning-a-view-versus-a-copy\n",
      "  temp_multi['number_filter'] = filter_types\n",
      "<ipython-input-13-8bc6428979cb>:35: SettingWithCopyWarning: \n",
      "A value is trying to be set on a copy of a slice from a DataFrame.\n",
      "Try using .loc[row_indexer,col_indexer] = value instead\n",
      "\n",
      "See the caveats in the documentation: https://pandas.pydata.org/pandas-docs/stable/user_guide/indexing.html#returning-a-view-versus-a-copy\n",
      "  missing_lsoa_road['lsoa11cd'] = [street_number_to_lsoa(temp_road, int(missing_lsoa_road.iloc[missing_lsoa_row]['street_number2']))\n",
      "<ipython-input-13-8bc6428979cb>:9: FutureWarning: The default value of regex will change from True to False in a future version.\n",
      "  missing_lsoa_df.loc[:,'street_number2'] = missing_lsoa_df.loc[:,'street_number'].str.replace(r\"^.*(?=\\b[0-9]+$)\", \"\").str.replace(r\"[^\\d]\", \"\", regex = True)\n",
      "<ipython-input-13-8bc6428979cb>:9: SettingWithCopyWarning: \n",
      "A value is trying to be set on a copy of a slice from a DataFrame.\n",
      "Try using .loc[row_indexer,col_indexer] = value instead\n",
      "\n",
      "See the caveats in the documentation: https://pandas.pydata.org/pandas-docs/stable/user_guide/indexing.html#returning-a-view-versus-a-copy\n",
      "  missing_lsoa_df.loc[:,'street_number2'] = missing_lsoa_df.loc[:,'street_number'].str.replace(r\"^.*(?=\\b[0-9]+$)\", \"\").str.replace(r\"[^\\d]\", \"\", regex = True)\n"
     ]
    },
    {
     "name": "stdout",
     "output_type": "stream",
     "text": [
      "i= 0  expand time,0.0 filter time0.0 make_dataframe_time 0.0\n",
      "bridgend\n",
      "tudordrive\n",
      "tyn-y-betwclose\n",
      "noltonstreet\n",
      "E07000039\n"
     ]
    },
    {
     "name": "stderr",
     "output_type": "stream",
     "text": [
      "/tf/empty_homes_london/helper_functions.py:272: SettingWithCopyWarning: \n",
      "A value is trying to be set on a copy of a slice from a DataFrame.\n",
      "Try using .loc[row_indexer,col_indexer] = value instead\n",
      "\n",
      "See the caveats in the documentation: https://pandas.pydata.org/pandas-docs/stable/user_guide/indexing.html#returning-a-view-versus-a-copy\n",
      "  temp_multi['number_filter'] = filter_types\n",
      "<ipython-input-13-8bc6428979cb>:35: SettingWithCopyWarning: \n",
      "A value is trying to be set on a copy of a slice from a DataFrame.\n",
      "Try using .loc[row_indexer,col_indexer] = value instead\n",
      "\n",
      "See the caveats in the documentation: https://pandas.pydata.org/pandas-docs/stable/user_guide/indexing.html#returning-a-view-versus-a-copy\n",
      "  missing_lsoa_road['lsoa11cd'] = [street_number_to_lsoa(temp_road, int(missing_lsoa_road.iloc[missing_lsoa_row]['street_number2']))\n",
      "<ipython-input-13-8bc6428979cb>:9: FutureWarning: The default value of regex will change from True to False in a future version.\n",
      "  missing_lsoa_df.loc[:,'street_number2'] = missing_lsoa_df.loc[:,'street_number'].str.replace(r\"^.*(?=\\b[0-9]+$)\", \"\").str.replace(r\"[^\\d]\", \"\", regex = True)\n",
      "<ipython-input-13-8bc6428979cb>:9: SettingWithCopyWarning: \n",
      "A value is trying to be set on a copy of a slice from a DataFrame.\n",
      "Try using .loc[row_indexer,col_indexer] = value instead\n",
      "\n",
      "See the caveats in the documentation: https://pandas.pydata.org/pandas-docs/stable/user_guide/indexing.html#returning-a-view-versus-a-copy\n",
      "  missing_lsoa_df.loc[:,'street_number2'] = missing_lsoa_df.loc[:,'street_number'].str.replace(r\"^.*(?=\\b[0-9]+$)\", \"\").str.replace(r\"[^\\d]\", \"\", regex = True)\n"
     ]
    },
    {
     "name": "stdout",
     "output_type": "stream",
     "text": [
      "i= 0  expand time,0.0 filter time0.0 make_dataframe_time 0.001\n",
      "ashbyroad\n",
      "thegreen\n",
      "chapelstreet\n",
      "mainstreet\n",
      "melbournelane\n",
      "burtonroad\n",
      "highstreet\n",
      "churchlane\n",
      "E07000227\n"
     ]
    },
    {
     "name": "stderr",
     "output_type": "stream",
     "text": [
      "/tf/empty_homes_london/helper_functions.py:272: SettingWithCopyWarning: \n",
      "A value is trying to be set on a copy of a slice from a DataFrame.\n",
      "Try using .loc[row_indexer,col_indexer] = value instead\n",
      "\n",
      "See the caveats in the documentation: https://pandas.pydata.org/pandas-docs/stable/user_guide/indexing.html#returning-a-view-versus-a-copy\n",
      "  temp_multi['number_filter'] = filter_types\n",
      "<ipython-input-13-8bc6428979cb>:9: FutureWarning: The default value of regex will change from True to False in a future version.\n",
      "  missing_lsoa_df.loc[:,'street_number2'] = missing_lsoa_df.loc[:,'street_number'].str.replace(r\"^.*(?=\\b[0-9]+$)\", \"\").str.replace(r\"[^\\d]\", \"\", regex = True)\n",
      "<ipython-input-13-8bc6428979cb>:9: SettingWithCopyWarning: \n",
      "A value is trying to be set on a copy of a slice from a DataFrame.\n",
      "Try using .loc[row_indexer,col_indexer] = value instead\n",
      "\n",
      "See the caveats in the documentation: https://pandas.pydata.org/pandas-docs/stable/user_guide/indexing.html#returning-a-view-versus-a-copy\n",
      "  missing_lsoa_df.loc[:,'street_number2'] = missing_lsoa_df.loc[:,'street_number'].str.replace(r\"^.*(?=\\b[0-9]+$)\", \"\").str.replace(r\"[^\\d]\", \"\", regex = True)\n"
     ]
    },
    {
     "name": "stdout",
     "output_type": "stream",
     "text": [
      "i= 0  expand time,0.0 filter time0.0 make_dataframe_time 0.001\n",
      "weststreet\n",
      "E07000148\n"
     ]
    },
    {
     "name": "stderr",
     "output_type": "stream",
     "text": [
      "/tf/empty_homes_london/helper_functions.py:272: SettingWithCopyWarning: \n",
      "A value is trying to be set on a copy of a slice from a DataFrame.\n",
      "Try using .loc[row_indexer,col_indexer] = value instead\n",
      "\n",
      "See the caveats in the documentation: https://pandas.pydata.org/pandas-docs/stable/user_guide/indexing.html#returning-a-view-versus-a-copy\n",
      "  temp_multi['number_filter'] = filter_types\n",
      "<ipython-input-13-8bc6428979cb>:35: SettingWithCopyWarning: \n",
      "A value is trying to be set on a copy of a slice from a DataFrame.\n",
      "Try using .loc[row_indexer,col_indexer] = value instead\n",
      "\n",
      "See the caveats in the documentation: https://pandas.pydata.org/pandas-docs/stable/user_guide/indexing.html#returning-a-view-versus-a-copy\n",
      "  missing_lsoa_road['lsoa11cd'] = [street_number_to_lsoa(temp_road, int(missing_lsoa_road.iloc[missing_lsoa_row]['street_number2']))\n",
      "<ipython-input-13-8bc6428979cb>:9: FutureWarning: The default value of regex will change from True to False in a future version.\n",
      "  missing_lsoa_df.loc[:,'street_number2'] = missing_lsoa_df.loc[:,'street_number'].str.replace(r\"^.*(?=\\b[0-9]+$)\", \"\").str.replace(r\"[^\\d]\", \"\", regex = True)\n",
      "<ipython-input-13-8bc6428979cb>:9: SettingWithCopyWarning: \n",
      "A value is trying to be set on a copy of a slice from a DataFrame.\n",
      "Try using .loc[row_indexer,col_indexer] = value instead\n",
      "\n",
      "See the caveats in the documentation: https://pandas.pydata.org/pandas-docs/stable/user_guide/indexing.html#returning-a-view-versus-a-copy\n",
      "  missing_lsoa_df.loc[:,'street_number2'] = missing_lsoa_df.loc[:,'street_number'].str.replace(r\"^.*(?=\\b[0-9]+$)\", \"\").str.replace(r\"[^\\d]\", \"\", regex = True)\n"
     ]
    },
    {
     "name": "stdout",
     "output_type": "stream",
     "text": [
      "i= 0  expand time,0.0 filter time0.0 make_dataframe_time 0.001\n",
      "chapelfieldroad\n",
      "onleystreet\n",
      "unthankroad\n",
      "magdalenstreet\n",
      "londonstreet\n",
      "swanlane\n",
      "gentlemanwalk\n",
      "E07000237\n"
     ]
    },
    {
     "name": "stderr",
     "output_type": "stream",
     "text": [
      "/tf/empty_homes_london/helper_functions.py:272: SettingWithCopyWarning: \n",
      "A value is trying to be set on a copy of a slice from a DataFrame.\n",
      "Try using .loc[row_indexer,col_indexer] = value instead\n",
      "\n",
      "See the caveats in the documentation: https://pandas.pydata.org/pandas-docs/stable/user_guide/indexing.html#returning-a-view-versus-a-copy\n",
      "  temp_multi['number_filter'] = filter_types\n",
      "<ipython-input-13-8bc6428979cb>:9: FutureWarning: The default value of regex will change from True to False in a future version.\n",
      "  missing_lsoa_df.loc[:,'street_number2'] = missing_lsoa_df.loc[:,'street_number'].str.replace(r\"^.*(?=\\b[0-9]+$)\", \"\").str.replace(r\"[^\\d]\", \"\", regex = True)\n",
      "<ipython-input-13-8bc6428979cb>:9: SettingWithCopyWarning: \n",
      "A value is trying to be set on a copy of a slice from a DataFrame.\n",
      "Try using .loc[row_indexer,col_indexer] = value instead\n",
      "\n",
      "See the caveats in the documentation: https://pandas.pydata.org/pandas-docs/stable/user_guide/indexing.html#returning-a-view-versus-a-copy\n",
      "  missing_lsoa_df.loc[:,'street_number2'] = missing_lsoa_df.loc[:,'street_number'].str.replace(r\"^.*(?=\\b[0-9]+$)\", \"\").str.replace(r\"[^\\d]\", \"\", regex = True)\n"
     ]
    },
    {
     "name": "stdout",
     "output_type": "stream",
     "text": [
      "i= 0  expand time,0.0 filter time0.0 make_dataframe_time 0.001\n",
      "highstreet\n",
      "E07000114\n"
     ]
    },
    {
     "name": "stderr",
     "output_type": "stream",
     "text": [
      "/tf/empty_homes_london/helper_functions.py:272: SettingWithCopyWarning: \n",
      "A value is trying to be set on a copy of a slice from a DataFrame.\n",
      "Try using .loc[row_indexer,col_indexer] = value instead\n",
      "\n",
      "See the caveats in the documentation: https://pandas.pydata.org/pandas-docs/stable/user_guide/indexing.html#returning-a-view-versus-a-copy\n",
      "  temp_multi['number_filter'] = filter_types\n",
      "<ipython-input-13-8bc6428979cb>:35: SettingWithCopyWarning: \n",
      "A value is trying to be set on a copy of a slice from a DataFrame.\n",
      "Try using .loc[row_indexer,col_indexer] = value instead\n",
      "\n",
      "See the caveats in the documentation: https://pandas.pydata.org/pandas-docs/stable/user_guide/indexing.html#returning-a-view-versus-a-copy\n",
      "  missing_lsoa_road['lsoa11cd'] = [street_number_to_lsoa(temp_road, int(missing_lsoa_road.iloc[missing_lsoa_row]['street_number2']))\n",
      "<ipython-input-13-8bc6428979cb>:9: FutureWarning: The default value of regex will change from True to False in a future version.\n",
      "  missing_lsoa_df.loc[:,'street_number2'] = missing_lsoa_df.loc[:,'street_number'].str.replace(r\"^.*(?=\\b[0-9]+$)\", \"\").str.replace(r\"[^\\d]\", \"\", regex = True)\n",
      "<ipython-input-13-8bc6428979cb>:9: SettingWithCopyWarning: \n",
      "A value is trying to be set on a copy of a slice from a DataFrame.\n",
      "Try using .loc[row_indexer,col_indexer] = value instead\n",
      "\n",
      "See the caveats in the documentation: https://pandas.pydata.org/pandas-docs/stable/user_guide/indexing.html#returning-a-view-versus-a-copy\n",
      "  missing_lsoa_df.loc[:,'street_number2'] = missing_lsoa_df.loc[:,'street_number'].str.replace(r\"^.*(?=\\b[0-9]+$)\", \"\").str.replace(r\"[^\\d]\", \"\", regex = True)\n"
     ]
    },
    {
     "name": "stdout",
     "output_type": "stream",
     "text": [
      "i= 0  expand time,0.0 filter time0.0 make_dataframe_time 0.001\n",
      "ramsgate\n",
      "addingtonstreet\n",
      "E07000171\n"
     ]
    },
    {
     "name": "stderr",
     "output_type": "stream",
     "text": [
      "/tf/empty_homes_london/helper_functions.py:272: SettingWithCopyWarning: \n",
      "A value is trying to be set on a copy of a slice from a DataFrame.\n",
      "Try using .loc[row_indexer,col_indexer] = value instead\n",
      "\n",
      "See the caveats in the documentation: https://pandas.pydata.org/pandas-docs/stable/user_guide/indexing.html#returning-a-view-versus-a-copy\n",
      "  temp_multi['number_filter'] = filter_types\n",
      "<ipython-input-13-8bc6428979cb>:35: SettingWithCopyWarning: \n",
      "A value is trying to be set on a copy of a slice from a DataFrame.\n",
      "Try using .loc[row_indexer,col_indexer] = value instead\n",
      "\n",
      "See the caveats in the documentation: https://pandas.pydata.org/pandas-docs/stable/user_guide/indexing.html#returning-a-view-versus-a-copy\n",
      "  missing_lsoa_road['lsoa11cd'] = [street_number_to_lsoa(temp_road, int(missing_lsoa_road.iloc[missing_lsoa_row]['street_number2']))\n",
      "<ipython-input-13-8bc6428979cb>:9: FutureWarning: The default value of regex will change from True to False in a future version.\n",
      "  missing_lsoa_df.loc[:,'street_number2'] = missing_lsoa_df.loc[:,'street_number'].str.replace(r\"^.*(?=\\b[0-9]+$)\", \"\").str.replace(r\"[^\\d]\", \"\", regex = True)\n",
      "<ipython-input-13-8bc6428979cb>:9: SettingWithCopyWarning: \n",
      "A value is trying to be set on a copy of a slice from a DataFrame.\n",
      "Try using .loc[row_indexer,col_indexer] = value instead\n",
      "\n",
      "See the caveats in the documentation: https://pandas.pydata.org/pandas-docs/stable/user_guide/indexing.html#returning-a-view-versus-a-copy\n",
      "  missing_lsoa_df.loc[:,'street_number2'] = missing_lsoa_df.loc[:,'street_number'].str.replace(r\"^.*(?=\\b[0-9]+$)\", \"\").str.replace(r\"[^\\d]\", \"\", regex = True)\n"
     ]
    },
    {
     "name": "stdout",
     "output_type": "stream",
     "text": [
      "i= 0  expand time,0.0 filter time0.0 make_dataframe_time 0.001\n",
      "carolgate\n",
      "gatefordroad\n",
      "E07000109\n"
     ]
    },
    {
     "name": "stderr",
     "output_type": "stream",
     "text": [
      "/tf/empty_homes_london/helper_functions.py:272: SettingWithCopyWarning: \n",
      "A value is trying to be set on a copy of a slice from a DataFrame.\n",
      "Try using .loc[row_indexer,col_indexer] = value instead\n",
      "\n",
      "See the caveats in the documentation: https://pandas.pydata.org/pandas-docs/stable/user_guide/indexing.html#returning-a-view-versus-a-copy\n",
      "  temp_multi['number_filter'] = filter_types\n",
      "<ipython-input-13-8bc6428979cb>:35: SettingWithCopyWarning: \n",
      "A value is trying to be set on a copy of a slice from a DataFrame.\n",
      "Try using .loc[row_indexer,col_indexer] = value instead\n",
      "\n",
      "See the caveats in the documentation: https://pandas.pydata.org/pandas-docs/stable/user_guide/indexing.html#returning-a-view-versus-a-copy\n",
      "  missing_lsoa_road['lsoa11cd'] = [street_number_to_lsoa(temp_road, int(missing_lsoa_road.iloc[missing_lsoa_row]['street_number2']))\n",
      "<ipython-input-13-8bc6428979cb>:9: FutureWarning: The default value of regex will change from True to False in a future version.\n",
      "  missing_lsoa_df.loc[:,'street_number2'] = missing_lsoa_df.loc[:,'street_number'].str.replace(r\"^.*(?=\\b[0-9]+$)\", \"\").str.replace(r\"[^\\d]\", \"\", regex = True)\n",
      "<ipython-input-13-8bc6428979cb>:9: SettingWithCopyWarning: \n",
      "A value is trying to be set on a copy of a slice from a DataFrame.\n",
      "Try using .loc[row_indexer,col_indexer] = value instead\n",
      "\n",
      "See the caveats in the documentation: https://pandas.pydata.org/pandas-docs/stable/user_guide/indexing.html#returning-a-view-versus-a-copy\n",
      "  missing_lsoa_df.loc[:,'street_number2'] = missing_lsoa_df.loc[:,'street_number'].str.replace(r\"^.*(?=\\b[0-9]+$)\", \"\").str.replace(r\"[^\\d]\", \"\", regex = True)\n"
     ]
    },
    {
     "name": "stdout",
     "output_type": "stream",
     "text": [
      "i= 0  expand time,0.0 filter time0.0 make_dataframe_time 0.001\n",
      "thegrove\n",
      "edwinstreet\n",
      "newroad\n",
      "E07000076\n"
     ]
    },
    {
     "name": "stderr",
     "output_type": "stream",
     "text": [
      "/tf/empty_homes_london/helper_functions.py:272: SettingWithCopyWarning: \n",
      "A value is trying to be set on a copy of a slice from a DataFrame.\n",
      "Try using .loc[row_indexer,col_indexer] = value instead\n",
      "\n",
      "See the caveats in the documentation: https://pandas.pydata.org/pandas-docs/stable/user_guide/indexing.html#returning-a-view-versus-a-copy\n",
      "  temp_multi['number_filter'] = filter_types\n",
      "<ipython-input-13-8bc6428979cb>:35: SettingWithCopyWarning: \n",
      "A value is trying to be set on a copy of a slice from a DataFrame.\n",
      "Try using .loc[row_indexer,col_indexer] = value instead\n",
      "\n",
      "See the caveats in the documentation: https://pandas.pydata.org/pandas-docs/stable/user_guide/indexing.html#returning-a-view-versus-a-copy\n",
      "  missing_lsoa_road['lsoa11cd'] = [street_number_to_lsoa(temp_road, int(missing_lsoa_road.iloc[missing_lsoa_row]['street_number2']))\n",
      "<ipython-input-13-8bc6428979cb>:9: FutureWarning: The default value of regex will change from True to False in a future version.\n",
      "  missing_lsoa_df.loc[:,'street_number2'] = missing_lsoa_df.loc[:,'street_number'].str.replace(r\"^.*(?=\\b[0-9]+$)\", \"\").str.replace(r\"[^\\d]\", \"\", regex = True)\n",
      "<ipython-input-13-8bc6428979cb>:9: SettingWithCopyWarning: \n",
      "A value is trying to be set on a copy of a slice from a DataFrame.\n",
      "Try using .loc[row_indexer,col_indexer] = value instead\n",
      "\n",
      "See the caveats in the documentation: https://pandas.pydata.org/pandas-docs/stable/user_guide/indexing.html#returning-a-view-versus-a-copy\n",
      "  missing_lsoa_df.loc[:,'street_number2'] = missing_lsoa_df.loc[:,'street_number'].str.replace(r\"^.*(?=\\b[0-9]+$)\", \"\").str.replace(r\"[^\\d]\", \"\", regex = True)\n"
     ]
    },
    {
     "name": "stdout",
     "output_type": "stream",
     "text": [
      "i= 0  expand time,0.0 filter time0.0 make_dataframe_time 0.001\n",
      "pieravenue\n",
      "havenvale\n",
      "manorroad\n",
      "E07000234\n"
     ]
    },
    {
     "name": "stderr",
     "output_type": "stream",
     "text": [
      "/tf/empty_homes_london/helper_functions.py:272: SettingWithCopyWarning: \n",
      "A value is trying to be set on a copy of a slice from a DataFrame.\n",
      "Try using .loc[row_indexer,col_indexer] = value instead\n",
      "\n",
      "See the caveats in the documentation: https://pandas.pydata.org/pandas-docs/stable/user_guide/indexing.html#returning-a-view-versus-a-copy\n",
      "  temp_multi['number_filter'] = filter_types\n",
      "<ipython-input-13-8bc6428979cb>:9: FutureWarning: The default value of regex will change from True to False in a future version.\n",
      "  missing_lsoa_df.loc[:,'street_number2'] = missing_lsoa_df.loc[:,'street_number'].str.replace(r\"^.*(?=\\b[0-9]+$)\", \"\").str.replace(r\"[^\\d]\", \"\", regex = True)\n",
      "<ipython-input-13-8bc6428979cb>:9: SettingWithCopyWarning: \n",
      "A value is trying to be set on a copy of a slice from a DataFrame.\n",
      "Try using .loc[row_indexer,col_indexer] = value instead\n",
      "\n",
      "See the caveats in the documentation: https://pandas.pydata.org/pandas-docs/stable/user_guide/indexing.html#returning-a-view-versus-a-copy\n",
      "  missing_lsoa_df.loc[:,'street_number2'] = missing_lsoa_df.loc[:,'street_number'].str.replace(r\"^.*(?=\\b[0-9]+$)\", \"\").str.replace(r\"[^\\d]\", \"\", regex = True)\n"
     ]
    },
    {
     "name": "stdout",
     "output_type": "stream",
     "text": [
      "i= 0  expand time,0.0 filter time0.0 make_dataframe_time 0.001\n",
      "highstreet\n",
      "W06000010\n"
     ]
    },
    {
     "name": "stderr",
     "output_type": "stream",
     "text": [
      "/tf/empty_homes_london/helper_functions.py:272: SettingWithCopyWarning: \n",
      "A value is trying to be set on a copy of a slice from a DataFrame.\n",
      "Try using .loc[row_indexer,col_indexer] = value instead\n",
      "\n",
      "See the caveats in the documentation: https://pandas.pydata.org/pandas-docs/stable/user_guide/indexing.html#returning-a-view-versus-a-copy\n",
      "  temp_multi['number_filter'] = filter_types\n",
      "<ipython-input-13-8bc6428979cb>:35: SettingWithCopyWarning: \n",
      "A value is trying to be set on a copy of a slice from a DataFrame.\n",
      "Try using .loc[row_indexer,col_indexer] = value instead\n",
      "\n",
      "See the caveats in the documentation: https://pandas.pydata.org/pandas-docs/stable/user_guide/indexing.html#returning-a-view-versus-a-copy\n",
      "  missing_lsoa_road['lsoa11cd'] = [street_number_to_lsoa(temp_road, int(missing_lsoa_road.iloc[missing_lsoa_row]['street_number2']))\n",
      "<ipython-input-13-8bc6428979cb>:9: FutureWarning: The default value of regex will change from True to False in a future version.\n",
      "  missing_lsoa_df.loc[:,'street_number2'] = missing_lsoa_df.loc[:,'street_number'].str.replace(r\"^.*(?=\\b[0-9]+$)\", \"\").str.replace(r\"[^\\d]\", \"\", regex = True)\n",
      "<ipython-input-13-8bc6428979cb>:9: SettingWithCopyWarning: \n",
      "A value is trying to be set on a copy of a slice from a DataFrame.\n",
      "Try using .loc[row_indexer,col_indexer] = value instead\n",
      "\n",
      "See the caveats in the documentation: https://pandas.pydata.org/pandas-docs/stable/user_guide/indexing.html#returning-a-view-versus-a-copy\n",
      "  missing_lsoa_df.loc[:,'street_number2'] = missing_lsoa_df.loc[:,'street_number'].str.replace(r\"^.*(?=\\b[0-9]+$)\", \"\").str.replace(r\"[^\\d]\", \"\", regex = True)\n"
     ]
    },
    {
     "name": "stdout",
     "output_type": "stream",
     "text": [
      "i= 0  expand time,0.0 filter time0.0 make_dataframe_time 0.001\n",
      "johnstreet\n",
      "maeyrhaf\n",
      "E07000223\n"
     ]
    },
    {
     "name": "stderr",
     "output_type": "stream",
     "text": [
      "/tf/empty_homes_london/helper_functions.py:272: SettingWithCopyWarning: \n",
      "A value is trying to be set on a copy of a slice from a DataFrame.\n",
      "Try using .loc[row_indexer,col_indexer] = value instead\n",
      "\n",
      "See the caveats in the documentation: https://pandas.pydata.org/pandas-docs/stable/user_guide/indexing.html#returning-a-view-versus-a-copy\n",
      "  temp_multi['number_filter'] = filter_types\n",
      "<ipython-input-13-8bc6428979cb>:35: SettingWithCopyWarning: \n",
      "A value is trying to be set on a copy of a slice from a DataFrame.\n",
      "Try using .loc[row_indexer,col_indexer] = value instead\n",
      "\n",
      "See the caveats in the documentation: https://pandas.pydata.org/pandas-docs/stable/user_guide/indexing.html#returning-a-view-versus-a-copy\n",
      "  missing_lsoa_road['lsoa11cd'] = [street_number_to_lsoa(temp_road, int(missing_lsoa_road.iloc[missing_lsoa_row]['street_number2']))\n",
      "<ipython-input-13-8bc6428979cb>:9: FutureWarning: The default value of regex will change from True to False in a future version.\n",
      "  missing_lsoa_df.loc[:,'street_number2'] = missing_lsoa_df.loc[:,'street_number'].str.replace(r\"^.*(?=\\b[0-9]+$)\", \"\").str.replace(r\"[^\\d]\", \"\", regex = True)\n",
      "<ipython-input-13-8bc6428979cb>:9: SettingWithCopyWarning: \n",
      "A value is trying to be set on a copy of a slice from a DataFrame.\n",
      "Try using .loc[row_indexer,col_indexer] = value instead\n",
      "\n",
      "See the caveats in the documentation: https://pandas.pydata.org/pandas-docs/stable/user_guide/indexing.html#returning-a-view-versus-a-copy\n",
      "  missing_lsoa_df.loc[:,'street_number2'] = missing_lsoa_df.loc[:,'street_number'].str.replace(r\"^.*(?=\\b[0-9]+$)\", \"\").str.replace(r\"[^\\d]\", \"\", regex = True)\n"
     ]
    },
    {
     "name": "stdout",
     "output_type": "stream",
     "text": [
      "i= 0  expand time,0.0 filter time0.0 make_dataframe_time 0.001\n",
      "penhillroad\n",
      "southstreet\n",
      "uppershorehamroad\n",
      "E07000107\n",
      "victoriapark\n",
      "littlebrookmanorway\n",
      "E07000188\n"
     ]
    },
    {
     "name": "stderr",
     "output_type": "stream",
     "text": [
      "<ipython-input-13-8bc6428979cb>:35: SettingWithCopyWarning: \n",
      "A value is trying to be set on a copy of a slice from a DataFrame.\n",
      "Try using .loc[row_indexer,col_indexer] = value instead\n",
      "\n",
      "See the caveats in the documentation: https://pandas.pydata.org/pandas-docs/stable/user_guide/indexing.html#returning-a-view-versus-a-copy\n",
      "  missing_lsoa_road['lsoa11cd'] = [street_number_to_lsoa(temp_road, int(missing_lsoa_road.iloc[missing_lsoa_row]['street_number2']))\n",
      "<ipython-input-13-8bc6428979cb>:9: FutureWarning: The default value of regex will change from True to False in a future version.\n",
      "  missing_lsoa_df.loc[:,'street_number2'] = missing_lsoa_df.loc[:,'street_number'].str.replace(r\"^.*(?=\\b[0-9]+$)\", \"\").str.replace(r\"[^\\d]\", \"\", regex = True)\n",
      "<ipython-input-13-8bc6428979cb>:9: SettingWithCopyWarning: \n",
      "A value is trying to be set on a copy of a slice from a DataFrame.\n",
      "Try using .loc[row_indexer,col_indexer] = value instead\n",
      "\n",
      "See the caveats in the documentation: https://pandas.pydata.org/pandas-docs/stable/user_guide/indexing.html#returning-a-view-versus-a-copy\n",
      "  missing_lsoa_df.loc[:,'street_number2'] = missing_lsoa_df.loc[:,'street_number'].str.replace(r\"^.*(?=\\b[0-9]+$)\", \"\").str.replace(r\"[^\\d]\", \"\", regex = True)\n",
      "/tf/empty_homes_london/helper_functions.py:272: SettingWithCopyWarning: \n",
      "A value is trying to be set on a copy of a slice from a DataFrame.\n",
      "Try using .loc[row_indexer,col_indexer] = value instead\n",
      "\n",
      "See the caveats in the documentation: https://pandas.pydata.org/pandas-docs/stable/user_guide/indexing.html#returning-a-view-versus-a-copy\n",
      "  temp_multi['number_filter'] = filter_types\n",
      "<ipython-input-13-8bc6428979cb>:9: FutureWarning: The default value of regex will change from True to False in a future version.\n",
      "  missing_lsoa_df.loc[:,'street_number2'] = missing_lsoa_df.loc[:,'street_number'].str.replace(r\"^.*(?=\\b[0-9]+$)\", \"\").str.replace(r\"[^\\d]\", \"\", regex = True)\n",
      "<ipython-input-13-8bc6428979cb>:9: SettingWithCopyWarning: \n",
      "A value is trying to be set on a copy of a slice from a DataFrame.\n",
      "Try using .loc[row_indexer,col_indexer] = value instead\n",
      "\n",
      "See the caveats in the documentation: https://pandas.pydata.org/pandas-docs/stable/user_guide/indexing.html#returning-a-view-versus-a-copy\n",
      "  missing_lsoa_df.loc[:,'street_number2'] = missing_lsoa_df.loc[:,'street_number'].str.replace(r\"^.*(?=\\b[0-9]+$)\", \"\").str.replace(r\"[^\\d]\", \"\", regex = True)\n"
     ]
    },
    {
     "name": "stdout",
     "output_type": "stream",
     "text": [
      "i= 0  expand time,0.0 filter time0.0 make_dataframe_time 0.001\n",
      "highstreet\n",
      "E06000020\n"
     ]
    },
    {
     "name": "stderr",
     "output_type": "stream",
     "text": [
      "/tf/empty_homes_london/helper_functions.py:272: SettingWithCopyWarning: \n",
      "A value is trying to be set on a copy of a slice from a DataFrame.\n",
      "Try using .loc[row_indexer,col_indexer] = value instead\n",
      "\n",
      "See the caveats in the documentation: https://pandas.pydata.org/pandas-docs/stable/user_guide/indexing.html#returning-a-view-versus-a-copy\n",
      "  temp_multi['number_filter'] = filter_types\n",
      "<ipython-input-13-8bc6428979cb>:9: FutureWarning: The default value of regex will change from True to False in a future version.\n",
      "  missing_lsoa_df.loc[:,'street_number2'] = missing_lsoa_df.loc[:,'street_number'].str.replace(r\"^.*(?=\\b[0-9]+$)\", \"\").str.replace(r\"[^\\d]\", \"\", regex = True)\n",
      "<ipython-input-13-8bc6428979cb>:9: SettingWithCopyWarning: \n",
      "A value is trying to be set on a copy of a slice from a DataFrame.\n",
      "Try using .loc[row_indexer,col_indexer] = value instead\n",
      "\n",
      "See the caveats in the documentation: https://pandas.pydata.org/pandas-docs/stable/user_guide/indexing.html#returning-a-view-versus-a-copy\n",
      "  missing_lsoa_df.loc[:,'street_number2'] = missing_lsoa_df.loc[:,'street_number'].str.replace(r\"^.*(?=\\b[0-9]+$)\", \"\").str.replace(r\"[^\\d]\", \"\", regex = True)\n"
     ]
    },
    {
     "name": "stdout",
     "output_type": "stream",
     "text": [
      "i= 0  expand time,0.0 filter time0.0 make_dataframe_time 0.001\n",
      "newstreet\n",
      "E07000197\n"
     ]
    },
    {
     "name": "stderr",
     "output_type": "stream",
     "text": [
      "/tf/empty_homes_london/helper_functions.py:272: SettingWithCopyWarning: \n",
      "A value is trying to be set on a copy of a slice from a DataFrame.\n",
      "Try using .loc[row_indexer,col_indexer] = value instead\n",
      "\n",
      "See the caveats in the documentation: https://pandas.pydata.org/pandas-docs/stable/user_guide/indexing.html#returning-a-view-versus-a-copy\n",
      "  temp_multi['number_filter'] = filter_types\n",
      "<ipython-input-13-8bc6428979cb>:9: FutureWarning: The default value of regex will change from True to False in a future version.\n",
      "  missing_lsoa_df.loc[:,'street_number2'] = missing_lsoa_df.loc[:,'street_number'].str.replace(r\"^.*(?=\\b[0-9]+$)\", \"\").str.replace(r\"[^\\d]\", \"\", regex = True)\n",
      "<ipython-input-13-8bc6428979cb>:9: SettingWithCopyWarning: \n",
      "A value is trying to be set on a copy of a slice from a DataFrame.\n",
      "Try using .loc[row_indexer,col_indexer] = value instead\n",
      "\n",
      "See the caveats in the documentation: https://pandas.pydata.org/pandas-docs/stable/user_guide/indexing.html#returning-a-view-versus-a-copy\n",
      "  missing_lsoa_df.loc[:,'street_number2'] = missing_lsoa_df.loc[:,'street_number'].str.replace(r\"^.*(?=\\b[0-9]+$)\", \"\").str.replace(r\"[^\\d]\", \"\", regex = True)\n"
     ]
    },
    {
     "name": "stdout",
     "output_type": "stream",
     "text": [
      "i= 0  expand time,0.0 filter time0.0 make_dataframe_time 0.0\n",
      "stoneroad\n",
      "E07000012\n",
      "cambridge\n",
      "E07000029\n"
     ]
    },
    {
     "name": "stderr",
     "output_type": "stream",
     "text": [
      "<ipython-input-13-8bc6428979cb>:9: FutureWarning: The default value of regex will change from True to False in a future version.\n",
      "  missing_lsoa_df.loc[:,'street_number2'] = missing_lsoa_df.loc[:,'street_number'].str.replace(r\"^.*(?=\\b[0-9]+$)\", \"\").str.replace(r\"[^\\d]\", \"\", regex = True)\n",
      "<ipython-input-13-8bc6428979cb>:9: SettingWithCopyWarning: \n",
      "A value is trying to be set on a copy of a slice from a DataFrame.\n",
      "Try using .loc[row_indexer,col_indexer] = value instead\n",
      "\n",
      "See the caveats in the documentation: https://pandas.pydata.org/pandas-docs/stable/user_guide/indexing.html#returning-a-view-versus-a-copy\n",
      "  missing_lsoa_df.loc[:,'street_number2'] = missing_lsoa_df.loc[:,'street_number'].str.replace(r\"^.*(?=\\b[0-9]+$)\", \"\").str.replace(r\"[^\\d]\", \"\", regex = True)\n",
      "/tf/empty_homes_london/helper_functions.py:272: SettingWithCopyWarning: \n",
      "A value is trying to be set on a copy of a slice from a DataFrame.\n",
      "Try using .loc[row_indexer,col_indexer] = value instead\n",
      "\n",
      "See the caveats in the documentation: https://pandas.pydata.org/pandas-docs/stable/user_guide/indexing.html#returning-a-view-versus-a-copy\n",
      "  temp_multi['number_filter'] = filter_types\n",
      "<ipython-input-13-8bc6428979cb>:35: SettingWithCopyWarning: \n",
      "A value is trying to be set on a copy of a slice from a DataFrame.\n",
      "Try using .loc[row_indexer,col_indexer] = value instead\n",
      "\n",
      "See the caveats in the documentation: https://pandas.pydata.org/pandas-docs/stable/user_guide/indexing.html#returning-a-view-versus-a-copy\n",
      "  missing_lsoa_road['lsoa11cd'] = [street_number_to_lsoa(temp_road, int(missing_lsoa_road.iloc[missing_lsoa_row]['street_number2']))\n",
      "<ipython-input-13-8bc6428979cb>:9: FutureWarning: The default value of regex will change from True to False in a future version.\n",
      "  missing_lsoa_df.loc[:,'street_number2'] = missing_lsoa_df.loc[:,'street_number'].str.replace(r\"^.*(?=\\b[0-9]+$)\", \"\").str.replace(r\"[^\\d]\", \"\", regex = True)\n",
      "<ipython-input-13-8bc6428979cb>:9: SettingWithCopyWarning: \n",
      "A value is trying to be set on a copy of a slice from a DataFrame.\n",
      "Try using .loc[row_indexer,col_indexer] = value instead\n",
      "\n",
      "See the caveats in the documentation: https://pandas.pydata.org/pandas-docs/stable/user_guide/indexing.html#returning-a-view-versus-a-copy\n",
      "  missing_lsoa_df.loc[:,'street_number2'] = missing_lsoa_df.loc[:,'street_number'].str.replace(r\"^.*(?=\\b[0-9]+$)\", \"\").str.replace(r\"[^\\d]\", \"\", regex = True)\n"
     ]
    },
    {
     "name": "stdout",
     "output_type": "stream",
     "text": [
      "i= 0  expand time,0.0 filter time0.0 make_dataframe_time 0.001\n",
      "kingstreet\n",
      "chapelstreet\n",
      "E06000033\n"
     ]
    },
    {
     "name": "stderr",
     "output_type": "stream",
     "text": [
      "/tf/empty_homes_london/helper_functions.py:272: SettingWithCopyWarning: \n",
      "A value is trying to be set on a copy of a slice from a DataFrame.\n",
      "Try using .loc[row_indexer,col_indexer] = value instead\n",
      "\n",
      "See the caveats in the documentation: https://pandas.pydata.org/pandas-docs/stable/user_guide/indexing.html#returning-a-view-versus-a-copy\n",
      "  temp_multi['number_filter'] = filter_types\n",
      "<ipython-input-13-8bc6428979cb>:35: SettingWithCopyWarning: \n",
      "A value is trying to be set on a copy of a slice from a DataFrame.\n",
      "Try using .loc[row_indexer,col_indexer] = value instead\n",
      "\n",
      "See the caveats in the documentation: https://pandas.pydata.org/pandas-docs/stable/user_guide/indexing.html#returning-a-view-versus-a-copy\n",
      "  missing_lsoa_road['lsoa11cd'] = [street_number_to_lsoa(temp_road, int(missing_lsoa_road.iloc[missing_lsoa_row]['street_number2']))\n",
      "<ipython-input-13-8bc6428979cb>:9: FutureWarning: The default value of regex will change from True to False in a future version.\n",
      "  missing_lsoa_df.loc[:,'street_number2'] = missing_lsoa_df.loc[:,'street_number'].str.replace(r\"^.*(?=\\b[0-9]+$)\", \"\").str.replace(r\"[^\\d]\", \"\", regex = True)\n",
      "<ipython-input-13-8bc6428979cb>:9: SettingWithCopyWarning: \n",
      "A value is trying to be set on a copy of a slice from a DataFrame.\n",
      "Try using .loc[row_indexer,col_indexer] = value instead\n",
      "\n",
      "See the caveats in the documentation: https://pandas.pydata.org/pandas-docs/stable/user_guide/indexing.html#returning-a-view-versus-a-copy\n",
      "  missing_lsoa_df.loc[:,'street_number2'] = missing_lsoa_df.loc[:,'street_number'].str.replace(r\"^.*(?=\\b[0-9]+$)\", \"\").str.replace(r\"[^\\d]\", \"\", regex = True)\n"
     ]
    },
    {
     "name": "stdout",
     "output_type": "stream",
     "text": [
      "i= 0  expand time,0.0 filter time0.0 make_dataframe_time 0.001\n",
      "richmondavenue\n",
      "yorkroad\n",
      "E07000074\n"
     ]
    },
    {
     "name": "stderr",
     "output_type": "stream",
     "text": [
      "/tf/empty_homes_london/helper_functions.py:272: SettingWithCopyWarning: \n",
      "A value is trying to be set on a copy of a slice from a DataFrame.\n",
      "Try using .loc[row_indexer,col_indexer] = value instead\n",
      "\n",
      "See the caveats in the documentation: https://pandas.pydata.org/pandas-docs/stable/user_guide/indexing.html#returning-a-view-versus-a-copy\n",
      "  temp_multi['number_filter'] = filter_types\n",
      "<ipython-input-13-8bc6428979cb>:9: FutureWarning: The default value of regex will change from True to False in a future version.\n",
      "  missing_lsoa_df.loc[:,'street_number2'] = missing_lsoa_df.loc[:,'street_number'].str.replace(r\"^.*(?=\\b[0-9]+$)\", \"\").str.replace(r\"[^\\d]\", \"\", regex = True)\n",
      "<ipython-input-13-8bc6428979cb>:9: SettingWithCopyWarning: \n",
      "A value is trying to be set on a copy of a slice from a DataFrame.\n",
      "Try using .loc[row_indexer,col_indexer] = value instead\n",
      "\n",
      "See the caveats in the documentation: https://pandas.pydata.org/pandas-docs/stable/user_guide/indexing.html#returning-a-view-versus-a-copy\n",
      "  missing_lsoa_df.loc[:,'street_number2'] = missing_lsoa_df.loc[:,'street_number'].str.replace(r\"^.*(?=\\b[0-9]+$)\", \"\").str.replace(r\"[^\\d]\", \"\", regex = True)\n"
     ]
    },
    {
     "name": "stdout",
     "output_type": "stream",
     "text": [
      "i= 0  expand time,0.0 filter time0.0 make_dataframe_time 0.001\n",
      "highstreet\n",
      "E06000032\n"
     ]
    },
    {
     "name": "stderr",
     "output_type": "stream",
     "text": [
      "/tf/empty_homes_london/helper_functions.py:272: SettingWithCopyWarning: \n",
      "A value is trying to be set on a copy of a slice from a DataFrame.\n",
      "Try using .loc[row_indexer,col_indexer] = value instead\n",
      "\n",
      "See the caveats in the documentation: https://pandas.pydata.org/pandas-docs/stable/user_guide/indexing.html#returning-a-view-versus-a-copy\n",
      "  temp_multi['number_filter'] = filter_types\n",
      "<ipython-input-13-8bc6428979cb>:35: SettingWithCopyWarning: \n",
      "A value is trying to be set on a copy of a slice from a DataFrame.\n",
      "Try using .loc[row_indexer,col_indexer] = value instead\n",
      "\n",
      "See the caveats in the documentation: https://pandas.pydata.org/pandas-docs/stable/user_guide/indexing.html#returning-a-view-versus-a-copy\n",
      "  missing_lsoa_road['lsoa11cd'] = [street_number_to_lsoa(temp_road, int(missing_lsoa_road.iloc[missing_lsoa_row]['street_number2']))\n",
      "<ipython-input-13-8bc6428979cb>:9: FutureWarning: The default value of regex will change from True to False in a future version.\n",
      "  missing_lsoa_df.loc[:,'street_number2'] = missing_lsoa_df.loc[:,'street_number'].str.replace(r\"^.*(?=\\b[0-9]+$)\", \"\").str.replace(r\"[^\\d]\", \"\", regex = True)\n",
      "<ipython-input-13-8bc6428979cb>:9: SettingWithCopyWarning: \n",
      "A value is trying to be set on a copy of a slice from a DataFrame.\n",
      "Try using .loc[row_indexer,col_indexer] = value instead\n",
      "\n",
      "See the caveats in the documentation: https://pandas.pydata.org/pandas-docs/stable/user_guide/indexing.html#returning-a-view-versus-a-copy\n",
      "  missing_lsoa_df.loc[:,'street_number2'] = missing_lsoa_df.loc[:,'street_number'].str.replace(r\"^.*(?=\\b[0-9]+$)\", \"\").str.replace(r\"[^\\d]\", \"\", regex = True)\n"
     ]
    },
    {
     "name": "stdout",
     "output_type": "stream",
     "text": [
      "i= 0  expand time,0.0 filter time0.0 make_dataframe_time 0.001\n",
      "parkstreet\n",
      "dunstableroad\n",
      "E07000086\n"
     ]
    },
    {
     "name": "stderr",
     "output_type": "stream",
     "text": [
      "/tf/empty_homes_london/helper_functions.py:272: SettingWithCopyWarning: \n",
      "A value is trying to be set on a copy of a slice from a DataFrame.\n",
      "Try using .loc[row_indexer,col_indexer] = value instead\n",
      "\n",
      "See the caveats in the documentation: https://pandas.pydata.org/pandas-docs/stable/user_guide/indexing.html#returning-a-view-versus-a-copy\n",
      "  temp_multi['number_filter'] = filter_types\n",
      "<ipython-input-13-8bc6428979cb>:35: SettingWithCopyWarning: \n",
      "A value is trying to be set on a copy of a slice from a DataFrame.\n",
      "Try using .loc[row_indexer,col_indexer] = value instead\n",
      "\n",
      "See the caveats in the documentation: https://pandas.pydata.org/pandas-docs/stable/user_guide/indexing.html#returning-a-view-versus-a-copy\n",
      "  missing_lsoa_road['lsoa11cd'] = [street_number_to_lsoa(temp_road, int(missing_lsoa_road.iloc[missing_lsoa_row]['street_number2']))\n",
      "<ipython-input-13-8bc6428979cb>:9: FutureWarning: The default value of regex will change from True to False in a future version.\n",
      "  missing_lsoa_df.loc[:,'street_number2'] = missing_lsoa_df.loc[:,'street_number'].str.replace(r\"^.*(?=\\b[0-9]+$)\", \"\").str.replace(r\"[^\\d]\", \"\", regex = True)\n",
      "<ipython-input-13-8bc6428979cb>:9: SettingWithCopyWarning: \n",
      "A value is trying to be set on a copy of a slice from a DataFrame.\n",
      "Try using .loc[row_indexer,col_indexer] = value instead\n",
      "\n",
      "See the caveats in the documentation: https://pandas.pydata.org/pandas-docs/stable/user_guide/indexing.html#returning-a-view-versus-a-copy\n",
      "  missing_lsoa_df.loc[:,'street_number2'] = missing_lsoa_df.loc[:,'street_number'].str.replace(r\"^.*(?=\\b[0-9]+$)\", \"\").str.replace(r\"[^\\d]\", \"\", regex = True)\n"
     ]
    },
    {
     "name": "stdout",
     "output_type": "stream",
     "text": [
      "i= 0  expand time,0.0 filter time0.0 make_dataframe_time 0.001\n",
      "lowernorthamroad\n",
      "chestnutavenue\n",
      "E07000241\n"
     ]
    },
    {
     "name": "stderr",
     "output_type": "stream",
     "text": [
      "/tf/empty_homes_london/helper_functions.py:272: SettingWithCopyWarning: \n",
      "A value is trying to be set on a copy of a slice from a DataFrame.\n",
      "Try using .loc[row_indexer,col_indexer] = value instead\n",
      "\n",
      "See the caveats in the documentation: https://pandas.pydata.org/pandas-docs/stable/user_guide/indexing.html#returning-a-view-versus-a-copy\n",
      "  temp_multi['number_filter'] = filter_types\n",
      "<ipython-input-13-8bc6428979cb>:35: SettingWithCopyWarning: \n",
      "A value is trying to be set on a copy of a slice from a DataFrame.\n",
      "Try using .loc[row_indexer,col_indexer] = value instead\n",
      "\n",
      "See the caveats in the documentation: https://pandas.pydata.org/pandas-docs/stable/user_guide/indexing.html#returning-a-view-versus-a-copy\n",
      "  missing_lsoa_road['lsoa11cd'] = [street_number_to_lsoa(temp_road, int(missing_lsoa_road.iloc[missing_lsoa_row]['street_number2']))\n",
      "<ipython-input-13-8bc6428979cb>:9: FutureWarning: The default value of regex will change from True to False in a future version.\n",
      "  missing_lsoa_df.loc[:,'street_number2'] = missing_lsoa_df.loc[:,'street_number'].str.replace(r\"^.*(?=\\b[0-9]+$)\", \"\").str.replace(r\"[^\\d]\", \"\", regex = True)\n",
      "<ipython-input-13-8bc6428979cb>:9: SettingWithCopyWarning: \n",
      "A value is trying to be set on a copy of a slice from a DataFrame.\n",
      "Try using .loc[row_indexer,col_indexer] = value instead\n",
      "\n",
      "See the caveats in the documentation: https://pandas.pydata.org/pandas-docs/stable/user_guide/indexing.html#returning-a-view-versus-a-copy\n",
      "  missing_lsoa_df.loc[:,'street_number2'] = missing_lsoa_df.loc[:,'street_number'].str.replace(r\"^.*(?=\\b[0-9]+$)\", \"\").str.replace(r\"[^\\d]\", \"\", regex = True)\n"
     ]
    },
    {
     "name": "stdout",
     "output_type": "stream",
     "text": [
      "i= 0  expand time,0.0 filter time0.0 make_dataframe_time 0.001\n",
      "tolmerroad\n",
      "wellfieldroad\n",
      "bishoprise\n",
      "E07000127\n"
     ]
    },
    {
     "name": "stderr",
     "output_type": "stream",
     "text": [
      "/tf/empty_homes_london/helper_functions.py:272: SettingWithCopyWarning: \n",
      "A value is trying to be set on a copy of a slice from a DataFrame.\n",
      "Try using .loc[row_indexer,col_indexer] = value instead\n",
      "\n",
      "See the caveats in the documentation: https://pandas.pydata.org/pandas-docs/stable/user_guide/indexing.html#returning-a-view-versus-a-copy\n",
      "  temp_multi['number_filter'] = filter_types\n",
      "<ipython-input-13-8bc6428979cb>:35: SettingWithCopyWarning: \n",
      "A value is trying to be set on a copy of a slice from a DataFrame.\n",
      "Try using .loc[row_indexer,col_indexer] = value instead\n",
      "\n",
      "See the caveats in the documentation: https://pandas.pydata.org/pandas-docs/stable/user_guide/indexing.html#returning-a-view-versus-a-copy\n",
      "  missing_lsoa_road['lsoa11cd'] = [street_number_to_lsoa(temp_road, int(missing_lsoa_road.iloc[missing_lsoa_row]['street_number2']))\n",
      "<ipython-input-13-8bc6428979cb>:9: FutureWarning: The default value of regex will change from True to False in a future version.\n",
      "  missing_lsoa_df.loc[:,'street_number2'] = missing_lsoa_df.loc[:,'street_number'].str.replace(r\"^.*(?=\\b[0-9]+$)\", \"\").str.replace(r\"[^\\d]\", \"\", regex = True)\n",
      "<ipython-input-13-8bc6428979cb>:9: SettingWithCopyWarning: \n",
      "A value is trying to be set on a copy of a slice from a DataFrame.\n",
      "Try using .loc[row_indexer,col_indexer] = value instead\n",
      "\n",
      "See the caveats in the documentation: https://pandas.pydata.org/pandas-docs/stable/user_guide/indexing.html#returning-a-view-versus-a-copy\n",
      "  missing_lsoa_df.loc[:,'street_number2'] = missing_lsoa_df.loc[:,'street_number'].str.replace(r\"^.*(?=\\b[0-9]+$)\", \"\").str.replace(r\"[^\\d]\", \"\", regex = True)\n"
     ]
    },
    {
     "name": "stdout",
     "output_type": "stream",
     "text": [
      "i= 0  expand time,0.0 filter time0.0 make_dataframe_time 0.001\n",
      "blackgatelane\n",
      "carrlane\n",
      "E06000046\n"
     ]
    },
    {
     "name": "stderr",
     "output_type": "stream",
     "text": [
      "/tf/empty_homes_london/helper_functions.py:272: SettingWithCopyWarning: \n",
      "A value is trying to be set on a copy of a slice from a DataFrame.\n",
      "Try using .loc[row_indexer,col_indexer] = value instead\n",
      "\n",
      "See the caveats in the documentation: https://pandas.pydata.org/pandas-docs/stable/user_guide/indexing.html#returning-a-view-versus-a-copy\n",
      "  temp_multi['number_filter'] = filter_types\n",
      "<ipython-input-13-8bc6428979cb>:35: SettingWithCopyWarning: \n",
      "A value is trying to be set on a copy of a slice from a DataFrame.\n",
      "Try using .loc[row_indexer,col_indexer] = value instead\n",
      "\n",
      "See the caveats in the documentation: https://pandas.pydata.org/pandas-docs/stable/user_guide/indexing.html#returning-a-view-versus-a-copy\n",
      "  missing_lsoa_road['lsoa11cd'] = [street_number_to_lsoa(temp_road, int(missing_lsoa_road.iloc[missing_lsoa_row]['street_number2']))\n"
     ]
    },
    {
     "name": "stdout",
     "output_type": "stream",
     "text": [
      "i= 0  expand time,0.0 filter time0.0 make_dataframe_time 0.001\n",
      "highstreet\n",
      "johnstreet\n",
      "victoriastreet\n",
      "E09000004\n"
     ]
    },
    {
     "name": "stderr",
     "output_type": "stream",
     "text": [
      "<ipython-input-13-8bc6428979cb>:9: FutureWarning: The default value of regex will change from True to False in a future version.\n",
      "  missing_lsoa_df.loc[:,'street_number2'] = missing_lsoa_df.loc[:,'street_number'].str.replace(r\"^.*(?=\\b[0-9]+$)\", \"\").str.replace(r\"[^\\d]\", \"\", regex = True)\n",
      "<ipython-input-13-8bc6428979cb>:9: SettingWithCopyWarning: \n",
      "A value is trying to be set on a copy of a slice from a DataFrame.\n",
      "Try using .loc[row_indexer,col_indexer] = value instead\n",
      "\n",
      "See the caveats in the documentation: https://pandas.pydata.org/pandas-docs/stable/user_guide/indexing.html#returning-a-view-versus-a-copy\n",
      "  missing_lsoa_df.loc[:,'street_number2'] = missing_lsoa_df.loc[:,'street_number'].str.replace(r\"^.*(?=\\b[0-9]+$)\", \"\").str.replace(r\"[^\\d]\", \"\", regex = True)\n",
      "/tf/empty_homes_london/helper_functions.py:272: SettingWithCopyWarning: \n",
      "A value is trying to be set on a copy of a slice from a DataFrame.\n",
      "Try using .loc[row_indexer,col_indexer] = value instead\n",
      "\n",
      "See the caveats in the documentation: https://pandas.pydata.org/pandas-docs/stable/user_guide/indexing.html#returning-a-view-versus-a-copy\n",
      "  temp_multi['number_filter'] = filter_types\n",
      "<ipython-input-13-8bc6428979cb>:9: FutureWarning: The default value of regex will change from True to False in a future version.\n",
      "  missing_lsoa_df.loc[:,'street_number2'] = missing_lsoa_df.loc[:,'street_number'].str.replace(r\"^.*(?=\\b[0-9]+$)\", \"\").str.replace(r\"[^\\d]\", \"\", regex = True)\n",
      "<ipython-input-13-8bc6428979cb>:9: SettingWithCopyWarning: \n",
      "A value is trying to be set on a copy of a slice from a DataFrame.\n",
      "Try using .loc[row_indexer,col_indexer] = value instead\n",
      "\n",
      "See the caveats in the documentation: https://pandas.pydata.org/pandas-docs/stable/user_guide/indexing.html#returning-a-view-versus-a-copy\n",
      "  missing_lsoa_df.loc[:,'street_number2'] = missing_lsoa_df.loc[:,'street_number'].str.replace(r\"^.*(?=\\b[0-9]+$)\", \"\").str.replace(r\"[^\\d]\", \"\", regex = True)\n"
     ]
    },
    {
     "name": "stdout",
     "output_type": "stream",
     "text": [
      "i= 0  expand time,0.0 filter time0.0 make_dataframe_time 0.001\n",
      "broadway\n",
      "E07000170\n"
     ]
    },
    {
     "name": "stderr",
     "output_type": "stream",
     "text": [
      "/tf/empty_homes_london/helper_functions.py:272: SettingWithCopyWarning: \n",
      "A value is trying to be set on a copy of a slice from a DataFrame.\n",
      "Try using .loc[row_indexer,col_indexer] = value instead\n",
      "\n",
      "See the caveats in the documentation: https://pandas.pydata.org/pandas-docs/stable/user_guide/indexing.html#returning-a-view-versus-a-copy\n",
      "  temp_multi['number_filter'] = filter_types\n",
      "<ipython-input-13-8bc6428979cb>:35: SettingWithCopyWarning: \n",
      "A value is trying to be set on a copy of a slice from a DataFrame.\n",
      "Try using .loc[row_indexer,col_indexer] = value instead\n",
      "\n",
      "See the caveats in the documentation: https://pandas.pydata.org/pandas-docs/stable/user_guide/indexing.html#returning-a-view-versus-a-copy\n",
      "  missing_lsoa_road['lsoa11cd'] = [street_number_to_lsoa(temp_road, int(missing_lsoa_road.iloc[missing_lsoa_row]['street_number2']))\n",
      "<ipython-input-13-8bc6428979cb>:9: FutureWarning: The default value of regex will change from True to False in a future version.\n",
      "  missing_lsoa_df.loc[:,'street_number2'] = missing_lsoa_df.loc[:,'street_number'].str.replace(r\"^.*(?=\\b[0-9]+$)\", \"\").str.replace(r\"[^\\d]\", \"\", regex = True)\n",
      "<ipython-input-13-8bc6428979cb>:9: SettingWithCopyWarning: \n",
      "A value is trying to be set on a copy of a slice from a DataFrame.\n",
      "Try using .loc[row_indexer,col_indexer] = value instead\n",
      "\n",
      "See the caveats in the documentation: https://pandas.pydata.org/pandas-docs/stable/user_guide/indexing.html#returning-a-view-versus-a-copy\n",
      "  missing_lsoa_df.loc[:,'street_number2'] = missing_lsoa_df.loc[:,'street_number'].str.replace(r\"^.*(?=\\b[0-9]+$)\", \"\").str.replace(r\"[^\\d]\", \"\", regex = True)\n"
     ]
    },
    {
     "name": "stdout",
     "output_type": "stream",
     "text": [
      "i= 0  expand time,0.0 filter time0.0 make_dataframe_time 0.001\n",
      "sherwoodpark\n",
      "ascotgardens\n",
      "portlandstreet\n",
      "hardwicklane\n",
      "E07000194\n"
     ]
    },
    {
     "name": "stderr",
     "output_type": "stream",
     "text": [
      "/tf/empty_homes_london/helper_functions.py:272: SettingWithCopyWarning: \n",
      "A value is trying to be set on a copy of a slice from a DataFrame.\n",
      "Try using .loc[row_indexer,col_indexer] = value instead\n",
      "\n",
      "See the caveats in the documentation: https://pandas.pydata.org/pandas-docs/stable/user_guide/indexing.html#returning-a-view-versus-a-copy\n",
      "  temp_multi['number_filter'] = filter_types\n",
      "<ipython-input-13-8bc6428979cb>:9: FutureWarning: The default value of regex will change from True to False in a future version.\n",
      "  missing_lsoa_df.loc[:,'street_number2'] = missing_lsoa_df.loc[:,'street_number'].str.replace(r\"^.*(?=\\b[0-9]+$)\", \"\").str.replace(r\"[^\\d]\", \"\", regex = True)\n",
      "<ipython-input-13-8bc6428979cb>:9: SettingWithCopyWarning: \n",
      "A value is trying to be set on a copy of a slice from a DataFrame.\n",
      "Try using .loc[row_indexer,col_indexer] = value instead\n",
      "\n",
      "See the caveats in the documentation: https://pandas.pydata.org/pandas-docs/stable/user_guide/indexing.html#returning-a-view-versus-a-copy\n",
      "  missing_lsoa_df.loc[:,'street_number2'] = missing_lsoa_df.loc[:,'street_number'].str.replace(r\"^.*(?=\\b[0-9]+$)\", \"\").str.replace(r\"[^\\d]\", \"\", regex = True)\n"
     ]
    },
    {
     "name": "stdout",
     "output_type": "stream",
     "text": [
      "i= 0  expand time,0.0 filter time0.0 make_dataframe_time 0.001\n",
      "birdstreet\n",
      "E07000164\n"
     ]
    },
    {
     "name": "stderr",
     "output_type": "stream",
     "text": [
      "/tf/empty_homes_london/helper_functions.py:272: SettingWithCopyWarning: \n",
      "A value is trying to be set on a copy of a slice from a DataFrame.\n",
      "Try using .loc[row_indexer,col_indexer] = value instead\n",
      "\n",
      "See the caveats in the documentation: https://pandas.pydata.org/pandas-docs/stable/user_guide/indexing.html#returning-a-view-versus-a-copy\n",
      "  temp_multi['number_filter'] = filter_types\n",
      "<ipython-input-13-8bc6428979cb>:35: SettingWithCopyWarning: \n",
      "A value is trying to be set on a copy of a slice from a DataFrame.\n",
      "Try using .loc[row_indexer,col_indexer] = value instead\n",
      "\n",
      "See the caveats in the documentation: https://pandas.pydata.org/pandas-docs/stable/user_guide/indexing.html#returning-a-view-versus-a-copy\n",
      "  missing_lsoa_road['lsoa11cd'] = [street_number_to_lsoa(temp_road, int(missing_lsoa_road.iloc[missing_lsoa_row]['street_number2']))\n",
      "<ipython-input-13-8bc6428979cb>:9: FutureWarning: The default value of regex will change from True to False in a future version.\n",
      "  missing_lsoa_df.loc[:,'street_number2'] = missing_lsoa_df.loc[:,'street_number'].str.replace(r\"^.*(?=\\b[0-9]+$)\", \"\").str.replace(r\"[^\\d]\", \"\", regex = True)\n",
      "<ipython-input-13-8bc6428979cb>:9: SettingWithCopyWarning: \n",
      "A value is trying to be set on a copy of a slice from a DataFrame.\n",
      "Try using .loc[row_indexer,col_indexer] = value instead\n",
      "\n",
      "See the caveats in the documentation: https://pandas.pydata.org/pandas-docs/stable/user_guide/indexing.html#returning-a-view-versus-a-copy\n",
      "  missing_lsoa_df.loc[:,'street_number2'] = missing_lsoa_df.loc[:,'street_number'].str.replace(r\"^.*(?=\\b[0-9]+$)\", \"\").str.replace(r\"[^\\d]\", \"\", regex = True)\n"
     ]
    },
    {
     "name": "stdout",
     "output_type": "stream",
     "text": [
      "i= 0  expand time,0.0 filter time0.0 make_dataframe_time 0.001\n",
      "highstreet\n",
      "acreoflandatellerbeckway\n",
      "W06000001\n"
     ]
    },
    {
     "name": "stderr",
     "output_type": "stream",
     "text": [
      "/tf/empty_homes_london/helper_functions.py:272: SettingWithCopyWarning: \n",
      "A value is trying to be set on a copy of a slice from a DataFrame.\n",
      "Try using .loc[row_indexer,col_indexer] = value instead\n",
      "\n",
      "See the caveats in the documentation: https://pandas.pydata.org/pandas-docs/stable/user_guide/indexing.html#returning-a-view-versus-a-copy\n",
      "  temp_multi['number_filter'] = filter_types\n",
      "<ipython-input-13-8bc6428979cb>:35: SettingWithCopyWarning: \n",
      "A value is trying to be set on a copy of a slice from a DataFrame.\n",
      "Try using .loc[row_indexer,col_indexer] = value instead\n",
      "\n",
      "See the caveats in the documentation: https://pandas.pydata.org/pandas-docs/stable/user_guide/indexing.html#returning-a-view-versus-a-copy\n",
      "  missing_lsoa_road['lsoa11cd'] = [street_number_to_lsoa(temp_road, int(missing_lsoa_road.iloc[missing_lsoa_row]['street_number2']))\n",
      "<ipython-input-13-8bc6428979cb>:9: FutureWarning: The default value of regex will change from True to False in a future version.\n",
      "  missing_lsoa_df.loc[:,'street_number2'] = missing_lsoa_df.loc[:,'street_number'].str.replace(r\"^.*(?=\\b[0-9]+$)\", \"\").str.replace(r\"[^\\d]\", \"\", regex = True)\n",
      "<ipython-input-13-8bc6428979cb>:9: SettingWithCopyWarning: \n",
      "A value is trying to be set on a copy of a slice from a DataFrame.\n",
      "Try using .loc[row_indexer,col_indexer] = value instead\n",
      "\n",
      "See the caveats in the documentation: https://pandas.pydata.org/pandas-docs/stable/user_guide/indexing.html#returning-a-view-versus-a-copy\n",
      "  missing_lsoa_df.loc[:,'street_number2'] = missing_lsoa_df.loc[:,'street_number'].str.replace(r\"^.*(?=\\b[0-9]+$)\", \"\").str.replace(r\"[^\\d]\", \"\", regex = True)\n"
     ]
    },
    {
     "name": "stdout",
     "output_type": "stream",
     "text": [
      "i= 0  expand time,0.0 filter time0.0 make_dataframe_time 0.001\n",
      "marketstreet\n",
      "llyyffair\n",
      "E07000072\n"
     ]
    },
    {
     "name": "stderr",
     "output_type": "stream",
     "text": [
      "/tf/empty_homes_london/helper_functions.py:272: SettingWithCopyWarning: \n",
      "A value is trying to be set on a copy of a slice from a DataFrame.\n",
      "Try using .loc[row_indexer,col_indexer] = value instead\n",
      "\n",
      "See the caveats in the documentation: https://pandas.pydata.org/pandas-docs/stable/user_guide/indexing.html#returning-a-view-versus-a-copy\n",
      "  temp_multi['number_filter'] = filter_types\n",
      "<ipython-input-13-8bc6428979cb>:35: SettingWithCopyWarning: \n",
      "A value is trying to be set on a copy of a slice from a DataFrame.\n",
      "Try using .loc[row_indexer,col_indexer] = value instead\n",
      "\n",
      "See the caveats in the documentation: https://pandas.pydata.org/pandas-docs/stable/user_guide/indexing.html#returning-a-view-versus-a-copy\n",
      "  missing_lsoa_road['lsoa11cd'] = [street_number_to_lsoa(temp_road, int(missing_lsoa_road.iloc[missing_lsoa_row]['street_number2']))\n",
      "<ipython-input-13-8bc6428979cb>:9: FutureWarning: The default value of regex will change from True to False in a future version.\n",
      "  missing_lsoa_df.loc[:,'street_number2'] = missing_lsoa_df.loc[:,'street_number'].str.replace(r\"^.*(?=\\b[0-9]+$)\", \"\").str.replace(r\"[^\\d]\", \"\", regex = True)\n",
      "<ipython-input-13-8bc6428979cb>:9: SettingWithCopyWarning: \n",
      "A value is trying to be set on a copy of a slice from a DataFrame.\n",
      "Try using .loc[row_indexer,col_indexer] = value instead\n",
      "\n",
      "See the caveats in the documentation: https://pandas.pydata.org/pandas-docs/stable/user_guide/indexing.html#returning-a-view-versus-a-copy\n",
      "  missing_lsoa_df.loc[:,'street_number2'] = missing_lsoa_df.loc[:,'street_number'].str.replace(r\"^.*(?=\\b[0-9]+$)\", \"\").str.replace(r\"[^\\d]\", \"\", regex = True)\n"
     ]
    },
    {
     "name": "stdout",
     "output_type": "stream",
     "text": [
      "i= 0  expand time,0.0 filter time0.0 make_dataframe_time 0.001\n",
      "highroad\n",
      "burylane\n",
      "lindseystreet\n",
      "E06000022\n"
     ]
    },
    {
     "name": "stderr",
     "output_type": "stream",
     "text": [
      "/tf/empty_homes_london/helper_functions.py:272: SettingWithCopyWarning: \n",
      "A value is trying to be set on a copy of a slice from a DataFrame.\n",
      "Try using .loc[row_indexer,col_indexer] = value instead\n",
      "\n",
      "See the caveats in the documentation: https://pandas.pydata.org/pandas-docs/stable/user_guide/indexing.html#returning-a-view-versus-a-copy\n",
      "  temp_multi['number_filter'] = filter_types\n",
      "<ipython-input-13-8bc6428979cb>:9: FutureWarning: The default value of regex will change from True to False in a future version.\n",
      "  missing_lsoa_df.loc[:,'street_number2'] = missing_lsoa_df.loc[:,'street_number'].str.replace(r\"^.*(?=\\b[0-9]+$)\", \"\").str.replace(r\"[^\\d]\", \"\", regex = True)\n",
      "<ipython-input-13-8bc6428979cb>:9: SettingWithCopyWarning: \n",
      "A value is trying to be set on a copy of a slice from a DataFrame.\n",
      "Try using .loc[row_indexer,col_indexer] = value instead\n",
      "\n",
      "See the caveats in the documentation: https://pandas.pydata.org/pandas-docs/stable/user_guide/indexing.html#returning-a-view-versus-a-copy\n",
      "  missing_lsoa_df.loc[:,'street_number2'] = missing_lsoa_df.loc[:,'street_number'].str.replace(r\"^.*(?=\\b[0-9]+$)\", \"\").str.replace(r\"[^\\d]\", \"\", regex = True)\n"
     ]
    },
    {
     "name": "stdout",
     "output_type": "stream",
     "text": [
      "i= 0  expand time,0.0 filter time0.0 make_dataframe_time 0.001\n",
      "lowerbristolroad\n",
      "E07000137\n"
     ]
    },
    {
     "name": "stderr",
     "output_type": "stream",
     "text": [
      "/tf/empty_homes_london/helper_functions.py:272: SettingWithCopyWarning: \n",
      "A value is trying to be set on a copy of a slice from a DataFrame.\n",
      "Try using .loc[row_indexer,col_indexer] = value instead\n",
      "\n",
      "See the caveats in the documentation: https://pandas.pydata.org/pandas-docs/stable/user_guide/indexing.html#returning-a-view-versus-a-copy\n",
      "  temp_multi['number_filter'] = filter_types\n",
      "<ipython-input-13-8bc6428979cb>:9: FutureWarning: The default value of regex will change from True to False in a future version.\n",
      "  missing_lsoa_df.loc[:,'street_number2'] = missing_lsoa_df.loc[:,'street_number'].str.replace(r\"^.*(?=\\b[0-9]+$)\", \"\").str.replace(r\"[^\\d]\", \"\", regex = True)\n",
      "<ipython-input-13-8bc6428979cb>:9: SettingWithCopyWarning: \n",
      "A value is trying to be set on a copy of a slice from a DataFrame.\n",
      "Try using .loc[row_indexer,col_indexer] = value instead\n",
      "\n",
      "See the caveats in the documentation: https://pandas.pydata.org/pandas-docs/stable/user_guide/indexing.html#returning-a-view-versus-a-copy\n",
      "  missing_lsoa_df.loc[:,'street_number2'] = missing_lsoa_df.loc[:,'street_number'].str.replace(r\"^.*(?=\\b[0-9]+$)\", \"\").str.replace(r\"[^\\d]\", \"\", regex = True)\n"
     ]
    },
    {
     "name": "stdout",
     "output_type": "stream",
     "text": [
      "i= 0  expand time,0.0 filter time0.0 make_dataframe_time 0.001\n",
      "lumleyroad\n",
      "W06000005\n"
     ]
    },
    {
     "name": "stderr",
     "output_type": "stream",
     "text": [
      "/tf/empty_homes_london/helper_functions.py:272: SettingWithCopyWarning: \n",
      "A value is trying to be set on a copy of a slice from a DataFrame.\n",
      "Try using .loc[row_indexer,col_indexer] = value instead\n",
      "\n",
      "See the caveats in the documentation: https://pandas.pydata.org/pandas-docs/stable/user_guide/indexing.html#returning-a-view-versus-a-copy\n",
      "  temp_multi['number_filter'] = filter_types\n",
      "<ipython-input-13-8bc6428979cb>:35: SettingWithCopyWarning: \n",
      "A value is trying to be set on a copy of a slice from a DataFrame.\n",
      "Try using .loc[row_indexer,col_indexer] = value instead\n",
      "\n",
      "See the caveats in the documentation: https://pandas.pydata.org/pandas-docs/stable/user_guide/indexing.html#returning-a-view-versus-a-copy\n",
      "  missing_lsoa_road['lsoa11cd'] = [street_number_to_lsoa(temp_road, int(missing_lsoa_road.iloc[missing_lsoa_row]['street_number2']))\n",
      "<ipython-input-13-8bc6428979cb>:9: FutureWarning: The default value of regex will change from True to False in a future version.\n",
      "  missing_lsoa_df.loc[:,'street_number2'] = missing_lsoa_df.loc[:,'street_number'].str.replace(r\"^.*(?=\\b[0-9]+$)\", \"\").str.replace(r\"[^\\d]\", \"\", regex = True)\n",
      "<ipython-input-13-8bc6428979cb>:9: SettingWithCopyWarning: \n",
      "A value is trying to be set on a copy of a slice from a DataFrame.\n",
      "Try using .loc[row_indexer,col_indexer] = value instead\n",
      "\n",
      "See the caveats in the documentation: https://pandas.pydata.org/pandas-docs/stable/user_guide/indexing.html#returning-a-view-versus-a-copy\n",
      "  missing_lsoa_df.loc[:,'street_number2'] = missing_lsoa_df.loc[:,'street_number'].str.replace(r\"^.*(?=\\b[0-9]+$)\", \"\").str.replace(r\"[^\\d]\", \"\", regex = True)\n"
     ]
    },
    {
     "name": "stdout",
     "output_type": "stream",
     "text": [
      "i= 0  expand time,0.0 filter time0.0 make_dataframe_time 0.001\n",
      "chesterroad\n",
      "firstavenue\n",
      "E07000175\n"
     ]
    },
    {
     "name": "stderr",
     "output_type": "stream",
     "text": [
      "/tf/empty_homes_london/helper_functions.py:272: SettingWithCopyWarning: \n",
      "A value is trying to be set on a copy of a slice from a DataFrame.\n",
      "Try using .loc[row_indexer,col_indexer] = value instead\n",
      "\n",
      "See the caveats in the documentation: https://pandas.pydata.org/pandas-docs/stable/user_guide/indexing.html#returning-a-view-versus-a-copy\n",
      "  temp_multi['number_filter'] = filter_types\n",
      "<ipython-input-13-8bc6428979cb>:9: FutureWarning: The default value of regex will change from True to False in a future version.\n",
      "  missing_lsoa_df.loc[:,'street_number2'] = missing_lsoa_df.loc[:,'street_number'].str.replace(r\"^.*(?=\\b[0-9]+$)\", \"\").str.replace(r\"[^\\d]\", \"\", regex = True)\n",
      "<ipython-input-13-8bc6428979cb>:9: SettingWithCopyWarning: \n",
      "A value is trying to be set on a copy of a slice from a DataFrame.\n",
      "Try using .loc[row_indexer,col_indexer] = value instead\n",
      "\n",
      "See the caveats in the documentation: https://pandas.pydata.org/pandas-docs/stable/user_guide/indexing.html#returning-a-view-versus-a-copy\n",
      "  missing_lsoa_df.loc[:,'street_number2'] = missing_lsoa_df.loc[:,'street_number'].str.replace(r\"^.*(?=\\b[0-9]+$)\", \"\").str.replace(r\"[^\\d]\", \"\", regex = True)\n"
     ]
    },
    {
     "name": "stdout",
     "output_type": "stream",
     "text": [
      "i= 0  expand time,0.0 filter time0.0 make_dataframe_time 0.001\n",
      "londonroad\n",
      "W06000009\n"
     ]
    },
    {
     "name": "stderr",
     "output_type": "stream",
     "text": [
      "/tf/empty_homes_london/helper_functions.py:272: SettingWithCopyWarning: \n",
      "A value is trying to be set on a copy of a slice from a DataFrame.\n",
      "Try using .loc[row_indexer,col_indexer] = value instead\n",
      "\n",
      "See the caveats in the documentation: https://pandas.pydata.org/pandas-docs/stable/user_guide/indexing.html#returning-a-view-versus-a-copy\n",
      "  temp_multi['number_filter'] = filter_types\n",
      "<ipython-input-13-8bc6428979cb>:9: FutureWarning: The default value of regex will change from True to False in a future version.\n",
      "  missing_lsoa_df.loc[:,'street_number2'] = missing_lsoa_df.loc[:,'street_number'].str.replace(r\"^.*(?=\\b[0-9]+$)\", \"\").str.replace(r\"[^\\d]\", \"\", regex = True)\n",
      "<ipython-input-13-8bc6428979cb>:9: SettingWithCopyWarning: \n",
      "A value is trying to be set on a copy of a slice from a DataFrame.\n",
      "Try using .loc[row_indexer,col_indexer] = value instead\n",
      "\n",
      "See the caveats in the documentation: https://pandas.pydata.org/pandas-docs/stable/user_guide/indexing.html#returning-a-view-versus-a-copy\n",
      "  missing_lsoa_df.loc[:,'street_number2'] = missing_lsoa_df.loc[:,'street_number'].str.replace(r\"^.*(?=\\b[0-9]+$)\", \"\").str.replace(r\"[^\\d]\", \"\", regex = True)\n"
     ]
    },
    {
     "name": "stdout",
     "output_type": "stream",
     "text": [
      "i= 0  expand time,0.0 filter time0.0 make_dataframe_time 0.001\n",
      "dimondstreet\n",
      "E07000026\n"
     ]
    },
    {
     "name": "stderr",
     "output_type": "stream",
     "text": [
      "/tf/empty_homes_london/helper_functions.py:272: SettingWithCopyWarning: \n",
      "A value is trying to be set on a copy of a slice from a DataFrame.\n",
      "Try using .loc[row_indexer,col_indexer] = value instead\n",
      "\n",
      "See the caveats in the documentation: https://pandas.pydata.org/pandas-docs/stable/user_guide/indexing.html#returning-a-view-versus-a-copy\n",
      "  temp_multi['number_filter'] = filter_types\n",
      "<ipython-input-13-8bc6428979cb>:35: SettingWithCopyWarning: \n",
      "A value is trying to be set on a copy of a slice from a DataFrame.\n",
      "Try using .loc[row_indexer,col_indexer] = value instead\n",
      "\n",
      "See the caveats in the documentation: https://pandas.pydata.org/pandas-docs/stable/user_guide/indexing.html#returning-a-view-versus-a-copy\n",
      "  missing_lsoa_road['lsoa11cd'] = [street_number_to_lsoa(temp_road, int(missing_lsoa_road.iloc[missing_lsoa_row]['street_number2']))\n",
      "<ipython-input-13-8bc6428979cb>:9: FutureWarning: The default value of regex will change from True to False in a future version.\n",
      "  missing_lsoa_df.loc[:,'street_number2'] = missing_lsoa_df.loc[:,'street_number'].str.replace(r\"^.*(?=\\b[0-9]+$)\", \"\").str.replace(r\"[^\\d]\", \"\", regex = True)\n",
      "<ipython-input-13-8bc6428979cb>:9: SettingWithCopyWarning: \n",
      "A value is trying to be set on a copy of a slice from a DataFrame.\n",
      "Try using .loc[row_indexer,col_indexer] = value instead\n",
      "\n",
      "See the caveats in the documentation: https://pandas.pydata.org/pandas-docs/stable/user_guide/indexing.html#returning-a-view-versus-a-copy\n",
      "  missing_lsoa_df.loc[:,'street_number2'] = missing_lsoa_df.loc[:,'street_number'].str.replace(r\"^.*(?=\\b[0-9]+$)\", \"\").str.replace(r\"[^\\d]\", \"\", regex = True)\n"
     ]
    },
    {
     "name": "stdout",
     "output_type": "stream",
     "text": [
      "i= 0  expand time,0.0 filter time0.0 make_dataframe_time 0.001\n",
      "mainstreet\n",
      "stationstreet\n",
      "E07000218\n"
     ]
    },
    {
     "name": "stderr",
     "output_type": "stream",
     "text": [
      "/tf/empty_homes_london/helper_functions.py:272: SettingWithCopyWarning: \n",
      "A value is trying to be set on a copy of a slice from a DataFrame.\n",
      "Try using .loc[row_indexer,col_indexer] = value instead\n",
      "\n",
      "See the caveats in the documentation: https://pandas.pydata.org/pandas-docs/stable/user_guide/indexing.html#returning-a-view-versus-a-copy\n",
      "  temp_multi['number_filter'] = filter_types\n",
      "<ipython-input-13-8bc6428979cb>:35: SettingWithCopyWarning: \n",
      "A value is trying to be set on a copy of a slice from a DataFrame.\n",
      "Try using .loc[row_indexer,col_indexer] = value instead\n",
      "\n",
      "See the caveats in the documentation: https://pandas.pydata.org/pandas-docs/stable/user_guide/indexing.html#returning-a-view-versus-a-copy\n",
      "  missing_lsoa_road['lsoa11cd'] = [street_number_to_lsoa(temp_road, int(missing_lsoa_road.iloc[missing_lsoa_row]['street_number2']))\n",
      "<ipython-input-13-8bc6428979cb>:9: FutureWarning: The default value of regex will change from True to False in a future version.\n",
      "  missing_lsoa_df.loc[:,'street_number2'] = missing_lsoa_df.loc[:,'street_number'].str.replace(r\"^.*(?=\\b[0-9]+$)\", \"\").str.replace(r\"[^\\d]\", \"\", regex = True)\n",
      "<ipython-input-13-8bc6428979cb>:9: SettingWithCopyWarning: \n",
      "A value is trying to be set on a copy of a slice from a DataFrame.\n",
      "Try using .loc[row_indexer,col_indexer] = value instead\n",
      "\n",
      "See the caveats in the documentation: https://pandas.pydata.org/pandas-docs/stable/user_guide/indexing.html#returning-a-view-versus-a-copy\n",
      "  missing_lsoa_df.loc[:,'street_number2'] = missing_lsoa_df.loc[:,'street_number'].str.replace(r\"^.*(?=\\b[0-9]+$)\", \"\").str.replace(r\"[^\\d]\", \"\", regex = True)\n"
     ]
    },
    {
     "name": "stdout",
     "output_type": "stream",
     "text": [
      "i= 0  expand time,0.0 filter time0.0 make_dataframe_time 0.001\n",
      "gorseylane\n",
      "longstreet\n",
      "E07000143\n"
     ]
    },
    {
     "name": "stderr",
     "output_type": "stream",
     "text": [
      "/tf/empty_homes_london/helper_functions.py:272: SettingWithCopyWarning: \n",
      "A value is trying to be set on a copy of a slice from a DataFrame.\n",
      "Try using .loc[row_indexer,col_indexer] = value instead\n",
      "\n",
      "See the caveats in the documentation: https://pandas.pydata.org/pandas-docs/stable/user_guide/indexing.html#returning-a-view-versus-a-copy\n",
      "  temp_multi['number_filter'] = filter_types\n",
      "<ipython-input-13-8bc6428979cb>:9: FutureWarning: The default value of regex will change from True to False in a future version.\n",
      "  missing_lsoa_df.loc[:,'street_number2'] = missing_lsoa_df.loc[:,'street_number'].str.replace(r\"^.*(?=\\b[0-9]+$)\", \"\").str.replace(r\"[^\\d]\", \"\", regex = True)\n",
      "<ipython-input-13-8bc6428979cb>:9: SettingWithCopyWarning: \n",
      "A value is trying to be set on a copy of a slice from a DataFrame.\n",
      "Try using .loc[row_indexer,col_indexer] = value instead\n",
      "\n",
      "See the caveats in the documentation: https://pandas.pydata.org/pandas-docs/stable/user_guide/indexing.html#returning-a-view-versus-a-copy\n",
      "  missing_lsoa_df.loc[:,'street_number2'] = missing_lsoa_df.loc[:,'street_number'].str.replace(r\"^.*(?=\\b[0-9]+$)\", \"\").str.replace(r\"[^\\d]\", \"\", regex = True)\n"
     ]
    },
    {
     "name": "stdout",
     "output_type": "stream",
     "text": [
      "i= 0  expand time,0.0 filter time0.0 make_dataframe_time 0.001\n",
      "marketplace\n",
      "E06000004\n"
     ]
    },
    {
     "name": "stderr",
     "output_type": "stream",
     "text": [
      "/tf/empty_homes_london/helper_functions.py:272: SettingWithCopyWarning: \n",
      "A value is trying to be set on a copy of a slice from a DataFrame.\n",
      "Try using .loc[row_indexer,col_indexer] = value instead\n",
      "\n",
      "See the caveats in the documentation: https://pandas.pydata.org/pandas-docs/stable/user_guide/indexing.html#returning-a-view-versus-a-copy\n",
      "  temp_multi['number_filter'] = filter_types\n",
      "<ipython-input-13-8bc6428979cb>:35: SettingWithCopyWarning: \n",
      "A value is trying to be set on a copy of a slice from a DataFrame.\n",
      "Try using .loc[row_indexer,col_indexer] = value instead\n",
      "\n",
      "See the caveats in the documentation: https://pandas.pydata.org/pandas-docs/stable/user_guide/indexing.html#returning-a-view-versus-a-copy\n",
      "  missing_lsoa_road['lsoa11cd'] = [street_number_to_lsoa(temp_road, int(missing_lsoa_road.iloc[missing_lsoa_row]['street_number2']))\n",
      "<ipython-input-13-8bc6428979cb>:9: FutureWarning: The default value of regex will change from True to False in a future version.\n",
      "  missing_lsoa_df.loc[:,'street_number2'] = missing_lsoa_df.loc[:,'street_number'].str.replace(r\"^.*(?=\\b[0-9]+$)\", \"\").str.replace(r\"[^\\d]\", \"\", regex = True)\n",
      "<ipython-input-13-8bc6428979cb>:9: SettingWithCopyWarning: \n",
      "A value is trying to be set on a copy of a slice from a DataFrame.\n",
      "Try using .loc[row_indexer,col_indexer] = value instead\n",
      "\n",
      "See the caveats in the documentation: https://pandas.pydata.org/pandas-docs/stable/user_guide/indexing.html#returning-a-view-versus-a-copy\n",
      "  missing_lsoa_df.loc[:,'street_number2'] = missing_lsoa_df.loc[:,'street_number'].str.replace(r\"^.*(?=\\b[0-9]+$)\", \"\").str.replace(r\"[^\\d]\", \"\", regex = True)\n"
     ]
    },
    {
     "name": "stdout",
     "output_type": "stream",
     "text": [
      "i= 0  expand time,0.0 filter time0.0 make_dataframe_time 0.001\n",
      "princetondrive\n",
      "highstreet\n",
      "nortonroad\n",
      "E06000001\n"
     ]
    },
    {
     "name": "stderr",
     "output_type": "stream",
     "text": [
      "/tf/empty_homes_london/helper_functions.py:272: SettingWithCopyWarning: \n",
      "A value is trying to be set on a copy of a slice from a DataFrame.\n",
      "Try using .loc[row_indexer,col_indexer] = value instead\n",
      "\n",
      "See the caveats in the documentation: https://pandas.pydata.org/pandas-docs/stable/user_guide/indexing.html#returning-a-view-versus-a-copy\n",
      "  temp_multi['number_filter'] = filter_types\n",
      "<ipython-input-13-8bc6428979cb>:35: SettingWithCopyWarning: \n",
      "A value is trying to be set on a copy of a slice from a DataFrame.\n",
      "Try using .loc[row_indexer,col_indexer] = value instead\n",
      "\n",
      "See the caveats in the documentation: https://pandas.pydata.org/pandas-docs/stable/user_guide/indexing.html#returning-a-view-versus-a-copy\n",
      "  missing_lsoa_road['lsoa11cd'] = [street_number_to_lsoa(temp_road, int(missing_lsoa_road.iloc[missing_lsoa_row]['street_number2']))\n",
      "<ipython-input-13-8bc6428979cb>:9: FutureWarning: The default value of regex will change from True to False in a future version.\n",
      "  missing_lsoa_df.loc[:,'street_number2'] = missing_lsoa_df.loc[:,'street_number'].str.replace(r\"^.*(?=\\b[0-9]+$)\", \"\").str.replace(r\"[^\\d]\", \"\", regex = True)\n",
      "<ipython-input-13-8bc6428979cb>:9: SettingWithCopyWarning: \n",
      "A value is trying to be set on a copy of a slice from a DataFrame.\n",
      "Try using .loc[row_indexer,col_indexer] = value instead\n",
      "\n",
      "See the caveats in the documentation: https://pandas.pydata.org/pandas-docs/stable/user_guide/indexing.html#returning-a-view-versus-a-copy\n",
      "  missing_lsoa_df.loc[:,'street_number2'] = missing_lsoa_df.loc[:,'street_number'].str.replace(r\"^.*(?=\\b[0-9]+$)\", \"\").str.replace(r\"[^\\d]\", \"\", regex = True)\n"
     ]
    },
    {
     "name": "stdout",
     "output_type": "stream",
     "text": [
      "i= 0  expand time,0.0 filter time0.0 make_dataframe_time 0.001\n",
      "seatonlane\n",
      "brendaroad\n",
      "W06000008\n",
      "queenstreet\n",
      "avondale\n",
      "E07000140\n"
     ]
    },
    {
     "name": "stderr",
     "output_type": "stream",
     "text": [
      "<ipython-input-13-8bc6428979cb>:35: SettingWithCopyWarning: \n",
      "A value is trying to be set on a copy of a slice from a DataFrame.\n",
      "Try using .loc[row_indexer,col_indexer] = value instead\n",
      "\n",
      "See the caveats in the documentation: https://pandas.pydata.org/pandas-docs/stable/user_guide/indexing.html#returning-a-view-versus-a-copy\n",
      "  missing_lsoa_road['lsoa11cd'] = [street_number_to_lsoa(temp_road, int(missing_lsoa_road.iloc[missing_lsoa_row]['street_number2']))\n",
      "<ipython-input-13-8bc6428979cb>:9: FutureWarning: The default value of regex will change from True to False in a future version.\n",
      "  missing_lsoa_df.loc[:,'street_number2'] = missing_lsoa_df.loc[:,'street_number'].str.replace(r\"^.*(?=\\b[0-9]+$)\", \"\").str.replace(r\"[^\\d]\", \"\", regex = True)\n",
      "<ipython-input-13-8bc6428979cb>:9: SettingWithCopyWarning: \n",
      "A value is trying to be set on a copy of a slice from a DataFrame.\n",
      "Try using .loc[row_indexer,col_indexer] = value instead\n",
      "\n",
      "See the caveats in the documentation: https://pandas.pydata.org/pandas-docs/stable/user_guide/indexing.html#returning-a-view-versus-a-copy\n",
      "  missing_lsoa_df.loc[:,'street_number2'] = missing_lsoa_df.loc[:,'street_number'].str.replace(r\"^.*(?=\\b[0-9]+$)\", \"\").str.replace(r\"[^\\d]\", \"\", regex = True)\n"
     ]
    },
    {
     "name": "stdout",
     "output_type": "stream",
     "text": [
      "westmarshroad\n",
      "E07000138\n"
     ]
    },
    {
     "name": "stderr",
     "output_type": "stream",
     "text": [
      "<ipython-input-13-8bc6428979cb>:9: FutureWarning: The default value of regex will change from True to False in a future version.\n",
      "  missing_lsoa_df.loc[:,'street_number2'] = missing_lsoa_df.loc[:,'street_number'].str.replace(r\"^.*(?=\\b[0-9]+$)\", \"\").str.replace(r\"[^\\d]\", \"\", regex = True)\n",
      "<ipython-input-13-8bc6428979cb>:9: SettingWithCopyWarning: \n",
      "A value is trying to be set on a copy of a slice from a DataFrame.\n",
      "Try using .loc[row_indexer,col_indexer] = value instead\n",
      "\n",
      "See the caveats in the documentation: https://pandas.pydata.org/pandas-docs/stable/user_guide/indexing.html#returning-a-view-versus-a-copy\n",
      "  missing_lsoa_df.loc[:,'street_number2'] = missing_lsoa_df.loc[:,'street_number'].str.replace(r\"^.*(?=\\b[0-9]+$)\", \"\").str.replace(r\"[^\\d]\", \"\", regex = True)\n",
      "/tf/empty_homes_london/helper_functions.py:272: SettingWithCopyWarning: \n",
      "A value is trying to be set on a copy of a slice from a DataFrame.\n",
      "Try using .loc[row_indexer,col_indexer] = value instead\n",
      "\n",
      "See the caveats in the documentation: https://pandas.pydata.org/pandas-docs/stable/user_guide/indexing.html#returning-a-view-versus-a-copy\n",
      "  temp_multi['number_filter'] = filter_types\n",
      "<ipython-input-13-8bc6428979cb>:9: FutureWarning: The default value of regex will change from True to False in a future version.\n",
      "  missing_lsoa_df.loc[:,'street_number2'] = missing_lsoa_df.loc[:,'street_number'].str.replace(r\"^.*(?=\\b[0-9]+$)\", \"\").str.replace(r\"[^\\d]\", \"\", regex = True)\n",
      "<ipython-input-13-8bc6428979cb>:9: SettingWithCopyWarning: \n",
      "A value is trying to be set on a copy of a slice from a DataFrame.\n",
      "Try using .loc[row_indexer,col_indexer] = value instead\n",
      "\n",
      "See the caveats in the documentation: https://pandas.pydata.org/pandas-docs/stable/user_guide/indexing.html#returning-a-view-versus-a-copy\n",
      "  missing_lsoa_df.loc[:,'street_number2'] = missing_lsoa_df.loc[:,'street_number'].str.replace(r\"^.*(?=\\b[0-9]+$)\", \"\").str.replace(r\"[^\\d]\", \"\", regex = True)\n"
     ]
    },
    {
     "name": "stdout",
     "output_type": "stream",
     "text": [
      "i= 0  expand time,0.0 filter time0.0 make_dataframe_time 0.001\n",
      "carholmeroad\n",
      "E07000141\n"
     ]
    },
    {
     "name": "stderr",
     "output_type": "stream",
     "text": [
      "/tf/empty_homes_london/helper_functions.py:272: SettingWithCopyWarning: \n",
      "A value is trying to be set on a copy of a slice from a DataFrame.\n",
      "Try using .loc[row_indexer,col_indexer] = value instead\n",
      "\n",
      "See the caveats in the documentation: https://pandas.pydata.org/pandas-docs/stable/user_guide/indexing.html#returning-a-view-versus-a-copy\n",
      "  temp_multi['number_filter'] = filter_types\n",
      "<ipython-input-13-8bc6428979cb>:9: FutureWarning: The default value of regex will change from True to False in a future version.\n",
      "  missing_lsoa_df.loc[:,'street_number2'] = missing_lsoa_df.loc[:,'street_number'].str.replace(r\"^.*(?=\\b[0-9]+$)\", \"\").str.replace(r\"[^\\d]\", \"\", regex = True)\n",
      "<ipython-input-13-8bc6428979cb>:9: SettingWithCopyWarning: \n",
      "A value is trying to be set on a copy of a slice from a DataFrame.\n",
      "Try using .loc[row_indexer,col_indexer] = value instead\n",
      "\n",
      "See the caveats in the documentation: https://pandas.pydata.org/pandas-docs/stable/user_guide/indexing.html#returning-a-view-versus-a-copy\n",
      "  missing_lsoa_df.loc[:,'street_number2'] = missing_lsoa_df.loc[:,'street_number'].str.replace(r\"^.*(?=\\b[0-9]+$)\", \"\").str.replace(r\"[^\\d]\", \"\", regex = True)\n"
     ]
    },
    {
     "name": "stdout",
     "output_type": "stream",
     "text": [
      "i= 0  expand time,0.0 filter time0.0 make_dataframe_time 0.001\n",
      "stpeterhill\n",
      "E07000028\n"
     ]
    },
    {
     "name": "stderr",
     "output_type": "stream",
     "text": [
      "/tf/empty_homes_london/helper_functions.py:272: SettingWithCopyWarning: \n",
      "A value is trying to be set on a copy of a slice from a DataFrame.\n",
      "Try using .loc[row_indexer,col_indexer] = value instead\n",
      "\n",
      "See the caveats in the documentation: https://pandas.pydata.org/pandas-docs/stable/user_guide/indexing.html#returning-a-view-versus-a-copy\n",
      "  temp_multi['number_filter'] = filter_types\n",
      "<ipython-input-13-8bc6428979cb>:9: FutureWarning: The default value of regex will change from True to False in a future version.\n",
      "  missing_lsoa_df.loc[:,'street_number2'] = missing_lsoa_df.loc[:,'street_number'].str.replace(r\"^.*(?=\\b[0-9]+$)\", \"\").str.replace(r\"[^\\d]\", \"\", regex = True)\n",
      "<ipython-input-13-8bc6428979cb>:9: SettingWithCopyWarning: \n",
      "A value is trying to be set on a copy of a slice from a DataFrame.\n",
      "Try using .loc[row_indexer,col_indexer] = value instead\n",
      "\n",
      "See the caveats in the documentation: https://pandas.pydata.org/pandas-docs/stable/user_guide/indexing.html#returning-a-view-versus-a-copy\n",
      "  missing_lsoa_df.loc[:,'street_number2'] = missing_lsoa_df.loc[:,'street_number'].str.replace(r\"^.*(?=\\b[0-9]+$)\", \"\").str.replace(r\"[^\\d]\", \"\", regex = True)\n"
     ]
    },
    {
     "name": "stdout",
     "output_type": "stream",
     "text": [
      "i= 0  expand time,0.0 filter time0.0 make_dataframe_time 0.001\n",
      "englishstreet\n",
      "E06000027\n",
      "brixhamroad\n",
      "E07000040\n"
     ]
    },
    {
     "name": "stderr",
     "output_type": "stream",
     "text": [
      "<ipython-input-13-8bc6428979cb>:9: FutureWarning: The default value of regex will change from True to False in a future version.\n",
      "  missing_lsoa_df.loc[:,'street_number2'] = missing_lsoa_df.loc[:,'street_number'].str.replace(r\"^.*(?=\\b[0-9]+$)\", \"\").str.replace(r\"[^\\d]\", \"\", regex = True)\n",
      "<ipython-input-13-8bc6428979cb>:9: SettingWithCopyWarning: \n",
      "A value is trying to be set on a copy of a slice from a DataFrame.\n",
      "Try using .loc[row_indexer,col_indexer] = value instead\n",
      "\n",
      "See the caveats in the documentation: https://pandas.pydata.org/pandas-docs/stable/user_guide/indexing.html#returning-a-view-versus-a-copy\n",
      "  missing_lsoa_df.loc[:,'street_number2'] = missing_lsoa_df.loc[:,'street_number'].str.replace(r\"^.*(?=\\b[0-9]+$)\", \"\").str.replace(r\"[^\\d]\", \"\", regex = True)\n"
     ]
    },
    {
     "name": "stdout",
     "output_type": "stream",
     "text": [
      "forestreet\n",
      "E07000041\n"
     ]
    },
    {
     "name": "stderr",
     "output_type": "stream",
     "text": [
      "<ipython-input-13-8bc6428979cb>:9: FutureWarning: The default value of regex will change from True to False in a future version.\n",
      "  missing_lsoa_df.loc[:,'street_number2'] = missing_lsoa_df.loc[:,'street_number'].str.replace(r\"^.*(?=\\b[0-9]+$)\", \"\").str.replace(r\"[^\\d]\", \"\", regex = True)\n",
      "<ipython-input-13-8bc6428979cb>:9: SettingWithCopyWarning: \n",
      "A value is trying to be set on a copy of a slice from a DataFrame.\n",
      "Try using .loc[row_indexer,col_indexer] = value instead\n",
      "\n",
      "See the caveats in the documentation: https://pandas.pydata.org/pandas-docs/stable/user_guide/indexing.html#returning-a-view-versus-a-copy\n",
      "  missing_lsoa_df.loc[:,'street_number2'] = missing_lsoa_df.loc[:,'street_number'].str.replace(r\"^.*(?=\\b[0-9]+$)\", \"\").str.replace(r\"[^\\d]\", \"\", regex = True)\n",
      "/tf/empty_homes_london/helper_functions.py:272: SettingWithCopyWarning: \n",
      "A value is trying to be set on a copy of a slice from a DataFrame.\n",
      "Try using .loc[row_indexer,col_indexer] = value instead\n",
      "\n",
      "See the caveats in the documentation: https://pandas.pydata.org/pandas-docs/stable/user_guide/indexing.html#returning-a-view-versus-a-copy\n",
      "  temp_multi['number_filter'] = filter_types\n",
      "<ipython-input-13-8bc6428979cb>:9: FutureWarning: The default value of regex will change from True to False in a future version.\n",
      "  missing_lsoa_df.loc[:,'street_number2'] = missing_lsoa_df.loc[:,'street_number'].str.replace(r\"^.*(?=\\b[0-9]+$)\", \"\").str.replace(r\"[^\\d]\", \"\", regex = True)\n",
      "<ipython-input-13-8bc6428979cb>:9: SettingWithCopyWarning: \n",
      "A value is trying to be set on a copy of a slice from a DataFrame.\n",
      "Try using .loc[row_indexer,col_indexer] = value instead\n",
      "\n",
      "See the caveats in the documentation: https://pandas.pydata.org/pandas-docs/stable/user_guide/indexing.html#returning-a-view-versus-a-copy\n",
      "  missing_lsoa_df.loc[:,'street_number2'] = missing_lsoa_df.loc[:,'street_number'].str.replace(r\"^.*(?=\\b[0-9]+$)\", \"\").str.replace(r\"[^\\d]\", \"\", regex = True)\n"
     ]
    },
    {
     "name": "stdout",
     "output_type": "stream",
     "text": [
      "i= 0  expand time,0.0 filter time0.0 make_dataframe_time 0.001\n",
      "southernhaygardens\n",
      "E06000034\n"
     ]
    },
    {
     "name": "stderr",
     "output_type": "stream",
     "text": [
      "/tf/empty_homes_london/helper_functions.py:272: SettingWithCopyWarning: \n",
      "A value is trying to be set on a copy of a slice from a DataFrame.\n",
      "Try using .loc[row_indexer,col_indexer] = value instead\n",
      "\n",
      "See the caveats in the documentation: https://pandas.pydata.org/pandas-docs/stable/user_guide/indexing.html#returning-a-view-versus-a-copy\n",
      "  temp_multi['number_filter'] = filter_types\n",
      "<ipython-input-13-8bc6428979cb>:35: SettingWithCopyWarning: \n",
      "A value is trying to be set on a copy of a slice from a DataFrame.\n",
      "Try using .loc[row_indexer,col_indexer] = value instead\n",
      "\n",
      "See the caveats in the documentation: https://pandas.pydata.org/pandas-docs/stable/user_guide/indexing.html#returning-a-view-versus-a-copy\n",
      "  missing_lsoa_road['lsoa11cd'] = [street_number_to_lsoa(temp_road, int(missing_lsoa_road.iloc[missing_lsoa_row]['street_number2']))\n",
      "<ipython-input-13-8bc6428979cb>:9: FutureWarning: The default value of regex will change from True to False in a future version.\n",
      "  missing_lsoa_df.loc[:,'street_number2'] = missing_lsoa_df.loc[:,'street_number'].str.replace(r\"^.*(?=\\b[0-9]+$)\", \"\").str.replace(r\"[^\\d]\", \"\", regex = True)\n",
      "<ipython-input-13-8bc6428979cb>:9: SettingWithCopyWarning: \n",
      "A value is trying to be set on a copy of a slice from a DataFrame.\n",
      "Try using .loc[row_indexer,col_indexer] = value instead\n",
      "\n",
      "See the caveats in the documentation: https://pandas.pydata.org/pandas-docs/stable/user_guide/indexing.html#returning-a-view-versus-a-copy\n",
      "  missing_lsoa_df.loc[:,'street_number2'] = missing_lsoa_df.loc[:,'street_number'].str.replace(r\"^.*(?=\\b[0-9]+$)\", \"\").str.replace(r\"[^\\d]\", \"\", regex = True)\n"
     ]
    },
    {
     "name": "stdout",
     "output_type": "stream",
     "text": [
      "i= 0  expand time,0.0 filter time0.0 make_dataframe_time 0.001\n",
      "lionridge\n",
      "londonroad\n",
      "E07000036\n"
     ]
    },
    {
     "name": "stderr",
     "output_type": "stream",
     "text": [
      "/tf/empty_homes_london/helper_functions.py:272: SettingWithCopyWarning: \n",
      "A value is trying to be set on a copy of a slice from a DataFrame.\n",
      "Try using .loc[row_indexer,col_indexer] = value instead\n",
      "\n",
      "See the caveats in the documentation: https://pandas.pydata.org/pandas-docs/stable/user_guide/indexing.html#returning-a-view-versus-a-copy\n",
      "  temp_multi['number_filter'] = filter_types\n",
      "<ipython-input-13-8bc6428979cb>:35: SettingWithCopyWarning: \n",
      "A value is trying to be set on a copy of a slice from a DataFrame.\n",
      "Try using .loc[row_indexer,col_indexer] = value instead\n",
      "\n",
      "See the caveats in the documentation: https://pandas.pydata.org/pandas-docs/stable/user_guide/indexing.html#returning-a-view-versus-a-copy\n",
      "  missing_lsoa_road['lsoa11cd'] = [street_number_to_lsoa(temp_road, int(missing_lsoa_road.iloc[missing_lsoa_row]['street_number2']))\n",
      "<ipython-input-13-8bc6428979cb>:9: FutureWarning: The default value of regex will change from True to False in a future version.\n",
      "  missing_lsoa_df.loc[:,'street_number2'] = missing_lsoa_df.loc[:,'street_number'].str.replace(r\"^.*(?=\\b[0-9]+$)\", \"\").str.replace(r\"[^\\d]\", \"\", regex = True)\n",
      "<ipython-input-13-8bc6428979cb>:9: SettingWithCopyWarning: \n",
      "A value is trying to be set on a copy of a slice from a DataFrame.\n",
      "Try using .loc[row_indexer,col_indexer] = value instead\n",
      "\n",
      "See the caveats in the documentation: https://pandas.pydata.org/pandas-docs/stable/user_guide/indexing.html#returning-a-view-versus-a-copy\n",
      "  missing_lsoa_df.loc[:,'street_number2'] = missing_lsoa_df.loc[:,'street_number'].str.replace(r\"^.*(?=\\b[0-9]+$)\", \"\").str.replace(r\"[^\\d]\", \"\", regex = True)\n"
     ]
    },
    {
     "name": "stdout",
     "output_type": "stream",
     "text": [
      "i= 0  expand time,0.0 filter time0.0 make_dataframe_time 0.001\n",
      "derbyroad\n",
      "bridgestreet\n",
      "nelsonstreet\n",
      "E07000092\n"
     ]
    },
    {
     "name": "stderr",
     "output_type": "stream",
     "text": [
      "/tf/empty_homes_london/helper_functions.py:272: SettingWithCopyWarning: \n",
      "A value is trying to be set on a copy of a slice from a DataFrame.\n",
      "Try using .loc[row_indexer,col_indexer] = value instead\n",
      "\n",
      "See the caveats in the documentation: https://pandas.pydata.org/pandas-docs/stable/user_guide/indexing.html#returning-a-view-versus-a-copy\n",
      "  temp_multi['number_filter'] = filter_types\n",
      "<ipython-input-13-8bc6428979cb>:35: SettingWithCopyWarning: \n",
      "A value is trying to be set on a copy of a slice from a DataFrame.\n",
      "Try using .loc[row_indexer,col_indexer] = value instead\n",
      "\n",
      "See the caveats in the documentation: https://pandas.pydata.org/pandas-docs/stable/user_guide/indexing.html#returning-a-view-versus-a-copy\n",
      "  missing_lsoa_road['lsoa11cd'] = [street_number_to_lsoa(temp_road, int(missing_lsoa_road.iloc[missing_lsoa_row]['street_number2']))\n",
      "<ipython-input-13-8bc6428979cb>:9: FutureWarning: The default value of regex will change from True to False in a future version.\n",
      "  missing_lsoa_df.loc[:,'street_number2'] = missing_lsoa_df.loc[:,'street_number'].str.replace(r\"^.*(?=\\b[0-9]+$)\", \"\").str.replace(r\"[^\\d]\", \"\", regex = True)\n",
      "<ipython-input-13-8bc6428979cb>:9: SettingWithCopyWarning: \n",
      "A value is trying to be set on a copy of a slice from a DataFrame.\n",
      "Try using .loc[row_indexer,col_indexer] = value instead\n",
      "\n",
      "See the caveats in the documentation: https://pandas.pydata.org/pandas-docs/stable/user_guide/indexing.html#returning-a-view-versus-a-copy\n",
      "  missing_lsoa_df.loc[:,'street_number2'] = missing_lsoa_df.loc[:,'street_number'].str.replace(r\"^.*(?=\\b[0-9]+$)\", \"\").str.replace(r\"[^\\d]\", \"\", regex = True)\n"
     ]
    },
    {
     "name": "stdout",
     "output_type": "stream",
     "text": [
      "i= 0  expand time,0.0 filter time0.0 make_dataframe_time 0.001\n",
      "lynchfordroad\n",
      "hawleylane\n",
      "prospectroad\n",
      "E07000149\n",
      "gateway\n",
      "E06000013\n"
     ]
    },
    {
     "name": "stderr",
     "output_type": "stream",
     "text": [
      "<ipython-input-13-8bc6428979cb>:9: FutureWarning: The default value of regex will change from True to False in a future version.\n",
      "  missing_lsoa_df.loc[:,'street_number2'] = missing_lsoa_df.loc[:,'street_number'].str.replace(r\"^.*(?=\\b[0-9]+$)\", \"\").str.replace(r\"[^\\d]\", \"\", regex = True)\n",
      "<ipython-input-13-8bc6428979cb>:9: SettingWithCopyWarning: \n",
      "A value is trying to be set on a copy of a slice from a DataFrame.\n",
      "Try using .loc[row_indexer,col_indexer] = value instead\n",
      "\n",
      "See the caveats in the documentation: https://pandas.pydata.org/pandas-docs/stable/user_guide/indexing.html#returning-a-view-versus-a-copy\n",
      "  missing_lsoa_df.loc[:,'street_number2'] = missing_lsoa_df.loc[:,'street_number'].str.replace(r\"^.*(?=\\b[0-9]+$)\", \"\").str.replace(r\"[^\\d]\", \"\", regex = True)\n"
     ]
    },
    {
     "name": "stdout",
     "output_type": "stream",
     "text": [
      "toproad\n",
      "E07000087\n"
     ]
    },
    {
     "name": "stderr",
     "output_type": "stream",
     "text": [
      "<ipython-input-13-8bc6428979cb>:9: FutureWarning: The default value of regex will change from True to False in a future version.\n",
      "  missing_lsoa_df.loc[:,'street_number2'] = missing_lsoa_df.loc[:,'street_number'].str.replace(r\"^.*(?=\\b[0-9]+$)\", \"\").str.replace(r\"[^\\d]\", \"\", regex = True)\n",
      "<ipython-input-13-8bc6428979cb>:9: SettingWithCopyWarning: \n",
      "A value is trying to be set on a copy of a slice from a DataFrame.\n",
      "Try using .loc[row_indexer,col_indexer] = value instead\n",
      "\n",
      "See the caveats in the documentation: https://pandas.pydata.org/pandas-docs/stable/user_guide/indexing.html#returning-a-view-versus-a-copy\n",
      "  missing_lsoa_df.loc[:,'street_number2'] = missing_lsoa_df.loc[:,'street_number'].str.replace(r\"^.*(?=\\b[0-9]+$)\", \"\").str.replace(r\"[^\\d]\", \"\", regex = True)\n",
      "/tf/empty_homes_london/helper_functions.py:272: SettingWithCopyWarning: \n",
      "A value is trying to be set on a copy of a slice from a DataFrame.\n",
      "Try using .loc[row_indexer,col_indexer] = value instead\n",
      "\n",
      "See the caveats in the documentation: https://pandas.pydata.org/pandas-docs/stable/user_guide/indexing.html#returning-a-view-versus-a-copy\n",
      "  temp_multi['number_filter'] = filter_types\n",
      "<ipython-input-13-8bc6428979cb>:35: SettingWithCopyWarning: \n",
      "A value is trying to be set on a copy of a slice from a DataFrame.\n",
      "Try using .loc[row_indexer,col_indexer] = value instead\n",
      "\n",
      "See the caveats in the documentation: https://pandas.pydata.org/pandas-docs/stable/user_guide/indexing.html#returning-a-view-versus-a-copy\n",
      "  missing_lsoa_road['lsoa11cd'] = [street_number_to_lsoa(temp_road, int(missing_lsoa_road.iloc[missing_lsoa_row]['street_number2']))\n",
      "<ipython-input-13-8bc6428979cb>:9: FutureWarning: The default value of regex will change from True to False in a future version.\n",
      "  missing_lsoa_df.loc[:,'street_number2'] = missing_lsoa_df.loc[:,'street_number'].str.replace(r\"^.*(?=\\b[0-9]+$)\", \"\").str.replace(r\"[^\\d]\", \"\", regex = True)\n",
      "<ipython-input-13-8bc6428979cb>:9: SettingWithCopyWarning: \n",
      "A value is trying to be set on a copy of a slice from a DataFrame.\n",
      "Try using .loc[row_indexer,col_indexer] = value instead\n",
      "\n",
      "See the caveats in the documentation: https://pandas.pydata.org/pandas-docs/stable/user_guide/indexing.html#returning-a-view-versus-a-copy\n",
      "  missing_lsoa_df.loc[:,'street_number2'] = missing_lsoa_df.loc[:,'street_number'].str.replace(r\"^.*(?=\\b[0-9]+$)\", \"\").str.replace(r\"[^\\d]\", \"\", regex = True)\n"
     ]
    },
    {
     "name": "stdout",
     "output_type": "stream",
     "text": [
      "i= 0  expand time,0.0 filter time0.0 make_dataframe_time 0.001\n",
      "meonterrace\n",
      "botleyroad\n",
      "weststreet\n",
      "E06000017\n"
     ]
    },
    {
     "name": "stderr",
     "output_type": "stream",
     "text": [
      "/tf/empty_homes_london/helper_functions.py:272: SettingWithCopyWarning: \n",
      "A value is trying to be set on a copy of a slice from a DataFrame.\n",
      "Try using .loc[row_indexer,col_indexer] = value instead\n",
      "\n",
      "See the caveats in the documentation: https://pandas.pydata.org/pandas-docs/stable/user_guide/indexing.html#returning-a-view-versus-a-copy\n",
      "  temp_multi['number_filter'] = filter_types\n",
      "<ipython-input-13-8bc6428979cb>:9: FutureWarning: The default value of regex will change from True to False in a future version.\n",
      "  missing_lsoa_df.loc[:,'street_number2'] = missing_lsoa_df.loc[:,'street_number'].str.replace(r\"^.*(?=\\b[0-9]+$)\", \"\").str.replace(r\"[^\\d]\", \"\", regex = True)\n",
      "<ipython-input-13-8bc6428979cb>:9: SettingWithCopyWarning: \n",
      "A value is trying to be set on a copy of a slice from a DataFrame.\n",
      "Try using .loc[row_indexer,col_indexer] = value instead\n",
      "\n",
      "See the caveats in the documentation: https://pandas.pydata.org/pandas-docs/stable/user_guide/indexing.html#returning-a-view-versus-a-copy\n",
      "  missing_lsoa_df.loc[:,'street_number2'] = missing_lsoa_df.loc[:,'street_number'].str.replace(r\"^.*(?=\\b[0-9]+$)\", \"\").str.replace(r\"[^\\d]\", \"\", regex = True)\n"
     ]
    },
    {
     "name": "stdout",
     "output_type": "stream",
     "text": [
      "i= 0  expand time,0.0 filter time0.0 make_dataframe_time 0.001\n",
      "highstreet\n",
      "E07000245\n"
     ]
    },
    {
     "name": "stderr",
     "output_type": "stream",
     "text": [
      "/tf/empty_homes_london/helper_functions.py:272: SettingWithCopyWarning: \n",
      "A value is trying to be set on a copy of a slice from a DataFrame.\n",
      "Try using .loc[row_indexer,col_indexer] = value instead\n",
      "\n",
      "See the caveats in the documentation: https://pandas.pydata.org/pandas-docs/stable/user_guide/indexing.html#returning-a-view-versus-a-copy\n",
      "  temp_multi['number_filter'] = filter_types\n",
      "<ipython-input-13-8bc6428979cb>:9: FutureWarning: The default value of regex will change from True to False in a future version.\n",
      "  missing_lsoa_df.loc[:,'street_number2'] = missing_lsoa_df.loc[:,'street_number'].str.replace(r\"^.*(?=\\b[0-9]+$)\", \"\").str.replace(r\"[^\\d]\", \"\", regex = True)\n",
      "<ipython-input-13-8bc6428979cb>:9: SettingWithCopyWarning: \n",
      "A value is trying to be set on a copy of a slice from a DataFrame.\n",
      "Try using .loc[row_indexer,col_indexer] = value instead\n",
      "\n",
      "See the caveats in the documentation: https://pandas.pydata.org/pandas-docs/stable/user_guide/indexing.html#returning-a-view-versus-a-copy\n",
      "  missing_lsoa_df.loc[:,'street_number2'] = missing_lsoa_df.loc[:,'street_number'].str.replace(r\"^.*(?=\\b[0-9]+$)\", \"\").str.replace(r\"[^\\d]\", \"\", regex = True)\n"
     ]
    },
    {
     "name": "stdout",
     "output_type": "stream",
     "text": [
      "i= 0  expand time,0.0 filter time0.0 make_dataframe_time 0.001\n",
      "highstreet\n",
      "E07000181\n"
     ]
    },
    {
     "name": "stderr",
     "output_type": "stream",
     "text": [
      "/tf/empty_homes_london/helper_functions.py:272: SettingWithCopyWarning: \n",
      "A value is trying to be set on a copy of a slice from a DataFrame.\n",
      "Try using .loc[row_indexer,col_indexer] = value instead\n",
      "\n",
      "See the caveats in the documentation: https://pandas.pydata.org/pandas-docs/stable/user_guide/indexing.html#returning-a-view-versus-a-copy\n",
      "  temp_multi['number_filter'] = filter_types\n",
      "<ipython-input-13-8bc6428979cb>:9: FutureWarning: The default value of regex will change from True to False in a future version.\n",
      "  missing_lsoa_df.loc[:,'street_number2'] = missing_lsoa_df.loc[:,'street_number'].str.replace(r\"^.*(?=\\b[0-9]+$)\", \"\").str.replace(r\"[^\\d]\", \"\", regex = True)\n",
      "<ipython-input-13-8bc6428979cb>:9: SettingWithCopyWarning: \n",
      "A value is trying to be set on a copy of a slice from a DataFrame.\n",
      "Try using .loc[row_indexer,col_indexer] = value instead\n",
      "\n",
      "See the caveats in the documentation: https://pandas.pydata.org/pandas-docs/stable/user_guide/indexing.html#returning-a-view-versus-a-copy\n",
      "  missing_lsoa_df.loc[:,'street_number2'] = missing_lsoa_df.loc[:,'street_number'].str.replace(r\"^.*(?=\\b[0-9]+$)\", \"\").str.replace(r\"[^\\d]\", \"\", regex = True)\n"
     ]
    },
    {
     "name": "stdout",
     "output_type": "stream",
     "text": [
      "i= 0  expand time,0.0 filter time0.0 make_dataframe_time 0.001\n",
      "highstreet\n",
      "E07000217\n",
      "mountsideplace\n",
      "E07000215\n"
     ]
    },
    {
     "name": "stderr",
     "output_type": "stream",
     "text": [
      "<ipython-input-13-8bc6428979cb>:9: FutureWarning: The default value of regex will change from True to False in a future version.\n",
      "  missing_lsoa_df.loc[:,'street_number2'] = missing_lsoa_df.loc[:,'street_number'].str.replace(r\"^.*(?=\\b[0-9]+$)\", \"\").str.replace(r\"[^\\d]\", \"\", regex = True)\n",
      "<ipython-input-13-8bc6428979cb>:9: SettingWithCopyWarning: \n",
      "A value is trying to be set on a copy of a slice from a DataFrame.\n",
      "Try using .loc[row_indexer,col_indexer] = value instead\n",
      "\n",
      "See the caveats in the documentation: https://pandas.pydata.org/pandas-docs/stable/user_guide/indexing.html#returning-a-view-versus-a-copy\n",
      "  missing_lsoa_df.loc[:,'street_number2'] = missing_lsoa_df.loc[:,'street_number'].str.replace(r\"^.*(?=\\b[0-9]+$)\", \"\").str.replace(r\"[^\\d]\", \"\", regex = True)\n"
     ]
    },
    {
     "name": "stdout",
     "output_type": "stream",
     "text": [
      "byerlane\n",
      "thesquare\n",
      "E07000166\n"
     ]
    },
    {
     "name": "stderr",
     "output_type": "stream",
     "text": [
      "<ipython-input-13-8bc6428979cb>:35: SettingWithCopyWarning: \n",
      "A value is trying to be set on a copy of a slice from a DataFrame.\n",
      "Try using .loc[row_indexer,col_indexer] = value instead\n",
      "\n",
      "See the caveats in the documentation: https://pandas.pydata.org/pandas-docs/stable/user_guide/indexing.html#returning-a-view-versus-a-copy\n",
      "  missing_lsoa_road['lsoa11cd'] = [street_number_to_lsoa(temp_road, int(missing_lsoa_road.iloc[missing_lsoa_row]['street_number2']))\n",
      "<ipython-input-13-8bc6428979cb>:9: FutureWarning: The default value of regex will change from True to False in a future version.\n",
      "  missing_lsoa_df.loc[:,'street_number2'] = missing_lsoa_df.loc[:,'street_number'].str.replace(r\"^.*(?=\\b[0-9]+$)\", \"\").str.replace(r\"[^\\d]\", \"\", regex = True)\n",
      "<ipython-input-13-8bc6428979cb>:9: SettingWithCopyWarning: \n",
      "A value is trying to be set on a copy of a slice from a DataFrame.\n",
      "Try using .loc[row_indexer,col_indexer] = value instead\n",
      "\n",
      "See the caveats in the documentation: https://pandas.pydata.org/pandas-docs/stable/user_guide/indexing.html#returning-a-view-versus-a-copy\n",
      "  missing_lsoa_df.loc[:,'street_number2'] = missing_lsoa_df.loc[:,'street_number'].str.replace(r\"^.*(?=\\b[0-9]+$)\", \"\").str.replace(r\"[^\\d]\", \"\", regex = True)\n",
      "/tf/empty_homes_london/helper_functions.py:272: SettingWithCopyWarning: \n",
      "A value is trying to be set on a copy of a slice from a DataFrame.\n",
      "Try using .loc[row_indexer,col_indexer] = value instead\n",
      "\n",
      "See the caveats in the documentation: https://pandas.pydata.org/pandas-docs/stable/user_guide/indexing.html#returning-a-view-versus-a-copy\n",
      "  temp_multi['number_filter'] = filter_types\n"
     ]
    },
    {
     "name": "stdout",
     "output_type": "stream",
     "text": [
      "i= 0  expand time,0.0 filter time0.0 make_dataframe_time 0.001\n",
      "marketplace\n"
     ]
    },
    {
     "data": {
      "text/html": [
       "<div>\n",
       "<style scoped>\n",
       "    .dataframe tbody tr th:only-of-type {\n",
       "        vertical-align: middle;\n",
       "    }\n",
       "\n",
       "    .dataframe tbody tr th {\n",
       "        vertical-align: top;\n",
       "    }\n",
       "\n",
       "    .dataframe thead th {\n",
       "        text-align: right;\n",
       "    }\n",
       "</style>\n",
       "<table border=\"1\" class=\"dataframe\">\n",
       "  <thead>\n",
       "    <tr style=\"text-align: right;\">\n",
       "      <th></th>\n",
       "      <th>Unnamed: 0</th>\n",
       "      <th>title_number</th>\n",
       "      <th>within_title_id</th>\n",
       "      <th>unique_id</th>\n",
       "      <th>within_larger_title</th>\n",
       "      <th>tenure</th>\n",
       "      <th>unit_id</th>\n",
       "      <th>unit_type</th>\n",
       "      <th>building_name</th>\n",
       "      <th>street_number</th>\n",
       "      <th>...</th>\n",
       "      <th>street_name2</th>\n",
       "      <th>lad11cd</th>\n",
       "      <th>business_counts</th>\n",
       "      <th>lsoa_street</th>\n",
       "      <th>lsoa_building</th>\n",
       "      <th>oa_building</th>\n",
       "      <th>oa_busi_building</th>\n",
       "      <th>lsoa_busi_building</th>\n",
       "      <th>lsoa_nested</th>\n",
       "      <th>oa_nested</th>\n",
       "    </tr>\n",
       "  </thead>\n",
       "  <tbody>\n",
       "    <tr>\n",
       "      <th>0</th>\n",
       "      <td>0</td>\n",
       "      <td>CB400630</td>\n",
       "      <td>1</td>\n",
       "      <td>CB400630-1</td>\n",
       "      <td>True</td>\n",
       "      <td>Freehold</td>\n",
       "      <td>NaN</td>\n",
       "      <td>NaN</td>\n",
       "      <td>NaN</td>\n",
       "      <td>2</td>\n",
       "      <td>...</td>\n",
       "      <td>millerway</td>\n",
       "      <td>E06000031</td>\n",
       "      <td>0.0</td>\n",
       "      <td>E01015611</td>\n",
       "      <td>NaN</td>\n",
       "      <td>NaN</td>\n",
       "      <td>NaN</td>\n",
       "      <td>NaN</td>\n",
       "      <td>E01015611</td>\n",
       "      <td>NaN</td>\n",
       "    </tr>\n",
       "    <tr>\n",
       "      <th>1</th>\n",
       "      <td>1</td>\n",
       "      <td>CB400630</td>\n",
       "      <td>2</td>\n",
       "      <td>CB400630-2</td>\n",
       "      <td>True</td>\n",
       "      <td>Freehold</td>\n",
       "      <td>NaN</td>\n",
       "      <td>NaN</td>\n",
       "      <td>NaN</td>\n",
       "      <td>4</td>\n",
       "      <td>...</td>\n",
       "      <td>millerway</td>\n",
       "      <td>E06000031</td>\n",
       "      <td>0.0</td>\n",
       "      <td>E01015611</td>\n",
       "      <td>NaN</td>\n",
       "      <td>NaN</td>\n",
       "      <td>NaN</td>\n",
       "      <td>NaN</td>\n",
       "      <td>E01015611</td>\n",
       "      <td>NaN</td>\n",
       "    </tr>\n",
       "    <tr>\n",
       "      <th>2</th>\n",
       "      <td>2</td>\n",
       "      <td>CB400630</td>\n",
       "      <td>3</td>\n",
       "      <td>CB400630-3</td>\n",
       "      <td>True</td>\n",
       "      <td>Freehold</td>\n",
       "      <td>NaN</td>\n",
       "      <td>NaN</td>\n",
       "      <td>NaN</td>\n",
       "      <td>6</td>\n",
       "      <td>...</td>\n",
       "      <td>millerway</td>\n",
       "      <td>E06000031</td>\n",
       "      <td>0.0</td>\n",
       "      <td>E01015611</td>\n",
       "      <td>NaN</td>\n",
       "      <td>NaN</td>\n",
       "      <td>NaN</td>\n",
       "      <td>NaN</td>\n",
       "      <td>E01015611</td>\n",
       "      <td>NaN</td>\n",
       "    </tr>\n",
       "    <tr>\n",
       "      <th>3</th>\n",
       "      <td>3</td>\n",
       "      <td>CB400630</td>\n",
       "      <td>4</td>\n",
       "      <td>CB400630-4</td>\n",
       "      <td>True</td>\n",
       "      <td>Freehold</td>\n",
       "      <td>NaN</td>\n",
       "      <td>NaN</td>\n",
       "      <td>NaN</td>\n",
       "      <td>8</td>\n",
       "      <td>...</td>\n",
       "      <td>millerway</td>\n",
       "      <td>E06000031</td>\n",
       "      <td>0.0</td>\n",
       "      <td>E01015611</td>\n",
       "      <td>NaN</td>\n",
       "      <td>NaN</td>\n",
       "      <td>NaN</td>\n",
       "      <td>NaN</td>\n",
       "      <td>E01015611</td>\n",
       "      <td>NaN</td>\n",
       "    </tr>\n",
       "    <tr>\n",
       "      <th>4</th>\n",
       "      <td>4</td>\n",
       "      <td>CB400630</td>\n",
       "      <td>5</td>\n",
       "      <td>CB400630-5</td>\n",
       "      <td>True</td>\n",
       "      <td>Freehold</td>\n",
       "      <td>NaN</td>\n",
       "      <td>NaN</td>\n",
       "      <td>NaN</td>\n",
       "      <td>10</td>\n",
       "      <td>...</td>\n",
       "      <td>millerway</td>\n",
       "      <td>E06000031</td>\n",
       "      <td>0.0</td>\n",
       "      <td>E01015611</td>\n",
       "      <td>NaN</td>\n",
       "      <td>NaN</td>\n",
       "      <td>NaN</td>\n",
       "      <td>NaN</td>\n",
       "      <td>E01015611</td>\n",
       "      <td>NaN</td>\n",
       "    </tr>\n",
       "    <tr>\n",
       "      <th>...</th>\n",
       "      <td>...</td>\n",
       "      <td>...</td>\n",
       "      <td>...</td>\n",
       "      <td>...</td>\n",
       "      <td>...</td>\n",
       "      <td>...</td>\n",
       "      <td>...</td>\n",
       "      <td>...</td>\n",
       "      <td>...</td>\n",
       "      <td>...</td>\n",
       "      <td>...</td>\n",
       "      <td>...</td>\n",
       "      <td>...</td>\n",
       "      <td>...</td>\n",
       "      <td>...</td>\n",
       "      <td>...</td>\n",
       "      <td>...</td>\n",
       "      <td>...</td>\n",
       "      <td>...</td>\n",
       "      <td>...</td>\n",
       "      <td>...</td>\n",
       "    </tr>\n",
       "    <tr>\n",
       "      <th>64656</th>\n",
       "      <td>68448</td>\n",
       "      <td>LT252380</td>\n",
       "      <td>1</td>\n",
       "      <td>LT252380-1</td>\n",
       "      <td>False</td>\n",
       "      <td>Freehold</td>\n",
       "      <td>NaN</td>\n",
       "      <td>NaN</td>\n",
       "      <td>NaN</td>\n",
       "      <td>22</td>\n",
       "      <td>...</td>\n",
       "      <td>highstreet</td>\n",
       "      <td>E06000017</td>\n",
       "      <td>0.0</td>\n",
       "      <td>NaN</td>\n",
       "      <td>NaN</td>\n",
       "      <td>NaN</td>\n",
       "      <td>NaN</td>\n",
       "      <td>NaN</td>\n",
       "      <td>NaN</td>\n",
       "      <td>NaN</td>\n",
       "    </tr>\n",
       "    <tr>\n",
       "      <th>64684</th>\n",
       "      <td>58282</td>\n",
       "      <td>SK248403</td>\n",
       "      <td>1</td>\n",
       "      <td>SK248403-1</td>\n",
       "      <td>False</td>\n",
       "      <td>Leasehold</td>\n",
       "      <td>NaN</td>\n",
       "      <td>parking space</td>\n",
       "      <td>NaN</td>\n",
       "      <td>67</td>\n",
       "      <td>...</td>\n",
       "      <td>highstreet</td>\n",
       "      <td>E07000245</td>\n",
       "      <td>0.0</td>\n",
       "      <td>NaN</td>\n",
       "      <td>NaN</td>\n",
       "      <td>NaN</td>\n",
       "      <td>NaN</td>\n",
       "      <td>NaN</td>\n",
       "      <td>NaN</td>\n",
       "      <td>NaN</td>\n",
       "    </tr>\n",
       "    <tr>\n",
       "      <th>64767</th>\n",
       "      <td>62837</td>\n",
       "      <td>ON137736</td>\n",
       "      <td>1</td>\n",
       "      <td>ON137736-1</td>\n",
       "      <td>False</td>\n",
       "      <td>Freehold</td>\n",
       "      <td>NaN</td>\n",
       "      <td>NaN</td>\n",
       "      <td>NaN</td>\n",
       "      <td>2-8</td>\n",
       "      <td>...</td>\n",
       "      <td>highstreet</td>\n",
       "      <td>E07000181</td>\n",
       "      <td>0.0</td>\n",
       "      <td>NaN</td>\n",
       "      <td>NaN</td>\n",
       "      <td>NaN</td>\n",
       "      <td>NaN</td>\n",
       "      <td>NaN</td>\n",
       "      <td>NaN</td>\n",
       "      <td>NaN</td>\n",
       "    </tr>\n",
       "    <tr>\n",
       "      <th>64887</th>\n",
       "      <td>19425</td>\n",
       "      <td>SY64666</td>\n",
       "      <td>1</td>\n",
       "      <td>SY64666-1</td>\n",
       "      <td>False</td>\n",
       "      <td>Freehold</td>\n",
       "      <td>NaN</td>\n",
       "      <td>NaN</td>\n",
       "      <td>NaN</td>\n",
       "      <td>8 to 14</td>\n",
       "      <td>...</td>\n",
       "      <td>thesquare</td>\n",
       "      <td>E07000215</td>\n",
       "      <td>0.0</td>\n",
       "      <td>NaN</td>\n",
       "      <td>NaN</td>\n",
       "      <td>NaN</td>\n",
       "      <td>NaN</td>\n",
       "      <td>NaN</td>\n",
       "      <td>NaN</td>\n",
       "      <td>NaN</td>\n",
       "    </tr>\n",
       "    <tr>\n",
       "      <th>65022</th>\n",
       "      <td>62698</td>\n",
       "      <td>NYK93166</td>\n",
       "      <td>1</td>\n",
       "      <td>NYK93166-1</td>\n",
       "      <td>False</td>\n",
       "      <td>Freehold</td>\n",
       "      <td>NaN</td>\n",
       "      <td>NaN</td>\n",
       "      <td>NaN</td>\n",
       "      <td>15</td>\n",
       "      <td>...</td>\n",
       "      <td>marketplace</td>\n",
       "      <td>E07000166</td>\n",
       "      <td>0.0</td>\n",
       "      <td>NaN</td>\n",
       "      <td>NaN</td>\n",
       "      <td>NaN</td>\n",
       "      <td>NaN</td>\n",
       "      <td>NaN</td>\n",
       "      <td>NaN</td>\n",
       "      <td>NaN</td>\n",
       "    </tr>\n",
       "  </tbody>\n",
       "</table>\n",
       "<p>194930 rows × 34 columns</p>\n",
       "</div>"
      ],
      "text/plain": [
       "       Unnamed: 0 title_number  within_title_id   unique_id  \\\n",
       "0               0     CB400630                1  CB400630-1   \n",
       "1               1     CB400630                2  CB400630-2   \n",
       "2               2     CB400630                3  CB400630-3   \n",
       "3               3     CB400630                4  CB400630-4   \n",
       "4               4     CB400630                5  CB400630-5   \n",
       "...           ...          ...              ...         ...   \n",
       "64656       68448     LT252380                1  LT252380-1   \n",
       "64684       58282     SK248403                1  SK248403-1   \n",
       "64767       62837     ON137736                1  ON137736-1   \n",
       "64887       19425      SY64666                1   SY64666-1   \n",
       "65022       62698     NYK93166                1  NYK93166-1   \n",
       "\n",
       "       within_larger_title     tenure unit_id      unit_type building_name  \\\n",
       "0                     True   Freehold     NaN            NaN           NaN   \n",
       "1                     True   Freehold     NaN            NaN           NaN   \n",
       "2                     True   Freehold     NaN            NaN           NaN   \n",
       "3                     True   Freehold     NaN            NaN           NaN   \n",
       "4                     True   Freehold     NaN            NaN           NaN   \n",
       "...                    ...        ...     ...            ...           ...   \n",
       "64656                False   Freehold     NaN            NaN           NaN   \n",
       "64684                False  Leasehold     NaN  parking space           NaN   \n",
       "64767                False   Freehold     NaN            NaN           NaN   \n",
       "64887                False   Freehold     NaN            NaN           NaN   \n",
       "65022                False   Freehold     NaN            NaN           NaN   \n",
       "\n",
       "      street_number  ... street_name2    lad11cd business_counts lsoa_street  \\\n",
       "0                 2  ...    millerway  E06000031             0.0   E01015611   \n",
       "1                 4  ...    millerway  E06000031             0.0   E01015611   \n",
       "2                 6  ...    millerway  E06000031             0.0   E01015611   \n",
       "3                 8  ...    millerway  E06000031             0.0   E01015611   \n",
       "4                10  ...    millerway  E06000031             0.0   E01015611   \n",
       "...             ...  ...          ...        ...             ...         ...   \n",
       "64656            22  ...   highstreet  E06000017             0.0         NaN   \n",
       "64684            67  ...   highstreet  E07000245             0.0         NaN   \n",
       "64767           2-8  ...   highstreet  E07000181             0.0         NaN   \n",
       "64887       8 to 14  ...    thesquare  E07000215             0.0         NaN   \n",
       "65022            15  ...  marketplace  E07000166             0.0         NaN   \n",
       "\n",
       "      lsoa_building oa_building oa_busi_building  lsoa_busi_building  \\\n",
       "0               NaN         NaN              NaN                 NaN   \n",
       "1               NaN         NaN              NaN                 NaN   \n",
       "2               NaN         NaN              NaN                 NaN   \n",
       "3               NaN         NaN              NaN                 NaN   \n",
       "4               NaN         NaN              NaN                 NaN   \n",
       "...             ...         ...              ...                 ...   \n",
       "64656           NaN         NaN              NaN                 NaN   \n",
       "64684           NaN         NaN              NaN                 NaN   \n",
       "64767           NaN         NaN              NaN                 NaN   \n",
       "64887           NaN         NaN              NaN                 NaN   \n",
       "65022           NaN         NaN              NaN                 NaN   \n",
       "\n",
       "      lsoa_nested oa_nested  \n",
       "0       E01015611       NaN  \n",
       "1       E01015611       NaN  \n",
       "2       E01015611       NaN  \n",
       "3       E01015611       NaN  \n",
       "4       E01015611       NaN  \n",
       "...           ...       ...  \n",
       "64656         NaN       NaN  \n",
       "64684         NaN       NaN  \n",
       "64767         NaN       NaN  \n",
       "64887         NaN       NaN  \n",
       "65022         NaN       NaN  \n",
       "\n",
       "[194930 rows x 34 columns]"
      ]
     },
     "execution_count": 13,
     "metadata": {},
     "output_type": "execute_result"
    }
   ],
   "source": [
    "filled_lsoa_list = []\n",
    "\n",
    "unique_lad_codes = ocod_data[ocod_data['street_name'].notnull() & ocod_data['street_number'].notnull() & ocod_data['lsoa11cd'].isnull()]['lad11cd'].unique()\n",
    "\n",
    "for target_lad in unique_lad_codes:\n",
    "    print(target_lad)\n",
    "    #subset to the relevat rows within a single lad\n",
    "    missing_lsoa_df = ocod_data[ocod_data['street_name'].notnull() & ocod_data['street_number'].notnull() & ocod_data['lsoa11cd'].isnull() & (ocod_data['lad11cd']==target_lad)]\n",
    "    missing_lsoa_df.loc[:,'street_number2'] = missing_lsoa_df.loc[:,'street_number'].str.replace(r\"^.*(?=\\b[0-9]+$)\", \"\").str.replace(r\"[^\\d]\", \"\", regex = True)\n",
    "\n",
    "    target_street_names = missing_lsoa_df['street_name2'].unique()\n",
    "\n",
    "    temp_lsoa = pd.concat([\n",
    "        #the price paid data with names changed\n",
    "        price_paid_df[price_paid_df['street_name2'].isin(target_street_names )  & \n",
    "                                    (price_paid_df['lad11cd']==target_lad) ], \n",
    "      #voa data added in                \n",
    "                      voa_businesses[(voa_businesses['lad11cd']==target_lad)]]\n",
    "                                                    )[['street_name2', 'street_number', 'lsoa11cd', 'lad11cd']].dropna(axis = 0, how = 'any', inplace = False)\n",
    "\n",
    "    temp_lsoa.loc[:,'street_number2'] = temp_lsoa.loc[:,'street_number'].str.replace(r\"^.*(?=\\b[0-9]+$)\", \"\", regex = True).str.replace(r\"[^\\d]\", \"\", regex = True)\n",
    "    \n",
    "    temp_lsoa  = create_all_street_addresses(temp_lsoa[temp_lsoa['street_name2'].isin(target_street_names ) & \n",
    "                                            temp_lsoa['street_number2'].notnull()], \n",
    "                                       target_lad, \n",
    "                                       ['street_name2', 'street_number2', 'lsoa11cd'])\n",
    "    \n",
    "\n",
    "    for target_road in target_street_names:\n",
    "        print(target_road)\n",
    "        missing_lsoa_road = missing_lsoa_df[missing_lsoa_df['street_name2']== target_road ]\n",
    "        temp_road = temp_lsoa[temp_lsoa['street_name2'] ==target_road ]\n",
    "\n",
    "        if len(temp_road)>0:\n",
    "            missing_lsoa_road['lsoa11cd'] = [street_number_to_lsoa(temp_road, int(missing_lsoa_road.iloc[missing_lsoa_row]['street_number2'])) \n",
    "                                             for missing_lsoa_row \n",
    "                                             in range(0, len(missing_lsoa_road))]\n",
    "            filled_lsoa_list = filled_lsoa_list + [missing_lsoa_road]\n",
    " \n",
    "#join the list back together\n",
    "temp_lsoa = pd.concat(filled_lsoa_list)\n",
    "\n",
    "#join the ocod dataset backtogether\n",
    "ocod_data = pd.concat([ocod_data[~ocod_data['unique_id'].isin(temp_lsoa['unique_id'])], temp_lsoa ] )\n",
    "ocod_data\n"
   ]
  },
  {
   "cell_type": "code",
   "execution_count": 14,
   "id": "86c906e1",
   "metadata": {},
   "outputs": [],
   "source": [
    "#Doing this grouped nested business a second time pushes lsoa ID over 90% which seems good enough for me\n",
    "\n",
    "#after all other lsoa adding methods are completed\n",
    "#all nested properties with missing lsoa have the lsoa of the other properties within their group added\n",
    "\n",
    "temp = ocod_data.loc[(ocod_data['lsoa11cd'].notnull()) & (ocod_data['within_larger_title']==True) ,['lsoa11cd', 'title_number']].\\\n",
    "groupby(['lsoa11cd', 'title_number']).size().reset_index()\n",
    "temp = temp[['lsoa11cd', 'title_number']].rename(columns = {'lsoa11cd':'lsoa_nested2'})\n",
    "\n",
    "#there are a small number of nested addresses where there are multiple lsoa this prevents increasing the number of observations with these duplicates\n",
    "#I don't think it matters if a ver observations are in neighbouring lsoa, the general spatial coherence is maintained\n",
    "temp = temp.groupby('title_number')['lsoa_nested2'].first().reset_index()\n",
    "\n",
    "\n",
    "ocod_data = ocod_data.merge(temp[['title_number', 'lsoa_nested2']], \n",
    "                       how = \"left\",\n",
    "                           on = \"title_number\")\n",
    "\n",
    "ocod_data.loc[ocod_data['lsoa11cd'].isnull(), 'lsoa11cd'] = ocod_data['lsoa_nested2'][ocod_data['lsoa11cd'].isnull()] "
   ]
  },
  {
   "cell_type": "code",
   "execution_count": 15,
   "id": "4a78a050",
   "metadata": {},
   "outputs": [
    {
     "data": {
      "text/plain": [
       "0.07500128251167086"
      ]
     },
     "execution_count": 15,
     "metadata": {},
     "output_type": "execute_result"
    }
   ],
   "source": [
    "#percent of dataset without lsoa\n",
    "ocod_data['lsoa11cd'].isnull().sum()/ocod_data.shape[0]"
   ]
  },
  {
   "cell_type": "code",
   "execution_count": 16,
   "id": "1bfd7ce4",
   "metadata": {},
   "outputs": [
    {
     "data": {
      "text/html": [
       "<div>\n",
       "<style scoped>\n",
       "    .dataframe tbody tr th:only-of-type {\n",
       "        vertical-align: middle;\n",
       "    }\n",
       "\n",
       "    .dataframe tbody tr th {\n",
       "        vertical-align: top;\n",
       "    }\n",
       "\n",
       "    .dataframe thead th {\n",
       "        text-align: right;\n",
       "    }\n",
       "</style>\n",
       "<table border=\"1\" class=\"dataframe\">\n",
       "  <thead>\n",
       "    <tr style=\"text-align: right;\">\n",
       "      <th>lsoa_building</th>\n",
       "      <th>False</th>\n",
       "      <th>True</th>\n",
       "    </tr>\n",
       "    <tr>\n",
       "      <th>postcode</th>\n",
       "      <th></th>\n",
       "      <th></th>\n",
       "    </tr>\n",
       "  </thead>\n",
       "  <tbody>\n",
       "    <tr>\n",
       "      <th>False</th>\n",
       "      <td>57484</td>\n",
       "      <td>7271</td>\n",
       "    </tr>\n",
       "    <tr>\n",
       "      <th>True</th>\n",
       "      <td>109515</td>\n",
       "      <td>20660</td>\n",
       "    </tr>\n",
       "  </tbody>\n",
       "</table>\n",
       "</div>"
      ],
      "text/plain": [
       "lsoa_building   False   True\n",
       "postcode                    \n",
       "False           57484   7271\n",
       "True           109515  20660"
      ]
     },
     "execution_count": 16,
     "metadata": {},
     "output_type": "execute_result"
    }
   ],
   "source": [
    "pd.crosstab(ocod_data['postcode'].notnull(), ocod_data['lsoa_building'].notnull())"
   ]
  },
  {
   "cell_type": "markdown",
   "id": "df42a1c8",
   "metadata": {},
   "source": [
    "## looking at what is left\n",
    "what still doesn't have lsoa and what properties do they have?"
   ]
  },
  {
   "cell_type": "code",
   "execution_count": 17,
   "id": "17a04c37",
   "metadata": {},
   "outputs": [],
   "source": [
    "test = ocod_data"
   ]
  },
  {
   "cell_type": "code",
   "execution_count": 18,
   "id": "090d12e2",
   "metadata": {},
   "outputs": [
    {
     "data": {
      "text/html": [
       "<div>\n",
       "<style scoped>\n",
       "    .dataframe tbody tr th:only-of-type {\n",
       "        vertical-align: middle;\n",
       "    }\n",
       "\n",
       "    .dataframe tbody tr th {\n",
       "        vertical-align: top;\n",
       "    }\n",
       "\n",
       "    .dataframe thead th {\n",
       "        text-align: right;\n",
       "    }\n",
       "</style>\n",
       "<table border=\"1\" class=\"dataframe\">\n",
       "  <thead>\n",
       "    <tr style=\"text-align: right;\">\n",
       "      <th>oa11cd</th>\n",
       "      <th>False</th>\n",
       "      <th>True</th>\n",
       "    </tr>\n",
       "    <tr>\n",
       "      <th>lsoa11cd</th>\n",
       "      <th></th>\n",
       "      <th></th>\n",
       "    </tr>\n",
       "  </thead>\n",
       "  <tbody>\n",
       "    <tr>\n",
       "      <th>False</th>\n",
       "      <td>0.075001</td>\n",
       "      <td>0.00000</td>\n",
       "    </tr>\n",
       "    <tr>\n",
       "      <th>True</th>\n",
       "      <td>0.212179</td>\n",
       "      <td>0.71282</td>\n",
       "    </tr>\n",
       "  </tbody>\n",
       "</table>\n",
       "</div>"
      ],
      "text/plain": [
       "oa11cd       False     True\n",
       "lsoa11cd                   \n",
       "False     0.075001  0.00000\n",
       "True      0.212179  0.71282"
      ]
     },
     "execution_count": 18,
     "metadata": {},
     "output_type": "execute_result"
    }
   ],
   "source": [
    "#observations localised with lsoa and/or oa\n",
    "pd.crosstab(test['lsoa11cd'].notnull(),  test['oa11cd'].notnull())/ocod_data.shape[0]"
   ]
  },
  {
   "cell_type": "code",
   "execution_count": 19,
   "id": "42dda4d0",
   "metadata": {},
   "outputs": [
    {
     "data": {
      "text/html": [
       "<div>\n",
       "<style scoped>\n",
       "    .dataframe tbody tr th:only-of-type {\n",
       "        vertical-align: middle;\n",
       "    }\n",
       "\n",
       "    .dataframe tbody tr th {\n",
       "        vertical-align: top;\n",
       "    }\n",
       "\n",
       "    .dataframe thead th {\n",
       "        text-align: right;\n",
       "    }\n",
       "</style>\n",
       "<table border=\"1\" class=\"dataframe\">\n",
       "  <thead>\n",
       "    <tr style=\"text-align: right;\">\n",
       "      <th>lsoa_building</th>\n",
       "      <th>False</th>\n",
       "      <th>True</th>\n",
       "    </tr>\n",
       "    <tr>\n",
       "      <th>lsoa_street</th>\n",
       "      <th></th>\n",
       "      <th></th>\n",
       "    </tr>\n",
       "  </thead>\n",
       "  <tbody>\n",
       "    <tr>\n",
       "      <th>False</th>\n",
       "      <td>98954</td>\n",
       "      <td>16281</td>\n",
       "    </tr>\n",
       "    <tr>\n",
       "      <th>True</th>\n",
       "      <td>68045</td>\n",
       "      <td>11650</td>\n",
       "    </tr>\n",
       "  </tbody>\n",
       "</table>\n",
       "</div>"
      ],
      "text/plain": [
       "lsoa_building  False   True\n",
       "lsoa_street                \n",
       "False          98954  16281\n",
       "True           68045  11650"
      ]
     },
     "execution_count": 19,
     "metadata": {},
     "output_type": "execute_result"
    }
   ],
   "source": [
    "#this is definately the problem then\n",
    "pd.crosstab(test['lsoa_street'].notnull(),  test['lsoa_building'].notnull())"
   ]
  },
  {
   "cell_type": "code",
   "execution_count": 20,
   "id": "11681719",
   "metadata": {},
   "outputs": [
    {
     "data": {
      "text/html": [
       "<div>\n",
       "<style scoped>\n",
       "    .dataframe tbody tr th:only-of-type {\n",
       "        vertical-align: middle;\n",
       "    }\n",
       "\n",
       "    .dataframe tbody tr th {\n",
       "        vertical-align: top;\n",
       "    }\n",
       "\n",
       "    .dataframe thead th {\n",
       "        text-align: right;\n",
       "    }\n",
       "</style>\n",
       "<table border=\"1\" class=\"dataframe\">\n",
       "  <thead>\n",
       "    <tr style=\"text-align: right;\">\n",
       "      <th>lsoa_street</th>\n",
       "      <th>False</th>\n",
       "    </tr>\n",
       "    <tr>\n",
       "      <th>property_address</th>\n",
       "      <th></th>\n",
       "    </tr>\n",
       "  </thead>\n",
       "  <tbody>\n",
       "    <tr>\n",
       "      <th>False</th>\n",
       "      <td>10603</td>\n",
       "    </tr>\n",
       "    <tr>\n",
       "      <th>True</th>\n",
       "      <td>4017</td>\n",
       "    </tr>\n",
       "  </tbody>\n",
       "</table>\n",
       "</div>"
      ],
      "text/plain": [
       "lsoa_street       False\n",
       "property_address       \n",
       "False             10603\n",
       "True               4017"
      ]
     },
     "execution_count": 20,
     "metadata": {},
     "output_type": "execute_result"
    }
   ],
   "source": [
    "test2 = test[test['lsoa11cd'].isnull()]\n",
    "pd.crosstab(test2['property_address'].str.startswith('land') , test2['lsoa_street'].notnull())"
   ]
  },
  {
   "cell_type": "code",
   "execution_count": 21,
   "id": "06a2a0ee",
   "metadata": {},
   "outputs": [
    {
     "data": {
      "text/html": [
       "<div>\n",
       "<style scoped>\n",
       "    .dataframe tbody tr th:only-of-type {\n",
       "        vertical-align: middle;\n",
       "    }\n",
       "\n",
       "    .dataframe tbody tr th {\n",
       "        vertical-align: top;\n",
       "    }\n",
       "\n",
       "    .dataframe thead th {\n",
       "        text-align: right;\n",
       "    }\n",
       "</style>\n",
       "<table border=\"1\" class=\"dataframe\">\n",
       "  <thead>\n",
       "    <tr style=\"text-align: right;\">\n",
       "      <th>lsoa11cd</th>\n",
       "      <th>False</th>\n",
       "      <th>True</th>\n",
       "    </tr>\n",
       "    <tr>\n",
       "      <th>street_name</th>\n",
       "      <th></th>\n",
       "      <th></th>\n",
       "    </tr>\n",
       "  </thead>\n",
       "  <tbody>\n",
       "    <tr>\n",
       "      <th>False</th>\n",
       "      <td>3168</td>\n",
       "      <td>9383</td>\n",
       "    </tr>\n",
       "    <tr>\n",
       "      <th>True</th>\n",
       "      <td>11452</td>\n",
       "      <td>170927</td>\n",
       "    </tr>\n",
       "  </tbody>\n",
       "</table>\n",
       "</div>"
      ],
      "text/plain": [
       "lsoa11cd     False    True\n",
       "street_name               \n",
       "False         3168    9383\n",
       "True         11452  170927"
      ]
     },
     "execution_count": 21,
     "metadata": {},
     "output_type": "execute_result"
    }
   ],
   "source": [
    "#this is definately the problem then\n",
    "pd.crosstab(test['street_name'].notnull(),  test['lsoa11cd'].notnull())"
   ]
  },
  {
   "cell_type": "code",
   "execution_count": 22,
   "id": "40b6cc11",
   "metadata": {},
   "outputs": [],
   "source": [
    "test[test['lsoa11cd'].isnull() & test['street_name'].notnull()].to_csv('/tf/empty_homes_data/delete_me.csv')"
   ]
  },
  {
   "cell_type": "code",
   "execution_count": 23,
   "id": "a85ec4c6",
   "metadata": {},
   "outputs": [
    {
     "data": {
      "text/plain": [
       "counts\n",
       "1     0.951061\n",
       "2     0.040739\n",
       "3     0.005727\n",
       "4     0.001549\n",
       "5     0.000540\n",
       "6     0.000210\n",
       "7     0.000100\n",
       "8     0.000037\n",
       "9     0.000007\n",
       "10    0.000020\n",
       "11    0.000003\n",
       "13    0.000003\n",
       "17    0.000003\n",
       "dtype: float64"
      ]
     },
     "execution_count": 23,
     "metadata": {},
     "output_type": "execute_result"
    }
   ],
   "source": [
    "#95.5% of sets have only a single lsoa, when grouped by street, town, district and locality\n",
    "#when grouped by only street and district, this number is still 90%\n",
    "#excluding town the number is still 0.95% but dropping locality gives a match on 91%, therefore using locality is the key\n",
    "temp = price_paid_df.groupby(['street', 'district', 'locality', 'lsoa11cd']).size().reset_index().groupby(['street', 'district', 'locality']).size()\\\n",
    ".reset_index().rename(columns = {0:'counts'})\n",
    "\n",
    "temp.groupby('counts').size()/temp.shape[0]\n"
   ]
  },
  {
   "cell_type": "markdown",
   "id": "4bae9ba4",
   "metadata": {},
   "source": [
    "# VOA matching businesses\n",
    "\n",
    "The below chunk matches addresses to known businesses"
   ]
  },
  {
   "cell_type": "markdown",
   "id": "2b06dd67",
   "metadata": {},
   "source": [
    "## Creating a voa expander for individual LADs"
   ]
  },
  {
   "cell_type": "code",
   "execution_count": 24,
   "id": "a34e2658",
   "metadata": {},
   "outputs": [
    {
     "name": "stdout",
     "output_type": "stream",
     "text": [
      "E06000031\n",
      "i= 0  expand time,0.0 filter time0.0 make_dataframe_time 0.001\n"
     ]
    },
    {
     "name": "stderr",
     "output_type": "stream",
     "text": [
      "/tf/empty_homes_london/helper_functions.py:272: SettingWithCopyWarning: \n",
      "A value is trying to be set on a copy of a slice from a DataFrame.\n",
      "Try using .loc[row_indexer,col_indexer] = value instead\n",
      "\n",
      "See the caveats in the documentation: https://pandas.pydata.org/pandas-docs/stable/user_guide/indexing.html#returning-a-view-versus-a-copy\n",
      "  temp_multi['number_filter'] = filter_types\n"
     ]
    },
    {
     "name": "stdout",
     "output_type": "stream",
     "text": [
      "E07000032\n",
      "i= 0  expand time,0.0 filter time0.0 make_dataframe_time 0.002\n"
     ]
    },
    {
     "name": "stderr",
     "output_type": "stream",
     "text": [
      "/tf/empty_homes_london/helper_functions.py:272: SettingWithCopyWarning: \n",
      "A value is trying to be set on a copy of a slice from a DataFrame.\n",
      "Try using .loc[row_indexer,col_indexer] = value instead\n",
      "\n",
      "See the caveats in the documentation: https://pandas.pydata.org/pandas-docs/stable/user_guide/indexing.html#returning-a-view-versus-a-copy\n",
      "  temp_multi['number_filter'] = filter_types\n"
     ]
    },
    {
     "name": "stdout",
     "output_type": "stream",
     "text": [
      "E06000060\n",
      "i= 0  expand time,0.0 filter time0.0 make_dataframe_time 0.001\n"
     ]
    },
    {
     "name": "stderr",
     "output_type": "stream",
     "text": [
      "/tf/empty_homes_london/helper_functions.py:272: SettingWithCopyWarning: \n",
      "A value is trying to be set on a copy of a slice from a DataFrame.\n",
      "Try using .loc[row_indexer,col_indexer] = value instead\n",
      "\n",
      "See the caveats in the documentation: https://pandas.pydata.org/pandas-docs/stable/user_guide/indexing.html#returning-a-view-versus-a-copy\n",
      "  temp_multi['number_filter'] = filter_types\n"
     ]
    },
    {
     "name": "stdout",
     "output_type": "stream",
     "text": [
      "E09000033\n"
     ]
    },
    {
     "name": "stderr",
     "output_type": "stream",
     "text": [
      "/tf/empty_homes_london/helper_functions.py:272: SettingWithCopyWarning: \n",
      "A value is trying to be set on a copy of a slice from a DataFrame.\n",
      "Try using .loc[row_indexer,col_indexer] = value instead\n",
      "\n",
      "See the caveats in the documentation: https://pandas.pydata.org/pandas-docs/stable/user_guide/indexing.html#returning-a-view-versus-a-copy\n",
      "  temp_multi['number_filter'] = filter_types\n"
     ]
    },
    {
     "name": "stdout",
     "output_type": "stream",
     "text": [
      "i= 0  expand time,0.0 filter time0.0 make_dataframe_time 0.001\n",
      "E09000001\n",
      "i= 0  expand time,0.001 filter time0.0 make_dataframe_time 0.001\n"
     ]
    },
    {
     "name": "stderr",
     "output_type": "stream",
     "text": [
      "/tf/empty_homes_london/helper_functions.py:272: SettingWithCopyWarning: \n",
      "A value is trying to be set on a copy of a slice from a DataFrame.\n",
      "Try using .loc[row_indexer,col_indexer] = value instead\n",
      "\n",
      "See the caveats in the documentation: https://pandas.pydata.org/pandas-docs/stable/user_guide/indexing.html#returning-a-view-versus-a-copy\n",
      "  temp_multi['number_filter'] = filter_types\n"
     ]
    },
    {
     "name": "stdout",
     "output_type": "stream",
     "text": [
      "E08000019\n",
      "i= 0  expand time,0.0 filter time0.0 make_dataframe_time 0.001\n"
     ]
    },
    {
     "name": "stderr",
     "output_type": "stream",
     "text": [
      "/tf/empty_homes_london/helper_functions.py:272: SettingWithCopyWarning: \n",
      "A value is trying to be set on a copy of a slice from a DataFrame.\n",
      "Try using .loc[row_indexer,col_indexer] = value instead\n",
      "\n",
      "See the caveats in the documentation: https://pandas.pydata.org/pandas-docs/stable/user_guide/indexing.html#returning-a-view-versus-a-copy\n",
      "  temp_multi['number_filter'] = filter_types\n"
     ]
    },
    {
     "name": "stdout",
     "output_type": "stream",
     "text": [
      "E08000017\n",
      "i= 0  expand time,0.0 filter time0.0 make_dataframe_time 0.001\n",
      "E09000028\n"
     ]
    },
    {
     "name": "stderr",
     "output_type": "stream",
     "text": [
      "/tf/empty_homes_london/helper_functions.py:272: SettingWithCopyWarning: \n",
      "A value is trying to be set on a copy of a slice from a DataFrame.\n",
      "Try using .loc[row_indexer,col_indexer] = value instead\n",
      "\n",
      "See the caveats in the documentation: https://pandas.pydata.org/pandas-docs/stable/user_guide/indexing.html#returning-a-view-versus-a-copy\n",
      "  temp_multi['number_filter'] = filter_types\n",
      "/tf/empty_homes_london/helper_functions.py:272: SettingWithCopyWarning: \n",
      "A value is trying to be set on a copy of a slice from a DataFrame.\n",
      "Try using .loc[row_indexer,col_indexer] = value instead\n",
      "\n",
      "See the caveats in the documentation: https://pandas.pydata.org/pandas-docs/stable/user_guide/indexing.html#returning-a-view-versus-a-copy\n",
      "  temp_multi['number_filter'] = filter_types\n"
     ]
    },
    {
     "name": "stdout",
     "output_type": "stream",
     "text": [
      "i= 0  expand time,0.0 filter time0.0 make_dataframe_time 0.001\n",
      "E09000020\n",
      "i= 0  expand time,0.0 filter time0.0 make_dataframe_time 0.001\n"
     ]
    },
    {
     "name": "stderr",
     "output_type": "stream",
     "text": [
      "/tf/empty_homes_london/helper_functions.py:272: SettingWithCopyWarning: \n",
      "A value is trying to be set on a copy of a slice from a DataFrame.\n",
      "Try using .loc[row_indexer,col_indexer] = value instead\n",
      "\n",
      "See the caveats in the documentation: https://pandas.pydata.org/pandas-docs/stable/user_guide/indexing.html#returning-a-view-versus-a-copy\n",
      "  temp_multi['number_filter'] = filter_types\n"
     ]
    },
    {
     "name": "stdout",
     "output_type": "stream",
     "text": [
      "E09000007\n",
      "i= 0  expand time,0.001 filter time0.0 make_dataframe_time 0.001\n"
     ]
    },
    {
     "name": "stderr",
     "output_type": "stream",
     "text": [
      "/tf/empty_homes_london/helper_functions.py:272: SettingWithCopyWarning: \n",
      "A value is trying to be set on a copy of a slice from a DataFrame.\n",
      "Try using .loc[row_indexer,col_indexer] = value instead\n",
      "\n",
      "See the caveats in the documentation: https://pandas.pydata.org/pandas-docs/stable/user_guide/indexing.html#returning-a-view-versus-a-copy\n",
      "  temp_multi['number_filter'] = filter_types\n"
     ]
    },
    {
     "name": "stdout",
     "output_type": "stream",
     "text": [
      "E06000049\n",
      "i= 0  expand time,0.0 filter time0.0 make_dataframe_time 0.001\n"
     ]
    },
    {
     "name": "stderr",
     "output_type": "stream",
     "text": [
      "/tf/empty_homes_london/helper_functions.py:272: SettingWithCopyWarning: \n",
      "A value is trying to be set on a copy of a slice from a DataFrame.\n",
      "Try using .loc[row_indexer,col_indexer] = value instead\n",
      "\n",
      "See the caveats in the documentation: https://pandas.pydata.org/pandas-docs/stable/user_guide/indexing.html#returning-a-view-versus-a-copy\n",
      "  temp_multi['number_filter'] = filter_types\n"
     ]
    },
    {
     "name": "stdout",
     "output_type": "stream",
     "text": [
      "E08000003\n",
      "i= 0  expand time,0.0 filter time0.0 make_dataframe_time 0.001\n"
     ]
    },
    {
     "name": "stderr",
     "output_type": "stream",
     "text": [
      "/tf/empty_homes_london/helper_functions.py:272: SettingWithCopyWarning: \n",
      "A value is trying to be set on a copy of a slice from a DataFrame.\n",
      "Try using .loc[row_indexer,col_indexer] = value instead\n",
      "\n",
      "See the caveats in the documentation: https://pandas.pydata.org/pandas-docs/stable/user_guide/indexing.html#returning-a-view-versus-a-copy\n",
      "  temp_multi['number_filter'] = filter_types\n"
     ]
    },
    {
     "name": "stdout",
     "output_type": "stream",
     "text": [
      "E09000011\n",
      "i= 0  expand time,0.0 filter time0.0 make_dataframe_time 0.001\n"
     ]
    },
    {
     "name": "stderr",
     "output_type": "stream",
     "text": [
      "/tf/empty_homes_london/helper_functions.py:272: SettingWithCopyWarning: \n",
      "A value is trying to be set on a copy of a slice from a DataFrame.\n",
      "Try using .loc[row_indexer,col_indexer] = value instead\n",
      "\n",
      "See the caveats in the documentation: https://pandas.pydata.org/pandas-docs/stable/user_guide/indexing.html#returning-a-view-versus-a-copy\n",
      "  temp_multi['number_filter'] = filter_types\n"
     ]
    },
    {
     "name": "stdout",
     "output_type": "stream",
     "text": [
      "E09000019\n",
      "i= 0  expand time,0.0 filter time0.0 make_dataframe_time 0.001\n"
     ]
    },
    {
     "name": "stderr",
     "output_type": "stream",
     "text": [
      "/tf/empty_homes_london/helper_functions.py:272: SettingWithCopyWarning: \n",
      "A value is trying to be set on a copy of a slice from a DataFrame.\n",
      "Try using .loc[row_indexer,col_indexer] = value instead\n",
      "\n",
      "See the caveats in the documentation: https://pandas.pydata.org/pandas-docs/stable/user_guide/indexing.html#returning-a-view-versus-a-copy\n",
      "  temp_multi['number_filter'] = filter_types\n"
     ]
    },
    {
     "name": "stdout",
     "output_type": "stream",
     "text": [
      "E09000016\n",
      "i= 0  expand time,0.0 filter time0.0 make_dataframe_time 0.001\n"
     ]
    },
    {
     "name": "stderr",
     "output_type": "stream",
     "text": [
      "/tf/empty_homes_london/helper_functions.py:272: SettingWithCopyWarning: \n",
      "A value is trying to be set on a copy of a slice from a DataFrame.\n",
      "Try using .loc[row_indexer,col_indexer] = value instead\n",
      "\n",
      "See the caveats in the documentation: https://pandas.pydata.org/pandas-docs/stable/user_guide/indexing.html#returning-a-view-versus-a-copy\n",
      "  temp_multi['number_filter'] = filter_types\n"
     ]
    },
    {
     "name": "stdout",
     "output_type": "stream",
     "text": [
      "E08000015\n",
      "i= 0  expand time,0.0 filter time0.0 make_dataframe_time 0.001\n"
     ]
    },
    {
     "name": "stderr",
     "output_type": "stream",
     "text": [
      "/tf/empty_homes_london/helper_functions.py:272: SettingWithCopyWarning: \n",
      "A value is trying to be set on a copy of a slice from a DataFrame.\n",
      "Try using .loc[row_indexer,col_indexer] = value instead\n",
      "\n",
      "See the caveats in the documentation: https://pandas.pydata.org/pandas-docs/stable/user_guide/indexing.html#returning-a-view-versus-a-copy\n",
      "  temp_multi['number_filter'] = filter_types\n"
     ]
    },
    {
     "name": "stdout",
     "output_type": "stream",
     "text": [
      "E09000015\n",
      "i= 0  expand time,0.0 filter time0.0 make_dataframe_time 0.001\n"
     ]
    },
    {
     "name": "stderr",
     "output_type": "stream",
     "text": [
      "/tf/empty_homes_london/helper_functions.py:272: SettingWithCopyWarning: \n",
      "A value is trying to be set on a copy of a slice from a DataFrame.\n",
      "Try using .loc[row_indexer,col_indexer] = value instead\n",
      "\n",
      "See the caveats in the documentation: https://pandas.pydata.org/pandas-docs/stable/user_guide/indexing.html#returning-a-view-versus-a-copy\n",
      "  temp_multi['number_filter'] = filter_types\n"
     ]
    },
    {
     "name": "stdout",
     "output_type": "stream",
     "text": [
      "E06000030\n",
      "i= 0  expand time,0.0 filter time0.0 make_dataframe_time 0.001\n"
     ]
    },
    {
     "name": "stderr",
     "output_type": "stream",
     "text": [
      "/tf/empty_homes_london/helper_functions.py:272: SettingWithCopyWarning: \n",
      "A value is trying to be set on a copy of a slice from a DataFrame.\n",
      "Try using .loc[row_indexer,col_indexer] = value instead\n",
      "\n",
      "See the caveats in the documentation: https://pandas.pydata.org/pandas-docs/stable/user_guide/indexing.html#returning-a-view-versus-a-copy\n",
      "  temp_multi['number_filter'] = filter_types\n"
     ]
    },
    {
     "name": "stdout",
     "output_type": "stream",
     "text": [
      "E08000012\n",
      "i= 0  expand time,0.0 filter time0.0 make_dataframe_time 0.001\n"
     ]
    },
    {
     "name": "stderr",
     "output_type": "stream",
     "text": [
      "/tf/empty_homes_london/helper_functions.py:272: SettingWithCopyWarning: \n",
      "A value is trying to be set on a copy of a slice from a DataFrame.\n",
      "Try using .loc[row_indexer,col_indexer] = value instead\n",
      "\n",
      "See the caveats in the documentation: https://pandas.pydata.org/pandas-docs/stable/user_guide/indexing.html#returning-a-view-versus-a-copy\n",
      "  temp_multi['number_filter'] = filter_types\n"
     ]
    },
    {
     "name": "stdout",
     "output_type": "stream",
     "text": [
      "E06000050\n",
      "i= 0  expand time,0.0 filter time0.0 make_dataframe_time 0.001\n"
     ]
    },
    {
     "name": "stderr",
     "output_type": "stream",
     "text": [
      "/tf/empty_homes_london/helper_functions.py:272: SettingWithCopyWarning: \n",
      "A value is trying to be set on a copy of a slice from a DataFrame.\n",
      "Try using .loc[row_indexer,col_indexer] = value instead\n",
      "\n",
      "See the caveats in the documentation: https://pandas.pydata.org/pandas-docs/stable/user_guide/indexing.html#returning-a-view-versus-a-copy\n",
      "  temp_multi['number_filter'] = filter_types\n"
     ]
    },
    {
     "name": "stdout",
     "output_type": "stream",
     "text": [
      "E08000010\n",
      "i= 0  expand time,0.001 filter time0.0 make_dataframe_time 0.002\n"
     ]
    },
    {
     "name": "stderr",
     "output_type": "stream",
     "text": [
      "/tf/empty_homes_london/helper_functions.py:272: SettingWithCopyWarning: \n",
      "A value is trying to be set on a copy of a slice from a DataFrame.\n",
      "Try using .loc[row_indexer,col_indexer] = value instead\n",
      "\n",
      "See the caveats in the documentation: https://pandas.pydata.org/pandas-docs/stable/user_guide/indexing.html#returning-a-view-versus-a-copy\n",
      "  temp_multi['number_filter'] = filter_types\n"
     ]
    },
    {
     "name": "stdout",
     "output_type": "stream",
     "text": [
      "E07000070\n",
      "i= 0  expand time,0.0 filter time0.0 make_dataframe_time 0.001\n"
     ]
    },
    {
     "name": "stderr",
     "output_type": "stream",
     "text": [
      "/tf/empty_homes_london/helper_functions.py:272: SettingWithCopyWarning: \n",
      "A value is trying to be set on a copy of a slice from a DataFrame.\n",
      "Try using .loc[row_indexer,col_indexer] = value instead\n",
      "\n",
      "See the caveats in the documentation: https://pandas.pydata.org/pandas-docs/stable/user_guide/indexing.html#returning-a-view-versus-a-copy\n",
      "  temp_multi['number_filter'] = filter_types\n"
     ]
    },
    {
     "name": "stdout",
     "output_type": "stream",
     "text": [
      "E09000022\n",
      "i= 0  expand time,0.0 filter time0.0 make_dataframe_time 0.001\n"
     ]
    },
    {
     "name": "stderr",
     "output_type": "stream",
     "text": [
      "/tf/empty_homes_london/helper_functions.py:272: SettingWithCopyWarning: \n",
      "A value is trying to be set on a copy of a slice from a DataFrame.\n",
      "Try using .loc[row_indexer,col_indexer] = value instead\n",
      "\n",
      "See the caveats in the documentation: https://pandas.pydata.org/pandas-docs/stable/user_guide/indexing.html#returning-a-view-versus-a-copy\n",
      "  temp_multi['number_filter'] = filter_types\n"
     ]
    },
    {
     "name": "stdout",
     "output_type": "stream",
     "text": [
      "E06000057\n",
      "i= 0  expand time,0.0 filter time0.0 make_dataframe_time 0.001\n"
     ]
    },
    {
     "name": "stderr",
     "output_type": "stream",
     "text": [
      "/tf/empty_homes_london/helper_functions.py:272: SettingWithCopyWarning: \n",
      "A value is trying to be set on a copy of a slice from a DataFrame.\n",
      "Try using .loc[row_indexer,col_indexer] = value instead\n",
      "\n",
      "See the caveats in the documentation: https://pandas.pydata.org/pandas-docs/stable/user_guide/indexing.html#returning-a-view-versus-a-copy\n",
      "  temp_multi['number_filter'] = filter_types\n"
     ]
    },
    {
     "name": "stdout",
     "output_type": "stream",
     "text": [
      "E06000047\n",
      "i= 0  expand time,0.0 filter time0.0 make_dataframe_time 0.001\n"
     ]
    },
    {
     "name": "stderr",
     "output_type": "stream",
     "text": [
      "/tf/empty_homes_london/helper_functions.py:272: SettingWithCopyWarning: \n",
      "A value is trying to be set on a copy of a slice from a DataFrame.\n",
      "Try using .loc[row_indexer,col_indexer] = value instead\n",
      "\n",
      "See the caveats in the documentation: https://pandas.pydata.org/pandas-docs/stable/user_guide/indexing.html#returning-a-view-versus-a-copy\n",
      "  temp_multi['number_filter'] = filter_types\n"
     ]
    },
    {
     "name": "stdout",
     "output_type": "stream",
     "text": [
      "E08000033\n",
      "i= 0  expand time,0.0 filter time0.0 make_dataframe_time 0.001\n",
      "E07000144\n"
     ]
    },
    {
     "name": "stderr",
     "output_type": "stream",
     "text": [
      "/tf/empty_homes_london/helper_functions.py:272: SettingWithCopyWarning: \n",
      "A value is trying to be set on a copy of a slice from a DataFrame.\n",
      "Try using .loc[row_indexer,col_indexer] = value instead\n",
      "\n",
      "See the caveats in the documentation: https://pandas.pydata.org/pandas-docs/stable/user_guide/indexing.html#returning-a-view-versus-a-copy\n",
      "  temp_multi['number_filter'] = filter_types\n",
      "/tf/empty_homes_london/helper_functions.py:272: SettingWithCopyWarning: \n",
      "A value is trying to be set on a copy of a slice from a DataFrame.\n",
      "Try using .loc[row_indexer,col_indexer] = value instead\n",
      "\n",
      "See the caveats in the documentation: https://pandas.pydata.org/pandas-docs/stable/user_guide/indexing.html#returning-a-view-versus-a-copy\n",
      "  temp_multi['number_filter'] = filter_types\n"
     ]
    },
    {
     "name": "stdout",
     "output_type": "stream",
     "text": [
      "i= 0  expand time,0.0 filter time0.0 make_dataframe_time 0.001\n",
      "E07000146\n",
      "i= 0  expand time,0.0 filter time0.0 make_dataframe_time 0.001\n"
     ]
    },
    {
     "name": "stderr",
     "output_type": "stream",
     "text": [
      "/tf/empty_homes_london/helper_functions.py:272: SettingWithCopyWarning: \n",
      "A value is trying to be set on a copy of a slice from a DataFrame.\n",
      "Try using .loc[row_indexer,col_indexer] = value instead\n",
      "\n",
      "See the caveats in the documentation: https://pandas.pydata.org/pandas-docs/stable/user_guide/indexing.html#returning-a-view-versus-a-copy\n",
      "  temp_multi['number_filter'] = filter_types\n"
     ]
    },
    {
     "name": "stdout",
     "output_type": "stream",
     "text": [
      "E08000007\n",
      "i= 0  expand time,0.0 filter time0.0 make_dataframe_time 0.001\n"
     ]
    },
    {
     "name": "stderr",
     "output_type": "stream",
     "text": [
      "/tf/empty_homes_london/helper_functions.py:272: SettingWithCopyWarning: \n",
      "A value is trying to be set on a copy of a slice from a DataFrame.\n",
      "Try using .loc[row_indexer,col_indexer] = value instead\n",
      "\n",
      "See the caveats in the documentation: https://pandas.pydata.org/pandas-docs/stable/user_guide/indexing.html#returning-a-view-versus-a-copy\n",
      "  temp_multi['number_filter'] = filter_types\n"
     ]
    },
    {
     "name": "stdout",
     "output_type": "stream",
     "text": [
      "E08000035\n",
      "i= 0  expand time,0.0 filter time0.0 make_dataframe_time 0.001\n"
     ]
    },
    {
     "name": "stderr",
     "output_type": "stream",
     "text": [
      "/tf/empty_homes_london/helper_functions.py:272: SettingWithCopyWarning: \n",
      "A value is trying to be set on a copy of a slice from a DataFrame.\n",
      "Try using .loc[row_indexer,col_indexer] = value instead\n",
      "\n",
      "See the caveats in the documentation: https://pandas.pydata.org/pandas-docs/stable/user_guide/indexing.html#returning-a-view-versus-a-copy\n",
      "  temp_multi['number_filter'] = filter_types\n"
     ]
    },
    {
     "name": "stdout",
     "output_type": "stream",
     "text": [
      "E07000067\n",
      "i= 0  expand time,0.0 filter time0.0 make_dataframe_time 0.001\n",
      "E07000083\n",
      "i= 0  expand time,0.0 filter time0.0 make_dataframe_time 0.001\n"
     ]
    },
    {
     "name": "stderr",
     "output_type": "stream",
     "text": [
      "/tf/empty_homes_london/helper_functions.py:272: SettingWithCopyWarning: \n",
      "A value is trying to be set on a copy of a slice from a DataFrame.\n",
      "Try using .loc[row_indexer,col_indexer] = value instead\n",
      "\n",
      "See the caveats in the documentation: https://pandas.pydata.org/pandas-docs/stable/user_guide/indexing.html#returning-a-view-versus-a-copy\n",
      "  temp_multi['number_filter'] = filter_types\n",
      "/tf/empty_homes_london/helper_functions.py:272: SettingWithCopyWarning: \n",
      "A value is trying to be set on a copy of a slice from a DataFrame.\n",
      "Try using .loc[row_indexer,col_indexer] = value instead\n",
      "\n",
      "See the caveats in the documentation: https://pandas.pydata.org/pandas-docs/stable/user_guide/indexing.html#returning-a-view-versus-a-copy\n",
      "  temp_multi['number_filter'] = filter_types\n"
     ]
    },
    {
     "name": "stdout",
     "output_type": "stream",
     "text": [
      "E08000009\n",
      "i= 0  expand time,0.0 filter time0.0 make_dataframe_time 0.001\n"
     ]
    },
    {
     "name": "stderr",
     "output_type": "stream",
     "text": [
      "/tf/empty_homes_london/helper_functions.py:272: SettingWithCopyWarning: \n",
      "A value is trying to be set on a copy of a slice from a DataFrame.\n",
      "Try using .loc[row_indexer,col_indexer] = value instead\n",
      "\n",
      "See the caveats in the documentation: https://pandas.pydata.org/pandas-docs/stable/user_guide/indexing.html#returning-a-view-versus-a-copy\n",
      "  temp_multi['number_filter'] = filter_types\n"
     ]
    },
    {
     "name": "stdout",
     "output_type": "stream",
     "text": [
      "E07000098\n",
      "i= 0  expand time,0.0 filter time0.0 make_dataframe_time 0.001\n"
     ]
    },
    {
     "name": "stderr",
     "output_type": "stream",
     "text": [
      "/tf/empty_homes_london/helper_functions.py:272: SettingWithCopyWarning: \n",
      "A value is trying to be set on a copy of a slice from a DataFrame.\n",
      "Try using .loc[row_indexer,col_indexer] = value instead\n",
      "\n",
      "See the caveats in the documentation: https://pandas.pydata.org/pandas-docs/stable/user_guide/indexing.html#returning-a-view-versus-a-copy\n",
      "  temp_multi['number_filter'] = filter_types\n"
     ]
    },
    {
     "name": "stdout",
     "output_type": "stream",
     "text": [
      "E06000044\n",
      "i= 0  expand time,0.0 filter time0.0 make_dataframe_time 0.001\n"
     ]
    },
    {
     "name": "stderr",
     "output_type": "stream",
     "text": [
      "/tf/empty_homes_london/helper_functions.py:272: SettingWithCopyWarning: \n",
      "A value is trying to be set on a copy of a slice from a DataFrame.\n",
      "Try using .loc[row_indexer,col_indexer] = value instead\n",
      "\n",
      "See the caveats in the documentation: https://pandas.pydata.org/pandas-docs/stable/user_guide/indexing.html#returning-a-view-versus-a-copy\n",
      "  temp_multi['number_filter'] = filter_types\n"
     ]
    },
    {
     "name": "stdout",
     "output_type": "stream",
     "text": [
      "E07000103\n",
      "i= 0  expand time,0.0 filter time0.0 make_dataframe_time 0.001\n"
     ]
    },
    {
     "name": "stderr",
     "output_type": "stream",
     "text": [
      "/tf/empty_homes_london/helper_functions.py:272: SettingWithCopyWarning: \n",
      "A value is trying to be set on a copy of a slice from a DataFrame.\n",
      "Try using .loc[row_indexer,col_indexer] = value instead\n",
      "\n",
      "See the caveats in the documentation: https://pandas.pydata.org/pandas-docs/stable/user_guide/indexing.html#returning-a-view-versus-a-copy\n",
      "  temp_multi['number_filter'] = filter_types\n"
     ]
    },
    {
     "name": "stdout",
     "output_type": "stream",
     "text": [
      "E08000032\n",
      "i= 0  expand time,0.001 filter time0.0 make_dataframe_time 0.001\n"
     ]
    },
    {
     "name": "stderr",
     "output_type": "stream",
     "text": [
      "/tf/empty_homes_london/helper_functions.py:272: SettingWithCopyWarning: \n",
      "A value is trying to be set on a copy of a slice from a DataFrame.\n",
      "Try using .loc[row_indexer,col_indexer] = value instead\n",
      "\n",
      "See the caveats in the documentation: https://pandas.pydata.org/pandas-docs/stable/user_guide/indexing.html#returning-a-view-versus-a-copy\n",
      "  temp_multi['number_filter'] = filter_types\n"
     ]
    },
    {
     "name": "stdout",
     "output_type": "stream",
     "text": [
      "E08000001\n",
      "i= 0  expand time,0.001 filter time0.0 make_dataframe_time 0.001\n"
     ]
    },
    {
     "name": "stderr",
     "output_type": "stream",
     "text": [
      "/tf/empty_homes_london/helper_functions.py:272: SettingWithCopyWarning: \n",
      "A value is trying to be set on a copy of a slice from a DataFrame.\n",
      "Try using .loc[row_indexer,col_indexer] = value instead\n",
      "\n",
      "See the caveats in the documentation: https://pandas.pydata.org/pandas-docs/stable/user_guide/indexing.html#returning-a-view-versus-a-copy\n",
      "  temp_multi['number_filter'] = filter_types\n"
     ]
    },
    {
     "name": "stdout",
     "output_type": "stream",
     "text": [
      "E07000243\n",
      "i= 0  expand time,0.0 filter time0.0 make_dataframe_time 0.001\n"
     ]
    },
    {
     "name": "stderr",
     "output_type": "stream",
     "text": [
      "/tf/empty_homes_london/helper_functions.py:272: SettingWithCopyWarning: \n",
      "A value is trying to be set on a copy of a slice from a DataFrame.\n",
      "Try using .loc[row_indexer,col_indexer] = value instead\n",
      "\n",
      "See the caveats in the documentation: https://pandas.pydata.org/pandas-docs/stable/user_guide/indexing.html#returning-a-view-versus-a-copy\n",
      "  temp_multi['number_filter'] = filter_types\n"
     ]
    },
    {
     "name": "stdout",
     "output_type": "stream",
     "text": [
      "E08000013\n",
      "i= 0  expand time,0.0 filter time0.0 make_dataframe_time 0.001\n"
     ]
    },
    {
     "name": "stderr",
     "output_type": "stream",
     "text": [
      "/tf/empty_homes_london/helper_functions.py:272: SettingWithCopyWarning: \n",
      "A value is trying to be set on a copy of a slice from a DataFrame.\n",
      "Try using .loc[row_indexer,col_indexer] = value instead\n",
      "\n",
      "See the caveats in the documentation: https://pandas.pydata.org/pandas-docs/stable/user_guide/indexing.html#returning-a-view-versus-a-copy\n",
      "  temp_multi['number_filter'] = filter_types\n"
     ]
    },
    {
     "name": "stdout",
     "output_type": "stream",
     "text": [
      "E09000012\n",
      "i= 0  expand time,0.0 filter time0.0 make_dataframe_time 0.001\n"
     ]
    },
    {
     "name": "stderr",
     "output_type": "stream",
     "text": [
      "/tf/empty_homes_london/helper_functions.py:272: SettingWithCopyWarning: \n",
      "A value is trying to be set on a copy of a slice from a DataFrame.\n",
      "Try using .loc[row_indexer,col_indexer] = value instead\n",
      "\n",
      "See the caveats in the documentation: https://pandas.pydata.org/pandas-docs/stable/user_guide/indexing.html#returning-a-view-versus-a-copy\n",
      "  temp_multi['number_filter'] = filter_types\n"
     ]
    },
    {
     "name": "stdout",
     "output_type": "stream",
     "text": [
      "E09000032\n",
      "i= 0  expand time,0.0 filter time0.0 make_dataframe_time 0.002\n"
     ]
    },
    {
     "name": "stderr",
     "output_type": "stream",
     "text": [
      "/tf/empty_homes_london/helper_functions.py:272: SettingWithCopyWarning: \n",
      "A value is trying to be set on a copy of a slice from a DataFrame.\n",
      "Try using .loc[row_indexer,col_indexer] = value instead\n",
      "\n",
      "See the caveats in the documentation: https://pandas.pydata.org/pandas-docs/stable/user_guide/indexing.html#returning-a-view-versus-a-copy\n",
      "  temp_multi['number_filter'] = filter_types\n"
     ]
    },
    {
     "name": "stdout",
     "output_type": "stream",
     "text": [
      "E06000045\n",
      "i= 0  expand time,0.0 filter time0.0 make_dataframe_time 0.001\n"
     ]
    },
    {
     "name": "stderr",
     "output_type": "stream",
     "text": [
      "/tf/empty_homes_london/helper_functions.py:272: SettingWithCopyWarning: \n",
      "A value is trying to be set on a copy of a slice from a DataFrame.\n",
      "Try using .loc[row_indexer,col_indexer] = value instead\n",
      "\n",
      "See the caveats in the documentation: https://pandas.pydata.org/pandas-docs/stable/user_guide/indexing.html#returning-a-view-versus-a-copy\n",
      "  temp_multi['number_filter'] = filter_types\n"
     ]
    },
    {
     "name": "stdout",
     "output_type": "stream",
     "text": [
      "E08000004\n",
      "i= 0  expand time,0.001 filter time0.001 make_dataframe_time 0.002\n"
     ]
    },
    {
     "name": "stderr",
     "output_type": "stream",
     "text": [
      "/tf/empty_homes_london/helper_functions.py:272: SettingWithCopyWarning: \n",
      "A value is trying to be set on a copy of a slice from a DataFrame.\n",
      "Try using .loc[row_indexer,col_indexer] = value instead\n",
      "\n",
      "See the caveats in the documentation: https://pandas.pydata.org/pandas-docs/stable/user_guide/indexing.html#returning-a-view-versus-a-copy\n",
      "  temp_multi['number_filter'] = filter_types\n"
     ]
    },
    {
     "name": "stdout",
     "output_type": "stream",
     "text": [
      "E08000028\n",
      "i= 0  expand time,0.001 filter time0.0 make_dataframe_time 0.003\n"
     ]
    },
    {
     "name": "stderr",
     "output_type": "stream",
     "text": [
      "/tf/empty_homes_london/helper_functions.py:272: SettingWithCopyWarning: \n",
      "A value is trying to be set on a copy of a slice from a DataFrame.\n",
      "Try using .loc[row_indexer,col_indexer] = value instead\n",
      "\n",
      "See the caveats in the documentation: https://pandas.pydata.org/pandas-docs/stable/user_guide/indexing.html#returning-a-view-versus-a-copy\n",
      "  temp_multi['number_filter'] = filter_types\n"
     ]
    },
    {
     "name": "stdout",
     "output_type": "stream",
     "text": [
      "E07000117\n",
      "i= 0  expand time,0.0 filter time0.0 make_dataframe_time 0.002\n"
     ]
    },
    {
     "name": "stderr",
     "output_type": "stream",
     "text": [
      "/tf/empty_homes_london/helper_functions.py:272: SettingWithCopyWarning: \n",
      "A value is trying to be set on a copy of a slice from a DataFrame.\n",
      "Try using .loc[row_indexer,col_indexer] = value instead\n",
      "\n",
      "See the caveats in the documentation: https://pandas.pydata.org/pandas-docs/stable/user_guide/indexing.html#returning-a-view-versus-a-copy\n",
      "  temp_multi['number_filter'] = filter_types\n"
     ]
    },
    {
     "name": "stdout",
     "output_type": "stream",
     "text": [
      "E07000119\n",
      "i= 0  expand time,0.0 filter time0.0 make_dataframe_time 0.001\n"
     ]
    },
    {
     "name": "stderr",
     "output_type": "stream",
     "text": [
      "/tf/empty_homes_london/helper_functions.py:272: SettingWithCopyWarning: \n",
      "A value is trying to be set on a copy of a slice from a DataFrame.\n",
      "Try using .loc[row_indexer,col_indexer] = value instead\n",
      "\n",
      "See the caveats in the documentation: https://pandas.pydata.org/pandas-docs/stable/user_guide/indexing.html#returning-a-view-versus-a-copy\n",
      "  temp_multi['number_filter'] = filter_types\n"
     ]
    },
    {
     "name": "stdout",
     "output_type": "stream",
     "text": [
      "E06000016\n",
      "i= 0  expand time,0.001 filter time0.0 make_dataframe_time 0.001\n"
     ]
    },
    {
     "name": "stderr",
     "output_type": "stream",
     "text": [
      "/tf/empty_homes_london/helper_functions.py:272: SettingWithCopyWarning: \n",
      "A value is trying to be set on a copy of a slice from a DataFrame.\n",
      "Try using .loc[row_indexer,col_indexer] = value instead\n",
      "\n",
      "See the caveats in the documentation: https://pandas.pydata.org/pandas-docs/stable/user_guide/indexing.html#returning-a-view-versus-a-copy\n",
      "  temp_multi['number_filter'] = filter_types\n"
     ]
    },
    {
     "name": "stdout",
     "output_type": "stream",
     "text": [
      "E06000003\n",
      "i= 0  expand time,0.0 filter time0.0 make_dataframe_time 0.001\n"
     ]
    },
    {
     "name": "stderr",
     "output_type": "stream",
     "text": [
      "/tf/empty_homes_london/helper_functions.py:272: SettingWithCopyWarning: \n",
      "A value is trying to be set on a copy of a slice from a DataFrame.\n",
      "Try using .loc[row_indexer,col_indexer] = value instead\n",
      "\n",
      "See the caveats in the documentation: https://pandas.pydata.org/pandas-docs/stable/user_guide/indexing.html#returning-a-view-versus-a-copy\n",
      "  temp_multi['number_filter'] = filter_types\n"
     ]
    },
    {
     "name": "stdout",
     "output_type": "stream",
     "text": [
      "E08000014\n",
      "i= 0  expand time,0.0 filter time0.0 make_dataframe_time 0.001\n"
     ]
    },
    {
     "name": "stderr",
     "output_type": "stream",
     "text": [
      "/tf/empty_homes_london/helper_functions.py:272: SettingWithCopyWarning: \n",
      "A value is trying to be set on a copy of a slice from a DataFrame.\n",
      "Try using .loc[row_indexer,col_indexer] = value instead\n",
      "\n",
      "See the caveats in the documentation: https://pandas.pydata.org/pandas-docs/stable/user_guide/indexing.html#returning-a-view-versus-a-copy\n",
      "  temp_multi['number_filter'] = filter_types\n"
     ]
    },
    {
     "name": "stdout",
     "output_type": "stream",
     "text": [
      "E09000014\n",
      "i= 0  expand time,0.0 filter time0.0 make_dataframe_time 0.001\n"
     ]
    },
    {
     "name": "stderr",
     "output_type": "stream",
     "text": [
      "/tf/empty_homes_london/helper_functions.py:272: SettingWithCopyWarning: \n",
      "A value is trying to be set on a copy of a slice from a DataFrame.\n",
      "Try using .loc[row_indexer,col_indexer] = value instead\n",
      "\n",
      "See the caveats in the documentation: https://pandas.pydata.org/pandas-docs/stable/user_guide/indexing.html#returning-a-view-versus-a-copy\n",
      "  temp_multi['number_filter'] = filter_types\n"
     ]
    },
    {
     "name": "stdout",
     "output_type": "stream",
     "text": [
      "E07000174\n",
      "i= 0  expand time,0.0 filter time0.0 make_dataframe_time 0.001\n"
     ]
    },
    {
     "name": "stderr",
     "output_type": "stream",
     "text": [
      "/tf/empty_homes_london/helper_functions.py:272: SettingWithCopyWarning: \n",
      "A value is trying to be set on a copy of a slice from a DataFrame.\n",
      "Try using .loc[row_indexer,col_indexer] = value instead\n",
      "\n",
      "See the caveats in the documentation: https://pandas.pydata.org/pandas-docs/stable/user_guide/indexing.html#returning-a-view-versus-a-copy\n",
      "  temp_multi['number_filter'] = filter_types\n"
     ]
    },
    {
     "name": "stdout",
     "output_type": "stream",
     "text": [
      "E09000030\n"
     ]
    },
    {
     "name": "stderr",
     "output_type": "stream",
     "text": [
      "/tf/empty_homes_london/helper_functions.py:272: SettingWithCopyWarning: \n",
      "A value is trying to be set on a copy of a slice from a DataFrame.\n",
      "Try using .loc[row_indexer,col_indexer] = value instead\n",
      "\n",
      "See the caveats in the documentation: https://pandas.pydata.org/pandas-docs/stable/user_guide/indexing.html#returning-a-view-versus-a-copy\n",
      "  temp_multi['number_filter'] = filter_types\n"
     ]
    },
    {
     "name": "stdout",
     "output_type": "stream",
     "text": [
      "i= 0  expand time,0.0 filter time0.0 make_dataframe_time 0.002\n",
      "E06000018\n",
      "i= 0  expand time,0.0 filter time0.0 make_dataframe_time 0.001\n"
     ]
    },
    {
     "name": "stderr",
     "output_type": "stream",
     "text": [
      "/tf/empty_homes_london/helper_functions.py:272: SettingWithCopyWarning: \n",
      "A value is trying to be set on a copy of a slice from a DataFrame.\n",
      "Try using .loc[row_indexer,col_indexer] = value instead\n",
      "\n",
      "See the caveats in the documentation: https://pandas.pydata.org/pandas-docs/stable/user_guide/indexing.html#returning-a-view-versus-a-copy\n",
      "  temp_multi['number_filter'] = filter_types\n"
     ]
    },
    {
     "name": "stdout",
     "output_type": "stream",
     "text": [
      "E07000198\n",
      "i= 0  expand time,0.0 filter time0.0 make_dataframe_time 0.001\n",
      "E07000177\n"
     ]
    },
    {
     "name": "stderr",
     "output_type": "stream",
     "text": [
      "/tf/empty_homes_london/helper_functions.py:272: SettingWithCopyWarning: \n",
      "A value is trying to be set on a copy of a slice from a DataFrame.\n",
      "Try using .loc[row_indexer,col_indexer] = value instead\n",
      "\n",
      "See the caveats in the documentation: https://pandas.pydata.org/pandas-docs/stable/user_guide/indexing.html#returning-a-view-versus-a-copy\n",
      "  temp_multi['number_filter'] = filter_types\n",
      "/tf/empty_homes_london/helper_functions.py:272: SettingWithCopyWarning: \n",
      "A value is trying to be set on a copy of a slice from a DataFrame.\n",
      "Try using .loc[row_indexer,col_indexer] = value instead\n",
      "\n",
      "See the caveats in the documentation: https://pandas.pydata.org/pandas-docs/stable/user_guide/indexing.html#returning-a-view-versus-a-copy\n",
      "  temp_multi['number_filter'] = filter_types\n"
     ]
    },
    {
     "name": "stdout",
     "output_type": "stream",
     "text": [
      "i= 0  expand time,0.0 filter time0.0 make_dataframe_time 0.001\n",
      "E08000021\n",
      "i= 0  expand time,0.0 filter time0.0 make_dataframe_time 0.001\n"
     ]
    },
    {
     "name": "stderr",
     "output_type": "stream",
     "text": [
      "/tf/empty_homes_london/helper_functions.py:272: SettingWithCopyWarning: \n",
      "A value is trying to be set on a copy of a slice from a DataFrame.\n",
      "Try using .loc[row_indexer,col_indexer] = value instead\n",
      "\n",
      "See the caveats in the documentation: https://pandas.pydata.org/pandas-docs/stable/user_guide/indexing.html#returning-a-view-versus-a-copy\n",
      "  temp_multi['number_filter'] = filter_types\n"
     ]
    },
    {
     "name": "stdout",
     "output_type": "stream",
     "text": [
      "W06000014\n",
      "i= 0  expand time,0.0 filter time0.0 make_dataframe_time 0.001\n",
      "E07000061\n"
     ]
    },
    {
     "name": "stderr",
     "output_type": "stream",
     "text": [
      "/tf/empty_homes_london/helper_functions.py:272: SettingWithCopyWarning: \n",
      "A value is trying to be set on a copy of a slice from a DataFrame.\n",
      "Try using .loc[row_indexer,col_indexer] = value instead\n",
      "\n",
      "See the caveats in the documentation: https://pandas.pydata.org/pandas-docs/stable/user_guide/indexing.html#returning-a-view-versus-a-copy\n",
      "  temp_multi['number_filter'] = filter_types\n",
      "/tf/empty_homes_london/helper_functions.py:272: SettingWithCopyWarning: \n",
      "A value is trying to be set on a copy of a slice from a DataFrame.\n",
      "Try using .loc[row_indexer,col_indexer] = value instead\n",
      "\n",
      "See the caveats in the documentation: https://pandas.pydata.org/pandas-docs/stable/user_guide/indexing.html#returning-a-view-versus-a-copy\n",
      "  temp_multi['number_filter'] = filter_types\n"
     ]
    },
    {
     "name": "stdout",
     "output_type": "stream",
     "text": [
      "i= 0  expand time,0.0 filter time0.0 make_dataframe_time 0.001\n",
      "E07000090\n"
     ]
    },
    {
     "name": "stderr",
     "output_type": "stream",
     "text": [
      "/tf/empty_homes_london/helper_functions.py:272: SettingWithCopyWarning: \n",
      "A value is trying to be set on a copy of a slice from a DataFrame.\n",
      "Try using .loc[row_indexer,col_indexer] = value instead\n",
      "\n",
      "See the caveats in the documentation: https://pandas.pydata.org/pandas-docs/stable/user_guide/indexing.html#returning-a-view-versus-a-copy\n",
      "  temp_multi['number_filter'] = filter_types\n"
     ]
    },
    {
     "name": "stdout",
     "output_type": "stream",
     "text": [
      "i= 0  expand time,0.0 filter time0.0 make_dataframe_time 0.001\n",
      "E09000013\n"
     ]
    },
    {
     "name": "stderr",
     "output_type": "stream",
     "text": [
      "/tf/empty_homes_london/helper_functions.py:272: SettingWithCopyWarning: \n",
      "A value is trying to be set on a copy of a slice from a DataFrame.\n",
      "Try using .loc[row_indexer,col_indexer] = value instead\n",
      "\n",
      "See the caveats in the documentation: https://pandas.pydata.org/pandas-docs/stable/user_guide/indexing.html#returning-a-view-versus-a-copy\n",
      "  temp_multi['number_filter'] = filter_types\n"
     ]
    },
    {
     "name": "stdout",
     "output_type": "stream",
     "text": [
      "i= 0  expand time,0.0 filter time0.0 make_dataframe_time 0.001\n",
      "E08000024\n",
      "i= 0  expand time,0.0 filter time0.0 make_dataframe_time 0.001\n"
     ]
    },
    {
     "name": "stderr",
     "output_type": "stream",
     "text": [
      "/tf/empty_homes_london/helper_functions.py:272: SettingWithCopyWarning: \n",
      "A value is trying to be set on a copy of a slice from a DataFrame.\n",
      "Try using .loc[row_indexer,col_indexer] = value instead\n",
      "\n",
      "See the caveats in the documentation: https://pandas.pydata.org/pandas-docs/stable/user_guide/indexing.html#returning-a-view-versus-a-copy\n",
      "  temp_multi['number_filter'] = filter_types\n"
     ]
    },
    {
     "name": "stdout",
     "output_type": "stream",
     "text": [
      "W06000003\n",
      "i= 0  expand time,0.0 filter time0.0 make_dataframe_time 0.001\n",
      "E09000025\n"
     ]
    },
    {
     "name": "stderr",
     "output_type": "stream",
     "text": [
      "/tf/empty_homes_london/helper_functions.py:272: SettingWithCopyWarning: \n",
      "A value is trying to be set on a copy of a slice from a DataFrame.\n",
      "Try using .loc[row_indexer,col_indexer] = value instead\n",
      "\n",
      "See the caveats in the documentation: https://pandas.pydata.org/pandas-docs/stable/user_guide/indexing.html#returning-a-view-versus-a-copy\n",
      "  temp_multi['number_filter'] = filter_types\n",
      "/tf/empty_homes_london/helper_functions.py:272: SettingWithCopyWarning: \n",
      "A value is trying to be set on a copy of a slice from a DataFrame.\n",
      "Try using .loc[row_indexer,col_indexer] = value instead\n",
      "\n",
      "See the caveats in the documentation: https://pandas.pydata.org/pandas-docs/stable/user_guide/indexing.html#returning-a-view-versus-a-copy\n",
      "  temp_multi['number_filter'] = filter_types\n"
     ]
    },
    {
     "name": "stdout",
     "output_type": "stream",
     "text": [
      "i= 0  expand time,0.0 filter time0.0 make_dataframe_time 0.001\n",
      "E07000116\n",
      "i= 0  expand time,0.0 filter time0.0 make_dataframe_time 0.001\n"
     ]
    },
    {
     "name": "stderr",
     "output_type": "stream",
     "text": [
      "/tf/empty_homes_london/helper_functions.py:272: SettingWithCopyWarning: \n",
      "A value is trying to be set on a copy of a slice from a DataFrame.\n",
      "Try using .loc[row_indexer,col_indexer] = value instead\n",
      "\n",
      "See the caveats in the documentation: https://pandas.pydata.org/pandas-docs/stable/user_guide/indexing.html#returning-a-view-versus-a-copy\n",
      "  temp_multi['number_filter'] = filter_types\n"
     ]
    },
    {
     "name": "stdout",
     "output_type": "stream",
     "text": [
      "W06000002\n",
      "i= 0  expand time,0.0 filter time0.0 make_dataframe_time 0.001\n"
     ]
    },
    {
     "name": "stderr",
     "output_type": "stream",
     "text": [
      "/tf/empty_homes_london/helper_functions.py:272: SettingWithCopyWarning: \n",
      "A value is trying to be set on a copy of a slice from a DataFrame.\n",
      "Try using .loc[row_indexer,col_indexer] = value instead\n",
      "\n",
      "See the caveats in the documentation: https://pandas.pydata.org/pandas-docs/stable/user_guide/indexing.html#returning-a-view-versus-a-copy\n",
      "  temp_multi['number_filter'] = filter_types\n"
     ]
    },
    {
     "name": "stdout",
     "output_type": "stream",
     "text": [
      "E06000036\n",
      "i= 0  expand time,0.0 filter time0.0 make_dataframe_time 0.001\n",
      "W06000011\n"
     ]
    },
    {
     "name": "stderr",
     "output_type": "stream",
     "text": [
      "/tf/empty_homes_london/helper_functions.py:272: SettingWithCopyWarning: \n",
      "A value is trying to be set on a copy of a slice from a DataFrame.\n",
      "Try using .loc[row_indexer,col_indexer] = value instead\n",
      "\n",
      "See the caveats in the documentation: https://pandas.pydata.org/pandas-docs/stable/user_guide/indexing.html#returning-a-view-versus-a-copy\n",
      "  temp_multi['number_filter'] = filter_types\n",
      "/tf/empty_homes_london/helper_functions.py:272: SettingWithCopyWarning: \n",
      "A value is trying to be set on a copy of a slice from a DataFrame.\n",
      "Try using .loc[row_indexer,col_indexer] = value instead\n",
      "\n",
      "See the caveats in the documentation: https://pandas.pydata.org/pandas-docs/stable/user_guide/indexing.html#returning-a-view-versus-a-copy\n",
      "  temp_multi['number_filter'] = filter_types\n"
     ]
    },
    {
     "name": "stdout",
     "output_type": "stream",
     "text": [
      "i= 0  expand time,0.0 filter time0.0 make_dataframe_time 0.001\n",
      "E08000025\n",
      "i= 0  expand time,0.0 filter time0.0 make_dataframe_time 0.001\n"
     ]
    },
    {
     "name": "stderr",
     "output_type": "stream",
     "text": [
      "/tf/empty_homes_london/helper_functions.py:272: SettingWithCopyWarning: \n",
      "A value is trying to be set on a copy of a slice from a DataFrame.\n",
      "Try using .loc[row_indexer,col_indexer] = value instead\n",
      "\n",
      "See the caveats in the documentation: https://pandas.pydata.org/pandas-docs/stable/user_guide/indexing.html#returning-a-view-versus-a-copy\n",
      "  temp_multi['number_filter'] = filter_types\n"
     ]
    },
    {
     "name": "stdout",
     "output_type": "stream",
     "text": [
      "E08000031\n",
      "i= 0  expand time,0.0 filter time0.0 make_dataframe_time 0.001\n"
     ]
    },
    {
     "name": "stderr",
     "output_type": "stream",
     "text": [
      "/tf/empty_homes_london/helper_functions.py:272: SettingWithCopyWarning: \n",
      "A value is trying to be set on a copy of a slice from a DataFrame.\n",
      "Try using .loc[row_indexer,col_indexer] = value instead\n",
      "\n",
      "See the caveats in the documentation: https://pandas.pydata.org/pandas-docs/stable/user_guide/indexing.html#returning-a-view-versus-a-copy\n",
      "  temp_multi['number_filter'] = filter_types\n"
     ]
    },
    {
     "name": "stdout",
     "output_type": "stream",
     "text": [
      "E08000029\n",
      "i= 0  expand time,0.0 filter time0.0 make_dataframe_time 0.001\n"
     ]
    },
    {
     "name": "stderr",
     "output_type": "stream",
     "text": [
      "/tf/empty_homes_london/helper_functions.py:272: SettingWithCopyWarning: \n",
      "A value is trying to be set on a copy of a slice from a DataFrame.\n",
      "Try using .loc[row_indexer,col_indexer] = value instead\n",
      "\n",
      "See the caveats in the documentation: https://pandas.pydata.org/pandas-docs/stable/user_guide/indexing.html#returning-a-view-versus-a-copy\n",
      "  temp_multi['number_filter'] = filter_types\n"
     ]
    },
    {
     "name": "stdout",
     "output_type": "stream",
     "text": [
      "E08000008\n",
      "i= 0  expand time,0.0 filter time0.0 make_dataframe_time 0.001\n"
     ]
    },
    {
     "name": "stderr",
     "output_type": "stream",
     "text": [
      "/tf/empty_homes_london/helper_functions.py:272: SettingWithCopyWarning: \n",
      "A value is trying to be set on a copy of a slice from a DataFrame.\n",
      "Try using .loc[row_indexer,col_indexer] = value instead\n",
      "\n",
      "See the caveats in the documentation: https://pandas.pydata.org/pandas-docs/stable/user_guide/indexing.html#returning-a-view-versus-a-copy\n",
      "  temp_multi['number_filter'] = filter_types\n"
     ]
    },
    {
     "name": "stdout",
     "output_type": "stream",
     "text": [
      "E07000226\n",
      "i= 0  expand time,0.0 filter time0.0 make_dataframe_time 0.001\n",
      "W06000006\n"
     ]
    },
    {
     "name": "stderr",
     "output_type": "stream",
     "text": [
      "/tf/empty_homes_london/helper_functions.py:272: SettingWithCopyWarning: \n",
      "A value is trying to be set on a copy of a slice from a DataFrame.\n",
      "Try using .loc[row_indexer,col_indexer] = value instead\n",
      "\n",
      "See the caveats in the documentation: https://pandas.pydata.org/pandas-docs/stable/user_guide/indexing.html#returning-a-view-versus-a-copy\n",
      "  temp_multi['number_filter'] = filter_types\n",
      "/tf/empty_homes_london/helper_functions.py:272: SettingWithCopyWarning: \n",
      "A value is trying to be set on a copy of a slice from a DataFrame.\n",
      "Try using .loc[row_indexer,col_indexer] = value instead\n",
      "\n",
      "See the caveats in the documentation: https://pandas.pydata.org/pandas-docs/stable/user_guide/indexing.html#returning-a-view-versus-a-copy\n",
      "  temp_multi['number_filter'] = filter_types\n"
     ]
    },
    {
     "name": "stdout",
     "output_type": "stream",
     "text": [
      "i= 0  expand time,0.0 filter time0.0 make_dataframe_time 0.001\n",
      "E06000039\n",
      "i= 0  expand time,0.0 filter time0.0 make_dataframe_time 0.001\n"
     ]
    },
    {
     "name": "stderr",
     "output_type": "stream",
     "text": [
      "/tf/empty_homes_london/helper_functions.py:272: SettingWithCopyWarning: \n",
      "A value is trying to be set on a copy of a slice from a DataFrame.\n",
      "Try using .loc[row_indexer,col_indexer] = value instead\n",
      "\n",
      "See the caveats in the documentation: https://pandas.pydata.org/pandas-docs/stable/user_guide/indexing.html#returning-a-view-versus-a-copy\n",
      "  temp_multi['number_filter'] = filter_types\n"
     ]
    },
    {
     "name": "stdout",
     "output_type": "stream",
     "text": [
      "E08000005\n",
      "i= 0  expand time,0.0 filter time0.0 make_dataframe_time 0.001\n"
     ]
    },
    {
     "name": "stderr",
     "output_type": "stream",
     "text": [
      "/tf/empty_homes_london/helper_functions.py:272: SettingWithCopyWarning: \n",
      "A value is trying to be set on a copy of a slice from a DataFrame.\n",
      "Try using .loc[row_indexer,col_indexer] = value instead\n",
      "\n",
      "See the caveats in the documentation: https://pandas.pydata.org/pandas-docs/stable/user_guide/indexing.html#returning-a-view-versus-a-copy\n",
      "  temp_multi['number_filter'] = filter_types\n"
     ]
    },
    {
     "name": "stdout",
     "output_type": "stream",
     "text": [
      "E06000023\n",
      "i= 0  expand time,0.0 filter time0.0 make_dataframe_time 0.001\n"
     ]
    },
    {
     "name": "stderr",
     "output_type": "stream",
     "text": [
      "/tf/empty_homes_london/helper_functions.py:272: SettingWithCopyWarning: \n",
      "A value is trying to be set on a copy of a slice from a DataFrame.\n",
      "Try using .loc[row_indexer,col_indexer] = value instead\n",
      "\n",
      "See the caveats in the documentation: https://pandas.pydata.org/pandas-docs/stable/user_guide/indexing.html#returning-a-view-versus-a-copy\n",
      "  temp_multi['number_filter'] = filter_types\n"
     ]
    },
    {
     "name": "stdout",
     "output_type": "stream",
     "text": [
      "E09000006\n",
      "i= 0  expand time,0.0 filter time0.0 make_dataframe_time 0.001\n"
     ]
    },
    {
     "name": "stderr",
     "output_type": "stream",
     "text": [
      "/tf/empty_homes_london/helper_functions.py:272: SettingWithCopyWarning: \n",
      "A value is trying to be set on a copy of a slice from a DataFrame.\n",
      "Try using .loc[row_indexer,col_indexer] = value instead\n",
      "\n",
      "See the caveats in the documentation: https://pandas.pydata.org/pandas-docs/stable/user_guide/indexing.html#returning-a-view-versus-a-copy\n",
      "  temp_multi['number_filter'] = filter_types\n"
     ]
    },
    {
     "name": "stdout",
     "output_type": "stream",
     "text": [
      "E07000121\n",
      "i= 0  expand time,0.0 filter time0.0 make_dataframe_time 0.001\n"
     ]
    },
    {
     "name": "stderr",
     "output_type": "stream",
     "text": [
      "/tf/empty_homes_london/helper_functions.py:272: SettingWithCopyWarning: \n",
      "A value is trying to be set on a copy of a slice from a DataFrame.\n",
      "Try using .loc[row_indexer,col_indexer] = value instead\n",
      "\n",
      "See the caveats in the documentation: https://pandas.pydata.org/pandas-docs/stable/user_guide/indexing.html#returning-a-view-versus-a-copy\n",
      "  temp_multi['number_filter'] = filter_types\n"
     ]
    },
    {
     "name": "stdout",
     "output_type": "stream",
     "text": [
      "E09000017\n",
      "i= 0  expand time,0.0 filter time0.0 make_dataframe_time 0.001\n"
     ]
    },
    {
     "name": "stderr",
     "output_type": "stream",
     "text": [
      "/tf/empty_homes_london/helper_functions.py:272: SettingWithCopyWarning: \n",
      "A value is trying to be set on a copy of a slice from a DataFrame.\n",
      "Try using .loc[row_indexer,col_indexer] = value instead\n",
      "\n",
      "See the caveats in the documentation: https://pandas.pydata.org/pandas-docs/stable/user_guide/indexing.html#returning-a-view-versus-a-copy\n",
      "  temp_multi['number_filter'] = filter_types\n"
     ]
    },
    {
     "name": "stdout",
     "output_type": "stream",
     "text": [
      "E09000018\n",
      "i= 0  expand time,0.0 filter time0.0 make_dataframe_time 0.001\n"
     ]
    },
    {
     "name": "stderr",
     "output_type": "stream",
     "text": [
      "/tf/empty_homes_london/helper_functions.py:272: SettingWithCopyWarning: \n",
      "A value is trying to be set on a copy of a slice from a DataFrame.\n",
      "Try using .loc[row_indexer,col_indexer] = value instead\n",
      "\n",
      "See the caveats in the documentation: https://pandas.pydata.org/pandas-docs/stable/user_guide/indexing.html#returning-a-view-versus-a-copy\n",
      "  temp_multi['number_filter'] = filter_types\n"
     ]
    },
    {
     "name": "stdout",
     "output_type": "stream",
     "text": [
      "E09000003\n",
      "i= 0  expand time,0.0 filter time0.0 make_dataframe_time 0.001\n"
     ]
    },
    {
     "name": "stderr",
     "output_type": "stream",
     "text": [
      "/tf/empty_homes_london/helper_functions.py:272: SettingWithCopyWarning: \n",
      "A value is trying to be set on a copy of a slice from a DataFrame.\n",
      "Try using .loc[row_indexer,col_indexer] = value instead\n",
      "\n",
      "See the caveats in the documentation: https://pandas.pydata.org/pandas-docs/stable/user_guide/indexing.html#returning-a-view-versus-a-copy\n",
      "  temp_multi['number_filter'] = filter_types\n"
     ]
    },
    {
     "name": "stdout",
     "output_type": "stream",
     "text": [
      "E07000106\n",
      "i= 0  expand time,0.0 filter time0.0 make_dataframe_time 0.001\n"
     ]
    },
    {
     "name": "stderr",
     "output_type": "stream",
     "text": [
      "/tf/empty_homes_london/helper_functions.py:272: SettingWithCopyWarning: \n",
      "A value is trying to be set on a copy of a slice from a DataFrame.\n",
      "Try using .loc[row_indexer,col_indexer] = value instead\n",
      "\n",
      "See the caveats in the documentation: https://pandas.pydata.org/pandas-docs/stable/user_guide/indexing.html#returning-a-view-versus-a-copy\n",
      "  temp_multi['number_filter'] = filter_types\n"
     ]
    },
    {
     "name": "stdout",
     "output_type": "stream",
     "text": [
      "E07000229\n",
      "i= 0  expand time,0.0 filter time0.0 make_dataframe_time 0.001\n"
     ]
    },
    {
     "name": "stderr",
     "output_type": "stream",
     "text": [
      "/tf/empty_homes_london/helper_functions.py:272: SettingWithCopyWarning: \n",
      "A value is trying to be set on a copy of a slice from a DataFrame.\n",
      "Try using .loc[row_indexer,col_indexer] = value instead\n",
      "\n",
      "See the caveats in the documentation: https://pandas.pydata.org/pandas-docs/stable/user_guide/indexing.html#returning-a-view-versus-a-copy\n",
      "  temp_multi['number_filter'] = filter_types\n"
     ]
    },
    {
     "name": "stdout",
     "output_type": "stream",
     "text": [
      "E08000034\n",
      "i= 0  expand time,0.0 filter time0.0 make_dataframe_time 0.001\n"
     ]
    },
    {
     "name": "stderr",
     "output_type": "stream",
     "text": [
      "/tf/empty_homes_london/helper_functions.py:272: SettingWithCopyWarning: \n",
      "A value is trying to be set on a copy of a slice from a DataFrame.\n",
      "Try using .loc[row_indexer,col_indexer] = value instead\n",
      "\n",
      "See the caveats in the documentation: https://pandas.pydata.org/pandas-docs/stable/user_guide/indexing.html#returning-a-view-versus-a-copy\n",
      "  temp_multi['number_filter'] = filter_types\n"
     ]
    },
    {
     "name": "stdout",
     "output_type": "stream",
     "text": [
      "E07000111\n",
      "i= 0  expand time,0.0 filter time0.0 make_dataframe_time 0.001\n"
     ]
    },
    {
     "name": "stderr",
     "output_type": "stream",
     "text": [
      "/tf/empty_homes_london/helper_functions.py:272: SettingWithCopyWarning: \n",
      "A value is trying to be set on a copy of a slice from a DataFrame.\n",
      "Try using .loc[row_indexer,col_indexer] = value instead\n",
      "\n",
      "See the caveats in the documentation: https://pandas.pydata.org/pandas-docs/stable/user_guide/indexing.html#returning-a-view-versus-a-copy\n",
      "  temp_multi['number_filter'] = filter_types\n"
     ]
    },
    {
     "name": "stdout",
     "output_type": "stream",
     "text": [
      "E09000023\n",
      "i= 0  expand time,0.0 filter time0.0 make_dataframe_time 0.001\n"
     ]
    },
    {
     "name": "stderr",
     "output_type": "stream",
     "text": [
      "/tf/empty_homes_london/helper_functions.py:272: SettingWithCopyWarning: \n",
      "A value is trying to be set on a copy of a slice from a DataFrame.\n",
      "Try using .loc[row_indexer,col_indexer] = value instead\n",
      "\n",
      "See the caveats in the documentation: https://pandas.pydata.org/pandas-docs/stable/user_guide/indexing.html#returning-a-view-versus-a-copy\n",
      "  temp_multi['number_filter'] = filter_types\n"
     ]
    },
    {
     "name": "stdout",
     "output_type": "stream",
     "text": [
      "E07000165\n",
      "i= 0  expand time,0.0 filter time0.0 make_dataframe_time 0.001\n",
      "E07000034\n"
     ]
    },
    {
     "name": "stderr",
     "output_type": "stream",
     "text": [
      "/tf/empty_homes_london/helper_functions.py:272: SettingWithCopyWarning: \n",
      "A value is trying to be set on a copy of a slice from a DataFrame.\n",
      "Try using .loc[row_indexer,col_indexer] = value instead\n",
      "\n",
      "See the caveats in the documentation: https://pandas.pydata.org/pandas-docs/stable/user_guide/indexing.html#returning-a-view-versus-a-copy\n",
      "  temp_multi['number_filter'] = filter_types\n",
      "/tf/empty_homes_london/helper_functions.py:272: SettingWithCopyWarning: \n",
      "A value is trying to be set on a copy of a slice from a DataFrame.\n",
      "Try using .loc[row_indexer,col_indexer] = value instead\n",
      "\n",
      "See the caveats in the documentation: https://pandas.pydata.org/pandas-docs/stable/user_guide/indexing.html#returning-a-view-versus-a-copy\n",
      "  temp_multi['number_filter'] = filter_types\n"
     ]
    },
    {
     "name": "stdout",
     "output_type": "stream",
     "text": [
      "i= 0  expand time,0.0 filter time0.0 make_dataframe_time 0.001\n",
      "E07000008\n"
     ]
    },
    {
     "name": "stderr",
     "output_type": "stream",
     "text": [
      "/tf/empty_homes_london/helper_functions.py:272: SettingWithCopyWarning: \n",
      "A value is trying to be set on a copy of a slice from a DataFrame.\n",
      "Try using .loc[row_indexer,col_indexer] = value instead\n",
      "\n",
      "See the caveats in the documentation: https://pandas.pydata.org/pandas-docs/stable/user_guide/indexing.html#returning-a-view-versus-a-copy\n",
      "  temp_multi['number_filter'] = filter_types\n"
     ]
    },
    {
     "name": "stdout",
     "output_type": "stream",
     "text": [
      "i= 0  expand time,0.0 filter time0.0 make_dataframe_time 0.0\n",
      "E06000007\n"
     ]
    },
    {
     "name": "stderr",
     "output_type": "stream",
     "text": [
      "/tf/empty_homes_london/helper_functions.py:272: SettingWithCopyWarning: \n",
      "A value is trying to be set on a copy of a slice from a DataFrame.\n",
      "Try using .loc[row_indexer,col_indexer] = value instead\n",
      "\n",
      "See the caveats in the documentation: https://pandas.pydata.org/pandas-docs/stable/user_guide/indexing.html#returning-a-view-versus-a-copy\n",
      "  temp_multi['number_filter'] = filter_types\n"
     ]
    },
    {
     "name": "stdout",
     "output_type": "stream",
     "text": [
      "i= 0  expand time,0.0 filter time0.0 make_dataframe_time 0.001\n",
      "E07000118\n"
     ]
    },
    {
     "name": "stderr",
     "output_type": "stream",
     "text": [
      "/tf/empty_homes_london/helper_functions.py:272: SettingWithCopyWarning: \n",
      "A value is trying to be set on a copy of a slice from a DataFrame.\n",
      "Try using .loc[row_indexer,col_indexer] = value instead\n",
      "\n",
      "See the caveats in the documentation: https://pandas.pydata.org/pandas-docs/stable/user_guide/indexing.html#returning-a-view-versus-a-copy\n",
      "  temp_multi['number_filter'] = filter_types\n"
     ]
    },
    {
     "name": "stdout",
     "output_type": "stream",
     "text": [
      "i= 0  expand time,0.0 filter time0.0 make_dataframe_time 0.001\n",
      "E09000021\n"
     ]
    },
    {
     "name": "stderr",
     "output_type": "stream",
     "text": [
      "/tf/empty_homes_london/helper_functions.py:272: SettingWithCopyWarning: \n",
      "A value is trying to be set on a copy of a slice from a DataFrame.\n",
      "Try using .loc[row_indexer,col_indexer] = value instead\n",
      "\n",
      "See the caveats in the documentation: https://pandas.pydata.org/pandas-docs/stable/user_guide/indexing.html#returning-a-view-versus-a-copy\n",
      "  temp_multi['number_filter'] = filter_types\n"
     ]
    },
    {
     "name": "stdout",
     "output_type": "stream",
     "text": [
      "i= 0  expand time,0.0 filter time0.0 make_dataframe_time 0.001\n",
      "E07000069\n",
      "i= 0  expand time,0.0 filter time0.0 make_dataframe_time 0.001\n",
      "E07000073\n"
     ]
    },
    {
     "name": "stderr",
     "output_type": "stream",
     "text": [
      "/tf/empty_homes_london/helper_functions.py:272: SettingWithCopyWarning: \n",
      "A value is trying to be set on a copy of a slice from a DataFrame.\n",
      "Try using .loc[row_indexer,col_indexer] = value instead\n",
      "\n",
      "See the caveats in the documentation: https://pandas.pydata.org/pandas-docs/stable/user_guide/indexing.html#returning-a-view-versus-a-copy\n",
      "  temp_multi['number_filter'] = filter_types\n",
      "/tf/empty_homes_london/helper_functions.py:272: SettingWithCopyWarning: \n",
      "A value is trying to be set on a copy of a slice from a DataFrame.\n",
      "Try using .loc[row_indexer,col_indexer] = value instead\n",
      "\n",
      "See the caveats in the documentation: https://pandas.pydata.org/pandas-docs/stable/user_guide/indexing.html#returning-a-view-versus-a-copy\n",
      "  temp_multi['number_filter'] = filter_types\n"
     ]
    },
    {
     "name": "stdout",
     "output_type": "stream",
     "text": [
      "i= 0  expand time,0.0 filter time0.0 make_dataframe_time 0.001\n",
      "E09000031\n",
      "i= 0  expand time,0.0 filter time0.0 make_dataframe_time 0.0\n"
     ]
    },
    {
     "name": "stderr",
     "output_type": "stream",
     "text": [
      "/tf/empty_homes_london/helper_functions.py:272: SettingWithCopyWarning: \n",
      "A value is trying to be set on a copy of a slice from a DataFrame.\n",
      "Try using .loc[row_indexer,col_indexer] = value instead\n",
      "\n",
      "See the caveats in the documentation: https://pandas.pydata.org/pandas-docs/stable/user_guide/indexing.html#returning-a-view-versus-a-copy\n",
      "  temp_multi['number_filter'] = filter_types\n"
     ]
    },
    {
     "name": "stdout",
     "output_type": "stream",
     "text": [
      "E07000172\n",
      "i= 0  expand time,0.0 filter time0.0 make_dataframe_time 0.001\n",
      "E06000041\n"
     ]
    },
    {
     "name": "stderr",
     "output_type": "stream",
     "text": [
      "/tf/empty_homes_london/helper_functions.py:272: SettingWithCopyWarning: \n",
      "A value is trying to be set on a copy of a slice from a DataFrame.\n",
      "Try using .loc[row_indexer,col_indexer] = value instead\n",
      "\n",
      "See the caveats in the documentation: https://pandas.pydata.org/pandas-docs/stable/user_guide/indexing.html#returning-a-view-versus-a-copy\n",
      "  temp_multi['number_filter'] = filter_types\n",
      "/tf/empty_homes_london/helper_functions.py:272: SettingWithCopyWarning: \n",
      "A value is trying to be set on a copy of a slice from a DataFrame.\n",
      "Try using .loc[row_indexer,col_indexer] = value instead\n",
      "\n",
      "See the caveats in the documentation: https://pandas.pydata.org/pandas-docs/stable/user_guide/indexing.html#returning-a-view-versus-a-copy\n",
      "  temp_multi['number_filter'] = filter_types\n",
      "/tf/empty_homes_london/helper_functions.py:272: SettingWithCopyWarning: \n",
      "A value is trying to be set on a copy of a slice from a DataFrame.\n",
      "Try using .loc[row_indexer,col_indexer] = value instead\n",
      "\n",
      "See the caveats in the documentation: https://pandas.pydata.org/pandas-docs/stable/user_guide/indexing.html#returning-a-view-versus-a-copy\n",
      "  temp_multi['number_filter'] = filter_types\n"
     ]
    },
    {
     "name": "stdout",
     "output_type": "stream",
     "text": [
      "i= 0  expand time,0.0 filter time0.0 make_dataframe_time 0.001\n",
      "E06000042\n",
      "i= 0  expand time,0.0 filter time0.0 make_dataframe_time 0.001\n",
      "E06000021\n",
      "i= 0  expand time,0.0 filter time0.0 make_dataframe_time 0.001\n"
     ]
    },
    {
     "name": "stderr",
     "output_type": "stream",
     "text": [
      "/tf/empty_homes_london/helper_functions.py:272: SettingWithCopyWarning: \n",
      "A value is trying to be set on a copy of a slice from a DataFrame.\n",
      "Try using .loc[row_indexer,col_indexer] = value instead\n",
      "\n",
      "See the caveats in the documentation: https://pandas.pydata.org/pandas-docs/stable/user_guide/indexing.html#returning-a-view-versus-a-copy\n",
      "  temp_multi['number_filter'] = filter_types\n"
     ]
    },
    {
     "name": "stdout",
     "output_type": "stream",
     "text": [
      "E07000211\n",
      "i= 0  expand time,0.0 filter time0.0 make_dataframe_time 0.001\n"
     ]
    },
    {
     "name": "stderr",
     "output_type": "stream",
     "text": [
      "/tf/empty_homes_london/helper_functions.py:272: SettingWithCopyWarning: \n",
      "A value is trying to be set on a copy of a slice from a DataFrame.\n",
      "Try using .loc[row_indexer,col_indexer] = value instead\n",
      "\n",
      "See the caveats in the documentation: https://pandas.pydata.org/pandas-docs/stable/user_guide/indexing.html#returning-a-view-versus-a-copy\n",
      "  temp_multi['number_filter'] = filter_types\n"
     ]
    },
    {
     "name": "stdout",
     "output_type": "stream",
     "text": [
      "E07000246\n",
      "i= 0  expand time,0.0 filter time0.0 make_dataframe_time 0.001\n"
     ]
    },
    {
     "name": "stderr",
     "output_type": "stream",
     "text": [
      "/tf/empty_homes_london/helper_functions.py:272: SettingWithCopyWarning: \n",
      "A value is trying to be set on a copy of a slice from a DataFrame.\n",
      "Try using .loc[row_indexer,col_indexer] = value instead\n",
      "\n",
      "See the caveats in the documentation: https://pandas.pydata.org/pandas-docs/stable/user_guide/indexing.html#returning-a-view-versus-a-copy\n",
      "  temp_multi['number_filter'] = filter_types\n"
     ]
    },
    {
     "name": "stdout",
     "output_type": "stream",
     "text": [
      "E08000022\n",
      "i= 0  expand time,0.0 filter time0.0 make_dataframe_time 0.001\n"
     ]
    },
    {
     "name": "stderr",
     "output_type": "stream",
     "text": [
      "/tf/empty_homes_london/helper_functions.py:272: SettingWithCopyWarning: \n",
      "A value is trying to be set on a copy of a slice from a DataFrame.\n",
      "Try using .loc[row_indexer,col_indexer] = value instead\n",
      "\n",
      "See the caveats in the documentation: https://pandas.pydata.org/pandas-docs/stable/user_guide/indexing.html#returning-a-view-versus-a-copy\n",
      "  temp_multi['number_filter'] = filter_types\n"
     ]
    },
    {
     "name": "stdout",
     "output_type": "stream",
     "text": [
      "E07000027\n",
      "i= 0  expand time,0.001 filter time0.001 make_dataframe_time 0.001\n",
      "W06000016\n"
     ]
    },
    {
     "name": "stderr",
     "output_type": "stream",
     "text": [
      "/tf/empty_homes_london/helper_functions.py:272: SettingWithCopyWarning: \n",
      "A value is trying to be set on a copy of a slice from a DataFrame.\n",
      "Try using .loc[row_indexer,col_indexer] = value instead\n",
      "\n",
      "See the caveats in the documentation: https://pandas.pydata.org/pandas-docs/stable/user_guide/indexing.html#returning-a-view-versus-a-copy\n",
      "  temp_multi['number_filter'] = filter_types\n",
      "/tf/empty_homes_london/helper_functions.py:272: SettingWithCopyWarning: \n",
      "A value is trying to be set on a copy of a slice from a DataFrame.\n",
      "Try using .loc[row_indexer,col_indexer] = value instead\n",
      "\n",
      "See the caveats in the documentation: https://pandas.pydata.org/pandas-docs/stable/user_guide/indexing.html#returning-a-view-versus-a-copy\n",
      "  temp_multi['number_filter'] = filter_types\n"
     ]
    },
    {
     "name": "stdout",
     "output_type": "stream",
     "text": [
      "i= 0  expand time,0.0 filter time0.0 make_dataframe_time 0.001\n",
      "E07000037\n",
      "i= 0  expand time,0.0 filter time0.0 make_dataframe_time 0.001\n",
      "E06000024\n"
     ]
    },
    {
     "name": "stderr",
     "output_type": "stream",
     "text": [
      "/tf/empty_homes_london/helper_functions.py:272: SettingWithCopyWarning: \n",
      "A value is trying to be set on a copy of a slice from a DataFrame.\n",
      "Try using .loc[row_indexer,col_indexer] = value instead\n",
      "\n",
      "See the caveats in the documentation: https://pandas.pydata.org/pandas-docs/stable/user_guide/indexing.html#returning-a-view-versus-a-copy\n",
      "  temp_multi['number_filter'] = filter_types\n",
      "/tf/empty_homes_london/helper_functions.py:272: SettingWithCopyWarning: \n",
      "A value is trying to be set on a copy of a slice from a DataFrame.\n",
      "Try using .loc[row_indexer,col_indexer] = value instead\n",
      "\n",
      "See the caveats in the documentation: https://pandas.pydata.org/pandas-docs/stable/user_guide/indexing.html#returning-a-view-versus-a-copy\n",
      "  temp_multi['number_filter'] = filter_types\n"
     ]
    },
    {
     "name": "stdout",
     "output_type": "stream",
     "text": [
      "i= 0  expand time,0.0 filter time0.0 make_dataframe_time 0.001\n",
      "E06000059\n"
     ]
    },
    {
     "name": "stderr",
     "output_type": "stream",
     "text": [
      "/tf/empty_homes_london/helper_functions.py:272: SettingWithCopyWarning: \n",
      "A value is trying to be set on a copy of a slice from a DataFrame.\n",
      "Try using .loc[row_indexer,col_indexer] = value instead\n",
      "\n",
      "See the caveats in the documentation: https://pandas.pydata.org/pandas-docs/stable/user_guide/indexing.html#returning-a-view-versus-a-copy\n",
      "  temp_multi['number_filter'] = filter_types\n"
     ]
    },
    {
     "name": "stdout",
     "output_type": "stream",
     "text": [
      "i= 0  expand time,0.0 filter time0.0 make_dataframe_time 0.001\n",
      "E08000030\n"
     ]
    },
    {
     "name": "stderr",
     "output_type": "stream",
     "text": [
      "/tf/empty_homes_london/helper_functions.py:272: SettingWithCopyWarning: \n",
      "A value is trying to be set on a copy of a slice from a DataFrame.\n",
      "Try using .loc[row_indexer,col_indexer] = value instead\n",
      "\n",
      "See the caveats in the documentation: https://pandas.pydata.org/pandas-docs/stable/user_guide/indexing.html#returning-a-view-versus-a-copy\n",
      "  temp_multi['number_filter'] = filter_types\n"
     ]
    },
    {
     "name": "stdout",
     "output_type": "stream",
     "text": [
      "i= 0  expand time,0.0 filter time0.0 make_dataframe_time 0.001\n",
      "E08000006\n"
     ]
    },
    {
     "name": "stderr",
     "output_type": "stream",
     "text": [
      "/tf/empty_homes_london/helper_functions.py:272: SettingWithCopyWarning: \n",
      "A value is trying to be set on a copy of a slice from a DataFrame.\n",
      "Try using .loc[row_indexer,col_indexer] = value instead\n",
      "\n",
      "See the caveats in the documentation: https://pandas.pydata.org/pandas-docs/stable/user_guide/indexing.html#returning-a-view-versus-a-copy\n",
      "  temp_multi['number_filter'] = filter_types\n"
     ]
    },
    {
     "name": "stdout",
     "output_type": "stream",
     "text": [
      "i= 0  expand time,0.001 filter time0.0 make_dataframe_time 0.001\n",
      "E09000029\n",
      "i= 0  expand time,0.0 filter time0.0 make_dataframe_time 0.002\n"
     ]
    },
    {
     "name": "stderr",
     "output_type": "stream",
     "text": [
      "/tf/empty_homes_london/helper_functions.py:272: SettingWithCopyWarning: \n",
      "A value is trying to be set on a copy of a slice from a DataFrame.\n",
      "Try using .loc[row_indexer,col_indexer] = value instead\n",
      "\n",
      "See the caveats in the documentation: https://pandas.pydata.org/pandas-docs/stable/user_guide/indexing.html#returning-a-view-versus-a-copy\n",
      "  temp_multi['number_filter'] = filter_types\n"
     ]
    },
    {
     "name": "stdout",
     "output_type": "stream",
     "text": [
      "E08000018\n",
      "i= 0  expand time,0.0 filter time0.0 make_dataframe_time 0.001\n"
     ]
    },
    {
     "name": "stderr",
     "output_type": "stream",
     "text": [
      "/tf/empty_homes_london/helper_functions.py:272: SettingWithCopyWarning: \n",
      "A value is trying to be set on a copy of a slice from a DataFrame.\n",
      "Try using .loc[row_indexer,col_indexer] = value instead\n",
      "\n",
      "See the caveats in the documentation: https://pandas.pydata.org/pandas-docs/stable/user_guide/indexing.html#returning-a-view-versus-a-copy\n",
      "  temp_multi['number_filter'] = filter_types\n"
     ]
    },
    {
     "name": "stdout",
     "output_type": "stream",
     "text": [
      "E06000025\n",
      "i= 0  expand time,0.0 filter time0.0 make_dataframe_time 0.001\n"
     ]
    },
    {
     "name": "stderr",
     "output_type": "stream",
     "text": [
      "/tf/empty_homes_london/helper_functions.py:272: SettingWithCopyWarning: \n",
      "A value is trying to be set on a copy of a slice from a DataFrame.\n",
      "Try using .loc[row_indexer,col_indexer] = value instead\n",
      "\n",
      "See the caveats in the documentation: https://pandas.pydata.org/pandas-docs/stable/user_guide/indexing.html#returning-a-view-versus-a-copy\n",
      "  temp_multi['number_filter'] = filter_types\n"
     ]
    },
    {
     "name": "stdout",
     "output_type": "stream",
     "text": [
      "E06000038\n",
      "i= 0  expand time,0.0 filter time0.0 make_dataframe_time 0.001\n"
     ]
    },
    {
     "name": "stderr",
     "output_type": "stream",
     "text": [
      "/tf/empty_homes_london/helper_functions.py:272: SettingWithCopyWarning: \n",
      "A value is trying to be set on a copy of a slice from a DataFrame.\n",
      "Try using .loc[row_indexer,col_indexer] = value instead\n",
      "\n",
      "See the caveats in the documentation: https://pandas.pydata.org/pandas-docs/stable/user_guide/indexing.html#returning-a-view-versus-a-copy\n",
      "  temp_multi['number_filter'] = filter_types\n"
     ]
    },
    {
     "name": "stdout",
     "output_type": "stream",
     "text": [
      "E06000051\n",
      "i= 0  expand time,0.0 filter time0.0 make_dataframe_time 0.001\n"
     ]
    },
    {
     "name": "stderr",
     "output_type": "stream",
     "text": [
      "/tf/empty_homes_london/helper_functions.py:272: SettingWithCopyWarning: \n",
      "A value is trying to be set on a copy of a slice from a DataFrame.\n",
      "Try using .loc[row_indexer,col_indexer] = value instead\n",
      "\n",
      "See the caveats in the documentation: https://pandas.pydata.org/pandas-docs/stable/user_guide/indexing.html#returning-a-view-versus-a-copy\n",
      "  temp_multi['number_filter'] = filter_types\n"
     ]
    },
    {
     "name": "stdout",
     "output_type": "stream",
     "text": [
      "E06000043\n",
      "i= 0  expand time,0.0 filter time0.0 make_dataframe_time 0.001\n"
     ]
    },
    {
     "name": "stderr",
     "output_type": "stream",
     "text": [
      "/tf/empty_homes_london/helper_functions.py:272: SettingWithCopyWarning: \n",
      "A value is trying to be set on a copy of a slice from a DataFrame.\n",
      "Try using .loc[row_indexer,col_indexer] = value instead\n",
      "\n",
      "See the caveats in the documentation: https://pandas.pydata.org/pandas-docs/stable/user_guide/indexing.html#returning-a-view-versus-a-copy\n",
      "  temp_multi['number_filter'] = filter_types\n"
     ]
    },
    {
     "name": "stdout",
     "output_type": "stream",
     "text": [
      "E06000009\n",
      "i= 0  expand time,0.0 filter time0.0 make_dataframe_time 0.001\n"
     ]
    },
    {
     "name": "stderr",
     "output_type": "stream",
     "text": [
      "/tf/empty_homes_london/helper_functions.py:272: SettingWithCopyWarning: \n",
      "A value is trying to be set on a copy of a slice from a DataFrame.\n",
      "Try using .loc[row_indexer,col_indexer] = value instead\n",
      "\n",
      "See the caveats in the documentation: https://pandas.pydata.org/pandas-docs/stable/user_guide/indexing.html#returning-a-view-versus-a-copy\n",
      "  temp_multi['number_filter'] = filter_types\n"
     ]
    },
    {
     "name": "stdout",
     "output_type": "stream",
     "text": [
      "E06000040\n",
      "i= 0  expand time,0.0 filter time0.0 make_dataframe_time 0.001\n"
     ]
    },
    {
     "name": "stderr",
     "output_type": "stream",
     "text": [
      "/tf/empty_homes_london/helper_functions.py:272: SettingWithCopyWarning: \n",
      "A value is trying to be set on a copy of a slice from a DataFrame.\n",
      "Try using .loc[row_indexer,col_indexer] = value instead\n",
      "\n",
      "See the caveats in the documentation: https://pandas.pydata.org/pandas-docs/stable/user_guide/indexing.html#returning-a-view-versus-a-copy\n",
      "  temp_multi['number_filter'] = filter_types\n"
     ]
    },
    {
     "name": "stdout",
     "output_type": "stream",
     "text": [
      "E09000002\n",
      "i= 0  expand time,0.0 filter time0.0 make_dataframe_time 0.001\n"
     ]
    },
    {
     "name": "stderr",
     "output_type": "stream",
     "text": [
      "/tf/empty_homes_london/helper_functions.py:272: SettingWithCopyWarning: \n",
      "A value is trying to be set on a copy of a slice from a DataFrame.\n",
      "Try using .loc[row_indexer,col_indexer] = value instead\n",
      "\n",
      "See the caveats in the documentation: https://pandas.pydata.org/pandas-docs/stable/user_guide/indexing.html#returning-a-view-versus-a-copy\n",
      "  temp_multi['number_filter'] = filter_types\n"
     ]
    },
    {
     "name": "stdout",
     "output_type": "stream",
     "text": [
      "E09000026\n",
      "i= 0  expand time,0.0 filter time0.0 make_dataframe_time 0.001\n"
     ]
    },
    {
     "name": "stderr",
     "output_type": "stream",
     "text": [
      "/tf/empty_homes_london/helper_functions.py:272: SettingWithCopyWarning: \n",
      "A value is trying to be set on a copy of a slice from a DataFrame.\n",
      "Try using .loc[row_indexer,col_indexer] = value instead\n",
      "\n",
      "See the caveats in the documentation: https://pandas.pydata.org/pandas-docs/stable/user_guide/indexing.html#returning-a-view-versus-a-copy\n",
      "  temp_multi['number_filter'] = filter_types\n"
     ]
    },
    {
     "name": "stdout",
     "output_type": "stream",
     "text": [
      "E06000058\n",
      "i= 0  expand time,0.0 filter time0.0 make_dataframe_time 0.001\n"
     ]
    },
    {
     "name": "stderr",
     "output_type": "stream",
     "text": [
      "/tf/empty_homes_london/helper_functions.py:272: SettingWithCopyWarning: \n",
      "A value is trying to be set on a copy of a slice from a DataFrame.\n",
      "Try using .loc[row_indexer,col_indexer] = value instead\n",
      "\n",
      "See the caveats in the documentation: https://pandas.pydata.org/pandas-docs/stable/user_guide/indexing.html#returning-a-view-versus-a-copy\n",
      "  temp_multi['number_filter'] = filter_types\n"
     ]
    },
    {
     "name": "stdout",
     "output_type": "stream",
     "text": [
      "E06000015\n",
      "i= 0  expand time,0.0 filter time0.0 make_dataframe_time 0.001\n"
     ]
    },
    {
     "name": "stderr",
     "output_type": "stream",
     "text": [
      "/tf/empty_homes_london/helper_functions.py:272: SettingWithCopyWarning: \n",
      "A value is trying to be set on a copy of a slice from a DataFrame.\n",
      "Try using .loc[row_indexer,col_indexer] = value instead\n",
      "\n",
      "See the caveats in the documentation: https://pandas.pydata.org/pandas-docs/stable/user_guide/indexing.html#returning-a-view-versus-a-copy\n",
      "  temp_multi['number_filter'] = filter_types\n"
     ]
    },
    {
     "name": "stdout",
     "output_type": "stream",
     "text": [
      "E07000126\n",
      "i= 0  expand time,0.0 filter time0.0 make_dataframe_time 0.001\n",
      "E07000228\n"
     ]
    },
    {
     "name": "stderr",
     "output_type": "stream",
     "text": [
      "/tf/empty_homes_london/helper_functions.py:272: SettingWithCopyWarning: \n",
      "A value is trying to be set on a copy of a slice from a DataFrame.\n",
      "Try using .loc[row_indexer,col_indexer] = value instead\n",
      "\n",
      "See the caveats in the documentation: https://pandas.pydata.org/pandas-docs/stable/user_guide/indexing.html#returning-a-view-versus-a-copy\n",
      "  temp_multi['number_filter'] = filter_types\n",
      "/tf/empty_homes_london/helper_functions.py:272: SettingWithCopyWarning: \n",
      "A value is trying to be set on a copy of a slice from a DataFrame.\n",
      "Try using .loc[row_indexer,col_indexer] = value instead\n",
      "\n",
      "See the caveats in the documentation: https://pandas.pydata.org/pandas-docs/stable/user_guide/indexing.html#returning-a-view-versus-a-copy\n",
      "  temp_multi['number_filter'] = filter_types\n"
     ]
    },
    {
     "name": "stdout",
     "output_type": "stream",
     "text": [
      "i= 0  expand time,0.0 filter time0.0 make_dataframe_time 0.002\n",
      "E09000005\n"
     ]
    },
    {
     "name": "stderr",
     "output_type": "stream",
     "text": [
      "/tf/empty_homes_london/helper_functions.py:272: SettingWithCopyWarning: \n",
      "A value is trying to be set on a copy of a slice from a DataFrame.\n",
      "Try using .loc[row_indexer,col_indexer] = value instead\n",
      "\n",
      "See the caveats in the documentation: https://pandas.pydata.org/pandas-docs/stable/user_guide/indexing.html#returning-a-view-versus-a-copy\n",
      "  temp_multi['number_filter'] = filter_types\n"
     ]
    },
    {
     "name": "stdout",
     "output_type": "stream",
     "text": [
      "i= 0  expand time,0.0 filter time0.0 make_dataframe_time 0.001\n",
      "E07000071\n",
      "i= 0  expand time,0.0 filter time0.0 make_dataframe_time 0.002\n",
      "E07000124\n"
     ]
    },
    {
     "name": "stderr",
     "output_type": "stream",
     "text": [
      "/tf/empty_homes_london/helper_functions.py:272: SettingWithCopyWarning: \n",
      "A value is trying to be set on a copy of a slice from a DataFrame.\n",
      "Try using .loc[row_indexer,col_indexer] = value instead\n",
      "\n",
      "See the caveats in the documentation: https://pandas.pydata.org/pandas-docs/stable/user_guide/indexing.html#returning-a-view-versus-a-copy\n",
      "  temp_multi['number_filter'] = filter_types\n",
      "/tf/empty_homes_london/helper_functions.py:272: SettingWithCopyWarning: \n",
      "A value is trying to be set on a copy of a slice from a DataFrame.\n",
      "Try using .loc[row_indexer,col_indexer] = value instead\n",
      "\n",
      "See the caveats in the documentation: https://pandas.pydata.org/pandas-docs/stable/user_guide/indexing.html#returning-a-view-versus-a-copy\n",
      "  temp_multi['number_filter'] = filter_types\n"
     ]
    },
    {
     "name": "stdout",
     "output_type": "stream",
     "text": [
      "i= 0  expand time,0.0 filter time0.0 make_dataframe_time 0.001\n",
      "E07000105\n",
      "i= 0  expand time,0.0 filter time0.0 make_dataframe_time 0.001\n"
     ]
    },
    {
     "name": "stderr",
     "output_type": "stream",
     "text": [
      "/tf/empty_homes_london/helper_functions.py:272: SettingWithCopyWarning: \n",
      "A value is trying to be set on a copy of a slice from a DataFrame.\n",
      "Try using .loc[row_indexer,col_indexer] = value instead\n",
      "\n",
      "See the caveats in the documentation: https://pandas.pydata.org/pandas-docs/stable/user_guide/indexing.html#returning-a-view-versus-a-copy\n",
      "  temp_multi['number_filter'] = filter_types\n"
     ]
    },
    {
     "name": "stdout",
     "output_type": "stream",
     "text": [
      "E08000002\n",
      "i= 0  expand time,0.0 filter time0.0 make_dataframe_time 0.001\n"
     ]
    },
    {
     "name": "stderr",
     "output_type": "stream",
     "text": [
      "/tf/empty_homes_london/helper_functions.py:272: SettingWithCopyWarning: \n",
      "A value is trying to be set on a copy of a slice from a DataFrame.\n",
      "Try using .loc[row_indexer,col_indexer] = value instead\n",
      "\n",
      "See the caveats in the documentation: https://pandas.pydata.org/pandas-docs/stable/user_guide/indexing.html#returning-a-view-versus-a-copy\n",
      "  temp_multi['number_filter'] = filter_types\n"
     ]
    },
    {
     "name": "stdout",
     "output_type": "stream",
     "text": [
      "E09000010\n",
      "i= 0  expand time,0.0 filter time0.0 make_dataframe_time 0.001\n"
     ]
    },
    {
     "name": "stderr",
     "output_type": "stream",
     "text": [
      "/tf/empty_homes_london/helper_functions.py:272: SettingWithCopyWarning: \n",
      "A value is trying to be set on a copy of a slice from a DataFrame.\n",
      "Try using .loc[row_indexer,col_indexer] = value instead\n",
      "\n",
      "See the caveats in the documentation: https://pandas.pydata.org/pandas-docs/stable/user_guide/indexing.html#returning-a-view-versus-a-copy\n",
      "  temp_multi['number_filter'] = filter_types\n"
     ]
    },
    {
     "name": "stdout",
     "output_type": "stream",
     "text": [
      "E08000036\n",
      "i= 0  expand time,0.0 filter time0.0 make_dataframe_time 0.001\n"
     ]
    },
    {
     "name": "stderr",
     "output_type": "stream",
     "text": [
      "/tf/empty_homes_london/helper_functions.py:272: SettingWithCopyWarning: \n",
      "A value is trying to be set on a copy of a slice from a DataFrame.\n",
      "Try using .loc[row_indexer,col_indexer] = value instead\n",
      "\n",
      "See the caveats in the documentation: https://pandas.pydata.org/pandas-docs/stable/user_guide/indexing.html#returning-a-view-versus-a-copy\n",
      "  temp_multi['number_filter'] = filter_types\n"
     ]
    },
    {
     "name": "stdout",
     "output_type": "stream",
     "text": [
      "E06000052\n",
      "i= 0  expand time,0.0 filter time0.0 make_dataframe_time 0.001\n"
     ]
    },
    {
     "name": "stderr",
     "output_type": "stream",
     "text": [
      "/tf/empty_homes_london/helper_functions.py:272: SettingWithCopyWarning: \n",
      "A value is trying to be set on a copy of a slice from a DataFrame.\n",
      "Try using .loc[row_indexer,col_indexer] = value instead\n",
      "\n",
      "See the caveats in the documentation: https://pandas.pydata.org/pandas-docs/stable/user_guide/indexing.html#returning-a-view-versus-a-copy\n",
      "  temp_multi['number_filter'] = filter_types\n"
     ]
    },
    {
     "name": "stdout",
     "output_type": "stream",
     "text": [
      "E08000011\n",
      "i= 0  expand time,0.0 filter time0.0 make_dataframe_time 0.001\n",
      "E07000108\n"
     ]
    },
    {
     "name": "stderr",
     "output_type": "stream",
     "text": [
      "/tf/empty_homes_london/helper_functions.py:272: SettingWithCopyWarning: \n",
      "A value is trying to be set on a copy of a slice from a DataFrame.\n",
      "Try using .loc[row_indexer,col_indexer] = value instead\n",
      "\n",
      "See the caveats in the documentation: https://pandas.pydata.org/pandas-docs/stable/user_guide/indexing.html#returning-a-view-versus-a-copy\n",
      "  temp_multi['number_filter'] = filter_types\n",
      "/tf/empty_homes_london/helper_functions.py:272: SettingWithCopyWarning: \n",
      "A value is trying to be set on a copy of a slice from a DataFrame.\n",
      "Try using .loc[row_indexer,col_indexer] = value instead\n",
      "\n",
      "See the caveats in the documentation: https://pandas.pydata.org/pandas-docs/stable/user_guide/indexing.html#returning-a-view-versus-a-copy\n",
      "  temp_multi['number_filter'] = filter_types\n"
     ]
    },
    {
     "name": "stdout",
     "output_type": "stream",
     "text": [
      "i= 0  expand time,0.0 filter time0.0 make_dataframe_time 0.001\n",
      "E07000094\n",
      "i= 0  expand time,0.0 filter time0.0 make_dataframe_time 0.001\n"
     ]
    },
    {
     "name": "stderr",
     "output_type": "stream",
     "text": [
      "/tf/empty_homes_london/helper_functions.py:272: SettingWithCopyWarning: \n",
      "A value is trying to be set on a copy of a slice from a DataFrame.\n",
      "Try using .loc[row_indexer,col_indexer] = value instead\n",
      "\n",
      "See the caveats in the documentation: https://pandas.pydata.org/pandas-docs/stable/user_guide/indexing.html#returning-a-view-versus-a-copy\n",
      "  temp_multi['number_filter'] = filter_types\n"
     ]
    },
    {
     "name": "stdout",
     "output_type": "stream",
     "text": [
      "E07000209\n",
      "i= 0  expand time,0.0 filter time0.0 make_dataframe_time 0.001\n"
     ]
    },
    {
     "name": "stderr",
     "output_type": "stream",
     "text": [
      "/tf/empty_homes_london/helper_functions.py:272: SettingWithCopyWarning: \n",
      "A value is trying to be set on a copy of a slice from a DataFrame.\n",
      "Try using .loc[row_indexer,col_indexer] = value instead\n",
      "\n",
      "See the caveats in the documentation: https://pandas.pydata.org/pandas-docs/stable/user_guide/indexing.html#returning-a-view-versus-a-copy\n",
      "  temp_multi['number_filter'] = filter_types\n"
     ]
    },
    {
     "name": "stdout",
     "output_type": "stream",
     "text": [
      "E07000131\n",
      "i= 0  expand time,0.0 filter time0.0 make_dataframe_time 0.001\n",
      "W06000018\n"
     ]
    },
    {
     "name": "stderr",
     "output_type": "stream",
     "text": [
      "/tf/empty_homes_london/helper_functions.py:272: SettingWithCopyWarning: \n",
      "A value is trying to be set on a copy of a slice from a DataFrame.\n",
      "Try using .loc[row_indexer,col_indexer] = value instead\n",
      "\n",
      "See the caveats in the documentation: https://pandas.pydata.org/pandas-docs/stable/user_guide/indexing.html#returning-a-view-versus-a-copy\n",
      "  temp_multi['number_filter'] = filter_types\n",
      "/tf/empty_homes_london/helper_functions.py:272: SettingWithCopyWarning: \n",
      "A value is trying to be set on a copy of a slice from a DataFrame.\n",
      "Try using .loc[row_indexer,col_indexer] = value instead\n",
      "\n",
      "See the caveats in the documentation: https://pandas.pydata.org/pandas-docs/stable/user_guide/indexing.html#returning-a-view-versus-a-copy\n",
      "  temp_multi['number_filter'] = filter_types\n"
     ]
    },
    {
     "name": "stdout",
     "output_type": "stream",
     "text": [
      "i= 0  expand time,0.0 filter time0.0 make_dataframe_time 0.001\n",
      "W06000015\n",
      "i= 0  expand time,0.0 filter time0.0 make_dataframe_time 0.001\n"
     ]
    },
    {
     "name": "stderr",
     "output_type": "stream",
     "text": [
      "/tf/empty_homes_london/helper_functions.py:272: SettingWithCopyWarning: \n",
      "A value is trying to be set on a copy of a slice from a DataFrame.\n",
      "Try using .loc[row_indexer,col_indexer] = value instead\n",
      "\n",
      "See the caveats in the documentation: https://pandas.pydata.org/pandas-docs/stable/user_guide/indexing.html#returning-a-view-versus-a-copy\n",
      "  temp_multi['number_filter'] = filter_types\n"
     ]
    },
    {
     "name": "stdout",
     "output_type": "stream",
     "text": [
      "E07000077\n",
      "i= 0  expand time,0.0 filter time0.0 make_dataframe_time 0.001\n",
      "E09000009\n"
     ]
    },
    {
     "name": "stderr",
     "output_type": "stream",
     "text": [
      "/tf/empty_homes_london/helper_functions.py:272: SettingWithCopyWarning: \n",
      "A value is trying to be set on a copy of a slice from a DataFrame.\n",
      "Try using .loc[row_indexer,col_indexer] = value instead\n",
      "\n",
      "See the caveats in the documentation: https://pandas.pydata.org/pandas-docs/stable/user_guide/indexing.html#returning-a-view-versus-a-copy\n",
      "  temp_multi['number_filter'] = filter_types\n",
      "/tf/empty_homes_london/helper_functions.py:272: SettingWithCopyWarning: \n",
      "A value is trying to be set on a copy of a slice from a DataFrame.\n",
      "Try using .loc[row_indexer,col_indexer] = value instead\n",
      "\n",
      "See the caveats in the documentation: https://pandas.pydata.org/pandas-docs/stable/user_guide/indexing.html#returning-a-view-versus-a-copy\n",
      "  temp_multi['number_filter'] = filter_types\n"
     ]
    },
    {
     "name": "stdout",
     "output_type": "stream",
     "text": [
      "i= 0  expand time,0.0 filter time0.0 make_dataframe_time 0.001\n",
      "E07000220\n",
      "i= 0  expand time,0.0 filter time0.0 make_dataframe_time 0.001\n",
      "E07000242\n"
     ]
    },
    {
     "name": "stderr",
     "output_type": "stream",
     "text": [
      "/tf/empty_homes_london/helper_functions.py:272: SettingWithCopyWarning: \n",
      "A value is trying to be set on a copy of a slice from a DataFrame.\n",
      "Try using .loc[row_indexer,col_indexer] = value instead\n",
      "\n",
      "See the caveats in the documentation: https://pandas.pydata.org/pandas-docs/stable/user_guide/indexing.html#returning-a-view-versus-a-copy\n",
      "  temp_multi['number_filter'] = filter_types\n",
      "/tf/empty_homes_london/helper_functions.py:272: SettingWithCopyWarning: \n",
      "A value is trying to be set on a copy of a slice from a DataFrame.\n",
      "Try using .loc[row_indexer,col_indexer] = value instead\n",
      "\n",
      "See the caveats in the documentation: https://pandas.pydata.org/pandas-docs/stable/user_guide/indexing.html#returning-a-view-versus-a-copy\n",
      "  temp_multi['number_filter'] = filter_types\n"
     ]
    },
    {
     "name": "stdout",
     "output_type": "stream",
     "text": [
      "i= 0  expand time,0.0 filter time0.0 make_dataframe_time 0.001\n",
      "E07000179\n"
     ]
    },
    {
     "name": "stderr",
     "output_type": "stream",
     "text": [
      "/tf/empty_homes_london/helper_functions.py:272: SettingWithCopyWarning: \n",
      "A value is trying to be set on a copy of a slice from a DataFrame.\n",
      "Try using .loc[row_indexer,col_indexer] = value instead\n",
      "\n",
      "See the caveats in the documentation: https://pandas.pydata.org/pandas-docs/stable/user_guide/indexing.html#returning-a-view-versus-a-copy\n",
      "  temp_multi['number_filter'] = filter_types\n",
      "/tf/empty_homes_london/helper_functions.py:272: SettingWithCopyWarning: \n",
      "A value is trying to be set on a copy of a slice from a DataFrame.\n",
      "Try using .loc[row_indexer,col_indexer] = value instead\n",
      "\n",
      "See the caveats in the documentation: https://pandas.pydata.org/pandas-docs/stable/user_guide/indexing.html#returning-a-view-versus-a-copy\n",
      "  temp_multi['number_filter'] = filter_types\n"
     ]
    },
    {
     "name": "stdout",
     "output_type": "stream",
     "text": [
      "i= 0  expand time,0.0 filter time0.0 make_dataframe_time 0.001\n",
      "E07000239\n",
      "i= 0  expand time,0.0 filter time0.0 make_dataframe_time 0.001\n",
      "E07000123\n",
      "i= 0  expand time,0.0 filter time0.0 make_dataframe_time 0.001\n"
     ]
    },
    {
     "name": "stderr",
     "output_type": "stream",
     "text": [
      "/tf/empty_homes_london/helper_functions.py:272: SettingWithCopyWarning: \n",
      "A value is trying to be set on a copy of a slice from a DataFrame.\n",
      "Try using .loc[row_indexer,col_indexer] = value instead\n",
      "\n",
      "See the caveats in the documentation: https://pandas.pydata.org/pandas-docs/stable/user_guide/indexing.html#returning-a-view-versus-a-copy\n",
      "  temp_multi['number_filter'] = filter_types\n"
     ]
    },
    {
     "name": "stdout",
     "output_type": "stream",
     "text": [
      "E07000125\n",
      "i= 0  expand time,0.0 filter time0.0 make_dataframe_time 0.001\n",
      "E07000216\n"
     ]
    },
    {
     "name": "stderr",
     "output_type": "stream",
     "text": [
      "/tf/empty_homes_london/helper_functions.py:272: SettingWithCopyWarning: \n",
      "A value is trying to be set on a copy of a slice from a DataFrame.\n",
      "Try using .loc[row_indexer,col_indexer] = value instead\n",
      "\n",
      "See the caveats in the documentation: https://pandas.pydata.org/pandas-docs/stable/user_guide/indexing.html#returning-a-view-versus-a-copy\n",
      "  temp_multi['number_filter'] = filter_types\n",
      "/tf/empty_homes_london/helper_functions.py:272: SettingWithCopyWarning: \n",
      "A value is trying to be set on a copy of a slice from a DataFrame.\n",
      "Try using .loc[row_indexer,col_indexer] = value instead\n",
      "\n",
      "See the caveats in the documentation: https://pandas.pydata.org/pandas-docs/stable/user_guide/indexing.html#returning-a-view-versus-a-copy\n",
      "  temp_multi['number_filter'] = filter_types\n"
     ]
    },
    {
     "name": "stdout",
     "output_type": "stream",
     "text": [
      "i= 0  expand time,0.0 filter time0.0 make_dataframe_time 0.001\n",
      "E07000203\n",
      "i= 0  expand time,0.0 filter time0.0 make_dataframe_time 0.001\n"
     ]
    },
    {
     "name": "stderr",
     "output_type": "stream",
     "text": [
      "/tf/empty_homes_london/helper_functions.py:272: SettingWithCopyWarning: \n",
      "A value is trying to be set on a copy of a slice from a DataFrame.\n",
      "Try using .loc[row_indexer,col_indexer] = value instead\n",
      "\n",
      "See the caveats in the documentation: https://pandas.pydata.org/pandas-docs/stable/user_guide/indexing.html#returning-a-view-versus-a-copy\n",
      "  temp_multi['number_filter'] = filter_types\n",
      "/tf/empty_homes_london/helper_functions.py:272: SettingWithCopyWarning: \n",
      "A value is trying to be set on a copy of a slice from a DataFrame.\n",
      "Try using .loc[row_indexer,col_indexer] = value instead\n",
      "\n",
      "See the caveats in the documentation: https://pandas.pydata.org/pandas-docs/stable/user_guide/indexing.html#returning-a-view-versus-a-copy\n",
      "  temp_multi['number_filter'] = filter_types\n"
     ]
    },
    {
     "name": "stdout",
     "output_type": "stream",
     "text": [
      "E07000207\n",
      "i= 0  expand time,0.0 filter time0.0 make_dataframe_time 0.001\n",
      "E08000037\n",
      "i= 0  expand time,0.0 filter time0.0 make_dataframe_time 0.001\n",
      "E07000225\n"
     ]
    },
    {
     "name": "stderr",
     "output_type": "stream",
     "text": [
      "/tf/empty_homes_london/helper_functions.py:272: SettingWithCopyWarning: \n",
      "A value is trying to be set on a copy of a slice from a DataFrame.\n",
      "Try using .loc[row_indexer,col_indexer] = value instead\n",
      "\n",
      "See the caveats in the documentation: https://pandas.pydata.org/pandas-docs/stable/user_guide/indexing.html#returning-a-view-versus-a-copy\n",
      "  temp_multi['number_filter'] = filter_types\n",
      "/tf/empty_homes_london/helper_functions.py:272: SettingWithCopyWarning: \n",
      "A value is trying to be set on a copy of a slice from a DataFrame.\n",
      "Try using .loc[row_indexer,col_indexer] = value instead\n",
      "\n",
      "See the caveats in the documentation: https://pandas.pydata.org/pandas-docs/stable/user_guide/indexing.html#returning-a-view-versus-a-copy\n",
      "  temp_multi['number_filter'] = filter_types\n"
     ]
    },
    {
     "name": "stdout",
     "output_type": "stream",
     "text": [
      "i= 0  expand time,0.0 filter time0.0 make_dataframe_time 0.001\n",
      "E07000173\n",
      "i= 0  expand time,0.0 filter time0.0 make_dataframe_time 0.001\n"
     ]
    },
    {
     "name": "stderr",
     "output_type": "stream",
     "text": [
      "/tf/empty_homes_london/helper_functions.py:272: SettingWithCopyWarning: \n",
      "A value is trying to be set on a copy of a slice from a DataFrame.\n",
      "Try using .loc[row_indexer,col_indexer] = value instead\n",
      "\n",
      "See the caveats in the documentation: https://pandas.pydata.org/pandas-docs/stable/user_guide/indexing.html#returning-a-view-versus-a-copy\n",
      "  temp_multi['number_filter'] = filter_types\n",
      "/tf/empty_homes_london/helper_functions.py:272: SettingWithCopyWarning: \n",
      "A value is trying to be set on a copy of a slice from a DataFrame.\n",
      "Try using .loc[row_indexer,col_indexer] = value instead\n",
      "\n",
      "See the caveats in the documentation: https://pandas.pydata.org/pandas-docs/stable/user_guide/indexing.html#returning-a-view-versus-a-copy\n",
      "  temp_multi['number_filter'] = filter_types\n"
     ]
    },
    {
     "name": "stdout",
     "output_type": "stream",
     "text": [
      "E07000089\n",
      "i= 0  expand time,0.0 filter time0.0 make_dataframe_time 0.001\n",
      "E06000054\n"
     ]
    },
    {
     "name": "stderr",
     "output_type": "stream",
     "text": [
      "/tf/empty_homes_london/helper_functions.py:272: SettingWithCopyWarning: \n",
      "A value is trying to be set on a copy of a slice from a DataFrame.\n",
      "Try using .loc[row_indexer,col_indexer] = value instead\n",
      "\n",
      "See the caveats in the documentation: https://pandas.pydata.org/pandas-docs/stable/user_guide/indexing.html#returning-a-view-versus-a-copy\n",
      "  temp_multi['number_filter'] = filter_types\n"
     ]
    },
    {
     "name": "stdout",
     "output_type": "stream",
     "text": [
      "i= 0  expand time,0.0 filter time0.0 make_dataframe_time 0.001\n",
      "E06000055\n",
      "i= 0  expand time,0.0 filter time0.0 make_dataframe_time 0.001\n"
     ]
    },
    {
     "name": "stderr",
     "output_type": "stream",
     "text": [
      "/tf/empty_homes_london/helper_functions.py:272: SettingWithCopyWarning: \n",
      "A value is trying to be set on a copy of a slice from a DataFrame.\n",
      "Try using .loc[row_indexer,col_indexer] = value instead\n",
      "\n",
      "See the caveats in the documentation: https://pandas.pydata.org/pandas-docs/stable/user_guide/indexing.html#returning-a-view-versus-a-copy\n",
      "  temp_multi['number_filter'] = filter_types\n"
     ]
    },
    {
     "name": "stdout",
     "output_type": "stream",
     "text": [
      "E06000056\n",
      "i= 0  expand time,0.0 filter time0.0 make_dataframe_time 0.001\n"
     ]
    },
    {
     "name": "stderr",
     "output_type": "stream",
     "text": [
      "/tf/empty_homes_london/helper_functions.py:272: SettingWithCopyWarning: \n",
      "A value is trying to be set on a copy of a slice from a DataFrame.\n",
      "Try using .loc[row_indexer,col_indexer] = value instead\n",
      "\n",
      "See the caveats in the documentation: https://pandas.pydata.org/pandas-docs/stable/user_guide/indexing.html#returning-a-view-versus-a-copy\n",
      "  temp_multi['number_filter'] = filter_types\n"
     ]
    },
    {
     "name": "stdout",
     "output_type": "stream",
     "text": [
      "E07000095\n",
      "i= 0  expand time,0.001 filter time0.0 make_dataframe_time 0.002\n"
     ]
    },
    {
     "name": "stderr",
     "output_type": "stream",
     "text": [
      "/tf/empty_homes_london/helper_functions.py:272: SettingWithCopyWarning: \n",
      "A value is trying to be set on a copy of a slice from a DataFrame.\n",
      "Try using .loc[row_indexer,col_indexer] = value instead\n",
      "\n",
      "See the caveats in the documentation: https://pandas.pydata.org/pandas-docs/stable/user_guide/indexing.html#returning-a-view-versus-a-copy\n",
      "  temp_multi['number_filter'] = filter_types\n",
      "/tf/empty_homes_london/helper_functions.py:272: SettingWithCopyWarning: \n",
      "A value is trying to be set on a copy of a slice from a DataFrame.\n",
      "Try using .loc[row_indexer,col_indexer] = value instead\n",
      "\n",
      "See the caveats in the documentation: https://pandas.pydata.org/pandas-docs/stable/user_guide/indexing.html#returning-a-view-versus-a-copy\n",
      "  temp_multi['number_filter'] = filter_types\n",
      "/tf/empty_homes_london/helper_functions.py:272: SettingWithCopyWarning: \n",
      "A value is trying to be set on a copy of a slice from a DataFrame.\n",
      "Try using .loc[row_indexer,col_indexer] = value instead\n",
      "\n",
      "See the caveats in the documentation: https://pandas.pydata.org/pandas-docs/stable/user_guide/indexing.html#returning-a-view-versus-a-copy\n",
      "  temp_multi['number_filter'] = filter_types\n"
     ]
    },
    {
     "name": "stdout",
     "output_type": "stream",
     "text": [
      "W06000012\n",
      "i= 0  expand time,0.0 filter time0.0 make_dataframe_time 0.001\n",
      "E06000005\n",
      "i= 0  expand time,0.0 filter time0.0 make_dataframe_time 0.001\n",
      "E07000208\n",
      "i= 0  expand time,0.0 filter time0.0 make_dataframe_time 0.001\n"
     ]
    },
    {
     "name": "stderr",
     "output_type": "stream",
     "text": [
      "/tf/empty_homes_london/helper_functions.py:272: SettingWithCopyWarning: \n",
      "A value is trying to be set on a copy of a slice from a DataFrame.\n",
      "Try using .loc[row_indexer,col_indexer] = value instead\n",
      "\n",
      "See the caveats in the documentation: https://pandas.pydata.org/pandas-docs/stable/user_guide/indexing.html#returning-a-view-versus-a-copy\n",
      "  temp_multi['number_filter'] = filter_types\n"
     ]
    },
    {
     "name": "stdout",
     "output_type": "stream",
     "text": [
      "E07000213\n",
      "i= 0  expand time,0.0 filter time0.0 make_dataframe_time 0.001\n"
     ]
    },
    {
     "name": "stderr",
     "output_type": "stream",
     "text": [
      "/tf/empty_homes_london/helper_functions.py:272: SettingWithCopyWarning: \n",
      "A value is trying to be set on a copy of a slice from a DataFrame.\n",
      "Try using .loc[row_indexer,col_indexer] = value instead\n",
      "\n",
      "See the caveats in the documentation: https://pandas.pydata.org/pandas-docs/stable/user_guide/indexing.html#returning-a-view-versus-a-copy\n",
      "  temp_multi['number_filter'] = filter_types\n"
     ]
    },
    {
     "name": "stdout",
     "output_type": "stream",
     "text": [
      "E06000002\n",
      "i= 0  expand time,0.0 filter time0.0 make_dataframe_time 0.002\n"
     ]
    },
    {
     "name": "stderr",
     "output_type": "stream",
     "text": [
      "/tf/empty_homes_london/helper_functions.py:272: SettingWithCopyWarning: \n",
      "A value is trying to be set on a copy of a slice from a DataFrame.\n",
      "Try using .loc[row_indexer,col_indexer] = value instead\n",
      "\n",
      "See the caveats in the documentation: https://pandas.pydata.org/pandas-docs/stable/user_guide/indexing.html#returning-a-view-versus-a-copy\n",
      "  temp_multi['number_filter'] = filter_types\n"
     ]
    },
    {
     "name": "stdout",
     "output_type": "stream",
     "text": [
      "E08000023\n",
      "i= 0  expand time,0.0 filter time0.0 make_dataframe_time 0.001\n",
      "E08000026\n"
     ]
    },
    {
     "name": "stderr",
     "output_type": "stream",
     "text": [
      "/tf/empty_homes_london/helper_functions.py:272: SettingWithCopyWarning: \n",
      "A value is trying to be set on a copy of a slice from a DataFrame.\n",
      "Try using .loc[row_indexer,col_indexer] = value instead\n",
      "\n",
      "See the caveats in the documentation: https://pandas.pydata.org/pandas-docs/stable/user_guide/indexing.html#returning-a-view-versus-a-copy\n",
      "  temp_multi['number_filter'] = filter_types\n",
      "/tf/empty_homes_london/helper_functions.py:272: SettingWithCopyWarning: \n",
      "A value is trying to be set on a copy of a slice from a DataFrame.\n",
      "Try using .loc[row_indexer,col_indexer] = value instead\n",
      "\n",
      "See the caveats in the documentation: https://pandas.pydata.org/pandas-docs/stable/user_guide/indexing.html#returning-a-view-versus-a-copy\n",
      "  temp_multi['number_filter'] = filter_types\n"
     ]
    },
    {
     "name": "stdout",
     "output_type": "stream",
     "text": [
      "i= 0  expand time,0.0 filter time0.0 make_dataframe_time 0.001\n",
      "E08000027\n",
      "i= 0  expand time,0.0 filter time0.0 make_dataframe_time 0.001\n"
     ]
    },
    {
     "name": "stderr",
     "output_type": "stream",
     "text": [
      "/tf/empty_homes_london/helper_functions.py:272: SettingWithCopyWarning: \n",
      "A value is trying to be set on a copy of a slice from a DataFrame.\n",
      "Try using .loc[row_indexer,col_indexer] = value instead\n",
      "\n",
      "See the caveats in the documentation: https://pandas.pydata.org/pandas-docs/stable/user_guide/indexing.html#returning-a-view-versus-a-copy\n",
      "  temp_multi['number_filter'] = filter_types\n"
     ]
    },
    {
     "name": "stdout",
     "output_type": "stream",
     "text": [
      "E06000035\n",
      "i= 0  expand time,0.0 filter time0.0 make_dataframe_time 0.001\n"
     ]
    },
    {
     "name": "stderr",
     "output_type": "stream",
     "text": [
      "/tf/empty_homes_london/helper_functions.py:272: SettingWithCopyWarning: \n",
      "A value is trying to be set on a copy of a slice from a DataFrame.\n",
      "Try using .loc[row_indexer,col_indexer] = value instead\n",
      "\n",
      "See the caveats in the documentation: https://pandas.pydata.org/pandas-docs/stable/user_guide/indexing.html#returning-a-view-versus-a-copy\n",
      "  temp_multi['number_filter'] = filter_types\n"
     ]
    },
    {
     "name": "stdout",
     "output_type": "stream",
     "text": [
      "E07000169\n",
      "i= 0  expand time,0.0 filter time0.0 make_dataframe_time 0.001\n",
      "E07000163\n"
     ]
    },
    {
     "name": "stderr",
     "output_type": "stream",
     "text": [
      "/tf/empty_homes_london/helper_functions.py:272: SettingWithCopyWarning: \n",
      "A value is trying to be set on a copy of a slice from a DataFrame.\n",
      "Try using .loc[row_indexer,col_indexer] = value instead\n",
      "\n",
      "See the caveats in the documentation: https://pandas.pydata.org/pandas-docs/stable/user_guide/indexing.html#returning-a-view-versus-a-copy\n",
      "  temp_multi['number_filter'] = filter_types\n",
      "/tf/empty_homes_london/helper_functions.py:272: SettingWithCopyWarning: \n",
      "A value is trying to be set on a copy of a slice from a DataFrame.\n",
      "Try using .loc[row_indexer,col_indexer] = value instead\n",
      "\n",
      "See the caveats in the documentation: https://pandas.pydata.org/pandas-docs/stable/user_guide/indexing.html#returning-a-view-versus-a-copy\n",
      "  temp_multi['number_filter'] = filter_types\n"
     ]
    },
    {
     "name": "stdout",
     "output_type": "stream",
     "text": [
      "i= 0  expand time,0.0 filter time0.0 make_dataframe_time 0.001\n",
      "E07000202\n",
      "i= 0  expand time,0.0 filter time0.0 make_dataframe_time 0.001\n"
     ]
    },
    {
     "name": "stderr",
     "output_type": "stream",
     "text": [
      "/tf/empty_homes_london/helper_functions.py:272: SettingWithCopyWarning: \n",
      "A value is trying to be set on a copy of a slice from a DataFrame.\n",
      "Try using .loc[row_indexer,col_indexer] = value instead\n",
      "\n",
      "See the caveats in the documentation: https://pandas.pydata.org/pandas-docs/stable/user_guide/indexing.html#returning-a-view-versus-a-copy\n",
      "  temp_multi['number_filter'] = filter_types\n"
     ]
    },
    {
     "name": "stdout",
     "output_type": "stream",
     "text": [
      "E07000210\n",
      "i= 0  expand time,0.0 filter time0.0 make_dataframe_time 0.001\n"
     ]
    },
    {
     "name": "stderr",
     "output_type": "stream",
     "text": [
      "/tf/empty_homes_london/helper_functions.py:272: SettingWithCopyWarning: \n",
      "A value is trying to be set on a copy of a slice from a DataFrame.\n",
      "Try using .loc[row_indexer,col_indexer] = value instead\n",
      "\n",
      "See the caveats in the documentation: https://pandas.pydata.org/pandas-docs/stable/user_guide/indexing.html#returning-a-view-versus-a-copy\n",
      "  temp_multi['number_filter'] = filter_types\n"
     ]
    },
    {
     "name": "stdout",
     "output_type": "stream",
     "text": [
      "E07000244\n",
      "i= 0  expand time,0.0 filter time0.0 make_dataframe_time 0.001\n"
     ]
    },
    {
     "name": "stderr",
     "output_type": "stream",
     "text": [
      "/tf/empty_homes_london/helper_functions.py:272: SettingWithCopyWarning: \n",
      "A value is trying to be set on a copy of a slice from a DataFrame.\n",
      "Try using .loc[row_indexer,col_indexer] = value instead\n",
      "\n",
      "See the caveats in the documentation: https://pandas.pydata.org/pandas-docs/stable/user_guide/indexing.html#returning-a-view-versus-a-copy\n",
      "  temp_multi['number_filter'] = filter_types\n"
     ]
    },
    {
     "name": "stdout",
     "output_type": "stream",
     "text": [
      "W06000022\n",
      "i= 0  expand time,0.0 filter time0.0 make_dataframe_time 0.001\n",
      "E06000026\n"
     ]
    },
    {
     "name": "stderr",
     "output_type": "stream",
     "text": [
      "/tf/empty_homes_london/helper_functions.py:272: SettingWithCopyWarning: \n",
      "A value is trying to be set on a copy of a slice from a DataFrame.\n",
      "Try using .loc[row_indexer,col_indexer] = value instead\n",
      "\n",
      "See the caveats in the documentation: https://pandas.pydata.org/pandas-docs/stable/user_guide/indexing.html#returning-a-view-versus-a-copy\n",
      "  temp_multi['number_filter'] = filter_types\n",
      "/tf/empty_homes_london/helper_functions.py:272: SettingWithCopyWarning: \n",
      "A value is trying to be set on a copy of a slice from a DataFrame.\n",
      "Try using .loc[row_indexer,col_indexer] = value instead\n",
      "\n",
      "See the caveats in the documentation: https://pandas.pydata.org/pandas-docs/stable/user_guide/indexing.html#returning-a-view-versus-a-copy\n",
      "  temp_multi['number_filter'] = filter_types\n"
     ]
    },
    {
     "name": "stdout",
     "output_type": "stream",
     "text": [
      "i= 0  expand time,0.0 filter time0.0 make_dataframe_time 0.001\n",
      "E06000008\n"
     ]
    },
    {
     "name": "stderr",
     "output_type": "stream",
     "text": [
      "/tf/empty_homes_london/helper_functions.py:272: SettingWithCopyWarning: \n",
      "A value is trying to be set on a copy of a slice from a DataFrame.\n",
      "Try using .loc[row_indexer,col_indexer] = value instead\n",
      "\n",
      "See the caveats in the documentation: https://pandas.pydata.org/pandas-docs/stable/user_guide/indexing.html#returning-a-view-versus-a-copy\n",
      "  temp_multi['number_filter'] = filter_types\n"
     ]
    },
    {
     "name": "stdout",
     "output_type": "stream",
     "text": [
      "i= 0  expand time,0.0 filter time0.0 make_dataframe_time 0.001\n",
      "E07000091\n"
     ]
    },
    {
     "name": "stderr",
     "output_type": "stream",
     "text": [
      "/tf/empty_homes_london/helper_functions.py:272: SettingWithCopyWarning: \n",
      "A value is trying to be set on a copy of a slice from a DataFrame.\n",
      "Try using .loc[row_indexer,col_indexer] = value instead\n",
      "\n",
      "See the caveats in the documentation: https://pandas.pydata.org/pandas-docs/stable/user_guide/indexing.html#returning-a-view-versus-a-copy\n",
      "  temp_multi['number_filter'] = filter_types\n"
     ]
    },
    {
     "name": "stdout",
     "output_type": "stream",
     "text": [
      "i= 0  expand time,0.0 filter time0.0 make_dataframe_time 0.001\n",
      "E08000016\n",
      "i= 0  expand time,0.0 filter time0.0 make_dataframe_time 0.001\n"
     ]
    },
    {
     "name": "stderr",
     "output_type": "stream",
     "text": [
      "/tf/empty_homes_london/helper_functions.py:272: SettingWithCopyWarning: \n",
      "A value is trying to be set on a copy of a slice from a DataFrame.\n",
      "Try using .loc[row_indexer,col_indexer] = value instead\n",
      "\n",
      "See the caveats in the documentation: https://pandas.pydata.org/pandas-docs/stable/user_guide/indexing.html#returning-a-view-versus-a-copy\n",
      "  temp_multi['number_filter'] = filter_types\n"
     ]
    },
    {
     "name": "stdout",
     "output_type": "stream",
     "text": [
      "E07000096\n",
      "i= 0  expand time,0.0 filter time0.0 make_dataframe_time 0.001\n"
     ]
    },
    {
     "name": "stderr",
     "output_type": "stream",
     "text": [
      "/tf/empty_homes_london/helper_functions.py:272: SettingWithCopyWarning: \n",
      "A value is trying to be set on a copy of a slice from a DataFrame.\n",
      "Try using .loc[row_indexer,col_indexer] = value instead\n",
      "\n",
      "See the caveats in the documentation: https://pandas.pydata.org/pandas-docs/stable/user_guide/indexing.html#returning-a-view-versus-a-copy\n",
      "  temp_multi['number_filter'] = filter_types\n"
     ]
    },
    {
     "name": "stdout",
     "output_type": "stream",
     "text": [
      "E07000102\n",
      "i= 0  expand time,0.0 filter time0.0 make_dataframe_time 0.001\n",
      "E07000078\n"
     ]
    },
    {
     "name": "stderr",
     "output_type": "stream",
     "text": [
      "/tf/empty_homes_london/helper_functions.py:272: SettingWithCopyWarning: \n",
      "A value is trying to be set on a copy of a slice from a DataFrame.\n",
      "Try using .loc[row_indexer,col_indexer] = value instead\n",
      "\n",
      "See the caveats in the documentation: https://pandas.pydata.org/pandas-docs/stable/user_guide/indexing.html#returning-a-view-versus-a-copy\n",
      "  temp_multi['number_filter'] = filter_types\n",
      "/tf/empty_homes_london/helper_functions.py:272: SettingWithCopyWarning: \n",
      "A value is trying to be set on a copy of a slice from a DataFrame.\n",
      "Try using .loc[row_indexer,col_indexer] = value instead\n",
      "\n",
      "See the caveats in the documentation: https://pandas.pydata.org/pandas-docs/stable/user_guide/indexing.html#returning-a-view-versus-a-copy\n",
      "  temp_multi['number_filter'] = filter_types\n"
     ]
    },
    {
     "name": "stdout",
     "output_type": "stream",
     "text": [
      "i= 0  expand time,0.0 filter time0.0 make_dataframe_time 0.001\n",
      "W06000019\n"
     ]
    },
    {
     "name": "stderr",
     "output_type": "stream",
     "text": [
      "/tf/empty_homes_london/helper_functions.py:272: SettingWithCopyWarning: \n",
      "A value is trying to be set on a copy of a slice from a DataFrame.\n",
      "Try using .loc[row_indexer,col_indexer] = value instead\n",
      "\n",
      "See the caveats in the documentation: https://pandas.pydata.org/pandas-docs/stable/user_guide/indexing.html#returning-a-view-versus-a-copy\n",
      "  temp_multi['number_filter'] = filter_types\n",
      "/tf/empty_homes_london/helper_functions.py:272: SettingWithCopyWarning: \n",
      "A value is trying to be set on a copy of a slice from a DataFrame.\n",
      "Try using .loc[row_indexer,col_indexer] = value instead\n",
      "\n",
      "See the caveats in the documentation: https://pandas.pydata.org/pandas-docs/stable/user_guide/indexing.html#returning-a-view-versus-a-copy\n",
      "  temp_multi['number_filter'] = filter_types\n"
     ]
    },
    {
     "name": "stdout",
     "output_type": "stream",
     "text": [
      "i= 0  expand time,0.0 filter time0.0 make_dataframe_time 0.001\n",
      "E07000139\n",
      "i= 0  expand time,0.0 filter time0.0 make_dataframe_time 0.0\n",
      "E07000130\n"
     ]
    },
    {
     "name": "stderr",
     "output_type": "stream",
     "text": [
      "/tf/empty_homes_london/helper_functions.py:272: SettingWithCopyWarning: \n",
      "A value is trying to be set on a copy of a slice from a DataFrame.\n",
      "Try using .loc[row_indexer,col_indexer] = value instead\n",
      "\n",
      "See the caveats in the documentation: https://pandas.pydata.org/pandas-docs/stable/user_guide/indexing.html#returning-a-view-versus-a-copy\n",
      "  temp_multi['number_filter'] = filter_types\n",
      "/tf/empty_homes_london/helper_functions.py:272: SettingWithCopyWarning: \n",
      "A value is trying to be set on a copy of a slice from a DataFrame.\n",
      "Try using .loc[row_indexer,col_indexer] = value instead\n",
      "\n",
      "See the caveats in the documentation: https://pandas.pydata.org/pandas-docs/stable/user_guide/indexing.html#returning-a-view-versus-a-copy\n",
      "  temp_multi['number_filter'] = filter_types\n"
     ]
    },
    {
     "name": "stdout",
     "output_type": "stream",
     "text": [
      "i= 0  expand time,0.0 filter time0.0 make_dataframe_time 0.001\n",
      "E09000027\n",
      "i= 0  expand time,0.0 filter time0.0 make_dataframe_time 0.001\n",
      "E07000236\n",
      "i= 0  expand time,0.0 filter time0.0 make_dataframe_time 0.001\n",
      "E07000240\n"
     ]
    },
    {
     "name": "stderr",
     "output_type": "stream",
     "text": [
      "/tf/empty_homes_london/helper_functions.py:272: SettingWithCopyWarning: \n",
      "A value is trying to be set on a copy of a slice from a DataFrame.\n",
      "Try using .loc[row_indexer,col_indexer] = value instead\n",
      "\n",
      "See the caveats in the documentation: https://pandas.pydata.org/pandas-docs/stable/user_guide/indexing.html#returning-a-view-versus-a-copy\n",
      "  temp_multi['number_filter'] = filter_types\n",
      "/tf/empty_homes_london/helper_functions.py:272: SettingWithCopyWarning: \n",
      "A value is trying to be set on a copy of a slice from a DataFrame.\n",
      "Try using .loc[row_indexer,col_indexer] = value instead\n",
      "\n",
      "See the caveats in the documentation: https://pandas.pydata.org/pandas-docs/stable/user_guide/indexing.html#returning-a-view-versus-a-copy\n",
      "  temp_multi['number_filter'] = filter_types\n"
     ]
    },
    {
     "name": "stdout",
     "output_type": "stream",
     "text": [
      "i= 0  expand time,0.0 filter time0.0 make_dataframe_time 0.001\n",
      "E07000081\n"
     ]
    },
    {
     "name": "stderr",
     "output_type": "stream",
     "text": [
      "/tf/empty_homes_london/helper_functions.py:272: SettingWithCopyWarning: \n",
      "A value is trying to be set on a copy of a slice from a DataFrame.\n",
      "Try using .loc[row_indexer,col_indexer] = value instead\n",
      "\n",
      "See the caveats in the documentation: https://pandas.pydata.org/pandas-docs/stable/user_guide/indexing.html#returning-a-view-versus-a-copy\n",
      "  temp_multi['number_filter'] = filter_types\n"
     ]
    },
    {
     "name": "stdout",
     "output_type": "stream",
     "text": [
      "i= 0  expand time,0.0 filter time0.0 make_dataframe_time 0.002\n",
      "E07000142\n",
      "i= 0  expand time,0.0 filter time0.0 make_dataframe_time 0.001\n",
      "E07000180\n"
     ]
    },
    {
     "name": "stderr",
     "output_type": "stream",
     "text": [
      "/tf/empty_homes_london/helper_functions.py:272: SettingWithCopyWarning: \n",
      "A value is trying to be set on a copy of a slice from a DataFrame.\n",
      "Try using .loc[row_indexer,col_indexer] = value instead\n",
      "\n",
      "See the caveats in the documentation: https://pandas.pydata.org/pandas-docs/stable/user_guide/indexing.html#returning-a-view-versus-a-copy\n",
      "  temp_multi['number_filter'] = filter_types\n",
      "/tf/empty_homes_london/helper_functions.py:272: SettingWithCopyWarning: \n",
      "A value is trying to be set on a copy of a slice from a DataFrame.\n",
      "Try using .loc[row_indexer,col_indexer] = value instead\n",
      "\n",
      "See the caveats in the documentation: https://pandas.pydata.org/pandas-docs/stable/user_guide/indexing.html#returning-a-view-versus-a-copy\n",
      "  temp_multi['number_filter'] = filter_types\n"
     ]
    },
    {
     "name": "stdout",
     "output_type": "stream",
     "text": [
      "i= 0  expand time,0.0 filter time0.0 make_dataframe_time 0.001\n",
      "E07000189\n",
      "i= 0  expand time,0.0 filter time0.0 make_dataframe_time 0.001\n",
      "E07000115\n"
     ]
    },
    {
     "name": "stderr",
     "output_type": "stream",
     "text": [
      "/tf/empty_homes_london/helper_functions.py:272: SettingWithCopyWarning: \n",
      "A value is trying to be set on a copy of a slice from a DataFrame.\n",
      "Try using .loc[row_indexer,col_indexer] = value instead\n",
      "\n",
      "See the caveats in the documentation: https://pandas.pydata.org/pandas-docs/stable/user_guide/indexing.html#returning-a-view-versus-a-copy\n",
      "  temp_multi['number_filter'] = filter_types\n",
      "/tf/empty_homes_london/helper_functions.py:272: SettingWithCopyWarning: \n",
      "A value is trying to be set on a copy of a slice from a DataFrame.\n",
      "Try using .loc[row_indexer,col_indexer] = value instead\n",
      "\n",
      "See the caveats in the documentation: https://pandas.pydata.org/pandas-docs/stable/user_guide/indexing.html#returning-a-view-versus-a-copy\n",
      "  temp_multi['number_filter'] = filter_types\n"
     ]
    },
    {
     "name": "stdout",
     "output_type": "stream",
     "text": [
      "i= 0  expand time,0.0 filter time0.0 make_dataframe_time 0.001\n",
      "E06000006\n",
      "i= 0  expand time,0.0 filter time0.0 make_dataframe_time 0.001\n"
     ]
    },
    {
     "name": "stderr",
     "output_type": "stream",
     "text": [
      "/tf/empty_homes_london/helper_functions.py:272: SettingWithCopyWarning: \n",
      "A value is trying to be set on a copy of a slice from a DataFrame.\n",
      "Try using .loc[row_indexer,col_indexer] = value instead\n",
      "\n",
      "See the caveats in the documentation: https://pandas.pydata.org/pandas-docs/stable/user_guide/indexing.html#returning-a-view-versus-a-copy\n",
      "  temp_multi['number_filter'] = filter_types\n",
      "/tf/empty_homes_london/helper_functions.py:272: SettingWithCopyWarning: \n",
      "A value is trying to be set on a copy of a slice from a DataFrame.\n",
      "Try using .loc[row_indexer,col_indexer] = value instead\n",
      "\n",
      "See the caveats in the documentation: https://pandas.pydata.org/pandas-docs/stable/user_guide/indexing.html#returning-a-view-versus-a-copy\n",
      "  temp_multi['number_filter'] = filter_types\n"
     ]
    },
    {
     "name": "stdout",
     "output_type": "stream",
     "text": [
      "E07000065\n",
      "i= 0  expand time,0.0 filter time0.0 make_dataframe_time 0.001\n",
      "E07000011\n",
      "i= 0  expand time,0.0 filter time0.0 make_dataframe_time 0.001\n",
      "E09000024\n"
     ]
    },
    {
     "name": "stderr",
     "output_type": "stream",
     "text": [
      "/tf/empty_homes_london/helper_functions.py:272: SettingWithCopyWarning: \n",
      "A value is trying to be set on a copy of a slice from a DataFrame.\n",
      "Try using .loc[row_indexer,col_indexer] = value instead\n",
      "\n",
      "See the caveats in the documentation: https://pandas.pydata.org/pandas-docs/stable/user_guide/indexing.html#returning-a-view-versus-a-copy\n",
      "  temp_multi['number_filter'] = filter_types\n",
      "/tf/empty_homes_london/helper_functions.py:272: SettingWithCopyWarning: \n",
      "A value is trying to be set on a copy of a slice from a DataFrame.\n",
      "Try using .loc[row_indexer,col_indexer] = value instead\n",
      "\n",
      "See the caveats in the documentation: https://pandas.pydata.org/pandas-docs/stable/user_guide/indexing.html#returning-a-view-versus-a-copy\n",
      "  temp_multi['number_filter'] = filter_types\n"
     ]
    },
    {
     "name": "stdout",
     "output_type": "stream",
     "text": [
      "i= 0  expand time,0.0 filter time0.0 make_dataframe_time 0.001\n",
      "E06000037\n",
      "i= 0  expand time,0.0 filter time0.0 make_dataframe_time 0.001\n"
     ]
    },
    {
     "name": "stderr",
     "output_type": "stream",
     "text": [
      "/tf/empty_homes_london/helper_functions.py:272: SettingWithCopyWarning: \n",
      "A value is trying to be set on a copy of a slice from a DataFrame.\n",
      "Try using .loc[row_indexer,col_indexer] = value instead\n",
      "\n",
      "See the caveats in the documentation: https://pandas.pydata.org/pandas-docs/stable/user_guide/indexing.html#returning-a-view-versus-a-copy\n",
      "  temp_multi['number_filter'] = filter_types\n"
     ]
    },
    {
     "name": "stdout",
     "output_type": "stream",
     "text": [
      "E07000046\n",
      "i= 0  expand time,0.0 filter time0.0 make_dataframe_time 0.001\n",
      "E07000113\n"
     ]
    },
    {
     "name": "stderr",
     "output_type": "stream",
     "text": [
      "/tf/empty_homes_london/helper_functions.py:272: SettingWithCopyWarning: \n",
      "A value is trying to be set on a copy of a slice from a DataFrame.\n",
      "Try using .loc[row_indexer,col_indexer] = value instead\n",
      "\n",
      "See the caveats in the documentation: https://pandas.pydata.org/pandas-docs/stable/user_guide/indexing.html#returning-a-view-versus-a-copy\n",
      "  temp_multi['number_filter'] = filter_types\n",
      "/tf/empty_homes_london/helper_functions.py:272: SettingWithCopyWarning: \n",
      "A value is trying to be set on a copy of a slice from a DataFrame.\n",
      "Try using .loc[row_indexer,col_indexer] = value instead\n",
      "\n",
      "See the caveats in the documentation: https://pandas.pydata.org/pandas-docs/stable/user_guide/indexing.html#returning-a-view-versus-a-copy\n",
      "  temp_multi['number_filter'] = filter_types\n"
     ]
    },
    {
     "name": "stdout",
     "output_type": "stream",
     "text": [
      "i= 0  expand time,0.0 filter time0.0 make_dataframe_time 0.001\n",
      "E07000128\n"
     ]
    },
    {
     "name": "stderr",
     "output_type": "stream",
     "text": [
      "/tf/empty_homes_london/helper_functions.py:272: SettingWithCopyWarning: \n",
      "A value is trying to be set on a copy of a slice from a DataFrame.\n",
      "Try using .loc[row_indexer,col_indexer] = value instead\n",
      "\n",
      "See the caveats in the documentation: https://pandas.pydata.org/pandas-docs/stable/user_guide/indexing.html#returning-a-view-versus-a-copy\n",
      "  temp_multi['number_filter'] = filter_types\n"
     ]
    },
    {
     "name": "stdout",
     "output_type": "stream",
     "text": [
      "i= 0  expand time,0.0 filter time0.0 make_dataframe_time 0.001\n",
      "E06000014\n",
      "i= 0  expand time,0.001 filter time0.0 make_dataframe_time 0.001\n"
     ]
    },
    {
     "name": "stderr",
     "output_type": "stream",
     "text": [
      "/tf/empty_homes_london/helper_functions.py:272: SettingWithCopyWarning: \n",
      "A value is trying to be set on a copy of a slice from a DataFrame.\n",
      "Try using .loc[row_indexer,col_indexer] = value instead\n",
      "\n",
      "See the caveats in the documentation: https://pandas.pydata.org/pandas-docs/stable/user_guide/indexing.html#returning-a-view-versus-a-copy\n",
      "  temp_multi['number_filter'] = filter_types\n",
      "/tf/empty_homes_london/helper_functions.py:272: SettingWithCopyWarning: \n",
      "A value is trying to be set on a copy of a slice from a DataFrame.\n",
      "Try using .loc[row_indexer,col_indexer] = value instead\n",
      "\n",
      "See the caveats in the documentation: https://pandas.pydata.org/pandas-docs/stable/user_guide/indexing.html#returning-a-view-versus-a-copy\n",
      "  temp_multi['number_filter'] = filter_types\n"
     ]
    },
    {
     "name": "stdout",
     "output_type": "stream",
     "text": [
      "E07000031\n",
      "i= 0  expand time,0.0 filter time0.0 make_dataframe_time 0.001\n",
      "E07000193\n"
     ]
    },
    {
     "name": "stderr",
     "output_type": "stream",
     "text": [
      "/tf/empty_homes_london/helper_functions.py:272: SettingWithCopyWarning: \n",
      "A value is trying to be set on a copy of a slice from a DataFrame.\n",
      "Try using .loc[row_indexer,col_indexer] = value instead\n",
      "\n",
      "See the caveats in the documentation: https://pandas.pydata.org/pandas-docs/stable/user_guide/indexing.html#returning-a-view-versus-a-copy\n",
      "  temp_multi['number_filter'] = filter_types\n"
     ]
    },
    {
     "name": "stdout",
     "output_type": "stream",
     "text": [
      "i= 0  expand time,0.0 filter time0.0 make_dataframe_time 0.001\n",
      "E07000199\n"
     ]
    },
    {
     "name": "stderr",
     "output_type": "stream",
     "text": [
      "/tf/empty_homes_london/helper_functions.py:272: SettingWithCopyWarning: \n",
      "A value is trying to be set on a copy of a slice from a DataFrame.\n",
      "Try using .loc[row_indexer,col_indexer] = value instead\n",
      "\n",
      "See the caveats in the documentation: https://pandas.pydata.org/pandas-docs/stable/user_guide/indexing.html#returning-a-view-versus-a-copy\n",
      "  temp_multi['number_filter'] = filter_types\n",
      "/tf/empty_homes_london/helper_functions.py:272: SettingWithCopyWarning: \n",
      "A value is trying to be set on a copy of a slice from a DataFrame.\n",
      "Try using .loc[row_indexer,col_indexer] = value instead\n",
      "\n",
      "See the caveats in the documentation: https://pandas.pydata.org/pandas-docs/stable/user_guide/indexing.html#returning-a-view-versus-a-copy\n",
      "  temp_multi['number_filter'] = filter_types\n"
     ]
    },
    {
     "name": "stdout",
     "output_type": "stream",
     "text": [
      "i= 0  expand time,0.0 filter time0.0 make_dataframe_time 0.0\n",
      "E07000187\n",
      "i= 0  expand time,0.0 filter time0.0 make_dataframe_time 0.001\n",
      "E07000224\n"
     ]
    },
    {
     "name": "stderr",
     "output_type": "stream",
     "text": [
      "/tf/empty_homes_london/helper_functions.py:272: SettingWithCopyWarning: \n",
      "A value is trying to be set on a copy of a slice from a DataFrame.\n",
      "Try using .loc[row_indexer,col_indexer] = value instead\n",
      "\n",
      "See the caveats in the documentation: https://pandas.pydata.org/pandas-docs/stable/user_guide/indexing.html#returning-a-view-versus-a-copy\n",
      "  temp_multi['number_filter'] = filter_types\n",
      "/tf/empty_homes_london/helper_functions.py:272: SettingWithCopyWarning: \n",
      "A value is trying to be set on a copy of a slice from a DataFrame.\n",
      "Try using .loc[row_indexer,col_indexer] = value instead\n",
      "\n",
      "See the caveats in the documentation: https://pandas.pydata.org/pandas-docs/stable/user_guide/indexing.html#returning-a-view-versus-a-copy\n",
      "  temp_multi['number_filter'] = filter_types\n"
     ]
    },
    {
     "name": "stdout",
     "output_type": "stream",
     "text": [
      "i= 0  expand time,0.0 filter time0.0 make_dataframe_time 0.001\n",
      "E07000093\n",
      "i= 0  expand time,0.0 filter time0.0 make_dataframe_time 0.001\n",
      "E07000079\n",
      "i= 0  expand time,0.0 filter time0.0 make_dataframe_time 0.001\n",
      "E07000178\n"
     ]
    },
    {
     "name": "stderr",
     "output_type": "stream",
     "text": [
      "/tf/empty_homes_london/helper_functions.py:272: SettingWithCopyWarning: \n",
      "A value is trying to be set on a copy of a slice from a DataFrame.\n",
      "Try using .loc[row_indexer,col_indexer] = value instead\n",
      "\n",
      "See the caveats in the documentation: https://pandas.pydata.org/pandas-docs/stable/user_guide/indexing.html#returning-a-view-versus-a-copy\n",
      "  temp_multi['number_filter'] = filter_types\n",
      "/tf/empty_homes_london/helper_functions.py:272: SettingWithCopyWarning: \n",
      "A value is trying to be set on a copy of a slice from a DataFrame.\n",
      "Try using .loc[row_indexer,col_indexer] = value instead\n",
      "\n",
      "See the caveats in the documentation: https://pandas.pydata.org/pandas-docs/stable/user_guide/indexing.html#returning-a-view-versus-a-copy\n",
      "  temp_multi['number_filter'] = filter_types\n"
     ]
    },
    {
     "name": "stdout",
     "output_type": "stream",
     "text": [
      "i= 0  expand time,0.0 filter time0.0 make_dataframe_time 0.001\n",
      "E07000214\n",
      "i= 0  expand time,0.0 filter time0.0 make_dataframe_time 0.0\n"
     ]
    },
    {
     "name": "stderr",
     "output_type": "stream",
     "text": [
      "/tf/empty_homes_london/helper_functions.py:272: SettingWithCopyWarning: \n",
      "A value is trying to be set on a copy of a slice from a DataFrame.\n",
      "Try using .loc[row_indexer,col_indexer] = value instead\n",
      "\n",
      "See the caveats in the documentation: https://pandas.pydata.org/pandas-docs/stable/user_guide/indexing.html#returning-a-view-versus-a-copy\n",
      "  temp_multi['number_filter'] = filter_types\n"
     ]
    },
    {
     "name": "stdout",
     "output_type": "stream",
     "text": [
      "E07000084\n",
      "i= 0  expand time,0.0 filter time0.0 make_dataframe_time 0.001\n",
      "E07000009\n"
     ]
    },
    {
     "name": "stderr",
     "output_type": "stream",
     "text": [
      "/tf/empty_homes_london/helper_functions.py:272: SettingWithCopyWarning: \n",
      "A value is trying to be set on a copy of a slice from a DataFrame.\n",
      "Try using .loc[row_indexer,col_indexer] = value instead\n",
      "\n",
      "See the caveats in the documentation: https://pandas.pydata.org/pandas-docs/stable/user_guide/indexing.html#returning-a-view-versus-a-copy\n",
      "  temp_multi['number_filter'] = filter_types\n",
      "/tf/empty_homes_london/helper_functions.py:272: SettingWithCopyWarning: \n",
      "A value is trying to be set on a copy of a slice from a DataFrame.\n",
      "Try using .loc[row_indexer,col_indexer] = value instead\n",
      "\n",
      "See the caveats in the documentation: https://pandas.pydata.org/pandas-docs/stable/user_guide/indexing.html#returning-a-view-versus-a-copy\n",
      "  temp_multi['number_filter'] = filter_types\n"
     ]
    },
    {
     "name": "stdout",
     "output_type": "stream",
     "text": [
      "i= 0  expand time,0.0 filter time0.0 make_dataframe_time 0.001\n",
      "E09000008\n",
      "i= 0  expand time,0.0 filter time0.0 make_dataframe_time 0.001\n"
     ]
    },
    {
     "name": "stderr",
     "output_type": "stream",
     "text": [
      "/tf/empty_homes_london/helper_functions.py:272: SettingWithCopyWarning: \n",
      "A value is trying to be set on a copy of a slice from a DataFrame.\n",
      "Try using .loc[row_indexer,col_indexer] = value instead\n",
      "\n",
      "See the caveats in the documentation: https://pandas.pydata.org/pandas-docs/stable/user_guide/indexing.html#returning-a-view-versus-a-copy\n",
      "  temp_multi['number_filter'] = filter_types\n"
     ]
    },
    {
     "name": "stdout",
     "output_type": "stream",
     "text": [
      "E06000011\n",
      "i= 0  expand time,0.0 filter time0.0 make_dataframe_time 0.001\n",
      "E07000222\n"
     ]
    },
    {
     "name": "stderr",
     "output_type": "stream",
     "text": [
      "/tf/empty_homes_london/helper_functions.py:272: SettingWithCopyWarning: \n",
      "A value is trying to be set on a copy of a slice from a DataFrame.\n",
      "Try using .loc[row_indexer,col_indexer] = value instead\n",
      "\n",
      "See the caveats in the documentation: https://pandas.pydata.org/pandas-docs/stable/user_guide/indexing.html#returning-a-view-versus-a-copy\n",
      "  temp_multi['number_filter'] = filter_types\n",
      "/tf/empty_homes_london/helper_functions.py:272: SettingWithCopyWarning: \n",
      "A value is trying to be set on a copy of a slice from a DataFrame.\n",
      "Try using .loc[row_indexer,col_indexer] = value instead\n",
      "\n",
      "See the caveats in the documentation: https://pandas.pydata.org/pandas-docs/stable/user_guide/indexing.html#returning-a-view-versus-a-copy\n",
      "  temp_multi['number_filter'] = filter_types\n"
     ]
    },
    {
     "name": "stdout",
     "output_type": "stream",
     "text": [
      "i= 0  expand time,0.0 filter time0.0 make_dataframe_time 0.001\n",
      "W06000020\n"
     ]
    },
    {
     "name": "stderr",
     "output_type": "stream",
     "text": [
      "/tf/empty_homes_london/helper_functions.py:272: SettingWithCopyWarning: \n",
      "A value is trying to be set on a copy of a slice from a DataFrame.\n",
      "Try using .loc[row_indexer,col_indexer] = value instead\n",
      "\n",
      "See the caveats in the documentation: https://pandas.pydata.org/pandas-docs/stable/user_guide/indexing.html#returning-a-view-versus-a-copy\n",
      "  temp_multi['number_filter'] = filter_types\n",
      "/tf/empty_homes_london/helper_functions.py:272: SettingWithCopyWarning: \n",
      "A value is trying to be set on a copy of a slice from a DataFrame.\n",
      "Try using .loc[row_indexer,col_indexer] = value instead\n",
      "\n",
      "See the caveats in the documentation: https://pandas.pydata.org/pandas-docs/stable/user_guide/indexing.html#returning-a-view-versus-a-copy\n",
      "  temp_multi['number_filter'] = filter_types\n"
     ]
    },
    {
     "name": "stdout",
     "output_type": "stream",
     "text": [
      "i= 0  expand time,0.0 filter time0.0 make_dataframe_time 0.001\n",
      "E07000099\n",
      "i= 0  expand time,0.0 filter time0.0 make_dataframe_time 0.001\n",
      "E07000221\n",
      "i= 0  expand time,0.0 filter time0.0 make_dataframe_time 0.001\n",
      "W06000013\n"
     ]
    },
    {
     "name": "stderr",
     "output_type": "stream",
     "text": [
      "/tf/empty_homes_london/helper_functions.py:272: SettingWithCopyWarning: \n",
      "A value is trying to be set on a copy of a slice from a DataFrame.\n",
      "Try using .loc[row_indexer,col_indexer] = value instead\n",
      "\n",
      "See the caveats in the documentation: https://pandas.pydata.org/pandas-docs/stable/user_guide/indexing.html#returning-a-view-versus-a-copy\n",
      "  temp_multi['number_filter'] = filter_types\n",
      "/tf/empty_homes_london/helper_functions.py:272: SettingWithCopyWarning: \n",
      "A value is trying to be set on a copy of a slice from a DataFrame.\n",
      "Try using .loc[row_indexer,col_indexer] = value instead\n",
      "\n",
      "See the caveats in the documentation: https://pandas.pydata.org/pandas-docs/stable/user_guide/indexing.html#returning-a-view-versus-a-copy\n",
      "  temp_multi['number_filter'] = filter_types\n"
     ]
    },
    {
     "name": "stdout",
     "output_type": "stream",
     "text": [
      "i= 0  expand time,0.0 filter time0.0 make_dataframe_time 0.001\n",
      "E07000039\n",
      "i= 0  expand time,0.0 filter time0.0 make_dataframe_time 0.001\n"
     ]
    },
    {
     "name": "stderr",
     "output_type": "stream",
     "text": [
      "/tf/empty_homes_london/helper_functions.py:272: SettingWithCopyWarning: \n",
      "A value is trying to be set on a copy of a slice from a DataFrame.\n",
      "Try using .loc[row_indexer,col_indexer] = value instead\n",
      "\n",
      "See the caveats in the documentation: https://pandas.pydata.org/pandas-docs/stable/user_guide/indexing.html#returning-a-view-versus-a-copy\n",
      "  temp_multi['number_filter'] = filter_types\n",
      "/tf/empty_homes_london/helper_functions.py:272: SettingWithCopyWarning: \n",
      "A value is trying to be set on a copy of a slice from a DataFrame.\n",
      "Try using .loc[row_indexer,col_indexer] = value instead\n",
      "\n",
      "See the caveats in the documentation: https://pandas.pydata.org/pandas-docs/stable/user_guide/indexing.html#returning-a-view-versus-a-copy\n",
      "  temp_multi['number_filter'] = filter_types\n"
     ]
    },
    {
     "name": "stdout",
     "output_type": "stream",
     "text": [
      "E07000227\n",
      "i= 0  expand time,0.0 filter time0.0 make_dataframe_time 0.001\n",
      "E07000148\n"
     ]
    },
    {
     "name": "stderr",
     "output_type": "stream",
     "text": [
      "/tf/empty_homes_london/helper_functions.py:272: SettingWithCopyWarning: \n",
      "A value is trying to be set on a copy of a slice from a DataFrame.\n",
      "Try using .loc[row_indexer,col_indexer] = value instead\n",
      "\n",
      "See the caveats in the documentation: https://pandas.pydata.org/pandas-docs/stable/user_guide/indexing.html#returning-a-view-versus-a-copy\n",
      "  temp_multi['number_filter'] = filter_types\n"
     ]
    },
    {
     "name": "stdout",
     "output_type": "stream",
     "text": [
      "i= 0  expand time,0.0 filter time0.0 make_dataframe_time 0.001\n",
      "E07000237\n",
      "i= 0  expand time,0.0 filter time0.0 make_dataframe_time 0.001\n"
     ]
    },
    {
     "name": "stderr",
     "output_type": "stream",
     "text": [
      "/tf/empty_homes_london/helper_functions.py:272: SettingWithCopyWarning: \n",
      "A value is trying to be set on a copy of a slice from a DataFrame.\n",
      "Try using .loc[row_indexer,col_indexer] = value instead\n",
      "\n",
      "See the caveats in the documentation: https://pandas.pydata.org/pandas-docs/stable/user_guide/indexing.html#returning-a-view-versus-a-copy\n",
      "  temp_multi['number_filter'] = filter_types\n",
      "/tf/empty_homes_london/helper_functions.py:272: SettingWithCopyWarning: \n",
      "A value is trying to be set on a copy of a slice from a DataFrame.\n",
      "Try using .loc[row_indexer,col_indexer] = value instead\n",
      "\n",
      "See the caveats in the documentation: https://pandas.pydata.org/pandas-docs/stable/user_guide/indexing.html#returning-a-view-versus-a-copy\n",
      "  temp_multi['number_filter'] = filter_types\n"
     ]
    },
    {
     "name": "stdout",
     "output_type": "stream",
     "text": [
      "E07000114\n",
      "i= 0  expand time,0.0 filter time0.0 make_dataframe_time 0.001\n",
      "E07000171\n",
      "i= 0  expand time,0.0 filter time0.0 make_dataframe_time 0.001\n",
      "E07000109\n"
     ]
    },
    {
     "name": "stderr",
     "output_type": "stream",
     "text": [
      "/tf/empty_homes_london/helper_functions.py:272: SettingWithCopyWarning: \n",
      "A value is trying to be set on a copy of a slice from a DataFrame.\n",
      "Try using .loc[row_indexer,col_indexer] = value instead\n",
      "\n",
      "See the caveats in the documentation: https://pandas.pydata.org/pandas-docs/stable/user_guide/indexing.html#returning-a-view-versus-a-copy\n",
      "  temp_multi['number_filter'] = filter_types\n",
      "/tf/empty_homes_london/helper_functions.py:272: SettingWithCopyWarning: \n",
      "A value is trying to be set on a copy of a slice from a DataFrame.\n",
      "Try using .loc[row_indexer,col_indexer] = value instead\n",
      "\n",
      "See the caveats in the documentation: https://pandas.pydata.org/pandas-docs/stable/user_guide/indexing.html#returning-a-view-versus-a-copy\n",
      "  temp_multi['number_filter'] = filter_types\n"
     ]
    },
    {
     "name": "stdout",
     "output_type": "stream",
     "text": [
      "i= 0  expand time,0.0 filter time0.0 make_dataframe_time 0.001\n",
      "E07000076\n"
     ]
    },
    {
     "name": "stderr",
     "output_type": "stream",
     "text": [
      "/tf/empty_homes_london/helper_functions.py:272: SettingWithCopyWarning: \n",
      "A value is trying to be set on a copy of a slice from a DataFrame.\n",
      "Try using .loc[row_indexer,col_indexer] = value instead\n",
      "\n",
      "See the caveats in the documentation: https://pandas.pydata.org/pandas-docs/stable/user_guide/indexing.html#returning-a-view-versus-a-copy\n",
      "  temp_multi['number_filter'] = filter_types\n",
      "/tf/empty_homes_london/helper_functions.py:272: SettingWithCopyWarning: \n",
      "A value is trying to be set on a copy of a slice from a DataFrame.\n",
      "Try using .loc[row_indexer,col_indexer] = value instead\n",
      "\n",
      "See the caveats in the documentation: https://pandas.pydata.org/pandas-docs/stable/user_guide/indexing.html#returning-a-view-versus-a-copy\n",
      "  temp_multi['number_filter'] = filter_types\n"
     ]
    },
    {
     "name": "stdout",
     "output_type": "stream",
     "text": [
      "i= 0  expand time,0.0 filter time0.0 make_dataframe_time 0.001\n",
      "E07000234\n",
      "i= 0  expand time,0.0 filter time0.0 make_dataframe_time 0.001\n",
      "W06000010\n"
     ]
    },
    {
     "name": "stderr",
     "output_type": "stream",
     "text": [
      "/tf/empty_homes_london/helper_functions.py:272: SettingWithCopyWarning: \n",
      "A value is trying to be set on a copy of a slice from a DataFrame.\n",
      "Try using .loc[row_indexer,col_indexer] = value instead\n",
      "\n",
      "See the caveats in the documentation: https://pandas.pydata.org/pandas-docs/stable/user_guide/indexing.html#returning-a-view-versus-a-copy\n",
      "  temp_multi['number_filter'] = filter_types\n",
      "/tf/empty_homes_london/helper_functions.py:272: SettingWithCopyWarning: \n",
      "A value is trying to be set on a copy of a slice from a DataFrame.\n",
      "Try using .loc[row_indexer,col_indexer] = value instead\n",
      "\n",
      "See the caveats in the documentation: https://pandas.pydata.org/pandas-docs/stable/user_guide/indexing.html#returning-a-view-versus-a-copy\n",
      "  temp_multi['number_filter'] = filter_types\n"
     ]
    },
    {
     "name": "stdout",
     "output_type": "stream",
     "text": [
      "i= 0  expand time,0.0 filter time0.0 make_dataframe_time 0.001\n",
      "E07000223\n",
      "i= 0  expand time,0.0 filter time0.0 make_dataframe_time 0.001\n",
      "E07000107\n",
      "i= 0  expand time,0.0 filter time0.0 make_dataframe_time 0.001\n",
      "E07000168\n"
     ]
    },
    {
     "name": "stderr",
     "output_type": "stream",
     "text": [
      "/tf/empty_homes_london/helper_functions.py:272: SettingWithCopyWarning: \n",
      "A value is trying to be set on a copy of a slice from a DataFrame.\n",
      "Try using .loc[row_indexer,col_indexer] = value instead\n",
      "\n",
      "See the caveats in the documentation: https://pandas.pydata.org/pandas-docs/stable/user_guide/indexing.html#returning-a-view-versus-a-copy\n",
      "  temp_multi['number_filter'] = filter_types\n",
      "/tf/empty_homes_london/helper_functions.py:272: SettingWithCopyWarning: \n",
      "A value is trying to be set on a copy of a slice from a DataFrame.\n",
      "Try using .loc[row_indexer,col_indexer] = value instead\n",
      "\n",
      "See the caveats in the documentation: https://pandas.pydata.org/pandas-docs/stable/user_guide/indexing.html#returning-a-view-versus-a-copy\n",
      "  temp_multi['number_filter'] = filter_types\n",
      "/tf/empty_homes_london/helper_functions.py:272: SettingWithCopyWarning: \n",
      "A value is trying to be set on a copy of a slice from a DataFrame.\n",
      "Try using .loc[row_indexer,col_indexer] = value instead\n",
      "\n",
      "See the caveats in the documentation: https://pandas.pydata.org/pandas-docs/stable/user_guide/indexing.html#returning-a-view-versus-a-copy\n",
      "  temp_multi['number_filter'] = filter_types\n"
     ]
    },
    {
     "name": "stdout",
     "output_type": "stream",
     "text": [
      "i= 0  expand time,0.0 filter time0.0 make_dataframe_time 0.001\n",
      "E07000188\n",
      "i= 0  expand time,0.0 filter time0.0 make_dataframe_time 0.0\n",
      "E07000200\n",
      "i= 0  expand time,0.001 filter time0.0 make_dataframe_time 0.001\n",
      "E06000020\n"
     ]
    },
    {
     "name": "stderr",
     "output_type": "stream",
     "text": [
      "/tf/empty_homes_london/helper_functions.py:272: SettingWithCopyWarning: \n",
      "A value is trying to be set on a copy of a slice from a DataFrame.\n",
      "Try using .loc[row_indexer,col_indexer] = value instead\n",
      "\n",
      "See the caveats in the documentation: https://pandas.pydata.org/pandas-docs/stable/user_guide/indexing.html#returning-a-view-versus-a-copy\n",
      "  temp_multi['number_filter'] = filter_types\n",
      "/tf/empty_homes_london/helper_functions.py:272: SettingWithCopyWarning: \n",
      "A value is trying to be set on a copy of a slice from a DataFrame.\n",
      "Try using .loc[row_indexer,col_indexer] = value instead\n",
      "\n",
      "See the caveats in the documentation: https://pandas.pydata.org/pandas-docs/stable/user_guide/indexing.html#returning-a-view-versus-a-copy\n",
      "  temp_multi['number_filter'] = filter_types\n"
     ]
    },
    {
     "name": "stdout",
     "output_type": "stream",
     "text": [
      "i= 0  expand time,0.0 filter time0.0 make_dataframe_time 0.001\n",
      "E07000197\n",
      "i= 0  expand time,0.0 filter time0.0 make_dataframe_time 0.001\n"
     ]
    },
    {
     "name": "stderr",
     "output_type": "stream",
     "text": [
      "/tf/empty_homes_london/helper_functions.py:272: SettingWithCopyWarning: \n",
      "A value is trying to be set on a copy of a slice from a DataFrame.\n",
      "Try using .loc[row_indexer,col_indexer] = value instead\n",
      "\n",
      "See the caveats in the documentation: https://pandas.pydata.org/pandas-docs/stable/user_guide/indexing.html#returning-a-view-versus-a-copy\n",
      "  temp_multi['number_filter'] = filter_types\n",
      "/tf/empty_homes_london/helper_functions.py:272: SettingWithCopyWarning: \n",
      "A value is trying to be set on a copy of a slice from a DataFrame.\n",
      "Try using .loc[row_indexer,col_indexer] = value instead\n",
      "\n",
      "See the caveats in the documentation: https://pandas.pydata.org/pandas-docs/stable/user_guide/indexing.html#returning-a-view-versus-a-copy\n",
      "  temp_multi['number_filter'] = filter_types\n"
     ]
    },
    {
     "name": "stdout",
     "output_type": "stream",
     "text": [
      "E07000012\n",
      "i= 0  expand time,0.0 filter time0.0 make_dataframe_time 0.001\n",
      "E07000029\n"
     ]
    },
    {
     "name": "stderr",
     "output_type": "stream",
     "text": [
      "/tf/empty_homes_london/helper_functions.py:272: SettingWithCopyWarning: \n",
      "A value is trying to be set on a copy of a slice from a DataFrame.\n",
      "Try using .loc[row_indexer,col_indexer] = value instead\n",
      "\n",
      "See the caveats in the documentation: https://pandas.pydata.org/pandas-docs/stable/user_guide/indexing.html#returning-a-view-versus-a-copy\n",
      "  temp_multi['number_filter'] = filter_types\n",
      "/tf/empty_homes_london/helper_functions.py:272: SettingWithCopyWarning: \n",
      "A value is trying to be set on a copy of a slice from a DataFrame.\n",
      "Try using .loc[row_indexer,col_indexer] = value instead\n",
      "\n",
      "See the caveats in the documentation: https://pandas.pydata.org/pandas-docs/stable/user_guide/indexing.html#returning-a-view-versus-a-copy\n",
      "  temp_multi['number_filter'] = filter_types\n"
     ]
    },
    {
     "name": "stdout",
     "output_type": "stream",
     "text": [
      "i= 0  expand time,0.0 filter time0.0 make_dataframe_time 0.001\n",
      "E06000033\n",
      "i= 0  expand time,0.0 filter time0.0 make_dataframe_time 0.001\n",
      "E07000074\n",
      "i= 0  expand time,0.0 filter time0.0 make_dataframe_time 0.001\n",
      "E06000032\n"
     ]
    },
    {
     "name": "stderr",
     "output_type": "stream",
     "text": [
      "/tf/empty_homes_london/helper_functions.py:272: SettingWithCopyWarning: \n",
      "A value is trying to be set on a copy of a slice from a DataFrame.\n",
      "Try using .loc[row_indexer,col_indexer] = value instead\n",
      "\n",
      "See the caveats in the documentation: https://pandas.pydata.org/pandas-docs/stable/user_guide/indexing.html#returning-a-view-versus-a-copy\n",
      "  temp_multi['number_filter'] = filter_types\n",
      "/tf/empty_homes_london/helper_functions.py:272: SettingWithCopyWarning: \n",
      "A value is trying to be set on a copy of a slice from a DataFrame.\n",
      "Try using .loc[row_indexer,col_indexer] = value instead\n",
      "\n",
      "See the caveats in the documentation: https://pandas.pydata.org/pandas-docs/stable/user_guide/indexing.html#returning-a-view-versus-a-copy\n",
      "  temp_multi['number_filter'] = filter_types\n"
     ]
    },
    {
     "name": "stdout",
     "output_type": "stream",
     "text": [
      "i= 0  expand time,0.0 filter time0.0 make_dataframe_time 0.001\n",
      "E07000086\n",
      "i= 0  expand time,0.0 filter time0.0 make_dataframe_time 0.001\n",
      "E07000241\n"
     ]
    },
    {
     "name": "stderr",
     "output_type": "stream",
     "text": [
      "/tf/empty_homes_london/helper_functions.py:272: SettingWithCopyWarning: \n",
      "A value is trying to be set on a copy of a slice from a DataFrame.\n",
      "Try using .loc[row_indexer,col_indexer] = value instead\n",
      "\n",
      "See the caveats in the documentation: https://pandas.pydata.org/pandas-docs/stable/user_guide/indexing.html#returning-a-view-versus-a-copy\n",
      "  temp_multi['number_filter'] = filter_types\n",
      "/tf/empty_homes_london/helper_functions.py:272: SettingWithCopyWarning: \n",
      "A value is trying to be set on a copy of a slice from a DataFrame.\n",
      "Try using .loc[row_indexer,col_indexer] = value instead\n",
      "\n",
      "See the caveats in the documentation: https://pandas.pydata.org/pandas-docs/stable/user_guide/indexing.html#returning-a-view-versus-a-copy\n",
      "  temp_multi['number_filter'] = filter_types\n"
     ]
    },
    {
     "name": "stdout",
     "output_type": "stream",
     "text": [
      "i= 0  expand time,0.0 filter time0.0 make_dataframe_time 0.001\n",
      "E07000127\n"
     ]
    },
    {
     "name": "stderr",
     "output_type": "stream",
     "text": [
      "/tf/empty_homes_london/helper_functions.py:272: SettingWithCopyWarning: \n",
      "A value is trying to be set on a copy of a slice from a DataFrame.\n",
      "Try using .loc[row_indexer,col_indexer] = value instead\n",
      "\n",
      "See the caveats in the documentation: https://pandas.pydata.org/pandas-docs/stable/user_guide/indexing.html#returning-a-view-versus-a-copy\n",
      "  temp_multi['number_filter'] = filter_types\n",
      "/tf/empty_homes_london/helper_functions.py:272: SettingWithCopyWarning: \n",
      "A value is trying to be set on a copy of a slice from a DataFrame.\n",
      "Try using .loc[row_indexer,col_indexer] = value instead\n",
      "\n",
      "See the caveats in the documentation: https://pandas.pydata.org/pandas-docs/stable/user_guide/indexing.html#returning-a-view-versus-a-copy\n",
      "  temp_multi['number_filter'] = filter_types\n"
     ]
    },
    {
     "name": "stdout",
     "output_type": "stream",
     "text": [
      "i= 0  expand time,0.0 filter time0.0 make_dataframe_time 0.001\n",
      "E06000046\n",
      "i= 0  expand time,0.0 filter time0.0 make_dataframe_time 0.001\n",
      "E09000004\n",
      "i= 0  expand time,0.0 filter time0.0 make_dataframe_time 0.001\n"
     ]
    },
    {
     "name": "stderr",
     "output_type": "stream",
     "text": [
      "/tf/empty_homes_london/helper_functions.py:272: SettingWithCopyWarning: \n",
      "A value is trying to be set on a copy of a slice from a DataFrame.\n",
      "Try using .loc[row_indexer,col_indexer] = value instead\n",
      "\n",
      "See the caveats in the documentation: https://pandas.pydata.org/pandas-docs/stable/user_guide/indexing.html#returning-a-view-versus-a-copy\n",
      "  temp_multi['number_filter'] = filter_types\n"
     ]
    },
    {
     "name": "stdout",
     "output_type": "stream",
     "text": [
      "E07000170\n",
      "i= 0  expand time,0.0 filter time0.0 make_dataframe_time 0.001\n",
      "E07000145\n"
     ]
    },
    {
     "name": "stderr",
     "output_type": "stream",
     "text": [
      "/tf/empty_homes_london/helper_functions.py:272: SettingWithCopyWarning: \n",
      "A value is trying to be set on a copy of a slice from a DataFrame.\n",
      "Try using .loc[row_indexer,col_indexer] = value instead\n",
      "\n",
      "See the caveats in the documentation: https://pandas.pydata.org/pandas-docs/stable/user_guide/indexing.html#returning-a-view-versus-a-copy\n",
      "  temp_multi['number_filter'] = filter_types\n",
      "/tf/empty_homes_london/helper_functions.py:272: SettingWithCopyWarning: \n",
      "A value is trying to be set on a copy of a slice from a DataFrame.\n",
      "Try using .loc[row_indexer,col_indexer] = value instead\n",
      "\n",
      "See the caveats in the documentation: https://pandas.pydata.org/pandas-docs/stable/user_guide/indexing.html#returning-a-view-versus-a-copy\n",
      "  temp_multi['number_filter'] = filter_types\n"
     ]
    },
    {
     "name": "stdout",
     "output_type": "stream",
     "text": [
      "i= 0  expand time,0.0 filter time0.0 make_dataframe_time 0.001\n",
      "E07000194\n",
      "i= 0  expand time,0.0 filter time0.0 make_dataframe_time 0.001\n",
      "E06000019\n"
     ]
    },
    {
     "name": "stderr",
     "output_type": "stream",
     "text": [
      "/tf/empty_homes_london/helper_functions.py:272: SettingWithCopyWarning: \n",
      "A value is trying to be set on a copy of a slice from a DataFrame.\n",
      "Try using .loc[row_indexer,col_indexer] = value instead\n",
      "\n",
      "See the caveats in the documentation: https://pandas.pydata.org/pandas-docs/stable/user_guide/indexing.html#returning-a-view-versus-a-copy\n",
      "  temp_multi['number_filter'] = filter_types\n",
      "/tf/empty_homes_london/helper_functions.py:272: SettingWithCopyWarning: \n",
      "A value is trying to be set on a copy of a slice from a DataFrame.\n",
      "Try using .loc[row_indexer,col_indexer] = value instead\n",
      "\n",
      "See the caveats in the documentation: https://pandas.pydata.org/pandas-docs/stable/user_guide/indexing.html#returning-a-view-versus-a-copy\n",
      "  temp_multi['number_filter'] = filter_types\n"
     ]
    },
    {
     "name": "stdout",
     "output_type": "stream",
     "text": [
      "i= 0  expand time,0.0 filter time0.0 make_dataframe_time 0.001\n",
      "E07000164\n"
     ]
    },
    {
     "name": "stderr",
     "output_type": "stream",
     "text": [
      "/tf/empty_homes_london/helper_functions.py:272: SettingWithCopyWarning: \n",
      "A value is trying to be set on a copy of a slice from a DataFrame.\n",
      "Try using .loc[row_indexer,col_indexer] = value instead\n",
      "\n",
      "See the caveats in the documentation: https://pandas.pydata.org/pandas-docs/stable/user_guide/indexing.html#returning-a-view-versus-a-copy\n",
      "  temp_multi['number_filter'] = filter_types\n",
      "/tf/empty_homes_london/helper_functions.py:272: SettingWithCopyWarning: \n",
      "A value is trying to be set on a copy of a slice from a DataFrame.\n",
      "Try using .loc[row_indexer,col_indexer] = value instead\n",
      "\n",
      "See the caveats in the documentation: https://pandas.pydata.org/pandas-docs/stable/user_guide/indexing.html#returning-a-view-versus-a-copy\n",
      "  temp_multi['number_filter'] = filter_types\n"
     ]
    },
    {
     "name": "stdout",
     "output_type": "stream",
     "text": [
      "i= 0  expand time,0.0 filter time0.0 make_dataframe_time 0.001\n",
      "E07000212\n",
      "i= 0  expand time,0.0 filter time0.0 make_dataframe_time 0.001\n",
      "W06000024\n",
      "i= 0  expand time,0.0 filter time0.0 make_dataframe_time 0.002\n",
      "W06000001\n"
     ]
    },
    {
     "name": "stderr",
     "output_type": "stream",
     "text": [
      "/tf/empty_homes_london/helper_functions.py:272: SettingWithCopyWarning: \n",
      "A value is trying to be set on a copy of a slice from a DataFrame.\n",
      "Try using .loc[row_indexer,col_indexer] = value instead\n",
      "\n",
      "See the caveats in the documentation: https://pandas.pydata.org/pandas-docs/stable/user_guide/indexing.html#returning-a-view-versus-a-copy\n",
      "  temp_multi['number_filter'] = filter_types\n",
      "/tf/empty_homes_london/helper_functions.py:272: SettingWithCopyWarning: \n",
      "A value is trying to be set on a copy of a slice from a DataFrame.\n",
      "Try using .loc[row_indexer,col_indexer] = value instead\n",
      "\n",
      "See the caveats in the documentation: https://pandas.pydata.org/pandas-docs/stable/user_guide/indexing.html#returning-a-view-versus-a-copy\n",
      "  temp_multi['number_filter'] = filter_types\n"
     ]
    },
    {
     "name": "stdout",
     "output_type": "stream",
     "text": [
      "i= 0  expand time,0.0 filter time0.0 make_dataframe_time 0.001\n",
      "E07000072\n",
      "i= 0  expand time,0.0 filter time0.0 make_dataframe_time 0.001\n",
      "E07000147\n"
     ]
    },
    {
     "name": "stderr",
     "output_type": "stream",
     "text": [
      "/tf/empty_homes_london/helper_functions.py:272: SettingWithCopyWarning: \n",
      "A value is trying to be set on a copy of a slice from a DataFrame.\n",
      "Try using .loc[row_indexer,col_indexer] = value instead\n",
      "\n",
      "See the caveats in the documentation: https://pandas.pydata.org/pandas-docs/stable/user_guide/indexing.html#returning-a-view-versus-a-copy\n",
      "  temp_multi['number_filter'] = filter_types\n",
      "/tf/empty_homes_london/helper_functions.py:272: SettingWithCopyWarning: \n",
      "A value is trying to be set on a copy of a slice from a DataFrame.\n",
      "Try using .loc[row_indexer,col_indexer] = value instead\n",
      "\n",
      "See the caveats in the documentation: https://pandas.pydata.org/pandas-docs/stable/user_guide/indexing.html#returning-a-view-versus-a-copy\n",
      "  temp_multi['number_filter'] = filter_types\n"
     ]
    },
    {
     "name": "stdout",
     "output_type": "stream",
     "text": [
      "i= 0  expand time,0.0 filter time0.0 make_dataframe_time 0.001\n",
      "E06000022\n"
     ]
    },
    {
     "name": "stderr",
     "output_type": "stream",
     "text": [
      "/tf/empty_homes_london/helper_functions.py:272: SettingWithCopyWarning: \n",
      "A value is trying to be set on a copy of a slice from a DataFrame.\n",
      "Try using .loc[row_indexer,col_indexer] = value instead\n",
      "\n",
      "See the caveats in the documentation: https://pandas.pydata.org/pandas-docs/stable/user_guide/indexing.html#returning-a-view-versus-a-copy\n",
      "  temp_multi['number_filter'] = filter_types\n"
     ]
    },
    {
     "name": "stdout",
     "output_type": "stream",
     "text": [
      "i= 0  expand time,0.001 filter time0.0 make_dataframe_time 0.002\n",
      "E07000137\n"
     ]
    },
    {
     "name": "stderr",
     "output_type": "stream",
     "text": [
      "/tf/empty_homes_london/helper_functions.py:272: SettingWithCopyWarning: \n",
      "A value is trying to be set on a copy of a slice from a DataFrame.\n",
      "Try using .loc[row_indexer,col_indexer] = value instead\n",
      "\n",
      "See the caveats in the documentation: https://pandas.pydata.org/pandas-docs/stable/user_guide/indexing.html#returning-a-view-versus-a-copy\n",
      "  temp_multi['number_filter'] = filter_types\n"
     ]
    },
    {
     "name": "stdout",
     "output_type": "stream",
     "text": [
      "i= 0  expand time,0.0 filter time0.0 make_dataframe_time 0.001\n",
      "W06000005\n"
     ]
    },
    {
     "name": "stderr",
     "output_type": "stream",
     "text": [
      "/tf/empty_homes_london/helper_functions.py:272: SettingWithCopyWarning: \n",
      "A value is trying to be set on a copy of a slice from a DataFrame.\n",
      "Try using .loc[row_indexer,col_indexer] = value instead\n",
      "\n",
      "See the caveats in the documentation: https://pandas.pydata.org/pandas-docs/stable/user_guide/indexing.html#returning-a-view-versus-a-copy\n",
      "  temp_multi['number_filter'] = filter_types\n",
      "/tf/empty_homes_london/helper_functions.py:272: SettingWithCopyWarning: \n",
      "A value is trying to be set on a copy of a slice from a DataFrame.\n",
      "Try using .loc[row_indexer,col_indexer] = value instead\n",
      "\n",
      "See the caveats in the documentation: https://pandas.pydata.org/pandas-docs/stable/user_guide/indexing.html#returning-a-view-versus-a-copy\n",
      "  temp_multi['number_filter'] = filter_types\n"
     ]
    },
    {
     "name": "stdout",
     "output_type": "stream",
     "text": [
      "i= 0  expand time,0.0 filter time0.0 make_dataframe_time 0.001\n",
      "E07000175\n",
      "i= 0  expand time,0.0 filter time0.0 make_dataframe_time 0.001\n",
      "W06000009\n",
      "i= 0  expand time,0.0 filter time0.0 make_dataframe_time 0.001\n",
      "W06000021\n"
     ]
    },
    {
     "name": "stderr",
     "output_type": "stream",
     "text": [
      "/tf/empty_homes_london/helper_functions.py:272: SettingWithCopyWarning: \n",
      "A value is trying to be set on a copy of a slice from a DataFrame.\n",
      "Try using .loc[row_indexer,col_indexer] = value instead\n",
      "\n",
      "See the caveats in the documentation: https://pandas.pydata.org/pandas-docs/stable/user_guide/indexing.html#returning-a-view-versus-a-copy\n",
      "  temp_multi['number_filter'] = filter_types\n",
      "/tf/empty_homes_london/helper_functions.py:272: SettingWithCopyWarning: \n",
      "A value is trying to be set on a copy of a slice from a DataFrame.\n",
      "Try using .loc[row_indexer,col_indexer] = value instead\n",
      "\n",
      "See the caveats in the documentation: https://pandas.pydata.org/pandas-docs/stable/user_guide/indexing.html#returning-a-view-versus-a-copy\n",
      "  temp_multi['number_filter'] = filter_types\n"
     ]
    },
    {
     "name": "stdout",
     "output_type": "stream",
     "text": [
      "i= 0  expand time,0.0 filter time0.0 make_dataframe_time 0.001\n",
      "E07000026\n",
      "i= 0  expand time,0.0 filter time0.0 make_dataframe_time 0.001\n"
     ]
    },
    {
     "name": "stderr",
     "output_type": "stream",
     "text": [
      "/tf/empty_homes_london/helper_functions.py:272: SettingWithCopyWarning: \n",
      "A value is trying to be set on a copy of a slice from a DataFrame.\n",
      "Try using .loc[row_indexer,col_indexer] = value instead\n",
      "\n",
      "See the caveats in the documentation: https://pandas.pydata.org/pandas-docs/stable/user_guide/indexing.html#returning-a-view-versus-a-copy\n",
      "  temp_multi['number_filter'] = filter_types\n",
      "/tf/empty_homes_london/helper_functions.py:272: SettingWithCopyWarning: \n",
      "A value is trying to be set on a copy of a slice from a DataFrame.\n",
      "Try using .loc[row_indexer,col_indexer] = value instead\n",
      "\n",
      "See the caveats in the documentation: https://pandas.pydata.org/pandas-docs/stable/user_guide/indexing.html#returning-a-view-versus-a-copy\n",
      "  temp_multi['number_filter'] = filter_types\n"
     ]
    },
    {
     "name": "stdout",
     "output_type": "stream",
     "text": [
      "E07000218\n",
      "i= 0  expand time,0.0 filter time0.0 make_dataframe_time 0.001\n",
      "E07000143\n"
     ]
    },
    {
     "name": "stderr",
     "output_type": "stream",
     "text": [
      "/tf/empty_homes_london/helper_functions.py:272: SettingWithCopyWarning: \n",
      "A value is trying to be set on a copy of a slice from a DataFrame.\n",
      "Try using .loc[row_indexer,col_indexer] = value instead\n",
      "\n",
      "See the caveats in the documentation: https://pandas.pydata.org/pandas-docs/stable/user_guide/indexing.html#returning-a-view-versus-a-copy\n",
      "  temp_multi['number_filter'] = filter_types\n",
      "/tf/empty_homes_london/helper_functions.py:272: SettingWithCopyWarning: \n",
      "A value is trying to be set on a copy of a slice from a DataFrame.\n",
      "Try using .loc[row_indexer,col_indexer] = value instead\n",
      "\n",
      "See the caveats in the documentation: https://pandas.pydata.org/pandas-docs/stable/user_guide/indexing.html#returning-a-view-versus-a-copy\n",
      "  temp_multi['number_filter'] = filter_types\n"
     ]
    },
    {
     "name": "stdout",
     "output_type": "stream",
     "text": [
      "i= 0  expand time,0.001 filter time0.0 make_dataframe_time 0.001\n",
      "E07000064\n",
      "i= 0  expand time,0.0 filter time0.0 make_dataframe_time 0.001\n",
      "E07000192\n",
      "i= 0  expand time,0.0 filter time0.0 make_dataframe_time 0.001\n"
     ]
    },
    {
     "name": "stderr",
     "output_type": "stream",
     "text": [
      "/tf/empty_homes_london/helper_functions.py:272: SettingWithCopyWarning: \n",
      "A value is trying to be set on a copy of a slice from a DataFrame.\n",
      "Try using .loc[row_indexer,col_indexer] = value instead\n",
      "\n",
      "See the caveats in the documentation: https://pandas.pydata.org/pandas-docs/stable/user_guide/indexing.html#returning-a-view-versus-a-copy\n",
      "  temp_multi['number_filter'] = filter_types\n"
     ]
    },
    {
     "name": "stdout",
     "output_type": "stream",
     "text": [
      "E07000010\n",
      "i= 0  expand time,0.0 filter time0.0 make_dataframe_time 0.001\n",
      "E06000004\n"
     ]
    },
    {
     "name": "stderr",
     "output_type": "stream",
     "text": [
      "/tf/empty_homes_london/helper_functions.py:272: SettingWithCopyWarning: \n",
      "A value is trying to be set on a copy of a slice from a DataFrame.\n",
      "Try using .loc[row_indexer,col_indexer] = value instead\n",
      "\n",
      "See the caveats in the documentation: https://pandas.pydata.org/pandas-docs/stable/user_guide/indexing.html#returning-a-view-versus-a-copy\n",
      "  temp_multi['number_filter'] = filter_types\n",
      "/tf/empty_homes_london/helper_functions.py:272: SettingWithCopyWarning: \n",
      "A value is trying to be set on a copy of a slice from a DataFrame.\n",
      "Try using .loc[row_indexer,col_indexer] = value instead\n",
      "\n",
      "See the caveats in the documentation: https://pandas.pydata.org/pandas-docs/stable/user_guide/indexing.html#returning-a-view-versus-a-copy\n",
      "  temp_multi['number_filter'] = filter_types\n"
     ]
    },
    {
     "name": "stdout",
     "output_type": "stream",
     "text": [
      "i= 0  expand time,0.0 filter time0.0 make_dataframe_time 0.0\n",
      "E06000001\n",
      "i= 0  expand time,0.0 filter time0.0 make_dataframe_time 0.001\n",
      "W06000008\n"
     ]
    },
    {
     "name": "stderr",
     "output_type": "stream",
     "text": [
      "/tf/empty_homes_london/helper_functions.py:272: SettingWithCopyWarning: \n",
      "A value is trying to be set on a copy of a slice from a DataFrame.\n",
      "Try using .loc[row_indexer,col_indexer] = value instead\n",
      "\n",
      "See the caveats in the documentation: https://pandas.pydata.org/pandas-docs/stable/user_guide/indexing.html#returning-a-view-versus-a-copy\n",
      "  temp_multi['number_filter'] = filter_types\n",
      "/tf/empty_homes_london/helper_functions.py:272: SettingWithCopyWarning: \n",
      "A value is trying to be set on a copy of a slice from a DataFrame.\n",
      "Try using .loc[row_indexer,col_indexer] = value instead\n",
      "\n",
      "See the caveats in the documentation: https://pandas.pydata.org/pandas-docs/stable/user_guide/indexing.html#returning-a-view-versus-a-copy\n",
      "  temp_multi['number_filter'] = filter_types\n"
     ]
    },
    {
     "name": "stdout",
     "output_type": "stream",
     "text": [
      "i= 0  expand time,0.0 filter time0.0 make_dataframe_time 0.001\n",
      "E07000219\n",
      "i= 0  expand time,0.0 filter time0.0 make_dataframe_time 0.001\n"
     ]
    },
    {
     "name": "stderr",
     "output_type": "stream",
     "text": [
      "/tf/empty_homes_london/helper_functions.py:272: SettingWithCopyWarning: \n",
      "A value is trying to be set on a copy of a slice from a DataFrame.\n",
      "Try using .loc[row_indexer,col_indexer] = value instead\n",
      "\n",
      "See the caveats in the documentation: https://pandas.pydata.org/pandas-docs/stable/user_guide/indexing.html#returning-a-view-versus-a-copy\n",
      "  temp_multi['number_filter'] = filter_types\n",
      "/tf/empty_homes_london/helper_functions.py:272: SettingWithCopyWarning: \n",
      "A value is trying to be set on a copy of a slice from a DataFrame.\n",
      "Try using .loc[row_indexer,col_indexer] = value instead\n",
      "\n",
      "See the caveats in the documentation: https://pandas.pydata.org/pandas-docs/stable/user_guide/indexing.html#returning-a-view-versus-a-copy\n",
      "  temp_multi['number_filter'] = filter_types\n"
     ]
    },
    {
     "name": "stdout",
     "output_type": "stream",
     "text": [
      "E07000122\n",
      "i= 0  expand time,0.0 filter time0.0 make_dataframe_time 0.001\n",
      "W06000023\n",
      "i= 0  expand time,0.0 filter time0.0 make_dataframe_time 0.001\n",
      "E07000120\n"
     ]
    },
    {
     "name": "stderr",
     "output_type": "stream",
     "text": [
      "/tf/empty_homes_london/helper_functions.py:272: SettingWithCopyWarning: \n",
      "A value is trying to be set on a copy of a slice from a DataFrame.\n",
      "Try using .loc[row_indexer,col_indexer] = value instead\n",
      "\n",
      "See the caveats in the documentation: https://pandas.pydata.org/pandas-docs/stable/user_guide/indexing.html#returning-a-view-versus-a-copy\n",
      "  temp_multi['number_filter'] = filter_types\n",
      "/tf/empty_homes_london/helper_functions.py:272: SettingWithCopyWarning: \n",
      "A value is trying to be set on a copy of a slice from a DataFrame.\n",
      "Try using .loc[row_indexer,col_indexer] = value instead\n",
      "\n",
      "See the caveats in the documentation: https://pandas.pydata.org/pandas-docs/stable/user_guide/indexing.html#returning-a-view-versus-a-copy\n",
      "  temp_multi['number_filter'] = filter_types\n"
     ]
    },
    {
     "name": "stdout",
     "output_type": "stream",
     "text": [
      "i= 0  expand time,0.0 filter time0.0 make_dataframe_time 0.001\n",
      "E07000140\n"
     ]
    },
    {
     "name": "stderr",
     "output_type": "stream",
     "text": [
      "/tf/empty_homes_london/helper_functions.py:272: SettingWithCopyWarning: \n",
      "A value is trying to be set on a copy of a slice from a DataFrame.\n",
      "Try using .loc[row_indexer,col_indexer] = value instead\n",
      "\n",
      "See the caveats in the documentation: https://pandas.pydata.org/pandas-docs/stable/user_guide/indexing.html#returning-a-view-versus-a-copy\n",
      "  temp_multi['number_filter'] = filter_types\n"
     ]
    },
    {
     "name": "stdout",
     "output_type": "stream",
     "text": [
      "i= 0  expand time,0.001 filter time0.0 make_dataframe_time 0.001\n",
      "E07000138\n"
     ]
    },
    {
     "name": "stderr",
     "output_type": "stream",
     "text": [
      "/tf/empty_homes_london/helper_functions.py:272: SettingWithCopyWarning: \n",
      "A value is trying to be set on a copy of a slice from a DataFrame.\n",
      "Try using .loc[row_indexer,col_indexer] = value instead\n",
      "\n",
      "See the caveats in the documentation: https://pandas.pydata.org/pandas-docs/stable/user_guide/indexing.html#returning-a-view-versus-a-copy\n",
      "  temp_multi['number_filter'] = filter_types\n"
     ]
    },
    {
     "name": "stdout",
     "output_type": "stream",
     "text": [
      "i= 0  expand time,0.001 filter time0.0 make_dataframe_time 0.001\n",
      "E07000141\n",
      "i= 0  expand time,0.0 filter time0.0 make_dataframe_time 0.001\n"
     ]
    },
    {
     "name": "stderr",
     "output_type": "stream",
     "text": [
      "/tf/empty_homes_london/helper_functions.py:272: SettingWithCopyWarning: \n",
      "A value is trying to be set on a copy of a slice from a DataFrame.\n",
      "Try using .loc[row_indexer,col_indexer] = value instead\n",
      "\n",
      "See the caveats in the documentation: https://pandas.pydata.org/pandas-docs/stable/user_guide/indexing.html#returning-a-view-versus-a-copy\n",
      "  temp_multi['number_filter'] = filter_types\n"
     ]
    },
    {
     "name": "stdout",
     "output_type": "stream",
     "text": [
      "E07000235\n",
      "i= 0  expand time,0.0 filter time0.0 make_dataframe_time 0.001\n",
      "E07000238\n"
     ]
    },
    {
     "name": "stderr",
     "output_type": "stream",
     "text": [
      "/tf/empty_homes_london/helper_functions.py:272: SettingWithCopyWarning: \n",
      "A value is trying to be set on a copy of a slice from a DataFrame.\n",
      "Try using .loc[row_indexer,col_indexer] = value instead\n",
      "\n",
      "See the caveats in the documentation: https://pandas.pydata.org/pandas-docs/stable/user_guide/indexing.html#returning-a-view-versus-a-copy\n",
      "  temp_multi['number_filter'] = filter_types\n",
      "/tf/empty_homes_london/helper_functions.py:272: SettingWithCopyWarning: \n",
      "A value is trying to be set on a copy of a slice from a DataFrame.\n",
      "Try using .loc[row_indexer,col_indexer] = value instead\n",
      "\n",
      "See the caveats in the documentation: https://pandas.pydata.org/pandas-docs/stable/user_guide/indexing.html#returning-a-view-versus-a-copy\n",
      "  temp_multi['number_filter'] = filter_types\n"
     ]
    },
    {
     "name": "stdout",
     "output_type": "stream",
     "text": [
      "i= 0  expand time,0.0 filter time0.0 make_dataframe_time 0.001\n",
      "E07000132\n",
      "i= 0  expand time,0.0 filter time0.0 make_dataframe_time 0.001\n"
     ]
    },
    {
     "name": "stderr",
     "output_type": "stream",
     "text": [
      "/tf/empty_homes_london/helper_functions.py:272: SettingWithCopyWarning: \n",
      "A value is trying to be set on a copy of a slice from a DataFrame.\n",
      "Try using .loc[row_indexer,col_indexer] = value instead\n",
      "\n",
      "See the caveats in the documentation: https://pandas.pydata.org/pandas-docs/stable/user_guide/indexing.html#returning-a-view-versus-a-copy\n",
      "  temp_multi['number_filter'] = filter_types\n",
      "/tf/empty_homes_london/helper_functions.py:272: SettingWithCopyWarning: \n",
      "A value is trying to be set on a copy of a slice from a DataFrame.\n",
      "Try using .loc[row_indexer,col_indexer] = value instead\n",
      "\n",
      "See the caveats in the documentation: https://pandas.pydata.org/pandas-docs/stable/user_guide/indexing.html#returning-a-view-versus-a-copy\n",
      "  temp_multi['number_filter'] = filter_types\n"
     ]
    },
    {
     "name": "stdout",
     "output_type": "stream",
     "text": [
      "E07000028\n",
      "i= 0  expand time,0.0 filter time0.0 make_dataframe_time 0.001\n",
      "E07000134\n",
      "i= 0  expand time,0.0 filter time0.0 make_dataframe_time 0.001\n",
      "E07000030\n"
     ]
    },
    {
     "name": "stderr",
     "output_type": "stream",
     "text": [
      "/tf/empty_homes_london/helper_functions.py:272: SettingWithCopyWarning: \n",
      "A value is trying to be set on a copy of a slice from a DataFrame.\n",
      "Try using .loc[row_indexer,col_indexer] = value instead\n",
      "\n",
      "See the caveats in the documentation: https://pandas.pydata.org/pandas-docs/stable/user_guide/indexing.html#returning-a-view-versus-a-copy\n",
      "  temp_multi['number_filter'] = filter_types\n",
      "/tf/empty_homes_london/helper_functions.py:272: SettingWithCopyWarning: \n",
      "A value is trying to be set on a copy of a slice from a DataFrame.\n",
      "Try using .loc[row_indexer,col_indexer] = value instead\n",
      "\n",
      "See the caveats in the documentation: https://pandas.pydata.org/pandas-docs/stable/user_guide/indexing.html#returning-a-view-versus-a-copy\n",
      "  temp_multi['number_filter'] = filter_types\n"
     ]
    },
    {
     "name": "stdout",
     "output_type": "stream",
     "text": [
      "i= 0  expand time,0.0 filter time0.0 make_dataframe_time 0.001\n",
      "E06000027\n",
      "i= 0  expand time,0.0 filter time0.0 make_dataframe_time 0.001\n"
     ]
    },
    {
     "name": "stderr",
     "output_type": "stream",
     "text": [
      "/tf/empty_homes_london/helper_functions.py:272: SettingWithCopyWarning: \n",
      "A value is trying to be set on a copy of a slice from a DataFrame.\n",
      "Try using .loc[row_indexer,col_indexer] = value instead\n",
      "\n",
      "See the caveats in the documentation: https://pandas.pydata.org/pandas-docs/stable/user_guide/indexing.html#returning-a-view-versus-a-copy\n",
      "  temp_multi['number_filter'] = filter_types\n"
     ]
    },
    {
     "name": "stdout",
     "output_type": "stream",
     "text": [
      "E07000040\n",
      "i= 0  expand time,0.0 filter time0.0 make_dataframe_time 0.001\n",
      "E07000045\n"
     ]
    },
    {
     "name": "stderr",
     "output_type": "stream",
     "text": [
      "/tf/empty_homes_london/helper_functions.py:272: SettingWithCopyWarning: \n",
      "A value is trying to be set on a copy of a slice from a DataFrame.\n",
      "Try using .loc[row_indexer,col_indexer] = value instead\n",
      "\n",
      "See the caveats in the documentation: https://pandas.pydata.org/pandas-docs/stable/user_guide/indexing.html#returning-a-view-versus-a-copy\n",
      "  temp_multi['number_filter'] = filter_types\n",
      "/tf/empty_homes_london/helper_functions.py:272: SettingWithCopyWarning: \n",
      "A value is trying to be set on a copy of a slice from a DataFrame.\n",
      "Try using .loc[row_indexer,col_indexer] = value instead\n",
      "\n",
      "See the caveats in the documentation: https://pandas.pydata.org/pandas-docs/stable/user_guide/indexing.html#returning-a-view-versus-a-copy\n",
      "  temp_multi['number_filter'] = filter_types\n"
     ]
    },
    {
     "name": "stdout",
     "output_type": "stream",
     "text": [
      "i= 0  expand time,0.0 filter time0.0 make_dataframe_time 0.001\n",
      "E07000042\n",
      "i= 0  expand time,0.0 filter time0.0 make_dataframe_time 0.001\n",
      "E07000041\n"
     ]
    },
    {
     "name": "stderr",
     "output_type": "stream",
     "text": [
      "/tf/empty_homes_london/helper_functions.py:272: SettingWithCopyWarning: \n",
      "A value is trying to be set on a copy of a slice from a DataFrame.\n",
      "Try using .loc[row_indexer,col_indexer] = value instead\n",
      "\n",
      "See the caveats in the documentation: https://pandas.pydata.org/pandas-docs/stable/user_guide/indexing.html#returning-a-view-versus-a-copy\n",
      "  temp_multi['number_filter'] = filter_types\n",
      "/tf/empty_homes_london/helper_functions.py:272: SettingWithCopyWarning: \n",
      "A value is trying to be set on a copy of a slice from a DataFrame.\n",
      "Try using .loc[row_indexer,col_indexer] = value instead\n",
      "\n",
      "See the caveats in the documentation: https://pandas.pydata.org/pandas-docs/stable/user_guide/indexing.html#returning-a-view-versus-a-copy\n",
      "  temp_multi['number_filter'] = filter_types\n"
     ]
    },
    {
     "name": "stdout",
     "output_type": "stream",
     "text": [
      "i= 0  expand time,0.0 filter time0.0 make_dataframe_time 0.001\n",
      "E06000034\n",
      "i= 0  expand time,0.0 filter time0.0 make_dataframe_time 0.002\n"
     ]
    },
    {
     "name": "stderr",
     "output_type": "stream",
     "text": [
      "/tf/empty_homes_london/helper_functions.py:272: SettingWithCopyWarning: \n",
      "A value is trying to be set on a copy of a slice from a DataFrame.\n",
      "Try using .loc[row_indexer,col_indexer] = value instead\n",
      "\n",
      "See the caveats in the documentation: https://pandas.pydata.org/pandas-docs/stable/user_guide/indexing.html#returning-a-view-versus-a-copy\n",
      "  temp_multi['number_filter'] = filter_types\n"
     ]
    },
    {
     "name": "stdout",
     "output_type": "stream",
     "text": [
      "E07000066\n",
      "i= 0  expand time,0.0 filter time0.0 make_dataframe_time 0.001\n",
      "E07000063\n"
     ]
    },
    {
     "name": "stderr",
     "output_type": "stream",
     "text": [
      "/tf/empty_homes_london/helper_functions.py:272: SettingWithCopyWarning: \n",
      "A value is trying to be set on a copy of a slice from a DataFrame.\n",
      "Try using .loc[row_indexer,col_indexer] = value instead\n",
      "\n",
      "See the caveats in the documentation: https://pandas.pydata.org/pandas-docs/stable/user_guide/indexing.html#returning-a-view-versus-a-copy\n",
      "  temp_multi['number_filter'] = filter_types\n",
      "/tf/empty_homes_london/helper_functions.py:272: SettingWithCopyWarning: \n",
      "A value is trying to be set on a copy of a slice from a DataFrame.\n",
      "Try using .loc[row_indexer,col_indexer] = value instead\n",
      "\n",
      "See the caveats in the documentation: https://pandas.pydata.org/pandas-docs/stable/user_guide/indexing.html#returning-a-view-versus-a-copy\n",
      "  temp_multi['number_filter'] = filter_types\n"
     ]
    },
    {
     "name": "stdout",
     "output_type": "stream",
     "text": [
      "i= 0  expand time,0.0 filter time0.0 make_dataframe_time 0.001\n",
      "E07000036\n"
     ]
    },
    {
     "name": "stderr",
     "output_type": "stream",
     "text": [
      "/tf/empty_homes_london/helper_functions.py:272: SettingWithCopyWarning: \n",
      "A value is trying to be set on a copy of a slice from a DataFrame.\n",
      "Try using .loc[row_indexer,col_indexer] = value instead\n",
      "\n",
      "See the caveats in the documentation: https://pandas.pydata.org/pandas-docs/stable/user_guide/indexing.html#returning-a-view-versus-a-copy\n",
      "  temp_multi['number_filter'] = filter_types\n"
     ]
    },
    {
     "name": "stdout",
     "output_type": "stream",
     "text": [
      "i= 0  expand time,0.0 filter time0.0 make_dataframe_time 0.001\n",
      "E07000033\n",
      "i= 0  expand time,0.0 filter time0.0 make_dataframe_time 0.001\n",
      "E07000038\n"
     ]
    },
    {
     "name": "stderr",
     "output_type": "stream",
     "text": [
      "/tf/empty_homes_london/helper_functions.py:272: SettingWithCopyWarning: \n",
      "A value is trying to be set on a copy of a slice from a DataFrame.\n",
      "Try using .loc[row_indexer,col_indexer] = value instead\n",
      "\n",
      "See the caveats in the documentation: https://pandas.pydata.org/pandas-docs/stable/user_guide/indexing.html#returning-a-view-versus-a-copy\n",
      "  temp_multi['number_filter'] = filter_types\n",
      "/tf/empty_homes_london/helper_functions.py:272: SettingWithCopyWarning: \n",
      "A value is trying to be set on a copy of a slice from a DataFrame.\n",
      "Try using .loc[row_indexer,col_indexer] = value instead\n",
      "\n",
      "See the caveats in the documentation: https://pandas.pydata.org/pandas-docs/stable/user_guide/indexing.html#returning-a-view-versus-a-copy\n",
      "  temp_multi['number_filter'] = filter_types\n"
     ]
    },
    {
     "name": "stdout",
     "output_type": "stream",
     "text": [
      "i= 0  expand time,0.0 filter time0.0 make_dataframe_time 0.001\n",
      "E07000092\n",
      "i= 0  expand time,0.0 filter time0.0 make_dataframe_time 0.001\n"
     ]
    },
    {
     "name": "stderr",
     "output_type": "stream",
     "text": [
      "/tf/empty_homes_london/helper_functions.py:272: SettingWithCopyWarning: \n",
      "A value is trying to be set on a copy of a slice from a DataFrame.\n",
      "Try using .loc[row_indexer,col_indexer] = value instead\n",
      "\n",
      "See the caveats in the documentation: https://pandas.pydata.org/pandas-docs/stable/user_guide/indexing.html#returning-a-view-versus-a-copy\n",
      "  temp_multi['number_filter'] = filter_types\n"
     ]
    },
    {
     "name": "stdout",
     "output_type": "stream",
     "text": [
      "E07000085\n",
      "i= 0  expand time,0.0 filter time0.0 make_dataframe_time 0.001\n",
      "E07000082\n"
     ]
    },
    {
     "name": "stderr",
     "output_type": "stream",
     "text": [
      "/tf/empty_homes_london/helper_functions.py:272: SettingWithCopyWarning: \n",
      "A value is trying to be set on a copy of a slice from a DataFrame.\n",
      "Try using .loc[row_indexer,col_indexer] = value instead\n",
      "\n",
      "See the caveats in the documentation: https://pandas.pydata.org/pandas-docs/stable/user_guide/indexing.html#returning-a-view-versus-a-copy\n",
      "  temp_multi['number_filter'] = filter_types\n",
      "/tf/empty_homes_london/helper_functions.py:272: SettingWithCopyWarning: \n",
      "A value is trying to be set on a copy of a slice from a DataFrame.\n",
      "Try using .loc[row_indexer,col_indexer] = value instead\n",
      "\n",
      "See the caveats in the documentation: https://pandas.pydata.org/pandas-docs/stable/user_guide/indexing.html#returning-a-view-versus-a-copy\n",
      "  temp_multi['number_filter'] = filter_types\n"
     ]
    },
    {
     "name": "stdout",
     "output_type": "stream",
     "text": [
      "i= 0  expand time,0.0 filter time0.0 make_dataframe_time 0.001\n",
      "E07000080\n",
      "i= 0  expand time,0.0 filter time0.0 make_dataframe_time 0.001\n",
      "E07000088\n"
     ]
    },
    {
     "name": "stderr",
     "output_type": "stream",
     "text": [
      "/tf/empty_homes_london/helper_functions.py:272: SettingWithCopyWarning: \n",
      "A value is trying to be set on a copy of a slice from a DataFrame.\n",
      "Try using .loc[row_indexer,col_indexer] = value instead\n",
      "\n",
      "See the caveats in the documentation: https://pandas.pydata.org/pandas-docs/stable/user_guide/indexing.html#returning-a-view-versus-a-copy\n",
      "  temp_multi['number_filter'] = filter_types\n",
      "/tf/empty_homes_london/helper_functions.py:272: SettingWithCopyWarning: \n",
      "A value is trying to be set on a copy of a slice from a DataFrame.\n",
      "Try using .loc[row_indexer,col_indexer] = value instead\n",
      "\n",
      "See the caveats in the documentation: https://pandas.pydata.org/pandas-docs/stable/user_guide/indexing.html#returning-a-view-versus-a-copy\n",
      "  temp_multi['number_filter'] = filter_types\n"
     ]
    },
    {
     "name": "stdout",
     "output_type": "stream",
     "text": [
      "i= 0  expand time,0.0 filter time0.0 make_dataframe_time 0.001\n",
      "E07000149\n"
     ]
    },
    {
     "name": "stderr",
     "output_type": "stream",
     "text": [
      "/tf/empty_homes_london/helper_functions.py:272: SettingWithCopyWarning: \n",
      "A value is trying to be set on a copy of a slice from a DataFrame.\n",
      "Try using .loc[row_indexer,col_indexer] = value instead\n",
      "\n",
      "See the caveats in the documentation: https://pandas.pydata.org/pandas-docs/stable/user_guide/indexing.html#returning-a-view-versus-a-copy\n",
      "  temp_multi['number_filter'] = filter_types\n",
      "/tf/empty_homes_london/helper_functions.py:272: SettingWithCopyWarning: \n",
      "A value is trying to be set on a copy of a slice from a DataFrame.\n",
      "Try using .loc[row_indexer,col_indexer] = value instead\n",
      "\n",
      "See the caveats in the documentation: https://pandas.pydata.org/pandas-docs/stable/user_guide/indexing.html#returning-a-view-versus-a-copy\n",
      "  temp_multi['number_filter'] = filter_types\n"
     ]
    },
    {
     "name": "stdout",
     "output_type": "stream",
     "text": [
      "i= 0  expand time,0.0 filter time0.0 make_dataframe_time 0.001\n",
      "E07000075\n",
      "i= 0  expand time,0.0 filter time0.0 make_dataframe_time 0.001\n",
      "E06000013\n"
     ]
    },
    {
     "name": "stderr",
     "output_type": "stream",
     "text": [
      "/tf/empty_homes_london/helper_functions.py:272: SettingWithCopyWarning: \n",
      "A value is trying to be set on a copy of a slice from a DataFrame.\n",
      "Try using .loc[row_indexer,col_indexer] = value instead\n",
      "\n",
      "See the caveats in the documentation: https://pandas.pydata.org/pandas-docs/stable/user_guide/indexing.html#returning-a-view-versus-a-copy\n",
      "  temp_multi['number_filter'] = filter_types\n"
     ]
    },
    {
     "name": "stdout",
     "output_type": "stream",
     "text": [
      "i= 0  expand time,0.0 filter time0.0 make_dataframe_time 0.001\n",
      "E06000012\n"
     ]
    },
    {
     "name": "stderr",
     "output_type": "stream",
     "text": [
      "/tf/empty_homes_london/helper_functions.py:272: SettingWithCopyWarning: \n",
      "A value is trying to be set on a copy of a slice from a DataFrame.\n",
      "Try using .loc[row_indexer,col_indexer] = value instead\n",
      "\n",
      "See the caveats in the documentation: https://pandas.pydata.org/pandas-docs/stable/user_guide/indexing.html#returning-a-view-versus-a-copy\n",
      "  temp_multi['number_filter'] = filter_types\n"
     ]
    },
    {
     "name": "stdout",
     "output_type": "stream",
     "text": [
      "i= 0  expand time,0.0 filter time0.0 make_dataframe_time 0.001\n",
      "E06000010\n",
      "i= 0  expand time,0.0 filter time0.0 make_dataframe_time 0.001\n"
     ]
    },
    {
     "name": "stderr",
     "output_type": "stream",
     "text": [
      "/tf/empty_homes_london/helper_functions.py:272: SettingWithCopyWarning: \n",
      "A value is trying to be set on a copy of a slice from a DataFrame.\n",
      "Try using .loc[row_indexer,col_indexer] = value instead\n",
      "\n",
      "See the caveats in the documentation: https://pandas.pydata.org/pandas-docs/stable/user_guide/indexing.html#returning-a-view-versus-a-copy\n",
      "  temp_multi['number_filter'] = filter_types\n"
     ]
    },
    {
     "name": "stdout",
     "output_type": "stream",
     "text": [
      "E07000087\n",
      "i= 0  expand time,0.001 filter time0.001 make_dataframe_time 0.001\n"
     ]
    },
    {
     "name": "stderr",
     "output_type": "stream",
     "text": [
      "/tf/empty_homes_london/helper_functions.py:272: SettingWithCopyWarning: \n",
      "A value is trying to be set on a copy of a slice from a DataFrame.\n",
      "Try using .loc[row_indexer,col_indexer] = value instead\n",
      "\n",
      "See the caveats in the documentation: https://pandas.pydata.org/pandas-docs/stable/user_guide/indexing.html#returning-a-view-versus-a-copy\n",
      "  temp_multi['number_filter'] = filter_types\n"
     ]
    },
    {
     "name": "stdout",
     "output_type": "stream",
     "text": [
      "E07000044\n",
      "i= 0  expand time,0.0 filter time0.0 make_dataframe_time 0.001\n",
      "E07000129\n"
     ]
    },
    {
     "name": "stderr",
     "output_type": "stream",
     "text": [
      "/tf/empty_homes_london/helper_functions.py:272: SettingWithCopyWarning: \n",
      "A value is trying to be set on a copy of a slice from a DataFrame.\n",
      "Try using .loc[row_indexer,col_indexer] = value instead\n",
      "\n",
      "See the caveats in the documentation: https://pandas.pydata.org/pandas-docs/stable/user_guide/indexing.html#returning-a-view-versus-a-copy\n",
      "  temp_multi['number_filter'] = filter_types\n",
      "/tf/empty_homes_london/helper_functions.py:272: SettingWithCopyWarning: \n",
      "A value is trying to be set on a copy of a slice from a DataFrame.\n",
      "Try using .loc[row_indexer,col_indexer] = value instead\n",
      "\n",
      "See the caveats in the documentation: https://pandas.pydata.org/pandas-docs/stable/user_guide/indexing.html#returning-a-view-versus-a-copy\n",
      "  temp_multi['number_filter'] = filter_types\n"
     ]
    },
    {
     "name": "stdout",
     "output_type": "stream",
     "text": [
      "i= 0  expand time,0.0 filter time0.0 make_dataframe_time 0.001\n",
      "E07000110\n",
      "i= 0  expand time,0.0 filter time0.0 make_dataframe_time 0.001\n"
     ]
    },
    {
     "name": "stderr",
     "output_type": "stream",
     "text": [
      "/tf/empty_homes_london/helper_functions.py:272: SettingWithCopyWarning: \n",
      "A value is trying to be set on a copy of a slice from a DataFrame.\n",
      "Try using .loc[row_indexer,col_indexer] = value instead\n",
      "\n",
      "See the caveats in the documentation: https://pandas.pydata.org/pandas-docs/stable/user_guide/indexing.html#returning-a-view-versus-a-copy\n",
      "  temp_multi['number_filter'] = filter_types\n"
     ]
    },
    {
     "name": "stdout",
     "output_type": "stream",
     "text": [
      "E07000133\n",
      "i= 0  expand time,0.0 filter time0.0 make_dataframe_time 0.001\n",
      "E07000136\n"
     ]
    },
    {
     "name": "stderr",
     "output_type": "stream",
     "text": [
      "/tf/empty_homes_london/helper_functions.py:272: SettingWithCopyWarning: \n",
      "A value is trying to be set on a copy of a slice from a DataFrame.\n",
      "Try using .loc[row_indexer,col_indexer] = value instead\n",
      "\n",
      "See the caveats in the documentation: https://pandas.pydata.org/pandas-docs/stable/user_guide/indexing.html#returning-a-view-versus-a-copy\n",
      "  temp_multi['number_filter'] = filter_types\n",
      "/tf/empty_homes_london/helper_functions.py:272: SettingWithCopyWarning: \n",
      "A value is trying to be set on a copy of a slice from a DataFrame.\n",
      "Try using .loc[row_indexer,col_indexer] = value instead\n",
      "\n",
      "See the caveats in the documentation: https://pandas.pydata.org/pandas-docs/stable/user_guide/indexing.html#returning-a-view-versus-a-copy\n",
      "  temp_multi['number_filter'] = filter_types\n"
     ]
    },
    {
     "name": "stdout",
     "output_type": "stream",
     "text": [
      "i= 0  expand time,0.0 filter time0.0 make_dataframe_time 0.001\n",
      "E07000135\n",
      "i= 0  expand time,0.0 filter time0.0 make_dataframe_time 0.001\n",
      "E06000017\n"
     ]
    },
    {
     "name": "stderr",
     "output_type": "stream",
     "text": [
      "/tf/empty_homes_london/helper_functions.py:272: SettingWithCopyWarning: \n",
      "A value is trying to be set on a copy of a slice from a DataFrame.\n",
      "Try using .loc[row_indexer,col_indexer] = value instead\n",
      "\n",
      "See the caveats in the documentation: https://pandas.pydata.org/pandas-docs/stable/user_guide/indexing.html#returning-a-view-versus-a-copy\n",
      "  temp_multi['number_filter'] = filter_types\n",
      "/tf/empty_homes_london/helper_functions.py:272: SettingWithCopyWarning: \n",
      "A value is trying to be set on a copy of a slice from a DataFrame.\n",
      "Try using .loc[row_indexer,col_indexer] = value instead\n",
      "\n",
      "See the caveats in the documentation: https://pandas.pydata.org/pandas-docs/stable/user_guide/indexing.html#returning-a-view-versus-a-copy\n",
      "  temp_multi['number_filter'] = filter_types\n"
     ]
    },
    {
     "name": "stdout",
     "output_type": "stream",
     "text": [
      "i= 0  expand time,0.0 filter time0.0 make_dataframe_time 0.001\n",
      "E07000245\n",
      "i= 0  expand time,0.0 filter time0.0 make_dataframe_time 0.001\n"
     ]
    },
    {
     "name": "stderr",
     "output_type": "stream",
     "text": [
      "/tf/empty_homes_london/helper_functions.py:272: SettingWithCopyWarning: \n",
      "A value is trying to be set on a copy of a slice from a DataFrame.\n",
      "Try using .loc[row_indexer,col_indexer] = value instead\n",
      "\n",
      "See the caveats in the documentation: https://pandas.pydata.org/pandas-docs/stable/user_guide/indexing.html#returning-a-view-versus-a-copy\n",
      "  temp_multi['number_filter'] = filter_types\n"
     ]
    },
    {
     "name": "stdout",
     "output_type": "stream",
     "text": [
      "E07000176\n",
      "i= 0  expand time,0.0 filter time0.0 make_dataframe_time 0.001\n",
      "E07000181\n"
     ]
    },
    {
     "name": "stderr",
     "output_type": "stream",
     "text": [
      "/tf/empty_homes_london/helper_functions.py:272: SettingWithCopyWarning: \n",
      "A value is trying to be set on a copy of a slice from a DataFrame.\n",
      "Try using .loc[row_indexer,col_indexer] = value instead\n",
      "\n",
      "See the caveats in the documentation: https://pandas.pydata.org/pandas-docs/stable/user_guide/indexing.html#returning-a-view-versus-a-copy\n",
      "  temp_multi['number_filter'] = filter_types\n",
      "/tf/empty_homes_london/helper_functions.py:272: SettingWithCopyWarning: \n",
      "A value is trying to be set on a copy of a slice from a DataFrame.\n",
      "Try using .loc[row_indexer,col_indexer] = value instead\n",
      "\n",
      "See the caveats in the documentation: https://pandas.pydata.org/pandas-docs/stable/user_guide/indexing.html#returning-a-view-versus-a-copy\n",
      "  temp_multi['number_filter'] = filter_types\n"
     ]
    },
    {
     "name": "stdout",
     "output_type": "stream",
     "text": [
      "i= 0  expand time,0.0 filter time0.0 make_dataframe_time 0.001\n",
      "E07000167\n",
      "i= 0  expand time,0.0 filter time0.0 make_dataframe_time 0.002\n"
     ]
    },
    {
     "name": "stderr",
     "output_type": "stream",
     "text": [
      "/tf/empty_homes_london/helper_functions.py:272: SettingWithCopyWarning: \n",
      "A value is trying to be set on a copy of a slice from a DataFrame.\n",
      "Try using .loc[row_indexer,col_indexer] = value instead\n",
      "\n",
      "See the caveats in the documentation: https://pandas.pydata.org/pandas-docs/stable/user_guide/indexing.html#returning-a-view-versus-a-copy\n",
      "  temp_multi['number_filter'] = filter_types\n",
      "/tf/empty_homes_london/helper_functions.py:272: SettingWithCopyWarning: \n",
      "A value is trying to be set on a copy of a slice from a DataFrame.\n",
      "Try using .loc[row_indexer,col_indexer] = value instead\n",
      "\n",
      "See the caveats in the documentation: https://pandas.pydata.org/pandas-docs/stable/user_guide/indexing.html#returning-a-view-versus-a-copy\n",
      "  temp_multi['number_filter'] = filter_types\n"
     ]
    },
    {
     "name": "stdout",
     "output_type": "stream",
     "text": [
      "E07000196\n",
      "i= 0  expand time,0.001 filter time0.0 make_dataframe_time 0.002\n",
      "W06000004\n"
     ]
    },
    {
     "name": "stderr",
     "output_type": "stream",
     "text": [
      "/tf/empty_homes_london/helper_functions.py:272: SettingWithCopyWarning: \n",
      "A value is trying to be set on a copy of a slice from a DataFrame.\n",
      "Try using .loc[row_indexer,col_indexer] = value instead\n",
      "\n",
      "See the caveats in the documentation: https://pandas.pydata.org/pandas-docs/stable/user_guide/indexing.html#returning-a-view-versus-a-copy\n",
      "  temp_multi['number_filter'] = filter_types\n",
      "/tf/empty_homes_london/helper_functions.py:272: SettingWithCopyWarning: \n",
      "A value is trying to be set on a copy of a slice from a DataFrame.\n",
      "Try using .loc[row_indexer,col_indexer] = value instead\n",
      "\n",
      "See the caveats in the documentation: https://pandas.pydata.org/pandas-docs/stable/user_guide/indexing.html#returning-a-view-versus-a-copy\n",
      "  temp_multi['number_filter'] = filter_types\n"
     ]
    },
    {
     "name": "stdout",
     "output_type": "stream",
     "text": [
      "i= 0  expand time,0.0 filter time0.0 make_dataframe_time 0.001\n",
      "E07000217\n",
      "i= 0  expand time,0.001 filter time0.0 make_dataframe_time 0.002\n",
      "E07000068\n",
      "i= 0  expand time,0.0 filter time0.0 make_dataframe_time 0.001\n",
      "E07000215\n"
     ]
    },
    {
     "name": "stderr",
     "output_type": "stream",
     "text": [
      "/tf/empty_homes_london/helper_functions.py:272: SettingWithCopyWarning: \n",
      "A value is trying to be set on a copy of a slice from a DataFrame.\n",
      "Try using .loc[row_indexer,col_indexer] = value instead\n",
      "\n",
      "See the caveats in the documentation: https://pandas.pydata.org/pandas-docs/stable/user_guide/indexing.html#returning-a-view-versus-a-copy\n",
      "  temp_multi['number_filter'] = filter_types\n",
      "/tf/empty_homes_london/helper_functions.py:272: SettingWithCopyWarning: \n",
      "A value is trying to be set on a copy of a slice from a DataFrame.\n",
      "Try using .loc[row_indexer,col_indexer] = value instead\n",
      "\n",
      "See the caveats in the documentation: https://pandas.pydata.org/pandas-docs/stable/user_guide/indexing.html#returning-a-view-versus-a-copy\n",
      "  temp_multi['number_filter'] = filter_types\n"
     ]
    },
    {
     "name": "stdout",
     "output_type": "stream",
     "text": [
      "i= 0  expand time,0.0 filter time0.0 make_dataframe_time 0.001\n",
      "E07000062\n",
      "i= 0  expand time,0.0 filter time0.0 make_dataframe_time 0.001\n"
     ]
    },
    {
     "name": "stderr",
     "output_type": "stream",
     "text": [
      "/tf/empty_homes_london/helper_functions.py:272: SettingWithCopyWarning: \n",
      "A value is trying to be set on a copy of a slice from a DataFrame.\n",
      "Try using .loc[row_indexer,col_indexer] = value instead\n",
      "\n",
      "See the caveats in the documentation: https://pandas.pydata.org/pandas-docs/stable/user_guide/indexing.html#returning-a-view-versus-a-copy\n",
      "  temp_multi['number_filter'] = filter_types\n"
     ]
    },
    {
     "name": "stdout",
     "output_type": "stream",
     "text": [
      "E07000043\n",
      "i= 0  expand time,0.0 filter time0.0 make_dataframe_time 0.001\n"
     ]
    },
    {
     "name": "stderr",
     "output_type": "stream",
     "text": [
      "/tf/empty_homes_london/helper_functions.py:272: SettingWithCopyWarning: \n",
      "A value is trying to be set on a copy of a slice from a DataFrame.\n",
      "Try using .loc[row_indexer,col_indexer] = value instead\n",
      "\n",
      "See the caveats in the documentation: https://pandas.pydata.org/pandas-docs/stable/user_guide/indexing.html#returning-a-view-versus-a-copy\n",
      "  temp_multi['number_filter'] = filter_types\n"
     ]
    },
    {
     "name": "stdout",
     "output_type": "stream",
     "text": [
      "E07000047\n",
      "i= 0  expand time,0.0 filter time0.0 make_dataframe_time 0.001\n",
      "E07000035\n"
     ]
    },
    {
     "name": "stderr",
     "output_type": "stream",
     "text": [
      "/tf/empty_homes_london/helper_functions.py:272: SettingWithCopyWarning: \n",
      "A value is trying to be set on a copy of a slice from a DataFrame.\n",
      "Try using .loc[row_indexer,col_indexer] = value instead\n",
      "\n",
      "See the caveats in the documentation: https://pandas.pydata.org/pandas-docs/stable/user_guide/indexing.html#returning-a-view-versus-a-copy\n",
      "  temp_multi['number_filter'] = filter_types\n",
      "/tf/empty_homes_london/helper_functions.py:272: SettingWithCopyWarning: \n",
      "A value is trying to be set on a copy of a slice from a DataFrame.\n",
      "Try using .loc[row_indexer,col_indexer] = value instead\n",
      "\n",
      "See the caveats in the documentation: https://pandas.pydata.org/pandas-docs/stable/user_guide/indexing.html#returning-a-view-versus-a-copy\n",
      "  temp_multi['number_filter'] = filter_types\n"
     ]
    },
    {
     "name": "stdout",
     "output_type": "stream",
     "text": [
      "i= 0  expand time,0.0 filter time0.0 make_dataframe_time 0.001\n",
      "E07000195\n",
      "i= 0  expand time,0.0 filter time0.0 make_dataframe_time 0.001\n"
     ]
    },
    {
     "name": "stderr",
     "output_type": "stream",
     "text": [
      "/tf/empty_homes_london/helper_functions.py:272: SettingWithCopyWarning: \n",
      "A value is trying to be set on a copy of a slice from a DataFrame.\n",
      "Try using .loc[row_indexer,col_indexer] = value instead\n",
      "\n",
      "See the caveats in the documentation: https://pandas.pydata.org/pandas-docs/stable/user_guide/indexing.html#returning-a-view-versus-a-copy\n",
      "  temp_multi['number_filter'] = filter_types\n"
     ]
    },
    {
     "name": "stdout",
     "output_type": "stream",
     "text": [
      "E07000166\n",
      "E06000061\n"
     ]
    },
    {
     "name": "stderr",
     "output_type": "stream",
     "text": [
      "/tf/empty_homes_london/helper_functions.py:272: SettingWithCopyWarning: \n",
      "A value is trying to be set on a copy of a slice from a DataFrame.\n",
      "Try using .loc[row_indexer,col_indexer] = value instead\n",
      "\n",
      "See the caveats in the documentation: https://pandas.pydata.org/pandas-docs/stable/user_guide/indexing.html#returning-a-view-versus-a-copy\n",
      "  temp_multi['number_filter'] = filter_types\n",
      "/tf/empty_homes_london/helper_functions.py:272: SettingWithCopyWarning: \n",
      "A value is trying to be set on a copy of a slice from a DataFrame.\n",
      "Try using .loc[row_indexer,col_indexer] = value instead\n",
      "\n",
      "See the caveats in the documentation: https://pandas.pydata.org/pandas-docs/stable/user_guide/indexing.html#returning-a-view-versus-a-copy\n",
      "  temp_multi['number_filter'] = filter_types\n"
     ]
    },
    {
     "name": "stdout",
     "output_type": "stream",
     "text": [
      "i= 0  expand time,0.0 filter time0.0 make_dataframe_time 0.001\n",
      "E07000112\n",
      "i= 0  expand time,0.0 filter time0.0 make_dataframe_time 0.001\n",
      "E06000062\n",
      "i= 0  expand time,0.0 filter time0.0 make_dataframe_time 0.001\n",
      "E06000053\n"
     ]
    },
    {
     "name": "stderr",
     "output_type": "stream",
     "text": [
      "/tf/empty_homes_london/helper_functions.py:272: SettingWithCopyWarning: \n",
      "A value is trying to be set on a copy of a slice from a DataFrame.\n",
      "Try using .loc[row_indexer,col_indexer] = value instead\n",
      "\n",
      "See the caveats in the documentation: https://pandas.pydata.org/pandas-docs/stable/user_guide/indexing.html#returning-a-view-versus-a-copy\n",
      "  temp_multi['number_filter'] = filter_types\n"
     ]
    }
   ],
   "source": [
    "all_lads = ocod_data.lad11cd.unique()\n",
    "\n",
    "matched_lads_list = []\n",
    "\n",
    "all_lads = [x for x in all_lads if str(x) != 'nan']\n",
    "#see which roads match a road in voa data set for each local authority\n",
    "for target_lad in all_lads:\n",
    "    print(target_lad)\n",
    "    #temp['matches_business_address'] = business_address_matcher(temp['street_name'], temp['street_number'], voa_businesses, target_lad)\n",
    "    matched_lads_list = matched_lads_list + [massaged_address_match(ocod_data, voa_businesses, target_lad)]\n",
    "\n",
    "    #matched_lads_list = [massaged_address_match(ocod_data, voa_businesses, target_lad) for target_lad in all_lads]\n"
   ]
  },
  {
   "cell_type": "code",
   "execution_count": 25,
   "id": "42806c12",
   "metadata": {},
   "outputs": [],
   "source": [
    "\n",
    "#each line is a matched business\n",
    "ocod_data = pd.concat(matched_lads_list)\n",
    "#matched_businesses.to_csv('/tf/empty_homes_data/delete_me.csv')"
   ]
  },
  {
   "cell_type": "code",
   "execution_count": 26,
   "id": "3ef0106d",
   "metadata": {},
   "outputs": [
    {
     "data": {
      "text/plain": [
       "Index(['Unnamed: 0', 'title_number', 'within_title_id', 'unique_id',\n",
       "       'within_larger_title', 'tenure', 'unit_id', 'unit_type',\n",
       "       'building_name', 'street_number', 'street_name', 'postcode', 'city',\n",
       "       'district', 'county', 'region', 'multiple_address_indicator',\n",
       "       'price_paid', 'property_address', 'postcode2', 'oa11cd', 'lsoa11cd',\n",
       "       'msoa11cd', 'street_number2', 'street_name2', 'lad11cd',\n",
       "       'business_counts', 'lsoa_street', 'lsoa_building', 'oa_building',\n",
       "       'oa_busi_building', 'lsoa_busi_building', 'lsoa_nested', 'oa_nested',\n",
       "       'lsoa_nested2', 'street_match', 'address_match', 'business_address'],\n",
       "      dtype='object')"
      ]
     },
     "execution_count": 26,
     "metadata": {},
     "output_type": "execute_result"
    }
   ],
   "source": [
    "ocod_data.columns"
   ]
  },
  {
   "cell_type": "markdown",
   "id": "efd17f75",
   "metadata": {},
   "source": [
    "# Classify property type"
   ]
  },
  {
   "cell_type": "code",
   "execution_count": 27,
   "id": "e4143c2e",
   "metadata": {},
   "outputs": [
    {
     "name": "stderr",
     "output_type": "stream",
     "text": [
      "<ipython-input-27-48dd02b70d90>:3: UserWarning: This pattern is interpreted as a regular expression, and has match groups. To actually get the groups, use str.extract.\n",
      "  ocod_data['property_address'].str.contains(r\"^(land|plot)\", case = False),\n",
      "<ipython-input-27-48dd02b70d90>:4: UserWarning: This pattern is interpreted as a regular expression, and has match groups. To actually get the groups, use str.extract.\n",
      "  ocod_data['property_address'].str.contains(r\"^((garage)|(parking(\\s)?space)|(parking space)|(car park(ing)?(\\sspace)))\", case = False),\n",
      "<ipython-input-27-48dd02b70d90>:5: UserWarning: This pattern is interpreted as a regular expression, and has match groups. To actually get the groups, use str.extract.\n",
      "  ocod_data['property_address'].str.contains(r\"^((the airspace)|(airspace))\", case = False),\n",
      "<ipython-input-27-48dd02b70d90>:6: UserWarning: This pattern is interpreted as a regular expression, and has match groups. To actually get the groups, use str.extract.\n",
      "  ocod_data['property_address'].str.contains(r\"(penthouse|flat|apartment)\", case = False),\n",
      "<ipython-input-27-48dd02b70d90>:8: UserWarning: This pattern is interpreted as a regular expression, and has match groups. To actually get the groups, use str.extract.\n",
      "  ocod_data['property_address'].str.contains(r\"(cinema)|(hotel)|(office)|centre|(\\bpub)|(business)|(cafe)|(^shop)|( shop)|(restaurant)|(home)|(^store(s)?\\b)|(^storage\\\\b)|(company)|(ltd)|(limited)|(plc)|(retail)|(leisure)|(industrial)|(hall of)|trading|commercial\", case = False),\n"
     ]
    }
   ],
   "source": [
    "ocod_data['class'] = np.select(\n",
    "    [\n",
    "        ocod_data['property_address'].str.contains(r\"^(land|plot)\", case = False),\n",
    "        ocod_data['property_address'].str.contains(r\"^((garage)|(parking(\\s)?space)|(parking space)|(car park(ing)?(\\sspace)))\", case = False),\n",
    "        ocod_data['property_address'].str.contains(r\"^((the airspace)|(airspace))\", case = False),\n",
    "        ocod_data['property_address'].str.contains(r\"(penthouse|flat|apartment)\", case = False),\n",
    "        ocod_data['address_match']==True,\n",
    "        ocod_data['property_address'].str.contains(r\"(cinema)|(hotel)|(office)|centre|(\\bpub)|(business)|(cafe)|(^shop)|( shop)|(restaurant)|(home)|(^store(s)?\\b)|(^storage\\\\b)|(company)|(ltd)|(limited)|(plc)|(retail)|(leisure)|(industrial)|(hall of)|trading|commercial|works\", case = False), \n",
    "        ocod_data['oa_busi_building'].isna()==False\n",
    "    ], \n",
    "    [\n",
    "        'land',\n",
    "        'carpark',\n",
    "        'airspace',\n",
    "        'domestic',\n",
    "        'business',\n",
    "        'business',\n",
    "        'business'\n",
    "    ], \n",
    "    default='unknown'\n",
    ")"
   ]
  },
  {
   "cell_type": "code",
   "execution_count": 28,
   "id": "40acfb0b",
   "metadata": {},
   "outputs": [
    {
     "name": "stdout",
     "output_type": "stream",
     "text": [
      "Empty DataFrame\n",
      "Columns: [title_number, counts]\n",
      "Index: []\n"
     ]
    },
    {
     "data": {
      "text/plain": [
       "class\n",
       "business    12262\n",
       "domestic    29724\n",
       "unknown     19770\n",
       "dtype: int64"
      ]
     },
     "execution_count": 28,
     "metadata": {},
     "output_type": "execute_result"
    }
   ],
   "source": [
    "multi_class_titles = ocod_data[~ocod_data['class'].isin(['unknown', 'airspace', 'carpark']) & (ocod_data['within_larger_title']==True)].groupby(['title_number', 'class']).\\\n",
    "size().reset_index().groupby('title_number').size().reset_index().rename(columns={0:'counts'})\n",
    "\n",
    "#there are no within title-ids that have more than one class. This shows that this is a very accurate way of filling in missing class data\n",
    "print(multi_class_titles[multi_class_titles['counts']>1])\n",
    "\n",
    "multi_class_titles = multi_class_titles[multi_class_titles['counts']==1]\n",
    "#multi_class_titles.groupby('counts').size()\n",
    "\n",
    "ocod_data[ocod_data['title_number'].isin(multi_class_titles['title_number'])].groupby('class').size()\n",
    "#[['street_number', 'street_name','property_address', \"business_address\"]]"
   ]
  },
  {
   "cell_type": "code",
   "execution_count": 29,
   "id": "b13e5ab9",
   "metadata": {},
   "outputs": [
    {
     "name": "stderr",
     "output_type": "stream",
     "text": [
      "<ipython-input-29-e2889b13a25b>:8: SettingWithCopyWarning: \n",
      "A value is trying to be set on a copy of a slice from a DataFrame\n",
      "\n",
      "See the caveats in the documentation: https://pandas.pydata.org/pandas-docs/stable/user_guide/indexing.html#returning-a-view-versus-a-copy\n",
      "  temp.drop('class', axis = 1, inplace = True)\n"
     ]
    }
   ],
   "source": [
    "#Fills out unknown class values using the known class values from the same \n",
    "\n",
    "temp_fill = ocod_data[~ocod_data['class'].isin(['unknown', 'airspace', 'carpark']) & (ocod_data['within_larger_title']==True)].groupby(['title_number', 'class']).\\\n",
    "size().reset_index()[['title_number', 'class']].drop_duplicates()\n",
    "\n",
    "temp = ocod_data[ocod_data['title_number'].isin(temp_fill['title_number']) & (ocod_data['class']=='unknown') & (ocod_data['within_larger_title']==True)]\n",
    "\n",
    "temp.drop('class', axis = 1, inplace = True)\n",
    "\n",
    "temp = temp.merge(temp_fill, how = \"left\", on = \"title_number\")\n",
    "\n",
    "ocod_data = pd.concat([temp, ocod_data[~ocod_data['unique_id'].isin(temp['unique_id'])]])\n"
   ]
  },
  {
   "cell_type": "code",
   "execution_count": 30,
   "id": "42981cf5",
   "metadata": {},
   "outputs": [],
   "source": [
    "#pd.crosstab(test['class'], ocod_data['oa_busi_building'].isna()==False)"
   ]
  },
  {
   "cell_type": "code",
   "execution_count": 31,
   "id": "166f872c",
   "metadata": {},
   "outputs": [
    {
     "data": {
      "text/plain": [
       "Index(['Unnamed: 0', 'title_number', 'within_title_id', 'unique_id',\n",
       "       'within_larger_title', 'tenure', 'unit_id', 'unit_type',\n",
       "       'building_name', 'street_number', 'street_name', 'postcode', 'city',\n",
       "       'district', 'county', 'region', 'multiple_address_indicator',\n",
       "       'price_paid', 'property_address', 'postcode2', 'oa11cd', 'lsoa11cd',\n",
       "       'msoa11cd', 'street_number2', 'street_name2', 'lad11cd',\n",
       "       'business_counts', 'lsoa_street', 'lsoa_building', 'oa_building',\n",
       "       'oa_busi_building', 'lsoa_busi_building', 'lsoa_nested', 'oa_nested',\n",
       "       'lsoa_nested2', 'street_match', 'address_match', 'business_address',\n",
       "       'class'],\n",
       "      dtype='object')"
      ]
     },
     "execution_count": 31,
     "metadata": {},
     "output_type": "execute_result"
    }
   ],
   "source": [
    "ocod_data.columns"
   ]
  },
  {
   "cell_type": "code",
   "execution_count": 32,
   "id": "7bcc4b18",
   "metadata": {},
   "outputs": [
    {
     "data": {
      "text/html": [
       "<div>\n",
       "<style scoped>\n",
       "    .dataframe tbody tr th:only-of-type {\n",
       "        vertical-align: middle;\n",
       "    }\n",
       "\n",
       "    .dataframe tbody tr th {\n",
       "        vertical-align: top;\n",
       "    }\n",
       "\n",
       "    .dataframe thead th {\n",
       "        text-align: right;\n",
       "    }\n",
       "</style>\n",
       "<table border=\"1\" class=\"dataframe\">\n",
       "  <thead>\n",
       "    <tr style=\"text-align: right;\">\n",
       "      <th>col_0</th>\n",
       "      <th>False</th>\n",
       "      <th>True</th>\n",
       "    </tr>\n",
       "    <tr>\n",
       "      <th>street_match</th>\n",
       "      <th></th>\n",
       "      <th></th>\n",
       "    </tr>\n",
       "  </thead>\n",
       "  <tbody>\n",
       "    <tr>\n",
       "      <th>False</th>\n",
       "      <td>10811</td>\n",
       "      <td>31518</td>\n",
       "    </tr>\n",
       "    <tr>\n",
       "      <th>True</th>\n",
       "      <td>11913</td>\n",
       "      <td>26859</td>\n",
       "    </tr>\n",
       "  </tbody>\n",
       "</table>\n",
       "</div>"
      ],
      "text/plain": [
       "col_0         False   True\n",
       "street_match              \n",
       "False         10811  31518\n",
       "True          11913  26859"
      ]
     },
     "execution_count": 32,
     "metadata": {},
     "output_type": "execute_result"
    }
   ],
   "source": [
    "#if there is a street match, and the property has a street and a street number OR a building name\n",
    "#Then is is a domestic property\n",
    "\n",
    "test = ocod_data[ocod_data['class']=='unknown']\n",
    "pd.crosstab((test['street_match']==True), (test['street_name'].notnull()==True) & (test['street_number'].notnull()==True) )"
   ]
  },
  {
   "cell_type": "code",
   "execution_count": 33,
   "id": "5839226a",
   "metadata": {},
   "outputs": [
    {
     "data": {
      "text/html": [
       "<div>\n",
       "<style scoped>\n",
       "    .dataframe tbody tr th:only-of-type {\n",
       "        vertical-align: middle;\n",
       "    }\n",
       "\n",
       "    .dataframe tbody tr th {\n",
       "        vertical-align: top;\n",
       "    }\n",
       "\n",
       "    .dataframe thead th {\n",
       "        text-align: right;\n",
       "    }\n",
       "</style>\n",
       "<table border=\"1\" class=\"dataframe\">\n",
       "  <thead>\n",
       "    <tr style=\"text-align: right;\">\n",
       "      <th>street_name</th>\n",
       "      <th>False</th>\n",
       "      <th>True</th>\n",
       "    </tr>\n",
       "    <tr>\n",
       "      <th>street_match</th>\n",
       "      <th></th>\n",
       "      <th></th>\n",
       "    </tr>\n",
       "  </thead>\n",
       "  <tbody>\n",
       "    <tr>\n",
       "      <th>False</th>\n",
       "      <td>6117</td>\n",
       "      <td>36212</td>\n",
       "    </tr>\n",
       "    <tr>\n",
       "      <th>True</th>\n",
       "      <td>0</td>\n",
       "      <td>38772</td>\n",
       "    </tr>\n",
       "  </tbody>\n",
       "</table>\n",
       "</div>"
      ],
      "text/plain": [
       "street_name   False   True\n",
       "street_match              \n",
       "False          6117  36212\n",
       "True              0  38772"
      ]
     },
     "execution_count": 33,
     "metadata": {},
     "output_type": "execute_result"
    }
   ],
   "source": [
    "#If street match is false but there is a street name\n",
    "#The it is a domestic property\n",
    "pd.crosstab((test['street_match']==True), (test['street_name'].notnull()==True))"
   ]
  },
  {
   "cell_type": "code",
   "execution_count": 34,
   "id": "8d070194",
   "metadata": {},
   "outputs": [
    {
     "data": {
      "text/html": [
       "<div>\n",
       "<style scoped>\n",
       "    .dataframe tbody tr th:only-of-type {\n",
       "        vertical-align: middle;\n",
       "    }\n",
       "\n",
       "    .dataframe tbody tr th {\n",
       "        vertical-align: top;\n",
       "    }\n",
       "\n",
       "    .dataframe thead th {\n",
       "        text-align: right;\n",
       "    }\n",
       "</style>\n",
       "<table border=\"1\" class=\"dataframe\">\n",
       "  <thead>\n",
       "    <tr style=\"text-align: right;\">\n",
       "      <th>building_name</th>\n",
       "      <th>False</th>\n",
       "      <th>True</th>\n",
       "    </tr>\n",
       "    <tr>\n",
       "      <th>street_match</th>\n",
       "      <th></th>\n",
       "      <th></th>\n",
       "    </tr>\n",
       "  </thead>\n",
       "  <tbody>\n",
       "    <tr>\n",
       "      <th>False</th>\n",
       "      <td>36142</td>\n",
       "      <td>6187</td>\n",
       "    </tr>\n",
       "    <tr>\n",
       "      <th>True</th>\n",
       "      <td>31550</td>\n",
       "      <td>7222</td>\n",
       "    </tr>\n",
       "  </tbody>\n",
       "</table>\n",
       "</div>"
      ],
      "text/plain": [
       "building_name  False  True\n",
       "street_match              \n",
       "False          36142  6187\n",
       "True           31550  7222"
      ]
     },
     "execution_count": 34,
     "metadata": {},
     "output_type": "execute_result"
    }
   ],
   "source": [
    "pd.crosstab((test['street_match']==True), (test['building_name'].notnull()==True))"
   ]
  },
  {
   "cell_type": "code",
   "execution_count": 35,
   "id": "bbd2e931",
   "metadata": {},
   "outputs": [
    {
     "name": "stderr",
     "output_type": "stream",
     "text": [
      "<ipython-input-35-bb210c6eae9b>:24: SettingWithCopyWarning: \n",
      "A value is trying to be set on a copy of a slice from a DataFrame\n",
      "\n",
      "See the caveats in the documentation: https://pandas.pydata.org/pandas-docs/stable/user_guide/indexing.html#returning-a-view-versus-a-copy\n",
      "  temp.drop('class2', axis = 1, inplace = True)\n"
     ]
    }
   ],
   "source": [
    "ocod_data['class2'] = np.select(\n",
    "    [\n",
    "        (ocod_data['class']=='unknown') & (ocod_data['street_match']==True) & (ocod_data['street_name'].notnull()==True) & (ocod_data['street_number'].notnull()==True),\n",
    "        (ocod_data['class']=='unknown') & (ocod_data['street_match']==False) & (ocod_data['street_name'].notnull()==True),\n",
    "        (ocod_data['class']=='unknown') & (ocod_data['building_name'].notnull()==True)\n",
    "        \n",
    "    ], \n",
    "    [\n",
    "        'domestic',\n",
    "        'domestic',\n",
    "        'domestic'\n",
    "    ], \n",
    "    default= ocod_data['class']\n",
    ")\n",
    "\n",
    "\n",
    "#fillout larger titles that are now partially tagged\n",
    "\n",
    "temp_fill = ocod_data[~ocod_data['class2'].isin(['unknown', 'airspace', 'carpark']) & (ocod_data['within_larger_title']==True)].groupby(['title_number', 'class2']).\\\n",
    "size().reset_index()[['title_number', 'class2']].drop_duplicates()\n",
    "\n",
    "temp = ocod_data[ocod_data['title_number'].isin(temp_fill['title_number']) & (ocod_data['class2']=='unknown') & (ocod_data['within_larger_title']==True)]\n",
    "\n",
    "temp.drop('class2', axis = 1, inplace = True)\n",
    "\n",
    "temp = temp.merge(temp_fill, how = \"left\", on = \"title_number\")\n",
    "\n",
    "ocod_data = pd.concat([temp, ocod_data[~ocod_data['unique_id'].isin(temp['unique_id'])]])\n"
   ]
  },
  {
   "cell_type": "code",
   "execution_count": 36,
   "id": "c97e8ba2",
   "metadata": {},
   "outputs": [
    {
     "name": "stdout",
     "output_type": "stream",
     "text": [
      "street_name   False  True\n",
      "street_match             \n",
      "False          2550     0\n",
      "True              0  6036\n"
     ]
    }
   ],
   "source": [
    "#if there is a street match, and the property has a street and a street number OR a building name\n",
    "#Then is is a domestic property\n",
    "\n",
    "test = ocod_data[ocod_data['class2']=='unknown']\n",
    "print(pd.crosstab((test['street_match']==True), (test['street_name'].notnull()==True) ))\n",
    "\n",
    "ocod_data[(ocod_data['street_name'].isnull()==True) & (ocod_data['class2']=='unknown')].to_csv('/tf/empty_homes_data/delete_me.csv')"
   ]
  },
  {
   "cell_type": "code",
   "execution_count": 37,
   "id": "042b7ec5",
   "metadata": {},
   "outputs": [
    {
     "data": {
      "text/plain": [
       "class2\n",
       "airspace      1671\n",
       "business     45535\n",
       "carpark       2217\n",
       "domestic    120653\n",
       "land         16268\n",
       "unknown       8586\n",
       "dtype: int64"
      ]
     },
     "execution_count": 37,
     "metadata": {},
     "output_type": "execute_result"
    }
   ],
   "source": [
    "ocod_data.groupby('class2').size()"
   ]
  },
  {
   "cell_type": "markdown",
   "id": "511e1cf0",
   "metadata": {},
   "source": [
    "## Removing copies of businesses\n",
    "\n",
    "Businesses are classed as a single address independent of how many components they a made of.\n",
    "This chunk strips down businesses that have been expanded back to a single address\n"
   ]
  },
  {
   "cell_type": "code",
   "execution_count": 38,
   "id": "1cb810bc",
   "metadata": {},
   "outputs": [],
   "source": [
    "\n",
    "\n",
    "temp = ocod_data[ocod_data['class']=='business']\n",
    "\n",
    "ocod_data = pd.concat([ocod_data[~(ocod_data['class']=='business')], temp.groupby('title_number').first()]).sort_values(by = \"unique_id\")\n"
   ]
  },
  {
   "cell_type": "code",
   "execution_count": 39,
   "id": "d5581c76",
   "metadata": {},
   "outputs": [
    {
     "data": {
      "text/html": [
       "<div>\n",
       "<style scoped>\n",
       "    .dataframe tbody tr th:only-of-type {\n",
       "        vertical-align: middle;\n",
       "    }\n",
       "\n",
       "    .dataframe tbody tr th {\n",
       "        vertical-align: top;\n",
       "    }\n",
       "\n",
       "    .dataframe thead th {\n",
       "        text-align: right;\n",
       "    }\n",
       "</style>\n",
       "<table border=\"1\" class=\"dataframe\">\n",
       "  <thead>\n",
       "    <tr style=\"text-align: right;\">\n",
       "      <th></th>\n",
       "      <th>title_number</th>\n",
       "      <th>building_name</th>\n",
       "      <th>street_number</th>\n",
       "      <th>street_name</th>\n",
       "      <th>property_address</th>\n",
       "      <th>price_paid</th>\n",
       "    </tr>\n",
       "  </thead>\n",
       "  <tbody>\n",
       "    <tr>\n",
       "      <th>8235</th>\n",
       "      <td>LN100920</td>\n",
       "      <td>NaN</td>\n",
       "      <td>9</td>\n",
       "      <td>holland park</td>\n",
       "      <td>9 Holland Park, London (W11 3TH)</td>\n",
       "      <td>53489500.0</td>\n",
       "    </tr>\n",
       "    <tr>\n",
       "      <th>4484</th>\n",
       "      <td>LN104249</td>\n",
       "      <td>the old court house</td>\n",
       "      <td>1a</td>\n",
       "      <td>walton street</td>\n",
       "      <td>The Old Court House, 1a Walton Street, London ...</td>\n",
       "      <td>50000000.0</td>\n",
       "    </tr>\n",
       "    <tr>\n",
       "      <th>5415</th>\n",
       "      <td>BGL31201</td>\n",
       "      <td>NaN</td>\n",
       "      <td>5</td>\n",
       "      <td>upper phillimore gardens</td>\n",
       "      <td>5 Upper Phillimore Gardens, London (W8 7HF)</td>\n",
       "      <td>46131500.0</td>\n",
       "    </tr>\n",
       "    <tr>\n",
       "      <th>7222</th>\n",
       "      <td>124963</td>\n",
       "      <td>NaN</td>\n",
       "      <td>6</td>\n",
       "      <td>pembridge place</td>\n",
       "      <td>6 Pembridge Place, London (W2 4XB)</td>\n",
       "      <td>45994000.0</td>\n",
       "    </tr>\n",
       "    <tr>\n",
       "      <th>4903</th>\n",
       "      <td>LN78344</td>\n",
       "      <td>NaN</td>\n",
       "      <td>18</td>\n",
       "      <td>lexham gardens</td>\n",
       "      <td>18 Lexham Gardens, London (W8 5JE)</td>\n",
       "      <td>45900000.0</td>\n",
       "    </tr>\n",
       "    <tr>\n",
       "      <th>...</th>\n",
       "      <td>...</td>\n",
       "      <td>...</td>\n",
       "      <td>...</td>\n",
       "      <td>...</td>\n",
       "      <td>...</td>\n",
       "      <td>...</td>\n",
       "    </tr>\n",
       "    <tr>\n",
       "      <th>4482</th>\n",
       "      <td>NGL86745</td>\n",
       "      <td>NaN</td>\n",
       "      <td>4</td>\n",
       "      <td>colbeck mews</td>\n",
       "      <td>4 Colbeck Mews, London (SW7 4LX)</td>\n",
       "      <td>NaN</td>\n",
       "    </tr>\n",
       "    <tr>\n",
       "      <th>7864</th>\n",
       "      <td>NGL8865</td>\n",
       "      <td>NaN</td>\n",
       "      <td>5</td>\n",
       "      <td>queen's elm square</td>\n",
       "      <td>5 Queen's Elm Square, London (SW3 6ED)</td>\n",
       "      <td>NaN</td>\n",
       "    </tr>\n",
       "    <tr>\n",
       "      <th>4483</th>\n",
       "      <td>NGL92079</td>\n",
       "      <td>west eaton house</td>\n",
       "      <td>6</td>\n",
       "      <td>west eaton place</td>\n",
       "      <td>6 West Eaton House, 13 to 17 West Eaton Place,...</td>\n",
       "      <td>NaN</td>\n",
       "    </tr>\n",
       "    <tr>\n",
       "      <th>7746</th>\n",
       "      <td>NGL93766</td>\n",
       "      <td>arden house</td>\n",
       "      <td>7</td>\n",
       "      <td>earls court road</td>\n",
       "      <td>7 Arden House, 107 Earls Court Road, London (W...</td>\n",
       "      <td>NaN</td>\n",
       "    </tr>\n",
       "    <tr>\n",
       "      <th>7532</th>\n",
       "      <td>NGL99142</td>\n",
       "      <td>NaN</td>\n",
       "      <td>25</td>\n",
       "      <td>queens gate mews</td>\n",
       "      <td>25 Queens Gate Mews, London (SW7 5QL)</td>\n",
       "      <td>NaN</td>\n",
       "    </tr>\n",
       "  </tbody>\n",
       "</table>\n",
       "<p>1987 rows × 6 columns</p>\n",
       "</div>"
      ],
      "text/plain": [
       "     title_number        building_name street_number  \\\n",
       "8235     LN100920                  NaN             9   \n",
       "4484     LN104249  the old court house            1a   \n",
       "5415     BGL31201                  NaN             5   \n",
       "7222       124963                  NaN             6   \n",
       "4903      LN78344                  NaN            18   \n",
       "...           ...                  ...           ...   \n",
       "4482     NGL86745                  NaN             4   \n",
       "7864      NGL8865                  NaN             5   \n",
       "4483     NGL92079     west eaton house             6   \n",
       "7746     NGL93766          arden house             7   \n",
       "7532     NGL99142                  NaN            25   \n",
       "\n",
       "                   street_name  \\\n",
       "8235              holland park   \n",
       "4484             walton street   \n",
       "5415  upper phillimore gardens   \n",
       "7222           pembridge place   \n",
       "4903            lexham gardens   \n",
       "...                        ...   \n",
       "4482              colbeck mews   \n",
       "7864        queen's elm square   \n",
       "4483          west eaton place   \n",
       "7746          earls court road   \n",
       "7532          queens gate mews   \n",
       "\n",
       "                                       property_address  price_paid  \n",
       "8235                   9 Holland Park, London (W11 3TH)  53489500.0  \n",
       "4484  The Old Court House, 1a Walton Street, London ...  50000000.0  \n",
       "5415        5 Upper Phillimore Gardens, London (W8 7HF)  46131500.0  \n",
       "7222                 6 Pembridge Place, London (W2 4XB)  45994000.0  \n",
       "4903                 18 Lexham Gardens, London (W8 5JE)  45900000.0  \n",
       "...                                                 ...         ...  \n",
       "4482                   4 Colbeck Mews, London (SW7 4LX)         NaN  \n",
       "7864             5 Queen's Elm Square, London (SW3 6ED)         NaN  \n",
       "4483  6 West Eaton House, 13 to 17 West Eaton Place,...         NaN  \n",
       "7746  7 Arden House, 107 Earls Court Road, London (W...         NaN  \n",
       "7532              25 Queens Gate Mews, London (SW7 5QL)         NaN  \n",
       "\n",
       "[1987 rows x 6 columns]"
      ]
     },
     "execution_count": 39,
     "metadata": {},
     "output_type": "execute_result"
    }
   ],
   "source": [
    "ocod_data.loc[(ocod_data['lad11cd']=='E09000020') & \n",
    "          (ocod_data['class2']==\"domestic\") & \n",
    "          (ocod_data['within_larger_title']==False) &\n",
    "         (ocod_data['unit_type']!=\"flat\"), \n",
    "             ['title_number', 'building_name', 'street_number', 'street_name', 'property_address', 'price_paid']].sort_values('price_paid', ascending = False)#.to_csv('/tf/empty_homes_data/ken_chel_offshore_homes.csv')"
   ]
  },
  {
   "cell_type": "code",
   "execution_count": 40,
   "id": "b112ef88",
   "metadata": {},
   "outputs": [
    {
     "data": {
      "text/plain": [
       "class2\n",
       "airspace      1671\n",
       "business     16893\n",
       "carpark       2217\n",
       "domestic    120653\n",
       "land         16268\n",
       "unknown       8586\n",
       "dtype: int64"
      ]
     },
     "execution_count": 40,
     "metadata": {},
     "output_type": "execute_result"
    }
   ],
   "source": [
    "ocod_data.groupby('class2').size()"
   ]
  },
  {
   "cell_type": "code",
   "execution_count": 44,
   "id": "a5c52cbf",
   "metadata": {},
   "outputs": [
    {
     "data": {
      "text/plain": [
       "class2\n",
       "airspace    0.010049\n",
       "business    0.101589\n",
       "carpark     0.013332\n",
       "domestic    0.725566\n",
       "land        0.097830\n",
       "unknown     0.051633\n",
       "dtype: float64"
      ]
     },
     "execution_count": 44,
     "metadata": {},
     "output_type": "execute_result"
    }
   ],
   "source": [
    "#if we can be relatively sure that all the nested properties are domestic then the amount of unclassified \n",
    "#properties drops to 2%\n",
    "#What would allow us to be sure?\n",
    "ocod_data.groupby('class2').size()/ocod_data.shape[0]"
   ]
  },
  {
   "cell_type": "code",
   "execution_count": null,
   "id": "82c65034",
   "metadata": {},
   "outputs": [],
   "source": [
    "ocod_data.columns"
   ]
  },
  {
   "cell_type": "code",
   "execution_count": 46,
   "id": "05816de5",
   "metadata": {},
   "outputs": [],
   "source": [
    "#non of the unknowns have a postcode. I guess this is obvious as if there is no matching VOA postcode you are classed as domestic\n",
    "#pd.crosstab(ocod_data[ocod_data['class']==\"unknown\"].postcode.notnull(), ocod_data[ocod_data['class']==\"unknown\"].street_name.notnull())"
   ]
  },
  {
   "cell_type": "code",
   "execution_count": 47,
   "id": "fbec4170",
   "metadata": {},
   "outputs": [
    {
     "data": {
      "text/html": [
       "<div>\n",
       "<style scoped>\n",
       "    .dataframe tbody tr th:only-of-type {\n",
       "        vertical-align: middle;\n",
       "    }\n",
       "\n",
       "    .dataframe tbody tr th {\n",
       "        vertical-align: top;\n",
       "    }\n",
       "\n",
       "    .dataframe thead th {\n",
       "        text-align: right;\n",
       "    }\n",
       "</style>\n",
       "<table border=\"1\" class=\"dataframe\">\n",
       "  <thead>\n",
       "    <tr style=\"text-align: right;\">\n",
       "      <th>region</th>\n",
       "      <th>east anglia</th>\n",
       "      <th>east midlands</th>\n",
       "      <th>greater london</th>\n",
       "      <th>north</th>\n",
       "      <th>north west</th>\n",
       "      <th>south east</th>\n",
       "      <th>south west</th>\n",
       "      <th>wales</th>\n",
       "      <th>west midlands</th>\n",
       "      <th>yorks and humber</th>\n",
       "    </tr>\n",
       "    <tr>\n",
       "      <th>tenure</th>\n",
       "      <th></th>\n",
       "      <th></th>\n",
       "      <th></th>\n",
       "      <th></th>\n",
       "      <th></th>\n",
       "      <th></th>\n",
       "      <th></th>\n",
       "      <th></th>\n",
       "      <th></th>\n",
       "      <th></th>\n",
       "    </tr>\n",
       "  </thead>\n",
       "  <tbody>\n",
       "    <tr>\n",
       "      <th>Freehold</th>\n",
       "      <td>3686</td>\n",
       "      <td>4889</td>\n",
       "      <td>23681</td>\n",
       "      <td>3679</td>\n",
       "      <td>15921</td>\n",
       "      <td>19837</td>\n",
       "      <td>6732</td>\n",
       "      <td>3599</td>\n",
       "      <td>5555</td>\n",
       "      <td>8437</td>\n",
       "    </tr>\n",
       "    <tr>\n",
       "      <th>Leasehold</th>\n",
       "      <td>493</td>\n",
       "      <td>1390</td>\n",
       "      <td>46967</td>\n",
       "      <td>1075</td>\n",
       "      <td>7002</td>\n",
       "      <td>6055</td>\n",
       "      <td>1762</td>\n",
       "      <td>771</td>\n",
       "      <td>1934</td>\n",
       "      <td>2823</td>\n",
       "    </tr>\n",
       "  </tbody>\n",
       "</table>\n",
       "</div>"
      ],
      "text/plain": [
       "region     east anglia  east midlands  greater london  north  north west  \\\n",
       "tenure                                                                     \n",
       "Freehold          3686           4889           23681   3679       15921   \n",
       "Leasehold          493           1390           46967   1075        7002   \n",
       "\n",
       "region     south east  south west  wales  west midlands  yorks and humber  \n",
       "tenure                                                                     \n",
       "Freehold        19837        6732   3599           5555              8437  \n",
       "Leasehold        6055        1762    771           1934              2823  "
      ]
     },
     "execution_count": 47,
     "metadata": {},
     "output_type": "execute_result"
    }
   ],
   "source": [
    "pd.crosstab(ocod_data['tenure'], ocod_data['region'].str.lower())#.to_latex() #convert to copyable latex table"
   ]
  },
  {
   "cell_type": "code",
   "execution_count": 57,
   "id": "85734148",
   "metadata": {},
   "outputs": [],
   "source": [
    "ocod_data.loc[(ocod_data['region'].str.lower()==\"greater london\") & (ocod_data['class2']==\"unknown\"),  \n",
    "              ['title_number', 'building_name', 'street_number', 'street_name', 'property_address', 'price_paid']].to_csv('/tf/empty_homes_data/delete_me.csv')"
   ]
  },
  {
   "cell_type": "code",
   "execution_count": 48,
   "id": "1133f5a1",
   "metadata": {},
   "outputs": [
    {
     "data": {
      "text/html": [
       "<div>\n",
       "<style scoped>\n",
       "    .dataframe tbody tr th:only-of-type {\n",
       "        vertical-align: middle;\n",
       "    }\n",
       "\n",
       "    .dataframe tbody tr th {\n",
       "        vertical-align: top;\n",
       "    }\n",
       "\n",
       "    .dataframe thead th {\n",
       "        text-align: right;\n",
       "    }\n",
       "</style>\n",
       "<table border=\"1\" class=\"dataframe\">\n",
       "  <thead>\n",
       "    <tr style=\"text-align: right;\">\n",
       "      <th>region</th>\n",
       "      <th>east anglia</th>\n",
       "      <th>east midlands</th>\n",
       "      <th>greater london</th>\n",
       "      <th>north</th>\n",
       "      <th>north west</th>\n",
       "      <th>south east</th>\n",
       "      <th>south west</th>\n",
       "      <th>wales</th>\n",
       "      <th>west midlands</th>\n",
       "      <th>yorks and humber</th>\n",
       "    </tr>\n",
       "    <tr>\n",
       "      <th>class2</th>\n",
       "      <th></th>\n",
       "      <th></th>\n",
       "      <th></th>\n",
       "      <th></th>\n",
       "      <th></th>\n",
       "      <th></th>\n",
       "      <th></th>\n",
       "      <th></th>\n",
       "      <th></th>\n",
       "      <th></th>\n",
       "    </tr>\n",
       "  </thead>\n",
       "  <tbody>\n",
       "    <tr>\n",
       "      <th>airspace</th>\n",
       "      <td>50</td>\n",
       "      <td>162</td>\n",
       "      <td>91</td>\n",
       "      <td>15</td>\n",
       "      <td>215</td>\n",
       "      <td>185</td>\n",
       "      <td>266</td>\n",
       "      <td>290</td>\n",
       "      <td>94</td>\n",
       "      <td>303</td>\n",
       "    </tr>\n",
       "    <tr>\n",
       "      <th>business</th>\n",
       "      <td>396</td>\n",
       "      <td>684</td>\n",
       "      <td>7661</td>\n",
       "      <td>571</td>\n",
       "      <td>1537</td>\n",
       "      <td>2834</td>\n",
       "      <td>978</td>\n",
       "      <td>419</td>\n",
       "      <td>924</td>\n",
       "      <td>889</td>\n",
       "    </tr>\n",
       "    <tr>\n",
       "      <th>carpark</th>\n",
       "      <td>10</td>\n",
       "      <td>6</td>\n",
       "      <td>1413</td>\n",
       "      <td>14</td>\n",
       "      <td>474</td>\n",
       "      <td>159</td>\n",
       "      <td>71</td>\n",
       "      <td>4</td>\n",
       "      <td>27</td>\n",
       "      <td>39</td>\n",
       "    </tr>\n",
       "    <tr>\n",
       "      <th>domestic</th>\n",
       "      <td>2780</td>\n",
       "      <td>4021</td>\n",
       "      <td>56558</td>\n",
       "      <td>3047</td>\n",
       "      <td>17397</td>\n",
       "      <td>16272</td>\n",
       "      <td>5165</td>\n",
       "      <td>2709</td>\n",
       "      <td>4659</td>\n",
       "      <td>8045</td>\n",
       "    </tr>\n",
       "    <tr>\n",
       "      <th>land</th>\n",
       "      <td>630</td>\n",
       "      <td>912</td>\n",
       "      <td>2587</td>\n",
       "      <td>727</td>\n",
       "      <td>2187</td>\n",
       "      <td>4751</td>\n",
       "      <td>1253</td>\n",
       "      <td>617</td>\n",
       "      <td>1302</td>\n",
       "      <td>1302</td>\n",
       "    </tr>\n",
       "    <tr>\n",
       "      <th>unknown</th>\n",
       "      <td>313</td>\n",
       "      <td>494</td>\n",
       "      <td>2338</td>\n",
       "      <td>380</td>\n",
       "      <td>1113</td>\n",
       "      <td>1691</td>\n",
       "      <td>761</td>\n",
       "      <td>331</td>\n",
       "      <td>483</td>\n",
       "      <td>682</td>\n",
       "    </tr>\n",
       "  </tbody>\n",
       "</table>\n",
       "</div>"
      ],
      "text/plain": [
       "region    east anglia  east midlands  greater london  north  north west  \\\n",
       "class2                                                                    \n",
       "airspace           50            162              91     15         215   \n",
       "business          396            684            7661    571        1537   \n",
       "carpark            10              6            1413     14         474   \n",
       "domestic         2780           4021           56558   3047       17397   \n",
       "land              630            912            2587    727        2187   \n",
       "unknown           313            494            2338    380        1113   \n",
       "\n",
       "region    south east  south west  wales  west midlands  yorks and humber  \n",
       "class2                                                                    \n",
       "airspace         185         266    290             94               303  \n",
       "business        2834         978    419            924               889  \n",
       "carpark          159          71      4             27                39  \n",
       "domestic       16272        5165   2709           4659              8045  \n",
       "land            4751        1253    617           1302              1302  \n",
       "unknown         1691         761    331            483               682  "
      ]
     },
     "execution_count": 48,
     "metadata": {},
     "output_type": "execute_result"
    }
   ],
   "source": [
    "pd.crosstab(ocod_data['class2'], ocod_data['region'].str.lower())#.to_latex() #convert to copyable latex table"
   ]
  },
  {
   "cell_type": "code",
   "execution_count": 49,
   "id": "06c3a9b7",
   "metadata": {},
   "outputs": [
    {
     "data": {
      "text/html": [
       "<div>\n",
       "<style scoped>\n",
       "    .dataframe tbody tr th:only-of-type {\n",
       "        vertical-align: middle;\n",
       "    }\n",
       "\n",
       "    .dataframe tbody tr th {\n",
       "        vertical-align: top;\n",
       "    }\n",
       "\n",
       "    .dataframe thead th {\n",
       "        text-align: right;\n",
       "    }\n",
       "</style>\n",
       "<table border=\"1\" class=\"dataframe\">\n",
       "  <thead>\n",
       "    <tr style=\"text-align: right;\">\n",
       "      <th>tenure</th>\n",
       "      <th>Freehold</th>\n",
       "      <th>Leasehold</th>\n",
       "    </tr>\n",
       "    <tr>\n",
       "      <th>class2</th>\n",
       "      <th></th>\n",
       "      <th></th>\n",
       "    </tr>\n",
       "  </thead>\n",
       "  <tbody>\n",
       "    <tr>\n",
       "      <th>airspace</th>\n",
       "      <td>7</td>\n",
       "      <td>1664</td>\n",
       "    </tr>\n",
       "    <tr>\n",
       "      <th>business</th>\n",
       "      <td>11303</td>\n",
       "      <td>5590</td>\n",
       "    </tr>\n",
       "    <tr>\n",
       "      <th>carpark</th>\n",
       "      <td>155</td>\n",
       "      <td>2062</td>\n",
       "    </tr>\n",
       "    <tr>\n",
       "      <th>domestic</th>\n",
       "      <td>64626</td>\n",
       "      <td>56027</td>\n",
       "    </tr>\n",
       "    <tr>\n",
       "      <th>land</th>\n",
       "      <td>14444</td>\n",
       "      <td>1824</td>\n",
       "    </tr>\n",
       "    <tr>\n",
       "      <th>unknown</th>\n",
       "      <td>5481</td>\n",
       "      <td>3105</td>\n",
       "    </tr>\n",
       "  </tbody>\n",
       "</table>\n",
       "</div>"
      ],
      "text/plain": [
       "tenure    Freehold  Leasehold\n",
       "class2                       \n",
       "airspace         7       1664\n",
       "business     11303       5590\n",
       "carpark        155       2062\n",
       "domestic     64626      56027\n",
       "land         14444       1824\n",
       "unknown       5481       3105"
      ]
     },
     "execution_count": 49,
     "metadata": {},
     "output_type": "execute_result"
    }
   ],
   "source": [
    "pd.crosstab(ocod_data['class2'], ocod_data['tenure'])#.to_latex() #convert to copyable latex table"
   ]
  },
  {
   "cell_type": "code",
   "execution_count": null,
   "id": "1dbfb79f",
   "metadata": {},
   "outputs": [],
   "source": [
    "temp_df = ocod_data[['title_number', 'tenure', 'within_larger_title']].drop_duplicates()\n",
    "\n",
    "#most of titles containing nested addresses are free hold by about 3/2\n",
    "pd.crosstab(temp_df['tenure'], temp_df['within_larger_title'])\n"
   ]
  },
  {
   "cell_type": "code",
   "execution_count": null,
   "id": "720c2244",
   "metadata": {},
   "outputs": [],
   "source": [
    "#The analysis is based on nested addresses being domestic\n",
    "temp_df = ocod_data[['title_number', 'tenure', 'property_address']][ocod_data['within_larger_title']==True]\n",
    "temp_df['is_flat'] = temp_df['property_address'].str.contains(r\"(flat|apartment|penthouse|unit)\", case = False)\n",
    "\n",
    "#pd.crosstab(temp_df['tenure'], temp_df['within_larger_title'])\n",
    "\n",
    "temp_df.groupby('tenure').size()\n",
    "\n",
    "#Of nested addresses freehold is more common by 3/2 50k to 24k\n",
    "#most of theproperties are not flats however flats dominate the leasehold section\n",
    "#flats are 1/3 of nested addresses but make up almost 3/4 of the leashold nested addresses\n",
    "#note this does not include items marked as units\n",
    "pd.crosstab(temp_df.tenure, temp_df.is_flat)"
   ]
  },
  {
   "cell_type": "code",
   "execution_count": null,
   "id": "01b01126",
   "metadata": {},
   "outputs": [],
   "source": [
    "#This is interesting as it shows that only about 15% of normal titles are missing a postcode whilst half of within larger title addresses are missing a postcode.\n",
    "#This is probably because they cover multiple postcodes\n",
    "pd.crosstab(ocod_data.postcode.notnull(), ocod_data.within_larger_title)"
   ]
  },
  {
   "cell_type": "code",
   "execution_count": null,
   "id": "5bdbc081",
   "metadata": {},
   "outputs": [],
   "source": [
    "#64% of the propertys have postcodes/lsoa.\n",
    "#I need to match the remaining to get an accurate distribution of the properties\n",
    "\n",
    "ocod_data.postcode.notnull().sum()/ocod_data.shape[0]"
   ]
  },
  {
   "cell_type": "markdown",
   "id": "468fb9c6",
   "metadata": {},
   "source": [
    "## Road matching"
   ]
  },
  {
   "cell_type": "markdown",
   "id": "397cedf2",
   "metadata": {},
   "source": [
    "## Exploring road matching\n",
    "\n",
    "Before matching the names I should edit the street names to remove all ' apostraphes as these are very unreliable, I should also remove spaces between 'gate' and whatever comes before it same with 'way'\n",
    "It may also be an idea to remove 's' that appears at the end of a word but we can try this again later"
   ]
  },
  {
   "cell_type": "code",
   "execution_count": null,
   "id": "be63aa0b",
   "metadata": {},
   "outputs": [],
   "source": [
    "#target_lad = 'E09000019'\n",
    "#test= fuzzy_street_match(ocod_data, voa_businesses, target_lad)\n"
   ]
  },
  {
   "cell_type": "code",
   "execution_count": null,
   "id": "84e28a02",
   "metadata": {},
   "outputs": [],
   "source": [
    "target_lad = 'E09000019'\n",
    "test= massaged_street_match(ocod_data, voa_businesses, target_lad)\n",
    "\n",
    "test.columns#[test['street_name2']].groupby('match').size()"
   ]
  },
  {
   "cell_type": "code",
   "execution_count": null,
   "id": "ce9a8db5",
   "metadata": {},
   "outputs": [],
   "source": [
    "#all_lads = ocod_data.lad11cd.unique()\n",
    "\n",
    "#all_lads = [x for x in all_lads if str(x) != 'nan']\n",
    "##see which roads match a road in voa data set for each local authority\n",
    "#ocod_road_match= [fuzzy_street_match(ocod_data, voa_businesses, target_lad) for target_lad in all_lads]\n",
    "#ocod_road_match = pd.concat(ocod_road_match)"
   ]
  },
  {
   "cell_type": "code",
   "execution_count": null,
   "id": "746ef028",
   "metadata": {},
   "outputs": [],
   "source": [
    "all_lads = ocod_data.lad11cd.unique()\n",
    "\n",
    "all_lads = [x for x in all_lads if str(x) != 'nan']\n",
    "#see which roads match a road in voa data set for each local authority\n",
    "ocod_road_match= [massaged_street_match(ocod_data, voa_businesses, target_lad) for target_lad in all_lads]\n",
    "ocod_road_match = pd.concat(ocod_road_match)"
   ]
  },
  {
   "cell_type": "code",
   "execution_count": null,
   "id": "3db02091",
   "metadata": {},
   "outputs": [],
   "source": [
    "ocod_road_match.groupby('match').size()"
   ]
  },
  {
   "cell_type": "code",
   "execution_count": null,
   "id": "ea1b03c9",
   "metadata": {},
   "outputs": [],
   "source": [
    "test = ocod_road_match2[ocod_road_match2['street_name'] != 'xxxstreet name missingxxx']\n",
    "pd.crosstab(test['match'], test['class'])"
   ]
  },
  {
   "cell_type": "code",
   "execution_count": null,
   "id": "912e7f1a",
   "metadata": {},
   "outputs": [],
   "source": [
    "498/(498+3781)"
   ]
  },
  {
   "cell_type": "code",
   "execution_count": null,
   "id": "7c925b75",
   "metadata": {},
   "outputs": [],
   "source": [
    "\n",
    "ocod_road_match2[(ocod_road_match2['match']==False) & (ocod_road_match2['class'] == \"business\")& (ocod_road_match2['street_name'] != 'xxxstreet name missingxxx')].to_csv(\"/tf/empty_homes_data/fuzzy_roads.csv\")"
   ]
  },
  {
   "cell_type": "code",
   "execution_count": null,
   "id": "f167139f",
   "metadata": {},
   "outputs": [],
   "source": [
    "\n",
    "ocod_road_match[(ocod_road_match['similarity']<93) & (ocod_road_match['class'] == \"business\") & (ocod_road_match['street_name'] != 'xxxstreet name missingxxx')].to_csv(\"/tf/empty_homes_data/fuzzy_roads.csv\")"
   ]
  },
  {
   "cell_type": "code",
   "execution_count": null,
   "id": "badaab0b",
   "metadata": {},
   "outputs": [],
   "source": [
    "ocod_road_match[ocod_road_match['street_name'].str.contains(r\"'\")][['street_name', 'street_name2', 'matched_road_name' ]]"
   ]
  },
  {
   "cell_type": "code",
   "execution_count": null,
   "id": "0cbed506",
   "metadata": {},
   "outputs": [],
   "source": [
    "#values greater than or equal to 94 seem to be pretty good\n",
    "ocod_data.columns\n",
    "#ocod_road_match[ocod_road_match['similarity']==96][['property_address', 'street_name2', 'matched_road_name']]"
   ]
  },
  {
   "cell_type": "markdown",
   "id": "0eaa195d",
   "metadata": {},
   "source": [
    "# creating the aggregated ocod dataset for sampling"
   ]
  },
  {
   "cell_type": "code",
   "execution_count": null,
   "id": "66ba5cb7",
   "metadata": {},
   "outputs": [],
   "source": [
    "ocod_data_lsoa = ocod_data\n",
    "#ocod_data_lsoa['postcode2'] = ocod_data['postcode'].str.lower().str.replace(\"\\s\", \"\")\n",
    "\n",
    "#ocod_data_lsoa = ocod_data.merge(postcode_district_lookup, 'left', left_on = \"postcode2\", right_on = \"postcode2\")\n",
    "\n",
    "ocod_data_lsoa.groupby(['lad11cd', 'lsoa11cd', 'msoa11cd', 'class2']).size().reset_index().to_csv(\"/tf/empty_homes_data/ocod_lsoa.csv\")\n",
    "ocod_data_lsoa.groupby(['lad11cd', 'lsoa11cd', 'msoa11cd', 'class2', 'within_larger_title']).size().reset_index().to_csv(\"/tf/empty_homes_data/ocod_lsoa_by_nested_type.csv\")"
   ]
  },
  {
   "cell_type": "markdown",
   "id": "2bb4c35d",
   "metadata": {},
   "source": [
    "## Largest nested addresses"
   ]
  },
  {
   "cell_type": "code",
   "execution_count": null,
   "id": "2f0d64e7",
   "metadata": {},
   "outputs": [],
   "source": [
    "#The largest nested address\n",
    "ocod_data.within_title_id.max()"
   ]
  },
  {
   "cell_type": "code",
   "execution_count": null,
   "id": "42c32471",
   "metadata": {},
   "outputs": [],
   "source": [
    "ocod_data[ocod_data.within_title_id==ocod_data.within_title_id.max()].reset_index()['property_address'][0]\n",
    "\n"
   ]
  },
  {
   "cell_type": "code",
   "execution_count": null,
   "id": "16b357ac",
   "metadata": {},
   "outputs": [],
   "source": [
    "ocod_data.to_csv(\"/tf/empty_homes_data/OCOD_classes.csv\")"
   ]
  },
  {
   "cell_type": "code",
   "execution_count": null,
   "id": "735c172e",
   "metadata": {},
   "outputs": [],
   "source": [
    "test  = ocod_data[ocod_data['class']==\"unknown\" ]\n",
    "\n",
    "pd.crosstab(test.postcode.notnull(), test.street_name.notnull())"
   ]
  },
  {
   "cell_type": "code",
   "execution_count": null,
   "id": "62b111bf",
   "metadata": {},
   "outputs": [],
   "source": [
    "ocod_data[ ocod_data.street_name.isnull()].to_csv(\"/tf/empty_homes_data/OCOD_no_street.csv\")"
   ]
  },
  {
   "cell_type": "code",
   "execution_count": null,
   "id": "5b7a2c7d",
   "metadata": {},
   "outputs": [],
   "source": [
    "1/21"
   ]
  }
 ],
 "metadata": {
  "kernelspec": {
   "display_name": "Python 3",
   "language": "python",
   "name": "python3"
  },
  "language_info": {
   "codemirror_mode": {
    "name": "ipython",
    "version": 3
   },
   "file_extension": ".py",
   "mimetype": "text/x-python",
   "name": "python",
   "nbconvert_exporter": "python",
   "pygments_lexer": "ipython3",
   "version": "3.8.10"
  }
 },
 "nbformat": 4,
 "nbformat_minor": 5
}
