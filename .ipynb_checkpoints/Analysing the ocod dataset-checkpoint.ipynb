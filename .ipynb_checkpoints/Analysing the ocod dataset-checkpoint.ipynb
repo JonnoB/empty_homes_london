{
 "cells": [
  {
   "cell_type": "markdown",
   "id": "17d63086",
   "metadata": {},
   "source": [
    "# Analysing the cleaned OCOD dataset\n"
   ]
  },
  {
   "cell_type": "code",
   "execution_count": 1,
   "id": "3948b703",
   "metadata": {},
   "outputs": [
    {
     "data": {
      "text/html": [
       "<style>.container { width:90% !important; }</style>"
      ],
      "text/plain": [
       "<IPython.core.display.HTML object>"
      ]
     },
     "metadata": {},
     "output_type": "display_data"
    }
   ],
   "source": [
    "from IPython.core.display import display, HTML\n",
    "display(HTML(\"<style>.container { width:90% !important; }</style>\"))\n",
    "import pandas as pd\n",
    "import numpy as np\n",
    "import re\n",
    "import io\n",
    "import zipfile\n",
    "from helper_functions import *\n",
    "\n"
   ]
  },
  {
   "cell_type": "code",
   "execution_count": 2,
   "id": "5af5ed4f",
   "metadata": {},
   "outputs": [],
   "source": [
    "#!pip install thefuzz[speedup]\n",
    "from thefuzz import process #an alternative could jellyfish, nltk, diff-match-patch"
   ]
  },
  {
   "cell_type": "code",
   "execution_count": 137,
   "id": "d6bb958a",
   "metadata": {},
   "outputs": [
    {
     "name": "stderr",
     "output_type": "stream",
     "text": [
      "<ipython-input-137-4f134914fcc7>:5: DtypeWarning: Columns (18,31,40,45) have mixed types. Specify dtype option on import or set low_memory=False.\n",
      "  postcode_district_lookup = pd.read_csv(f)[['pcds','oslaua','lsoa11', 'msoa11', 'ctry']]\n"
     ]
    }
   ],
   "source": [
    "target_post_area = \"Data/ONSPD_NOV_2021_UK.csv\"\n",
    "\n",
    "with zipfile.ZipFile(\"/tf/empty_homes_data/\" + \"ONSPD_NOV_2021_UK.zip\") as zf:\n",
    "    with io.TextIOWrapper(zf.open(target_post_area), encoding = 'latin-1') as f:\n",
    "        postcode_district_lookup = pd.read_csv(f)[['pcds','oslaua','lsoa11', 'msoa11', 'ctry']]\n",
    "        postcode_district_lookup = postcode_district_lookup[(postcode_district_lookup['ctry'] == 'E92000001') | (postcode_district_lookup['ctry'] == 'W92000004')]\n",
    "        postcode_district_lookup.rename(columns = {'pcds':'postcode2',\n",
    "                                                  'oslaua':'lad11cd',\n",
    "                                                  'lsoa11': 'lsoa11cd',\n",
    "                                                  'msoa11':'msoa11cd'}, inplace = True)\n",
    "        #spaces are removed because I don't know if the formatting is the same in the two datasets\n",
    "        postcode_district_lookup['postcode2']= postcode_district_lookup['postcode2'].str.lower().str.replace(r\"\\s\", r\"\", regex = True)\n",
    "        postcode_district_lookup.drop('ctry',  axis =1, inplace = True)\n"
   ]
  },
  {
   "cell_type": "code",
   "execution_count": 138,
   "id": "858e4f97",
   "metadata": {},
   "outputs": [
    {
     "name": "stderr",
     "output_type": "stream",
     "text": [
      "<ipython-input-138-5a2fe86d1544>:4: FutureWarning: The default value of regex will change from True to False in a future version.\n",
      "  ocod_data['postcode2'] = ocod_data['postcode'].str.lower().str.replace(\"\\s\", \"\")\n"
     ]
    }
   ],
   "source": [
    "ocod_data =  pd.read_csv(\"/tf/empty_homes_data/OCOD_cleaned_expanded.csv\")\n",
    "\n",
    "##add in the geographic area data like lsoa etc\n",
    "ocod_data['postcode2'] = ocod_data['postcode'].str.lower().str.replace(\"\\s\", \"\")\n",
    "\n",
    "ocod_data = ocod_data.merge(postcode_district_lookup, 'left', left_on = \"postcode2\", right_on = \"postcode2\")"
   ]
  },
  {
   "cell_type": "code",
   "execution_count": null,
   "id": "f8c018f5",
   "metadata": {},
   "outputs": [],
   "source": [
    "ocod_data.columns"
   ]
  },
  {
   "cell_type": "markdown",
   "id": "52af5b1f",
   "metadata": {},
   "source": [
    "## Using price paid data to match names\n",
    "\n",
    "The land registry does not use standardised LAD codes or names and \n",
    "the LAD names it uses appear to be wrong sometimes. I need to know the LADs so that I only try road matching within local authorities to minimise the chance of having the same road twice. To get around this I will use the substantially larger database of the price paid data to get all the land registry district names and match them to the onsp using the postcodes. This works as there are a large number of sales in each district most of them will have a postcode. There are cases where the wrong district or postcode is applied meaning a single district name can have two or more lad11cd's, to solve this I simply take the lad11cd with the largest number of counts.\n",
    "\n",
    "The resulting OCOD data frame has a LAD11CD for each entry, and thus allows the fuzzy road matching to work effectively"
   ]
  },
  {
   "cell_type": "code",
   "execution_count": 139,
   "id": "188bd9ea",
   "metadata": {},
   "outputs": [],
   "source": [
    "#https://www.gov.uk/guidance/about-the-price-paid-data#explanations-of-column-headers-in-the-ppd\n",
    "price_paid_headers = ['Transaction unique identifier', 'Price', 'Date of Transfer', 'Postcode', 'Property Type', \n",
    "                     'Old New', 'Duration', 'PAON', 'SAON', 'Street',  'Locality', 'Town', 'District', 'County',\n",
    "                     'PPD Category Type', 'Record Status - monthly file only']\n",
    "#clean up to make working with them easier\n",
    "price_paid_headers = [x.lower().replace(' ', '_') for x in price_paid_headers]\n",
    "\n",
    "price_paid_df = pd.read_csv('/tf/empty_homes_data/price_paid_files/pp-2021.csv', names = price_paid_headers)\n",
    "\n",
    "price_paid_df['street'] = price_paid_df['street'].str.lower()\n",
    "price_paid_df['locality'] = price_paid_df['locality'].str.lower()\n",
    "price_paid_df['paon'] = price_paid_df['paon'].str.lower()\n",
    "\n",
    "price_paid_df['postcode2'] = price_paid_df['postcode'].str.lower().str.replace(r\"\\s\", r\"\", regex=True)\n",
    "\n",
    "price_paid_df = price_paid_df.merge(postcode_district_lookup, 'left', left_on = \"postcode2\", right_on = \"postcode2\")\n",
    "\n",
    "#when there are multiples take the lad11cd with the largest number of counts\n",
    "lad_lookup = price_paid_df[['district', 'lad11cd']].dropna().groupby(['district', 'lad11cd']).size().reset_index()\n",
    "lad_lookup.rename(columns = {0:'counts'}, inplace = True)\n",
    "lad_lookup = lad_lookup.sort_values('counts', ascending=False).groupby('lad11cd').first().reset_index()\n",
    "lad_lookup.drop('counts', axis = 1, inplace = True)\n",
    "\n",
    "temp = ocod_data\n",
    "temp = temp.drop('lad11cd', axis = 1)\n",
    "\n",
    "temp = temp[temp['postcode'].isna()]\n",
    "\n",
    "temp = temp.merge(lad_lookup, left_on = \"district\", right_on = \"district\")\n",
    "\n",
    "temp['lad11cd'].isna().sum() #there are no na values showing all districts now have a lad code\n",
    "\n",
    "#join the ocod data back together again\n",
    "ocod_data = pd.concat( [temp, ocod_data[~ocod_data['postcode'].isna()]])\n",
    "\n",
    "#tidy up\n",
    "#del temp\n",
    "#del lad_lookup\n",
    "#del price_paid_df"
   ]
  },
  {
   "cell_type": "code",
   "execution_count": 140,
   "id": "500e6a61",
   "metadata": {},
   "outputs": [
    {
     "data": {
      "text/html": [
       "<div>\n",
       "<style scoped>\n",
       "    .dataframe tbody tr th:only-of-type {\n",
       "        vertical-align: middle;\n",
       "    }\n",
       "\n",
       "    .dataframe tbody tr th {\n",
       "        vertical-align: top;\n",
       "    }\n",
       "\n",
       "    .dataframe thead th {\n",
       "        text-align: right;\n",
       "    }\n",
       "</style>\n",
       "<table border=\"1\" class=\"dataframe\">\n",
       "  <thead>\n",
       "    <tr style=\"text-align: right;\">\n",
       "      <th></th>\n",
       "      <th>transaction_unique_identifier</th>\n",
       "      <th>price</th>\n",
       "      <th>date_of_transfer</th>\n",
       "      <th>postcode</th>\n",
       "      <th>property_type</th>\n",
       "      <th>old_new</th>\n",
       "      <th>duration</th>\n",
       "      <th>paon</th>\n",
       "      <th>saon</th>\n",
       "      <th>street</th>\n",
       "      <th>locality</th>\n",
       "      <th>town</th>\n",
       "      <th>district</th>\n",
       "      <th>county</th>\n",
       "      <th>ppd_category_type</th>\n",
       "      <th>record_status_-_monthly_file_only</th>\n",
       "      <th>postcode2</th>\n",
       "      <th>lad11cd</th>\n",
       "      <th>lsoa11cd</th>\n",
       "      <th>msoa11cd</th>\n",
       "    </tr>\n",
       "  </thead>\n",
       "  <tbody>\n",
       "    <tr>\n",
       "      <th>0</th>\n",
       "      <td>{D22473F5-8689-7B40-E053-6C04A8C0A630}</td>\n",
       "      <td>190000</td>\n",
       "      <td>2021-08-20 00:00</td>\n",
       "      <td>PR1 0LU</td>\n",
       "      <td>S</td>\n",
       "      <td>N</td>\n",
       "      <td>F</td>\n",
       "      <td>51</td>\n",
       "      <td>NaN</td>\n",
       "      <td>howick park drive</td>\n",
       "      <td>penwortham</td>\n",
       "      <td>PRESTON</td>\n",
       "      <td>SOUTH RIBBLE</td>\n",
       "      <td>LANCASHIRE</td>\n",
       "      <td>A</td>\n",
       "      <td>A</td>\n",
       "      <td>pr10lu</td>\n",
       "      <td>E07000126</td>\n",
       "      <td>E01025424</td>\n",
       "      <td>E02005287</td>\n",
       "    </tr>\n",
       "    <tr>\n",
       "      <th>1</th>\n",
       "      <td>{D22473F5-868A-7B40-E053-6C04A8C0A630}</td>\n",
       "      <td>104000</td>\n",
       "      <td>2021-11-12 00:00</td>\n",
       "      <td>FY4 4JU</td>\n",
       "      <td>T</td>\n",
       "      <td>N</td>\n",
       "      <td>F</td>\n",
       "      <td>122</td>\n",
       "      <td>NaN</td>\n",
       "      <td>penrose avenue</td>\n",
       "      <td>NaN</td>\n",
       "      <td>BLACKPOOL</td>\n",
       "      <td>BLACKPOOL</td>\n",
       "      <td>BLACKPOOL</td>\n",
       "      <td>A</td>\n",
       "      <td>A</td>\n",
       "      <td>fy44ju</td>\n",
       "      <td>E06000009</td>\n",
       "      <td>E01012685</td>\n",
       "      <td>E02002648</td>\n",
       "    </tr>\n",
       "    <tr>\n",
       "      <th>2</th>\n",
       "      <td>{D22473F5-868B-7B40-E053-6C04A8C0A630}</td>\n",
       "      <td>157000</td>\n",
       "      <td>2021-09-27 00:00</td>\n",
       "      <td>M14 4FZ</td>\n",
       "      <td>T</td>\n",
       "      <td>N</td>\n",
       "      <td>L</td>\n",
       "      <td>50</td>\n",
       "      <td>NaN</td>\n",
       "      <td>parkfield avenue</td>\n",
       "      <td>NaN</td>\n",
       "      <td>MANCHESTER</td>\n",
       "      <td>MANCHESTER</td>\n",
       "      <td>GREATER MANCHESTER</td>\n",
       "      <td>A</td>\n",
       "      <td>A</td>\n",
       "      <td>m144fz</td>\n",
       "      <td>E08000003</td>\n",
       "      <td>E01005242</td>\n",
       "      <td>E02001069</td>\n",
       "    </tr>\n",
       "    <tr>\n",
       "      <th>3</th>\n",
       "      <td>{D22473F5-868C-7B40-E053-6C04A8C0A630}</td>\n",
       "      <td>117500</td>\n",
       "      <td>2021-06-25 00:00</td>\n",
       "      <td>BB3 0AX</td>\n",
       "      <td>T</td>\n",
       "      <td>N</td>\n",
       "      <td>L</td>\n",
       "      <td>2</td>\n",
       "      <td>NaN</td>\n",
       "      <td>redvers road</td>\n",
       "      <td>NaN</td>\n",
       "      <td>DARWEN</td>\n",
       "      <td>BLACKBURN WITH DARWEN</td>\n",
       "      <td>BLACKBURN WITH DARWEN</td>\n",
       "      <td>A</td>\n",
       "      <td>A</td>\n",
       "      <td>bb30ax</td>\n",
       "      <td>E06000008</td>\n",
       "      <td>E01012590</td>\n",
       "      <td>E02002628</td>\n",
       "    </tr>\n",
       "    <tr>\n",
       "      <th>4</th>\n",
       "      <td>{D22473F5-868E-7B40-E053-6C04A8C0A630}</td>\n",
       "      <td>480000</td>\n",
       "      <td>2021-10-18 00:00</td>\n",
       "      <td>PR1 9YX</td>\n",
       "      <td>D</td>\n",
       "      <td>N</td>\n",
       "      <td>F</td>\n",
       "      <td>2</td>\n",
       "      <td>NaN</td>\n",
       "      <td>penwortham court</td>\n",
       "      <td>penwortham</td>\n",
       "      <td>PRESTON</td>\n",
       "      <td>SOUTH RIBBLE</td>\n",
       "      <td>LANCASHIRE</td>\n",
       "      <td>A</td>\n",
       "      <td>A</td>\n",
       "      <td>pr19yx</td>\n",
       "      <td>E07000126</td>\n",
       "      <td>E01025408</td>\n",
       "      <td>E02005289</td>\n",
       "    </tr>\n",
       "    <tr>\n",
       "      <th>...</th>\n",
       "      <td>...</td>\n",
       "      <td>...</td>\n",
       "      <td>...</td>\n",
       "      <td>...</td>\n",
       "      <td>...</td>\n",
       "      <td>...</td>\n",
       "      <td>...</td>\n",
       "      <td>...</td>\n",
       "      <td>...</td>\n",
       "      <td>...</td>\n",
       "      <td>...</td>\n",
       "      <td>...</td>\n",
       "      <td>...</td>\n",
       "      <td>...</td>\n",
       "      <td>...</td>\n",
       "      <td>...</td>\n",
       "      <td>...</td>\n",
       "      <td>...</td>\n",
       "      <td>...</td>\n",
       "      <td>...</td>\n",
       "    </tr>\n",
       "    <tr>\n",
       "      <th>870540</th>\n",
       "      <td>{C3C3F9B5-7995-362B-E053-6B04A8C03ACC}</td>\n",
       "      <td>220000</td>\n",
       "      <td>2021-03-08 00:00</td>\n",
       "      <td>TR11 2RR</td>\n",
       "      <td>T</td>\n",
       "      <td>N</td>\n",
       "      <td>F</td>\n",
       "      <td>40</td>\n",
       "      <td>NaN</td>\n",
       "      <td>pengarth rise</td>\n",
       "      <td>NaN</td>\n",
       "      <td>FALMOUTH</td>\n",
       "      <td>CORNWALL</td>\n",
       "      <td>CORNWALL</td>\n",
       "      <td>A</td>\n",
       "      <td>A</td>\n",
       "      <td>tr112rr</td>\n",
       "      <td>E06000052</td>\n",
       "      <td>E01018806</td>\n",
       "      <td>E02003916</td>\n",
       "    </tr>\n",
       "    <tr>\n",
       "      <th>870541</th>\n",
       "      <td>{C3C3F9B5-7996-362B-E053-6B04A8C03ACC}</td>\n",
       "      <td>430000</td>\n",
       "      <td>2021-02-05 00:00</td>\n",
       "      <td>PL15 8SS</td>\n",
       "      <td>D</td>\n",
       "      <td>N</td>\n",
       "      <td>F</td>\n",
       "      <td>17</td>\n",
       "      <td>NaN</td>\n",
       "      <td>well meadow</td>\n",
       "      <td>egloskerry</td>\n",
       "      <td>LAUNCESTON</td>\n",
       "      <td>CORNWALL</td>\n",
       "      <td>CORNWALL</td>\n",
       "      <td>A</td>\n",
       "      <td>A</td>\n",
       "      <td>pl158ss</td>\n",
       "      <td>E06000052</td>\n",
       "      <td>E01018968</td>\n",
       "      <td>E02003934</td>\n",
       "    </tr>\n",
       "    <tr>\n",
       "      <th>870542</th>\n",
       "      <td>{C3C3F9B5-7997-362B-E053-6B04A8C03ACC}</td>\n",
       "      <td>236500</td>\n",
       "      <td>2021-03-12 00:00</td>\n",
       "      <td>TR21 0NE</td>\n",
       "      <td>F</td>\n",
       "      <td>N</td>\n",
       "      <td>L</td>\n",
       "      <td>mount flagon</td>\n",
       "      <td>ANNETT</td>\n",
       "      <td>NaN</td>\n",
       "      <td>st marys</td>\n",
       "      <td>ISLES OF SCILLY</td>\n",
       "      <td>ISLES OF SCILLY</td>\n",
       "      <td>ISLES OF SCILLY</td>\n",
       "      <td>A</td>\n",
       "      <td>A</td>\n",
       "      <td>tr210ne</td>\n",
       "      <td>E06000053</td>\n",
       "      <td>E01019077</td>\n",
       "      <td>E02006781</td>\n",
       "    </tr>\n",
       "    <tr>\n",
       "      <th>870543</th>\n",
       "      <td>{C3C3F9B5-7998-362B-E053-6B04A8C03ACC}</td>\n",
       "      <td>185050</td>\n",
       "      <td>2021-03-09 00:00</td>\n",
       "      <td>TR27 4DJ</td>\n",
       "      <td>T</td>\n",
       "      <td>N</td>\n",
       "      <td>F</td>\n",
       "      <td>102</td>\n",
       "      <td>NaN</td>\n",
       "      <td>commercial road</td>\n",
       "      <td>NaN</td>\n",
       "      <td>HAYLE</td>\n",
       "      <td>CORNWALL</td>\n",
       "      <td>CORNWALL</td>\n",
       "      <td>A</td>\n",
       "      <td>A</td>\n",
       "      <td>tr274dj</td>\n",
       "      <td>E06000052</td>\n",
       "      <td>E01018982</td>\n",
       "      <td>E02003944</td>\n",
       "    </tr>\n",
       "    <tr>\n",
       "      <th>870544</th>\n",
       "      <td>{C3C3F9B5-7999-362B-E053-6B04A8C03ACC}</td>\n",
       "      <td>375000</td>\n",
       "      <td>2021-02-05 00:00</td>\n",
       "      <td>TR26 2SQ</td>\n",
       "      <td>D</td>\n",
       "      <td>N</td>\n",
       "      <td>F</td>\n",
       "      <td>9</td>\n",
       "      <td>NaN</td>\n",
       "      <td>polmennor drive</td>\n",
       "      <td>carbis bay</td>\n",
       "      <td>ST IVES</td>\n",
       "      <td>CORNWALL</td>\n",
       "      <td>CORNWALL</td>\n",
       "      <td>A</td>\n",
       "      <td>A</td>\n",
       "      <td>tr262sq</td>\n",
       "      <td>E06000052</td>\n",
       "      <td>E01018985</td>\n",
       "      <td>E02003945</td>\n",
       "    </tr>\n",
       "  </tbody>\n",
       "</table>\n",
       "<p>870545 rows × 20 columns</p>\n",
       "</div>"
      ],
      "text/plain": [
       "                 transaction_unique_identifier   price  date_of_transfer  \\\n",
       "0       {D22473F5-8689-7B40-E053-6C04A8C0A630}  190000  2021-08-20 00:00   \n",
       "1       {D22473F5-868A-7B40-E053-6C04A8C0A630}  104000  2021-11-12 00:00   \n",
       "2       {D22473F5-868B-7B40-E053-6C04A8C0A630}  157000  2021-09-27 00:00   \n",
       "3       {D22473F5-868C-7B40-E053-6C04A8C0A630}  117500  2021-06-25 00:00   \n",
       "4       {D22473F5-868E-7B40-E053-6C04A8C0A630}  480000  2021-10-18 00:00   \n",
       "...                                        ...     ...               ...   \n",
       "870540  {C3C3F9B5-7995-362B-E053-6B04A8C03ACC}  220000  2021-03-08 00:00   \n",
       "870541  {C3C3F9B5-7996-362B-E053-6B04A8C03ACC}  430000  2021-02-05 00:00   \n",
       "870542  {C3C3F9B5-7997-362B-E053-6B04A8C03ACC}  236500  2021-03-12 00:00   \n",
       "870543  {C3C3F9B5-7998-362B-E053-6B04A8C03ACC}  185050  2021-03-09 00:00   \n",
       "870544  {C3C3F9B5-7999-362B-E053-6B04A8C03ACC}  375000  2021-02-05 00:00   \n",
       "\n",
       "        postcode property_type old_new duration          paon    saon  \\\n",
       "0        PR1 0LU             S       N        F            51     NaN   \n",
       "1        FY4 4JU             T       N        F           122     NaN   \n",
       "2        M14 4FZ             T       N        L            50     NaN   \n",
       "3        BB3 0AX             T       N        L             2     NaN   \n",
       "4        PR1 9YX             D       N        F             2     NaN   \n",
       "...          ...           ...     ...      ...           ...     ...   \n",
       "870540  TR11 2RR             T       N        F            40     NaN   \n",
       "870541  PL15 8SS             D       N        F            17     NaN   \n",
       "870542  TR21 0NE             F       N        L  mount flagon  ANNETT   \n",
       "870543  TR27 4DJ             T       N        F           102     NaN   \n",
       "870544  TR26 2SQ             D       N        F             9     NaN   \n",
       "\n",
       "                   street    locality             town               district  \\\n",
       "0       howick park drive  penwortham          PRESTON           SOUTH RIBBLE   \n",
       "1          penrose avenue         NaN        BLACKPOOL              BLACKPOOL   \n",
       "2        parkfield avenue         NaN       MANCHESTER             MANCHESTER   \n",
       "3            redvers road         NaN           DARWEN  BLACKBURN WITH DARWEN   \n",
       "4        penwortham court  penwortham          PRESTON           SOUTH RIBBLE   \n",
       "...                   ...         ...              ...                    ...   \n",
       "870540      pengarth rise         NaN         FALMOUTH               CORNWALL   \n",
       "870541        well meadow  egloskerry       LAUNCESTON               CORNWALL   \n",
       "870542                NaN    st marys  ISLES OF SCILLY        ISLES OF SCILLY   \n",
       "870543    commercial road         NaN            HAYLE               CORNWALL   \n",
       "870544    polmennor drive  carbis bay          ST IVES               CORNWALL   \n",
       "\n",
       "                       county ppd_category_type  \\\n",
       "0                  LANCASHIRE                 A   \n",
       "1                   BLACKPOOL                 A   \n",
       "2          GREATER MANCHESTER                 A   \n",
       "3       BLACKBURN WITH DARWEN                 A   \n",
       "4                  LANCASHIRE                 A   \n",
       "...                       ...               ...   \n",
       "870540               CORNWALL                 A   \n",
       "870541               CORNWALL                 A   \n",
       "870542        ISLES OF SCILLY                 A   \n",
       "870543               CORNWALL                 A   \n",
       "870544               CORNWALL                 A   \n",
       "\n",
       "       record_status_-_monthly_file_only postcode2    lad11cd   lsoa11cd  \\\n",
       "0                                      A    pr10lu  E07000126  E01025424   \n",
       "1                                      A    fy44ju  E06000009  E01012685   \n",
       "2                                      A    m144fz  E08000003  E01005242   \n",
       "3                                      A    bb30ax  E06000008  E01012590   \n",
       "4                                      A    pr19yx  E07000126  E01025408   \n",
       "...                                  ...       ...        ...        ...   \n",
       "870540                                 A   tr112rr  E06000052  E01018806   \n",
       "870541                                 A   pl158ss  E06000052  E01018968   \n",
       "870542                                 A   tr210ne  E06000053  E01019077   \n",
       "870543                                 A   tr274dj  E06000052  E01018982   \n",
       "870544                                 A   tr262sq  E06000052  E01018985   \n",
       "\n",
       "         msoa11cd  \n",
       "0       E02005287  \n",
       "1       E02002648  \n",
       "2       E02001069  \n",
       "3       E02002628  \n",
       "4       E02005289  \n",
       "...           ...  \n",
       "870540  E02003916  \n",
       "870541  E02003934  \n",
       "870542  E02006781  \n",
       "870543  E02003944  \n",
       "870544  E02003945  \n",
       "\n",
       "[870545 rows x 20 columns]"
      ]
     },
     "execution_count": 140,
     "metadata": {},
     "output_type": "execute_result"
    }
   ],
   "source": [
    "price_paid_df"
   ]
  },
  {
   "cell_type": "code",
   "execution_count": 134,
   "id": "642e2a91",
   "metadata": {},
   "outputs": [
    {
     "data": {
      "text/plain": [
       "'E01015611'"
      ]
     },
     "execution_count": 134,
     "metadata": {},
     "output_type": "execute_result"
    }
   ],
   "source": [
    "street = 'miller way'\n",
    "lad11cd ='E06000031'\n",
    "\n",
    "def lsoa_match_street(price_paid_df, street, lad11cd):\n",
    "    #identifies the lsoa of an address suing the street and district only.\n",
    "    #returns the lsoa11cd\n",
    "    #If a street name is associated with multiple addresses the function returns NaN\n",
    "    #street: string. the name of the targe street\n",
    "    #lad11cd: the lad code for the target lad\n",
    "\n",
    "    #subset by road and district\n",
    "    temp = price_paid_df[(price_paid_df['street']==street) & (price_paid_df['lad11cd']== lad11cd)]\n",
    "\n",
    "    lsoa_codes = temp['lsoa11'].unique()\n",
    "    #locality_names = temp['locality'].unique()\n",
    "\n",
    "    if len(lsoa_codes) ==1:\n",
    "        out = lsoa_codes[0]\n",
    "    else:\n",
    "        out = np.nan\n",
    "        \n",
    "    return(out)\n",
    "\n",
    "lsoa_match_street(price_paid_df, street, lad11cd)"
   ]
  },
  {
   "cell_type": "code",
   "execution_count": 148,
   "id": "abe00569",
   "metadata": {},
   "outputs": [
    {
     "data": {
      "text/plain": [
       "array(['CITY OF LONDON'], dtype=object)"
      ]
     },
     "execution_count": 148,
     "metadata": {},
     "output_type": "execute_result"
    }
   ],
   "source": [
    "price_paid_df['district'][price_paid_df['district'].str.contains('LONDON')].unique()"
   ]
  },
  {
   "cell_type": "code",
   "execution_count": 151,
   "id": "a7f8bbac",
   "metadata": {},
   "outputs": [
    {
     "data": {
      "text/html": [
       "<div>\n",
       "<style scoped>\n",
       "    .dataframe tbody tr th:only-of-type {\n",
       "        vertical-align: middle;\n",
       "    }\n",
       "\n",
       "    .dataframe tbody tr th {\n",
       "        vertical-align: top;\n",
       "    }\n",
       "\n",
       "    .dataframe thead th {\n",
       "        text-align: right;\n",
       "    }\n",
       "</style>\n",
       "<table border=\"1\" class=\"dataframe\">\n",
       "  <thead>\n",
       "    <tr style=\"text-align: right;\">\n",
       "      <th></th>\n",
       "      <th>Unnamed: 0</th>\n",
       "      <th>title_number</th>\n",
       "      <th>within_title_id</th>\n",
       "      <th>unique_id</th>\n",
       "      <th>within_larger_title</th>\n",
       "      <th>tenure</th>\n",
       "      <th>unit_id</th>\n",
       "      <th>unit_type</th>\n",
       "      <th>building_name</th>\n",
       "      <th>street_number</th>\n",
       "      <th>...</th>\n",
       "      <th>district</th>\n",
       "      <th>county</th>\n",
       "      <th>region</th>\n",
       "      <th>multiple_address_indicator</th>\n",
       "      <th>price_paid</th>\n",
       "      <th>property_address</th>\n",
       "      <th>postcode2</th>\n",
       "      <th>lsoa11cd</th>\n",
       "      <th>msoa11cd</th>\n",
       "      <th>lad11cd</th>\n",
       "    </tr>\n",
       "  </thead>\n",
       "  <tbody>\n",
       "    <tr>\n",
       "      <th>0</th>\n",
       "      <td>0</td>\n",
       "      <td>CB400630</td>\n",
       "      <td>1</td>\n",
       "      <td>CB400630-1</td>\n",
       "      <td>True</td>\n",
       "      <td>Freehold</td>\n",
       "      <td>NaN</td>\n",
       "      <td>NaN</td>\n",
       "      <td>NaN</td>\n",
       "      <td>2</td>\n",
       "      <td>...</td>\n",
       "      <td>CITY OF PETERBOROUGH</td>\n",
       "      <td>CITY OF PETERBOROUGH</td>\n",
       "      <td>EAST ANGLIA</td>\n",
       "      <td>N</td>\n",
       "      <td>NaN</td>\n",
       "      <td>2-24 (even) Miller Way, 15-25 Hammonds Drive (...</td>\n",
       "      <td>NaN</td>\n",
       "      <td>NaN</td>\n",
       "      <td>NaN</td>\n",
       "      <td>E06000031</td>\n",
       "    </tr>\n",
       "    <tr>\n",
       "      <th>1</th>\n",
       "      <td>1</td>\n",
       "      <td>CB400630</td>\n",
       "      <td>2</td>\n",
       "      <td>CB400630-2</td>\n",
       "      <td>True</td>\n",
       "      <td>Freehold</td>\n",
       "      <td>NaN</td>\n",
       "      <td>NaN</td>\n",
       "      <td>NaN</td>\n",
       "      <td>4</td>\n",
       "      <td>...</td>\n",
       "      <td>CITY OF PETERBOROUGH</td>\n",
       "      <td>CITY OF PETERBOROUGH</td>\n",
       "      <td>EAST ANGLIA</td>\n",
       "      <td>N</td>\n",
       "      <td>NaN</td>\n",
       "      <td>2-24 (even) Miller Way, 15-25 Hammonds Drive (...</td>\n",
       "      <td>NaN</td>\n",
       "      <td>NaN</td>\n",
       "      <td>NaN</td>\n",
       "      <td>E06000031</td>\n",
       "    </tr>\n",
       "    <tr>\n",
       "      <th>2</th>\n",
       "      <td>2</td>\n",
       "      <td>CB400630</td>\n",
       "      <td>3</td>\n",
       "      <td>CB400630-3</td>\n",
       "      <td>True</td>\n",
       "      <td>Freehold</td>\n",
       "      <td>NaN</td>\n",
       "      <td>NaN</td>\n",
       "      <td>NaN</td>\n",
       "      <td>6</td>\n",
       "      <td>...</td>\n",
       "      <td>CITY OF PETERBOROUGH</td>\n",
       "      <td>CITY OF PETERBOROUGH</td>\n",
       "      <td>EAST ANGLIA</td>\n",
       "      <td>N</td>\n",
       "      <td>NaN</td>\n",
       "      <td>2-24 (even) Miller Way, 15-25 Hammonds Drive (...</td>\n",
       "      <td>NaN</td>\n",
       "      <td>NaN</td>\n",
       "      <td>NaN</td>\n",
       "      <td>E06000031</td>\n",
       "    </tr>\n",
       "    <tr>\n",
       "      <th>3</th>\n",
       "      <td>3</td>\n",
       "      <td>CB400630</td>\n",
       "      <td>4</td>\n",
       "      <td>CB400630-4</td>\n",
       "      <td>True</td>\n",
       "      <td>Freehold</td>\n",
       "      <td>NaN</td>\n",
       "      <td>NaN</td>\n",
       "      <td>NaN</td>\n",
       "      <td>8</td>\n",
       "      <td>...</td>\n",
       "      <td>CITY OF PETERBOROUGH</td>\n",
       "      <td>CITY OF PETERBOROUGH</td>\n",
       "      <td>EAST ANGLIA</td>\n",
       "      <td>N</td>\n",
       "      <td>NaN</td>\n",
       "      <td>2-24 (even) Miller Way, 15-25 Hammonds Drive (...</td>\n",
       "      <td>NaN</td>\n",
       "      <td>NaN</td>\n",
       "      <td>NaN</td>\n",
       "      <td>E06000031</td>\n",
       "    </tr>\n",
       "    <tr>\n",
       "      <th>4</th>\n",
       "      <td>4</td>\n",
       "      <td>CB400630</td>\n",
       "      <td>5</td>\n",
       "      <td>CB400630-5</td>\n",
       "      <td>True</td>\n",
       "      <td>Freehold</td>\n",
       "      <td>NaN</td>\n",
       "      <td>NaN</td>\n",
       "      <td>NaN</td>\n",
       "      <td>10</td>\n",
       "      <td>...</td>\n",
       "      <td>CITY OF PETERBOROUGH</td>\n",
       "      <td>CITY OF PETERBOROUGH</td>\n",
       "      <td>EAST ANGLIA</td>\n",
       "      <td>N</td>\n",
       "      <td>NaN</td>\n",
       "      <td>2-24 (even) Miller Way, 15-25 Hammonds Drive (...</td>\n",
       "      <td>NaN</td>\n",
       "      <td>NaN</td>\n",
       "      <td>NaN</td>\n",
       "      <td>E06000031</td>\n",
       "    </tr>\n",
       "    <tr>\n",
       "      <th>...</th>\n",
       "      <td>...</td>\n",
       "      <td>...</td>\n",
       "      <td>...</td>\n",
       "      <td>...</td>\n",
       "      <td>...</td>\n",
       "      <td>...</td>\n",
       "      <td>...</td>\n",
       "      <td>...</td>\n",
       "      <td>...</td>\n",
       "      <td>...</td>\n",
       "      <td>...</td>\n",
       "      <td>...</td>\n",
       "      <td>...</td>\n",
       "      <td>...</td>\n",
       "      <td>...</td>\n",
       "      <td>...</td>\n",
       "      <td>...</td>\n",
       "      <td>...</td>\n",
       "      <td>...</td>\n",
       "      <td>...</td>\n",
       "      <td>...</td>\n",
       "    </tr>\n",
       "    <tr>\n",
       "      <th>157258</th>\n",
       "      <td>82637</td>\n",
       "      <td>SY150183</td>\n",
       "      <td>1</td>\n",
       "      <td>SY150183-1</td>\n",
       "      <td>False</td>\n",
       "      <td>Freehold</td>\n",
       "      <td>NaN</td>\n",
       "      <td>NaN</td>\n",
       "      <td>NaN</td>\n",
       "      <td>NaN</td>\n",
       "      <td>...</td>\n",
       "      <td>WAVERLEY</td>\n",
       "      <td>SURREY</td>\n",
       "      <td>SOUTH EAST</td>\n",
       "      <td>N</td>\n",
       "      <td>NaN</td>\n",
       "      <td>House In The Wood, Churt Road, Hindhead (GU26 ...</td>\n",
       "      <td>gu262ht</td>\n",
       "      <td>NaN</td>\n",
       "      <td>NaN</td>\n",
       "      <td>NaN</td>\n",
       "    </tr>\n",
       "    <tr>\n",
       "      <th>157360</th>\n",
       "      <td>82739</td>\n",
       "      <td>AGL171500</td>\n",
       "      <td>1</td>\n",
       "      <td>AGL171500-1</td>\n",
       "      <td>False</td>\n",
       "      <td>Leasehold</td>\n",
       "      <td>NaN</td>\n",
       "      <td>NaN</td>\n",
       "      <td>NaN</td>\n",
       "      <td>NaN</td>\n",
       "      <td>...</td>\n",
       "      <td>BARNET</td>\n",
       "      <td>GREATER LONDON</td>\n",
       "      <td>GREATER LONDON</td>\n",
       "      <td>N</td>\n",
       "      <td>NaN</td>\n",
       "      <td>Retail Premises, The Edge, Greyhound Hill, Lon...</td>\n",
       "      <td>nw41ub</td>\n",
       "      <td>NaN</td>\n",
       "      <td>NaN</td>\n",
       "      <td>NaN</td>\n",
       "    </tr>\n",
       "    <tr>\n",
       "      <th>158035</th>\n",
       "      <td>83414</td>\n",
       "      <td>NGL886475</td>\n",
       "      <td>1</td>\n",
       "      <td>NGL886475-1</td>\n",
       "      <td>False</td>\n",
       "      <td>Freehold</td>\n",
       "      <td>NaN</td>\n",
       "      <td>NaN</td>\n",
       "      <td>NaN</td>\n",
       "      <td>NaN</td>\n",
       "      <td>...</td>\n",
       "      <td>CITY OF LONDON</td>\n",
       "      <td>GREATER LONDON</td>\n",
       "      <td>GREATER LONDON</td>\n",
       "      <td>N</td>\n",
       "      <td>NaN</td>\n",
       "      <td>subsoil adjoining 35 Basinghall Avenue, London...</td>\n",
       "      <td>ec2v2de</td>\n",
       "      <td>NaN</td>\n",
       "      <td>NaN</td>\n",
       "      <td>NaN</td>\n",
       "    </tr>\n",
       "    <tr>\n",
       "      <th>159195</th>\n",
       "      <td>84574</td>\n",
       "      <td>NGL875740</td>\n",
       "      <td>1</td>\n",
       "      <td>NGL875740-1</td>\n",
       "      <td>False</td>\n",
       "      <td>Leasehold</td>\n",
       "      <td>NaN</td>\n",
       "      <td>NaN</td>\n",
       "      <td>NaN</td>\n",
       "      <td>130 to 132</td>\n",
       "      <td>...</td>\n",
       "      <td>CAMDEN</td>\n",
       "      <td>GREATER LONDON</td>\n",
       "      <td>GREATER LONDON</td>\n",
       "      <td>N</td>\n",
       "      <td>NaN</td>\n",
       "      <td>Premises at 130 to 132 High Holborn, London (W...</td>\n",
       "      <td>wc1u6pu</td>\n",
       "      <td>NaN</td>\n",
       "      <td>NaN</td>\n",
       "      <td>NaN</td>\n",
       "    </tr>\n",
       "    <tr>\n",
       "      <th>162104</th>\n",
       "      <td>87483</td>\n",
       "      <td>AGL353437</td>\n",
       "      <td>1</td>\n",
       "      <td>AGL353437-1</td>\n",
       "      <td>False</td>\n",
       "      <td>Leasehold</td>\n",
       "      <td>712</td>\n",
       "      <td>store</td>\n",
       "      <td>minster court</td>\n",
       "      <td>NaN</td>\n",
       "      <td>...</td>\n",
       "      <td>CITY OF LONDON</td>\n",
       "      <td>GREATER LONDON</td>\n",
       "      <td>GREATER LONDON</td>\n",
       "      <td>N</td>\n",
       "      <td>NaN</td>\n",
       "      <td>Storeroom 8 Unit 712, 2 Minster Court, Mincing...</td>\n",
       "      <td>ec37dd</td>\n",
       "      <td>NaN</td>\n",
       "      <td>NaN</td>\n",
       "      <td>NaN</td>\n",
       "    </tr>\n",
       "  </tbody>\n",
       "</table>\n",
       "<p>58302 rows × 23 columns</p>\n",
       "</div>"
      ],
      "text/plain": [
       "        Unnamed: 0 title_number  within_title_id    unique_id  \\\n",
       "0                0     CB400630                1   CB400630-1   \n",
       "1                1     CB400630                2   CB400630-2   \n",
       "2                2     CB400630                3   CB400630-3   \n",
       "3                3     CB400630                4   CB400630-4   \n",
       "4                4     CB400630                5   CB400630-5   \n",
       "...            ...          ...              ...          ...   \n",
       "157258       82637     SY150183                1   SY150183-1   \n",
       "157360       82739    AGL171500                1  AGL171500-1   \n",
       "158035       83414    NGL886475                1  NGL886475-1   \n",
       "159195       84574    NGL875740                1  NGL875740-1   \n",
       "162104       87483    AGL353437                1  AGL353437-1   \n",
       "\n",
       "        within_larger_title     tenure unit_id unit_type  building_name  \\\n",
       "0                      True   Freehold     NaN       NaN            NaN   \n",
       "1                      True   Freehold     NaN       NaN            NaN   \n",
       "2                      True   Freehold     NaN       NaN            NaN   \n",
       "3                      True   Freehold     NaN       NaN            NaN   \n",
       "4                      True   Freehold     NaN       NaN            NaN   \n",
       "...                     ...        ...     ...       ...            ...   \n",
       "157258                False   Freehold     NaN       NaN            NaN   \n",
       "157360                False  Leasehold     NaN       NaN            NaN   \n",
       "158035                False   Freehold     NaN       NaN            NaN   \n",
       "159195                False  Leasehold     NaN       NaN            NaN   \n",
       "162104                False  Leasehold     712     store  minster court   \n",
       "\n",
       "       street_number  ...              district                county  \\\n",
       "0                  2  ...  CITY OF PETERBOROUGH  CITY OF PETERBOROUGH   \n",
       "1                  4  ...  CITY OF PETERBOROUGH  CITY OF PETERBOROUGH   \n",
       "2                  6  ...  CITY OF PETERBOROUGH  CITY OF PETERBOROUGH   \n",
       "3                  8  ...  CITY OF PETERBOROUGH  CITY OF PETERBOROUGH   \n",
       "4                 10  ...  CITY OF PETERBOROUGH  CITY OF PETERBOROUGH   \n",
       "...              ...  ...                   ...                   ...   \n",
       "157258           NaN  ...              WAVERLEY                SURREY   \n",
       "157360           NaN  ...                BARNET        GREATER LONDON   \n",
       "158035           NaN  ...        CITY OF LONDON        GREATER LONDON   \n",
       "159195    130 to 132  ...                CAMDEN        GREATER LONDON   \n",
       "162104           NaN  ...        CITY OF LONDON        GREATER LONDON   \n",
       "\n",
       "                region multiple_address_indicator price_paid  \\\n",
       "0          EAST ANGLIA                          N        NaN   \n",
       "1          EAST ANGLIA                          N        NaN   \n",
       "2          EAST ANGLIA                          N        NaN   \n",
       "3          EAST ANGLIA                          N        NaN   \n",
       "4          EAST ANGLIA                          N        NaN   \n",
       "...                ...                        ...        ...   \n",
       "157258      SOUTH EAST                          N        NaN   \n",
       "157360  GREATER LONDON                          N        NaN   \n",
       "158035  GREATER LONDON                          N        NaN   \n",
       "159195  GREATER LONDON                          N        NaN   \n",
       "162104  GREATER LONDON                          N        NaN   \n",
       "\n",
       "                                         property_address postcode2  lsoa11cd  \\\n",
       "0       2-24 (even) Miller Way, 15-25 Hammonds Drive (...       NaN       NaN   \n",
       "1       2-24 (even) Miller Way, 15-25 Hammonds Drive (...       NaN       NaN   \n",
       "2       2-24 (even) Miller Way, 15-25 Hammonds Drive (...       NaN       NaN   \n",
       "3       2-24 (even) Miller Way, 15-25 Hammonds Drive (...       NaN       NaN   \n",
       "4       2-24 (even) Miller Way, 15-25 Hammonds Drive (...       NaN       NaN   \n",
       "...                                                   ...       ...       ...   \n",
       "157258  House In The Wood, Churt Road, Hindhead (GU26 ...   gu262ht       NaN   \n",
       "157360  Retail Premises, The Edge, Greyhound Hill, Lon...    nw41ub       NaN   \n",
       "158035  subsoil adjoining 35 Basinghall Avenue, London...   ec2v2de       NaN   \n",
       "159195  Premises at 130 to 132 High Holborn, London (W...   wc1u6pu       NaN   \n",
       "162104  Storeroom 8 Unit 712, 2 Minster Court, Mincing...    ec37dd       NaN   \n",
       "\n",
       "       msoa11cd    lad11cd  \n",
       "0           NaN  E06000031  \n",
       "1           NaN  E06000031  \n",
       "2           NaN  E06000031  \n",
       "3           NaN  E06000031  \n",
       "4           NaN  E06000031  \n",
       "...         ...        ...  \n",
       "157258      NaN        NaN  \n",
       "157360      NaN        NaN  \n",
       "158035      NaN        NaN  \n",
       "159195      NaN        NaN  \n",
       "162104      NaN        NaN  \n",
       "\n",
       "[58302 rows x 23 columns]"
      ]
     },
     "execution_count": 151,
     "metadata": {},
     "output_type": "execute_result"
    }
   ],
   "source": [
    "ocod_data['lsoa2'] = np.nan\n",
    "\n",
    "ocod_data.loc[ocod_data.lsoa11cd.isnull(), 'lsoa2'] = []"
   ]
  },
  {
   "cell_type": "code",
   "execution_count": null,
   "id": "86f33676",
   "metadata": {},
   "outputs": [],
   "source": []
  },
  {
   "cell_type": "code",
   "execution_count": 11,
   "id": "753a2090",
   "metadata": {},
   "outputs": [],
   "source": [
    "price_paid_df.groupby(['street', 'town','district', 'lsoa11']).size().reset_index().rename(columns = {0:'counts'}).groupby('counts').size().to_csv('/tf/empty_homes_data/delete_me.csv')"
   ]
  },
  {
   "cell_type": "code",
   "execution_count": 117,
   "id": "7591bf53",
   "metadata": {},
   "outputs": [],
   "source": [
    "price_paid_df.groupby(['street', 'district', 'locality', 'lsoa11']).size().reset_index().groupby(['street', 'district', 'locality']).\\\n",
    "size().reset_index().rename(columns = {0:'counts'}).sort_values('counts', ascending = False).to_csv('/tf/empty_homes_data/delete_me.csv')"
   ]
  },
  {
   "cell_type": "code",
   "execution_count": 118,
   "id": "34512deb",
   "metadata": {},
   "outputs": [
    {
     "data": {
      "text/plain": [
       "counts\n",
       "1     0.955141\n",
       "2     0.037965\n",
       "3     0.004908\n",
       "4     0.001419\n",
       "5     0.000355\n",
       "6     0.000135\n",
       "7     0.000045\n",
       "8     0.000013\n",
       "9     0.000013\n",
       "11    0.000006\n",
       "dtype: float64"
      ]
     },
     "execution_count": 118,
     "metadata": {},
     "output_type": "execute_result"
    }
   ],
   "source": [
    "#95.5% of sets have only a single lsoa, when grouped by street, town, district and locality\n",
    "#when grouped by only street and district, this number is still 90%\n",
    "#excluding town the number is still 0.95% but dropping locality gives a match on 91%, therefore using locality is the key\n",
    "temp = price_paid_df.groupby(['street', 'district', 'locality', 'lsoa11']).size().reset_index().groupby(['street', 'district', 'locality']).size()\\\n",
    ".reset_index()\n",
    "\n",
    "temp.rename(columns = {0:'counts'}).groupby('counts').size()/temp.shape[0]"
   ]
  },
  {
   "cell_type": "code",
   "execution_count": 40,
   "id": "79049044",
   "metadata": {},
   "outputs": [
    {
     "data": {
      "text/html": [
       "<div>\n",
       "<style scoped>\n",
       "    .dataframe tbody tr th:only-of-type {\n",
       "        vertical-align: middle;\n",
       "    }\n",
       "\n",
       "    .dataframe tbody tr th {\n",
       "        vertical-align: top;\n",
       "    }\n",
       "\n",
       "    .dataframe thead th {\n",
       "        text-align: right;\n",
       "    }\n",
       "</style>\n",
       "<table border=\"1\" class=\"dataframe\">\n",
       "  <thead>\n",
       "    <tr style=\"text-align: right;\">\n",
       "      <th></th>\n",
       "      <th>Unnamed: 0</th>\n",
       "      <th>title_number</th>\n",
       "      <th>within_title_id</th>\n",
       "      <th>unique_id</th>\n",
       "      <th>within_larger_title</th>\n",
       "      <th>tenure</th>\n",
       "      <th>unit_id</th>\n",
       "      <th>unit_type</th>\n",
       "      <th>building_name</th>\n",
       "      <th>street_number</th>\n",
       "      <th>...</th>\n",
       "      <th>district</th>\n",
       "      <th>county</th>\n",
       "      <th>region</th>\n",
       "      <th>multiple_address_indicator</th>\n",
       "      <th>price_paid</th>\n",
       "      <th>property_address</th>\n",
       "      <th>postcode2</th>\n",
       "      <th>lsoa11</th>\n",
       "      <th>msoa11</th>\n",
       "      <th>lad11cd</th>\n",
       "    </tr>\n",
       "  </thead>\n",
       "  <tbody>\n",
       "    <tr>\n",
       "      <th>0</th>\n",
       "      <td>0</td>\n",
       "      <td>CB400630</td>\n",
       "      <td>1</td>\n",
       "      <td>CB400630-1</td>\n",
       "      <td>True</td>\n",
       "      <td>Freehold</td>\n",
       "      <td>NaN</td>\n",
       "      <td>NaN</td>\n",
       "      <td>NaN</td>\n",
       "      <td>2</td>\n",
       "      <td>...</td>\n",
       "      <td>CITY OF PETERBOROUGH</td>\n",
       "      <td>CITY OF PETERBOROUGH</td>\n",
       "      <td>EAST ANGLIA</td>\n",
       "      <td>N</td>\n",
       "      <td>NaN</td>\n",
       "      <td>2-24 (even) Miller Way, 15-25 Hammonds Drive (...</td>\n",
       "      <td>NaN</td>\n",
       "      <td>NaN</td>\n",
       "      <td>NaN</td>\n",
       "      <td>E06000031</td>\n",
       "    </tr>\n",
       "    <tr>\n",
       "      <th>1</th>\n",
       "      <td>1</td>\n",
       "      <td>CB400630</td>\n",
       "      <td>2</td>\n",
       "      <td>CB400630-2</td>\n",
       "      <td>True</td>\n",
       "      <td>Freehold</td>\n",
       "      <td>NaN</td>\n",
       "      <td>NaN</td>\n",
       "      <td>NaN</td>\n",
       "      <td>4</td>\n",
       "      <td>...</td>\n",
       "      <td>CITY OF PETERBOROUGH</td>\n",
       "      <td>CITY OF PETERBOROUGH</td>\n",
       "      <td>EAST ANGLIA</td>\n",
       "      <td>N</td>\n",
       "      <td>NaN</td>\n",
       "      <td>2-24 (even) Miller Way, 15-25 Hammonds Drive (...</td>\n",
       "      <td>NaN</td>\n",
       "      <td>NaN</td>\n",
       "      <td>NaN</td>\n",
       "      <td>E06000031</td>\n",
       "    </tr>\n",
       "    <tr>\n",
       "      <th>2</th>\n",
       "      <td>2</td>\n",
       "      <td>CB400630</td>\n",
       "      <td>3</td>\n",
       "      <td>CB400630-3</td>\n",
       "      <td>True</td>\n",
       "      <td>Freehold</td>\n",
       "      <td>NaN</td>\n",
       "      <td>NaN</td>\n",
       "      <td>NaN</td>\n",
       "      <td>6</td>\n",
       "      <td>...</td>\n",
       "      <td>CITY OF PETERBOROUGH</td>\n",
       "      <td>CITY OF PETERBOROUGH</td>\n",
       "      <td>EAST ANGLIA</td>\n",
       "      <td>N</td>\n",
       "      <td>NaN</td>\n",
       "      <td>2-24 (even) Miller Way, 15-25 Hammonds Drive (...</td>\n",
       "      <td>NaN</td>\n",
       "      <td>NaN</td>\n",
       "      <td>NaN</td>\n",
       "      <td>E06000031</td>\n",
       "    </tr>\n",
       "    <tr>\n",
       "      <th>3</th>\n",
       "      <td>3</td>\n",
       "      <td>CB400630</td>\n",
       "      <td>4</td>\n",
       "      <td>CB400630-4</td>\n",
       "      <td>True</td>\n",
       "      <td>Freehold</td>\n",
       "      <td>NaN</td>\n",
       "      <td>NaN</td>\n",
       "      <td>NaN</td>\n",
       "      <td>8</td>\n",
       "      <td>...</td>\n",
       "      <td>CITY OF PETERBOROUGH</td>\n",
       "      <td>CITY OF PETERBOROUGH</td>\n",
       "      <td>EAST ANGLIA</td>\n",
       "      <td>N</td>\n",
       "      <td>NaN</td>\n",
       "      <td>2-24 (even) Miller Way, 15-25 Hammonds Drive (...</td>\n",
       "      <td>NaN</td>\n",
       "      <td>NaN</td>\n",
       "      <td>NaN</td>\n",
       "      <td>E06000031</td>\n",
       "    </tr>\n",
       "    <tr>\n",
       "      <th>4</th>\n",
       "      <td>4</td>\n",
       "      <td>CB400630</td>\n",
       "      <td>5</td>\n",
       "      <td>CB400630-5</td>\n",
       "      <td>True</td>\n",
       "      <td>Freehold</td>\n",
       "      <td>NaN</td>\n",
       "      <td>NaN</td>\n",
       "      <td>NaN</td>\n",
       "      <td>10</td>\n",
       "      <td>...</td>\n",
       "      <td>CITY OF PETERBOROUGH</td>\n",
       "      <td>CITY OF PETERBOROUGH</td>\n",
       "      <td>EAST ANGLIA</td>\n",
       "      <td>N</td>\n",
       "      <td>NaN</td>\n",
       "      <td>2-24 (even) Miller Way, 15-25 Hammonds Drive (...</td>\n",
       "      <td>NaN</td>\n",
       "      <td>NaN</td>\n",
       "      <td>NaN</td>\n",
       "      <td>E06000031</td>\n",
       "    </tr>\n",
       "    <tr>\n",
       "      <th>...</th>\n",
       "      <td>...</td>\n",
       "      <td>...</td>\n",
       "      <td>...</td>\n",
       "      <td>...</td>\n",
       "      <td>...</td>\n",
       "      <td>...</td>\n",
       "      <td>...</td>\n",
       "      <td>...</td>\n",
       "      <td>...</td>\n",
       "      <td>...</td>\n",
       "      <td>...</td>\n",
       "      <td>...</td>\n",
       "      <td>...</td>\n",
       "      <td>...</td>\n",
       "      <td>...</td>\n",
       "      <td>...</td>\n",
       "      <td>...</td>\n",
       "      <td>...</td>\n",
       "      <td>...</td>\n",
       "      <td>...</td>\n",
       "      <td>...</td>\n",
       "    </tr>\n",
       "    <tr>\n",
       "      <th>162119</th>\n",
       "      <td>87498</td>\n",
       "      <td>AGL465007</td>\n",
       "      <td>1</td>\n",
       "      <td>AGL465007-1</td>\n",
       "      <td>False</td>\n",
       "      <td>Leasehold</td>\n",
       "      <td>807</td>\n",
       "      <td>flat</td>\n",
       "      <td>heritage tower</td>\n",
       "      <td>118</td>\n",
       "      <td>...</td>\n",
       "      <td>TOWER HAMLETS</td>\n",
       "      <td>GREATER LONDON</td>\n",
       "      <td>GREATER LONDON</td>\n",
       "      <td>N</td>\n",
       "      <td>479950.0</td>\n",
       "      <td>Flat 807, Heritage Tower, 118 East Ferry Road,...</td>\n",
       "      <td>e143nw</td>\n",
       "      <td>E01004215</td>\n",
       "      <td>E02000891</td>\n",
       "      <td>E09000030</td>\n",
       "    </tr>\n",
       "    <tr>\n",
       "      <th>162120</th>\n",
       "      <td>87499</td>\n",
       "      <td>AGL465195</td>\n",
       "      <td>1</td>\n",
       "      <td>AGL465195-1</td>\n",
       "      <td>False</td>\n",
       "      <td>Leasehold</td>\n",
       "      <td>NaN</td>\n",
       "      <td>NaN</td>\n",
       "      <td>ormond house</td>\n",
       "      <td>4t</td>\n",
       "      <td>...</td>\n",
       "      <td>CITY OF LONDON</td>\n",
       "      <td>GREATER LONDON</td>\n",
       "      <td>GREATER LONDON</td>\n",
       "      <td>N</td>\n",
       "      <td>NaN</td>\n",
       "      <td>4th Floor, Ormond House, 63 Queen Victoria Str...</td>\n",
       "      <td>ec4n4ua</td>\n",
       "      <td>E01032739</td>\n",
       "      <td>E02000001</td>\n",
       "      <td>E09000001</td>\n",
       "    </tr>\n",
       "    <tr>\n",
       "      <th>162121</th>\n",
       "      <td>87500</td>\n",
       "      <td>AGL473126</td>\n",
       "      <td>1</td>\n",
       "      <td>AGL473126-1</td>\n",
       "      <td>False</td>\n",
       "      <td>Leasehold</td>\n",
       "      <td>NaN</td>\n",
       "      <td>NaN</td>\n",
       "      <td>NaN</td>\n",
       "      <td>155</td>\n",
       "      <td>...</td>\n",
       "      <td>CITY OF LONDON</td>\n",
       "      <td>GREATER LONDON</td>\n",
       "      <td>GREATER LONDON</td>\n",
       "      <td>N</td>\n",
       "      <td>NaN</td>\n",
       "      <td>155 Bishopsgate, London (EC2M 3AD)</td>\n",
       "      <td>ec2m3ad</td>\n",
       "      <td>E01032739</td>\n",
       "      <td>E02000001</td>\n",
       "      <td>E09000001</td>\n",
       "    </tr>\n",
       "    <tr>\n",
       "      <th>162122</th>\n",
       "      <td>87501</td>\n",
       "      <td>AGL475468</td>\n",
       "      <td>1</td>\n",
       "      <td>AGL475468-1</td>\n",
       "      <td>False</td>\n",
       "      <td>Leasehold</td>\n",
       "      <td>NaN</td>\n",
       "      <td>NaN</td>\n",
       "      <td>NaN</td>\n",
       "      <td>NaN</td>\n",
       "      <td>...</td>\n",
       "      <td>CITY OF LONDON</td>\n",
       "      <td>GREATER LONDON</td>\n",
       "      <td>GREATER LONDON</td>\n",
       "      <td>N</td>\n",
       "      <td>NaN</td>\n",
       "      <td>part of Tenth Floor, 6 Bevis Marks, London (EC...</td>\n",
       "      <td>ec3a7ba</td>\n",
       "      <td>E01032739</td>\n",
       "      <td>E02000001</td>\n",
       "      <td>E09000001</td>\n",
       "    </tr>\n",
       "    <tr>\n",
       "      <th>162123</th>\n",
       "      <td>87502</td>\n",
       "      <td>AGL476501</td>\n",
       "      <td>1</td>\n",
       "      <td>AGL476501-1</td>\n",
       "      <td>False</td>\n",
       "      <td>Leasehold</td>\n",
       "      <td>NaN</td>\n",
       "      <td>storage</td>\n",
       "      <td>NaN</td>\n",
       "      <td>3</td>\n",
       "      <td>...</td>\n",
       "      <td>TOWER HAMLETS</td>\n",
       "      <td>GREATER LONDON</td>\n",
       "      <td>GREATER LONDON</td>\n",
       "      <td>N</td>\n",
       "      <td>NaN</td>\n",
       "      <td>Storage 17, Discovery Dock Apartments East, 3 ...</td>\n",
       "      <td>e149ru</td>\n",
       "      <td>E01032771</td>\n",
       "      <td>E02006854</td>\n",
       "      <td>E09000030</td>\n",
       "    </tr>\n",
       "  </tbody>\n",
       "</table>\n",
       "<p>162124 rows × 23 columns</p>\n",
       "</div>"
      ],
      "text/plain": [
       "        Unnamed: 0 title_number  within_title_id    unique_id  \\\n",
       "0                0     CB400630                1   CB400630-1   \n",
       "1                1     CB400630                2   CB400630-2   \n",
       "2                2     CB400630                3   CB400630-3   \n",
       "3                3     CB400630                4   CB400630-4   \n",
       "4                4     CB400630                5   CB400630-5   \n",
       "...            ...          ...              ...          ...   \n",
       "162119       87498    AGL465007                1  AGL465007-1   \n",
       "162120       87499    AGL465195                1  AGL465195-1   \n",
       "162121       87500    AGL473126                1  AGL473126-1   \n",
       "162122       87501    AGL475468                1  AGL475468-1   \n",
       "162123       87502    AGL476501                1  AGL476501-1   \n",
       "\n",
       "        within_larger_title     tenure unit_id unit_type   building_name  \\\n",
       "0                      True   Freehold     NaN       NaN             NaN   \n",
       "1                      True   Freehold     NaN       NaN             NaN   \n",
       "2                      True   Freehold     NaN       NaN             NaN   \n",
       "3                      True   Freehold     NaN       NaN             NaN   \n",
       "4                      True   Freehold     NaN       NaN             NaN   \n",
       "...                     ...        ...     ...       ...             ...   \n",
       "162119                False  Leasehold     807      flat  heritage tower   \n",
       "162120                False  Leasehold     NaN       NaN    ormond house   \n",
       "162121                False  Leasehold     NaN       NaN             NaN   \n",
       "162122                False  Leasehold     NaN       NaN             NaN   \n",
       "162123                False  Leasehold     NaN   storage             NaN   \n",
       "\n",
       "       street_number  ...              district                county  \\\n",
       "0                  2  ...  CITY OF PETERBOROUGH  CITY OF PETERBOROUGH   \n",
       "1                  4  ...  CITY OF PETERBOROUGH  CITY OF PETERBOROUGH   \n",
       "2                  6  ...  CITY OF PETERBOROUGH  CITY OF PETERBOROUGH   \n",
       "3                  8  ...  CITY OF PETERBOROUGH  CITY OF PETERBOROUGH   \n",
       "4                 10  ...  CITY OF PETERBOROUGH  CITY OF PETERBOROUGH   \n",
       "...              ...  ...                   ...                   ...   \n",
       "162119           118  ...         TOWER HAMLETS        GREATER LONDON   \n",
       "162120            4t  ...        CITY OF LONDON        GREATER LONDON   \n",
       "162121           155  ...        CITY OF LONDON        GREATER LONDON   \n",
       "162122           NaN  ...        CITY OF LONDON        GREATER LONDON   \n",
       "162123             3  ...         TOWER HAMLETS        GREATER LONDON   \n",
       "\n",
       "                region multiple_address_indicator price_paid  \\\n",
       "0          EAST ANGLIA                          N        NaN   \n",
       "1          EAST ANGLIA                          N        NaN   \n",
       "2          EAST ANGLIA                          N        NaN   \n",
       "3          EAST ANGLIA                          N        NaN   \n",
       "4          EAST ANGLIA                          N        NaN   \n",
       "...                ...                        ...        ...   \n",
       "162119  GREATER LONDON                          N   479950.0   \n",
       "162120  GREATER LONDON                          N        NaN   \n",
       "162121  GREATER LONDON                          N        NaN   \n",
       "162122  GREATER LONDON                          N        NaN   \n",
       "162123  GREATER LONDON                          N        NaN   \n",
       "\n",
       "                                         property_address postcode2  \\\n",
       "0       2-24 (even) Miller Way, 15-25 Hammonds Drive (...       NaN   \n",
       "1       2-24 (even) Miller Way, 15-25 Hammonds Drive (...       NaN   \n",
       "2       2-24 (even) Miller Way, 15-25 Hammonds Drive (...       NaN   \n",
       "3       2-24 (even) Miller Way, 15-25 Hammonds Drive (...       NaN   \n",
       "4       2-24 (even) Miller Way, 15-25 Hammonds Drive (...       NaN   \n",
       "...                                                   ...       ...   \n",
       "162119  Flat 807, Heritage Tower, 118 East Ferry Road,...    e143nw   \n",
       "162120  4th Floor, Ormond House, 63 Queen Victoria Str...   ec4n4ua   \n",
       "162121                 155 Bishopsgate, London (EC2M 3AD)   ec2m3ad   \n",
       "162122  part of Tenth Floor, 6 Bevis Marks, London (EC...   ec3a7ba   \n",
       "162123  Storage 17, Discovery Dock Apartments East, 3 ...    e149ru   \n",
       "\n",
       "           lsoa11     msoa11    lad11cd  \n",
       "0             NaN        NaN  E06000031  \n",
       "1             NaN        NaN  E06000031  \n",
       "2             NaN        NaN  E06000031  \n",
       "3             NaN        NaN  E06000031  \n",
       "4             NaN        NaN  E06000031  \n",
       "...           ...        ...        ...  \n",
       "162119  E01004215  E02000891  E09000030  \n",
       "162120  E01032739  E02000001  E09000001  \n",
       "162121  E01032739  E02000001  E09000001  \n",
       "162122  E01032739  E02000001  E09000001  \n",
       "162123  E01032771  E02006854  E09000030  \n",
       "\n",
       "[162124 rows x 23 columns]"
      ]
     },
     "execution_count": 40,
     "metadata": {},
     "output_type": "execute_result"
    }
   ],
   "source": [
    "ocod_data"
   ]
  },
  {
   "cell_type": "code",
   "execution_count": 8,
   "id": "598fbbfa",
   "metadata": {},
   "outputs": [
    {
     "data": {
      "text/plain": [
       "unit_type\n",
       "airspace              1551\n",
       "apartment             5188\n",
       "business               321\n",
       "cafe                     6\n",
       "car park space          51\n",
       "car parking space      441\n",
       "cinema                   8\n",
       "flat                 14302\n",
       "garage                 397\n",
       "hotel                   75\n",
       "land                  4645\n",
       "office                  89\n",
       "parking space         1094\n",
       "penthouse               92\n",
       "plot                  2466\n",
       "pub                      1\n",
       "restaurant              17\n",
       "room                   959\n",
       "storage                144\n",
       "store                  173\n",
       "suite                  134\n",
       "unit                  3033\n",
       "dtype: int64"
      ]
     },
     "execution_count": 8,
     "metadata": {},
     "output_type": "execute_result"
    }
   ],
   "source": [
    "ocod_data.groupby('unit_type').size()"
   ]
  },
  {
   "cell_type": "code",
   "execution_count": 9,
   "id": "0ea3e0ea",
   "metadata": {},
   "outputs": [
    {
     "data": {
      "text/plain": [
       "0.3582381387086428"
      ]
     },
     "execution_count": 9,
     "metadata": {},
     "output_type": "execute_result"
    }
   ],
   "source": [
    "ocod_data.postcode.isnull().sum()/ocod_data.shape[0] #How can location be given when missing postcode?"
   ]
  },
  {
   "cell_type": "code",
   "execution_count": null,
   "id": "994e0ec7",
   "metadata": {},
   "outputs": [],
   "source": []
  },
  {
   "cell_type": "code",
   "execution_count": 62,
   "id": "abb76790",
   "metadata": {},
   "outputs": [
    {
     "data": {
      "text/html": [
       "<div>\n",
       "<style scoped>\n",
       "    .dataframe tbody tr th:only-of-type {\n",
       "        vertical-align: middle;\n",
       "    }\n",
       "\n",
       "    .dataframe tbody tr th {\n",
       "        vertical-align: top;\n",
       "    }\n",
       "\n",
       "    .dataframe thead th {\n",
       "        text-align: right;\n",
       "    }\n",
       "</style>\n",
       "<table border=\"1\" class=\"dataframe\">\n",
       "  <thead>\n",
       "    <tr style=\"text-align: right;\">\n",
       "      <th>street_name</th>\n",
       "      <th>False</th>\n",
       "      <th>True</th>\n",
       "    </tr>\n",
       "    <tr>\n",
       "      <th>postcode</th>\n",
       "      <th></th>\n",
       "      <th></th>\n",
       "    </tr>\n",
       "  </thead>\n",
       "  <tbody>\n",
       "    <tr>\n",
       "      <th>False</th>\n",
       "      <td>10163</td>\n",
       "      <td>47916</td>\n",
       "    </tr>\n",
       "    <tr>\n",
       "      <th>True</th>\n",
       "      <td>14927</td>\n",
       "      <td>89118</td>\n",
       "    </tr>\n",
       "  </tbody>\n",
       "</table>\n",
       "</div>"
      ],
      "text/plain": [
       "street_name  False   True\n",
       "postcode                 \n",
       "False        10163  47916\n",
       "True         14927  89118"
      ]
     },
     "execution_count": 62,
     "metadata": {},
     "output_type": "execute_result"
    }
   ],
   "source": [
    "#only 10k have neither postcode nor street name\n",
    "#This means I can try to geomatch using street name. In the best case only 4% of addresses will not be matched\n",
    "pd.crosstab(ocod_data.postcode.notnull(), ocod_data.street_name.notnull())#/ocod_data.shape[0]\n",
    "\n"
   ]
  },
  {
   "cell_type": "markdown",
   "id": "45eb4648",
   "metadata": {},
   "source": [
    "## Load Voa and get business postcodes\n",
    "\n",
    "This alllows businesses to be identified"
   ]
  },
  {
   "cell_type": "code",
   "execution_count": 43,
   "id": "8f5fd67a",
   "metadata": {},
   "outputs": [
    {
     "name": "stderr",
     "output_type": "stream",
     "text": [
      "<ipython-input-43-fbea89a3a0a9>:14: DtypeWarning: Columns (1,2,6,12,13,17,22) have mixed types. Specify dtype option on import or set low_memory=False.\n",
      "  voa_businesses =  pd.read_csv('/tf/empty_homes_data/' +\n",
      "<ipython-input-43-fbea89a3a0a9>:38: FutureWarning: The default value of regex will change from True to False in a future version.\n",
      "  voa_businesses['street_number'] = voa_businesses['number_or_name'].str.replace(r\"(unit|suite)\\s\\d+(,)?\", \"\").str.extract(r\"(\\b[0-9\\-]+$)\")\n",
      "<ipython-input-43-fbea89a3a0a9>:39: FutureWarning: The default value of regex will change from True to False in a future version.\n",
      "  voa_businesses['postcode2'] = voa_businesses['postcode'].str.lower().str.replace(\"\\s\", \"\")\n"
     ]
    }
   ],
   "source": [
    "VOA_headers_raw= [\"Incrementing Entry Number\", \"Billing Authority Code\", \"NDR Community Code\", \n",
    " \"BA Reference Number\", \"Primary And Secondary Description Code\", \"Primary Description Text\",\n",
    "\"Unique Address Reference Number UARN\", \"Full Property Identifier\", \"Firms Name\", \"Number Or Name\",\n",
    "\"Street\", \"Town\", \"Postal District\", \"County\", \"Postcode\", \"Effective Date\", \"Composite Indicator\",\n",
    " \"Rateable Value\", \"Appeal Settlement Code\", \"Assessment Reference\", \"List Alteration Date\", \"SCAT Code And Suffix\",\n",
    " \"Sub Street level 3\", \"Sub Street level 2\", \"Sub Street level 1\", \"Case Number\", \n",
    " \"Current From Date\", \"Current To Date\", \n",
    "]\n",
    "\n",
    "#set to lower and replace spaces with underscore to turn the names into appropriate column names\n",
    "VOA_headers = [x.lower().replace(\" \", \"_\") for x in VOA_headers_raw]\n",
    "\n",
    "\n",
    "voa_businesses =  pd.read_csv('/tf/empty_homes_data/' +\n",
    "                    'uk-englandwales-ndr-2017-listentries-compiled-epoch-0029-baseline-csv.csv',\n",
    "                   sep = \"*\",\n",
    "                   encoding_errors= 'ignore',\n",
    "                    header=None,\n",
    "                   names = VOA_headers,\n",
    "                    index_col = False,\n",
    "                    #usecols = list(range(1,28))\n",
    "                   )\n",
    "voa_businesses['postcode'] = voa_businesses['postcode'].str.lower()\n",
    "voa_businesses['street'] = voa_businesses['street'].str.lower()\n",
    "\n",
    "#this removes advertising hordings which are irrelevant\n",
    "voa_businesses = voa_businesses.loc[voa_businesses['primary_description_text'].str.contains(\"ADVERTISING\")==False,:]\n",
    "#remove several kinds of car parking space\n",
    "voa_businesses = voa_businesses[~voa_businesses['primary_and_secondary_description_code'].isin(['C0', 'CP','CP1', 'CX', 'MX'])]\n",
    "##\n",
    "##\n",
    "## Warning this removes a large amount of columns, these may be interesting for some people\n",
    "##\n",
    "##\n",
    "voa_businesses = voa_businesses.iloc[:,4:15]\n",
    "#Extract the street number\n",
    "#replace unit numbers with nothing to avoid accidentally using them as street numbers\n",
    "voa_businesses['street_number'] = voa_businesses['number_or_name'].str.replace(r\"(unit|suite)\\s\\d+(,)?\", \"\").str.extract(r\"(\\b[0-9\\-]+$)\")\n",
    "voa_businesses['postcode2'] = voa_businesses['postcode'].str.lower().str.replace(\"\\s\", \"\")\n",
    "\n",
    "#add in postcode data and LSOA etc data, this is useful for a range of tasks\n",
    "voa_businesses = voa_businesses.merge(postcode_district_lookup, left_on = 'postcode2', right_on = \"postcode2\")\n",
    "\n",
    "#Create a dataframe that contains the counts of businesses per postcode\n",
    "postcode_counts_voa = voa_businesses.groupby('postcode').size().reset_index(name = 'business_counts')\n",
    "\n",
    "#del voa_businesses\n",
    "\n",
    "ocod_data = pd.merge(ocod_data, postcode_counts_voa, on = \"postcode\", how = \"left\")\n",
    "ocod_data[\"business_counts\"] = ocod_data[\"business_counts\"].fillna(0)\n",
    "\n",
    "#this is quite large and no longer necessary so is removed from the workspace to save memory\n",
    "#del postcode_district_lookup"
   ]
  },
  {
   "cell_type": "code",
   "execution_count": 54,
   "id": "21e678dd",
   "metadata": {
    "scrolled": true
   },
   "outputs": [
    {
     "data": {
      "text/html": [
       "<div>\n",
       "<style scoped>\n",
       "    .dataframe tbody tr th:only-of-type {\n",
       "        vertical-align: middle;\n",
       "    }\n",
       "\n",
       "    .dataframe tbody tr th {\n",
       "        vertical-align: top;\n",
       "    }\n",
       "\n",
       "    .dataframe thead th {\n",
       "        text-align: right;\n",
       "    }\n",
       "</style>\n",
       "<table border=\"1\" class=\"dataframe\">\n",
       "  <thead>\n",
       "    <tr style=\"text-align: right;\">\n",
       "      <th></th>\n",
       "      <th>primary_and_secondary_description_code</th>\n",
       "      <th>primary_description_text</th>\n",
       "      <th>unique_address_reference_number_uarn</th>\n",
       "      <th>full_property_identifier</th>\n",
       "      <th>firms_name</th>\n",
       "      <th>number_or_name</th>\n",
       "      <th>street</th>\n",
       "      <th>town</th>\n",
       "      <th>postal_district</th>\n",
       "      <th>county</th>\n",
       "      <th>postcode</th>\n",
       "      <th>street_number</th>\n",
       "      <th>postcode2</th>\n",
       "      <th>lad11cd</th>\n",
       "      <th>lsoa11</th>\n",
       "      <th>msoa11</th>\n",
       "    </tr>\n",
       "  </thead>\n",
       "  <tbody>\n",
       "  </tbody>\n",
       "</table>\n",
       "</div>"
      ],
      "text/plain": [
       "Empty DataFrame\n",
       "Columns: [primary_and_secondary_description_code, primary_description_text, unique_address_reference_number_uarn, full_property_identifier, firms_name, number_or_name, street, town, postal_district, county, postcode, street_number, postcode2, lad11cd, lsoa11, msoa11]\n",
       "Index: []"
      ]
     },
     "execution_count": 54,
     "metadata": {},
     "output_type": "execute_result"
    }
   ],
   "source": []
  },
  {
   "cell_type": "markdown",
   "id": "2b06dd67",
   "metadata": {},
   "source": [
    "## Creating a voa expander for individual LADs"
   ]
  },
  {
   "cell_type": "code",
   "execution_count": 201,
   "id": "f41e9094",
   "metadata": {},
   "outputs": [
    {
     "name": "stdout",
     "output_type": "stream",
     "text": [
      "0 53-55\n",
      "1 52-62\n",
      "2 320-326\n",
      "3 51-55\n",
      "4 15-17\n",
      "5 5-6\n",
      "6 10-12\n",
      "7 7-8\n",
      "8 6-8\n",
      "9 3-4\n",
      "10 1-2\n",
      "11 55-57\n",
      "12 3-5\n",
      "13 189-193\n",
      "14 59-61\n",
      "15 2-3\n",
      "16 1-3\n",
      "17 1-3\n",
      "18 1-3\n",
      "19 1-3\n",
      "20 1-3\n",
      "21 9-15\n",
      "22 22-24\n",
      "23 64-68\n",
      "24 55-57\n",
      "25 50-52\n",
      "26 20-22\n",
      "27 22-24\n",
      "28 30-32\n",
      "29 143-149\n",
      "30 88-90\n",
      "31 161-165\n",
      "32 161-165\n",
      "33 161-165\n",
      "34 80-82\n",
      "35 144-146\n",
      "36 104-106\n",
      "37 128-132\n",
      "38 62-64\n",
      "39 35-39\n",
      "40 84-86\n",
      "41 42-44\n",
      "42 59-61\n",
      "43 6-8\n",
      "44 88-90\n",
      "45 15-19\n",
      "46 3-5\n",
      "47 30-32\n",
      "48 31-33\n",
      "49 31-33\n",
      "50 77-79\n",
      "51 67-69\n",
      "52 113-115\n",
      "53 54-56\n",
      "54 104-106\n",
      "55 96-98\n",
      "56 6-9\n",
      "57 1-4\n",
      "58 9-11\n",
      "59 177-179\n",
      "60 25-31\n",
      "61 21-31\n",
      "62 109-117\n",
      "63 9-11\n",
      "64 9-11\n",
      "65 9-11\n",
      "66 9-11\n",
      "67 31-33\n",
      "68 14-16\n",
      "69 9-11\n",
      "70 8-10\n",
      "71 7-9\n",
      "72 145-147\n",
      "73 125-127\n",
      "74 113-121\n",
      "75 131-135\n",
      "76 190-192\n",
      "77 1-3\n",
      "78 4-6\n",
      "79 3-4\n",
      "80 1-5\n",
      "81 1-5\n",
      "82 31-33\n",
      "83 40-48\n",
      "84 24-26\n",
      "85 7-9\n",
      "86 7-9\n",
      "87 4-6\n",
      "88 22-24\n",
      "89 28-30\n",
      "90 57-63\n",
      "91 15-17\n",
      "92 13-14\n",
      "93 2-3\n",
      "94 42-44\n",
      "95 46-48\n",
      "96 50-52\n",
      "97 40-44\n",
      "98 42-44\n",
      "99 41-49\n",
      "100 25-29\n",
      "101 31-39\n",
      "102 51-53\n",
      "103 25-29\n",
      "104 57-61\n",
      "105 57-61\n",
      "106 2-4\n",
      "107 34-36\n",
      "108 9-11\n",
      "109 13-15\n",
      "110 5-7\n",
      "111 57-61\n",
      "112 17-23\n",
      "113 17-23\n",
      "114 77-79\n",
      "115 77-79\n",
      "116 71-73\n",
      "117 10-12\n",
      "118 6-8\n",
      "119 126-128\n",
      "120 95-97\n",
      "121 88-94\n",
      "122 201-203\n",
      "123 9-10\n",
      "124 1-2\n",
      "125 160-162\n",
      "126 128-130\n",
      "127 94-96\n",
      "128 90-92\n",
      "129 80-82\n",
      "130 23-25\n",
      "131 31-33\n",
      "132 2-4\n",
      "133 31-33\n",
      "134 31-33\n",
      "135 2-4\n",
      "136 51-53\n",
      "137 61-71\n",
      "138 72-74\n",
      "139 76-78\n",
      "140 80-82\n",
      "141 73-77\n",
      "142 11-15\n",
      "143 11-15\n",
      "144 1-3\n",
      "145 10-16\n",
      "146 10-16\n",
      "147 10-16\n",
      "148 10-16\n",
      "149 10-16\n",
      "150 10-16\n",
      "151 10-16\n",
      "152 18-20\n",
      "153 18-20\n",
      "154 10-16\n",
      "155 1-3\n",
      "156 7-9\n",
      "157 81-83\n",
      "158 51-53\n",
      "159 77-79\n",
      "160 33-35\n",
      "161 21-23\n",
      "162 70-76\n",
      "163 70-76\n",
      "164 80-82\n",
      "165 84-90\n",
      "166 41-45\n",
      "167 1-3\n",
      "168 60-62\n",
      "169 64-66\n",
      "170 58-64\n",
      "171 39-41\n",
      "172 2-3\n",
      "173 1-2\n",
      "174 3-5\n",
      "175 9-14\n",
      "176 121-123\n",
      "177 5-7\n",
      "178 290-298\n",
      "179 264-272\n",
      "180 254-262\n",
      "181 65-67\n",
      "182 57-59\n",
      "183 68-70\n",
      "184 110-112\n",
      "185 106-108\n",
      "186 77-85\n",
      "187 98-100\n",
      "188 73-75\n",
      "189 76-90\n",
      "190 102-104\n",
      "191 114-116\n",
      "192 129-131\n",
      "193 119-121\n",
      "194 123-125\n",
      "195 133-135\n",
      "196 99-105\n",
      "197 99-103\n",
      "198 107-109\n",
      "199 91-93\n",
      "200 86-90\n",
      "201 86-92\n",
      "202 87-89\n",
      "203 173-177\n",
      "204 16-18\n",
      "205 169-171\n",
      "206 181-183\n",
      "207 25-27\n",
      "208 62-64\n",
      "209 143-145\n",
      "210 78-80\n",
      "211 34-36\n",
      "212 34-36\n",
      "213 42-46\n",
      "214 56-60\n",
      "215 9-11\n",
      "216 5-7\n",
      "217 10-12\n",
      "218 23-25\n",
      "219 17-19\n",
      "220 41-43\n",
      "221 4-6\n",
      "222 4-6\n",
      "223 9-11\n",
      "224 52-54\n",
      "225 135-137\n",
      "226 127-133\n",
      "227 135-137\n",
      "228 135-137\n",
      "229 1-3\n",
      "230 1-3\n",
      "231 20-22\n",
      "232 3-5\n",
      "233 91-93\n",
      "234 1-3\n",
      "235 43-53\n",
      "236 43-53\n",
      "237 1-9\n",
      "238 1-3\n",
      "239 88-90\n",
      "240 56-58\n",
      "241 203-205\n",
      "242 28-30\n",
      "243 267-269\n",
      "244 289-291\n",
      "245 231-235\n",
      "246 9-11\n",
      "247 35-37\n",
      "248 43-45\n",
      "249 54-58\n",
      "250 418-422\n",
      "251 38-40\n",
      "252 145-147\n",
      "253 169-175\n",
      "254 3-4\n",
      "255 14-15\n",
      "256 1-5\n",
      "257 15-17\n",
      "258 4-6\n",
      "259 8-10\n",
      "260 8-10\n",
      "261 8-10\n",
      "262 8-10\n",
      "263 8-10\n",
      "264 8-10\n",
      "265 8-10\n",
      "266 31-33\n",
      "267 35-37\n",
      "268 35-37\n",
      "269 35-37\n",
      "270 35-37\n",
      "271 35-37\n",
      "272 35-37\n",
      "273 35-37\n",
      "274 35-37\n",
      "275 35-37\n",
      "276 35-37\n",
      "277 35-37\n",
      "278 35-37\n",
      "279 35-37\n",
      "280 35-37\n",
      "281 35-37\n",
      "282 35-37\n",
      "283 35-37\n",
      "284 35-37\n",
      "285 35-37\n",
      "286 35-37\n",
      "287 35-37\n",
      "288 35-37\n",
      "289 35-37\n",
      "290 27-29\n",
      "291 35-37\n",
      "292 35-37\n",
      "293 1-3\n",
      "294 14-16\n",
      "295 14-16\n",
      "296 30-32\n",
      "297 14-16\n",
      "298 14-16\n",
      "299 14-16\n",
      "300 14-16\n",
      "301 14-16\n",
      "302 14-16\n",
      "303 14-16\n",
      "304 44-46\n",
      "305 57-59\n",
      "306 57-59\n",
      "307 54-56\n",
      "308 71-73\n",
      "309 40-42\n",
      "310 57-59\n",
      "311 194-196\n",
      "312 221-223\n",
      "313 215-217\n",
      "314 215-217\n",
      "315 162-164\n",
      "316 158-160\n",
      "317 158-164\n",
      "318 160-164\n",
      "319 97-99\n",
      "320 123-125\n",
      "321 229-235\n",
      "322 229-235\n",
      "323 229-235\n",
      "324 158-160\n",
      "325 215-217\n",
      "326 215-217\n",
      "327 229-235\n",
      "328 215-217\n",
      "329 215-217\n",
      "330 215-217\n",
      "331 215-217\n",
      "332 215-217\n",
      "333 238-240\n",
      "334 238-240\n",
      "335 129-131\n",
      "336 124-126\n",
      "337 4-6\n",
      "338 96-98\n",
      "339 98-102\n",
      "340 140-142\n",
      "341 118-120\n",
      "342 134-136\n",
      "343 152-154\n",
      "344 58-60\n",
      "345 189-191\n",
      "346 185-187\n",
      "347 164-166\n",
      "348 164-166\n",
      "349 156-158\n",
      "350 103-107\n",
      "351 99-101\n",
      "352 119-121\n",
      "353 7-15\n",
      "354 131-137\n",
      "355 149-151\n",
      "356 163-165\n",
      "357 82-84\n",
      "358 15-17\n",
      "359 60-66\n",
      "360 24-26\n",
      "361 32-34\n",
      "362 14-16\n",
      "363 69-73\n",
      "364 78-80\n",
      "365 40-42\n",
      "366 14-16\n",
      "367 50-52\n",
      "368 34-38\n",
      "369 137-141\n",
      "370 125-127\n",
      "371 125-127\n",
      "372 125-127\n",
      "373 73-75\n",
      "374 1-2\n",
      "375 13-15\n",
      "376 13-15\n",
      "377 5-11\n",
      "378 59-61\n",
      "379 45-47\n",
      "380 8-12\n",
      "381 8-12\n",
      "382 8-12\n",
      "383 3-5\n",
      "384 15-17\n",
      "385 19-21\n",
      "386 27-29\n",
      "387 11-13\n",
      "388 35-39\n",
      "389 4-8\n",
      "390 9-11\n",
      "391 43-47\n",
      "392 43-47\n",
      "393 21-23\n",
      "394 21-23\n",
      "395 211-213\n",
      "396 199-205\n",
      "397 2-3\n",
      "398 6-7\n",
      "399 200-202\n",
      "400 3-5\n",
      "401 14-16\n",
      "402 656-658\n",
      "403 603-609\n",
      "404 627-629\n",
      "405 561-565\n",
      "406 569-573\n",
      "407 169-173\n",
      "408 251-253\n",
      "409 537-553\n",
      "410 309-311\n",
      "411 264-266\n",
      "412 75-77\n",
      "413 18-22\n",
      "414 6-14\n",
      "415 4-14\n",
      "416 24-26\n",
      "417 43-45\n",
      "418 43-45\n",
      "419 29-31\n",
      "420 29-31\n",
      "421 29-31\n",
      "422 95-97\n",
      "423 91-93\n",
      "424 60-62\n",
      "425 3-4\n",
      "426 5-7\n",
      "427 50-52\n",
      "428 56-58\n",
      "429 5-7\n",
      "430 21-23\n",
      "431 19-27\n",
      "432 40-42\n",
      "433 97-99\n",
      "434 81-83\n",
      "435 23-25\n",
      "436 171-173\n",
      "437 10-12\n",
      "438 57-61\n",
      "439 87-89\n",
      "440 87-89\n",
      "441 171-173\n",
      "442 8-9\n",
      "443 92-96\n",
      "444 92-96\n",
      "445 92-96\n",
      "446 207-209\n",
      "447 155-161\n",
      "448 155-161\n",
      "449 179-181\n",
      "450 179-181\n",
      "451 215-219\n",
      "452 215-219\n",
      "453 175-177\n",
      "454 215-219\n",
      "455 199-201\n",
      "456 155-161\n",
      "457 387-389\n",
      "458 413-415\n",
      "459 423-425\n",
      "460 435-437\n",
      "461 409-411\n",
      "462 405-407\n",
      "463 393-397\n",
      "464 539-563\n",
      "465 519-521\n",
      "466 525-527\n",
      "467 617-619\n",
      "468 613-615\n",
      "469 625-627\n",
      "470 591-593\n",
      "471 617-619\n",
      "472 597-599\n",
      "473 1-5\n",
      "474 505-507\n",
      "475 93-105\n",
      "476 335-337\n",
      "477 315-317\n",
      "478 339-341\n",
      "479 355-357\n",
      "480 321-323\n",
      "481 343-345\n",
      "482 321-323\n",
      "483 321-323\n",
      "484 152-154\n",
      "485 137-141\n",
      "486 115-123\n",
      "487 115-123\n",
      "488 129-131\n",
      "489 115-123\n",
      "490 115-123\n",
      "491 497-501\n",
      "492 493-495\n",
      "493 509-511\n",
      "494 229-231\n",
      "495 257-267\n",
      "496 287-289\n",
      "497 245-251\n",
      "498 279-281\n",
      "499 293-309\n",
      "500 273-277\n",
      "501 86-88\n",
      "502 86-88\n",
      "503 86-88\n",
      "504 58-62\n",
      "505 93-105\n",
      "506 667-671\n",
      "507 659-661\n",
      "508 645-647\n",
      "509 143-153\n",
      "510 143-153\n",
      "511 479-481\n",
      "512 447-449\n",
      "513 451-453\n",
      "514 451-453\n",
      "515 439-441\n",
      "516 461-463\n",
      "517 443-445\n",
      "518 439-441\n",
      "519 439-441\n",
      "520 435-437\n",
      "521 221-223\n",
      "522 231-233\n",
      "523 225-227\n",
      "524 2-4\n",
      "525 39-43\n",
      "526 49-55\n",
      "527 61-65\n",
      "528 28-30\n",
      "529 10-12\n",
      "530 3-7\n",
      "531 23-25\n",
      "532 50-52\n",
      "533 22-26\n",
      "534 14-16\n",
      "535 29-31\n",
      "536 4-5\n",
      "537 1-3\n",
      "538 1-3\n",
      "539 40-42\n",
      "540 7-8\n",
      "541 7-8\n",
      "542 7-8\n",
      "543 7-8\n",
      "544 7-8\n",
      "545 12-14\n",
      "546 12-14\n",
      "547 12-14\n",
      "548 12-14\n",
      "549 12-14\n",
      "550 12-14\n",
      "551 12-14\n",
      "552 12-14\n",
      "553 12-14\n",
      "554 12-14\n",
      "555 12-14\n",
      "556 12-14\n",
      "557 12-14\n",
      "558 12-14\n",
      "559 12-14\n",
      "560 12-14\n",
      "561 12-14\n",
      "562 12-14\n",
      "563 12-14\n",
      "564 12-14\n",
      "565 12-14\n",
      "566 11-13\n",
      "567 19-21\n",
      "568 4-6\n",
      "569 61-63\n",
      "570 85-87\n",
      "571 70-72\n",
      "572 336-338\n",
      "573 1-3\n",
      "574 7-11\n",
      "575 34-36\n",
      "576 47-51\n",
      "577 53-55\n",
      "578 13-15\n",
      "579 51-53\n",
      "580 99-107\n",
      "581 6-10\n",
      "582 19-21\n",
      "583 4-5\n",
      "584 12-13\n",
      "585 23-25\n",
      "586 14-15\n",
      "587 7-10\n",
      "588 9-13\n",
      "589 5-7\n",
      "590 3-4\n",
      "591 356-358\n",
      "592 372-374\n",
      "593 396-398\n",
      "594 372-380\n",
      "595 194-196\n",
      "596 194-196\n",
      "597 194-196\n",
      "598 49-51\n",
      "599 49-51\n",
      "600 49-51\n",
      "601 310-312\n",
      "602 107-115\n",
      "603 2-4\n",
      "604 50-52\n",
      "605 92-94\n",
      "606 45-47\n",
      "607 140-142\n",
      "608 81-83\n",
      "609 81-83\n",
      "610 39-41\n",
      "611 119-121\n",
      "612 84-86\n",
      "613 54-56\n",
      "614 60-62\n",
      "615 42-50\n",
      "616 30-36\n",
      "617 30-36\n",
      "618 24-26\n",
      "619 24-26\n",
      "620 5-7\n",
      "621 17-19\n",
      "622 31-33\n",
      "623 31-33\n",
      "624 21-23\n",
      "625 39-41\n",
      "626 11-13\n",
      "627 10-12\n",
      "628 10-12\n",
      "629 10-12\n",
      "630 10-12\n",
      "631 10-12\n",
      "632 2-6\n",
      "633 2-6\n",
      "634 2-4\n",
      "635 41-43\n",
      "636 25-29\n",
      "637 6-7\n",
      "638 58-60\n",
      "639 42-43\n",
      "640 1-2\n",
      "641 37-39\n",
      "642 110-112\n",
      "643 39-41\n",
      "644 23-25\n",
      "645 83-85\n",
      "646 75-77\n",
      "647 87-89\n",
      "648 83-85\n",
      "649 9-11\n",
      "650 4-6\n",
      "651 1-3\n",
      "652 8-10\n",
      "653 28-29\n",
      "654 7-8\n",
      "655 32-33\n",
      "656 117-125\n",
      "657 67-69\n",
      "658 14-16\n",
      "659 6-8\n",
      "660 12-14\n",
      "661 23-27\n",
      "662 11-13\n",
      "663 33-35\n",
      "664 5-7\n",
      "665 13-17\n",
      "666 19-21\n",
      "667 7-9\n",
      "668 23-35\n",
      "669 22-24\n",
      "670 30-34\n",
      "671 12-14\n",
      "672 72-74\n",
      "673 2-3\n",
      "674 4-5\n",
      "675 69-71\n",
      "676 29-31\n",
      "677 48-50\n",
      "678 64-68\n",
      "679 66-68\n",
      "680 77-81\n",
      "681 3-5\n",
      "682 10-16\n",
      "683 164-166\n",
      "684 238-242\n",
      "685 244-248\n",
      "686 79-83\n",
      "687 79-83\n",
      "688 79-83\n",
      "689 194-196\n",
      "690 60-70\n",
      "691 157-161\n",
      "692 136-138\n",
      "693 141-143\n",
      "694 187-189\n",
      "695 71-73\n",
      "696 8-18\n",
      "697 58-62\n",
      "698 41-43\n",
      "699 283-289\n",
      "700 33-35\n",
      "701 522-524\n",
      "702 324-342\n",
      "703 312-314\n",
      "704 316-318\n",
      "705 322-324\n",
      "706 457-461\n",
      "707 451-455\n",
      "708 22-24\n",
      "709 44-46\n",
      "710 382-384\n",
      "711 382-384\n",
      "712 50-56\n",
      "713 81-85\n",
      "714 54-56\n",
      "715 50-52\n",
      "716 54-56\n",
      "717 50-52\n",
      "718 250-252\n",
      "719 286-288\n",
      "720 280-282\n",
      "721 329-331\n",
      "722 309-311\n",
      "723 299-303\n",
      "724 337-339\n",
      "725 149-151\n",
      "726 65-67\n",
      "727 69-71\n",
      "728 61-63\n",
      "729 72-74\n",
      "730 76-78\n",
      "731 34-38\n",
      "732 275-277\n",
      "733 4-5\n",
      "734 22-24\n",
      "735 42-46\n",
      "736 66-68\n",
      "737 108-110\n",
      "738 36-38\n",
      "739 12-14\n",
      "740 51-53\n",
      "741 19-21\n",
      "742 28-30\n",
      "743 32-34\n",
      "744 52-54\n",
      "745 14-16\n",
      "746 32-34\n",
      "747 66-68\n",
      "748 126-128\n",
      "749 117-119\n",
      "750 135-137\n",
      "751 123-129\n",
      "752 131-133\n",
      "753 47-51\n",
      "754 59-61\n",
      "755 67-69\n",
      "756 3-5\n",
      "757 15-19\n",
      "758 38-40\n",
      "759 46-48\n",
      "760 62-64\n",
      "761 4-6\n",
      "762 27-37\n",
      "763 7-8\n",
      "764 68-70\n",
      "765 228-234\n",
      "766 230-234\n",
      "767 135-137\n",
      "768 67-69\n",
      "769 109-113\n",
      "770 97-99\n",
      "771 106-112\n",
      "772 24-26\n",
      "773 6-8\n",
      "774 2-10\n",
      "775 2-10\n",
      "776 56-58\n",
      "777 37-39\n",
      "778 37-39\n",
      "779 37-39\n",
      "780 37-39\n",
      "781 37-39\n",
      "782 37-39\n",
      "783 29-31\n",
      "784 37-39\n",
      "785 43-51\n",
      "786 21-23\n",
      "787 37-39\n",
      "788 37-39\n",
      "789 37-39\n",
      "790 37-39\n",
      "791 37-39\n",
      "792 53-55\n",
      "793 37-39\n",
      "794 44-46\n",
      "795 37-39\n",
      "796 148-150\n",
      "797 3-5\n",
      "798 21-24\n",
      "799 9-14\n",
      "800 60-62\n",
      "801 100-106\n",
      "802 15-16\n",
      "803 1-2\n",
      "804 3-5\n",
      "805 12-14\n",
      "806 52-54\n",
      "807 49-51\n",
      "808 15-21\n",
      "809 201-203\n",
      "810 201-203\n",
      "811 75-77\n",
      "812 71-73\n",
      "813 63-65\n",
      "814 208-222\n",
      "815 66-68\n",
      "816 1-2\n",
      "817 127-130\n",
      "818 132-133\n",
      "819 36-38\n",
      "820 39-40\n",
      "821 138-139\n",
      "822 43-45\n",
      "823 55-58\n",
      "824 59-60\n",
      "825 53-54\n",
      "826 13-14\n",
      "827 26-27\n",
      "828 19-20\n",
      "829 325-327\n",
      "830 319-323\n",
      "831 149-150\n",
      "832 151-152\n",
      "833 88-89\n",
      "834 113-114\n",
      "835 85-86\n",
      "836 101-102\n",
      "837 2-3\n",
      "838 93-97\n",
      "839 74-75\n",
      "840 87-95\n",
      "841 4-8\n",
      "842 4-8\n",
      "843 5-7\n",
      "844 5-7\n",
      "845 20-26\n",
      "846 20-26\n",
      "847 40-44\n",
      "848 80-84\n",
      "849 66-76\n",
      "850 66-76\n",
      "851 66-76\n",
      "852 66-76\n",
      "853 66-76\n",
      "854 34-36\n",
      "855 34-36\n",
      "856 34-36\n",
      "857 34-36\n",
      "858 34-36\n",
      "859 34-36\n",
      "860 4-8\n",
      "861 24-32\n",
      "862 14-15\n",
      "863 11-12\n",
      "864 2-4\n",
      "865 28-30\n",
      "866 16-18\n",
      "867 28-30\n",
      "868 82-84\n",
      "869 26-28\n",
      "870 26-28\n",
      "871 4-6\n",
      "872 22-24\n",
      "873 4-6\n",
      "874 4-6\n",
      "875 4-6\n",
      "876 14-16\n",
      "877 4-6\n",
      "878 4-6\n",
      "879 5-7\n",
      "880 6-8\n",
      "881 37-39\n",
      "882 11-13\n",
      "883 10-12\n",
      "884 33-35\n",
      "885 87-89\n",
      "886 39-41\n",
      "887 91-93\n",
      "888 55-57\n",
      "889 37-39\n",
      "890 12-14\n",
      "891 16-18\n",
      "892 15-17\n",
      "893 76-78\n",
      "894 76-78\n",
      "895 76-78\n",
      "896 76-78\n",
      "897 76-78\n",
      "898 277-279\n",
      "899 44-46\n",
      "900 38-42\n",
      "901 26-28\n",
      "902 9-10\n",
      "903 18-20\n",
      "904 21-23\n",
      "905 22-24\n",
      "906 1-3\n",
      "907 1-3\n",
      "908 16-20\n",
      "909 11-13\n",
      "910 5-7\n",
      "911 26-28\n",
      "912 15-22\n",
      "913 14-15\n"
     ]
    }
   ],
   "source": [
    "target_lad = 'E08000014'\n",
    "\n",
    "temp = voa_businesses[voa_businesses['lad11cd'] == target_lad].copy(deep = True)\n",
    "    \n",
    "    #remove anything in brackets\n",
    "temp['street_number'] = temp['street_number'].str.replace(r\"\\(.+\\)\", \"\", regex = True, case = False)\n",
    "    \n",
    "    #units often slip in as street numbers, this kills them off\n",
    "temp.loc[temp['street_number'].str.contains(r\"unit|suite\", regex = True, case = False)==True, 'street_number'] = np.nan\n",
    "    \n",
    "    #replace @ and & with words\n",
    "temp['street_number'] = temp['street_number'].str.replace(r\"@\", \" at \", regex = True, case = False).str.replace(r\"&\", \" and \", regex = True, case = False)\n",
    "    \n",
    "    #replace \"-\" with spaces with a simple \"-\"\n",
    "temp['street_number'] = temp['street_number'].str.replace(r\"(\\s)?-(\\s)?\", \"-\", regex = True, case = False)\n",
    "    \n",
    "    #take only things after the last space includes cases where there is no space. Then remove all letters\n",
    "temp['street_number'] = temp['street_number'].str.extract(r\"([^\\s]+$)\")[0].str.replace(r\"([a-z]+)\", \"\", regex = True, case = False)\n",
    "    #remove dangling hyphens and slashes\n",
    "temp['street_number'] = temp['street_number'].str.replace(r\"(-$)|(^-)|\\\\|\\/\", \"\", regex = True, case = False)\n",
    "    #replace double hyphen... yes it happens\n",
    "temp['street_number'] = temp['street_number'].str.replace(r\"--\", r\"-\", regex = True, case = False)\n",
    "temp.loc[temp['street_number'].str.len() == 0, 'street_number'] = np.nan\n",
    "temp.loc[temp['street_number'].str.contains(r\"\\.\", regex = True)==True, 'street_number'] = np.nan\n",
    "\n",
    "temp['is_multi'] = temp['street_number'].str.contains(r\"-\", regex = True)\n",
    "\n",
    "temp_multi = temp.loc[temp['is_multi']==True]#, ['street_number', 'is_multi']]\n",
    "\n",
    "#temp_multi['number_filter'] = [find_filter_type(x) for x in temp_multi['street_number']]\n",
    "\n",
    "i = 0\n",
    "temp_list = []\n",
    "for x in temp_multi['street_number']:#.unique():\n",
    "        print(str(i)+ \" \"+x)\n",
    "        i = i+1\n",
    "        values = [int(x) for x in [x for x in x.split(\"-\")]]\n",
    "        temp_list = temp_list +[values]"
   ]
  },
  {
   "cell_type": "code",
   "execution_count": 33,
   "id": "545f5eaa",
   "metadata": {},
   "outputs": [
    {
     "data": {
      "text/plain": [
       "primary_and_secondary_description_code                                             CG1\n",
       "primary_description_text                          VEHICLE REPAIR WORKSHOP AND PREMISES\n",
       "unique_address_reference_number_uarn                                        7063871000\n",
       "full_property_identifier                  231--235, HAWTHORNE ROAD, BOOTLE, MERSEYSIDE\n",
       "firms_name                                                      NATIONAL TYRE SERVICES\n",
       "number_or_name                                                                231--235\n",
       "street                                                                  hawthorne road\n",
       "town                                                                            BOOTLE\n",
       "postal_district                                                                    NaN\n",
       "county                                                                      MERSEYSIDE\n",
       "postcode                                                                       l20 3aw\n",
       "street_number                                                                 231--235\n",
       "postcode2                                                                       l203aw\n",
       "lad11cd                                                                      E08000014\n",
       "lsoa11                                                                       E01006967\n",
       "msoa11                                                                       E02001465\n",
       "is_multi                                                                          True\n",
       "Name: 1590863, dtype: object"
      ]
     },
     "execution_count": 33,
     "metadata": {},
     "output_type": "execute_result"
    }
   ],
   "source": [
    "temp_multi.iloc[248]"
   ]
  },
  {
   "cell_type": "code",
   "execution_count": 332,
   "id": "e49653b9",
   "metadata": {
    "scrolled": true
   },
   "outputs": [],
   "source": [
    "test = ocod_data[(ocod_data['lad11cd']==target_lad)].copy(deep = True)\n",
    "test['matches_business_address'] = test['street_name'].isin(all_street_addresses['street']) & test['street_number'].isin(all_street_addresses['street_number'])\n",
    "test['matches_business_address'].sum()"
   ]
  },
  {
   "cell_type": "code",
   "execution_count": null,
   "id": "8621d041",
   "metadata": {},
   "outputs": [],
   "source": [
    "#filters to a single LAD\n",
    "    #removes advertising hoardings which are irrelevant\n",
    "    LAD_biz = voa_businesses.loc[(voa_data['lad11cd']==target_lad) & ~voa_data['primary_description_text'].str.contains(\"ADVERTISING\")].copy(deep = True)\n",
    "    \n",
    "    LAD_biz.loc[:,'street_name2'] = LAD_biz['street'].copy(deep=True)\n",
    "    #remove apostraphe's\n",
    "    LAD_biz.loc[:,'street_name2'] = LAD_biz.loc[:,'street_name2'].str.replace(r\"'\", \"\", regex = True).\\\n",
    "    str.replace(r\"s(s)?(?=\\s)\", \"\", regex = True).str.replace(r\"\\s\", \"\", regex = True)\n",
    "    \n",
    "    #subset to target LAD\n",
    "    ocod_data_road = ocod_data[ocod_data['lad11cd']==target_lad].copy(deep = True)\n",
    "    #replace nan values to prevent crash    \n",
    "    \n",
    "    #create second column\n",
    "    ocod_data_road['street_name2'] = ocod_data_road['street_name'].copy(deep=True)\n",
    "    \n",
    "    #replace nan values to prevent crash    \n",
    "    ocod_data_road.loc[ocod_data_road.street_name.isna(),'street_name'2] =\"xxxstreet name missingxxx\"\n",
    "    #clean street names of common matching errors\n",
    "    #remove apostraphe's\n",
    "    #remove trailing 's'\n",
    "    #remove all spaces\n",
    "    ocod_data_road['street_name2'] = ocod_data_road['street_name2'].str.replace(r\"'\", \"\", regex = True).\\\n",
    "    str.replace(r\"s(s)?(?=\\s)\", \"\", regex = True).str.replace(r\"\\s\", \"\", regex = True)\n",
    "    \n",
    "    ocod_data_road['match'] = ocod_data_road['street_name2'].isin(LAD_biz.street_name2.unique())"
   ]
  },
  {
   "cell_type": "code",
   "execution_count": 18,
   "id": "e02a3ed7",
   "metadata": {},
   "outputs": [],
   "source": [
    "street_name = ocod_data.loc[ocod_data['lad11cd'] == target_lad ,'street_name']"
   ]
  },
  {
   "cell_type": "code",
   "execution_count": 51,
   "id": "ed73af43",
   "metadata": {},
   "outputs": [
    {
     "name": "stderr",
     "output_type": "stream",
     "text": [
      "<ipython-input-50-a850dbcbd8ec>:53: SettingWithCopyWarning: \n",
      "A value is trying to be set on a copy of a slice from a DataFrame.\n",
      "Try using .loc[row_indexer,col_indexer] = value instead\n",
      "\n",
      "See the caveats in the documentation: https://pandas.pydata.org/pandas-docs/stable/user_guide/indexing.html#returning-a-view-versus-a-copy\n",
      "  temp_multi['number_filter'] = filter_types\n"
     ]
    },
    {
     "name": "stdout",
     "output_type": "stream",
     "text": [
      "i= 0  expand time,0.0 filter time0.0 make_dataframe_time 0.001\n"
     ]
    }
   ],
   "source": [
    "target_lad = 'E08000014'\n",
    "test = massaged_address_match(ocod_data, voa_businesses, target_lad)"
   ]
  },
  {
   "cell_type": "code",
   "execution_count": 52,
   "id": "365c1030",
   "metadata": {},
   "outputs": [
    {
     "data": {
      "text/html": [
       "<div>\n",
       "<style scoped>\n",
       "    .dataframe tbody tr th:only-of-type {\n",
       "        vertical-align: middle;\n",
       "    }\n",
       "\n",
       "    .dataframe tbody tr th {\n",
       "        vertical-align: top;\n",
       "    }\n",
       "\n",
       "    .dataframe thead th {\n",
       "        text-align: right;\n",
       "    }\n",
       "</style>\n",
       "<table border=\"1\" class=\"dataframe\">\n",
       "  <thead>\n",
       "    <tr style=\"text-align: right;\">\n",
       "      <th></th>\n",
       "      <th>Unnamed: 0</th>\n",
       "      <th>title_number</th>\n",
       "      <th>within_title_id</th>\n",
       "      <th>unique_id</th>\n",
       "      <th>within_larger_title</th>\n",
       "      <th>tenure</th>\n",
       "      <th>unit_id</th>\n",
       "      <th>unit_type</th>\n",
       "      <th>building_name</th>\n",
       "      <th>street_number</th>\n",
       "      <th>...</th>\n",
       "      <th>property_address</th>\n",
       "      <th>postcode2</th>\n",
       "      <th>lsoa11</th>\n",
       "      <th>msoa11</th>\n",
       "      <th>lad11cd</th>\n",
       "      <th>business_counts</th>\n",
       "      <th>street_name2</th>\n",
       "      <th>street_match</th>\n",
       "      <th>address_match</th>\n",
       "      <th>business_address</th>\n",
       "    </tr>\n",
       "  </thead>\n",
       "  <tbody>\n",
       "    <tr>\n",
       "      <th>0</th>\n",
       "      <td>0</td>\n",
       "      <td>MS85397</td>\n",
       "      <td>1</td>\n",
       "      <td>MS85397-1</td>\n",
       "      <td>True</td>\n",
       "      <td>Freehold</td>\n",
       "      <td>NaN</td>\n",
       "      <td>NaN</td>\n",
       "      <td>NaN</td>\n",
       "      <td>9</td>\n",
       "      <td>...</td>\n",
       "      <td>3, 5, 9 to 19 (odd) and 25 Ormskirk Road, Aintree</td>\n",
       "      <td>NaN</td>\n",
       "      <td>NaN</td>\n",
       "      <td>NaN</td>\n",
       "      <td>E08000014</td>\n",
       "      <td>0.0</td>\n",
       "      <td>ormskirkroad</td>\n",
       "      <td>True</td>\n",
       "      <td>True</td>\n",
       "      <td>UNIT 9, AINTREE RACECOURSE RETAIL PARK, ORMSKI...</td>\n",
       "    </tr>\n",
       "    <tr>\n",
       "      <th>1</th>\n",
       "      <td>0</td>\n",
       "      <td>MS85397</td>\n",
       "      <td>1</td>\n",
       "      <td>MS85397-1</td>\n",
       "      <td>True</td>\n",
       "      <td>Freehold</td>\n",
       "      <td>NaN</td>\n",
       "      <td>NaN</td>\n",
       "      <td>NaN</td>\n",
       "      <td>9</td>\n",
       "      <td>...</td>\n",
       "      <td>3, 5, 9 to 19 (odd) and 25 Ormskirk Road, Aintree</td>\n",
       "      <td>NaN</td>\n",
       "      <td>NaN</td>\n",
       "      <td>NaN</td>\n",
       "      <td>E08000014</td>\n",
       "      <td>0.0</td>\n",
       "      <td>ormskirkroad</td>\n",
       "      <td>True</td>\n",
       "      <td>True</td>\n",
       "      <td>9, AINTREE RACECOURSE RETAIL PARK, ORMSKIRK RO...</td>\n",
       "    </tr>\n",
       "    <tr>\n",
       "      <th>2</th>\n",
       "      <td>0</td>\n",
       "      <td>MS85397</td>\n",
       "      <td>1</td>\n",
       "      <td>MS85397-1</td>\n",
       "      <td>True</td>\n",
       "      <td>Freehold</td>\n",
       "      <td>NaN</td>\n",
       "      <td>NaN</td>\n",
       "      <td>NaN</td>\n",
       "      <td>9</td>\n",
       "      <td>...</td>\n",
       "      <td>3, 5, 9 to 19 (odd) and 25 Ormskirk Road, Aintree</td>\n",
       "      <td>NaN</td>\n",
       "      <td>NaN</td>\n",
       "      <td>NaN</td>\n",
       "      <td>E08000014</td>\n",
       "      <td>0.0</td>\n",
       "      <td>ormskirkroad</td>\n",
       "      <td>True</td>\n",
       "      <td>True</td>\n",
       "      <td>1ST FLR SUITE 9, AINTREE BUILDING, RACECOURSE ...</td>\n",
       "    </tr>\n",
       "    <tr>\n",
       "      <th>3</th>\n",
       "      <td>1</td>\n",
       "      <td>MS85397</td>\n",
       "      <td>2</td>\n",
       "      <td>MS85397-2</td>\n",
       "      <td>True</td>\n",
       "      <td>Freehold</td>\n",
       "      <td>NaN</td>\n",
       "      <td>NaN</td>\n",
       "      <td>NaN</td>\n",
       "      <td>10</td>\n",
       "      <td>...</td>\n",
       "      <td>3, 5, 9 to 19 (odd) and 25 Ormskirk Road, Aintree</td>\n",
       "      <td>NaN</td>\n",
       "      <td>NaN</td>\n",
       "      <td>NaN</td>\n",
       "      <td>E08000014</td>\n",
       "      <td>0.0</td>\n",
       "      <td>ormskirkroad</td>\n",
       "      <td>True</td>\n",
       "      <td>True</td>\n",
       "      <td>UNIT 10, AINTREE RACECOURSE RETAIL PARK, ORMSK...</td>\n",
       "    </tr>\n",
       "    <tr>\n",
       "      <th>4</th>\n",
       "      <td>1</td>\n",
       "      <td>MS85397</td>\n",
       "      <td>2</td>\n",
       "      <td>MS85397-2</td>\n",
       "      <td>True</td>\n",
       "      <td>Freehold</td>\n",
       "      <td>NaN</td>\n",
       "      <td>NaN</td>\n",
       "      <td>NaN</td>\n",
       "      <td>10</td>\n",
       "      <td>...</td>\n",
       "      <td>3, 5, 9 to 19 (odd) and 25 Ormskirk Road, Aintree</td>\n",
       "      <td>NaN</td>\n",
       "      <td>NaN</td>\n",
       "      <td>NaN</td>\n",
       "      <td>E08000014</td>\n",
       "      <td>0.0</td>\n",
       "      <td>ormskirkroad</td>\n",
       "      <td>True</td>\n",
       "      <td>True</td>\n",
       "      <td>UNIT 10, TOPHAM DRIVE, RACECOURSE RETAIL &amp; BUS...</td>\n",
       "    </tr>\n",
       "    <tr>\n",
       "      <th>...</th>\n",
       "      <td>...</td>\n",
       "      <td>...</td>\n",
       "      <td>...</td>\n",
       "      <td>...</td>\n",
       "      <td>...</td>\n",
       "      <td>...</td>\n",
       "      <td>...</td>\n",
       "      <td>...</td>\n",
       "      <td>...</td>\n",
       "      <td>...</td>\n",
       "      <td>...</td>\n",
       "      <td>...</td>\n",
       "      <td>...</td>\n",
       "      <td>...</td>\n",
       "      <td>...</td>\n",
       "      <td>...</td>\n",
       "      <td>...</td>\n",
       "      <td>...</td>\n",
       "      <td>...</td>\n",
       "      <td>...</td>\n",
       "      <td>...</td>\n",
       "    </tr>\n",
       "    <tr>\n",
       "      <th>72</th>\n",
       "      <td>71477</td>\n",
       "      <td>MS202516</td>\n",
       "      <td>1</td>\n",
       "      <td>MS202516-1</td>\n",
       "      <td>False</td>\n",
       "      <td>Freehold</td>\n",
       "      <td>NaN</td>\n",
       "      <td>NaN</td>\n",
       "      <td>NaN</td>\n",
       "      <td>70</td>\n",
       "      <td>...</td>\n",
       "      <td>70 Regent Road, Bootle (L20 8DB)</td>\n",
       "      <td>l208db</td>\n",
       "      <td>E01007010</td>\n",
       "      <td>E02001465</td>\n",
       "      <td>E08000014</td>\n",
       "      <td>0.0</td>\n",
       "      <td>regentroad</td>\n",
       "      <td>True</td>\n",
       "      <td>True</td>\n",
       "      <td>70, REGENT ROAD, BOOTLE, MERSEYSIDE</td>\n",
       "    </tr>\n",
       "    <tr>\n",
       "      <th>73</th>\n",
       "      <td>72061</td>\n",
       "      <td>MS368711</td>\n",
       "      <td>1</td>\n",
       "      <td>MS368711-1</td>\n",
       "      <td>False</td>\n",
       "      <td>Leasehold</td>\n",
       "      <td>NaN</td>\n",
       "      <td>NaN</td>\n",
       "      <td>mill house lodge</td>\n",
       "      <td>66</td>\n",
       "      <td>...</td>\n",
       "      <td>66 Mill House Lodge, Liverpool Road, Ainsdale,...</td>\n",
       "      <td>pr83bh</td>\n",
       "      <td>E01006927</td>\n",
       "      <td>E02001439</td>\n",
       "      <td>E08000014</td>\n",
       "      <td>0.0</td>\n",
       "      <td>liverpoolroad</td>\n",
       "      <td>True</td>\n",
       "      <td>True</td>\n",
       "      <td>66, LIVERPOOL ROAD, CROSBY, LIVERPOOL</td>\n",
       "    </tr>\n",
       "    <tr>\n",
       "      <th>74</th>\n",
       "      <td>73951</td>\n",
       "      <td>MS304528</td>\n",
       "      <td>1</td>\n",
       "      <td>MS304528-1</td>\n",
       "      <td>False</td>\n",
       "      <td>Freehold</td>\n",
       "      <td>NaN</td>\n",
       "      <td>NaN</td>\n",
       "      <td>NaN</td>\n",
       "      <td>57</td>\n",
       "      <td>...</td>\n",
       "      <td>57 St Johns Road, Waterloo, Liverpool (L22 9QB)</td>\n",
       "      <td>l229qb</td>\n",
       "      <td>E01007102</td>\n",
       "      <td>E02001458</td>\n",
       "      <td>E08000014</td>\n",
       "      <td>0.0</td>\n",
       "      <td>stjohnroad</td>\n",
       "      <td>True</td>\n",
       "      <td>True</td>\n",
       "      <td>57, ST JOHNS ROAD, WATERLOO, LIVERPOOL</td>\n",
       "    </tr>\n",
       "    <tr>\n",
       "      <th>75</th>\n",
       "      <td>74242</td>\n",
       "      <td>MS368725</td>\n",
       "      <td>1</td>\n",
       "      <td>MS368725-1</td>\n",
       "      <td>False</td>\n",
       "      <td>Leasehold</td>\n",
       "      <td>NaN</td>\n",
       "      <td>NaN</td>\n",
       "      <td>millhouse lodge</td>\n",
       "      <td>41</td>\n",
       "      <td>...</td>\n",
       "      <td>41 Millhouse Lodge, Liverpool Road, Ainsdale (...</td>\n",
       "      <td>pr83bh</td>\n",
       "      <td>E01006927</td>\n",
       "      <td>E02001439</td>\n",
       "      <td>E08000014</td>\n",
       "      <td>0.0</td>\n",
       "      <td>liverpoolroad</td>\n",
       "      <td>True</td>\n",
       "      <td>True</td>\n",
       "      <td>41, LIVERPOOL ROAD, SOUTHPORT, MERSEYSIDE</td>\n",
       "    </tr>\n",
       "    <tr>\n",
       "      <th>76</th>\n",
       "      <td>74242</td>\n",
       "      <td>MS368725</td>\n",
       "      <td>1</td>\n",
       "      <td>MS368725-1</td>\n",
       "      <td>False</td>\n",
       "      <td>Leasehold</td>\n",
       "      <td>NaN</td>\n",
       "      <td>NaN</td>\n",
       "      <td>millhouse lodge</td>\n",
       "      <td>41</td>\n",
       "      <td>...</td>\n",
       "      <td>41 Millhouse Lodge, Liverpool Road, Ainsdale (...</td>\n",
       "      <td>pr83bh</td>\n",
       "      <td>E01006927</td>\n",
       "      <td>E02001439</td>\n",
       "      <td>E08000014</td>\n",
       "      <td>0.0</td>\n",
       "      <td>liverpoolroad</td>\n",
       "      <td>True</td>\n",
       "      <td>True</td>\n",
       "      <td>41, LIVERPOOL ROAD, CROSBY, LIVERPOOL</td>\n",
       "    </tr>\n",
       "  </tbody>\n",
       "</table>\n",
       "<p>77 rows × 28 columns</p>\n",
       "</div>"
      ],
      "text/plain": [
       "    Unnamed: 0 title_number  within_title_id   unique_id  within_larger_title  \\\n",
       "0            0      MS85397                1   MS85397-1                 True   \n",
       "1            0      MS85397                1   MS85397-1                 True   \n",
       "2            0      MS85397                1   MS85397-1                 True   \n",
       "3            1      MS85397                2   MS85397-2                 True   \n",
       "4            1      MS85397                2   MS85397-2                 True   \n",
       "..         ...          ...              ...         ...                  ...   \n",
       "72       71477     MS202516                1  MS202516-1                False   \n",
       "73       72061     MS368711                1  MS368711-1                False   \n",
       "74       73951     MS304528                1  MS304528-1                False   \n",
       "75       74242     MS368725                1  MS368725-1                False   \n",
       "76       74242     MS368725                1  MS368725-1                False   \n",
       "\n",
       "       tenure unit_id unit_type     building_name street_number  ...  \\\n",
       "0    Freehold     NaN       NaN               NaN             9  ...   \n",
       "1    Freehold     NaN       NaN               NaN             9  ...   \n",
       "2    Freehold     NaN       NaN               NaN             9  ...   \n",
       "3    Freehold     NaN       NaN               NaN            10  ...   \n",
       "4    Freehold     NaN       NaN               NaN            10  ...   \n",
       "..        ...     ...       ...               ...           ...  ...   \n",
       "72   Freehold     NaN       NaN               NaN            70  ...   \n",
       "73  Leasehold     NaN       NaN  mill house lodge            66  ...   \n",
       "74   Freehold     NaN       NaN               NaN            57  ...   \n",
       "75  Leasehold     NaN       NaN   millhouse lodge            41  ...   \n",
       "76  Leasehold     NaN       NaN   millhouse lodge            41  ...   \n",
       "\n",
       "                                     property_address postcode2     lsoa11  \\\n",
       "0   3, 5, 9 to 19 (odd) and 25 Ormskirk Road, Aintree       NaN        NaN   \n",
       "1   3, 5, 9 to 19 (odd) and 25 Ormskirk Road, Aintree       NaN        NaN   \n",
       "2   3, 5, 9 to 19 (odd) and 25 Ormskirk Road, Aintree       NaN        NaN   \n",
       "3   3, 5, 9 to 19 (odd) and 25 Ormskirk Road, Aintree       NaN        NaN   \n",
       "4   3, 5, 9 to 19 (odd) and 25 Ormskirk Road, Aintree       NaN        NaN   \n",
       "..                                                ...       ...        ...   \n",
       "72                   70 Regent Road, Bootle (L20 8DB)    l208db  E01007010   \n",
       "73  66 Mill House Lodge, Liverpool Road, Ainsdale,...    pr83bh  E01006927   \n",
       "74    57 St Johns Road, Waterloo, Liverpool (L22 9QB)    l229qb  E01007102   \n",
       "75  41 Millhouse Lodge, Liverpool Road, Ainsdale (...    pr83bh  E01006927   \n",
       "76  41 Millhouse Lodge, Liverpool Road, Ainsdale (...    pr83bh  E01006927   \n",
       "\n",
       "       msoa11    lad11cd business_counts   street_name2  street_match  \\\n",
       "0         NaN  E08000014             0.0   ormskirkroad          True   \n",
       "1         NaN  E08000014             0.0   ormskirkroad          True   \n",
       "2         NaN  E08000014             0.0   ormskirkroad          True   \n",
       "3         NaN  E08000014             0.0   ormskirkroad          True   \n",
       "4         NaN  E08000014             0.0   ormskirkroad          True   \n",
       "..        ...        ...             ...            ...           ...   \n",
       "72  E02001465  E08000014             0.0     regentroad          True   \n",
       "73  E02001439  E08000014             0.0  liverpoolroad          True   \n",
       "74  E02001458  E08000014             0.0     stjohnroad          True   \n",
       "75  E02001439  E08000014             0.0  liverpoolroad          True   \n",
       "76  E02001439  E08000014             0.0  liverpoolroad          True   \n",
       "\n",
       "   address_match                                   business_address  \n",
       "0           True  UNIT 9, AINTREE RACECOURSE RETAIL PARK, ORMSKI...  \n",
       "1           True  9, AINTREE RACECOURSE RETAIL PARK, ORMSKIRK RO...  \n",
       "2           True  1ST FLR SUITE 9, AINTREE BUILDING, RACECOURSE ...  \n",
       "3           True  UNIT 10, AINTREE RACECOURSE RETAIL PARK, ORMSK...  \n",
       "4           True  UNIT 10, TOPHAM DRIVE, RACECOURSE RETAIL & BUS...  \n",
       "..           ...                                                ...  \n",
       "72          True                70, REGENT ROAD, BOOTLE, MERSEYSIDE  \n",
       "73          True              66, LIVERPOOL ROAD, CROSBY, LIVERPOOL  \n",
       "74          True             57, ST JOHNS ROAD, WATERLOO, LIVERPOOL  \n",
       "75          True          41, LIVERPOOL ROAD, SOUTHPORT, MERSEYSIDE  \n",
       "76          True              41, LIVERPOOL ROAD, CROSBY, LIVERPOOL  \n",
       "\n",
       "[77 rows x 28 columns]"
      ]
     },
     "execution_count": 52,
     "metadata": {},
     "output_type": "execute_result"
    }
   ],
   "source": [
    "test"
   ]
  },
  {
   "cell_type": "code",
   "execution_count": 54,
   "id": "7db04aec",
   "metadata": {},
   "outputs": [
    {
     "data": {
      "text/html": [
       "<div>\n",
       "<style scoped>\n",
       "    .dataframe tbody tr th:only-of-type {\n",
       "        vertical-align: middle;\n",
       "    }\n",
       "\n",
       "    .dataframe tbody tr th {\n",
       "        vertical-align: top;\n",
       "    }\n",
       "\n",
       "    .dataframe thead th {\n",
       "        text-align: right;\n",
       "    }\n",
       "</style>\n",
       "<table border=\"1\" class=\"dataframe\">\n",
       "  <thead>\n",
       "    <tr style=\"text-align: right;\">\n",
       "      <th>street_number</th>\n",
       "      <th>False</th>\n",
       "      <th>True</th>\n",
       "    </tr>\n",
       "    <tr>\n",
       "      <th>street_name</th>\n",
       "      <th></th>\n",
       "      <th></th>\n",
       "    </tr>\n",
       "  </thead>\n",
       "  <tbody>\n",
       "    <tr>\n",
       "      <th>False</th>\n",
       "      <td>5665</td>\n",
       "      <td>4498</td>\n",
       "    </tr>\n",
       "    <tr>\n",
       "      <th>True</th>\n",
       "      <td>19621</td>\n",
       "      <td>28295</td>\n",
       "    </tr>\n",
       "  </tbody>\n",
       "</table>\n",
       "</div>"
      ],
      "text/plain": [
       "street_number  False   True\n",
       "street_name                \n",
       "False           5665   4498\n",
       "True           19621  28295"
      ]
     },
     "execution_count": 54,
     "metadata": {},
     "output_type": "execute_result"
    }
   ],
   "source": [
    "pd.crosstab(ocod_data['street_name'][ocod_data['postcode'].isnull()].notnull(), ocod_data['street_number'][ocod_data['postcode'].isnull()].notnull())"
   ]
  },
  {
   "cell_type": "code",
   "execution_count": 64,
   "id": "73f8895a",
   "metadata": {},
   "outputs": [
    {
     "data": {
      "text/html": [
       "<div>\n",
       "<style scoped>\n",
       "    .dataframe tbody tr th:only-of-type {\n",
       "        vertical-align: middle;\n",
       "    }\n",
       "\n",
       "    .dataframe tbody tr th {\n",
       "        vertical-align: top;\n",
       "    }\n",
       "\n",
       "    .dataframe thead th {\n",
       "        text-align: right;\n",
       "    }\n",
       "</style>\n",
       "<table border=\"1\" class=\"dataframe\">\n",
       "  <thead>\n",
       "    <tr style=\"text-align: right;\">\n",
       "      <th>building_name</th>\n",
       "      <th>False</th>\n",
       "      <th>True</th>\n",
       "    </tr>\n",
       "    <tr>\n",
       "      <th>street_name</th>\n",
       "      <th></th>\n",
       "      <th></th>\n",
       "    </tr>\n",
       "  </thead>\n",
       "  <tbody>\n",
       "    <tr>\n",
       "      <th>False</th>\n",
       "      <td>7498</td>\n",
       "      <td>2665</td>\n",
       "    </tr>\n",
       "    <tr>\n",
       "      <th>True</th>\n",
       "      <td>40469</td>\n",
       "      <td>7447</td>\n",
       "    </tr>\n",
       "  </tbody>\n",
       "</table>\n",
       "</div>"
      ],
      "text/plain": [
       "building_name  False  True\n",
       "street_name               \n",
       "False           7498  2665\n",
       "True           40469  7447"
      ]
     },
     "execution_count": 64,
     "metadata": {},
     "output_type": "execute_result"
    }
   ],
   "source": [
    "pd.crosstab(ocod_data['street_name'][ocod_data['postcode'].isnull()].notnull(), ocod_data['building_name'][ocod_data['postcode'].isnull()].notnull())"
   ]
  },
  {
   "cell_type": "code",
   "execution_count": 59,
   "id": "47451dd7",
   "metadata": {},
   "outputs": [
    {
     "data": {
      "text/html": [
       "<div>\n",
       "<style scoped>\n",
       "    .dataframe tbody tr th:only-of-type {\n",
       "        vertical-align: middle;\n",
       "    }\n",
       "\n",
       "    .dataframe tbody tr th {\n",
       "        vertical-align: top;\n",
       "    }\n",
       "\n",
       "    .dataframe thead th {\n",
       "        text-align: right;\n",
       "    }\n",
       "</style>\n",
       "<table border=\"1\" class=\"dataframe\">\n",
       "  <thead>\n",
       "    <tr style=\"text-align: right;\">\n",
       "      <th>building_name</th>\n",
       "      <th>False</th>\n",
       "      <th>True</th>\n",
       "    </tr>\n",
       "    <tr>\n",
       "      <th>street_name</th>\n",
       "      <th></th>\n",
       "      <th></th>\n",
       "    </tr>\n",
       "  </thead>\n",
       "  <tbody>\n",
       "    <tr>\n",
       "      <th>False</th>\n",
       "      <td>3318</td>\n",
       "      <td>2347</td>\n",
       "    </tr>\n",
       "    <tr>\n",
       "      <th>True</th>\n",
       "      <td>15651</td>\n",
       "      <td>3970</td>\n",
       "    </tr>\n",
       "  </tbody>\n",
       "</table>\n",
       "</div>"
      ],
      "text/plain": [
       "building_name  False  True\n",
       "street_name               \n",
       "False           3318  2347\n",
       "True           15651  3970"
      ]
     },
     "execution_count": 59,
     "metadata": {},
     "output_type": "execute_result"
    }
   ],
   "source": [
    "pd.crosstab(ocod_data['street_name'][ocod_data['postcode'].isnull() & ocod_data['street_number'].isnull()].notnull(), \n",
    "            ocod_data['building_name'][ocod_data['postcode'].isnull() & ocod_data['street_number'].isnull()].notnull())"
   ]
  },
  {
   "cell_type": "code",
   "execution_count": 177,
   "id": "b9e8d849",
   "metadata": {},
   "outputs": [
    {
     "name": "stdout",
     "output_type": "stream",
     "text": [
      "E09000028\n"
     ]
    },
    {
     "name": "stderr",
     "output_type": "stream",
     "text": [
      "<ipython-input-140-b869176229e5>:28: UserWarning: This pattern is interpreted as a regular expression, and has match groups. To actually get the groups, use str.extract.\n",
      "  temp.loc[temp['street_number'].str.contains(r\"(unit|suite)\", regex = True, case = False)==True, 'street_number'] = np.nan\n",
      "<ipython-input-140-b869176229e5>:49: SettingWithCopyWarning: \n",
      "A value is trying to be set on a copy of a slice from a DataFrame.\n",
      "Try using .loc[row_indexer,col_indexer] = value instead\n",
      "\n",
      "See the caveats in the documentation: https://pandas.pydata.org/pandas-docs/stable/user_guide/indexing.html#returning-a-view-versus-a-copy\n",
      "  temp_multi['number_filter'] = [find_filter_type(x) for x in temp_multi['street_number']]\n"
     ]
    },
    {
     "name": "stdout",
     "output_type": "stream",
     "text": [
      "(1596, 20)\n",
      "(5520, 18)\n",
      "i= 0  expand time,0.0 filter time0.0 make_dataframe_time 0.001\n"
     ]
    }
   ],
   "source": [
    "all_lads =ocod_data.lad11cd.unique()\n",
    "#all_lads = all_lads[all_lads != 'E06000031']\n",
    "#all_lads = all_lads[all_lads != 'E08000017']\n",
    "\n",
    "all_lads = [x for x in all_lads if str(x) != 'nan']\n",
    "#see which roads match a road in voa data set for each local authority\n",
    "\n",
    "matched_lads_list = []\n",
    "\n",
    "for target_lad in all_lads:\n",
    "    print(target_lad)\n",
    "    temp = ocod_data[(ocod_data['lad11cd']==target_lad)].copy(deep = True)\n",
    "    street_match, number_match = business_address_matcher(temp['street_name'], temp['street_number'], voa_businesses, target_lad)\n",
    "    temp['street_match'] = street_match\n",
    "    temp['number_match'] = number_match\n",
    "    temp['matches_business_address'] = temp['street_match'] & temp['number_match']\n",
    "    #temp['matches_business_address'] = business_address_matcher(temp['street_name'], temp['street_number'], voa_businesses, target_lad)\n",
    "    matched_lads_list = matched_lads_list + [temp]\n"
   ]
  },
  {
   "cell_type": "code",
   "execution_count": 56,
   "id": "a34e2658",
   "metadata": {},
   "outputs": [
    {
     "name": "stdout",
     "output_type": "stream",
     "text": [
      "E08000001\n"
     ]
    },
    {
     "name": "stderr",
     "output_type": "stream",
     "text": [
      "<ipython-input-38-a850dbcbd8ec>:53: SettingWithCopyWarning: \n",
      "A value is trying to be set on a copy of a slice from a DataFrame.\n",
      "Try using .loc[row_indexer,col_indexer] = value instead\n",
      "\n",
      "See the caveats in the documentation: https://pandas.pydata.org/pandas-docs/stable/user_guide/indexing.html#returning-a-view-versus-a-copy\n",
      "  temp_multi['number_filter'] = filter_types\n"
     ]
    },
    {
     "name": "stdout",
     "output_type": "stream",
     "text": [
      "i= 0  expand time,0.001 filter time0.0 make_dataframe_time 0.001\n",
      "E07000009\n"
     ]
    },
    {
     "name": "stderr",
     "output_type": "stream",
     "text": [
      "<ipython-input-38-a850dbcbd8ec>:53: SettingWithCopyWarning: \n",
      "A value is trying to be set on a copy of a slice from a DataFrame.\n",
      "Try using .loc[row_indexer,col_indexer] = value instead\n",
      "\n",
      "See the caveats in the documentation: https://pandas.pydata.org/pandas-docs/stable/user_guide/indexing.html#returning-a-view-versus-a-copy\n",
      "  temp_multi['number_filter'] = filter_types\n"
     ]
    },
    {
     "name": "stdout",
     "output_type": "stream",
     "text": [
      "i= 0  expand time,0.0 filter time0.0 make_dataframe_time 0.001\n",
      "E07000011\n"
     ]
    },
    {
     "name": "stderr",
     "output_type": "stream",
     "text": [
      "<ipython-input-38-a850dbcbd8ec>:53: SettingWithCopyWarning: \n",
      "A value is trying to be set on a copy of a slice from a DataFrame.\n",
      "Try using .loc[row_indexer,col_indexer] = value instead\n",
      "\n",
      "See the caveats in the documentation: https://pandas.pydata.org/pandas-docs/stable/user_guide/indexing.html#returning-a-view-versus-a-copy\n",
      "  temp_multi['number_filter'] = filter_types\n"
     ]
    },
    {
     "name": "stdout",
     "output_type": "stream",
     "text": [
      "i= 0  expand time,0.0 filter time0.0 make_dataframe_time 0.001\n",
      "E06000042\n"
     ]
    },
    {
     "name": "stderr",
     "output_type": "stream",
     "text": [
      "<ipython-input-38-a850dbcbd8ec>:53: SettingWithCopyWarning: \n",
      "A value is trying to be set on a copy of a slice from a DataFrame.\n",
      "Try using .loc[row_indexer,col_indexer] = value instead\n",
      "\n",
      "See the caveats in the documentation: https://pandas.pydata.org/pandas-docs/stable/user_guide/indexing.html#returning-a-view-versus-a-copy\n",
      "  temp_multi['number_filter'] = filter_types\n"
     ]
    },
    {
     "name": "stdout",
     "output_type": "stream",
     "text": [
      "i= 0  expand time,0.0 filter time0.0 make_dataframe_time 0.001\n",
      "E09000033\n"
     ]
    },
    {
     "name": "stderr",
     "output_type": "stream",
     "text": [
      "<ipython-input-38-a850dbcbd8ec>:53: SettingWithCopyWarning: \n",
      "A value is trying to be set on a copy of a slice from a DataFrame.\n",
      "Try using .loc[row_indexer,col_indexer] = value instead\n",
      "\n",
      "See the caveats in the documentation: https://pandas.pydata.org/pandas-docs/stable/user_guide/indexing.html#returning-a-view-versus-a-copy\n",
      "  temp_multi['number_filter'] = filter_types\n"
     ]
    },
    {
     "name": "stdout",
     "output_type": "stream",
     "text": [
      "i= 0  expand time,0.0 filter time0.0 make_dataframe_time 0.001\n",
      "E06000050\n"
     ]
    },
    {
     "name": "stderr",
     "output_type": "stream",
     "text": [
      "<ipython-input-38-a850dbcbd8ec>:53: SettingWithCopyWarning: \n",
      "A value is trying to be set on a copy of a slice from a DataFrame.\n",
      "Try using .loc[row_indexer,col_indexer] = value instead\n",
      "\n",
      "See the caveats in the documentation: https://pandas.pydata.org/pandas-docs/stable/user_guide/indexing.html#returning-a-view-versus-a-copy\n",
      "  temp_multi['number_filter'] = filter_types\n"
     ]
    },
    {
     "name": "stdout",
     "output_type": "stream",
     "text": [
      "i= 0  expand time,0.0 filter time0.0 make_dataframe_time 0.001\n",
      "E08000019\n"
     ]
    },
    {
     "name": "stderr",
     "output_type": "stream",
     "text": [
      "<ipython-input-38-a850dbcbd8ec>:53: SettingWithCopyWarning: \n",
      "A value is trying to be set on a copy of a slice from a DataFrame.\n",
      "Try using .loc[row_indexer,col_indexer] = value instead\n",
      "\n",
      "See the caveats in the documentation: https://pandas.pydata.org/pandas-docs/stable/user_guide/indexing.html#returning-a-view-versus-a-copy\n",
      "  temp_multi['number_filter'] = filter_types\n"
     ]
    },
    {
     "name": "stdout",
     "output_type": "stream",
     "text": [
      "i= 0  expand time,0.0 filter time0.0 make_dataframe_time 0.001\n",
      "E09000001\n"
     ]
    },
    {
     "name": "stderr",
     "output_type": "stream",
     "text": [
      "<ipython-input-38-a850dbcbd8ec>:53: SettingWithCopyWarning: \n",
      "A value is trying to be set on a copy of a slice from a DataFrame.\n",
      "Try using .loc[row_indexer,col_indexer] = value instead\n",
      "\n",
      "See the caveats in the documentation: https://pandas.pydata.org/pandas-docs/stable/user_guide/indexing.html#returning-a-view-versus-a-copy\n",
      "  temp_multi['number_filter'] = filter_types\n"
     ]
    },
    {
     "name": "stdout",
     "output_type": "stream",
     "text": [
      "i= 0  expand time,0.0 filter time0.0 make_dataframe_time 0.001\n",
      "E08000005\n"
     ]
    },
    {
     "name": "stderr",
     "output_type": "stream",
     "text": [
      "<ipython-input-38-a850dbcbd8ec>:53: SettingWithCopyWarning: \n",
      "A value is trying to be set on a copy of a slice from a DataFrame.\n",
      "Try using .loc[row_indexer,col_indexer] = value instead\n",
      "\n",
      "See the caveats in the documentation: https://pandas.pydata.org/pandas-docs/stable/user_guide/indexing.html#returning-a-view-versus-a-copy\n",
      "  temp_multi['number_filter'] = filter_types\n"
     ]
    },
    {
     "name": "stdout",
     "output_type": "stream",
     "text": [
      "i= 0  expand time,0.0 filter time0.0 make_dataframe_time 0.001\n",
      "E06000057\n"
     ]
    },
    {
     "name": "stderr",
     "output_type": "stream",
     "text": [
      "<ipython-input-38-a850dbcbd8ec>:53: SettingWithCopyWarning: \n",
      "A value is trying to be set on a copy of a slice from a DataFrame.\n",
      "Try using .loc[row_indexer,col_indexer] = value instead\n",
      "\n",
      "See the caveats in the documentation: https://pandas.pydata.org/pandas-docs/stable/user_guide/indexing.html#returning-a-view-versus-a-copy\n",
      "  temp_multi['number_filter'] = filter_types\n"
     ]
    },
    {
     "name": "stdout",
     "output_type": "stream",
     "text": [
      "i= 0  expand time,0.0 filter time0.0 make_dataframe_time 0.001\n",
      "E09000024\n"
     ]
    },
    {
     "name": "stderr",
     "output_type": "stream",
     "text": [
      "<ipython-input-38-a850dbcbd8ec>:53: SettingWithCopyWarning: \n",
      "A value is trying to be set on a copy of a slice from a DataFrame.\n",
      "Try using .loc[row_indexer,col_indexer] = value instead\n",
      "\n",
      "See the caveats in the documentation: https://pandas.pydata.org/pandas-docs/stable/user_guide/indexing.html#returning-a-view-versus-a-copy\n",
      "  temp_multi['number_filter'] = filter_types\n"
     ]
    },
    {
     "name": "stdout",
     "output_type": "stream",
     "text": [
      "i= 0  expand time,0.0 filter time0.0 make_dataframe_time 0.001\n",
      "E06000045\n"
     ]
    },
    {
     "name": "stderr",
     "output_type": "stream",
     "text": [
      "<ipython-input-38-a850dbcbd8ec>:53: SettingWithCopyWarning: \n",
      "A value is trying to be set on a copy of a slice from a DataFrame.\n",
      "Try using .loc[row_indexer,col_indexer] = value instead\n",
      "\n",
      "See the caveats in the documentation: https://pandas.pydata.org/pandas-docs/stable/user_guide/indexing.html#returning-a-view-versus-a-copy\n",
      "  temp_multi['number_filter'] = filter_types\n"
     ]
    },
    {
     "name": "stdout",
     "output_type": "stream",
     "text": [
      "i= 0  expand time,0.0 filter time0.0 make_dataframe_time 0.001\n",
      "E07000242\n"
     ]
    },
    {
     "name": "stderr",
     "output_type": "stream",
     "text": [
      "<ipython-input-38-a850dbcbd8ec>:53: SettingWithCopyWarning: \n",
      "A value is trying to be set on a copy of a slice from a DataFrame.\n",
      "Try using .loc[row_indexer,col_indexer] = value instead\n",
      "\n",
      "See the caveats in the documentation: https://pandas.pydata.org/pandas-docs/stable/user_guide/indexing.html#returning-a-view-versus-a-copy\n",
      "  temp_multi['number_filter'] = filter_types\n"
     ]
    },
    {
     "name": "stdout",
     "output_type": "stream",
     "text": [
      "i= 0  expand time,0.0 filter time0.0 make_dataframe_time 0.001\n",
      "E09000025\n"
     ]
    },
    {
     "name": "stderr",
     "output_type": "stream",
     "text": [
      "<ipython-input-38-a850dbcbd8ec>:53: SettingWithCopyWarning: \n",
      "A value is trying to be set on a copy of a slice from a DataFrame.\n",
      "Try using .loc[row_indexer,col_indexer] = value instead\n",
      "\n",
      "See the caveats in the documentation: https://pandas.pydata.org/pandas-docs/stable/user_guide/indexing.html#returning-a-view-versus-a-copy\n",
      "  temp_multi['number_filter'] = filter_types\n"
     ]
    },
    {
     "name": "stdout",
     "output_type": "stream",
     "text": [
      "i= 0  expand time,0.0 filter time0.0 make_dataframe_time 0.001\n",
      "E06000025\n"
     ]
    },
    {
     "name": "stderr",
     "output_type": "stream",
     "text": [
      "<ipython-input-38-a850dbcbd8ec>:53: SettingWithCopyWarning: \n",
      "A value is trying to be set on a copy of a slice from a DataFrame.\n",
      "Try using .loc[row_indexer,col_indexer] = value instead\n",
      "\n",
      "See the caveats in the documentation: https://pandas.pydata.org/pandas-docs/stable/user_guide/indexing.html#returning-a-view-versus-a-copy\n",
      "  temp_multi['number_filter'] = filter_types\n"
     ]
    },
    {
     "name": "stdout",
     "output_type": "stream",
     "text": [
      "i= 0  expand time,0.0 filter time0.0 make_dataframe_time 0.001\n",
      "E09000023\n"
     ]
    },
    {
     "name": "stderr",
     "output_type": "stream",
     "text": [
      "<ipython-input-38-a850dbcbd8ec>:53: SettingWithCopyWarning: \n",
      "A value is trying to be set on a copy of a slice from a DataFrame.\n",
      "Try using .loc[row_indexer,col_indexer] = value instead\n",
      "\n",
      "See the caveats in the documentation: https://pandas.pydata.org/pandas-docs/stable/user_guide/indexing.html#returning-a-view-versus-a-copy\n",
      "  temp_multi['number_filter'] = filter_types\n"
     ]
    },
    {
     "name": "stdout",
     "output_type": "stream",
     "text": [
      "i= 0  expand time,0.0 filter time0.0 make_dataframe_time 0.001\n",
      "E09000028\n"
     ]
    },
    {
     "name": "stderr",
     "output_type": "stream",
     "text": [
      "<ipython-input-38-a850dbcbd8ec>:53: SettingWithCopyWarning: \n",
      "A value is trying to be set on a copy of a slice from a DataFrame.\n",
      "Try using .loc[row_indexer,col_indexer] = value instead\n",
      "\n",
      "See the caveats in the documentation: https://pandas.pydata.org/pandas-docs/stable/user_guide/indexing.html#returning-a-view-versus-a-copy\n",
      "  temp_multi['number_filter'] = filter_types\n"
     ]
    },
    {
     "name": "stdout",
     "output_type": "stream",
     "text": [
      "i= 0  expand time,0.001 filter time0.0 make_dataframe_time 0.001\n",
      "E08000010\n"
     ]
    },
    {
     "name": "stderr",
     "output_type": "stream",
     "text": [
      "<ipython-input-38-a850dbcbd8ec>:53: SettingWithCopyWarning: \n",
      "A value is trying to be set on a copy of a slice from a DataFrame.\n",
      "Try using .loc[row_indexer,col_indexer] = value instead\n",
      "\n",
      "See the caveats in the documentation: https://pandas.pydata.org/pandas-docs/stable/user_guide/indexing.html#returning-a-view-versus-a-copy\n",
      "  temp_multi['number_filter'] = filter_types\n"
     ]
    },
    {
     "name": "stdout",
     "output_type": "stream",
     "text": [
      "i= 0  expand time,0.0 filter time0.0 make_dataframe_time 0.001\n",
      "E08000006\n"
     ]
    },
    {
     "name": "stderr",
     "output_type": "stream",
     "text": [
      "<ipython-input-38-a850dbcbd8ec>:53: SettingWithCopyWarning: \n",
      "A value is trying to be set on a copy of a slice from a DataFrame.\n",
      "Try using .loc[row_indexer,col_indexer] = value instead\n",
      "\n",
      "See the caveats in the documentation: https://pandas.pydata.org/pandas-docs/stable/user_guide/indexing.html#returning-a-view-versus-a-copy\n",
      "  temp_multi['number_filter'] = filter_types\n"
     ]
    },
    {
     "name": "stdout",
     "output_type": "stream",
     "text": [
      "i= 0  expand time,0.0 filter time0.0 make_dataframe_time 0.001\n",
      "E07000093\n"
     ]
    },
    {
     "name": "stderr",
     "output_type": "stream",
     "text": [
      "<ipython-input-38-a850dbcbd8ec>:53: SettingWithCopyWarning: \n",
      "A value is trying to be set on a copy of a slice from a DataFrame.\n",
      "Try using .loc[row_indexer,col_indexer] = value instead\n",
      "\n",
      "See the caveats in the documentation: https://pandas.pydata.org/pandas-docs/stable/user_guide/indexing.html#returning-a-view-versus-a-copy\n",
      "  temp_multi['number_filter'] = filter_types\n"
     ]
    },
    {
     "name": "stdout",
     "output_type": "stream",
     "text": [
      "i= 0  expand time,0.0 filter time0.0 make_dataframe_time 0.001\n",
      "E08000034\n"
     ]
    },
    {
     "name": "stderr",
     "output_type": "stream",
     "text": [
      "<ipython-input-38-a850dbcbd8ec>:53: SettingWithCopyWarning: \n",
      "A value is trying to be set on a copy of a slice from a DataFrame.\n",
      "Try using .loc[row_indexer,col_indexer] = value instead\n",
      "\n",
      "See the caveats in the documentation: https://pandas.pydata.org/pandas-docs/stable/user_guide/indexing.html#returning-a-view-versus-a-copy\n",
      "  temp_multi['number_filter'] = filter_types\n"
     ]
    },
    {
     "name": "stdout",
     "output_type": "stream",
     "text": [
      "i= 0  expand time,0.0 filter time0.0 make_dataframe_time 0.001\n",
      "E07000142\n"
     ]
    },
    {
     "name": "stderr",
     "output_type": "stream",
     "text": [
      "<ipython-input-38-a850dbcbd8ec>:53: SettingWithCopyWarning: \n",
      "A value is trying to be set on a copy of a slice from a DataFrame.\n",
      "Try using .loc[row_indexer,col_indexer] = value instead\n",
      "\n",
      "See the caveats in the documentation: https://pandas.pydata.org/pandas-docs/stable/user_guide/indexing.html#returning-a-view-versus-a-copy\n",
      "  temp_multi['number_filter'] = filter_types\n"
     ]
    },
    {
     "name": "stdout",
     "output_type": "stream",
     "text": [
      "i= 0  expand time,0.0 filter time0.0 make_dataframe_time 0.001\n",
      "E08000027\n"
     ]
    },
    {
     "name": "stderr",
     "output_type": "stream",
     "text": [
      "<ipython-input-38-a850dbcbd8ec>:53: SettingWithCopyWarning: \n",
      "A value is trying to be set on a copy of a slice from a DataFrame.\n",
      "Try using .loc[row_indexer,col_indexer] = value instead\n",
      "\n",
      "See the caveats in the documentation: https://pandas.pydata.org/pandas-docs/stable/user_guide/indexing.html#returning-a-view-versus-a-copy\n",
      "  temp_multi['number_filter'] = filter_types\n"
     ]
    },
    {
     "name": "stdout",
     "output_type": "stream",
     "text": [
      "i= 0  expand time,0.0 filter time0.0 make_dataframe_time 0.001\n",
      "E08000012\n"
     ]
    },
    {
     "name": "stderr",
     "output_type": "stream",
     "text": [
      "<ipython-input-38-a850dbcbd8ec>:53: SettingWithCopyWarning: \n",
      "A value is trying to be set on a copy of a slice from a DataFrame.\n",
      "Try using .loc[row_indexer,col_indexer] = value instead\n",
      "\n",
      "See the caveats in the documentation: https://pandas.pydata.org/pandas-docs/stable/user_guide/indexing.html#returning-a-view-versus-a-copy\n",
      "  temp_multi['number_filter'] = filter_types\n"
     ]
    },
    {
     "name": "stdout",
     "output_type": "stream",
     "text": [
      "i= 0  expand time,0.001 filter time0.0 make_dataframe_time 0.001\n",
      "E07000134\n"
     ]
    },
    {
     "name": "stderr",
     "output_type": "stream",
     "text": [
      "<ipython-input-38-a850dbcbd8ec>:53: SettingWithCopyWarning: \n",
      "A value is trying to be set on a copy of a slice from a DataFrame.\n",
      "Try using .loc[row_indexer,col_indexer] = value instead\n",
      "\n",
      "See the caveats in the documentation: https://pandas.pydata.org/pandas-docs/stable/user_guide/indexing.html#returning-a-view-versus-a-copy\n",
      "  temp_multi['number_filter'] = filter_types\n"
     ]
    },
    {
     "name": "stdout",
     "output_type": "stream",
     "text": [
      "i= 0  expand time,0.0 filter time0.0 make_dataframe_time 0.001\n",
      "E08000004\n"
     ]
    },
    {
     "name": "stderr",
     "output_type": "stream",
     "text": [
      "<ipython-input-38-a850dbcbd8ec>:53: SettingWithCopyWarning: \n",
      "A value is trying to be set on a copy of a slice from a DataFrame.\n",
      "Try using .loc[row_indexer,col_indexer] = value instead\n",
      "\n",
      "See the caveats in the documentation: https://pandas.pydata.org/pandas-docs/stable/user_guide/indexing.html#returning-a-view-versus-a-copy\n",
      "  temp_multi['number_filter'] = filter_types\n"
     ]
    },
    {
     "name": "stdout",
     "output_type": "stream",
     "text": [
      "i= 0  expand time,0.0 filter time0.0 make_dataframe_time 0.001\n",
      "E07000132\n"
     ]
    },
    {
     "name": "stderr",
     "output_type": "stream",
     "text": [
      "<ipython-input-38-a850dbcbd8ec>:53: SettingWithCopyWarning: \n",
      "A value is trying to be set on a copy of a slice from a DataFrame.\n",
      "Try using .loc[row_indexer,col_indexer] = value instead\n",
      "\n",
      "See the caveats in the documentation: https://pandas.pydata.org/pandas-docs/stable/user_guide/indexing.html#returning-a-view-versus-a-copy\n",
      "  temp_multi['number_filter'] = filter_types\n"
     ]
    },
    {
     "name": "stdout",
     "output_type": "stream",
     "text": [
      "i= 0  expand time,0.0 filter time0.0 make_dataframe_time 0.001\n",
      "E07000176\n"
     ]
    },
    {
     "name": "stderr",
     "output_type": "stream",
     "text": [
      "<ipython-input-38-a850dbcbd8ec>:53: SettingWithCopyWarning: \n",
      "A value is trying to be set on a copy of a slice from a DataFrame.\n",
      "Try using .loc[row_indexer,col_indexer] = value instead\n",
      "\n",
      "See the caveats in the documentation: https://pandas.pydata.org/pandas-docs/stable/user_guide/indexing.html#returning-a-view-versus-a-copy\n",
      "  temp_multi['number_filter'] = filter_types\n"
     ]
    },
    {
     "name": "stdout",
     "output_type": "stream",
     "text": [
      "i= 0  expand time,0.0 filter time0.0 make_dataframe_time 0.001\n",
      "E09000012\n"
     ]
    },
    {
     "name": "stderr",
     "output_type": "stream",
     "text": [
      "<ipython-input-38-a850dbcbd8ec>:53: SettingWithCopyWarning: \n",
      "A value is trying to be set on a copy of a slice from a DataFrame.\n",
      "Try using .loc[row_indexer,col_indexer] = value instead\n",
      "\n",
      "See the caveats in the documentation: https://pandas.pydata.org/pandas-docs/stable/user_guide/indexing.html#returning-a-view-versus-a-copy\n",
      "  temp_multi['number_filter'] = filter_types\n"
     ]
    },
    {
     "name": "stdout",
     "output_type": "stream",
     "text": [
      "i= 0  expand time,0.0 filter time0.0 make_dataframe_time 0.001\n",
      "E09000030\n"
     ]
    },
    {
     "name": "stderr",
     "output_type": "stream",
     "text": [
      "<ipython-input-38-a850dbcbd8ec>:53: SettingWithCopyWarning: \n",
      "A value is trying to be set on a copy of a slice from a DataFrame.\n",
      "Try using .loc[row_indexer,col_indexer] = value instead\n",
      "\n",
      "See the caveats in the documentation: https://pandas.pydata.org/pandas-docs/stable/user_guide/indexing.html#returning-a-view-versus-a-copy\n",
      "  temp_multi['number_filter'] = filter_types\n"
     ]
    },
    {
     "name": "stdout",
     "output_type": "stream",
     "text": [
      "i= 0  expand time,0.0 filter time0.0 make_dataframe_time 0.001\n",
      "E09000007\n"
     ]
    },
    {
     "name": "stderr",
     "output_type": "stream",
     "text": [
      "<ipython-input-38-a850dbcbd8ec>:53: SettingWithCopyWarning: \n",
      "A value is trying to be set on a copy of a slice from a DataFrame.\n",
      "Try using .loc[row_indexer,col_indexer] = value instead\n",
      "\n",
      "See the caveats in the documentation: https://pandas.pydata.org/pandas-docs/stable/user_guide/indexing.html#returning-a-view-versus-a-copy\n",
      "  temp_multi['number_filter'] = filter_types\n"
     ]
    },
    {
     "name": "stdout",
     "output_type": "stream",
     "text": [
      "i= 0  expand time,0.0 filter time0.0 make_dataframe_time 0.001\n",
      "E07000193\n"
     ]
    },
    {
     "name": "stderr",
     "output_type": "stream",
     "text": [
      "<ipython-input-38-a850dbcbd8ec>:53: SettingWithCopyWarning: \n",
      "A value is trying to be set on a copy of a slice from a DataFrame.\n",
      "Try using .loc[row_indexer,col_indexer] = value instead\n",
      "\n",
      "See the caveats in the documentation: https://pandas.pydata.org/pandas-docs/stable/user_guide/indexing.html#returning-a-view-versus-a-copy\n",
      "  temp_multi['number_filter'] = filter_types\n"
     ]
    },
    {
     "name": "stdout",
     "output_type": "stream",
     "text": [
      "i= 0  expand time,0.0 filter time0.0 make_dataframe_time 0.001\n",
      "E07000195\n"
     ]
    },
    {
     "name": "stderr",
     "output_type": "stream",
     "text": [
      "<ipython-input-38-a850dbcbd8ec>:53: SettingWithCopyWarning: \n",
      "A value is trying to be set on a copy of a slice from a DataFrame.\n",
      "Try using .loc[row_indexer,col_indexer] = value instead\n",
      "\n",
      "See the caveats in the documentation: https://pandas.pydata.org/pandas-docs/stable/user_guide/indexing.html#returning-a-view-versus-a-copy\n",
      "  temp_multi['number_filter'] = filter_types\n"
     ]
    },
    {
     "name": "stdout",
     "output_type": "stream",
     "text": [
      "i= 0  expand time,0.0 filter time0.0 make_dataframe_time 0.001\n",
      "E07000171\n"
     ]
    },
    {
     "name": "stderr",
     "output_type": "stream",
     "text": [
      "<ipython-input-38-a850dbcbd8ec>:53: SettingWithCopyWarning: \n",
      "A value is trying to be set on a copy of a slice from a DataFrame.\n",
      "Try using .loc[row_indexer,col_indexer] = value instead\n",
      "\n",
      "See the caveats in the documentation: https://pandas.pydata.org/pandas-docs/stable/user_guide/indexing.html#returning-a-view-versus-a-copy\n",
      "  temp_multi['number_filter'] = filter_types\n"
     ]
    },
    {
     "name": "stdout",
     "output_type": "stream",
     "text": [
      "i= 0  expand time,0.0 filter time0.0 make_dataframe_time 0.001\n",
      "E07000085\n"
     ]
    },
    {
     "name": "stderr",
     "output_type": "stream",
     "text": [
      "<ipython-input-38-a850dbcbd8ec>:53: SettingWithCopyWarning: \n",
      "A value is trying to be set on a copy of a slice from a DataFrame.\n",
      "Try using .loc[row_indexer,col_indexer] = value instead\n",
      "\n",
      "See the caveats in the documentation: https://pandas.pydata.org/pandas-docs/stable/user_guide/indexing.html#returning-a-view-versus-a-copy\n",
      "  temp_multi['number_filter'] = filter_types\n"
     ]
    },
    {
     "name": "stdout",
     "output_type": "stream",
     "text": [
      "i= 0  expand time,0.0 filter time0.0 make_dataframe_time 0.001\n",
      "E08000015\n"
     ]
    },
    {
     "name": "stderr",
     "output_type": "stream",
     "text": [
      "<ipython-input-38-a850dbcbd8ec>:53: SettingWithCopyWarning: \n",
      "A value is trying to be set on a copy of a slice from a DataFrame.\n",
      "Try using .loc[row_indexer,col_indexer] = value instead\n",
      "\n",
      "See the caveats in the documentation: https://pandas.pydata.org/pandas-docs/stable/user_guide/indexing.html#returning-a-view-versus-a-copy\n",
      "  temp_multi['number_filter'] = filter_types\n"
     ]
    },
    {
     "name": "stdout",
     "output_type": "stream",
     "text": [
      "i= 0  expand time,0.0 filter time0.0 make_dataframe_time 0.001\n",
      "E08000036\n"
     ]
    },
    {
     "name": "stderr",
     "output_type": "stream",
     "text": [
      "<ipython-input-38-a850dbcbd8ec>:53: SettingWithCopyWarning: \n",
      "A value is trying to be set on a copy of a slice from a DataFrame.\n",
      "Try using .loc[row_indexer,col_indexer] = value instead\n",
      "\n",
      "See the caveats in the documentation: https://pandas.pydata.org/pandas-docs/stable/user_guide/indexing.html#returning-a-view-versus-a-copy\n",
      "  temp_multi['number_filter'] = filter_types\n"
     ]
    },
    {
     "name": "stdout",
     "output_type": "stream",
     "text": [
      "i= 0  expand time,0.0 filter time0.0 make_dataframe_time 0.001\n",
      "E09000019\n"
     ]
    },
    {
     "name": "stderr",
     "output_type": "stream",
     "text": [
      "<ipython-input-38-a850dbcbd8ec>:53: SettingWithCopyWarning: \n",
      "A value is trying to be set on a copy of a slice from a DataFrame.\n",
      "Try using .loc[row_indexer,col_indexer] = value instead\n",
      "\n",
      "See the caveats in the documentation: https://pandas.pydata.org/pandas-docs/stable/user_guide/indexing.html#returning-a-view-versus-a-copy\n",
      "  temp_multi['number_filter'] = filter_types\n"
     ]
    },
    {
     "name": "stdout",
     "output_type": "stream",
     "text": [
      "i= 0  expand time,0.0 filter time0.0 make_dataframe_time 0.001\n",
      "E07000105\n"
     ]
    },
    {
     "name": "stderr",
     "output_type": "stream",
     "text": [
      "<ipython-input-38-a850dbcbd8ec>:53: SettingWithCopyWarning: \n",
      "A value is trying to be set on a copy of a slice from a DataFrame.\n",
      "Try using .loc[row_indexer,col_indexer] = value instead\n",
      "\n",
      "See the caveats in the documentation: https://pandas.pydata.org/pandas-docs/stable/user_guide/indexing.html#returning-a-view-versus-a-copy\n",
      "  temp_multi['number_filter'] = filter_types\n"
     ]
    },
    {
     "name": "stdout",
     "output_type": "stream",
     "text": [
      "i= 0  expand time,0.0 filter time0.0 make_dataframe_time 0.001\n",
      "E07000209\n"
     ]
    },
    {
     "name": "stderr",
     "output_type": "stream",
     "text": [
      "<ipython-input-38-a850dbcbd8ec>:53: SettingWithCopyWarning: \n",
      "A value is trying to be set on a copy of a slice from a DataFrame.\n",
      "Try using .loc[row_indexer,col_indexer] = value instead\n",
      "\n",
      "See the caveats in the documentation: https://pandas.pydata.org/pandas-docs/stable/user_guide/indexing.html#returning-a-view-versus-a-copy\n",
      "  temp_multi['number_filter'] = filter_types\n"
     ]
    },
    {
     "name": "stdout",
     "output_type": "stream",
     "text": [
      "i= 0  expand time,0.0 filter time0.0 make_dataframe_time 0.001\n",
      "E06000023\n"
     ]
    },
    {
     "name": "stderr",
     "output_type": "stream",
     "text": [
      "<ipython-input-38-a850dbcbd8ec>:53: SettingWithCopyWarning: \n",
      "A value is trying to be set on a copy of a slice from a DataFrame.\n",
      "Try using .loc[row_indexer,col_indexer] = value instead\n",
      "\n",
      "See the caveats in the documentation: https://pandas.pydata.org/pandas-docs/stable/user_guide/indexing.html#returning-a-view-versus-a-copy\n",
      "  temp_multi['number_filter'] = filter_types\n"
     ]
    },
    {
     "name": "stdout",
     "output_type": "stream",
     "text": [
      "i= 0  expand time,0.0 filter time0.0 make_dataframe_time 0.001\n",
      "E06000022\n"
     ]
    },
    {
     "name": "stderr",
     "output_type": "stream",
     "text": [
      "<ipython-input-38-a850dbcbd8ec>:53: SettingWithCopyWarning: \n",
      "A value is trying to be set on a copy of a slice from a DataFrame.\n",
      "Try using .loc[row_indexer,col_indexer] = value instead\n",
      "\n",
      "See the caveats in the documentation: https://pandas.pydata.org/pandas-docs/stable/user_guide/indexing.html#returning-a-view-versus-a-copy\n",
      "  temp_multi['number_filter'] = filter_types\n"
     ]
    },
    {
     "name": "stdout",
     "output_type": "stream",
     "text": [
      "i= 0  expand time,0.0 filter time0.0 make_dataframe_time 0.001\n",
      "E07000061\n"
     ]
    },
    {
     "name": "stderr",
     "output_type": "stream",
     "text": [
      "<ipython-input-38-a850dbcbd8ec>:53: SettingWithCopyWarning: \n",
      "A value is trying to be set on a copy of a slice from a DataFrame.\n",
      "Try using .loc[row_indexer,col_indexer] = value instead\n",
      "\n",
      "See the caveats in the documentation: https://pandas.pydata.org/pandas-docs/stable/user_guide/indexing.html#returning-a-view-versus-a-copy\n",
      "  temp_multi['number_filter'] = filter_types\n"
     ]
    },
    {
     "name": "stdout",
     "output_type": "stream",
     "text": [
      "i= 0  expand time,0.0 filter time0.0 make_dataframe_time 0.001\n",
      "E09000032\n"
     ]
    },
    {
     "name": "stderr",
     "output_type": "stream",
     "text": [
      "<ipython-input-38-a850dbcbd8ec>:53: SettingWithCopyWarning: \n",
      "A value is trying to be set on a copy of a slice from a DataFrame.\n",
      "Try using .loc[row_indexer,col_indexer] = value instead\n",
      "\n",
      "See the caveats in the documentation: https://pandas.pydata.org/pandas-docs/stable/user_guide/indexing.html#returning-a-view-versus-a-copy\n",
      "  temp_multi['number_filter'] = filter_types\n"
     ]
    },
    {
     "name": "stdout",
     "output_type": "stream",
     "text": [
      "i= 0  expand time,0.0 filter time0.0 make_dataframe_time 0.001\n",
      "E07000109\n"
     ]
    },
    {
     "name": "stderr",
     "output_type": "stream",
     "text": [
      "<ipython-input-38-a850dbcbd8ec>:53: SettingWithCopyWarning: \n",
      "A value is trying to be set on a copy of a slice from a DataFrame.\n",
      "Try using .loc[row_indexer,col_indexer] = value instead\n",
      "\n",
      "See the caveats in the documentation: https://pandas.pydata.org/pandas-docs/stable/user_guide/indexing.html#returning-a-view-versus-a-copy\n",
      "  temp_multi['number_filter'] = filter_types\n"
     ]
    },
    {
     "name": "stdout",
     "output_type": "stream",
     "text": [
      "i= 0  expand time,0.0 filter time0.0 make_dataframe_time 0.001\n",
      "E08000023\n"
     ]
    },
    {
     "name": "stderr",
     "output_type": "stream",
     "text": [
      "<ipython-input-38-a850dbcbd8ec>:53: SettingWithCopyWarning: \n",
      "A value is trying to be set on a copy of a slice from a DataFrame.\n",
      "Try using .loc[row_indexer,col_indexer] = value instead\n",
      "\n",
      "See the caveats in the documentation: https://pandas.pydata.org/pandas-docs/stable/user_guide/indexing.html#returning-a-view-versus-a-copy\n",
      "  temp_multi['number_filter'] = filter_types\n"
     ]
    },
    {
     "name": "stdout",
     "output_type": "stream",
     "text": [
      "i= 0  expand time,0.0 filter time0.0 make_dataframe_time 0.001\n",
      "E08000025\n"
     ]
    },
    {
     "name": "stderr",
     "output_type": "stream",
     "text": [
      "<ipython-input-38-a850dbcbd8ec>:53: SettingWithCopyWarning: \n",
      "A value is trying to be set on a copy of a slice from a DataFrame.\n",
      "Try using .loc[row_indexer,col_indexer] = value instead\n",
      "\n",
      "See the caveats in the documentation: https://pandas.pydata.org/pandas-docs/stable/user_guide/indexing.html#returning-a-view-versus-a-copy\n",
      "  temp_multi['number_filter'] = filter_types\n"
     ]
    },
    {
     "name": "stdout",
     "output_type": "stream",
     "text": [
      "i= 0  expand time,0.0 filter time0.0 make_dataframe_time 0.001\n",
      "E08000030\n"
     ]
    },
    {
     "name": "stderr",
     "output_type": "stream",
     "text": [
      "<ipython-input-38-a850dbcbd8ec>:53: SettingWithCopyWarning: \n",
      "A value is trying to be set on a copy of a slice from a DataFrame.\n",
      "Try using .loc[row_indexer,col_indexer] = value instead\n",
      "\n",
      "See the caveats in the documentation: https://pandas.pydata.org/pandas-docs/stable/user_guide/indexing.html#returning-a-view-versus-a-copy\n",
      "  temp_multi['number_filter'] = filter_types\n"
     ]
    },
    {
     "name": "stdout",
     "output_type": "stream",
     "text": [
      "i= 0  expand time,0.0 filter time0.0 make_dataframe_time 0.001\n",
      "W06000006\n"
     ]
    },
    {
     "name": "stderr",
     "output_type": "stream",
     "text": [
      "<ipython-input-38-a850dbcbd8ec>:53: SettingWithCopyWarning: \n",
      "A value is trying to be set on a copy of a slice from a DataFrame.\n",
      "Try using .loc[row_indexer,col_indexer] = value instead\n",
      "\n",
      "See the caveats in the documentation: https://pandas.pydata.org/pandas-docs/stable/user_guide/indexing.html#returning-a-view-versus-a-copy\n",
      "  temp_multi['number_filter'] = filter_types\n"
     ]
    },
    {
     "name": "stdout",
     "output_type": "stream",
     "text": [
      "i= 0  expand time,0.0 filter time0.0 make_dataframe_time 0.001\n",
      "E09000020\n"
     ]
    },
    {
     "name": "stderr",
     "output_type": "stream",
     "text": [
      "<ipython-input-38-a850dbcbd8ec>:53: SettingWithCopyWarning: \n",
      "A value is trying to be set on a copy of a slice from a DataFrame.\n",
      "Try using .loc[row_indexer,col_indexer] = value instead\n",
      "\n",
      "See the caveats in the documentation: https://pandas.pydata.org/pandas-docs/stable/user_guide/indexing.html#returning-a-view-versus-a-copy\n",
      "  temp_multi['number_filter'] = filter_types\n"
     ]
    },
    {
     "name": "stdout",
     "output_type": "stream",
     "text": [
      "i= 0  expand time,0.0 filter time0.0 make_dataframe_time 0.001\n",
      "E06000016\n"
     ]
    },
    {
     "name": "stderr",
     "output_type": "stream",
     "text": [
      "<ipython-input-38-a850dbcbd8ec>:53: SettingWithCopyWarning: \n",
      "A value is trying to be set on a copy of a slice from a DataFrame.\n",
      "Try using .loc[row_indexer,col_indexer] = value instead\n",
      "\n",
      "See the caveats in the documentation: https://pandas.pydata.org/pandas-docs/stable/user_guide/indexing.html#returning-a-view-versus-a-copy\n",
      "  temp_multi['number_filter'] = filter_types\n"
     ]
    },
    {
     "name": "stdout",
     "output_type": "stream",
     "text": [
      "i= 0  expand time,0.0 filter time0.0 make_dataframe_time 0.001\n",
      "E07000118\n"
     ]
    },
    {
     "name": "stderr",
     "output_type": "stream",
     "text": [
      "<ipython-input-38-a850dbcbd8ec>:53: SettingWithCopyWarning: \n",
      "A value is trying to be set on a copy of a slice from a DataFrame.\n",
      "Try using .loc[row_indexer,col_indexer] = value instead\n",
      "\n",
      "See the caveats in the documentation: https://pandas.pydata.org/pandas-docs/stable/user_guide/indexing.html#returning-a-view-versus-a-copy\n",
      "  temp_multi['number_filter'] = filter_types\n"
     ]
    },
    {
     "name": "stdout",
     "output_type": "stream",
     "text": [
      "i= 0  expand time,0.0 filter time0.0 make_dataframe_time 0.001\n",
      "E08000003\n"
     ]
    },
    {
     "name": "stderr",
     "output_type": "stream",
     "text": [
      "<ipython-input-38-a850dbcbd8ec>:53: SettingWithCopyWarning: \n",
      "A value is trying to be set on a copy of a slice from a DataFrame.\n",
      "Try using .loc[row_indexer,col_indexer] = value instead\n",
      "\n",
      "See the caveats in the documentation: https://pandas.pydata.org/pandas-docs/stable/user_guide/indexing.html#returning-a-view-versus-a-copy\n",
      "  temp_multi['number_filter'] = filter_types\n"
     ]
    },
    {
     "name": "stdout",
     "output_type": "stream",
     "text": [
      "i= 0  expand time,0.0 filter time0.0 make_dataframe_time 0.001\n",
      "E07000246\n"
     ]
    },
    {
     "name": "stderr",
     "output_type": "stream",
     "text": [
      "<ipython-input-38-a850dbcbd8ec>:53: SettingWithCopyWarning: \n",
      "A value is trying to be set on a copy of a slice from a DataFrame.\n",
      "Try using .loc[row_indexer,col_indexer] = value instead\n",
      "\n",
      "See the caveats in the documentation: https://pandas.pydata.org/pandas-docs/stable/user_guide/indexing.html#returning-a-view-versus-a-copy\n",
      "  temp_multi['number_filter'] = filter_types\n"
     ]
    },
    {
     "name": "stdout",
     "output_type": "stream",
     "text": [
      "i= 0  expand time,0.0 filter time0.0 make_dataframe_time 0.001\n",
      "E08000033\n"
     ]
    },
    {
     "name": "stderr",
     "output_type": "stream",
     "text": [
      "<ipython-input-38-a850dbcbd8ec>:53: SettingWithCopyWarning: \n",
      "A value is trying to be set on a copy of a slice from a DataFrame.\n",
      "Try using .loc[row_indexer,col_indexer] = value instead\n",
      "\n",
      "See the caveats in the documentation: https://pandas.pydata.org/pandas-docs/stable/user_guide/indexing.html#returning-a-view-versus-a-copy\n",
      "  temp_multi['number_filter'] = filter_types\n"
     ]
    },
    {
     "name": "stdout",
     "output_type": "stream",
     "text": [
      "i= 0  expand time,0.0 filter time0.0 make_dataframe_time 0.001\n",
      "E07000238\n"
     ]
    },
    {
     "name": "stderr",
     "output_type": "stream",
     "text": [
      "<ipython-input-38-a850dbcbd8ec>:53: SettingWithCopyWarning: \n",
      "A value is trying to be set on a copy of a slice from a DataFrame.\n",
      "Try using .loc[row_indexer,col_indexer] = value instead\n",
      "\n",
      "See the caveats in the documentation: https://pandas.pydata.org/pandas-docs/stable/user_guide/indexing.html#returning-a-view-versus-a-copy\n",
      "  temp_multi['number_filter'] = filter_types\n"
     ]
    },
    {
     "name": "stdout",
     "output_type": "stream",
     "text": [
      "i= 0  expand time,0.0 filter time0.0 make_dataframe_time 0.001\n",
      "E06000049\n"
     ]
    },
    {
     "name": "stderr",
     "output_type": "stream",
     "text": [
      "<ipython-input-38-a850dbcbd8ec>:53: SettingWithCopyWarning: \n",
      "A value is trying to be set on a copy of a slice from a DataFrame.\n",
      "Try using .loc[row_indexer,col_indexer] = value instead\n",
      "\n",
      "See the caveats in the documentation: https://pandas.pydata.org/pandas-docs/stable/user_guide/indexing.html#returning-a-view-versus-a-copy\n",
      "  temp_multi['number_filter'] = filter_types\n"
     ]
    },
    {
     "name": "stdout",
     "output_type": "stream",
     "text": [
      "i= 0  expand time,0.0 filter time0.0 make_dataframe_time 0.001\n",
      "E06000032\n"
     ]
    },
    {
     "name": "stderr",
     "output_type": "stream",
     "text": [
      "<ipython-input-38-a850dbcbd8ec>:53: SettingWithCopyWarning: \n",
      "A value is trying to be set on a copy of a slice from a DataFrame.\n",
      "Try using .loc[row_indexer,col_indexer] = value instead\n",
      "\n",
      "See the caveats in the documentation: https://pandas.pydata.org/pandas-docs/stable/user_guide/indexing.html#returning-a-view-versus-a-copy\n",
      "  temp_multi['number_filter'] = filter_types\n"
     ]
    },
    {
     "name": "stdout",
     "output_type": "stream",
     "text": [
      "i= 0  expand time,0.0 filter time0.0 make_dataframe_time 0.001\n",
      "E08000017\n"
     ]
    },
    {
     "name": "stderr",
     "output_type": "stream",
     "text": [
      "<ipython-input-38-a850dbcbd8ec>:53: SettingWithCopyWarning: \n",
      "A value is trying to be set on a copy of a slice from a DataFrame.\n",
      "Try using .loc[row_indexer,col_indexer] = value instead\n",
      "\n",
      "See the caveats in the documentation: https://pandas.pydata.org/pandas-docs/stable/user_guide/indexing.html#returning-a-view-versus-a-copy\n",
      "  temp_multi['number_filter'] = filter_types\n"
     ]
    },
    {
     "name": "stdout",
     "output_type": "stream",
     "text": [
      "i= 0  expand time,0.0 filter time0.0 make_dataframe_time 0.001\n",
      "E09000005\n"
     ]
    },
    {
     "name": "stderr",
     "output_type": "stream",
     "text": [
      "<ipython-input-38-a850dbcbd8ec>:53: SettingWithCopyWarning: \n",
      "A value is trying to be set on a copy of a slice from a DataFrame.\n",
      "Try using .loc[row_indexer,col_indexer] = value instead\n",
      "\n",
      "See the caveats in the documentation: https://pandas.pydata.org/pandas-docs/stable/user_guide/indexing.html#returning-a-view-versus-a-copy\n",
      "  temp_multi['number_filter'] = filter_types\n"
     ]
    },
    {
     "name": "stdout",
     "output_type": "stream",
     "text": [
      "i= 0  expand time,0.0 filter time0.0 make_dataframe_time 0.001\n",
      "E07000107\n"
     ]
    },
    {
     "name": "stderr",
     "output_type": "stream",
     "text": [
      "<ipython-input-38-a850dbcbd8ec>:53: SettingWithCopyWarning: \n",
      "A value is trying to be set on a copy of a slice from a DataFrame.\n",
      "Try using .loc[row_indexer,col_indexer] = value instead\n",
      "\n",
      "See the caveats in the documentation: https://pandas.pydata.org/pandas-docs/stable/user_guide/indexing.html#returning-a-view-versus-a-copy\n",
      "  temp_multi['number_filter'] = filter_types\n"
     ]
    },
    {
     "name": "stdout",
     "output_type": "stream",
     "text": [
      "i= 0  expand time,0.0 filter time0.0 make_dataframe_time 0.001\n",
      "E07000111\n"
     ]
    },
    {
     "name": "stderr",
     "output_type": "stream",
     "text": [
      "<ipython-input-38-a850dbcbd8ec>:53: SettingWithCopyWarning: \n",
      "A value is trying to be set on a copy of a slice from a DataFrame.\n",
      "Try using .loc[row_indexer,col_indexer] = value instead\n",
      "\n",
      "See the caveats in the documentation: https://pandas.pydata.org/pandas-docs/stable/user_guide/indexing.html#returning-a-view-versus-a-copy\n",
      "  temp_multi['number_filter'] = filter_types\n"
     ]
    },
    {
     "name": "stdout",
     "output_type": "stream",
     "text": [
      "i= 0  expand time,0.0 filter time0.0 make_dataframe_time 0.001\n",
      "E08000032\n"
     ]
    },
    {
     "name": "stderr",
     "output_type": "stream",
     "text": [
      "<ipython-input-38-a850dbcbd8ec>:53: SettingWithCopyWarning: \n",
      "A value is trying to be set on a copy of a slice from a DataFrame.\n",
      "Try using .loc[row_indexer,col_indexer] = value instead\n",
      "\n",
      "See the caveats in the documentation: https://pandas.pydata.org/pandas-docs/stable/user_guide/indexing.html#returning-a-view-versus-a-copy\n",
      "  temp_multi['number_filter'] = filter_types\n"
     ]
    },
    {
     "name": "stdout",
     "output_type": "stream",
     "text": [
      "i= 0  expand time,0.001 filter time0.0 make_dataframe_time 0.001\n",
      "E08000035\n"
     ]
    },
    {
     "name": "stderr",
     "output_type": "stream",
     "text": [
      "<ipython-input-38-a850dbcbd8ec>:53: SettingWithCopyWarning: \n",
      "A value is trying to be set on a copy of a slice from a DataFrame.\n",
      "Try using .loc[row_indexer,col_indexer] = value instead\n",
      "\n",
      "See the caveats in the documentation: https://pandas.pydata.org/pandas-docs/stable/user_guide/indexing.html#returning-a-view-versus-a-copy\n",
      "  temp_multi['number_filter'] = filter_types\n"
     ]
    },
    {
     "name": "stdout",
     "output_type": "stream",
     "text": [
      "i= 0  expand time,0.0 filter time0.0 make_dataframe_time 0.001\n",
      "E07000228\n"
     ]
    },
    {
     "name": "stderr",
     "output_type": "stream",
     "text": [
      "<ipython-input-38-a850dbcbd8ec>:53: SettingWithCopyWarning: \n",
      "A value is trying to be set on a copy of a slice from a DataFrame.\n",
      "Try using .loc[row_indexer,col_indexer] = value instead\n",
      "\n",
      "See the caveats in the documentation: https://pandas.pydata.org/pandas-docs/stable/user_guide/indexing.html#returning-a-view-versus-a-copy\n",
      "  temp_multi['number_filter'] = filter_types\n"
     ]
    },
    {
     "name": "stdout",
     "output_type": "stream",
     "text": [
      "i= 0  expand time,0.0 filter time0.0 make_dataframe_time 0.001\n",
      "E09000022\n"
     ]
    },
    {
     "name": "stderr",
     "output_type": "stream",
     "text": [
      "<ipython-input-38-a850dbcbd8ec>:53: SettingWithCopyWarning: \n",
      "A value is trying to be set on a copy of a slice from a DataFrame.\n",
      "Try using .loc[row_indexer,col_indexer] = value instead\n",
      "\n",
      "See the caveats in the documentation: https://pandas.pydata.org/pandas-docs/stable/user_guide/indexing.html#returning-a-view-versus-a-copy\n",
      "  temp_multi['number_filter'] = filter_types\n"
     ]
    },
    {
     "name": "stdout",
     "output_type": "stream",
     "text": [
      "i= 0  expand time,0.0 filter time0.0 make_dataframe_time 0.001\n",
      "E06000037\n"
     ]
    },
    {
     "name": "stderr",
     "output_type": "stream",
     "text": [
      "<ipython-input-38-a850dbcbd8ec>:53: SettingWithCopyWarning: \n",
      "A value is trying to be set on a copy of a slice from a DataFrame.\n",
      "Try using .loc[row_indexer,col_indexer] = value instead\n",
      "\n",
      "See the caveats in the documentation: https://pandas.pydata.org/pandas-docs/stable/user_guide/indexing.html#returning-a-view-versus-a-copy\n",
      "  temp_multi['number_filter'] = filter_types\n"
     ]
    },
    {
     "name": "stdout",
     "output_type": "stream",
     "text": [
      "i= 0  expand time,0.0 filter time0.0 make_dataframe_time 0.001\n",
      "E09000004\n"
     ]
    },
    {
     "name": "stderr",
     "output_type": "stream",
     "text": [
      "<ipython-input-38-a850dbcbd8ec>:53: SettingWithCopyWarning: \n",
      "A value is trying to be set on a copy of a slice from a DataFrame.\n",
      "Try using .loc[row_indexer,col_indexer] = value instead\n",
      "\n",
      "See the caveats in the documentation: https://pandas.pydata.org/pandas-docs/stable/user_guide/indexing.html#returning-a-view-versus-a-copy\n",
      "  temp_multi['number_filter'] = filter_types\n"
     ]
    },
    {
     "name": "stdout",
     "output_type": "stream",
     "text": [
      "i= 0  expand time,0.0 filter time0.0 make_dataframe_time 0.001\n",
      "E06000031\n"
     ]
    },
    {
     "name": "stderr",
     "output_type": "stream",
     "text": [
      "<ipython-input-38-a850dbcbd8ec>:53: SettingWithCopyWarning: \n",
      "A value is trying to be set on a copy of a slice from a DataFrame.\n",
      "Try using .loc[row_indexer,col_indexer] = value instead\n",
      "\n",
      "See the caveats in the documentation: https://pandas.pydata.org/pandas-docs/stable/user_guide/indexing.html#returning-a-view-versus-a-copy\n",
      "  temp_multi['number_filter'] = filter_types\n"
     ]
    },
    {
     "name": "stdout",
     "output_type": "stream",
     "text": [
      "i= 0  expand time,0.0 filter time0.0 make_dataframe_time 0.001\n",
      "E08000026\n"
     ]
    },
    {
     "name": "stderr",
     "output_type": "stream",
     "text": [
      "<ipython-input-38-a850dbcbd8ec>:53: SettingWithCopyWarning: \n",
      "A value is trying to be set on a copy of a slice from a DataFrame.\n",
      "Try using .loc[row_indexer,col_indexer] = value instead\n",
      "\n",
      "See the caveats in the documentation: https://pandas.pydata.org/pandas-docs/stable/user_guide/indexing.html#returning-a-view-versus-a-copy\n",
      "  temp_multi['number_filter'] = filter_types\n"
     ]
    },
    {
     "name": "stdout",
     "output_type": "stream",
     "text": [
      "i= 0  expand time,0.0 filter time0.0 make_dataframe_time 0.001\n",
      "E07000045\n"
     ]
    },
    {
     "name": "stderr",
     "output_type": "stream",
     "text": [
      "<ipython-input-38-a850dbcbd8ec>:53: SettingWithCopyWarning: \n",
      "A value is trying to be set on a copy of a slice from a DataFrame.\n",
      "Try using .loc[row_indexer,col_indexer] = value instead\n",
      "\n",
      "See the caveats in the documentation: https://pandas.pydata.org/pandas-docs/stable/user_guide/indexing.html#returning-a-view-versus-a-copy\n",
      "  temp_multi['number_filter'] = filter_types\n"
     ]
    },
    {
     "name": "stdout",
     "output_type": "stream",
     "text": [
      "i= 0  expand time,0.0 filter time0.0 make_dataframe_time 0.001\n",
      "E07000120\n"
     ]
    },
    {
     "name": "stderr",
     "output_type": "stream",
     "text": [
      "<ipython-input-38-a850dbcbd8ec>:53: SettingWithCopyWarning: \n",
      "A value is trying to be set on a copy of a slice from a DataFrame.\n",
      "Try using .loc[row_indexer,col_indexer] = value instead\n",
      "\n",
      "See the caveats in the documentation: https://pandas.pydata.org/pandas-docs/stable/user_guide/indexing.html#returning-a-view-versus-a-copy\n",
      "  temp_multi['number_filter'] = filter_types\n"
     ]
    },
    {
     "name": "stdout",
     "output_type": "stream",
     "text": [
      "i= 0  expand time,0.0 filter time0.0 make_dataframe_time 0.001\n",
      "E06000006\n"
     ]
    },
    {
     "name": "stderr",
     "output_type": "stream",
     "text": [
      "<ipython-input-38-a850dbcbd8ec>:53: SettingWithCopyWarning: \n",
      "A value is trying to be set on a copy of a slice from a DataFrame.\n",
      "Try using .loc[row_indexer,col_indexer] = value instead\n",
      "\n",
      "See the caveats in the documentation: https://pandas.pydata.org/pandas-docs/stable/user_guide/indexing.html#returning-a-view-versus-a-copy\n",
      "  temp_multi['number_filter'] = filter_types\n"
     ]
    },
    {
     "name": "stdout",
     "output_type": "stream",
     "text": [
      "i= 0  expand time,0.0 filter time0.0 make_dataframe_time 0.001\n",
      "E07000189\n"
     ]
    },
    {
     "name": "stderr",
     "output_type": "stream",
     "text": [
      "<ipython-input-38-a850dbcbd8ec>:53: SettingWithCopyWarning: \n",
      "A value is trying to be set on a copy of a slice from a DataFrame.\n",
      "Try using .loc[row_indexer,col_indexer] = value instead\n",
      "\n",
      "See the caveats in the documentation: https://pandas.pydata.org/pandas-docs/stable/user_guide/indexing.html#returning-a-view-versus-a-copy\n",
      "  temp_multi['number_filter'] = filter_types\n"
     ]
    },
    {
     "name": "stdout",
     "output_type": "stream",
     "text": [
      "i= 0  expand time,0.0 filter time0.0 make_dataframe_time 0.001\n",
      "E09000017\n"
     ]
    },
    {
     "name": "stderr",
     "output_type": "stream",
     "text": [
      "<ipython-input-38-a850dbcbd8ec>:53: SettingWithCopyWarning: \n",
      "A value is trying to be set on a copy of a slice from a DataFrame.\n",
      "Try using .loc[row_indexer,col_indexer] = value instead\n",
      "\n",
      "See the caveats in the documentation: https://pandas.pydata.org/pandas-docs/stable/user_guide/indexing.html#returning-a-view-versus-a-copy\n",
      "  temp_multi['number_filter'] = filter_types\n"
     ]
    },
    {
     "name": "stdout",
     "output_type": "stream",
     "text": [
      "i= 0  expand time,0.0 filter time0.0 make_dataframe_time 0.001\n",
      "E06000047\n"
     ]
    },
    {
     "name": "stderr",
     "output_type": "stream",
     "text": [
      "<ipython-input-38-a850dbcbd8ec>:53: SettingWithCopyWarning: \n",
      "A value is trying to be set on a copy of a slice from a DataFrame.\n",
      "Try using .loc[row_indexer,col_indexer] = value instead\n",
      "\n",
      "See the caveats in the documentation: https://pandas.pydata.org/pandas-docs/stable/user_guide/indexing.html#returning-a-view-versus-a-copy\n",
      "  temp_multi['number_filter'] = filter_types\n"
     ]
    },
    {
     "name": "stdout",
     "output_type": "stream",
     "text": [
      "i= 0  expand time,0.0 filter time0.0 make_dataframe_time 0.001\n",
      "E07000113\n"
     ]
    },
    {
     "name": "stderr",
     "output_type": "stream",
     "text": [
      "<ipython-input-38-a850dbcbd8ec>:53: SettingWithCopyWarning: \n",
      "A value is trying to be set on a copy of a slice from a DataFrame.\n",
      "Try using .loc[row_indexer,col_indexer] = value instead\n",
      "\n",
      "See the caveats in the documentation: https://pandas.pydata.org/pandas-docs/stable/user_guide/indexing.html#returning-a-view-versus-a-copy\n",
      "  temp_multi['number_filter'] = filter_types\n"
     ]
    },
    {
     "name": "stdout",
     "output_type": "stream",
     "text": [
      "i= 0  expand time,0.0 filter time0.0 make_dataframe_time 0.001\n",
      "E06000061\n"
     ]
    },
    {
     "name": "stderr",
     "output_type": "stream",
     "text": [
      "<ipython-input-38-a850dbcbd8ec>:53: SettingWithCopyWarning: \n",
      "A value is trying to be set on a copy of a slice from a DataFrame.\n",
      "Try using .loc[row_indexer,col_indexer] = value instead\n",
      "\n",
      "See the caveats in the documentation: https://pandas.pydata.org/pandas-docs/stable/user_guide/indexing.html#returning-a-view-versus-a-copy\n",
      "  temp_multi['number_filter'] = filter_types\n"
     ]
    },
    {
     "name": "stdout",
     "output_type": "stream",
     "text": [
      "i= 0  expand time,0.0 filter time0.0 make_dataframe_time 0.001\n",
      "E06000060\n"
     ]
    },
    {
     "name": "stderr",
     "output_type": "stream",
     "text": [
      "<ipython-input-38-a850dbcbd8ec>:53: SettingWithCopyWarning: \n",
      "A value is trying to be set on a copy of a slice from a DataFrame.\n",
      "Try using .loc[row_indexer,col_indexer] = value instead\n",
      "\n",
      "See the caveats in the documentation: https://pandas.pydata.org/pandas-docs/stable/user_guide/indexing.html#returning-a-view-versus-a-copy\n",
      "  temp_multi['number_filter'] = filter_types\n"
     ]
    },
    {
     "name": "stdout",
     "output_type": "stream",
     "text": [
      "i= 0  expand time,0.0 filter time0.0 make_dataframe_time 0.001\n",
      "E07000245\n"
     ]
    },
    {
     "name": "stderr",
     "output_type": "stream",
     "text": [
      "<ipython-input-38-a850dbcbd8ec>:53: SettingWithCopyWarning: \n",
      "A value is trying to be set on a copy of a slice from a DataFrame.\n",
      "Try using .loc[row_indexer,col_indexer] = value instead\n",
      "\n",
      "See the caveats in the documentation: https://pandas.pydata.org/pandas-docs/stable/user_guide/indexing.html#returning-a-view-versus-a-copy\n",
      "  temp_multi['number_filter'] = filter_types\n"
     ]
    },
    {
     "name": "stdout",
     "output_type": "stream",
     "text": [
      "i= 0  expand time,0.0 filter time0.0 make_dataframe_time 0.001\n",
      "E06000007\n"
     ]
    },
    {
     "name": "stderr",
     "output_type": "stream",
     "text": [
      "<ipython-input-38-a850dbcbd8ec>:53: SettingWithCopyWarning: \n",
      "A value is trying to be set on a copy of a slice from a DataFrame.\n",
      "Try using .loc[row_indexer,col_indexer] = value instead\n",
      "\n",
      "See the caveats in the documentation: https://pandas.pydata.org/pandas-docs/stable/user_guide/indexing.html#returning-a-view-versus-a-copy\n",
      "  temp_multi['number_filter'] = filter_types\n"
     ]
    },
    {
     "name": "stdout",
     "output_type": "stream",
     "text": [
      "i= 0  expand time,0.0 filter time0.0 make_dataframe_time 0.001\n",
      "E07000167\n"
     ]
    },
    {
     "name": "stderr",
     "output_type": "stream",
     "text": [
      "<ipython-input-38-a850dbcbd8ec>:53: SettingWithCopyWarning: \n",
      "A value is trying to be set on a copy of a slice from a DataFrame.\n",
      "Try using .loc[row_indexer,col_indexer] = value instead\n",
      "\n",
      "See the caveats in the documentation: https://pandas.pydata.org/pandas-docs/stable/user_guide/indexing.html#returning-a-view-versus-a-copy\n",
      "  temp_multi['number_filter'] = filter_types\n"
     ]
    },
    {
     "name": "stdout",
     "output_type": "stream",
     "text": [
      "i= 0  expand time,0.0 filter time0.0 make_dataframe_time 0.001\n",
      "E07000165\n"
     ]
    },
    {
     "name": "stderr",
     "output_type": "stream",
     "text": [
      "<ipython-input-38-a850dbcbd8ec>:53: SettingWithCopyWarning: \n",
      "A value is trying to be set on a copy of a slice from a DataFrame.\n",
      "Try using .loc[row_indexer,col_indexer] = value instead\n",
      "\n",
      "See the caveats in the documentation: https://pandas.pydata.org/pandas-docs/stable/user_guide/indexing.html#returning-a-view-versus-a-copy\n",
      "  temp_multi['number_filter'] = filter_types\n"
     ]
    },
    {
     "name": "stdout",
     "output_type": "stream",
     "text": [
      "i= 0  expand time,0.0 filter time0.0 make_dataframe_time 0.001\n",
      "E09000008\n"
     ]
    },
    {
     "name": "stderr",
     "output_type": "stream",
     "text": [
      "<ipython-input-38-a850dbcbd8ec>:53: SettingWithCopyWarning: \n",
      "A value is trying to be set on a copy of a slice from a DataFrame.\n",
      "Try using .loc[row_indexer,col_indexer] = value instead\n",
      "\n",
      "See the caveats in the documentation: https://pandas.pydata.org/pandas-docs/stable/user_guide/indexing.html#returning-a-view-versus-a-copy\n",
      "  temp_multi['number_filter'] = filter_types\n"
     ]
    },
    {
     "name": "stdout",
     "output_type": "stream",
     "text": [
      "i= 0  expand time,0.0 filter time0.0 make_dataframe_time 0.001\n",
      "E09000027\n"
     ]
    },
    {
     "name": "stderr",
     "output_type": "stream",
     "text": [
      "<ipython-input-38-a850dbcbd8ec>:53: SettingWithCopyWarning: \n",
      "A value is trying to be set on a copy of a slice from a DataFrame.\n",
      "Try using .loc[row_indexer,col_indexer] = value instead\n",
      "\n",
      "See the caveats in the documentation: https://pandas.pydata.org/pandas-docs/stable/user_guide/indexing.html#returning-a-view-versus-a-copy\n",
      "  temp_multi['number_filter'] = filter_types\n"
     ]
    },
    {
     "name": "stdout",
     "output_type": "stream",
     "text": [
      "i= 0  expand time,0.0 filter time0.0 make_dataframe_time 0.001\n",
      "E07000008\n"
     ]
    },
    {
     "name": "stderr",
     "output_type": "stream",
     "text": [
      "<ipython-input-38-a850dbcbd8ec>:53: SettingWithCopyWarning: \n",
      "A value is trying to be set on a copy of a slice from a DataFrame.\n",
      "Try using .loc[row_indexer,col_indexer] = value instead\n",
      "\n",
      "See the caveats in the documentation: https://pandas.pydata.org/pandas-docs/stable/user_guide/indexing.html#returning-a-view-versus-a-copy\n",
      "  temp_multi['number_filter'] = filter_types\n"
     ]
    },
    {
     "name": "stdout",
     "output_type": "stream",
     "text": [
      "i= 0  expand time,0.0 filter time0.0 make_dataframe_time 0.001\n",
      "E09000015\n"
     ]
    },
    {
     "name": "stderr",
     "output_type": "stream",
     "text": [
      "<ipython-input-38-a850dbcbd8ec>:53: SettingWithCopyWarning: \n",
      "A value is trying to be set on a copy of a slice from a DataFrame.\n",
      "Try using .loc[row_indexer,col_indexer] = value instead\n",
      "\n",
      "See the caveats in the documentation: https://pandas.pydata.org/pandas-docs/stable/user_guide/indexing.html#returning-a-view-versus-a-copy\n",
      "  temp_multi['number_filter'] = filter_types\n"
     ]
    },
    {
     "name": "stdout",
     "output_type": "stream",
     "text": [
      "i= 0  expand time,0.0 filter time0.0 make_dataframe_time 0.001\n",
      "W06000011\n"
     ]
    },
    {
     "name": "stderr",
     "output_type": "stream",
     "text": [
      "<ipython-input-38-a850dbcbd8ec>:53: SettingWithCopyWarning: \n",
      "A value is trying to be set on a copy of a slice from a DataFrame.\n",
      "Try using .loc[row_indexer,col_indexer] = value instead\n",
      "\n",
      "See the caveats in the documentation: https://pandas.pydata.org/pandas-docs/stable/user_guide/indexing.html#returning-a-view-versus-a-copy\n",
      "  temp_multi['number_filter'] = filter_types\n"
     ]
    },
    {
     "name": "stdout",
     "output_type": "stream",
     "text": [
      "i= 0  expand time,0.0 filter time0.0 make_dataframe_time 0.001\n",
      "E06000052\n"
     ]
    },
    {
     "name": "stderr",
     "output_type": "stream",
     "text": [
      "<ipython-input-38-a850dbcbd8ec>:53: SettingWithCopyWarning: \n",
      "A value is trying to be set on a copy of a slice from a DataFrame.\n",
      "Try using .loc[row_indexer,col_indexer] = value instead\n",
      "\n",
      "See the caveats in the documentation: https://pandas.pydata.org/pandas-docs/stable/user_guide/indexing.html#returning-a-view-versus-a-copy\n",
      "  temp_multi['number_filter'] = filter_types\n"
     ]
    },
    {
     "name": "stdout",
     "output_type": "stream",
     "text": [
      "i= 0  expand time,0.0 filter time0.0 make_dataframe_time 0.001\n",
      "E06000027\n"
     ]
    },
    {
     "name": "stderr",
     "output_type": "stream",
     "text": [
      "<ipython-input-38-a850dbcbd8ec>:53: SettingWithCopyWarning: \n",
      "A value is trying to be set on a copy of a slice from a DataFrame.\n",
      "Try using .loc[row_indexer,col_indexer] = value instead\n",
      "\n",
      "See the caveats in the documentation: https://pandas.pydata.org/pandas-docs/stable/user_guide/indexing.html#returning-a-view-versus-a-copy\n",
      "  temp_multi['number_filter'] = filter_types\n"
     ]
    },
    {
     "name": "stdout",
     "output_type": "stream",
     "text": [
      "i= 0  expand time,0.0 filter time0.0 make_dataframe_time 0.001\n",
      "E08000022\n"
     ]
    },
    {
     "name": "stderr",
     "output_type": "stream",
     "text": [
      "<ipython-input-38-a850dbcbd8ec>:53: SettingWithCopyWarning: \n",
      "A value is trying to be set on a copy of a slice from a DataFrame.\n",
      "Try using .loc[row_indexer,col_indexer] = value instead\n",
      "\n",
      "See the caveats in the documentation: https://pandas.pydata.org/pandas-docs/stable/user_guide/indexing.html#returning-a-view-versus-a-copy\n",
      "  temp_multi['number_filter'] = filter_types\n"
     ]
    },
    {
     "name": "stdout",
     "output_type": "stream",
     "text": [
      "i= 0  expand time,0.0 filter time0.0 make_dataframe_time 0.001\n",
      "E09000014\n"
     ]
    },
    {
     "name": "stderr",
     "output_type": "stream",
     "text": [
      "<ipython-input-38-a850dbcbd8ec>:53: SettingWithCopyWarning: \n",
      "A value is trying to be set on a copy of a slice from a DataFrame.\n",
      "Try using .loc[row_indexer,col_indexer] = value instead\n",
      "\n",
      "See the caveats in the documentation: https://pandas.pydata.org/pandas-docs/stable/user_guide/indexing.html#returning-a-view-versus-a-copy\n",
      "  temp_multi['number_filter'] = filter_types\n"
     ]
    },
    {
     "name": "stdout",
     "output_type": "stream",
     "text": [
      "i= 0  expand time,0.0 filter time0.0 make_dataframe_time 0.001\n",
      "E07000128\n"
     ]
    },
    {
     "name": "stderr",
     "output_type": "stream",
     "text": [
      "<ipython-input-38-a850dbcbd8ec>:53: SettingWithCopyWarning: \n",
      "A value is trying to be set on a copy of a slice from a DataFrame.\n",
      "Try using .loc[row_indexer,col_indexer] = value instead\n",
      "\n",
      "See the caveats in the documentation: https://pandas.pydata.org/pandas-docs/stable/user_guide/indexing.html#returning-a-view-versus-a-copy\n",
      "  temp_multi['number_filter'] = filter_types\n"
     ]
    },
    {
     "name": "stdout",
     "output_type": "stream",
     "text": [
      "i= 0  expand time,0.0 filter time0.0 make_dataframe_time 0.001\n",
      "E06000030\n"
     ]
    },
    {
     "name": "stderr",
     "output_type": "stream",
     "text": [
      "<ipython-input-38-a850dbcbd8ec>:53: SettingWithCopyWarning: \n",
      "A value is trying to be set on a copy of a slice from a DataFrame.\n",
      "Try using .loc[row_indexer,col_indexer] = value instead\n",
      "\n",
      "See the caveats in the documentation: https://pandas.pydata.org/pandas-docs/stable/user_guide/indexing.html#returning-a-view-versus-a-copy\n",
      "  temp_multi['number_filter'] = filter_types\n"
     ]
    },
    {
     "name": "stdout",
     "output_type": "stream",
     "text": [
      "i= 0  expand time,0.0 filter time0.0 make_dataframe_time 0.001\n",
      "E07000066\n"
     ]
    },
    {
     "name": "stderr",
     "output_type": "stream",
     "text": [
      "<ipython-input-38-a850dbcbd8ec>:53: SettingWithCopyWarning: \n",
      "A value is trying to be set on a copy of a slice from a DataFrame.\n",
      "Try using .loc[row_indexer,col_indexer] = value instead\n",
      "\n",
      "See the caveats in the documentation: https://pandas.pydata.org/pandas-docs/stable/user_guide/indexing.html#returning-a-view-versus-a-copy\n",
      "  temp_multi['number_filter'] = filter_types\n"
     ]
    },
    {
     "name": "stdout",
     "output_type": "stream",
     "text": [
      "i= 0  expand time,0.0 filter time0.0 make_dataframe_time 0.001\n",
      "E08000029\n"
     ]
    },
    {
     "name": "stderr",
     "output_type": "stream",
     "text": [
      "<ipython-input-38-a850dbcbd8ec>:53: SettingWithCopyWarning: \n",
      "A value is trying to be set on a copy of a slice from a DataFrame.\n",
      "Try using .loc[row_indexer,col_indexer] = value instead\n",
      "\n",
      "See the caveats in the documentation: https://pandas.pydata.org/pandas-docs/stable/user_guide/indexing.html#returning-a-view-versus-a-copy\n",
      "  temp_multi['number_filter'] = filter_types\n"
     ]
    },
    {
     "name": "stdout",
     "output_type": "stream",
     "text": [
      "i= 0  expand time,0.0 filter time0.0 make_dataframe_time 0.001\n",
      "E06000041\n"
     ]
    },
    {
     "name": "stderr",
     "output_type": "stream",
     "text": [
      "<ipython-input-38-a850dbcbd8ec>:53: SettingWithCopyWarning: \n",
      "A value is trying to be set on a copy of a slice from a DataFrame.\n",
      "Try using .loc[row_indexer,col_indexer] = value instead\n",
      "\n",
      "See the caveats in the documentation: https://pandas.pydata.org/pandas-docs/stable/user_guide/indexing.html#returning-a-view-versus-a-copy\n",
      "  temp_multi['number_filter'] = filter_types\n"
     ]
    },
    {
     "name": "stdout",
     "output_type": "stream",
     "text": [
      "i= 0  expand time,0.0 filter time0.0 make_dataframe_time 0.001\n",
      "E09000010\n"
     ]
    },
    {
     "name": "stderr",
     "output_type": "stream",
     "text": [
      "<ipython-input-38-a850dbcbd8ec>:53: SettingWithCopyWarning: \n",
      "A value is trying to be set on a copy of a slice from a DataFrame.\n",
      "Try using .loc[row_indexer,col_indexer] = value instead\n",
      "\n",
      "See the caveats in the documentation: https://pandas.pydata.org/pandas-docs/stable/user_guide/indexing.html#returning-a-view-versus-a-copy\n",
      "  temp_multi['number_filter'] = filter_types\n"
     ]
    },
    {
     "name": "stdout",
     "output_type": "stream",
     "text": [
      "i= 0  expand time,0.0 filter time0.0 make_dataframe_time 0.001\n",
      "E07000071\n"
     ]
    },
    {
     "name": "stderr",
     "output_type": "stream",
     "text": [
      "<ipython-input-38-a850dbcbd8ec>:53: SettingWithCopyWarning: \n",
      "A value is trying to be set on a copy of a slice from a DataFrame.\n",
      "Try using .loc[row_indexer,col_indexer] = value instead\n",
      "\n",
      "See the caveats in the documentation: https://pandas.pydata.org/pandas-docs/stable/user_guide/indexing.html#returning-a-view-versus-a-copy\n",
      "  temp_multi['number_filter'] = filter_types\n"
     ]
    },
    {
     "name": "stdout",
     "output_type": "stream",
     "text": [
      "i= 0  expand time,0.0 filter time0.0 make_dataframe_time 0.001\n",
      "E07000110\n"
     ]
    },
    {
     "name": "stderr",
     "output_type": "stream",
     "text": [
      "<ipython-input-38-a850dbcbd8ec>:53: SettingWithCopyWarning: \n",
      "A value is trying to be set on a copy of a slice from a DataFrame.\n",
      "Try using .loc[row_indexer,col_indexer] = value instead\n",
      "\n",
      "See the caveats in the documentation: https://pandas.pydata.org/pandas-docs/stable/user_guide/indexing.html#returning-a-view-versus-a-copy\n",
      "  temp_multi['number_filter'] = filter_types\n"
     ]
    },
    {
     "name": "stdout",
     "output_type": "stream",
     "text": [
      "i= 0  expand time,0.0 filter time0.0 make_dataframe_time 0.001\n",
      "W06000003\n"
     ]
    },
    {
     "name": "stderr",
     "output_type": "stream",
     "text": [
      "<ipython-input-38-a850dbcbd8ec>:53: SettingWithCopyWarning: \n",
      "A value is trying to be set on a copy of a slice from a DataFrame.\n",
      "Try using .loc[row_indexer,col_indexer] = value instead\n",
      "\n",
      "See the caveats in the documentation: https://pandas.pydata.org/pandas-docs/stable/user_guide/indexing.html#returning-a-view-versus-a-copy\n",
      "  temp_multi['number_filter'] = filter_types\n"
     ]
    },
    {
     "name": "stdout",
     "output_type": "stream",
     "text": [
      "i= 0  expand time,0.0 filter time0.0 make_dataframe_time 0.001\n",
      "E07000062\n"
     ]
    },
    {
     "name": "stderr",
     "output_type": "stream",
     "text": [
      "<ipython-input-38-a850dbcbd8ec>:53: SettingWithCopyWarning: \n",
      "A value is trying to be set on a copy of a slice from a DataFrame.\n",
      "Try using .loc[row_indexer,col_indexer] = value instead\n",
      "\n",
      "See the caveats in the documentation: https://pandas.pydata.org/pandas-docs/stable/user_guide/indexing.html#returning-a-view-versus-a-copy\n",
      "  temp_multi['number_filter'] = filter_types\n"
     ]
    },
    {
     "name": "stdout",
     "output_type": "stream",
     "text": [
      "i= 0  expand time,0.0 filter time0.0 make_dataframe_time 0.001\n",
      "E07000072\n"
     ]
    },
    {
     "name": "stderr",
     "output_type": "stream",
     "text": [
      "<ipython-input-38-a850dbcbd8ec>:53: SettingWithCopyWarning: \n",
      "A value is trying to be set on a copy of a slice from a DataFrame.\n",
      "Try using .loc[row_indexer,col_indexer] = value instead\n",
      "\n",
      "See the caveats in the documentation: https://pandas.pydata.org/pandas-docs/stable/user_guide/indexing.html#returning-a-view-versus-a-copy\n",
      "  temp_multi['number_filter'] = filter_types\n"
     ]
    },
    {
     "name": "stdout",
     "output_type": "stream",
     "text": [
      "i= 0  expand time,0.0 filter time0.0 make_dataframe_time 0.001\n",
      "E06000056\n"
     ]
    },
    {
     "name": "stderr",
     "output_type": "stream",
     "text": [
      "<ipython-input-38-a850dbcbd8ec>:53: SettingWithCopyWarning: \n",
      "A value is trying to be set on a copy of a slice from a DataFrame.\n",
      "Try using .loc[row_indexer,col_indexer] = value instead\n",
      "\n",
      "See the caveats in the documentation: https://pandas.pydata.org/pandas-docs/stable/user_guide/indexing.html#returning-a-view-versus-a-copy\n",
      "  temp_multi['number_filter'] = filter_types\n"
     ]
    },
    {
     "name": "stdout",
     "output_type": "stream",
     "text": [
      "i= 0  expand time,0.0 filter time0.0 make_dataframe_time 0.001\n",
      "E07000012\n"
     ]
    },
    {
     "name": "stderr",
     "output_type": "stream",
     "text": [
      "<ipython-input-38-a850dbcbd8ec>:53: SettingWithCopyWarning: \n",
      "A value is trying to be set on a copy of a slice from a DataFrame.\n",
      "Try using .loc[row_indexer,col_indexer] = value instead\n",
      "\n",
      "See the caveats in the documentation: https://pandas.pydata.org/pandas-docs/stable/user_guide/indexing.html#returning-a-view-versus-a-copy\n",
      "  temp_multi['number_filter'] = filter_types\n"
     ]
    },
    {
     "name": "stdout",
     "output_type": "stream",
     "text": [
      "i= 0  expand time,0.001 filter time0.0 make_dataframe_time 0.001\n",
      "E07000119\n"
     ]
    },
    {
     "name": "stderr",
     "output_type": "stream",
     "text": [
      "<ipython-input-38-a850dbcbd8ec>:53: SettingWithCopyWarning: \n",
      "A value is trying to be set on a copy of a slice from a DataFrame.\n",
      "Try using .loc[row_indexer,col_indexer] = value instead\n",
      "\n",
      "See the caveats in the documentation: https://pandas.pydata.org/pandas-docs/stable/user_guide/indexing.html#returning-a-view-versus-a-copy\n",
      "  temp_multi['number_filter'] = filter_types\n"
     ]
    },
    {
     "name": "stdout",
     "output_type": "stream",
     "text": [
      "i= 0  expand time,0.0 filter time0.0 make_dataframe_time 0.001\n",
      "E09000018\n"
     ]
    },
    {
     "name": "stderr",
     "output_type": "stream",
     "text": [
      "<ipython-input-38-a850dbcbd8ec>:53: SettingWithCopyWarning: \n",
      "A value is trying to be set on a copy of a slice from a DataFrame.\n",
      "Try using .loc[row_indexer,col_indexer] = value instead\n",
      "\n",
      "See the caveats in the documentation: https://pandas.pydata.org/pandas-docs/stable/user_guide/indexing.html#returning-a-view-versus-a-copy\n",
      "  temp_multi['number_filter'] = filter_types\n"
     ]
    },
    {
     "name": "stdout",
     "output_type": "stream",
     "text": [
      "i= 0  expand time,0.0 filter time0.0 make_dataframe_time 0.001\n",
      "W06000002\n"
     ]
    },
    {
     "name": "stderr",
     "output_type": "stream",
     "text": [
      "<ipython-input-38-a850dbcbd8ec>:53: SettingWithCopyWarning: \n",
      "A value is trying to be set on a copy of a slice from a DataFrame.\n",
      "Try using .loc[row_indexer,col_indexer] = value instead\n",
      "\n",
      "See the caveats in the documentation: https://pandas.pydata.org/pandas-docs/stable/user_guide/indexing.html#returning-a-view-versus-a-copy\n",
      "  temp_multi['number_filter'] = filter_types\n"
     ]
    },
    {
     "name": "stdout",
     "output_type": "stream",
     "text": [
      "i= 0  expand time,0.0 filter time0.0 make_dataframe_time 0.001\n",
      "E06000005\n"
     ]
    },
    {
     "name": "stderr",
     "output_type": "stream",
     "text": [
      "<ipython-input-38-a850dbcbd8ec>:53: SettingWithCopyWarning: \n",
      "A value is trying to be set on a copy of a slice from a DataFrame.\n",
      "Try using .loc[row_indexer,col_indexer] = value instead\n",
      "\n",
      "See the caveats in the documentation: https://pandas.pydata.org/pandas-docs/stable/user_guide/indexing.html#returning-a-view-versus-a-copy\n",
      "  temp_multi['number_filter'] = filter_types\n"
     ]
    },
    {
     "name": "stdout",
     "output_type": "stream",
     "text": [
      "i= 0  expand time,0.0 filter time0.001 make_dataframe_time 0.002\n",
      "E06000039\n"
     ]
    },
    {
     "name": "stderr",
     "output_type": "stream",
     "text": [
      "<ipython-input-38-a850dbcbd8ec>:53: SettingWithCopyWarning: \n",
      "A value is trying to be set on a copy of a slice from a DataFrame.\n",
      "Try using .loc[row_indexer,col_indexer] = value instead\n",
      "\n",
      "See the caveats in the documentation: https://pandas.pydata.org/pandas-docs/stable/user_guide/indexing.html#returning-a-view-versus-a-copy\n",
      "  temp_multi['number_filter'] = filter_types\n"
     ]
    },
    {
     "name": "stdout",
     "output_type": "stream",
     "text": [
      "i= 0  expand time,0.001 filter time0.001 make_dataframe_time 0.001\n",
      "E09000003\n"
     ]
    },
    {
     "name": "stderr",
     "output_type": "stream",
     "text": [
      "<ipython-input-38-a850dbcbd8ec>:53: SettingWithCopyWarning: \n",
      "A value is trying to be set on a copy of a slice from a DataFrame.\n",
      "Try using .loc[row_indexer,col_indexer] = value instead\n",
      "\n",
      "See the caveats in the documentation: https://pandas.pydata.org/pandas-docs/stable/user_guide/indexing.html#returning-a-view-versus-a-copy\n",
      "  temp_multi['number_filter'] = filter_types\n"
     ]
    },
    {
     "name": "stdout",
     "output_type": "stream",
     "text": [
      "i= 0  expand time,0.0 filter time0.0 make_dataframe_time 0.001\n",
      "E09000026\n"
     ]
    },
    {
     "name": "stderr",
     "output_type": "stream",
     "text": [
      "<ipython-input-38-a850dbcbd8ec>:53: SettingWithCopyWarning: \n",
      "A value is trying to be set on a copy of a slice from a DataFrame.\n",
      "Try using .loc[row_indexer,col_indexer] = value instead\n",
      "\n",
      "See the caveats in the documentation: https://pandas.pydata.org/pandas-docs/stable/user_guide/indexing.html#returning-a-view-versus-a-copy\n",
      "  temp_multi['number_filter'] = filter_types\n"
     ]
    },
    {
     "name": "stdout",
     "output_type": "stream",
     "text": [
      "i= 0  expand time,0.0 filter time0.0 make_dataframe_time 0.001\n",
      "E07000041\n"
     ]
    },
    {
     "name": "stderr",
     "output_type": "stream",
     "text": [
      "<ipython-input-38-a850dbcbd8ec>:53: SettingWithCopyWarning: \n",
      "A value is trying to be set on a copy of a slice from a DataFrame.\n",
      "Try using .loc[row_indexer,col_indexer] = value instead\n",
      "\n",
      "See the caveats in the documentation: https://pandas.pydata.org/pandas-docs/stable/user_guide/indexing.html#returning-a-view-versus-a-copy\n",
      "  temp_multi['number_filter'] = filter_types\n"
     ]
    },
    {
     "name": "stdout",
     "output_type": "stream",
     "text": [
      "i= 0  expand time,0.0 filter time0.0 make_dataframe_time 0.001\n",
      "E08000028\n"
     ]
    },
    {
     "name": "stderr",
     "output_type": "stream",
     "text": [
      "<ipython-input-38-a850dbcbd8ec>:53: SettingWithCopyWarning: \n",
      "A value is trying to be set on a copy of a slice from a DataFrame.\n",
      "Try using .loc[row_indexer,col_indexer] = value instead\n",
      "\n",
      "See the caveats in the documentation: https://pandas.pydata.org/pandas-docs/stable/user_guide/indexing.html#returning-a-view-versus-a-copy\n",
      "  temp_multi['number_filter'] = filter_types\n"
     ]
    },
    {
     "name": "stdout",
     "output_type": "stream",
     "text": [
      "i= 0  expand time,0.0 filter time0.0 make_dataframe_time 0.001\n",
      "E07000126\n"
     ]
    },
    {
     "name": "stderr",
     "output_type": "stream",
     "text": [
      "<ipython-input-38-a850dbcbd8ec>:53: SettingWithCopyWarning: \n",
      "A value is trying to be set on a copy of a slice from a DataFrame.\n",
      "Try using .loc[row_indexer,col_indexer] = value instead\n",
      "\n",
      "See the caveats in the documentation: https://pandas.pydata.org/pandas-docs/stable/user_guide/indexing.html#returning-a-view-versus-a-copy\n",
      "  temp_multi['number_filter'] = filter_types\n"
     ]
    },
    {
     "name": "stdout",
     "output_type": "stream",
     "text": [
      "i= 0  expand time,0.0 filter time0.0 make_dataframe_time 0.001\n",
      "E08000002\n"
     ]
    },
    {
     "name": "stderr",
     "output_type": "stream",
     "text": [
      "<ipython-input-38-a850dbcbd8ec>:53: SettingWithCopyWarning: \n",
      "A value is trying to be set on a copy of a slice from a DataFrame.\n",
      "Try using .loc[row_indexer,col_indexer] = value instead\n",
      "\n",
      "See the caveats in the documentation: https://pandas.pydata.org/pandas-docs/stable/user_guide/indexing.html#returning-a-view-versus-a-copy\n",
      "  temp_multi['number_filter'] = filter_types\n"
     ]
    },
    {
     "name": "stdout",
     "output_type": "stream",
     "text": [
      "i= 0  expand time,0.0 filter time0.0 make_dataframe_time 0.001\n",
      "E07000239\n"
     ]
    },
    {
     "name": "stderr",
     "output_type": "stream",
     "text": [
      "<ipython-input-38-a850dbcbd8ec>:53: SettingWithCopyWarning: \n",
      "A value is trying to be set on a copy of a slice from a DataFrame.\n",
      "Try using .loc[row_indexer,col_indexer] = value instead\n",
      "\n",
      "See the caveats in the documentation: https://pandas.pydata.org/pandas-docs/stable/user_guide/indexing.html#returning-a-view-versus-a-copy\n",
      "  temp_multi['number_filter'] = filter_types\n"
     ]
    },
    {
     "name": "stdout",
     "output_type": "stream",
     "text": [
      "i= 0  expand time,0.0 filter time0.0 make_dataframe_time 0.001\n",
      "E08000018\n"
     ]
    },
    {
     "name": "stderr",
     "output_type": "stream",
     "text": [
      "<ipython-input-38-a850dbcbd8ec>:53: SettingWithCopyWarning: \n",
      "A value is trying to be set on a copy of a slice from a DataFrame.\n",
      "Try using .loc[row_indexer,col_indexer] = value instead\n",
      "\n",
      "See the caveats in the documentation: https://pandas.pydata.org/pandas-docs/stable/user_guide/indexing.html#returning-a-view-versus-a-copy\n",
      "  temp_multi['number_filter'] = filter_types\n"
     ]
    },
    {
     "name": "stdout",
     "output_type": "stream",
     "text": [
      "i= 0  expand time,0.0 filter time0.0 make_dataframe_time 0.001\n",
      "E09000011\n"
     ]
    },
    {
     "name": "stderr",
     "output_type": "stream",
     "text": [
      "<ipython-input-38-a850dbcbd8ec>:53: SettingWithCopyWarning: \n",
      "A value is trying to be set on a copy of a slice from a DataFrame.\n",
      "Try using .loc[row_indexer,col_indexer] = value instead\n",
      "\n",
      "See the caveats in the documentation: https://pandas.pydata.org/pandas-docs/stable/user_guide/indexing.html#returning-a-view-versus-a-copy\n",
      "  temp_multi['number_filter'] = filter_types\n"
     ]
    },
    {
     "name": "stdout",
     "output_type": "stream",
     "text": [
      "i= 0  expand time,0.0 filter time0.0 make_dataframe_time 0.001\n",
      "E06000015\n"
     ]
    },
    {
     "name": "stderr",
     "output_type": "stream",
     "text": [
      "<ipython-input-38-a850dbcbd8ec>:53: SettingWithCopyWarning: \n",
      "A value is trying to be set on a copy of a slice from a DataFrame.\n",
      "Try using .loc[row_indexer,col_indexer] = value instead\n",
      "\n",
      "See the caveats in the documentation: https://pandas.pydata.org/pandas-docs/stable/user_guide/indexing.html#returning-a-view-versus-a-copy\n",
      "  temp_multi['number_filter'] = filter_types\n"
     ]
    },
    {
     "name": "stdout",
     "output_type": "stream",
     "text": [
      "i= 0  expand time,0.0 filter time0.0 make_dataframe_time 0.001\n",
      "E07000075\n"
     ]
    },
    {
     "name": "stderr",
     "output_type": "stream",
     "text": [
      "<ipython-input-38-a850dbcbd8ec>:53: SettingWithCopyWarning: \n",
      "A value is trying to be set on a copy of a slice from a DataFrame.\n",
      "Try using .loc[row_indexer,col_indexer] = value instead\n",
      "\n",
      "See the caveats in the documentation: https://pandas.pydata.org/pandas-docs/stable/user_guide/indexing.html#returning-a-view-versus-a-copy\n",
      "  temp_multi['number_filter'] = filter_types\n"
     ]
    },
    {
     "name": "stdout",
     "output_type": "stream",
     "text": [
      "i= 0  expand time,0.0 filter time0.0 make_dataframe_time 0.001\n",
      "E07000116\n"
     ]
    },
    {
     "name": "stderr",
     "output_type": "stream",
     "text": [
      "<ipython-input-38-a850dbcbd8ec>:53: SettingWithCopyWarning: \n",
      "A value is trying to be set on a copy of a slice from a DataFrame.\n",
      "Try using .loc[row_indexer,col_indexer] = value instead\n",
      "\n",
      "See the caveats in the documentation: https://pandas.pydata.org/pandas-docs/stable/user_guide/indexing.html#returning-a-view-versus-a-copy\n",
      "  temp_multi['number_filter'] = filter_types\n"
     ]
    },
    {
     "name": "stdout",
     "output_type": "stream",
     "text": [
      "i= 0  expand time,0.0 filter time0.0 make_dataframe_time 0.001\n",
      "E06000062\n"
     ]
    },
    {
     "name": "stderr",
     "output_type": "stream",
     "text": [
      "<ipython-input-38-a850dbcbd8ec>:53: SettingWithCopyWarning: \n",
      "A value is trying to be set on a copy of a slice from a DataFrame.\n",
      "Try using .loc[row_indexer,col_indexer] = value instead\n",
      "\n",
      "See the caveats in the documentation: https://pandas.pydata.org/pandas-docs/stable/user_guide/indexing.html#returning-a-view-versus-a-copy\n",
      "  temp_multi['number_filter'] = filter_types\n"
     ]
    },
    {
     "name": "stdout",
     "output_type": "stream",
     "text": [
      "i= 0  expand time,0.0 filter time0.0 make_dataframe_time 0.001\n",
      "E07000223\n"
     ]
    },
    {
     "name": "stderr",
     "output_type": "stream",
     "text": [
      "<ipython-input-38-a850dbcbd8ec>:53: SettingWithCopyWarning: \n",
      "A value is trying to be set on a copy of a slice from a DataFrame.\n",
      "Try using .loc[row_indexer,col_indexer] = value instead\n",
      "\n",
      "See the caveats in the documentation: https://pandas.pydata.org/pandas-docs/stable/user_guide/indexing.html#returning-a-view-versus-a-copy\n",
      "  temp_multi['number_filter'] = filter_types\n"
     ]
    },
    {
     "name": "stdout",
     "output_type": "stream",
     "text": [
      "i= 0  expand time,0.0 filter time0.0 make_dataframe_time 0.001\n",
      "E07000065\n"
     ]
    },
    {
     "name": "stderr",
     "output_type": "stream",
     "text": [
      "<ipython-input-38-a850dbcbd8ec>:53: SettingWithCopyWarning: \n",
      "A value is trying to be set on a copy of a slice from a DataFrame.\n",
      "Try using .loc[row_indexer,col_indexer] = value instead\n",
      "\n",
      "See the caveats in the documentation: https://pandas.pydata.org/pandas-docs/stable/user_guide/indexing.html#returning-a-view-versus-a-copy\n",
      "  temp_multi['number_filter'] = filter_types\n"
     ]
    },
    {
     "name": "stdout",
     "output_type": "stream",
     "text": [
      "i= 0  expand time,0.0 filter time0.0 make_dataframe_time 0.001\n",
      "E06000059\n"
     ]
    },
    {
     "name": "stderr",
     "output_type": "stream",
     "text": [
      "<ipython-input-38-a850dbcbd8ec>:53: SettingWithCopyWarning: \n",
      "A value is trying to be set on a copy of a slice from a DataFrame.\n",
      "Try using .loc[row_indexer,col_indexer] = value instead\n",
      "\n",
      "See the caveats in the documentation: https://pandas.pydata.org/pandas-docs/stable/user_guide/indexing.html#returning-a-view-versus-a-copy\n",
      "  temp_multi['number_filter'] = filter_types\n"
     ]
    },
    {
     "name": "stdout",
     "output_type": "stream",
     "text": [
      "i= 0  expand time,0.0 filter time0.0 make_dataframe_time 0.001\n",
      "E08000007\n"
     ]
    },
    {
     "name": "stderr",
     "output_type": "stream",
     "text": [
      "<ipython-input-38-a850dbcbd8ec>:53: SettingWithCopyWarning: \n",
      "A value is trying to be set on a copy of a slice from a DataFrame.\n",
      "Try using .loc[row_indexer,col_indexer] = value instead\n",
      "\n",
      "See the caveats in the documentation: https://pandas.pydata.org/pandas-docs/stable/user_guide/indexing.html#returning-a-view-versus-a-copy\n",
      "  temp_multi['number_filter'] = filter_types\n"
     ]
    },
    {
     "name": "stdout",
     "output_type": "stream",
     "text": [
      "i= 0  expand time,0.0 filter time0.0 make_dataframe_time 0.001\n",
      "E07000163\n"
     ]
    },
    {
     "name": "stderr",
     "output_type": "stream",
     "text": [
      "<ipython-input-38-a850dbcbd8ec>:53: SettingWithCopyWarning: \n",
      "A value is trying to be set on a copy of a slice from a DataFrame.\n",
      "Try using .loc[row_indexer,col_indexer] = value instead\n",
      "\n",
      "See the caveats in the documentation: https://pandas.pydata.org/pandas-docs/stable/user_guide/indexing.html#returning-a-view-versus-a-copy\n",
      "  temp_multi['number_filter'] = filter_types\n"
     ]
    },
    {
     "name": "stdout",
     "output_type": "stream",
     "text": [
      "i= 0  expand time,0.0 filter time0.0 make_dataframe_time 0.001\n",
      "E06000018\n"
     ]
    },
    {
     "name": "stderr",
     "output_type": "stream",
     "text": [
      "<ipython-input-38-a850dbcbd8ec>:53: SettingWithCopyWarning: \n",
      "A value is trying to be set on a copy of a slice from a DataFrame.\n",
      "Try using .loc[row_indexer,col_indexer] = value instead\n",
      "\n",
      "See the caveats in the documentation: https://pandas.pydata.org/pandas-docs/stable/user_guide/indexing.html#returning-a-view-versus-a-copy\n",
      "  temp_multi['number_filter'] = filter_types\n"
     ]
    },
    {
     "name": "stdout",
     "output_type": "stream",
     "text": [
      "i= 0  expand time,0.0 filter time0.0 make_dataframe_time 0.001\n",
      "E06000019\n"
     ]
    },
    {
     "name": "stderr",
     "output_type": "stream",
     "text": [
      "<ipython-input-38-a850dbcbd8ec>:53: SettingWithCopyWarning: \n",
      "A value is trying to be set on a copy of a slice from a DataFrame.\n",
      "Try using .loc[row_indexer,col_indexer] = value instead\n",
      "\n",
      "See the caveats in the documentation: https://pandas.pydata.org/pandas-docs/stable/user_guide/indexing.html#returning-a-view-versus-a-copy\n",
      "  temp_multi['number_filter'] = filter_types\n"
     ]
    },
    {
     "name": "stdout",
     "output_type": "stream",
     "text": [
      "i= 0  expand time,0.0 filter time0.0 make_dataframe_time 0.001\n",
      "E07000217\n"
     ]
    },
    {
     "name": "stderr",
     "output_type": "stream",
     "text": [
      "<ipython-input-38-a850dbcbd8ec>:53: SettingWithCopyWarning: \n",
      "A value is trying to be set on a copy of a slice from a DataFrame.\n",
      "Try using .loc[row_indexer,col_indexer] = value instead\n",
      "\n",
      "See the caveats in the documentation: https://pandas.pydata.org/pandas-docs/stable/user_guide/indexing.html#returning-a-view-versus-a-copy\n",
      "  temp_multi['number_filter'] = filter_types\n"
     ]
    },
    {
     "name": "stdout",
     "output_type": "stream",
     "text": [
      "i= 0  expand time,0.0 filter time0.0 make_dataframe_time 0.001\n",
      "E07000141\n"
     ]
    },
    {
     "name": "stderr",
     "output_type": "stream",
     "text": [
      "<ipython-input-38-a850dbcbd8ec>:53: SettingWithCopyWarning: \n",
      "A value is trying to be set on a copy of a slice from a DataFrame.\n",
      "Try using .loc[row_indexer,col_indexer] = value instead\n",
      "\n",
      "See the caveats in the documentation: https://pandas.pydata.org/pandas-docs/stable/user_guide/indexing.html#returning-a-view-versus-a-copy\n",
      "  temp_multi['number_filter'] = filter_types\n"
     ]
    },
    {
     "name": "stdout",
     "output_type": "stream",
     "text": [
      "i= 0  expand time,0.0 filter time0.0 make_dataframe_time 0.001\n",
      "E07000237\n"
     ]
    },
    {
     "name": "stderr",
     "output_type": "stream",
     "text": [
      "<ipython-input-38-a850dbcbd8ec>:53: SettingWithCopyWarning: \n",
      "A value is trying to be set on a copy of a slice from a DataFrame.\n",
      "Try using .loc[row_indexer,col_indexer] = value instead\n",
      "\n",
      "See the caveats in the documentation: https://pandas.pydata.org/pandas-docs/stable/user_guide/indexing.html#returning-a-view-versus-a-copy\n",
      "  temp_multi['number_filter'] = filter_types\n"
     ]
    },
    {
     "name": "stdout",
     "output_type": "stream",
     "text": [
      "i= 0  expand time,0.0 filter time0.0 make_dataframe_time 0.001\n",
      "E08000014\n"
     ]
    },
    {
     "name": "stderr",
     "output_type": "stream",
     "text": [
      "<ipython-input-38-a850dbcbd8ec>:53: SettingWithCopyWarning: \n",
      "A value is trying to be set on a copy of a slice from a DataFrame.\n",
      "Try using .loc[row_indexer,col_indexer] = value instead\n",
      "\n",
      "See the caveats in the documentation: https://pandas.pydata.org/pandas-docs/stable/user_guide/indexing.html#returning-a-view-versus-a-copy\n",
      "  temp_multi['number_filter'] = filter_types\n"
     ]
    },
    {
     "name": "stdout",
     "output_type": "stream",
     "text": [
      "i= 0  expand time,0.0 filter time0.0 make_dataframe_time 0.001\n",
      "E07000149\n"
     ]
    },
    {
     "name": "stderr",
     "output_type": "stream",
     "text": [
      "<ipython-input-38-a850dbcbd8ec>:53: SettingWithCopyWarning: \n",
      "A value is trying to be set on a copy of a slice from a DataFrame.\n",
      "Try using .loc[row_indexer,col_indexer] = value instead\n",
      "\n",
      "See the caveats in the documentation: https://pandas.pydata.org/pandas-docs/stable/user_guide/indexing.html#returning-a-view-versus-a-copy\n",
      "  temp_multi['number_filter'] = filter_types\n"
     ]
    },
    {
     "name": "stdout",
     "output_type": "stream",
     "text": [
      "i= 0  expand time,0.0 filter time0.0 make_dataframe_time 0.001\n",
      "E07000241\n"
     ]
    },
    {
     "name": "stderr",
     "output_type": "stream",
     "text": [
      "<ipython-input-38-a850dbcbd8ec>:53: SettingWithCopyWarning: \n",
      "A value is trying to be set on a copy of a slice from a DataFrame.\n",
      "Try using .loc[row_indexer,col_indexer] = value instead\n",
      "\n",
      "See the caveats in the documentation: https://pandas.pydata.org/pandas-docs/stable/user_guide/indexing.html#returning-a-view-versus-a-copy\n",
      "  temp_multi['number_filter'] = filter_types\n"
     ]
    },
    {
     "name": "stdout",
     "output_type": "stream",
     "text": [
      "i= 0  expand time,0.0 filter time0.0 make_dataframe_time 0.001\n",
      "E07000148\n"
     ]
    },
    {
     "name": "stderr",
     "output_type": "stream",
     "text": [
      "<ipython-input-38-a850dbcbd8ec>:53: SettingWithCopyWarning: \n",
      "A value is trying to be set on a copy of a slice from a DataFrame.\n",
      "Try using .loc[row_indexer,col_indexer] = value instead\n",
      "\n",
      "See the caveats in the documentation: https://pandas.pydata.org/pandas-docs/stable/user_guide/indexing.html#returning-a-view-versus-a-copy\n",
      "  temp_multi['number_filter'] = filter_types\n"
     ]
    },
    {
     "name": "stdout",
     "output_type": "stream",
     "text": [
      "i= 0  expand time,0.0 filter time0.0 make_dataframe_time 0.001\n",
      "E07000096\n"
     ]
    },
    {
     "name": "stderr",
     "output_type": "stream",
     "text": [
      "<ipython-input-38-a850dbcbd8ec>:53: SettingWithCopyWarning: \n",
      "A value is trying to be set on a copy of a slice from a DataFrame.\n",
      "Try using .loc[row_indexer,col_indexer] = value instead\n",
      "\n",
      "See the caveats in the documentation: https://pandas.pydata.org/pandas-docs/stable/user_guide/indexing.html#returning-a-view-versus-a-copy\n",
      "  temp_multi['number_filter'] = filter_types\n"
     ]
    },
    {
     "name": "stdout",
     "output_type": "stream",
     "text": [
      "i= 0  expand time,0.0 filter time0.0 make_dataframe_time 0.001\n",
      "E07000168\n"
     ]
    },
    {
     "name": "stderr",
     "output_type": "stream",
     "text": [
      "<ipython-input-38-a850dbcbd8ec>:53: SettingWithCopyWarning: \n",
      "A value is trying to be set on a copy of a slice from a DataFrame.\n",
      "Try using .loc[row_indexer,col_indexer] = value instead\n",
      "\n",
      "See the caveats in the documentation: https://pandas.pydata.org/pandas-docs/stable/user_guide/indexing.html#returning-a-view-versus-a-copy\n",
      "  temp_multi['number_filter'] = filter_types\n"
     ]
    },
    {
     "name": "stdout",
     "output_type": "stream",
     "text": [
      "i= 0  expand time,0.0 filter time0.0 make_dataframe_time 0.001\n",
      "E06000021\n"
     ]
    },
    {
     "name": "stderr",
     "output_type": "stream",
     "text": [
      "<ipython-input-38-a850dbcbd8ec>:53: SettingWithCopyWarning: \n",
      "A value is trying to be set on a copy of a slice from a DataFrame.\n",
      "Try using .loc[row_indexer,col_indexer] = value instead\n",
      "\n",
      "See the caveats in the documentation: https://pandas.pydata.org/pandas-docs/stable/user_guide/indexing.html#returning-a-view-versus-a-copy\n",
      "  temp_multi['number_filter'] = filter_types\n"
     ]
    },
    {
     "name": "stdout",
     "output_type": "stream",
     "text": [
      "i= 0  expand time,0.0 filter time0.0 make_dataframe_time 0.001\n",
      "E07000199\n"
     ]
    },
    {
     "name": "stderr",
     "output_type": "stream",
     "text": [
      "<ipython-input-38-a850dbcbd8ec>:53: SettingWithCopyWarning: \n",
      "A value is trying to be set on a copy of a slice from a DataFrame.\n",
      "Try using .loc[row_indexer,col_indexer] = value instead\n",
      "\n",
      "See the caveats in the documentation: https://pandas.pydata.org/pandas-docs/stable/user_guide/indexing.html#returning-a-view-versus-a-copy\n",
      "  temp_multi['number_filter'] = filter_types\n"
     ]
    },
    {
     "name": "stdout",
     "output_type": "stream",
     "text": [
      "i= 0  expand time,0.0 filter time0.0 make_dataframe_time 0.001\n",
      "E07000170\n"
     ]
    },
    {
     "name": "stderr",
     "output_type": "stream",
     "text": [
      "<ipython-input-38-a850dbcbd8ec>:53: SettingWithCopyWarning: \n",
      "A value is trying to be set on a copy of a slice from a DataFrame.\n",
      "Try using .loc[row_indexer,col_indexer] = value instead\n",
      "\n",
      "See the caveats in the documentation: https://pandas.pydata.org/pandas-docs/stable/user_guide/indexing.html#returning-a-view-versus-a-copy\n",
      "  temp_multi['number_filter'] = filter_types\n"
     ]
    },
    {
     "name": "stdout",
     "output_type": "stream",
     "text": [
      "i= 0  expand time,0.0 filter time0.0 make_dataframe_time 0.001\n",
      "E06000043\n"
     ]
    },
    {
     "name": "stderr",
     "output_type": "stream",
     "text": [
      "<ipython-input-38-a850dbcbd8ec>:53: SettingWithCopyWarning: \n",
      "A value is trying to be set on a copy of a slice from a DataFrame.\n",
      "Try using .loc[row_indexer,col_indexer] = value instead\n",
      "\n",
      "See the caveats in the documentation: https://pandas.pydata.org/pandas-docs/stable/user_guide/indexing.html#returning-a-view-versus-a-copy\n",
      "  temp_multi['number_filter'] = filter_types\n"
     ]
    },
    {
     "name": "stdout",
     "output_type": "stream",
     "text": [
      "i= 0  expand time,0.0 filter time0.0 make_dataframe_time 0.001\n",
      "E07000215\n"
     ]
    },
    {
     "name": "stderr",
     "output_type": "stream",
     "text": [
      "<ipython-input-38-a850dbcbd8ec>:53: SettingWithCopyWarning: \n",
      "A value is trying to be set on a copy of a slice from a DataFrame.\n",
      "Try using .loc[row_indexer,col_indexer] = value instead\n",
      "\n",
      "See the caveats in the documentation: https://pandas.pydata.org/pandas-docs/stable/user_guide/indexing.html#returning-a-view-versus-a-copy\n",
      "  temp_multi['number_filter'] = filter_types\n"
     ]
    },
    {
     "name": "stdout",
     "output_type": "stream",
     "text": [
      "i= 0  expand time,0.0 filter time0.0 make_dataframe_time 0.001\n",
      "W06000005\n"
     ]
    },
    {
     "name": "stderr",
     "output_type": "stream",
     "text": [
      "<ipython-input-38-a850dbcbd8ec>:53: SettingWithCopyWarning: \n",
      "A value is trying to be set on a copy of a slice from a DataFrame.\n",
      "Try using .loc[row_indexer,col_indexer] = value instead\n",
      "\n",
      "See the caveats in the documentation: https://pandas.pydata.org/pandas-docs/stable/user_guide/indexing.html#returning-a-view-versus-a-copy\n",
      "  temp_multi['number_filter'] = filter_types\n"
     ]
    },
    {
     "name": "stdout",
     "output_type": "stream",
     "text": [
      "i= 0  expand time,0.0 filter time0.0 make_dataframe_time 0.001\n",
      "W06000013\n"
     ]
    },
    {
     "name": "stderr",
     "output_type": "stream",
     "text": [
      "<ipython-input-38-a850dbcbd8ec>:53: SettingWithCopyWarning: \n",
      "A value is trying to be set on a copy of a slice from a DataFrame.\n",
      "Try using .loc[row_indexer,col_indexer] = value instead\n",
      "\n",
      "See the caveats in the documentation: https://pandas.pydata.org/pandas-docs/stable/user_guide/indexing.html#returning-a-view-versus-a-copy\n",
      "  temp_multi['number_filter'] = filter_types\n"
     ]
    },
    {
     "name": "stdout",
     "output_type": "stream",
     "text": [
      "i= 0  expand time,0.0 filter time0.0 make_dataframe_time 0.001\n",
      "E07000221\n"
     ]
    },
    {
     "name": "stderr",
     "output_type": "stream",
     "text": [
      "<ipython-input-38-a850dbcbd8ec>:53: SettingWithCopyWarning: \n",
      "A value is trying to be set on a copy of a slice from a DataFrame.\n",
      "Try using .loc[row_indexer,col_indexer] = value instead\n",
      "\n",
      "See the caveats in the documentation: https://pandas.pydata.org/pandas-docs/stable/user_guide/indexing.html#returning-a-view-versus-a-copy\n",
      "  temp_multi['number_filter'] = filter_types\n"
     ]
    },
    {
     "name": "stdout",
     "output_type": "stream",
     "text": [
      "i= 0  expand time,0.0 filter time0.0 make_dataframe_time 0.001\n",
      "E07000086\n"
     ]
    },
    {
     "name": "stderr",
     "output_type": "stream",
     "text": [
      "<ipython-input-38-a850dbcbd8ec>:53: SettingWithCopyWarning: \n",
      "A value is trying to be set on a copy of a slice from a DataFrame.\n",
      "Try using .loc[row_indexer,col_indexer] = value instead\n",
      "\n",
      "See the caveats in the documentation: https://pandas.pydata.org/pandas-docs/stable/user_guide/indexing.html#returning-a-view-versus-a-copy\n",
      "  temp_multi['number_filter'] = filter_types\n"
     ]
    },
    {
     "name": "stdout",
     "output_type": "stream",
     "text": [
      "i= 0  expand time,0.0 filter time0.0 make_dataframe_time 0.001\n",
      "E06000020\n"
     ]
    },
    {
     "name": "stderr",
     "output_type": "stream",
     "text": [
      "<ipython-input-38-a850dbcbd8ec>:53: SettingWithCopyWarning: \n",
      "A value is trying to be set on a copy of a slice from a DataFrame.\n",
      "Try using .loc[row_indexer,col_indexer] = value instead\n",
      "\n",
      "See the caveats in the documentation: https://pandas.pydata.org/pandas-docs/stable/user_guide/indexing.html#returning-a-view-versus-a-copy\n",
      "  temp_multi['number_filter'] = filter_types\n"
     ]
    },
    {
     "name": "stdout",
     "output_type": "stream",
     "text": [
      "i= 0  expand time,0.0 filter time0.0 make_dataframe_time 0.001\n",
      "E07000079\n"
     ]
    },
    {
     "name": "stderr",
     "output_type": "stream",
     "text": [
      "<ipython-input-38-a850dbcbd8ec>:53: SettingWithCopyWarning: \n",
      "A value is trying to be set on a copy of a slice from a DataFrame.\n",
      "Try using .loc[row_indexer,col_indexer] = value instead\n",
      "\n",
      "See the caveats in the documentation: https://pandas.pydata.org/pandas-docs/stable/user_guide/indexing.html#returning-a-view-versus-a-copy\n",
      "  temp_multi['number_filter'] = filter_types\n"
     ]
    },
    {
     "name": "stdout",
     "output_type": "stream",
     "text": [
      "i= 0  expand time,0.0 filter time0.0 make_dataframe_time 0.001\n",
      "E07000173\n"
     ]
    },
    {
     "name": "stderr",
     "output_type": "stream",
     "text": [
      "<ipython-input-38-a850dbcbd8ec>:53: SettingWithCopyWarning: \n",
      "A value is trying to be set on a copy of a slice from a DataFrame.\n",
      "Try using .loc[row_indexer,col_indexer] = value instead\n",
      "\n",
      "See the caveats in the documentation: https://pandas.pydata.org/pandas-docs/stable/user_guide/indexing.html#returning-a-view-versus-a-copy\n",
      "  temp_multi['number_filter'] = filter_types\n"
     ]
    },
    {
     "name": "stdout",
     "output_type": "stream",
     "text": [
      "i= 0  expand time,0.0 filter time0.0 make_dataframe_time 0.001\n",
      "E07000115\n"
     ]
    },
    {
     "name": "stderr",
     "output_type": "stream",
     "text": [
      "<ipython-input-38-a850dbcbd8ec>:53: SettingWithCopyWarning: \n",
      "A value is trying to be set on a copy of a slice from a DataFrame.\n",
      "Try using .loc[row_indexer,col_indexer] = value instead\n",
      "\n",
      "See the caveats in the documentation: https://pandas.pydata.org/pandas-docs/stable/user_guide/indexing.html#returning-a-view-versus-a-copy\n",
      "  temp_multi['number_filter'] = filter_types\n"
     ]
    },
    {
     "name": "stdout",
     "output_type": "stream",
     "text": [
      "i= 0  expand time,0.0 filter time0.0 make_dataframe_time 0.001\n",
      "E07000106\n"
     ]
    },
    {
     "name": "stderr",
     "output_type": "stream",
     "text": [
      "<ipython-input-38-a850dbcbd8ec>:53: SettingWithCopyWarning: \n",
      "A value is trying to be set on a copy of a slice from a DataFrame.\n",
      "Try using .loc[row_indexer,col_indexer] = value instead\n",
      "\n",
      "See the caveats in the documentation: https://pandas.pydata.org/pandas-docs/stable/user_guide/indexing.html#returning-a-view-versus-a-copy\n",
      "  temp_multi['number_filter'] = filter_types\n"
     ]
    },
    {
     "name": "stdout",
     "output_type": "stream",
     "text": [
      "i= 0  expand time,0.0 filter time0.0 make_dataframe_time 0.001\n",
      "E06000051\n"
     ]
    },
    {
     "name": "stderr",
     "output_type": "stream",
     "text": [
      "<ipython-input-38-a850dbcbd8ec>:53: SettingWithCopyWarning: \n",
      "A value is trying to be set on a copy of a slice from a DataFrame.\n",
      "Try using .loc[row_indexer,col_indexer] = value instead\n",
      "\n",
      "See the caveats in the documentation: https://pandas.pydata.org/pandas-docs/stable/user_guide/indexing.html#returning-a-view-versus-a-copy\n",
      "  temp_multi['number_filter'] = filter_types\n"
     ]
    },
    {
     "name": "stdout",
     "output_type": "stream",
     "text": [
      "i= 0  expand time,0.0 filter time0.0 make_dataframe_time 0.001\n",
      "E07000094\n"
     ]
    },
    {
     "name": "stderr",
     "output_type": "stream",
     "text": [
      "<ipython-input-38-a850dbcbd8ec>:53: SettingWithCopyWarning: \n",
      "A value is trying to be set on a copy of a slice from a DataFrame.\n",
      "Try using .loc[row_indexer,col_indexer] = value instead\n",
      "\n",
      "See the caveats in the documentation: https://pandas.pydata.org/pandas-docs/stable/user_guide/indexing.html#returning-a-view-versus-a-copy\n",
      "  temp_multi['number_filter'] = filter_types\n"
     ]
    },
    {
     "name": "stdout",
     "output_type": "stream",
     "text": [
      "i= 0  expand time,0.0 filter time0.0 make_dataframe_time 0.001\n",
      "E06000036\n"
     ]
    },
    {
     "name": "stderr",
     "output_type": "stream",
     "text": [
      "<ipython-input-38-a850dbcbd8ec>:53: SettingWithCopyWarning: \n",
      "A value is trying to be set on a copy of a slice from a DataFrame.\n",
      "Try using .loc[row_indexer,col_indexer] = value instead\n",
      "\n",
      "See the caveats in the documentation: https://pandas.pydata.org/pandas-docs/stable/user_guide/indexing.html#returning-a-view-versus-a-copy\n",
      "  temp_multi['number_filter'] = filter_types\n"
     ]
    },
    {
     "name": "stdout",
     "output_type": "stream",
     "text": [
      "i= 0  expand time,0.0 filter time0.0 make_dataframe_time 0.001\n",
      "E08000021\n"
     ]
    },
    {
     "name": "stderr",
     "output_type": "stream",
     "text": [
      "<ipython-input-38-a850dbcbd8ec>:53: SettingWithCopyWarning: \n",
      "A value is trying to be set on a copy of a slice from a DataFrame.\n",
      "Try using .loc[row_indexer,col_indexer] = value instead\n",
      "\n",
      "See the caveats in the documentation: https://pandas.pydata.org/pandas-docs/stable/user_guide/indexing.html#returning-a-view-versus-a-copy\n",
      "  temp_multi['number_filter'] = filter_types\n"
     ]
    },
    {
     "name": "stdout",
     "output_type": "stream",
     "text": [
      "i= 0  expand time,0.0 filter time0.0 make_dataframe_time 0.001\n",
      "E07000240\n"
     ]
    },
    {
     "name": "stderr",
     "output_type": "stream",
     "text": [
      "<ipython-input-38-a850dbcbd8ec>:53: SettingWithCopyWarning: \n",
      "A value is trying to be set on a copy of a slice from a DataFrame.\n",
      "Try using .loc[row_indexer,col_indexer] = value instead\n",
      "\n",
      "See the caveats in the documentation: https://pandas.pydata.org/pandas-docs/stable/user_guide/indexing.html#returning-a-view-versus-a-copy\n",
      "  temp_multi['number_filter'] = filter_types\n"
     ]
    },
    {
     "name": "stdout",
     "output_type": "stream",
     "text": [
      "i= 0  expand time,0.0 filter time0.0 make_dataframe_time 0.001\n",
      "E07000081\n"
     ]
    },
    {
     "name": "stderr",
     "output_type": "stream",
     "text": [
      "<ipython-input-38-a850dbcbd8ec>:53: SettingWithCopyWarning: \n",
      "A value is trying to be set on a copy of a slice from a DataFrame.\n",
      "Try using .loc[row_indexer,col_indexer] = value instead\n",
      "\n",
      "See the caveats in the documentation: https://pandas.pydata.org/pandas-docs/stable/user_guide/indexing.html#returning-a-view-versus-a-copy\n",
      "  temp_multi['number_filter'] = filter_types\n"
     ]
    },
    {
     "name": "stdout",
     "output_type": "stream",
     "text": [
      "i= 0  expand time,0.0 filter time0.0 make_dataframe_time 0.001\n",
      "E07000130\n"
     ]
    },
    {
     "name": "stderr",
     "output_type": "stream",
     "text": [
      "<ipython-input-38-a850dbcbd8ec>:53: SettingWithCopyWarning: \n",
      "A value is trying to be set on a copy of a slice from a DataFrame.\n",
      "Try using .loc[row_indexer,col_indexer] = value instead\n",
      "\n",
      "See the caveats in the documentation: https://pandas.pydata.org/pandas-docs/stable/user_guide/indexing.html#returning-a-view-versus-a-copy\n",
      "  temp_multi['number_filter'] = filter_types\n"
     ]
    },
    {
     "name": "stdout",
     "output_type": "stream",
     "text": [
      "i= 0  expand time,0.0 filter time0.0 make_dataframe_time 0.001\n",
      "E08000031\n"
     ]
    },
    {
     "name": "stderr",
     "output_type": "stream",
     "text": [
      "<ipython-input-38-a850dbcbd8ec>:53: SettingWithCopyWarning: \n",
      "A value is trying to be set on a copy of a slice from a DataFrame.\n",
      "Try using .loc[row_indexer,col_indexer] = value instead\n",
      "\n",
      "See the caveats in the documentation: https://pandas.pydata.org/pandas-docs/stable/user_guide/indexing.html#returning-a-view-versus-a-copy\n",
      "  temp_multi['number_filter'] = filter_types\n"
     ]
    },
    {
     "name": "stdout",
     "output_type": "stream",
     "text": [
      "i= 0  expand time,0.0 filter time0.0 make_dataframe_time 0.001\n",
      "W06000015\n"
     ]
    },
    {
     "name": "stderr",
     "output_type": "stream",
     "text": [
      "<ipython-input-38-a850dbcbd8ec>:53: SettingWithCopyWarning: \n",
      "A value is trying to be set on a copy of a slice from a DataFrame.\n",
      "Try using .loc[row_indexer,col_indexer] = value instead\n",
      "\n",
      "See the caveats in the documentation: https://pandas.pydata.org/pandas-docs/stable/user_guide/indexing.html#returning-a-view-versus-a-copy\n",
      "  temp_multi['number_filter'] = filter_types\n"
     ]
    },
    {
     "name": "stdout",
     "output_type": "stream",
     "text": [
      "i= 0  expand time,0.0 filter time0.0 make_dataframe_time 0.001\n",
      "E07000099\n"
     ]
    },
    {
     "name": "stderr",
     "output_type": "stream",
     "text": [
      "<ipython-input-38-a850dbcbd8ec>:53: SettingWithCopyWarning: \n",
      "A value is trying to be set on a copy of a slice from a DataFrame.\n",
      "Try using .loc[row_indexer,col_indexer] = value instead\n",
      "\n",
      "See the caveats in the documentation: https://pandas.pydata.org/pandas-docs/stable/user_guide/indexing.html#returning-a-view-versus-a-copy\n",
      "  temp_multi['number_filter'] = filter_types\n"
     ]
    },
    {
     "name": "stdout",
     "output_type": "stream",
     "text": [
      "i= 0  expand time,0.0 filter time0.0 make_dataframe_time 0.001\n",
      "E07000235\n"
     ]
    },
    {
     "name": "stderr",
     "output_type": "stream",
     "text": [
      "<ipython-input-38-a850dbcbd8ec>:53: SettingWithCopyWarning: \n",
      "A value is trying to be set on a copy of a slice from a DataFrame.\n",
      "Try using .loc[row_indexer,col_indexer] = value instead\n",
      "\n",
      "See the caveats in the documentation: https://pandas.pydata.org/pandas-docs/stable/user_guide/indexing.html#returning-a-view-versus-a-copy\n",
      "  temp_multi['number_filter'] = filter_types\n"
     ]
    },
    {
     "name": "stdout",
     "output_type": "stream",
     "text": [
      "i= 0  expand time,0.0 filter time0.0 make_dataframe_time 0.001\n",
      "W06000018\n"
     ]
    },
    {
     "name": "stderr",
     "output_type": "stream",
     "text": [
      "<ipython-input-38-a850dbcbd8ec>:53: SettingWithCopyWarning: \n",
      "A value is trying to be set on a copy of a slice from a DataFrame.\n",
      "Try using .loc[row_indexer,col_indexer] = value instead\n",
      "\n",
      "See the caveats in the documentation: https://pandas.pydata.org/pandas-docs/stable/user_guide/indexing.html#returning-a-view-versus-a-copy\n",
      "  temp_multi['number_filter'] = filter_types\n"
     ]
    },
    {
     "name": "stdout",
     "output_type": "stream",
     "text": [
      "i= 0  expand time,0.0 filter time0.0 make_dataframe_time 0.001\n",
      "E06000054\n"
     ]
    },
    {
     "name": "stderr",
     "output_type": "stream",
     "text": [
      "<ipython-input-38-a850dbcbd8ec>:53: SettingWithCopyWarning: \n",
      "A value is trying to be set on a copy of a slice from a DataFrame.\n",
      "Try using .loc[row_indexer,col_indexer] = value instead\n",
      "\n",
      "See the caveats in the documentation: https://pandas.pydata.org/pandas-docs/stable/user_guide/indexing.html#returning-a-view-versus-a-copy\n",
      "  temp_multi['number_filter'] = filter_types\n"
     ]
    },
    {
     "name": "stdout",
     "output_type": "stream",
     "text": [
      "i= 0  expand time,0.0 filter time0.0 make_dataframe_time 0.001\n",
      "E07000200\n"
     ]
    },
    {
     "name": "stderr",
     "output_type": "stream",
     "text": [
      "<ipython-input-38-a850dbcbd8ec>:53: SettingWithCopyWarning: \n",
      "A value is trying to be set on a copy of a slice from a DataFrame.\n",
      "Try using .loc[row_indexer,col_indexer] = value instead\n",
      "\n",
      "See the caveats in the documentation: https://pandas.pydata.org/pandas-docs/stable/user_guide/indexing.html#returning-a-view-versus-a-copy\n",
      "  temp_multi['number_filter'] = filter_types\n"
     ]
    },
    {
     "name": "stdout",
     "output_type": "stream",
     "text": [
      "i= 0  expand time,0.0 filter time0.0 make_dataframe_time 0.001\n",
      "E07000222\n"
     ]
    },
    {
     "name": "stderr",
     "output_type": "stream",
     "text": [
      "<ipython-input-38-a850dbcbd8ec>:53: SettingWithCopyWarning: \n",
      "A value is trying to be set on a copy of a slice from a DataFrame.\n",
      "Try using .loc[row_indexer,col_indexer] = value instead\n",
      "\n",
      "See the caveats in the documentation: https://pandas.pydata.org/pandas-docs/stable/user_guide/indexing.html#returning-a-view-versus-a-copy\n",
      "  temp_multi['number_filter'] = filter_types\n"
     ]
    },
    {
     "name": "stdout",
     "output_type": "stream",
     "text": [
      "i= 0  expand time,0.0 filter time0.0 make_dataframe_time 0.001\n",
      "W06000010\n"
     ]
    },
    {
     "name": "stderr",
     "output_type": "stream",
     "text": [
      "<ipython-input-38-a850dbcbd8ec>:53: SettingWithCopyWarning: \n",
      "A value is trying to be set on a copy of a slice from a DataFrame.\n",
      "Try using .loc[row_indexer,col_indexer] = value instead\n",
      "\n",
      "See the caveats in the documentation: https://pandas.pydata.org/pandas-docs/stable/user_guide/indexing.html#returning-a-view-versus-a-copy\n",
      "  temp_multi['number_filter'] = filter_types\n"
     ]
    },
    {
     "name": "stdout",
     "output_type": "stream",
     "text": [
      "i= 0  expand time,0.0 filter time0.0 make_dataframe_time 0.001\n",
      "E07000073\n"
     ]
    },
    {
     "name": "stderr",
     "output_type": "stream",
     "text": [
      "<ipython-input-38-a850dbcbd8ec>:53: SettingWithCopyWarning: \n",
      "A value is trying to be set on a copy of a slice from a DataFrame.\n",
      "Try using .loc[row_indexer,col_indexer] = value instead\n",
      "\n",
      "See the caveats in the documentation: https://pandas.pydata.org/pandas-docs/stable/user_guide/indexing.html#returning-a-view-versus-a-copy\n",
      "  temp_multi['number_filter'] = filter_types\n"
     ]
    },
    {
     "name": "stdout",
     "output_type": "stream",
     "text": [
      "i= 0  expand time,0.0 filter time0.0 make_dataframe_time 0.001\n",
      "E07000037\n"
     ]
    },
    {
     "name": "stderr",
     "output_type": "stream",
     "text": [
      "<ipython-input-38-a850dbcbd8ec>:53: SettingWithCopyWarning: \n",
      "A value is trying to be set on a copy of a slice from a DataFrame.\n",
      "Try using .loc[row_indexer,col_indexer] = value instead\n",
      "\n",
      "See the caveats in the documentation: https://pandas.pydata.org/pandas-docs/stable/user_guide/indexing.html#returning-a-view-versus-a-copy\n",
      "  temp_multi['number_filter'] = filter_types\n"
     ]
    },
    {
     "name": "stdout",
     "output_type": "stream",
     "text": [
      "i= 0  expand time,0.0 filter time0.0 make_dataframe_time 0.001\n",
      "E06000035\n"
     ]
    },
    {
     "name": "stderr",
     "output_type": "stream",
     "text": [
      "<ipython-input-38-a850dbcbd8ec>:53: SettingWithCopyWarning: \n",
      "A value is trying to be set on a copy of a slice from a DataFrame.\n",
      "Try using .loc[row_indexer,col_indexer] = value instead\n",
      "\n",
      "See the caveats in the documentation: https://pandas.pydata.org/pandas-docs/stable/user_guide/indexing.html#returning-a-view-versus-a-copy\n",
      "  temp_multi['number_filter'] = filter_types\n"
     ]
    },
    {
     "name": "stdout",
     "output_type": "stream",
     "text": [
      "i= 0  expand time,0.0 filter time0.0 make_dataframe_time 0.001\n",
      "E06000014\n"
     ]
    },
    {
     "name": "stderr",
     "output_type": "stream",
     "text": [
      "<ipython-input-38-a850dbcbd8ec>:53: SettingWithCopyWarning: \n",
      "A value is trying to be set on a copy of a slice from a DataFrame.\n",
      "Try using .loc[row_indexer,col_indexer] = value instead\n",
      "\n",
      "See the caveats in the documentation: https://pandas.pydata.org/pandas-docs/stable/user_guide/indexing.html#returning-a-view-versus-a-copy\n",
      "  temp_multi['number_filter'] = filter_types\n"
     ]
    },
    {
     "name": "stdout",
     "output_type": "stream",
     "text": [
      "i= 0  expand time,0.0 filter time0.0 make_dataframe_time 0.001\n",
      "E09000006\n"
     ]
    },
    {
     "name": "stderr",
     "output_type": "stream",
     "text": [
      "<ipython-input-38-a850dbcbd8ec>:53: SettingWithCopyWarning: \n",
      "A value is trying to be set on a copy of a slice from a DataFrame.\n",
      "Try using .loc[row_indexer,col_indexer] = value instead\n",
      "\n",
      "See the caveats in the documentation: https://pandas.pydata.org/pandas-docs/stable/user_guide/indexing.html#returning-a-view-versus-a-copy\n",
      "  temp_multi['number_filter'] = filter_types\n"
     ]
    },
    {
     "name": "stdout",
     "output_type": "stream",
     "text": [
      "i= 0  expand time,0.0 filter time0.0 make_dataframe_time 0.001\n",
      "E07000121\n"
     ]
    },
    {
     "name": "stderr",
     "output_type": "stream",
     "text": [
      "<ipython-input-38-a850dbcbd8ec>:53: SettingWithCopyWarning: \n",
      "A value is trying to be set on a copy of a slice from a DataFrame.\n",
      "Try using .loc[row_indexer,col_indexer] = value instead\n",
      "\n",
      "See the caveats in the documentation: https://pandas.pydata.org/pandas-docs/stable/user_guide/indexing.html#returning-a-view-versus-a-copy\n",
      "  temp_multi['number_filter'] = filter_types\n"
     ]
    },
    {
     "name": "stdout",
     "output_type": "stream",
     "text": [
      "i= 0  expand time,0.0 filter time0.0 make_dataframe_time 0.001\n",
      "E09000029\n"
     ]
    },
    {
     "name": "stderr",
     "output_type": "stream",
     "text": [
      "<ipython-input-38-a850dbcbd8ec>:53: SettingWithCopyWarning: \n",
      "A value is trying to be set on a copy of a slice from a DataFrame.\n",
      "Try using .loc[row_indexer,col_indexer] = value instead\n",
      "\n",
      "See the caveats in the documentation: https://pandas.pydata.org/pandas-docs/stable/user_guide/indexing.html#returning-a-view-versus-a-copy\n",
      "  temp_multi['number_filter'] = filter_types\n"
     ]
    },
    {
     "name": "stdout",
     "output_type": "stream",
     "text": [
      "i= 0  expand time,0.0 filter time0.0 make_dataframe_time 0.001\n",
      "E07000028\n"
     ]
    },
    {
     "name": "stderr",
     "output_type": "stream",
     "text": [
      "<ipython-input-38-a850dbcbd8ec>:53: SettingWithCopyWarning: \n",
      "A value is trying to be set on a copy of a slice from a DataFrame.\n",
      "Try using .loc[row_indexer,col_indexer] = value instead\n",
      "\n",
      "See the caveats in the documentation: https://pandas.pydata.org/pandas-docs/stable/user_guide/indexing.html#returning-a-view-versus-a-copy\n",
      "  temp_multi['number_filter'] = filter_types\n"
     ]
    },
    {
     "name": "stdout",
     "output_type": "stream",
     "text": [
      "i= 0  expand time,0.0 filter time0.0 make_dataframe_time 0.001\n",
      "E08000009\n"
     ]
    },
    {
     "name": "stderr",
     "output_type": "stream",
     "text": [
      "<ipython-input-38-a850dbcbd8ec>:53: SettingWithCopyWarning: \n",
      "A value is trying to be set on a copy of a slice from a DataFrame.\n",
      "Try using .loc[row_indexer,col_indexer] = value instead\n",
      "\n",
      "See the caveats in the documentation: https://pandas.pydata.org/pandas-docs/stable/user_guide/indexing.html#returning-a-view-versus-a-copy\n",
      "  temp_multi['number_filter'] = filter_types\n"
     ]
    },
    {
     "name": "stdout",
     "output_type": "stream",
     "text": [
      "i= 0  expand time,0.0 filter time0.0 make_dataframe_time 0.001\n",
      "E06000058\n"
     ]
    },
    {
     "name": "stderr",
     "output_type": "stream",
     "text": [
      "<ipython-input-38-a850dbcbd8ec>:53: SettingWithCopyWarning: \n",
      "A value is trying to be set on a copy of a slice from a DataFrame.\n",
      "Try using .loc[row_indexer,col_indexer] = value instead\n",
      "\n",
      "See the caveats in the documentation: https://pandas.pydata.org/pandas-docs/stable/user_guide/indexing.html#returning-a-view-versus-a-copy\n",
      "  temp_multi['number_filter'] = filter_types\n"
     ]
    },
    {
     "name": "stdout",
     "output_type": "stream",
     "text": [
      "i= 0  expand time,0.0 filter time0.0 make_dataframe_time 0.001\n",
      "E07000229\n"
     ]
    },
    {
     "name": "stderr",
     "output_type": "stream",
     "text": [
      "<ipython-input-38-a850dbcbd8ec>:53: SettingWithCopyWarning: \n",
      "A value is trying to be set on a copy of a slice from a DataFrame.\n",
      "Try using .loc[row_indexer,col_indexer] = value instead\n",
      "\n",
      "See the caveats in the documentation: https://pandas.pydata.org/pandas-docs/stable/user_guide/indexing.html#returning-a-view-versus-a-copy\n",
      "  temp_multi['number_filter'] = filter_types\n"
     ]
    },
    {
     "name": "stdout",
     "output_type": "stream",
     "text": [
      "i= 0  expand time,0.0 filter time0.0 make_dataframe_time 0.001\n",
      "E07000225\n"
     ]
    },
    {
     "name": "stderr",
     "output_type": "stream",
     "text": [
      "<ipython-input-38-a850dbcbd8ec>:53: SettingWithCopyWarning: \n",
      "A value is trying to be set on a copy of a slice from a DataFrame.\n",
      "Try using .loc[row_indexer,col_indexer] = value instead\n",
      "\n",
      "See the caveats in the documentation: https://pandas.pydata.org/pandas-docs/stable/user_guide/indexing.html#returning-a-view-versus-a-copy\n",
      "  temp_multi['number_filter'] = filter_types\n"
     ]
    },
    {
     "name": "stdout",
     "output_type": "stream",
     "text": [
      "i= 0  expand time,0.0 filter time0.0 make_dataframe_time 0.001\n",
      "E06000033\n"
     ]
    },
    {
     "name": "stderr",
     "output_type": "stream",
     "text": [
      "<ipython-input-38-a850dbcbd8ec>:53: SettingWithCopyWarning: \n",
      "A value is trying to be set on a copy of a slice from a DataFrame.\n",
      "Try using .loc[row_indexer,col_indexer] = value instead\n",
      "\n",
      "See the caveats in the documentation: https://pandas.pydata.org/pandas-docs/stable/user_guide/indexing.html#returning-a-view-versus-a-copy\n",
      "  temp_multi['number_filter'] = filter_types\n"
     ]
    },
    {
     "name": "stdout",
     "output_type": "stream",
     "text": [
      "i= 0  expand time,0.0 filter time0.0 make_dataframe_time 0.001\n",
      "E07000067\n"
     ]
    },
    {
     "name": "stderr",
     "output_type": "stream",
     "text": [
      "<ipython-input-38-a850dbcbd8ec>:53: SettingWithCopyWarning: \n",
      "A value is trying to be set on a copy of a slice from a DataFrame.\n",
      "Try using .loc[row_indexer,col_indexer] = value instead\n",
      "\n",
      "See the caveats in the documentation: https://pandas.pydata.org/pandas-docs/stable/user_guide/indexing.html#returning-a-view-versus-a-copy\n",
      "  temp_multi['number_filter'] = filter_types\n"
     ]
    },
    {
     "name": "stdout",
     "output_type": "stream",
     "text": [
      "i= 0  expand time,0.0 filter time0.0 make_dataframe_time 0.001\n",
      "E07000078\n"
     ]
    },
    {
     "name": "stderr",
     "output_type": "stream",
     "text": [
      "<ipython-input-38-a850dbcbd8ec>:53: SettingWithCopyWarning: \n",
      "A value is trying to be set on a copy of a slice from a DataFrame.\n",
      "Try using .loc[row_indexer,col_indexer] = value instead\n",
      "\n",
      "See the caveats in the documentation: https://pandas.pydata.org/pandas-docs/stable/user_guide/indexing.html#returning-a-view-versus-a-copy\n",
      "  temp_multi['number_filter'] = filter_types\n"
     ]
    },
    {
     "name": "stdout",
     "output_type": "stream",
     "text": [
      "i= 0  expand time,0.0 filter time0.0 make_dataframe_time 0.001\n",
      "E09000021\n"
     ]
    },
    {
     "name": "stderr",
     "output_type": "stream",
     "text": [
      "<ipython-input-38-a850dbcbd8ec>:53: SettingWithCopyWarning: \n",
      "A value is trying to be set on a copy of a slice from a DataFrame.\n",
      "Try using .loc[row_indexer,col_indexer] = value instead\n",
      "\n",
      "See the caveats in the documentation: https://pandas.pydata.org/pandas-docs/stable/user_guide/indexing.html#returning-a-view-versus-a-copy\n",
      "  temp_multi['number_filter'] = filter_types\n"
     ]
    },
    {
     "name": "stdout",
     "output_type": "stream",
     "text": [
      "i= 0  expand time,0.0 filter time0.0 make_dataframe_time 0.001\n",
      "E07000236\n"
     ]
    },
    {
     "name": "stderr",
     "output_type": "stream",
     "text": [
      "<ipython-input-38-a850dbcbd8ec>:53: SettingWithCopyWarning: \n",
      "A value is trying to be set on a copy of a slice from a DataFrame.\n",
      "Try using .loc[row_indexer,col_indexer] = value instead\n",
      "\n",
      "See the caveats in the documentation: https://pandas.pydata.org/pandas-docs/stable/user_guide/indexing.html#returning-a-view-versus-a-copy\n",
      "  temp_multi['number_filter'] = filter_types\n"
     ]
    },
    {
     "name": "stdout",
     "output_type": "stream",
     "text": [
      "i= 0  expand time,0.0 filter time0.0 make_dataframe_time 0.001\n",
      "E07000098\n"
     ]
    },
    {
     "name": "stderr",
     "output_type": "stream",
     "text": [
      "<ipython-input-38-a850dbcbd8ec>:53: SettingWithCopyWarning: \n",
      "A value is trying to be set on a copy of a slice from a DataFrame.\n",
      "Try using .loc[row_indexer,col_indexer] = value instead\n",
      "\n",
      "See the caveats in the documentation: https://pandas.pydata.org/pandas-docs/stable/user_guide/indexing.html#returning-a-view-versus-a-copy\n",
      "  temp_multi['number_filter'] = filter_types\n"
     ]
    },
    {
     "name": "stdout",
     "output_type": "stream",
     "text": [
      "i= 0  expand time,0.0 filter time0.0 make_dataframe_time 0.001\n",
      "E07000087\n"
     ]
    },
    {
     "name": "stderr",
     "output_type": "stream",
     "text": [
      "<ipython-input-38-a850dbcbd8ec>:53: SettingWithCopyWarning: \n",
      "A value is trying to be set on a copy of a slice from a DataFrame.\n",
      "Try using .loc[row_indexer,col_indexer] = value instead\n",
      "\n",
      "See the caveats in the documentation: https://pandas.pydata.org/pandas-docs/stable/user_guide/indexing.html#returning-a-view-versus-a-copy\n",
      "  temp_multi['number_filter'] = filter_types\n"
     ]
    },
    {
     "name": "stdout",
     "output_type": "stream",
     "text": [
      "i= 0  expand time,0.0 filter time0.0 make_dataframe_time 0.001\n",
      "E07000224\n"
     ]
    },
    {
     "name": "stderr",
     "output_type": "stream",
     "text": [
      "<ipython-input-38-a850dbcbd8ec>:53: SettingWithCopyWarning: \n",
      "A value is trying to be set on a copy of a slice from a DataFrame.\n",
      "Try using .loc[row_indexer,col_indexer] = value instead\n",
      "\n",
      "See the caveats in the documentation: https://pandas.pydata.org/pandas-docs/stable/user_guide/indexing.html#returning-a-view-versus-a-copy\n",
      "  temp_multi['number_filter'] = filter_types\n"
     ]
    },
    {
     "name": "stdout",
     "output_type": "stream",
     "text": [
      "i= 0  expand time,0.0 filter time0.0 make_dataframe_time 0.001\n",
      "E07000103\n"
     ]
    },
    {
     "name": "stderr",
     "output_type": "stream",
     "text": [
      "<ipython-input-38-a850dbcbd8ec>:53: SettingWithCopyWarning: \n",
      "A value is trying to be set on a copy of a slice from a DataFrame.\n",
      "Try using .loc[row_indexer,col_indexer] = value instead\n",
      "\n",
      "See the caveats in the documentation: https://pandas.pydata.org/pandas-docs/stable/user_guide/indexing.html#returning-a-view-versus-a-copy\n",
      "  temp_multi['number_filter'] = filter_types\n"
     ]
    },
    {
     "name": "stdout",
     "output_type": "stream",
     "text": [
      "i= 0  expand time,0.0 filter time0.0 make_dataframe_time 0.001\n",
      "E07000125\n"
     ]
    },
    {
     "name": "stderr",
     "output_type": "stream",
     "text": [
      "<ipython-input-38-a850dbcbd8ec>:53: SettingWithCopyWarning: \n",
      "A value is trying to be set on a copy of a slice from a DataFrame.\n",
      "Try using .loc[row_indexer,col_indexer] = value instead\n",
      "\n",
      "See the caveats in the documentation: https://pandas.pydata.org/pandas-docs/stable/user_guide/indexing.html#returning-a-view-versus-a-copy\n",
      "  temp_multi['number_filter'] = filter_types\n"
     ]
    },
    {
     "name": "stdout",
     "output_type": "stream",
     "text": [
      "i= 0  expand time,0.0 filter time0.0 make_dataframe_time 0.001\n",
      "E07000084\n"
     ]
    },
    {
     "name": "stderr",
     "output_type": "stream",
     "text": [
      "<ipython-input-38-a850dbcbd8ec>:53: SettingWithCopyWarning: \n",
      "A value is trying to be set on a copy of a slice from a DataFrame.\n",
      "Try using .loc[row_indexer,col_indexer] = value instead\n",
      "\n",
      "See the caveats in the documentation: https://pandas.pydata.org/pandas-docs/stable/user_guide/indexing.html#returning-a-view-versus-a-copy\n",
      "  temp_multi['number_filter'] = filter_types\n"
     ]
    },
    {
     "name": "stdout",
     "output_type": "stream",
     "text": [
      "i= 0  expand time,0.0 filter time0.0 make_dataframe_time 0.001\n",
      "E07000131\n"
     ]
    },
    {
     "name": "stderr",
     "output_type": "stream",
     "text": [
      "<ipython-input-38-a850dbcbd8ec>:53: SettingWithCopyWarning: \n",
      "A value is trying to be set on a copy of a slice from a DataFrame.\n",
      "Try using .loc[row_indexer,col_indexer] = value instead\n",
      "\n",
      "See the caveats in the documentation: https://pandas.pydata.org/pandas-docs/stable/user_guide/indexing.html#returning-a-view-versus-a-copy\n",
      "  temp_multi['number_filter'] = filter_types\n"
     ]
    },
    {
     "name": "stdout",
     "output_type": "stream",
     "text": [
      "i= 0  expand time,0.0 filter time0.0 make_dataframe_time 0.001\n",
      "E07000137\n"
     ]
    },
    {
     "name": "stderr",
     "output_type": "stream",
     "text": [
      "<ipython-input-38-a850dbcbd8ec>:53: SettingWithCopyWarning: \n",
      "A value is trying to be set on a copy of a slice from a DataFrame.\n",
      "Try using .loc[row_indexer,col_indexer] = value instead\n",
      "\n",
      "See the caveats in the documentation: https://pandas.pydata.org/pandas-docs/stable/user_guide/indexing.html#returning-a-view-versus-a-copy\n",
      "  temp_multi['number_filter'] = filter_types\n"
     ]
    },
    {
     "name": "stdout",
     "output_type": "stream",
     "text": [
      "i= 0  expand time,0.0 filter time0.0 make_dataframe_time 0.001\n",
      "E06000010\n"
     ]
    },
    {
     "name": "stderr",
     "output_type": "stream",
     "text": [
      "<ipython-input-38-a850dbcbd8ec>:53: SettingWithCopyWarning: \n",
      "A value is trying to be set on a copy of a slice from a DataFrame.\n",
      "Try using .loc[row_indexer,col_indexer] = value instead\n",
      "\n",
      "See the caveats in the documentation: https://pandas.pydata.org/pandas-docs/stable/user_guide/indexing.html#returning-a-view-versus-a-copy\n",
      "  temp_multi['number_filter'] = filter_types\n"
     ]
    },
    {
     "name": "stdout",
     "output_type": "stream",
     "text": [
      "i= 0  expand time,0.0 filter time0.0 make_dataframe_time 0.001\n",
      "E06000008\n"
     ]
    },
    {
     "name": "stderr",
     "output_type": "stream",
     "text": [
      "<ipython-input-38-a850dbcbd8ec>:53: SettingWithCopyWarning: \n",
      "A value is trying to be set on a copy of a slice from a DataFrame.\n",
      "Try using .loc[row_indexer,col_indexer] = value instead\n",
      "\n",
      "See the caveats in the documentation: https://pandas.pydata.org/pandas-docs/stable/user_guide/indexing.html#returning-a-view-versus-a-copy\n",
      "  temp_multi['number_filter'] = filter_types\n"
     ]
    },
    {
     "name": "stdout",
     "output_type": "stream",
     "text": [
      "i= 0  expand time,0.0 filter time0.0 make_dataframe_time 0.001\n",
      "E06000009\n"
     ]
    },
    {
     "name": "stderr",
     "output_type": "stream",
     "text": [
      "<ipython-input-38-a850dbcbd8ec>:53: SettingWithCopyWarning: \n",
      "A value is trying to be set on a copy of a slice from a DataFrame.\n",
      "Try using .loc[row_indexer,col_indexer] = value instead\n",
      "\n",
      "See the caveats in the documentation: https://pandas.pydata.org/pandas-docs/stable/user_guide/indexing.html#returning-a-view-versus-a-copy\n",
      "  temp_multi['number_filter'] = filter_types\n"
     ]
    },
    {
     "name": "stdout",
     "output_type": "stream",
     "text": [
      "i= 0  expand time,0.0 filter time0.0 make_dataframe_time 0.001\n",
      "E07000031\n"
     ]
    },
    {
     "name": "stderr",
     "output_type": "stream",
     "text": [
      "<ipython-input-38-a850dbcbd8ec>:53: SettingWithCopyWarning: \n",
      "A value is trying to be set on a copy of a slice from a DataFrame.\n",
      "Try using .loc[row_indexer,col_indexer] = value instead\n",
      "\n",
      "See the caveats in the documentation: https://pandas.pydata.org/pandas-docs/stable/user_guide/indexing.html#returning-a-view-versus-a-copy\n",
      "  temp_multi['number_filter'] = filter_types\n"
     ]
    },
    {
     "name": "stdout",
     "output_type": "stream",
     "text": [
      "i= 0  expand time,0.0 filter time0.0 make_dataframe_time 0.001\n",
      "E09000009\n"
     ]
    },
    {
     "name": "stderr",
     "output_type": "stream",
     "text": [
      "<ipython-input-38-a850dbcbd8ec>:53: SettingWithCopyWarning: \n",
      "A value is trying to be set on a copy of a slice from a DataFrame.\n",
      "Try using .loc[row_indexer,col_indexer] = value instead\n",
      "\n",
      "See the caveats in the documentation: https://pandas.pydata.org/pandas-docs/stable/user_guide/indexing.html#returning-a-view-versus-a-copy\n",
      "  temp_multi['number_filter'] = filter_types\n"
     ]
    },
    {
     "name": "stdout",
     "output_type": "stream",
     "text": [
      "i= 0  expand time,0.0 filter time0.0 make_dataframe_time 0.001\n",
      "E07000177\n"
     ]
    },
    {
     "name": "stderr",
     "output_type": "stream",
     "text": [
      "<ipython-input-38-a850dbcbd8ec>:53: SettingWithCopyWarning: \n",
      "A value is trying to be set on a copy of a slice from a DataFrame.\n",
      "Try using .loc[row_indexer,col_indexer] = value instead\n",
      "\n",
      "See the caveats in the documentation: https://pandas.pydata.org/pandas-docs/stable/user_guide/indexing.html#returning-a-view-versus-a-copy\n",
      "  temp_multi['number_filter'] = filter_types\n"
     ]
    },
    {
     "name": "stdout",
     "output_type": "stream",
     "text": [
      "i= 0  expand time,0.0 filter time0.0 make_dataframe_time 0.001\n",
      "E07000181\n"
     ]
    },
    {
     "name": "stderr",
     "output_type": "stream",
     "text": [
      "<ipython-input-38-a850dbcbd8ec>:53: SettingWithCopyWarning: \n",
      "A value is trying to be set on a copy of a slice from a DataFrame.\n",
      "Try using .loc[row_indexer,col_indexer] = value instead\n",
      "\n",
      "See the caveats in the documentation: https://pandas.pydata.org/pandas-docs/stable/user_guide/indexing.html#returning-a-view-versus-a-copy\n",
      "  temp_multi['number_filter'] = filter_types\n"
     ]
    },
    {
     "name": "stdout",
     "output_type": "stream",
     "text": [
      "i= 0  expand time,0.0 filter time0.0 make_dataframe_time 0.001\n",
      "E07000179\n"
     ]
    },
    {
     "name": "stderr",
     "output_type": "stream",
     "text": [
      "<ipython-input-38-a850dbcbd8ec>:53: SettingWithCopyWarning: \n",
      "A value is trying to be set on a copy of a slice from a DataFrame.\n",
      "Try using .loc[row_indexer,col_indexer] = value instead\n",
      "\n",
      "See the caveats in the documentation: https://pandas.pydata.org/pandas-docs/stable/user_guide/indexing.html#returning-a-view-versus-a-copy\n",
      "  temp_multi['number_filter'] = filter_types\n"
     ]
    },
    {
     "name": "stdout",
     "output_type": "stream",
     "text": [
      "i= 0  expand time,0.0 filter time0.0 make_dataframe_time 0.001\n",
      "W06000014\n"
     ]
    },
    {
     "name": "stderr",
     "output_type": "stream",
     "text": [
      "<ipython-input-38-a850dbcbd8ec>:53: SettingWithCopyWarning: \n",
      "A value is trying to be set on a copy of a slice from a DataFrame.\n",
      "Try using .loc[row_indexer,col_indexer] = value instead\n",
      "\n",
      "See the caveats in the documentation: https://pandas.pydata.org/pandas-docs/stable/user_guide/indexing.html#returning-a-view-versus-a-copy\n",
      "  temp_multi['number_filter'] = filter_types\n"
     ]
    },
    {
     "name": "stdout",
     "output_type": "stream",
     "text": [
      "i= 0  expand time,0.0 filter time0.0 make_dataframe_time 0.001\n",
      "E09000013\n"
     ]
    },
    {
     "name": "stderr",
     "output_type": "stream",
     "text": [
      "<ipython-input-38-a850dbcbd8ec>:53: SettingWithCopyWarning: \n",
      "A value is trying to be set on a copy of a slice from a DataFrame.\n",
      "Try using .loc[row_indexer,col_indexer] = value instead\n",
      "\n",
      "See the caveats in the documentation: https://pandas.pydata.org/pandas-docs/stable/user_guide/indexing.html#returning-a-view-versus-a-copy\n",
      "  temp_multi['number_filter'] = filter_types\n"
     ]
    },
    {
     "name": "stdout",
     "output_type": "stream",
     "text": [
      "i= 0  expand time,0.0 filter time0.0 make_dataframe_time 0.001\n",
      "W06000019\n"
     ]
    },
    {
     "name": "stderr",
     "output_type": "stream",
     "text": [
      "<ipython-input-38-a850dbcbd8ec>:53: SettingWithCopyWarning: \n",
      "A value is trying to be set on a copy of a slice from a DataFrame.\n",
      "Try using .loc[row_indexer,col_indexer] = value instead\n",
      "\n",
      "See the caveats in the documentation: https://pandas.pydata.org/pandas-docs/stable/user_guide/indexing.html#returning-a-view-versus-a-copy\n",
      "  temp_multi['number_filter'] = filter_types\n"
     ]
    },
    {
     "name": "stdout",
     "output_type": "stream",
     "text": [
      "i= 0  expand time,0.0 filter time0.0 make_dataframe_time 0.001\n",
      "E07000207\n"
     ]
    },
    {
     "name": "stderr",
     "output_type": "stream",
     "text": [
      "<ipython-input-38-a850dbcbd8ec>:53: SettingWithCopyWarning: \n",
      "A value is trying to be set on a copy of a slice from a DataFrame.\n",
      "Try using .loc[row_indexer,col_indexer] = value instead\n",
      "\n",
      "See the caveats in the documentation: https://pandas.pydata.org/pandas-docs/stable/user_guide/indexing.html#returning-a-view-versus-a-copy\n",
      "  temp_multi['number_filter'] = filter_types\n"
     ]
    },
    {
     "name": "stdout",
     "output_type": "stream",
     "text": [
      "i= 0  expand time,0.0 filter time0.0 make_dataframe_time 0.001\n",
      "E07000117\n"
     ]
    },
    {
     "name": "stderr",
     "output_type": "stream",
     "text": [
      "<ipython-input-38-a850dbcbd8ec>:53: SettingWithCopyWarning: \n",
      "A value is trying to be set on a copy of a slice from a DataFrame.\n",
      "Try using .loc[row_indexer,col_indexer] = value instead\n",
      "\n",
      "See the caveats in the documentation: https://pandas.pydata.org/pandas-docs/stable/user_guide/indexing.html#returning-a-view-versus-a-copy\n",
      "  temp_multi['number_filter'] = filter_types\n"
     ]
    },
    {
     "name": "stdout",
     "output_type": "stream",
     "text": [
      "i= 0  expand time,0.0 filter time0.0 make_dataframe_time 0.001\n",
      "E07000187\n"
     ]
    },
    {
     "name": "stderr",
     "output_type": "stream",
     "text": [
      "<ipython-input-38-a850dbcbd8ec>:53: SettingWithCopyWarning: \n",
      "A value is trying to be set on a copy of a slice from a DataFrame.\n",
      "Try using .loc[row_indexer,col_indexer] = value instead\n",
      "\n",
      "See the caveats in the documentation: https://pandas.pydata.org/pandas-docs/stable/user_guide/indexing.html#returning-a-view-versus-a-copy\n",
      "  temp_multi['number_filter'] = filter_types\n"
     ]
    },
    {
     "name": "stdout",
     "output_type": "stream",
     "text": [
      "i= 0  expand time,0.0 filter time0.0 make_dataframe_time 0.001\n",
      "E09000002\n"
     ]
    },
    {
     "name": "stderr",
     "output_type": "stream",
     "text": [
      "<ipython-input-38-a850dbcbd8ec>:53: SettingWithCopyWarning: \n",
      "A value is trying to be set on a copy of a slice from a DataFrame.\n",
      "Try using .loc[row_indexer,col_indexer] = value instead\n",
      "\n",
      "See the caveats in the documentation: https://pandas.pydata.org/pandas-docs/stable/user_guide/indexing.html#returning-a-view-versus-a-copy\n",
      "  temp_multi['number_filter'] = filter_types\n"
     ]
    },
    {
     "name": "stdout",
     "output_type": "stream",
     "text": [
      "i= 0  expand time,0.0 filter time0.0 make_dataframe_time 0.001\n",
      "E06000002\n"
     ]
    },
    {
     "name": "stderr",
     "output_type": "stream",
     "text": [
      "<ipython-input-38-a850dbcbd8ec>:53: SettingWithCopyWarning: \n",
      "A value is trying to be set on a copy of a slice from a DataFrame.\n",
      "Try using .loc[row_indexer,col_indexer] = value instead\n",
      "\n",
      "See the caveats in the documentation: https://pandas.pydata.org/pandas-docs/stable/user_guide/indexing.html#returning-a-view-versus-a-copy\n",
      "  temp_multi['number_filter'] = filter_types\n"
     ]
    },
    {
     "name": "stdout",
     "output_type": "stream",
     "text": [
      "i= 0  expand time,0.0 filter time0.0 make_dataframe_time 0.001\n",
      "E06000001\n"
     ]
    },
    {
     "name": "stderr",
     "output_type": "stream",
     "text": [
      "<ipython-input-38-a850dbcbd8ec>:53: SettingWithCopyWarning: \n",
      "A value is trying to be set on a copy of a slice from a DataFrame.\n",
      "Try using .loc[row_indexer,col_indexer] = value instead\n",
      "\n",
      "See the caveats in the documentation: https://pandas.pydata.org/pandas-docs/stable/user_guide/indexing.html#returning-a-view-versus-a-copy\n",
      "  temp_multi['number_filter'] = filter_types\n"
     ]
    },
    {
     "name": "stdout",
     "output_type": "stream",
     "text": [
      "i= 0  expand time,0.0 filter time0.0 make_dataframe_time 0.001\n",
      "E06000026\n"
     ]
    },
    {
     "name": "stderr",
     "output_type": "stream",
     "text": [
      "<ipython-input-38-a850dbcbd8ec>:53: SettingWithCopyWarning: \n",
      "A value is trying to be set on a copy of a slice from a DataFrame.\n",
      "Try using .loc[row_indexer,col_indexer] = value instead\n",
      "\n",
      "See the caveats in the documentation: https://pandas.pydata.org/pandas-docs/stable/user_guide/indexing.html#returning-a-view-versus-a-copy\n",
      "  temp_multi['number_filter'] = filter_types\n"
     ]
    },
    {
     "name": "stdout",
     "output_type": "stream",
     "text": [
      "i= 0  expand time,0.0 filter time0.0 make_dataframe_time 0.001\n",
      "E07000226\n"
     ]
    },
    {
     "name": "stderr",
     "output_type": "stream",
     "text": [
      "<ipython-input-38-a850dbcbd8ec>:53: SettingWithCopyWarning: \n",
      "A value is trying to be set on a copy of a slice from a DataFrame.\n",
      "Try using .loc[row_indexer,col_indexer] = value instead\n",
      "\n",
      "See the caveats in the documentation: https://pandas.pydata.org/pandas-docs/stable/user_guide/indexing.html#returning-a-view-versus-a-copy\n",
      "  temp_multi['number_filter'] = filter_types\n"
     ]
    },
    {
     "name": "stdout",
     "output_type": "stream",
     "text": [
      "i= 0  expand time,0.0 filter time0.0 make_dataframe_time 0.001\n",
      "E06000038\n"
     ]
    },
    {
     "name": "stderr",
     "output_type": "stream",
     "text": [
      "<ipython-input-38-a850dbcbd8ec>:53: SettingWithCopyWarning: \n",
      "A value is trying to be set on a copy of a slice from a DataFrame.\n",
      "Try using .loc[row_indexer,col_indexer] = value instead\n",
      "\n",
      "See the caveats in the documentation: https://pandas.pydata.org/pandas-docs/stable/user_guide/indexing.html#returning-a-view-versus-a-copy\n",
      "  temp_multi['number_filter'] = filter_types\n"
     ]
    },
    {
     "name": "stdout",
     "output_type": "stream",
     "text": [
      "i= 0  expand time,0.0 filter time0.0 make_dataframe_time 0.001\n",
      "E09000016\n"
     ]
    },
    {
     "name": "stderr",
     "output_type": "stream",
     "text": [
      "<ipython-input-38-a850dbcbd8ec>:53: SettingWithCopyWarning: \n",
      "A value is trying to be set on a copy of a slice from a DataFrame.\n",
      "Try using .loc[row_indexer,col_indexer] = value instead\n",
      "\n",
      "See the caveats in the documentation: https://pandas.pydata.org/pandas-docs/stable/user_guide/indexing.html#returning-a-view-versus-a-copy\n",
      "  temp_multi['number_filter'] = filter_types\n"
     ]
    },
    {
     "name": "stdout",
     "output_type": "stream",
     "text": [
      "i= 0  expand time,0.0 filter time0.0 make_dataframe_time 0.001\n",
      "E08000037\n"
     ]
    },
    {
     "name": "stderr",
     "output_type": "stream",
     "text": [
      "<ipython-input-38-a850dbcbd8ec>:53: SettingWithCopyWarning: \n",
      "A value is trying to be set on a copy of a slice from a DataFrame.\n",
      "Try using .loc[row_indexer,col_indexer] = value instead\n",
      "\n",
      "See the caveats in the documentation: https://pandas.pydata.org/pandas-docs/stable/user_guide/indexing.html#returning-a-view-versus-a-copy\n",
      "  temp_multi['number_filter'] = filter_types\n"
     ]
    },
    {
     "name": "stdout",
     "output_type": "stream",
     "text": [
      "i= 0  expand time,0.0 filter time0.0 make_dataframe_time 0.001\n",
      "E07000188\n"
     ]
    },
    {
     "name": "stderr",
     "output_type": "stream",
     "text": [
      "<ipython-input-38-a850dbcbd8ec>:53: SettingWithCopyWarning: \n",
      "A value is trying to be set on a copy of a slice from a DataFrame.\n",
      "Try using .loc[row_indexer,col_indexer] = value instead\n",
      "\n",
      "See the caveats in the documentation: https://pandas.pydata.org/pandas-docs/stable/user_guide/indexing.html#returning-a-view-versus-a-copy\n",
      "  temp_multi['number_filter'] = filter_types\n"
     ]
    },
    {
     "name": "stdout",
     "output_type": "stream",
     "text": [
      "i= 0  expand time,0.0 filter time0.0 make_dataframe_time 0.001\n",
      "E07000068\n"
     ]
    },
    {
     "name": "stderr",
     "output_type": "stream",
     "text": [
      "<ipython-input-38-a850dbcbd8ec>:53: SettingWithCopyWarning: \n",
      "A value is trying to be set on a copy of a slice from a DataFrame.\n",
      "Try using .loc[row_indexer,col_indexer] = value instead\n",
      "\n",
      "See the caveats in the documentation: https://pandas.pydata.org/pandas-docs/stable/user_guide/indexing.html#returning-a-view-versus-a-copy\n",
      "  temp_multi['number_filter'] = filter_types\n"
     ]
    },
    {
     "name": "stdout",
     "output_type": "stream",
     "text": [
      "i= 0  expand time,0.0 filter time0.0 make_dataframe_time 0.001\n",
      "E06000044\n"
     ]
    },
    {
     "name": "stderr",
     "output_type": "stream",
     "text": [
      "<ipython-input-38-a850dbcbd8ec>:53: SettingWithCopyWarning: \n",
      "A value is trying to be set on a copy of a slice from a DataFrame.\n",
      "Try using .loc[row_indexer,col_indexer] = value instead\n",
      "\n",
      "See the caveats in the documentation: https://pandas.pydata.org/pandas-docs/stable/user_guide/indexing.html#returning-a-view-versus-a-copy\n",
      "  temp_multi['number_filter'] = filter_types\n"
     ]
    },
    {
     "name": "stdout",
     "output_type": "stream",
     "text": [
      "i= 0  expand time,0.0 filter time0.0 make_dataframe_time 0.001\n",
      "E07000197\n"
     ]
    },
    {
     "name": "stderr",
     "output_type": "stream",
     "text": [
      "<ipython-input-38-a850dbcbd8ec>:53: SettingWithCopyWarning: \n",
      "A value is trying to be set on a copy of a slice from a DataFrame.\n",
      "Try using .loc[row_indexer,col_indexer] = value instead\n",
      "\n",
      "See the caveats in the documentation: https://pandas.pydata.org/pandas-docs/stable/user_guide/indexing.html#returning-a-view-versus-a-copy\n",
      "  temp_multi['number_filter'] = filter_types\n"
     ]
    },
    {
     "name": "stdout",
     "output_type": "stream",
     "text": [
      "i= 0  expand time,0.0 filter time0.0 make_dataframe_time 0.001\n",
      "E06000040\n"
     ]
    },
    {
     "name": "stderr",
     "output_type": "stream",
     "text": [
      "<ipython-input-38-a850dbcbd8ec>:53: SettingWithCopyWarning: \n",
      "A value is trying to be set on a copy of a slice from a DataFrame.\n",
      "Try using .loc[row_indexer,col_indexer] = value instead\n",
      "\n",
      "See the caveats in the documentation: https://pandas.pydata.org/pandas-docs/stable/user_guide/indexing.html#returning-a-view-versus-a-copy\n",
      "  temp_multi['number_filter'] = filter_types\n"
     ]
    },
    {
     "name": "stdout",
     "output_type": "stream",
     "text": [
      "i= 0  expand time,0.0 filter time0.0 make_dataframe_time 0.001\n",
      "E07000210\n"
     ]
    },
    {
     "name": "stderr",
     "output_type": "stream",
     "text": [
      "<ipython-input-38-a850dbcbd8ec>:53: SettingWithCopyWarning: \n",
      "A value is trying to be set on a copy of a slice from a DataFrame.\n",
      "Try using .loc[row_indexer,col_indexer] = value instead\n",
      "\n",
      "See the caveats in the documentation: https://pandas.pydata.org/pandas-docs/stable/user_guide/indexing.html#returning-a-view-versus-a-copy\n",
      "  temp_multi['number_filter'] = filter_types\n"
     ]
    },
    {
     "name": "stdout",
     "output_type": "stream",
     "text": [
      "i= 0  expand time,0.0 filter time0.0 make_dataframe_time 0.001\n",
      "E08000016\n"
     ]
    },
    {
     "name": "stderr",
     "output_type": "stream",
     "text": [
      "<ipython-input-38-a850dbcbd8ec>:53: SettingWithCopyWarning: \n",
      "A value is trying to be set on a copy of a slice from a DataFrame.\n",
      "Try using .loc[row_indexer,col_indexer] = value instead\n",
      "\n",
      "See the caveats in the documentation: https://pandas.pydata.org/pandas-docs/stable/user_guide/indexing.html#returning-a-view-versus-a-copy\n",
      "  temp_multi['number_filter'] = filter_types\n"
     ]
    },
    {
     "name": "stdout",
     "output_type": "stream",
     "text": [
      "i= 0  expand time,0.0 filter time0.0 make_dataframe_time 0.001\n",
      "E07000034\n"
     ]
    },
    {
     "name": "stderr",
     "output_type": "stream",
     "text": [
      "<ipython-input-38-a850dbcbd8ec>:53: SettingWithCopyWarning: \n",
      "A value is trying to be set on a copy of a slice from a DataFrame.\n",
      "Try using .loc[row_indexer,col_indexer] = value instead\n",
      "\n",
      "See the caveats in the documentation: https://pandas.pydata.org/pandas-docs/stable/user_guide/indexing.html#returning-a-view-versus-a-copy\n",
      "  temp_multi['number_filter'] = filter_types\n"
     ]
    },
    {
     "name": "stdout",
     "output_type": "stream",
     "text": [
      "i= 0  expand time,0.0 filter time0.0 make_dataframe_time 0.001\n",
      "E08000008\n"
     ]
    },
    {
     "name": "stderr",
     "output_type": "stream",
     "text": [
      "<ipython-input-38-a850dbcbd8ec>:53: SettingWithCopyWarning: \n",
      "A value is trying to be set on a copy of a slice from a DataFrame.\n",
      "Try using .loc[row_indexer,col_indexer] = value instead\n",
      "\n",
      "See the caveats in the documentation: https://pandas.pydata.org/pandas-docs/stable/user_guide/indexing.html#returning-a-view-versus-a-copy\n",
      "  temp_multi['number_filter'] = filter_types\n"
     ]
    },
    {
     "name": "stdout",
     "output_type": "stream",
     "text": [
      "i= 0  expand time,0.0 filter time0.0 make_dataframe_time 0.001\n",
      "E07000082\n"
     ]
    },
    {
     "name": "stderr",
     "output_type": "stream",
     "text": [
      "<ipython-input-38-a850dbcbd8ec>:53: SettingWithCopyWarning: \n",
      "A value is trying to be set on a copy of a slice from a DataFrame.\n",
      "Try using .loc[row_indexer,col_indexer] = value instead\n",
      "\n",
      "See the caveats in the documentation: https://pandas.pydata.org/pandas-docs/stable/user_guide/indexing.html#returning-a-view-versus-a-copy\n",
      "  temp_multi['number_filter'] = filter_types\n"
     ]
    },
    {
     "name": "stdout",
     "output_type": "stream",
     "text": [
      "i= 0  expand time,0.0 filter time0.0 make_dataframe_time 0.001\n",
      "E07000212\n"
     ]
    },
    {
     "name": "stderr",
     "output_type": "stream",
     "text": [
      "<ipython-input-38-a850dbcbd8ec>:53: SettingWithCopyWarning: \n",
      "A value is trying to be set on a copy of a slice from a DataFrame.\n",
      "Try using .loc[row_indexer,col_indexer] = value instead\n",
      "\n",
      "See the caveats in the documentation: https://pandas.pydata.org/pandas-docs/stable/user_guide/indexing.html#returning-a-view-versus-a-copy\n",
      "  temp_multi['number_filter'] = filter_types\n"
     ]
    },
    {
     "name": "stdout",
     "output_type": "stream",
     "text": [
      "i= 0  expand time,0.0 filter time0.0 make_dataframe_time 0.001\n",
      "E09000031\n"
     ]
    },
    {
     "name": "stderr",
     "output_type": "stream",
     "text": [
      "<ipython-input-38-a850dbcbd8ec>:53: SettingWithCopyWarning: \n",
      "A value is trying to be set on a copy of a slice from a DataFrame.\n",
      "Try using .loc[row_indexer,col_indexer] = value instead\n",
      "\n",
      "See the caveats in the documentation: https://pandas.pydata.org/pandas-docs/stable/user_guide/indexing.html#returning-a-view-versus-a-copy\n",
      "  temp_multi['number_filter'] = filter_types\n"
     ]
    },
    {
     "name": "stdout",
     "output_type": "stream",
     "text": [
      "i= 0  expand time,0.0 filter time0.0 make_dataframe_time 0.001\n",
      "E07000064\n"
     ]
    },
    {
     "name": "stderr",
     "output_type": "stream",
     "text": [
      "<ipython-input-38-a850dbcbd8ec>:53: SettingWithCopyWarning: \n",
      "A value is trying to be set on a copy of a slice from a DataFrame.\n",
      "Try using .loc[row_indexer,col_indexer] = value instead\n",
      "\n",
      "See the caveats in the documentation: https://pandas.pydata.org/pandas-docs/stable/user_guide/indexing.html#returning-a-view-versus-a-copy\n",
      "  temp_multi['number_filter'] = filter_types\n"
     ]
    },
    {
     "name": "stdout",
     "output_type": "stream",
     "text": [
      "i= 0  expand time,0.0 filter time0.0 make_dataframe_time 0.001\n",
      "W06000001\n"
     ]
    },
    {
     "name": "stderr",
     "output_type": "stream",
     "text": [
      "<ipython-input-38-a850dbcbd8ec>:53: SettingWithCopyWarning: \n",
      "A value is trying to be set on a copy of a slice from a DataFrame.\n",
      "Try using .loc[row_indexer,col_indexer] = value instead\n",
      "\n",
      "See the caveats in the documentation: https://pandas.pydata.org/pandas-docs/stable/user_guide/indexing.html#returning-a-view-versus-a-copy\n",
      "  temp_multi['number_filter'] = filter_types\n"
     ]
    },
    {
     "name": "stdout",
     "output_type": "stream",
     "text": [
      "i= 0  expand time,0.0 filter time0.0 make_dataframe_time 0.001\n",
      "E07000083\n"
     ]
    },
    {
     "name": "stderr",
     "output_type": "stream",
     "text": [
      "<ipython-input-38-a850dbcbd8ec>:53: SettingWithCopyWarning: \n",
      "A value is trying to be set on a copy of a slice from a DataFrame.\n",
      "Try using .loc[row_indexer,col_indexer] = value instead\n",
      "\n",
      "See the caveats in the documentation: https://pandas.pydata.org/pandas-docs/stable/user_guide/indexing.html#returning-a-view-versus-a-copy\n",
      "  temp_multi['number_filter'] = filter_types\n"
     ]
    },
    {
     "name": "stdout",
     "output_type": "stream",
     "text": [
      "i= 0  expand time,0.0 filter time0.0 make_dataframe_time 0.001\n",
      "E07000227\n"
     ]
    },
    {
     "name": "stderr",
     "output_type": "stream",
     "text": [
      "<ipython-input-38-a850dbcbd8ec>:53: SettingWithCopyWarning: \n",
      "A value is trying to be set on a copy of a slice from a DataFrame.\n",
      "Try using .loc[row_indexer,col_indexer] = value instead\n",
      "\n",
      "See the caveats in the documentation: https://pandas.pydata.org/pandas-docs/stable/user_guide/indexing.html#returning-a-view-versus-a-copy\n",
      "  temp_multi['number_filter'] = filter_types\n"
     ]
    },
    {
     "name": "stdout",
     "output_type": "stream",
     "text": [
      "i= 0  expand time,0.0 filter time0.0 make_dataframe_time 0.001\n",
      "E07000123\n"
     ]
    },
    {
     "name": "stderr",
     "output_type": "stream",
     "text": [
      "<ipython-input-38-a850dbcbd8ec>:53: SettingWithCopyWarning: \n",
      "A value is trying to be set on a copy of a slice from a DataFrame.\n",
      "Try using .loc[row_indexer,col_indexer] = value instead\n",
      "\n",
      "See the caveats in the documentation: https://pandas.pydata.org/pandas-docs/stable/user_guide/indexing.html#returning-a-view-versus-a-copy\n",
      "  temp_multi['number_filter'] = filter_types\n"
     ]
    },
    {
     "name": "stdout",
     "output_type": "stream",
     "text": [
      "i= 0  expand time,0.0 filter time0.0 make_dataframe_time 0.001\n",
      "E07000092\n"
     ]
    },
    {
     "name": "stderr",
     "output_type": "stream",
     "text": [
      "<ipython-input-38-a850dbcbd8ec>:53: SettingWithCopyWarning: \n",
      "A value is trying to be set on a copy of a slice from a DataFrame.\n",
      "Try using .loc[row_indexer,col_indexer] = value instead\n",
      "\n",
      "See the caveats in the documentation: https://pandas.pydata.org/pandas-docs/stable/user_guide/indexing.html#returning-a-view-versus-a-copy\n",
      "  temp_multi['number_filter'] = filter_types\n"
     ]
    },
    {
     "name": "stdout",
     "output_type": "stream",
     "text": [
      "i= 0  expand time,0.0 filter time0.0 make_dataframe_time 0.001\n",
      "E07000127\n"
     ]
    },
    {
     "name": "stderr",
     "output_type": "stream",
     "text": [
      "<ipython-input-38-a850dbcbd8ec>:53: SettingWithCopyWarning: \n",
      "A value is trying to be set on a copy of a slice from a DataFrame.\n",
      "Try using .loc[row_indexer,col_indexer] = value instead\n",
      "\n",
      "See the caveats in the documentation: https://pandas.pydata.org/pandas-docs/stable/user_guide/indexing.html#returning-a-view-versus-a-copy\n",
      "  temp_multi['number_filter'] = filter_types\n"
     ]
    },
    {
     "name": "stdout",
     "output_type": "stream",
     "text": [
      "i= 0  expand time,0.0 filter time0.0 make_dataframe_time 0.001\n",
      "E07000214\n"
     ]
    },
    {
     "name": "stderr",
     "output_type": "stream",
     "text": [
      "<ipython-input-38-a850dbcbd8ec>:53: SettingWithCopyWarning: \n",
      "A value is trying to be set on a copy of a slice from a DataFrame.\n",
      "Try using .loc[row_indexer,col_indexer] = value instead\n",
      "\n",
      "See the caveats in the documentation: https://pandas.pydata.org/pandas-docs/stable/user_guide/indexing.html#returning-a-view-versus-a-copy\n",
      "  temp_multi['number_filter'] = filter_types\n"
     ]
    },
    {
     "name": "stdout",
     "output_type": "stream",
     "text": [
      "i= 0  expand time,0.0 filter time0.0 make_dataframe_time 0.001\n",
      "E07000216\n"
     ]
    },
    {
     "name": "stderr",
     "output_type": "stream",
     "text": [
      "<ipython-input-38-a850dbcbd8ec>:53: SettingWithCopyWarning: \n",
      "A value is trying to be set on a copy of a slice from a DataFrame.\n",
      "Try using .loc[row_indexer,col_indexer] = value instead\n",
      "\n",
      "See the caveats in the documentation: https://pandas.pydata.org/pandas-docs/stable/user_guide/indexing.html#returning-a-view-versus-a-copy\n",
      "  temp_multi['number_filter'] = filter_types\n"
     ]
    },
    {
     "name": "stdout",
     "output_type": "stream",
     "text": [
      "i= 0  expand time,0.0 filter time0.0 make_dataframe_time 0.001\n",
      "E08000011\n"
     ]
    },
    {
     "name": "stderr",
     "output_type": "stream",
     "text": [
      "<ipython-input-38-a850dbcbd8ec>:53: SettingWithCopyWarning: \n",
      "A value is trying to be set on a copy of a slice from a DataFrame.\n",
      "Try using .loc[row_indexer,col_indexer] = value instead\n",
      "\n",
      "See the caveats in the documentation: https://pandas.pydata.org/pandas-docs/stable/user_guide/indexing.html#returning-a-view-versus-a-copy\n",
      "  temp_multi['number_filter'] = filter_types\n"
     ]
    },
    {
     "name": "stdout",
     "output_type": "stream",
     "text": [
      "i= 0  expand time,0.0 filter time0.0 make_dataframe_time 0.001\n",
      "E07000211\n"
     ]
    },
    {
     "name": "stderr",
     "output_type": "stream",
     "text": [
      "<ipython-input-38-a850dbcbd8ec>:53: SettingWithCopyWarning: \n",
      "A value is trying to be set on a copy of a slice from a DataFrame.\n",
      "Try using .loc[row_indexer,col_indexer] = value instead\n",
      "\n",
      "See the caveats in the documentation: https://pandas.pydata.org/pandas-docs/stable/user_guide/indexing.html#returning-a-view-versus-a-copy\n",
      "  temp_multi['number_filter'] = filter_types\n"
     ]
    },
    {
     "name": "stdout",
     "output_type": "stream",
     "text": [
      "i= 0  expand time,0.0 filter time0.0 make_dataframe_time 0.001\n",
      "E07000208\n"
     ]
    },
    {
     "name": "stderr",
     "output_type": "stream",
     "text": [
      "<ipython-input-38-a850dbcbd8ec>:53: SettingWithCopyWarning: \n",
      "A value is trying to be set on a copy of a slice from a DataFrame.\n",
      "Try using .loc[row_indexer,col_indexer] = value instead\n",
      "\n",
      "See the caveats in the documentation: https://pandas.pydata.org/pandas-docs/stable/user_guide/indexing.html#returning-a-view-versus-a-copy\n",
      "  temp_multi['number_filter'] = filter_types\n"
     ]
    },
    {
     "name": "stdout",
     "output_type": "stream",
     "text": [
      "i= 0  expand time,0.0 filter time0.0 make_dataframe_time 0.001\n",
      "W06000022\n"
     ]
    },
    {
     "name": "stderr",
     "output_type": "stream",
     "text": [
      "<ipython-input-38-a850dbcbd8ec>:53: SettingWithCopyWarning: \n",
      "A value is trying to be set on a copy of a slice from a DataFrame.\n",
      "Try using .loc[row_indexer,col_indexer] = value instead\n",
      "\n",
      "See the caveats in the documentation: https://pandas.pydata.org/pandas-docs/stable/user_guide/indexing.html#returning-a-view-versus-a-copy\n",
      "  temp_multi['number_filter'] = filter_types\n"
     ]
    },
    {
     "name": "stdout",
     "output_type": "stream",
     "text": [
      "i= 0  expand time,0.0 filter time0.0 make_dataframe_time 0.001\n",
      "E07000243\n"
     ]
    },
    {
     "name": "stderr",
     "output_type": "stream",
     "text": [
      "<ipython-input-38-a850dbcbd8ec>:53: SettingWithCopyWarning: \n",
      "A value is trying to be set on a copy of a slice from a DataFrame.\n",
      "Try using .loc[row_indexer,col_indexer] = value instead\n",
      "\n",
      "See the caveats in the documentation: https://pandas.pydata.org/pandas-docs/stable/user_guide/indexing.html#returning-a-view-versus-a-copy\n",
      "  temp_multi['number_filter'] = filter_types\n"
     ]
    },
    {
     "name": "stdout",
     "output_type": "stream",
     "text": [
      "i= 0  expand time,0.0 filter time0.0 make_dataframe_time 0.001\n",
      "E06000024\n"
     ]
    },
    {
     "name": "stderr",
     "output_type": "stream",
     "text": [
      "<ipython-input-38-a850dbcbd8ec>:53: SettingWithCopyWarning: \n",
      "A value is trying to be set on a copy of a slice from a DataFrame.\n",
      "Try using .loc[row_indexer,col_indexer] = value instead\n",
      "\n",
      "See the caveats in the documentation: https://pandas.pydata.org/pandas-docs/stable/user_guide/indexing.html#returning-a-view-versus-a-copy\n",
      "  temp_multi['number_filter'] = filter_types\n"
     ]
    },
    {
     "name": "stdout",
     "output_type": "stream",
     "text": [
      "i= 0  expand time,0.0 filter time0.0 make_dataframe_time 0.001\n",
      "E06000034\n"
     ]
    },
    {
     "name": "stderr",
     "output_type": "stream",
     "text": [
      "<ipython-input-38-a850dbcbd8ec>:53: SettingWithCopyWarning: \n",
      "A value is trying to be set on a copy of a slice from a DataFrame.\n",
      "Try using .loc[row_indexer,col_indexer] = value instead\n",
      "\n",
      "See the caveats in the documentation: https://pandas.pydata.org/pandas-docs/stable/user_guide/indexing.html#returning-a-view-versus-a-copy\n",
      "  temp_multi['number_filter'] = filter_types\n"
     ]
    },
    {
     "name": "stdout",
     "output_type": "stream",
     "text": [
      "i= 0  expand time,0.0 filter time0.0 make_dataframe_time 0.001\n",
      "E07000219\n"
     ]
    },
    {
     "name": "stderr",
     "output_type": "stream",
     "text": [
      "<ipython-input-38-a850dbcbd8ec>:53: SettingWithCopyWarning: \n",
      "A value is trying to be set on a copy of a slice from a DataFrame.\n",
      "Try using .loc[row_indexer,col_indexer] = value instead\n",
      "\n",
      "See the caveats in the documentation: https://pandas.pydata.org/pandas-docs/stable/user_guide/indexing.html#returning-a-view-versus-a-copy\n",
      "  temp_multi['number_filter'] = filter_types\n"
     ]
    },
    {
     "name": "stdout",
     "output_type": "stream",
     "text": [
      "i= 0  expand time,0.0 filter time0.0 make_dataframe_time 0.001\n",
      "E07000202\n"
     ]
    },
    {
     "name": "stderr",
     "output_type": "stream",
     "text": [
      "<ipython-input-38-a850dbcbd8ec>:53: SettingWithCopyWarning: \n",
      "A value is trying to be set on a copy of a slice from a DataFrame.\n",
      "Try using .loc[row_indexer,col_indexer] = value instead\n",
      "\n",
      "See the caveats in the documentation: https://pandas.pydata.org/pandas-docs/stable/user_guide/indexing.html#returning-a-view-versus-a-copy\n",
      "  temp_multi['number_filter'] = filter_types\n"
     ]
    },
    {
     "name": "stdout",
     "output_type": "stream",
     "text": [
      "i= 0  expand time,0.0 filter time0.0 make_dataframe_time 0.001\n",
      "E07000077\n"
     ]
    },
    {
     "name": "stderr",
     "output_type": "stream",
     "text": [
      "<ipython-input-38-a850dbcbd8ec>:53: SettingWithCopyWarning: \n",
      "A value is trying to be set on a copy of a slice from a DataFrame.\n",
      "Try using .loc[row_indexer,col_indexer] = value instead\n",
      "\n",
      "See the caveats in the documentation: https://pandas.pydata.org/pandas-docs/stable/user_guide/indexing.html#returning-a-view-versus-a-copy\n",
      "  temp_multi['number_filter'] = filter_types\n"
     ]
    },
    {
     "name": "stdout",
     "output_type": "stream",
     "text": [
      "i= 0  expand time,0.0 filter time0.0 make_dataframe_time 0.001\n",
      "W06000023\n"
     ]
    },
    {
     "name": "stderr",
     "output_type": "stream",
     "text": [
      "<ipython-input-38-a850dbcbd8ec>:53: SettingWithCopyWarning: \n",
      "A value is trying to be set on a copy of a slice from a DataFrame.\n",
      "Try using .loc[row_indexer,col_indexer] = value instead\n",
      "\n",
      "See the caveats in the documentation: https://pandas.pydata.org/pandas-docs/stable/user_guide/indexing.html#returning-a-view-versus-a-copy\n",
      "  temp_multi['number_filter'] = filter_types\n"
     ]
    },
    {
     "name": "stdout",
     "output_type": "stream",
     "text": [
      "i= 0  expand time,0.0 filter time0.0 make_dataframe_time 0.001\n",
      "E07000174\n"
     ]
    },
    {
     "name": "stderr",
     "output_type": "stream",
     "text": [
      "<ipython-input-38-a850dbcbd8ec>:53: SettingWithCopyWarning: \n",
      "A value is trying to be set on a copy of a slice from a DataFrame.\n",
      "Try using .loc[row_indexer,col_indexer] = value instead\n",
      "\n",
      "See the caveats in the documentation: https://pandas.pydata.org/pandas-docs/stable/user_guide/indexing.html#returning-a-view-versus-a-copy\n",
      "  temp_multi['number_filter'] = filter_types\n"
     ]
    },
    {
     "name": "stdout",
     "output_type": "stream",
     "text": [
      "i= 0  expand time,0.0 filter time0.0 make_dataframe_time 0.001\n",
      "E07000218\n"
     ]
    },
    {
     "name": "stderr",
     "output_type": "stream",
     "text": [
      "<ipython-input-38-a850dbcbd8ec>:53: SettingWithCopyWarning: \n",
      "A value is trying to be set on a copy of a slice from a DataFrame.\n",
      "Try using .loc[row_indexer,col_indexer] = value instead\n",
      "\n",
      "See the caveats in the documentation: https://pandas.pydata.org/pandas-docs/stable/user_guide/indexing.html#returning-a-view-versus-a-copy\n",
      "  temp_multi['number_filter'] = filter_types\n"
     ]
    },
    {
     "name": "stdout",
     "output_type": "stream",
     "text": [
      "i= 0  expand time,0.0 filter time0.0 make_dataframe_time 0.001\n",
      "E07000027\n"
     ]
    },
    {
     "name": "stderr",
     "output_type": "stream",
     "text": [
      "<ipython-input-38-a850dbcbd8ec>:53: SettingWithCopyWarning: \n",
      "A value is trying to be set on a copy of a slice from a DataFrame.\n",
      "Try using .loc[row_indexer,col_indexer] = value instead\n",
      "\n",
      "See the caveats in the documentation: https://pandas.pydata.org/pandas-docs/stable/user_guide/indexing.html#returning-a-view-versus-a-copy\n",
      "  temp_multi['number_filter'] = filter_types\n"
     ]
    },
    {
     "name": "stdout",
     "output_type": "stream",
     "text": [
      "i= 0  expand time,0.0 filter time0.0 make_dataframe_time 0.001\n",
      "W06000004\n"
     ]
    },
    {
     "name": "stderr",
     "output_type": "stream",
     "text": [
      "<ipython-input-38-a850dbcbd8ec>:53: SettingWithCopyWarning: \n",
      "A value is trying to be set on a copy of a slice from a DataFrame.\n",
      "Try using .loc[row_indexer,col_indexer] = value instead\n",
      "\n",
      "See the caveats in the documentation: https://pandas.pydata.org/pandas-docs/stable/user_guide/indexing.html#returning-a-view-versus-a-copy\n",
      "  temp_multi['number_filter'] = filter_types\n"
     ]
    },
    {
     "name": "stdout",
     "output_type": "stream",
     "text": [
      "i= 0  expand time,0.0 filter time0.0 make_dataframe_time 0.001\n",
      "E07000042\n"
     ]
    },
    {
     "name": "stderr",
     "output_type": "stream",
     "text": [
      "<ipython-input-38-a850dbcbd8ec>:53: SettingWithCopyWarning: \n",
      "A value is trying to be set on a copy of a slice from a DataFrame.\n",
      "Try using .loc[row_indexer,col_indexer] = value instead\n",
      "\n",
      "See the caveats in the documentation: https://pandas.pydata.org/pandas-docs/stable/user_guide/indexing.html#returning-a-view-versus-a-copy\n",
      "  temp_multi['number_filter'] = filter_types\n"
     ]
    },
    {
     "name": "stdout",
     "output_type": "stream",
     "text": [
      "i= 0  expand time,0.0 filter time0.0 make_dataframe_time 0.001\n",
      "E07000135\n"
     ]
    },
    {
     "name": "stderr",
     "output_type": "stream",
     "text": [
      "<ipython-input-38-a850dbcbd8ec>:53: SettingWithCopyWarning: \n",
      "A value is trying to be set on a copy of a slice from a DataFrame.\n",
      "Try using .loc[row_indexer,col_indexer] = value instead\n",
      "\n",
      "See the caveats in the documentation: https://pandas.pydata.org/pandas-docs/stable/user_guide/indexing.html#returning-a-view-versus-a-copy\n",
      "  temp_multi['number_filter'] = filter_types\n"
     ]
    },
    {
     "name": "stdout",
     "output_type": "stream",
     "text": [
      "i= 0  expand time,0.0 filter time0.0 make_dataframe_time 0.001\n",
      "E07000046\n"
     ]
    },
    {
     "name": "stderr",
     "output_type": "stream",
     "text": [
      "<ipython-input-38-a850dbcbd8ec>:53: SettingWithCopyWarning: \n",
      "A value is trying to be set on a copy of a slice from a DataFrame.\n",
      "Try using .loc[row_indexer,col_indexer] = value instead\n",
      "\n",
      "See the caveats in the documentation: https://pandas.pydata.org/pandas-docs/stable/user_guide/indexing.html#returning-a-view-versus-a-copy\n",
      "  temp_multi['number_filter'] = filter_types\n"
     ]
    },
    {
     "name": "stdout",
     "output_type": "stream",
     "text": [
      "i= 0  expand time,0.0 filter time0.0 make_dataframe_time 0.001\n",
      "E06000046\n"
     ]
    },
    {
     "name": "stderr",
     "output_type": "stream",
     "text": [
      "<ipython-input-38-a850dbcbd8ec>:53: SettingWithCopyWarning: \n",
      "A value is trying to be set on a copy of a slice from a DataFrame.\n",
      "Try using .loc[row_indexer,col_indexer] = value instead\n",
      "\n",
      "See the caveats in the documentation: https://pandas.pydata.org/pandas-docs/stable/user_guide/indexing.html#returning-a-view-versus-a-copy\n",
      "  temp_multi['number_filter'] = filter_types\n"
     ]
    },
    {
     "name": "stdout",
     "output_type": "stream",
     "text": [
      "i= 0  expand time,0.0 filter time0.0 make_dataframe_time 0.001\n",
      "E07000112\n"
     ]
    },
    {
     "name": "stderr",
     "output_type": "stream",
     "text": [
      "<ipython-input-38-a850dbcbd8ec>:53: SettingWithCopyWarning: \n",
      "A value is trying to be set on a copy of a slice from a DataFrame.\n",
      "Try using .loc[row_indexer,col_indexer] = value instead\n",
      "\n",
      "See the caveats in the documentation: https://pandas.pydata.org/pandas-docs/stable/user_guide/indexing.html#returning-a-view-versus-a-copy\n",
      "  temp_multi['number_filter'] = filter_types\n"
     ]
    },
    {
     "name": "stdout",
     "output_type": "stream",
     "text": [
      "i= 0  expand time,0.0 filter time0.0 make_dataframe_time 0.001\n",
      "E07000108\n"
     ]
    },
    {
     "name": "stderr",
     "output_type": "stream",
     "text": [
      "<ipython-input-38-a850dbcbd8ec>:53: SettingWithCopyWarning: \n",
      "A value is trying to be set on a copy of a slice from a DataFrame.\n",
      "Try using .loc[row_indexer,col_indexer] = value instead\n",
      "\n",
      "See the caveats in the documentation: https://pandas.pydata.org/pandas-docs/stable/user_guide/indexing.html#returning-a-view-versus-a-copy\n",
      "  temp_multi['number_filter'] = filter_types\n"
     ]
    },
    {
     "name": "stdout",
     "output_type": "stream",
     "text": [
      "i= 0  expand time,0.0 filter time0.0 make_dataframe_time 0.001\n",
      "E07000114\n"
     ]
    },
    {
     "name": "stderr",
     "output_type": "stream",
     "text": [
      "<ipython-input-38-a850dbcbd8ec>:53: SettingWithCopyWarning: \n",
      "A value is trying to be set on a copy of a slice from a DataFrame.\n",
      "Try using .loc[row_indexer,col_indexer] = value instead\n",
      "\n",
      "See the caveats in the documentation: https://pandas.pydata.org/pandas-docs/stable/user_guide/indexing.html#returning-a-view-versus-a-copy\n",
      "  temp_multi['number_filter'] = filter_types\n"
     ]
    },
    {
     "name": "stdout",
     "output_type": "stream",
     "text": [
      "i= 0  expand time,0.0 filter time0.0 make_dataframe_time 0.001\n",
      "E07000192\n"
     ]
    },
    {
     "name": "stderr",
     "output_type": "stream",
     "text": [
      "<ipython-input-38-a850dbcbd8ec>:53: SettingWithCopyWarning: \n",
      "A value is trying to be set on a copy of a slice from a DataFrame.\n",
      "Try using .loc[row_indexer,col_indexer] = value instead\n",
      "\n",
      "See the caveats in the documentation: https://pandas.pydata.org/pandas-docs/stable/user_guide/indexing.html#returning-a-view-versus-a-copy\n",
      "  temp_multi['number_filter'] = filter_types\n"
     ]
    },
    {
     "name": "stdout",
     "output_type": "stream",
     "text": [
      "i= 0  expand time,0.0 filter time0.0 make_dataframe_time 0.001\n",
      "E07000194\n"
     ]
    },
    {
     "name": "stderr",
     "output_type": "stream",
     "text": [
      "<ipython-input-38-a850dbcbd8ec>:53: SettingWithCopyWarning: \n",
      "A value is trying to be set on a copy of a slice from a DataFrame.\n",
      "Try using .loc[row_indexer,col_indexer] = value instead\n",
      "\n",
      "See the caveats in the documentation: https://pandas.pydata.org/pandas-docs/stable/user_guide/indexing.html#returning-a-view-versus-a-copy\n",
      "  temp_multi['number_filter'] = filter_types\n"
     ]
    },
    {
     "name": "stdout",
     "output_type": "stream",
     "text": [
      "i= 0  expand time,0.0 filter time0.0 make_dataframe_time 0.001\n",
      "E08000013\n"
     ]
    },
    {
     "name": "stderr",
     "output_type": "stream",
     "text": [
      "<ipython-input-38-a850dbcbd8ec>:53: SettingWithCopyWarning: \n",
      "A value is trying to be set on a copy of a slice from a DataFrame.\n",
      "Try using .loc[row_indexer,col_indexer] = value instead\n",
      "\n",
      "See the caveats in the documentation: https://pandas.pydata.org/pandas-docs/stable/user_guide/indexing.html#returning-a-view-versus-a-copy\n",
      "  temp_multi['number_filter'] = filter_types\n"
     ]
    },
    {
     "name": "stdout",
     "output_type": "stream",
     "text": [
      "i= 0  expand time,0.0 filter time0.0 make_dataframe_time 0.001\n",
      "E06000003\n"
     ]
    },
    {
     "name": "stderr",
     "output_type": "stream",
     "text": [
      "<ipython-input-38-a850dbcbd8ec>:53: SettingWithCopyWarning: \n",
      "A value is trying to be set on a copy of a slice from a DataFrame.\n",
      "Try using .loc[row_indexer,col_indexer] = value instead\n",
      "\n",
      "See the caveats in the documentation: https://pandas.pydata.org/pandas-docs/stable/user_guide/indexing.html#returning-a-view-versus-a-copy\n",
      "  temp_multi['number_filter'] = filter_types\n"
     ]
    },
    {
     "name": "stdout",
     "output_type": "stream",
     "text": [
      "i= 0  expand time,0.0 filter time0.0 make_dataframe_time 0.001\n",
      "E07000178\n"
     ]
    },
    {
     "name": "stderr",
     "output_type": "stream",
     "text": [
      "<ipython-input-38-a850dbcbd8ec>:53: SettingWithCopyWarning: \n",
      "A value is trying to be set on a copy of a slice from a DataFrame.\n",
      "Try using .loc[row_indexer,col_indexer] = value instead\n",
      "\n",
      "See the caveats in the documentation: https://pandas.pydata.org/pandas-docs/stable/user_guide/indexing.html#returning-a-view-versus-a-copy\n",
      "  temp_multi['number_filter'] = filter_types\n"
     ]
    },
    {
     "name": "stdout",
     "output_type": "stream",
     "text": [
      "i= 0  expand time,0.0 filter time0.0 make_dataframe_time 0.001\n",
      "E07000234\n"
     ]
    },
    {
     "name": "stderr",
     "output_type": "stream",
     "text": [
      "<ipython-input-38-a850dbcbd8ec>:53: SettingWithCopyWarning: \n",
      "A value is trying to be set on a copy of a slice from a DataFrame.\n",
      "Try using .loc[row_indexer,col_indexer] = value instead\n",
      "\n",
      "See the caveats in the documentation: https://pandas.pydata.org/pandas-docs/stable/user_guide/indexing.html#returning-a-view-versus-a-copy\n",
      "  temp_multi['number_filter'] = filter_types\n"
     ]
    },
    {
     "name": "stdout",
     "output_type": "stream",
     "text": [
      "i= 0  expand time,0.0 filter time0.0 make_dataframe_time 0.001\n",
      "W06000016\n"
     ]
    },
    {
     "name": "stderr",
     "output_type": "stream",
     "text": [
      "<ipython-input-38-a850dbcbd8ec>:53: SettingWithCopyWarning: \n",
      "A value is trying to be set on a copy of a slice from a DataFrame.\n",
      "Try using .loc[row_indexer,col_indexer] = value instead\n",
      "\n",
      "See the caveats in the documentation: https://pandas.pydata.org/pandas-docs/stable/user_guide/indexing.html#returning-a-view-versus-a-copy\n",
      "  temp_multi['number_filter'] = filter_types\n"
     ]
    },
    {
     "name": "stdout",
     "output_type": "stream",
     "text": [
      "i= 0  expand time,0.0 filter time0.0 make_dataframe_time 0.001\n",
      "E07000180\n"
     ]
    },
    {
     "name": "stderr",
     "output_type": "stream",
     "text": [
      "<ipython-input-38-a850dbcbd8ec>:53: SettingWithCopyWarning: \n",
      "A value is trying to be set on a copy of a slice from a DataFrame.\n",
      "Try using .loc[row_indexer,col_indexer] = value instead\n",
      "\n",
      "See the caveats in the documentation: https://pandas.pydata.org/pandas-docs/stable/user_guide/indexing.html#returning-a-view-versus-a-copy\n",
      "  temp_multi['number_filter'] = filter_types\n"
     ]
    },
    {
     "name": "stdout",
     "output_type": "stream",
     "text": [
      "i= 0  expand time,0.0 filter time0.0 make_dataframe_time 0.001\n",
      "E07000220\n"
     ]
    },
    {
     "name": "stderr",
     "output_type": "stream",
     "text": [
      "<ipython-input-38-a850dbcbd8ec>:53: SettingWithCopyWarning: \n",
      "A value is trying to be set on a copy of a slice from a DataFrame.\n",
      "Try using .loc[row_indexer,col_indexer] = value instead\n",
      "\n",
      "See the caveats in the documentation: https://pandas.pydata.org/pandas-docs/stable/user_guide/indexing.html#returning-a-view-versus-a-copy\n",
      "  temp_multi['number_filter'] = filter_types\n"
     ]
    },
    {
     "name": "stdout",
     "output_type": "stream",
     "text": [
      "i= 0  expand time,0.0 filter time0.0 make_dataframe_time 0.001\n",
      "E08000024\n"
     ]
    },
    {
     "name": "stderr",
     "output_type": "stream",
     "text": [
      "<ipython-input-38-a850dbcbd8ec>:53: SettingWithCopyWarning: \n",
      "A value is trying to be set on a copy of a slice from a DataFrame.\n",
      "Try using .loc[row_indexer,col_indexer] = value instead\n",
      "\n",
      "See the caveats in the documentation: https://pandas.pydata.org/pandas-docs/stable/user_guide/indexing.html#returning-a-view-versus-a-copy\n",
      "  temp_multi['number_filter'] = filter_types\n"
     ]
    },
    {
     "name": "stdout",
     "output_type": "stream",
     "text": [
      "i= 0  expand time,0.0 filter time0.0 make_dataframe_time 0.001\n",
      "E06000004\n"
     ]
    },
    {
     "name": "stderr",
     "output_type": "stream",
     "text": [
      "<ipython-input-38-a850dbcbd8ec>:53: SettingWithCopyWarning: \n",
      "A value is trying to be set on a copy of a slice from a DataFrame.\n",
      "Try using .loc[row_indexer,col_indexer] = value instead\n",
      "\n",
      "See the caveats in the documentation: https://pandas.pydata.org/pandas-docs/stable/user_guide/indexing.html#returning-a-view-versus-a-copy\n",
      "  temp_multi['number_filter'] = filter_types\n"
     ]
    },
    {
     "name": "stdout",
     "output_type": "stream",
     "text": [
      "i= 0  expand time,0.0 filter time0.0 make_dataframe_time 0.001\n",
      "E07000203\n"
     ]
    },
    {
     "name": "stderr",
     "output_type": "stream",
     "text": [
      "<ipython-input-38-a850dbcbd8ec>:53: SettingWithCopyWarning: \n",
      "A value is trying to be set on a copy of a slice from a DataFrame.\n",
      "Try using .loc[row_indexer,col_indexer] = value instead\n",
      "\n",
      "See the caveats in the documentation: https://pandas.pydata.org/pandas-docs/stable/user_guide/indexing.html#returning-a-view-versus-a-copy\n",
      "  temp_multi['number_filter'] = filter_types\n"
     ]
    },
    {
     "name": "stdout",
     "output_type": "stream",
     "text": [
      "i= 0  expand time,0.0 filter time0.0 make_dataframe_time 0.001\n",
      "E07000010\n"
     ]
    },
    {
     "name": "stderr",
     "output_type": "stream",
     "text": [
      "<ipython-input-38-a850dbcbd8ec>:53: SettingWithCopyWarning: \n",
      "A value is trying to be set on a copy of a slice from a DataFrame.\n",
      "Try using .loc[row_indexer,col_indexer] = value instead\n",
      "\n",
      "See the caveats in the documentation: https://pandas.pydata.org/pandas-docs/stable/user_guide/indexing.html#returning-a-view-versus-a-copy\n",
      "  temp_multi['number_filter'] = filter_types\n"
     ]
    },
    {
     "name": "stdout",
     "output_type": "stream",
     "text": [
      "i= 0  expand time,0.0 filter time0.0 make_dataframe_time 0.001\n",
      "E07000070\n"
     ]
    },
    {
     "name": "stderr",
     "output_type": "stream",
     "text": [
      "<ipython-input-38-a850dbcbd8ec>:53: SettingWithCopyWarning: \n",
      "A value is trying to be set on a copy of a slice from a DataFrame.\n",
      "Try using .loc[row_indexer,col_indexer] = value instead\n",
      "\n",
      "See the caveats in the documentation: https://pandas.pydata.org/pandas-docs/stable/user_guide/indexing.html#returning-a-view-versus-a-copy\n",
      "  temp_multi['number_filter'] = filter_types\n"
     ]
    },
    {
     "name": "stdout",
     "output_type": "stream",
     "text": [
      "i= 0  expand time,0.0 filter time0.0 make_dataframe_time 0.001\n",
      "E07000102\n"
     ]
    },
    {
     "name": "stderr",
     "output_type": "stream",
     "text": [
      "<ipython-input-38-a850dbcbd8ec>:53: SettingWithCopyWarning: \n",
      "A value is trying to be set on a copy of a slice from a DataFrame.\n",
      "Try using .loc[row_indexer,col_indexer] = value instead\n",
      "\n",
      "See the caveats in the documentation: https://pandas.pydata.org/pandas-docs/stable/user_guide/indexing.html#returning-a-view-versus-a-copy\n",
      "  temp_multi['number_filter'] = filter_types\n"
     ]
    },
    {
     "name": "stdout",
     "output_type": "stream",
     "text": [
      "i= 0  expand time,0.0 filter time0.0 make_dataframe_time 0.001\n",
      "E07000090\n"
     ]
    },
    {
     "name": "stderr",
     "output_type": "stream",
     "text": [
      "<ipython-input-38-a850dbcbd8ec>:53: SettingWithCopyWarning: \n",
      "A value is trying to be set on a copy of a slice from a DataFrame.\n",
      "Try using .loc[row_indexer,col_indexer] = value instead\n",
      "\n",
      "See the caveats in the documentation: https://pandas.pydata.org/pandas-docs/stable/user_guide/indexing.html#returning-a-view-versus-a-copy\n",
      "  temp_multi['number_filter'] = filter_types\n"
     ]
    },
    {
     "name": "stdout",
     "output_type": "stream",
     "text": [
      "i= 0  expand time,0.0 filter time0.0 make_dataframe_time 0.001\n",
      "E07000091\n"
     ]
    },
    {
     "name": "stderr",
     "output_type": "stream",
     "text": [
      "<ipython-input-38-a850dbcbd8ec>:53: SettingWithCopyWarning: \n",
      "A value is trying to be set on a copy of a slice from a DataFrame.\n",
      "Try using .loc[row_indexer,col_indexer] = value instead\n",
      "\n",
      "See the caveats in the documentation: https://pandas.pydata.org/pandas-docs/stable/user_guide/indexing.html#returning-a-view-versus-a-copy\n",
      "  temp_multi['number_filter'] = filter_types\n"
     ]
    },
    {
     "name": "stdout",
     "output_type": "stream",
     "text": [
      "i= 0  expand time,0.0 filter time0.0 make_dataframe_time 0.001\n",
      "E07000076\n"
     ]
    },
    {
     "name": "stderr",
     "output_type": "stream",
     "text": [
      "<ipython-input-38-a850dbcbd8ec>:53: SettingWithCopyWarning: \n",
      "A value is trying to be set on a copy of a slice from a DataFrame.\n",
      "Try using .loc[row_indexer,col_indexer] = value instead\n",
      "\n",
      "See the caveats in the documentation: https://pandas.pydata.org/pandas-docs/stable/user_guide/indexing.html#returning-a-view-versus-a-copy\n",
      "  temp_multi['number_filter'] = filter_types\n"
     ]
    },
    {
     "name": "stdout",
     "output_type": "stream",
     "text": [
      "i= 0  expand time,0.0 filter time0.0 make_dataframe_time 0.001\n",
      "E07000133\n"
     ]
    },
    {
     "name": "stderr",
     "output_type": "stream",
     "text": [
      "<ipython-input-38-a850dbcbd8ec>:53: SettingWithCopyWarning: \n",
      "A value is trying to be set on a copy of a slice from a DataFrame.\n",
      "Try using .loc[row_indexer,col_indexer] = value instead\n",
      "\n",
      "See the caveats in the documentation: https://pandas.pydata.org/pandas-docs/stable/user_guide/indexing.html#returning-a-view-versus-a-copy\n",
      "  temp_multi['number_filter'] = filter_types\n"
     ]
    },
    {
     "name": "stdout",
     "output_type": "stream",
     "text": [
      "i= 0  expand time,0.0 filter time0.0 make_dataframe_time 0.001\n",
      "E07000043\n"
     ]
    },
    {
     "name": "stderr",
     "output_type": "stream",
     "text": [
      "<ipython-input-38-a850dbcbd8ec>:53: SettingWithCopyWarning: \n",
      "A value is trying to be set on a copy of a slice from a DataFrame.\n",
      "Try using .loc[row_indexer,col_indexer] = value instead\n",
      "\n",
      "See the caveats in the documentation: https://pandas.pydata.org/pandas-docs/stable/user_guide/indexing.html#returning-a-view-versus-a-copy\n",
      "  temp_multi['number_filter'] = filter_types\n"
     ]
    },
    {
     "name": "stdout",
     "output_type": "stream",
     "text": [
      "i= 0  expand time,0.0 filter time0.0 make_dataframe_time 0.001\n",
      "E07000038\n"
     ]
    },
    {
     "name": "stderr",
     "output_type": "stream",
     "text": [
      "<ipython-input-38-a850dbcbd8ec>:53: SettingWithCopyWarning: \n",
      "A value is trying to be set on a copy of a slice from a DataFrame.\n",
      "Try using .loc[row_indexer,col_indexer] = value instead\n",
      "\n",
      "See the caveats in the documentation: https://pandas.pydata.org/pandas-docs/stable/user_guide/indexing.html#returning-a-view-versus-a-copy\n",
      "  temp_multi['number_filter'] = filter_types\n"
     ]
    },
    {
     "name": "stdout",
     "output_type": "stream",
     "text": [
      "i= 0  expand time,0.0 filter time0.0 make_dataframe_time 0.001\n",
      "E07000040\n"
     ]
    },
    {
     "name": "stderr",
     "output_type": "stream",
     "text": [
      "<ipython-input-38-a850dbcbd8ec>:53: SettingWithCopyWarning: \n",
      "A value is trying to be set on a copy of a slice from a DataFrame.\n",
      "Try using .loc[row_indexer,col_indexer] = value instead\n",
      "\n",
      "See the caveats in the documentation: https://pandas.pydata.org/pandas-docs/stable/user_guide/indexing.html#returning-a-view-versus-a-copy\n",
      "  temp_multi['number_filter'] = filter_types\n"
     ]
    },
    {
     "name": "stdout",
     "output_type": "stream",
     "text": [
      "i= 0  expand time,0.0 filter time0.0 make_dataframe_time 0.001\n",
      "E07000095\n"
     ]
    },
    {
     "name": "stderr",
     "output_type": "stream",
     "text": [
      "<ipython-input-38-a850dbcbd8ec>:53: SettingWithCopyWarning: \n",
      "A value is trying to be set on a copy of a slice from a DataFrame.\n",
      "Try using .loc[row_indexer,col_indexer] = value instead\n",
      "\n",
      "See the caveats in the documentation: https://pandas.pydata.org/pandas-docs/stable/user_guide/indexing.html#returning-a-view-versus-a-copy\n",
      "  temp_multi['number_filter'] = filter_types\n"
     ]
    },
    {
     "name": "stdout",
     "output_type": "stream",
     "text": [
      "i= 0  expand time,0.0 filter time0.0 make_dataframe_time 0.001\n",
      "E06000013\n"
     ]
    },
    {
     "name": "stderr",
     "output_type": "stream",
     "text": [
      "<ipython-input-38-a850dbcbd8ec>:53: SettingWithCopyWarning: \n",
      "A value is trying to be set on a copy of a slice from a DataFrame.\n",
      "Try using .loc[row_indexer,col_indexer] = value instead\n",
      "\n",
      "See the caveats in the documentation: https://pandas.pydata.org/pandas-docs/stable/user_guide/indexing.html#returning-a-view-versus-a-copy\n",
      "  temp_multi['number_filter'] = filter_types\n"
     ]
    },
    {
     "name": "stdout",
     "output_type": "stream",
     "text": [
      "i= 0  expand time,0.0 filter time0.0 make_dataframe_time 0.001\n",
      "E07000213\n"
     ]
    },
    {
     "name": "stderr",
     "output_type": "stream",
     "text": [
      "<ipython-input-38-a850dbcbd8ec>:53: SettingWithCopyWarning: \n",
      "A value is trying to be set on a copy of a slice from a DataFrame.\n",
      "Try using .loc[row_indexer,col_indexer] = value instead\n",
      "\n",
      "See the caveats in the documentation: https://pandas.pydata.org/pandas-docs/stable/user_guide/indexing.html#returning-a-view-versus-a-copy\n",
      "  temp_multi['number_filter'] = filter_types\n"
     ]
    },
    {
     "name": "stdout",
     "output_type": "stream",
     "text": [
      "i= 0  expand time,0.0 filter time0.0 make_dataframe_time 0.001\n",
      "E07000198\n"
     ]
    },
    {
     "name": "stderr",
     "output_type": "stream",
     "text": [
      "<ipython-input-38-a850dbcbd8ec>:53: SettingWithCopyWarning: \n",
      "A value is trying to be set on a copy of a slice from a DataFrame.\n",
      "Try using .loc[row_indexer,col_indexer] = value instead\n",
      "\n",
      "See the caveats in the documentation: https://pandas.pydata.org/pandas-docs/stable/user_guide/indexing.html#returning-a-view-versus-a-copy\n",
      "  temp_multi['number_filter'] = filter_types\n"
     ]
    },
    {
     "name": "stdout",
     "output_type": "stream",
     "text": [
      "i= 0  expand time,0.0 filter time0.0 make_dataframe_time 0.001\n",
      "E07000147\n"
     ]
    },
    {
     "name": "stderr",
     "output_type": "stream",
     "text": [
      "<ipython-input-38-a850dbcbd8ec>:53: SettingWithCopyWarning: \n",
      "A value is trying to be set on a copy of a slice from a DataFrame.\n",
      "Try using .loc[row_indexer,col_indexer] = value instead\n",
      "\n",
      "See the caveats in the documentation: https://pandas.pydata.org/pandas-docs/stable/user_guide/indexing.html#returning-a-view-versus-a-copy\n",
      "  temp_multi['number_filter'] = filter_types\n"
     ]
    },
    {
     "name": "stdout",
     "output_type": "stream",
     "text": [
      "i= 0  expand time,0.0 filter time0.0 make_dataframe_time 0.001\n",
      "E07000144\n"
     ]
    },
    {
     "name": "stderr",
     "output_type": "stream",
     "text": [
      "<ipython-input-38-a850dbcbd8ec>:53: SettingWithCopyWarning: \n",
      "A value is trying to be set on a copy of a slice from a DataFrame.\n",
      "Try using .loc[row_indexer,col_indexer] = value instead\n",
      "\n",
      "See the caveats in the documentation: https://pandas.pydata.org/pandas-docs/stable/user_guide/indexing.html#returning-a-view-versus-a-copy\n",
      "  temp_multi['number_filter'] = filter_types\n"
     ]
    },
    {
     "name": "stdout",
     "output_type": "stream",
     "text": [
      "i= 0  expand time,0.0 filter time0.0 make_dataframe_time 0.001\n",
      "E07000172\n"
     ]
    },
    {
     "name": "stderr",
     "output_type": "stream",
     "text": [
      "<ipython-input-38-a850dbcbd8ec>:53: SettingWithCopyWarning: \n",
      "A value is trying to be set on a copy of a slice from a DataFrame.\n",
      "Try using .loc[row_indexer,col_indexer] = value instead\n",
      "\n",
      "See the caveats in the documentation: https://pandas.pydata.org/pandas-docs/stable/user_guide/indexing.html#returning-a-view-versus-a-copy\n",
      "  temp_multi['number_filter'] = filter_types\n"
     ]
    },
    {
     "name": "stdout",
     "output_type": "stream",
     "text": [
      "i= 0  expand time,0.0 filter time0.0 make_dataframe_time 0.001\n",
      "E07000175\n"
     ]
    },
    {
     "name": "stderr",
     "output_type": "stream",
     "text": [
      "<ipython-input-38-a850dbcbd8ec>:53: SettingWithCopyWarning: \n",
      "A value is trying to be set on a copy of a slice from a DataFrame.\n",
      "Try using .loc[row_indexer,col_indexer] = value instead\n",
      "\n",
      "See the caveats in the documentation: https://pandas.pydata.org/pandas-docs/stable/user_guide/indexing.html#returning-a-view-versus-a-copy\n",
      "  temp_multi['number_filter'] = filter_types\n"
     ]
    },
    {
     "name": "stdout",
     "output_type": "stream",
     "text": [
      "i= 0  expand time,0.0 filter time0.0 make_dataframe_time 0.001\n",
      "W06000024\n"
     ]
    },
    {
     "name": "stderr",
     "output_type": "stream",
     "text": [
      "<ipython-input-38-a850dbcbd8ec>:53: SettingWithCopyWarning: \n",
      "A value is trying to be set on a copy of a slice from a DataFrame.\n",
      "Try using .loc[row_indexer,col_indexer] = value instead\n",
      "\n",
      "See the caveats in the documentation: https://pandas.pydata.org/pandas-docs/stable/user_guide/indexing.html#returning-a-view-versus-a-copy\n",
      "  temp_multi['number_filter'] = filter_types\n"
     ]
    },
    {
     "name": "stdout",
     "output_type": "stream",
     "text": [
      "i= 0  expand time,0.0 filter time0.0 make_dataframe_time 0.001\n",
      "E07000244\n"
     ]
    },
    {
     "name": "stderr",
     "output_type": "stream",
     "text": [
      "<ipython-input-38-a850dbcbd8ec>:53: SettingWithCopyWarning: \n",
      "A value is trying to be set on a copy of a slice from a DataFrame.\n",
      "Try using .loc[row_indexer,col_indexer] = value instead\n",
      "\n",
      "See the caveats in the documentation: https://pandas.pydata.org/pandas-docs/stable/user_guide/indexing.html#returning-a-view-versus-a-copy\n",
      "  temp_multi['number_filter'] = filter_types\n"
     ]
    },
    {
     "name": "stdout",
     "output_type": "stream",
     "text": [
      "i= 0  expand time,0.0 filter time0.0 make_dataframe_time 0.001\n",
      "E07000089\n"
     ]
    },
    {
     "name": "stderr",
     "output_type": "stream",
     "text": [
      "<ipython-input-38-a850dbcbd8ec>:53: SettingWithCopyWarning: \n",
      "A value is trying to be set on a copy of a slice from a DataFrame.\n",
      "Try using .loc[row_indexer,col_indexer] = value instead\n",
      "\n",
      "See the caveats in the documentation: https://pandas.pydata.org/pandas-docs/stable/user_guide/indexing.html#returning-a-view-versus-a-copy\n",
      "  temp_multi['number_filter'] = filter_types\n"
     ]
    },
    {
     "name": "stdout",
     "output_type": "stream",
     "text": [
      "i= 0  expand time,0.0 filter time0.0 make_dataframe_time 0.001\n",
      "E07000035\n"
     ]
    },
    {
     "name": "stderr",
     "output_type": "stream",
     "text": [
      "<ipython-input-38-a850dbcbd8ec>:53: SettingWithCopyWarning: \n",
      "A value is trying to be set on a copy of a slice from a DataFrame.\n",
      "Try using .loc[row_indexer,col_indexer] = value instead\n",
      "\n",
      "See the caveats in the documentation: https://pandas.pydata.org/pandas-docs/stable/user_guide/indexing.html#returning-a-view-versus-a-copy\n",
      "  temp_multi['number_filter'] = filter_types\n"
     ]
    },
    {
     "name": "stdout",
     "output_type": "stream",
     "text": [
      "i= 0  expand time,0.0 filter time0.0 make_dataframe_time 0.001\n",
      "E07000122\n"
     ]
    },
    {
     "name": "stderr",
     "output_type": "stream",
     "text": [
      "<ipython-input-38-a850dbcbd8ec>:53: SettingWithCopyWarning: \n",
      "A value is trying to be set on a copy of a slice from a DataFrame.\n",
      "Try using .loc[row_indexer,col_indexer] = value instead\n",
      "\n",
      "See the caveats in the documentation: https://pandas.pydata.org/pandas-docs/stable/user_guide/indexing.html#returning-a-view-versus-a-copy\n",
      "  temp_multi['number_filter'] = filter_types\n"
     ]
    },
    {
     "name": "stdout",
     "output_type": "stream",
     "text": [
      "i= 0  expand time,0.0 filter time0.0 make_dataframe_time 0.001\n",
      "E07000138\n"
     ]
    },
    {
     "name": "stderr",
     "output_type": "stream",
     "text": [
      "<ipython-input-38-a850dbcbd8ec>:53: SettingWithCopyWarning: \n",
      "A value is trying to be set on a copy of a slice from a DataFrame.\n",
      "Try using .loc[row_indexer,col_indexer] = value instead\n",
      "\n",
      "See the caveats in the documentation: https://pandas.pydata.org/pandas-docs/stable/user_guide/indexing.html#returning-a-view-versus-a-copy\n",
      "  temp_multi['number_filter'] = filter_types\n"
     ]
    },
    {
     "name": "stdout",
     "output_type": "stream",
     "text": [
      "i= 0  expand time,0.0 filter time0.0 make_dataframe_time 0.001\n",
      "E07000164\n"
     ]
    },
    {
     "name": "stderr",
     "output_type": "stream",
     "text": [
      "<ipython-input-38-a850dbcbd8ec>:53: SettingWithCopyWarning: \n",
      "A value is trying to be set on a copy of a slice from a DataFrame.\n",
      "Try using .loc[row_indexer,col_indexer] = value instead\n",
      "\n",
      "See the caveats in the documentation: https://pandas.pydata.org/pandas-docs/stable/user_guide/indexing.html#returning-a-view-versus-a-copy\n",
      "  temp_multi['number_filter'] = filter_types\n"
     ]
    },
    {
     "name": "stdout",
     "output_type": "stream",
     "text": [
      "i= 0  expand time,0.0 filter time0.0 make_dataframe_time 0.001\n",
      "W06000012\n"
     ]
    },
    {
     "name": "stderr",
     "output_type": "stream",
     "text": [
      "<ipython-input-38-a850dbcbd8ec>:53: SettingWithCopyWarning: \n",
      "A value is trying to be set on a copy of a slice from a DataFrame.\n",
      "Try using .loc[row_indexer,col_indexer] = value instead\n",
      "\n",
      "See the caveats in the documentation: https://pandas.pydata.org/pandas-docs/stable/user_guide/indexing.html#returning-a-view-versus-a-copy\n",
      "  temp_multi['number_filter'] = filter_types\n"
     ]
    },
    {
     "name": "stdout",
     "output_type": "stream",
     "text": [
      "i= 0  expand time,0.0 filter time0.0 make_dataframe_time 0.001\n",
      "E07000032\n"
     ]
    },
    {
     "name": "stderr",
     "output_type": "stream",
     "text": [
      "<ipython-input-38-a850dbcbd8ec>:53: SettingWithCopyWarning: \n",
      "A value is trying to be set on a copy of a slice from a DataFrame.\n",
      "Try using .loc[row_indexer,col_indexer] = value instead\n",
      "\n",
      "See the caveats in the documentation: https://pandas.pydata.org/pandas-docs/stable/user_guide/indexing.html#returning-a-view-versus-a-copy\n",
      "  temp_multi['number_filter'] = filter_types\n"
     ]
    },
    {
     "name": "stdout",
     "output_type": "stream",
     "text": [
      "i= 0  expand time,0.0 filter time0.0 make_dataframe_time 0.001\n",
      "W06000008\n"
     ]
    },
    {
     "name": "stderr",
     "output_type": "stream",
     "text": [
      "<ipython-input-38-a850dbcbd8ec>:53: SettingWithCopyWarning: \n",
      "A value is trying to be set on a copy of a slice from a DataFrame.\n",
      "Try using .loc[row_indexer,col_indexer] = value instead\n",
      "\n",
      "See the caveats in the documentation: https://pandas.pydata.org/pandas-docs/stable/user_guide/indexing.html#returning-a-view-versus-a-copy\n",
      "  temp_multi['number_filter'] = filter_types\n"
     ]
    },
    {
     "name": "stdout",
     "output_type": "stream",
     "text": [
      "i= 0  expand time,0.0 filter time0.0 make_dataframe_time 0.001\n",
      "E06000012\n"
     ]
    },
    {
     "name": "stderr",
     "output_type": "stream",
     "text": [
      "<ipython-input-38-a850dbcbd8ec>:53: SettingWithCopyWarning: \n",
      "A value is trying to be set on a copy of a slice from a DataFrame.\n",
      "Try using .loc[row_indexer,col_indexer] = value instead\n",
      "\n",
      "See the caveats in the documentation: https://pandas.pydata.org/pandas-docs/stable/user_guide/indexing.html#returning-a-view-versus-a-copy\n",
      "  temp_multi['number_filter'] = filter_types\n"
     ]
    },
    {
     "name": "stdout",
     "output_type": "stream",
     "text": [
      "i= 0  expand time,0.0 filter time0.0 make_dataframe_time 0.001\n",
      "W06000020\n",
      "E07000140\n"
     ]
    },
    {
     "name": "stderr",
     "output_type": "stream",
     "text": [
      "<ipython-input-38-a850dbcbd8ec>:53: SettingWithCopyWarning: \n",
      "A value is trying to be set on a copy of a slice from a DataFrame.\n",
      "Try using .loc[row_indexer,col_indexer] = value instead\n",
      "\n",
      "See the caveats in the documentation: https://pandas.pydata.org/pandas-docs/stable/user_guide/indexing.html#returning-a-view-versus-a-copy\n",
      "  temp_multi['number_filter'] = filter_types\n"
     ]
    },
    {
     "name": "stdout",
     "output_type": "stream",
     "text": [
      "i= 0  expand time,0.0 filter time0.0 make_dataframe_time 0.001\n",
      "E07000136\n"
     ]
    },
    {
     "name": "stderr",
     "output_type": "stream",
     "text": [
      "<ipython-input-38-a850dbcbd8ec>:53: SettingWithCopyWarning: \n",
      "A value is trying to be set on a copy of a slice from a DataFrame.\n",
      "Try using .loc[row_indexer,col_indexer] = value instead\n",
      "\n",
      "See the caveats in the documentation: https://pandas.pydata.org/pandas-docs/stable/user_guide/indexing.html#returning-a-view-versus-a-copy\n",
      "  temp_multi['number_filter'] = filter_types\n"
     ]
    },
    {
     "name": "stdout",
     "output_type": "stream",
     "text": [
      "i= 0  expand time,0.0 filter time0.0 make_dataframe_time 0.001\n",
      "E07000139\n"
     ]
    },
    {
     "name": "stderr",
     "output_type": "stream",
     "text": [
      "<ipython-input-38-a850dbcbd8ec>:53: SettingWithCopyWarning: \n",
      "A value is trying to be set on a copy of a slice from a DataFrame.\n",
      "Try using .loc[row_indexer,col_indexer] = value instead\n",
      "\n",
      "See the caveats in the documentation: https://pandas.pydata.org/pandas-docs/stable/user_guide/indexing.html#returning-a-view-versus-a-copy\n",
      "  temp_multi['number_filter'] = filter_types\n"
     ]
    },
    {
     "name": "stdout",
     "output_type": "stream",
     "text": [
      "i= 0  expand time,0.0 filter time0.0 make_dataframe_time 0.001\n",
      "E07000124\n"
     ]
    },
    {
     "name": "stderr",
     "output_type": "stream",
     "text": [
      "<ipython-input-38-a850dbcbd8ec>:53: SettingWithCopyWarning: \n",
      "A value is trying to be set on a copy of a slice from a DataFrame.\n",
      "Try using .loc[row_indexer,col_indexer] = value instead\n",
      "\n",
      "See the caveats in the documentation: https://pandas.pydata.org/pandas-docs/stable/user_guide/indexing.html#returning-a-view-versus-a-copy\n",
      "  temp_multi['number_filter'] = filter_types\n"
     ]
    },
    {
     "name": "stdout",
     "output_type": "stream",
     "text": [
      "i= 0  expand time,0.0 filter time0.0 make_dataframe_time 0.001\n",
      "E06000017\n"
     ]
    },
    {
     "name": "stderr",
     "output_type": "stream",
     "text": [
      "<ipython-input-38-a850dbcbd8ec>:53: SettingWithCopyWarning: \n",
      "A value is trying to be set on a copy of a slice from a DataFrame.\n",
      "Try using .loc[row_indexer,col_indexer] = value instead\n",
      "\n",
      "See the caveats in the documentation: https://pandas.pydata.org/pandas-docs/stable/user_guide/indexing.html#returning-a-view-versus-a-copy\n",
      "  temp_multi['number_filter'] = filter_types\n"
     ]
    },
    {
     "name": "stdout",
     "output_type": "stream",
     "text": [
      "i= 0  expand time,0.0 filter time0.0 make_dataframe_time 0.001\n",
      "E07000129\n"
     ]
    },
    {
     "name": "stderr",
     "output_type": "stream",
     "text": [
      "<ipython-input-38-a850dbcbd8ec>:53: SettingWithCopyWarning: \n",
      "A value is trying to be set on a copy of a slice from a DataFrame.\n",
      "Try using .loc[row_indexer,col_indexer] = value instead\n",
      "\n",
      "See the caveats in the documentation: https://pandas.pydata.org/pandas-docs/stable/user_guide/indexing.html#returning-a-view-versus-a-copy\n",
      "  temp_multi['number_filter'] = filter_types\n"
     ]
    },
    {
     "name": "stdout",
     "output_type": "stream",
     "text": [
      "i= 0  expand time,0.0 filter time0.0 make_dataframe_time 0.001\n",
      "E07000026\n"
     ]
    },
    {
     "name": "stderr",
     "output_type": "stream",
     "text": [
      "<ipython-input-38-a850dbcbd8ec>:53: SettingWithCopyWarning: \n",
      "A value is trying to be set on a copy of a slice from a DataFrame.\n",
      "Try using .loc[row_indexer,col_indexer] = value instead\n",
      "\n",
      "See the caveats in the documentation: https://pandas.pydata.org/pandas-docs/stable/user_guide/indexing.html#returning-a-view-versus-a-copy\n",
      "  temp_multi['number_filter'] = filter_types\n"
     ]
    },
    {
     "name": "stdout",
     "output_type": "stream",
     "text": [
      "i= 0  expand time,0.0 filter time0.0 make_dataframe_time 0.001\n",
      "E07000030\n"
     ]
    },
    {
     "name": "stderr",
     "output_type": "stream",
     "text": [
      "<ipython-input-38-a850dbcbd8ec>:53: SettingWithCopyWarning: \n",
      "A value is trying to be set on a copy of a slice from a DataFrame.\n",
      "Try using .loc[row_indexer,col_indexer] = value instead\n",
      "\n",
      "See the caveats in the documentation: https://pandas.pydata.org/pandas-docs/stable/user_guide/indexing.html#returning-a-view-versus-a-copy\n",
      "  temp_multi['number_filter'] = filter_types\n"
     ]
    },
    {
     "name": "stdout",
     "output_type": "stream",
     "text": [
      "i= 0  expand time,0.0 filter time0.0 make_dataframe_time 0.001\n",
      "E07000029\n"
     ]
    },
    {
     "name": "stderr",
     "output_type": "stream",
     "text": [
      "<ipython-input-38-a850dbcbd8ec>:53: SettingWithCopyWarning: \n",
      "A value is trying to be set on a copy of a slice from a DataFrame.\n",
      "Try using .loc[row_indexer,col_indexer] = value instead\n",
      "\n",
      "See the caveats in the documentation: https://pandas.pydata.org/pandas-docs/stable/user_guide/indexing.html#returning-a-view-versus-a-copy\n",
      "  temp_multi['number_filter'] = filter_types\n"
     ]
    },
    {
     "name": "stdout",
     "output_type": "stream",
     "text": [
      "i= 0  expand time,0.0 filter time0.0 make_dataframe_time 0.001\n",
      "E07000044\n"
     ]
    },
    {
     "name": "stderr",
     "output_type": "stream",
     "text": [
      "<ipython-input-38-a850dbcbd8ec>:53: SettingWithCopyWarning: \n",
      "A value is trying to be set on a copy of a slice from a DataFrame.\n",
      "Try using .loc[row_indexer,col_indexer] = value instead\n",
      "\n",
      "See the caveats in the documentation: https://pandas.pydata.org/pandas-docs/stable/user_guide/indexing.html#returning-a-view-versus-a-copy\n",
      "  temp_multi['number_filter'] = filter_types\n"
     ]
    },
    {
     "name": "stdout",
     "output_type": "stream",
     "text": [
      "i= 0  expand time,0.0 filter time0.0 make_dataframe_time 0.001\n",
      "E06000011\n"
     ]
    },
    {
     "name": "stderr",
     "output_type": "stream",
     "text": [
      "<ipython-input-38-a850dbcbd8ec>:53: SettingWithCopyWarning: \n",
      "A value is trying to be set on a copy of a slice from a DataFrame.\n",
      "Try using .loc[row_indexer,col_indexer] = value instead\n",
      "\n",
      "See the caveats in the documentation: https://pandas.pydata.org/pandas-docs/stable/user_guide/indexing.html#returning-a-view-versus-a-copy\n",
      "  temp_multi['number_filter'] = filter_types\n"
     ]
    },
    {
     "name": "stdout",
     "output_type": "stream",
     "text": [
      "i= 0  expand time,0.0 filter time0.0 make_dataframe_time 0.001\n",
      "E07000047\n"
     ]
    },
    {
     "name": "stderr",
     "output_type": "stream",
     "text": [
      "<ipython-input-38-a850dbcbd8ec>:53: SettingWithCopyWarning: \n",
      "A value is trying to be set on a copy of a slice from a DataFrame.\n",
      "Try using .loc[row_indexer,col_indexer] = value instead\n",
      "\n",
      "See the caveats in the documentation: https://pandas.pydata.org/pandas-docs/stable/user_guide/indexing.html#returning-a-view-versus-a-copy\n",
      "  temp_multi['number_filter'] = filter_types\n"
     ]
    },
    {
     "name": "stdout",
     "output_type": "stream",
     "text": [
      "i= 0  expand time,0.0 filter time0.0 make_dataframe_time 0.001\n",
      "E07000074\n"
     ]
    },
    {
     "name": "stderr",
     "output_type": "stream",
     "text": [
      "<ipython-input-38-a850dbcbd8ec>:53: SettingWithCopyWarning: \n",
      "A value is trying to be set on a copy of a slice from a DataFrame.\n",
      "Try using .loc[row_indexer,col_indexer] = value instead\n",
      "\n",
      "See the caveats in the documentation: https://pandas.pydata.org/pandas-docs/stable/user_guide/indexing.html#returning-a-view-versus-a-copy\n",
      "  temp_multi['number_filter'] = filter_types\n"
     ]
    },
    {
     "name": "stdout",
     "output_type": "stream",
     "text": [
      "i= 0  expand time,0.0 filter time0.0 make_dataframe_time 0.001\n",
      "E07000069\n"
     ]
    },
    {
     "name": "stderr",
     "output_type": "stream",
     "text": [
      "<ipython-input-38-a850dbcbd8ec>:53: SettingWithCopyWarning: \n",
      "A value is trying to be set on a copy of a slice from a DataFrame.\n",
      "Try using .loc[row_indexer,col_indexer] = value instead\n",
      "\n",
      "See the caveats in the documentation: https://pandas.pydata.org/pandas-docs/stable/user_guide/indexing.html#returning-a-view-versus-a-copy\n",
      "  temp_multi['number_filter'] = filter_types\n"
     ]
    },
    {
     "name": "stdout",
     "output_type": "stream",
     "text": [
      "i= 0  expand time,0.0 filter time0.0 make_dataframe_time 0.001\n",
      "E07000033\n"
     ]
    },
    {
     "name": "stderr",
     "output_type": "stream",
     "text": [
      "<ipython-input-38-a850dbcbd8ec>:53: SettingWithCopyWarning: \n",
      "A value is trying to be set on a copy of a slice from a DataFrame.\n",
      "Try using .loc[row_indexer,col_indexer] = value instead\n",
      "\n",
      "See the caveats in the documentation: https://pandas.pydata.org/pandas-docs/stable/user_guide/indexing.html#returning-a-view-versus-a-copy\n",
      "  temp_multi['number_filter'] = filter_types\n"
     ]
    },
    {
     "name": "stdout",
     "output_type": "stream",
     "text": [
      "i= 0  expand time,0.0 filter time0.0 make_dataframe_time 0.001\n",
      "E07000036\n"
     ]
    },
    {
     "name": "stderr",
     "output_type": "stream",
     "text": [
      "<ipython-input-38-a850dbcbd8ec>:53: SettingWithCopyWarning: \n",
      "A value is trying to be set on a copy of a slice from a DataFrame.\n",
      "Try using .loc[row_indexer,col_indexer] = value instead\n",
      "\n",
      "See the caveats in the documentation: https://pandas.pydata.org/pandas-docs/stable/user_guide/indexing.html#returning-a-view-versus-a-copy\n",
      "  temp_multi['number_filter'] = filter_types\n"
     ]
    },
    {
     "name": "stdout",
     "output_type": "stream",
     "text": [
      "i= 0  expand time,0.0 filter time0.0 make_dataframe_time 0.001\n",
      "E07000039\n"
     ]
    },
    {
     "name": "stderr",
     "output_type": "stream",
     "text": [
      "<ipython-input-38-a850dbcbd8ec>:53: SettingWithCopyWarning: \n",
      "A value is trying to be set on a copy of a slice from a DataFrame.\n",
      "Try using .loc[row_indexer,col_indexer] = value instead\n",
      "\n",
      "See the caveats in the documentation: https://pandas.pydata.org/pandas-docs/stable/user_guide/indexing.html#returning-a-view-versus-a-copy\n",
      "  temp_multi['number_filter'] = filter_types\n"
     ]
    },
    {
     "name": "stdout",
     "output_type": "stream",
     "text": [
      "i= 0  expand time,0.0 filter time0.0 make_dataframe_time 0.001\n",
      "E07000088\n"
     ]
    },
    {
     "name": "stderr",
     "output_type": "stream",
     "text": [
      "<ipython-input-38-a850dbcbd8ec>:53: SettingWithCopyWarning: \n",
      "A value is trying to be set on a copy of a slice from a DataFrame.\n",
      "Try using .loc[row_indexer,col_indexer] = value instead\n",
      "\n",
      "See the caveats in the documentation: https://pandas.pydata.org/pandas-docs/stable/user_guide/indexing.html#returning-a-view-versus-a-copy\n",
      "  temp_multi['number_filter'] = filter_types\n"
     ]
    },
    {
     "name": "stdout",
     "output_type": "stream",
     "text": [
      "i= 0  expand time,0.0 filter time0.0 make_dataframe_time 0.001\n",
      "E07000143\n"
     ]
    },
    {
     "name": "stderr",
     "output_type": "stream",
     "text": [
      "<ipython-input-38-a850dbcbd8ec>:53: SettingWithCopyWarning: \n",
      "A value is trying to be set on a copy of a slice from a DataFrame.\n",
      "Try using .loc[row_indexer,col_indexer] = value instead\n",
      "\n",
      "See the caveats in the documentation: https://pandas.pydata.org/pandas-docs/stable/user_guide/indexing.html#returning-a-view-versus-a-copy\n",
      "  temp_multi['number_filter'] = filter_types\n"
     ]
    },
    {
     "name": "stdout",
     "output_type": "stream",
     "text": [
      "i= 0  expand time,0.0 filter time0.0 make_dataframe_time 0.001\n",
      "E07000146\n"
     ]
    },
    {
     "name": "stderr",
     "output_type": "stream",
     "text": [
      "<ipython-input-38-a850dbcbd8ec>:53: SettingWithCopyWarning: \n",
      "A value is trying to be set on a copy of a slice from a DataFrame.\n",
      "Try using .loc[row_indexer,col_indexer] = value instead\n",
      "\n",
      "See the caveats in the documentation: https://pandas.pydata.org/pandas-docs/stable/user_guide/indexing.html#returning-a-view-versus-a-copy\n",
      "  temp_multi['number_filter'] = filter_types\n"
     ]
    },
    {
     "name": "stdout",
     "output_type": "stream",
     "text": [
      "i= 0  expand time,0.0 filter time0.0 make_dataframe_time 0.001\n",
      "E07000080\n"
     ]
    },
    {
     "name": "stderr",
     "output_type": "stream",
     "text": [
      "<ipython-input-38-a850dbcbd8ec>:53: SettingWithCopyWarning: \n",
      "A value is trying to be set on a copy of a slice from a DataFrame.\n",
      "Try using .loc[row_indexer,col_indexer] = value instead\n",
      "\n",
      "See the caveats in the documentation: https://pandas.pydata.org/pandas-docs/stable/user_guide/indexing.html#returning-a-view-versus-a-copy\n",
      "  temp_multi['number_filter'] = filter_types\n"
     ]
    },
    {
     "name": "stdout",
     "output_type": "stream",
     "text": [
      "i= 0  expand time,0.0 filter time0.0 make_dataframe_time 0.001\n",
      "E07000145\n"
     ]
    },
    {
     "name": "stderr",
     "output_type": "stream",
     "text": [
      "<ipython-input-38-a850dbcbd8ec>:53: SettingWithCopyWarning: \n",
      "A value is trying to be set on a copy of a slice from a DataFrame.\n",
      "Try using .loc[row_indexer,col_indexer] = value instead\n",
      "\n",
      "See the caveats in the documentation: https://pandas.pydata.org/pandas-docs/stable/user_guide/indexing.html#returning-a-view-versus-a-copy\n",
      "  temp_multi['number_filter'] = filter_types\n"
     ]
    },
    {
     "name": "stdout",
     "output_type": "stream",
     "text": [
      "i= 0  expand time,0.0 filter time0.0 make_dataframe_time 0.001\n",
      "E06000055\n"
     ]
    },
    {
     "name": "stderr",
     "output_type": "stream",
     "text": [
      "<ipython-input-38-a850dbcbd8ec>:53: SettingWithCopyWarning: \n",
      "A value is trying to be set on a copy of a slice from a DataFrame.\n",
      "Try using .loc[row_indexer,col_indexer] = value instead\n",
      "\n",
      "See the caveats in the documentation: https://pandas.pydata.org/pandas-docs/stable/user_guide/indexing.html#returning-a-view-versus-a-copy\n",
      "  temp_multi['number_filter'] = filter_types\n"
     ]
    },
    {
     "name": "stdout",
     "output_type": "stream",
     "text": [
      "i= 0  expand time,0.0 filter time0.0 make_dataframe_time 0.001\n",
      "E07000169\n",
      "E07000196\n"
     ]
    },
    {
     "name": "stderr",
     "output_type": "stream",
     "text": [
      "<ipython-input-38-a850dbcbd8ec>:53: SettingWithCopyWarning: \n",
      "A value is trying to be set on a copy of a slice from a DataFrame.\n",
      "Try using .loc[row_indexer,col_indexer] = value instead\n",
      "\n",
      "See the caveats in the documentation: https://pandas.pydata.org/pandas-docs/stable/user_guide/indexing.html#returning-a-view-versus-a-copy\n",
      "  temp_multi['number_filter'] = filter_types\n"
     ]
    },
    {
     "name": "stdout",
     "output_type": "stream",
     "text": [
      "i= 0  expand time,0.0 filter time0.0 make_dataframe_time 0.001\n",
      "E07000063\n"
     ]
    },
    {
     "name": "stderr",
     "output_type": "stream",
     "text": [
      "<ipython-input-38-a850dbcbd8ec>:53: SettingWithCopyWarning: \n",
      "A value is trying to be set on a copy of a slice from a DataFrame.\n",
      "Try using .loc[row_indexer,col_indexer] = value instead\n",
      "\n",
      "See the caveats in the documentation: https://pandas.pydata.org/pandas-docs/stable/user_guide/indexing.html#returning-a-view-versus-a-copy\n",
      "  temp_multi['number_filter'] = filter_types\n"
     ]
    },
    {
     "name": "stdout",
     "output_type": "stream",
     "text": [
      "i= 0  expand time,0.0 filter time0.0 make_dataframe_time 0.001\n",
      "W06000009\n"
     ]
    },
    {
     "name": "stderr",
     "output_type": "stream",
     "text": [
      "<ipython-input-38-a850dbcbd8ec>:53: SettingWithCopyWarning: \n",
      "A value is trying to be set on a copy of a slice from a DataFrame.\n",
      "Try using .loc[row_indexer,col_indexer] = value instead\n",
      "\n",
      "See the caveats in the documentation: https://pandas.pydata.org/pandas-docs/stable/user_guide/indexing.html#returning-a-view-versus-a-copy\n",
      "  temp_multi['number_filter'] = filter_types\n"
     ]
    },
    {
     "name": "stdout",
     "output_type": "stream",
     "text": [
      "i= 0  expand time,0.0 filter time0.0 make_dataframe_time 0.001\n",
      "W06000021\n"
     ]
    },
    {
     "name": "stderr",
     "output_type": "stream",
     "text": [
      "<ipython-input-38-a850dbcbd8ec>:53: SettingWithCopyWarning: \n",
      "A value is trying to be set on a copy of a slice from a DataFrame.\n",
      "Try using .loc[row_indexer,col_indexer] = value instead\n",
      "\n",
      "See the caveats in the documentation: https://pandas.pydata.org/pandas-docs/stable/user_guide/indexing.html#returning-a-view-versus-a-copy\n",
      "  temp_multi['number_filter'] = filter_types\n"
     ]
    },
    {
     "name": "stdout",
     "output_type": "stream",
     "text": [
      "i= 0  expand time,0.0 filter time0.0 make_dataframe_time 0.001\n",
      "E07000166\n",
      "E06000053\n"
     ]
    }
   ],
   "source": [
    "all_lads = ocod_data.lad11cd.unique()\n",
    "#all_lads = all_lads[all_lads != 'E06000031']\n",
    "#all_lads = all_lads[all_lads != 'E08000017']\n",
    "\n",
    "matched_lads_list = []\n",
    "\n",
    "all_lads = [x for x in all_lads if str(x) != 'nan']\n",
    "#see which roads match a road in voa data set for each local authority\n",
    "for target_lad in all_lads:\n",
    "    print(target_lad)\n",
    "    #temp['matches_business_address'] = business_address_matcher(temp['street_name'], temp['street_number'], voa_businesses, target_lad)\n",
    "    matched_lads_list = matched_lads_list + [massaged_address_match(ocod_data, voa_businesses, target_lad)]\n",
    "\n",
    "    #matched_lads_list = [massaged_address_match(ocod_data, voa_businesses, target_lad) for target_lad in all_lads]\n"
   ]
  },
  {
   "cell_type": "code",
   "execution_count": 57,
   "id": "42806c12",
   "metadata": {},
   "outputs": [],
   "source": [
    "test  = pd.concat(matched_lads_list)\n",
    "test[test['address_match']].to_csv('/tf/empty_homes_data/delete_me.csv')"
   ]
  },
  {
   "cell_type": "code",
   "execution_count": 58,
   "id": "6589835d",
   "metadata": {},
   "outputs": [
    {
     "data": {
      "text/plain": [
       "50945"
      ]
     },
     "execution_count": 58,
     "metadata": {},
     "output_type": "execute_result"
    }
   ],
   "source": [
    "test['address_match'].sum()"
   ]
  },
  {
   "cell_type": "code",
   "execution_count": 29,
   "id": "2041fc72",
   "metadata": {},
   "outputs": [
    {
     "name": "stderr",
     "output_type": "stream",
     "text": [
      "<ipython-input-29-f7e09830c07d>:1: UserWarning: This pattern is interpreted as a regular expression, and has match groups. To actually get the groups, use str.extract.\n",
      "  pd.crosstab(test['property_address'].str.contains(r\"(penthouse|flat|apartment)\", case = False),\n"
     ]
    },
    {
     "data": {
      "text/html": [
       "<div>\n",
       "<style scoped>\n",
       "    .dataframe tbody tr th:only-of-type {\n",
       "        vertical-align: middle;\n",
       "    }\n",
       "\n",
       "    .dataframe tbody tr th {\n",
       "        vertical-align: top;\n",
       "    }\n",
       "\n",
       "    .dataframe thead th {\n",
       "        text-align: right;\n",
       "    }\n",
       "</style>\n",
       "<table border=\"1\" class=\"dataframe\">\n",
       "  <thead>\n",
       "    <tr style=\"text-align: right;\">\n",
       "      <th>address_match</th>\n",
       "      <th>True</th>\n",
       "    </tr>\n",
       "    <tr>\n",
       "      <th>property_address</th>\n",
       "      <th></th>\n",
       "    </tr>\n",
       "  </thead>\n",
       "  <tbody>\n",
       "    <tr>\n",
       "      <th>False</th>\n",
       "      <td>64502</td>\n",
       "    </tr>\n",
       "    <tr>\n",
       "      <th>True</th>\n",
       "      <td>9231</td>\n",
       "    </tr>\n",
       "  </tbody>\n",
       "</table>\n",
       "</div>"
      ],
      "text/plain": [
       "address_match      True\n",
       "property_address       \n",
       "False             64502\n",
       "True               9231"
      ]
     },
     "execution_count": 29,
     "metadata": {},
     "output_type": "execute_result"
    }
   ],
   "source": [
    "pd.crosstab(test['property_address'].str.contains(r\"(penthouse|flat|apartment)\", case = False),\n",
    "           test['address_match'])"
   ]
  },
  {
   "cell_type": "markdown",
   "id": "efd17f75",
   "metadata": {},
   "source": [
    "# Classify property type"
   ]
  },
  {
   "cell_type": "code",
   "execution_count": 60,
   "id": "e4143c2e",
   "metadata": {},
   "outputs": [
    {
     "name": "stderr",
     "output_type": "stream",
     "text": [
      "<ipython-input-60-d7cf7fa28749>:3: UserWarning: This pattern is interpreted as a regular expression, and has match groups. To actually get the groups, use str.extract.\n",
      "  ocod_data['property_address'].str.contains(r\"^(land|plot)\", case = False),\n",
      "<ipython-input-60-d7cf7fa28749>:4: UserWarning: This pattern is interpreted as a regular expression, and has match groups. To actually get the groups, use str.extract.\n",
      "  ocod_data['property_address'].str.contains(r\"^((garage)|(parking(\\s)?space)|(parking space)|(car park(ing)?(\\sspace)))\", case = False),\n",
      "<ipython-input-60-d7cf7fa28749>:5: UserWarning: This pattern is interpreted as a regular expression, and has match groups. To actually get the groups, use str.extract.\n",
      "  ocod_data['property_address'].str.contains(r\"^((the airspace)|(airspace))\", case = False),\n",
      "<ipython-input-60-d7cf7fa28749>:6: UserWarning: This pattern is interpreted as a regular expression, and has match groups. To actually get the groups, use str.extract.\n",
      "  ocod_data['property_address'].str.contains(r\"(penthouse|flat|apartment)\", case = False),\n",
      "<ipython-input-60-d7cf7fa28749>:7: UserWarning: This pattern is interpreted as a regular expression, and has match groups. To actually get the groups, use str.extract.\n",
      "  ocod_data['property_address'].str.contains(r\"(cinema)|(hotel)|(office)|centre|(\\bpub)|(business)|(cafe)|(^shop)|( shop)|(restaurant)|(home)|(^store(s)?\\b)|(^storage\\\\b)|(company)|(ltd)|(limited)|(plc)|(retail)|(leisure)|(industrial)|(hall of)\", case = False),\n"
     ]
    }
   ],
   "source": [
    "ocod_data['class'] = np.select(\n",
    "    [\n",
    "        ocod_data['property_address'].str.contains(r\"^(land|plot)\", case = False),\n",
    "        ocod_data['property_address'].str.contains(r\"^((garage)|(parking(\\s)?space)|(parking space)|(car park(ing)?(\\sspace)))\", case = False),\n",
    "        ocod_data['property_address'].str.contains(r\"^((the airspace)|(airspace))\", case = False),\n",
    "        ocod_data['property_address'].str.contains(r\"(penthouse|flat|apartment)\", case = False),\n",
    "        ocod_data['property_address'].str.contains(r\"(cinema)|(hotel)|(office)|centre|(\\bpub)|(business)|(cafe)|(^shop)|( shop)|(restaurant)|(home)|(^store(s)?\\b)|(^storage\\\\b)|(company)|(ltd)|(limited)|(plc)|(retail)|(leisure)|(industrial)|(hall of)\", case = False), \n",
    "        (ocod_data['business_counts']==0 )& ocod_data.postcode.notnull()\n",
    "    ], \n",
    "    [\n",
    "        'land',\n",
    "        'carpark',\n",
    "        'airspace',\n",
    "        'domestic',\n",
    "        'business',\n",
    "        'domestic'\n",
    "    ], \n",
    "    default='unknown'\n",
    ")"
   ]
  },
  {
   "cell_type": "code",
   "execution_count": 144,
   "id": "4ea7f557",
   "metadata": {},
   "outputs": [
    {
     "data": {
      "text/plain": [
       "class\n",
       "airspace      1671\n",
       "business      5568\n",
       "carpark       2086\n",
       "domestic    103978\n",
       "land         16501\n",
       "unknown      32320\n",
       "dtype: int64"
      ]
     },
     "execution_count": 144,
     "metadata": {},
     "output_type": "execute_result"
    }
   ],
   "source": [
    "#if we can be relatively sure that all the nested properties are domestic then the amount of unclassified \n",
    "#properties drops to 2%\n",
    "#What would allow us to be sure?\n",
    "ocod_data.groupby('class').size()"
   ]
  },
  {
   "cell_type": "code",
   "execution_count": 10,
   "id": "5d35735e",
   "metadata": {},
   "outputs": [
    {
     "data": {
      "text/plain": [
       "class\n",
       "airspace     1671\n",
       "business    15167\n",
       "carpark      2078\n",
       "domestic    89600\n",
       "land        16501\n",
       "unknown     32343\n",
       "dtype: int64"
      ]
     },
     "execution_count": 10,
     "metadata": {},
     "output_type": "execute_result"
    }
   ],
   "source": [
    "ocod_data.groupby('class').size()"
   ]
  },
  {
   "cell_type": "code",
   "execution_count": 11,
   "id": "a5c52cbf",
   "metadata": {},
   "outputs": [
    {
     "data": {
      "text/plain": [
       "class\n",
       "airspace    0.010619\n",
       "business    0.088453\n",
       "carpark     0.013205\n",
       "domestic    0.574549\n",
       "land        0.104861\n",
       "unknown     0.208312\n",
       "dtype: float64"
      ]
     },
     "execution_count": 11,
     "metadata": {},
     "output_type": "execute_result"
    }
   ],
   "source": [
    "ocod_data.groupby('class').size()/ocod_data.shape[0]"
   ]
  },
  {
   "cell_type": "code",
   "execution_count": 10,
   "id": "05816de5",
   "metadata": {},
   "outputs": [
    {
     "data": {
      "text/html": [
       "<div>\n",
       "<style scoped>\n",
       "    .dataframe tbody tr th:only-of-type {\n",
       "        vertical-align: middle;\n",
       "    }\n",
       "\n",
       "    .dataframe tbody tr th {\n",
       "        vertical-align: top;\n",
       "    }\n",
       "\n",
       "    .dataframe thead th {\n",
       "        text-align: right;\n",
       "    }\n",
       "</style>\n",
       "<table border=\"1\" class=\"dataframe\">\n",
       "  <thead>\n",
       "    <tr style=\"text-align: right;\">\n",
       "      <th>street_name</th>\n",
       "      <th>False</th>\n",
       "      <th>True</th>\n",
       "    </tr>\n",
       "    <tr>\n",
       "      <th>postcode</th>\n",
       "      <th></th>\n",
       "      <th></th>\n",
       "    </tr>\n",
       "  </thead>\n",
       "  <tbody>\n",
       "    <tr>\n",
       "      <th>False</th>\n",
       "      <td>3034</td>\n",
       "      <td>29309</td>\n",
       "    </tr>\n",
       "  </tbody>\n",
       "</table>\n",
       "</div>"
      ],
      "text/plain": [
       "street_name  False   True\n",
       "postcode                 \n",
       "False         3034  29309"
      ]
     },
     "execution_count": 10,
     "metadata": {},
     "output_type": "execute_result"
    }
   ],
   "source": [
    "#non of the unknowns have a postcode. I guess this is obvious as if there is no matching VOA postcode you are classed as domestic\n",
    "pd.crosstab(ocod_data[ocod_data['class']==\"unknown\"].postcode.notnull(), ocod_data[ocod_data['class']==\"unknown\"].street_name.notnull())"
   ]
  },
  {
   "cell_type": "code",
   "execution_count": 12,
   "id": "fbec4170",
   "metadata": {},
   "outputs": [
    {
     "data": {
      "text/html": [
       "<div>\n",
       "<style scoped>\n",
       "    .dataframe tbody tr th:only-of-type {\n",
       "        vertical-align: middle;\n",
       "    }\n",
       "\n",
       "    .dataframe tbody tr th {\n",
       "        vertical-align: top;\n",
       "    }\n",
       "\n",
       "    .dataframe thead th {\n",
       "        text-align: right;\n",
       "    }\n",
       "</style>\n",
       "<table border=\"1\" class=\"dataframe\">\n",
       "  <thead>\n",
       "    <tr style=\"text-align: right;\">\n",
       "      <th>region</th>\n",
       "      <th>east anglia</th>\n",
       "      <th>east midlands</th>\n",
       "      <th>greater london</th>\n",
       "      <th>north</th>\n",
       "      <th>north west</th>\n",
       "      <th>south east</th>\n",
       "      <th>south west</th>\n",
       "      <th>wales</th>\n",
       "      <th>west midlands</th>\n",
       "      <th>yorks and humber</th>\n",
       "    </tr>\n",
       "    <tr>\n",
       "      <th>tenure</th>\n",
       "      <th></th>\n",
       "      <th></th>\n",
       "      <th></th>\n",
       "      <th></th>\n",
       "      <th></th>\n",
       "      <th></th>\n",
       "      <th></th>\n",
       "      <th></th>\n",
       "      <th></th>\n",
       "      <th></th>\n",
       "    </tr>\n",
       "  </thead>\n",
       "  <tbody>\n",
       "    <tr>\n",
       "      <th>Freehold</th>\n",
       "      <td>3330</td>\n",
       "      <td>4962</td>\n",
       "      <td>25457</td>\n",
       "      <td>3177</td>\n",
       "      <td>16421</td>\n",
       "      <td>17922</td>\n",
       "      <td>5465</td>\n",
       "      <td>3341</td>\n",
       "      <td>5083</td>\n",
       "      <td>8840</td>\n",
       "    </tr>\n",
       "    <tr>\n",
       "      <th>Leasehold</th>\n",
       "      <td>460</td>\n",
       "      <td>1282</td>\n",
       "      <td>42530</td>\n",
       "      <td>906</td>\n",
       "      <td>5855</td>\n",
       "      <td>5462</td>\n",
       "      <td>1677</td>\n",
       "      <td>667</td>\n",
       "      <td>1791</td>\n",
       "      <td>2732</td>\n",
       "    </tr>\n",
       "  </tbody>\n",
       "</table>\n",
       "</div>"
      ],
      "text/plain": [
       "region     east anglia  east midlands  greater london  north  north west  \\\n",
       "tenure                                                                     \n",
       "Freehold          3330           4962           25457   3177       16421   \n",
       "Leasehold          460           1282           42530    906        5855   \n",
       "\n",
       "region     south east  south west  wales  west midlands  yorks and humber  \n",
       "tenure                                                                     \n",
       "Freehold        17922        5465   3341           5083              8840  \n",
       "Leasehold        5462        1677    667           1791              2732  "
      ]
     },
     "execution_count": 12,
     "metadata": {},
     "output_type": "execute_result"
    }
   ],
   "source": [
    "pd.crosstab(ocod_data['tenure'], ocod_data['region'].str.lower())#.to_latex() #convert to copyable latex table"
   ]
  },
  {
   "cell_type": "code",
   "execution_count": 15,
   "id": "1133f5a1",
   "metadata": {},
   "outputs": [
    {
     "data": {
      "text/html": [
       "<div>\n",
       "<style scoped>\n",
       "    .dataframe tbody tr th:only-of-type {\n",
       "        vertical-align: middle;\n",
       "    }\n",
       "\n",
       "    .dataframe tbody tr th {\n",
       "        vertical-align: top;\n",
       "    }\n",
       "\n",
       "    .dataframe thead th {\n",
       "        text-align: right;\n",
       "    }\n",
       "</style>\n",
       "<table border=\"1\" class=\"dataframe\">\n",
       "  <thead>\n",
       "    <tr style=\"text-align: right;\">\n",
       "      <th>region</th>\n",
       "      <th>east anglia</th>\n",
       "      <th>east midlands</th>\n",
       "      <th>greater london</th>\n",
       "      <th>north</th>\n",
       "      <th>north west</th>\n",
       "      <th>south east</th>\n",
       "      <th>south west</th>\n",
       "      <th>wales</th>\n",
       "      <th>west midlands</th>\n",
       "      <th>yorks and humber</th>\n",
       "    </tr>\n",
       "    <tr>\n",
       "      <th>class</th>\n",
       "      <th></th>\n",
       "      <th></th>\n",
       "      <th></th>\n",
       "      <th></th>\n",
       "      <th></th>\n",
       "      <th></th>\n",
       "      <th></th>\n",
       "      <th></th>\n",
       "      <th></th>\n",
       "      <th></th>\n",
       "    </tr>\n",
       "  </thead>\n",
       "  <tbody>\n",
       "    <tr>\n",
       "      <th>airspace</th>\n",
       "      <td>50</td>\n",
       "      <td>162</td>\n",
       "      <td>91</td>\n",
       "      <td>15</td>\n",
       "      <td>215</td>\n",
       "      <td>185</td>\n",
       "      <td>266</td>\n",
       "      <td>290</td>\n",
       "      <td>94</td>\n",
       "      <td>303</td>\n",
       "    </tr>\n",
       "    <tr>\n",
       "      <th>business</th>\n",
       "      <td>219</td>\n",
       "      <td>447</td>\n",
       "      <td>9323</td>\n",
       "      <td>461</td>\n",
       "      <td>1107</td>\n",
       "      <td>2010</td>\n",
       "      <td>566</td>\n",
       "      <td>430</td>\n",
       "      <td>583</td>\n",
       "      <td>758</td>\n",
       "    </tr>\n",
       "    <tr>\n",
       "      <th>carpark</th>\n",
       "      <td>10</td>\n",
       "      <td>7</td>\n",
       "      <td>1283</td>\n",
       "      <td>14</td>\n",
       "      <td>474</td>\n",
       "      <td>159</td>\n",
       "      <td>71</td>\n",
       "      <td>4</td>\n",
       "      <td>27</td>\n",
       "      <td>37</td>\n",
       "    </tr>\n",
       "    <tr>\n",
       "      <th>domestic</th>\n",
       "      <td>2547</td>\n",
       "      <td>3453</td>\n",
       "      <td>45543</td>\n",
       "      <td>2127</td>\n",
       "      <td>10352</td>\n",
       "      <td>13513</td>\n",
       "      <td>4212</td>\n",
       "      <td>1452</td>\n",
       "      <td>4032</td>\n",
       "      <td>5028</td>\n",
       "    </tr>\n",
       "    <tr>\n",
       "      <th>land</th>\n",
       "      <td>630</td>\n",
       "      <td>1143</td>\n",
       "      <td>2586</td>\n",
       "      <td>721</td>\n",
       "      <td>2186</td>\n",
       "      <td>4792</td>\n",
       "      <td>1239</td>\n",
       "      <td>617</td>\n",
       "      <td>1290</td>\n",
       "      <td>1297</td>\n",
       "    </tr>\n",
       "    <tr>\n",
       "      <th>unknown</th>\n",
       "      <td>343</td>\n",
       "      <td>1640</td>\n",
       "      <td>9948</td>\n",
       "      <td>1059</td>\n",
       "      <td>8752</td>\n",
       "      <td>3367</td>\n",
       "      <td>1430</td>\n",
       "      <td>1538</td>\n",
       "      <td>1242</td>\n",
       "      <td>4384</td>\n",
       "    </tr>\n",
       "  </tbody>\n",
       "</table>\n",
       "</div>"
      ],
      "text/plain": [
       "region    east anglia  east midlands  greater london  north  north west  \\\n",
       "class                                                                     \n",
       "airspace           50            162              91     15         215   \n",
       "business          219            447            9323    461        1107   \n",
       "carpark            10              7            1283     14         474   \n",
       "domestic         2547           3453           45543   2127       10352   \n",
       "land              630           1143            2586    721        2186   \n",
       "unknown           343           1640            9948   1059        8752   \n",
       "\n",
       "region    south east  south west  wales  west midlands  yorks and humber  \n",
       "class                                                                     \n",
       "airspace         185         266    290             94               303  \n",
       "business        2010         566    430            583               758  \n",
       "carpark          159          71      4             27                37  \n",
       "domestic       13513        4212   1452           4032              5028  \n",
       "land            4792        1239    617           1290              1297  \n",
       "unknown         3367        1430   1538           1242              4384  "
      ]
     },
     "execution_count": 15,
     "metadata": {},
     "output_type": "execute_result"
    }
   ],
   "source": [
    "pd.crosstab(ocod_data['class'], ocod_data['region'].str.lower())#.to_latex() #convert to copyable latex table"
   ]
  },
  {
   "cell_type": "code",
   "execution_count": 14,
   "id": "06c3a9b7",
   "metadata": {},
   "outputs": [
    {
     "data": {
      "text/html": [
       "<div>\n",
       "<style scoped>\n",
       "    .dataframe tbody tr th:only-of-type {\n",
       "        vertical-align: middle;\n",
       "    }\n",
       "\n",
       "    .dataframe tbody tr th {\n",
       "        vertical-align: top;\n",
       "    }\n",
       "\n",
       "    .dataframe thead th {\n",
       "        text-align: right;\n",
       "    }\n",
       "</style>\n",
       "<table border=\"1\" class=\"dataframe\">\n",
       "  <thead>\n",
       "    <tr style=\"text-align: right;\">\n",
       "      <th>tenure</th>\n",
       "      <th>Freehold</th>\n",
       "      <th>Leasehold</th>\n",
       "    </tr>\n",
       "    <tr>\n",
       "      <th>class</th>\n",
       "      <th></th>\n",
       "      <th></th>\n",
       "    </tr>\n",
       "  </thead>\n",
       "  <tbody>\n",
       "    <tr>\n",
       "      <th>airspace</th>\n",
       "      <td>7</td>\n",
       "      <td>1664</td>\n",
       "    </tr>\n",
       "    <tr>\n",
       "      <th>business</th>\n",
       "      <td>3061</td>\n",
       "      <td>10858</td>\n",
       "    </tr>\n",
       "    <tr>\n",
       "      <th>carpark</th>\n",
       "      <td>156</td>\n",
       "      <td>1922</td>\n",
       "    </tr>\n",
       "    <tr>\n",
       "      <th>domestic</th>\n",
       "      <td>47954</td>\n",
       "      <td>42457</td>\n",
       "    </tr>\n",
       "    <tr>\n",
       "      <th>land</th>\n",
       "      <td>14659</td>\n",
       "      <td>1842</td>\n",
       "    </tr>\n",
       "    <tr>\n",
       "      <th>unknown</th>\n",
       "      <td>28161</td>\n",
       "      <td>4619</td>\n",
       "    </tr>\n",
       "  </tbody>\n",
       "</table>\n",
       "</div>"
      ],
      "text/plain": [
       "tenure    Freehold  Leasehold\n",
       "class                        \n",
       "airspace         7       1664\n",
       "business      3061      10858\n",
       "carpark        156       1922\n",
       "domestic     47954      42457\n",
       "land         14659       1842\n",
       "unknown      28161       4619"
      ]
     },
     "execution_count": 14,
     "metadata": {},
     "output_type": "execute_result"
    }
   ],
   "source": [
    "pd.crosstab(ocod_data['class'], ocod_data['tenure'])#.to_latex() #convert to copyable latex table"
   ]
  },
  {
   "cell_type": "code",
   "execution_count": 16,
   "id": "1dbfb79f",
   "metadata": {},
   "outputs": [
    {
     "data": {
      "text/html": [
       "<div>\n",
       "<style scoped>\n",
       "    .dataframe tbody tr th:only-of-type {\n",
       "        vertical-align: middle;\n",
       "    }\n",
       "\n",
       "    .dataframe tbody tr th {\n",
       "        vertical-align: top;\n",
       "    }\n",
       "\n",
       "    .dataframe thead th {\n",
       "        text-align: right;\n",
       "    }\n",
       "</style>\n",
       "<table border=\"1\" class=\"dataframe\">\n",
       "  <thead>\n",
       "    <tr style=\"text-align: right;\">\n",
       "      <th>within_larger_title</th>\n",
       "      <th>False</th>\n",
       "      <th>True</th>\n",
       "    </tr>\n",
       "    <tr>\n",
       "      <th>tenure</th>\n",
       "      <th></th>\n",
       "      <th></th>\n",
       "    </tr>\n",
       "  </thead>\n",
       "  <tbody>\n",
       "    <tr>\n",
       "      <th>Freehold</th>\n",
       "      <td>46326</td>\n",
       "      <td>4343</td>\n",
       "    </tr>\n",
       "    <tr>\n",
       "      <th>Leasehold</th>\n",
       "      <td>41203</td>\n",
       "      <td>1633</td>\n",
       "    </tr>\n",
       "  </tbody>\n",
       "</table>\n",
       "</div>"
      ],
      "text/plain": [
       "within_larger_title  False  True\n",
       "tenure                          \n",
       "Freehold             46326  4343\n",
       "Leasehold            41203  1633"
      ]
     },
     "execution_count": 16,
     "metadata": {},
     "output_type": "execute_result"
    }
   ],
   "source": [
    "temp_df = ocod_data[['title_number', 'tenure', 'within_larger_title']].drop_duplicates()\n",
    "\n",
    "#most of titles containing nested addresses are free hold by about 3/2\n",
    "pd.crosstab(temp_df['tenure'], temp_df['within_larger_title'])\n"
   ]
  },
  {
   "cell_type": "code",
   "execution_count": 16,
   "id": "720c2244",
   "metadata": {},
   "outputs": [
    {
     "name": "stderr",
     "output_type": "stream",
     "text": [
      "<ipython-input-16-c3f690fb0170>:3: UserWarning: This pattern is interpreted as a regular expression, and has match groups. To actually get the groups, use str.extract.\n",
      "  temp_df['is_flat'] = temp_df['property_address'].str.contains(r\"(flat|apartment|penthouse|unit)\", case = False)\n"
     ]
    },
    {
     "data": {
      "text/html": [
       "<div>\n",
       "<style scoped>\n",
       "    .dataframe tbody tr th:only-of-type {\n",
       "        vertical-align: middle;\n",
       "    }\n",
       "\n",
       "    .dataframe tbody tr th {\n",
       "        vertical-align: top;\n",
       "    }\n",
       "\n",
       "    .dataframe thead th {\n",
       "        text-align: right;\n",
       "    }\n",
       "</style>\n",
       "<table border=\"1\" class=\"dataframe\">\n",
       "  <thead>\n",
       "    <tr style=\"text-align: right;\">\n",
       "      <th>is_flat</th>\n",
       "      <th>False</th>\n",
       "      <th>True</th>\n",
       "    </tr>\n",
       "    <tr>\n",
       "      <th>tenure</th>\n",
       "      <th></th>\n",
       "      <th></th>\n",
       "    </tr>\n",
       "  </thead>\n",
       "  <tbody>\n",
       "    <tr>\n",
       "      <th>Freehold</th>\n",
       "      <td>40400</td>\n",
       "      <td>6909</td>\n",
       "    </tr>\n",
       "    <tr>\n",
       "      <th>Leasehold</th>\n",
       "      <td>5489</td>\n",
       "      <td>16495</td>\n",
       "    </tr>\n",
       "  </tbody>\n",
       "</table>\n",
       "</div>"
      ],
      "text/plain": [
       "is_flat    False   True\n",
       "tenure                 \n",
       "Freehold   40400   6909\n",
       "Leasehold   5489  16495"
      ]
     },
     "execution_count": 16,
     "metadata": {},
     "output_type": "execute_result"
    }
   ],
   "source": [
    "#The analysis is based on nested addresses being domestic\n",
    "temp_df = ocod_data[['title_number', 'tenure', 'property_address']][ocod_data['within_larger_title']==True]\n",
    "temp_df['is_flat'] = temp_df['property_address'].str.contains(r\"(flat|apartment|penthouse|unit)\", case = False)\n",
    "\n",
    "#pd.crosstab(temp_df['tenure'], temp_df['within_larger_title'])\n",
    "\n",
    "temp_df.groupby('tenure').size()\n",
    "\n",
    "#Of nested addresses freehold is more common by 3/2 50k to 24k\n",
    "#most of theproperties are not flats however flats dominate the leasehold section\n",
    "#flats are 1/3 of nested addresses but make up almost 3/4 of the leashold nested addresses\n",
    "#note this does not include items marked as units\n",
    "pd.crosstab(temp_df.tenure, temp_df.is_flat)"
   ]
  },
  {
   "cell_type": "code",
   "execution_count": 17,
   "id": "1574215f",
   "metadata": {},
   "outputs": [
    {
     "data": {
      "text/html": [
       "<div>\n",
       "<style scoped>\n",
       "    .dataframe tbody tr th:only-of-type {\n",
       "        vertical-align: middle;\n",
       "    }\n",
       "\n",
       "    .dataframe tbody tr th {\n",
       "        vertical-align: top;\n",
       "    }\n",
       "\n",
       "    .dataframe thead th {\n",
       "        text-align: right;\n",
       "    }\n",
       "</style>\n",
       "<table border=\"1\" class=\"dataframe\">\n",
       "  <thead>\n",
       "    <tr style=\"text-align: right;\">\n",
       "      <th>price_paid</th>\n",
       "      <th>False</th>\n",
       "      <th>True</th>\n",
       "    </tr>\n",
       "    <tr>\n",
       "      <th>within_larger_title</th>\n",
       "      <th></th>\n",
       "      <th></th>\n",
       "    </tr>\n",
       "  </thead>\n",
       "  <tbody>\n",
       "    <tr>\n",
       "      <th>False</th>\n",
       "      <td>57236</td>\n",
       "      <td>30831</td>\n",
       "    </tr>\n",
       "    <tr>\n",
       "      <th>True</th>\n",
       "      <td>57817</td>\n",
       "      <td>11476</td>\n",
       "    </tr>\n",
       "  </tbody>\n",
       "</table>\n",
       "</div>"
      ],
      "text/plain": [
       "price_paid           False   True\n",
       "within_larger_title              \n",
       "False                57236  30831\n",
       "True                 57817  11476"
      ]
     },
     "execution_count": 17,
     "metadata": {},
     "output_type": "execute_result"
    }
   ],
   "source": [
    "ocod_data[ocod_data.price_paid.notnull()==True].to_csv(\"/tf/empty_homes_data/ocod_price_paid.csv\")\n",
    "pd.crosstab(ocod_data.within_larger_title, ocod_data.price_paid.notnull())"
   ]
  },
  {
   "cell_type": "code",
   "execution_count": 11,
   "id": "01b01126",
   "metadata": {},
   "outputs": [
    {
     "data": {
      "text/html": [
       "<div>\n",
       "<style scoped>\n",
       "    .dataframe tbody tr th:only-of-type {\n",
       "        vertical-align: middle;\n",
       "    }\n",
       "\n",
       "    .dataframe tbody tr th {\n",
       "        vertical-align: top;\n",
       "    }\n",
       "\n",
       "    .dataframe thead th {\n",
       "        text-align: right;\n",
       "    }\n",
       "</style>\n",
       "<table border=\"1\" class=\"dataframe\">\n",
       "  <thead>\n",
       "    <tr style=\"text-align: right;\">\n",
       "      <th>within_larger_title</th>\n",
       "      <th>False</th>\n",
       "      <th>True</th>\n",
       "    </tr>\n",
       "    <tr>\n",
       "      <th>postcode</th>\n",
       "      <th></th>\n",
       "      <th></th>\n",
       "    </tr>\n",
       "  </thead>\n",
       "  <tbody>\n",
       "    <tr>\n",
       "      <th>False</th>\n",
       "      <td>19758</td>\n",
       "      <td>36771</td>\n",
       "    </tr>\n",
       "    <tr>\n",
       "      <th>True</th>\n",
       "      <td>68309</td>\n",
       "      <td>32522</td>\n",
       "    </tr>\n",
       "  </tbody>\n",
       "</table>\n",
       "</div>"
      ],
      "text/plain": [
       "within_larger_title  False   True\n",
       "postcode                         \n",
       "False                19758  36771\n",
       "True                 68309  32522"
      ]
     },
     "execution_count": 11,
     "metadata": {},
     "output_type": "execute_result"
    }
   ],
   "source": [
    "#This is interesting as it shows that only about 15% of normal titles are missing a postcode whilst half of within larger title addresses are missing a postcode.\n",
    "#This is probably because they cover multiple postcodes\n",
    "pd.crosstab(ocod_data.postcode.notnull(), ocod_data.within_larger_title)"
   ]
  },
  {
   "cell_type": "code",
   "execution_count": 38,
   "id": "2934614f",
   "metadata": {},
   "outputs": [
    {
     "data": {
      "text/plain": [
       "0.640386370925958"
      ]
     },
     "execution_count": 38,
     "metadata": {},
     "output_type": "execute_result"
    }
   ],
   "source": [
    "#64% of the propertys have postcodes/lsoa.\n",
    "#I need to match the remaining to get an accurate distribution of the properties\n",
    "\n",
    "ocod_data.postcode.notnull().sum()/ocod_data.shape[0]"
   ]
  },
  {
   "cell_type": "markdown",
   "id": "468fb9c6",
   "metadata": {},
   "source": [
    "## Road matching"
   ]
  },
  {
   "cell_type": "markdown",
   "id": "397cedf2",
   "metadata": {},
   "source": [
    "## Exploring road matching\n",
    "\n",
    "Before matching the names I should edit the street names to remove all ' apostraphes as these are very unreliable, I should also remove spaces between 'gate' and whatever comes before it same with 'way'\n",
    "It may also be an idea to remove 's' that appears at the end of a word but we can try this again later"
   ]
  },
  {
   "cell_type": "code",
   "execution_count": 145,
   "id": "be63aa0b",
   "metadata": {},
   "outputs": [],
   "source": [
    "#target_lad = 'E09000019'\n",
    "#test= fuzzy_street_match(ocod_data, voa_businesses, target_lad)\n"
   ]
  },
  {
   "cell_type": "code",
   "execution_count": 91,
   "id": "84e28a02",
   "metadata": {},
   "outputs": [
    {
     "data": {
      "text/plain": [
       "Index(['Unnamed: 0', 'title_number', 'within_title_id', 'unique_id',\n",
       "       'within_larger_title', 'tenure', 'unit_id', 'unit_type',\n",
       "       'building_name', 'street_number', 'street_name', 'postcode', 'city',\n",
       "       'district', 'county', 'region', 'multiple_address_indicator',\n",
       "       'price_paid', 'property_address', 'postcode2', 'lsoa11', 'msoa11',\n",
       "       'lad11cd', 'business_counts', 'street_name2', 'match'],\n",
       "      dtype='object')"
      ]
     },
     "execution_count": 91,
     "metadata": {},
     "output_type": "execute_result"
    }
   ],
   "source": [
    "target_lad = 'E09000019'\n",
    "test= massaged_street_match(ocod_data, voa_businesses, target_lad)\n",
    "\n",
    "test.columns#[test['street_name2']].groupby('match').size()"
   ]
  },
  {
   "cell_type": "code",
   "execution_count": 54,
   "id": "ce9a8db5",
   "metadata": {},
   "outputs": [],
   "source": [
    "#all_lads = ocod_data.lad11cd.unique()\n",
    "\n",
    "#all_lads = [x for x in all_lads if str(x) != 'nan']\n",
    "##see which roads match a road in voa data set for each local authority\n",
    "#ocod_road_match= [fuzzy_street_match(ocod_data, voa_businesses, target_lad) for target_lad in all_lads]\n",
    "#ocod_road_match = pd.concat(ocod_road_match)"
   ]
  },
  {
   "cell_type": "code",
   "execution_count": 87,
   "id": "746ef028",
   "metadata": {},
   "outputs": [],
   "source": [
    "all_lads = ocod_data.lad11cd.unique()\n",
    "\n",
    "all_lads = [x for x in all_lads if str(x) != 'nan']\n",
    "#see which roads match a road in voa data set for each local authority\n",
    "ocod_road_match= [massaged_street_match(ocod_data, voa_businesses, target_lad) for target_lad in all_lads]\n",
    "ocod_road_match = pd.concat(ocod_road_match)"
   ]
  },
  {
   "cell_type": "code",
   "execution_count": 89,
   "id": "3db02091",
   "metadata": {},
   "outputs": [
    {
     "data": {
      "text/plain": [
       "match\n",
       "False    73922\n",
       "True     87979\n",
       "dtype: int64"
      ]
     },
     "execution_count": 89,
     "metadata": {},
     "output_type": "execute_result"
    }
   ],
   "source": [
    "ocod_road_match.groupby('match').size()"
   ]
  },
  {
   "cell_type": "code",
   "execution_count": 142,
   "id": "ea1b03c9",
   "metadata": {},
   "outputs": [
    {
     "data": {
      "text/html": [
       "<div>\n",
       "<style scoped>\n",
       "    .dataframe tbody tr th:only-of-type {\n",
       "        vertical-align: middle;\n",
       "    }\n",
       "\n",
       "    .dataframe tbody tr th {\n",
       "        vertical-align: top;\n",
       "    }\n",
       "\n",
       "    .dataframe thead th {\n",
       "        text-align: right;\n",
       "    }\n",
       "</style>\n",
       "<table border=\"1\" class=\"dataframe\">\n",
       "  <thead>\n",
       "    <tr style=\"text-align: right;\">\n",
       "      <th>class</th>\n",
       "      <th>airspace</th>\n",
       "      <th>business</th>\n",
       "      <th>carpark</th>\n",
       "      <th>domestic</th>\n",
       "      <th>land</th>\n",
       "      <th>unknown</th>\n",
       "    </tr>\n",
       "    <tr>\n",
       "      <th>match</th>\n",
       "      <th></th>\n",
       "      <th></th>\n",
       "      <th></th>\n",
       "      <th></th>\n",
       "      <th></th>\n",
       "      <th></th>\n",
       "    </tr>\n",
       "  </thead>\n",
       "  <tbody>\n",
       "    <tr>\n",
       "      <th>False</th>\n",
       "      <td>953</td>\n",
       "      <td>498</td>\n",
       "      <td>472</td>\n",
       "      <td>23764</td>\n",
       "      <td>9215</td>\n",
       "      <td>12796</td>\n",
       "    </tr>\n",
       "    <tr>\n",
       "      <th>True</th>\n",
       "      <td>455</td>\n",
       "      <td>3781</td>\n",
       "      <td>1275</td>\n",
       "      <td>65143</td>\n",
       "      <td>4143</td>\n",
       "      <td>14375</td>\n",
       "    </tr>\n",
       "  </tbody>\n",
       "</table>\n",
       "</div>"
      ],
      "text/plain": [
       "class  airspace  business  carpark  domestic  land  unknown\n",
       "match                                                      \n",
       "False       953       498      472     23764  9215    12796\n",
       "True        455      3781     1275     65143  4143    14375"
      ]
     },
     "execution_count": 142,
     "metadata": {},
     "output_type": "execute_result"
    }
   ],
   "source": [
    "test = ocod_road_match2[ocod_road_match2['street_name'] != 'xxxstreet name missingxxx']\n",
    "pd.crosstab(test['match'], test['class'])"
   ]
  },
  {
   "cell_type": "code",
   "execution_count": 146,
   "id": "912e7f1a",
   "metadata": {},
   "outputs": [
    {
     "data": {
      "text/plain": [
       "0.11638233232063566"
      ]
     },
     "execution_count": 146,
     "metadata": {},
     "output_type": "execute_result"
    }
   ],
   "source": [
    "498/(498+3781)"
   ]
  },
  {
   "cell_type": "code",
   "execution_count": 143,
   "id": "7c925b75",
   "metadata": {},
   "outputs": [],
   "source": [
    "\n",
    "ocod_road_match2[(ocod_road_match2['match']==False) & (ocod_road_match2['class'] == \"business\")& (ocod_road_match2['street_name'] != 'xxxstreet name missingxxx')].to_csv(\"/tf/empty_homes_data/fuzzy_roads.csv\")"
   ]
  },
  {
   "cell_type": "code",
   "execution_count": 136,
   "id": "f167139f",
   "metadata": {},
   "outputs": [],
   "source": [
    "\n",
    "ocod_road_match[(ocod_road_match['similarity']<93) & (ocod_road_match['class'] == \"business\") & (ocod_road_match['street_name'] != 'xxxstreet name missingxxx')].to_csv(\"/tf/empty_homes_data/fuzzy_roads.csv\")"
   ]
  },
  {
   "cell_type": "code",
   "execution_count": 68,
   "id": "badaab0b",
   "metadata": {},
   "outputs": [
    {
     "data": {
      "text/html": [
       "<div>\n",
       "<style scoped>\n",
       "    .dataframe tbody tr th:only-of-type {\n",
       "        vertical-align: middle;\n",
       "    }\n",
       "\n",
       "    .dataframe tbody tr th {\n",
       "        vertical-align: top;\n",
       "    }\n",
       "\n",
       "    .dataframe thead th {\n",
       "        text-align: right;\n",
       "    }\n",
       "</style>\n",
       "<table border=\"1\" class=\"dataframe\">\n",
       "  <thead>\n",
       "    <tr style=\"text-align: right;\">\n",
       "      <th></th>\n",
       "      <th>street_name</th>\n",
       "      <th>street_name2</th>\n",
       "      <th>matched_road_name</th>\n",
       "    </tr>\n",
       "  </thead>\n",
       "  <tbody>\n",
       "    <tr>\n",
       "      <th>304</th>\n",
       "      <td>land on the north east side of land's end road</td>\n",
       "      <td>land on the north east side of land end road</td>\n",
       "      <td>land end road</td>\n",
       "    </tr>\n",
       "    <tr>\n",
       "      <th>484</th>\n",
       "      <td>queen mary's road</td>\n",
       "      <td>queen mary road</td>\n",
       "      <td>queen mary road</td>\n",
       "    </tr>\n",
       "    <tr>\n",
       "      <th>1203</th>\n",
       "      <td>d'eynsford road</td>\n",
       "      <td>deynsford road</td>\n",
       "      <td>deynsford road</td>\n",
       "    </tr>\n",
       "    <tr>\n",
       "      <th>1206</th>\n",
       "      <td>land on the west side of page's walk and on th...</td>\n",
       "      <td>land on the west side of page walk and on the ...</td>\n",
       "      <td>page walk</td>\n",
       "    </tr>\n",
       "    <tr>\n",
       "      <th>1689</th>\n",
       "      <td>price's street</td>\n",
       "      <td>price street</td>\n",
       "      <td>princes street</td>\n",
       "    </tr>\n",
       "    <tr>\n",
       "      <th>...</th>\n",
       "      <td>...</td>\n",
       "      <td>...</td>\n",
       "      <td>...</td>\n",
       "    </tr>\n",
       "    <tr>\n",
       "      <th>23</th>\n",
       "      <td>east and south of duke's road</td>\n",
       "      <td>east and south of duke road</td>\n",
       "      <td>duke road</td>\n",
       "    </tr>\n",
       "    <tr>\n",
       "      <th>93</th>\n",
       "      <td>land on the east side of parker's farm road</td>\n",
       "      <td>land on the east side of parker farm road</td>\n",
       "      <td>parker farm road</td>\n",
       "    </tr>\n",
       "    <tr>\n",
       "      <th>37</th>\n",
       "      <td>o'gorman avenue</td>\n",
       "      <td>ogorman avenue</td>\n",
       "      <td>ogorman avenue</td>\n",
       "    </tr>\n",
       "    <tr>\n",
       "      <th>65</th>\n",
       "      <td>land on the east side of lug's lane</td>\n",
       "      <td>land on the east side of lug lane</td>\n",
       "      <td>lug lane</td>\n",
       "    </tr>\n",
       "    <tr>\n",
       "      <th>68</th>\n",
       "      <td>land on the west side of lug's lane</td>\n",
       "      <td>land on the west side of lug lane</td>\n",
       "      <td>lug lane</td>\n",
       "    </tr>\n",
       "  </tbody>\n",
       "</table>\n",
       "<p>1043 rows × 3 columns</p>\n",
       "</div>"
      ],
      "text/plain": [
       "                                            street_name  \\\n",
       "304      land on the north east side of land's end road   \n",
       "484                                   queen mary's road   \n",
       "1203                                    d'eynsford road   \n",
       "1206  land on the west side of page's walk and on th...   \n",
       "1689                                     price's street   \n",
       "...                                                 ...   \n",
       "23                        east and south of duke's road   \n",
       "93          land on the east side of parker's farm road   \n",
       "37                                      o'gorman avenue   \n",
       "65                  land on the east side of lug's lane   \n",
       "68                  land on the west side of lug's lane   \n",
       "\n",
       "                                           street_name2 matched_road_name  \n",
       "304        land on the north east side of land end road     land end road  \n",
       "484                                     queen mary road   queen mary road  \n",
       "1203                                     deynsford road    deynsford road  \n",
       "1206  land on the west side of page walk and on the ...         page walk  \n",
       "1689                                       price street    princes street  \n",
       "...                                                 ...               ...  \n",
       "23                          east and south of duke road         duke road  \n",
       "93            land on the east side of parker farm road  parker farm road  \n",
       "37                                       ogorman avenue    ogorman avenue  \n",
       "65                    land on the east side of lug lane          lug lane  \n",
       "68                    land on the west side of lug lane          lug lane  \n",
       "\n",
       "[1043 rows x 3 columns]"
      ]
     },
     "execution_count": 68,
     "metadata": {},
     "output_type": "execute_result"
    }
   ],
   "source": [
    "ocod_road_match[ocod_road_match['street_name'].str.contains(r\"'\")][['street_name', 'street_name2', 'matched_road_name' ]]"
   ]
  },
  {
   "cell_type": "code",
   "execution_count": 76,
   "id": "0cbed506",
   "metadata": {},
   "outputs": [
    {
     "data": {
      "text/html": [
       "<div>\n",
       "<style scoped>\n",
       "    .dataframe tbody tr th:only-of-type {\n",
       "        vertical-align: middle;\n",
       "    }\n",
       "\n",
       "    .dataframe tbody tr th {\n",
       "        vertical-align: top;\n",
       "    }\n",
       "\n",
       "    .dataframe thead th {\n",
       "        text-align: right;\n",
       "    }\n",
       "</style>\n",
       "<table border=\"1\" class=\"dataframe\">\n",
       "  <thead>\n",
       "    <tr style=\"text-align: right;\">\n",
       "      <th></th>\n",
       "      <th>property_address</th>\n",
       "      <th>street_name2</th>\n",
       "      <th>matched_road_name</th>\n",
       "    </tr>\n",
       "  </thead>\n",
       "  <tbody>\n",
       "    <tr>\n",
       "      <th>3662</th>\n",
       "      <td>127a Lowedges Road, Sheffield (S8 7LE)</td>\n",
       "      <td>lowedge road</td>\n",
       "      <td>low edge road</td>\n",
       "    </tr>\n",
       "    <tr>\n",
       "      <th>2064</th>\n",
       "      <td>Flat 12, 20 St James's Road, London (SE16 4QJ)</td>\n",
       "      <td>st james road</td>\n",
       "      <td>st jame road</td>\n",
       "    </tr>\n",
       "    <tr>\n",
       "      <th>2065</th>\n",
       "      <td>Flat 33, 30 St James's Road, London (SE16 4QJ)</td>\n",
       "      <td>st james road</td>\n",
       "      <td>st jame road</td>\n",
       "    </tr>\n",
       "    <tr>\n",
       "      <th>2066</th>\n",
       "      <td>Flat 42, 30 St James's Road, London (SE16 4QJ)</td>\n",
       "      <td>st james road</td>\n",
       "      <td>st jame road</td>\n",
       "    </tr>\n",
       "    <tr>\n",
       "      <th>2067</th>\n",
       "      <td>Flat 2, 20 St James's Road, London (SE16 4QJ)</td>\n",
       "      <td>st james road</td>\n",
       "      <td>st jame road</td>\n",
       "    </tr>\n",
       "    <tr>\n",
       "      <th>...</th>\n",
       "      <td>...</td>\n",
       "      <td>...</td>\n",
       "      <td>...</td>\n",
       "    </tr>\n",
       "    <tr>\n",
       "      <th>467</th>\n",
       "      <td>Travelodge, Four Went Ways, Abington, Cambridg...</td>\n",
       "      <td>four wentway</td>\n",
       "      <td>four wentways</td>\n",
       "    </tr>\n",
       "    <tr>\n",
       "      <th>91</th>\n",
       "      <td>Land on the south side of Myrtle Lodge, Milfor...</td>\n",
       "      <td>milford road</td>\n",
       "      <td>millford road</td>\n",
       "    </tr>\n",
       "    <tr>\n",
       "      <th>48</th>\n",
       "      <td>Airspace above 35 Neville Road, Peacehaven (BN...</td>\n",
       "      <td>neville road</td>\n",
       "      <td>nevill road</td>\n",
       "    </tr>\n",
       "    <tr>\n",
       "      <th>67</th>\n",
       "      <td>Units A, B, C, D, E, F, G, H, J, K, L and M, S...</td>\n",
       "      <td>old end lane</td>\n",
       "      <td>oldend lane</td>\n",
       "    </tr>\n",
       "    <tr>\n",
       "      <th>85</th>\n",
       "      <td>The White House Hotel &amp; Restaurant, Marquiss D...</td>\n",
       "      <td>marquis drive</td>\n",
       "      <td>marqui drive</td>\n",
       "    </tr>\n",
       "  </tbody>\n",
       "</table>\n",
       "<p>176 rows × 3 columns</p>\n",
       "</div>"
      ],
      "text/plain": [
       "                                       property_address   street_name2  \\\n",
       "3662             127a Lowedges Road, Sheffield (S8 7LE)   lowedge road   \n",
       "2064     Flat 12, 20 St James's Road, London (SE16 4QJ)  st james road   \n",
       "2065     Flat 33, 30 St James's Road, London (SE16 4QJ)  st james road   \n",
       "2066     Flat 42, 30 St James's Road, London (SE16 4QJ)  st james road   \n",
       "2067      Flat 2, 20 St James's Road, London (SE16 4QJ)  st james road   \n",
       "...                                                 ...            ...   \n",
       "467   Travelodge, Four Went Ways, Abington, Cambridg...   four wentway   \n",
       "91    Land on the south side of Myrtle Lodge, Milfor...   milford road   \n",
       "48    Airspace above 35 Neville Road, Peacehaven (BN...   neville road   \n",
       "67    Units A, B, C, D, E, F, G, H, J, K, L and M, S...   old end lane   \n",
       "85    The White House Hotel & Restaurant, Marquiss D...  marquis drive   \n",
       "\n",
       "     matched_road_name  \n",
       "3662     low edge road  \n",
       "2064      st jame road  \n",
       "2065      st jame road  \n",
       "2066      st jame road  \n",
       "2067      st jame road  \n",
       "...                ...  \n",
       "467      four wentways  \n",
       "91       millford road  \n",
       "48         nevill road  \n",
       "67         oldend lane  \n",
       "85        marqui drive  \n",
       "\n",
       "[176 rows x 3 columns]"
      ]
     },
     "execution_count": 76,
     "metadata": {},
     "output_type": "execute_result"
    }
   ],
   "source": [
    "#values greater than or equal to 94 seem to be pretty good\n",
    "\n",
    "#ocod_road_match[ocod_road_match['similarity']==96][['property_address', 'street_name2', 'matched_road_name']]"
   ]
  },
  {
   "cell_type": "markdown",
   "id": "0eaa195d",
   "metadata": {},
   "source": [
    "### creating the aggregated ocod dataset for sampling"
   ]
  },
  {
   "cell_type": "code",
   "execution_count": 14,
   "id": "66ba5cb7",
   "metadata": {},
   "outputs": [
    {
     "name": "stderr",
     "output_type": "stream",
     "text": [
      "<ipython-input-14-ee466646cd5d>:2: FutureWarning: The default value of regex will change from True to False in a future version.\n",
      "  ocod_data_lsoa['postcode2'] = ocod_data['postcode'].str.lower().str.replace(\"\\s\", \"\")\n"
     ]
    }
   ],
   "source": [
    "ocod_data_lsoa = ocod_data\n",
    "ocod_data_lsoa['postcode2'] = ocod_data['postcode'].str.lower().str.replace(\"\\s\", \"\")\n",
    "\n",
    "ocod_data_lsoa = ocod_data.merge(postcode_district_lookup, 'left', left_on = \"postcode2\", right_on = \"postcode2\")\n",
    "\n",
    "ocod_data_lsoa.groupby(['lad11cd', 'lsoa11', 'msoa11', 'class']).size().reset_index().to_csv(\"/tf/empty_homes_data/ocod_lsoa.csv\")\n",
    "ocod_data_lsoa.groupby(['lad11cd', 'lsoa11', 'msoa11', 'class', 'within_larger_title']).size().reset_index().to_csv(\"/tf/empty_homes_data/ocod_lsoa_by_nested_type.csv\")"
   ]
  },
  {
   "cell_type": "code",
   "execution_count": 26,
   "id": "550b9093",
   "metadata": {},
   "outputs": [
    {
     "name": "stderr",
     "output_type": "stream",
     "text": [
      "<ipython-input-26-cfae2ca89cd1>:1: FutureWarning: The default value of regex will change from True to False in a future version.\n",
      "  voa_businesses['postcode2'] = voa_businesses['postcode'].str.lower().str.replace(\"\\s\", \"\")\n"
     ]
    }
   ],
   "source": [
    "\n",
    "voa_businesses['postcode2'] = voa_businesses['postcode'].str.lower().str.replace(\"\\s\", \"\")\n",
    "\n",
    "voa_businesses = voa_businesses.merge(postcode_district_lookup, 'left', left_on = \"postcode2\", right_on = \"postcode2\")\n",
    "#postcode_district_lookup\n"
   ]
  },
  {
   "cell_type": "code",
   "execution_count": 27,
   "id": "f3fe00ff",
   "metadata": {},
   "outputs": [
    {
     "data": {
      "text/plain": [
       "Index(['incrementing_entry_number', 'billing_authority_code',\n",
       "       'ndr_community_code', 'ba_reference_number',\n",
       "       'primary_and_secondary_description_code', 'primary_description_text',\n",
       "       'unique_address_reference_number_uarn', 'full_property_identifier',\n",
       "       'firms_name', 'number_or_name', 'street', 'town', 'postal_district',\n",
       "       'county', 'postcode', 'effective_date', 'composite_indicator',\n",
       "       'rateable_value', 'appeal_settlement_code', 'assessment_reference',\n",
       "       'list_alteration_date', 'scat_code_and_suffix', 'sub_street_level_3',\n",
       "       'sub_street_level_2', 'sub_street_level_1', 'case_number',\n",
       "       'current_from_date', 'current_to_date', 'postcode2', 'lad11cd',\n",
       "       'lad11nm'],\n",
       "      dtype='object')"
      ]
     },
     "execution_count": 27,
     "metadata": {},
     "output_type": "execute_result"
    }
   ],
   "source": [
    "voa_businesses.columns"
   ]
  },
  {
   "cell_type": "code",
   "execution_count": 100,
   "id": "7623a600",
   "metadata": {},
   "outputs": [],
   "source": [
    "ocod_district = ocod_data[(ocod_data['district'].str.lower() == 'tower hamlets') & (ocod_data['class'] == \"unknown\") & ocod_data.street_name.notnull() ]\n",
    "\n",
    "ocod_district = ocod_district[['title_number', 'unit_id', 'building_name','street_number', 'street_name', 'property_address' ]]\n",
    "voa_district = voa_businesses[voa_businesses['lad11nm'].str.lower() =='tower hamlets']\n",
    "\n"
   ]
  },
  {
   "cell_type": "code",
   "execution_count": 99,
   "id": "4f4f745e",
   "metadata": {},
   "outputs": [],
   "source": [
    "ocod_data.groupby('district').size().to_csv('/tf/empty_homes_data/ocod_districts.csv')"
   ]
  },
  {
   "cell_type": "code",
   "execution_count": 101,
   "id": "588b6707",
   "metadata": {},
   "outputs": [],
   "source": [
    "ocod_district[~ocod_district.street_name.str.strip().isin(voa_district.street.str.lower().unique())].to_csv(\"/tf/empty_homes_data/delete_me.csv\")"
   ]
  },
  {
   "cell_type": "code",
   "execution_count": 85,
   "id": "1ddadda7",
   "metadata": {},
   "outputs": [
    {
     "data": {
      "text/html": [
       "<div>\n",
       "<style scoped>\n",
       "    .dataframe tbody tr th:only-of-type {\n",
       "        vertical-align: middle;\n",
       "    }\n",
       "\n",
       "    .dataframe tbody tr th {\n",
       "        vertical-align: top;\n",
       "    }\n",
       "\n",
       "    .dataframe thead th {\n",
       "        text-align: right;\n",
       "    }\n",
       "</style>\n",
       "<table border=\"1\" class=\"dataframe\">\n",
       "  <thead>\n",
       "    <tr style=\"text-align: right;\">\n",
       "      <th>postcode</th>\n",
       "      <th>False</th>\n",
       "      <th>True</th>\n",
       "    </tr>\n",
       "    <tr>\n",
       "      <th>postcode</th>\n",
       "      <th></th>\n",
       "      <th></th>\n",
       "    </tr>\n",
       "  </thead>\n",
       "  <tbody>\n",
       "    <tr>\n",
       "      <th>False</th>\n",
       "      <td>2552185</td>\n",
       "      <td>0</td>\n",
       "    </tr>\n",
       "    <tr>\n",
       "      <th>True</th>\n",
       "      <td>0</td>\n",
       "      <td>1414</td>\n",
       "    </tr>\n",
       "  </tbody>\n",
       "</table>\n",
       "</div>"
      ],
      "text/plain": [
       "postcode    False  True\n",
       "postcode               \n",
       "False     2552185     0\n",
       "True            0  1414"
      ]
     },
     "execution_count": 85,
     "metadata": {},
     "output_type": "execute_result"
    }
   ],
   "source": [
    "pd.crosstab(voa_businesses.postcode.isnull(),voa_businesses.postcode.isnull())"
   ]
  },
  {
   "cell_type": "markdown",
   "id": "2bb4c35d",
   "metadata": {},
   "source": [
    "## Largest nested addresses"
   ]
  },
  {
   "cell_type": "code",
   "execution_count": null,
   "id": "2f0d64e7",
   "metadata": {},
   "outputs": [],
   "source": [
    "#The largest nested address\n",
    "ocod_data.within_title_id.max()"
   ]
  },
  {
   "cell_type": "code",
   "execution_count": null,
   "id": "42c32471",
   "metadata": {},
   "outputs": [],
   "source": [
    "ocod_data[ocod_data.within_title_id==ocod_data.within_title_id.max()].reset_index()['property_address'][0]\n",
    "\n"
   ]
  },
  {
   "cell_type": "code",
   "execution_count": 102,
   "id": "16b357ac",
   "metadata": {},
   "outputs": [],
   "source": [
    "ocod_data.to_csv(\"/tf/empty_homes_data/OCOD_classes.csv\")"
   ]
  },
  {
   "cell_type": "code",
   "execution_count": null,
   "id": "735c172e",
   "metadata": {},
   "outputs": [],
   "source": [
    "test  = ocod_data[ocod_data['class']==\"unknown\" ]\n",
    "\n",
    "pd.crosstab(test.postcode.notnull(), test.street_name.notnull())"
   ]
  },
  {
   "cell_type": "code",
   "execution_count": null,
   "id": "62b111bf",
   "metadata": {},
   "outputs": [],
   "source": [
    "ocod_data[ ocod_data.street_name.isnull()].to_csv(\"/tf/empty_homes_data/OCOD_no_street.csv\")"
   ]
  },
  {
   "cell_type": "code",
   "execution_count": null,
   "id": "5b7a2c7d",
   "metadata": {},
   "outputs": [],
   "source": [
    "1/21"
   ]
  }
 ],
 "metadata": {
  "kernelspec": {
   "display_name": "Python 3",
   "language": "python",
   "name": "python3"
  },
  "language_info": {
   "codemirror_mode": {
    "name": "ipython",
    "version": 3
   },
   "file_extension": ".py",
   "mimetype": "text/x-python",
   "name": "python",
   "nbconvert_exporter": "python",
   "pygments_lexer": "ipython3",
   "version": "3.8.10"
  }
 },
 "nbformat": 4,
 "nbformat_minor": 5
}
